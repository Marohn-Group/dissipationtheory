{
 "cells": [
  {
   "cell_type": "raw",
   "id": "89c19b44-bbd8-4306-b733-abe9fd4aff97",
   "metadata": {},
   "source": [
    "---\n",
    "title: Test and profile `dissipation9` code\n",
    "author: \"John A. Marohn\"\n",
    "date: today\n",
    "abstract: Test and profile the code in the three `dissipationtheory9x.py` files.\n",
    "toc: true\n",
    "number-sections: true\n",
    "highlight-style: pygments\n",
    "embed-resources: true\n",
    "dpi: 300\n",
    "format:\n",
    "    html:\n",
    "        html-math-method:\n",
    "          method: mathjax\n",
    "          url: \"https://cdn.jsdelivr.net/npm/mathjax@3/es5/tex-mml-chtml.js\"\n",
    "        code-fold: true\n",
    "        code-tools: true\n",
    "jupyter: python3\n",
    "---"
   ]
  },
  {
   "cell_type": "markdown",
   "id": "6b50a6a6-f188-42dd-b3e3-12c8ddfc8977",
   "metadata": {},
   "source": [
    "# Preliminaries"
   ]
  },
  {
   "cell_type": "code",
   "execution_count": 1,
   "id": "9fdef111-410b-4790-a075-02a322cd9728",
   "metadata": {},
   "outputs": [],
   "source": [
    "import numpy as np\n",
    "import matplotlib.pylab as plt\n",
    "import pandas as pd\n",
    "from scipy import integrate\n",
    "import cProfile"
   ]
  },
  {
   "cell_type": "code",
   "execution_count": 2,
   "id": "ef1f3743-02ec-4d03-8ee4-fdbae892b391",
   "metadata": {},
   "outputs": [],
   "source": [
    "THIS = 'dissipation-theory--Study-51--'\n",
    "figs = {}\n",
    "obj = {}\n",
    "df = {}"
   ]
  },
  {
   "cell_type": "code",
   "execution_count": 3,
   "id": "fdefa5c4-876d-4252-ba49-4bfdca293be6",
   "metadata": {},
   "outputs": [],
   "source": [
    "from dissipationtheory.constants import ureg, epsilon0, qe\n",
    "from dissipationtheory.dissipation9a import CantileverModel, SampleModel1, SampleModel2, SampleModel3, SampleModel4\n",
    "from dissipationtheory.dissipation9a import integrand1, integrand2, integrand3, isMetal, K, Kunits, Kmetal, Kmetalunits\n",
    "from dissipationtheory.dissipation9b import CantileverModelJit, SampleModel1Jit, SampleModel2Jit, SampleModel3Jit"
   ]
  },
  {
   "cell_type": "markdown",
   "id": "73f177b5-0f90-4b13-975f-8c746c53bb53",
   "metadata": {},
   "source": [
    "# Cantilever"
   ]
  },
  {
   "cell_type": "code",
   "execution_count": 4,
   "id": "2cf31c57-cab9-4030-96b9-a278d53ecff3",
   "metadata": {},
   "outputs": [],
   "source": [
    "cantilever = CantileverModel(\n",
    "    f_c = ureg.Quantity(62, 'kHz'),\n",
    "    k_c = ureg.Quantity(2.8, 'N/m'), \n",
    "    V_ts = ureg.Quantity(1, 'V'), \n",
    "    R = ureg.Quantity(55, 'nm'),\n",
    "    angle = ureg.Quantity(20, 'degree'),\n",
    "    L = ureg.Quantity(1000, 'nm')\n",
    ")"
   ]
  },
  {
   "cell_type": "code",
   "execution_count": 5,
   "id": "2e821135-a727-456e-ad29-48da545ae12f",
   "metadata": {},
   "outputs": [
    {
     "data": {
      "text/plain": [
       "cantilever\n",
       "\n",
       "         resonance freq = 62.000 kHz\n",
       "                        = 3.896e+05 rad/s\n",
       "        spring constant = 2.800 N/m\n",
       "     tip-sample voltage = 1.000 V\n",
       "                 radius = 55.000 nm\n",
       "        cone half angle = 20.000 degree\n",
       "            cone length = 1000.000 nm"
      ]
     },
     "execution_count": 5,
     "metadata": {},
     "output_type": "execute_result"
    }
   ],
   "source": [
    "cantilever"
   ]
  },
  {
   "cell_type": "code",
   "execution_count": 6,
   "id": "88ddb1fb-c3f1-4217-b77a-2081bd4be847",
   "metadata": {},
   "outputs": [
    {
     "data": {
      "text/plain": [
       "{'f_c': 62000.0,\n",
       " 'k_c': 2.8,\n",
       " 'V_ts': 1,\n",
       " 'R': 5.5e-08,\n",
       " 'angle': 20,\n",
       " 'L': 1.0000000000000002e-06}"
      ]
     },
     "execution_count": 6,
     "metadata": {},
     "output_type": "execute_result"
    }
   ],
   "source": [
    "cantilever.args()"
   ]
  },
  {
   "cell_type": "code",
   "execution_count": 7,
   "id": "d759ed49-0d5b-4184-aee3-4eda7e8d323f",
   "metadata": {},
   "outputs": [],
   "source": [
    "cantilever_jit = CantileverModelJit(**cantilever.args())"
   ]
  },
  {
   "cell_type": "code",
   "execution_count": 8,
   "id": "05ddf392-ec1f-42b7-8877-41724a2d272e",
   "metadata": {},
   "outputs": [
    {
     "name": "stdout",
     "output_type": "stream",
     "text": [
      "        cantilever freq =  62000.0 Hz\n",
      "                        =  389557.48904513434 rad/s\n",
      "        spring constant =  2.8 N/m\n",
      "     tip-sample voltage =  1.0 V\n",
      "                 radius =  5.5e-08 m\n",
      "        cone half angle =  20.0 degree\n",
      "            cone length =  1.0000000000000002e-06 m\n"
     ]
    }
   ],
   "source": [
    "cantilever_jit.print()"
   ]
  },
  {
   "cell_type": "markdown",
   "id": "75116cd4-1431-42b8-9c5c-4814ce8d98cb",
   "metadata": {},
   "source": [
    "# Common reference points"
   ]
  },
  {
   "cell_type": "code",
   "execution_count": 9,
   "id": "ef5bcb94-a2a4-4d6f-86c1-f101e228df7e",
   "metadata": {},
   "outputs": [],
   "source": [
    "omega = ureg.Quantity(1e5, 'Hz')\n",
    "loc1 = ureg.Quantity(np.array([ 10, 20, 50]), 'nm')\n",
    "loc2 = ureg.Quantity(np.array([ 0,   0, 50]), 'nm')"
   ]
  },
  {
   "cell_type": "markdown",
   "id": "179a8865-9326-4b43-ab1e-a3823a3b2261",
   "metadata": {},
   "source": [
    "# Type I sample"
   ]
  },
  {
   "cell_type": "code",
   "execution_count": 10,
   "id": "f59c360f-32d6-4d78-801a-0c6a8ea19f22",
   "metadata": {},
   "outputs": [],
   "source": [
    "sample1 = SampleModel1(\n",
    "    cantilever = cantilever,\n",
    "    h_s = ureg.Quantity(100, 'nm'),\n",
    "    epsilon_s = ureg.Quantity(complex(20, 0), ''),\n",
    "    sigma = ureg.Quantity(1e-7, 'S/m'),\n",
    "    rho = ureg.Quantity(1e21, '1/m^3'),\n",
    "    epsilon_d = ureg.Quantity(complex(1e6, 0), ''),\n",
    "    z_r = ureg.Quantity(100, 'nm')\n",
    ")"
   ]
  },
  {
   "cell_type": "code",
   "execution_count": 11,
   "id": "5ca9e569-0d7f-4b97-85e6-71c04369c83c",
   "metadata": {},
   "outputs": [
    {
     "data": {
      "text/plain": [
       "cantilever\n",
       "\n",
       "         resonance freq = 62.000 kHz\n",
       "                        = 3.896e+05 rad/s\n",
       "        spring constant = 2.800 N/m\n",
       "     tip-sample voltage = 1.000 V\n",
       "                 radius = 55.000 nm\n",
       "        cone half angle = 20.000 degree\n",
       "            cone length = 1000.000 nm\n",
       "\n",
       "sample type = 1\n",
       "\n",
       "\n",
       "semiconductor\n",
       "\n",
       "             epsilon (real) = 20.000\n",
       "             epsilon (imag) = 0.000\n",
       "                  thickness = 100.0 nm\n",
       "               conductivity = 1.000e-07 S/m\n",
       "             charge density = 1.000e+21 m^{-3}\n",
       "           reference height = 1.000e+02 nm\n",
       "\n",
       "         roll-off frequency = 1.129e+04 Hz\n",
       "       inverse Debye length = 2.646e-02 nm^{-1}\n",
       "               Debye length = 3.780e+01 nm\n",
       "dielectric\n",
       "\n",
       "  epsilon (real) = 1000000.000\n",
       "  epsilon (imag) = 0.000\n",
       "       thickness = infinite"
      ]
     },
     "execution_count": 11,
     "metadata": {},
     "output_type": "execute_result"
    }
   ],
   "source": [
    "sample1"
   ]
  },
  {
   "cell_type": "code",
   "execution_count": 12,
   "id": "d2dfff5b-993a-4201-bfcf-788472467bd9",
   "metadata": {},
   "outputs": [
    {
     "data": {
      "text/plain": [
       "{'cantilever': <numba.experimental.jitclass.boxing.CantileverModelJit at 0x123c73070>,\n",
       " 'h_s': 1.0000000000000001e-07,\n",
       " 'epsilon_s': (20+0j),\n",
       " 'sigma': 1e-07,\n",
       " 'rho': 1e+21,\n",
       " 'epsilon_d': (1000000+0j),\n",
       " 'z_r': 1.0000000000000001e-07}"
      ]
     },
     "execution_count": 12,
     "metadata": {},
     "output_type": "execute_result"
    }
   ],
   "source": [
    "sample1.args()"
   ]
  },
  {
   "cell_type": "code",
   "execution_count": 13,
   "id": "d4a6d16b-5d90-43c6-a12c-7ed7490d78c8",
   "metadata": {},
   "outputs": [],
   "source": [
    "sample1_jit = SampleModel1Jit(**sample1.args())"
   ]
  },
  {
   "cell_type": "code",
   "execution_count": 14,
   "id": "eb274ce2-5b8f-4533-a176-7d8f83cb33b4",
   "metadata": {},
   "outputs": [
    {
     "name": "stdout",
     "output_type": "stream",
     "text": [
      "cantilever\n",
      "==========\n",
      "        cantilever freq =  62000.0 Hz\n",
      "                        =  389557.48904513434 rad/s\n",
      "        spring constant =  2.8 N/m\n",
      "     tip-sample voltage =  1.0 V\n",
      "                 radius =  5.5e-08 m\n",
      "        cone half angle =  20.0 degree\n",
      "            cone length =  1.0000000000000002e-06 m\n",
      "\n",
      "sample type =  1\n",
      "\n",
      "semiconductor\n",
      "=============\n",
      "          epsilon (real) =  20.0\n",
      "          epsilon (imag) =  0.0\n",
      "               thickness =  1.0000000000000001e-07 m\n",
      "            conductivity =  1e-07 S/m\n",
      "          charge density =  1e+21 m^{{-3}}\n",
      "        reference height =  1.0000000000000001e-07 m\n",
      " \n",
      "      roll-off frequency =  11294.09067373019 Hz\n",
      "    inverse Debye length =  26456583.416667342 m^{{-1}}\n",
      "            Debye length =  3.7797775481848936e-08 m\n",
      "\n",
      "dielectric\n",
      "==========\n",
      " epsilon (real) =  1000000.0\n",
      " epsilon (imag) =  0.0\n",
      "      thickness = infinite\n"
     ]
    }
   ],
   "source": [
    "sample1_jit.print()"
   ]
  },
  {
   "cell_type": "code",
   "execution_count": 15,
   "id": "aaf544d9-0b1f-47b7-8462-057277d2c2c2",
   "metadata": {},
   "outputs": [
    {
     "data": {
      "text/plain": [
       "array([0.92308803-0.00023051j, 0.85642218-0.0003009j ,\n",
       "       1.57311203-0.00058176j])"
      ]
     },
     "execution_count": 15,
     "metadata": {},
     "output_type": "execute_result"
    }
   ],
   "source": [
    "K(integrand1, sample1, omega, loc1, loc2)"
   ]
  },
  {
   "cell_type": "code",
   "execution_count": 16,
   "id": "c65e8c97-0427-4ad1-b57d-e570b210c7c5",
   "metadata": {},
   "outputs": [
    {
     "data": {
      "text/plain": [
       "(<Quantity((0.009230880287373287-2.3050839017765616e-06j), '1 / nanometer')>,\n",
       " <Quantity((8.564221806744135e-05-3.008996480189856e-08j), '1 / nanometer ** 2')>,\n",
       " <Quantity((1.5731120310679616e-06-5.817587342422955e-10j), '1 / nanometer ** 3')>)"
      ]
     },
     "execution_count": 16,
     "metadata": {},
     "output_type": "execute_result"
    }
   ],
   "source": [
    "Kunits(integrand1, sample1, omega, loc1, loc2)"
   ]
  },
  {
   "cell_type": "markdown",
   "id": "379b4719-eb2f-49b8-8838-5e68aa0da103",
   "metadata": {},
   "source": [
    "# Type II sample"
   ]
  },
  {
   "cell_type": "code",
   "execution_count": 17,
   "id": "082bf546-9926-442f-8687-891c1fafdac1",
   "metadata": {},
   "outputs": [],
   "source": [
    "sample2 = SampleModel2(\n",
    "    cantilever = cantilever,\n",
    "    epsilon_d = ureg.Quantity(complex(3, 0), ''),\n",
    "    h_d = ureg.Quantity(20, 'nm'),\n",
    "    epsilon_s = ureg.Quantity(complex(20, 0), ''),\n",
    "    sigma = ureg.Quantity(1e-7, 'S/m'),\n",
    "    rho = ureg.Quantity(1e21, '1/m^3'),\n",
    "    z_r = ureg.Quantity(100, 'nm')\n",
    ")"
   ]
  },
  {
   "cell_type": "code",
   "execution_count": 18,
   "id": "a3856c01-5ff0-4a6a-a487-a07e76cc7c47",
   "metadata": {},
   "outputs": [
    {
     "data": {
      "text/plain": [
       "cantilever\n",
       "\n",
       "         resonance freq = 62.000 kHz\n",
       "                        = 3.896e+05 rad/s\n",
       "        spring constant = 2.800 N/m\n",
       "     tip-sample voltage = 1.000 V\n",
       "                 radius = 55.000 nm\n",
       "        cone half angle = 20.000 degree\n",
       "            cone length = 1000.000 nm\n",
       "\n",
       "sample type = 2\n",
       "\n",
       "\n",
       "dielectric\n",
       "\n",
       "  epsilon (real) = 3.000\n",
       "  epsilon (imag) = 0.000\n",
       "       thickness = 20.0 nm\n",
       "\n",
       "semiconductor\n",
       "\n",
       "             epsilon (real) = 20.000\n",
       "             epsilon (imag) = 0.000\n",
       "                  thickness = infinite\n",
       "               conductivity = 1.000e-07 S/m\n",
       "             charge density = 1.00e+21 m^{-3}\n",
       "           reference height = 100.0 nm\n",
       "\n",
       "         roll-off frequency = 1.129e+04 Hz\n",
       "       inverse Debye length = 2.646e-02 nm^{-1}\n",
       "               Debye length = 3.780e+01 nm"
      ]
     },
     "execution_count": 18,
     "metadata": {},
     "output_type": "execute_result"
    }
   ],
   "source": [
    "sample2"
   ]
  },
  {
   "cell_type": "code",
   "execution_count": 19,
   "id": "216482d0-609b-4e1c-9c88-81be7a71dbe4",
   "metadata": {},
   "outputs": [
    {
     "data": {
      "text/plain": [
       "{'cantilever': <numba.experimental.jitclass.boxing.CantileverModelJit at 0x10b647bb0>,\n",
       " 'epsilon_d': (3+0j),\n",
       " 'h_d': 2e-08,\n",
       " 'epsilon_s': (20+0j),\n",
       " 'sigma': 1e-07,\n",
       " 'rho': 1e+21,\n",
       " 'z_r': 1.0000000000000001e-07}"
      ]
     },
     "execution_count": 19,
     "metadata": {},
     "output_type": "execute_result"
    }
   ],
   "source": [
    "sample2.args()"
   ]
  },
  {
   "cell_type": "code",
   "execution_count": 20,
   "id": "34bf7b5c-512a-4bf2-bf71-0e55fbf92e1d",
   "metadata": {},
   "outputs": [],
   "source": [
    "sample2_jit = SampleModel2Jit(**sample2.args())"
   ]
  },
  {
   "cell_type": "code",
   "execution_count": 21,
   "id": "87843c81-9656-473c-b59c-e7881f8d9465",
   "metadata": {},
   "outputs": [
    {
     "name": "stdout",
     "output_type": "stream",
     "text": [
      "cantilever\n",
      "==========\n",
      "        cantilever freq =  62000.0 Hz\n",
      "                        =  389557.48904513434 rad/s\n",
      "        spring constant =  2.8 N/m\n",
      "     tip-sample voltage =  1.0 V\n",
      "                 radius =  5.5e-08 m\n",
      "        cone half angle =  20.0 degree\n",
      "            cone length =  1.0000000000000002e-06 m\n",
      "\n",
      "sample type =  2\n",
      "\n",
      "dielectric\n",
      "==========\n",
      " epsilon (real) =  3.0\n",
      " epsilon (imag) =  0.0\n",
      "      thickness =  2e-08 m\n",
      "\n",
      "semiconductor\n",
      "=============\n",
      "          epsilon (real) =  20.0\n",
      "          epsilon (imag) =  0.0\n",
      "               thickness = infinite\n",
      "            conductivity =  1e-07 S/m\n",
      "          charge density =  1e+21 m^{{-3}}\n",
      "        reference height =  1.0000000000000001e-07 m\n",
      " \n",
      "      roll-off frequency =  11294.09067373019 Hz\n",
      "    inverse Debye length =  26456583.416667342 m^{{-1}}\n",
      "            Debye length =  3.7797775481848936e-08 m\n"
     ]
    }
   ],
   "source": [
    "sample2_jit.print()"
   ]
  },
  {
   "cell_type": "code",
   "execution_count": 22,
   "id": "1c4224fe-0df1-4552-8258-97cf4b29a334",
   "metadata": {},
   "outputs": [
    {
     "data": {
      "text/plain": [
       "array([0.7921492 -0.0003819j , 0.68749971-0.0002725j ,\n",
       "       1.18185061-0.00037396j])"
      ]
     },
     "execution_count": 22,
     "metadata": {},
     "output_type": "execute_result"
    }
   ],
   "source": [
    "K(integrand2, sample2, omega, loc1, loc2)"
   ]
  },
  {
   "cell_type": "code",
   "execution_count": 23,
   "id": "6a59a266-bdbb-44ed-9a80-803859af2541",
   "metadata": {},
   "outputs": [
    {
     "data": {
      "text/plain": [
       "(<Quantity((0.00792149197984988-3.818985417354145e-06j), '1 / nanometer')>,\n",
       " <Quantity((6.874997144531491e-05-2.7249927316501238e-08j), '1 / nanometer ** 2')>,\n",
       " <Quantity((1.1818506137568146e-06-3.7396018749568266e-10j), '1 / nanometer ** 3')>)"
      ]
     },
     "execution_count": 23,
     "metadata": {},
     "output_type": "execute_result"
    }
   ],
   "source": [
    "Kunits(integrand2, sample2, omega, loc1, loc2)"
   ]
  },
  {
   "cell_type": "markdown",
   "id": "8ec58917-8f38-47c5-a1d2-18242141f5d6",
   "metadata": {},
   "source": [
    "# Type III sample (semi-infinite semiconductor)"
   ]
  },
  {
   "cell_type": "code",
   "execution_count": 24,
   "id": "7b153864-9b8c-4687-8328-5d566cdbf1cd",
   "metadata": {},
   "outputs": [],
   "source": [
    "sample3 = SampleModel3(\n",
    "    cantilever = cantilever,\n",
    "    epsilon_s = ureg.Quantity(complex(20, 0), ''),\n",
    "    sigma = ureg.Quantity(1e-7, 'S/m'),\n",
    "    rho = ureg.Quantity(1e21, '1/m^3'),\n",
    "    z_r = ureg.Quantity(100, 'nm')\n",
    ")"
   ]
  },
  {
   "cell_type": "code",
   "execution_count": 25,
   "id": "f08825ea-233c-4a2f-bd9a-06d0eeff0c5c",
   "metadata": {},
   "outputs": [
    {
     "data": {
      "text/plain": [
       "cantilever\n",
       "\n",
       "         resonance freq = 62.000 kHz\n",
       "                        = 3.896e+05 rad/s\n",
       "        spring constant = 2.800 N/m\n",
       "     tip-sample voltage = 1.000 V\n",
       "                 radius = 55.000 nm\n",
       "        cone half angle = 20.000 degree\n",
       "            cone length = 1000.000 nm\n",
       "\n",
       "sample type = 3\n",
       "\n",
       "semiconductor\n",
       "\n",
       "             epsilon (real) = 20.000\n",
       "             epsilon (imag) = 0.000\n",
       "                  thickness = infinite\n",
       "               conductivity = 1.000e-07 S/m\n",
       "             charge density = 1.00e+21 m^{-3}\n",
       "           reference height = 100.0 nm\n",
       "\n",
       "         roll-off frequency = 1.129e+04 Hz\n",
       "       inverse Debye length = 2.646e-02 nm^{-1}\n",
       "               Debye length = 3.780e+01 nm"
      ]
     },
     "execution_count": 25,
     "metadata": {},
     "output_type": "execute_result"
    }
   ],
   "source": [
    "sample3"
   ]
  },
  {
   "cell_type": "code",
   "execution_count": 26,
   "id": "04e2d59e-2e01-4a2b-b501-e374edb4c971",
   "metadata": {},
   "outputs": [
    {
     "data": {
      "text/plain": [
       "{'cantilever': <numba.experimental.jitclass.boxing.CantileverModelJit at 0x123e94550>,\n",
       " 'epsilon_s': (20+0j),\n",
       " 'sigma': 1e-07,\n",
       " 'rho': 1e+21,\n",
       " 'z_r': 1.0000000000000001e-07}"
      ]
     },
     "execution_count": 26,
     "metadata": {},
     "output_type": "execute_result"
    }
   ],
   "source": [
    "sample3.args()"
   ]
  },
  {
   "cell_type": "code",
   "execution_count": 27,
   "id": "e730b5a1-2f85-4800-9306-957f40dd1146",
   "metadata": {},
   "outputs": [],
   "source": [
    "sample3_jit = SampleModel3Jit(**sample3.args())"
   ]
  },
  {
   "cell_type": "code",
   "execution_count": 28,
   "id": "002fcdcc-7ee5-4043-9f73-42259564fb4a",
   "metadata": {},
   "outputs": [
    {
     "name": "stdout",
     "output_type": "stream",
     "text": [
      "cantilever\n",
      "==========\n",
      "        cantilever freq =  62000.0 Hz\n",
      "                        =  389557.48904513434 rad/s\n",
      "        spring constant =  2.8 N/m\n",
      "     tip-sample voltage =  1.0 V\n",
      "                 radius =  5.5e-08 m\n",
      "        cone half angle =  20.0 degree\n",
      "            cone length =  1.0000000000000002e-06 m\n",
      "\n",
      "sample type =  3\n",
      "\n",
      "semiconductor\n",
      "=============\n",
      "          epsilon (real) =  20.0\n",
      "          epsilon (imag) =  0.0\n",
      "               thickness = infinite\n",
      "            conductivity =  1e-07 S/m\n",
      "          charge density =  1e+21 m^{{-3}}\n",
      "        reference height =  1.0000000000000001e-07 m\n",
      " \n",
      "      roll-off frequency =  11294.09067373019 Hz\n",
      "    inverse Debye length =  26456583.416667342 m^{{-1}}\n",
      "            Debye length =  3.7797775481848936e-08 m\n"
     ]
    }
   ],
   "source": [
    "sample3_jit.print()"
   ]
  },
  {
   "cell_type": "code",
   "execution_count": 29,
   "id": "de83a3c6-0d0c-4aaf-94ae-1bfb20dc4d47",
   "metadata": {},
   "outputs": [
    {
     "data": {
      "text/plain": [
       "array([0.88300038-0.00045539j, 0.84098605-0.00039175j,\n",
       "       1.56188177-0.00065121j])"
      ]
     },
     "execution_count": 29,
     "metadata": {},
     "output_type": "execute_result"
    }
   ],
   "source": [
    "K(integrand3, sample3, omega, loc1, loc2)"
   ]
  },
  {
   "cell_type": "code",
   "execution_count": 30,
   "id": "0689054c-6e71-489b-b036-8e7afc6ef390",
   "metadata": {},
   "outputs": [
    {
     "data": {
      "text/plain": [
       "(<Quantity((0.008830003772773131-4.5539210097441905e-06j), '1 / nanometer')>,\n",
       " <Quantity((8.409860514253426e-05-3.91751262512326e-08j), '1 / nanometer ** 2')>,\n",
       " <Quantity((1.5618817673292759e-06-6.512113641237762e-10j), '1 / nanometer ** 3')>)"
      ]
     },
     "execution_count": 30,
     "metadata": {},
     "output_type": "execute_result"
    }
   ],
   "source": [
    "Kunits(integrand3, sample3, omega, loc1, loc2)"
   ]
  },
  {
   "cell_type": "markdown",
   "id": "8e99d4c7-a28f-4af0-8a66-cabf782e2449",
   "metadata": {},
   "source": [
    "# Type IV sample (metal)"
   ]
  },
  {
   "cell_type": "code",
   "execution_count": 31,
   "id": "301994dc-f694-4923-8a52-9a2a5b9e6286",
   "metadata": {},
   "outputs": [],
   "source": [
    "sample4 = SampleModel4(\n",
    "    cantilever = cantilever,\n",
    "    z_r = ureg.Quantity(100, 'nm')\n",
    ")"
   ]
  },
  {
   "cell_type": "code",
   "execution_count": 32,
   "id": "8a9c495f-75cd-4063-96dd-c6e1aa81977a",
   "metadata": {},
   "outputs": [
    {
     "data": {
      "text/plain": [
       "cantilever\n",
       "\n",
       "         resonance freq = 62.000 kHz\n",
       "                        = 3.896e+05 rad/s\n",
       "        spring constant = 2.800 N/m\n",
       "     tip-sample voltage = 1.000 V\n",
       "                 radius = 55.000 nm\n",
       "        cone half angle = 20.000 degree\n",
       "            cone length = 1000.000 nm\n",
       "\n",
       "sample type = 4\n",
       "\n",
       "metal\n",
       "\n",
       "                  thickness = infinite"
      ]
     },
     "execution_count": 32,
     "metadata": {},
     "output_type": "execute_result"
    }
   ],
   "source": [
    "sample4"
   ]
  },
  {
   "cell_type": "markdown",
   "id": "af002206-bb7c-4f1f-bf7f-f7798657debd",
   "metadata": {},
   "source": [
    "Run the `isMetal` test on the sample types defined so far."
   ]
  },
  {
   "cell_type": "code",
   "execution_count": 33,
   "id": "c1fa0af9-0f60-421b-b069-0e5c445217be",
   "metadata": {},
   "outputs": [
    {
     "data": {
      "text/plain": [
       "((0.9759000729485332-0j), (0.929428640903365+0j), (1.7260817616776778-0j))"
      ]
     },
     "execution_count": 33,
     "metadata": {},
     "output_type": "execute_result"
    }
   ],
   "source": [
    "Kmetal(sample4, loc1, loc2)"
   ]
  },
  {
   "cell_type": "code",
   "execution_count": 34,
   "id": "e09bac2b-9d1b-4173-8f55-bf2647ea0158",
   "metadata": {},
   "outputs": [
    {
     "data": {
      "text/plain": [
       "(<Quantity((-0.009759000729485332-0j), '1 / nanometer')>,\n",
       " <Quantity((9.294286409033649e-05+0j), '1 / nanometer ** 2')>,\n",
       " <Quantity((1.7260817616776777e-06-0j), '1 / nanometer ** 3')>)"
      ]
     },
     "execution_count": 34,
     "metadata": {},
     "output_type": "execute_result"
    }
   ],
   "source": [
    "Kmetalunits(sample4, loc1, loc2)"
   ]
  },
  {
   "cell_type": "markdown",
   "id": "7eb6e9c6-44d7-44c4-a22d-20138c6b0d22",
   "metadata": {},
   "source": [
    "# Accuracy tests\n",
    "\n",
    "It's easier to compare the six real values returned by `integrate.quad_vec` than the three complex values returned by `K`."
   ]
  },
  {
   "cell_type": "code",
   "execution_count": 78,
   "id": "9d0fe90e-3f94-45fc-880e-4988100a5deb",
   "metadata": {},
   "outputs": [
    {
     "data": {
      "text/plain": [
       "array([0.88300038-0.00045539j, 0.84098605-0.00039175j,\n",
       "       1.56188177-0.00065121j])"
      ]
     },
     "execution_count": 78,
     "metadata": {},
     "output_type": "execute_result"
    }
   ],
   "source": [
    "K(integrand3,sample3, omega, loc1, loc2)"
   ]
  },
  {
   "cell_type": "code",
   "execution_count": 79,
   "id": "3aa739f1-9d55-4dc8-a2bf-735de73d47f0",
   "metadata": {},
   "outputs": [
    {
     "data": {
      "text/plain": [
       "array([ 8.83000377e-01, -4.55392101e-04,  8.40986051e-01, -3.91751263e-04,\n",
       "        1.56188177e+00, -6.51211364e-04])"
      ]
     },
     "execution_count": 79,
     "metadata": {},
     "output_type": "execute_result"
    }
   ],
   "source": [
    "k3 = integrate.quad_vec(integrand3, 0., np.inf, args=(sample3, omega, loc1, loc2))[0]\n",
    "k3"
   ]
  },
  {
   "cell_type": "code",
   "execution_count": 56,
   "id": "b0324360-5780-4b2e-82b8-21d959f6cf38",
   "metadata": {},
   "outputs": [
    {
     "data": {
      "text/plain": [
       "(<Quantity((-0.009759000729485332-0j), '1 / nanometer')>,\n",
       " <Quantity((9.294286409033649e-05+0j), '1 / nanometer ** 2')>,\n",
       " <Quantity((1.7260817616776777e-06-0j), '1 / nanometer ** 3')>)"
      ]
     },
     "execution_count": 56,
     "metadata": {},
     "output_type": "execute_result"
    }
   ],
   "source": [
    "k3u = Kmetalunits(sample3, loc1, loc2)\n",
    "k3u"
   ]
  },
  {
   "cell_type": "markdown",
   "id": "323e8f9c-ed7f-4a8e-9470-2107a0fff0d7",
   "metadata": {},
   "source": [
    "Below we are going to compare the metal $K_n$'s to the output of `integrate.quad_vec` for Type I, II, and III functions.  The function `Kmetal` returns a complex 3-vector and not a real 6-vector like `integrate.quad_vec`.  Let us define a utilty function that converts a complex 3-vector back into a real 6-vector."
   ]
  },
  {
   "cell_type": "code",
   "execution_count": 57,
   "id": "c043381d-27af-4b86-bc8b-708e6dc8ed7d",
   "metadata": {},
   "outputs": [],
   "source": [
    "def metalwrapper(x):\n",
    "    return np.array([x[0].real, x[0].imag, x[1].real, x[1].imag, x[2].real, x[0].imag])"
   ]
  },
  {
   "cell_type": "code",
   "execution_count": 58,
   "id": "4242a8db-5d7f-4882-9b11-f509e8d5ab76",
   "metadata": {},
   "outputs": [
    {
     "data": {
      "text/plain": [
       "array([ 0.97590007, -0.        ,  0.92942864,  0.        ,  1.72608176,\n",
       "       -0.        ])"
      ]
     },
     "execution_count": 58,
     "metadata": {},
     "output_type": "execute_result"
    }
   ],
   "source": [
    "k4 = metalwrapper(Kmetal(sample4, loc1, loc2))\n",
    "k4"
   ]
  },
  {
   "cell_type": "code",
   "execution_count": 59,
   "id": "51f9dc74-1ead-45f3-863b-7369d86742d8",
   "metadata": {},
   "outputs": [
    {
     "data": {
      "text/plain": [
       "(<Quantity((-0.009759000729485332-0j), '1 / nanometer')>,\n",
       " <Quantity((9.294286409033649e-05+0j), '1 / nanometer ** 2')>,\n",
       " <Quantity((1.7260817616776777e-06-0j), '1 / nanometer ** 3')>)"
      ]
     },
     "execution_count": 59,
     "metadata": {},
     "output_type": "execute_result"
    }
   ],
   "source": [
    "k4u = Kmetalunits(sample4, loc1, loc2)\n",
    "k4u"
   ]
  },
  {
   "cell_type": "markdown",
   "id": "bd6feb77-5546-4d54-90ff-1041caa1126d",
   "metadata": {},
   "source": [
    "## Compare Type I and Type III samples\n",
    "\n",
    "Show that the Type I sample with large $h_{\\mathrm{s}}$ ($100 \\: \\mu\\mathrm{m}$) looks like a Type III sample. "
   ]
  },
  {
   "cell_type": "code",
   "execution_count": 39,
   "id": "a0b00fa3-2cc4-4dab-acaa-565ed6183e35",
   "metadata": {},
   "outputs": [],
   "source": [
    "sample1inf = SampleModel1(\n",
    "    cantilever = cantilever,\n",
    "    h_s = ureg.Quantity(100, 'um'),\n",
    "    epsilon_s = ureg.Quantity(complex(20, 0), ''),\n",
    "    sigma = ureg.Quantity(1e-7, 'S/m'),\n",
    "    rho = ureg.Quantity(1e21, '1/m^3'),\n",
    "    epsilon_d = ureg.Quantity(complex(1e6, 0), ''),\n",
    "    z_r = ureg.Quantity(100, 'nm')\n",
    ")"
   ]
  },
  {
   "cell_type": "code",
   "execution_count": 40,
   "id": "fe1423fa-4683-4eed-9a15-6e5888f01fb9",
   "metadata": {},
   "outputs": [
    {
     "data": {
      "text/plain": [
       "array([ 8.83064933e-01, -4.55052618e-04,  8.40986089e-01, -3.91751066e-04,\n",
       "        1.56188177e+00, -6.51211364e-04])"
      ]
     },
     "execution_count": 40,
     "metadata": {},
     "output_type": "execute_result"
    }
   ],
   "source": [
    "k1inf = integrate.quad_vec(integrand1, 0., np.inf, args=(sample1inf, omega, loc1, loc2))[0]\n",
    "k1inf"
   ]
  },
  {
   "cell_type": "markdown",
   "id": "872c04ba-5d75-4332-8e31-7f9b14c58cda",
   "metadata": {},
   "source": [
    "The relative errors of the $K_{s}$'s (real and imaginary parts)."
   ]
  },
  {
   "cell_type": "code",
   "execution_count": 41,
   "id": "bbaf1f39-a66e-4cfd-a6d4-b19ce0b275d5",
   "metadata": {},
   "outputs": [
    {
     "data": {
      "text/plain": [
       "array([-7.31094703e-05,  7.45474381e-04, -4.49817857e-08,  5.01538941e-07,\n",
       "       -2.63570691e-11,  3.26016668e-10])"
      ]
     },
     "execution_count": 41,
     "metadata": {},
     "output_type": "execute_result"
    }
   ],
   "source": [
    "(k3 - k1inf)/k3"
   ]
  },
  {
   "cell_type": "markdown",
   "id": "e0961dff-ed3b-4cef-9912-6f89dee37d67",
   "metadata": {},
   "source": [
    "The largest relative errors are in $\\text{Im}[K_0]$, $618 \\: \\mathrm{pp}$ or $0.062 \\: \\mathrm{percent}$, and $\\text{Re}[K_0]$, $-59 \\: \\mathrm{ppm}$."
   ]
  },
  {
   "cell_type": "markdown",
   "id": "9f6471da-0af1-416f-b3a7-edf6a33db41d",
   "metadata": {},
   "source": [
    "## Compare Type II and Type III samples\n",
    "\n",
    "Show that the Type IU sample with small $h_{\\mathrm{d}}$ looks like a Type III sample. "
   ]
  },
  {
   "cell_type": "code",
   "execution_count": 42,
   "id": "1ad76c0e-e641-41cd-8767-9e27b52e334b",
   "metadata": {},
   "outputs": [],
   "source": [
    "sample2zero = SampleModel2(\n",
    "    cantilever = cantilever,\n",
    "    epsilon_d = ureg.Quantity(complex(3, 0), ''),\n",
    "    h_d = ureg.Quantity(1e-6, 'nm'),\n",
    "    epsilon_s = ureg.Quantity(complex(20, 0), ''),\n",
    "    sigma = ureg.Quantity(1e-7, 'S/m'),\n",
    "    rho = ureg.Quantity(1e21, '1/m^3'),\n",
    "    z_r = ureg.Quantity(100, 'nm')\n",
    ")"
   ]
  },
  {
   "cell_type": "code",
   "execution_count": 43,
   "id": "3fc0615c-cd4b-4635-ab15-548492eaf119",
   "metadata": {},
   "outputs": [
    {
     "data": {
      "text/plain": [
       "array([ 8.83000372e-01, -4.55392097e-04,  8.40986041e-01, -3.91751257e-04,\n",
       "        1.56188174e+00, -6.51211350e-04])"
      ]
     },
     "execution_count": 43,
     "metadata": {},
     "output_type": "execute_result"
    }
   ],
   "source": [
    "k2zero = integrate.quad_vec(integrand2, 0., np.inf, args=(sample2zero, omega, loc1, loc2))[0]\n",
    "k2zero"
   ]
  },
  {
   "cell_type": "markdown",
   "id": "d4a8710e-867c-4805-97af-94c58ca8230f",
   "metadata": {},
   "source": [
    "The relative errors of the $K_{s}$'s (real and imaginary parts)."
   ]
  },
  {
   "cell_type": "code",
   "execution_count": 44,
   "id": "83b48e39-73c8-4d04-a327-1529f5ee5afc",
   "metadata": {},
   "outputs": [
    {
     "data": {
      "text/plain": [
       "array([6.22237820e-09, 7.91808152e-09, 1.21337088e-08, 1.52993220e-08,\n",
       "       1.77099954e-08, 2.21556472e-08])"
      ]
     },
     "execution_count": 44,
     "metadata": {},
     "output_type": "execute_result"
    }
   ],
   "source": [
    "(k3 - k2zero)/k3"
   ]
  },
  {
   "cell_type": "markdown",
   "id": "9ce83ccd-c1fd-4c4a-a13d-04d766ca9b7b",
   "metadata": {},
   "source": [
    "The largest relative errors are in $\\text{Im}[K_2]$, $26 \\: \\mathrm{ppb}$, and $\\text{Re}[K_2]$, $21 \\: \\mathrm{ppb}$."
   ]
  },
  {
   "cell_type": "markdown",
   "id": "9cd1c19e-cb5d-4d03-a063-8c3651154135",
   "metadata": {},
   "source": [
    "## Compare Type I and Type IV samples\n",
    "\n",
    "Show that the Type I sample with large $h_{\\mathrm{s}}$ ($100 \\: \\mu\\mathrm{m}$), $\\epsilon_{\\mathrm{s}}$, $\\sigma$, and $\\rho$ looks like a Type IV (metal) sample. "
   ]
  },
  {
   "cell_type": "code",
   "execution_count": 45,
   "id": "d3d485e8-0aea-477f-94ea-714fb372134c",
   "metadata": {},
   "outputs": [],
   "source": [
    "sample1metal = SampleModel1(\n",
    "    cantilever = cantilever,\n",
    "    h_s = ureg.Quantity(100, 'um'),\n",
    "    epsilon_s = ureg.Quantity(complex(1e6, 0), ''),\n",
    "    sigma = ureg.Quantity(1e7, 'S/m'),\n",
    "    rho = ureg.Quantity(1e26, '1/m^3'),\n",
    "    epsilon_d = ureg.Quantity(complex(1e6, 0), ''),\n",
    "    z_r = ureg.Quantity(100, 'nm')\n",
    ")"
   ]
  },
  {
   "cell_type": "code",
   "execution_count": 46,
   "id": "0e512d28-e614-4c48-bef4-ee8ff60d94cd",
   "metadata": {},
   "outputs": [
    {
     "data": {
      "text/plain": [
       "array([0.97589895, 0.        , 0.92942713, 0.        , 1.72607863,\n",
       "       0.        ])"
      ]
     },
     "execution_count": 46,
     "metadata": {},
     "output_type": "execute_result"
    }
   ],
   "source": [
    "k1metal = integrate.quad_vec(integrand1, 0., np.inf, args=(sample1metal, ureg.Quantity(0, 'Hz'), loc1, loc2))[0]\n",
    "k1metal"
   ]
  },
  {
   "cell_type": "markdown",
   "id": "68ca66e3-27a7-48d7-ba63-1f5495323645",
   "metadata": {},
   "source": [
    "Only compare the real (even) values since the imaginary (odd) values are zero for a metal."
   ]
  },
  {
   "cell_type": "code",
   "execution_count": 47,
   "id": "4d642531-4ece-4731-b9a3-3d3ea29319a2",
   "metadata": {},
   "outputs": [
    {
     "data": {
      "text/plain": [
       "array([1.14774243e-06, 1.62071636e-06, 1.81366427e-06])"
      ]
     },
     "execution_count": 47,
     "metadata": {},
     "output_type": "execute_result"
    }
   ],
   "source": [
    "(k4[0::2] - k1metal[0::2])/k4[0::2]"
   ]
  },
  {
   "cell_type": "markdown",
   "id": "0ff4c7a9-3f49-4024-9c83-8fd790da5624",
   "metadata": {},
   "source": [
    "## Compare Type II and Type IV samples\n",
    "\n",
    "Show that the Type II sample with zero $h_{\\mathrm{d}}$ and large $\\epsilon_{\\mathrm{s}}$, $\\sigma$, and $\\rho$ looks like a Type IV (metal) sample. "
   ]
  },
  {
   "cell_type": "code",
   "execution_count": 48,
   "id": "66c17b41-240a-4587-a29a-0f4ac8de6edd",
   "metadata": {},
   "outputs": [],
   "source": [
    "sample2metal = SampleModel2(\n",
    "    cantilever = cantilever,\n",
    "    epsilon_d = ureg.Quantity(complex(3, 0), ''),\n",
    "    h_d = ureg.Quantity(1e-6, 'nm'),\n",
    "    epsilon_s = ureg.Quantity(complex(1e6, 0), ''),\n",
    "    sigma = ureg.Quantity(1e7, 'S/m'),\n",
    "    rho = ureg.Quantity(1e26, '1/m^3'),\n",
    "    z_r = ureg.Quantity(100, 'nm')\n",
    ")"
   ]
  },
  {
   "cell_type": "code",
   "execution_count": 49,
   "id": "ff4f7603-e8c6-4651-a55e-9dca92e7fe89",
   "metadata": {},
   "outputs": [
    {
     "data": {
      "text/plain": [
       "array([0.97589895, 0.        , 0.92942712, 0.        , 1.7260786 ,\n",
       "       0.        ])"
      ]
     },
     "execution_count": 49,
     "metadata": {},
     "output_type": "execute_result"
    }
   ],
   "source": [
    "k2metal = integrate.quad_vec(integrand2, 0., np.inf, args=(sample2metal, ureg.Quantity(0, 'Hz'), loc1, loc2))[0]\n",
    "k2metal"
   ]
  },
  {
   "cell_type": "code",
   "execution_count": 50,
   "id": "32f1faf8-ccf1-4b83-9911-cba3e2d46b50",
   "metadata": {},
   "outputs": [
    {
     "data": {
      "text/plain": [
       "array([1.15409163e-06, 1.63309729e-06, 1.83173506e-06])"
      ]
     },
     "execution_count": 50,
     "metadata": {},
     "output_type": "execute_result"
    }
   ],
   "source": [
    "(k4[0::2] - k2metal[0::2])/k4[0::2]"
   ]
  },
  {
   "cell_type": "markdown",
   "id": "186910f0-88c3-4eb2-9641-465e92687d17",
   "metadata": {},
   "source": [
    "## Compare Type III and Type IV samples\n",
    "\n",
    "Show that the Type III sample with large $\\epsilon_{\\mathrm{s}}$, $\\sigma$, and $\\rho$ looks like a Type IV (metal) sample. "
   ]
  },
  {
   "cell_type": "code",
   "execution_count": 51,
   "id": "168ea0b8-f9c4-4b3c-af18-3fe9db143bb5",
   "metadata": {},
   "outputs": [],
   "source": [
    "sample3metal = SampleModel3(\n",
    "    cantilever = cantilever,\n",
    "    epsilon_s = ureg.Quantity(complex(1e6, 0), ''),\n",
    "    sigma = ureg.Quantity(1e7, 'S/m'),\n",
    "    rho = ureg.Quantity(1e26, '1/m^3'),\n",
    "    z_r = ureg.Quantity(100, 'nm')\n",
    ")"
   ]
  },
  {
   "cell_type": "code",
   "execution_count": 52,
   "id": "f36a0e70-7738-46e9-b229-390e3264c7a1",
   "metadata": {},
   "outputs": [
    {
     "data": {
      "text/plain": [
       "array([0.97589895, 0.        , 0.92942713, 0.        , 1.72607863,\n",
       "       0.        ])"
      ]
     },
     "execution_count": 52,
     "metadata": {},
     "output_type": "execute_result"
    }
   ],
   "source": [
    "k3metal = integrate.quad_vec(integrand3, 0., np.inf, args=(sample3metal, ureg.Quantity(0, 'Hz'), loc1, loc2))[0]\n",
    "k3metal"
   ]
  },
  {
   "cell_type": "code",
   "execution_count": 53,
   "id": "06ef1c62-e4eb-43fe-b21e-365bf6dc79ef",
   "metadata": {},
   "outputs": [
    {
     "data": {
      "text/plain": [
       "array([1.14774243e-06, 1.62071636e-06, 1.81366427e-06])"
      ]
     },
     "execution_count": 53,
     "metadata": {},
     "output_type": "execute_result"
    }
   ],
   "source": [
    "(k4[0::2] - k3metal[0::2])/k4[0::2]"
   ]
  },
  {
   "cell_type": "markdown",
   "id": "594aa167-2884-4a40-ab1d-d0fc8335e1db",
   "metadata": {},
   "source": [
    "## Conclusions\n",
    "\n",
    "The Type II sample with $h_{\\mathrm{d}} \\rightarrow 0$ does a much better job mimicing the semi-infinite Type III sample than does the Type I sample with $h_{\\mathrm{s}} \\rightarrow \\infty$.\n",
    "\n",
    "Type I, II, and III samples coverge to a Type IV metallic sample under appropriate sample conditions."
   ]
  },
  {
   "cell_type": "markdown",
   "id": "65e10328-5bbc-464d-91ad-3980d9da5f15",
   "metadata": {},
   "source": [
    "# Additional checks"
   ]
  },
  {
   "cell_type": "markdown",
   "id": "6241ef3c-d307-4122-92df-0b157e9aea5c",
   "metadata": {},
   "source": [
    "Make sure that $z_{\\mathrm{r}}$ is the same for all samples."
   ]
  },
  {
   "cell_type": "code",
   "execution_count": 56,
   "id": "d8a70dd5-0562-4a4d-82a6-4f20ba38bd9d",
   "metadata": {},
   "outputs": [
    {
     "name": "stdout",
     "output_type": "stream",
     "text": [
      "100 nanometer\n",
      "100 nanometer\n",
      "100 nanometer\n",
      "100 nanometer\n",
      "100 nanometer\n",
      "100 nanometer\n"
     ]
    }
   ],
   "source": [
    "for sample in [sample1, sample2, sample3, sample4, sample1inf, sample1metal]:\n",
    "    print(sample.z_r)"
   ]
  },
  {
   "cell_type": "markdown",
   "id": "5b14c1fe-d2c0-43ae-b3aa-8cb4c340d6b9",
   "metadata": {},
   "source": [
    "Can we test complex numbers?  Yes."
   ]
  },
  {
   "cell_type": "code",
   "execution_count": 84,
   "id": "3fe740ab-c4ad-4395-943e-4b085ec3c6e0",
   "metadata": {},
   "outputs": [
    {
     "data": {
      "text/plain": [
       "array([0.88306493-0.00045505j, 0.84098609-0.00039175j,\n",
       "       1.56188177-0.00065121j])"
      ]
     },
     "execution_count": 84,
     "metadata": {},
     "output_type": "execute_result"
    }
   ],
   "source": [
    "K(integrand1, sample1inf, omega, loc1, loc2)"
   ]
  },
  {
   "cell_type": "code",
   "execution_count": 85,
   "id": "10d77ff6-2859-4680-8e36-681572ca1d6b",
   "metadata": {},
   "outputs": [
    {
     "data": {
      "text/plain": [
       "array([0.88300038-0.00045539j, 0.84098605-0.00039175j,\n",
       "       1.56188177-0.00065121j])"
      ]
     },
     "execution_count": 85,
     "metadata": {},
     "output_type": "execute_result"
    }
   ],
   "source": [
    "K(integrand3, sample3, omega, loc1, loc2)"
   ]
  },
  {
   "cell_type": "code",
   "execution_count": 86,
   "id": "094961fb-dd48-4997-8966-74340ffa0af6",
   "metadata": {},
   "outputs": [
    {
     "data": {
      "text/plain": [
       "True"
      ]
     },
     "execution_count": 86,
     "metadata": {},
     "output_type": "execute_result"
    }
   ],
   "source": [
    "np.allclose(K(integrand1, sample1inf, omega, loc1, loc2), \n",
    "            K(integrand3, sample3, omega, loc1, loc2), rtol=8e-4)"
   ]
  },
  {
   "cell_type": "markdown",
   "id": "20a6d129-785a-4f9c-a7a7-f12006602d1e",
   "metadata": {},
   "source": [
    "Can we test with units? Yes, with some effort."
   ]
  },
  {
   "cell_type": "code",
   "execution_count": 104,
   "id": "576e30e3-da00-45ad-9da0-cdd519b0842b",
   "metadata": {},
   "outputs": [],
   "source": [
    "temp1 = Kunits(integrand1, sample1inf, omega, loc1, loc2)\n",
    "temp2 = Kunits(integrand3, sample3, omega, loc1, loc2)"
   ]
  },
  {
   "cell_type": "code",
   "execution_count": 110,
   "id": "4eb22b1a-364a-427a-8db7-29404bb9bd87",
   "metadata": {},
   "outputs": [],
   "source": [
    "units = ['1/nm','1/nm**2','1/nm**3']\n",
    "test1 = np.array([val.to(unit).magnitude for val, unit in zip(temp1, units)])\n",
    "test2 = np.array([val.to(unit).magnitude for val, unit in zip(temp2, units)])"
   ]
  },
  {
   "cell_type": "code",
   "execution_count": 111,
   "id": "9057de92-3698-4ed2-ad02-ca7c2523af2e",
   "metadata": {},
   "outputs": [
    {
     "data": {
      "text/plain": [
       "True"
      ]
     },
     "execution_count": 111,
     "metadata": {},
     "output_type": "execute_result"
    }
   ],
   "source": [
    "np.allclose(test1, test2, rtol=8e-4)"
   ]
  },
  {
   "cell_type": "markdown",
   "id": "829912e6-1d9b-4c5f-af6b-c0c8cba685c2",
   "metadata": {},
   "source": [
    "Check the metal $K_n$'s."
   ]
  },
  {
   "cell_type": "code",
   "execution_count": 112,
   "id": "581c4314-c11a-41c8-942c-f07ab29d74c0",
   "metadata": {},
   "outputs": [
    {
     "data": {
      "text/plain": [
       "((0.9759000729485332-0j), (0.929428640903365+0j), (1.7260817616776778-0j))"
      ]
     },
     "execution_count": 112,
     "metadata": {},
     "output_type": "execute_result"
    }
   ],
   "source": [
    "Kmetal(sample4, loc1, loc2)"
   ]
  },
  {
   "cell_type": "code",
   "execution_count": 113,
   "id": "0efd1dbb-6d2b-4fcd-8903-1a75e27d4e40",
   "metadata": {},
   "outputs": [
    {
     "data": {
      "text/plain": [
       "(<Quantity((-0.009759000729485332-0j), '1 / nanometer')>,\n",
       " <Quantity((9.294286409033649e-05+0j), '1 / nanometer ** 2')>,\n",
       " <Quantity((1.7260817616776777e-06-0j), '1 / nanometer ** 3')>)"
      ]
     },
     "execution_count": 113,
     "metadata": {},
     "output_type": "execute_result"
    }
   ],
   "source": [
    "Kmetalunits(sample4, loc1, loc2)"
   ]
  },
  {
   "cell_type": "markdown",
   "id": "250fda5c-dab3-4591-b9a0-be91673bf52d",
   "metadata": {},
   "source": [
    "# Debug a unit test"
   ]
  },
  {
   "cell_type": "code",
   "execution_count": 121,
   "id": "9d80bd20-4659-4737-b828-ae023435a198",
   "metadata": {},
   "outputs": [
    {
     "data": {
      "text/plain": [
       "array([0.97589895+0.j, 0.92942713+0.j, 1.72607863+0.j])"
      ]
     },
     "execution_count": 121,
     "metadata": {},
     "output_type": "execute_result"
    }
   ],
   "source": [
    "K(integrand1, sample1metal, ureg.Quantity(0, 'Hz'), loc1, loc2)"
   ]
  },
  {
   "cell_type": "code",
   "execution_count": 122,
   "id": "dcc80693-2ef1-448f-9fb2-43308aabe158",
   "metadata": {},
   "outputs": [
    {
     "data": {
      "text/plain": [
       "((0.9759000729485332-0j), (0.929428640903365+0j), (1.7260817616776778-0j))"
      ]
     },
     "execution_count": 122,
     "metadata": {},
     "output_type": "execute_result"
    }
   ],
   "source": [
    "Kmetal(sample4, loc1, loc2)"
   ]
  },
  {
   "cell_type": "code",
   "execution_count": 123,
   "id": "af7db953-a04f-4555-8143-797fca2aa0bd",
   "metadata": {},
   "outputs": [
    {
     "data": {
      "text/plain": [
       "True"
      ]
     },
     "execution_count": 123,
     "metadata": {},
     "output_type": "execute_result"
    }
   ],
   "source": [
    "np.allclose(\n",
    "    K(integrand1, sample1metal, ureg.Quantity(0, 'Hz'), loc1, loc2), \n",
    "    Kmetal(sample4, loc1, loc2),\n",
    "    rtol=2e-6)"
   ]
  },
  {
   "cell_type": "markdown",
   "id": "435dddd7-8022-4e2f-9247-163834aafc14",
   "metadata": {},
   "source": [
    "# Timing tests"
   ]
  },
  {
   "cell_type": "markdown",
   "id": "adb7fe5d-9304-4fbf-938e-9840f92e0a17",
   "metadata": {},
   "source": [
    "## $K_0$ computed using the `v8` code\n",
    "\n",
    "This is a pain, because the `v8` and `v9` functions are not compatible.\n",
    "\n",
    "So we have to load in the `v8` version of the functions separately, naming them differently to avoid collisions."
   ]
  },
  {
   "cell_type": "code",
   "execution_count": 60,
   "id": "e3b993df-d1da-49d3-82b4-fe0a20200e82",
   "metadata": {},
   "outputs": [],
   "source": [
    "from dissipationtheory.dissipation8a import CantileverModel as CantileverModelv8\n",
    "from dissipationtheory.dissipation8a import SampleModel1 as SampleModel1v8\n",
    "from dissipationtheory.dissipation8a import integrand1 as integrand1v8\n",
    "from dissipationtheory.dissipation8a import K as Kv8"
   ]
  },
  {
   "cell_type": "code",
   "execution_count": 61,
   "id": "0a8596b3-bf4a-4868-b087-4b26eb5b3ab9",
   "metadata": {},
   "outputs": [],
   "source": [
    "cantileverv8 = CantileverModelv8(\n",
    "    f_c = ureg.Quantity(62, 'kHz'),\n",
    "    k_c = ureg.Quantity(2.8, 'N/m'), \n",
    "    V_ts = ureg.Quantity(1, 'V'), \n",
    "    R = ureg.Quantity(55, 'nm'),\n",
    "    angle = ureg.Quantity(20, 'degree'),\n",
    "    L = ureg.Quantity(1000, 'nm'),\n",
    "    d = ureg.Quantity(50, 'nm')\n",
    ")"
   ]
  },
  {
   "cell_type": "code",
   "execution_count": 62,
   "id": "6c90fba7-798a-4186-8d17-438e4afe1650",
   "metadata": {},
   "outputs": [],
   "source": [
    "sample1v8 = SampleModel1v8(\n",
    "    cantilever = cantileverv8,\n",
    "    h_s = ureg.Quantity(100, 'nm'),\n",
    "    epsilon_s = ureg.Quantity(complex(20, 0), ''),\n",
    "    sigma = ureg.Quantity(1e-7, 'S/m'),\n",
    "    rho = ureg.Quantity(1e21, '1/m^3'),\n",
    "    epsilon_d = ureg.Quantity(complex(1e6, 0), ''),\n",
    "    z_r = ureg.Quantity(100, 'nm')\n",
    ")"
   ]
  },
  {
   "cell_type": "code",
   "execution_count": 63,
   "id": "c0918893-971b-4730-bcad-4e67cf41bb7f",
   "metadata": {},
   "outputs": [
    {
     "data": {
      "text/html": [
       "0.00923088028737329 1/nanometer"
      ],
      "text/latex": [
       "$0.00923088028737329\\ \\frac{1}{\\mathrm{nanometer}}$"
      ],
      "text/plain": [
       "<Quantity(0.00923088028737329, '1 / nanometer')>"
      ]
     },
     "execution_count": 63,
     "metadata": {},
     "output_type": "execute_result"
    }
   ],
   "source": [
    "Kv8(integrand1v8, 0, sample1, omega, loc1, loc2, part=np.real).to('1/nm')"
   ]
  },
  {
   "cell_type": "code",
   "execution_count": 64,
   "id": "4c4a061d-9af1-4671-877c-13b0368c4e93",
   "metadata": {},
   "outputs": [
    {
     "name": "stdout",
     "output_type": "stream",
     "text": [
      "453 ms ± 22 ms per loop (mean ± std. dev. of 7 runs, 1 loop each)\n"
     ]
    }
   ],
   "source": [
    "%%timeit\n",
    "Kv8(integrand1v8, 0, sample1, omega, loc1, loc2, part=np.real)"
   ]
  },
  {
   "cell_type": "markdown",
   "id": "407ce9ed-b512-4613-b95e-aa847a2f314f",
   "metadata": {},
   "source": [
    "## $K_n$'s computed from uncompiled Python functions\n",
    "\n",
    "Computing the $\\text{Re}[K_0]$ value (one number) for a Type I sample using the `v8a` function takes about 800 ms.\n",
    "\n",
    "Computing the complex $K_0$, $K_1$, and $K_2$ values (six numbers)  for a Type I sample using the `v9a` function takes about 613 ms.  By parallelizing the computations of the $K_n$'s we have sped up the computations by a factor of approximately $(800 \\times 6)/1000 = 4.8$.  The running time are quite variable, so this factor is only an estimate.\n",
    "\n",
    "The time to compute the $K's$ is sample dependent, in this order: Type I > Type II > Type III >> Type IV.\n",
    "\n",
    "The Python function `Kmetal`, returning three unitless complex $K_{n}$ numbers for the Type IV (metal) sample, takes just 0.4 ms to run.  Blazingly fast, probably because the function uses only (compiled) `numpy` functions.  In contrast, the Python function `K`, doing the same computation for the Type I (semiconductor) sample, takes over 800 ms to run, a factor of 2000 longer!  \n",
    "\n",
    "Surprisingly, the runtime for `Kmetalunits` is 3.4 ms, nearly a factor of 10 longer than the runtime for `Kmetal`.  Does working with units slow you down?"
   ]
  },
  {
   "cell_type": "code",
   "execution_count": 65,
   "id": "33407eea-ff58-491b-b845-06eb7b074e79",
   "metadata": {},
   "outputs": [
    {
     "data": {
      "text/plain": [
       "array([0.92308803-0.00023051j, 0.85642218-0.0003009j ,\n",
       "       1.57311203-0.00058176j])"
      ]
     },
     "execution_count": 65,
     "metadata": {},
     "output_type": "execute_result"
    }
   ],
   "source": [
    "K(integrand1, sample1, omega, loc1, loc2)"
   ]
  },
  {
   "cell_type": "code",
   "execution_count": 66,
   "id": "949e9451-cf69-4b12-b2bb-e6bd4cdb3568",
   "metadata": {},
   "outputs": [
    {
     "name": "stdout",
     "output_type": "stream",
     "text": [
      "611 ms ± 72.7 ms per loop (mean ± std. dev. of 7 runs, 1 loop each)\n"
     ]
    }
   ],
   "source": [
    "%%timeit\n",
    "K(integrand1, sample1, omega, loc1, loc2)"
   ]
  },
  {
   "cell_type": "code",
   "execution_count": 67,
   "id": "1346cfff-d55e-4ef5-a211-2f04c1406d60",
   "metadata": {},
   "outputs": [
    {
     "data": {
      "text/plain": [
       "(<Quantity((0.009230880287373287-2.3050839017765616e-06j), '1 / nanometer')>,\n",
       " <Quantity((8.564221806744135e-05-3.008996480189856e-08j), '1 / nanometer ** 2')>,\n",
       " <Quantity((1.5731120310679616e-06-5.817587342422955e-10j), '1 / nanometer ** 3')>)"
      ]
     },
     "execution_count": 67,
     "metadata": {},
     "output_type": "execute_result"
    }
   ],
   "source": [
    "Kunits(integrand1, sample1, omega, loc1, loc2)"
   ]
  },
  {
   "cell_type": "code",
   "execution_count": 68,
   "id": "f6b96f0c-1240-4735-8d56-cbfff88831eb",
   "metadata": {},
   "outputs": [
    {
     "name": "stdout",
     "output_type": "stream",
     "text": [
      "578 ms ± 17 ms per loop (mean ± std. dev. of 7 runs, 1 loop each)\n"
     ]
    }
   ],
   "source": [
    "%%timeit\n",
    "Kunits(integrand1, sample1, omega, loc1, loc2)"
   ]
  },
  {
   "cell_type": "code",
   "execution_count": 69,
   "id": "5c9acae3-17f7-4f37-a89e-7e0423d15681",
   "metadata": {},
   "outputs": [
    {
     "name": "stdout",
     "output_type": "stream",
     "text": [
      "328 ms ± 21.4 ms per loop (mean ± std. dev. of 7 runs, 1 loop each)\n"
     ]
    }
   ],
   "source": [
    "%%timeit\n",
    "K(integrand2, sample2, omega, loc1, loc2)"
   ]
  },
  {
   "cell_type": "code",
   "execution_count": 70,
   "id": "28e5e278-7031-4d02-94fb-5d88d2b4130e",
   "metadata": {},
   "outputs": [
    {
     "name": "stdout",
     "output_type": "stream",
     "text": [
      "394 ms ± 114 ms per loop (mean ± std. dev. of 7 runs, 1 loop each)\n"
     ]
    }
   ],
   "source": [
    "%%timeit\n",
    "Kunits(integrand2, sample2, omega, loc1, loc2)"
   ]
  },
  {
   "cell_type": "code",
   "execution_count": 71,
   "id": "896b641a-c810-4377-aaf5-d3a7ab1ae164",
   "metadata": {},
   "outputs": [
    {
     "name": "stdout",
     "output_type": "stream",
     "text": [
      "323 ms ± 61.5 ms per loop (mean ± std. dev. of 7 runs, 1 loop each)\n"
     ]
    }
   ],
   "source": [
    "%%timeit\n",
    "K(integrand3, sample3, omega, loc1, loc2)"
   ]
  },
  {
   "cell_type": "code",
   "execution_count": 72,
   "id": "e6d1b81d-e9bb-4882-8849-a890b3ea670a",
   "metadata": {},
   "outputs": [
    {
     "name": "stdout",
     "output_type": "stream",
     "text": [
      "294 ms ± 27.7 ms per loop (mean ± std. dev. of 7 runs, 1 loop each)\n"
     ]
    }
   ],
   "source": [
    "%%timeit\n",
    "Kunits(integrand3, sample3, omega, loc1, loc2)"
   ]
  },
  {
   "cell_type": "code",
   "execution_count": 73,
   "id": "aae3aa47-8253-4e98-944d-a71cb7974bb3",
   "metadata": {},
   "outputs": [
    {
     "data": {
      "text/plain": [
       "((0.9759000729485332-0j), (0.929428640903365+0j), (1.7260817616776778-0j))"
      ]
     },
     "execution_count": 73,
     "metadata": {},
     "output_type": "execute_result"
    }
   ],
   "source": [
    "Kmetal(sample4, loc1, loc2)"
   ]
  },
  {
   "cell_type": "code",
   "execution_count": 74,
   "id": "738a2016-76c8-4d5c-ab9f-60ae6fdab228",
   "metadata": {},
   "outputs": [
    {
     "name": "stdout",
     "output_type": "stream",
     "text": [
      "152 μs ± 18.1 μs per loop (mean ± std. dev. of 7 runs, 10,000 loops each)\n"
     ]
    }
   ],
   "source": [
    "%%timeit\n",
    "Kmetal(sample4, loc1, loc2)"
   ]
  },
  {
   "cell_type": "code",
   "execution_count": 75,
   "id": "951e5a09-2269-44e8-ae1b-20191f6ceea5",
   "metadata": {},
   "outputs": [
    {
     "data": {
      "text/plain": [
       "(<Quantity((-0.009759000729485332-0j), '1 / nanometer')>,\n",
       " <Quantity((9.294286409033649e-05+0j), '1 / nanometer ** 2')>,\n",
       " <Quantity((1.7260817616776777e-06-0j), '1 / nanometer ** 3')>)"
      ]
     },
     "execution_count": 75,
     "metadata": {},
     "output_type": "execute_result"
    }
   ],
   "source": [
    "Kmetalunits(sample4, loc1, loc2)"
   ]
  },
  {
   "cell_type": "code",
   "execution_count": 76,
   "id": "dd099cfa-65b6-481e-af4d-f4ccdadba3f8",
   "metadata": {},
   "outputs": [
    {
     "name": "stdout",
     "output_type": "stream",
     "text": [
      "1.46 ms ± 131 μs per loop (mean ± std. dev. of 7 runs, 1,000 loops each)\n"
     ]
    }
   ],
   "source": [
    "%%timeit\n",
    "Kmetalunits(sample4, loc1, loc2)"
   ]
  },
  {
   "cell_type": "markdown",
   "id": "d330ae7d-026d-4d79-bcca-91a1cc3b58f7",
   "metadata": {},
   "source": [
    "Why is `Kmetal` a factor of 10 faster than `Kmetalunits`?  Units!  \n",
    "\n",
    "We can see this in the `cProfile.run()` outputs below.  Many milliseconds is spent on calls to the `quantity.py` package."
   ]
  },
  {
   "cell_type": "code",
   "execution_count": 77,
   "id": "491af61d-5dcb-413a-8281-8fa3798cf5b1",
   "metadata": {},
   "outputs": [
    {
     "name": "stdout",
     "output_type": "stream",
     "text": [
      "         3702 function calls (3693 primitive calls) in 0.004 seconds\n",
      "\n",
      "   Ordered by: cumulative time\n",
      "\n",
      "   ncalls  tottime  percall  cumtime  percall filename:lineno(function)\n",
      "        1    0.000    0.000    0.004    0.004 {built-in method builtins.exec}\n",
      "        1    0.000    0.000    0.004    0.004 <string>:1(<module>)\n",
      "        1    0.000    0.000    0.004    0.004 dissipation9a.py:607(Kmetalunits)\n",
      "       19    0.000    0.000    0.002    0.000 quantity.py:93(wrapped)\n",
      "       36    0.000    0.000    0.001    0.000 quantity.py:188(__new__)\n",
      "        3    0.000    0.000    0.001    0.000 quantity.py:516(to)\n",
      "       15    0.000    0.000    0.001    0.000 util.py:1031(to_units_container)\n",
      "        4    0.000    0.000    0.001    0.000 registry.py:59(parse_units_as_container)\n",
      "        4    0.000    0.000    0.001    0.000 registry.py:1214(parse_units_as_container)\n",
      "        4    0.000    0.000    0.001    0.000 registry.py:1228(_parse_units_as_container)\n",
      "        1    0.000    0.000    0.001    0.001 quantity.py:266(__setitem__)\n",
      "        3    0.000    0.000    0.001    0.000 registry.py:652(get_name)\n",
      "        9    0.000    0.000    0.001    0.000 quantity.py:74(wrapped)\n",
      "        6    0.000    0.000    0.001    0.000 quantity.py:60(__array_ufunc__)\n",
      "        9    0.000    0.000    0.001    0.000 quantity.py:938(_mul_div)\n",
      "        6    0.000    0.000    0.001    0.000 numpy_func.py:1055(numpy_wrap)\n",
      "        3    0.000    0.000    0.001    0.000 quantity.py:550(to_root_units)\n",
      "        7    0.000    0.000    0.001    0.000 quantity.py:1017(__mul__)\n",
      "        1    0.000    0.000    0.001    0.001 {built-in method math.isnan}\n",
      "        6    0.000    0.000    0.001    0.000 registry.py:1101(parse_unit_name)\n",
      "        2    0.000    0.000    0.001    0.000 quantity.py:336(dimensionless)\n",
      "        6    0.000    0.000    0.001    0.000 registry.py:1162(_dedup_candidates)\n",
      "        6    0.000    0.000    0.001    0.000 {built-in method fromkeys}\n",
      "       15    0.000    0.000    0.001    0.000 registry.py:1130(_yield_unit_triplets)\n",
      "        1    0.000    0.000    0.000    0.000 quantity.py:593(__float__)\n",
      "       80    0.000    0.000    0.000    0.000 util.py:965(__new__)\n",
      "        5    0.000    0.000    0.000    0.000 quantity.py:716(_add_sub)\n",
      "        5    0.000    0.000    0.000    0.000 numpy_func.py:514(_power)\n",
      "        5    0.000    0.000    0.000    0.000 quantity.py:1209(__pow__)\n",
      "        3    0.000    0.000    0.000    0.000 registry.py:693(get_symbol)\n",
      "       61    0.000    0.000    0.000    0.000 compat.py:282(is_upcast_type)\n",
      "        6    0.000    0.000    0.000    0.000 quantity.py:475(_convert_magnitude_not_inplace)\n",
      "        3    0.000    0.000    0.000    0.000 quantity.py:859(__sub__)\n",
      "       65    0.000    0.000    0.000    0.000 util.py:561(__hash__)\n",
      "        3    0.000    0.000    0.000    0.000 registry.py:868(_get_root_units)\n",
      "        1    0.000    0.000    0.000    0.000 quantity.py:1022(__matmul__)\n",
      "       54    0.000    0.000    0.000    0.000 compat.py:102(_to_magnitude)\n",
      "        6    0.000    0.000    0.000    0.000 registry.py:1017(convert)\n",
      "       35    0.000    0.000    0.000    0.000 {method 'items' of 'dict' objects}\n",
      "        2    0.000    0.000    0.000    0.000 quantity.py:845(__add__)\n",
      "        1    0.000    0.000    0.000    0.000 numpy_func.py:289(implementation)\n",
      "      877    0.000    0.000    0.000    0.000 {method 'startswith' of 'str' objects}\n",
      "       26    0.000    0.000    0.000    0.000 objects.py:22(_get_non_multiplicative_units)\n",
      "      502    0.000    0.000    0.000    0.000 {built-in method builtins.isinstance}\n",
      "       61    0.000    0.000    0.000    0.000 compat.py:263(check_upcast_type)\n",
      "        2    0.000    0.000    0.000    0.000 quantity.py:1041(__truediv__)\n",
      "        1    0.000    0.000    0.000    0.000 registry.py:361(_convert)\n",
      "  161/159    0.000    0.000    0.000    0.000 {built-in method builtins.hasattr}\n",
      "       61    0.000    0.000    0.000    0.000 compat.py:252(fully_qualified_name)\n",
      "       26    0.000    0.000    0.000    0.000 objects.py:24(<listcomp>)\n",
      "       17    0.000    0.000    0.000    0.000 registry.py:1416(UnitsContainer)\n",
      "        1    0.000    0.000    0.000    0.000 registry.py:215(_convert)\n",
      "       14    0.000    0.000    0.000    0.000 {built-in method _operator.mul}\n",
      "       27    0.000    0.000    0.000    0.000 util.py:574(__eq__)\n",
      "       12    0.000    0.000    0.000    0.000 quantity.py:345(dimensionality)\n",
      "        5    0.000    0.000    0.000    0.000 quantity.py:255(__getitem__)\n",
      "        1    0.000    0.000    0.000    0.000 numpy_func.py:141(get_op_output_unit)\n",
      "        9    0.000    0.000    0.000    0.000 util.py:625(__mul__)\n",
      "        1    0.000    0.000    0.000    0.000 quantity.py:79(_numpy_method_wrap)\n",
      "        9    0.000    0.000    0.000    0.000 registry.py:721(_get_dimensionality)\n",
      "        3    0.000    0.000    0.000    0.000 <string>:2(__init__)\n",
      "       17    0.000    0.000    0.000    0.000 util.py:452(__init__)\n",
      "       36    0.000    0.000    0.000    0.000 <frozen importlib._bootstrap>:1053(_handle_fromlist)\n",
      "       30    0.000    0.000    0.000    0.000 {built-in method builtins.any}\n",
      "       20    0.000    0.000    0.000    0.000 util.py:478(copy)\n",
      "        2    0.000    0.000    0.000    0.000 registry.py:138(_validate_and_extract)\n",
      "        3    0.000    0.000    0.000    0.000 definitions.py:133(__post_init__)\n",
      "       34    0.000    0.000    0.000    0.000 definitions.py:197(is_multiplicative)\n",
      "       20    0.000    0.000    0.000    0.000 __init__.py:996(__contains__)\n",
      "       20    0.000    0.000    0.000    0.000 util.py:616(__copy__)\n",
      "       36    0.000    0.000    0.000    0.000 <frozen importlib._bootstrap>:404(parent)\n",
      "        1    0.000    0.000    0.000    0.000 registry.py:1052(_convert)\n",
      "        2    0.000    0.000    0.000    0.000 quantity.py:1297(__neg__)\n",
      "       19    0.000    0.000    0.000    0.000 abc.py:117(__instancecheck__)\n",
      "       26    0.000    0.000    0.000    0.000 quantity.py:1439(_get_unit_definition)\n",
      "        2    0.000    0.000    0.000    0.000 registry.py:165(<listcomp>)\n",
      "        5    0.000    0.000    0.000    0.000 util.py:641(__pow__)\n",
      "        5    0.000    0.000    0.000    0.000 objects.py:17(_is_multiplicative)\n",
      "       49    0.000    0.000    0.000    0.000 __init__.py:976(__getitem__)\n",
      "        3    0.000    0.000    0.000    0.000 util.py:652(__truediv__)\n",
      "       35    0.000    0.000    0.000    0.000 {built-in method builtins.getattr}\n",
      "       49    0.000    0.000    0.000    0.000 util.py:549(__iter__)\n",
      "        1    0.000    0.000    0.000    0.000 registry.py:1183(parse_units)\n",
      "        2    0.000    0.000    0.000    0.000 unit.py:144(__mul__)\n",
      "      100    0.000    0.000    0.000    0.000 {built-in method __new__ of type object at 0x1090332a0}\n",
      "       21    0.000    0.000    0.000    0.000 _collections_abc.py:901(__iter__)\n",
      "        1    0.000    0.000    0.000    0.000 quantity.py:164(T)\n",
      "        6    0.000    0.000    0.000    0.000 compat.py:292(is_duck_array_type)\n",
      "        2    0.000    0.000    0.000    0.000 registry.py:110(_is_multiplicative)\n",
      "        1    0.000    0.000    0.000    0.000 quantity.py:139(ndim)\n",
      "       12    0.000    0.000    0.000    0.000 numpy_func.py:1069(<genexpr>)\n",
      "        5    0.000    0.000    0.000    0.000 quantity.py:317(units)\n",
      "        3    0.000    0.000    0.000    0.000 util.py:482(add)\n",
      "        1    0.000    0.000    0.000    0.000 quantity.py:219(__getattr__)\n",
      "    91/84    0.000    0.000    0.000    0.000 {built-in method builtins.len}\n",
      "       19    0.000    0.000    0.000    0.000 {built-in method _abc._abc_instancecheck}\n",
      "       48    0.000    0.000    0.000    0.000 quantity.py:147(force_ndarray)\n",
      "        1    0.000    0.000    0.000    0.000 numpy_func.py:67(_get_first_input_units)\n",
      "       16    0.000    0.000    0.000    0.000 util.py:975(_check)\n",
      "       14    0.000    0.000    0.000    0.000 _collections_abc.py:832(items)\n",
      "        4    0.000    0.000    0.000    0.000 {built-in method _operator.truediv}\n",
      "        1    0.000    0.000    0.000    0.000 numpy_func.py:105(convert_to_consistent_units)\n",
      "       48    0.000    0.000    0.000    0.000 quantity.py:151(force_ndarray_like)\n",
      "       20    0.000    0.000    0.000    0.000 util.py:428(copy)\n",
      "        3    0.000    0.000    0.000    0.000 {built-in method _operator.sub}\n",
      "        1    0.000    0.000    0.000    0.000 util.py:820(__eq__)\n",
      "       21    0.000    0.000    0.000    0.000 util.py:552(__len__)\n",
      "       36    0.000    0.000    0.000    0.000 registry.py:224(get)\n",
      "        6    0.000    0.000    0.000    0.000 quantity.py:66(<setcomp>)\n",
      "        1    0.000    0.000    0.000    0.000 {method 'copy' of 'numpy.ndarray' objects}\n",
      "       40    0.000    0.000    0.000    0.000 __init__.py:997(<genexpr>)\n",
      "       36    0.000    0.000    0.000    0.000 {method 'rpartition' of 'str' objects}\n",
      "        8    0.000    0.000    0.000    0.000 unit.py:36(__init__)\n",
      "        1    0.000    0.000    0.000    0.000 registry.py:831(_get_conversion_factor)\n",
      "       69    0.000    0.000    0.000    0.000 {method 'values' of 'dict' objects}\n",
      "       49    0.000    0.000    0.000    0.000 {built-in method builtins.iter}\n",
      "        3    0.000    0.000    0.000    0.000 numpy_func.py:115(<genexpr>)\n",
      "       12    0.000    0.000    0.000    0.000 _collections_abc.py:877(__iter__)\n",
      "        8    0.000    0.000    0.000    0.000 numpy_func.py:26(_is_quantity)\n",
      "        7    0.000    0.000    0.000    0.000 registry.py:263(<lambda>)\n",
      "        6    0.000    0.000    0.000    0.000 {built-in method builtins.issubclass}\n",
      "       20    0.000    0.000    0.000    0.000 registry.py:459(non_int_type)\n",
      "       15    0.000    0.000    0.000    0.000 {method 'mro' of 'type' objects}\n",
      "        2    0.000    0.000    0.000    0.000 numpy_func.py:78(convert_arg)\n",
      "       20    0.000    0.000    0.000    0.000 _collections_abc.py:854(__init__)\n",
      "       30    0.000    0.000    0.000    0.000 {method 'endswith' of 'str' objects}\n",
      "       34    0.000    0.000    0.000    0.000 converters.py:28(is_multiplicative)\n",
      "       10    0.000    0.000    0.000    0.000 util.py:555(__getitem__)\n",
      "        6    0.000    0.000    0.000    0.000 _collections_abc.py:828(keys)\n",
      "       11    0.000    0.000    0.000    0.000 objects.py:45(_ok_for_muldiv)\n",
      "        3    0.000    0.000    0.000    0.000 __init__.py:1033(__setitem__)\n",
      "        3    0.000    0.000    0.000    0.000 errors.py:51(_no_space)\n",
      "        7    0.000    0.000    0.000    0.000 registry.py:260(<lambda>)\n",
      "       12    0.000    0.000    0.000    0.000 {built-in method builtins.hash}\n",
      "        4    0.000    0.000    0.000    0.000 util.py:673(_normalize_nonfloat_value)\n",
      "        1    0.000    0.000    0.000    0.000 __init__.py:999(__bool__)\n",
      "        7    0.000    0.000    0.000    0.000 quantity.py:1479(UnitsContainer)\n",
      "       14    0.000    0.000    0.000    0.000 {method 'replace' of 'str' objects}\n",
      "        3    0.000    0.000    0.000    0.000 definitions.py:88(symbol)\n",
      "        6    0.000    0.000    0.000    0.000 {method 'pop' of 'dict' objects}\n",
      "        3    0.000    0.000    0.000    0.000 __init__.py:973(__missing__)\n",
      "        3    0.000    0.000    0.000    0.000 errors.py:38(is_dim)\n",
      "        1    0.000    0.000    0.000    0.000 errors.py:173(__init__)\n",
      "        4    0.000    0.000    0.000    0.000 quantity.py:298(m)\n",
      "        6    0.000    0.000    0.000    0.000 {method 'strip' of 'str' objects}\n",
      "        3    0.000    0.000    0.000    0.000 quantity.py:293(magnitude)\n",
      "        3    0.000    0.000    0.000    0.000 {method 'isidentifier' of 'str' objects}\n",
      "        2    0.000    0.000    0.000    0.000 {built-in method _operator.neg}\n",
      "        4    0.000    0.000    0.000    0.000 util.py:425(__missing__)\n",
      "        2    0.000    0.000    0.000    0.000 {built-in method _operator.add}\n",
      "        3    0.000    0.000    0.000    0.000 definitions.py:209(symbol)\n",
      "        1    0.000    0.000    0.000    0.000 {method 'disable' of '_lsprof.Profiler' objects}\n",
      "        1    0.000    0.000    0.000    0.000 numpy_func.py:116(<dictcomp>)\n",
      "\n",
      "\n"
     ]
    }
   ],
   "source": [
    "cProfile.run(\"Kmetalunits(sample4, loc1, loc2)\",sort='cumulative')"
   ]
  },
  {
   "cell_type": "code",
   "execution_count": null,
   "id": "2528f01c-9ce5-4c14-8ca4-f2cf4632d263",
   "metadata": {},
   "outputs": [],
   "source": []
  },
  {
   "cell_type": "markdown",
   "id": "632e5f45-ed8e-4377-98bc-2002deee43d4",
   "metadata": {},
   "source": [
    "::: {.content-hidden when-format=\"html\"}\n",
    "\n",
    "# Formatting notes\n",
    "\n",
    "The header at the top of this file is for creating a nicely-formatted `.html` document using the program `quarto` ([link](https://quarto.org/)).  To create nicely-formated `.html`versions of this notebook, run `quarto` from the command line as follows\n",
    "\n",
    "    quarto render dissipation-theory--Study-51.ipynb && open dissipation-theory--Study-51.html\n",
    "    \n",
    ":::"
   ]
  },
  {
   "cell_type": "code",
   "execution_count": null,
   "id": "38a5ae5c-58d5-4514-81bf-6e2c5506ecc7",
   "metadata": {},
   "outputs": [],
   "source": []
  }
 ],
 "metadata": {
  "kernelspec": {
   "display_name": "dissipationtheory",
   "language": "python",
   "name": "dissipationtheory"
  },
  "language_info": {
   "codemirror_mode": {
    "name": "ipython",
    "version": 3
   },
   "file_extension": ".py",
   "mimetype": "text/x-python",
   "name": "python",
   "nbconvert_exporter": "python",
   "pygments_lexer": "ipython3",
   "version": "3.10.2"
  }
 },
 "nbformat": 4,
 "nbformat_minor": 5
}
