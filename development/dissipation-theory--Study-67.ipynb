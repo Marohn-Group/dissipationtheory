{
 "cells": [
  {
   "cell_type": "raw",
   "id": "d22416a9",
   "metadata": {},
   "source": [
    "---\n",
    "title: Write `pytorch` functions, running on the GPU, for use in dissipationtheory\n",
    "author: \"John A. Marohn\"\n",
    "date: \n",
    "abstract: The goal of this study is to translate representative numba-compiled python functions, running on the CPU, to torch code, running on the GPU. Below I develop such code for computing (1) the Coulomb matrix and (2) the $K_n$ matrices for a Type III sample (a semi-infinite semiconductor). I begin by reproducing code for the integrand `rpIII_jit` from `dissipation13e.py`. I develop and time torch implementations of the Coulomb matrix calculation. The first implementation, suggested by GitHub Copilot running in Visual Studio Code, uses loops and is slow (48 ms for $21 \\times 21$ computations). The second implementation, writting using the `vmap` function, is fast (64 $\\mu$s for $21 \\times 21$ computations). I next created a torch function for computing the reflection coefficient $r_p$ and the $K_n$ integrals for a Type III sample. The torch `vmap` function was used to thread the $K_n$ integral function over the $r_k$ and $s_j$ matrices to create three matrices $K_0$, $K_1$, and $K_2$. The resulting function `KmatrixIII_torch`, threaded over $21 \\times 21$ values of ($r_k, s_j$), took 5.5 ms to run on the GPU. This compares favorably to the 7.4 ms run time of the function `KmatrixIII_jit` running on the CPU.\n",
    "toc: true\n",
    "number-sections: true\n",
    "highlight-style: pygments\n",
    "embed-resources: true\n",
    "dpi: 300\n",
    "format:\n",
    "    html:\n",
    "        html-math-method:\n",
    "          method: mathjax\n",
    "          url: \"https://cdn.jsdelivr.net/npm/mathjax@3/es5/tex-mml-chtml.js\"\n",
    "        code-fold: true\n",
    "        code-tools: true\n",
    "jupyter: python3\n",
    "---"
   ]
  },
  {
   "cell_type": "markdown",
   "id": "e5eb103c",
   "metadata": {},
   "source": [
    "# Preliminaries"
   ]
  },
  {
   "cell_type": "code",
   "execution_count": 1,
   "id": "ea119c98",
   "metadata": {},
   "outputs": [],
   "source": [
    "import sys\n",
    "import torch\n",
    "import numpy as np\n",
    "import time\n",
    "import scipy\n",
    "from scipy import integrate\n",
    "import time\n",
    "import pandas as pd\n",
    "from numba import jit\n",
    "from numba import complex128\n",
    "import cmath"
   ]
  },
  {
   "cell_type": "code",
   "execution_count": 2,
   "id": "90851ebf",
   "metadata": {},
   "outputs": [],
   "source": [
    "from dissipationtheory.constants import ureg, epsilon0, qe, kb, Troom\n",
    "from dissipationtheory.dissipation9a import CantileverModel, SampleModel1, SampleModel2, SampleModel3\n",
    "from dissipationtheory.dissipation9b import SampleModel1Jit, SampleModel2Jit, SampleModel3Jit\n",
    "from dissipationtheory.dissipation9b import integrand1jit, integrand2jit, integrand3jit\n",
    "from dissipationtheory.dissipation9b import K_jit, Kp\n",
    "from dissipationtheory.dissipation13e import rpI_jit, rpII_jit, rpIII_jit\n",
    "from dissipationtheory.dissipation13e import Cmatrix_jit, KmatrixI_jit, KmatrixII_jit, KmatrixIII_jit\n",
    "from dissipationtheory.dissipation13e import twodimCobject"
   ]
  },
  {
   "cell_type": "code",
   "execution_count": 3,
   "id": "32afad99",
   "metadata": {},
   "outputs": [],
   "source": [
    "import torch\n",
    "import numba as nb\n",
    "import timeit"
   ]
  },
  {
   "cell_type": "code",
   "execution_count": 4,
   "id": "8cc09909",
   "metadata": {},
   "outputs": [],
   "source": [
    "ans = {}\n",
    "args = {}\n",
    "rpIII = {}\n",
    "KnIII = {}"
   ]
  },
  {
   "cell_type": "code",
   "execution_count": 5,
   "id": "8f908523",
   "metadata": {},
   "outputs": [],
   "source": [
    "t = {}\n",
    "s = {}\n",
    "r = {}\n",
    "q = {}"
   ]
  },
  {
   "cell_type": "code",
   "execution_count": 189,
   "id": "90b2438a",
   "metadata": {},
   "outputs": [],
   "source": [
    "import matplotlib.pylab as plt\n",
    "import lmfit\n",
    "from lmfit.models import LinearModel"
   ]
  },
  {
   "cell_type": "code",
   "execution_count": 136,
   "id": "9534a5b1",
   "metadata": {},
   "outputs": [],
   "source": [
    "THIS = 'dissipation-theory--Study-67--'\n",
    "figs = {}"
   ]
  },
  {
   "cell_type": "markdown",
   "id": "c428284c",
   "metadata": {},
   "source": [
    "Print system version, system platform, and torch version."
   ]
  },
  {
   "cell_type": "code",
   "execution_count": 6,
   "id": "1590fc21",
   "metadata": {},
   "outputs": [
    {
     "name": "stdout",
     "output_type": "stream",
     "text": [
      "3.10.2 | packaged by conda-forge | (main, Mar  8 2022, 15:52:47) [Clang 11.1.0 ]\n",
      "darwin\n",
      "2.8.0\n"
     ]
    }
   ],
   "source": [
    "print(sys.version, sys.platform, torch.__version__, sep=\"\\n\")"
   ]
  },
  {
   "cell_type": "markdown",
   "id": "705a00ed",
   "metadata": {},
   "source": [
    "# Sample III integrand\n",
    "\n",
    "Test my bespoke integration scheme in `KmatrixIII_jit` against the packaged integration scheme in `integrate.quad_vec`.  \\\n",
    "Below I am adapting code from Study 64."
   ]
  },
  {
   "cell_type": "code",
   "execution_count": 7,
   "id": "c69ecdfd",
   "metadata": {},
   "outputs": [],
   "source": [
    "def comparetwoK(a, b, label='K'):\n",
    "    \n",
    "    for idx, (Ka, Kb) in enumerate(zip(a,b)):\n",
    "\n",
    "        err_real = (Ka.real-Kb.real)/Ka.real        \n",
    "        print('Re[{:}[{:d}]] {:+0.9e} vs {:+0.9e}, relative error = {:+3.2e}'.format(\n",
    "            label, idx, Ka.real, Kb.real, err_real))\n",
    "\n",
    "    print(\"\")\n",
    "    for idx, (Ka, Kb) in enumerate(zip(a,b)):\n",
    "        err_imag = (Ka.imag-Kb.imag)/Ka.imag\n",
    "        print('Im[{:}[{:d}]] {:+0.9e} vs {:+0.9e}, relative error = {:+3.2e}'.format(\n",
    "            label,idx, Ka.imag, Kb.imag, err_imag))   "
   ]
  },
  {
   "cell_type": "code",
   "execution_count": 8,
   "id": "6cfc6926",
   "metadata": {},
   "outputs": [],
   "source": [
    "omega = 1e5 * 2 * np.pi"
   ]
  },
  {
   "cell_type": "code",
   "execution_count": 9,
   "id": "e1fdbf46",
   "metadata": {},
   "outputs": [],
   "source": [
    "loc1_nm = np.array([  0,  0, 30], dtype=np.float64)\n",
    "loc2_nm = np.array([  0, 30, 30], dtype=np.float64)\n",
    "\n",
    "loc1_m = 1e-9 * loc1_nm\n",
    "loc2_m = 1e-9 * loc2_nm"
   ]
  },
  {
   "cell_type": "code",
   "execution_count": 10,
   "id": "d4f657fb",
   "metadata": {},
   "outputs": [],
   "source": [
    "zjkref = loc1_nm[2] + loc2_nm[2]\n",
    "x = np.sqrt((loc1_nm[0] - loc2_nm[0])**2 + (loc1_nm[1] - loc2_nm[1])**2) / zjkref"
   ]
  },
  {
   "cell_type": "code",
   "execution_count": 11,
   "id": "4a63c6fa",
   "metadata": {},
   "outputs": [],
   "source": [
    "cantilever = CantileverModel(\n",
    "    f_c = ureg.Quantity(62, 'kHz'),\n",
    "    k_c = ureg.Quantity(2.8, 'N/m'), \n",
    "    V_ts = ureg.Quantity(1, 'V'), \n",
    "    R = ureg.Quantity(60, 'nm'),\n",
    "    angle = ureg.Quantity(20, 'degree'),\n",
    "    L = ureg.Quantity(1000, 'nm'))\n",
    "\n",
    "sample3 = SampleModel3(\n",
    "    cantilever = cantilever,\n",
    "    epsilon_s = ureg.Quantity(complex(20, 0), ''),\n",
    "    sigma = ureg.Quantity(1e-6, 'S/m'),\n",
    "    rho = ureg.Quantity(1e19, '1/m^3'),\n",
    "    z_r = ureg.Quantity(1, 'nm'))\n",
    "\n",
    "sample3_jit = SampleModel3Jit(**sample3.args())\n",
    "\n",
    "params3_jit = {\n",
    "    'integrand': integrand3jit, \n",
    "    'sample': sample3_jit, \n",
    "    'omega': omega, \n",
    "    'location1': loc1_m, \n",
    "    'location2': loc2_m}"
   ]
  },
  {
   "cell_type": "code",
   "execution_count": 12,
   "id": "8ef3e2aa",
   "metadata": {},
   "outputs": [],
   "source": [
    "K0, K1, K2 = K_jit(**params3_jit)\n",
    "KnIII['K_jit'] = np.array([K0, K1, K2])"
   ]
  },
  {
   "cell_type": "code",
   "execution_count": 13,
   "id": "3594f7eb",
   "metadata": {},
   "outputs": [
    {
     "name": "stdout",
     "output_type": "stream",
     "text": [
      "1.4 ms ± 28.2 µs per loop (mean ± std. dev. of 7 runs, 1,000 loops each)\n"
     ]
    }
   ],
   "source": [
    "result = %timeit -o K_jit(**params3_jit)\n",
    "\n",
    "t[0] = {'method': 'K_jit',\n",
    "        'size': '1 x 1',\n",
    "        'time [us]': round(1e6 * result.average, 1)}"
   ]
  },
  {
   "cell_type": "code",
   "execution_count": 14,
   "id": "59d31f98",
   "metadata": {},
   "outputs": [],
   "source": [
    "def funcIII(y, x, omega, omega0, zr, kD, es):\n",
    "    \n",
    "    def t1(ell):\n",
    "        return y**ell\n",
    "    \n",
    "    t2 = rpIII_jit(y, omega, omega0, zr, kD, es)\n",
    "    t3 = scipy.special.j0(y * x) * np.exp(-y)\n",
    "                 \n",
    "    return np.array(\n",
    "        [np.real(t1(0) * t2 * t3) / zr,\n",
    "         np.imag(t1(0) * t2 * t3) / zr,\n",
    "         np.real(t1(1) * t2 * t3) / zr**2,\n",
    "         np.imag(t1(1) * t2 * t3) / zr**2,\n",
    "         np.real(t1(2) * t2 * t3) / zr**3,\n",
    "         np.imag(t1(2) * t2 * t3) / zr**3])"
   ]
  },
  {
   "cell_type": "code",
   "execution_count": 15,
   "id": "65bf8d2a",
   "metadata": {},
   "outputs": [],
   "source": [
    "KnIII['integrate.quad_vec'] = integrate.quad_vec(funcIII,\n",
    "    0., np.inf,\n",
    "    args=(x,\n",
    "        omega,\n",
    "        params3_jit['sample'].omega0,\n",
    "        zjkref,\n",
    "        params3_jit['sample'].kD,\n",
    "        params3_jit['sample'].epsilon_s))[0] @ Kp"
   ]
  },
  {
   "cell_type": "code",
   "execution_count": 16,
   "id": "ae8e7440",
   "metadata": {},
   "outputs": [
    {
     "name": "stdout",
     "output_type": "stream",
     "text": [
      "1.65 ms ± 18.5 µs per loop (mean ± std. dev. of 7 runs, 1,000 loops each)\n"
     ]
    }
   ],
   "source": [
    "result = %timeit -o integrate.quad_vec(funcIII, \\\n",
    "    0., np.inf, \\\n",
    "    args=(x, \\\n",
    "        omega, \\\n",
    "        params3_jit['sample'].omega0, \\\n",
    "        zjkref, \\\n",
    "        params3_jit['sample'].kD, \\\n",
    "        params3_jit['sample'].epsilon_s))[0] @ Kp\n",
    "\n",
    "t[1] = {'method': 'integrate.quad_vec',\n",
    "        'size': '1 x 1',\n",
    "        'time [us]': round(1e6 * result.average, 1)}"
   ]
  },
  {
   "cell_type": "code",
   "execution_count": 17,
   "id": "6cee90ba",
   "metadata": {},
   "outputs": [
    {
     "name": "stdout",
     "output_type": "stream",
     "text": [
      "Re[K[0]] +1.348928697e-02 vs +1.348928697e-02, relative error = -2.57e-16\n",
      "Re[K[1]] +1.798456068e-04 vs +1.798456068e-04, relative error = +3.01e-16\n",
      "Re[K[2]] +4.196239541e-06 vs +4.196239541e-06, relative error = +0.00e+00\n",
      "\n",
      "Im[K[0]] -2.954071435e-06 vs -2.954071435e-06, relative error = +5.26e-13\n",
      "Im[K[1]] -8.507080519e-09 vs -8.507080519e-09, relative error = +9.23e-13\n",
      "Im[K[2]] -4.496627345e-11 vs -4.496627345e-11, relative error = +1.46e-13\n"
     ]
    }
   ],
   "source": [
    "comparetwoK(KnIII['K_jit'], KnIII['integrate.quad_vec'])"
   ]
  },
  {
   "cell_type": "code",
   "execution_count": 18,
   "id": "54639908",
   "metadata": {},
   "outputs": [],
   "source": [
    "j0s = scipy.special.jn_zeros(0,100.)\n",
    "an, _ = scipy.integrate.newton_cotes(20, 1)"
   ]
  },
  {
   "cell_type": "code",
   "execution_count": 19,
   "id": "3023f3f2",
   "metadata": {},
   "outputs": [],
   "source": [
    "args['KmatrixIII_jit'] = {'omega': omega, \n",
    "    'omega0': params3_jit['sample'].omega0,\n",
    "    'kD': params3_jit['sample'].kD,\n",
    "    'es': params3_jit['sample'].epsilon_s, \n",
    "    'sj': np.array([loc1_nm]), # change from list to np.array to avoid deprication warning\n",
    "    'rk': np.array([loc2_nm]), \n",
    "    'j0s': j0s, \n",
    "    'an': an,\n",
    "    'verbose': False,\n",
    "    'breakpoints': 10}\n",
    "\n",
    "K0, K1, K2 = KmatrixIII_jit(**args['KmatrixIII_jit'])\n",
    "KnIII['KmatrixIII_jit'] = np.array([K0[0][0], K1[0][0], K2[0][0]])"
   ]
  },
  {
   "cell_type": "code",
   "execution_count": 20,
   "id": "c627b828",
   "metadata": {},
   "outputs": [
    {
     "name": "stdout",
     "output_type": "stream",
     "text": [
      "16.5 µs ± 453 ns per loop (mean ± std. dev. of 7 runs, 100,000 loops each)\n"
     ]
    }
   ],
   "source": [
    "result = %timeit -o KmatrixIII_jit(**args['KmatrixIII_jit'])\n",
    "\n",
    "t[2] = {'method': 'KmatrixIII_jit',\n",
    "        'size': '1 x 1',\n",
    "        'time [us]': round(1e6 * result.average,1) }"
   ]
  },
  {
   "cell_type": "code",
   "execution_count": 21,
   "id": "c13493fd",
   "metadata": {},
   "outputs": [
    {
     "name": "stdout",
     "output_type": "stream",
     "text": [
      "Re[K[0]] +1.348928697e-02 vs +1.348928722e-02, relative error = -1.81e-08\n",
      "Re[K[1]] +1.798456068e-04 vs +1.798456093e-04, relative error = -1.39e-08\n",
      "Re[K[2]] +4.196239541e-06 vs +4.196240324e-06, relative error = -1.87e-07\n",
      "\n",
      "Im[K[0]] -2.954071435e-06 vs -2.954248235e-06, relative error = -5.98e-05\n",
      "Im[K[1]] -8.507080519e-09 vs -8.509129104e-09, relative error = -2.41e-04\n",
      "Im[K[2]] -4.496627345e-11 vs -4.497679215e-11, relative error = -2.34e-04\n"
     ]
    }
   ],
   "source": [
    "comparetwoK(KnIII['K_jit'], KnIII['KmatrixIII_jit'])"
   ]
  },
  {
   "cell_type": "markdown",
   "id": "15bb91a1",
   "metadata": {},
   "source": [
    "Print out the estimated computation time."
   ]
  },
  {
   "cell_type": "code",
   "execution_count": 22,
   "id": "00de4c73",
   "metadata": {},
   "outputs": [],
   "source": [
    "def summarize_times(t):\n",
    "    \n",
    "    df = pd.DataFrame(t)\n",
    "    pd.set_option('display.precision', 3)\n",
    "    display(df.transpose())"
   ]
  },
  {
   "cell_type": "code",
   "execution_count": 23,
   "id": "00e6594b",
   "metadata": {},
   "outputs": [
    {
     "data": {
      "text/html": [
       "<div>\n",
       "<style scoped>\n",
       "    .dataframe tbody tr th:only-of-type {\n",
       "        vertical-align: middle;\n",
       "    }\n",
       "\n",
       "    .dataframe tbody tr th {\n",
       "        vertical-align: top;\n",
       "    }\n",
       "\n",
       "    .dataframe thead th {\n",
       "        text-align: right;\n",
       "    }\n",
       "</style>\n",
       "<table border=\"1\" class=\"dataframe\">\n",
       "  <thead>\n",
       "    <tr style=\"text-align: right;\">\n",
       "      <th></th>\n",
       "      <th>method</th>\n",
       "      <th>size</th>\n",
       "      <th>time [us]</th>\n",
       "    </tr>\n",
       "  </thead>\n",
       "  <tbody>\n",
       "    <tr>\n",
       "      <th>0</th>\n",
       "      <td>K_jit</td>\n",
       "      <td>1 x 1</td>\n",
       "      <td>1403.8</td>\n",
       "    </tr>\n",
       "    <tr>\n",
       "      <th>1</th>\n",
       "      <td>integrate.quad_vec</td>\n",
       "      <td>1 x 1</td>\n",
       "      <td>1652.0</td>\n",
       "    </tr>\n",
       "    <tr>\n",
       "      <th>2</th>\n",
       "      <td>KmatrixIII_jit</td>\n",
       "      <td>1 x 1</td>\n",
       "      <td>16.5</td>\n",
       "    </tr>\n",
       "  </tbody>\n",
       "</table>\n",
       "</div>"
      ],
      "text/plain": [
       "               method   size time [us]\n",
       "0               K_jit  1 x 1    1403.8\n",
       "1  integrate.quad_vec  1 x 1    1652.0\n",
       "2      KmatrixIII_jit  1 x 1      16.5"
      ]
     },
     "metadata": {},
     "output_type": "display_data"
    }
   ],
   "source": [
    "summarize_times(t)"
   ]
  },
  {
   "cell_type": "markdown",
   "id": "17358fb4",
   "metadata": {},
   "source": [
    "# Explore `torch` "
   ]
  },
  {
   "cell_type": "markdown",
   "id": "d50a955c",
   "metadata": {},
   "source": [
    "## Reproduce code for the integrand `rpIII_jit` from `dissipation13e.py`."
   ]
  },
  {
   "cell_type": "code",
   "execution_count": 24,
   "id": "7f051099",
   "metadata": {},
   "outputs": [],
   "source": [
    "@jit(complex128(complex128), nopython=True)\n",
    "def mysech_jit(x):\n",
    "    \"\"\"Define my own just-in-time-compiled ``sech()`` function to avoid overflow problems.\"\"\"\n",
    "    if x.real < 710.4:\n",
    "        return 1/np.cosh(x)\n",
    "    else:\n",
    "        return complex(0., 0.)\n",
    "    \n",
    "@jit(complex128(complex128), nopython=True)\n",
    "def mycsch_jit(x):\n",
    "    \"\"\"Define my own just-in-time-compiled ``csch()`` function to avoid overflow problems.\"\"\"\n",
    "    if x.real < 710.4:\n",
    "        return 1/np.sinh(x)\n",
    "    else:\n",
    "        return complex(0., 0.,)"
   ]
  },
  {
   "cell_type": "code",
   "execution_count": 25,
   "id": "f85bccb1",
   "metadata": {},
   "outputs": [],
   "source": [
    "@jit(nopython=True)\n",
    "def rpIII_jit(y, omega, omega0, zr, kD, es):\n",
    "    \"\"\"Fresnel coefficient for Sample III object:\n",
    "\n",
    "        cantilever | vacuum gap | semiconductor (semi-infinite)\n",
    "    \n",
    "    In the code below, `y` is the unitless integration variable.\n",
    "    \"\"\"\n",
    "\n",
    "    Omega = omega/omega0\n",
    "    k_over_eta = y / np.sqrt(y**2 + (zr * 1e-9 * kD)**2 * (1/es + complex(0,1) * Omega))\n",
    "\n",
    "    p0 = 1 + complex(0,1) * es * Omega\n",
    "    p1 = k_over_eta / (es * p0)\n",
    "    p6 = complex(0,1) * Omega / p0\n",
    "\n",
    "    theta_norm = p6 + p1\n",
    "    rp = (1 - theta_norm) / (1 + theta_norm)\n",
    " \n",
    "    return rp"
   ]
  },
  {
   "cell_type": "code",
   "execution_count": 26,
   "id": "9a964337",
   "metadata": {},
   "outputs": [],
   "source": [
    "args['rpIII_jit'] = {'y': 2.0, \n",
    "    'omega': omega, \n",
    "    'omega0': params3_jit['sample'].omega0,\n",
    "    'zr': zjkref,\n",
    "    'kD': params3_jit['sample'].kD,\n",
    "    'es': params3_jit['sample'].epsilon_s}\n",
    "\n",
    "rpIII['rpIII_jit'] = rpIII_jit(**args['rpIII_jit'])"
   ]
  },
  {
   "cell_type": "code",
   "execution_count": 27,
   "id": "f2549784",
   "metadata": {},
   "outputs": [
    {
     "data": {
      "text/plain": [
       "(0.9047761752595673-3.749396688201587e-07j)"
      ]
     },
     "execution_count": 27,
     "metadata": {},
     "output_type": "execute_result"
    }
   ],
   "source": [
    "rpIII['rpIII_jit']"
   ]
  },
  {
   "cell_type": "code",
   "execution_count": 28,
   "id": "cc50675d",
   "metadata": {},
   "outputs": [
    {
     "name": "stdout",
     "output_type": "stream",
     "text": [
      "225 ns ± 0.915 ns per loop (mean ± std. dev. of 7 runs, 1,000,000 loops each)\n"
     ]
    }
   ],
   "source": [
    "%%timeit\n",
    "rpIII_jit(**args['rpIII_jit'])"
   ]
  },
  {
   "cell_type": "code",
   "execution_count": 29,
   "id": "3372dd5a",
   "metadata": {},
   "outputs": [
    {
     "name": "stdout",
     "output_type": "stream",
     "text": [
      "228 ns ± 1.43 ns per loop (mean ± std. dev. of 7 runs, 1,000,000 loops each)\n"
     ]
    }
   ],
   "source": [
    "result = %timeit -o rpIII_jit(**args['rpIII_jit'])\n",
    "\n",
    "s[1] = {'method': 'rpIII_jit',\n",
    "        'points': 1,\n",
    "        'time [us]': round(1e6 * result.average, 2)}"
   ]
  },
  {
   "cell_type": "code",
   "execution_count": 30,
   "id": "d98b46cb",
   "metadata": {},
   "outputs": [
    {
     "data": {
      "text/html": [
       "<div>\n",
       "<style scoped>\n",
       "    .dataframe tbody tr th:only-of-type {\n",
       "        vertical-align: middle;\n",
       "    }\n",
       "\n",
       "    .dataframe tbody tr th {\n",
       "        vertical-align: top;\n",
       "    }\n",
       "\n",
       "    .dataframe thead th {\n",
       "        text-align: right;\n",
       "    }\n",
       "</style>\n",
       "<table border=\"1\" class=\"dataframe\">\n",
       "  <thead>\n",
       "    <tr style=\"text-align: right;\">\n",
       "      <th></th>\n",
       "      <th>method</th>\n",
       "      <th>points</th>\n",
       "      <th>time [us]</th>\n",
       "    </tr>\n",
       "  </thead>\n",
       "  <tbody>\n",
       "    <tr>\n",
       "      <th>1</th>\n",
       "      <td>rpIII_jit</td>\n",
       "      <td>1</td>\n",
       "      <td>0.23</td>\n",
       "    </tr>\n",
       "  </tbody>\n",
       "</table>\n",
       "</div>"
      ],
      "text/plain": [
       "      method points time [us]\n",
       "1  rpIII_jit      1      0.23"
      ]
     },
     "metadata": {},
     "output_type": "display_data"
    }
   ],
   "source": [
    "summarize_times(s)"
   ]
  },
  {
   "cell_type": "markdown",
   "id": "5bee6971",
   "metadata": {},
   "source": [
    "Based on these timings, we'd expect the following number of function calls for `rpIII_jit` function calls from `KmatrixIII_jit`."
   ]
  },
  {
   "cell_type": "code",
   "execution_count": 31,
   "id": "92bbf9a5",
   "metadata": {},
   "outputs": [
    {
     "data": {
      "text/plain": [
       "46.246246246246244"
      ]
     },
     "execution_count": 31,
     "metadata": {},
     "output_type": "execute_result"
    }
   ],
   "source": [
    "15.4 * 1000 / 333"
   ]
  },
  {
   "cell_type": "markdown",
   "id": "4b83de8b",
   "metadata": {},
   "source": [
    "This is in reasonable agreement with (and actually better than) the expected number of operations, $21 \\times 10 = 210$."
   ]
  },
  {
   "cell_type": "markdown",
   "id": "6eddc213",
   "metadata": {},
   "source": [
    "## Torch implementation of the Coulomb matrix calculation"
   ]
  },
  {
   "cell_type": "markdown",
   "id": "02f03dc5",
   "metadata": {},
   "source": [
    "Start with implimenting the unitless Coulomb matrix, `Cmatrix`, in pytorch.  \\\n",
    "Get some vectors to play with."
   ]
  },
  {
   "cell_type": "code",
   "execution_count": 32,
   "id": "dce84012",
   "metadata": {},
   "outputs": [],
   "source": [
    "cantilever = CantileverModel(\n",
    "    f_c = ureg.Quantity(60.360, 'kHz'),\n",
    "    k_c = ureg.Quantity(2.8, 'N/m'), \n",
    "    V_ts = ureg.Quantity(1, 'V'), \n",
    "    R = ureg.Quantity(57, 'nm'),\n",
    "    angle = ureg.Quantity(24.2, 'degree'),\n",
    "    L = ureg.Quantity(2250, 'nm'))\n",
    "\n",
    "sample3 = SampleModel3(\n",
    "    cantilever = cantilever,\n",
    "    epsilon_s = ureg.Quantity(complex(18.2, -0.1), ''),\n",
    "    sigma = ureg.Quantity(9.7e-7, 'S/cm'),\n",
    "    rho = ureg.Quantity(1.9e15, '1/cm^3'),\n",
    "    z_r = ureg.Quantity(1, 'nm'))\n",
    "\n",
    "sample3_jit = SampleModel3Jit(**sample3.args())\n",
    "\n",
    "obj = twodimCobject(sample3_jit)\n",
    "obj.addtip(h=ureg.Quantity(200, 'nm'))"
   ]
  },
  {
   "cell_type": "code",
   "execution_count": 33,
   "id": "97a69190",
   "metadata": {},
   "outputs": [
    {
     "data": {
      "text/plain": [
       "(array([[   0.        ,    0.        ,  200.        ],\n",
       "        [  30.96094365,    0.        ,  209.14166772],\n",
       "        [  51.99084662,    0.        ,  233.63438707],\n",
       "        [  63.91215708,    0.        ,  260.16050584],\n",
       "        [  69.59370765,    0.        ,  272.80252918],\n",
       "        [  80.95680878,    0.        ,  298.08657588],\n",
       "        [  98.00146049,    0.        ,  336.01264591],\n",
       "        [ 120.72766276,    0.        ,  386.5807393 ],\n",
       "        [ 149.1354156 ,    0.        ,  449.79085603],\n",
       "        [ 183.22471901,    0.        ,  525.64299611],\n",
       "        [ 222.99557298,    0.        ,  614.13715953],\n",
       "        [ 268.44797752,    0.        ,  715.2733463 ],\n",
       "        [ 319.58193263,    0.        ,  829.05155642],\n",
       "        [ 376.39743831,    0.        ,  955.47178988],\n",
       "        [ 438.89449456,    0.        , 1094.53404669],\n",
       "        [ 507.07310137,    0.        , 1246.23832685],\n",
       "        [ 580.93325876,    0.        , 1410.58463035],\n",
       "        [ 660.47496671,    0.        , 1587.5729572 ],\n",
       "        [ 745.69822523,    0.        , 1777.20330739],\n",
       "        [ 836.60303431,    0.        , 1979.47568093],\n",
       "        [ 933.18939397,    0.        , 2194.39007782]]),\n",
       " array([[   0.        ,    0.        ,  250.59928172],\n",
       "        [   0.        ,    0.        ,  250.67898833],\n",
       "        [   0.        ,    0.        ,  257.        ],\n",
       "        [   0.        ,    0.        ,  263.32101167],\n",
       "        [   0.        ,    0.        ,  282.28404669],\n",
       "        [   0.        ,    0.        ,  313.88910506],\n",
       "        [   0.        ,    0.        ,  358.13618677],\n",
       "        [   0.        ,    0.        ,  415.02529183],\n",
       "        [   0.        ,    0.        ,  484.55642023],\n",
       "        [   0.        ,    0.        ,  566.72957198],\n",
       "        [   0.        ,    0.        ,  661.54474708],\n",
       "        [   0.        ,    0.        ,  769.00194553],\n",
       "        [   0.        ,    0.        ,  889.10116732],\n",
       "        [   0.        ,    0.        , 1021.84241245],\n",
       "        [   0.        ,    0.        , 1167.22568093],\n",
       "        [   0.        ,    0.        , 1325.25097276],\n",
       "        [   0.        ,    0.        , 1495.91828794],\n",
       "        [   0.        ,    0.        , 1679.22762646],\n",
       "        [   0.        ,    0.        , 1875.17898833],\n",
       "        [   0.        ,    0.        , 2083.77237354],\n",
       "        [   0.        ,    0.        , 2305.0077821 ]]))"
      ]
     },
     "execution_count": 33,
     "metadata": {},
     "output_type": "execute_result"
    }
   ],
   "source": [
    "(obj.sj, obj.rk)"
   ]
  },
  {
   "cell_type": "markdown",
   "id": "89b10399",
   "metadata": {},
   "source": [
    "The `Cmatrix_jit` function executes on 21 x 21 inputs in 35 microseconds."
   ]
  },
  {
   "cell_type": "code",
   "execution_count": 34,
   "id": "dcd33758",
   "metadata": {},
   "outputs": [
    {
     "data": {
      "text/plain": [
       "(21, 21)"
      ]
     },
     "execution_count": 34,
     "metadata": {},
     "output_type": "execute_result"
    }
   ],
   "source": [
    "C0 = Cmatrix_jit(obj.sj, obj.rk)\n",
    "C0.shape"
   ]
  },
  {
   "cell_type": "code",
   "execution_count": 35,
   "id": "0f10b5b9",
   "metadata": {},
   "outputs": [
    {
     "name": "stdout",
     "output_type": "stream",
     "text": [
      "36.1 µs ± 396 ns per loop (mean ± std. dev. of 7 runs, 10,000 loops each)\n"
     ]
    }
   ],
   "source": [
    "result = %timeit -o Cmatrix_jit(obj.sj, obj.rk)\n",
    "\n",
    "r[0] = {'method': 'Cmatrix_jit',\n",
    "        'notes': '',\n",
    "        'size': '21 x 21',\n",
    "        'time [us]': round(1e6 * result.average,1) }"
   ]
  },
  {
   "cell_type": "markdown",
   "id": "45d106c0",
   "metadata": {},
   "source": [
    "A function to get the available devices."
   ]
  },
  {
   "cell_type": "code",
   "execution_count": 36,
   "id": "6e249eac",
   "metadata": {},
   "outputs": [],
   "source": [
    "def get_device(verbose=False):\n",
    "    \"\"\"Select the device to use for tensor computations.  \n",
    "    Try CUDA/NVIDIA, then MPS, then CPU.\"\"\"\n",
    "\n",
    "    if torch.cuda.is_available():\n",
    "        device = torch.device(\"cuda\")\n",
    "        if verbose:\n",
    "            print(\"Using GPU:\", torch.cuda.get_device_name(0))\n",
    "    else:\n",
    "        if torch.backends.mps.is_available():\n",
    "            device = torch.device(\"mps\")\n",
    "            if verbose:\n",
    "                print(\"Using MPS (Apple Silicon GPU)\")\n",
    "        else:\n",
    "            device = torch.device(\"cpu\") \n",
    "            if verbose:\n",
    "                print(\"Using CPU\")\n",
    "    \n",
    "    return device"
   ]
  },
  {
   "cell_type": "code",
   "execution_count": 37,
   "id": "2d6c9e8f",
   "metadata": {},
   "outputs": [
    {
     "name": "stdout",
     "output_type": "stream",
     "text": [
      "Using MPS (Apple Silicon GPU)\n"
     ]
    }
   ],
   "source": [
    "device = get_device(verbose=True)"
   ]
  },
  {
   "cell_type": "markdown",
   "id": "af5dce20",
   "metadata": {},
   "source": [
    "Use the torch function suggested by Visual Studio Codes' AI. "
   ]
  },
  {
   "cell_type": "code",
   "execution_count": 38,
   "id": "54f885b1",
   "metadata": {},
   "outputs": [],
   "source": [
    "torch.set_printoptions(precision=8)"
   ]
  },
  {
   "cell_type": "code",
   "execution_count": 39,
   "id": "83fed23e",
   "metadata": {},
   "outputs": [],
   "source": [
    "@torch.compile\n",
    "def Cmatrix_torch(sj, rk, device):\n",
    "    \"\"\"Torch-compatible unitless Coulomb potential Green's function matrix.\"\"\"\n",
    "    sj = torch.as_tensor(sj.astype(np.float32), device=device)\n",
    "    rk = torch.as_tensor(rk.astype(np.float32), device=device)\n",
    "    result = torch.zeros((sj.shape[0], rk.shape[0]), dtype=sj.dtype)\n",
    "    for j, sje in enumerate(sj):\n",
    "        for k, rke in enumerate(rk):\n",
    "            result[j, k] = 1 / torch.linalg.norm(sje - rke)\n",
    "    return result"
   ]
  },
  {
   "cell_type": "markdown",
   "id": "c16059e0",
   "metadata": {},
   "source": [
    "The torch function returns the right-sized object."
   ]
  },
  {
   "cell_type": "code",
   "execution_count": 40,
   "id": "814aaf93",
   "metadata": {},
   "outputs": [
    {
     "data": {
      "text/plain": [
       "torch.Size([21, 21])"
      ]
     },
     "execution_count": 40,
     "metadata": {},
     "output_type": "execute_result"
    }
   ],
   "source": [
    "C1 = Cmatrix_torch(obj.sj, obj.rk, device)\n",
    "C1.shape"
   ]
  },
  {
   "cell_type": "markdown",
   "id": "e54ba20c",
   "metadata": {},
   "source": [
    "The torch function gives the expected result."
   ]
  },
  {
   "cell_type": "code",
   "execution_count": 41,
   "id": "0715346b",
   "metadata": {},
   "outputs": [
    {
     "data": {
      "text/plain": [
       "True"
      ]
     },
     "execution_count": 41,
     "metadata": {},
     "output_type": "execute_result"
    }
   ],
   "source": [
    "C1 = Cmatrix_torch(obj.sj, obj.rk, device).cpu().numpy()\n",
    "np.allclose(C0, C1)"
   ]
  },
  {
   "cell_type": "markdown",
   "id": "ce390e53",
   "metadata": {},
   "source": [
    "The *compiled* torch code is 1000-fold slower than my numba-compiled function `Cmatrix_jit`.  \\\n",
    "Ouch!"
   ]
  },
  {
   "cell_type": "code",
   "execution_count": 42,
   "id": "1c23539d",
   "metadata": {},
   "outputs": [
    {
     "name": "stdout",
     "output_type": "stream",
     "text": [
      "47.8 ms ± 134 µs per loop (mean ± std. dev. of 7 runs, 10 loops each)\n"
     ]
    }
   ],
   "source": [
    "result = %timeit -o Cmatrix_torch(obj.sj, obj.rk, device)\n",
    "\n",
    "r[1] = {'method': 'Cmatrix_torch',\n",
    "        'notes': 'loops',\n",
    "        'size': '21 x 21',\n",
    "        'time [us]': round(1e6 * result.average,1) }"
   ]
  },
  {
   "cell_type": "markdown",
   "id": "7dc9fdff",
   "metadata": {},
   "source": [
    "However, the function has loops. \\\n",
    "See if we can make a faster torch function."
   ]
  },
  {
   "cell_type": "markdown",
   "id": "861b9a21",
   "metadata": {},
   "source": [
    "Ok, create a torch function in a different way. \\\n",
    "Write a function for two vectors, and then `vmap` it."
   ]
  },
  {
   "cell_type": "code",
   "execution_count": 43,
   "id": "045e23a3",
   "metadata": {},
   "outputs": [],
   "source": [
    "sj_torch = torch.as_tensor(obj.sj.astype(np.float32), device=device)\n",
    "rk_torch = torch.as_tensor(obj.rk.astype(np.float32), device=device)"
   ]
  },
  {
   "cell_type": "markdown",
   "id": "b94c8acb",
   "metadata": {},
   "source": [
    "Look at the shape of the resulting tensors."
   ]
  },
  {
   "cell_type": "code",
   "execution_count": 44,
   "id": "886e072c",
   "metadata": {},
   "outputs": [
    {
     "data": {
      "text/plain": [
       "(torch.Size([21, 3]), torch.Size([21, 3]))"
      ]
     },
     "execution_count": 44,
     "metadata": {},
     "output_type": "execute_result"
    }
   ],
   "source": [
    "(sj_torch.shape, rk_torch.shape)"
   ]
  },
  {
   "cell_type": "markdown",
   "id": "91c539e8",
   "metadata": {},
   "source": [
    "Define a function to compute the unitless Coulomb function for two vectors."
   ]
  },
  {
   "cell_type": "code",
   "execution_count": 45,
   "id": "d711d8eb",
   "metadata": {},
   "outputs": [],
   "source": [
    "def C_torch(sj, rk):\n",
    "    return 1/torch.linalg.vector_norm(sj - rk)"
   ]
  },
  {
   "cell_type": "code",
   "execution_count": 46,
   "id": "e514814c",
   "metadata": {},
   "outputs": [],
   "source": [
    "_ = C_torch(sj_torch[0], rk_torch[0])"
   ]
  },
  {
   "cell_type": "markdown",
   "id": "6d73dc8b",
   "metadata": {},
   "source": [
    "This function is quite fast."
   ]
  },
  {
   "cell_type": "code",
   "execution_count": 47,
   "id": "6b42fc2e",
   "metadata": {},
   "outputs": [
    {
     "name": "stdout",
     "output_type": "stream",
     "text": [
      "29.8 µs ± 209 ns per loop (mean ± std. dev. of 7 runs, 10,000 loops each)\n"
     ]
    }
   ],
   "source": [
    "result = %timeit -o C_torch(sj_torch[0], rk_torch[0])\n",
    "\n",
    "r[2] = {'method': 'Cmatrix_torch',\n",
    "        'notes': 'uncompiled',\n",
    "        'size': '1 x 1',\n",
    "        'time [us]': round(1e6 * result.average,1)}"
   ]
  },
  {
   "cell_type": "code",
   "execution_count": 48,
   "id": "f684f844",
   "metadata": {},
   "outputs": [],
   "source": [
    "@torch.compile\n",
    "def C_torch(sj, rk):\n",
    "    return 1/torch.linalg.vector_norm(sj - rk)"
   ]
  },
  {
   "cell_type": "code",
   "execution_count": 49,
   "id": "81db9c4e",
   "metadata": {},
   "outputs": [],
   "source": [
    "_ = C_torch(sj_torch[0], rk_torch[0])"
   ]
  },
  {
   "cell_type": "code",
   "execution_count": 50,
   "id": "4dd3ebc9",
   "metadata": {},
   "outputs": [
    {
     "name": "stdout",
     "output_type": "stream",
     "text": [
      "13 µs ± 14.1 ns per loop (mean ± std. dev. of 7 runs, 100,000 loops each)\n"
     ]
    }
   ],
   "source": [
    "result = %timeit -o C_torch(sj_torch[0], rk_torch[0])\n",
    "\n",
    "r[3] = {'method': 'Cmatrix_torch',\n",
    "        'notes': 'compiled',\n",
    "        'size': '1 x 1',\n",
    "        'time [us]': round(1e6 * result.average,1)}"
   ]
  },
  {
   "cell_type": "markdown",
   "id": "3ef9e365",
   "metadata": {},
   "source": [
    "Applying this function to two vectors, we get the expected result. \\\n",
    "Remember that we have to pull the result back from the GPU onto the CPU and convert the a numpy array."
   ]
  },
  {
   "cell_type": "code",
   "execution_count": 51,
   "id": "60de3405",
   "metadata": {},
   "outputs": [
    {
     "name": "stdout",
     "output_type": "stream",
     "text": [
      "(array(0.01976312, dtype=float32), 0.019763126391352342)\n"
     ]
    },
    {
     "data": {
      "text/plain": [
       "True"
      ]
     },
     "execution_count": 51,
     "metadata": {},
     "output_type": "execute_result"
    }
   ],
   "source": [
    "print((C_torch(sj_torch[0], rk_torch[0]).cpu().numpy(), C0[0][0]))\n",
    "np.allclose(C_torch(sj_torch[0], rk_torch[0]).cpu().numpy(), C0[0][0])"
   ]
  },
  {
   "cell_type": "markdown",
   "id": "652ee704",
   "metadata": {},
   "source": [
    "Now try to get the full 21 x 21 array by mapping.\n",
    "\n",
    "\n",
    "Skim the [youtube](https://www.youtube.com/@MrPSolver) channel of \"MrPSolver\". Review the video \"GPU-Accelerated Ideal Gas Law Simulation\" ([youtube](https://youtu.be/2XckqFzUiYU?si=wgbbdFqCrZ2XpJQv)); look at his code at [github](https://github.com/lukepolson/youtube_channel/tree/main/Python%20GPU). \\\n",
    "Consult with departmental colleague Eric Thiede.\n",
    "\n",
    "Based on Eric's suggested code:"
   ]
  },
  {
   "cell_type": "code",
   "execution_count": 52,
   "id": "04b57797",
   "metadata": {},
   "outputs": [],
   "source": [
    "Cmatrix_torch = torch.vmap(torch.vmap(C_torch, (None, 0)),(0, None))"
   ]
  },
  {
   "cell_type": "markdown",
   "id": "a3beaebd",
   "metadata": {},
   "source": [
    "The mapped Coulomb matrix function gives a matrix with the expected size."
   ]
  },
  {
   "cell_type": "code",
   "execution_count": 53,
   "id": "6db575fa",
   "metadata": {},
   "outputs": [
    {
     "data": {
      "text/plain": [
       "(21, 21)"
      ]
     },
     "execution_count": 53,
     "metadata": {},
     "output_type": "execute_result"
    }
   ],
   "source": [
    "C2 = Cmatrix_torch(sj_torch, rk_torch).cpu().numpy()\n",
    "C2.shape"
   ]
  },
  {
   "cell_type": "markdown",
   "id": "666258db",
   "metadata": {},
   "source": [
    "Moreover, we get the correct answer."
   ]
  },
  {
   "cell_type": "code",
   "execution_count": 54,
   "id": "73fa0772",
   "metadata": {},
   "outputs": [
    {
     "data": {
      "text/plain": [
       "True"
      ]
     },
     "execution_count": 54,
     "metadata": {},
     "output_type": "execute_result"
    }
   ],
   "source": [
    "np.allclose(C2, C0)"
   ]
  },
  {
   "cell_type": "markdown",
   "id": "bcc38b4f",
   "metadata": {},
   "source": [
    "The timing is much improved, and quite good, within a factor of two of my `Cmatrix_jit` function. \\"
   ]
  },
  {
   "cell_type": "code",
   "execution_count": 55,
   "id": "002ca55e",
   "metadata": {},
   "outputs": [
    {
     "name": "stdout",
     "output_type": "stream",
     "text": [
      "64.1 µs ± 661 ns per loop (mean ± std. dev. of 7 runs, 10,000 loops each)\n"
     ]
    }
   ],
   "source": [
    "result = %timeit -o Cmatrix_torch(sj_torch, rk_torch)\n",
    "\n",
    "r[4] = {'method': 'Cmatrix_torch',\n",
    "        'notes': 'vmap',\n",
    "        'size': '21 x 21',\n",
    "        'time [us]': round(1e6 * result.average,1)}"
   ]
  },
  {
   "cell_type": "markdown",
   "id": "2c203257",
   "metadata": {},
   "source": [
    "It takes about 175 microseconds to get the 21 x 21 matrix of data off GPU and back onto the CPU."
   ]
  },
  {
   "cell_type": "code",
   "execution_count": 56,
   "id": "c243d3d0",
   "metadata": {},
   "outputs": [
    {
     "name": "stdout",
     "output_type": "stream",
     "text": [
      "229 µs ± 2.36 µs per loop (mean ± std. dev. of 7 runs, 1,000 loops each)\n"
     ]
    }
   ],
   "source": [
    "result = %timeit -o Cmatrix_torch(sj_torch, rk_torch).cpu().numpy()\n",
    "\n",
    "r[5] = {'method': 'Cmatrix_torch',\n",
    "        'notes': 'vmap, .cpu().numpy()',\n",
    "        'size': '21 x 21',\n",
    "        'time [us]': round(1e6 * result.average,1)}"
   ]
  },
  {
   "cell_type": "markdown",
   "id": "9baccbf8",
   "metadata": {},
   "source": [
    "Summarize the run-time fundings."
   ]
  },
  {
   "cell_type": "code",
   "execution_count": 57,
   "id": "29964aec",
   "metadata": {},
   "outputs": [
    {
     "data": {
      "text/html": [
       "<div>\n",
       "<style scoped>\n",
       "    .dataframe tbody tr th:only-of-type {\n",
       "        vertical-align: middle;\n",
       "    }\n",
       "\n",
       "    .dataframe tbody tr th {\n",
       "        vertical-align: top;\n",
       "    }\n",
       "\n",
       "    .dataframe thead th {\n",
       "        text-align: right;\n",
       "    }\n",
       "</style>\n",
       "<table border=\"1\" class=\"dataframe\">\n",
       "  <thead>\n",
       "    <tr style=\"text-align: right;\">\n",
       "      <th></th>\n",
       "      <th>method</th>\n",
       "      <th>notes</th>\n",
       "      <th>size</th>\n",
       "      <th>time [us]</th>\n",
       "    </tr>\n",
       "  </thead>\n",
       "  <tbody>\n",
       "    <tr>\n",
       "      <th>0</th>\n",
       "      <td>Cmatrix_jit</td>\n",
       "      <td></td>\n",
       "      <td>21 x 21</td>\n",
       "      <td>36.1</td>\n",
       "    </tr>\n",
       "    <tr>\n",
       "      <th>1</th>\n",
       "      <td>Cmatrix_torch</td>\n",
       "      <td>loops</td>\n",
       "      <td>21 x 21</td>\n",
       "      <td>47846.4</td>\n",
       "    </tr>\n",
       "    <tr>\n",
       "      <th>2</th>\n",
       "      <td>Cmatrix_torch</td>\n",
       "      <td>uncompiled</td>\n",
       "      <td>1 x 1</td>\n",
       "      <td>29.8</td>\n",
       "    </tr>\n",
       "    <tr>\n",
       "      <th>3</th>\n",
       "      <td>Cmatrix_torch</td>\n",
       "      <td>compiled</td>\n",
       "      <td>1 x 1</td>\n",
       "      <td>13.0</td>\n",
       "    </tr>\n",
       "    <tr>\n",
       "      <th>4</th>\n",
       "      <td>Cmatrix_torch</td>\n",
       "      <td>vmap</td>\n",
       "      <td>21 x 21</td>\n",
       "      <td>64.1</td>\n",
       "    </tr>\n",
       "    <tr>\n",
       "      <th>5</th>\n",
       "      <td>Cmatrix_torch</td>\n",
       "      <td>vmap, .cpu().numpy()</td>\n",
       "      <td>21 x 21</td>\n",
       "      <td>229.3</td>\n",
       "    </tr>\n",
       "  </tbody>\n",
       "</table>\n",
       "</div>"
      ],
      "text/plain": [
       "          method                 notes     size time [us]\n",
       "0    Cmatrix_jit                        21 x 21      36.1\n",
       "1  Cmatrix_torch                 loops  21 x 21   47846.4\n",
       "2  Cmatrix_torch            uncompiled    1 x 1      29.8\n",
       "3  Cmatrix_torch              compiled    1 x 1      13.0\n",
       "4  Cmatrix_torch                  vmap  21 x 21      64.1\n",
       "5  Cmatrix_torch  vmap, .cpu().numpy()  21 x 21     229.3"
      ]
     },
     "metadata": {},
     "output_type": "display_data"
    }
   ],
   "source": [
    "summarize_times(r)"
   ]
  },
  {
   "cell_type": "markdown",
   "id": "47e71324",
   "metadata": {},
   "source": [
    "The time to execute `.cpu().numpy()`, and get the data of the GPU and onto the CPU, is"
   ]
  },
  {
   "cell_type": "code",
   "execution_count": 58,
   "id": "94eb7a14",
   "metadata": {},
   "outputs": [
    {
     "name": "stdout",
     "output_type": "stream",
     "text": [
      "165 us\n"
     ]
    }
   ],
   "source": [
    "print('{:0.0f} us'.format(\n",
    "    r[5]['time [us]'] - \n",
    "    r[4]['time [us]']))"
   ]
  },
  {
   "cell_type": "markdown",
   "id": "83784439",
   "metadata": {},
   "source": [
    "Interesting!"
   ]
  },
  {
   "cell_type": "markdown",
   "id": "1a37b396",
   "metadata": {},
   "source": [
    "## Torch implimentation of $r_p$ for a Type III sample"
   ]
  },
  {
   "cell_type": "code",
   "execution_count": 59,
   "id": "e121aef1",
   "metadata": {},
   "outputs": [
    {
     "data": {
      "text/html": [
       "<div>\n",
       "<style scoped>\n",
       "    .dataframe tbody tr th:only-of-type {\n",
       "        vertical-align: middle;\n",
       "    }\n",
       "\n",
       "    .dataframe tbody tr th {\n",
       "        vertical-align: top;\n",
       "    }\n",
       "\n",
       "    .dataframe thead th {\n",
       "        text-align: right;\n",
       "    }\n",
       "</style>\n",
       "<table border=\"1\" class=\"dataframe\">\n",
       "  <thead>\n",
       "    <tr style=\"text-align: right;\">\n",
       "      <th></th>\n",
       "      <th>method</th>\n",
       "      <th>points</th>\n",
       "      <th>time [us]</th>\n",
       "    </tr>\n",
       "  </thead>\n",
       "  <tbody>\n",
       "    <tr>\n",
       "      <th>1</th>\n",
       "      <td>rpIII_jit</td>\n",
       "      <td>1</td>\n",
       "      <td>0.23</td>\n",
       "    </tr>\n",
       "  </tbody>\n",
       "</table>\n",
       "</div>"
      ],
      "text/plain": [
       "      method points time [us]\n",
       "1  rpIII_jit      1      0.23"
      ]
     },
     "metadata": {},
     "output_type": "display_data"
    }
   ],
   "source": [
    "summarize_times(s)"
   ]
  },
  {
   "cell_type": "markdown",
   "id": "baa528a9",
   "metadata": {},
   "source": [
    "Try to write a torch version of the `rpIII` function."
   ]
  },
  {
   "cell_type": "code",
   "execution_count": 60,
   "id": "3636f8e3",
   "metadata": {},
   "outputs": [],
   "source": [
    "def rpIII_torch(y: torch.tensor, omega: float, omega0: float, zr: float, kD: float, es: complex) -> torch.complex128:\n",
    "    \"\"\"Fresnel coefficient for Sample III object: \n",
    "\n",
    "        cantilever | vacuum gap | semiconductor (semi-infinite)\n",
    "    \n",
    "    In the code below, `y` is the unitless integration variable.\n",
    "    \"\"\"\n",
    "\n",
    "    Omega = omega/omega0\n",
    "    k_over_eta = y / torch.sqrt(y**2 + (zr * 1e-9 * kD)**2 * (1/es + complex(0,1) * Omega))\n",
    "\n",
    "    p0 = 1 + complex(0,1) * es * Omega\n",
    "    p1 = k_over_eta / (es * p0)\n",
    "    p6 = complex(0,1) * Omega / p0\n",
    "\n",
    "    theta_norm = p6 + p1\n",
    "    rp = (1 - theta_norm) / (1 + theta_norm)\n",
    " \n",
    "    return rp"
   ]
  },
  {
   "cell_type": "code",
   "execution_count": 61,
   "id": "3a3df3cf",
   "metadata": {},
   "outputs": [],
   "source": [
    "args['rpIII_torch_A'] = {'y': torch.tensor([2.0], dtype=torch.float64), \n",
    "    'omega': omega, \n",
    "    'omega0': params3_jit['sample'].omega0,\n",
    "    'zr': zjkref,\n",
    "    'kD': params3_jit['sample'].kD,\n",
    "    'es': params3_jit['sample'].epsilon_s}"
   ]
  },
  {
   "cell_type": "code",
   "execution_count": 62,
   "id": "16baa0d5",
   "metadata": {},
   "outputs": [
    {
     "data": {
      "text/plain": [
       "tensor([0.90477618-3.74939669e-07j], dtype=torch.complex128)"
      ]
     },
     "execution_count": 62,
     "metadata": {},
     "output_type": "execute_result"
    }
   ],
   "source": [
    "rpIII['rpIII_torch_A'] = rpIII_torch(**args['rpIII_torch_A'])\n",
    "rpIII['rpIII_torch_A']"
   ]
  },
  {
   "cell_type": "code",
   "execution_count": 63,
   "id": "63034595",
   "metadata": {},
   "outputs": [
    {
     "name": "stdout",
     "output_type": "stream",
     "text": [
      "11.9 µs ± 137 ns per loop (mean ± std. dev. of 7 runs, 100,000 loops each)\n"
     ]
    }
   ],
   "source": [
    "result = %timeit -o rpIII_torch(**args['rpIII_torch_A'])\n",
    "\n",
    "s[2] = {'method': 'rpIII_torch',\n",
    "        'points': 1,\n",
    "        'time [us]': round(1e6 * result.average,2)}"
   ]
  },
  {
   "cell_type": "markdown",
   "id": "7999703b",
   "metadata": {},
   "source": [
    "We can use the `comparetwoK` function to compare the jit and torch results."
   ]
  },
  {
   "cell_type": "code",
   "execution_count": 64,
   "id": "d6fc9e5d",
   "metadata": {},
   "outputs": [
    {
     "name": "stdout",
     "output_type": "stream",
     "text": [
      "Re[rpIII[0]] +9.047761753e-01 vs +9.047761753e-01, relative error = -1.23e-16\n",
      "\n",
      "Im[rpIII[0]] -3.749396688e-07 vs -3.749396688e-07, relative error = -2.62e-13\n"
     ]
    }
   ],
   "source": [
    "comparetwoK([rpIII['rpIII_jit']],[rpIII['rpIII_torch_A'][0].cpu().numpy()], label='rpIII')"
   ]
  },
  {
   "cell_type": "markdown",
   "id": "2177c4cf",
   "metadata": {},
   "source": [
    "Hey, the results are really nice!"
   ]
  },
  {
   "cell_type": "markdown",
   "id": "3e1b1389",
   "metadata": {},
   "source": [
    "Let's see if it's any faster."
   ]
  },
  {
   "cell_type": "code",
   "execution_count": 65,
   "id": "0c724947",
   "metadata": {},
   "outputs": [
    {
     "data": {
      "text/html": [
       "<div>\n",
       "<style scoped>\n",
       "    .dataframe tbody tr th:only-of-type {\n",
       "        vertical-align: middle;\n",
       "    }\n",
       "\n",
       "    .dataframe tbody tr th {\n",
       "        vertical-align: top;\n",
       "    }\n",
       "\n",
       "    .dataframe thead th {\n",
       "        text-align: right;\n",
       "    }\n",
       "</style>\n",
       "<table border=\"1\" class=\"dataframe\">\n",
       "  <thead>\n",
       "    <tr style=\"text-align: right;\">\n",
       "      <th></th>\n",
       "      <th>method</th>\n",
       "      <th>points</th>\n",
       "      <th>time [us]</th>\n",
       "    </tr>\n",
       "  </thead>\n",
       "  <tbody>\n",
       "    <tr>\n",
       "      <th>1</th>\n",
       "      <td>rpIII_jit</td>\n",
       "      <td>1</td>\n",
       "      <td>0.23</td>\n",
       "    </tr>\n",
       "    <tr>\n",
       "      <th>2</th>\n",
       "      <td>rpIII_torch</td>\n",
       "      <td>1</td>\n",
       "      <td>11.92</td>\n",
       "    </tr>\n",
       "  </tbody>\n",
       "</table>\n",
       "</div>"
      ],
      "text/plain": [
       "        method points time [us]\n",
       "1    rpIII_jit      1      0.23\n",
       "2  rpIII_torch      1     11.92"
      ]
     },
     "metadata": {},
     "output_type": "display_data"
    }
   ],
   "source": [
    "summarize_times(s)"
   ]
  },
  {
   "cell_type": "markdown",
   "id": "4e5c2070",
   "metadata": {},
   "source": [
    "Ok, slower, ugh.\n",
    "\n",
    "But let's see how torch scales with number of data points.  \\\n",
    "Try it with 315 points."
   ]
  },
  {
   "cell_type": "code",
   "execution_count": 66,
   "id": "f78e1815",
   "metadata": {},
   "outputs": [],
   "source": [
    "args['rpIII_torch_B'] = {'y': torch.tensor(np.linspace(-5, 5, 315), dtype=torch.float64), \n",
    "    'omega': omega, \n",
    "    'omega0': params3_jit['sample'].omega0,\n",
    "    'zr': zjkref,\n",
    "    'kD': params3_jit['sample'].kD,\n",
    "    'es': params3_jit['sample'].epsilon_s}"
   ]
  },
  {
   "cell_type": "markdown",
   "id": "f8d6794e",
   "metadata": {},
   "source": [
    "Run it once before timing it."
   ]
  },
  {
   "cell_type": "code",
   "execution_count": 67,
   "id": "da0a2d6f",
   "metadata": {},
   "outputs": [],
   "source": [
    "rpIII['rpIII_torch_B'] = rpIII_torch(**args['rpIII_torch_B'])"
   ]
  },
  {
   "cell_type": "code",
   "execution_count": 68,
   "id": "87109876",
   "metadata": {},
   "outputs": [
    {
     "name": "stdout",
     "output_type": "stream",
     "text": [
      "15.2 µs ± 77.7 ns per loop (mean ± std. dev. of 7 runs, 100,000 loops each)\n"
     ]
    }
   ],
   "source": [
    "result = %timeit -o rpIII_torch(**args['rpIII_torch_B'])\n",
    "\n",
    "s[3] = {'method': 'rpIII_torch',\n",
    "        'points': 315,\n",
    "        'time [us]': round(1e6 * result.average,2)}"
   ]
  },
  {
   "cell_type": "code",
   "execution_count": 69,
   "id": "3d46b8c5",
   "metadata": {},
   "outputs": [
    {
     "data": {
      "text/html": [
       "<div>\n",
       "<style scoped>\n",
       "    .dataframe tbody tr th:only-of-type {\n",
       "        vertical-align: middle;\n",
       "    }\n",
       "\n",
       "    .dataframe tbody tr th {\n",
       "        vertical-align: top;\n",
       "    }\n",
       "\n",
       "    .dataframe thead th {\n",
       "        text-align: right;\n",
       "    }\n",
       "</style>\n",
       "<table border=\"1\" class=\"dataframe\">\n",
       "  <thead>\n",
       "    <tr style=\"text-align: right;\">\n",
       "      <th></th>\n",
       "      <th>method</th>\n",
       "      <th>points</th>\n",
       "      <th>time [us]</th>\n",
       "    </tr>\n",
       "  </thead>\n",
       "  <tbody>\n",
       "    <tr>\n",
       "      <th>1</th>\n",
       "      <td>rpIII_jit</td>\n",
       "      <td>1</td>\n",
       "      <td>0.23</td>\n",
       "    </tr>\n",
       "    <tr>\n",
       "      <th>2</th>\n",
       "      <td>rpIII_torch</td>\n",
       "      <td>1</td>\n",
       "      <td>11.92</td>\n",
       "    </tr>\n",
       "    <tr>\n",
       "      <th>3</th>\n",
       "      <td>rpIII_torch</td>\n",
       "      <td>315</td>\n",
       "      <td>15.18</td>\n",
       "    </tr>\n",
       "  </tbody>\n",
       "</table>\n",
       "</div>"
      ],
      "text/plain": [
       "        method points time [us]\n",
       "1    rpIII_jit      1      0.23\n",
       "2  rpIII_torch      1     11.92\n",
       "3  rpIII_torch    315     15.18"
      ]
     },
     "metadata": {},
     "output_type": "display_data"
    }
   ],
   "source": [
    "summarize_times(s)"
   ]
  },
  {
   "cell_type": "markdown",
   "id": "7ab2b100",
   "metadata": {},
   "source": [
    "Each integration involves at least $21 * 15 = 315$ function evaluations. \\\n",
    "For 315 evaluations, the torch computation takes approximately the same amount of time as 1 evaluation. \\\n",
    "For 315 computations, we'd estimate that the analogous jit computation would take $0.21 \\,{\\mu\\mathrm{s}} \\times 315 = 66 \\, \\mu\\mathrm{s}$. \\\n",
    "So for 315 evaluations, the torch computation GPU is faster than the jit CPU computation by a factor of about 4.\n",
    "\n",
    "Surprising! \\\n",
    "I hypothesize that torch computations have large overhead but very favorable scaling."
   ]
  },
  {
   "cell_type": "markdown",
   "id": "d628bce7",
   "metadata": {},
   "source": [
    "## Torch implimentation of  $K_n$  for a Type III sample\n",
    "\n",
    "We next to implement an integration scheme like the one in `KmatrixIII_jit`. \\\n",
    "We want a torch calculation like the one below."
   ]
  },
  {
   "cell_type": "code",
   "execution_count": 70,
   "id": "5c842f58",
   "metadata": {},
   "outputs": [],
   "source": [
    "K0, K1, K2 = KmatrixIII_jit(**args['KmatrixIII_jit'])\n",
    "KnIII['KmatrixIII_jit'] = np.array([K0[0][0], K1[0][0], K2[0][0]])"
   ]
  },
  {
   "cell_type": "markdown",
   "id": "b9af40db",
   "metadata": {},
   "source": [
    "Do this in two steps.\n",
    "\n",
    "1. make an integrator, then\n",
    "2. use `torch.vmap` to feed the integrator pairs of points like we did for C_matrix above.\n",
    "\n",
    "Ok, first the integrator.  We wish to replace the function\n",
    "\n",
    "    KmatrixIII_jit(omega, omega0, kD, es, sj, rk, j0s, an, verbose=False, breakpoints=10)\n",
    "    \n",
    "Inside this function, we need to integrate\n",
    "\n",
    "    rpIII_torch(omega: float, omega0: float, zr: float, kD: float, es: complex) -> torch.complex128"
   ]
  },
  {
   "cell_type": "markdown",
   "id": "53be4786",
   "metadata": {},
   "source": [
    "Let's see if we can integrate brute force. \\\n",
    "Build up the integral in pieces before writing it into a function."
   ]
  },
  {
   "cell_type": "code",
   "execution_count": 71,
   "id": "fe956ed4",
   "metadata": {},
   "outputs": [],
   "source": [
    "omega0 = params3_jit['sample'].omega0\n",
    "kD = params3_jit['sample'].kD\n",
    "es = params3_jit['sample'].epsilon_s\n",
    "sj = torch.as_tensor(loc1_nm.astype(np.float32), device=device)\n",
    "rk = torch.as_tensor(loc2_nm.astype(np.float32), device=device)\n",
    "pts = 3000"
   ]
  },
  {
   "cell_type": "code",
   "execution_count": 72,
   "id": "6e93d80b",
   "metadata": {},
   "outputs": [],
   "source": [
    "y_min = 2.0e-9\n",
    "y_max = 2.0e+1"
   ]
  },
  {
   "cell_type": "code",
   "execution_count": 73,
   "id": "55ae5a69",
   "metadata": {},
   "outputs": [],
   "source": [
    "w = torch.linspace(\n",
    "    torch.log(torch.tensor(y_min)),\n",
    "    torch.log(torch.tensor(y_max)),\n",
    "    pts,\n",
    "    device=device)"
   ]
  },
  {
   "cell_type": "code",
   "execution_count": 74,
   "id": "2454cf30",
   "metadata": {},
   "outputs": [
    {
     "data": {
      "text/plain": [
       "(tensor(60., device='mps:0'), tensor(0.50000000, device='mps:0'))"
      ]
     },
     "execution_count": 74,
     "metadata": {},
     "output_type": "execute_result"
    }
   ],
   "source": [
    "zjkref = sj[2] + rk[2]\n",
    "x = torch.sqrt((sj[0] - rk[0])**2 + (sj[1] - rk[1])**2) / zjkref\n",
    "\n",
    "(zjkref, x)"
   ]
  },
  {
   "cell_type": "code",
   "execution_count": 75,
   "id": "d3183dca",
   "metadata": {},
   "outputs": [],
   "source": [
    "t0 = torch.exp(w)\n",
    "t1 = torch.exp(w - t0)\n",
    "t2 = torch.special.bessel_j0(t0 * x)\n",
    "t3 = rpIII_torch(t0, omega, omega0, zjkref, kD, es)"
   ]
  },
  {
   "cell_type": "code",
   "execution_count": 76,
   "id": "57b712e5",
   "metadata": {},
   "outputs": [
    {
     "data": {
      "text/plain": [
       "((tensor(1.99999950e-09, device='mps:0'), tensor(19.99998093, device='mps:0')),\n",
       " (tensor(1.99999950e-09, device='mps:0'),\n",
       "  tensor(4.12238208e-08, device='mps:0')),\n",
       " (tensor(1., device='mps:0'), tensor(-0.24593535, device='mps:0')),\n",
       " (tensor(0.90476888-0.00081514j, device='mps:0'),\n",
       "  tensor(0.90476209+1.05592146e-10j, device='mps:0')))"
      ]
     },
     "execution_count": 76,
     "metadata": {},
     "output_type": "execute_result"
    }
   ],
   "source": [
    "((t0[0], t0[-1]),\n",
    " (t1[0], t1[-1]),\n",
    " (t2[0], t2[-1]),\n",
    " (t3[0], t3[-1]))"
   ]
  },
  {
   "cell_type": "code",
   "execution_count": 77,
   "id": "971ccf0f",
   "metadata": {},
   "outputs": [],
   "source": [
    "I0 = t1 * t2 * t3\n",
    "I1 = t0 * I0\n",
    "I2 = t0 * I1"
   ]
  },
  {
   "cell_type": "code",
   "execution_count": 78,
   "id": "29e638e0",
   "metadata": {},
   "outputs": [],
   "source": [
    "K0 = torch.trapezoid(y=I0, x=w) / zjkref**1\n",
    "K1 = torch.trapezoid(y=I1, x=w) / zjkref**2\n",
    "K2 = torch.trapezoid(y=I2, x=w) / zjkref**3"
   ]
  },
  {
   "cell_type": "code",
   "execution_count": 79,
   "id": "8b6f2824",
   "metadata": {},
   "outputs": [
    {
     "data": {
      "text/plain": [
       "tensor([1.34892864e-02-2.95407108e-06j, 1.79845607e-04-8.50707771e-09j,\n",
       "        4.19624030e-06-4.49662460e-11j])"
      ]
     },
     "execution_count": 79,
     "metadata": {},
     "output_type": "execute_result"
    }
   ],
   "source": [
    "KnIII['rp_III_integrator_torch_try'] = torch.tensor([K0, K1, K2])\n",
    "KnIII['rp_III_integrator_torch_try']"
   ]
  },
  {
   "cell_type": "markdown",
   "id": "2785bdaf",
   "metadata": {},
   "source": [
    "Compare results to the $K_n$'s computed using `integrate.quad_vec` integration of $r_p$."
   ]
  },
  {
   "cell_type": "code",
   "execution_count": 80,
   "id": "d798ee80",
   "metadata": {},
   "outputs": [
    {
     "name": "stdout",
     "output_type": "stream",
     "text": [
      "Re[K[0]] +1.348928697e-02 vs +1.348928642e-02, relative error = +6.90e-08\n",
      "Re[K[1]] +1.798456068e-04 vs +1.798456069e-04, relative error = +0.00e+00\n",
      "Re[K[2]] +4.196239541e-06 vs +4.196240297e-06, relative error = -2.17e-07\n",
      "\n",
      "Im[K[0]] -2.954071435e-06 vs -2.954071078e-06, relative error = +1.54e-07\n",
      "Im[K[1]] -8.507080519e-09 vs -8.507077709e-09, relative error = +3.13e-07\n",
      "Im[K[2]] -4.496627345e-11 vs -4.496624600e-11, relative error = +6.17e-07\n"
     ]
    }
   ],
   "source": [
    "comparetwoK(KnIII['integrate.quad_vec'], KnIII['rp_III_integrator_torch_try'])"
   ]
  },
  {
   "cell_type": "markdown",
   "id": "da990ca6",
   "metadata": {},
   "source": [
    "Wow, the agreement is pretty good!\n",
    "\n",
    "Now turn the code into a function. \\\n",
    "Wrap the call variables in a dictionary."
   ]
  },
  {
   "cell_type": "code",
   "execution_count": 81,
   "id": "84c5e149",
   "metadata": {},
   "outputs": [],
   "source": [
    "args['rp_III_integrator_torch'] = {'omega': omega, \n",
    "    'omega0': params3_jit['sample'].omega0,\n",
    "    'kD': params3_jit['sample'].kD,\n",
    "    'es': params3_jit['sample'].epsilon_s, \n",
    "    'sj': sj,\n",
    "    'rk': rk,\n",
    "    'pts': 500,\n",
    "    'device': device}"
   ]
  },
  {
   "cell_type": "markdown",
   "id": "b58b98b8",
   "metadata": {},
   "source": [
    "Here is the function, based on the above code."
   ]
  },
  {
   "cell_type": "code",
   "execution_count": 82,
   "id": "3bec9b54",
   "metadata": {},
   "outputs": [],
   "source": [
    "def rp_III_integrator_torch(\n",
    "    omega: float,\n",
    "    omega0: float,\n",
    "    kD: float,\n",
    "    es: complex,\n",
    "    sj: torch.tensor,\n",
    "    rk: torch.tensor,\n",
    "    pts: int,\n",
    "    device: torch.device) -> torch.tensor:\n",
    "    \n",
    "    y_min = 2.0e-9\n",
    "    y_max = 2.0e+1\n",
    "    \n",
    "    w = torch.linspace(\n",
    "        torch.log(torch.tensor(y_min)),\n",
    "        torch.log(torch.tensor(y_max)),\n",
    "        pts,\n",
    "        device=device)\n",
    "    \n",
    "    zjkref = sj[2] + rk[2]\n",
    "    x = torch.sqrt((sj[0] - rk[0])**2 + (sj[1] - rk[1])**2) / zjkref\n",
    "    \n",
    "    t0 = torch.exp(w)\n",
    "    t1 = torch.exp(w - t0)\n",
    "    t2 = torch.special.bessel_j0(t0 * x)\n",
    "    t3 = rpIII_torch(t0, omega, omega0, zjkref, kD, es)\n",
    "    \n",
    "    I0 = t1 * t2 * t3\n",
    "    I1 = t0 * I0\n",
    "    I2 = t0 * I1\n",
    "    \n",
    "    K0 = torch.trapezoid(y=I0, x=w) / zjkref**1\n",
    "    K1 = torch.trapezoid(y=I1, x=w) / zjkref**2\n",
    "    K2 = torch.trapezoid(y=I2, x=w) / zjkref**3    \n",
    "    \n",
    "    return torch.tensor([K0, K1, K2])"
   ]
  },
  {
   "cell_type": "markdown",
   "id": "e55a21c1",
   "metadata": {},
   "source": [
    "It runs!"
   ]
  },
  {
   "cell_type": "code",
   "execution_count": 83,
   "id": "9d90deee",
   "metadata": {},
   "outputs": [
    {
     "data": {
      "text/plain": [
       "tensor([1.34892864e-02-2.95407131e-06j, 1.79845607e-04-8.50708126e-09j,\n",
       "        4.19624030e-06-4.49663085e-11j])"
      ]
     },
     "execution_count": 83,
     "metadata": {},
     "output_type": "execute_result"
    }
   ],
   "source": [
    "rp_III_integrator_torch(**args['rp_III_integrator_torch'])"
   ]
  },
  {
   "cell_type": "code",
   "execution_count": 84,
   "id": "359c635a",
   "metadata": {},
   "outputs": [],
   "source": [
    "KnIII['rp_III_integrator_torch'] = \\\n",
    "    rp_III_integrator_torch(**args['rp_III_integrator_torch'])"
   ]
  },
  {
   "cell_type": "markdown",
   "id": "9419afd6",
   "metadata": {},
   "source": [
    "Compare results to the $K_n$'s computed using `integrate.quad_vec` integration of $r_p$."
   ]
  },
  {
   "cell_type": "code",
   "execution_count": 85,
   "id": "38db79fe",
   "metadata": {},
   "outputs": [
    {
     "name": "stdout",
     "output_type": "stream",
     "text": [
      "Re[K[0]] +1.348928697e-02 vs +1.348928642e-02, relative error = +6.90e-08\n",
      "Re[K[1]] +1.798456068e-04 vs +1.798456069e-04, relative error = +0.00e+00\n",
      "Re[K[2]] +4.196239541e-06 vs +4.196240297e-06, relative error = -2.17e-07\n",
      "\n",
      "Im[K[0]] -2.954071435e-06 vs -2.954071306e-06, relative error = +7.70e-08\n",
      "Im[K[1]] -8.507080519e-09 vs -8.507081262e-09, relative error = -1.04e-07\n",
      "Im[K[2]] -4.496627345e-11 vs -4.496630845e-11, relative error = -7.72e-07\n"
     ]
    }
   ],
   "source": [
    "comparetwoK(KnIII['integrate.quad_vec'], KnIII['rp_III_integrator_torch'])"
   ]
  },
  {
   "cell_type": "markdown",
   "id": "23d59905",
   "metadata": {},
   "source": [
    "We get the same results as above, indicating that we introduced no coding errors."
   ]
  },
  {
   "cell_type": "code",
   "execution_count": 86,
   "id": "a8a52331",
   "metadata": {},
   "outputs": [
    {
     "name": "stdout",
     "output_type": "stream",
     "text": [
      "825 µs ± 4.31 µs per loop (mean ± std. dev. of 7 runs, 1,000 loops each)\n"
     ]
    }
   ],
   "source": [
    "result = %timeit -o rp_III_integrator_torch(**args['rp_III_integrator_torch'])\n",
    "\n",
    "s[4] = {'method': 'rp_III_integrator_torch',\n",
    "        'points': 500,\n",
    "        'time [us]': round(1e6 * result.average, 2)}"
   ]
  },
  {
   "cell_type": "markdown",
   "id": "670009eb",
   "metadata": {},
   "source": [
    "For comparison, let's scale uup `rpIII_jit` to 500 points."
   ]
  },
  {
   "cell_type": "code",
   "execution_count": 87,
   "id": "9126f449",
   "metadata": {},
   "outputs": [],
   "source": [
    "s[5] = {'method': 'rp_III_jit (extrapolated)',\n",
    "        'points': int(s[4]['points']),\n",
    "        'time [us]': round(s[4]['points'] * s[1]['time [us]'], 2)}"
   ]
  },
  {
   "cell_type": "markdown",
   "id": "62835459",
   "metadata": {},
   "source": [
    "Compare the execution time to prior calculations."
   ]
  },
  {
   "cell_type": "code",
   "execution_count": 88,
   "id": "08ffe2c3",
   "metadata": {},
   "outputs": [
    {
     "data": {
      "text/html": [
       "<div>\n",
       "<style scoped>\n",
       "    .dataframe tbody tr th:only-of-type {\n",
       "        vertical-align: middle;\n",
       "    }\n",
       "\n",
       "    .dataframe tbody tr th {\n",
       "        vertical-align: top;\n",
       "    }\n",
       "\n",
       "    .dataframe thead th {\n",
       "        text-align: right;\n",
       "    }\n",
       "</style>\n",
       "<table border=\"1\" class=\"dataframe\">\n",
       "  <thead>\n",
       "    <tr style=\"text-align: right;\">\n",
       "      <th></th>\n",
       "      <th>method</th>\n",
       "      <th>points</th>\n",
       "      <th>time [us]</th>\n",
       "    </tr>\n",
       "  </thead>\n",
       "  <tbody>\n",
       "    <tr>\n",
       "      <th>1</th>\n",
       "      <td>rpIII_jit</td>\n",
       "      <td>1</td>\n",
       "      <td>0.23</td>\n",
       "    </tr>\n",
       "    <tr>\n",
       "      <th>2</th>\n",
       "      <td>rpIII_torch</td>\n",
       "      <td>1</td>\n",
       "      <td>11.92</td>\n",
       "    </tr>\n",
       "    <tr>\n",
       "      <th>3</th>\n",
       "      <td>rpIII_torch</td>\n",
       "      <td>315</td>\n",
       "      <td>15.18</td>\n",
       "    </tr>\n",
       "    <tr>\n",
       "      <th>4</th>\n",
       "      <td>rp_III_integrator_torch</td>\n",
       "      <td>500</td>\n",
       "      <td>825.07</td>\n",
       "    </tr>\n",
       "    <tr>\n",
       "      <th>5</th>\n",
       "      <td>rp_III_jit (extrapolated)</td>\n",
       "      <td>500</td>\n",
       "      <td>115.0</td>\n",
       "    </tr>\n",
       "  </tbody>\n",
       "</table>\n",
       "</div>"
      ],
      "text/plain": [
       "                      method points time [us]\n",
       "1                  rpIII_jit      1      0.23\n",
       "2                rpIII_torch      1     11.92\n",
       "3                rpIII_torch    315     15.18\n",
       "4    rp_III_integrator_torch    500    825.07\n",
       "5  rp_III_jit (extrapolated)    500     115.0"
      ]
     },
     "metadata": {},
     "output_type": "display_data"
    }
   ],
   "source": [
    "summarize_times(s)"
   ]
  },
  {
   "cell_type": "markdown",
   "id": "5436fdd7",
   "metadata": {},
   "source": [
    "How to make a threaded version?"
   ]
  },
  {
   "cell_type": "code",
   "execution_count": 89,
   "id": "c8fb6190",
   "metadata": {},
   "outputs": [],
   "source": [
    "def rp_III_integrator_torch(\n",
    "    omega: float,\n",
    "    omega0: float,\n",
    "    kD: float,\n",
    "    es: complex,\n",
    "    sj: torch.tensor,\n",
    "    rk: torch.tensor,\n",
    "    pts: int,\n",
    "    device: torch.device) -> torch.tensor:\n",
    "    \n",
    "    y_min = 2.0e-9\n",
    "    y_max = 2.0e+1\n",
    "    \n",
    "    w = torch.linspace(\n",
    "        torch.log(torch.tensor(y_min)),\n",
    "        torch.log(torch.tensor(y_max)),\n",
    "        pts,\n",
    "        device=device)\n",
    "    \n",
    "    zjkref = sj[2] + rk[2]\n",
    "    x = torch.sqrt((sj[0] - rk[0])**2 + (sj[1] - rk[1])**2) / zjkref\n",
    "    \n",
    "    t0 = torch.exp(w)\n",
    "    t1 = torch.exp(w - t0)\n",
    "    t2 = torch.special.bessel_j0(t0 * x)\n",
    "    t3 = rpIII_torch(t0, omega, omega0, zjkref, kD, es)\n",
    "    \n",
    "    I0 = t1 * t2 * t3\n",
    "    I1 = t0 * I0\n",
    "    I2 = t0 * I1\n",
    "    \n",
    "    K0 = torch.trapezoid(y=I0, x=w) / zjkref**1\n",
    "    K1 = torch.trapezoid(y=I1, x=w) / zjkref**2\n",
    "    K2 = torch.trapezoid(y=I2, x=w) / zjkref**3    \n",
    "    \n",
    "    return [K0, K1, K2]  # Works if this is a list but NOT a torch.tensor()"
   ]
  },
  {
   "cell_type": "code",
   "execution_count": 90,
   "id": "7dd13142",
   "metadata": {},
   "outputs": [],
   "source": [
    "KmatrixIII_torch = torch.vmap(\n",
    "    torch.vmap(\n",
    "        rp_III_integrator_torch, \n",
    "        in_dims=(None, None, None, None, None, 0, None, None), out_dims=0),\n",
    "    in_dims=(None, None, None, None, 0, None, None, None), out_dims=0)"
   ]
  },
  {
   "cell_type": "markdown",
   "id": "b8ae7270",
   "metadata": {},
   "source": [
    "This works, but *only* if `rp_III_integrator_torch` returns a scalar or a list, *not* a torch.tensor."
   ]
  },
  {
   "cell_type": "code",
   "execution_count": 91,
   "id": "c29fb72a",
   "metadata": {},
   "outputs": [
    {
     "data": {
      "text/plain": [
       "(torch.Size([21, 3]), torch.Size([21, 3]))"
      ]
     },
     "execution_count": 91,
     "metadata": {},
     "output_type": "execute_result"
    }
   ],
   "source": [
    "(sj_torch.shape, rk_torch.shape)"
   ]
  },
  {
   "cell_type": "code",
   "execution_count": 92,
   "id": "e22677f2",
   "metadata": {},
   "outputs": [
    {
     "data": {
      "text/plain": [
       "(torch.Size([21, 21]), torch.Size([21, 21]), torch.Size([21, 21]))"
      ]
     },
     "execution_count": 92,
     "metadata": {},
     "output_type": "execute_result"
    }
   ],
   "source": [
    "K0torch, K1torch, K2torch = KmatrixIII_torch(omega, omega0, kD, es, sj_torch, rk_torch, pts, device)\n",
    "(K0torch.shape, K1torch.shape, K2torch.shape)"
   ]
  },
  {
   "cell_type": "markdown",
   "id": "843bbb63",
   "metadata": {},
   "source": [
    "What to compare it to?"
   ]
  },
  {
   "cell_type": "code",
   "execution_count": 93,
   "id": "4dc21489",
   "metadata": {},
   "outputs": [],
   "source": [
    "args['KmatrixIII_jit_many'] = {'omega': omega, \n",
    "    'omega0': params3_jit['sample'].omega0,\n",
    "    'kD': params3_jit['sample'].kD,\n",
    "    'es': params3_jit['sample'].epsilon_s, \n",
    "    'sj': obj.sj, \n",
    "    'rk': obj.rk, \n",
    "    'j0s': j0s, \n",
    "    'an': an,\n",
    "    'verbose': False,\n",
    "    'breakpoints': 15}\n",
    "\n",
    "K0jit, K1jit, K2jit =  KmatrixIII_jit(**args['KmatrixIII_jit_many'])"
   ]
  },
  {
   "cell_type": "markdown",
   "id": "d36e7d65",
   "metadata": {},
   "source": [
    "Wow, the answers are equal to within machine precision!"
   ]
  },
  {
   "cell_type": "code",
   "execution_count": 94,
   "id": "fcddc5b7",
   "metadata": {},
   "outputs": [
    {
     "data": {
      "text/plain": [
       "(True, True, True)"
      ]
     },
     "execution_count": 94,
     "metadata": {},
     "output_type": "execute_result"
    }
   ],
   "source": [
    "(np.allclose(K0jit, K0torch.cpu()),\n",
    " np.allclose(K1jit, K1torch.cpu()),\n",
    " np.allclose(K2jit, K2torch.cpu()))"
   ]
  },
  {
   "cell_type": "markdown",
   "id": "4bc4b2d7",
   "metadata": {},
   "source": [
    "What is the runtime?"
   ]
  },
  {
   "cell_type": "code",
   "execution_count": 126,
   "id": "e900717c",
   "metadata": {},
   "outputs": [
    {
     "name": "stdout",
     "output_type": "stream",
     "text": [
      "5.45 ms ± 11.8 µs per loop (mean ± std. dev. of 7 runs, 1,000 loops each)\n"
     ]
    }
   ],
   "source": [
    "result = %timeit -o KmatrixIII_torch(omega, omega0, kD, es, sj_torch, rk_torch, pts, device)\n",
    "\n",
    "q[0] = {'method': 'KmatrixIII_torch',\n",
    "        'N': 21,\n",
    "        'size': 21 * 21,\n",
    "        'time [ms]': round(1e3 * result.average,1)}"
   ]
  },
  {
   "cell_type": "markdown",
   "id": "e23e1179",
   "metadata": {},
   "source": [
    "This should be compared to"
   ]
  },
  {
   "cell_type": "code",
   "execution_count": 127,
   "id": "404940d2",
   "metadata": {},
   "outputs": [
    {
     "name": "stdout",
     "output_type": "stream",
     "text": [
      "7.36 ms ± 221 µs per loop (mean ± std. dev. of 7 runs, 100 loops each)\n"
     ]
    }
   ],
   "source": [
    "result = %timeit -o KmatrixIII_jit(**args['KmatrixIII_jit_many'])\n",
    "\n",
    "q[1] = {'method': 'KmatrixIII_jit',\n",
    "        'N': 21,\n",
    "        'size': 21 * 21,\n",
    "        'time [ms]': round(1e3 * result.average,1)}"
   ]
  },
  {
   "cell_type": "code",
   "execution_count": 128,
   "id": "ecdc474f",
   "metadata": {},
   "outputs": [
    {
     "data": {
      "text/html": [
       "<div>\n",
       "<style scoped>\n",
       "    .dataframe tbody tr th:only-of-type {\n",
       "        vertical-align: middle;\n",
       "    }\n",
       "\n",
       "    .dataframe tbody tr th {\n",
       "        vertical-align: top;\n",
       "    }\n",
       "\n",
       "    .dataframe thead th {\n",
       "        text-align: right;\n",
       "    }\n",
       "</style>\n",
       "<table border=\"1\" class=\"dataframe\">\n",
       "  <thead>\n",
       "    <tr style=\"text-align: right;\">\n",
       "      <th></th>\n",
       "      <th>method</th>\n",
       "      <th>N</th>\n",
       "      <th>size</th>\n",
       "      <th>time [ms]</th>\n",
       "    </tr>\n",
       "  </thead>\n",
       "  <tbody>\n",
       "    <tr>\n",
       "      <th>0</th>\n",
       "      <td>KmatrixIII_torch</td>\n",
       "      <td>21</td>\n",
       "      <td>441</td>\n",
       "      <td>5.5</td>\n",
       "    </tr>\n",
       "    <tr>\n",
       "      <th>1</th>\n",
       "      <td>KmatrixIII_jit</td>\n",
       "      <td>21</td>\n",
       "      <td>441</td>\n",
       "      <td>7.4</td>\n",
       "    </tr>\n",
       "    <tr>\n",
       "      <th>2</th>\n",
       "      <td>KmatrixIII_torch</td>\n",
       "      <td>21</td>\n",
       "      <td>441</td>\n",
       "      <td>5.4</td>\n",
       "    </tr>\n",
       "    <tr>\n",
       "      <th>3</th>\n",
       "      <td>KmatrixIII_torch</td>\n",
       "      <td>41</td>\n",
       "      <td>1681</td>\n",
       "      <td>18.5</td>\n",
       "    </tr>\n",
       "    <tr>\n",
       "      <th>4</th>\n",
       "      <td>KmatrixIII_torch</td>\n",
       "      <td>61</td>\n",
       "      <td>3721</td>\n",
       "      <td>20.0</td>\n",
       "    </tr>\n",
       "    <tr>\n",
       "      <th>5</th>\n",
       "      <td>KmatrixIII_torch</td>\n",
       "      <td>81</td>\n",
       "      <td>6561</td>\n",
       "      <td>37.4</td>\n",
       "    </tr>\n",
       "  </tbody>\n",
       "</table>\n",
       "</div>"
      ],
      "text/plain": [
       "              method   N  size time [ms]\n",
       "0   KmatrixIII_torch  21   441       5.5\n",
       "1     KmatrixIII_jit  21   441       7.4\n",
       "2   KmatrixIII_torch  21   441       5.4\n",
       "3   KmatrixIII_torch  41  1681      18.5\n",
       "4   KmatrixIII_torch  61  3721      20.0\n",
       "5   KmatrixIII_torch  81  6561      37.4"
      ]
     },
     "metadata": {},
     "output_type": "display_data"
    }
   ],
   "source": [
    "summarize_times(q)"
   ]
  },
  {
   "cell_type": "markdown",
   "id": "a5360236",
   "metadata": {},
   "source": [
    "They are of comparable speed, with the torch method being *slightly* faster."
   ]
  },
  {
   "cell_type": "markdown",
   "id": "d881c453",
   "metadata": {},
   "source": [
    "# Scaling of the `KmatrixIII_torch` function\n",
    "\n",
    "Let's see how the execution time of the torch function for computing the $K_n$ matrices scales with the size $N$ of the $s_j$ and $r_k$ vectors."
   ]
  },
  {
   "cell_type": "code",
   "execution_count": 129,
   "id": "2221d034",
   "metadata": {},
   "outputs": [
    {
     "name": "stdout",
     "output_type": "stream",
     "text": [
      "2 21\n",
      "5.46 ms ± 35.2 µs per loop (mean ± std. dev. of 7 runs, 1,000 loops each)\n",
      "3 41\n",
      "18.5 ms ± 3.2 ms per loop (mean ± std. dev. of 7 runs, 100 loops each)\n",
      "4 61\n",
      "41.3 ms ± 5.49 ms per loop (mean ± std. dev. of 7 runs, 100 loops each)\n",
      "5 81\n",
      "63.8 ms ± 5.38 ms per loop (mean ± std. dev. of 7 runs, 10 loops each)\n"
     ]
    }
   ],
   "source": [
    "for index, N in zip([2, 3, 4, 5], [21, 41, 61, 81, 101]):\n",
    "\n",
    "    print(index, N)\n",
    "    \n",
    "    sj_torch_rand = torch.randint(low=20, high=30, size=(N, 3), device=device)\n",
    "    rk_torch_rand = torch.randint(low=20, high=30, size=(N, 3), device=device)\n",
    "\n",
    "    _, _, _ = KmatrixIII_torch(omega, omega0, kD, es, sj_torch_rand, rk_torch_rand, pts, device)\n",
    "\n",
    "    result = %timeit -o KmatrixIII_torch(omega, omega0, kD, es, sj_torch_rand, rk_torch_rand, pts, device)\n",
    "\n",
    "    q[index] = {'method': 'KmatrixIII_torch',\n",
    "                'N': N,\n",
    "                'size': N * N,\n",
    "                'time [ms]': round(1e3 * result.average,1)}"
   ]
  },
  {
   "cell_type": "code",
   "execution_count": 133,
   "id": "81e4f143",
   "metadata": {},
   "outputs": [
    {
     "data": {
      "text/html": [
       "<div>\n",
       "<style scoped>\n",
       "    .dataframe tbody tr th:only-of-type {\n",
       "        vertical-align: middle;\n",
       "    }\n",
       "\n",
       "    .dataframe tbody tr th {\n",
       "        vertical-align: top;\n",
       "    }\n",
       "\n",
       "    .dataframe thead th {\n",
       "        text-align: right;\n",
       "    }\n",
       "</style>\n",
       "<table border=\"1\" class=\"dataframe\">\n",
       "  <thead>\n",
       "    <tr style=\"text-align: right;\">\n",
       "      <th></th>\n",
       "      <th>method</th>\n",
       "      <th>N</th>\n",
       "      <th>size</th>\n",
       "      <th>time [ms]</th>\n",
       "    </tr>\n",
       "  </thead>\n",
       "  <tbody>\n",
       "    <tr>\n",
       "      <th>0</th>\n",
       "      <td>KmatrixIII_torch</td>\n",
       "      <td>21</td>\n",
       "      <td>441</td>\n",
       "      <td>5.5</td>\n",
       "    </tr>\n",
       "    <tr>\n",
       "      <th>1</th>\n",
       "      <td>KmatrixIII_jit</td>\n",
       "      <td>21</td>\n",
       "      <td>441</td>\n",
       "      <td>7.4</td>\n",
       "    </tr>\n",
       "    <tr>\n",
       "      <th>2</th>\n",
       "      <td>KmatrixIII_torch</td>\n",
       "      <td>21</td>\n",
       "      <td>441</td>\n",
       "      <td>5.5</td>\n",
       "    </tr>\n",
       "    <tr>\n",
       "      <th>3</th>\n",
       "      <td>KmatrixIII_torch</td>\n",
       "      <td>41</td>\n",
       "      <td>1681</td>\n",
       "      <td>18.5</td>\n",
       "    </tr>\n",
       "    <tr>\n",
       "      <th>4</th>\n",
       "      <td>KmatrixIII_torch</td>\n",
       "      <td>61</td>\n",
       "      <td>3721</td>\n",
       "      <td>41.3</td>\n",
       "    </tr>\n",
       "    <tr>\n",
       "      <th>5</th>\n",
       "      <td>KmatrixIII_torch</td>\n",
       "      <td>81</td>\n",
       "      <td>6561</td>\n",
       "      <td>63.8</td>\n",
       "    </tr>\n",
       "  </tbody>\n",
       "</table>\n",
       "</div>"
      ],
      "text/plain": [
       "             method   N  size time [ms]\n",
       "0  KmatrixIII_torch  21   441       5.5\n",
       "1    KmatrixIII_jit  21   441       7.4\n",
       "2  KmatrixIII_torch  21   441       5.5\n",
       "3  KmatrixIII_torch  41  1681      18.5\n",
       "4  KmatrixIII_torch  61  3721      41.3\n",
       "5  KmatrixIII_torch  81  6561      63.8"
      ]
     },
     "metadata": {},
     "output_type": "display_data"
    }
   ],
   "source": [
    "summarize_times(q)"
   ]
  },
  {
   "cell_type": "markdown",
   "id": "9af68542",
   "metadata": {},
   "source": [
    "Make a plot."
   ]
  },
  {
   "cell_type": "code",
   "execution_count": 134,
   "id": "8f7a4862",
   "metadata": {},
   "outputs": [
    {
     "data": {
      "text/html": [
       "<div>\n",
       "<style scoped>\n",
       "    .dataframe tbody tr th:only-of-type {\n",
       "        vertical-align: middle;\n",
       "    }\n",
       "\n",
       "    .dataframe tbody tr th {\n",
       "        vertical-align: top;\n",
       "    }\n",
       "\n",
       "    .dataframe thead th {\n",
       "        text-align: right;\n",
       "    }\n",
       "</style>\n",
       "<table border=\"1\" class=\"dataframe\">\n",
       "  <thead>\n",
       "    <tr style=\"text-align: right;\">\n",
       "      <th></th>\n",
       "      <th>method</th>\n",
       "      <th>N</th>\n",
       "      <th>size</th>\n",
       "      <th>time [ms]</th>\n",
       "    </tr>\n",
       "  </thead>\n",
       "  <tbody>\n",
       "    <tr>\n",
       "      <th>0</th>\n",
       "      <td>KmatrixIII_torch</td>\n",
       "      <td>21</td>\n",
       "      <td>441</td>\n",
       "      <td>5.5</td>\n",
       "    </tr>\n",
       "    <tr>\n",
       "      <th>2</th>\n",
       "      <td>KmatrixIII_torch</td>\n",
       "      <td>21</td>\n",
       "      <td>441</td>\n",
       "      <td>5.5</td>\n",
       "    </tr>\n",
       "    <tr>\n",
       "      <th>3</th>\n",
       "      <td>KmatrixIII_torch</td>\n",
       "      <td>41</td>\n",
       "      <td>1681</td>\n",
       "      <td>18.5</td>\n",
       "    </tr>\n",
       "    <tr>\n",
       "      <th>4</th>\n",
       "      <td>KmatrixIII_torch</td>\n",
       "      <td>61</td>\n",
       "      <td>3721</td>\n",
       "      <td>41.3</td>\n",
       "    </tr>\n",
       "    <tr>\n",
       "      <th>5</th>\n",
       "      <td>KmatrixIII_torch</td>\n",
       "      <td>81</td>\n",
       "      <td>6561</td>\n",
       "      <td>63.8</td>\n",
       "    </tr>\n",
       "  </tbody>\n",
       "</table>\n",
       "</div>"
      ],
      "text/plain": [
       "             method   N  size time [ms]\n",
       "0  KmatrixIII_torch  21   441       5.5\n",
       "2  KmatrixIII_torch  21   441       5.5\n",
       "3  KmatrixIII_torch  41  1681      18.5\n",
       "4  KmatrixIII_torch  61  3721      41.3\n",
       "5  KmatrixIII_torch  81  6561      63.8"
      ]
     },
     "execution_count": 134,
     "metadata": {},
     "output_type": "execute_result"
    }
   ],
   "source": [
    "dq = pd.DataFrame(q).transpose()\n",
    "dq2 = dq[dq['method'] == 'KmatrixIII_torch']\n",
    "dq2"
   ]
  },
  {
   "cell_type": "code",
   "execution_count": 218,
   "id": "1f2ff516",
   "metadata": {},
   "outputs": [],
   "source": [
    "def plotme(df):\n",
    "    \n",
    "    fig = plt.figure(figsize=(3.25, 3.50))\n",
    "    \n",
    "    gmodel = LinearModel()\n",
    "    gmodel.make_params(offset=0, slope=0.01)\n",
    "    out = gmodel.fit(df['time [ms]'], x=df['size'])    \n",
    "    \n",
    "    args = {'markerfacecolor': 'white', \n",
    "            'markeredgecolor': 'black', \n",
    "            'markersize': 6, \n",
    "            'color': 'black'}\n",
    "    \n",
    "    fig = out.plot(\n",
    "        xlabel='number of points $N$',\n",
    "        ylabel='run time [ms]',\n",
    "        title=' ', \n",
    "        fig=fig,\n",
    "        data_kws=args)\n",
    "    \n",
    "    fig.axes[1].get_legend().remove() \n",
    "    \n",
    "    plt.gca().set_ylim(bottom=0)\n",
    "    plt.gca().set_xlim(left=0)\n",
    "    \n",
    "    fig.align_ylabels()\n",
    "    fig.tight_layout()\n",
    "    \n",
    "    return out, fig"
   ]
  },
  {
   "cell_type": "code",
   "execution_count": 219,
   "id": "70294aa2",
   "metadata": {},
   "outputs": [
    {
     "data": {
      "image/png": "[encoded data removed]",
      "text/plain": [
       "<Figure size 325x350 with 2 Axes>"
      ]
     },
     "metadata": {},
     "output_type": "display_data"
    }
   ],
   "source": [
    "out, figs['01'] = plotme(dq2)"
   ]
  },
  {
   "cell_type": "markdown",
   "id": "fc43ca14",
   "metadata": {},
   "source": [
    "Print out the best-fit slope and intercept."
   ]
  },
  {
   "cell_type": "code",
   "execution_count": 235,
   "id": "d1b7e8d8",
   "metadata": {},
   "outputs": [
    {
     "name": "stdout",
     "output_type": "stream",
     "text": [
      "slope = 0.0097 +/- 0.0004\n",
      "intercept = 2.0501 +/- 1.4846\n"
     ]
    }
   ],
   "source": [
    "for par in out.params:\n",
    "\n",
    "  print(\"{:} = {:0.4f} +/- {:0.4f}\".format(\n",
    "    par,\n",
    "    out.params[par].value,\n",
    "    out.params[par].stderr))"
   ]
  },
  {
   "cell_type": "markdown",
   "id": "d4f8dba4",
   "metadata": {},
   "source": [
    "Use the best-fit slope and intercept to estimate the run time needed to compute \n",
    "\n",
    "- a 20-point BLDS spectrum assuming \n",
    "- a finite-time model where the $K$ matrices are of size $21 \\times 21$.\n"
   ]
  },
  {
   "cell_type": "code",
   "execution_count": 236,
   "id": "9b35c732",
   "metadata": {},
   "outputs": [
    {
     "name": "stdout",
     "output_type": "stream",
     "text": [
      " 173 ms\n"
     ]
    }
   ],
   "source": [
    "print(f\"{out.params['intercept'].value + (21 * 21 * 40) * out.params['slope'].value: 0.0f} ms\")"
   ]
  },
  {
   "cell_type": "markdown",
   "id": "7f58f8ca",
   "metadata": {},
   "source": [
    "If we could achieve this run time, it would represent a factor of 100 improvement over the 30 seconds required now."
   ]
  },
  {
   "cell_type": "markdown",
   "id": "b3199043",
   "metadata": {},
   "source": [
    "For completeness, print out all the fit results."
   ]
  },
  {
   "cell_type": "code",
   "execution_count": 221,
   "id": "15119872",
   "metadata": {},
   "outputs": [
    {
     "data": {
      "text/html": [
       "<h2>Fit Result</h2> <table class=\"jp-toc-ignore\"><caption class=\"jp-toc-ignore\">Fit Statistics</caption><tr><td style='text-align:left'>fitting method</td><td style='text-align:right'>leastsq</td></tr><tr><td style='text-align:left'># function evals</td><td style='text-align:right'>7</td></tr><tr><td style='text-align:left'># data points</td><td style='text-align:right'>5</td></tr><tr><td style='text-align:left'># variables</td><td style='text-align:right'>2</td></tr><tr><td style='text-align:left'>chi-square</td><td style='text-align:right'> 14.9095879</td></tr><tr><td style='text-align:left'>reduced chi-square</td><td style='text-align:right'> 4.96986264</td></tr><tr><td style='text-align:left'>Akaike info crit.</td><td style='text-align:right'> 9.46283289</td></tr><tr><td style='text-align:left'>Bayesian info crit.</td><td style='text-align:right'> 8.68170871</td></tr></table><table class=\"jp-toc-ignore\"><caption>Parameters</caption><tr><th style='text-align:left'>name</th><th style='text-align:left'>value</th><th style='text-align:left'>standard error</th><th style='text-align:left'>relative error</th><th style='text-align:left'>initial value</th><th style='text-align:left'>min</th><th style='text-align:left'>max</th><th style='text-align:right'>vary</th></tr><tr><td style='text-align:left'>slope</td><td style='text-align:left'> 0.00968078</td><td style='text-align:left'> 4.2817e-04</td><td style='text-align:left'>(4.42%)</td><td style='text-align:left'>1.0</td><td style='text-align:left'>       -inf</td><td style='text-align:left'>        inf</td><td style='text-align:right'>True</td></tr><tr><td style='text-align:left'>intercept</td><td style='text-align:left'> 2.05007912</td><td style='text-align:left'> 1.48456139</td><td style='text-align:left'>(72.41%)</td><td style='text-align:left'>0.0</td><td style='text-align:left'>       -inf</td><td style='text-align:left'>        inf</td><td style='text-align:right'>True</td></tr></table><table class=\"jp-toc-ignore\"><caption>Correlations (unreported values are < 0.100)</caption><tr><th style='text-align:left'>Parameter1</th><th style='text-align:left'>Parameter 2</th><th style='text-align:right'>Correlation</th></tr><tr><td style='text-align:left'>slope</td><td style='text-align:left'>intercept</td><td style='text-align:right'>-0.7409</td></tr></table>"
      ],
      "text/plain": [
       "<lmfit.minimizer.MinimizerResult at 0x3cdea71c0>"
      ]
     },
     "execution_count": 221,
     "metadata": {},
     "output_type": "execute_result"
    }
   ],
   "source": [
    "out.result"
   ]
  },
  {
   "cell_type": "markdown",
   "id": "e789092f",
   "metadata": {},
   "source": [
    "# Conclusions\n",
    "\n",
    "I have sucessfully written torch functions for computing\n",
    "\n",
    "1. the Coulomb matrix and\n",
    "2. the $K_n$ matrices for a Type III sample. \n",
    "\n",
    "These functions give the expected results. They run slightly faster than their numba-compiled counterparts, and their run time scales gently with the number of computations."
   ]
  },
  {
   "cell_type": "markdown",
   "id": "aaf4e88d",
   "metadata": {},
   "source": [
    "::: {.content-hidden when-format=\"html\"}\n",
    "\n",
    "# Save the figures"
   ]
  },
  {
   "cell_type": "code",
   "execution_count": 222,
   "id": "6e31b942",
   "metadata": {},
   "outputs": [],
   "source": [
    "if 1:\n",
    "    for num in figs.keys():\n",
    "        figname = THIS + \"Fig-\" + num\n",
    "        figs[num].savefig(figname + '.png', dpi=300)\n",
    "        figs[num].savefig(figname + '.pdf')"
   ]
  },
  {
   "cell_type": "markdown",
   "id": "eb0155b0",
   "metadata": {},
   "source": [
    "# Formatting notes\n",
    "\n",
    "The header at the top of this file is for creating a nicely-formatted `.html` document using the program `quarto` ([link](https://quarto.org/)).  To create nicely-formated `.html`versions of this notebook, run `quarto` from the command line as follows\n",
    "\n",
    "    quarto render dissipation-theory--Study-67.ipynb && open dissipation-theory--Study-67.html\n",
    "    \n",
    ":::"
   ]
  },
  {
   "cell_type": "code",
   "execution_count": null,
   "id": "29a5dab5",
   "metadata": {},
   "outputs": [],
   "source": []
  }
 ],
 "metadata": {
  "kernelspec": {
   "display_name": "dissipationtheory",
   "language": "python",
   "name": "dissipationtheory"
  },
  "language_info": {
   "codemirror_mode": {
    "name": "ipython",
    "version": 3
   },
   "file_extension": ".py",
   "mimetype": "text/x-python",
   "name": "python",
   "nbconvert_exporter": "python",
   "pygments_lexer": "ipython3",
   "version": "3.10.2"
  },
  "toc": {
   "base_numbering": 1,
   "nav_menu": {},
   "number_sections": true,
   "sideBar": true,
   "skip_h1_title": false,
   "title_cell": "Table of Contents",
   "title_sidebar": "Contents",
   "toc_cell": false,
   "toc_position": {
    "height": "624px",
    "left": "1024px",
    "top": "111.133px",
    "width": "519px"
   },
   "toc_section_display": true,
   "toc_window_display": true
  }
 },
 "nbformat": 4,
 "nbformat_minor": 5
}
