{
 "cells": [
  {
   "cell_type": "raw",
   "id": "96279e23",
   "metadata": {},
   "source": [
    "---\n",
    "title: Try to speed up the `twodimCobject.properties_am()` function using parallel processing\n",
    "author: \"John A. Marohn\"\n",
    "date: \n",
    "abstract: Having sped up the calculation of the $K_n$ matrices slighly by replacing compiled numpy operations on the CPU with torch computations on the GPU, here I try to obtain a further speedup using parallel processing.  I explore parallel processing using the `concurrent`, `multiprocessing`, and `multiprocess` packages.  All these packages employ pickling.  The `multiprocess` package (using `dill` under the hood) can pickle complicated objects like `twodimCobject`.  Even so, to use `multiprocess` I had to rewrite `twodimCobject` to use `SampleModel3` instead of `SampleModel3Jit` (which was unpickleable). The new `twodimCobject` can be found in `dissipation14e.py` along with `twodimCobjectExperimental` which has mockup code looping over the `.solve()` function using (Method 1) `concurrent.futures.ThreadPoolExecutor`, (Method 2) `multiprocess.Process`, and (Method 3) `concurrent.futures.ProcessPoolExecutor`.  Method 1 took milliseconds, but was no faster than looping; Methods 2 and 3 took seconds. In summary, I have been unable to achieve a further speedup using parallel processing, at least running in a Jupyter notebook.  Future work should focus in implementing parallel computations on the GPU instead.\n",
    "toc: true\n",
    "number-sections: true\n",
    "highlight-style: pygments\n",
    "embed-resources: true\n",
    "dpi: 300\n",
    "format:\n",
    "    html:\n",
    "        html-math-method:\n",
    "          method: mathjax\n",
    "          url: \"https://cdn.jsdelivr.net/npm/mathjax@3/es5/tex-mml-chtml.js\"\n",
    "        code-fold: true\n",
    "        code-tools: true\n",
    "jupyter: python3\n",
    "---"
   ]
  },
  {
   "cell_type": "markdown",
   "id": "e5de6e1b",
   "metadata": {},
   "source": [
    "We have moved the Study 68 code into `dissipation14e.py`. \\\n",
    "Now develop a new `twodimCobject` adapted to torch and the GPU."
   ]
  },
  {
   "cell_type": "code",
   "execution_count": 12,
   "id": "5caa0c57",
   "metadata": {},
   "outputs": [
    {
     "name": "stdout",
     "output_type": "stream",
     "text": [
      "/Users/jam99/Library/Caches/pypoetry/virtualenvs/dissipationtheory-Uvi85QQO-py3.10/bin/python\n"
     ]
    }
   ],
   "source": [
    "import sys\n",
    "print(sys.executable)"
   ]
  },
  {
   "cell_type": "code",
   "execution_count": 13,
   "id": "dd73785f",
   "metadata": {},
   "outputs": [],
   "source": [
    "import torch\n",
    "import numpy as np\n",
    "import scipy\n",
    "import pandas as pd\n",
    "import matplotlib.pylab as plt\n",
    "import time"
   ]
  },
  {
   "cell_type": "code",
   "execution_count": 14,
   "id": "1eb4f6d7",
   "metadata": {},
   "outputs": [],
   "source": [
    "from dissipationtheory.constants import ureg, qe, epsilon0\n",
    "from dissipationtheory.dissipation9a import CantileverModel, SampleModel3\n",
    "from dissipationtheory.dissipation9b import SampleModel3Jit, integrand3jit\n",
    "from dissipationtheory.dissipation13e import Cmatrix_jit, KmatrixIII_jit\n",
    "from dissipationtheory.dissipation13e import twodimCobject as twodimCobject_old "
   ]
  },
  {
   "cell_type": "code",
   "execution_count": 15,
   "id": "a906de93",
   "metadata": {},
   "outputs": [],
   "source": [
    "from dissipationtheory.dissipation14e import get_device, Cmatrix, KmatrixIII"
   ]
  },
  {
   "cell_type": "code",
   "execution_count": 16,
   "id": "7cae1e03",
   "metadata": {},
   "outputs": [],
   "source": [
    "THIS = 'dissipation-theory--Study-68--'\n",
    "figs = {}"
   ]
  },
  {
   "cell_type": "markdown",
   "id": "c88fe627",
   "metadata": {},
   "source": [
    "# Test drive the new `Cmatrix` and `KmatrixIII` functions\n",
    "\n",
    "A representative calculation from Study 67, using the new `Cmatrix` and `KmatrixIII` functions from `dissipation14e.py`."
   ]
  },
  {
   "cell_type": "code",
   "execution_count": 17,
   "id": "43ee64d3",
   "metadata": {},
   "outputs": [
    {
     "name": "stdout",
     "output_type": "stream",
     "text": [
      "Using MPS (Apple Silicon GPU)\n"
     ]
    }
   ],
   "source": [
    "device = get_device(verbose=True)\n",
    "\n",
    "cantilever = CantileverModel(\n",
    "    f_c=ureg.Quantity(62, \"kHz\"),\n",
    "    k_c=ureg.Quantity(2.8, \"N/m\"),\n",
    "    V_ts=ureg.Quantity(1, \"V\"),\n",
    "    R=ureg.Quantity(60, \"nm\"),\n",
    "    angle=ureg.Quantity(20, \"degree\"),\n",
    "    L=ureg.Quantity(1000, \"nm\"),\n",
    ")\n",
    "\n",
    "sample3 = SampleModel3(\n",
    "    cantilever=cantilever,\n",
    "    epsilon_s=ureg.Quantity(complex(20, 0), \"\"),\n",
    "    sigma=ureg.Quantity(1e-6, \"S/m\"),\n",
    "    rho=ureg.Quantity(1e19, \"1/m^3\"),\n",
    "    z_r=ureg.Quantity(1, \"nm\"),\n",
    ")\n",
    "\n",
    "sample3_jit = SampleModel3Jit(**sample3.args())\n",
    "\n",
    "loc1_nm = np.array([[ 0,  0, 20], [ 0,  0, 30]], dtype=np.float64)\n",
    "loc2_nm = np.array([[ 0, 20, 20], [ 0, 30, 30]], dtype=np.float64)\n",
    "\n",
    "loc1_m = 1e-9 * loc1_nm\n",
    "loc2_m = 1e-9 * loc2_nm\n",
    "\n",
    "omega = 1e5 * 2 * np.pi\n",
    "\n",
    "params3_jit = {\n",
    "        \"integrand\": integrand3jit,\n",
    "        \"sample\": sample3_jit,\n",
    "        \"omega\": omega,\n",
    "        \"location1\": loc1_m,\n",
    "        \"location2\": loc2_m,\n",
    "    }\n",
    "\n",
    "j0s = scipy.special.jn_zeros(0,100.)\n",
    "an, _ = scipy.integrate.newton_cotes(20, 1)\n",
    "\n",
    "args = {'omega': omega, \n",
    "    'omega0': params3_jit['sample'].omega0,\n",
    "    'kD': params3_jit['sample'].kD,\n",
    "    'es': params3_jit['sample'].epsilon_s, \n",
    "    'sj': loc1_nm, \n",
    "    'rk': loc2_nm, \n",
    "    'j0s': j0s, \n",
    "    'an': an,\n",
    "    'verbose': False,\n",
    "    'breakpoints': 15}\n",
    "\n",
    "omega0 = params3_jit[\"sample\"].omega0\n",
    "kD = params3_jit[\"sample\"].kD\n",
    "es = params3_jit[\"sample\"].epsilon_s\n",
    "sj = torch.as_tensor(loc1_nm.astype(np.float32), device=device)\n",
    "rk = torch.as_tensor(loc2_nm.astype(np.float32), device=device)\n",
    "pts = 3000"
   ]
  },
  {
   "cell_type": "code",
   "execution_count": 18,
   "id": "4d21e319",
   "metadata": {},
   "outputs": [
    {
     "name": "stdout",
     "output_type": "stream",
     "text": [
      "True\n"
     ]
    }
   ],
   "source": [
    "Ctorch = Cmatrix(sj, rk)\n",
    "C0jit = Cmatrix_jit(loc1_nm, loc2_nm)\n",
    "\n",
    "print(np.allclose(C0jit, Ctorch.cpu()))"
   ]
  },
  {
   "cell_type": "code",
   "execution_count": 19,
   "id": "897ca0fc",
   "metadata": {},
   "outputs": [
    {
     "name": "stdout",
     "output_type": "stream",
     "text": [
      "True True True\n"
     ]
    }
   ],
   "source": [
    "K0torch, K1torch, K2torch = KmatrixIII(omega, omega0, kD, es, sj, rk, pts, device)\n",
    "K0jit, K1jit, K2jit = KmatrixIII_jit(**args)\n",
    "\n",
    "print(\n",
    "    np.allclose(K0jit, K0torch.cpu()),\n",
    "    np.allclose(K1jit, K1torch.cpu()),\n",
    "    np.allclose(K2jit, K2torch.cpu()),\n",
    ")"
   ]
  },
  {
   "cell_type": "markdown",
   "id": "85f2f976",
   "metadata": {},
   "source": [
    "# New `twodimCobject` running on the GPU (and CPU)\n",
    "\n",
    "The main modifications to `twodimCobject` are calling `KmatrixIII` instead of `KmatrixIII_jit`.\n",
    "\n",
    "It would be nice to keep all the matrix operations on the GPU, but unfortunately there is no torch implimentation of the singular value decomposition (SVD) routine running in the MPS backend code ([pytorch issue 125537](https://github.com/pytorch/pytorch/issues/125537)).  I need this MPS backend to use torch on my Apple M3 GPU.  \n",
    "\n",
    "In the following code, I get the $C$ and $K_n$ matrices off the GPU and onto the CPU for the SVD step and subsequent matrix multiplications.\n",
    "\n",
    "In `solve`, I tried to keep as many matrices as possible on the GPU, but this actually slowed things down, by a factor of ten.  I hypothesize that his slowdown is the results of sending matrices back up to the GPU after the SVD step.  So for now, determine the $C$ matrix and the $K_n$ matrices on the GPU and do all the subsequent linear algebra on the CPU."
   ]
  },
  {
   "cell_type": "code",
   "execution_count": 20,
   "id": "ec4cd0ab",
   "metadata": {},
   "outputs": [],
   "source": [
    "class twodimCobject():\n",
    "\n",
    "    def __init__(self, sample, device):\n",
    "        \"\"\"Here sample is a SampleModel1Jit, SampleModel2Jit, SampleModel3Jit, or SampleModel4Jit object.\"\"\"\n",
    "\n",
    "        self.sample = sample\n",
    "        self.device = device\n",
    "\n",
    "        self.Vr = ureg.Quantity(1, 'V')\n",
    "        self.zr = ureg.Quantity(1, 'nm')\n",
    "\n",
    "        self.results = {}\n",
    "        self.results['Vts [V]'] = self.sample.cantilever.V_ts\n",
    "        self.keys = ['Vts [V]']\n",
    "\n",
    "        self.alpha = 0.0  # regularization parameter, unitless\n",
    "        self.pts = 3000   # number of points used for numerical integration, unitless\n",
    "\n",
    "        self.results['regularization parameter alpha'] = self.alpha\n",
    "        self.results['integration points'] = self.pts\n",
    "        self.keys += ['regularization parameter alpha', 'integration points']\n",
    "        \n",
    "    def print_results(self):\n",
    "        \n",
    "        df = pd.DataFrame.from_dict(\n",
    "            obj.results,\n",
    "            orient='index',\n",
    "            columns=['value'])\n",
    "        \n",
    "        display(df)\n",
    "        \n",
    "    @property\n",
    "    def cG(self):\n",
    "        return (qe / (4 * np.pi * epsilon0 * self.Vr * self.zr)).to('dimensionless').magnitude\n",
    "    \n",
    "    @property\n",
    "    def cGinv(self):\n",
    "        return 1/self.cG\n",
    "    \n",
    "    def addsphere(self, h, N, M, theta_start=-np.pi/2, theta_stop=3*np.pi/2, theta_endpoint=False):\n",
    "        \"\"\"Model a sphere of radius $r$ above a ground plane, with a tip-sample\n",
    "        separation of $h$.  Create image-charge points $r_j$ and voltage-test \n",
    "        points $r_k$.  The $N$ image-charge points are placed along a vertical\n",
    "        line extending from $h + 0.1 r$ to $h + 1.90 r$. The $M$ voltage-test \n",
    "        points are located uniformly around the sphere, starting at the south \n",
    "        pole, $\\theta = -\\pi/2$, and rotating counter clockwise. Initialize the\n",
    "        values of the image charges at 1.0.  Creates two arrays: \n",
    "        (a) self.sj, the voltage-test points, and (b) self.rk, the image-charge\n",
    "        points, with the coordinates in nanometers. \n",
    "        \"\"\"\n",
    "\n",
    "        # read from sample.cantilever object\n",
    "        r = ureg.Quantity(self.sample.cantilever.R, 'm').to('nm').magnitude\n",
    "\n",
    "        # convert to nm and strip units\n",
    "        h = h.to('nm').magnitude\n",
    "        \n",
    "        # charge locations\n",
    "        delta_array = np.linspace(start=-0.90, stop=0.90, endpoint=True, num=N)\n",
    "        self.rk = np.array([[0, 0, h + r + r * delta] for  delta in delta_array])\n",
    "\n",
    "        # voltage-test locations\n",
    "        theta_array = np.linspace(start=theta_start, stop=theta_stop, endpoint=theta_endpoint, num=M)\n",
    "        self.sj = np.array([[r * np.cos(theta), 0, h + r + r * np.sin(theta)] for theta in theta_array])\n",
    "        \n",
    "        # save these\n",
    "        self.info = {'type': 'sphere', \n",
    "                     'r [nm]': r, \n",
    "                     'h [nm]': h, \n",
    "                     'N': N,\n",
    "                     'M': M }\n",
    "\n",
    "        self.title1 = f'sphere, $r$ = {r:0.1f} nm, $h$ = {h:0.1f} nm, $N$ = {N:d} image charges, $M$ = {M:d} test points'\n",
    "        self.title2 = ''\n",
    "\n",
    "        # Initialize these results, useful for plotting\n",
    "\n",
    "        results = {\n",
    "            'alpha': self.alpha, \n",
    "            'q': np.ones(N),\n",
    "            'S': np.ones(N),\n",
    "            'Sinv': np.ones(N),\n",
    "            'cn': 0, \n",
    "            'V': np.zeros(M)}\n",
    "\n",
    "        self.results.update(results)\n",
    "        \n",
    "    def addtip(self, h):\n",
    "        \"\"\"Model a cone-sphere tip above a ground plane.  The tip-sample\n",
    "        separation is $h$.  The tip radius is $r$, the cone length is $L$,\n",
    "        and the cone angle is $theta$ (read from self.sample.cantilever). \n",
    "        The $N_z$ image-charge points and the $N_r$ voltage test points \n",
    "        are placed following Xu and coworkers, Xu, J.; Li, J.; Li, W. \n",
    "        Calculating Electrostatic Interactions in Atomic Force Microscopy \n",
    "        with Semiconductor Samples. *AIP Advances* 2019, 9(10): 105308, \n",
    "        https://doi.org/10.1063/1.5110482.\"\"\"\n",
    "        \n",
    " \n",
    "        # convert h to nm and strip units\n",
    "        h = h.to('nm').magnitude\n",
    "        \n",
    "        # read from sample.cantilever object\n",
    "        r = ureg.Quantity(self.sample.cantilever.R, 'm').to('nm').magnitude  # unitless, nm\n",
    "        L = ureg.Quantity(self.sample.cantilever.L, 'm').to('nm').magnitude  # unitless, nm\n",
    "        theta = ureg.Quantity(self.sample.cantilever.angle, 'degree')        # keep units \n",
    "        \n",
    "        # convert to radians \n",
    "        thetar = theta.to('radian').magnitude\n",
    "\n",
    "        dz = r**2/(2 * (r + h))\n",
    "        d2 = h + r * (1 - np.sin(thetar))\n",
    "        \n",
    "        Nt = 3\n",
    "        Nc = int(np.floor(np.sqrt((L - r) / dz)))\n",
    "        Nz = Nt + Nc\n",
    "        \n",
    "        rk = np.zeros((Nz, 3))\n",
    "        rk[0,:] = np.array([0, 0, np.sqrt(2 * r * h + h**2)])\n",
    "        rk[1,:] = np.array([0, 0, h + r - dz])\n",
    "        rk[2,:] = np.array([0, 0, h + r])\n",
    "        for k in np.arange(3, Nz):\n",
    "            rk[k,0] = 0\n",
    "            rk[k,1] = 0\n",
    "            rk[k,2] = rk[k-1,2] + dz * (2 * k - 5)\n",
    "        \n",
    "        self.rk = rk\n",
    "\n",
    "        Nr = Nz\n",
    "        sj = np.zeros((Nr, 3))\n",
    "        sj[0,:] = np.array([0, 0, h])\n",
    "        sj[1,:] = np.array([r * np.sin((np.pi/2 - thetar)/2), 0, h + r * (1 - np.cos((np.pi/2 - thetar)/2))])\n",
    "        sj[2,:] = np.array([r * np.cos(thetar), 0, h + r * (1 - np.sin(thetar))])\n",
    "        for k in np.arange(3, Nz):\n",
    "            sj[k,2] = (rk[k,2] + rk[k-1,2])/2\n",
    "            sj[k,1] = 0\n",
    "            sj[k,0] = r * np.cos(thetar) + (sj[k,2] - d2) * np.tan(thetar)\n",
    "\n",
    "        self.sj = sj\n",
    "        \n",
    "        # save these\n",
    "        self.info = {'type': 'sphere-tipped cone', \n",
    "                     'r [nm]': r, \n",
    "                     'h [nm]': h, \n",
    "                     'L [nm]': L, \n",
    "                     'theta [degree]': theta.to('degree').magnitude, \n",
    "                     'N': Nz,\n",
    "                     'M': Nr}\n",
    "        \n",
    "        self.title1 = f'sphere-tipped cone, $r$ = {r:0.1f} nm, $h$ = {h:0.1f} nm, ' \\\n",
    "            f'$L$ = {L:0.1f} nm, $\\\\theta$ = {theta:0.1f}, $N_z$ = {Nz:d}, $N_r$ = {Nr:d}'\n",
    "        self.title2 = ''\n",
    "        \n",
    "        # Initialize these results, useful for plotting\n",
    "\n",
    "        results = {\n",
    "            'alpha': self.alpha, \n",
    "            'q': np.ones(Nz),\n",
    "            'S': np.ones(Nz),\n",
    "            'Sinv': np.ones(Nz),\n",
    "            'cn': 0, \n",
    "            'V': np.zeros(Nr)}\n",
    "\n",
    "        self.results.update(results)\n",
    "\n",
    "    def plot(self, N=0, M=0):\n",
    "        \"\"\"Plot, from left to right, (a) the voltage test points and the computed \n",
    "        image charges, (b) the relative voltage error around the object in parts per\n",
    "        million, (c) image charge value versus position, and (d) singular values \n",
    "        for the response-function matrix.\"\"\"\n",
    "\n",
    "        if N == 0:\n",
    "            N = self.info['N']\n",
    "\n",
    "        if M == 0:\n",
    "            M = self.info['M']\n",
    "        \n",
    "        fig, (ax1, ax2, ax3, ax4) = plt.subplots(1, 4, figsize=(8.00, 2.5))\n",
    "        \n",
    "        fig.suptitle(self.title1 + '\\n' + self.title2, fontsize=10)\n",
    "    \n",
    "        cmap = plt.get_cmap('RdBu')\n",
    "        ax1.scatter(self.rk[0:N,0], self.rk[0:N,2], \n",
    "            marker='.', c=self.results['q'][0:N], cmap=cmap, \n",
    "            alpha=0.5, edgecolors='face',\n",
    "            vmin=-max(abs(self.results['q'][0:N])), \n",
    "            vmax=max(abs(self.results['q'][0:N])))\n",
    "        ax1.scatter(self.sj[0:M,0], self.sj[0:M,2], marker='.')\n",
    "        ax1.set_xlabel('$x$ [nm]')\n",
    "        ax1.set_ylabel('$z$ [nm]')\n",
    "        ax1.axis('equal')\n",
    "\n",
    "        ax2.plot(self.rk[0:N,2], self.results['q'][0:N], '.-')\n",
    "        ax2.set_xlabel('$(r_j)_{z}$ [nm]')\n",
    "        ax2.set_ylabel('$q/q_{e}$')\n",
    "        ax2.set_title(r''.format(), fontsize=10)\n",
    "\n",
    "        V = self.results['V'][0:M]\n",
    "        ax3.plot(1e6 * (V - np.ones_like(V)), '.-')\n",
    "        ax3.set_xlabel('index')\n",
    "        ax3.set_ylabel(r'$\\delta V/V_0$ [ppm]')\n",
    "        \n",
    "        ax4.plot(self.results['S'][0:N], label='$\\Lambda_k$')\n",
    "        ax4.plot(self.results['Sinv'][0:N], label=r'${\\mathrm{filt}}(\\Lambda_k^{-1})$')\n",
    "        ax4.set_xlabel('index $k$')\n",
    "        ax4.set_ylabel('SVD')\n",
    "        ax4.set_yscale('log')\n",
    "        ax4.legend(fontsize=6, frameon=False)\n",
    "        \n",
    "        fig.tight_layout()\n",
    "        \n",
    "        return fig        \n",
    "        \n",
    "    def set_alpha(self, alpha):\n",
    "        \"\"\"Set the regularization parameter alpha.  This is a unitless number.\"\"\"\n",
    "        \n",
    "        self.alpha = alpha\n",
    "        self.results['alpha'] = alpha\n",
    "\n",
    "    def set_integration_points(self, pts):\n",
    "        \"\"\"Set the number of breakpoints to use in the numerical integration.\"\"\"\n",
    "        \n",
    "        self.pts = pts\n",
    "        self.results['integration points'] = pts\n",
    "\n",
    "    def solve(self, omega):\n",
    "        \"\"\"Solve for the charges.  The parameter $\\alpha$ is used to filter\n",
    "        the singular values in the inverse.  The parameter omega is the unitless\n",
    "        cantilever frequency in rad/s.       \n",
    "        \"\"\"\n",
    "        \n",
    "        sj = torch.as_tensor(self.sj.astype(np.float32), device=device)\n",
    "        rk = torch.as_tensor(self.rk.astype(np.float32), device=device)\n",
    "        \n",
    "        Ctensor = Cmatrix(sj, rk)\n",
    "        \n",
    "        if self.sample.type == 3:\n",
    "            \n",
    "            omega0 = self.sample.omega0\n",
    "            kD = self.sample.kD\n",
    "            es = self.sample.epsilon_s\n",
    "            \n",
    "            K0tensor, K1tensor, K2tensor = KmatrixIII(omega, omega0, kD, es, sj, rk, self.pts, self.device)\n",
    "            \n",
    "        else:\n",
    "            \n",
    "            raise Exception(\"unknown sample type\")\n",
    "            \n",
    "        K0 = K0tensor.cpu().numpy() \n",
    "        K1 = K1tensor.cpu().numpy()\n",
    "        K2 = K2tensor.cpu().numpy()\n",
    "        C = Ctensor.cpu().numpy()\n",
    "        \n",
    "        G0 = C - K0\n",
    "        alpha = self.alpha\n",
    "    \n",
    "        U, S, VT = np.linalg.svd(G0, full_matrices=False) # svd not implemented yet in torch for M1\n",
    "        \n",
    "        filt = np.diag(np.power(S, 2)/(np.power(S, 2) + alpha**2))\n",
    "        Sinv = filt * np.diag(np.power(S, -1))\n",
    "        G0inv = VT.T @ Sinv @ U.T\n",
    "        \n",
    "        self.results['S'] = S                # unitless\n",
    "        self.results['Sinv'] = np.diag(Sinv) # unitless\n",
    "        self.results['cn'] = S.max()/S.min() # unitless\n",
    "        \n",
    "        IdN = np.ones(self.info['N']).T\n",
    "        IdM = np.ones(self.info['M'])\n",
    "        \n",
    "        L0 = IdN @ G0inv @ IdM\n",
    "        L1 = -2 * IdN @ G0inv @ K1 @ G0inv @ IdM\n",
    "        L2 = 4 * IdN @ (G0inv @ K2 @ G0inv + 2 * G0inv @ K1 @ G0inv @ K1 @ G0inv) @ IdM\n",
    "\n",
    "        Q = self.cGinv * complex(0,1) * G0inv @ IdM\n",
    "        V = -1 * complex(0,1) * self.cG * G0 @ Q\n",
    "\n",
    "        self.results['q'] = np.imag(Q) # units of qe \n",
    "        self.results['V'] = np.real(V) # units of Vr\n",
    "                \n",
    "        Vrms = np.std(V - np.ones_like(V))\n",
    "        \n",
    "        self.results['Vrms [ppm]'] = 1e6 * np.real(Vrms) # units of Vr        \n",
    "        \n",
    "        return L0, L1, L2\n",
    "    \n",
    "    def properties_am(self, omega_m, omega_am):\n",
    "        \"\"\"Compute the cantilever force and steady-state frequency shift when an \n",
    "        amplitude-modulated AC voltage is applied to the cantilever, with omega_m \n",
    "        the voltage oscillation frequency and omega_am the amplitude oscillation\n",
    "        frequency. The parameter alpha is used to filter the singular values in \n",
    "        the inverse.  The results are stored in self.results, which is a dictionary\n",
    "        including the following keys:\n",
    "        \n",
    "        - 'Fam [pN]': the steady-state force on the cantilever\n",
    "        - 'Delta f am [Hz]': the steady-state frequency shift of the cantilever\n",
    "\n",
    "        The results are in the units of the ureg module, which is a wrapper around\n",
    "        the Pint unit system.`\n",
    "        \n",
    "        \"\"\"\n",
    "\n",
    "        # Lambda values at six frequencies: \n",
    "        #\n",
    "        #   +/- omega_m\n",
    "        #   +/- (omega_m + omega_am)\n",
    "        #   +/- (omega_m - omega_am)\n",
    "\n",
    "        L0a, L1a, L2a = self.solve( omega_m)\n",
    "        L0b, L1b, L2b = self.solve(-omega_m)\n",
    "        L0c, L1c, L2c = self.solve( omega_m + omega_am)\n",
    "        L0d, L1d, L2d = self.solve(-omega_m - omega_am)\n",
    "        L0e, L1e, L2e = self.solve( omega_m - omega_am)\n",
    "        L0f, L1f, L2f = self.solve(-omega_m + omega_am)\n",
    "\n",
    "\n",
    "        for key, val in zip(\n",
    "            ['L0a', 'L1a', 'L2a',\n",
    "             'L0b', 'L1b', 'L2b',\n",
    "             'L0c', 'L1c', 'L2c',\n",
    "             'L0d', 'L1d', 'L2d',\n",
    "             'L0e', 'L1e', 'L2e',\n",
    "             'L0f', 'L1f', 'L2f'],\n",
    "            [L0a, L1a, L2a, \n",
    "             L0b, L1b, L2b, \n",
    "             L0c, L1c, L2c, \n",
    "             L0d, L1d, L2d, \n",
    "             L0e, L1e, L2e, \n",
    "             L0f, L1f, L2f]):\n",
    "\n",
    "            self.results[key] = val\n",
    "\n",
    "        # Shorthand\n",
    "        \n",
    "        V0 = ureg.Quantity(self.sample.cantilever.V_ts, 'V')\n",
    "        fc = ureg.Quantity(self.sample.cantilever.f_c, 'Hz')\n",
    "        kc = ureg.Quantity(self.sample.cantilever.k_c, 'N/m')\n",
    "        \n",
    "        # Properties\n",
    "\n",
    "        c1 = 2 * np.pi * epsilon0 * V0**2\n",
    "        Fam = c1 * np.imag(complex(0,1) * (L1a/16 + L1b/16 + L1c/64 + L1d/64 + L1e/64 + L1f/64)) \n",
    "        self.results['Fam [pN]'] = Fam.to('pN').magnitude\n",
    "\n",
    "        c2 = - (fc * np.pi * epsilon0 * V0**2) / (kc * self.zr)\n",
    "        dfam= c2 * (np.imag(complex(0,1) * (L2a/16 + L2b/16 + L2c/64 + L2d/64 + L2e/64 + L2f/64)))\n",
    "        self.results['Delta f am [Hz]'] = dfam.to('Hz').magnitude\n",
    "\n",
    "        self.keys += ['Delta f am [Hz]']\n",
    "\n",
    "    def print_key_results(self):\n",
    "\n",
    "        print('-'*58)\n",
    "        for key in self.keys:\n",
    "            print('{0:30s} {1:11.3f}    {1:+0.6e}'.format(\n",
    "                key.rjust(30),\n",
    "                self.results[key]))\n",
    "        print('-'*58)"
   ]
  },
  {
   "cell_type": "markdown",
   "id": "00bb0558",
   "metadata": {},
   "source": [
    "Compute the frequency shift for AM modulation."
   ]
  },
  {
   "cell_type": "code",
   "execution_count": 21,
   "id": "59adb00f",
   "metadata": {},
   "outputs": [
    {
     "data": {
      "text/plain": [
       "((72.39419113099575+0.031886892228200736j),\n",
       " (-0.09508153414019105-2.2178829430239965e-05j),\n",
       " (0.0014857568880799477+8.864060688021369e-07j))"
      ]
     },
     "execution_count": 21,
     "metadata": {},
     "output_type": "execute_result"
    }
   ],
   "source": [
    "obj1 = twodimCobject(sample3_jit, device)\n",
    "obj1.addsphere(ureg.Quantity(100,'nm'), 21, 21)\n",
    "obj1.set_alpha(1.0e-6)\n",
    "obj1.set_integration_points(315)\n",
    "obj1.solve(omega=1.0e5)"
   ]
  },
  {
   "cell_type": "code",
   "execution_count": 22,
   "id": "9368bb9b",
   "metadata": {},
   "outputs": [],
   "source": [
    "obj1 = twodimCobject(sample3_jit, device)\n",
    "obj1.addsphere(ureg.Quantity(100,'nm'), 21, 21)\n",
    "obj1.set_alpha(1.0e-6)\n",
    "obj1.set_integration_points(315)\n",
    "obj1.properties_am(omega_m=1.0e5, omega_am = 250.)"
   ]
  },
  {
   "cell_type": "code",
   "execution_count": 23,
   "id": "051cde36",
   "metadata": {
    "scrolled": true
   },
   "outputs": [
    {
     "name": "stdout",
     "output_type": "stream",
     "text": [
      "----------------------------------------------------------\n",
      "                       Vts [V]       1.000    +1.000000e+00\n",
      "regularization parameter alpha       0.000    +0.000000e+00\n",
      "            integration points     315.000    +3.150000e+02\n",
      "               Delta f am [Hz]      -0.172    -1.715395e-01\n",
      "----------------------------------------------------------\n"
     ]
    }
   ],
   "source": [
    "obj1.print_key_results()"
   ]
  },
  {
   "cell_type": "code",
   "execution_count": 24,
   "id": "68bcfc52",
   "metadata": {},
   "outputs": [
    {
     "data": {
      "image/png": "[encoded data removed]",
      "text/plain": [
       "<Figure size 800x250 with 4 Axes>"
      ]
     },
     "metadata": {},
     "output_type": "display_data"
    }
   ],
   "source": [
    "figs['01a'] = obj1.plot()"
   ]
  },
  {
   "cell_type": "code",
   "execution_count": 25,
   "id": "a49ae974",
   "metadata": {},
   "outputs": [
    {
     "name": "stdout",
     "output_type": "stream",
     "text": [
      "15.4 ms ± 1.24 ms per loop (mean ± std. dev. of 7 runs, 10 loops each)\n"
     ]
    }
   ],
   "source": [
    "%timeit obj1.properties_am(omega_m=1.0e5, omega_am = 250.)"
   ]
  },
  {
   "cell_type": "markdown",
   "id": "d47af006",
   "metadata": {},
   "source": [
    "Compare to compiled Python code."
   ]
  },
  {
   "cell_type": "code",
   "execution_count": 26,
   "id": "066e498e",
   "metadata": {},
   "outputs": [],
   "source": [
    "obj2 = twodimCobject_old(sample3_jit)\n",
    "obj2.addsphere(ureg.Quantity(100,'nm'), 21, 21)\n",
    "obj2.set_alpha(1.0e-6)\n",
    "obj2.set_breakpoints(15)\n",
    "obj2.properties_am(omega_m=1.0e5, omega_am = 250.)"
   ]
  },
  {
   "cell_type": "code",
   "execution_count": 27,
   "id": "2dce6ac5",
   "metadata": {},
   "outputs": [
    {
     "name": "stdout",
     "output_type": "stream",
     "text": [
      "--------------------------------------------------\n",
      "           Vts [V]       1.000    +1.000000e+00\n",
      "             alpha       0.000    +1.000000e-06\n",
      "       breakpoints      15.000    +1.500000e+01\n",
      "   Delta f am [Hz]      -0.171    -1.714182e-01\n",
      "--------------------------------------------------\n"
     ]
    }
   ],
   "source": [
    "obj2.print_key_results()"
   ]
  },
  {
   "cell_type": "code",
   "execution_count": 28,
   "id": "fc96e9b5",
   "metadata": {},
   "outputs": [
    {
     "data": {
      "image/png": "[encoded data removed]",
      "text/plain": [
       "<Figure size 800x250 with 4 Axes>"
      ]
     },
     "metadata": {},
     "output_type": "display_data"
    }
   ],
   "source": [
    "figs['01b'] = obj2.plot()"
   ]
  },
  {
   "cell_type": "code",
   "execution_count": 29,
   "id": "93b09590",
   "metadata": {},
   "outputs": [
    {
     "name": "stdout",
     "output_type": "stream",
     "text": [
      "86.5 ms ± 3.52 ms per loop (mean ± std. dev. of 7 runs, 10 loops each)\n"
     ]
    }
   ],
   "source": [
    "%timeit obj2.properties_am(omega_m=1.0e5, omega_am = 250.)"
   ]
  },
  {
   "cell_type": "markdown",
   "id": "b091c338",
   "metadata": {},
   "source": [
    "The torch code shows only a modest improvement in run time, a factor of 5. \\\n",
    "\n",
    "Note that \n",
    "\n",
    "1. the $\\delta V/V_0$ plots are very different and \n",
    "2. the frequency shifts are noticibly different too.\n",
    "\n",
    "Compare the two computed frequency shifts. \\\n",
    "Write a short function to compare two numbers."
   ]
  },
  {
   "cell_type": "code",
   "execution_count": 30,
   "id": "d6fa3795",
   "metadata": {},
   "outputs": [],
   "source": [
    "def compare_two(a, b):\n",
    "    print('a - b = {:0.6f} and (a - b)/a = {:0.1e} = {:0.3}%'.format(\n",
    "        a - b, (a - b)/a, 100 * (a - b)/a))"
   ]
  },
  {
   "cell_type": "markdown",
   "id": "64b9009d",
   "metadata": {},
   "source": [
    "Print out the absolute difference and the relative difference."
   ]
  },
  {
   "cell_type": "code",
   "execution_count": 31,
   "id": "29b34c1b",
   "metadata": {},
   "outputs": [
    {
     "name": "stdout",
     "output_type": "stream",
     "text": [
      "a - b = -0.000121 and (a - b)/a = 7.1e-04 = 0.0707%\n"
     ]
    }
   ],
   "source": [
    "compare_two(\n",
    "    a=obj1.results['Delta f am [Hz]'],\n",
    "    b=obj2.results['Delta f am [Hz]'])"
   ]
  },
  {
   "cell_type": "markdown",
   "id": "f793d004",
   "metadata": {},
   "source": [
    "The difference is tolerable. \\\n",
    "I attribute the difference to the distinct integration schemes used by the CPU and GPU code."
   ]
  },
  {
   "cell_type": "markdown",
   "id": "e673bc69",
   "metadata": {},
   "source": [
    "# Parallel processing example code"
   ]
  },
  {
   "cell_type": "code",
   "execution_count": 21,
   "id": "fd5fc116",
   "metadata": {},
   "outputs": [],
   "source": [
    "import time  \n",
    "import concurrent.futures\n",
    "import numpy as np\n",
    "import random"
   ]
  },
  {
   "cell_type": "markdown",
   "id": "21cc6c10",
   "metadata": {},
   "source": [
    "## Example 1\n",
    "\n",
    "This code is copied from `multi2.py`.  \\\n",
    "I am surprised that it works in the Jupyter notebook1"
   ]
  },
  {
   "cell_type": "code",
   "execution_count": 24,
   "id": "10a9ad11",
   "metadata": {},
   "outputs": [],
   "source": [
    "def compute(seconds):\n",
    "    \"\"\"A simple function that sleeps for a given number of seconds.\"\"\"\n",
    "    \n",
    "    id = random.randint(1000, 9999)\n",
    "    print(f'starting process {id} for {seconds} seconds')\n",
    "    time.sleep(seconds)\n",
    "    return f'  finish process {id} after {seconds} seconds' "
   ]
  },
  {
   "cell_type": "code",
   "execution_count": 25,
   "id": "71d9e5fb",
   "metadata": {},
   "outputs": [
    {
     "name": "stdout",
     "output_type": "stream",
     "text": [
      "starting 20 processes of 1 second each...\n",
      "starting process 7446 for 1.0 seconds\n",
      "starting process 1863 for 1.0 seconds\n",
      "starting process 2873 for 1.0 seconds\n",
      "starting process 1835 for 1.0 seconds\n",
      "starting process 4927 for 1.0 seconds\n",
      "starting process 4906 for 1.0 seconds\n",
      "starting process 3845 for 1.0 seconds\n",
      "starting process 5870 for 1.0 seconds\n",
      "starting process 6358 for 1.0 seconds\n",
      "starting process 6211 for 1.0 seconds\n",
      "starting process 8021 for 1.0 seconds\n",
      "starting process 6052 for 1.0 seconds\n",
      "starting process 2900 for 1.0 seconds  finish process 7446 after 1.0 seconds\n",
      "starting process 9434 for 1.0 seconds\n",
      "starting process 2735 for 1.0 seconds\n",
      "starting process 4388 for 1.0 seconds\n",
      "starting process 8896 for 1.0 seconds\n",
      "starting process 9474 for 1.0 seconds\n",
      "starting process 9123 for 1.0 seconds\n",
      "starting process 4936 for 1.0 seconds\n",
      "  finish process 1863 after 1.0 seconds\n",
      "  finish process 4927 after 1.0 seconds\n",
      "  finish process 4906 after 1.0 seconds\n",
      "  finish process 8021 after 1.0 seconds\n",
      "  finish process 6358 after 1.0 seconds\n",
      "  finish process 1835 after 1.0 seconds\n",
      "  finish process 3845 after 1.0 seconds\n",
      "\n",
      "  finish process 5870 after 1.0 seconds\n",
      "  finish process 6211 after 1.0 seconds\n",
      "  finish process 6052 after 1.0 seconds\n",
      "  finish process 2873 after 1.0 seconds\n",
      "  finish process 2735 after 1.0 seconds\n",
      "  finish process 4388 after 1.0 seconds\n",
      "  finish process 2900 after 1.0 seconds\n",
      "  finish process 8896 after 1.0 seconds\n",
      "  finish process 9434 after 1.0 seconds\n",
      "  finish process 9474 after 1.0 seconds\n",
      "  finish process 9123 after 1.0 seconds\n",
      "  finish process 4936 after 1.0 seconds\n",
      "\n",
      "--- summary ---\n",
      "Using concurrent.futures.ThreadPoolExecutor\n",
      "number of threads = 12\n",
      "run time = 2.01 seconds\n",
      " speedup = 9.93x\n",
      "---------------\n"
     ]
    }
   ],
   "source": [
    "print('starting 20 processes of 1 second each...')\n",
    "start = time.perf_counter()\n",
    "\n",
    "with concurrent.futures.ThreadPoolExecutor() as executor: # <== changed to ThreadPoolExecutor from ProcessPoolExecutor\n",
    "\n",
    "    secs = np.ones(20) \n",
    "    results = [executor.submit(compute, sec) for sec in secs]\n",
    "\n",
    "    for f in concurrent.futures.as_completed(results):\n",
    "        print(f.result())\n",
    "\n",
    "finish = time.perf_counter()  \n",
    "duration = finish - start\n",
    "\n",
    "print('\\n--- summary ---')\n",
    "print(f'Using concurrent.futures.ThreadPoolExecutor')\n",
    "print(f'number of threads = {executor._max_workers}') \n",
    "print(f'run time = {round(duration, 2)} seconds')\n",
    "print(f' speedup = {round(20/duration, 2)}x')\n",
    "print('---------------')"
   ]
  },
  {
   "cell_type": "markdown",
   "id": "67b4c49b",
   "metadata": {},
   "source": [
    "## Example 2\n",
    "\n",
    "This is code from `multi1.py`. \\\n",
    "It does not work in the Jupyter notebook."
   ]
  },
  {
   "cell_type": "code",
   "execution_count": 26,
   "id": "97902eba",
   "metadata": {},
   "outputs": [
    {
     "name": "stdout",
     "output_type": "stream",
     "text": [
      "starting 20 processes of 1 second each...\n"
     ]
    },
    {
     "name": "stderr",
     "output_type": "stream",
     "text": [
      "Process SpawnProcess-1:\n",
      "Traceback (most recent call last):\n",
      "  File \"/opt/anaconda3/envs/py310/lib/python3.10/multiprocessing/process.py\", line 315, in _bootstrap\n",
      "    self.run()\n",
      "  File \"/opt/anaconda3/envs/py310/lib/python3.10/multiprocessing/process.py\", line 108, in run\n",
      "    self._target(*self._args, **self._kwargs)\n",
      "  File \"/opt/anaconda3/envs/py310/lib/python3.10/concurrent/futures/process.py\", line 237, in _process_worker\n",
      "    call_item = call_queue.get(block=True)\n",
      "  File \"/opt/anaconda3/envs/py310/lib/python3.10/multiprocessing/queues.py\", line 122, in get\n",
      "    return _ForkingPickler.loads(res)\n",
      "AttributeError: Can't get attribute 'compute' on <module '__main__' (built-in)>\n",
      "Process SpawnProcess-2:\n",
      "Traceback (most recent call last):\n",
      "  File \"/opt/anaconda3/envs/py310/lib/python3.10/multiprocessing/process.py\", line 315, in _bootstrap\n",
      "    self.run()\n",
      "  File \"/opt/anaconda3/envs/py310/lib/python3.10/multiprocessing/process.py\", line 108, in run\n",
      "    self._target(*self._args, **self._kwargs)\n",
      "  File \"/opt/anaconda3/envs/py310/lib/python3.10/concurrent/futures/process.py\", line 237, in _process_worker\n",
      "    call_item = call_queue.get(block=True)\n",
      "  File \"/opt/anaconda3/envs/py310/lib/python3.10/multiprocessing/queues.py\", line 122, in get\n",
      "    return _ForkingPickler.loads(res)\n",
      "AttributeError: Can't get attribute 'compute' on <module '__main__' (built-in)>\n",
      "Process SpawnProcess-3:\n",
      "Traceback (most recent call last):\n",
      "  File \"/opt/anaconda3/envs/py310/lib/python3.10/multiprocessing/process.py\", line 315, in _bootstrap\n",
      "    self.run()\n",
      "  File \"/opt/anaconda3/envs/py310/lib/python3.10/multiprocessing/process.py\", line 108, in run\n",
      "    self._target(*self._args, **self._kwargs)\n",
      "  File \"/opt/anaconda3/envs/py310/lib/python3.10/concurrent/futures/process.py\", line 237, in _process_worker\n",
      "    call_item = call_queue.get(block=True)\n",
      "  File \"/opt/anaconda3/envs/py310/lib/python3.10/multiprocessing/queues.py\", line 122, in get\n",
      "    return _ForkingPickler.loads(res)\n",
      "AttributeError: Can't get attribute 'compute' on <module '__main__' (built-in)>\n",
      "Process SpawnProcess-4:\n",
      "Traceback (most recent call last):\n",
      "  File \"/opt/anaconda3/envs/py310/lib/python3.10/multiprocessing/process.py\", line 315, in _bootstrap\n",
      "    self.run()\n",
      "  File \"/opt/anaconda3/envs/py310/lib/python3.10/multiprocessing/process.py\", line 108, in run\n",
      "    self._target(*self._args, **self._kwargs)\n",
      "  File \"/opt/anaconda3/envs/py310/lib/python3.10/concurrent/futures/process.py\", line 237, in _process_worker\n",
      "    call_item = call_queue.get(block=True)\n",
      "  File \"/opt/anaconda3/envs/py310/lib/python3.10/multiprocessing/queues.py\", line 122, in get\n",
      "    return _ForkingPickler.loads(res)\n",
      "AttributeError: Can't get attribute 'compute' on <module '__main__' (built-in)>\n"
     ]
    },
    {
     "ename": "BrokenProcessPool",
     "evalue": "A child process terminated abruptly, the process pool is not usable anymore",
     "output_type": "error",
     "traceback": [
      "\u001b[0;31m---------------------------------------------------------------------------\u001b[0m",
      "\u001b[0;31mBrokenProcessPool\u001b[0m                         Traceback (most recent call last)",
      "Cell \u001b[0;32mIn[26], line 7\u001b[0m\n\u001b[1;32m      4\u001b[0m \u001b[38;5;28;01mwith\u001b[39;00m concurrent\u001b[38;5;241m.\u001b[39mfutures\u001b[38;5;241m.\u001b[39mProcessPoolExecutor() \u001b[38;5;28;01mas\u001b[39;00m executor:\n\u001b[1;32m      6\u001b[0m     secs \u001b[38;5;241m=\u001b[39m np\u001b[38;5;241m.\u001b[39mones(\u001b[38;5;241m20\u001b[39m) \n\u001b[0;32m----> 7\u001b[0m     results \u001b[38;5;241m=\u001b[39m [executor\u001b[38;5;241m.\u001b[39msubmit(compute, sec) \u001b[38;5;28;01mfor\u001b[39;00m sec \u001b[38;5;129;01min\u001b[39;00m secs]\n\u001b[1;32m      9\u001b[0m     \u001b[38;5;28;01mfor\u001b[39;00m f \u001b[38;5;129;01min\u001b[39;00m concurrent\u001b[38;5;241m.\u001b[39mfutures\u001b[38;5;241m.\u001b[39mas_completed(results):\n\u001b[1;32m     10\u001b[0m         \u001b[38;5;28mprint\u001b[39m(f\u001b[38;5;241m.\u001b[39mresult())\n",
      "Cell \u001b[0;32mIn[26], line 7\u001b[0m, in \u001b[0;36m<listcomp>\u001b[0;34m(.0)\u001b[0m\n\u001b[1;32m      4\u001b[0m \u001b[38;5;28;01mwith\u001b[39;00m concurrent\u001b[38;5;241m.\u001b[39mfutures\u001b[38;5;241m.\u001b[39mProcessPoolExecutor() \u001b[38;5;28;01mas\u001b[39;00m executor:\n\u001b[1;32m      6\u001b[0m     secs \u001b[38;5;241m=\u001b[39m np\u001b[38;5;241m.\u001b[39mones(\u001b[38;5;241m20\u001b[39m) \n\u001b[0;32m----> 7\u001b[0m     results \u001b[38;5;241m=\u001b[39m [\u001b[43mexecutor\u001b[49m\u001b[38;5;241;43m.\u001b[39;49m\u001b[43msubmit\u001b[49m\u001b[43m(\u001b[49m\u001b[43mcompute\u001b[49m\u001b[43m,\u001b[49m\u001b[43m \u001b[49m\u001b[43msec\u001b[49m\u001b[43m)\u001b[49m \u001b[38;5;28;01mfor\u001b[39;00m sec \u001b[38;5;129;01min\u001b[39;00m secs]\n\u001b[1;32m      9\u001b[0m     \u001b[38;5;28;01mfor\u001b[39;00m f \u001b[38;5;129;01min\u001b[39;00m concurrent\u001b[38;5;241m.\u001b[39mfutures\u001b[38;5;241m.\u001b[39mas_completed(results):\n\u001b[1;32m     10\u001b[0m         \u001b[38;5;28mprint\u001b[39m(f\u001b[38;5;241m.\u001b[39mresult())\n",
      "File \u001b[0;32m/opt/anaconda3/envs/py310/lib/python3.10/concurrent/futures/process.py:689\u001b[0m, in \u001b[0;36mProcessPoolExecutor.submit\u001b[0;34m(self, fn, *args, **kwargs)\u001b[0m\n\u001b[1;32m    687\u001b[0m \u001b[38;5;28;01mwith\u001b[39;00m \u001b[38;5;28mself\u001b[39m\u001b[38;5;241m.\u001b[39m_shutdown_lock:\n\u001b[1;32m    688\u001b[0m     \u001b[38;5;28;01mif\u001b[39;00m \u001b[38;5;28mself\u001b[39m\u001b[38;5;241m.\u001b[39m_broken:\n\u001b[0;32m--> 689\u001b[0m         \u001b[38;5;28;01mraise\u001b[39;00m BrokenProcessPool(\u001b[38;5;28mself\u001b[39m\u001b[38;5;241m.\u001b[39m_broken)\n\u001b[1;32m    690\u001b[0m     \u001b[38;5;28;01mif\u001b[39;00m \u001b[38;5;28mself\u001b[39m\u001b[38;5;241m.\u001b[39m_shutdown_thread:\n\u001b[1;32m    691\u001b[0m         \u001b[38;5;28;01mraise\u001b[39;00m \u001b[38;5;167;01mRuntimeError\u001b[39;00m(\u001b[38;5;124m'\u001b[39m\u001b[38;5;124mcannot schedule new futures after shutdown\u001b[39m\u001b[38;5;124m'\u001b[39m)\n",
      "\u001b[0;31mBrokenProcessPool\u001b[0m: A child process terminated abruptly, the process pool is not usable anymore"
     ]
    }
   ],
   "source": [
    "print('starting 20 processes of 1 second each...')\n",
    "start = time.perf_counter()\n",
    "\n",
    "with concurrent.futures.ProcessPoolExecutor() as executor:\n",
    "\n",
    "    secs = np.ones(20) \n",
    "    results = [executor.submit(compute, sec) for sec in secs]\n",
    "\n",
    "    for f in concurrent.futures.as_completed(results):\n",
    "        print(f.result())\n",
    "\n",
    "finish = time.perf_counter()  \n",
    "duration = finish - start\n",
    "\n",
    "print('\\n--- summary ---')\n",
    "print(f'Using concurrent.futures.ProcessPoolExecutor')\n",
    "print(f'number of threads = {executor._max_workers}') \n",
    "print(f'run time = {round(duration, 2)} seconds')\n",
    "print(f' speedup = {round(20/duration, 2)}x')\n",
    "print('---------------')"
   ]
  },
  {
   "cell_type": "markdown",
   "id": "f609632e",
   "metadata": {},
   "source": [
    "## Summary\n",
    "\n",
    "- `concurrent.futures.ThreadPoolExecutor()` does run in Jupyter\n",
    "- `concurrent.futures.ProcessPoolExecutor` does not run in Jupyter"
   ]
  },
  {
   "cell_type": "markdown",
   "id": "c53bf4aa",
   "metadata": {},
   "source": [
    "# Revised `twodimCobject` with parallel processing\n",
    "\n",
    "Try to dedefine the `properties_am` function to use parallel processing.\n",
    "\n",
    "We want to wait for all the concurrent processes to finish before continuing. \\\n",
    "Read about how to do this on [stackoverflow](https://stackoverflow.com/questions/21143162/python-wait-on-all-of-concurrent-futures-threadpoolexecutors-futures). \n",
    "\n",
    "## Try 0: Rewrite the `properties_am` function\n",
    "\n",
    "First, recode the `properties_am` function in a more loop-able way. \\\n",
    "Rearrange the code and remove the comments, to make it easier to edit."
   ]
  },
  {
   "cell_type": "code",
   "execution_count": 12,
   "id": "5373c506",
   "metadata": {},
   "outputs": [
    {
     "ename": "NameError",
     "evalue": "name 'twodimCobject' is not defined",
     "output_type": "error",
     "traceback": [
      "\u001b[0;31m---------------------------------------------------------------------------\u001b[0m",
      "\u001b[0;31mNameError\u001b[0m                                 Traceback (most recent call last)",
      "Cell \u001b[0;32mIn[12], line 1\u001b[0m\n\u001b[0;32m----> 1\u001b[0m \u001b[38;5;28;01mclass\u001b[39;00m\u001b[38;5;250m \u001b[39m\u001b[38;5;21;01mtwodimCobject2\u001b[39;00m(\u001b[43mtwodimCobject\u001b[49m):\n\u001b[1;32m      3\u001b[0m     \u001b[38;5;28;01mdef\u001b[39;00m\u001b[38;5;250m \u001b[39m\u001b[38;5;21mproperties_am\u001b[39m(\u001b[38;5;28mself\u001b[39m, omega_m, omega_am):\n\u001b[1;32m      5\u001b[0m         omega_list \u001b[38;5;241m=\u001b[39m [ omega_m, \n\u001b[1;32m      6\u001b[0m                       \u001b[38;5;241m-\u001b[39momega_m,\n\u001b[1;32m      7\u001b[0m                        omega_m \u001b[38;5;241m+\u001b[39m omega_am,\n\u001b[1;32m      8\u001b[0m                       \u001b[38;5;241m-\u001b[39momega_m \u001b[38;5;241m-\u001b[39m omega_am,\n\u001b[1;32m      9\u001b[0m                        omega_m \u001b[38;5;241m-\u001b[39m omega_am,\n\u001b[1;32m     10\u001b[0m                       \u001b[38;5;241m-\u001b[39momega_m \u001b[38;5;241m+\u001b[39m omega_am]\n",
      "\u001b[0;31mNameError\u001b[0m: name 'twodimCobject' is not defined"
     ]
    }
   ],
   "source": [
    "class twodimCobject2(twodimCobject):\n",
    "    \n",
    "    def properties_am(self, omega_m, omega_am):\n",
    "\n",
    "        omega_list = [ omega_m, \n",
    "                      -omega_m,\n",
    "                       omega_m + omega_am,\n",
    "                      -omega_m - omega_am,\n",
    "                       omega_m - omega_am,\n",
    "                      -omega_m + omega_am]\n",
    "        \n",
    "        moniker_list = ['a', 'b', 'c', 'd', 'e', 'f']\n",
    "        \n",
    "        L = {}\n",
    "        \n",
    "        for moniker, omega in zip(moniker_list, omega_list):\n",
    "        \n",
    "            L[moniker] = self.solve(omega)\n",
    "            \n",
    "        V0 = ureg.Quantity(self.sample.cantilever.V_ts, 'V')\n",
    "        fc = ureg.Quantity(self.sample.cantilever.f_c, 'Hz')\n",
    "        kc = ureg.Quantity(self.sample.cantilever.k_c, 'N/m')\n",
    "        \n",
    "        c1 = 2 * np.pi * epsilon0 * V0**2\n",
    "        c2 = - (fc * np.pi * epsilon0 * V0**2) / (kc * self.zr)\n",
    "        \n",
    "        Fam = c1 * np.imag(complex(0,1) * (L['a'][1]/16 + L['b'][1]/16 +\n",
    "                                           L['c'][1]/64 + L['d'][1]/64 + \n",
    "                                           L['e'][1]/64 + L['f'][1]/64)) \n",
    "        \n",
    "        dfam= c2 * np.imag(complex(0,1) * (L['a'][2]/16 + L['b'][2]/16 + \n",
    "                                           L['c'][2]/64 + L['d'][2]/64 + \n",
    "                                           L['e'][2]/64 + L['f'][2]/64))\n",
    "\n",
    "        self.results['Fam [pN]'] = Fam.to('pN').magnitude\n",
    "        self.results['Delta f am [Hz]'] = dfam.to('Hz').magnitude\n",
    "        self.keys += ['Delta f am [Hz]']"
   ]
  },
  {
   "cell_type": "code",
   "execution_count": 29,
   "id": "d14b6366",
   "metadata": {},
   "outputs": [],
   "source": [
    "obj3 = twodimCobject2(sample3_jit, device)\n",
    "obj3.addsphere(ureg.Quantity(100,'nm'), 21, 21)\n",
    "obj3.set_alpha(1.0e-6)\n",
    "obj3.set_integration_points(315)\n",
    "obj3.properties_am(omega_m=1.0e5, omega_am = 250.)"
   ]
  },
  {
   "cell_type": "code",
   "execution_count": 30,
   "id": "7457b2e4",
   "metadata": {},
   "outputs": [
    {
     "name": "stdout",
     "output_type": "stream",
     "text": [
      "----------------------------------------------------------\n",
      "                       Vts [V]       1.000    +1.000000e+00\n",
      "regularization parameter alpha       0.000    +0.000000e+00\n",
      "            integration points     315.000    +3.150000e+02\n",
      "               Delta f am [Hz]      -0.172    -1.715395e-01\n",
      "----------------------------------------------------------\n"
     ]
    }
   ],
   "source": [
    "obj3.print_key_results()"
   ]
  },
  {
   "cell_type": "code",
   "execution_count": 31,
   "id": "da153a44",
   "metadata": {},
   "outputs": [
    {
     "name": "stdout",
     "output_type": "stream",
     "text": [
      "14.6 ms ± 33.6 µs per loop (mean ± std. dev. of 7 runs, 10 loops each)\n"
     ]
    }
   ],
   "source": [
    "%timeit obj3.properties_am(omega_m=1.0e5, omega_am = 250.)"
   ]
  },
  {
   "cell_type": "code",
   "execution_count": 32,
   "id": "723d6590",
   "metadata": {},
   "outputs": [
    {
     "data": {
      "image/png": "[encoded data removed]",
      "text/plain": [
       "<Figure size 800x250 with 4 Axes>"
      ]
     },
     "metadata": {},
     "output_type": "display_data"
    }
   ],
   "source": [
    "_ = obj3.plot()"
   ]
  },
  {
   "cell_type": "markdown",
   "id": "b4cdc607",
   "metadata": {},
   "source": [
    "We get the expected result, i.e. there are no major coding errors."
   ]
  },
  {
   "cell_type": "code",
   "execution_count": 33,
   "id": "33b19015",
   "metadata": {},
   "outputs": [
    {
     "name": "stdout",
     "output_type": "stream",
     "text": [
      "a - b = 0.000000 and (a - b)/a = -0.0e+00 = -0.0%\n"
     ]
    }
   ],
   "source": [
    "compare_two(\n",
    "    a=obj1.results['Delta f am [Hz]'],\n",
    "    b=obj3.results['Delta f am [Hz]'])"
   ]
  },
  {
   "cell_type": "markdown",
   "id": "bd2687ac",
   "metadata": {},
   "source": [
    "## Try 1: `concurrent.futures.ThreadPoolExecutor`\n",
    "\n",
    "Rewrite `properties_am` implimenting parallel processing using `concurrent.futures.ThreadPoolExecutor`.\n",
    "\n",
    "This works, but is actually slower.\n",
    "\n",
    "Read [here](https://stackoverflow.com/questions/70700809/multiprocessing-pool-vs-multiprocessing-pool-threadpool) that \"Python multithreading is less useful than you think it is. The Global Instruction Lock (GIL) means that only one thread can use the Python interpreter at a time. Since your code is pure python interpreter, nothing much is gained. Multithreading works best when your threads are waiting for external resources.\""
   ]
  },
  {
   "cell_type": "code",
   "execution_count": 34,
   "id": "b38c93f4",
   "metadata": {},
   "outputs": [],
   "source": [
    "class twodimCobject3(twodimCobject):\n",
    "    \n",
    "    def properties_am(self, omega_m, omega_am):\n",
    "\n",
    "        omega_list = [ omega_m, \n",
    "                      -omega_m,\n",
    "                       omega_m + omega_am,\n",
    "                      -omega_m - omega_am,\n",
    "                       omega_m - omega_am,\n",
    "                      -omega_m + omega_am]\n",
    "        \n",
    "        moniker_list = ['a', 'b', 'c', 'd', 'e', 'f']\n",
    "        \n",
    "        L = {}\n",
    "        \n",
    "        with concurrent.futures.ThreadPoolExecutor() as executor:\n",
    "        \n",
    "            futures = []\n",
    "            \n",
    "            for omega in omega_list:\n",
    "                future = executor.submit(self.solve, omega)\n",
    "                futures.append(future)\n",
    "        \n",
    "            for moniker, future in zip(moniker_list, futures):\n",
    "                L[moniker] = future.result()\n",
    "                \n",
    "        V0 = ureg.Quantity(self.sample.cantilever.V_ts, 'V')\n",
    "        fc = ureg.Quantity(self.sample.cantilever.f_c, 'Hz')\n",
    "        kc = ureg.Quantity(self.sample.cantilever.k_c, 'N/m')\n",
    "        \n",
    "        c1 = 2 * np.pi * epsilon0 * V0**2\n",
    "        c2 = - (fc * np.pi * epsilon0 * V0**2) / (kc * self.zr)\n",
    "        \n",
    "        Fam = c1 * np.imag(complex(0,1) * (L['a'][1]/16 + L['b'][1]/16 +\n",
    "                                           L['c'][1]/64 + L['d'][1]/64 + \n",
    "                                           L['e'][1]/64 + L['f'][1]/64)) \n",
    "        \n",
    "        dfam= c2 * np.imag(complex(0,1) * (L['a'][2]/16 + L['b'][2]/16 + \n",
    "                                           L['c'][2]/64 + L['d'][2]/64 + \n",
    "                                           L['e'][2]/64 + L['f'][2]/64))\n",
    "\n",
    "        self.results['Fam [pN]'] = Fam.to('pN').magnitude\n",
    "        self.results['Delta f am [Hz]'] = dfam.to('Hz').magnitude\n",
    "        self.keys += ['Delta f am [Hz]']"
   ]
  },
  {
   "cell_type": "code",
   "execution_count": 35,
   "id": "e7076585",
   "metadata": {},
   "outputs": [],
   "source": [
    "obj4 = twodimCobject3(sample3_jit, device)\n",
    "obj4.addsphere(ureg.Quantity(100,'nm'), 21, 21)\n",
    "obj4.set_alpha(1.0e-6)\n",
    "obj4.set_integration_points(315)\n",
    "obj4.properties_am(omega_m=1.0e5, omega_am = 250.)"
   ]
  },
  {
   "cell_type": "code",
   "execution_count": 36,
   "id": "2e4b915b",
   "metadata": {},
   "outputs": [
    {
     "name": "stdout",
     "output_type": "stream",
     "text": [
      "----------------------------------------------------------\n",
      "                       Vts [V]       1.000    +1.000000e+00\n",
      "regularization parameter alpha       0.000    +0.000000e+00\n",
      "            integration points     315.000    +3.150000e+02\n",
      "               Delta f am [Hz]      -0.172    -1.715395e-01\n",
      "----------------------------------------------------------\n"
     ]
    }
   ],
   "source": [
    "obj4.print_key_results()"
   ]
  },
  {
   "cell_type": "code",
   "execution_count": 37,
   "id": "49652105",
   "metadata": {},
   "outputs": [
    {
     "name": "stdout",
     "output_type": "stream",
     "text": [
      "a - b = 0.000000 and (a - b)/a = -0.0e+00 = -0.0%\n"
     ]
    }
   ],
   "source": [
    "compare_two(\n",
    "    a=obj1.results['Delta f am [Hz]'],\n",
    "    b=obj4.results['Delta f am [Hz]'])"
   ]
  },
  {
   "cell_type": "markdown",
   "id": "30ae54ac",
   "metadata": {},
   "source": [
    "The execution time is *longer* than 14.8 ms run time without parallel processing!"
   ]
  },
  {
   "cell_type": "code",
   "execution_count": 38,
   "id": "4d08c43a",
   "metadata": {},
   "outputs": [
    {
     "name": "stdout",
     "output_type": "stream",
     "text": [
      "23 ms ± 6.39 ms per loop (mean ± std. dev. of 7 runs, 10 loops each)\n"
     ]
    }
   ],
   "source": [
    "%timeit obj4.properties_am(omega_m=1.0e5, omega_am = 250.)"
   ]
  },
  {
   "cell_type": "markdown",
   "id": "d752197a",
   "metadata": {},
   "source": [
    "## Try 2: `concurrent.futures.ProcessPoolExecutor`\n",
    "\n",
    "Rewrite `properties_am` implimenting parallel processing using `concurrent.futures.ProcessPoolExecutor`. \\\n",
    "\n",
    "This fails, due to a pickling error:\n",
    "\n",
    "    TypeError: cannot pickle 'SampleModel3Jit' object\n",
    "    \n",
    "Ugh! Read about his problem on [stackoverflow](https://stackoverflow.com/questions/72766345/attributeerror-cant-pickle-local-object-in-multiprocessing/72776044#72776044)."
   ]
  },
  {
   "cell_type": "code",
   "execution_count": 39,
   "id": "cfa77b92",
   "metadata": {},
   "outputs": [],
   "source": [
    "class twodimCobject4(twodimCobject):\n",
    "    \n",
    "    def properties_am(self, omega_m, omega_am):\n",
    "\n",
    "        omega_list = [ omega_m, \n",
    "                      -omega_m,\n",
    "                       omega_m + omega_am,\n",
    "                      -omega_m - omega_am,\n",
    "                       omega_m - omega_am,\n",
    "                      -omega_m + omega_am]\n",
    "        \n",
    "        moniker_list = ['a', 'b', 'c', 'd', 'e', 'f']\n",
    "        \n",
    "        L = {}\n",
    "        \n",
    "        with concurrent.futures.ProcessPoolExecutor() as executor:\n",
    "        \n",
    "            futures = []\n",
    "            \n",
    "            for omega in omega_list:\n",
    "                future = executor.submit(self.solve, omega)\n",
    "                futures.append(future)\n",
    "        \n",
    "            for moniker, future in zip(moniker_list, futures):\n",
    "                L[moniker] = future.result()\n",
    "                \n",
    "        V0 = ureg.Quantity(self.sample.cantilever.V_ts, 'V')\n",
    "        fc = ureg.Quantity(self.sample.cantilever.f_c, 'Hz')\n",
    "        kc = ureg.Quantity(self.sample.cantilever.k_c, 'N/m')\n",
    "        \n",
    "        c1 = 2 * np.pi * epsilon0 * V0**2\n",
    "        c2 = - (fc * np.pi * epsilon0 * V0**2) / (kc * self.zr)\n",
    "        \n",
    "        Fam = c1 * np.imag(complex(0,1) * (L['a'][1]/16 + L['b'][1]/16 +\n",
    "                                           L['c'][1]/64 + L['d'][1]/64 + \n",
    "                                           L['e'][1]/64 + L['f'][1]/64)) \n",
    "        \n",
    "        dfam= c2 * np.imag(complex(0,1) * (L['a'][2]/16 + L['b'][2]/16 + \n",
    "                                           L['c'][2]/64 + L['d'][2]/64 + \n",
    "                                           L['e'][2]/64 + L['f'][2]/64))\n",
    "\n",
    "        self.results['Fam [pN]'] = Fam.to('pN').magnitude\n",
    "        self.results['Delta f am [Hz]'] = dfam.to('Hz').magnitude\n",
    "        self.keys += ['Delta f am [Hz]']"
   ]
  },
  {
   "cell_type": "code",
   "execution_count": 40,
   "id": "a0cc9cd6",
   "metadata": {},
   "outputs": [
    {
     "ename": "TypeError",
     "evalue": "cannot pickle 'SampleModel3Jit' object",
     "output_type": "error",
     "traceback": [
      "\u001b[0;31m---------------------------------------------------------------------------\u001b[0m",
      "\u001b[0;31m_RemoteTraceback\u001b[0m                          Traceback (most recent call last)",
      "\u001b[0;31m_RemoteTraceback\u001b[0m: \n\"\"\"\nTraceback (most recent call last):\n  File \"/opt/anaconda3/envs/py310/lib/python3.10/multiprocessing/queues.py\", line 245, in _feed\n    obj = _ForkingPickler.dumps(obj)\n  File \"/opt/anaconda3/envs/py310/lib/python3.10/multiprocessing/reduction.py\", line 51, in dumps\n    cls(buf, protocol).dump(obj)\nTypeError: cannot pickle 'SampleModel3Jit' object\n\"\"\"",
      "\nThe above exception was the direct cause of the following exception:\n",
      "\u001b[0;31mTypeError\u001b[0m                                 Traceback (most recent call last)",
      "Cell \u001b[0;32mIn[40], line 5\u001b[0m\n\u001b[1;32m      3\u001b[0m obj5\u001b[38;5;241m.\u001b[39mset_alpha(\u001b[38;5;241m1.0e-6\u001b[39m)\n\u001b[1;32m      4\u001b[0m obj5\u001b[38;5;241m.\u001b[39mset_integration_points(\u001b[38;5;241m315\u001b[39m)\n\u001b[0;32m----> 5\u001b[0m \u001b[43mobj5\u001b[49m\u001b[38;5;241;43m.\u001b[39;49m\u001b[43mproperties_am\u001b[49m\u001b[43m(\u001b[49m\u001b[43momega_m\u001b[49m\u001b[38;5;241;43m=\u001b[39;49m\u001b[38;5;241;43m1.0e5\u001b[39;49m\u001b[43m,\u001b[49m\u001b[43m \u001b[49m\u001b[43momega_am\u001b[49m\u001b[43m \u001b[49m\u001b[38;5;241;43m=\u001b[39;49m\u001b[43m \u001b[49m\u001b[38;5;241;43m250.\u001b[39;49m\u001b[43m)\u001b[49m\n",
      "Cell \u001b[0;32mIn[39], line 25\u001b[0m, in \u001b[0;36mtwodimCobject4.properties_am\u001b[0;34m(self, omega_m, omega_am)\u001b[0m\n\u001b[1;32m     22\u001b[0m         futures\u001b[38;5;241m.\u001b[39mappend(future)\n\u001b[1;32m     24\u001b[0m     \u001b[38;5;28;01mfor\u001b[39;00m moniker, future \u001b[38;5;129;01min\u001b[39;00m \u001b[38;5;28mzip\u001b[39m(moniker_list, futures):\n\u001b[0;32m---> 25\u001b[0m         L[moniker] \u001b[38;5;241m=\u001b[39m \u001b[43mfuture\u001b[49m\u001b[38;5;241;43m.\u001b[39;49m\u001b[43mresult\u001b[49m\u001b[43m(\u001b[49m\u001b[43m)\u001b[49m\n\u001b[1;32m     27\u001b[0m V0 \u001b[38;5;241m=\u001b[39m ureg\u001b[38;5;241m.\u001b[39mQuantity(\u001b[38;5;28mself\u001b[39m\u001b[38;5;241m.\u001b[39msample\u001b[38;5;241m.\u001b[39mcantilever\u001b[38;5;241m.\u001b[39mV_ts, \u001b[38;5;124m'\u001b[39m\u001b[38;5;124mV\u001b[39m\u001b[38;5;124m'\u001b[39m)\n\u001b[1;32m     28\u001b[0m fc \u001b[38;5;241m=\u001b[39m ureg\u001b[38;5;241m.\u001b[39mQuantity(\u001b[38;5;28mself\u001b[39m\u001b[38;5;241m.\u001b[39msample\u001b[38;5;241m.\u001b[39mcantilever\u001b[38;5;241m.\u001b[39mf_c, \u001b[38;5;124m'\u001b[39m\u001b[38;5;124mHz\u001b[39m\u001b[38;5;124m'\u001b[39m)\n",
      "File \u001b[0;32m/opt/anaconda3/envs/py310/lib/python3.10/concurrent/futures/_base.py:439\u001b[0m, in \u001b[0;36mFuture.result\u001b[0;34m(self, timeout)\u001b[0m\n\u001b[1;32m    437\u001b[0m     \u001b[38;5;28;01mraise\u001b[39;00m CancelledError()\n\u001b[1;32m    438\u001b[0m \u001b[38;5;28;01melif\u001b[39;00m \u001b[38;5;28mself\u001b[39m\u001b[38;5;241m.\u001b[39m_state \u001b[38;5;241m==\u001b[39m FINISHED:\n\u001b[0;32m--> 439\u001b[0m     \u001b[38;5;28;01mreturn\u001b[39;00m \u001b[38;5;28;43mself\u001b[39;49m\u001b[38;5;241;43m.\u001b[39;49m\u001b[43m__get_result\u001b[49m\u001b[43m(\u001b[49m\u001b[43m)\u001b[49m\n\u001b[1;32m    441\u001b[0m \u001b[38;5;28mself\u001b[39m\u001b[38;5;241m.\u001b[39m_condition\u001b[38;5;241m.\u001b[39mwait(timeout)\n\u001b[1;32m    443\u001b[0m \u001b[38;5;28;01mif\u001b[39;00m \u001b[38;5;28mself\u001b[39m\u001b[38;5;241m.\u001b[39m_state \u001b[38;5;129;01min\u001b[39;00m [CANCELLED, CANCELLED_AND_NOTIFIED]:\n",
      "File \u001b[0;32m/opt/anaconda3/envs/py310/lib/python3.10/concurrent/futures/_base.py:391\u001b[0m, in \u001b[0;36mFuture.__get_result\u001b[0;34m(self)\u001b[0m\n\u001b[1;32m    389\u001b[0m \u001b[38;5;28;01mif\u001b[39;00m \u001b[38;5;28mself\u001b[39m\u001b[38;5;241m.\u001b[39m_exception:\n\u001b[1;32m    390\u001b[0m     \u001b[38;5;28;01mtry\u001b[39;00m:\n\u001b[0;32m--> 391\u001b[0m         \u001b[38;5;28;01mraise\u001b[39;00m \u001b[38;5;28mself\u001b[39m\u001b[38;5;241m.\u001b[39m_exception\n\u001b[1;32m    392\u001b[0m     \u001b[38;5;28;01mfinally\u001b[39;00m:\n\u001b[1;32m    393\u001b[0m         \u001b[38;5;66;03m# Break a reference cycle with the exception in self._exception\u001b[39;00m\n\u001b[1;32m    394\u001b[0m         \u001b[38;5;28mself\u001b[39m \u001b[38;5;241m=\u001b[39m \u001b[38;5;28;01mNone\u001b[39;00m\n",
      "File \u001b[0;32m/opt/anaconda3/envs/py310/lib/python3.10/multiprocessing/queues.py:245\u001b[0m, in \u001b[0;36mQueue._feed\u001b[0;34m(buffer, notempty, send_bytes, writelock, close, ignore_epipe, onerror, queue_sem)\u001b[0m\n\u001b[1;32m    242\u001b[0m     \u001b[38;5;28;01mreturn\u001b[39;00m\n\u001b[1;32m    244\u001b[0m \u001b[38;5;66;03m# serialize the data before acquiring the lock\u001b[39;00m\n\u001b[0;32m--> 245\u001b[0m obj \u001b[38;5;241m=\u001b[39m \u001b[43m_ForkingPickler\u001b[49m\u001b[38;5;241;43m.\u001b[39;49m\u001b[43mdumps\u001b[49m\u001b[43m(\u001b[49m\u001b[43mobj\u001b[49m\u001b[43m)\u001b[49m\n\u001b[1;32m    246\u001b[0m \u001b[38;5;28;01mif\u001b[39;00m wacquire \u001b[38;5;129;01mis\u001b[39;00m \u001b[38;5;28;01mNone\u001b[39;00m:\n\u001b[1;32m    247\u001b[0m     send_bytes(obj)\n",
      "File \u001b[0;32m/opt/anaconda3/envs/py310/lib/python3.10/multiprocessing/reduction.py:51\u001b[0m, in \u001b[0;36mForkingPickler.dumps\u001b[0;34m(cls, obj, protocol)\u001b[0m\n\u001b[1;32m     48\u001b[0m \u001b[38;5;129m@classmethod\u001b[39m\n\u001b[1;32m     49\u001b[0m \u001b[38;5;28;01mdef\u001b[39;00m\u001b[38;5;250m \u001b[39m\u001b[38;5;21mdumps\u001b[39m(\u001b[38;5;28mcls\u001b[39m, obj, protocol\u001b[38;5;241m=\u001b[39m\u001b[38;5;28;01mNone\u001b[39;00m):\n\u001b[1;32m     50\u001b[0m     buf \u001b[38;5;241m=\u001b[39m io\u001b[38;5;241m.\u001b[39mBytesIO()\n\u001b[0;32m---> 51\u001b[0m     \u001b[38;5;28;43mcls\u001b[39;49m\u001b[43m(\u001b[49m\u001b[43mbuf\u001b[49m\u001b[43m,\u001b[49m\u001b[43m \u001b[49m\u001b[43mprotocol\u001b[49m\u001b[43m)\u001b[49m\u001b[38;5;241;43m.\u001b[39;49m\u001b[43mdump\u001b[49m\u001b[43m(\u001b[49m\u001b[43mobj\u001b[49m\u001b[43m)\u001b[49m\n\u001b[1;32m     52\u001b[0m     \u001b[38;5;28;01mreturn\u001b[39;00m buf\u001b[38;5;241m.\u001b[39mgetbuffer()\n",
      "\u001b[0;31mTypeError\u001b[0m: cannot pickle 'SampleModel3Jit' object"
     ]
    }
   ],
   "source": [
    "obj5 = twodimCobject4(sample3_jit, device)\n",
    "obj5.addsphere(ureg.Quantity(100,'nm'), 21, 21)\n",
    "obj5.set_alpha(1.0e-6)\n",
    "obj5.set_integration_points(315)\n",
    "obj5.properties_am(omega_m=1.0e5, omega_am = 250.)"
   ]
  },
  {
   "cell_type": "markdown",
   "id": "1c42f0a6",
   "metadata": {},
   "source": [
    "## Try 3: `multiprocessing`\n",
    "\n",
    "The the `multiprocessing` approach. \\\n",
    "This approach fails with the error \n",
    "\n",
    "    AttributeError: Can't pickle local object 'calc.<locals>.addi'"
   ]
  },
  {
   "cell_type": "code",
   "execution_count": 41,
   "id": "24011c5b",
   "metadata": {},
   "outputs": [],
   "source": [
    "import multiprocessing as mp\n",
    "import os\n",
    "\n",
    "def calc(num1, num2):\n",
    "\n",
    "    def addi(num1, num2):\n",
    "        print(num1 + num2)\n",
    "\n",
    "    # Another local function you might have\n",
    "    def addi2():\n",
    "        print('hahahaha')\n",
    "\n",
    "    m = mp.Process(target=addi, args=(num1, num2))\n",
    "    m.start()\n",
    "\n",
    "    print(\"here is main\", os.getpid())\n",
    "    m.join()"
   ]
  },
  {
   "cell_type": "code",
   "execution_count": 42,
   "id": "41820638",
   "metadata": {},
   "outputs": [
    {
     "ename": "AttributeError",
     "evalue": "Can't pickle local object 'calc.<locals>.addi'",
     "output_type": "error",
     "traceback": [
      "\u001b[0;31m---------------------------------------------------------------------------\u001b[0m",
      "\u001b[0;31mAttributeError\u001b[0m                            Traceback (most recent call last)",
      "Cell \u001b[0;32mIn[42], line 1\u001b[0m\n\u001b[0;32m----> 1\u001b[0m \u001b[43mcalc\u001b[49m\u001b[43m(\u001b[49m\u001b[38;5;241;43m5\u001b[39;49m\u001b[43m,\u001b[49m\u001b[38;5;241;43m6\u001b[39;49m\u001b[43m)\u001b[49m\n",
      "Cell \u001b[0;32mIn[41], line 14\u001b[0m, in \u001b[0;36mcalc\u001b[0;34m(num1, num2)\u001b[0m\n\u001b[1;32m     11\u001b[0m     \u001b[38;5;28mprint\u001b[39m(\u001b[38;5;124m'\u001b[39m\u001b[38;5;124mhahahaha\u001b[39m\u001b[38;5;124m'\u001b[39m)\n\u001b[1;32m     13\u001b[0m m \u001b[38;5;241m=\u001b[39m mp\u001b[38;5;241m.\u001b[39mProcess(target\u001b[38;5;241m=\u001b[39maddi, args\u001b[38;5;241m=\u001b[39m(num1, num2))\n\u001b[0;32m---> 14\u001b[0m \u001b[43mm\u001b[49m\u001b[38;5;241;43m.\u001b[39;49m\u001b[43mstart\u001b[49m\u001b[43m(\u001b[49m\u001b[43m)\u001b[49m\n\u001b[1;32m     16\u001b[0m \u001b[38;5;28mprint\u001b[39m(\u001b[38;5;124m\"\u001b[39m\u001b[38;5;124mhere is main\u001b[39m\u001b[38;5;124m\"\u001b[39m, os\u001b[38;5;241m.\u001b[39mgetpid())\n\u001b[1;32m     17\u001b[0m m\u001b[38;5;241m.\u001b[39mjoin()\n",
      "File \u001b[0;32m/opt/anaconda3/envs/py310/lib/python3.10/multiprocessing/process.py:121\u001b[0m, in \u001b[0;36mBaseProcess.start\u001b[0;34m(self)\u001b[0m\n\u001b[1;32m    118\u001b[0m \u001b[38;5;28;01massert\u001b[39;00m \u001b[38;5;129;01mnot\u001b[39;00m _current_process\u001b[38;5;241m.\u001b[39m_config\u001b[38;5;241m.\u001b[39mget(\u001b[38;5;124m'\u001b[39m\u001b[38;5;124mdaemon\u001b[39m\u001b[38;5;124m'\u001b[39m), \\\n\u001b[1;32m    119\u001b[0m        \u001b[38;5;124m'\u001b[39m\u001b[38;5;124mdaemonic processes are not allowed to have children\u001b[39m\u001b[38;5;124m'\u001b[39m\n\u001b[1;32m    120\u001b[0m _cleanup()\n\u001b[0;32m--> 121\u001b[0m \u001b[38;5;28mself\u001b[39m\u001b[38;5;241m.\u001b[39m_popen \u001b[38;5;241m=\u001b[39m \u001b[38;5;28;43mself\u001b[39;49m\u001b[38;5;241;43m.\u001b[39;49m\u001b[43m_Popen\u001b[49m\u001b[43m(\u001b[49m\u001b[38;5;28;43mself\u001b[39;49m\u001b[43m)\u001b[49m\n\u001b[1;32m    122\u001b[0m \u001b[38;5;28mself\u001b[39m\u001b[38;5;241m.\u001b[39m_sentinel \u001b[38;5;241m=\u001b[39m \u001b[38;5;28mself\u001b[39m\u001b[38;5;241m.\u001b[39m_popen\u001b[38;5;241m.\u001b[39msentinel\n\u001b[1;32m    123\u001b[0m \u001b[38;5;66;03m# Avoid a refcycle if the target function holds an indirect\u001b[39;00m\n\u001b[1;32m    124\u001b[0m \u001b[38;5;66;03m# reference to the process object (see bpo-30775)\u001b[39;00m\n",
      "File \u001b[0;32m/opt/anaconda3/envs/py310/lib/python3.10/multiprocessing/context.py:224\u001b[0m, in \u001b[0;36mProcess._Popen\u001b[0;34m(process_obj)\u001b[0m\n\u001b[1;32m    222\u001b[0m \u001b[38;5;129m@staticmethod\u001b[39m\n\u001b[1;32m    223\u001b[0m \u001b[38;5;28;01mdef\u001b[39;00m\u001b[38;5;250m \u001b[39m\u001b[38;5;21m_Popen\u001b[39m(process_obj):\n\u001b[0;32m--> 224\u001b[0m     \u001b[38;5;28;01mreturn\u001b[39;00m \u001b[43m_default_context\u001b[49m\u001b[38;5;241;43m.\u001b[39;49m\u001b[43mget_context\u001b[49m\u001b[43m(\u001b[49m\u001b[43m)\u001b[49m\u001b[38;5;241;43m.\u001b[39;49m\u001b[43mProcess\u001b[49m\u001b[38;5;241;43m.\u001b[39;49m\u001b[43m_Popen\u001b[49m\u001b[43m(\u001b[49m\u001b[43mprocess_obj\u001b[49m\u001b[43m)\u001b[49m\n",
      "File \u001b[0;32m/opt/anaconda3/envs/py310/lib/python3.10/multiprocessing/context.py:284\u001b[0m, in \u001b[0;36mSpawnProcess._Popen\u001b[0;34m(process_obj)\u001b[0m\n\u001b[1;32m    281\u001b[0m \u001b[38;5;129m@staticmethod\u001b[39m\n\u001b[1;32m    282\u001b[0m \u001b[38;5;28;01mdef\u001b[39;00m\u001b[38;5;250m \u001b[39m\u001b[38;5;21m_Popen\u001b[39m(process_obj):\n\u001b[1;32m    283\u001b[0m     \u001b[38;5;28;01mfrom\u001b[39;00m\u001b[38;5;250m \u001b[39m\u001b[38;5;21;01m.\u001b[39;00m\u001b[38;5;21;01mpopen_spawn_posix\u001b[39;00m\u001b[38;5;250m \u001b[39m\u001b[38;5;28;01mimport\u001b[39;00m Popen\n\u001b[0;32m--> 284\u001b[0m     \u001b[38;5;28;01mreturn\u001b[39;00m \u001b[43mPopen\u001b[49m\u001b[43m(\u001b[49m\u001b[43mprocess_obj\u001b[49m\u001b[43m)\u001b[49m\n",
      "File \u001b[0;32m/opt/anaconda3/envs/py310/lib/python3.10/multiprocessing/popen_spawn_posix.py:32\u001b[0m, in \u001b[0;36mPopen.__init__\u001b[0;34m(self, process_obj)\u001b[0m\n\u001b[1;32m     30\u001b[0m \u001b[38;5;28;01mdef\u001b[39;00m\u001b[38;5;250m \u001b[39m\u001b[38;5;21m__init__\u001b[39m(\u001b[38;5;28mself\u001b[39m, process_obj):\n\u001b[1;32m     31\u001b[0m     \u001b[38;5;28mself\u001b[39m\u001b[38;5;241m.\u001b[39m_fds \u001b[38;5;241m=\u001b[39m []\n\u001b[0;32m---> 32\u001b[0m     \u001b[38;5;28;43msuper\u001b[39;49m\u001b[43m(\u001b[49m\u001b[43m)\u001b[49m\u001b[38;5;241;43m.\u001b[39;49m\u001b[38;5;21;43m__init__\u001b[39;49m\u001b[43m(\u001b[49m\u001b[43mprocess_obj\u001b[49m\u001b[43m)\u001b[49m\n",
      "File \u001b[0;32m/opt/anaconda3/envs/py310/lib/python3.10/multiprocessing/popen_fork.py:19\u001b[0m, in \u001b[0;36mPopen.__init__\u001b[0;34m(self, process_obj)\u001b[0m\n\u001b[1;32m     17\u001b[0m \u001b[38;5;28mself\u001b[39m\u001b[38;5;241m.\u001b[39mreturncode \u001b[38;5;241m=\u001b[39m \u001b[38;5;28;01mNone\u001b[39;00m\n\u001b[1;32m     18\u001b[0m \u001b[38;5;28mself\u001b[39m\u001b[38;5;241m.\u001b[39mfinalizer \u001b[38;5;241m=\u001b[39m \u001b[38;5;28;01mNone\u001b[39;00m\n\u001b[0;32m---> 19\u001b[0m \u001b[38;5;28;43mself\u001b[39;49m\u001b[38;5;241;43m.\u001b[39;49m\u001b[43m_launch\u001b[49m\u001b[43m(\u001b[49m\u001b[43mprocess_obj\u001b[49m\u001b[43m)\u001b[49m\n",
      "File \u001b[0;32m/opt/anaconda3/envs/py310/lib/python3.10/multiprocessing/popen_spawn_posix.py:47\u001b[0m, in \u001b[0;36mPopen._launch\u001b[0;34m(self, process_obj)\u001b[0m\n\u001b[1;32m     45\u001b[0m \u001b[38;5;28;01mtry\u001b[39;00m:\n\u001b[1;32m     46\u001b[0m     reduction\u001b[38;5;241m.\u001b[39mdump(prep_data, fp)\n\u001b[0;32m---> 47\u001b[0m     \u001b[43mreduction\u001b[49m\u001b[38;5;241;43m.\u001b[39;49m\u001b[43mdump\u001b[49m\u001b[43m(\u001b[49m\u001b[43mprocess_obj\u001b[49m\u001b[43m,\u001b[49m\u001b[43m \u001b[49m\u001b[43mfp\u001b[49m\u001b[43m)\u001b[49m\n\u001b[1;32m     48\u001b[0m \u001b[38;5;28;01mfinally\u001b[39;00m:\n\u001b[1;32m     49\u001b[0m     set_spawning_popen(\u001b[38;5;28;01mNone\u001b[39;00m)\n",
      "File \u001b[0;32m/opt/anaconda3/envs/py310/lib/python3.10/multiprocessing/reduction.py:60\u001b[0m, in \u001b[0;36mdump\u001b[0;34m(obj, file, protocol)\u001b[0m\n\u001b[1;32m     58\u001b[0m \u001b[38;5;28;01mdef\u001b[39;00m\u001b[38;5;250m \u001b[39m\u001b[38;5;21mdump\u001b[39m(obj, file, protocol\u001b[38;5;241m=\u001b[39m\u001b[38;5;28;01mNone\u001b[39;00m):\n\u001b[1;32m     59\u001b[0m \u001b[38;5;250m    \u001b[39m\u001b[38;5;124;03m'''Replacement for pickle.dump() using ForkingPickler.'''\u001b[39;00m\n\u001b[0;32m---> 60\u001b[0m     \u001b[43mForkingPickler\u001b[49m\u001b[43m(\u001b[49m\u001b[43mfile\u001b[49m\u001b[43m,\u001b[49m\u001b[43m \u001b[49m\u001b[43mprotocol\u001b[49m\u001b[43m)\u001b[49m\u001b[38;5;241;43m.\u001b[39;49m\u001b[43mdump\u001b[49m\u001b[43m(\u001b[49m\u001b[43mobj\u001b[49m\u001b[43m)\u001b[49m\n",
      "\u001b[0;31mAttributeError\u001b[0m: Can't pickle local object 'calc.<locals>.addi'"
     ]
    }
   ],
   "source": [
    "calc(5,6)"
   ]
  },
  {
   "cell_type": "markdown",
   "id": "548d33e8",
   "metadata": {},
   "source": [
    "## Back to the books\n",
    "\n",
    "\n",
    "Reading and thinking\n",
    "\n",
    "- \"Multiprocessing in Python - all about pickling\" by Dawid Laszuk ([html](https://laszukdawid.com/blog/2017/12/13/multiprocessing-in-python-all-about-pickling/), posted 2017-12-13). Mentions `dill` ([pypi](https://pypi.org/project/dill/)) and `pathos` ([pypi](https://pypi.org/project/pathos/)).\n",
    "\n",
    "- \"Parallelising Python code\" by Yngve Mardal Moe ([github](https://github.com/yngvem/parallelising-python); last commit in 2020). Recommends `joblib` ([github](https://github.com/joblib/joblib), [readthedocs](https://joblib.readthedocs.io/en/stable/)), but unforunately \"Joblib blocks the python interpreter, so that while the other processess run, no work can be done on the mother process.\"\n",
    "\n",
    "- \"Running Parallel Computing on Jupyter Notebook: A tutorial on how to utilize Jupyter Notebook for parallel computing, including how to use tools like IPython parallel and Dask.\" by TechLatest.net ([medium](https://medium.com/@techlatest.net/running-parallel-computing-on-jupyter-notebook-a-tutorial-on-how-to-utilize-jupyter-notebook-for-c132e6a53e1d), posted 2023-07-19).  Meh. Mentions `ipyparallel` ([pypi](https://pypi.org/project/ipyparallel/), [readthedocs](https://ipyparallel.readthedocs.io/en/latest/)) and `dask` ([homepage](https://www.dask.org/), [docs](https://docs.dask.org/en/stable/), [wikipedia](https://en.wikipedia.org/wiki/Dask_(software))).\n",
    "\n",
    "- Look at `multiprocess` ([pypi](https://pypi.org/project/multiprocess/), [readthedocs](https://multiprocess.readthedocs.io/en/latest/index.html); note the request to cite two papers if you use `multiprocess` in published work).  The multiprocess library is a fork of Python's standard multiprocessing module that uses `dill` for enhanced serialization. It is part of the `pathos` framework, which provides a more robust and flexible toolkit for parallel and heterogeneous computing."
   ]
  },
  {
   "cell_type": "markdown",
   "id": "4ef481e4",
   "metadata": {},
   "source": [
    "## Try 4: `multiprocess`\n",
    "\n",
    "Install `multiprocess`. \\\n",
    "In a fresh terminal running in the `dissipationtheory` directory,\n",
    "\n",
    "    $ conda deactivate\n",
    "    \n",
    "then\n",
    "\n",
    "    $ eval $(poetry env activate)\n",
    "    $ poetry add multiprocess\n",
    "    \n",
    "and as a check\n",
    "\n",
    "    $ python -c \"import multiprocess\"\n",
    "    \n",
    "Restart this notebook's kernel.\n",
    "\n",
    "As a check"
   ]
  },
  {
   "cell_type": "code",
   "execution_count": 58,
   "id": "08cc37da",
   "metadata": {},
   "outputs": [],
   "source": [
    "import dill\n",
    "import multiprocess"
   ]
  },
  {
   "cell_type": "code",
   "execution_count": 59,
   "id": "4ad3ace1",
   "metadata": {},
   "outputs": [
    {
     "name": "stdout",
     "output_type": "stream",
     "text": [
      "running multiprocess version 0.70.18\n",
      "running dill version 0.4.0\n"
     ]
    }
   ],
   "source": [
    "print(\"running multiprocess version\", multiprocess.__version__)\n",
    "print(\"running dill version\", dill.__version__)"
   ]
  },
  {
   "cell_type": "markdown",
   "id": "a2f2c735",
   "metadata": {},
   "source": [
    "Now try to use `multiprocess`. \\\n",
    "This fails with the error \n",
    "\n",
    "    TypeError: cannot pickle 'SampleModel3Jit' object\n",
    "    \n",
    "Well this is dissapointing!"
   ]
  },
  {
   "cell_type": "code",
   "execution_count": 60,
   "id": "f352fbd4",
   "metadata": {},
   "outputs": [],
   "source": [
    "from multiprocess import Pool\n",
    "\n",
    "class twodimCobject5(twodimCobject):\n",
    "    \n",
    "    def properties_am(self, omega_m, omega_am):\n",
    "\n",
    "        omega_list = [ omega_m, \n",
    "                      -omega_m,\n",
    "                       omega_m + omega_am,\n",
    "                      -omega_m - omega_am,\n",
    "                       omega_m - omega_am,\n",
    "                      -omega_m + omega_am]\n",
    "        \n",
    "        moniker_list = ['a', 'b', 'c', 'd', 'e', 'f']\n",
    "        \n",
    "        L = {}\n",
    "        \n",
    "        p = Pool(8)\n",
    "        result = p.map(self.solve, omega_list)"
   ]
  },
  {
   "cell_type": "code",
   "execution_count": 61,
   "id": "1aa7662f",
   "metadata": {},
   "outputs": [
    {
     "ename": "TypeError",
     "evalue": "cannot pickle 'SampleModel3Jit' object",
     "output_type": "error",
     "traceback": [
      "\u001b[0;31m---------------------------------------------------------------------------\u001b[0m",
      "\u001b[0;31mTypeError\u001b[0m                                 Traceback (most recent call last)",
      "Cell \u001b[0;32mIn[61], line 5\u001b[0m\n\u001b[1;32m      3\u001b[0m obj6\u001b[38;5;241m.\u001b[39mset_alpha(\u001b[38;5;241m1.0e-6\u001b[39m)\n\u001b[1;32m      4\u001b[0m obj6\u001b[38;5;241m.\u001b[39mset_integration_points(\u001b[38;5;241m315\u001b[39m)\n\u001b[0;32m----> 5\u001b[0m \u001b[43mobj6\u001b[49m\u001b[38;5;241;43m.\u001b[39;49m\u001b[43mproperties_am\u001b[49m\u001b[43m(\u001b[49m\u001b[43momega_m\u001b[49m\u001b[38;5;241;43m=\u001b[39;49m\u001b[38;5;241;43m1.0e5\u001b[39;49m\u001b[43m,\u001b[49m\u001b[43m \u001b[49m\u001b[43momega_am\u001b[49m\u001b[43m \u001b[49m\u001b[38;5;241;43m=\u001b[39;49m\u001b[43m \u001b[49m\u001b[38;5;241;43m250.\u001b[39;49m\u001b[43m)\u001b[49m\n",
      "Cell \u001b[0;32mIn[60], line 19\u001b[0m, in \u001b[0;36mtwodimCobject5.properties_am\u001b[0;34m(self, omega_m, omega_am)\u001b[0m\n\u001b[1;32m     16\u001b[0m L \u001b[38;5;241m=\u001b[39m {}\n\u001b[1;32m     18\u001b[0m p \u001b[38;5;241m=\u001b[39m Pool(\u001b[38;5;241m8\u001b[39m)\n\u001b[0;32m---> 19\u001b[0m result \u001b[38;5;241m=\u001b[39m \u001b[43mp\u001b[49m\u001b[38;5;241;43m.\u001b[39;49m\u001b[43mmap\u001b[49m\u001b[43m(\u001b[49m\u001b[38;5;28;43mself\u001b[39;49m\u001b[38;5;241;43m.\u001b[39;49m\u001b[43msolve\u001b[49m\u001b[43m,\u001b[49m\u001b[43m \u001b[49m\u001b[43momega_list\u001b[49m\u001b[43m)\u001b[49m\n",
      "File \u001b[0;32m~/Library/Caches/pypoetry/virtualenvs/dissipationtheory-Uvi85QQO-py3.10/lib/python3.10/site-packages/multiprocess/pool.py:367\u001b[0m, in \u001b[0;36mPool.map\u001b[0;34m(self, func, iterable, chunksize)\u001b[0m\n\u001b[1;32m    362\u001b[0m \u001b[38;5;28;01mdef\u001b[39;00m\u001b[38;5;250m \u001b[39m\u001b[38;5;21mmap\u001b[39m(\u001b[38;5;28mself\u001b[39m, func, iterable, chunksize\u001b[38;5;241m=\u001b[39m\u001b[38;5;28;01mNone\u001b[39;00m):\n\u001b[1;32m    363\u001b[0m \u001b[38;5;250m    \u001b[39m\u001b[38;5;124;03m'''\u001b[39;00m\n\u001b[1;32m    364\u001b[0m \u001b[38;5;124;03m    Apply `func` to each element in `iterable`, collecting the results\u001b[39;00m\n\u001b[1;32m    365\u001b[0m \u001b[38;5;124;03m    in a list that is returned.\u001b[39;00m\n\u001b[1;32m    366\u001b[0m \u001b[38;5;124;03m    '''\u001b[39;00m\n\u001b[0;32m--> 367\u001b[0m     \u001b[38;5;28;01mreturn\u001b[39;00m \u001b[38;5;28;43mself\u001b[39;49m\u001b[38;5;241;43m.\u001b[39;49m\u001b[43m_map_async\u001b[49m\u001b[43m(\u001b[49m\u001b[43mfunc\u001b[49m\u001b[43m,\u001b[49m\u001b[43m \u001b[49m\u001b[43miterable\u001b[49m\u001b[43m,\u001b[49m\u001b[43m \u001b[49m\u001b[43mmapstar\u001b[49m\u001b[43m,\u001b[49m\u001b[43m \u001b[49m\u001b[43mchunksize\u001b[49m\u001b[43m)\u001b[49m\u001b[38;5;241;43m.\u001b[39;49m\u001b[43mget\u001b[49m\u001b[43m(\u001b[49m\u001b[43m)\u001b[49m\n",
      "File \u001b[0;32m~/Library/Caches/pypoetry/virtualenvs/dissipationtheory-Uvi85QQO-py3.10/lib/python3.10/site-packages/multiprocess/pool.py:774\u001b[0m, in \u001b[0;36mApplyResult.get\u001b[0;34m(self, timeout)\u001b[0m\n\u001b[1;32m    772\u001b[0m     \u001b[38;5;28;01mreturn\u001b[39;00m \u001b[38;5;28mself\u001b[39m\u001b[38;5;241m.\u001b[39m_value\n\u001b[1;32m    773\u001b[0m \u001b[38;5;28;01melse\u001b[39;00m:\n\u001b[0;32m--> 774\u001b[0m     \u001b[38;5;28;01mraise\u001b[39;00m \u001b[38;5;28mself\u001b[39m\u001b[38;5;241m.\u001b[39m_value\n",
      "File \u001b[0;32m~/Library/Caches/pypoetry/virtualenvs/dissipationtheory-Uvi85QQO-py3.10/lib/python3.10/site-packages/multiprocess/pool.py:540\u001b[0m, in \u001b[0;36mPool._handle_tasks\u001b[0;34m(taskqueue, put, outqueue, pool, cache)\u001b[0m\n\u001b[1;32m    538\u001b[0m     \u001b[38;5;28;01mbreak\u001b[39;00m\n\u001b[1;32m    539\u001b[0m \u001b[38;5;28;01mtry\u001b[39;00m:\n\u001b[0;32m--> 540\u001b[0m     \u001b[43mput\u001b[49m\u001b[43m(\u001b[49m\u001b[43mtask\u001b[49m\u001b[43m)\u001b[49m\n\u001b[1;32m    541\u001b[0m \u001b[38;5;28;01mexcept\u001b[39;00m \u001b[38;5;167;01mException\u001b[39;00m \u001b[38;5;28;01mas\u001b[39;00m e:\n\u001b[1;32m    542\u001b[0m     job, idx \u001b[38;5;241m=\u001b[39m task[:\u001b[38;5;241m2\u001b[39m]\n",
      "File \u001b[0;32m~/Library/Caches/pypoetry/virtualenvs/dissipationtheory-Uvi85QQO-py3.10/lib/python3.10/site-packages/multiprocess/connection.py:209\u001b[0m, in \u001b[0;36m_ConnectionBase.send\u001b[0;34m(self, obj)\u001b[0m\n\u001b[1;32m    207\u001b[0m \u001b[38;5;28mself\u001b[39m\u001b[38;5;241m.\u001b[39m_check_closed()\n\u001b[1;32m    208\u001b[0m \u001b[38;5;28mself\u001b[39m\u001b[38;5;241m.\u001b[39m_check_writable()\n\u001b[0;32m--> 209\u001b[0m \u001b[38;5;28mself\u001b[39m\u001b[38;5;241m.\u001b[39m_send_bytes(\u001b[43m_ForkingPickler\u001b[49m\u001b[38;5;241;43m.\u001b[39;49m\u001b[43mdumps\u001b[49m\u001b[43m(\u001b[49m\u001b[43mobj\u001b[49m\u001b[43m)\u001b[49m)\n",
      "File \u001b[0;32m~/Library/Caches/pypoetry/virtualenvs/dissipationtheory-Uvi85QQO-py3.10/lib/python3.10/site-packages/multiprocess/reduction.py:54\u001b[0m, in \u001b[0;36mForkingPickler.dumps\u001b[0;34m(cls, obj, protocol, *args, **kwds)\u001b[0m\n\u001b[1;32m     51\u001b[0m \u001b[38;5;129m@classmethod\u001b[39m\n\u001b[1;32m     52\u001b[0m \u001b[38;5;28;01mdef\u001b[39;00m\u001b[38;5;250m \u001b[39m\u001b[38;5;21mdumps\u001b[39m(\u001b[38;5;28mcls\u001b[39m, obj, protocol\u001b[38;5;241m=\u001b[39m\u001b[38;5;28;01mNone\u001b[39;00m, \u001b[38;5;241m*\u001b[39margs, \u001b[38;5;241m*\u001b[39m\u001b[38;5;241m*\u001b[39mkwds):\n\u001b[1;32m     53\u001b[0m     buf \u001b[38;5;241m=\u001b[39m io\u001b[38;5;241m.\u001b[39mBytesIO()\n\u001b[0;32m---> 54\u001b[0m     \u001b[38;5;28;43mcls\u001b[39;49m\u001b[43m(\u001b[49m\u001b[43mbuf\u001b[49m\u001b[43m,\u001b[49m\u001b[43m \u001b[49m\u001b[43mprotocol\u001b[49m\u001b[43m,\u001b[49m\u001b[43m \u001b[49m\u001b[38;5;241;43m*\u001b[39;49m\u001b[43margs\u001b[49m\u001b[43m,\u001b[49m\u001b[43m \u001b[49m\u001b[38;5;241;43m*\u001b[39;49m\u001b[38;5;241;43m*\u001b[39;49m\u001b[43mkwds\u001b[49m\u001b[43m)\u001b[49m\u001b[38;5;241;43m.\u001b[39;49m\u001b[43mdump\u001b[49m\u001b[43m(\u001b[49m\u001b[43mobj\u001b[49m\u001b[43m)\u001b[49m\n\u001b[1;32m     55\u001b[0m     \u001b[38;5;28;01mreturn\u001b[39;00m buf\u001b[38;5;241m.\u001b[39mgetbuffer()\n",
      "File \u001b[0;32m~/Library/Caches/pypoetry/virtualenvs/dissipationtheory-Uvi85QQO-py3.10/lib/python3.10/site-packages/dill/_dill.py:428\u001b[0m, in \u001b[0;36mPickler.dump\u001b[0;34m(self, obj)\u001b[0m\n\u001b[1;32m    426\u001b[0m \u001b[38;5;28;01mdef\u001b[39;00m\u001b[38;5;250m \u001b[39m\u001b[38;5;21mdump\u001b[39m(\u001b[38;5;28mself\u001b[39m, obj): \u001b[38;5;66;03m#NOTE: if settings change, need to update attributes\u001b[39;00m\n\u001b[1;32m    427\u001b[0m     logger\u001b[38;5;241m.\u001b[39mtrace_setup(\u001b[38;5;28mself\u001b[39m)\n\u001b[0;32m--> 428\u001b[0m     \u001b[43mStockPickler\u001b[49m\u001b[38;5;241;43m.\u001b[39;49m\u001b[43mdump\u001b[49m\u001b[43m(\u001b[49m\u001b[38;5;28;43mself\u001b[39;49m\u001b[43m,\u001b[49m\u001b[43m \u001b[49m\u001b[43mobj\u001b[49m\u001b[43m)\u001b[49m\n",
      "File \u001b[0;32m/opt/anaconda3/envs/py310/lib/python3.10/pickle.py:487\u001b[0m, in \u001b[0;36m_Pickler.dump\u001b[0;34m(self, obj)\u001b[0m\n\u001b[1;32m    485\u001b[0m \u001b[38;5;28;01mif\u001b[39;00m \u001b[38;5;28mself\u001b[39m\u001b[38;5;241m.\u001b[39mproto \u001b[38;5;241m>\u001b[39m\u001b[38;5;241m=\u001b[39m \u001b[38;5;241m4\u001b[39m:\n\u001b[1;32m    486\u001b[0m     \u001b[38;5;28mself\u001b[39m\u001b[38;5;241m.\u001b[39mframer\u001b[38;5;241m.\u001b[39mstart_framing()\n\u001b[0;32m--> 487\u001b[0m \u001b[38;5;28;43mself\u001b[39;49m\u001b[38;5;241;43m.\u001b[39;49m\u001b[43msave\u001b[49m\u001b[43m(\u001b[49m\u001b[43mobj\u001b[49m\u001b[43m)\u001b[49m\n\u001b[1;32m    488\u001b[0m \u001b[38;5;28mself\u001b[39m\u001b[38;5;241m.\u001b[39mwrite(STOP)\n\u001b[1;32m    489\u001b[0m \u001b[38;5;28mself\u001b[39m\u001b[38;5;241m.\u001b[39mframer\u001b[38;5;241m.\u001b[39mend_framing()\n",
      "File \u001b[0;32m~/Library/Caches/pypoetry/virtualenvs/dissipationtheory-Uvi85QQO-py3.10/lib/python3.10/site-packages/dill/_dill.py:422\u001b[0m, in \u001b[0;36mPickler.save\u001b[0;34m(self, obj, save_persistent_id)\u001b[0m\n\u001b[1;32m    420\u001b[0m     msg \u001b[38;5;241m=\u001b[39m \u001b[38;5;124m\"\u001b[39m\u001b[38;5;124mCan\u001b[39m\u001b[38;5;124m'\u001b[39m\u001b[38;5;124mt pickle \u001b[39m\u001b[38;5;132;01m%s\u001b[39;00m\u001b[38;5;124m: attribute lookup builtins.generator failed\u001b[39m\u001b[38;5;124m\"\u001b[39m \u001b[38;5;241m%\u001b[39m GeneratorType\n\u001b[1;32m    421\u001b[0m     \u001b[38;5;28;01mraise\u001b[39;00m PicklingError(msg)\n\u001b[0;32m--> 422\u001b[0m \u001b[43mStockPickler\u001b[49m\u001b[38;5;241;43m.\u001b[39;49m\u001b[43msave\u001b[49m\u001b[43m(\u001b[49m\u001b[38;5;28;43mself\u001b[39;49m\u001b[43m,\u001b[49m\u001b[43m \u001b[49m\u001b[43mobj\u001b[49m\u001b[43m,\u001b[49m\u001b[43m \u001b[49m\u001b[43msave_persistent_id\u001b[49m\u001b[43m)\u001b[49m\n",
      "File \u001b[0;32m/opt/anaconda3/envs/py310/lib/python3.10/pickle.py:560\u001b[0m, in \u001b[0;36m_Pickler.save\u001b[0;34m(self, obj, save_persistent_id)\u001b[0m\n\u001b[1;32m    558\u001b[0m f \u001b[38;5;241m=\u001b[39m \u001b[38;5;28mself\u001b[39m\u001b[38;5;241m.\u001b[39mdispatch\u001b[38;5;241m.\u001b[39mget(t)\n\u001b[1;32m    559\u001b[0m \u001b[38;5;28;01mif\u001b[39;00m f \u001b[38;5;129;01mis\u001b[39;00m \u001b[38;5;129;01mnot\u001b[39;00m \u001b[38;5;28;01mNone\u001b[39;00m:\n\u001b[0;32m--> 560\u001b[0m     \u001b[43mf\u001b[49m\u001b[43m(\u001b[49m\u001b[38;5;28;43mself\u001b[39;49m\u001b[43m,\u001b[49m\u001b[43m \u001b[49m\u001b[43mobj\u001b[49m\u001b[43m)\u001b[49m  \u001b[38;5;66;03m# Call unbound method with explicit self\u001b[39;00m\n\u001b[1;32m    561\u001b[0m     \u001b[38;5;28;01mreturn\u001b[39;00m\n\u001b[1;32m    563\u001b[0m \u001b[38;5;66;03m# Check private dispatch table if any, or else\u001b[39;00m\n\u001b[1;32m    564\u001b[0m \u001b[38;5;66;03m# copyreg.dispatch_table\u001b[39;00m\n",
      "File \u001b[0;32m/opt/anaconda3/envs/py310/lib/python3.10/pickle.py:902\u001b[0m, in \u001b[0;36m_Pickler.save_tuple\u001b[0;34m(self, obj)\u001b[0m\n\u001b[1;32m    900\u001b[0m write(MARK)\n\u001b[1;32m    901\u001b[0m \u001b[38;5;28;01mfor\u001b[39;00m element \u001b[38;5;129;01min\u001b[39;00m obj:\n\u001b[0;32m--> 902\u001b[0m     \u001b[43msave\u001b[49m\u001b[43m(\u001b[49m\u001b[43melement\u001b[49m\u001b[43m)\u001b[49m\n\u001b[1;32m    904\u001b[0m \u001b[38;5;28;01mif\u001b[39;00m \u001b[38;5;28mid\u001b[39m(obj) \u001b[38;5;129;01min\u001b[39;00m memo:\n\u001b[1;32m    905\u001b[0m     \u001b[38;5;66;03m# Subtle.  d was not in memo when we entered save_tuple(), so\u001b[39;00m\n\u001b[1;32m    906\u001b[0m     \u001b[38;5;66;03m# the process of saving the tuple's elements must have saved\u001b[39;00m\n\u001b[0;32m   (...)\u001b[0m\n\u001b[1;32m    910\u001b[0m     \u001b[38;5;66;03m# could have been done in the \"for element\" loop instead, but\u001b[39;00m\n\u001b[1;32m    911\u001b[0m     \u001b[38;5;66;03m# recursive tuples are a rare thing.\u001b[39;00m\n\u001b[1;32m    912\u001b[0m     get \u001b[38;5;241m=\u001b[39m \u001b[38;5;28mself\u001b[39m\u001b[38;5;241m.\u001b[39mget(memo[\u001b[38;5;28mid\u001b[39m(obj)][\u001b[38;5;241m0\u001b[39m])\n",
      "File \u001b[0;32m~/Library/Caches/pypoetry/virtualenvs/dissipationtheory-Uvi85QQO-py3.10/lib/python3.10/site-packages/dill/_dill.py:422\u001b[0m, in \u001b[0;36mPickler.save\u001b[0;34m(self, obj, save_persistent_id)\u001b[0m\n\u001b[1;32m    420\u001b[0m     msg \u001b[38;5;241m=\u001b[39m \u001b[38;5;124m\"\u001b[39m\u001b[38;5;124mCan\u001b[39m\u001b[38;5;124m'\u001b[39m\u001b[38;5;124mt pickle \u001b[39m\u001b[38;5;132;01m%s\u001b[39;00m\u001b[38;5;124m: attribute lookup builtins.generator failed\u001b[39m\u001b[38;5;124m\"\u001b[39m \u001b[38;5;241m%\u001b[39m GeneratorType\n\u001b[1;32m    421\u001b[0m     \u001b[38;5;28;01mraise\u001b[39;00m PicklingError(msg)\n\u001b[0;32m--> 422\u001b[0m \u001b[43mStockPickler\u001b[49m\u001b[38;5;241;43m.\u001b[39;49m\u001b[43msave\u001b[49m\u001b[43m(\u001b[49m\u001b[38;5;28;43mself\u001b[39;49m\u001b[43m,\u001b[49m\u001b[43m \u001b[49m\u001b[43mobj\u001b[49m\u001b[43m,\u001b[49m\u001b[43m \u001b[49m\u001b[43msave_persistent_id\u001b[49m\u001b[43m)\u001b[49m\n",
      "File \u001b[0;32m/opt/anaconda3/envs/py310/lib/python3.10/pickle.py:560\u001b[0m, in \u001b[0;36m_Pickler.save\u001b[0;34m(self, obj, save_persistent_id)\u001b[0m\n\u001b[1;32m    558\u001b[0m f \u001b[38;5;241m=\u001b[39m \u001b[38;5;28mself\u001b[39m\u001b[38;5;241m.\u001b[39mdispatch\u001b[38;5;241m.\u001b[39mget(t)\n\u001b[1;32m    559\u001b[0m \u001b[38;5;28;01mif\u001b[39;00m f \u001b[38;5;129;01mis\u001b[39;00m \u001b[38;5;129;01mnot\u001b[39;00m \u001b[38;5;28;01mNone\u001b[39;00m:\n\u001b[0;32m--> 560\u001b[0m     \u001b[43mf\u001b[49m\u001b[43m(\u001b[49m\u001b[38;5;28;43mself\u001b[39;49m\u001b[43m,\u001b[49m\u001b[43m \u001b[49m\u001b[43mobj\u001b[49m\u001b[43m)\u001b[49m  \u001b[38;5;66;03m# Call unbound method with explicit self\u001b[39;00m\n\u001b[1;32m    561\u001b[0m     \u001b[38;5;28;01mreturn\u001b[39;00m\n\u001b[1;32m    563\u001b[0m \u001b[38;5;66;03m# Check private dispatch table if any, or else\u001b[39;00m\n\u001b[1;32m    564\u001b[0m \u001b[38;5;66;03m# copyreg.dispatch_table\u001b[39;00m\n",
      "File \u001b[0;32m/opt/anaconda3/envs/py310/lib/python3.10/pickle.py:887\u001b[0m, in \u001b[0;36m_Pickler.save_tuple\u001b[0;34m(self, obj)\u001b[0m\n\u001b[1;32m    885\u001b[0m \u001b[38;5;28;01mif\u001b[39;00m n \u001b[38;5;241m<\u001b[39m\u001b[38;5;241m=\u001b[39m \u001b[38;5;241m3\u001b[39m \u001b[38;5;129;01mand\u001b[39;00m \u001b[38;5;28mself\u001b[39m\u001b[38;5;241m.\u001b[39mproto \u001b[38;5;241m>\u001b[39m\u001b[38;5;241m=\u001b[39m \u001b[38;5;241m2\u001b[39m:\n\u001b[1;32m    886\u001b[0m     \u001b[38;5;28;01mfor\u001b[39;00m element \u001b[38;5;129;01min\u001b[39;00m obj:\n\u001b[0;32m--> 887\u001b[0m         \u001b[43msave\u001b[49m\u001b[43m(\u001b[49m\u001b[43melement\u001b[49m\u001b[43m)\u001b[49m\n\u001b[1;32m    888\u001b[0m     \u001b[38;5;66;03m# Subtle.  Same as in the big comment below.\u001b[39;00m\n\u001b[1;32m    889\u001b[0m     \u001b[38;5;28;01mif\u001b[39;00m \u001b[38;5;28mid\u001b[39m(obj) \u001b[38;5;129;01min\u001b[39;00m memo:\n",
      "File \u001b[0;32m~/Library/Caches/pypoetry/virtualenvs/dissipationtheory-Uvi85QQO-py3.10/lib/python3.10/site-packages/dill/_dill.py:422\u001b[0m, in \u001b[0;36mPickler.save\u001b[0;34m(self, obj, save_persistent_id)\u001b[0m\n\u001b[1;32m    420\u001b[0m     msg \u001b[38;5;241m=\u001b[39m \u001b[38;5;124m\"\u001b[39m\u001b[38;5;124mCan\u001b[39m\u001b[38;5;124m'\u001b[39m\u001b[38;5;124mt pickle \u001b[39m\u001b[38;5;132;01m%s\u001b[39;00m\u001b[38;5;124m: attribute lookup builtins.generator failed\u001b[39m\u001b[38;5;124m\"\u001b[39m \u001b[38;5;241m%\u001b[39m GeneratorType\n\u001b[1;32m    421\u001b[0m     \u001b[38;5;28;01mraise\u001b[39;00m PicklingError(msg)\n\u001b[0;32m--> 422\u001b[0m \u001b[43mStockPickler\u001b[49m\u001b[38;5;241;43m.\u001b[39;49m\u001b[43msave\u001b[49m\u001b[43m(\u001b[49m\u001b[38;5;28;43mself\u001b[39;49m\u001b[43m,\u001b[49m\u001b[43m \u001b[49m\u001b[43mobj\u001b[49m\u001b[43m,\u001b[49m\u001b[43m \u001b[49m\u001b[43msave_persistent_id\u001b[49m\u001b[43m)\u001b[49m\n",
      "File \u001b[0;32m/opt/anaconda3/envs/py310/lib/python3.10/pickle.py:560\u001b[0m, in \u001b[0;36m_Pickler.save\u001b[0;34m(self, obj, save_persistent_id)\u001b[0m\n\u001b[1;32m    558\u001b[0m f \u001b[38;5;241m=\u001b[39m \u001b[38;5;28mself\u001b[39m\u001b[38;5;241m.\u001b[39mdispatch\u001b[38;5;241m.\u001b[39mget(t)\n\u001b[1;32m    559\u001b[0m \u001b[38;5;28;01mif\u001b[39;00m f \u001b[38;5;129;01mis\u001b[39;00m \u001b[38;5;129;01mnot\u001b[39;00m \u001b[38;5;28;01mNone\u001b[39;00m:\n\u001b[0;32m--> 560\u001b[0m     \u001b[43mf\u001b[49m\u001b[43m(\u001b[49m\u001b[38;5;28;43mself\u001b[39;49m\u001b[43m,\u001b[49m\u001b[43m \u001b[49m\u001b[43mobj\u001b[49m\u001b[43m)\u001b[49m  \u001b[38;5;66;03m# Call unbound method with explicit self\u001b[39;00m\n\u001b[1;32m    561\u001b[0m     \u001b[38;5;28;01mreturn\u001b[39;00m\n\u001b[1;32m    563\u001b[0m \u001b[38;5;66;03m# Check private dispatch table if any, or else\u001b[39;00m\n\u001b[1;32m    564\u001b[0m \u001b[38;5;66;03m# copyreg.dispatch_table\u001b[39;00m\n",
      "File \u001b[0;32m/opt/anaconda3/envs/py310/lib/python3.10/pickle.py:887\u001b[0m, in \u001b[0;36m_Pickler.save_tuple\u001b[0;34m(self, obj)\u001b[0m\n\u001b[1;32m    885\u001b[0m \u001b[38;5;28;01mif\u001b[39;00m n \u001b[38;5;241m<\u001b[39m\u001b[38;5;241m=\u001b[39m \u001b[38;5;241m3\u001b[39m \u001b[38;5;129;01mand\u001b[39;00m \u001b[38;5;28mself\u001b[39m\u001b[38;5;241m.\u001b[39mproto \u001b[38;5;241m>\u001b[39m\u001b[38;5;241m=\u001b[39m \u001b[38;5;241m2\u001b[39m:\n\u001b[1;32m    886\u001b[0m     \u001b[38;5;28;01mfor\u001b[39;00m element \u001b[38;5;129;01min\u001b[39;00m obj:\n\u001b[0;32m--> 887\u001b[0m         \u001b[43msave\u001b[49m\u001b[43m(\u001b[49m\u001b[43melement\u001b[49m\u001b[43m)\u001b[49m\n\u001b[1;32m    888\u001b[0m     \u001b[38;5;66;03m# Subtle.  Same as in the big comment below.\u001b[39;00m\n\u001b[1;32m    889\u001b[0m     \u001b[38;5;28;01mif\u001b[39;00m \u001b[38;5;28mid\u001b[39m(obj) \u001b[38;5;129;01min\u001b[39;00m memo:\n",
      "File \u001b[0;32m~/Library/Caches/pypoetry/virtualenvs/dissipationtheory-Uvi85QQO-py3.10/lib/python3.10/site-packages/dill/_dill.py:422\u001b[0m, in \u001b[0;36mPickler.save\u001b[0;34m(self, obj, save_persistent_id)\u001b[0m\n\u001b[1;32m    420\u001b[0m     msg \u001b[38;5;241m=\u001b[39m \u001b[38;5;124m\"\u001b[39m\u001b[38;5;124mCan\u001b[39m\u001b[38;5;124m'\u001b[39m\u001b[38;5;124mt pickle \u001b[39m\u001b[38;5;132;01m%s\u001b[39;00m\u001b[38;5;124m: attribute lookup builtins.generator failed\u001b[39m\u001b[38;5;124m\"\u001b[39m \u001b[38;5;241m%\u001b[39m GeneratorType\n\u001b[1;32m    421\u001b[0m     \u001b[38;5;28;01mraise\u001b[39;00m PicklingError(msg)\n\u001b[0;32m--> 422\u001b[0m \u001b[43mStockPickler\u001b[49m\u001b[38;5;241;43m.\u001b[39;49m\u001b[43msave\u001b[49m\u001b[43m(\u001b[49m\u001b[38;5;28;43mself\u001b[39;49m\u001b[43m,\u001b[49m\u001b[43m \u001b[49m\u001b[43mobj\u001b[49m\u001b[43m,\u001b[49m\u001b[43m \u001b[49m\u001b[43msave_persistent_id\u001b[49m\u001b[43m)\u001b[49m\n",
      "File \u001b[0;32m/opt/anaconda3/envs/py310/lib/python3.10/pickle.py:560\u001b[0m, in \u001b[0;36m_Pickler.save\u001b[0;34m(self, obj, save_persistent_id)\u001b[0m\n\u001b[1;32m    558\u001b[0m f \u001b[38;5;241m=\u001b[39m \u001b[38;5;28mself\u001b[39m\u001b[38;5;241m.\u001b[39mdispatch\u001b[38;5;241m.\u001b[39mget(t)\n\u001b[1;32m    559\u001b[0m \u001b[38;5;28;01mif\u001b[39;00m f \u001b[38;5;129;01mis\u001b[39;00m \u001b[38;5;129;01mnot\u001b[39;00m \u001b[38;5;28;01mNone\u001b[39;00m:\n\u001b[0;32m--> 560\u001b[0m     \u001b[43mf\u001b[49m\u001b[43m(\u001b[49m\u001b[38;5;28;43mself\u001b[39;49m\u001b[43m,\u001b[49m\u001b[43m \u001b[49m\u001b[43mobj\u001b[49m\u001b[43m)\u001b[49m  \u001b[38;5;66;03m# Call unbound method with explicit self\u001b[39;00m\n\u001b[1;32m    561\u001b[0m     \u001b[38;5;28;01mreturn\u001b[39;00m\n\u001b[1;32m    563\u001b[0m \u001b[38;5;66;03m# Check private dispatch table if any, or else\u001b[39;00m\n\u001b[1;32m    564\u001b[0m \u001b[38;5;66;03m# copyreg.dispatch_table\u001b[39;00m\n",
      "File \u001b[0;32m~/Library/Caches/pypoetry/virtualenvs/dissipationtheory-Uvi85QQO-py3.10/lib/python3.10/site-packages/dill/_dill.py:1526\u001b[0m, in \u001b[0;36msave_instancemethod0\u001b[0;34m(pickler, obj)\u001b[0m\n\u001b[1;32m   1523\u001b[0m \u001b[38;5;129m@register\u001b[39m(MethodType)\n\u001b[1;32m   1524\u001b[0m \u001b[38;5;28;01mdef\u001b[39;00m\u001b[38;5;250m \u001b[39m\u001b[38;5;21msave_instancemethod0\u001b[39m(pickler, obj):\n\u001b[1;32m   1525\u001b[0m     logger\u001b[38;5;241m.\u001b[39mtrace(pickler, \u001b[38;5;124m\"\u001b[39m\u001b[38;5;124mMe1: \u001b[39m\u001b[38;5;132;01m%s\u001b[39;00m\u001b[38;5;124m\"\u001b[39m, obj)\n\u001b[0;32m-> 1526\u001b[0m     \u001b[43mpickler\u001b[49m\u001b[38;5;241;43m.\u001b[39;49m\u001b[43msave_reduce\u001b[49m\u001b[43m(\u001b[49m\u001b[43mMethodType\u001b[49m\u001b[43m,\u001b[49m\u001b[43m \u001b[49m\u001b[43m(\u001b[49m\u001b[43mobj\u001b[49m\u001b[38;5;241;43m.\u001b[39;49m\u001b[38;5;18;43m__func__\u001b[39;49m\u001b[43m,\u001b[49m\u001b[43m \u001b[49m\u001b[43mobj\u001b[49m\u001b[38;5;241;43m.\u001b[39;49m\u001b[38;5;18;43m__self__\u001b[39;49m\u001b[43m)\u001b[49m\u001b[43m,\u001b[49m\u001b[43m \u001b[49m\u001b[43mobj\u001b[49m\u001b[38;5;241;43m=\u001b[39;49m\u001b[43mobj\u001b[49m\u001b[43m)\u001b[49m\n\u001b[1;32m   1527\u001b[0m     logger\u001b[38;5;241m.\u001b[39mtrace(pickler, \u001b[38;5;124m\"\u001b[39m\u001b[38;5;124m# Me1\u001b[39m\u001b[38;5;124m\"\u001b[39m)\n\u001b[1;32m   1528\u001b[0m     \u001b[38;5;28;01mreturn\u001b[39;00m\n",
      "File \u001b[0;32m/opt/anaconda3/envs/py310/lib/python3.10/pickle.py:692\u001b[0m, in \u001b[0;36m_Pickler.save_reduce\u001b[0;34m(self, func, args, state, listitems, dictitems, state_setter, obj)\u001b[0m\n\u001b[1;32m    690\u001b[0m \u001b[38;5;28;01melse\u001b[39;00m:\n\u001b[1;32m    691\u001b[0m     save(func)\n\u001b[0;32m--> 692\u001b[0m     \u001b[43msave\u001b[49m\u001b[43m(\u001b[49m\u001b[43margs\u001b[49m\u001b[43m)\u001b[49m\n\u001b[1;32m    693\u001b[0m     write(REDUCE)\n\u001b[1;32m    695\u001b[0m \u001b[38;5;28;01mif\u001b[39;00m obj \u001b[38;5;129;01mis\u001b[39;00m \u001b[38;5;129;01mnot\u001b[39;00m \u001b[38;5;28;01mNone\u001b[39;00m:\n\u001b[1;32m    696\u001b[0m     \u001b[38;5;66;03m# If the object is already in the memo, this means it is\u001b[39;00m\n\u001b[1;32m    697\u001b[0m     \u001b[38;5;66;03m# recursive. In this case, throw away everything we put on the\u001b[39;00m\n\u001b[1;32m    698\u001b[0m     \u001b[38;5;66;03m# stack, and fetch the object back from the memo.\u001b[39;00m\n",
      "File \u001b[0;32m~/Library/Caches/pypoetry/virtualenvs/dissipationtheory-Uvi85QQO-py3.10/lib/python3.10/site-packages/dill/_dill.py:422\u001b[0m, in \u001b[0;36mPickler.save\u001b[0;34m(self, obj, save_persistent_id)\u001b[0m\n\u001b[1;32m    420\u001b[0m     msg \u001b[38;5;241m=\u001b[39m \u001b[38;5;124m\"\u001b[39m\u001b[38;5;124mCan\u001b[39m\u001b[38;5;124m'\u001b[39m\u001b[38;5;124mt pickle \u001b[39m\u001b[38;5;132;01m%s\u001b[39;00m\u001b[38;5;124m: attribute lookup builtins.generator failed\u001b[39m\u001b[38;5;124m\"\u001b[39m \u001b[38;5;241m%\u001b[39m GeneratorType\n\u001b[1;32m    421\u001b[0m     \u001b[38;5;28;01mraise\u001b[39;00m PicklingError(msg)\n\u001b[0;32m--> 422\u001b[0m \u001b[43mStockPickler\u001b[49m\u001b[38;5;241;43m.\u001b[39;49m\u001b[43msave\u001b[49m\u001b[43m(\u001b[49m\u001b[38;5;28;43mself\u001b[39;49m\u001b[43m,\u001b[49m\u001b[43m \u001b[49m\u001b[43mobj\u001b[49m\u001b[43m,\u001b[49m\u001b[43m \u001b[49m\u001b[43msave_persistent_id\u001b[49m\u001b[43m)\u001b[49m\n",
      "File \u001b[0;32m/opt/anaconda3/envs/py310/lib/python3.10/pickle.py:560\u001b[0m, in \u001b[0;36m_Pickler.save\u001b[0;34m(self, obj, save_persistent_id)\u001b[0m\n\u001b[1;32m    558\u001b[0m f \u001b[38;5;241m=\u001b[39m \u001b[38;5;28mself\u001b[39m\u001b[38;5;241m.\u001b[39mdispatch\u001b[38;5;241m.\u001b[39mget(t)\n\u001b[1;32m    559\u001b[0m \u001b[38;5;28;01mif\u001b[39;00m f \u001b[38;5;129;01mis\u001b[39;00m \u001b[38;5;129;01mnot\u001b[39;00m \u001b[38;5;28;01mNone\u001b[39;00m:\n\u001b[0;32m--> 560\u001b[0m     \u001b[43mf\u001b[49m\u001b[43m(\u001b[49m\u001b[38;5;28;43mself\u001b[39;49m\u001b[43m,\u001b[49m\u001b[43m \u001b[49m\u001b[43mobj\u001b[49m\u001b[43m)\u001b[49m  \u001b[38;5;66;03m# Call unbound method with explicit self\u001b[39;00m\n\u001b[1;32m    561\u001b[0m     \u001b[38;5;28;01mreturn\u001b[39;00m\n\u001b[1;32m    563\u001b[0m \u001b[38;5;66;03m# Check private dispatch table if any, or else\u001b[39;00m\n\u001b[1;32m    564\u001b[0m \u001b[38;5;66;03m# copyreg.dispatch_table\u001b[39;00m\n",
      "File \u001b[0;32m/opt/anaconda3/envs/py310/lib/python3.10/pickle.py:887\u001b[0m, in \u001b[0;36m_Pickler.save_tuple\u001b[0;34m(self, obj)\u001b[0m\n\u001b[1;32m    885\u001b[0m \u001b[38;5;28;01mif\u001b[39;00m n \u001b[38;5;241m<\u001b[39m\u001b[38;5;241m=\u001b[39m \u001b[38;5;241m3\u001b[39m \u001b[38;5;129;01mand\u001b[39;00m \u001b[38;5;28mself\u001b[39m\u001b[38;5;241m.\u001b[39mproto \u001b[38;5;241m>\u001b[39m\u001b[38;5;241m=\u001b[39m \u001b[38;5;241m2\u001b[39m:\n\u001b[1;32m    886\u001b[0m     \u001b[38;5;28;01mfor\u001b[39;00m element \u001b[38;5;129;01min\u001b[39;00m obj:\n\u001b[0;32m--> 887\u001b[0m         \u001b[43msave\u001b[49m\u001b[43m(\u001b[49m\u001b[43melement\u001b[49m\u001b[43m)\u001b[49m\n\u001b[1;32m    888\u001b[0m     \u001b[38;5;66;03m# Subtle.  Same as in the big comment below.\u001b[39;00m\n\u001b[1;32m    889\u001b[0m     \u001b[38;5;28;01mif\u001b[39;00m \u001b[38;5;28mid\u001b[39m(obj) \u001b[38;5;129;01min\u001b[39;00m memo:\n",
      "File \u001b[0;32m~/Library/Caches/pypoetry/virtualenvs/dissipationtheory-Uvi85QQO-py3.10/lib/python3.10/site-packages/dill/_dill.py:422\u001b[0m, in \u001b[0;36mPickler.save\u001b[0;34m(self, obj, save_persistent_id)\u001b[0m\n\u001b[1;32m    420\u001b[0m     msg \u001b[38;5;241m=\u001b[39m \u001b[38;5;124m\"\u001b[39m\u001b[38;5;124mCan\u001b[39m\u001b[38;5;124m'\u001b[39m\u001b[38;5;124mt pickle \u001b[39m\u001b[38;5;132;01m%s\u001b[39;00m\u001b[38;5;124m: attribute lookup builtins.generator failed\u001b[39m\u001b[38;5;124m\"\u001b[39m \u001b[38;5;241m%\u001b[39m GeneratorType\n\u001b[1;32m    421\u001b[0m     \u001b[38;5;28;01mraise\u001b[39;00m PicklingError(msg)\n\u001b[0;32m--> 422\u001b[0m \u001b[43mStockPickler\u001b[49m\u001b[38;5;241;43m.\u001b[39;49m\u001b[43msave\u001b[49m\u001b[43m(\u001b[49m\u001b[38;5;28;43mself\u001b[39;49m\u001b[43m,\u001b[49m\u001b[43m \u001b[49m\u001b[43mobj\u001b[49m\u001b[43m,\u001b[49m\u001b[43m \u001b[49m\u001b[43msave_persistent_id\u001b[49m\u001b[43m)\u001b[49m\n",
      "File \u001b[0;32m/opt/anaconda3/envs/py310/lib/python3.10/pickle.py:603\u001b[0m, in \u001b[0;36m_Pickler.save\u001b[0;34m(self, obj, save_persistent_id)\u001b[0m\n\u001b[1;32m    599\u001b[0m     \u001b[38;5;28;01mraise\u001b[39;00m PicklingError(\u001b[38;5;124m\"\u001b[39m\u001b[38;5;124mTuple returned by \u001b[39m\u001b[38;5;132;01m%s\u001b[39;00m\u001b[38;5;124m must have \u001b[39m\u001b[38;5;124m\"\u001b[39m\n\u001b[1;32m    600\u001b[0m                         \u001b[38;5;124m\"\u001b[39m\u001b[38;5;124mtwo to six elements\u001b[39m\u001b[38;5;124m\"\u001b[39m \u001b[38;5;241m%\u001b[39m reduce)\n\u001b[1;32m    602\u001b[0m \u001b[38;5;66;03m# Save the reduce() output and finally memoize the object\u001b[39;00m\n\u001b[0;32m--> 603\u001b[0m \u001b[38;5;28;43mself\u001b[39;49m\u001b[38;5;241;43m.\u001b[39;49m\u001b[43msave_reduce\u001b[49m\u001b[43m(\u001b[49m\u001b[43mobj\u001b[49m\u001b[38;5;241;43m=\u001b[39;49m\u001b[43mobj\u001b[49m\u001b[43m,\u001b[49m\u001b[43m \u001b[49m\u001b[38;5;241;43m*\u001b[39;49m\u001b[43mrv\u001b[49m\u001b[43m)\u001b[49m\n",
      "File \u001b[0;32m/opt/anaconda3/envs/py310/lib/python3.10/pickle.py:717\u001b[0m, in \u001b[0;36m_Pickler.save_reduce\u001b[0;34m(self, func, args, state, listitems, dictitems, state_setter, obj)\u001b[0m\n\u001b[1;32m    715\u001b[0m \u001b[38;5;28;01mif\u001b[39;00m state \u001b[38;5;129;01mis\u001b[39;00m \u001b[38;5;129;01mnot\u001b[39;00m \u001b[38;5;28;01mNone\u001b[39;00m:\n\u001b[1;32m    716\u001b[0m     \u001b[38;5;28;01mif\u001b[39;00m state_setter \u001b[38;5;129;01mis\u001b[39;00m \u001b[38;5;28;01mNone\u001b[39;00m:\n\u001b[0;32m--> 717\u001b[0m         \u001b[43msave\u001b[49m\u001b[43m(\u001b[49m\u001b[43mstate\u001b[49m\u001b[43m)\u001b[49m\n\u001b[1;32m    718\u001b[0m         write(BUILD)\n\u001b[1;32m    719\u001b[0m     \u001b[38;5;28;01melse\u001b[39;00m:\n\u001b[1;32m    720\u001b[0m         \u001b[38;5;66;03m# If a state_setter is specified, call it instead of load_build\u001b[39;00m\n\u001b[1;32m    721\u001b[0m         \u001b[38;5;66;03m# to update obj's with its previous state.\u001b[39;00m\n\u001b[1;32m    722\u001b[0m         \u001b[38;5;66;03m# First, push state_setter and its tuple of expected arguments\u001b[39;00m\n\u001b[1;32m    723\u001b[0m         \u001b[38;5;66;03m# (obj, state) onto the stack.\u001b[39;00m\n",
      "File \u001b[0;32m~/Library/Caches/pypoetry/virtualenvs/dissipationtheory-Uvi85QQO-py3.10/lib/python3.10/site-packages/dill/_dill.py:422\u001b[0m, in \u001b[0;36mPickler.save\u001b[0;34m(self, obj, save_persistent_id)\u001b[0m\n\u001b[1;32m    420\u001b[0m     msg \u001b[38;5;241m=\u001b[39m \u001b[38;5;124m\"\u001b[39m\u001b[38;5;124mCan\u001b[39m\u001b[38;5;124m'\u001b[39m\u001b[38;5;124mt pickle \u001b[39m\u001b[38;5;132;01m%s\u001b[39;00m\u001b[38;5;124m: attribute lookup builtins.generator failed\u001b[39m\u001b[38;5;124m\"\u001b[39m \u001b[38;5;241m%\u001b[39m GeneratorType\n\u001b[1;32m    421\u001b[0m     \u001b[38;5;28;01mraise\u001b[39;00m PicklingError(msg)\n\u001b[0;32m--> 422\u001b[0m \u001b[43mStockPickler\u001b[49m\u001b[38;5;241;43m.\u001b[39;49m\u001b[43msave\u001b[49m\u001b[43m(\u001b[49m\u001b[38;5;28;43mself\u001b[39;49m\u001b[43m,\u001b[49m\u001b[43m \u001b[49m\u001b[43mobj\u001b[49m\u001b[43m,\u001b[49m\u001b[43m \u001b[49m\u001b[43msave_persistent_id\u001b[49m\u001b[43m)\u001b[49m\n",
      "File \u001b[0;32m/opt/anaconda3/envs/py310/lib/python3.10/pickle.py:560\u001b[0m, in \u001b[0;36m_Pickler.save\u001b[0;34m(self, obj, save_persistent_id)\u001b[0m\n\u001b[1;32m    558\u001b[0m f \u001b[38;5;241m=\u001b[39m \u001b[38;5;28mself\u001b[39m\u001b[38;5;241m.\u001b[39mdispatch\u001b[38;5;241m.\u001b[39mget(t)\n\u001b[1;32m    559\u001b[0m \u001b[38;5;28;01mif\u001b[39;00m f \u001b[38;5;129;01mis\u001b[39;00m \u001b[38;5;129;01mnot\u001b[39;00m \u001b[38;5;28;01mNone\u001b[39;00m:\n\u001b[0;32m--> 560\u001b[0m     \u001b[43mf\u001b[49m\u001b[43m(\u001b[49m\u001b[38;5;28;43mself\u001b[39;49m\u001b[43m,\u001b[49m\u001b[43m \u001b[49m\u001b[43mobj\u001b[49m\u001b[43m)\u001b[49m  \u001b[38;5;66;03m# Call unbound method with explicit self\u001b[39;00m\n\u001b[1;32m    561\u001b[0m     \u001b[38;5;28;01mreturn\u001b[39;00m\n\u001b[1;32m    563\u001b[0m \u001b[38;5;66;03m# Check private dispatch table if any, or else\u001b[39;00m\n\u001b[1;32m    564\u001b[0m \u001b[38;5;66;03m# copyreg.dispatch_table\u001b[39;00m\n",
      "File \u001b[0;32m~/Library/Caches/pypoetry/virtualenvs/dissipationtheory-Uvi85QQO-py3.10/lib/python3.10/site-packages/dill/_dill.py:1262\u001b[0m, in \u001b[0;36msave_module_dict\u001b[0;34m(pickler, obj)\u001b[0m\n\u001b[1;32m   1259\u001b[0m     \u001b[38;5;28;01mif\u001b[39;00m is_dill(pickler, child\u001b[38;5;241m=\u001b[39m\u001b[38;5;28;01mFalse\u001b[39;00m) \u001b[38;5;129;01mand\u001b[39;00m pickler\u001b[38;5;241m.\u001b[39m_session:\n\u001b[1;32m   1260\u001b[0m         \u001b[38;5;66;03m# we only care about session the first pass thru\u001b[39;00m\n\u001b[1;32m   1261\u001b[0m         pickler\u001b[38;5;241m.\u001b[39m_first_pass \u001b[38;5;241m=\u001b[39m \u001b[38;5;28;01mFalse\u001b[39;00m\n\u001b[0;32m-> 1262\u001b[0m     \u001b[43mStockPickler\u001b[49m\u001b[38;5;241;43m.\u001b[39;49m\u001b[43msave_dict\u001b[49m\u001b[43m(\u001b[49m\u001b[43mpickler\u001b[49m\u001b[43m,\u001b[49m\u001b[43m \u001b[49m\u001b[43mobj\u001b[49m\u001b[43m)\u001b[49m\n\u001b[1;32m   1263\u001b[0m     logger\u001b[38;5;241m.\u001b[39mtrace(pickler, \u001b[38;5;124m\"\u001b[39m\u001b[38;5;124m# D2\u001b[39m\u001b[38;5;124m\"\u001b[39m)\n\u001b[1;32m   1264\u001b[0m \u001b[38;5;28;01mreturn\u001b[39;00m\n",
      "File \u001b[0;32m/opt/anaconda3/envs/py310/lib/python3.10/pickle.py:972\u001b[0m, in \u001b[0;36m_Pickler.save_dict\u001b[0;34m(self, obj)\u001b[0m\n\u001b[1;32m    969\u001b[0m     \u001b[38;5;28mself\u001b[39m\u001b[38;5;241m.\u001b[39mwrite(MARK \u001b[38;5;241m+\u001b[39m DICT)\n\u001b[1;32m    971\u001b[0m \u001b[38;5;28mself\u001b[39m\u001b[38;5;241m.\u001b[39mmemoize(obj)\n\u001b[0;32m--> 972\u001b[0m \u001b[38;5;28;43mself\u001b[39;49m\u001b[38;5;241;43m.\u001b[39;49m\u001b[43m_batch_setitems\u001b[49m\u001b[43m(\u001b[49m\u001b[43mobj\u001b[49m\u001b[38;5;241;43m.\u001b[39;49m\u001b[43mitems\u001b[49m\u001b[43m(\u001b[49m\u001b[43m)\u001b[49m\u001b[43m)\u001b[49m\n",
      "File \u001b[0;32m/opt/anaconda3/envs/py310/lib/python3.10/pickle.py:998\u001b[0m, in \u001b[0;36m_Pickler._batch_setitems\u001b[0;34m(self, items)\u001b[0m\n\u001b[1;32m    996\u001b[0m     \u001b[38;5;28;01mfor\u001b[39;00m k, v \u001b[38;5;129;01min\u001b[39;00m tmp:\n\u001b[1;32m    997\u001b[0m         save(k)\n\u001b[0;32m--> 998\u001b[0m         \u001b[43msave\u001b[49m\u001b[43m(\u001b[49m\u001b[43mv\u001b[49m\u001b[43m)\u001b[49m\n\u001b[1;32m    999\u001b[0m     write(SETITEMS)\n\u001b[1;32m   1000\u001b[0m \u001b[38;5;28;01melif\u001b[39;00m n:\n",
      "File \u001b[0;32m~/Library/Caches/pypoetry/virtualenvs/dissipationtheory-Uvi85QQO-py3.10/lib/python3.10/site-packages/dill/_dill.py:422\u001b[0m, in \u001b[0;36mPickler.save\u001b[0;34m(self, obj, save_persistent_id)\u001b[0m\n\u001b[1;32m    420\u001b[0m     msg \u001b[38;5;241m=\u001b[39m \u001b[38;5;124m\"\u001b[39m\u001b[38;5;124mCan\u001b[39m\u001b[38;5;124m'\u001b[39m\u001b[38;5;124mt pickle \u001b[39m\u001b[38;5;132;01m%s\u001b[39;00m\u001b[38;5;124m: attribute lookup builtins.generator failed\u001b[39m\u001b[38;5;124m\"\u001b[39m \u001b[38;5;241m%\u001b[39m GeneratorType\n\u001b[1;32m    421\u001b[0m     \u001b[38;5;28;01mraise\u001b[39;00m PicklingError(msg)\n\u001b[0;32m--> 422\u001b[0m \u001b[43mStockPickler\u001b[49m\u001b[38;5;241;43m.\u001b[39;49m\u001b[43msave\u001b[49m\u001b[43m(\u001b[49m\u001b[38;5;28;43mself\u001b[39;49m\u001b[43m,\u001b[49m\u001b[43m \u001b[49m\u001b[43mobj\u001b[49m\u001b[43m,\u001b[49m\u001b[43m \u001b[49m\u001b[43msave_persistent_id\u001b[49m\u001b[43m)\u001b[49m\n",
      "File \u001b[0;32m/opt/anaconda3/envs/py310/lib/python3.10/pickle.py:578\u001b[0m, in \u001b[0;36m_Pickler.save\u001b[0;34m(self, obj, save_persistent_id)\u001b[0m\n\u001b[1;32m    576\u001b[0m reduce \u001b[38;5;241m=\u001b[39m \u001b[38;5;28mgetattr\u001b[39m(obj, \u001b[38;5;124m\"\u001b[39m\u001b[38;5;124m__reduce_ex__\u001b[39m\u001b[38;5;124m\"\u001b[39m, \u001b[38;5;28;01mNone\u001b[39;00m)\n\u001b[1;32m    577\u001b[0m \u001b[38;5;28;01mif\u001b[39;00m reduce \u001b[38;5;129;01mis\u001b[39;00m \u001b[38;5;129;01mnot\u001b[39;00m \u001b[38;5;28;01mNone\u001b[39;00m:\n\u001b[0;32m--> 578\u001b[0m     rv \u001b[38;5;241m=\u001b[39m \u001b[43mreduce\u001b[49m\u001b[43m(\u001b[49m\u001b[38;5;28;43mself\u001b[39;49m\u001b[38;5;241;43m.\u001b[39;49m\u001b[43mproto\u001b[49m\u001b[43m)\u001b[49m\n\u001b[1;32m    579\u001b[0m \u001b[38;5;28;01melse\u001b[39;00m:\n\u001b[1;32m    580\u001b[0m     reduce \u001b[38;5;241m=\u001b[39m \u001b[38;5;28mgetattr\u001b[39m(obj, \u001b[38;5;124m\"\u001b[39m\u001b[38;5;124m__reduce__\u001b[39m\u001b[38;5;124m\"\u001b[39m, \u001b[38;5;28;01mNone\u001b[39;00m)\n",
      "\u001b[0;31mTypeError\u001b[0m: cannot pickle 'SampleModel3Jit' object"
     ]
    }
   ],
   "source": [
    "obj6 = twodimCobject5(sample3_jit, device)\n",
    "obj6.addsphere(ureg.Quantity(100,'nm'), 21, 21)\n",
    "obj6.set_alpha(1.0e-6)\n",
    "obj6.set_integration_points(315)\n",
    "obj6.properties_am(omega_m=1.0e5, omega_am = 250.)"
   ]
  },
  {
   "cell_type": "markdown",
   "id": "618666e1",
   "metadata": {},
   "source": [
    "The solve function still works."
   ]
  },
  {
   "cell_type": "code",
   "execution_count": 64,
   "id": "95dca327",
   "metadata": {},
   "outputs": [
    {
     "data": {
      "text/plain": [
       "((72.39419113099575+0.031886892228200736j),\n",
       " (-0.09508153414019105-2.2178829430239965e-05j),\n",
       " (0.0014857568880799477+8.864060688021369e-07j))"
      ]
     },
     "execution_count": 64,
     "metadata": {},
     "output_type": "execute_result"
    }
   ],
   "source": [
    "obj6.solve(omega=1.0e5)"
   ]
  },
  {
   "cell_type": "markdown",
   "id": "0ac8bec7",
   "metadata": {},
   "source": [
    "# Rewrite `twodimCobject` using non-jit sample object\n",
    "\n",
    "Rewrite to be initiated with a `SampleModel3` instead of a `SampleModel3Jit` object. \\\n",
    "My hope is that this will solve the pickling problem.\n",
    "\n",
    "Now all the `self.sample` properties have *units*. \\\n",
    "Modify any line calling `self.sample`."
   ]
  },
  {
   "cell_type": "code",
   "execution_count": 85,
   "id": "262f111e",
   "metadata": {},
   "outputs": [],
   "source": [
    "class twodimCobject6():\n",
    "\n",
    "    def __init__(self, sample, device):\n",
    "        \"\"\"Here sample is a SampleModel3 object.\"\"\"\n",
    "\n",
    "        self.sample = sample\n",
    "        self.device = device\n",
    "\n",
    "        self.Vr = ureg.Quantity(1, 'V')\n",
    "        self.zr = ureg.Quantity(1, 'nm')\n",
    "\n",
    "        self.results = {}\n",
    "        self.results['Vts [V]'] = self.sample.cantilever.V_ts.to('V').magnitude\n",
    "        self.keys = ['Vts [V]']\n",
    "\n",
    "        self.alpha = 0.0  # regularization parameter, unitless\n",
    "        self.pts = 3000   # number of points used for numerical integration, unitless\n",
    "\n",
    "        self.results['regularization parameter alpha'] = self.alpha\n",
    "        self.results['integration points'] = self.pts\n",
    "        self.keys += ['regularization parameter alpha', 'integration points']\n",
    "        \n",
    "    def print_results(self):\n",
    "        \n",
    "        df = pd.DataFrame.from_dict(\n",
    "            obj.results,\n",
    "            orient='index',\n",
    "            columns=['value'])\n",
    "        \n",
    "        display(df)\n",
    "        \n",
    "    @property\n",
    "    def cG(self):\n",
    "        return (qe / (4 * np.pi * epsilon0 * self.Vr * self.zr)).to('dimensionless').magnitude\n",
    "    \n",
    "    @property\n",
    "    def cGinv(self):\n",
    "        return 1/self.cG\n",
    "    \n",
    "    def addsphere(self, h, N, M, theta_start=-np.pi/2, theta_stop=3*np.pi/2, theta_endpoint=False):\n",
    "        \"\"\"Model a sphere of radius $r$ above a ground plane, with a tip-sample\n",
    "        separation of $h$.  Create image-charge points $r_j$ and voltage-test \n",
    "        points $r_k$.  The $N$ image-charge points are placed along a vertical\n",
    "        line extending from $h + 0.1 r$ to $h + 1.90 r$. The $M$ voltage-test \n",
    "        points are located uniformly around the sphere, starting at the south \n",
    "        pole, $\\theta = -\\pi/2$, and rotating counter clockwise. Initialize the\n",
    "        values of the image charges at 1.0.  Creates two arrays: \n",
    "        (a) self.sj, the voltage-test points, and (b) self.rk, the image-charge\n",
    "        points, with the coordinates in nanometers. \n",
    "        \"\"\"\n",
    "\n",
    "        # read from sample.cantilever object\n",
    "        r = self.sample.cantilever.R.to('nm').magnitude\n",
    "\n",
    "        # convert to nm and strip units\n",
    "        h = h.to('nm').magnitude\n",
    "        \n",
    "        # charge locations\n",
    "        delta_array = np.linspace(start=-0.90, stop=0.90, endpoint=True, num=N)\n",
    "        self.rk = np.array([[0, 0, h + r + r * delta] for  delta in delta_array])\n",
    "\n",
    "        # voltage-test locations\n",
    "        theta_array = np.linspace(start=theta_start, stop=theta_stop, endpoint=theta_endpoint, num=M)\n",
    "        self.sj = np.array([[r * np.cos(theta), 0, h + r + r * np.sin(theta)] for theta in theta_array])\n",
    "        \n",
    "        # save these\n",
    "        self.info = {'type': 'sphere', \n",
    "                     'r [nm]': r, \n",
    "                     'h [nm]': h, \n",
    "                     'N': N,\n",
    "                     'M': M }\n",
    "\n",
    "        self.title1 = f'sphere, $r$ = {r:0.1f} nm, $h$ = {h:0.1f} nm, $N$ = {N:d} image charges, $M$ = {M:d} test points'\n",
    "        self.title2 = ''\n",
    "\n",
    "        # Initialize these results, useful for plotting\n",
    "\n",
    "        results = {\n",
    "            'alpha': self.alpha, \n",
    "            'q': np.ones(N),\n",
    "            'S': np.ones(N),\n",
    "            'Sinv': np.ones(N),\n",
    "            'cn': 0, \n",
    "            'V': np.zeros(M)}\n",
    "\n",
    "        self.results.update(results)\n",
    "        \n",
    "    def addtip(self, h):\n",
    "        \"\"\"Model a cone-sphere tip above a ground plane.  The tip-sample\n",
    "        separation is $h$.  The tip radius is $r$, the cone length is $L$,\n",
    "        and the cone angle is $theta$ (read from self.sample.cantilever). \n",
    "        The $N_z$ image-charge points and the $N_r$ voltage test points \n",
    "        are placed following Xu and coworkers, Xu, J.; Li, J.; Li, W. \n",
    "        Calculating Electrostatic Interactions in Atomic Force Microscopy \n",
    "        with Semiconductor Samples. *AIP Advances* 2019, 9(10): 105308, \n",
    "        https://doi.org/10.1063/1.5110482.\"\"\"\n",
    "        \n",
    " \n",
    "        # convert h to nm and strip units\n",
    "        h = h.to('nm').magnitude\n",
    "        \n",
    "        # read from sample.cantilever object\n",
    "        r = self.sample.cantilever.R.to('nm').magnitude   # unitless, nm\n",
    "        L = self.sample.cantilever.L.to('nm').magnitude   # unitless, nm\n",
    "        theta = self.sample.cantilever.angle.to('degree') # keep units \n",
    "        \n",
    "        # convert to radians \n",
    "        thetar = theta.to('radian').magnitude\n",
    "\n",
    "        dz = r**2/(2 * (r + h))\n",
    "        d2 = h + r * (1 - np.sin(thetar))\n",
    "        \n",
    "        Nt = 3\n",
    "        Nc = int(np.floor(np.sqrt((L - r) / dz)))\n",
    "        Nz = Nt + Nc\n",
    "        \n",
    "        rk = np.zeros((Nz, 3))\n",
    "        rk[0,:] = np.array([0, 0, np.sqrt(2 * r * h + h**2)])\n",
    "        rk[1,:] = np.array([0, 0, h + r - dz])\n",
    "        rk[2,:] = np.array([0, 0, h + r])\n",
    "        for k in np.arange(3, Nz):\n",
    "            rk[k,0] = 0\n",
    "            rk[k,1] = 0\n",
    "            rk[k,2] = rk[k-1,2] + dz * (2 * k - 5)\n",
    "        \n",
    "        self.rk = rk\n",
    "\n",
    "        Nr = Nz\n",
    "        sj = np.zeros((Nr, 3))\n",
    "        sj[0,:] = np.array([0, 0, h])\n",
    "        sj[1,:] = np.array([r * np.sin((np.pi/2 - thetar)/2), 0, h + r * (1 - np.cos((np.pi/2 - thetar)/2))])\n",
    "        sj[2,:] = np.array([r * np.cos(thetar), 0, h + r * (1 - np.sin(thetar))])\n",
    "        for k in np.arange(3, Nz):\n",
    "            sj[k,2] = (rk[k,2] + rk[k-1,2])/2\n",
    "            sj[k,1] = 0\n",
    "            sj[k,0] = r * np.cos(thetar) + (sj[k,2] - d2) * np.tan(thetar)\n",
    "\n",
    "        self.sj = sj\n",
    "        \n",
    "        # save these\n",
    "        self.info = {'type': 'sphere-tipped cone', \n",
    "                     'r [nm]': r, \n",
    "                     'h [nm]': h, \n",
    "                     'L [nm]': L, \n",
    "                     'theta [degree]': theta.to('degree').magnitude, \n",
    "                     'N': Nz,\n",
    "                     'M': Nr}\n",
    "        \n",
    "        self.title1 = f'sphere-tipped cone, $r$ = {r:0.1f} nm, $h$ = {h:0.1f} nm, ' \\\n",
    "            f'$L$ = {L:0.1f} nm, $\\\\theta$ = {theta:0.1f}, $N_z$ = {Nz:d}, $N_r$ = {Nr:d}'\n",
    "        self.title2 = ''\n",
    "        \n",
    "        # Initialize these results, useful for plotting\n",
    "\n",
    "        results = {\n",
    "            'alpha': self.alpha, \n",
    "            'q': np.ones(Nz),\n",
    "            'S': np.ones(Nz),\n",
    "            'Sinv': np.ones(Nz),\n",
    "            'cn': 0, \n",
    "            'V': np.zeros(Nr)}\n",
    "\n",
    "        self.results.update(results)\n",
    "\n",
    "    def plot(self, N=0, M=0):\n",
    "        \"\"\"Plot, from left to right, (a) the voltage test points and the computed \n",
    "        image charges, (b) the relative voltage error around the object in parts per\n",
    "        million, (c) image charge value versus position, and (d) singular values \n",
    "        for the response-function matrix.\"\"\"\n",
    "\n",
    "        if N == 0:\n",
    "            N = self.info['N']\n",
    "\n",
    "        if M == 0:\n",
    "            M = self.info['M']\n",
    "        \n",
    "        fig, (ax1, ax2, ax3, ax4) = plt.subplots(1, 4, figsize=(8.00, 2.5))\n",
    "        \n",
    "        fig.suptitle(self.title1 + '\\n' + self.title2, fontsize=10)\n",
    "    \n",
    "        cmap = plt.get_cmap('RdBu')\n",
    "        ax1.scatter(self.rk[0:N,0], self.rk[0:N,2], \n",
    "            marker='.', c=self.results['q'][0:N], cmap=cmap, \n",
    "            alpha=0.5, edgecolors='face',\n",
    "            vmin=-max(abs(self.results['q'][0:N])), \n",
    "            vmax=max(abs(self.results['q'][0:N])))\n",
    "        ax1.scatter(self.sj[0:M,0], self.sj[0:M,2], marker='.')\n",
    "        ax1.set_xlabel('$x$ [nm]')\n",
    "        ax1.set_ylabel('$z$ [nm]')\n",
    "        ax1.axis('equal')\n",
    "\n",
    "        ax2.plot(self.rk[0:N,2], self.results['q'][0:N], '.-')\n",
    "        ax2.set_xlabel('$(r_j)_{z}$ [nm]')\n",
    "        ax2.set_ylabel('$q/q_{e}$')\n",
    "        ax2.set_title(r''.format(), fontsize=10)\n",
    "\n",
    "        V = self.results['V'][0:M]\n",
    "        ax3.plot(1e6 * (V - np.ones_like(V)), '.-')\n",
    "        ax3.set_xlabel('index')\n",
    "        ax3.set_ylabel(r'$\\delta V/V_0$ [ppm]')\n",
    "        \n",
    "        ax4.plot(self.results['S'][0:N], label='$\\Lambda_k$')\n",
    "        ax4.plot(self.results['Sinv'][0:N], label=r'${\\mathrm{filt}}(\\Lambda_k^{-1})$')\n",
    "        ax4.set_xlabel('index $k$')\n",
    "        ax4.set_ylabel('SVD')\n",
    "        ax4.set_yscale('log')\n",
    "        ax4.legend(fontsize=6, frameon=False)\n",
    "        \n",
    "        fig.tight_layout()\n",
    "        \n",
    "        return fig        \n",
    "        \n",
    "    def set_alpha(self, alpha):\n",
    "        \"\"\"Set the regularization parameter alpha.  This is a unitless number.\"\"\"\n",
    "        \n",
    "        self.alpha = alpha\n",
    "        self.results['alpha'] = alpha\n",
    "\n",
    "    def set_integration_points(self, pts):\n",
    "        \"\"\"Set the number of breakpoints to use in the numerical integration.\"\"\"\n",
    "        \n",
    "        self.pts = pts\n",
    "        self.results['integration points'] = pts\n",
    "\n",
    "    def solve(self, omega):\n",
    "        \"\"\"Solve for the charges.  The parameter $\\alpha$ is used to filter\n",
    "        the singular values in the inverse.  The parameter omega is the unitless\n",
    "        cantilever frequency in rad/s.       \n",
    "        \"\"\"\n",
    "        \n",
    "        sj = torch.as_tensor(self.sj.astype(np.float32), device=device)\n",
    "        rk = torch.as_tensor(self.rk.astype(np.float32), device=device)\n",
    "        \n",
    "        Ctensor = Cmatrix(sj, rk)\n",
    "        \n",
    "        if self.sample.type == 3:\n",
    "            \n",
    "            omega0 = self.sample.omega0.to('Hz').magnitude\n",
    "            kD = self.sample.kD.to('1/m').magnitude\n",
    "            es = self.sample.epsilon_s.to('').magnitude\n",
    "            \n",
    "            K0tensor, K1tensor, K2tensor = KmatrixIII(omega, omega0, kD, es, sj, rk, self.pts, self.device)\n",
    "            \n",
    "        else:\n",
    "            \n",
    "            raise Exception(\"unknown sample type\")\n",
    "            \n",
    "        K0 = K0tensor.cpu().numpy() \n",
    "        K1 = K1tensor.cpu().numpy()\n",
    "        K2 = K2tensor.cpu().numpy()\n",
    "        C = Ctensor.cpu().numpy()\n",
    "        \n",
    "        G0 = C - K0\n",
    "        alpha = self.alpha\n",
    "    \n",
    "        U, S, VT = np.linalg.svd(G0, full_matrices=False) # svd not implemented yet in torch for M1\n",
    "        \n",
    "        filt = np.diag(np.power(S, 2)/(np.power(S, 2) + alpha**2))\n",
    "        Sinv = filt * np.diag(np.power(S, -1))\n",
    "        G0inv = VT.T @ Sinv @ U.T\n",
    "        \n",
    "        self.results['S'] = S                # unitless\n",
    "        self.results['Sinv'] = np.diag(Sinv) # unitless\n",
    "        self.results['cn'] = S.max()/S.min() # unitless\n",
    "        \n",
    "        IdN = np.ones(self.info['N']).T\n",
    "        IdM = np.ones(self.info['M'])\n",
    "        \n",
    "        L0 = IdN @ G0inv @ IdM\n",
    "        L1 = -2 * IdN @ G0inv @ K1 @ G0inv @ IdM\n",
    "        L2 = 4 * IdN @ (G0inv @ K2 @ G0inv + 2 * G0inv @ K1 @ G0inv @ K1 @ G0inv) @ IdM\n",
    "\n",
    "        Q = self.cGinv * complex(0,1) * G0inv @ IdM\n",
    "        V = -1 * complex(0,1) * self.cG * G0 @ Q\n",
    "\n",
    "        self.results['q'] = np.imag(Q) # units of qe \n",
    "        self.results['V'] = np.real(V) # units of Vr\n",
    "                \n",
    "        Vrms = np.std(V - np.ones_like(V))\n",
    "        \n",
    "        self.results['Vrms [ppm]'] = 1e6 * np.real(Vrms) # units of Vr        \n",
    "        \n",
    "        return L0, L1, L2"
   ]
  },
  {
   "cell_type": "markdown",
   "id": "b5d1fa94",
   "metadata": {},
   "source": [
    "This works"
   ]
  },
  {
   "cell_type": "code",
   "execution_count": 86,
   "id": "6ba7d5d7",
   "metadata": {},
   "outputs": [
    {
     "data": {
      "text/plain": [
       "((72.39419113099575+0.031886892228200736j),\n",
       " (-0.09508153414019105-2.2178829430239965e-05j),\n",
       " (0.0014857568880799477+8.864060688021369e-07j))"
      ]
     },
     "execution_count": 86,
     "metadata": {},
     "output_type": "execute_result"
    }
   ],
   "source": [
    "obj7 = twodimCobject6(sample3, device)\n",
    "obj7.addsphere(ureg.Quantity(100,'nm'), 21, 21)\n",
    "obj7.set_alpha(1.0e-6)\n",
    "obj7.set_integration_points(315)\n",
    "obj7.solve(omega=1.0e5)"
   ]
  },
  {
   "cell_type": "markdown",
   "id": "37186e22",
   "metadata": {},
   "source": [
    "is reasonably fast"
   ]
  },
  {
   "cell_type": "code",
   "execution_count": 23,
   "id": "1f3bf833",
   "metadata": {},
   "outputs": [
    {
     "name": "stdout",
     "output_type": "stream",
     "text": [
      "2.61 ms ± 31.8 µs per loop (mean ± std. dev. of 7 runs, 100 loops each)\n"
     ]
    }
   ],
   "source": [
    "%timeit obj7.solve(omega=1.0e5)"
   ]
  },
  {
   "cell_type": "markdown",
   "id": "877c0fd4",
   "metadata": {},
   "source": [
    "and gets the right answer!"
   ]
  },
  {
   "cell_type": "code",
   "execution_count": 24,
   "id": "7110a8ff",
   "metadata": {},
   "outputs": [
    {
     "data": {
      "text/plain": [
       "True"
      ]
     },
     "execution_count": 24,
     "metadata": {},
     "output_type": "execute_result"
    }
   ],
   "source": [
    "np.allclose(\n",
    "    np.array(obj1.solve(omega=1.0e5)),\n",
    "    np.array(obj7.solve(omega=1.0e5)))"
   ]
  },
  {
   "cell_type": "markdown",
   "id": "d5cc7ec2",
   "metadata": {},
   "source": [
    "# Revisit parallel processing with `multiprocess`"
   ]
  },
  {
   "cell_type": "code",
   "execution_count": 25,
   "id": "d6ca84a9",
   "metadata": {},
   "outputs": [],
   "source": [
    "omega_m=1.0e5\n",
    "omega_am = 250."
   ]
  },
  {
   "cell_type": "code",
   "execution_count": 104,
   "id": "93e6b898",
   "metadata": {},
   "outputs": [],
   "source": [
    "omega_list = [ omega_m, \n",
    "              -omega_m,\n",
    "               omega_m + omega_am,\n",
    "              -omega_m - omega_am,\n",
    "               omega_m - omega_am,\n",
    "              -omega_m + omega_am]\n",
    "\n",
    "moniker_list = ['a', 'b', 'c', 'd', 'e', 'f']"
   ]
  },
  {
   "cell_type": "markdown",
   "id": "79f7086a",
   "metadata": {},
   "source": [
    "Thins hangs!"
   ]
  },
  {
   "cell_type": "code",
   "execution_count": 27,
   "id": "5e6afb94",
   "metadata": {},
   "outputs": [],
   "source": [
    "# p = Pool(2)\n",
    "# result = p.map(obj7.solve, omega_list)"
   ]
  },
  {
   "cell_type": "markdown",
   "id": "a2cf0be1",
   "metadata": {},
   "source": [
    "Try using `multiprocess` on something simpler."
   ]
  },
  {
   "cell_type": "code",
   "execution_count": 28,
   "id": "9cb9703e",
   "metadata": {},
   "outputs": [],
   "source": [
    "from multiprocess import Pool"
   ]
  },
  {
   "cell_type": "code",
   "execution_count": 29,
   "id": "c2ce8ae9",
   "metadata": {},
   "outputs": [
    {
     "name": "stdout",
     "output_type": "stream",
     "text": [
      "[10000000000.0, 10000000000.0, 10050062500.0, 10050062500.0, 9950062500.0, 9950062500.0]\n"
     ]
    }
   ],
   "source": [
    "def f(x): return x*x\n",
    "\n",
    "p = Pool(4)\n",
    "result = p.map_async(f, omega_list)\n",
    "\n",
    "print (result.get(timeout=1))"
   ]
  },
  {
   "cell_type": "markdown",
   "id": "8f01eebd",
   "metadata": {},
   "source": [
    "Change the function to solve my problem but get `TimeoutError:`."
   ]
  },
  {
   "cell_type": "code",
   "execution_count": 30,
   "id": "9ef9c3da",
   "metadata": {},
   "outputs": [],
   "source": [
    "# def f(x): return obj7.solve(x)\n",
    "# \n",
    "# p = Pool(4)\n",
    "# result = p.map_async(f, omega_list)\n",
    "# \n",
    "# print (result.get(timeout=1))"
   ]
  },
  {
   "cell_type": "markdown",
   "id": "b4b5b0ef",
   "metadata": {},
   "source": [
    "Why? \n",
    "\n",
    "Let's tests drive `multiprocess` some more. \\\n",
    "Replace `multiprocessing` with `multiprocess` in the code above, and now the code runs."
   ]
  },
  {
   "cell_type": "code",
   "execution_count": 87,
   "id": "1a10c1b5",
   "metadata": {},
   "outputs": [],
   "source": [
    "import multiprocess as mp\n",
    "import os"
   ]
  },
  {
   "cell_type": "code",
   "execution_count": 88,
   "id": "a9363cfd",
   "metadata": {},
   "outputs": [
    {
     "name": "stdout",
     "output_type": "stream",
     "text": [
      "11\n",
      "here is main 26179\n"
     ]
    }
   ],
   "source": [
    "def calc(num1, num2):\n",
    "\n",
    "    def addi(num1, num2):\n",
    "        print(num1 + num2)\n",
    "\n",
    "    # Another local function you might have\n",
    "    def addi2():\n",
    "        print('hahahaha')\n",
    "\n",
    "    m = mp.Process(target=addi, args=(num1, num2))\n",
    "    m.start()\n",
    "\n",
    "    print(\"here is main\", os.getpid())\n",
    "    m.join()\n",
    "    \n",
    "calc(5,6)"
   ]
  },
  {
   "cell_type": "markdown",
   "id": "10a90126",
   "metadata": {},
   "source": [
    "So `multiprocess` can indeed do more sophisticated pickling than `multiprocessing`."
   ]
  },
  {
   "cell_type": "markdown",
   "id": "441aebfc",
   "metadata": {},
   "source": [
    "Try using the above syntax. \\\n",
    "The `print` statement is important. \\\n",
    "That is how we are getting the answer back to the terminal."
   ]
  },
  {
   "cell_type": "code",
   "execution_count": 122,
   "id": "d58efad2",
   "metadata": {},
   "outputs": [
    {
     "name": "stdout",
     "output_type": "stream",
     "text": [
      "1.0\n"
     ]
    }
   ],
   "source": [
    "def f(x, y): print(x*y)\n",
    "\n",
    "m = mp.Process(target=f, args=(1e5,1e-5))\n",
    "m.start()\n",
    "m.join()"
   ]
  },
  {
   "cell_type": "markdown",
   "id": "bdf4bd30",
   "metadata": {},
   "source": [
    "Why does this generate no output, but no error?"
   ]
  },
  {
   "cell_type": "code",
   "execution_count": 90,
   "id": "aaf2be16",
   "metadata": {},
   "outputs": [],
   "source": [
    "def f(x): print(obj7.solve(x))\n",
    "\n",
    "m = mp.Process(target=f, args=(1e5,))\n",
    "m.start()\n",
    "m.join()"
   ]
  },
  {
   "cell_type": "markdown",
   "id": "64c339ea",
   "metadata": {},
   "source": [
    "Go back the above simple example, and retrieve data using the queue method.  \\\n",
    "Put a tuple on the queue and get it."
   ]
  },
  {
   "cell_type": "code",
   "execution_count": 91,
   "id": "b5105be7",
   "metadata": {},
   "outputs": [
    {
     "name": "stdout",
     "output_type": "stream",
     "text": [
      "(1, 1)\n",
      "(2, 4)\n"
     ]
    }
   ],
   "source": [
    "def f(x, queue):\n",
    "    queue.put((x, x**2))\n",
    "\n",
    "queue = mp.Queue()\n",
    "\n",
    "processes = {}\n",
    "for key, omega in enumerate([1, 2]):\n",
    "    processes[key] = mp.Process(target=f, args=(omega, queue))\n",
    "    processes[key].start()\n",
    "\n",
    "for key in processes:\n",
    "    processes[key].join()\n",
    "    print(queue.get())"
   ]
  },
  {
   "cell_type": "markdown",
   "id": "3f835154",
   "metadata": {},
   "source": [
    "Try to extend this code to `obj7.solve`. \\\n",
    "This code just hangs!"
   ]
  },
  {
   "cell_type": "code",
   "execution_count": 92,
   "id": "8ef79e3d",
   "metadata": {},
   "outputs": [],
   "source": [
    "# def g(x, queue):\n",
    "#    queue.put((x, obj7.solve(x)))\n",
    "#\n",
    "# queue = mp.Queue()\n",
    "\n",
    "# processes = {}\n",
    "# for key, omega in enumerate([1e3, 1e5]):\n",
    "#     processes[key] = mp.Process(target=g, args=(omega, queue))\n",
    "#     processes[key].start()\n",
    "# \n",
    "# for key in processes:\n",
    "#     processes[key].join()\n",
    "#     print(queue.get())"
   ]
  },
  {
   "cell_type": "markdown",
   "id": "eb0259ea",
   "metadata": {},
   "source": [
    "**Idea**: Make `solve` a stand-alone function, instead of a member function. \\\n",
    "Also, strip it down to the essentials."
   ]
  },
  {
   "cell_type": "code",
   "execution_count": 98,
   "id": "e262bc96",
   "metadata": {},
   "outputs": [],
   "source": [
    "def solve(self, omega):\n",
    "\n",
    "    sj = torch.as_tensor(self.sj.astype(np.float32), device=device)\n",
    "    rk = torch.as_tensor(self.rk.astype(np.float32), device=device)\n",
    "\n",
    "    Ctensor = Cmatrix(sj, rk)\n",
    "\n",
    "    if self.sample.type == 3:\n",
    "\n",
    "        omega0 = self.sample.omega0.to('Hz').magnitude\n",
    "        kD = self.sample.kD.to('1/m').magnitude\n",
    "        es = self.sample.epsilon_s.to('').magnitude\n",
    "\n",
    "        K0tensor, K1tensor, K2tensor = KmatrixIII(omega, omega0, kD, es, sj, rk, self.pts, self.device)\n",
    "\n",
    "    else:\n",
    "\n",
    "        raise Exception(\"unknown sample type\")\n",
    "\n",
    "    C = Ctensor.cpu().numpy()\n",
    "    \n",
    "    K0 = K0tensor.cpu().numpy() \n",
    "    K1 = K1tensor.cpu().numpy()\n",
    "    K2 = K2tensor.cpu().numpy()\n",
    "    \n",
    "    G0 = C - K0\n",
    "    alpha = self.alpha\n",
    "\n",
    "    U, S, VT = np.linalg.svd(G0, full_matrices=False) # svd not implemented yet in torch for M1\n",
    "\n",
    "    filt = np.diag(np.power(S, 2)/(np.power(S, 2) + alpha**2))\n",
    "    Sinv = filt * np.diag(np.power(S, -1))\n",
    "    G0inv = VT.T @ Sinv @ U.T\n",
    "\n",
    "    IdN = np.ones(self.info['N']).T\n",
    "    IdM = np.ones(self.info['M'])\n",
    "\n",
    "    L0 = IdN @ G0inv @ IdM\n",
    "    L1 = -2 * IdN @ G0inv @ K1 @ G0inv @ IdM\n",
    "    L2 = 4 * IdN @ (G0inv @ K2 @ G0inv + 2 * G0inv @ K1 @ G0inv @ K1 @ G0inv) @ IdM\n",
    "\n",
    "    return L0, L1, L2"
   ]
  },
  {
   "cell_type": "markdown",
   "id": "b9607be5",
   "metadata": {},
   "source": [
    "We call the function by passing it an object."
   ]
  },
  {
   "cell_type": "code",
   "execution_count": 99,
   "id": "20e39515",
   "metadata": {},
   "outputs": [
    {
     "data": {
      "text/plain": [
       "(((72.55339616537094+0.023923573891806882j),\n",
       "  (-0.0956695789054537-5.09949776754422e-05j),\n",
       "  (0.001494019179531847+1.0043624119049355e-06j)),\n",
       " ((72.39419113099575+0.031886892228200736j),\n",
       "  (-0.09508153414019105-2.2178829430239965e-05j),\n",
       "  (0.0014857568880799477+8.864060688021369e-07j)))"
      ]
     },
     "execution_count": 99,
     "metadata": {},
     "output_type": "execute_result"
    }
   ],
   "source": [
    "(solve(obj7, 1e3), solve(obj7, 1e5))"
   ]
  },
  {
   "cell_type": "markdown",
   "id": "7aa561b4",
   "metadata": {},
   "source": [
    "It runs about as fast as expected."
   ]
  },
  {
   "cell_type": "code",
   "execution_count": 100,
   "id": "1153741d",
   "metadata": {},
   "outputs": [
    {
     "name": "stdout",
     "output_type": "stream",
     "text": [
      "2.48 ms ± 27.6 µs per loop (mean ± std. dev. of 7 runs, 100 loops each)\n"
     ]
    }
   ],
   "source": [
    "%timeit solve(obj7, 1e3)"
   ]
  },
  {
   "cell_type": "markdown",
   "id": "4afbd363",
   "metadata": {},
   "source": [
    "But the following code still hangs!"
   ]
  },
  {
   "cell_type": "code",
   "execution_count": 96,
   "id": "82e672b6",
   "metadata": {},
   "outputs": [],
   "source": [
    "# def f(x, queue):\n",
    "#     queue.put((x, solve(obj7, x)))\n",
    "# \n",
    "# queue = mp.Queue()\n",
    "# \n",
    "# processes = {}\n",
    "# for key, omega in enumerate([1e3, 1e5]):\n",
    "#     processes[key] = mp.Process(target=f, args=(omega, queue))\n",
    "#     processes[key].start()\n",
    "# \n",
    "# for key in processes:\n",
    "#     processes[key].join()\n",
    "#     print(queue.get())"
   ]
  },
  {
   "cell_type": "markdown",
   "id": "6473c135",
   "metadata": {},
   "source": [
    "This hangs too."
   ]
  },
  {
   "cell_type": "code",
   "execution_count": 97,
   "id": "e5aeafc6",
   "metadata": {},
   "outputs": [],
   "source": [
    "# from multiprocess import Pool\n",
    "# \n",
    "# p = Pool(8)\n",
    "# result = p.map(lambda x: solve(obj7, x), omega_list)"
   ]
  },
  {
   "cell_type": "markdown",
   "id": "b5c53031",
   "metadata": {},
   "source": [
    "This runs."
   ]
  },
  {
   "cell_type": "code",
   "execution_count": 102,
   "id": "14a1408b",
   "metadata": {},
   "outputs": [],
   "source": [
    "import concurrent"
   ]
  },
  {
   "cell_type": "code",
   "execution_count": 113,
   "id": "e3a1e5cc",
   "metadata": {},
   "outputs": [],
   "source": [
    "def func(moniker_list, omega_list):\n",
    "\n",
    "    with concurrent.futures.ThreadPoolExecutor() as executor:\n",
    "\n",
    "        futures = []\n",
    "\n",
    "        for omega in omega_list:\n",
    "            future = executor.submit(solve, obj7, omega)\n",
    "            futures.append(future)\n",
    "\n",
    "        for moniker, future in zip(moniker_list, futures):\n",
    "            L[moniker] = future.result()\n",
    "\n",
    "    return L"
   ]
  },
  {
   "cell_type": "markdown",
   "id": "ccd82334",
   "metadata": {},
   "source": [
    "But is no faster. \\\n",
    "That is, it takes about 6 times as long as running one loop. \\\n",
    "So there there is really no parallel processing going on."
   ]
  },
  {
   "cell_type": "code",
   "execution_count": 119,
   "id": "b13ff0ba",
   "metadata": {},
   "outputs": [
    {
     "name": "stdout",
     "output_type": "stream",
     "text": [
      "19.8 ms ± 2.67 ms per loop (mean ± std. dev. of 7 runs, 10 loops each)\n"
     ]
    }
   ],
   "source": [
    "%timeit func(moniker_list, omega_list)"
   ]
  },
  {
   "cell_type": "code",
   "execution_count": 120,
   "id": "80896956",
   "metadata": {},
   "outputs": [
    {
     "name": "stdout",
     "output_type": "stream",
     "text": [
      "2.49 ms ± 9.86 µs per loop (mean ± std. dev. of 7 runs, 100 loops each)\n"
     ]
    }
   ],
   "source": [
    "%timeit solve(obj7, 1e5)"
   ]
  },
  {
   "cell_type": "markdown",
   "id": "d39b8798",
   "metadata": {},
   "source": [
    "Try again. \\\n",
    "The behavior is super puzzling.\n",
    "\n",
    "The print statements show that `obj7` and `1e5` are being passsed to the function `g`.\n",
    "\n",
    "\n",
    "Search Google \"multiprocess.Process called function partially executed\".\n",
    "\n",
    "* On POSIX systems (Linux/macOS), the default \"fork\" start method can sometimes cause issues by inheriting unintended file descriptors or state.  Switch to the \"spawn\" start method, which starts a fresh Python interpreter process. This is the default on Windows and is a safer option that can solve certain issues.\n",
    "\n",
    "* With certain process start methods like `fork`, a child process may inherit an unsafe state from the parent, especially when using hardware accelerators like GPUs. This is known as a \"poison fork\" and can cause crashes.\n",
    "\n",
    "\n",
    "If the start method is \"fork\", then the function `solve(obj, x)` is not being executed, nor is the function `g` throwing an error.  If the start method is \"spawn\" then the function `g` throws an error \n",
    "\n",
    "    NameError: name 'os' is not defined\n",
    "    "
   ]
  },
  {
   "cell_type": "code",
   "execution_count": 296,
   "id": "896185a9",
   "metadata": {},
   "outputs": [],
   "source": [
    "import traceback\n",
    "import os"
   ]
  },
  {
   "cell_type": "code",
   "execution_count": 297,
   "id": "80d2792b",
   "metadata": {},
   "outputs": [],
   "source": [
    "def worker(obj, x, queue):\n",
    "    \n",
    "    print(\"pid =\", os.getpid())\n",
    "    print(\"> x =\", x)\n",
    "    print(\"> r =\", obj.sample.cantilever.R.to('nm').magnitude, \"nm\")\n",
    "    \n",
    "    try:\n",
    "        ans = solve(obj, x)\n",
    "        queue.put((x, ans))\n",
    "    except Exception as e:\n",
    "        queue.put((e, traceback.format_exc()))\n",
    "    finally:\n",
    "        print(\"worker finished (maybe with an error).\")"
   ]
  },
  {
   "cell_type": "markdown",
   "id": "3d984a60",
   "metadata": {},
   "source": [
    "Run using the \"fork\" method."
   ]
  },
  {
   "cell_type": "code",
   "execution_count": 301,
   "id": "7861930f",
   "metadata": {},
   "outputs": [],
   "source": [
    "mp.set_start_method('fork', force=True) # you need the force statement"
   ]
  },
  {
   "cell_type": "code",
   "execution_count": 302,
   "id": "c82827a3",
   "metadata": {},
   "outputs": [
    {
     "name": "stdout",
     "output_type": "stream",
     "text": [
      "start method = fork\n",
      "pid = 29395\n",
      "> x = 100000.0\n",
      "> r = 60 nm\n",
      "started\n",
      "joined\n",
      "queue is empty\n"
     ]
    }
   ],
   "source": [
    "print(\"start method =\", mp.get_start_method())\n",
    "\n",
    "q = mp.Manager().Queue() # still fails with q = mp.Queue()\n",
    "\n",
    "p = mp.Process(target=worker, args=(obj7, 1e5, q))\n",
    "\n",
    "p.start()\n",
    "print(\"started\")\n",
    "\n",
    "p.join()\n",
    "print(\"joined\")\n",
    "\n",
    "if not q.empty():\n",
    "    result = q.get()\n",
    "    if isinstance(result, tuple):\n",
    "        error, tb = result\n",
    "        print(f\"child process encountered an error: {error}\")\n",
    "        print(\"traceback:\")\n",
    "        print(tb)\n",
    "    else:\n",
    "        print(f\"child process returned: {result}\")\n",
    "else:\n",
    "    print(\"queue is empty\")"
   ]
  },
  {
   "cell_type": "markdown",
   "id": "0bec4162",
   "metadata": {},
   "source": [
    "Run using the \"spawn\" method."
   ]
  },
  {
   "cell_type": "code",
   "execution_count": 303,
   "id": "460e4d0e",
   "metadata": {},
   "outputs": [],
   "source": [
    "mp.set_start_method('spawn', force=True) # you need the force statement"
   ]
  },
  {
   "cell_type": "code",
   "execution_count": 304,
   "id": "5e5cbd6a",
   "metadata": {},
   "outputs": [
    {
     "name": "stdout",
     "output_type": "stream",
     "text": [
      "start method = spawn\n",
      "started\n"
     ]
    },
    {
     "name": "stderr",
     "output_type": "stream",
     "text": [
      "Process Process-243:\n",
      "Traceback (most recent call last):\n",
      "  File \"/Users/jam99/Library/Caches/pypoetry/virtualenvs/dissipationtheory-Uvi85QQO-py3.10/lib/python3.10/site-packages/multiprocess/process.py\", line 314, in _bootstrap\n",
      "    self.run()\n",
      "  File \"/Users/jam99/Library/Caches/pypoetry/virtualenvs/dissipationtheory-Uvi85QQO-py3.10/lib/python3.10/site-packages/multiprocess/process.py\", line 108, in run\n",
      "    self._target(*self._args, **self._kwargs)\n",
      "  File \"/var/folders/2j/0f14g9js2bx0k8yr1_tgvkmc0000gp/T/ipykernel_26179/508783367.py\", line 3, in worker\n",
      "NameError: name 'os' is not defined\n"
     ]
    },
    {
     "name": "stdout",
     "output_type": "stream",
     "text": [
      "joined\n",
      "queue is empty\n"
     ]
    }
   ],
   "source": [
    "print(\"start method =\", mp.get_start_method())\n",
    "\n",
    "q = mp.Manager().Queue() # still fails with q = mp.Queue()\n",
    "\n",
    "p = mp.Process(target=worker, args=(obj7, 1e5, q))\n",
    "\n",
    "p.start()\n",
    "print(\"started\")\n",
    "\n",
    "p.join()\n",
    "print(\"joined\")\n",
    "\n",
    "if not q.empty():\n",
    "    result = q.get()\n",
    "    if isinstance(result, tuple):\n",
    "        error, tb = result\n",
    "        print(f\"child process encountered an error: {error}\")\n",
    "        print(\"traceback:\")\n",
    "        print(tb)\n",
    "    else:\n",
    "        print(f\"child process returned: {result}\")\n",
    "else:\n",
    "    print(\"queue is empty\")"
   ]
  },
  {
   "cell_type": "markdown",
   "id": "9e55289a",
   "metadata": {},
   "source": [
    "# New `twodimObjectExperimental` defined in `dissipation14e.py`\n",
    "\n",
    "You can restart the kernel and run the code from here."
   ]
  },
  {
   "cell_type": "code",
   "execution_count": 1,
   "id": "5911fc46",
   "metadata": {},
   "outputs": [],
   "source": [
    "from dissipationtheory.constants import ureg\n",
    "from dissipationtheory.dissipation9a import CantileverModel, SampleModel3\n",
    "from dissipationtheory.dissipation14e import get_device, twodimCobjectExperimental"
   ]
  },
  {
   "cell_type": "code",
   "execution_count": 2,
   "id": "2c1d61eb",
   "metadata": {},
   "outputs": [
    {
     "name": "stdout",
     "output_type": "stream",
     "text": [
      "Using MPS (Apple Silicon GPU)\n"
     ]
    }
   ],
   "source": [
    "device = get_device(verbose=True)\n",
    "\n",
    "cantilever = CantileverModel(\n",
    "    f_c=ureg.Quantity(62, \"kHz\"),\n",
    "    k_c=ureg.Quantity(2.8, \"N/m\"),\n",
    "    V_ts=ureg.Quantity(1, \"V\"),\n",
    "    R=ureg.Quantity(60, \"nm\"),\n",
    "    angle=ureg.Quantity(20, \"degree\"),\n",
    "    L=ureg.Quantity(1000, \"nm\"),\n",
    ")\n",
    "\n",
    "sample3 = SampleModel3(\n",
    "    cantilever=cantilever,\n",
    "    epsilon_s=ureg.Quantity(complex(20, 0), \"\"),\n",
    "    sigma=ureg.Quantity(1e-6, \"S/m\"),\n",
    "    rho=ureg.Quantity(1e19, \"1/m^3\"),\n",
    "    z_r=ureg.Quantity(1, \"nm\"),\n",
    ")\n",
    "\n",
    "device = get_device()"
   ]
  },
  {
   "cell_type": "code",
   "execution_count": 3,
   "id": "bcc75849",
   "metadata": {},
   "outputs": [
    {
     "data": {
      "text/plain": [
       "((72.39419113099575+0.031886892228200736j),\n",
       " (-0.09508153414019105-2.2178829430239965e-05j),\n",
       " (0.0014857568880799477+8.864060688021369e-07j))"
      ]
     },
     "execution_count": 3,
     "metadata": {},
     "output_type": "execute_result"
    }
   ],
   "source": [
    "obj7 = twodimCobjectExperimental(sample3, device)\n",
    "obj7.addsphere(ureg.Quantity(100,'nm'), 21, 21)\n",
    "obj7.set_alpha(1.0e-6)\n",
    "obj7.set_integration_points(21 * 15)\n",
    "obj7.solve(omega=1.0e5)"
   ]
  },
  {
   "cell_type": "code",
   "execution_count": 4,
   "id": "03c34b27",
   "metadata": {},
   "outputs": [
    {
     "name": "stdout",
     "output_type": "stream",
     "text": [
      "2.61 ms ± 20.4 µs per loop (mean ± std. dev. of 7 runs, 100 loops each)\n"
     ]
    }
   ],
   "source": [
    "%timeit obj7.solve(omega=1.0e5)"
   ]
  },
  {
   "cell_type": "markdown",
   "id": "5092665d",
   "metadata": {},
   "source": [
    "Now test three different parallel processing codes. \\\n",
    "This first mockup runs rapidly. "
   ]
  },
  {
   "cell_type": "code",
   "execution_count": 5,
   "id": "9c7cd749",
   "metadata": {},
   "outputs": [
    {
     "data": {
      "text/plain": [
       "{'a': ((72.47301948070526+0.08935557612630873j),\n",
       "  (-0.0954033111661888-0.00016916492738707907j),\n",
       "  (0.001489519391292049+3.558274066672862e-06j)),\n",
       " 'b': ((72.39419113099575+0.031886892228200736j),\n",
       "  (-0.09508153414019105-2.2178829430239965e-05j),\n",
       "  (0.0014857568880799477+8.864060688021369e-07j)),\n",
       " 'c': ((72.3331320732832+0.005989109758473887j),\n",
       "  (-0.09484888634886823+7.934507055341178e-06j),\n",
       "  (0.001482287421499251-3.6600411438582336e-08j))}"
      ]
     },
     "execution_count": 5,
     "metadata": {},
     "output_type": "execute_result"
    }
   ],
   "source": [
    "obj7.properties_blds_mockup1(['a', 'b', 'c'], [1.0e4, 1.0e5, 1.0e6])"
   ]
  },
  {
   "cell_type": "markdown",
   "id": "41cc8081",
   "metadata": {},
   "source": [
    "But no faster than expected, about 8 ms for three frequencies. \\\n",
    "So there is no parallel processing speedup."
   ]
  },
  {
   "cell_type": "code",
   "execution_count": 6,
   "id": "504a4a65",
   "metadata": {},
   "outputs": [
    {
     "name": "stdout",
     "output_type": "stream",
     "text": [
      "8 ms ± 68.2 µs per loop (mean ± std. dev. of 7 runs, 100 loops each)\n"
     ]
    }
   ],
   "source": [
    "%timeit obj7.properties_blds_mockup1(['a', 'b', 'c'], [1.0e4, 1.0e5, 1.0e6])"
   ]
  },
  {
   "cell_type": "markdown",
   "id": "91217e84",
   "metadata": {},
   "source": [
    "This works, but is hopelessly slow, about 5 seconds for one frequency!"
   ]
  },
  {
   "cell_type": "code",
   "execution_count": 7,
   "id": "7efc867e",
   "metadata": {},
   "outputs": [
    {
     "data": {
      "text/plain": [
       "(100000.0,\n",
       " ((72.39419113099575+0.031886892228200736j),\n",
       "  (-0.09508153414019105-2.2178829430239965e-05j),\n",
       "  (0.0014857568880799477+8.864060688021369e-07j)))"
      ]
     },
     "execution_count": 7,
     "metadata": {},
     "output_type": "execute_result"
    }
   ],
   "source": [
    "obj7.properties_blds_mockup2(omega=1.0e5)"
   ]
  },
  {
   "cell_type": "code",
   "execution_count": 8,
   "id": "5295b829",
   "metadata": {},
   "outputs": [
    {
     "name": "stdout",
     "output_type": "stream",
     "text": [
      "5.02 s ± 44.4 ms per loop (mean ± std. dev. of 7 runs, 1 loop each)\n"
     ]
    }
   ],
   "source": [
    "%timeit obj7.properties_blds_mockup2(omega=1.0e5)"
   ]
  },
  {
   "cell_type": "markdown",
   "id": "329e77c4",
   "metadata": {},
   "source": [
    "This works, but is also hopelessly slow, about 6.5 seconds for three frequencies."
   ]
  },
  {
   "cell_type": "code",
   "execution_count": 9,
   "id": "f8ed613e",
   "metadata": {},
   "outputs": [
    {
     "data": {
      "text/plain": [
       "{'a': ((72.47301948070526+0.08935557612630873j),\n",
       "  (-0.0954033111661888-0.00016916492738707907j),\n",
       "  (0.001489519391292049+3.558274066672862e-06j)),\n",
       " 'b': ((72.39419113099575+0.031886892228200736j),\n",
       "  (-0.09508153414019105-2.2178829430239965e-05j),\n",
       "  (0.0014857568880799477+8.864060688021369e-07j)),\n",
       " 'c': ((72.3331320732832+0.005989109758473887j),\n",
       "  (-0.09484888634886823+7.934507055341178e-06j),\n",
       "  (0.001482287421499251-3.6600411438582336e-08j))}"
      ]
     },
     "execution_count": 9,
     "metadata": {},
     "output_type": "execute_result"
    }
   ],
   "source": [
    "obj7.properties_blds_mockup3(['a', 'b', 'c'], [1.0e4, 1.0e5, 1.0e6])"
   ]
  },
  {
   "cell_type": "code",
   "execution_count": 10,
   "id": "5eba31ed",
   "metadata": {},
   "outputs": [
    {
     "name": "stdout",
     "output_type": "stream",
     "text": [
      "6.33 s ± 70.5 ms per loop (mean ± std. dev. of 7 runs, 1 loop each)\n"
     ]
    }
   ],
   "source": [
    "%timeit obj7.properties_blds_mockup3(['a', 'b', 'c'], [1.0e4, 1.0e5, 1.0e6])"
   ]
  },
  {
   "cell_type": "markdown",
   "id": "cd290dc8",
   "metadata": {},
   "source": [
    "::: {.content-hidden when-format=\"html\"}\n",
    "\n",
    "# Save the figures"
   ]
  },
  {
   "cell_type": "code",
   "execution_count": 32,
   "id": "7df51186",
   "metadata": {},
   "outputs": [],
   "source": [
    "if 1:\n",
    "    for num in figs.keys():\n",
    "        figname = THIS + \"Fig-\" + num\n",
    "        figs[num].savefig(figname + '.png', dpi=300)\n",
    "        figs[num].savefig(figname + '.pdf')"
   ]
  },
  {
   "cell_type": "markdown",
   "id": "561a28d8",
   "metadata": {},
   "source": [
    "# Formatting notes\n",
    "\n",
    "The header at the top of this file is for creating a nicely-formatted `.html` document using the program `quarto` ([link](https://quarto.org/)).  To create nicely-formated `.html`versions of this notebook, run `quarto` from the command line as follows\n",
    "\n",
    "    quarto render dissipation-theory--Study-68.ipynb && open dissipation-theory--Study-68.html\n",
    "    \n",
    ":::"
   ]
  },
  {
   "cell_type": "code",
   "execution_count": null,
   "id": "b1e6b007",
   "metadata": {},
   "outputs": [],
   "source": []
  }
 ],
 "metadata": {
  "kernelspec": {
   "display_name": "dissipationtheory",
   "language": "python",
   "name": "dissipationtheory"
  },
  "language_info": {
   "codemirror_mode": {
    "name": "ipython",
    "version": 3
   },
   "file_extension": ".py",
   "mimetype": "text/x-python",
   "name": "python",
   "nbconvert_exporter": "python",
   "pygments_lexer": "ipython3",
   "version": "3.10.2"
  },
  "toc": {
   "base_numbering": 1,
   "nav_menu": {},
   "number_sections": true,
   "sideBar": true,
   "skip_h1_title": false,
   "title_cell": "Table of Contents",
   "title_sidebar": "Contents",
   "toc_cell": false,
   "toc_position": {
    "height": "647.5px",
    "left": "1136px",
    "top": "111.133px",
    "width": "386px"
   },
   "toc_section_display": true,
   "toc_window_display": true
  }
 },
 "nbformat": 4,
 "nbformat_minor": 5
}
