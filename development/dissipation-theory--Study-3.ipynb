{
 "cells": [
  {
   "cell_type": "markdown",
   "id": "d87201f8-31b6-4a5a-942d-aafe5a197bcb",
   "metadata": {},
   "source": [
    "# Summary\n",
    "\n",
    "* Name: `dissipation-theory--Study-3.ipynb`\n",
    "* Author: John A. Marohn\n",
    "* Date: 2023-09-23\n",
    "* Continued from: `dissipation-theory--Study-2.ipynb`\n",
    "* Continued to: ---\n",
    "* Summary: Try to reproduce Figure 7(b) and Figure 9(b) from Lekkala2012."
   ]
  },
  {
   "cell_type": "markdown",
   "id": "3201c2c7-eaa0-48bc-b3fa-611b3650d89a",
   "metadata": {},
   "source": [
    "# Preliminaries"
   ]
  },
  {
   "cell_type": "code",
   "execution_count": 1,
   "id": "a33fff22-740e-48ff-a2ae-30235a5af143",
   "metadata": {},
   "outputs": [],
   "source": [
    "import numpy as np\n",
    "from dissipationtheory.constants import ureg, epsilon0, qe, kb\n",
    "import matplotlib.pyplot as plt\n",
    "from scipy import integrate\n",
    "from tqdm import tqdm\n",
    "import pandas as pd"
   ]
  },
  {
   "cell_type": "code",
   "execution_count": 2,
   "id": "a5050ee5-d6b0-411f-a394-8b793ba76816",
   "metadata": {},
   "outputs": [],
   "source": [
    "THIS = 'dissipation-theory--Study-3'"
   ]
  },
  {
   "cell_type": "markdown",
   "id": "53242fb3-c848-4b3d-9b41-9f2b8c3cb573",
   "metadata": {},
   "source": [
    "# Sample and cantilever classes\n",
    "\n",
    "Use classes to represent the cantilever and the sample so that derived quantities, like the sample's Debye length, can be computed at creation time."
   ]
  },
  {
   "cell_type": "code",
   "execution_count": 3,
   "id": "9fb51f50-a667-42b1-875f-2bb988876887",
   "metadata": {},
   "outputs": [],
   "source": [
    "class CantileverModel(object):\n",
    "\n",
    "    def __init__(self, f_c, V_ts, R, d):\n",
    "\n",
    "        self.f_c = f_c\n",
    "        self.V_ts = V_ts\n",
    "        self.R = R\n",
    "        self.d = d\n",
    "\n",
    "        self.omega_c = 2 * np.pi * f_c\n",
    "\n",
    "    def __repr__(self):\n",
    "\n",
    "        str = 'cantilever\\n\\n'\n",
    "        str = str + '      resonance freq = {:.3f} kHz\\n'.format(self.f_c.to('kHz').magnitude)\n",
    "        str = str + '                     = {:0.3e} rad/s\\n'.format(self.omega_c.to('Hz').magnitude)\n",
    "        str = str + '  tip-sample voltage = {:.1f} V\\n'.format(self.V_ts.to('V').magnitude)\n",
    "        str = str + '              radius = {:.1f} nm\\n'.format(self.R.to('nm').magnitude)\n",
    "        str = str + '              height = {:.1f} nm\\n'.format(self.d.to('nm').magnitude)\n",
    "        \n",
    "        return str"
   ]
  },
  {
   "cell_type": "code",
   "execution_count": 4,
   "id": "8339bf44-f9b6-4ac8-b199-5130b4a41951",
   "metadata": {},
   "outputs": [],
   "source": [
    "cantilever = CantileverModel(\n",
    "    \n",
    "    f_c = ureg.Quantity(81, 'kHz'),\n",
    "    V_ts = ureg.Quantity(3, 'V'),\n",
    "    R = ureg.Quantity(80, 'nm'),\n",
    "    d = ureg.Quantity(300, 'nm')\n",
    ")"
   ]
  },
  {
   "cell_type": "code",
   "execution_count": 5,
   "id": "21fcf9cf-399f-4e2e-a77c-043124688550",
   "metadata": {},
   "outputs": [
    {
     "data": {
      "text/plain": [
       "cantilever\n",
       "\n",
       "      resonance freq = 81.000 kHz\n",
       "                     = 5.089e+05 rad/s\n",
       "  tip-sample voltage = 3.0 V\n",
       "              radius = 80.0 nm\n",
       "              height = 300.0 nm"
      ]
     },
     "execution_count": 5,
     "metadata": {},
     "output_type": "execute_result"
    }
   ],
   "source": [
    "cantilever"
   ]
  },
  {
   "cell_type": "code",
   "execution_count": 6,
   "id": "506d9be7-9b18-4433-8132-02b2793a12cf",
   "metadata": {},
   "outputs": [],
   "source": [
    "class SampleModel1(object):\n",
    "    \n",
    "    def __init__(self, cantilever, h_s, epsilon_s, mu, rho, epsilon_d, z_r):\n",
    "\n",
    "        self.cantilever = cantilever\n",
    "        self.epsilon_s = epsilon_s\n",
    "        self.h_s = h_s\n",
    "        self.mu = mu\n",
    "        self.rho = rho\n",
    "        self.epsilon_d = epsilon_d\n",
    "        self.z_r = z_r\n",
    "\n",
    "        self.D = ((kb * ureg.Quantity(300., 'K') * self.mu) / qe).to('m^2/s')\n",
    "        self.LD = (np.sqrt((epsilon0 * kb * ureg.Quantity(300., 'K'))/(self.rho * qe * qe))).to('nm')\n",
    "        self.Ld = (np.sqrt(self.D / cantilever.omega_c)).to('nm')\n",
    "        self.epsilon_eff = (self.epsilon_s - complex(0,1) * np.power(self.Ld, 2.) / np.power(self.LD, 2.)).to_base_units()\n",
    "\n",
    "    def __repr__(self):\n",
    "\n",
    "        str = cantilever.__repr__()\n",
    "        str = str + '\\nsemiconductor\\n\\n'\n",
    "        str = str + '             epsilon (real) = {:0.3f}\\n'.format(self.epsilon_s.to('').real.magnitude)\n",
    "        str = str + '             epsilon (imag) = {:0.3f}\\n'.format(self.epsilon_s.to('').imag.magnitude)\n",
    "        str = str + '                  thickness = {:.1f} nm\\n'.format(self.h_s.to('nm').magnitude)\n",
    "        str = str + '                   mobility = {:0.2e} m^2/(V s)\\n'.format(self.mu.to('m^2/(V s)').magnitude)\n",
    "        str = str + '         diffusion constant = {:0.2e} m^2/s\\n'.format(self.D.to('m^2/s').magnitude)\n",
    "        str = str + '             charge density = {:0.2e} m^{{-3}}\\n'.format(self.rho.to('1/m^3').magnitude)\n",
    "        str = str + '           reference height = {:0.1f} nm\\n'.format(self.z_r.to('nm').magnitude)\n",
    "        str = str + '               Debye length = {:0.1f} nm\\n'.format(self.LD.to('nm').magnitude)\n",
    "        str = str + '           diffusion length = {:0.1f} nm\\n'.format(self.Ld.to('nm').magnitude)\n",
    "        str = str + '   effective epsilon (real) = {:0.3f}\\n'.format(self.epsilon_eff.to('').real.magnitude)\n",
    "        str = str + '   effective epsilon (imag) = {:0.3f}\\n\\n'.format(self.epsilon_eff.to('').imag.magnitude)\n",
    "        str = str + 'dielectric\\n\\n'\n",
    "        str = str + '  epsilon (real) = {:0.3f}\\n'.format(self.epsilon_d.to('').real.magnitude)\n",
    "        str = str + '  epsilon (imag) = {:0.3f}\\n'.format(self.epsilon_d.to('').imag.magnitude)\n",
    "        str = str + '       thickness = infinite'\n",
    "        \n",
    "        return str"
   ]
  },
  {
   "cell_type": "code",
   "execution_count": 7,
   "id": "3861ddbd-a277-4fd0-b2aa-2bda3de68789",
   "metadata": {},
   "outputs": [],
   "source": [
    "sample1 = SampleModel1(\n",
    "\n",
    "    cantilever = cantilever,\n",
    "    h_s = ureg.Quantity(1e6, 'nm'),\n",
    "    epsilon_s = ureg.Quantity(complex(11.9, -0.05), ''),\n",
    "    mu = ureg.Quantity(1e-5, 'm^2/(V s)'),\n",
    "    rho = ureg.Quantity(1e21, '1/m^3'),\n",
    "    epsilon_d = ureg.Quantity(complex(11.9, -0.05), ''),\n",
    "    z_r = ureg.Quantity(100, 'nm')\n",
    ")"
   ]
  },
  {
   "cell_type": "code",
   "execution_count": 8,
   "id": "ba7ce24e-fedd-48fe-ab9e-980c11cf2726",
   "metadata": {},
   "outputs": [
    {
     "data": {
      "text/plain": [
       "cantilever\n",
       "\n",
       "      resonance freq = 81.000 kHz\n",
       "                     = 5.089e+05 rad/s\n",
       "  tip-sample voltage = 3.0 V\n",
       "              radius = 80.0 nm\n",
       "              height = 300.0 nm\n",
       "\n",
       "semiconductor\n",
       "\n",
       "             epsilon (real) = 11.900\n",
       "             epsilon (imag) = -0.050\n",
       "                  thickness = 1000000.0 nm\n",
       "                   mobility = 1.00e-05 m^2/(V s)\n",
       "         diffusion constant = 2.59e-07 m^2/s\n",
       "             charge density = 1.00e+21 m^{-3}\n",
       "           reference height = 100.0 nm\n",
       "               Debye length = 37.8 nm\n",
       "           diffusion length = 712.7 nm\n",
       "   effective epsilon (real) = 11.900\n",
       "   effective epsilon (imag) = -355.597\n",
       "\n",
       "dielectric\n",
       "\n",
       "  epsilon (real) = 11.900\n",
       "  epsilon (imag) = -0.050\n",
       "       thickness = infinite"
      ]
     },
     "execution_count": 8,
     "metadata": {},
     "output_type": "execute_result"
    }
   ],
   "source": [
    "sample1"
   ]
  },
  {
   "cell_type": "code",
   "execution_count": 9,
   "id": "14945952-976f-4b4e-a01c-97dab84282fe",
   "metadata": {},
   "outputs": [],
   "source": [
    "class SampleModel2(object):\n",
    "    \n",
    "    def __init__(self, cantilever, epsilon_d, h_d, epsilon_s, mu, rho, z_r):\n",
    "\n",
    "        self.cantilever = cantilever\n",
    "        self.epsilon_d = epsilon_d\n",
    "        self.h_d = h_d\n",
    "        self.epsilon_s = epsilon_s\n",
    "        self.mu = mu\n",
    "        self.rho = rho\n",
    "        self.z_r = z_r\n",
    "\n",
    "        self.D = ((kb * ureg.Quantity(300., 'K') * self.mu) / qe).to('m^2/s')\n",
    "        self.LD = (np.sqrt((epsilon0 * kb * ureg.Quantity(300., 'K'))/(self.rho * qe * qe))).to('nm')\n",
    "        self.Ld = (np.sqrt(self.D / cantilever.omega_c)).to('nm')\n",
    "        self.epsilon_eff = (self.epsilon_s - complex(0,1) * np.power(self.Ld, 2.) / np.power(self.LD, 2.)).to_base_units()\n",
    "\n",
    "    def __repr__(self):\n",
    "\n",
    "        str = cantilever.__repr__()\n",
    "        str = str + '\\ndielectric\\n\\n'\n",
    "        str = str + '  epsilon (real) = {:0.3f}\\n'.format(self.epsilon_d.to('').real.magnitude)\n",
    "        str = str + '  epsilon (imag) = {:0.3f}\\n'.format(self.epsilon_d.to('').imag.magnitude)\n",
    "        str = str + '       thickness = {:.1f} nm\\n\\n'.format(self.h_d.to('nm').magnitude)\n",
    "        str = str + 'semiconductor\\n\\n'\n",
    "        str = str + '             epsilon (real) = {:0.3f}\\n'.format(self.epsilon_s.to('').real.magnitude)\n",
    "        str = str + '             epsilon (imag) = {:0.3f}\\n'.format(self.epsilon_s.to('').imag.magnitude)\n",
    "        str = str + '                  thickness = infinite\\n'\n",
    "        str = str + '                   mobility = {:0.2e} m^2/(V s)\\n'.format(self.mu.to('m^2/(V s)').magnitude)\n",
    "        str = str + '         diffusion constant = {:0.2e} m^2/s\\n'.format(self.D.to('m^2/s').magnitude)\n",
    "        str = str + '             charge density = {:0.2e} m^{{-3}}\\n'.format(self.rho.to('1/m^3').magnitude)\n",
    "        str = str + '           reference height = {:0.1f} nm\\n'.format(self.z_r.to('nm').magnitude)\n",
    "        str = str + '               Debye length = {:0.1f} nm\\n'.format(self.LD.to('nm').magnitude)\n",
    "        str = str + '           diffusion length = {:0.1f} nm\\n'.format(self.Ld.to('nm').magnitude)\n",
    "        str = str + '   effective epsilon (real) = {:0.3f}\\n'.format(self.epsilon_eff.to('').real.magnitude)\n",
    "        str = str + '   effective epsilon (imag) = {:0.3f}\\n\\n'.format(self.epsilon_eff.to('').imag.magnitude)\n",
    "\n",
    "        return str"
   ]
  },
  {
   "cell_type": "code",
   "execution_count": 10,
   "id": "9883adae-1a51-4756-9d8e-0a273541ea35",
   "metadata": {},
   "outputs": [],
   "source": [
    "sample2 = SampleModel2(\n",
    "\n",
    "    cantilever = cantilever,\n",
    "    epsilon_d = ureg.Quantity(complex(3.4, -0.05), ''),\n",
    "    h_d = ureg.Quantity(69, 'nm'),\n",
    "    epsilon_s = ureg.Quantity(complex(3.4, -0.05), ''),\n",
    "    mu = ureg.Quantity(2.7e-10, 'm^2/(V s)'),\n",
    "    rho = ureg.Quantity(1e24, '1/m^3'),\n",
    "    z_r = ureg.Quantity(100, 'nm')\n",
    ")"
   ]
  },
  {
   "cell_type": "code",
   "execution_count": 11,
   "id": "87ad4496-4fc4-43c3-983e-189c5f2b3d0c",
   "metadata": {},
   "outputs": [
    {
     "data": {
      "text/plain": [
       "cantilever\n",
       "\n",
       "      resonance freq = 81.000 kHz\n",
       "                     = 5.089e+05 rad/s\n",
       "  tip-sample voltage = 3.0 V\n",
       "              radius = 80.0 nm\n",
       "              height = 300.0 nm\n",
       "\n",
       "dielectric\n",
       "\n",
       "  epsilon (real) = 3.400\n",
       "  epsilon (imag) = -0.050\n",
       "       thickness = 69.0 nm\n",
       "\n",
       "semiconductor\n",
       "\n",
       "             epsilon (real) = 3.400\n",
       "             epsilon (imag) = -0.050\n",
       "                  thickness = infinite\n",
       "                   mobility = 2.70e-10 m^2/(V s)\n",
       "         diffusion constant = 6.98e-12 m^2/s\n",
       "             charge density = 1.00e+24 m^{-3}\n",
       "           reference height = 100.0 nm\n",
       "               Debye length = 1.2 nm\n",
       "           diffusion length = 3.7 nm\n",
       "   effective epsilon (real) = 3.400\n",
       "   effective epsilon (imag) = -9.650\n"
      ]
     },
     "execution_count": 11,
     "metadata": {},
     "output_type": "execute_result"
    }
   ],
   "source": [
    "sample2"
   ]
  },
  {
   "cell_type": "markdown",
   "id": "a9724176-178e-4073-9eb9-1eee0c5dbcba",
   "metadata": {},
   "source": [
    "# Utility hyperbolic functions"
   ]
  },
  {
   "cell_type": "markdown",
   "id": "044c2206-701f-482d-98a5-0f71cda2b7e1",
   "metadata": {},
   "source": [
    "Define my own `sech(x)` and `csch(x)` functions that return 0 for large `x`, avoiding overflow problems.  See the StackOverflow discussion \"Overflow in Numpy Cosh Function\" ([link](https://stackoverflow.com/questions/31889801/overflow-in-numpy-cosh-function)).  Define the functions so they work on both numbers and numpy arrays.  "
   ]
  },
  {
   "cell_type": "code",
   "execution_count": 12,
   "id": "df828069-34ac-41f7-ba39-6fc101af41ee",
   "metadata": {},
   "outputs": [],
   "source": [
    "def mysech(x):\n",
    "    \n",
    "    x = np.array(x)\n",
    "    mask = abs(x) < 710.4\n",
    "    values = np.zeros_like(x, dtype=complex)\n",
    "    values[mask] = 1/np.cosh(x[mask])\n",
    "    \n",
    "    return values"
   ]
  },
  {
   "cell_type": "code",
   "execution_count": 13,
   "id": "b2dc1f64-53b5-4b2b-83d1-af0f8a042574",
   "metadata": {},
   "outputs": [],
   "source": [
    "def mycsch(x):\n",
    "    \n",
    "    x = np.array(x)\n",
    "    mask = abs(x) < 710.4\n",
    "    values = np.zeros_like(x, dtype=complex)\n",
    "    values[mask] = 1/np.sinh(x[mask])\n",
    "    \n",
    "    return values"
   ]
  },
  {
   "cell_type": "markdown",
   "id": "2c8d57b3-ba6a-4a10-8ff2-ce9f56796661",
   "metadata": {},
   "source": [
    "# Capacitance over a semiconductor substrate"
   ]
  },
  {
   "cell_type": "markdown",
   "id": "76781806-34b2-423b-bcc9-e6203881aaad",
   "metadata": {},
   "source": [
    "Impliment the capacitance function in Equation 52 in Lekkala2012.  Mimic the code in `capacitance.py`."
   ]
  },
  {
   "cell_type": "code",
   "execution_count": 14,
   "id": "8b0c5e49-b1c9-4af9-892c-6b3bb80975a8",
   "metadata": {},
   "outputs": [],
   "source": [
    "from sympy import symbols, acosh, sinh, lambdify"
   ]
  },
  {
   "cell_type": "code",
   "execution_count": 15,
   "id": "af2bdbb7-8d9b-40e2-b6db-6822592f5d34",
   "metadata": {},
   "outputs": [],
   "source": [
    "height, R, power = symbols(\"d R n\")\n",
    "CsphereOverSemiTermSymbolic = {}\n",
    "CsphereOverSemiTermSymbolic[0] = (\n",
    "    R * sinh(acosh(1 + height / R)) / sinh(power * acosh(1 + height / R))\n",
    ")\n",
    "CsphereOverSemiTermSymbolic[1] = CsphereOverSemiTermSymbolic[0].diff(height)\n",
    "CsphereOverSemiTermSymbolic[2] = CsphereOverSemiTermSymbolic[0].diff(height).diff(height)\n",
    "\n",
    "CsphereOverSemiTerm = {}\n",
    "for key in CsphereOverSemiTermSymbolic.keys():\n",
    "    CsphereOverSemiTerm[key] = lambdify([height, R, power], CsphereOverSemiTermSymbolic[key])"
   ]
  },
  {
   "cell_type": "code",
   "execution_count": 16,
   "id": "61d99f6f-7d5a-4c98-ba6a-0ae98cd946a7",
   "metadata": {},
   "outputs": [],
   "source": [
    "def CsphereOverSemi(index, height, radius, epsilon, nterm=21):\n",
    "    \"\"\"Capacitance (and derivatives) of a sphere above a semiconductor.\n",
    "\n",
    "    :param integer index: 0 for capacitance, 1 for 1st derivative, 2 for 2nd derivative\n",
    "    :param pint.util.Quantity height: sphere-to-plane separation\n",
    "    :param pint.util.Quantity radius: sphere radius\n",
    "    :param float: real part of the semiconductor's dielectric constant\n",
    "    :param int nterm: number of terms in the expansion\n",
    "\n",
    "    \"\"\"\n",
    "    H = ureg.Quantity(np.outer(height.magnitude, np.ones(nterm)), height.units)\n",
    "    n = np.outer(np.ones(len(height)), np.arange(1, nterm + 1))\n",
    "    return (\n",
    "        4\n",
    "        * np.pi\n",
    "        * epsilon0\n",
    "        * (np.power((1 - (1 / epsilon))/(1 + (1 / epsilon)), n - 1) * \\\n",
    "          CsphereOverSemiTerm[index](H, radius, n)).sum(axis=1).to_base_units()\n",
    "    )"
   ]
  },
  {
   "cell_type": "markdown",
   "id": "5a6c3604-9d0b-45b2-bf51-eedaadc2dd4c",
   "metadata": {},
   "source": [
    "An example capacitance calculation."
   ]
  },
  {
   "cell_type": "code",
   "execution_count": 17,
   "id": "b86215aa-9d8c-4ea1-919d-1e27e0187b2a",
   "metadata": {},
   "outputs": [
    {
     "data": {
      "text/html": [
       "<table><tbody><tr><th>Magnitude</th><td style='text-align:left;'><pre>[4.8273717375225105e-18]</pre></td></tr><tr><th>Units</th><td style='text-align:left;'>coulomb/volt</td></tr></tbody></table>"
      ],
      "text/latex": [
       "$\\begin{pmatrix}4.8273717375225105\\times 10^{-18}\\end{pmatrix}\\ \\frac{\\mathrm{coulomb}}{\\mathrm{volt}}$"
      ],
      "text/plain": [
       "array([4.82737174e-18]) <Unit('coulomb / volt')>"
      ]
     },
     "execution_count": 17,
     "metadata": {},
     "output_type": "execute_result"
    }
   ],
   "source": [
    "CsphereOverSemi(0, ureg.Quantity(np.array([100]),'nm'), ureg.Quantity(40,'nm'), 3.4)"
   ]
  },
  {
   "cell_type": "markdown",
   "id": "0129e3e8-4419-45bd-b6d2-b88ca8ebdd80",
   "metadata": {},
   "source": [
    "Check that you get the expected sphere vacuum capacitance $4 \\pi \\epsilon_0 R$ when the relative dielectric constant of the subtrate is 1.  Do the computation at three different heights, and print out the relative error."
   ]
  },
  {
   "cell_type": "code",
   "execution_count": 18,
   "id": "6b44b109-ac32-44e2-a788-b97648a46488",
   "metadata": {},
   "outputs": [
    {
     "data": {
      "text/plain": [
       "array([0.00000000e+00, 1.73093951e-16, 0.00000000e+00])"
      ]
     },
     "execution_count": 18,
     "metadata": {},
     "output_type": "execute_result"
    }
   ],
   "source": [
    "C_approx = CsphereOverSemi(0, ureg.Quantity(np.array([10, 100, 1000]),'nm'), ureg.Quantity(40,'nm'), 1.)\n",
    "C_exact = (4 * np.pi * epsilon0 * ureg.Quantity(40,'nm')).to('C/V')\n",
    "C_rel = (C_exact - C_approx)/C_exact\n",
    "C_rel.to('').magnitude"
   ]
  },
  {
   "cell_type": "markdown",
   "id": "a05baed9-d7b4-4232-a3f8-9c2d141c1639",
   "metadata": {},
   "source": [
    "Make a nice plot of the capacitance over a semiconductor."
   ]
  },
  {
   "cell_type": "code",
   "execution_count": 19,
   "id": "f893b393-c969-40d5-8a0b-dffbefc90ea6",
   "metadata": {},
   "outputs": [
    {
     "data": {
      "image/png": "[encoded data removed]",
      "text/plain": [
       "<Figure size 325x500 with 3 Axes>"
      ]
     },
     "metadata": {},
     "output_type": "display_data"
    }
   ],
   "source": [
    "h = ureg.Quantity(np.logspace(1, 4, num=500), \"nm\")\n",
    "r = ureg.Quantity(40, \"nm\")\n",
    "ureg.default_format = \"~P\"\n",
    "\n",
    "Cref = (4 * np.pi * epsilon0 * r).to(\"aF\")\n",
    "\n",
    "fig, axs = plt.subplots(3, 1, sharex=True, figsize=(3.25, 5))\n",
    "fig.suptitle(\"$r = ${:0.2f} {:} sphere over $\\epsilon_{{\\mathrm{{rel}}}} = 3.4$ substrate\".format(r.magnitude, r.units))\n",
    "\n",
    "y = {}\n",
    "keys = CsphereOverSemiTermSymbolic.keys()\n",
    "\n",
    "for unit, key in zip([\"aF\", \"pF/m\", \"uF/(m**2)\"], keys):\n",
    "    y[key] = CsphereOverSemi(key, h, r, epsilon=3.4).to(unit)\n",
    "\n",
    "axs[0].semilogx(h.magnitude, y[0].magnitude)\n",
    "axs[1].loglog(h.magnitude, -y[1].magnitude)\n",
    "axs[2].loglog(h.magnitude, y[2].magnitude)\n",
    "\n",
    "axs[2].set_xlabel(\"height $h$ [nm]\")\n",
    "for label, key in zip([\"$C(h)$\", \"$-dC/dz$\", \"$d^2C/dz^2$\"], keys):\n",
    "    axs[key].set_ylabel(label + \" [{:}]\".format(y[key].units))\n",
    "\n",
    "fig.align_ylabels()\n",
    "plt.tight_layout()\n",
    "\n",
    "plt.show()"
   ]
  },
  {
   "cell_type": "markdown",
   "id": "21520a09-3538-4c8f-bfbe-4ad554c06f9e",
   "metadata": {},
   "source": [
    "# Integrands"
   ]
  },
  {
   "cell_type": "code",
   "execution_count": 20,
   "id": "9044e36f-6680-4bf1-92a5-b423613f2392",
   "metadata": {},
   "outputs": [],
   "source": [
    "def theta2norm(omega, sample):\n",
    "\n",
    "    r1 = sample.Ld**2 / (sample.epsilon_s * sample.LD**2)\n",
    "    r2 = sample.z_r**2 / (sample.epsilon_s * sample.LD**2)\n",
    "    r3 = sample.z_r**2 / sample.Ld**2\n",
    "    lambduh = (complex(0,1) * r1 * omega / np.sqrt(omega**2 + r2 + complex(0,1) * r3)).to('').magnitude\n",
    "     \n",
    "    khd = (omega * sample.h_d / sample.z_r).to('').magnitude\n",
    "\n",
    "    r1 = 1/sample.epsilon_d\n",
    "    t1 = sample.epsilon_eff * np.tanh(khd) + (1 - lambduh) * sample.epsilon_d\n",
    "    t2 = sample.epsilon_eff + (1 - lambduh) * sample.epsilon_d * np.tanh(khd)\n",
    "\n",
    "    theta = ((r1 * t1) / t2).magnitude\n",
    "\n",
    "    return theta"
   ]
  },
  {
   "cell_type": "code",
   "execution_count": 21,
   "id": "68ee74ec-f773-4816-97c1-bdbbbefdffed",
   "metadata": {},
   "outputs": [
    {
     "data": {
      "text/plain": [
       "(0.20629565550969522+0.050682024840946506j)"
      ]
     },
     "execution_count": 21,
     "metadata": {},
     "output_type": "execute_result"
    }
   ],
   "source": [
    "theta2norm(1., sample2)"
   ]
  },
  {
   "cell_type": "code",
   "execution_count": 22,
   "id": "ee70f2fa-f901-4cac-8e6d-336ef233fff3",
   "metadata": {},
   "outputs": [],
   "source": [
    "def theta1norm(omega, sample):\n",
    "\n",
    "    r1 = sample.Ld**2 / (sample.epsilon_s * sample.LD**2)\n",
    "    r2 = sample.z_r**2 / (sample.epsilon_s * sample.LD**2)\n",
    "    r3 = sample.z_r**2 / sample.Ld**2\n",
    "    lambduh = (complex(0,1) * r1 * omega / np.sqrt(omega**2 + r2 + complex(0,1) * r3)).to('').magnitude\n",
    "     \n",
    "    khs = (omega * sample.h_s / sample.z_r).to('').magnitude\n",
    "\n",
    "    r1 = sample.h_s**2 / sample.z_r**2\n",
    "    r2 = sample.h_s**2 / (sample.epsilon_s * sample.LD**2)\n",
    "    r3 = sample.h_s**2 / sample.Ld**2\n",
    "    etahs = (np.sqrt(r1 * omega**2 + r2 + complex(0,1) * r3)).to('').magnitude\n",
    "\n",
    "    alpha = (sample.epsilon_eff/sample.epsilon_d).to('').magnitude\n",
    "\n",
    "    r1 = 1/sample.epsilon_eff\n",
    "    t1 = - lambduh * np.power(np.tanh(etahs), -1.0)\n",
    "    t2 = np.tanh(khs) * np.tanh(etahs) + alpha * np.tanh(etahs) - lambduh \\\n",
    "         + 2 * lambduh * mysech(khs) * mysech(etahs) \\\n",
    "         - lambduh**2 * np.tanh(khs) * mysech(etahs) * mycsch(etahs)\n",
    "    t3 = np.tanh(etahs) - lambduh * np.tanh(khs) + alpha * np.tanh(khs) * np.tanh(etahs)\n",
    "\n",
    "    theta = (r1 * (t1 + t2 / t3)).magnitude\n",
    "    \n",
    "    return theta"
   ]
  },
  {
   "cell_type": "code",
   "execution_count": 23,
   "id": "e7cbfff0-6d61-44d0-b5c6-b40d2f08cc9d",
   "metadata": {},
   "outputs": [
    {
     "data": {
      "text/plain": [
       "(0.06668086978974141+0.00039578594645346254j)"
      ]
     },
     "execution_count": 23,
     "metadata": {},
     "output_type": "execute_result"
    }
   ],
   "source": [
    "theta1norm(1., sample1)"
   ]
  },
  {
   "cell_type": "code",
   "execution_count": 24,
   "id": "665cf92e-1e1d-4284-b43a-24369ec6a195",
   "metadata": {},
   "outputs": [],
   "source": [
    "def integrandC(omega, theta, sample, power):\n",
    "\n",
    "    ratio = (1 - theta(omega, sample)) / (1 + theta(omega, sample))\n",
    "    exponent = (2 * sample.cantilever.d / sample.z_r).to('dimensionless').magnitude\n",
    "    \n",
    "    return omega**power * np.exp(-1 * omega * exponent) * np.imag(ratio) "
   ]
  },
  {
   "cell_type": "markdown",
   "id": "4f815c61-d21c-46dd-9318-4a3118cd6340",
   "metadata": {},
   "source": [
    "Cast to base units, because each correlation function has its own units."
   ]
  },
  {
   "cell_type": "code",
   "execution_count": 25,
   "id": "a8fc9fd7-3da0-4b2a-91fc-9fb946f7afd8",
   "metadata": {},
   "outputs": [],
   "source": [
    "def C(power, theta, sample):\n",
    "    \n",
    "    pre = (-1**(power + 1) * kb * ureg.Quantity(300., 'K')) / \\\n",
    "          (4 * np.pi * epsilon0 * sample.cantilever.omega_c * sample.z_r**(power+1))\n",
    "    \n",
    "    integral = integrate.quad(integrandC, 0., np.inf, args=(theta, sample, power))[0]\n",
    "    \n",
    "    return (pre * integral).to_base_units()"
   ]
  },
  {
   "cell_type": "code",
   "execution_count": 26,
   "id": "944fbc1d-b62a-420e-a306-fc5416e4d07e",
   "metadata": {},
   "outputs": [
    {
     "name": "stdout",
     "output_type": "stream",
     "text": [
      "CPU times: user 134 ms, sys: 6.78 ms, total: 141 ms\n",
      "Wall time: 151 ms\n"
     ]
    },
    {
     "data": {
      "text/plain": [
       "-0.0006710151982600428"
      ]
     },
     "execution_count": 26,
     "metadata": {},
     "output_type": "execute_result"
    }
   ],
   "source": [
    "%%time\n",
    "integrate.quad(integrandC, 0., np.inf, args=(theta1norm, sample1, 0))[0]"
   ]
  },
  {
   "cell_type": "code",
   "execution_count": 27,
   "id": "ae2f3cd9-cd91-4354-86e7-f5e4fe681124",
   "metadata": {},
   "outputs": [
    {
     "name": "stdout",
     "output_type": "stream",
     "text": [
      "CPU times: user 134 ms, sys: 4.56 ms, total: 138 ms\n",
      "Wall time: 160 ms\n"
     ]
    },
    {
     "data": {
      "text/html": [
       "4.908100118455968×10<sup>-13</sup> V<sup>2</sup> s"
      ],
      "text/latex": [
       "$4.908100118455968\\times 10^{-13}\\ \\mathrm{V}^{2} \\cdot \\mathrm{s}$"
      ],
      "text/plain": [
       "4.908100118455968e-13 <Unit('second * volt ** 2')>"
      ]
     },
     "execution_count": 27,
     "metadata": {},
     "output_type": "execute_result"
    }
   ],
   "source": [
    "%%time\n",
    "C(0, theta1norm, sample1).to('V^2 s')"
   ]
  },
  {
   "cell_type": "markdown",
   "id": "1633e13a-f5b7-4f9a-a99c-0a91f997cb9d",
   "metadata": {},
   "source": [
    "Calculate representative values for the other two relevant integrals.  Note that the units depends on the value of the parameter `power`."
   ]
  },
  {
   "cell_type": "code",
   "execution_count": 28,
   "id": "e7b7471a-3492-40ef-b5f5-f1a25bd34036",
   "metadata": {},
   "outputs": [
    {
     "data": {
      "text/html": [
       "5.783345306502308×10<sup>-7</sup> V<sup>2</sup> s/m"
      ],
      "text/latex": [
       "$5.783345306502308\\times 10^{-7}\\ \\frac{\\mathrm{V}^{2} \\cdot \\mathrm{s}}{\\mathrm{m}}$"
      ],
      "text/plain": [
       "5.783345306502308e-07 <Unit('second * volt ** 2 / meter')>"
      ]
     },
     "execution_count": 28,
     "metadata": {},
     "output_type": "execute_result"
    }
   ],
   "source": [
    "C(1, theta1norm, sample1).to('V^2 s/m')"
   ]
  },
  {
   "cell_type": "code",
   "execution_count": 29,
   "id": "2df77d59-c117-4e18-897c-596f805f40d6",
   "metadata": {},
   "outputs": [
    {
     "data": {
      "text/html": [
       "1.3716940603562473 V<sup>2</sup> s/m<sup>2</sup>"
      ],
      "text/latex": [
       "$1.3716940603562473\\ \\frac{\\mathrm{V}^{2} \\cdot \\mathrm{s}}{\\mathrm{m}^{2}}$"
      ],
      "text/plain": [
       "1.3716940603562473 <Unit('second * volt ** 2 / meter ** 2')>"
      ]
     },
     "execution_count": 29,
     "metadata": {},
     "output_type": "execute_result"
    }
   ],
   "source": [
    "C(2, theta1norm, sample1).to('V^2 s/m^2')"
   ]
  },
  {
   "cell_type": "markdown",
   "id": "d0061e82-a88b-4cff-b466-0b90c8b7de5a",
   "metadata": {},
   "source": [
    "# Non-contact friction"
   ]
  },
  {
   "cell_type": "code",
   "execution_count": 30,
   "id": "81a6bd52-5161-4bec-a455-1f7b5e30992d",
   "metadata": {},
   "outputs": [],
   "source": [
    "def gamma_perpendicular(theta, sample):\n",
    "\n",
    "    prefactor = (sample.cantilever.V_ts**2 / (kb * ureg.Quantity(300., 'K'))).to('V/C')\n",
    "\n",
    "    c0 = CsphereOverSemi(0, sample.cantilever.d * np.ones(1), sample.cantilever.d, sample.epsilon_d.real.magnitude)        \n",
    "    c1 = CsphereOverSemi(1, sample.cantilever.d * np.ones(1), sample.cantilever.d, sample.epsilon_d.real.magnitude)\n",
    "    \n",
    "    return prefactor * (c1 * c1 * C(0 , theta, sample) + 2 * c0 * c1 * C(1, theta, sample) + c0 * c0 * C(2, theta, sample))"
   ]
  },
  {
   "cell_type": "code",
   "execution_count": 31,
   "id": "54eb6504-b84f-448c-9e9b-4bb52eb7a821",
   "metadata": {},
   "outputs": [
    {
     "data": {
      "text/html": [
       "<table><tbody><tr><th>Magnitude</th><td style='text-align:left;'><pre>[216.59178315106183]</pre></td></tr><tr><th>Units</th><td style='text-align:left;'>pN s/m</td></tr></tbody></table>"
      ],
      "text/latex": [
       "$\\begin{pmatrix}216.59178315106183\\end{pmatrix}\\ \\frac{\\mathrm{pN} \\cdot \\mathrm{s}}{\\mathrm{m}}$"
      ],
      "text/plain": [
       "array([216.59178315]) <Unit('piconewton * second / meter')>"
      ]
     },
     "execution_count": 31,
     "metadata": {},
     "output_type": "execute_result"
    }
   ],
   "source": [
    "gamma_perpendicular(theta2norm, sample2).to('pN s/m')"
   ]
  },
  {
   "cell_type": "code",
   "execution_count": 32,
   "id": "dd475dfc-1f4f-4962-9b44-690f61bc8f73",
   "metadata": {},
   "outputs": [],
   "source": [
    "def gamma_parallel(theta, sample):\n",
    "\n",
    "    prefactor = (sample.cantilever.V_ts**2 / (kb * ureg.Quantity(300., 'K'))).to('V/C')\n",
    "    c0 = CsphereOverSemi(0, sample.cantilever.d * np.ones(1), sample.cantilever.d, sample.epsilon_d.real.magnitude)\n",
    "\n",
    "    return prefactor * c0 * c0 * C(2, theta, sample)"
   ]
  },
  {
   "cell_type": "code",
   "execution_count": 33,
   "id": "653257c3-9ef2-4988-a51d-333db5f15e42",
   "metadata": {},
   "outputs": [
    {
     "data": {
      "text/html": [
       "<table><tbody><tr><th>Magnitude</th><td style='text-align:left;'><pre>[5.379600261694984]</pre></td></tr><tr><th>Units</th><td style='text-align:left;'>pN s/m</td></tr></tbody></table>"
      ],
      "text/latex": [
       "$\\begin{pmatrix}5.379600261694984\\end{pmatrix}\\ \\frac{\\mathrm{pN} \\cdot \\mathrm{s}}{\\mathrm{m}}$"
      ],
      "text/plain": [
       "array([5.37960026]) <Unit('piconewton * second / meter')>"
      ]
     },
     "execution_count": 33,
     "metadata": {},
     "output_type": "execute_result"
    }
   ],
   "source": [
    "gamma_parallel(theta1norm, sample1).to('pN s/m')"
   ]
  },
  {
   "cell_type": "markdown",
   "id": "eef3634f-ac94-4cc7-a4a2-86d7c5250296",
   "metadata": {},
   "source": [
    "# Lekkala Figure 9(b)\n",
    "\n",
    "I cannot find what tip-sample separation $d$ Lekkala assumed in the Figure 9(b) calculation.  Let me assume $d = 300 \\: \\mathrm{nm}$, the tip-sample separation used for their Figure 7(a) simulation."
   ]
  },
  {
   "cell_type": "code",
   "execution_count": 34,
   "id": "f383db2f-2d17-41f0-b0f4-96c54774ab9b",
   "metadata": {},
   "outputs": [],
   "source": [
    "cantilever2 = CantileverModel(\n",
    "    \n",
    "    f_c = ureg.Quantity(81, 'kHz'),\n",
    "    V_ts = ureg.Quantity(3, 'V'),\n",
    "    R = ureg.Quantity(40, 'nm'),\n",
    "    d = ureg.Quantity(300, 'nm')\n",
    ")"
   ]
  },
  {
   "cell_type": "code",
   "execution_count": 35,
   "id": "5eeb2a84-80ac-4682-8e70-9c8efa19cee1",
   "metadata": {},
   "outputs": [],
   "source": [
    "rho2 = ureg.Quantity(np.logspace(start=19, stop=27, num=40), '1/m^3')"
   ]
  },
  {
   "cell_type": "code",
   "execution_count": 36,
   "id": "32edc716-f870-48cc-8308-f03682cbfb81",
   "metadata": {},
   "outputs": [
    {
     "name": "stderr",
     "output_type": "stream",
     "text": [
      "40it [00:10,  3.85it/s]\n",
      "40it [00:11,  3.38it/s]\n",
      "40it [00:11,  3.41it/s]\n",
      "40it [00:12,  3.16it/s]\n",
      "40it [00:14,  2.77it/s]\n"
     ]
    }
   ],
   "source": [
    "Figure9b = {}\n",
    "\n",
    "for epsilon_ in [0., 0.005, 0.05, 0.1, 0.50]:\n",
    "\n",
    "    key = '{:0.3f}'.format(epsilon_)\n",
    "\n",
    "    result2 = {\n",
    "        'index': np.arange(len(rho2)),\n",
    "        'rho': rho2,\n",
    "        'gamma': ureg.Quantity(np.zeros_like(rho2), 'pN s/m')\n",
    "    }\n",
    "    \n",
    "    for index, rho_ in tqdm(enumerate(rho2)):\n",
    "    \n",
    "        sample2 = SampleModel2(\n",
    "        \n",
    "            cantilever = cantilever2,\n",
    "            epsilon_d = ureg.Quantity(complex(3.4, -1 * epsilon_), ''), # <=== updated here\n",
    "            h_d = ureg.Quantity(69, 'nm'),\n",
    "            epsilon_s = ureg.Quantity(complex(3.4, -1 * epsilon_), ''), # <=== updated here\n",
    "            mu = ureg.Quantity(2.7e-10, 'm^2/(V s)'),\n",
    "            rho = ureg.Quantity(rho_, '1/m^3'),   # <=== updated here\n",
    "            z_r = ureg.Quantity(100, 'nm')\n",
    "        )\n",
    "        \n",
    "        result2['gamma'][index] = gamma_perpendicular(theta2norm, sample2).to('pN s/m')\n",
    "\n",
    "    Figure9b[key] = result2"
   ]
  },
  {
   "cell_type": "code",
   "execution_count": 37,
   "id": "aa8da197-a6e5-4fe6-b636-a237cb4084bb",
   "metadata": {},
   "outputs": [
    {
     "data": {
      "text/plain": [
       "cantilever\n",
       "\n",
       "      resonance freq = 81.000 kHz\n",
       "                     = 5.089e+05 rad/s\n",
       "  tip-sample voltage = 3.0 V\n",
       "              radius = 80.0 nm\n",
       "              height = 300.0 nm\n",
       "\n",
       "dielectric\n",
       "\n",
       "  epsilon (real) = 3.400\n",
       "  epsilon (imag) = -0.500\n",
       "       thickness = 69.0 nm\n",
       "\n",
       "semiconductor\n",
       "\n",
       "             epsilon (real) = 3.400\n",
       "             epsilon (imag) = -0.500\n",
       "                  thickness = infinite\n",
       "                   mobility = 2.70e-10 m^2/(V s)\n",
       "         diffusion constant = 6.98e-12 m^2/s\n",
       "             charge density = 1.00e+27 m^{-3}\n",
       "           reference height = 100.0 nm\n",
       "               Debye length = 0.0 nm\n",
       "           diffusion length = 3.7 nm\n",
       "   effective epsilon (real) = 3.400\n",
       "   effective epsilon (imag) = -9600.264\n"
      ]
     },
     "execution_count": 37,
     "metadata": {},
     "output_type": "execute_result"
    }
   ],
   "source": [
    "sample2"
   ]
  },
  {
   "cell_type": "markdown",
   "id": "bceead3c-e93b-4141-9cb1-0386b376da83",
   "metadata": {},
   "source": [
    "Screen capture Lekkala2013 Figure 9(b) as **Lekkala2013--Fig9b.png** and extract data points from the png using WebPlotDigitizer ([link](https://apps.automeris.io/wpd/))."
   ]
  },
  {
   "cell_type": "code",
   "execution_count": 38,
   "id": "cf084b98-db85-4de3-8883-9a29dd8da9d2",
   "metadata": {},
   "outputs": [],
   "source": [
    "keys = ['0.000','0.005','0.050','0.100', '0.500']\n",
    "\n",
    "names = ['Lekkala2013--Fig9b--0.000.csv',\n",
    "         'Lekkala2013--Fig9b--0.005.csv',\n",
    "         'Lekkala2013--Fig9b--0.050.csv',\n",
    "         'Lekkala2013--Fig9b--0.100.csv',\n",
    "         'Lekkala2013--Fig9b--0.500.csv']\n",
    "\n",
    "Figure9b_original = {}\n",
    "for key, name in zip(keys, names):\n",
    "    Figure9b_original[key] = pd.read_csv(name, names=['rho', 'gamma'])"
   ]
  },
  {
   "cell_type": "markdown",
   "id": "d6482c34-3d88-4283-8230-17bf997eff81",
   "metadata": {},
   "source": [
    "Plot data from the original plot (points) overlayed with my calculation (lines).  My dissipation is somewhat larger than Lekkala's.  Weird!"
   ]
  },
  {
   "cell_type": "code",
   "execution_count": 39,
   "id": "244abfeb-3c41-4a12-be4f-fb00529abc06",
   "metadata": {},
   "outputs": [
    {
     "data": {
      "image/png": "[encoded data removed]",
      "text/plain": [
       "<Figure size 325x225 with 1 Axes>"
      ]
     },
     "metadata": {},
     "output_type": "display_data"
    }
   ],
   "source": [
    "plt.figure(figsize=(3.25, 2.25))\n",
    "\n",
    "for key, c in zip(Figure9b.keys(), ['tab:blue', 'tab:orange', 'tab:green', 'tab:red', 'tab:purple']):\n",
    "    \n",
    "    x1 = Figure9b[key]['rho'].to('1/m^3').magnitude\n",
    "    y1 = Figure9b[key]['gamma'].to('pN s/m').magnitude\n",
    "\n",
    "    x2 = Figure9b_original[key]['rho']\n",
    "    y2 = Figure9b_original[key]['gamma']\n",
    "        \n",
    "    plt.loglog(x1, y1, '-', color=c, label=key)\n",
    "    plt.loglog(x2, y2, '.', color=c)\n",
    "    \n",
    "plt.xlabel(r'$\\rho$ [m$^{-3}$]')  # need a raw string here because \\r is the special carriage return character\n",
    "plt.ylabel('$\\gamma_{\\perp}$ [pN s/m]')\n",
    "plt.legend(fontsize=8, loc=4)\n",
    "plt.ylim([1e-3,1e3])\n",
    "plt.tight_layout()\n",
    "\n",
    "plt.savefig(THIS + '--Fig-Lekkala2023-Fig-9b.png', dpi=300)\n",
    "plt.savefig(THIS + '--Fig-Lekkala2023-Fig-9b.pdf')\n",
    "\n",
    "plt.show()"
   ]
  },
  {
   "cell_type": "markdown",
   "id": "4849d98c-c358-4efe-897a-2a69d6589f8f",
   "metadata": {},
   "source": [
    "# Lekkala Figure 7(b)"
   ]
  },
  {
   "cell_type": "code",
   "execution_count": 40,
   "id": "56d13fd7-20b1-4c90-9611-6512847b8f31",
   "metadata": {},
   "outputs": [],
   "source": [
    "cantilever1 = CantileverModel(\n",
    "    \n",
    "    f_c = ureg.Quantity(81, 'kHz'),\n",
    "    V_ts = ureg.Quantity(3, 'V'),\n",
    "    R = ureg.Quantity(80, 'nm'),\n",
    "    d = ureg.Quantity(300, 'nm')\n",
    ")"
   ]
  },
  {
   "cell_type": "code",
   "execution_count": 41,
   "id": "fe43e2b2-813f-4a98-84d6-24c4bc9985b0",
   "metadata": {},
   "outputs": [],
   "source": [
    "rho1 = ureg.Quantity(np.logspace(start=12, stop=28, num=40), '1/m^3')"
   ]
  },
  {
   "cell_type": "code",
   "execution_count": 42,
   "id": "7f7d0ca0-5937-4145-ae9f-da10f70d1f79",
   "metadata": {},
   "outputs": [
    {
     "name": "stderr",
     "output_type": "stream",
     "text": [
      "40it [00:09,  4.08it/s]\n",
      "40it [00:08,  4.57it/s]\n",
      "40it [00:09,  4.02it/s]\n",
      "40it [00:09,  4.14it/s]\n"
     ]
    }
   ],
   "source": [
    "Figure7b = {}\n",
    "\n",
    "for mu_ in [0.15, 4e-7, 2.7e-10, 6e-14]:\n",
    "\n",
    "    key = '{:0.1e}'.format(mu_)\n",
    "\n",
    "    result1 = {\n",
    "        'index': np.arange(len(rho1)),\n",
    "        'rho': rho1,\n",
    "        'gamma': ureg.Quantity(np.zeros_like(rho1), 'pN s/m')\n",
    "    }\n",
    "    \n",
    "    for index, rho_ in tqdm(enumerate(rho1)):\n",
    "    \n",
    "        sample1 = SampleModel1(\n",
    "\n",
    "            cantilever = cantilever1,\n",
    "            h_s = ureg.Quantity(1e6, 'nm'),\n",
    "            epsilon_s = ureg.Quantity(complex(11.9, -0.05), ''),\n",
    "            mu = ureg.Quantity(mu_, 'm^2/(V s)'),  # <=== updated here\n",
    "            rho = ureg.Quantity(rho_, '1/m^3'),   # <=== updated here\n",
    "            epsilon_d = ureg.Quantity(complex(11.9, -0.05), ''),\n",
    "            z_r = ureg.Quantity(300, 'nm') # <== SHOULD NOT MATTER\n",
    "        )\n",
    "        \n",
    "        result1['gamma'][index] = gamma_parallel(theta1norm, sample1).to('pN s/m')\n",
    "\n",
    "    Figure7b[key] = result1"
   ]
  },
  {
   "cell_type": "code",
   "execution_count": 43,
   "id": "d598187b-e63e-4594-a186-90abfa919e74",
   "metadata": {},
   "outputs": [
    {
     "data": {
      "text/plain": [
       "cantilever\n",
       "\n",
       "      resonance freq = 81.000 kHz\n",
       "                     = 5.089e+05 rad/s\n",
       "  tip-sample voltage = 3.0 V\n",
       "              radius = 80.0 nm\n",
       "              height = 300.0 nm\n",
       "\n",
       "semiconductor\n",
       "\n",
       "             epsilon (real) = 11.900\n",
       "             epsilon (imag) = -0.050\n",
       "                  thickness = 1000000.0 nm\n",
       "                   mobility = 6.00e-14 m^2/(V s)\n",
       "         diffusion constant = 1.55e-15 m^2/s\n",
       "             charge density = 1.00e+28 m^{-3}\n",
       "           reference height = 300.0 nm\n",
       "               Debye length = 0.0 nm\n",
       "           diffusion length = 0.1 nm\n",
       "   effective epsilon (real) = 11.900\n",
       "   effective epsilon (imag) = -21.383\n",
       "\n",
       "dielectric\n",
       "\n",
       "  epsilon (real) = 11.900\n",
       "  epsilon (imag) = -0.050\n",
       "       thickness = infinite"
      ]
     },
     "execution_count": 43,
     "metadata": {},
     "output_type": "execute_result"
    }
   ],
   "source": [
    "sample1"
   ]
  },
  {
   "cell_type": "markdown",
   "id": "33e642cd-e856-4f94-8171-ecd96d9d2eac",
   "metadata": {},
   "source": [
    "Screen capture Lekkala2013 Figure 7(b) as **Lekkala2013--Fig7b.png** and extract data points from the png using WebPlotDigitizer ([link](https://apps.automeris.io/wpd/))."
   ]
  },
  {
   "cell_type": "code",
   "execution_count": 44,
   "id": "1ace8034-ec22-48ce-be3e-99e9ae21b6b0",
   "metadata": {},
   "outputs": [],
   "source": [
    "keys = ['1.5e-01','4.0e-07','2.7e-10','6.0e-14']\n",
    "\n",
    "names = ['Lekkala2013--Fig7b--1.5e-01.csv', \n",
    "         'Lekkala2013--Fig7b--4.0e-07.csv',\n",
    "         'Lekkala2013--Fig7b--2.7e-10.csv',\n",
    "         'Lekkala2013--Fig7b--6.0e-14.csv']\n",
    "\n",
    "Figure7b_original = {}\n",
    "for key, name in zip(keys, names):\n",
    "    Figure7b_original[key] = pd.read_csv(name, names=['rho', 'gamma'])"
   ]
  },
  {
   "cell_type": "markdown",
   "id": "82ac1d37-037e-408c-8ad1-e66606bb52b3",
   "metadata": {},
   "source": [
    "Plot data from the original plot (points) overlayed with my calculation (lines).  My dissipation is nearly exactly a factor of 100 larger than Lekkala's.  Weird!"
   ]
  },
  {
   "cell_type": "code",
   "execution_count": 45,
   "id": "a7f04d8a-530b-4f7f-b2fd-9e155a0ed863",
   "metadata": {},
   "outputs": [
    {
     "data": {
      "image/png": "[encoded data removed]",
      "text/plain": [
       "<Figure size 325x225 with 1 Axes>"
      ]
     },
     "metadata": {},
     "output_type": "display_data"
    }
   ],
   "source": [
    "plt.figure(figsize=(3.25, 2.25))\n",
    "\n",
    "for key, c in zip(Figure7b.keys(), ['tab:blue', 'tab:orange', 'tab:green', 'tab:red']):\n",
    "    \n",
    "    x1 = Figure7b[key]['rho'].to('1/m^3').magnitude\n",
    "    y1 = Figure7b[key]['gamma'].to('pN s/m').magnitude\n",
    "    \n",
    "    x2 = Figure7b_original[key]['rho']\n",
    "    y2 = Figure7b_original[key]['gamma']\n",
    "        \n",
    "    plt.loglog(x1, y1, '-', color=c, label=key)\n",
    "    plt.loglog(x2, y2, '.', color=c)\n",
    "    \n",
    "plt.xlabel(r'$\\rho$ [m$^{-3}$]')  # need a raw string here because \\r is the special carriage return character\n",
    "plt.ylabel('$\\gamma_{\\parallel}$ [pN s/m]')\n",
    "plt.legend(fontsize=8, loc=3)\n",
    "plt.tight_layout()\n",
    "\n",
    "plt.savefig(THIS + '--Fig-Lekkala2023-Fig-7b.png', dpi=300)\n",
    "plt.savefig(THIS + '--Fig-Lekkala2023-Fig-7b.pdf')\n",
    "\n",
    "plt.show()"
   ]
  },
  {
   "cell_type": "code",
   "execution_count": null,
   "id": "46168449-5827-4f5a-8e9e-45ab68512864",
   "metadata": {},
   "outputs": [],
   "source": []
  }
 ],
 "metadata": {
  "kernelspec": {
   "display_name": "dissipationtheory",
   "language": "python",
   "name": "dissipationtheory"
  },
  "language_info": {
   "codemirror_mode": {
    "name": "ipython",
    "version": 3
   },
   "file_extension": ".py",
   "mimetype": "text/x-python",
   "name": "python",
   "nbconvert_exporter": "python",
   "pygments_lexer": "ipython3",
   "version": "3.8.5"
  }
 },
 "nbformat": 4,
 "nbformat_minor": 5
}
