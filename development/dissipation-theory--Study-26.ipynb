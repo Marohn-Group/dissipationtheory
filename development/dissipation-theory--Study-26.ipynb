{
 "cells": [
  {
   "cell_type": "markdown",
   "id": "d2950428-8086-4c2a-ad1a-c0c65a4219e9",
   "metadata": {},
   "source": [
    "- Name: `dissipation-theory--Study-26.ipynb`\n",
    "- Author: John A. Marohn\n",
    "- Date: 2024-10-12\n",
    "- Continued from: `dissipation-theory--Study-25.ipynb`\n",
    "- Continued to: ---\n",
    "- Summary: Redo `Study 25` using new python code implementing Loring's clean, revised equations for the BLDS frequency shift.\n",
    "\n",
    "Loring's clear, revised equations are writtien in terms of a new unitless integral $K$, not a correlation function $C$ (Leakkala) or a response function $R$ (Marohn).  The code in `dissipation.py` and `dissipation2.py` writes the friction and BLDS frequency shift in terms of a correlation function $C$ introduced in Leakkala's 2013 *JCP* paper.  In `dissipation3.py` I rewrite the `dissipation.py` code in terms of Loring's unitless $K$ integral, elimating extranneous factors of $k_{\\mathrm{b}} T$.  In `dissipation3.py` I follow the convention of `dissipation2.py`, where the sample's dependent variables are conductivity $\\sigma$ and charge denstiy $\\rho$, not the convention in `dissipation.py`, where the sample's dependent variable are conductivity $\\sigma$ and mobility $\\mu$."
   ]
  },
  {
   "cell_type": "markdown",
   "id": "57e2e31b-fabf-4cee-a5ca-0a9132da3631",
   "metadata": {},
   "source": [
    "# Preliminaries"
   ]
  },
  {
   "cell_type": "code",
   "execution_count": 1,
   "id": "f9d2e229-c937-48ce-be1a-ab187b901780",
   "metadata": {},
   "outputs": [],
   "source": [
    "import numpy as np"
   ]
  },
  {
   "cell_type": "code",
   "execution_count": 2,
   "id": "5b972b8c-ce42-40b3-84f7-f8a59853ad54",
   "metadata": {},
   "outputs": [],
   "source": [
    "%matplotlib inline\n",
    "import matplotlib.pylab as plt\n",
    "import matplotlib.cm as cm\n",
    "import matplotlib.colors as mcolors\n",
    "\n",
    "font = {'family' : 'serif',\n",
    "        'weight' : 'normal',\n",
    "        'size'   : 12}\n",
    "\n",
    "plt.rc('font', **font)\n",
    "plt.rcParams['figure.figsize'] = 3.25, 3.5"
   ]
  },
  {
   "cell_type": "code",
   "execution_count": 3,
   "id": "399b81a5-1c6e-46e1-b813-cac26e97d4cb",
   "metadata": {},
   "outputs": [],
   "source": [
    "from dissipationtheory.constants import ureg, qe, epsilon0\n",
    "from dissipationtheory.dissipation3 import CantileverModel, SampleModel1, theta1norm\n",
    "from dissipationtheory.dissipation3 import gamma_perpendicular, blds_perpendicular\n",
    "from dissipationtheory.dissipation3 import BLDSlimits, BLDSapprox"
   ]
  },
  {
   "cell_type": "code",
   "execution_count": 4,
   "id": "1cc6013b-e5c9-47b6-ae5a-7691c15b679c",
   "metadata": {},
   "outputs": [],
   "source": [
    "THIS = 'dissipation-theory--Study-26--'\n",
    "fig = {}"
   ]
  },
  {
   "cell_type": "markdown",
   "id": "d77454bf-fa8b-4796-b21b-48f5920aac1f",
   "metadata": {},
   "source": [
    "# Define the cantilever and the sample\n",
    "\n",
    "Set up the cantilever and sample to be the same as in `Study 25`.  We are going to run a `Model 1` calculation.  To avoid extra worries baout units, do the calculations in regular Python, not `jit`, to start."
   ]
  },
  {
   "cell_type": "code",
   "execution_count": 5,
   "id": "2d35bacd-13a3-4e5f-910e-6b92ab47c363",
   "metadata": {},
   "outputs": [],
   "source": [
    "cantilever = CantileverModel(\n",
    "    f_c = ureg.Quantity(75, 'kHz'),\n",
    "    k_c = ureg.Quantity(2.8, 'N/m'), \n",
    "    V_ts = ureg.Quantity(1, 'V'), \n",
    "    R = ureg.Quantity(35, 'nm'), \n",
    "    d = ureg.Quantity(38, 'nm')\n",
    ")"
   ]
  },
  {
   "cell_type": "code",
   "execution_count": 6,
   "id": "33df3838-95bd-48db-b66a-3a40bc7aed66",
   "metadata": {},
   "outputs": [
    {
     "data": {
      "text/plain": [
       "cantilever\n",
       "\n",
       "      resonance freq = 75.000 kHz\n",
       "                     = 4.712e+05 rad/s\n",
       "     spring constant = 2.800 N/m\n",
       "  tip-sample voltage = 1.000 V\n",
       "              radius = 35.000 nm\n",
       "              height = 38.000 nm"
      ]
     },
     "execution_count": 6,
     "metadata": {},
     "output_type": "execute_result"
    }
   ],
   "source": [
    "cantilever"
   ]
  },
  {
   "cell_type": "code",
   "execution_count": 7,
   "id": "baaabff9-25e5-432f-b705-fd8e918498b4",
   "metadata": {},
   "outputs": [],
   "source": [
    "sample = SampleModel1(\n",
    "    cantilever = cantilever,\n",
    "    h_s = ureg.Quantity(500, 'nm'),\n",
    "    epsilon_s = ureg.Quantity(complex(20, -0.2), ''),\n",
    "    sigma = ureg.Quantity(1E-5, 'S/m'),\n",
    "    rho = ureg.Quantity(1e21, '1/m^3'),\n",
    "    epsilon_d = ureg.Quantity(complex(1e6, 0), ''),\n",
    "    z_r = ureg.Quantity(300, 'nm')\n",
    ")"
   ]
  },
  {
   "cell_type": "code",
   "execution_count": 8,
   "id": "d9ce5da6-0adf-42ad-9b87-8493982ad057",
   "metadata": {},
   "outputs": [
    {
     "data": {
      "text/plain": [
       "cantilever\n",
       "\n",
       "      resonance freq = 75.000 kHz\n",
       "                     = 4.712e+05 rad/s\n",
       "     spring constant = 2.800 N/m\n",
       "  tip-sample voltage = 1.000 V\n",
       "              radius = 35.000 nm\n",
       "              height = 38.000 nm\n",
       "\n",
       "semiconductor\n",
       "\n",
       "             epsilon (real) = 20.000\n",
       "             epsilon (imag) = -0.200\n",
       "                  thickness = 500.0 nm\n",
       "               conductivity = 1.000e-05 S/m\n",
       "             charge density = 1.000e+21 m^{-3}\n",
       "           reference height = 3.000e+02 nm\n",
       "\n",
       "         roll-off frequency = 1.129e+06 Hz\n",
       "                   mobility = 6.242e-08 m^2/(V s)\n",
       "         diffusion constant = 1.614e-09 m^2/s\n",
       "               Debye length = 3.780e+01 nm\n",
       "           diffusion length = 5.852e+01 nm\n",
       "   effective epsilon (real) = 20.000\n",
       "   effective epsilon (imag) = -2.597\n",
       "\n",
       "dielectric\n",
       "\n",
       "  epsilon (real) = 1000000.000\n",
       "  epsilon (imag) = 0.000\n",
       "       thickness = infinite"
      ]
     },
     "execution_count": 8,
     "metadata": {},
     "output_type": "execute_result"
    }
   ],
   "source": [
    "sample"
   ]
  },
  {
   "cell_type": "markdown",
   "id": "75e85c7e-3d96-4448-af10-29f171220e97",
   "metadata": {},
   "source": [
    "# Trial calculations of friction and BLDS frequency shift (Python, slow)\n",
    "\n",
    "Check that both calculations work, and return an answer with the appropriate units.\n",
    "\n",
    "The function `gamma_perpendicular` returns a three-element array, with units.  The array elements are the three terms contributing to the total friction."
   ]
  },
  {
   "cell_type": "code",
   "execution_count": 9,
   "id": "f9fddbb4-8714-4160-a12b-1edfabadf8fe",
   "metadata": {
    "scrolled": true
   },
   "outputs": [
    {
     "data": {
      "text/html": [
       "<table><tbody><tr><th>Magnitude</th><td style='text-align:left;'><pre>[3.935960284420396 2.071704823856406 0.5163580638291028]</pre></td></tr><tr><th>Units</th><td style='text-align:left;'>piconewton second/meter</td></tr></tbody></table>"
      ],
      "text/latex": [
       "$\\begin{pmatrix} &  & \\end{pmatrix}\\ \\frac{\\mathrm{piconewton} \\cdot \\mathrm{second}}{\\mathrm{meter}}$"
      ],
      "text/plain": [
       "<Quantity([3.93596028 2.07170482 0.51635806], 'piconewton * second / meter')>"
      ]
     },
     "execution_count": 9,
     "metadata": {},
     "output_type": "execute_result"
    }
   ],
   "source": [
    "ans1 = gamma_perpendicular(theta1norm, sample)\n",
    "ans1 "
   ]
  },
  {
   "cell_type": "markdown",
   "id": "984c1bf8-f23e-427f-8a81-c3a2fb82317f",
   "metadata": {},
   "source": [
    "Sum the array to get the total friction."
   ]
  },
  {
   "cell_type": "code",
   "execution_count": 10,
   "id": "b2a7f225-b63b-44a4-bc8f-617dfb31ee0d",
   "metadata": {},
   "outputs": [
    {
     "data": {
      "text/html": [
       "6.524023172105904 piconewton second/meter"
      ],
      "text/latex": [
       "$6.524023172105904\\ \\frac{\\mathrm{piconewton} \\cdot \\mathrm{second}}{\\mathrm{meter}}$"
      ],
      "text/plain": [
       "<Quantity(6.524023172105904, 'piconewton * second / meter')>"
      ]
     },
     "execution_count": 10,
     "metadata": {},
     "output_type": "execute_result"
    }
   ],
   "source": [
    "ans1.sum(axis=0)"
   ]
  },
  {
   "cell_type": "markdown",
   "id": "1274a048-aa3b-44da-9cd4-5d85499d5e97",
   "metadata": {},
   "source": [
    "The function `blds_perpendicular` return an array of arrays.  The second array is a three-element array, with units, the array elements are teh three terms contributing to the BLDS frequency shift."
   ]
  },
  {
   "cell_type": "code",
   "execution_count": 11,
   "id": "2c3865ec-de11-46a3-8018-c39325640a36",
   "metadata": {},
   "outputs": [
    {
     "data": {
      "text/html": [
       "<table><tbody><tr><th>Magnitude</th><td style='text-align:left;'><pre>[[-6.201884478545333 -1.9086751902497232 -2.807472692370203] [-6.201846107846846 -1.9085112168230167 -2.8049998983659523]]</pre></td></tr><tr><th>Units</th><td style='text-align:left;'>hertz</td></tr></tbody></table>"
      ],
      "text/latex": [
       "$\\begin{pmatrix} &  & \\\\ \n",
       " &  & \\end{pmatrix}\\ \\mathrm{hertz}$"
      ],
      "text/plain": [
       "<Quantity([[-6.20188448 -1.90867519 -2.80747269]\n",
       " [-6.20184611 -1.90851122 -2.8049999 ]], 'hertz')>"
      ]
     },
     "execution_count": 11,
     "metadata": {},
     "output_type": "execute_result"
    }
   ],
   "source": [
    "omega_m = ureg.Quantity(2 * np.pi * np.logspace(1, 3, 2), 'Hz')\n",
    "ans2 = blds_perpendicular(theta1norm, sample, omega_m)\n",
    "ans2"
   ]
  },
  {
   "cell_type": "markdown",
   "id": "6d0d4908-e3e1-4275-9b56-fe17ae6186d9",
   "metadata": {},
   "source": [
    "Sum over the 1st axis to get total BLDS frequency shift."
   ]
  },
  {
   "cell_type": "code",
   "execution_count": 12,
   "id": "9ae55f4c-cc1a-4b76-b9db-1e505b17c539",
   "metadata": {},
   "outputs": [
    {
     "data": {
      "text/html": [
       "<table><tbody><tr><th>Magnitude</th><td style='text-align:left;'><pre>[-10.918032361165258 -10.915357223035816]</pre></td></tr><tr><th>Units</th><td style='text-align:left;'>hertz</td></tr></tbody></table>"
      ],
      "text/latex": [
       "$\\begin{pmatrix} & \\end{pmatrix}\\ \\mathrm{hertz}$"
      ],
      "text/plain": [
       "<Quantity([-10.91803236 -10.91535722], 'hertz')>"
      ]
     },
     "execution_count": 12,
     "metadata": {},
     "output_type": "execute_result"
    }
   ],
   "source": [
    "ans2.sum(axis=1)"
   ]
  },
  {
   "cell_type": "markdown",
   "id": "a46fd236-6cfa-4988-8976-b06a9f67c97a",
   "metadata": {},
   "source": [
    "Both answers have the right units, yea!"
   ]
  },
  {
   "cell_type": "markdown",
   "id": "91864093-44fc-4f25-a8ba-083781d0d8d4",
   "metadata": {},
   "source": [
    "# Create list of modulation frequencies and charge densities"
   ]
  },
  {
   "cell_type": "markdown",
   "id": "2e6b64ca-5923-47a3-bea6-1f689ec33ff3",
   "metadata": {},
   "source": [
    "Set up arrays of modulation frequency $\\omega_{\\mathrm{m}}$ and conductivity $\\sigma$."
   ]
  },
  {
   "cell_type": "code",
   "execution_count": 13,
   "id": "8b724760-154d-4bec-b770-592101d3e209",
   "metadata": {},
   "outputs": [],
   "source": [
    "N_omega = 5\n",
    "N_sigma = 20"
   ]
  },
  {
   "cell_type": "code",
   "execution_count": 14,
   "id": "3d947ddb-526b-4d16-a688-76a4aa5589fa",
   "metadata": {},
   "outputs": [],
   "source": [
    "omega_m = ureg.Quantity(\n",
    "    np.logspace(\n",
    "        start=np.log10(1e1),\n",
    "        stop=np.log10(1e8),\n",
    "        num=N_omega), 'Hz')"
   ]
  },
  {
   "cell_type": "code",
   "execution_count": 15,
   "id": "058a8de5-b753-4fe0-b16e-973245a1a081",
   "metadata": {},
   "outputs": [],
   "source": [
    "sigma = ureg.Quantity(\n",
    "    np.logspace(\n",
    "        start=np.log10(1e-9),\n",
    "        stop=np.log10(1),\n",
    "        num=N_sigma), 'S/m')"
   ]
  },
  {
   "cell_type": "markdown",
   "id": "48690cc4-8a01-4923-b001-6078ec2537cf",
   "metadata": {},
   "source": [
    "# Test Loring's BLDS spectrum limits\n",
    "\n",
    "Loring's expansion is for the 1st term only."
   ]
  },
  {
   "cell_type": "code",
   "execution_count": 16,
   "id": "d93d682f-84cb-4f2f-8d8d-db2518c1176a",
   "metadata": {},
   "outputs": [],
   "source": [
    "def plotBLDSapprox(sample):\n",
    "\n",
    "    x_temp = np.logspace(-3, 2, 40)\n",
    "    BLDS_low, BLDS_high = BLDSlimits(sample, x_temp)\n",
    "    x_sub, BLDS_sub = BLDSapprox(sample, x_temp)\n",
    "    \n",
    "    fig = plt.figure(figsize=(3.5, 2.5))\n",
    "    \n",
    "    plt.semilogx(x_temp, BLDS_low.to('Hz').magnitude, 'k--')\n",
    "    plt.semilogx(x_temp, BLDS_high.to('Hz').magnitude, 'k-.')\n",
    "    plt.semilogx(x_sub, BLDS_sub.to('Hz').magnitude,'-')\n",
    "    \n",
    "    plt.xlabel(r'$(h / \\lambda_{\\mathrm{D}})^2$')\n",
    "    plt.ylabel(r'|$\\Delta f_{\\mathrm{BLDS}}(\\omega_{\\mathrm{m}}=0)$| [Hz]')\n",
    "\n",
    "    plt.tight_layout()\n",
    "    plt.show()\n",
    "    \n",
    "    return fig"
   ]
  },
  {
   "cell_type": "code",
   "execution_count": 17,
   "id": "a95fd422-923c-4edc-bdc7-341ccc635681",
   "metadata": {},
   "outputs": [
    {
     "data": {
      "image/png": "[encoded data removed]",
      "text/plain": [
       "<Figure size 350x250 with 1 Axes>"
      ]
     },
     "metadata": {},
     "output_type": "display_data"
    }
   ],
   "source": [
    "fig['01'] = plotBLDSapprox(sample)"
   ]
  },
  {
   "cell_type": "markdown",
   "id": "4ad3fbfb-3994-4679-b7e3-740bd78bccda",
   "metadata": {},
   "source": [
    "# Loop over densities and create a spectrum"
   ]
  },
  {
   "cell_type": "markdown",
   "id": "2502838c-f02c-4a76-854a-91910cbd9100",
   "metadata": {},
   "source": [
    "Assume a fixed mobility of $\\mu = 10^{-8} \\: \\mathrm{m}^2/\\mathrm{V s}$, an ionic mobility.  "
   ]
  },
  {
   "cell_type": "code",
   "execution_count": 18,
   "id": "1b3bd48a-4249-46cd-8b33-fec06a1990bd",
   "metadata": {},
   "outputs": [],
   "source": [
    "mu = ureg.Quantity(1e-8, 'm^2/(V s)') "
   ]
  },
  {
   "cell_type": "markdown",
   "id": "1ef00829-7b23-4141-babb-7be9262f50e8",
   "metadata": {},
   "source": [
    "As we vary $\\sigma$, we should vary the charge density $\\rho$ to keep the mobility constant."
   ]
  },
  {
   "cell_type": "code",
   "execution_count": 19,
   "id": "5736909a-9a3e-4403-be1e-a3586c63f76c",
   "metadata": {},
   "outputs": [],
   "source": [
    "rho = (sigma / (qe * mu)).to('1/m^3')"
   ]
  },
  {
   "cell_type": "markdown",
   "id": "0f39fa45-ed2d-417b-91f1-28c6a5a323a4",
   "metadata": {},
   "source": [
    "Get ready to run the simulations."
   ]
  },
  {
   "cell_type": "code",
   "execution_count": 20,
   "id": "dc70872d-0e82-47e8-8d7f-2ad1788fcc50",
   "metadata": {},
   "outputs": [],
   "source": [
    "data = {}        # many simulations\n",
    "data['01'] = {}  # the first simulation"
   ]
  },
  {
   "cell_type": "markdown",
   "id": "b37a3cfb-8fd2-4c32-8676-c7b846b41488",
   "metadata": {},
   "source": [
    "Run the simulations.  This loop takes many, many minutes because we are running the calculations in Python, not `jit`."
   ]
  },
  {
   "cell_type": "code",
   "execution_count": 21,
   "id": "43b05a11-9d08-4f94-917c-365f99973698",
   "metadata": {},
   "outputs": [
    {
     "name": "stdout",
     "output_type": "stream",
     "text": [
      "rho = 6.2e+17/m^3\n",
      "rho = 1.9e+18/m^3\n",
      "rho = 5.5e+18/m^3\n",
      "rho = 1.6e+19/m^3\n",
      "rho = 4.9e+19/m^3\n",
      "rho = 1.5e+20/m^3\n",
      "rho = 4.3e+20/m^3\n",
      "rho = 1.3e+21/m^3\n",
      "rho = 3.8e+21/m^3\n",
      "rho = 1.1e+22/m^3\n",
      "rho = 3.4e+22/m^3\n",
      "rho = 1.0e+23/m^3\n",
      "rho = 3.0e+23/m^3\n",
      "rho = 9.0e+23/m^3\n",
      "rho = 2.7e+24/m^3\n",
      "rho = 8.0e+24/m^3\n",
      "rho = 2.4e+25/m^3\n",
      "rho = 7.0e+25/m^3\n",
      "rho = 2.1e+26/m^3\n",
      "rho = 6.2e+26/m^3\n"
     ]
    }
   ],
   "source": [
    "# remember\n",
    "sigma0 = sample.sigma\n",
    "rho0 =  sample.rho\n",
    "\n",
    "# set\n",
    "for rho_, sigma_ in zip(rho, sigma):\n",
    "\n",
    "    print('rho = {:0.1e}/m^3'.format(rho_.to('1/m^3').magnitude))\n",
    "    sample.rho = rho_\n",
    "    sample.sigma = sigma_\n",
    "\n",
    "    gamma = gamma_perpendicular(theta1norm, sample).to('pN s/m')\n",
    "    f_BLDS = blds_perpendicular(theta1norm, sample, omega_m).to('Hz')\n",
    "    \n",
    "    data['01'][str(sigma_.to('S/m').magnitude)] = {\n",
    "        'omega_m': omega_m,\n",
    "        'f_BLDS': f_BLDS, \n",
    "        'gamma': gamma,\n",
    "        'sigma': sample.sigma.to('S/m'),\n",
    "        'd': sample.cantilever.d.to('m'),\n",
    "        'rho': sample.rho.to('1/m^3'),\n",
    "        'LD': sample.LD.to('m'),\n",
    "        'omega_c': sample.cantilever.omega_c.to('Hz'),\n",
    "        'omega_0': (sample.sigma.to('S/m')/epsilon0).to('Hz')}\n",
    "\n",
    "# reset\n",
    "sample.rho = rho0\n",
    "sample.sigma = sigma0"
   ]
  },
  {
   "cell_type": "markdown",
   "id": "b34d39e3-f0f2-4e7f-9504-62d009514365",
   "metadata": {},
   "source": [
    "From `Study 25`, a helper function to plot the BLDS spectra.  Make sure to add up the three terms to get the total BLDS frequency shift."
   ]
  },
  {
   "cell_type": "code",
   "execution_count": 22,
   "id": "79ae34fd-07d7-4f4a-ab2b-3750d7c760da",
   "metadata": {},
   "outputs": [],
   "source": [
    "def plotBLDS(data):\n",
    "\n",
    "    rho = np.zeros(len(data))    \n",
    "    for index, key in enumerate(data.keys()):\n",
    "        \n",
    "        rho[index] = data[key]['rho'].to('1/cm^3').magnitude\n",
    "\n",
    "    # colormap = plt.cm.jet\n",
    "    colormap = plt.cm.magma_r\n",
    "    color_list = [colormap(i) for i in np.linspace(0, 1, len(data))]\n",
    "\n",
    "    normalized_colors = mcolors.LogNorm(vmin=min(rho), vmax=max(rho))\n",
    "    scalar_mappable = cm.ScalarMappable(norm=normalized_colors, cmap=colormap)\n",
    "    scalar_mappable.set_array(len(color_list))\n",
    "    \n",
    "    fig, ax = plt.subplots(figsize=(4.5, 3))\n",
    "    for index, key in enumerate(data.keys()):\n",
    "        \n",
    "        with plt.style.context('seaborn-v0_8'):\n",
    "            plt.semilogx(\n",
    "                data[key]['omega_m'].to('Hz').magnitude,\n",
    "                np.abs(data[key]['f_BLDS'].sum(axis=1).to('Hz').magnitude),\n",
    "                '-',\n",
    "                color=color_list[index])\n",
    "\n",
    "    # color bar\n",
    "    clb=plt.colorbar(scalar_mappable, ax=ax)\n",
    "    clb.ax.set_title(r'$\\rho \\: [\\mathrm{cm}^{-3}]$', fontsize=12)\n",
    "    \n",
    "    plt.ylabel('|$\\Delta f_{\\mathrm{BLDS}}$| [Hz]')\n",
    "    plt.xlabel('mod. freq. $\\omega_{\\mathrm{m}}$ [rad/s]')\n",
    "    plt.tight_layout()\n",
    "    plt.show()\n",
    "    \n",
    "    return fig"
   ]
  },
  {
   "cell_type": "code",
   "execution_count": 23,
   "id": "eb1edf19-4276-49c6-9ddf-ee25f5733676",
   "metadata": {},
   "outputs": [
    {
     "data": {
      "image/png": "[encoded data removed]",
      "text/plain": [
       "<Figure size 450x300 with 2 Axes>"
      ]
     },
     "metadata": {},
     "output_type": "display_data"
    }
   ],
   "source": [
    "fig['02'] = plotBLDS(data['01'])"
   ]
  },
  {
   "cell_type": "markdown",
   "id": "1020a9bf-45f9-438a-bf12-ed9d508e3106",
   "metadata": {},
   "source": [
    "From `Study 25`, another helper function.  This one plots the low-frequency BLDS spectrum and the friction versus charge density and two unitless variables."
   ]
  },
  {
   "cell_type": "markdown",
   "id": "0c72cc3e-f56c-49b0-a2af-384955db9b1b",
   "metadata": {},
   "source": [
    "Make another low-density approximation for the zero-frequency BLDS shift.  I think Loring has an extra factor of $\\epsilon_{\\mathrm{s}}^{\\prime}$ in linear term; write a corrected function."
   ]
  },
  {
   "cell_type": "code",
   "execution_count": 24,
   "id": "7c1f4694-2adc-4445-9914-ff24239e8c7d",
   "metadata": {},
   "outputs": [],
   "source": [
    "from dissipationtheory.dissipation3 import BLDSpre\n",
    "\n",
    "def BLDSapprox2(sample, x):\n",
    "\n",
    "    pre = BLDSpre(sample)\n",
    "    _, BLDS_high = BLDSlimits(sample, x)\n",
    "    \n",
    "    er = sample.epsilon_s.real.magnitude\n",
    "    a = 0.25 * (er - 1)/(er + 1)\n",
    "    b = 0.50 / (er + 1)**2\n",
    "\n",
    "    BLDS_approx = pre * (a + b * x)\n",
    "    mask = BLDS_approx.to('Hz').magnitude <= 1.10 * BLDS_high.to('Hz').magnitude\n",
    "    \n",
    "    return [x[mask], BLDS_approx[mask]]"
   ]
  },
  {
   "cell_type": "code",
   "execution_count": 25,
   "id": "67ffa513-963d-48bd-bfd0-00bc33ea0a20",
   "metadata": {},
   "outputs": [],
   "source": [
    "def plotme(data):\n",
    "\n",
    "    # Loop over the data and gather up the charge density, Debye length, cantilever height,\n",
    "    # friction and BLDS frequency shift at the lowest modulation frequency (approximating\n",
    "    # the zero-frequency limit)\n",
    "    \n",
    "    rho = np.zeros(len(data))\n",
    "    LD = np.zeros(len(data))\n",
    "    d = np.zeros(len(data))\n",
    "    gamma = np.zeros((len(data),3))\n",
    "    blds0 = np.zeros((len(data),3))\n",
    "    omega_0 = np.zeros(len(data))\n",
    "    omega_c = np.zeros(len(data))\n",
    "    \n",
    "    for index, key in enumerate(data.keys()):\n",
    "        \n",
    "        rho[index] = data[key]['rho'].to('1/cm^3').magnitude\n",
    "        LD[index] = data[key]['LD'].to('m').magnitude\n",
    "        d[index] = data[key]['d'].to('m').magnitude\n",
    "        gamma[index] = data[key]['gamma'].to('pN s/m').magnitude\n",
    "        blds0[index] = np.abs(data[key]['f_BLDS'][0,:].to('Hz').magnitude)\n",
    "        omega_0[index] = data[key]['omega_0'].to('Hz').magnitude\n",
    "        omega_c[index] = data[key]['omega_c'].to('Hz').magnitude\n",
    "    \n",
    "    # (Left hand plot) \n",
    "    # Make the x-axis the unitless ratio of the height to Debye length squared,\n",
    "    # which is proportional to charge density.\n",
    "\n",
    "    xL = (d/LD)**2\n",
    "    rho0L = (rho/xL)[0]\n",
    "\n",
    "    # Define functions to convert from xL to rho and back again\n",
    "    \n",
    "    def fwdL(xL):\n",
    "        return xL*rho0L\n",
    "\n",
    "    def revL(rho):\n",
    "        return rho/rho0L\n",
    "\n",
    "    # (Right hand plot)\n",
    "    # Make the x-axis the unitless ratio of omega_0 to omega_c, which\n",
    "    # is proportional to conductivity and therefore charge density\n",
    "\n",
    "    xR = omega_0/(sample.epsilon_s.real.magnitude * omega_c)\n",
    "    rho0R = (rho/xR)[0]\n",
    "    \n",
    "    # Define functions to convert from xR to rho and back again\n",
    "\n",
    "    def fwdR(xR):\n",
    "        return xR*rho0R\n",
    "\n",
    "    def revR(rho):\n",
    "        return rho/rho0R\n",
    "    \n",
    "    # Now make the nice plot\n",
    "    \n",
    "    fig, ax = plt.subplots(1, 2, figsize=(7.5, 5))\n",
    "    \n",
    "    ax2L = ax[0].secondary_xaxis(\"top\", functions=(fwdL,revL))\n",
    "    ax2R = ax[1].secondary_xaxis(\"top\", functions=(fwdR,revR))\n",
    "\n",
    "    BLDS_low, BLDS_high = BLDSlimits(sample, xL)\n",
    "    xL_sub_A, BLDS_sub_A = BLDSapprox(sample, xL)\n",
    "    xL_sub_B, BLDS_sub_B = BLDSapprox2(sample, xL)\n",
    "\n",
    "    with plt.style.context('seaborn-v0_8'):\n",
    "        ax[0].semilogx(xL, BLDS_low.to('Hz').magnitude, 'k--')\n",
    "        ax[0].semilogx(xL, BLDS_high.to('Hz').magnitude, 'k-.')\n",
    "        ax[0].semilogx(xL_sub_A, BLDS_sub_A.to('Hz').magnitude,'k-', label='RL approx')\n",
    "        ax[0].semilogx(xL_sub_B, BLDS_sub_B.to('Hz').magnitude,'k:', label='JM approx')  \n",
    "        ax[0].semilogx(xL, blds0, '-', label=['$K_2$','$K_1$','$K_0$'])\n",
    "        ax[1].semilogx(xR, gamma, '-', label=['$K_2$','$K_1$','$K_0$'])\n",
    "        \n",
    "    ax[0].set_xlabel(r'$(h / \\lambda_{\\mathrm{D}})^2$')\n",
    "    ax[0].set_ylabel(r'|$\\Delta f_{\\mathrm{BLDS}}(\\omega_{\\mathrm{m}}=0)$| [Hz]')\n",
    "    ax[0].legend(fontsize=9)\n",
    "    ax[0].grid()\n",
    "    ax[1].grid()\n",
    "    \n",
    "    ax[1].set_xlabel(r'$\\omega_0/(\\epsilon_{\\mathrm{s}}^{\\prime} \\omega_{\\mathrm{c}})$')\n",
    "    ax[1].set_ylabel(r'$\\gamma_{\\perp}$ [pN s/m]')\n",
    "    ax[1].legend(fontsize=9)\n",
    "    \n",
    "    ax2L.set_xlabel(r'charge density $\\rho$ [cm$^{-3}$]')\n",
    "    ax2R.set_xlabel(r'charge density $\\rho$ [cm$^{-3}$]')\n",
    "    \n",
    "    plt.tight_layout()\n",
    "    plt.show()\n",
    "    \n",
    "    return fig"
   ]
  },
  {
   "cell_type": "code",
   "execution_count": 26,
   "id": "94b5882e-a076-479c-b584-45c1c33ba004",
   "metadata": {},
   "outputs": [
    {
     "data": {
      "image/png": "[encoded data removed]",
      "text/plain": [
       "<Figure size 750x500 with 2 Axes>"
      ]
     },
     "metadata": {},
     "output_type": "display_data"
    }
   ],
   "source": [
    "fig['03'] = plotme(data['01'])"
   ]
  },
  {
   "cell_type": "markdown",
   "id": "fed7b2b6-0dd2-4d12-8955-0d5992b521ea",
   "metadata": {},
   "source": [
    "# Save all figures"
   ]
  },
  {
   "cell_type": "code",
   "execution_count": 27,
   "id": "bec6669f-6564-45e0-bac2-6dcf4d1c6029",
   "metadata": {},
   "outputs": [],
   "source": [
    "if 1:\n",
    "    for num in fig.keys():\n",
    "        figname = THIS + \"Fig-\" + num\n",
    "        fig[num].savefig(figname + '.png', dpi=300)\n",
    "        fig[num].savefig(figname + '.pdf')"
   ]
  },
  {
   "cell_type": "code",
   "execution_count": null,
   "id": "5d97c43a-d26d-447a-a6a3-d56ce052b3d5",
   "metadata": {},
   "outputs": [],
   "source": []
  }
 ],
 "metadata": {
  "kernelspec": {
   "display_name": "dissipationtheory",
   "language": "python",
   "name": "dissipationtheory"
  },
  "language_info": {
   "codemirror_mode": {
    "name": "ipython",
    "version": 3
   },
   "file_extension": ".py",
   "mimetype": "text/x-python",
   "name": "python",
   "nbconvert_exporter": "python",
   "pygments_lexer": "ipython3",
   "version": "3.9.10"
  }
 },
 "nbformat": 4,
 "nbformat_minor": 5
}
