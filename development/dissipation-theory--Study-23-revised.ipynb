{
 "cells": [
  {
   "cell_type": "markdown",
   "id": "23a70861-85a1-4209-b1dc-f0c747692132",
   "metadata": {},
   "source": [
    "* Name: `dissipation-theory--Study-23.ipynb`\n",
    "* Author: John A. Marohn\n",
    "* Date: 2024-08-02\n",
    "* Continued from: `dissipation-theory--Study-21.ipynb`\n",
    "* Continued to: ---\n",
    "* Summary: Plot cantilever friction and BLDS signal versus conductivity and charge density."
   ]
  },
  {
   "cell_type": "markdown",
   "id": "4c424336-b8f7-46b8-95ff-885363755a9a",
   "metadata": {},
   "source": [
    "# Preliminaries"
   ]
  },
  {
   "cell_type": "code",
   "execution_count": 1,
   "id": "2f375306-8512-4bfa-afff-b1dbe065d274",
   "metadata": {},
   "outputs": [],
   "source": [
    "import numpy as np"
   ]
  },
  {
   "cell_type": "code",
   "execution_count": 2,
   "id": "38c98b69-a9a9-4f63-ac30-99ea194039ef",
   "metadata": {},
   "outputs": [],
   "source": [
    "%matplotlib inline\n",
    "import matplotlib.pylab as plt\n",
    "import matplotlib.cm as cm\n",
    "import matplotlib.colors as mcolors\n",
    "\n",
    "font = {'family' : 'serif',\n",
    "        'weight' : 'normal',\n",
    "        'size'   : 12}\n",
    "\n",
    "plt.rc('font', **font)\n",
    "plt.rcParams['figure.figsize'] = 3.25, 3.5"
   ]
  },
  {
   "cell_type": "code",
   "execution_count": 3,
   "id": "9824cbbb-b393-4469-b620-44f4ad23af92",
   "metadata": {},
   "outputs": [],
   "source": [
    "from dissipationtheory.constants import ureg, qe\n",
    "from dissipationtheory.dissipation2 import CantileverModelJit, SampleModel1Jit, SampleModel2Jit, theta1norm_jit\n",
    "from dissipationtheory.dissipation  import blds_perpendicular_jit, gamma_perpendicular_jit\n",
    "from dissipationtheory.data import BLDSData"
   ]
  },
  {
   "cell_type": "code",
   "execution_count": 4,
   "id": "05f67a9c-61a6-4499-a42c-6f6418e95e6c",
   "metadata": {},
   "outputs": [],
   "source": [
    "THIS = 'dissipation-theory--Study-23--'\n",
    "fig = {}"
   ]
  },
  {
   "cell_type": "markdown",
   "id": "26a89a75-8c54-4e17-8c6e-8b6e17af68cf",
   "metadata": {},
   "source": [
    "# Simulate BLDS and friction under optical irradiation\n",
    "\n",
    "Assume the density increases while the charge mobility stays constant."
   ]
  },
  {
   "cell_type": "markdown",
   "id": "d8222f49-d3ff-408e-9119-3987e5be9c23",
   "metadata": {},
   "source": [
    "Cantilever with \"new\" tip might have a radius of $R = 35 \\: \\mathrm{nm}$.  BLDS measurements might be taken at $d = 200 \\: \\mathrm{nm}$.  Friction ringdown measurements can get as close as $d = 38 \\: \\mathrm{nm}$.  "
   ]
  },
  {
   "cell_type": "code",
   "execution_count": 5,
   "id": "0671f998-ea5b-4843-9876-7f0b7fc217bf",
   "metadata": {},
   "outputs": [],
   "source": [
    "cantilever_jit = CantileverModelJit(\n",
    "    f_c = 75e3, \n",
    "    V_ts = 1.0,\n",
    "    R = 35e-9,\n",
    "    d = 38e-9\n",
    ")"
   ]
  },
  {
   "cell_type": "markdown",
   "id": "8f9261b8-c3d4-4ef7-ba4b-ad34c7666a49",
   "metadata": {},
   "source": [
    "Pick a thick sample, $h_{\\mathrm{s}} = 500 \\: \\mathrm{nm}$.  Guess a dielectric constant on the low side for a perovskite, $\\epsilon_{\\mathrm{r}} = 20$, to get a larger BLDS signal.  A reasonable guess for a perovskite dielectric constant is 20 to 100 (real part); pick -2 for the imaginary part, an arbitrary choice.  We are going to vary the conductivity and charge density.\n",
    "\n",
    "Assume the sample is backed by a metal, which we mimic by setting $\\epsilon_{\\mathrm{d}} = 10^{6}$."
   ]
  },
  {
   "cell_type": "code",
   "execution_count": 6,
   "id": "a9cd2207-b307-41e2-b998-8e9ed0a00888",
   "metadata": {},
   "outputs": [],
   "source": [
    "sample_jit = SampleModel1Jit(\n",
    "    cantilever = cantilever_jit,\n",
    "    h_s = 500e-9,\n",
    "    epsilon_s = complex(20, -0.2),\n",
    "    sigma = 1e-5,\n",
    "    rho = 1e21,\n",
    "    epsilon_d = complex(1e6, 0),\n",
    "    z_r = 300e-9\n",
    ")"
   ]
  },
  {
   "cell_type": "markdown",
   "id": "60e390ba-8656-4070-8cab-a831b45587a6",
   "metadata": {},
   "source": [
    "Print out a report of sample properties."
   ]
  },
  {
   "cell_type": "code",
   "execution_count": 7,
   "id": "bd6c6080-73da-4b36-a07e-c5ee9c48c093",
   "metadata": {},
   "outputs": [
    {
     "name": "stdout",
     "output_type": "stream",
     "text": [
      "cantilever\n",
      "==========\n",
      "   cantilever freq =  75000.0 Hz\n",
      "                   =  471238.89803846896 rad/s\n",
      "tip-sample voltage =  1.0 V\n",
      "            radius =  3.5e-08 m\n",
      "            height =  3.8e-08 m\n",
      "\n",
      "semiconductor\n",
      "=============\n",
      "          epsilon (real) =  20.0\n",
      "          epsilon (imag) =  -0.2\n",
      "               thickness =  5e-07 m\n",
      "            conductivity =  1e-05 S/m\n",
      "          charge density =  1e+21 m^{{-3}}\n",
      "        reference height =  3e-07 m\n",
      " \n",
      "      roll-off frequency =  1129409.0673730192 Hz\n",
      "                mobility =  6.241509090043337e-08 m^2/(V s)\n",
      "      diffusion constant =  1.6135549206567651e-09 m^2/s\n",
      "            Debye length =  3.7797775481848936e-08 m\n",
      "        diffusion length =  5.851555252782804e-08 m\n",
      "effective epsilon (real) =  20.0\n",
      "effective epsilon (imag) =  -2.5966804779363124\n",
      "\n",
      "dielectric\n",
      "==========\n",
      " epsilon (real) =  1000000.0\n",
      " epsilon (imag) =  0.0\n",
      "      thickness = infinite\n"
     ]
    }
   ],
   "source": [
    "sample_jit.print()"
   ]
  },
  {
   "cell_type": "markdown",
   "id": "18cc2ef1-7c8b-4445-b283-5f148cc23fa0",
   "metadata": {},
   "source": [
    "Vary the coductivity, but keep the mobility fixed, which means we must also vary charge density."
   ]
  },
  {
   "cell_type": "code",
   "execution_count": 8,
   "id": "3adb995b-587e-4fb0-9ddd-73ea45b1a78f",
   "metadata": {},
   "outputs": [],
   "source": [
    "omega_m = ureg.Quantity(\n",
    "    np.logspace(\n",
    "        start=np.log10(1e1),\n",
    "        stop=np.log10(1e8),\n",
    "        num=50), 'Hz')"
   ]
  },
  {
   "cell_type": "code",
   "execution_count": 9,
   "id": "451a156e-f87f-4156-925b-18960131ced4",
   "metadata": {},
   "outputs": [],
   "source": [
    "sigma = ureg.Quantity(\n",
    "    np.logspace(\n",
    "        start=np.log10(1e-9),\n",
    "        stop=np.log10(1e-2),\n",
    "        num=40), 'S/m')"
   ]
  },
  {
   "cell_type": "markdown",
   "id": "b9696c65-cd65-4972-a657-e2924635c043",
   "metadata": {},
   "source": [
    "Assume a *fixed* mobility of $\\mu = 10^{-8} \\: \\mathrm{m}^2 / \\mathrm{V s}$.  This is an ionic mobility. "
   ]
  },
  {
   "cell_type": "code",
   "execution_count": 10,
   "id": "d3b16bd2-552f-47f6-b54b-bbe84a5b1fd3",
   "metadata": {},
   "outputs": [
    {
     "name": "stdout",
     "output_type": "stream",
     "text": [
      "mu = 1.000000e-04 cm^2(V s)\n"
     ]
    }
   ],
   "source": [
    "mu = ureg.Quantity(1e-8, 'm^2/(V s)')  # <=== adjust this\n",
    "\n",
    "print(\"mu = {:e} cm^2(V s)\".format(\n",
    "    mu.to('cm^2/(V s)').magnitude))"
   ]
  },
  {
   "cell_type": "markdown",
   "id": "7b3d68fd-93fd-49ab-98aa-f4778005db53",
   "metadata": {},
   "source": [
    "As we vary $\\sigma$, we also need to vary $\\rho$."
   ]
  },
  {
   "cell_type": "code",
   "execution_count": 11,
   "id": "5a75262d-d09d-47a7-9f89-c679688fd127",
   "metadata": {},
   "outputs": [
    {
     "name": "stdout",
     "output_type": "stream",
     "text": [
      "rho range: 6.241509e+17 to 6.241509e+24 1/m^3\n"
     ]
    }
   ],
   "source": [
    "rho = (sigma / (qe * mu)).to('1/m^3')\n",
    "\n",
    "print(\"rho range: {:e} to {:e} 1/m^3\".format(\n",
    "    min(rho).to('1/m^3').magnitude,\n",
    "    max(rho).to('1/m^3').magnitude))"
   ]
  },
  {
   "cell_type": "markdown",
   "id": "fc2d45f6-0aeb-4a2c-aa95-fa3324fb1999",
   "metadata": {},
   "source": [
    "Get ready to run the simulations."
   ]
  },
  {
   "cell_type": "code",
   "execution_count": 12,
   "id": "0b665cbc-7882-49f1-9ece-68de5b287b56",
   "metadata": {},
   "outputs": [],
   "source": [
    "data = {}        # many simulations\n",
    "data['01'] = {}  # the first simulation"
   ]
  },
  {
   "cell_type": "markdown",
   "id": "43d7aaaf-abef-43f6-82f6-a8122de1db4f",
   "metadata": {},
   "source": [
    "Step the charge density and conductivity and compute a friction and BLDS spectrum at each step."
   ]
  },
  {
   "cell_type": "code",
   "execution_count": 13,
   "id": "932cc5de-8427-4eb3-bae4-d46b28c65dc4",
   "metadata": {},
   "outputs": [],
   "source": [
    "# remember\n",
    "sigma0 = sample_jit.sigma\n",
    "rho0 =  sample_jit.rho\n",
    "\n",
    "# set\n",
    "for rho_, sigma_ in zip(rho, sigma):\n",
    "    \n",
    "    freq = ureg.Quantity(np.zeros_like(omega_m), 'Hz')\n",
    "\n",
    "    sample_jit.rho = rho_.to('1/m^3').magnitude\n",
    "    sample_jit.sigma = sigma_.to('S/m').magnitude\n",
    "    \n",
    "    gamma = gamma_perpendicular_jit(theta1norm_jit, sample_jit).to('pN s/m')\n",
    "    \n",
    "    for index, omega_ in enumerate(omega_m):\n",
    "        \n",
    "        freq[index] = blds_perpendicular_jit(\n",
    "            theta1norm_jit,\n",
    "            sample_jit,\n",
    "            omega_).to('Hz')\n",
    "    \n",
    "    data['01'][str(sigma_)] = {\n",
    "        'omega_m': omega_m,\n",
    "        'f_BLDS': freq, \n",
    "        'gamma': gamma,\n",
    "        'sigma': ureg.Quantity(sample_jit.sigma, 'S/m'), \n",
    "        'rho': ureg.Quantity(sample_jit.rho, '1/m^3')}\n",
    "\n",
    "# reset\n",
    "sample_jit.rho = rho0\n",
    "sample_jit.sigma = sigma0"
   ]
  },
  {
   "cell_type": "markdown",
   "id": "dd794340-0a97-489e-940e-dd7f1f888411",
   "metadata": {},
   "source": [
    "Helper function to plot the BLDS spectra."
   ]
  },
  {
   "cell_type": "code",
   "execution_count": 45,
   "id": "236e84ff-2356-4585-af95-cb5fc2062f34",
   "metadata": {},
   "outputs": [],
   "source": [
    "def plotBLDS(data, sample_jit):\n",
    "\n",
    "    rho = np.zeros(len(data))    \n",
    "    for index, key in enumerate(data.keys()):\n",
    "        \n",
    "        rho[index] = data[key]['rho'].to('1/cm^3').magnitude\n",
    "\n",
    "    # colormap = plt.cm.jet\n",
    "    colormap = plt.cm.magma_r\n",
    "    color_list = [colormap(i) for i in np.linspace(0, 1, len(data))]\n",
    "\n",
    "    normalized_colors = mcolors.LogNorm(vmin=min(rho), vmax=max(rho))\n",
    "    scalar_mappable = cm.ScalarMappable(norm=normalized_colors, cmap=colormap)\n",
    "    scalar_mappable.set_array(len(color_list))\n",
    "    \n",
    "    fig, ax = plt.subplots(figsize=(4.5, 3))\n",
    "    for index, key in enumerate(data.keys()):\n",
    "        \n",
    "        with plt.style.context('seaborn-v0_8'):\n",
    "            plt.semilogx(\n",
    "                data[key]['omega_m'].to('Hz').magnitude,\n",
    "                np.abs(data[key]['f_BLDS'].to('Hz').magnitude),\n",
    "                '-',\n",
    "                color=color_list[index])\n",
    "\n",
    "    # if you want the separation and radius on the plot title\n",
    "    if 0: \n",
    "    \n",
    "        lbl = '$d = $ {:0.1f} nm, $R = $ {:0.1f} nm'.format(\n",
    "            sample_jit.cantilever.d/1e-9,\n",
    "            sample_jit.cantilever.R/1e-9)\n",
    "        \n",
    "        plt.title(lbl, fontsize=9)\n",
    "\n",
    "    # color bar\n",
    "    clb=plt.colorbar(scalar_mappable, ax=ax)\n",
    "    clb.ax.set_title(r'$\\rho \\: [\\mathrm{cm}^{-3}]$', fontsize=12)\n",
    "    \n",
    "    plt.ylabel('|$\\Delta f_{\\mathrm{BLDS}}$| [Hz]')\n",
    "    plt.xlabel('mod. freq. $\\omega_{\\mathrm{m}}$ [rad/s]')\n",
    "    plt.tight_layout()\n",
    "    plt.show()\n",
    "    \n",
    "    return fig"
   ]
  },
  {
   "cell_type": "markdown",
   "id": "5597945c-7c5b-4f56-be20-5f71fe05454f",
   "metadata": {},
   "source": [
    "Plot the BLDS spectra."
   ]
  },
  {
   "cell_type": "markdown",
   "id": "257ad8a4-517b-422c-a568-76a2383d4ec0",
   "metadata": {},
   "source": [
    "Actually plot a subset of the BLDS spectra."
   ]
  },
  {
   "cell_type": "code",
   "execution_count": 46,
   "id": "3b615f5e-facb-4e5c-9de6-85dd2a25626c",
   "metadata": {},
   "outputs": [],
   "source": [
    "data['01-short'] = {}\n",
    "for key in list(data['01'].keys())[::2]:  # gotta list, MF'a\n",
    "    data['01-short'][key] = data['01'][key]"
   ]
  },
  {
   "cell_type": "code",
   "execution_count": 47,
   "id": "4d650f15-769e-499e-9650-0b181287701d",
   "metadata": {},
   "outputs": [
    {
     "data": {
      "image/png": "[encoded data removed]",
      "text/plain": [
       "<Figure size 450x300 with 2 Axes>"
      ]
     },
     "metadata": {},
     "output_type": "display_data"
    }
   ],
   "source": [
    "fig['01'] = plotBLDS(data['01-short'], sample_jit)"
   ]
  },
  {
   "cell_type": "markdown",
   "id": "f9b5d414-c9e9-4b03-a146-297ad9b16ba4",
   "metadata": {},
   "source": [
    "Helper function to plot the dissipation."
   ]
  },
  {
   "cell_type": "code",
   "execution_count": 18,
   "id": "e5e8491d-f0c3-4187-9d91-0e73180a1fc3",
   "metadata": {},
   "outputs": [],
   "source": [
    "def plotgamma(data, sample_jit):\n",
    "\n",
    "    # gather up friction data\n",
    "    \n",
    "    rho = np.zeros(len(data))\n",
    "    gamma = np.zeros(len(data))\n",
    "    blds0 = np.zeros(len(data))\n",
    "    \n",
    "    for index, key in enumerate(data.keys()):\n",
    "        \n",
    "        rho[index] = data[key]['rho'].to('1/cm^3').magnitude\n",
    "        gamma[index] = data[key]['gamma'][0].to('pN s/m').magnitude\n",
    "        blds0[index] = np.abs(data[key]['f_BLDS'][0].to('Hz').magnitude)\n",
    "        \n",
    "    # now make a plot\n",
    "    \n",
    "    fig, ax = plt.subplots(1, 2, figsize=(6.5, 3))\n",
    "\n",
    "    with plt.style.context('seaborn-v0_8'):\n",
    "        ax[0].semilogx(rho, blds0, '-')\n",
    "        ax[1].semilogx(rho, gamma, '-')\n",
    "        \n",
    "    ax[0].set_ylabel(r'|$\\Delta f_{\\mathrm{BLDS}}(\\omega_{\\mathrm{m}}=0)$| [Hz]')\n",
    "    ax[1].set_ylabel(r'$\\gamma_{\\perp}$ [pN s/m]')\n",
    "    ax[0].set_xlabel(r'charge density $\\rho$ [cm$^{-3}$]')\n",
    "    ax[1].set_xlabel(r'charge density $\\rho$ [cm$^{-3}$]')\n",
    "    \n",
    "    plt.tight_layout()\n",
    "    plt.show()\n",
    "    \n",
    "    return fig"
   ]
  },
  {
   "cell_type": "code",
   "execution_count": 19,
   "id": "b2f78d2f-703b-498e-8d24-82a4fc2aaf5e",
   "metadata": {},
   "outputs": [
    {
     "data": {
      "image/png": "[encoded data removed]",
      "text/plain": [
       "<Figure size 650x300 with 2 Axes>"
      ]
     },
     "metadata": {},
     "output_type": "display_data"
    }
   ],
   "source": [
    "fig['02'] = plotgamma(data['01'], sample_jit)"
   ]
  },
  {
   "cell_type": "markdown",
   "id": "4e6e99bd-6f3b-4a8e-a7c6-a449ade23ed9",
   "metadata": {},
   "source": [
    "Print out the sample properties again.\n",
    "\n",
    "Cantilever: $f_c = 75 \\: \\mathrm{kHz}$, $k_c = 2.8 \\: \\mathrm{N/m}$, $R = 35 \\: \\mathrm{nm}$, $h = 38 \\: \\mathrm{nm}$, and $V_{\\mathrm{ts}} = 1 \\: \\mathrm{V}$.\n",
    "\n",
    "Sample: $h_{\\mathrm{s}} = 500 \\: \\mathrm{nm}$, $\\epsilon_{\\mathrm{s}} = 20 - 0.2 \\, j$, $\\mu = 10^{-8} \\: \\mathrm{m}^2 / \\mathrm{V s}$, $\\epsilon_{\\mathrm{d}} = 10^{6}$ fixed; $\\rho$ and $\\sigma = e \\mu \\rho$ varied."
   ]
  },
  {
   "cell_type": "code",
   "execution_count": 20,
   "id": "58f4f28f-e65a-487b-a7db-9538af08320c",
   "metadata": {},
   "outputs": [
    {
     "name": "stdout",
     "output_type": "stream",
     "text": [
      "cantilever\n",
      "==========\n",
      "   cantilever freq =  75000.0 Hz\n",
      "                   =  471238.89803846896 rad/s\n",
      "tip-sample voltage =  1.0 V\n",
      "            radius =  3.5e-08 m\n",
      "            height =  3.8e-08 m\n",
      "\n",
      "semiconductor\n",
      "=============\n",
      "          epsilon (real) =  20.0\n",
      "          epsilon (imag) =  -0.2\n",
      "               thickness =  5e-07 m\n",
      "            conductivity =  1e-05 S/m\n",
      "          charge density =  1e+21 m^{{-3}}\n",
      "        reference height =  3e-07 m\n",
      " \n",
      "      roll-off frequency =  1129409.0673730192 Hz\n",
      "                mobility =  6.241509090043337e-08 m^2/(V s)\n",
      "      diffusion constant =  1.6135549206567651e-09 m^2/s\n",
      "            Debye length =  3.7797775481848936e-08 m\n",
      "        diffusion length =  5.851555252782804e-08 m\n",
      "effective epsilon (real) =  20.0\n",
      "effective epsilon (imag) =  -2.5966804779363124\n",
      "\n",
      "dielectric\n",
      "==========\n",
      " epsilon (real) =  1000000.0\n",
      " epsilon (imag) =  0.0\n",
      "      thickness = infinite\n"
     ]
    }
   ],
   "source": [
    "sample_jit.print()"
   ]
  },
  {
   "cell_type": "markdown",
   "id": "810ef11a-bd56-4006-ab0d-c07092af38ca",
   "metadata": {},
   "source": [
    "# Save all figures"
   ]
  },
  {
   "cell_type": "code",
   "execution_count": 48,
   "id": "53e56fef-72f9-476f-bb6b-6034eff1dcec",
   "metadata": {},
   "outputs": [],
   "source": [
    "for num in fig.keys():\n",
    "    figname = THIS + \"Fig-\" + num\n",
    "    fig[num].savefig(figname + '.png', dpi=300)\n",
    "    fig[num].savefig(figname + '.pdf')"
   ]
  },
  {
   "cell_type": "code",
   "execution_count": null,
   "id": "85953b61-b9d8-4cbf-b55d-9e2c44a23099",
   "metadata": {},
   "outputs": [],
   "source": []
  }
 ],
 "metadata": {
  "kernelspec": {
   "display_name": "dissipationtheory",
   "language": "python",
   "name": "dissipationtheory"
  },
  "language_info": {
   "codemirror_mode": {
    "name": "ipython",
    "version": 3
   },
   "file_extension": ".py",
   "mimetype": "text/x-python",
   "name": "python",
   "nbconvert_exporter": "python",
   "pygments_lexer": "ipython3",
   "version": "3.9.10"
  }
 },
 "nbformat": 4,
 "nbformat_minor": 5
}
