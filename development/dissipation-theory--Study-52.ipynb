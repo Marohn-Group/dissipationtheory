{
 "cells": [
  {
   "cell_type": "raw",
   "id": "cfffba2b-568a-459e-8995-189ba0dd887c",
   "metadata": {},
   "source": [
    "---\n",
    "title: Test and profile `dissipation9` code (continued)\n",
    "author: \"John A. Marohn\"\n",
    "date: today\n",
    "abstract: Test and profile the code in the `dissipationtheory9b.py`.\n",
    "toc: true\n",
    "number-sections: true\n",
    "highlight-style: pygments\n",
    "embed-resources: true\n",
    "dpi: 300\n",
    "format:\n",
    "    html:\n",
    "        html-math-method:\n",
    "          method: mathjax\n",
    "          url: \"https://cdn.jsdelivr.net/npm/mathjax@3/es5/tex-mml-chtml.js\"\n",
    "        code-fold: true\n",
    "        code-tools: true\n",
    "jupyter: python3\n",
    "---"
   ]
  },
  {
   "cell_type": "markdown",
   "id": "d08d1392-f77d-4e1e-a48a-e949ea93bc80",
   "metadata": {},
   "source": [
    "# Preliminaries"
   ]
  },
  {
   "cell_type": "code",
   "execution_count": 1,
   "id": "b7987c5f-5544-4c6f-a9e0-ec6bea8f8568",
   "metadata": {},
   "outputs": [],
   "source": [
    "import numpy as np"
   ]
  },
  {
   "cell_type": "code",
   "execution_count": 2,
   "id": "cf5a3354-e541-4da4-9ddd-9e8794a3cbd2",
   "metadata": {},
   "outputs": [],
   "source": [
    "THIS = 'dissipation-theory--Study-52--'\n",
    "figs = {}\n",
    "obj = {}\n",
    "df = {}"
   ]
  },
  {
   "cell_type": "code",
   "execution_count": 3,
   "id": "7287a103-da2a-4237-b3fe-b7abb35a21f7",
   "metadata": {},
   "outputs": [],
   "source": [
    "from dissipationtheory.constants import ureg, epsilon0, qe\n",
    "from dissipationtheory.dissipation9a import CantileverModel, SampleModel1, SampleModel2, SampleModel3, SampleModel4\n",
    "from dissipationtheory.dissipation9a import integrand1, integrand2, integrand2, integrand3, K, Kunits, Kmetal, Kmetalunits"
   ]
  },
  {
   "cell_type": "code",
   "execution_count": 4,
   "id": "ddb72a6a-ad4c-414c-a7b0-b97c2a78a4c4",
   "metadata": {},
   "outputs": [],
   "source": [
    "from dissipationtheory.dissipation9b import CantileverModelJit, SampleModel1Jit, SampleModel2Jit, SampleModel3Jit, SampleModel4Jit\n",
    "from dissipationtheory.dissipation9b import integrand1jit, integrand2jit, integrand3jit, K_jit, Kunits_jit, Kmetal_jit, Kmetalunits_jit"
   ]
  },
  {
   "cell_type": "markdown",
   "id": "fb6c3a19-6ff1-4a58-9899-c9a0cfa2566d",
   "metadata": {},
   "source": [
    "# Cantilever"
   ]
  },
  {
   "cell_type": "code",
   "execution_count": 5,
   "id": "db4c21cc-3194-4ec6-aa90-921f404aea66",
   "metadata": {},
   "outputs": [],
   "source": [
    "cantilever = CantileverModel(\n",
    "    f_c = ureg.Quantity(62, 'kHz'),\n",
    "    k_c = ureg.Quantity(2.8, 'N/m'), \n",
    "    V_ts = ureg.Quantity(1, 'V'), \n",
    "    R = ureg.Quantity(55, 'nm'),\n",
    "    angle = ureg.Quantity(20, 'degree'),\n",
    "    L = ureg.Quantity(1000, 'nm')\n",
    ")"
   ]
  },
  {
   "cell_type": "code",
   "execution_count": 6,
   "id": "3869dadb-abf1-4596-a43d-91879adf6754",
   "metadata": {},
   "outputs": [],
   "source": [
    "cantilever_jit = CantileverModelJit(**cantilever.args())"
   ]
  },
  {
   "cell_type": "markdown",
   "id": "1ec6feb2-e985-417a-8496-51c0def9a71a",
   "metadata": {},
   "source": [
    "# Common parameters\n",
    "\n",
    "Now unitless, to be fed to `jit` compiled functions. It is *very important* that the numpy array data be of type `float64` and not `int`."
   ]
  },
  {
   "cell_type": "code",
   "execution_count": 7,
   "id": "18b4dd6f-aa69-4ec7-9875-1d73829196e4",
   "metadata": {},
   "outputs": [],
   "source": [
    "omega = 1e5\n",
    "\n",
    "loc1 = 1e-9 * np.array([ 10, 20, 50], dtype=np.float64)\n",
    "loc2 = 1e-9 * np.array([ 0,   0, 50], dtype=np.float64)\n",
    "\n",
    "omega_u = ureg.Quantity(1e5, 'Hz')\n",
    "\n",
    "loc1_u = ureg.Quantity(np.array([ 10, 20, 50]), 'nm')\n",
    "loc2_u = ureg.Quantity(np.array([ 0,   0, 50]), 'nm')"
   ]
  },
  {
   "cell_type": "markdown",
   "id": "e7fdb455-7635-4871-933a-65e7a1e1571d",
   "metadata": {},
   "source": [
    "# Debugging `jit` compilation"
   ]
  },
  {
   "cell_type": "code",
   "execution_count": 8,
   "id": "18812b79-baf5-4ed9-ad33-eb7ca209007f",
   "metadata": {},
   "outputs": [],
   "source": [
    "sample1 = SampleModel1(\n",
    "    cantilever = cantilever,\n",
    "    h_s = ureg.Quantity(100, 'nm'),\n",
    "    epsilon_s = ureg.Quantity(complex(20, 0), ''),\n",
    "    sigma = ureg.Quantity(1e-7, 'S/m'),\n",
    "    rho = ureg.Quantity(1e21, '1/m^3'),\n",
    "    epsilon_d = ureg.Quantity(complex(1e6, 0), ''),\n",
    "    z_r = ureg.Quantity(100, 'nm')\n",
    ")"
   ]
  },
  {
   "cell_type": "code",
   "execution_count": 9,
   "id": "9dcd7086-c748-4b0a-b86b-fe0a06065df4",
   "metadata": {},
   "outputs": [
    {
     "data": {
      "text/plain": [
       "{'cantilever': <numba.experimental.jitclass.boxing.CantileverModelJit at 0x11ba1b070>,\n",
       " 'h_s': 1.0000000000000001e-07,\n",
       " 'epsilon_s': (20+0j),\n",
       " 'sigma': 1e-07,\n",
       " 'rho': 1e+21,\n",
       " 'epsilon_d': (1000000+0j),\n",
       " 'z_r': 1.0000000000000001e-07}"
      ]
     },
     "execution_count": 9,
     "metadata": {},
     "output_type": "execute_result"
    }
   ],
   "source": [
    "sample1.args()"
   ]
  },
  {
   "cell_type": "code",
   "execution_count": 10,
   "id": "319974ef-de80-43f0-b2d8-92bf03708054",
   "metadata": {},
   "outputs": [],
   "source": [
    "sample1_jit = SampleModel1Jit(**sample1.args())"
   ]
  },
  {
   "cell_type": "code",
   "execution_count": 11,
   "id": "9072e638-95d5-4dc4-8bb7-fb3a6eff3db3",
   "metadata": {},
   "outputs": [],
   "source": [
    "from numba import jit\n",
    "from numba import float64"
   ]
  },
  {
   "cell_type": "code",
   "execution_count": 12,
   "id": "23f74c48-6022-4885-86cf-fb95c1e5eb58",
   "metadata": {},
   "outputs": [],
   "source": [
    "@jit(float64(SampleModel1Jit.class_type.instance_type), nopython=True)\n",
    "\n",
    "def testme(sample1_jit):\n",
    "    return sample1_jit.kD"
   ]
  },
  {
   "cell_type": "code",
   "execution_count": 13,
   "id": "a2387800-d562-4e02-b2cd-8fe04f0a956c",
   "metadata": {},
   "outputs": [
    {
     "data": {
      "text/plain": [
       "26456583.416667342"
      ]
     },
     "execution_count": 13,
     "metadata": {},
     "output_type": "execute_result"
    }
   ],
   "source": [
    "testme(sample1_jit)"
   ]
  },
  {
   "cell_type": "code",
   "execution_count": 14,
   "id": "bf7d1744-88bc-489a-94af-96cac871a96f",
   "metadata": {},
   "outputs": [],
   "source": [
    "import numba.types as nb_types"
   ]
  },
  {
   "cell_type": "code",
   "execution_count": 15,
   "id": "6f85e7b2-2fd5-4de8-9bd3-7410558e1350",
   "metadata": {},
   "outputs": [],
   "source": [
    "@jit(float64(float64, SampleModel1Jit.class_type.instance_type), nopython=True)\n",
    "\n",
    "def testme(y, sample):\n",
    "\n",
    "    return y * sample.type"
   ]
  },
  {
   "cell_type": "code",
   "execution_count": 16,
   "id": "021af5d8-a237-44cb-8078-c3220c1e6f16",
   "metadata": {},
   "outputs": [
    {
     "data": {
      "text/plain": [
       "[1.0, 2.0, 3.0]"
      ]
     },
     "execution_count": 16,
     "metadata": {},
     "output_type": "execute_result"
    }
   ],
   "source": [
    "[testme(y, sample1_jit) for y in [1, 2, 3]]"
   ]
  },
  {
   "cell_type": "code",
   "execution_count": 17,
   "id": "447420b8-ba77-4e1c-aac9-190dc9b58325",
   "metadata": {},
   "outputs": [],
   "source": [
    "@jit(float64(float64, SampleModel1Jit.class_type.instance_type, float64), nopython=True)\n",
    "\n",
    "def testme(y, sample, omega):\n",
    "\n",
    "    return y * sample.type * omega"
   ]
  },
  {
   "cell_type": "code",
   "execution_count": 18,
   "id": "376d90bf-9a89-46bd-ac36-601a939924a1",
   "metadata": {},
   "outputs": [
    {
     "data": {
      "text/plain": [
       "[2.0, 4.0, 6.0]"
      ]
     },
     "execution_count": 18,
     "metadata": {},
     "output_type": "execute_result"
    }
   ],
   "source": [
    "[testme(y, sample1_jit, 2) for y in [1, 2, 3]]"
   ]
  },
  {
   "cell_type": "code",
   "execution_count": 19,
   "id": "ed290941-8c35-4597-8a23-78225cb17756",
   "metadata": {},
   "outputs": [],
   "source": [
    "@jit(float64(float64[:]), nopython=True)\n",
    "\n",
    "def testme(location):\n",
    "\n",
    "    return location[0] * location[1]"
   ]
  },
  {
   "cell_type": "markdown",
   "id": "4b60e634-dcb9-47c5-b9db-4684d968dd84",
   "metadata": {},
   "source": [
    "This succeeds:"
   ]
  },
  {
   "cell_type": "code",
   "execution_count": 20,
   "id": "56ba1930-8d65-46fe-95d9-3c370bb8e378",
   "metadata": {},
   "outputs": [
    {
     "data": {
      "text/plain": [
       "12.0"
      ]
     },
     "execution_count": 20,
     "metadata": {},
     "output_type": "execute_result"
    }
   ],
   "source": [
    "testme(np.array([3., 4., 5.]))"
   ]
  },
  {
   "cell_type": "markdown",
   "id": "1eeca3e4-4c45-46ec-87a7-6420706c8999",
   "metadata": {},
   "source": [
    "This will fail with the error \n",
    "\n",
    "    TypeError: No matching definition for argument type(s) array(int64, 1d, C)\n",
    "\n",
    "because the array being passed to the function is an array of *integers* and not *floats*."
   ]
  },
  {
   "cell_type": "code",
   "execution_count": 21,
   "id": "24a75904-26e4-49c1-8244-ea706b5da638",
   "metadata": {},
   "outputs": [],
   "source": [
    "if 0:\n",
    "    testme(np.array([3, 4, 5]))"
   ]
  },
  {
   "cell_type": "markdown",
   "id": "ca3573aa-7713-4955-a54c-80368109a6bb",
   "metadata": {},
   "source": [
    "# Type I sample"
   ]
  },
  {
   "cell_type": "code",
   "execution_count": 22,
   "id": "762ed1ee-e595-41a2-ab08-682ba2081227",
   "metadata": {},
   "outputs": [],
   "source": [
    "sample1 = SampleModel1(\n",
    "    cantilever = cantilever,\n",
    "    h_s = ureg.Quantity(100, 'nm'),\n",
    "    epsilon_s = ureg.Quantity(complex(20, 0), ''),\n",
    "    sigma = ureg.Quantity(1e-7, 'S/m'),\n",
    "    rho = ureg.Quantity(1e21, '1/m^3'),\n",
    "    epsilon_d = ureg.Quantity(complex(1e6, 0), ''),\n",
    "    z_r = ureg.Quantity(100, 'nm')\n",
    ")"
   ]
  },
  {
   "cell_type": "code",
   "execution_count": 23,
   "id": "34500302-f8f8-4872-b6bb-aacfc73e6f6e",
   "metadata": {},
   "outputs": [],
   "source": [
    "sample1_jit = SampleModel1Jit(**sample1.args())"
   ]
  },
  {
   "cell_type": "code",
   "execution_count": 24,
   "id": "f6980124-95c0-43d5-a55b-6a81de9eb04e",
   "metadata": {},
   "outputs": [
    {
     "data": {
      "text/plain": [
       "array([ 2.20213431e-01, -9.09429597e-05,  3.08298804e-01, -1.27320144e-04,\n",
       "        4.31618325e-01, -1.78248201e-04])"
      ]
     },
     "execution_count": 24,
     "metadata": {},
     "output_type": "execute_result"
    }
   ],
   "source": [
    "integrand1jit(1.4, sample1_jit, omega, loc1, loc2)"
   ]
  },
  {
   "cell_type": "code",
   "execution_count": 25,
   "id": "6fbce6dd-e02e-4c35-895d-26954000f42a",
   "metadata": {},
   "outputs": [
    {
     "data": {
      "text/plain": [
       "True"
      ]
     },
     "execution_count": 25,
     "metadata": {},
     "output_type": "execute_result"
    }
   ],
   "source": [
    "np.allclose(\n",
    "    integrand1jit(1.4, sample1_jit, omega, loc1, loc2),\n",
    "    integrand1(1.4, sample1, omega_u, loc1_u, loc2_u))"
   ]
  },
  {
   "cell_type": "code",
   "execution_count": 26,
   "id": "98b5e57f-f034-4ff5-8a6b-396354fa9cca",
   "metadata": {},
   "outputs": [
    {
     "data": {
      "text/plain": [
       "array([0.92308803-0.00023051j, 0.85642218-0.0003009j ,\n",
       "       1.57311203-0.00058176j])"
      ]
     },
     "execution_count": 26,
     "metadata": {},
     "output_type": "execute_result"
    }
   ],
   "source": [
    "params1_jit = {'integrand': integrand1jit, 'sample': sample1_jit, 'omega': omega, 'location1': loc1, 'location2': loc2}\n",
    "K_jit(**params1_jit)"
   ]
  },
  {
   "cell_type": "code",
   "execution_count": 27,
   "id": "63681def-816a-4079-b1fd-1b2411953574",
   "metadata": {},
   "outputs": [
    {
     "data": {
      "text/plain": [
       "array([0.92308803-0.00023051j, 0.85642218-0.0003009j ,\n",
       "       1.57311203-0.00058176j])"
      ]
     },
     "execution_count": 27,
     "metadata": {},
     "output_type": "execute_result"
    }
   ],
   "source": [
    "params1 = {'integrand': integrand1, 'sample': sample1, 'omega': omega_u, 'location1': loc1_u, 'location2': loc2_u}\n",
    "K(**params1)"
   ]
  },
  {
   "cell_type": "code",
   "execution_count": 28,
   "id": "3fc58061-53a6-4faf-a4a5-0850d7d8faf6",
   "metadata": {},
   "outputs": [
    {
     "data": {
      "text/plain": [
       "True"
      ]
     },
     "execution_count": 28,
     "metadata": {},
     "output_type": "execute_result"
    }
   ],
   "source": [
    "np.allclose(K_jit(**params1_jit), K(**params1))"
   ]
  },
  {
   "cell_type": "code",
   "execution_count": 29,
   "id": "5c2cb5cf-f68c-425b-a859-1b65fba1d3f2",
   "metadata": {},
   "outputs": [
    {
     "data": {
      "text/plain": [
       "(<Quantity((0.009230880287373287-2.3050839017765616e-06j), '1 / nanometer')>,\n",
       " <Quantity((8.564221806744136e-05-3.008996480189857e-08j), '1 / nanometer ** 2')>,\n",
       " <Quantity((1.5731120310679616e-06-5.817587342422956e-10j), '1 / nanometer ** 3')>)"
      ]
     },
     "execution_count": 29,
     "metadata": {},
     "output_type": "execute_result"
    }
   ],
   "source": [
    "Kunits_jit(**params1_jit)"
   ]
  },
  {
   "cell_type": "code",
   "execution_count": 30,
   "id": "4cf35f35-6da3-45e5-a613-f0cc3d57fbe2",
   "metadata": {},
   "outputs": [
    {
     "data": {
      "text/plain": [
       "(<Quantity((0.009230880287373287-2.3050839017765616e-06j), '1 / nanometer')>,\n",
       " <Quantity((8.564221806744135e-05-3.008996480189856e-08j), '1 / nanometer ** 2')>,\n",
       " <Quantity((1.5731120310679616e-06-5.817587342422955e-10j), '1 / nanometer ** 3')>)"
      ]
     },
     "execution_count": 30,
     "metadata": {},
     "output_type": "execute_result"
    }
   ],
   "source": [
    "Kunits(**params1)"
   ]
  },
  {
   "cell_type": "markdown",
   "id": "6a449d2d-0dd6-4539-8822-f9a978343b1d",
   "metadata": {},
   "source": [
    "How to compare these two?  Make a wrapper function that strips the units."
   ]
  },
  {
   "cell_type": "code",
   "execution_count": 31,
   "id": "51735f1b-d534-4379-808c-a1b60e3b9345",
   "metadata": {},
   "outputs": [],
   "source": [
    "def stripKunits(Kn_tuple):\n",
    "    units = ('1/nm','1/nm**2','1/nm**3')\n",
    "    return(np.array([Kn.to(unit).magnitude for Kn, unit in zip(Kn_tuple, units)]))"
   ]
  },
  {
   "cell_type": "code",
   "execution_count": 32,
   "id": "a44c69b4-a8c0-4957-a4be-727b1e0c84f2",
   "metadata": {},
   "outputs": [
    {
     "data": {
      "text/plain": [
       "array([9.23088029e-03-2.30508390e-06j, 8.56422181e-05-3.00899648e-08j,\n",
       "       1.57311203e-06-5.81758734e-10j])"
      ]
     },
     "execution_count": 32,
     "metadata": {},
     "output_type": "execute_result"
    }
   ],
   "source": [
    "stripKunits(Kunits(**params1))"
   ]
  },
  {
   "cell_type": "markdown",
   "id": "995a7dcb-db56-4276-a20a-133f980f9a8a",
   "metadata": {},
   "source": [
    "The function `K_jit` is 60 to 100 times faster than the uncompiled `K` function for a Type I sample."
   ]
  },
  {
   "cell_type": "code",
   "execution_count": 65,
   "id": "db9d9d6d-587f-45ee-b2a8-e8872cedf0d5",
   "metadata": {},
   "outputs": [
    {
     "name": "stdout",
     "output_type": "stream",
     "text": [
      "6.92 ms ± 3.32 ms per loop (mean ± std. dev. of 7 runs, 100 loops each)\n"
     ]
    }
   ],
   "source": [
    "%%timeit\n",
    "K_jit(**params1_jit)"
   ]
  },
  {
   "cell_type": "markdown",
   "id": "e99e2beb-234a-407e-8d00-2958bb43cddc",
   "metadata": {},
   "source": [
    "The `Kunits_jit` function is slightly slower than the `K_jit` function. \\\n",
    "Does units to the function slow you down?"
   ]
  },
  {
   "cell_type": "code",
   "execution_count": 66,
   "id": "f2a9e624-a931-484a-9fda-7a9dcbe0b13a",
   "metadata": {},
   "outputs": [
    {
     "name": "stdout",
     "output_type": "stream",
     "text": [
      "7.01 ms ± 1.41 ms per loop (mean ± std. dev. of 7 runs, 100 loops each)\n"
     ]
    }
   ],
   "source": [
    "%%timeit\n",
    "Kunits_jit(**params1_jit)"
   ]
  },
  {
   "cell_type": "markdown",
   "id": "645a2649-2175-49c5-917f-9500dc0fef34",
   "metadata": {},
   "source": [
    "# Type II sample"
   ]
  },
  {
   "cell_type": "code",
   "execution_count": 35,
   "id": "d6429227-366b-432b-a9ac-e12731821453",
   "metadata": {},
   "outputs": [],
   "source": [
    "sample2 = SampleModel2(\n",
    "    cantilever = cantilever,\n",
    "    epsilon_d = ureg.Quantity(complex(3, 0), ''),\n",
    "    h_d = ureg.Quantity(20, 'nm'),\n",
    "    epsilon_s = ureg.Quantity(complex(20, 0), ''),\n",
    "    sigma = ureg.Quantity(1e-7, 'S/m'),\n",
    "    rho = ureg.Quantity(1e21, '1/m^3'),\n",
    "    z_r = ureg.Quantity(100, 'nm')\n",
    ")"
   ]
  },
  {
   "cell_type": "code",
   "execution_count": 36,
   "id": "72a178c7-5c00-42c3-8952-b24ae44dd724",
   "metadata": {},
   "outputs": [],
   "source": [
    "sample2_jit = SampleModel2Jit(**sample2.args())"
   ]
  },
  {
   "cell_type": "code",
   "execution_count": 37,
   "id": "8287d96e-b800-493b-bbb2-9b5429f566d2",
   "metadata": {},
   "outputs": [
    {
     "data": {
      "text/plain": [
       "array([0.7921492 -0.0003819j , 0.68749971-0.0002725j ,\n",
       "       1.18185061-0.00037396j])"
      ]
     },
     "execution_count": 37,
     "metadata": {},
     "output_type": "execute_result"
    }
   ],
   "source": [
    "params2_jit = {'integrand': integrand2jit, 'sample': sample2_jit, 'omega': omega, 'location1': loc1, 'location2': loc2}\n",
    "K_jit(**params2_jit)"
   ]
  },
  {
   "cell_type": "code",
   "execution_count": 38,
   "id": "f063025a-31fa-494c-9f53-55e59a88431d",
   "metadata": {},
   "outputs": [
    {
     "data": {
      "text/plain": [
       "array([0.7921492 -0.0003819j , 0.68749971-0.0002725j ,\n",
       "       1.18185061-0.00037396j])"
      ]
     },
     "execution_count": 38,
     "metadata": {},
     "output_type": "execute_result"
    }
   ],
   "source": [
    "params2 = {'integrand': integrand2, 'sample': sample2, 'omega': omega_u, 'location1': loc1_u, 'location2': loc2_u}\n",
    "K(**params2)"
   ]
  },
  {
   "cell_type": "markdown",
   "id": "155bcd1f-55b7-47d6-b671-10d014eacc38",
   "metadata": {},
   "source": [
    "The compiled `K_jit` function is about 100 faster with a Type II sample."
   ]
  },
  {
   "cell_type": "code",
   "execution_count": 62,
   "id": "7617655f-1791-4ef7-8c48-8eeaf07b9f0d",
   "metadata": {},
   "outputs": [
    {
     "name": "stdout",
     "output_type": "stream",
     "text": [
      "4 ms ± 1.28 ms per loop (mean ± std. dev. of 7 runs, 100 loops each)\n"
     ]
    }
   ],
   "source": [
    "%%timeit\n",
    "K_jit(**params2_jit)"
   ]
  },
  {
   "cell_type": "code",
   "execution_count": 63,
   "id": "77da3d4a-b4b4-4c1a-a881-160e6f914317",
   "metadata": {},
   "outputs": [
    {
     "name": "stdout",
     "output_type": "stream",
     "text": [
      "327 ms ± 56.5 ms per loop (mean ± std. dev. of 7 runs, 1 loop each)\n"
     ]
    }
   ],
   "source": [
    "%%timeit\n",
    "K(**params2)"
   ]
  },
  {
   "cell_type": "markdown",
   "id": "54830352-50db-4913-b5d5-8b0da2cc5a44",
   "metadata": {},
   "source": [
    "# Type III sample"
   ]
  },
  {
   "cell_type": "code",
   "execution_count": 39,
   "id": "6f6f8fca-4572-4b71-abaa-86c4b263ea0c",
   "metadata": {},
   "outputs": [],
   "source": [
    "sample3 = SampleModel3(\n",
    "    cantilever = cantilever,\n",
    "    epsilon_s = ureg.Quantity(complex(20, 0), ''),\n",
    "    sigma = ureg.Quantity(1e-7, 'S/m'),\n",
    "    rho = ureg.Quantity(1e21, '1/m^3'),\n",
    "    z_r = ureg.Quantity(100, 'nm')\n",
    ")"
   ]
  },
  {
   "cell_type": "code",
   "execution_count": 40,
   "id": "9282b6bc-2bfb-4d18-83eb-fb96f1ea61e5",
   "metadata": {},
   "outputs": [],
   "source": [
    "sample3_jit = SampleModel3Jit(**sample3.args())"
   ]
  },
  {
   "cell_type": "code",
   "execution_count": 41,
   "id": "e8f37733-5388-49e9-9420-01b57069af16",
   "metadata": {},
   "outputs": [
    {
     "data": {
      "text/plain": [
       "array([0.88300038-0.00045539j, 0.84098605-0.00039175j,\n",
       "       1.56188177-0.00065121j])"
      ]
     },
     "execution_count": 41,
     "metadata": {},
     "output_type": "execute_result"
    }
   ],
   "source": [
    "params3_jit = {'integrand': integrand3jit, 'sample': sample3_jit, 'omega': omega, 'location1': loc1, 'location2': loc2}\n",
    "K_jit(**params3_jit)"
   ]
  },
  {
   "cell_type": "code",
   "execution_count": 42,
   "id": "404f0bbb-1ae7-4916-8aa6-4d32b57d1a84",
   "metadata": {},
   "outputs": [
    {
     "data": {
      "text/plain": [
       "array([0.88300038-0.00045539j, 0.84098605-0.00039175j,\n",
       "       1.56188177-0.00065121j])"
      ]
     },
     "execution_count": 42,
     "metadata": {},
     "output_type": "execute_result"
    }
   ],
   "source": [
    "params3 = {'integrand': integrand3, 'sample': sample3, 'omega': omega_u, 'location1': loc1_u, 'location2': loc2_u}\n",
    "K(**params3)"
   ]
  },
  {
   "cell_type": "markdown",
   "id": "aaa18da2-ee03-4d7f-969e-ad800d9a49ef",
   "metadata": {},
   "source": [
    "The compiled `K_jit` function is about 100 faster with a Type III sample."
   ]
  },
  {
   "cell_type": "code",
   "execution_count": 59,
   "id": "53193bdf-92fb-493c-9484-e9ea22e3186c",
   "metadata": {},
   "outputs": [
    {
     "name": "stdout",
     "output_type": "stream",
     "text": [
      "3.7 ms ± 377 μs per loop (mean ± std. dev. of 7 runs, 100 loops each)\n"
     ]
    }
   ],
   "source": [
    "%%timeit\n",
    "K_jit(**params3_jit)"
   ]
  },
  {
   "cell_type": "code",
   "execution_count": 60,
   "id": "73bbfecf-a09c-4354-93c2-63737d92bdc3",
   "metadata": {},
   "outputs": [
    {
     "name": "stdout",
     "output_type": "stream",
     "text": [
      "438 ms ± 137 ms per loop (mean ± std. dev. of 7 runs, 1 loop each)\n"
     ]
    }
   ],
   "source": [
    "%%timeit\n",
    "K(**params3)"
   ]
  },
  {
   "cell_type": "markdown",
   "id": "11218329-3211-422e-9f5f-b1e2d25c9bb6",
   "metadata": {},
   "source": [
    "# Type IV sample"
   ]
  },
  {
   "cell_type": "code",
   "execution_count": 43,
   "id": "163a3b9a-7f1b-4565-9647-34ccdd0d330d",
   "metadata": {},
   "outputs": [],
   "source": [
    "sample4 = SampleModel4(\n",
    "    cantilever = cantilever,\n",
    "    z_r = ureg.Quantity(100, 'nm')\n",
    ")"
   ]
  },
  {
   "cell_type": "code",
   "execution_count": 44,
   "id": "049f24c0-8a8b-46da-ab40-c861c3706761",
   "metadata": {},
   "outputs": [],
   "source": [
    "sample4_jit = SampleModel4Jit(**sample4.args())"
   ]
  },
  {
   "cell_type": "code",
   "execution_count": 45,
   "id": "1a9d0834-2209-4878-b2c4-56bffa069c70",
   "metadata": {},
   "outputs": [
    {
     "data": {
      "text/plain": [
       "((0.9759000729485332-0j), (0.929428640903365+0j), (1.7260817616776778-0j))"
      ]
     },
     "execution_count": 45,
     "metadata": {},
     "output_type": "execute_result"
    }
   ],
   "source": [
    "params4_jit = {'sample': sample4_jit, 'location1': loc1, 'location2': loc2}\n",
    "Kmetal_jit(**params4_jit)"
   ]
  },
  {
   "cell_type": "code",
   "execution_count": 46,
   "id": "c65d8d3e-0b94-4104-b4df-ab2be6c4a1bb",
   "metadata": {},
   "outputs": [
    {
     "data": {
      "text/plain": [
       "((0.9759000729485332-0j), (0.929428640903365+0j), (1.7260817616776778-0j))"
      ]
     },
     "execution_count": 46,
     "metadata": {},
     "output_type": "execute_result"
    }
   ],
   "source": [
    "params4 = {'sample': sample4, 'location1': loc1_u, 'location2': loc2_u}\n",
    "Kmetal(**params4)"
   ]
  },
  {
   "cell_type": "code",
   "execution_count": 47,
   "id": "64d25f37-c6f6-45b1-96e1-34b282f9a3e8",
   "metadata": {},
   "outputs": [
    {
     "data": {
      "text/plain": [
       "(<Quantity((0.009759000729485332-0j), '1 / nanometer')>,\n",
       " <Quantity((9.294286409033649e-05+0j), '1 / nanometer ** 2')>,\n",
       " <Quantity((1.7260817616776777e-06-0j), '1 / nanometer ** 3')>)"
      ]
     },
     "execution_count": 47,
     "metadata": {},
     "output_type": "execute_result"
    }
   ],
   "source": [
    "Kmetalunits(**params4)"
   ]
  },
  {
   "cell_type": "code",
   "execution_count": 48,
   "id": "460cc3ee-d2a5-4add-b0b8-c75d602c8800",
   "metadata": {},
   "outputs": [
    {
     "data": {
      "text/plain": [
       "(<Quantity((0.009759000729485332+0j), '1 / nanometer')>,\n",
       " <Quantity((9.294286409033649e-05+0j), '1 / nanometer ** 2')>,\n",
       " <Quantity((1.7260817616776777e-06+0j), '1 / nanometer ** 3')>)"
      ]
     },
     "execution_count": 48,
     "metadata": {},
     "output_type": "execute_result"
    }
   ],
   "source": [
    "Kmetalunits_jit(**params4_jit)"
   ]
  },
  {
   "cell_type": "markdown",
   "id": "4d6c09c2-eab5-4fb7-8661-6a789593d5ce",
   "metadata": {},
   "source": [
    "The compiled function `Kmetal_jit` is **pleasingly fast**, 3.2 microseconds. \\\n",
    "The compiled function `Kmetal_jit` is about 85 times faster than the Python function `Kmetal`."
   ]
  },
  {
   "cell_type": "code",
   "execution_count": 49,
   "id": "aa38a2c4-1b6a-454c-b814-ae9caba2070f",
   "metadata": {},
   "outputs": [
    {
     "name": "stdout",
     "output_type": "stream",
     "text": [
      "2.31 μs ± 122 ns per loop (mean ± std. dev. of 7 runs, 100,000 loops each)\n"
     ]
    }
   ],
   "source": [
    "%%timeit\n",
    "Kmetal_jit(**params4_jit)"
   ]
  },
  {
   "cell_type": "code",
   "execution_count": 50,
   "id": "106ffd90-c16d-4e35-ab64-0eac609d243e",
   "metadata": {},
   "outputs": [
    {
     "name": "stdout",
     "output_type": "stream",
     "text": [
      "271 μs ± 63.9 μs per loop (mean ± std. dev. of 7 runs, 10,000 loops each)\n"
     ]
    }
   ],
   "source": [
    "%%timeit\n",
    "Kmetal(**params4)"
   ]
  },
  {
   "cell_type": "markdown",
   "id": "8cc4bc52-4e8b-45e8-8fa2-9630d83f5f53",
   "metadata": {},
   "source": [
    "We see below that the function `Kmetalunits_jit` is **shockingly slow**, taking approximately 900 microseconds. \\\n",
    "The `Kmetal_jit` function takes just 2 to 3 microseconds, 100's of times faster.  \n",
    "\n",
    "Why? The function `Kmetalunits_jit` is\n",
    "\n",
    "    K0, K1, K2 = Kmetal_jit(sample, location1, location2)\n",
    "    zr_u = ureg.Quantity(sample.z_r, 'm')\n",
    "    K0u, K1u, K2u = K0/zr_u**1, K1/zr_u**2, K2/zr_u**3\n",
    "\n",
    "In other words, add some units, and the function run time balloons to nearly 1 millisecond! \\\n",
    "**Lesson: Avoid computations with units; they are terribly slow.**"
   ]
  },
  {
   "cell_type": "code",
   "execution_count": 57,
   "id": "01909086-71c1-4f14-b244-9f3695640a79",
   "metadata": {},
   "outputs": [
    {
     "name": "stdout",
     "output_type": "stream",
     "text": [
      "The slowest run took 4.26 times longer than the fastest. This could mean that an intermediate result is being cached.\n",
      "1.05 ms ± 615 μs per loop (mean ± std. dev. of 7 runs, 100 loops each)\n"
     ]
    }
   ],
   "source": [
    "%%timeit\n",
    "Kmetalunits_jit(**params4_jit)"
   ]
  },
  {
   "cell_type": "code",
   "execution_count": 58,
   "id": "2001edb7-96d2-403e-ac5b-2e559a2f65f4",
   "metadata": {},
   "outputs": [
    {
     "name": "stdout",
     "output_type": "stream",
     "text": [
      "1.87 ms ± 482 μs per loop (mean ± std. dev. of 7 runs, 1,000 loops each)\n"
     ]
    }
   ],
   "source": [
    "%%timeit\n",
    "Kmetalunits(**params4)"
   ]
  },
  {
   "cell_type": "markdown",
   "id": "5a24ab21-508b-4708-ad92-690296815f80",
   "metadata": {},
   "source": [
    "# Thoughts\n",
    "\n",
    "-  \"The wrong way to speed up your code with Numba\", Itamar Turner-Trauring, 2024-03-21 ([link](https://pythonspeed.com/articles/slow-numba/)).  Lesson: Programming with loops can actually be fast with numba, which is counter-intuitive.\n"
   ]
  },
  {
   "cell_type": "markdown",
   "id": "f593a6ad-721b-4b6a-9be3-fc84e988fd82",
   "metadata": {},
   "source": [
    "::: {.content-hidden when-format=\"html\"}\n",
    "\n",
    "# Formatting notes\n",
    "\n",
    "The header at the top of this file is for creating a nicely-formatted `.html` document using the program `quarto` ([link](https://quarto.org/)).  To create nicely-formated `.html`versions of this notebook, run `quarto` from the command line as follows\n",
    "\n",
    "    quarto render dissipation-theory--Study-52.ipynb && open dissipation-theory--Study-52.html\n",
    "    \n",
    ":::"
   ]
  },
  {
   "cell_type": "code",
   "execution_count": null,
   "id": "f4bb7183-0ae1-44ca-8b0f-5075f01f01d0",
   "metadata": {},
   "outputs": [],
   "source": []
  }
 ],
 "metadata": {
  "kernelspec": {
   "display_name": "dissipationtheory",
   "language": "python",
   "name": "dissipationtheory"
  },
  "language_info": {
   "codemirror_mode": {
    "name": "ipython",
    "version": 3
   },
   "file_extension": ".py",
   "mimetype": "text/x-python",
   "name": "python",
   "nbconvert_exporter": "python",
   "pygments_lexer": "ipython3",
   "version": "3.10.2"
  }
 },
 "nbformat": 4,
 "nbformat_minor": 5
}
