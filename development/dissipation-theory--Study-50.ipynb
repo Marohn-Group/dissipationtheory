{
 "cells": [
  {
   "cell_type": "raw",
   "id": "808d16c5-ab7c-4d1c-81f8-c9033e9499b9",
   "metadata": {},
   "source": [
    "---\n",
    "title: Run finite-tip simulations\n",
    "author: \"John A. Marohn\"\n",
    "date: today\n",
    "abstract: Test drive the code in `dissipationtheory8c.py`, comparing the frequency shift measured over gold to that computed using (1) a sphere and (2) a sphere-plus-cone, both over a Type I \"metallic\" sample.  Both models predict the size of the frequency shift at small tip-sample separation $h$ with a reasonable tipe radius and essentially no other free parameters.  Model 2 does a better job than Model 1 at predicting the frequency shift at large $h$.  These computations are painfully slow.  This is because I am modeling the gold substrate as a Type I sample, essentially a high-conductivity semiconductor, and the associated response function is very complicated and slow to integrate.  In Study 37 I implimented a sphere-plus-cone frequency shift calculation using a metal response function, which is much faster to compute.  The Study 37 calculation was fast enough to enable least-squares fitting of the data to obtain a tip radius and cone angle (this took about a minute).  Below I perform code profiling, brainstorm ways to speed up data analysis, and explore vector integration.\n",
    "toc: true\n",
    "number-sections: true\n",
    "highlight-style: pygments\n",
    "embed-resources: true\n",
    "dpi: 300\n",
    "format:\n",
    "    html:\n",
    "        html-math-method:\n",
    "          method: mathjax\n",
    "          url: \"https://cdn.jsdelivr.net/npm/mathjax@3/es5/tex-mml-chtml.js\"\n",
    "        code-fold: true\n",
    "        code-tools: true\n",
    "jupyter: python3\n",
    "---"
   ]
  },
  {
   "cell_type": "markdown",
   "id": "fbc9f90b-c21b-494d-9357-7d52a1b9e36b",
   "metadata": {},
   "source": [
    "# Preliminaries"
   ]
  },
  {
   "cell_type": "code",
   "execution_count": 1,
   "id": "224245e6-a87b-4fbe-bd78-1387658d49d4",
   "metadata": {},
   "outputs": [],
   "source": [
    "import numpy as np\n",
    "import matplotlib.pylab as plt\n",
    "import pandas as pd"
   ]
  },
  {
   "cell_type": "code",
   "execution_count": 2,
   "id": "a1894d0f-17a2-4846-983e-0336d9ad6940",
   "metadata": {},
   "outputs": [],
   "source": [
    "THIS = 'dissipation-theory--Study-50--'\n",
    "figs = {}\n",
    "obj = {}\n",
    "df = {}"
   ]
  },
  {
   "cell_type": "code",
   "execution_count": 3,
   "id": "5fec61dd-9493-4278-b05b-f4a12254681c",
   "metadata": {},
   "outputs": [],
   "source": [
    "from dissipationtheory.constants import ureg, epsilon0, qe\n",
    "from dissipationtheory.dissipation8a import CantileverModel, SampleModel1, SampleModel2\n",
    "from dissipationtheory.dissipation8b import CantileverModelJit, SampleModel1Jit, SampleModel2Jit\n",
    "from dissipationtheory.dissipation8b import integrand1jit, integrand2jit\n",
    "from dissipationtheory.dissipation8c import twodimCobject"
   ]
  },
  {
   "cell_type": "code",
   "execution_count": 42,
   "id": "3228640a-963c-4175-a0da-33edc992d490",
   "metadata": {},
   "outputs": [],
   "source": [
    "import cProfile"
   ]
  },
  {
   "cell_type": "markdown",
   "id": "667be2ef-f20c-4c37-bcb8-3ad338652b21",
   "metadata": {},
   "source": [
    "# Frequency shift data\n",
    "\n",
    "Analyze data recorded by Virginia McGhee over gold on 08/11/2023.  This data was previously analyzed in Study 37.  The measured cantilever frequency was $62 \\: \\mathrm{kHz}$ and the manufacturer-specified spring constant was $2.8 \\: \\mathrm{N}/\\mathrm{m}$."
   ]
  },
  {
   "cell_type": "code",
   "execution_count": 4,
   "id": "ca3c852e-7008-4add-b088-1a47e67b3dc4",
   "metadata": {},
   "outputs": [],
   "source": [
    "filename = '20230811-ringdown-Gold_data_summary.csv'\n",
    "\n",
    "cols_list = \\\n",
    "['Distance from Surface [nm]', \n",
    " 'Curvature [Hz/V^2]',\n",
    " 'Curvature std [Hz/V^2]']\n",
    "\n",
    "data = pd.read_csv(filename, usecols=cols_list)"
   ]
  },
  {
   "cell_type": "code",
   "execution_count": 5,
   "id": "46daa55d-c6f1-4fd7-b83b-ac7a82825b6e",
   "metadata": {},
   "outputs": [],
   "source": [
    "rename_dict = \\\n",
    "    {'Distance from Surface [nm]': 'h [nm]',\n",
    "     'Curvature [Hz/V^2]': 'f2 [Hz/V^2]',\n",
    "     'Curvature std [Hz/V^2]': 'stdev f2 [Hz/V^2]'}\n",
    "\n",
    "data.rename(columns=rename_dict, inplace=True)"
   ]
  },
  {
   "cell_type": "code",
   "execution_count": 6,
   "id": "22bc57e9-8183-47f6-8330-5409ade23b53",
   "metadata": {},
   "outputs": [],
   "source": [
    "def plotdata(data):\n",
    "    \n",
    "    fig = plt.figure(figsize=(3.50, 3.00))\n",
    "    \n",
    "    plt.errorbar(\n",
    "        data['h [nm]'], \n",
    "        data['f2 [Hz/V^2]'],\n",
    "        yerr=data['stdev f2 [Hz/V^2]'],\n",
    "        fmt='.')\n",
    "\n",
    "    plt.xlabel('tip-sample separation $h$ [nm]')\n",
    "    plt.ylabel('$f_2$ [Hz/V$^2$]' )\n",
    "    plt.xscale('log')\n",
    "    plt.yscale('log')\n",
    "    \n",
    "    plt.tight_layout()\n",
    "\n",
    "    return fig"
   ]
  },
  {
   "cell_type": "code",
   "execution_count": 7,
   "id": "bb657975-bb6d-4634-a471-026c52a90d6c",
   "metadata": {},
   "outputs": [
    {
     "data": {
      "image/png": "[encoded data removed]",
      "text/plain": [
       "<Figure size 350x300 with 1 Axes>"
      ]
     },
     "metadata": {},
     "output_type": "display_data"
    }
   ],
   "source": [
    "figs['01'] = plotdata(data)"
   ]
  },
  {
   "cell_type": "markdown",
   "id": "708152da-1564-4bc3-8420-7c01fbed12ea",
   "metadata": {},
   "source": [
    "What range of heights was measured?"
   ]
  },
  {
   "cell_type": "code",
   "execution_count": 18,
   "id": "cfbf810a-4b6d-4ec2-b018-5a380bad7dce",
   "metadata": {},
   "outputs": [
    {
     "name": "stdout",
     "output_type": "stream",
     "text": [
      "(37.5, 409.5)\n"
     ]
    }
   ],
   "source": [
    "print((np.min(data['h [nm]']), \n",
    "       np.max(data['h [nm]'])))"
   ]
  },
  {
   "cell_type": "markdown",
   "id": "bbd16def-c4ec-4016-85ba-e954d73aa742",
   "metadata": {},
   "source": [
    "# Sphere over metal\n",
    "\n",
    "Assume a $R = 55 \\: \\mathrm{nm}$ tip, chosen by (not exhaustive) trial-and-error to roughly match the measured frequency shift at the point of closest approach."
   ]
  },
  {
   "cell_type": "code",
   "execution_count": 284,
   "id": "529a2fba-7bf5-4c44-8dfe-e234c198ca2b",
   "metadata": {},
   "outputs": [],
   "source": [
    "cantilever = CantileverModel(\n",
    "    f_c = ureg.Quantity(62, 'kHz'),\n",
    "    k_c = ureg.Quantity(2.8, 'N/m'), \n",
    "    V_ts = ureg.Quantity(1, 'V'), \n",
    "    R = ureg.Quantity(55, 'nm'),\n",
    "    angle = ureg.Quantity(20, 'degree'),\n",
    "    L = ureg.Quantity(1000, 'nm'), \n",
    "    d = ureg.Quantity(38, 'nm') # this parameter is ignored\n",
    ")\n",
    "\n",
    "sample1_metal = SampleModel1(\n",
    "    cantilever = cantilever,\n",
    "    h_s = ureg.Quantity(1e-6, 'nm'),  # not zero\n",
    "    epsilon_s = ureg.Quantity(complex(1, 0), ''),\n",
    "    sigma = ureg.Quantity(1e9, 'S/m'),\n",
    "    rho = ureg.Quantity(1e26, '1/m^3'),\n",
    "    epsilon_d = ureg.Quantity(complex(1e6, 0), ''),\n",
    "    z_r = ureg.Quantity(50, 'nm')\n",
    ")\n",
    "\n",
    "sample1_jit_metal = SampleModel1Jit(**sample1_metal.args())"
   ]
  },
  {
   "cell_type": "code",
   "execution_count": 285,
   "id": "8ee51f3a-cba9-4194-aae7-c91081471c2e",
   "metadata": {},
   "outputs": [],
   "source": [
    "h_array = ureg.Quantity(data['h [nm]'].values, 'nm')"
   ]
  },
  {
   "cell_type": "code",
   "execution_count": 286,
   "id": "e327456e-5115-4c06-96fa-28bb9a1ae312",
   "metadata": {},
   "outputs": [
    {
     "name": "stdout",
     "output_type": "stream",
     "text": [
      "[28] 0 1 2 3 4 5 6 7 8 9 10 11 12 13 14 15 16 17 18 19 20 21 22 23 24 25 26 27 "
     ]
    }
   ],
   "source": [
    "print(\"[{:d}]\".format(len(h_array)), end=' ')\n",
    "for index, h_ in enumerate(h_array): \n",
    "\n",
    "    obj['A'] = twodimCobject(sample1_jit_metal, integrand1jit)\n",
    "    \n",
    "    params = {'h': h_,\n",
    "              'N': 15, # image charges\n",
    "              'M': 30} # test points\n",
    "    \n",
    "    obj['A'].addsphere(**params)\n",
    "    obj['A'].properties()\n",
    "\n",
    "    results = {}\n",
    "    results['h [nm]'] = obj['A'].info['h [nm]']\n",
    "    results['calc f2 [Hz/V^2]'] = np.abs(obj['A'].results['Delta f [Hz]']/obj['A'].sample.cantilever.V_ts)\n",
    "    \n",
    "    if (index == 0):\n",
    "        df['A'] = pd.DataFrame.from_dict([results])\n",
    "    else:\n",
    "        dfplus = pd.DataFrame.from_dict([results])\n",
    "        df['A'] = pd.concat([df['A'], dfplus], ignore_index=True)   \n",
    "    \n",
    "    print(index,end=' ')"
   ]
  },
  {
   "cell_type": "markdown",
   "id": "ba372cc4-723c-4b20-972b-dfc74d15fce2",
   "metadata": {},
   "source": [
    "**This computation is painfully slow!**"
   ]
  },
  {
   "cell_type": "code",
   "execution_count": 287,
   "id": "4a5d0b08-b9de-4b26-9448-533090d05fa5",
   "metadata": {},
   "outputs": [
    {
     "data": {
      "text/html": [
       "<div>\n",
       "<style scoped>\n",
       "    .dataframe tbody tr th:only-of-type {\n",
       "        vertical-align: middle;\n",
       "    }\n",
       "\n",
       "    .dataframe tbody tr th {\n",
       "        vertical-align: top;\n",
       "    }\n",
       "\n",
       "    .dataframe thead th {\n",
       "        text-align: right;\n",
       "    }\n",
       "</style>\n",
       "<table border=\"1\" class=\"dataframe\">\n",
       "  <thead>\n",
       "    <tr style=\"text-align: right;\">\n",
       "      <th></th>\n",
       "      <th>h [nm]</th>\n",
       "      <th>calc f2 [Hz/V^2]</th>\n",
       "      <th>f2 [Hz/V^2]</th>\n",
       "    </tr>\n",
       "  </thead>\n",
       "  <tbody>\n",
       "    <tr>\n",
       "      <th>0</th>\n",
       "      <td>37.5</td>\n",
       "      <td>9.518633</td>\n",
       "      <td>12.548678</td>\n",
       "    </tr>\n",
       "    <tr>\n",
       "      <th>1</th>\n",
       "      <td>40.5</td>\n",
       "      <td>8.014522</td>\n",
       "      <td>9.644799</td>\n",
       "    </tr>\n",
       "    <tr>\n",
       "      <th>2</th>\n",
       "      <td>43.5</td>\n",
       "      <td>6.823989</td>\n",
       "      <td>7.194810</td>\n",
       "    </tr>\n",
       "    <tr>\n",
       "      <th>3</th>\n",
       "      <td>46.5</td>\n",
       "      <td>5.867057</td>\n",
       "      <td>7.497982</td>\n",
       "    </tr>\n",
       "    <tr>\n",
       "      <th>4</th>\n",
       "      <td>49.5</td>\n",
       "      <td>5.087530</td>\n",
       "      <td>5.519482</td>\n",
       "    </tr>\n",
       "    <tr>\n",
       "      <th>5</th>\n",
       "      <td>52.5</td>\n",
       "      <td>4.445009</td>\n",
       "      <td>5.582289</td>\n",
       "    </tr>\n",
       "    <tr>\n",
       "      <th>6</th>\n",
       "      <td>55.5</td>\n",
       "      <td>3.909872</td>\n",
       "      <td>4.565261</td>\n",
       "    </tr>\n",
       "    <tr>\n",
       "      <th>7</th>\n",
       "      <td>58.5</td>\n",
       "      <td>3.460014</td>\n",
       "      <td>4.433819</td>\n",
       "    </tr>\n",
       "    <tr>\n",
       "      <th>8</th>\n",
       "      <td>61.5</td>\n",
       "      <td>3.078679</td>\n",
       "      <td>3.801423</td>\n",
       "    </tr>\n",
       "    <tr>\n",
       "      <th>9</th>\n",
       "      <td>64.5</td>\n",
       "      <td>2.752987</td>\n",
       "      <td>3.871571</td>\n",
       "    </tr>\n",
       "    <tr>\n",
       "      <th>10</th>\n",
       "      <td>67.5</td>\n",
       "      <td>2.472912</td>\n",
       "      <td>3.047684</td>\n",
       "    </tr>\n",
       "    <tr>\n",
       "      <th>11</th>\n",
       "      <td>70.5</td>\n",
       "      <td>2.230560</td>\n",
       "      <td>3.272397</td>\n",
       "    </tr>\n",
       "    <tr>\n",
       "      <th>12</th>\n",
       "      <td>73.5</td>\n",
       "      <td>2.019650</td>\n",
       "      <td>3.127700</td>\n",
       "    </tr>\n",
       "    <tr>\n",
       "      <th>13</th>\n",
       "      <td>76.5</td>\n",
       "      <td>1.835138</td>\n",
       "      <td>2.614446</td>\n",
       "    </tr>\n",
       "    <tr>\n",
       "      <th>14</th>\n",
       "      <td>79.5</td>\n",
       "      <td>1.672937</td>\n",
       "      <td>2.609333</td>\n",
       "    </tr>\n",
       "    <tr>\n",
       "      <th>15</th>\n",
       "      <td>82.5</td>\n",
       "      <td>1.529708</td>\n",
       "      <td>2.487518</td>\n",
       "    </tr>\n",
       "    <tr>\n",
       "      <th>16</th>\n",
       "      <td>97.5</td>\n",
       "      <td>1.016705</td>\n",
       "      <td>1.896537</td>\n",
       "    </tr>\n",
       "    <tr>\n",
       "      <th>17</th>\n",
       "      <td>112.5</td>\n",
       "      <td>0.711942</td>\n",
       "      <td>1.399638</td>\n",
       "    </tr>\n",
       "    <tr>\n",
       "      <th>18</th>\n",
       "      <td>127.5</td>\n",
       "      <td>0.518788</td>\n",
       "      <td>1.228292</td>\n",
       "    </tr>\n",
       "    <tr>\n",
       "      <th>19</th>\n",
       "      <td>142.5</td>\n",
       "      <td>0.390134</td>\n",
       "      <td>1.087773</td>\n",
       "    </tr>\n",
       "    <tr>\n",
       "      <th>20</th>\n",
       "      <td>157.5</td>\n",
       "      <td>0.300990</td>\n",
       "      <td>0.833434</td>\n",
       "    </tr>\n",
       "    <tr>\n",
       "      <th>21</th>\n",
       "      <td>187.5</td>\n",
       "      <td>0.190317</td>\n",
       "      <td>0.631572</td>\n",
       "    </tr>\n",
       "    <tr>\n",
       "      <th>22</th>\n",
       "      <td>217.5</td>\n",
       "      <td>0.128037</td>\n",
       "      <td>0.550192</td>\n",
       "    </tr>\n",
       "    <tr>\n",
       "      <th>23</th>\n",
       "      <td>247.5</td>\n",
       "      <td>0.090279</td>\n",
       "      <td>0.501353</td>\n",
       "    </tr>\n",
       "    <tr>\n",
       "      <th>24</th>\n",
       "      <td>277.5</td>\n",
       "      <td>0.066047</td>\n",
       "      <td>0.459958</td>\n",
       "    </tr>\n",
       "    <tr>\n",
       "      <th>25</th>\n",
       "      <td>307.5</td>\n",
       "      <td>0.049779</td>\n",
       "      <td>0.348982</td>\n",
       "    </tr>\n",
       "    <tr>\n",
       "      <th>26</th>\n",
       "      <td>367.5</td>\n",
       "      <td>0.030316</td>\n",
       "      <td>0.325653</td>\n",
       "    </tr>\n",
       "    <tr>\n",
       "      <th>27</th>\n",
       "      <td>409.5</td>\n",
       "      <td>0.022373</td>\n",
       "      <td>0.227220</td>\n",
       "    </tr>\n",
       "  </tbody>\n",
       "</table>\n",
       "</div>"
      ],
      "text/plain": [
       "    h [nm]  calc f2 [Hz/V^2]  f2 [Hz/V^2]\n",
       "0     37.5          9.518633    12.548678\n",
       "1     40.5          8.014522     9.644799\n",
       "2     43.5          6.823989     7.194810\n",
       "3     46.5          5.867057     7.497982\n",
       "4     49.5          5.087530     5.519482\n",
       "5     52.5          4.445009     5.582289\n",
       "6     55.5          3.909872     4.565261\n",
       "7     58.5          3.460014     4.433819\n",
       "8     61.5          3.078679     3.801423\n",
       "9     64.5          2.752987     3.871571\n",
       "10    67.5          2.472912     3.047684\n",
       "11    70.5          2.230560     3.272397\n",
       "12    73.5          2.019650     3.127700\n",
       "13    76.5          1.835138     2.614446\n",
       "14    79.5          1.672937     2.609333\n",
       "15    82.5          1.529708     2.487518\n",
       "16    97.5          1.016705     1.896537\n",
       "17   112.5          0.711942     1.399638\n",
       "18   127.5          0.518788     1.228292\n",
       "19   142.5          0.390134     1.087773\n",
       "20   157.5          0.300990     0.833434\n",
       "21   187.5          0.190317     0.631572\n",
       "22   217.5          0.128037     0.550192\n",
       "23   247.5          0.090279     0.501353\n",
       "24   277.5          0.066047     0.459958\n",
       "25   307.5          0.049779     0.348982\n",
       "26   367.5          0.030316     0.325653\n",
       "27   409.5          0.022373     0.227220"
      ]
     },
     "execution_count": 287,
     "metadata": {},
     "output_type": "execute_result"
    }
   ],
   "source": [
    "df['A']['f2 [Hz/V^2]'] = data['f2 [Hz/V^2]']\n",
    "df['A']"
   ]
  },
  {
   "cell_type": "code",
   "execution_count": 288,
   "id": "2cac73dc-d342-4055-a956-d636426315a5",
   "metadata": {},
   "outputs": [],
   "source": [
    "def compare(df):\n",
    "\n",
    "    with plt.style.context('seaborn-v0_8'):\n",
    "        \n",
    "        fig, ax = plt.subplots(figsize=(3.5, 3.0))\n",
    "        plt.loglog(df['h [nm]'], df['f2 [Hz/V^2]'], 'o', label='measured')\n",
    "        plt.loglog(df['h [nm]'], df['calc f2 [Hz/V^2]'], '-', label='calculated')\n",
    "        plt.xlabel('tip-sample separation $h$ [nm]')\n",
    "        plt.ylabel('$f_2$ [Hz/V$^2$]')\n",
    "        plt.legend(frameon=True, facecolor='w', fontsize=9)\n",
    "        plt.tight_layout()\n",
    "        \n",
    "        return fig\n"
   ]
  },
  {
   "cell_type": "code",
   "execution_count": 289,
   "id": "73db28db-75b3-4573-851d-7c3709f26982",
   "metadata": {},
   "outputs": [
    {
     "data": {
      "image/png": "[encoded data removed]",
      "text/plain": [
       "<Figure size 350x300 with 1 Axes>"
      ]
     },
     "metadata": {},
     "output_type": "display_data"
    }
   ],
   "source": [
    "figs['01'] = compare(df['A'])"
   ]
  },
  {
   "cell_type": "markdown",
   "id": "32a2b486-0261-47a9-9488-aa8537a0610f",
   "metadata": {},
   "source": [
    "Modeling the tip as a sphere, Loring's equations predict the frequency shift correctly at small $h$ with a reasonable radius and essentially no other free parameters.  The frequency shift is underestimated at large $h$."
   ]
  },
  {
   "cell_type": "markdown",
   "id": "5f4e7521-3d8d-4292-b172-6dc48cf89e97",
   "metadata": {},
   "source": [
    "# Sphere plus cone over metal\n",
    "\n",
    "Take the cone length to be $L = 2 \\mu\\mathrm{m}$ (chosen for convenience, speed).  Take $R = 41 \\: \\mathrm{nm}$ and $\\theta = 19 \\: \\mathrm{degree}$, best-fit values obtained in Study 37."
   ]
  },
  {
   "cell_type": "code",
   "execution_count": 290,
   "id": "1b578b34-131a-4cb0-8a49-a9a08d293e41",
   "metadata": {},
   "outputs": [],
   "source": [
    "cantilever = CantileverModel(\n",
    "    f_c = ureg.Quantity(62, 'kHz'),\n",
    "    k_c = ureg.Quantity(2.8, 'N/m'), \n",
    "    V_ts = ureg.Quantity(1, 'V'), \n",
    "    R = ureg.Quantity(41, 'nm'),\n",
    "    angle = ureg.Quantity(19, 'degree'),\n",
    "    L = ureg.Quantity(2000, 'nm'), \n",
    "    d = ureg.Quantity(38, 'nm') # this parameter is ignored\n",
    ")\n",
    "\n",
    "sample1_metal = SampleModel1(\n",
    "    cantilever = cantilever,\n",
    "    h_s = ureg.Quantity(1e-6, 'nm'),  # not zero\n",
    "    epsilon_s = ureg.Quantity(complex(1, 0), ''),\n",
    "    sigma = ureg.Quantity(1e9, 'S/m'),\n",
    "    rho = ureg.Quantity(1e26, '1/m^3'),\n",
    "    epsilon_d = ureg.Quantity(complex(1e6, 0), ''),\n",
    "    z_r = ureg.Quantity(50, 'nm')\n",
    ")\n",
    "\n",
    "sample1_jit_metal = SampleModel1Jit(**sample1_metal.args())"
   ]
  },
  {
   "cell_type": "code",
   "execution_count": 291,
   "id": "02677cd5-3f13-486c-873e-9fe66c92bf5f",
   "metadata": {},
   "outputs": [
    {
     "name": "stdout",
     "output_type": "stream",
     "text": [
      "[28] 0 1 2 3 4 5 6 7 8 9 10 11 12 13 14 15 16 17 18 19 20 21 22 23 24 25 26 27 "
     ]
    }
   ],
   "source": [
    "print(\"[{:d}]\".format(len(h_array)), end=' ')\n",
    "for index, h_ in enumerate(h_array): \n",
    "\n",
    "    obj['B'] = twodimCobject(sample1_jit_metal, integrand1jit)\n",
    "    \n",
    "    params = {'h': h_}\n",
    "    \n",
    "    obj['B'].addtip(**params)\n",
    "    obj['B'].properties()\n",
    "\n",
    "    results = {}\n",
    "    results['h [nm]'] = obj['B'].info['h [nm]']\n",
    "    results['calc f2 [Hz/V^2]'] = np.abs(obj['B'].results['Delta f [Hz]']/obj['B'].sample.cantilever.V_ts)\n",
    "    \n",
    "    if (index == 0):\n",
    "        df['B'] = pd.DataFrame.from_dict([results])\n",
    "    else:\n",
    "        dfplus = pd.DataFrame.from_dict([results])\n",
    "        df['B'] = pd.concat([df['B'], dfplus], ignore_index=True)   \n",
    "    \n",
    "    print(index, end=' ')"
   ]
  },
  {
   "cell_type": "markdown",
   "id": "47da9e21-d651-45e8-a38b-e422de3613e1",
   "metadata": {},
   "source": [
    "**This computation is painfully slow!!**"
   ]
  },
  {
   "cell_type": "code",
   "execution_count": 292,
   "id": "d2a075ec-f214-497f-abf1-f4dc53927aac",
   "metadata": {},
   "outputs": [
    {
     "data": {
      "text/html": [
       "<div>\n",
       "<style scoped>\n",
       "    .dataframe tbody tr th:only-of-type {\n",
       "        vertical-align: middle;\n",
       "    }\n",
       "\n",
       "    .dataframe tbody tr th {\n",
       "        vertical-align: top;\n",
       "    }\n",
       "\n",
       "    .dataframe thead th {\n",
       "        text-align: right;\n",
       "    }\n",
       "</style>\n",
       "<table border=\"1\" class=\"dataframe\">\n",
       "  <thead>\n",
       "    <tr style=\"text-align: right;\">\n",
       "      <th></th>\n",
       "      <th>h [nm]</th>\n",
       "      <th>calc f2 [Hz/V^2]</th>\n",
       "      <th>f2 [Hz/V^2]</th>\n",
       "    </tr>\n",
       "  </thead>\n",
       "  <tbody>\n",
       "    <tr>\n",
       "      <th>0</th>\n",
       "      <td>37.5</td>\n",
       "      <td>9.093227</td>\n",
       "      <td>12.548678</td>\n",
       "    </tr>\n",
       "    <tr>\n",
       "      <th>1</th>\n",
       "      <td>40.5</td>\n",
       "      <td>7.890723</td>\n",
       "      <td>9.644799</td>\n",
       "    </tr>\n",
       "    <tr>\n",
       "      <th>2</th>\n",
       "      <td>43.5</td>\n",
       "      <td>6.938258</td>\n",
       "      <td>7.194810</td>\n",
       "    </tr>\n",
       "    <tr>\n",
       "      <th>3</th>\n",
       "      <td>46.5</td>\n",
       "      <td>6.151121</td>\n",
       "      <td>7.497982</td>\n",
       "    </tr>\n",
       "    <tr>\n",
       "      <th>4</th>\n",
       "      <td>49.5</td>\n",
       "      <td>5.499873</td>\n",
       "      <td>5.519482</td>\n",
       "    </tr>\n",
       "    <tr>\n",
       "      <th>5</th>\n",
       "      <td>52.5</td>\n",
       "      <td>4.954322</td>\n",
       "      <td>5.582289</td>\n",
       "    </tr>\n",
       "    <tr>\n",
       "      <th>6</th>\n",
       "      <td>55.5</td>\n",
       "      <td>4.492252</td>\n",
       "      <td>4.565261</td>\n",
       "    </tr>\n",
       "    <tr>\n",
       "      <th>7</th>\n",
       "      <td>58.5</td>\n",
       "      <td>4.109797</td>\n",
       "      <td>4.433819</td>\n",
       "    </tr>\n",
       "    <tr>\n",
       "      <th>8</th>\n",
       "      <td>61.5</td>\n",
       "      <td>3.769030</td>\n",
       "      <td>3.801423</td>\n",
       "    </tr>\n",
       "    <tr>\n",
       "      <th>9</th>\n",
       "      <td>64.5</td>\n",
       "      <td>3.472657</td>\n",
       "      <td>3.871571</td>\n",
       "    </tr>\n",
       "    <tr>\n",
       "      <th>10</th>\n",
       "      <td>67.5</td>\n",
       "      <td>3.213028</td>\n",
       "      <td>3.047684</td>\n",
       "    </tr>\n",
       "    <tr>\n",
       "      <th>11</th>\n",
       "      <td>70.5</td>\n",
       "      <td>2.995303</td>\n",
       "      <td>3.272397</td>\n",
       "    </tr>\n",
       "    <tr>\n",
       "      <th>12</th>\n",
       "      <td>73.5</td>\n",
       "      <td>2.792459</td>\n",
       "      <td>3.127700</td>\n",
       "    </tr>\n",
       "    <tr>\n",
       "      <th>13</th>\n",
       "      <td>76.5</td>\n",
       "      <td>2.611542</td>\n",
       "      <td>2.614446</td>\n",
       "    </tr>\n",
       "    <tr>\n",
       "      <th>14</th>\n",
       "      <td>79.5</td>\n",
       "      <td>2.449360</td>\n",
       "      <td>2.609333</td>\n",
       "    </tr>\n",
       "    <tr>\n",
       "      <th>15</th>\n",
       "      <td>82.5</td>\n",
       "      <td>2.303292</td>\n",
       "      <td>2.487518</td>\n",
       "    </tr>\n",
       "    <tr>\n",
       "      <th>16</th>\n",
       "      <td>97.5</td>\n",
       "      <td>1.761050</td>\n",
       "      <td>1.896537</td>\n",
       "    </tr>\n",
       "    <tr>\n",
       "      <th>17</th>\n",
       "      <td>112.5</td>\n",
       "      <td>1.407677</td>\n",
       "      <td>1.399638</td>\n",
       "    </tr>\n",
       "    <tr>\n",
       "      <th>18</th>\n",
       "      <td>127.5</td>\n",
       "      <td>1.162281</td>\n",
       "      <td>1.228292</td>\n",
       "    </tr>\n",
       "    <tr>\n",
       "      <th>19</th>\n",
       "      <td>142.5</td>\n",
       "      <td>0.983528</td>\n",
       "      <td>1.087773</td>\n",
       "    </tr>\n",
       "    <tr>\n",
       "      <th>20</th>\n",
       "      <td>157.5</td>\n",
       "      <td>0.848421</td>\n",
       "      <td>0.833434</td>\n",
       "    </tr>\n",
       "    <tr>\n",
       "      <th>21</th>\n",
       "      <td>187.5</td>\n",
       "      <td>0.659399</td>\n",
       "      <td>0.631572</td>\n",
       "    </tr>\n",
       "    <tr>\n",
       "      <th>22</th>\n",
       "      <td>217.5</td>\n",
       "      <td>0.529182</td>\n",
       "      <td>0.550192</td>\n",
       "    </tr>\n",
       "    <tr>\n",
       "      <th>23</th>\n",
       "      <td>247.5</td>\n",
       "      <td>0.437128</td>\n",
       "      <td>0.501353</td>\n",
       "    </tr>\n",
       "    <tr>\n",
       "      <th>24</th>\n",
       "      <td>277.5</td>\n",
       "      <td>0.374100</td>\n",
       "      <td>0.459958</td>\n",
       "    </tr>\n",
       "    <tr>\n",
       "      <th>25</th>\n",
       "      <td>307.5</td>\n",
       "      <td>0.321741</td>\n",
       "      <td>0.348982</td>\n",
       "    </tr>\n",
       "    <tr>\n",
       "      <th>26</th>\n",
       "      <td>367.5</td>\n",
       "      <td>0.247493</td>\n",
       "      <td>0.325653</td>\n",
       "    </tr>\n",
       "    <tr>\n",
       "      <th>27</th>\n",
       "      <td>409.5</td>\n",
       "      <td>0.212523</td>\n",
       "      <td>0.227220</td>\n",
       "    </tr>\n",
       "  </tbody>\n",
       "</table>\n",
       "</div>"
      ],
      "text/plain": [
       "    h [nm]  calc f2 [Hz/V^2]  f2 [Hz/V^2]\n",
       "0     37.5          9.093227    12.548678\n",
       "1     40.5          7.890723     9.644799\n",
       "2     43.5          6.938258     7.194810\n",
       "3     46.5          6.151121     7.497982\n",
       "4     49.5          5.499873     5.519482\n",
       "5     52.5          4.954322     5.582289\n",
       "6     55.5          4.492252     4.565261\n",
       "7     58.5          4.109797     4.433819\n",
       "8     61.5          3.769030     3.801423\n",
       "9     64.5          3.472657     3.871571\n",
       "10    67.5          3.213028     3.047684\n",
       "11    70.5          2.995303     3.272397\n",
       "12    73.5          2.792459     3.127700\n",
       "13    76.5          2.611542     2.614446\n",
       "14    79.5          2.449360     2.609333\n",
       "15    82.5          2.303292     2.487518\n",
       "16    97.5          1.761050     1.896537\n",
       "17   112.5          1.407677     1.399638\n",
       "18   127.5          1.162281     1.228292\n",
       "19   142.5          0.983528     1.087773\n",
       "20   157.5          0.848421     0.833434\n",
       "21   187.5          0.659399     0.631572\n",
       "22   217.5          0.529182     0.550192\n",
       "23   247.5          0.437128     0.501353\n",
       "24   277.5          0.374100     0.459958\n",
       "25   307.5          0.321741     0.348982\n",
       "26   367.5          0.247493     0.325653\n",
       "27   409.5          0.212523     0.227220"
      ]
     },
     "execution_count": 292,
     "metadata": {},
     "output_type": "execute_result"
    }
   ],
   "source": [
    "df['B']['f2 [Hz/V^2]'] = data['f2 [Hz/V^2]']\n",
    "df['B']"
   ]
  },
  {
   "cell_type": "code",
   "execution_count": 293,
   "id": "05c922de-9455-4db7-a9f2-9d3397c8b35c",
   "metadata": {},
   "outputs": [
    {
     "data": {
      "image/png": "[encoded data removed]",
      "text/plain": [
       "<Figure size 350x300 with 1 Axes>"
      ]
     },
     "metadata": {},
     "output_type": "display_data"
    }
   ],
   "source": [
    "figs['02'] = compare(df['B'])"
   ]
  },
  {
   "cell_type": "markdown",
   "id": "ba2ab38f-afde-4cee-a98b-7c03a80d38db",
   "metadata": {},
   "source": [
    "Modeling the tip as a sphere-plus-cone, Loring's equations now predict the frequency shift correctly at nearly all $h$, again using a reasonable radius, cone length, and cone angle and essentially no other free parameters.  The agreement at small $h$ could probably be improved by tweaking the tip radius, but the code runs painfully slowly and so I will skip this optimization for now."
   ]
  },
  {
   "cell_type": "markdown",
   "id": "0b948688-edff-46f9-87cc-7ba0f548d812",
   "metadata": {},
   "source": [
    "# Run-time profiling and optimization\n",
    "\n",
    "* \"How To Profile Python Code\" ([link](https://codesolid.com/how-do-i-profile-python-code/))\n",
    "* \"How not to be slow using Python: Functions\" ([link](https://pawroman.dev/how-not-to-be-slow-using-python-functions/))\n",
    "* \"Scipy at lightspeed ⚡ Part 2\" ([link](https://dev.to/zenulabidin/scipy-at-lightspeed-part-2-22i0)]"
   ]
  },
  {
   "cell_type": "markdown",
   "id": "52ee7687-3e8d-4987-95c7-eb84cf351454",
   "metadata": {},
   "source": [
    "A representative sphere calculation."
   ]
  },
  {
   "cell_type": "code",
   "execution_count": 65,
   "id": "e60dcfb9-77f0-4926-9a56-10be30274979",
   "metadata": {},
   "outputs": [
    {
     "name": "stdout",
     "output_type": "stream",
     "text": [
      "CPU times: user 3.42 s, sys: 55.7 ms, total: 3.48 s\n",
      "Wall time: 3.77 s\n"
     ]
    }
   ],
   "source": [
    "%%time\n",
    "obj['test A'] = twodimCobject(sample1_jit_metal, integrand1jit)\n",
    "\n",
    "params = {'h': ureg.Quantity(15.0, 'nm'),\n",
    "          'N': 15, # image charges\n",
    "          'M': 30} # test points\n",
    "\n",
    "obj['test A'].addsphere(**params)\n",
    "obj['test A'].properties()"
   ]
  },
  {
   "cell_type": "markdown",
   "id": "f7f77178-e8d4-4c5b-b8f0-28cd17972d8d",
   "metadata": {},
   "source": [
    "The `.addsphere` function only takes 3 ms."
   ]
  },
  {
   "cell_type": "code",
   "execution_count": 278,
   "id": "c0d7ccac-f21f-4a8a-91cd-1605364cecca",
   "metadata": {},
   "outputs": [
    {
     "name": "stdout",
     "output_type": "stream",
     "text": [
      "         1093 function calls (1091 primitive calls) in 0.016 seconds\n",
      "\n",
      "   Ordered by: cumulative time\n",
      "\n",
      "   ncalls  tottime  percall  cumtime  percall filename:lineno(function)\n",
      "        1    0.000    0.000    0.016    0.016 {built-in method builtins.exec}\n",
      "        1    0.000    0.000    0.016    0.016 <string>:1(<module>)\n",
      "        1    0.005    0.005    0.015    0.015 dissipation8c.py:26(addsphere)\n",
      "        2    0.000    0.000    0.005    0.002 quantity.py:516(to)\n",
      "        3    0.000    0.000    0.004    0.001 registry.py:59(parse_units_as_container)\n",
      "        3    0.000    0.000    0.004    0.001 registry.py:1214(parse_units_as_container)\n",
      "        3    0.001    0.000    0.004    0.001 registry.py:1228(_parse_units_as_container)\n",
      "        6    0.000    0.000    0.004    0.001 util.py:1031(to_units_container)\n",
      "        3    0.000    0.000    0.004    0.001 quantity.py:188(__new__)\n",
      "        7    0.002    0.000    0.003    0.000 util.py:965(__new__)\n",
      "        2    0.000    0.000    0.002    0.001 registry.py:652(get_name)\n",
      "        1    0.001    0.001    0.001    0.001 dissipation8c.py:50(<listcomp>)\n",
      "        2    0.000    0.000    0.001    0.000 function_base.py:24(linspace)\n",
      "        4    0.000    0.000    0.001    0.000 registry.py:1416(UnitsContainer)\n",
      "        2    0.000    0.000    0.001    0.000 <string>:2(__init__)\n",
      "        2    0.001    0.000    0.001    0.000 definitions.py:133(__post_init__)\n",
      "        4    0.000    0.000    0.001    0.000 util.py:452(__init__)\n",
      "       61    0.000    0.000    0.001    0.000 {built-in method builtins.isinstance}\n",
      "        8    0.000    0.000    0.001    0.000 abc.py:117(__instancecheck__)\n",
      "        8    0.001    0.000    0.001    0.000 {built-in method _abc._abc_instancecheck}\n",
      "        4    0.000    0.000    0.001    0.000 registry.py:1101(parse_unit_name)\n",
      "        4    0.000    0.000    0.001    0.000 registry.py:1162(_dedup_candidates)\n",
      "        4    0.000    0.000    0.001    0.000 {built-in method fromkeys}\n",
      "       10    0.001    0.000    0.001    0.000 registry.py:1130(_yield_unit_triplets)\n",
      "        2    0.001    0.000    0.001    0.000 {built-in method numpy.arange}\n",
      "        1    0.000    0.000    0.001    0.001 registry.py:1183(parse_units)\n",
      "        2    0.000    0.000    0.000    0.000 quantity.py:475(_convert_magnitude_not_inplace)\n",
      "        2    0.000    0.000    0.000    0.000 registry.py:1017(convert)\n",
      "        1    0.000    0.000    0.000    0.000 dissipation8c.py:46(<listcomp>)\n",
      "        3    0.000    0.000    0.000    0.000 <frozen importlib._bootstrap>:404(parent)\n",
      "        1    0.000    0.000    0.000    0.000 registry.py:361(_convert)\n",
      "        2    0.000    0.000    0.000    0.000 registry.py:693(get_symbol)\n",
      "       14    0.000    0.000    0.000    0.000 __init__.py:976(__getitem__)\n",
      "        1    0.000    0.000    0.000    0.000 registry.py:215(_convert)\n",
      "       15    0.000    0.000    0.000    0.000 __init__.py:996(__contains__)\n",
      "      584    0.000    0.000    0.000    0.000 {method 'startswith' of 'str' objects}\n",
      "        1    0.000    0.000    0.000    0.000 registry.py:1052(_convert)\n",
      "        3    0.000    0.000    0.000    0.000 compat.py:282(is_upcast_type)\n",
      "       18    0.000    0.000    0.000    0.000 {built-in method builtins.any}\n",
      "        2    0.000    0.000    0.000    0.000 registry.py:138(_validate_and_extract)\n",
      "        3    0.000    0.000    0.000    0.000 compat.py:102(_to_magnitude)\n",
      "        4    0.000    0.000    0.000    0.000 definitions.py:197(is_multiplicative)\n",
      "        1    0.000    0.000    0.000    0.000 unit.py:36(__init__)\n",
      "        2    0.000    0.000    0.000    0.000 util.py:482(add)\n",
      "        2    0.000    0.000    0.000    0.000 registry.py:165(<listcomp>)\n",
      "       30    0.000    0.000    0.000    0.000 __init__.py:997(<genexpr>)\n",
      "        2    0.000    0.000    0.000    0.000 {built-in method numpy.array}\n",
      "        3    0.000    0.000    0.000    0.000 compat.py:263(check_upcast_type)\n",
      "        3    0.000    0.000    0.000    0.000 numeric.py:136(ones)\n",
      "        3    0.000    0.000    0.000    0.000 util.py:574(__eq__)\n",
      "        1    0.000    0.000    0.000    0.000 registry.py:831(_get_conversion_factor)\n",
      "        2    0.000    0.000    0.000    0.000 __init__.py:1033(__setitem__)\n",
      "    22/20    0.000    0.000    0.000    0.000 {built-in method builtins.len}\n",
      "        3    0.000    0.000    0.000    0.000 registry.py:224(get)\n",
      "        6    0.000    0.000    0.000    0.000 registry.py:459(non_int_type)\n",
      "        2    0.000    0.000    0.000    0.000 registry.py:110(_is_multiplicative)\n",
      "        8    0.000    0.000    0.000    0.000 util.py:549(__iter__)\n",
      "        4    0.000    0.000    0.000    0.000 _collections_abc.py:901(__iter__)\n",
      "        8    0.000    0.000    0.000    0.000 util.py:561(__hash__)\n",
      "        4    0.000    0.000    0.000    0.000 _collections_abc.py:828(keys)\n",
      "        2    0.000    0.000    0.000    0.000 definitions.py:88(symbol)\n",
      "        2    0.000    0.000    0.000    0.000 util.py:552(__len__)\n",
      "        2    0.000    0.000    0.000    0.000 util.py:673(_normalize_nonfloat_value)\n",
      "        8    0.000    0.000    0.000    0.000 _collections_abc.py:877(__iter__)\n",
      "        3    0.000    0.000    0.000    0.000 compat.py:252(fully_qualified_name)\n",
      "        3    0.000    0.000    0.000    0.000 quantity.py:147(force_ndarray)\n",
      "        4    0.000    0.000    0.000    0.000 registry.py:263(<lambda>)\n",
      "        2    0.000    0.000    0.000    0.000 util.py:478(copy)\n",
      "        3    0.000    0.000    0.000    0.000 <frozen importlib._bootstrap>:1053(_handle_fromlist)\n",
      "        2    0.000    0.000    0.000    0.000 errors.py:38(is_dim)\n",
      "        4    0.000    0.000    0.000    0.000 {built-in method numpy.asanyarray}\n",
      "       10    0.000    0.000    0.000    0.000 {built-in method builtins.hasattr}\n",
      "        4    0.000    0.000    0.000    0.000 util.py:555(__getitem__)\n",
      "        2    0.000    0.000    0.000    0.000 util.py:616(__copy__)\n",
      "        2    0.000    0.000    0.000    0.000 function_base.py:19(_linspace_dispatcher)\n",
      "        6    0.000    0.000    0.000    0.000 {method 'mro' of 'type' objects}\n",
      "        4    0.000    0.000    0.000    0.000 converters.py:28(is_multiplicative)\n",
      "        2    0.000    0.000    0.000    0.000 {method 'reshape' of 'numpy.ndarray' objects}\n",
      "        3    0.000    0.000    0.000    0.000 {built-in method numpy.empty}\n",
      "        9    0.000    0.000    0.000    0.000 {built-in method __new__ of type object at 0x105b332a0}\n",
      "       20    0.000    0.000    0.000    0.000 {method 'endswith' of 'str' objects}\n",
      "        2    0.000    0.000    0.000    0.000 numeric.py:1855(isscalar)\n",
      "        2    0.000    0.000    0.000    0.000 _collections_abc.py:832(items)\n",
      "        4    0.000    0.000    0.000    0.000 registry.py:260(<lambda>)\n",
      "        2    0.000    0.000    0.000    0.000 __init__.py:973(__missing__)\n",
      "        2    0.000    0.000    0.000    0.000 errors.py:51(_no_space)\n",
      "        2    0.000    0.000    0.000    0.000 fromnumeric.py:3176(ndim)\n",
      "        6    0.000    0.000    0.000    0.000 _collections_abc.py:854(__init__)\n",
      "        2    0.000    0.000    0.000    0.000 {method 'astype' of 'numpy.ndarray' objects}\n",
      "        8    0.000    0.000    0.000    0.000 {method 'replace' of 'str' objects}\n",
      "        2    0.000    0.000    0.000    0.000 util.py:428(copy)\n",
      "        3    0.000    0.000    0.000    0.000 {method 'rpartition' of 'str' objects}\n",
      "        6    0.000    0.000    0.000    0.000 {method 'items' of 'dict' objects}\n",
      "        4    0.000    0.000    0.000    0.000 {method 'pop' of 'dict' objects}\n",
      "        8    0.000    0.000    0.000    0.000 {built-in method builtins.iter}\n",
      "        3    0.000    0.000    0.000    0.000 quantity.py:151(force_ndarray_like)\n",
      "        1    0.000    0.000    0.000    0.000 __init__.py:999(__bool__)\n",
      "        1    0.000    0.000    0.000    0.000 {built-in method numpy.zeros}\n",
      "        3    0.000    0.000    0.000    0.000 multiarray.py:1080(copyto)\n",
      "        2    0.000    0.000    0.000    0.000 fromnumeric.py:3172(_ndim_dispatcher)\n",
      "        4    0.000    0.000    0.000    0.000 {method 'strip' of 'str' objects}\n",
      "        2    0.000    0.000    0.000    0.000 {method 'isidentifier' of 'str' objects}\n",
      "        3    0.000    0.000    0.000    0.000 {method 'values' of 'dict' objects}\n",
      "        1    0.000    0.000    0.000    0.000 {method 'disable' of '_lsprof.Profiler' objects}\n",
      "        2    0.000    0.000    0.000    0.000 {built-in method builtins.hash}\n",
      "        2    0.000    0.000    0.000    0.000 quantity.py:293(magnitude)\n",
      "        2    0.000    0.000    0.000    0.000 definitions.py:209(symbol)\n",
      "        2    0.000    0.000    0.000    0.000 {built-in method _operator.index}\n",
      "        2    0.000    0.000    0.000    0.000 multiarray.py:669(result_type)\n",
      "        2    0.000    0.000    0.000    0.000 util.py:425(__missing__)\n",
      "\n",
      "\n"
     ]
    }
   ],
   "source": [
    "cProfile.run(\"obj['test A'].addsphere(**params)\",sort='cumulative')"
   ]
  },
  {
   "cell_type": "markdown",
   "id": "6117787c-e020-412d-9f11-efd5b4cbd2ca",
   "metadata": {},
   "source": [
    "The function `.solve` is very slow, 4.3 seconds for a $15 \\times 30 = 450$ element array.  Of that, 3.26 seconds is spent in `_Ksample` and 1.38 seconds is spent in `quad`. "
   ]
  },
  {
   "cell_type": "code",
   "execution_count": 68,
   "id": "14dbf02e-b1f3-4cd7-bb53-a87150e8eac5",
   "metadata": {},
   "outputs": [
    {
     "name": "stdout",
     "output_type": "stream",
     "text": [
      "         2376343 function calls (2365543 primitive calls) in 4.271 seconds\n",
      "\n",
      "   Ordered by: cumulative time\n",
      "\n",
      "   ncalls  tottime  percall  cumtime  percall filename:lineno(function)\n",
      "        1    0.000    0.000    4.278    4.278 {built-in method builtins.exec}\n",
      "        1    0.000    0.000    4.278    4.278 <string>:1(<module>)\n",
      "        1    0.000    0.000    4.278    4.278 dissipation8c.py:234(solve)\n",
      "     1350    0.073    0.000    3.262    0.002 dissipation8c.py:205(_Ksample)\n",
      "     2700    0.044    0.000    2.378    0.001 dissipation8b.py:321(K_jit)\n",
      "    25200    0.204    0.000    1.377    0.000 quantity.py:188(__new__)\n",
      "     2700    0.013    0.000    1.373    0.001 _quadpack_py.py:23(quad)\n",
      "     2700    0.006    0.000    1.356    0.001 _quadpack_py.py:557(_quad)\n",
      "     2700    1.065    0.000    1.350    0.000 {built-in method scipy.integrate._quadpack._qagie}\n",
      "    15750    0.047    0.000    1.330    0.000 quantity.py:93(wrapped)\n",
      "        1    0.000    0.000    1.205    1.205 dissipation8c.py:268(<listcomp>)\n",
      "        1    0.000    0.000    1.152    1.152 dissipation8c.py:267(<listcomp>)\n",
      "       30    0.002    0.000    1.007    0.034 dissipation8c.py:240(<listcomp>)\n",
      "      450    0.018    0.000    1.005    0.002 dissipation8c.py:195(_Kcoulomb)\n",
      "        1    0.000    0.000    0.913    0.913 dissipation8c.py:241(<listcomp>)\n",
      "     9000    0.022    0.000    0.789    0.000 quantity.py:74(wrapped)\n",
      "     9000    0.096    0.000    0.767    0.000 quantity.py:938(_mul_div)\n",
      "     8100    0.018    0.000    0.701    0.000 quantity.py:1017(__mul__)\n",
      "     5850    0.023    0.000    0.578    0.000 registry.py:59(parse_units_as_container)\n",
      "     3600    0.013    0.000    0.568    0.000 registry.py:1183(parse_units)\n",
      "     5850    0.017    0.000    0.555    0.000 registry.py:1214(parse_units_as_container)\n",
      "     5850    0.042    0.000    0.538    0.000 registry.py:1228(_parse_units_as_container)\n",
      "      900    0.015    0.000    0.430    0.000 registry.py:652(get_name)\n",
      "     1800    0.004    0.000    0.344    0.000 registry.py:1101(parse_unit_name)\n",
      "     1800    0.013    0.000    0.339    0.000 registry.py:1162(_dedup_candidates)\n",
      "    54000    0.147    0.000    0.326    0.000 util.py:965(__new__)\n",
      "     1800    0.005    0.000    0.324    0.000 {built-in method fromkeys}\n",
      "     4500    0.132    0.000    0.319    0.000 registry.py:1130(_yield_unit_triplets)\n",
      "     5400    0.041    0.000    0.289    0.000 quantity.py:1209(__pow__)\n",
      "   186960    0.285    0.000    0.285    0.000 dissipation8b.py:225(integrand1jit)\n",
      "     2250    0.012    0.000    0.281    0.000 quantity.py:516(to)\n",
      "    43650    0.127    0.000    0.227    0.000 compat.py:282(is_upcast_type)\n",
      "      900    0.006    0.000    0.223    0.000 quantity.py:1041(__truediv__)\n",
      "     2700    0.014    0.000    0.220    0.000 quantity.py:60(__array_ufunc__)\n",
      "    42300    0.168    0.000    0.208    0.000 compat.py:102(_to_magnitude)\n",
      "     2700    0.012    0.000    0.198    0.000 numpy_func.py:1055(numpy_wrap)\n",
      "      900    0.006    0.000    0.186    0.000 registry.py:693(get_symbol)\n",
      "     2700    0.020    0.000    0.167    0.000 quantity.py:1046(__rtruediv__)\n",
      "     2700    0.005    0.000    0.166    0.000 numpy_func.py:514(_power)\n",
      "    21600    0.041    0.000    0.160    0.000 objects.py:22(_get_non_multiplicative_units)\n",
      "     2700    0.012    0.000    0.158    0.000 quantity.py:569(to_base_units)\n",
      "     4950    0.010    0.000    0.151    0.000 quantity.py:475(_convert_magnitude_not_inplace)\n",
      "     4950    0.012    0.000    0.142    0.000 registry.py:1017(convert)\n",
      "   262800    0.129    0.000    0.129    0.000 {method 'startswith' of 'str' objects}\n",
      "   351454    0.097    0.000    0.124    0.000 {built-in method builtins.isinstance}\n",
      "    16200    0.011    0.000    0.115    0.000 {built-in method _operator.mul}\n",
      "     1350    0.004    0.000    0.113    0.000 quantity.py:845(__add__)\n",
      "     8100    0.037    0.000    0.105    0.000 util.py:625(__mul__)\n",
      "    21600    0.033    0.000    0.101    0.000 objects.py:24(<listcomp>)\n",
      "     1350    0.014    0.000    0.099    0.000 quantity.py:716(_add_sub)\n",
      "    12150    0.033    0.000    0.091    0.000 registry.py:1416(UnitsContainer)\n",
      "    43650    0.042    0.000    0.089    0.000 compat.py:263(check_upcast_type)\n",
      "      900    0.007    0.000    0.087    0.000 registry.py:361(_convert)\n",
      "    12150    0.024    0.000    0.078    0.000 util.py:1031(to_units_container)\n",
      "      900    0.006    0.000    0.078    0.000 registry.py:215(_convert)\n",
      "     9900    0.057    0.000    0.076    0.000 __init__.py:996(__contains__)\n",
      "    16200    0.016    0.000    0.074    0.000 util.py:478(copy)\n",
      "    16650    0.038    0.000    0.071    0.000 util.py:574(__eq__)\n",
      "   106202    0.065    0.000    0.065    0.000 {built-in method builtins.hasattr}\n",
      "     6300    0.019    0.000    0.061    0.000 util.py:641(__pow__)\n",
      "    16200    0.032    0.000    0.057    0.000 util.py:616(__copy__)\n",
      "    12150    0.042    0.000    0.053    0.000 util.py:452(__init__)\n",
      "    25200    0.042    0.000    0.053    0.000 <frozen importlib._bootstrap>:404(parent)\n",
      "    25200    0.037    0.000    0.049    0.000 <frozen importlib._bootstrap>:1053(_handle_fromlist)\n",
      "    14400    0.014    0.000    0.048    0.000 {built-in method builtins.any}\n",
      "    43650    0.047    0.000    0.047    0.000 compat.py:252(fully_qualified_name)\n",
      "     2700    0.014    0.000    0.045    0.000 registry.py:180(_get_base_units)\n",
      "     1800    0.007    0.000    0.044    0.000 registry.py:138(_validate_and_extract)\n",
      "    40500    0.033    0.000    0.041    0.000 util.py:561(__hash__)\n",
      "    18900    0.027    0.000    0.039    0.000 definitions.py:197(is_multiplicative)\n",
      "     1800    0.015    0.000    0.039    0.000 {built-in method _operator.truediv}\n",
      "     3600    0.005    0.000    0.038    0.000 objects.py:17(_is_multiplicative)\n",
      "    16200    0.022    0.000    0.038    0.000 quantity.py:1439(_get_unit_definition)\n",
      "      900    0.005    0.000    0.037    0.000 <string>:2(__init__)\n",
      "     2700    0.004    0.000    0.033    0.000 util.py:666(__rtruediv__)\n",
      "     1800    0.005    0.000    0.032    0.000 registry.py:165(<listcomp>)\n",
      "    70201    0.031    0.000    0.031    0.000 {built-in method __new__ of type object at 0x105b332a0}\n",
      "      900    0.012    0.000    0.031    0.000 definitions.py:133(__post_init__)\n",
      "    35100    0.020    0.000    0.030    0.000 util.py:549(__iter__)\n",
      "    16200    0.017    0.000    0.029    0.000 _collections_abc.py:901(__iter__)\n",
      "      900    0.013    0.000    0.028    0.000 registry.py:1052(_convert)\n",
      "    16200    0.010    0.000    0.027    0.000 abc.py:117(__instancecheck__)\n",
      "60302/49502    0.020    0.000    0.026    0.000 {built-in method builtins.len}\n",
      "     5400    0.010    0.000    0.025    0.000 compat.py:292(is_duck_array_type)\n",
      "      900    0.012    0.000    0.024    0.000 util.py:652(__truediv__)\n",
      "    23400    0.023    0.000    0.024    0.000 __init__.py:976(__getitem__)\n",
      "     2700    0.005    0.000    0.023    0.000 quantity.py:345(dimensionality)\n",
      "     1800    0.006    0.000    0.021    0.000 registry.py:110(_is_multiplicative)\n",
      "    38700    0.020    0.000    0.020    0.000 quantity.py:147(force_ndarray)\n",
      "    10800    0.013    0.000    0.018    0.000 _collections_abc.py:832(items)\n",
      "     2700    0.004    0.000    0.018    0.000 registry.py:721(_get_dimensionality)\n",
      "    16200    0.018    0.000    0.018    0.000 util.py:428(copy)\n",
      "     5400    0.004    0.000    0.017    0.000 numpy_func.py:1069(<genexpr>)\n",
      "    16200    0.017    0.000    0.017    0.000 {built-in method _abc._abc_instancecheck}\n",
      "    10350    0.012    0.000    0.017    0.000 util.py:975(_check)\n",
      "      450    0.007    0.000    0.017    0.000 linalg.py:2383(norm)\n",
      "    38700    0.014    0.000    0.014    0.000 quantity.py:151(force_ndarray_like)\n",
      "    25200    0.013    0.000    0.013    0.000 registry.py:224(get)\n",
      "      900    0.005    0.000    0.012    0.000 util.py:482(add)\n",
      "    19800    0.012    0.000    0.012    0.000 __init__.py:997(<genexpr>)\n",
      "    25200    0.012    0.000    0.012    0.000 {method 'rpartition' of 'str' objects}\n",
      "     3600    0.011    0.000    0.011    0.000 unit.py:36(__init__)\n",
      "    46350    0.011    0.000    0.011    0.000 {method 'values' of 'dict' objects}\n",
      "      900    0.004    0.000    0.011    0.000 registry.py:831(_get_conversion_factor)\n",
      "    13500    0.008    0.000    0.011    0.000 util.py:552(__len__)\n",
      "    15300    0.010    0.000    0.010    0.000 objects.py:45(_ok_for_muldiv)\n",
      "    29700    0.009    0.000    0.009    0.000 {method 'items' of 'dict' objects}\n",
      "    35100    0.009    0.000    0.009    0.000 {built-in method builtins.iter}\n",
      "     3600    0.007    0.000    0.009    0.000 _collections_abc.py:877(__iter__)\n",
      "     2700    0.006    0.000    0.008    0.000 quantity.py:66(<setcomp>)\n",
      "      450    0.008    0.000    0.008    0.000 {method 'dot' of 'numpy.ndarray' objects}\n",
      "    12150    0.007    0.000    0.007    0.000 {method 'mro' of 'type' objects}\n",
      "    23852    0.007    0.000    0.007    0.000 {built-in method builtins.getattr}\n",
      "    12600    0.006    0.000    0.006    0.000 _collections_abc.py:854(__init__)\n",
      "     5400    0.004    0.000    0.006    0.000 registry.py:263(<lambda>)\n",
      "    13050    0.005    0.000    0.005    0.000 registry.py:459(non_int_type)\n",
      "    18900    0.005    0.000    0.005    0.000 converters.py:28(is_multiplicative)\n",
      "     5400    0.003    0.000    0.005    0.000 registry.py:260(<lambda>)\n",
      "     6300    0.004    0.000    0.004    0.000 util.py:555(__getitem__)\n",
      "     2700    0.002    0.000    0.004    0.000 numpy_func.py:26(_is_quantity)\n",
      "     1800    0.002    0.000    0.004    0.000 _collections_abc.py:828(keys)\n",
      "    11250    0.004    0.000    0.004    0.000 {built-in method builtins.hash}\n",
      "     5400    0.004    0.000    0.004    0.000 quantity.py:1479(UnitsContainer)\n",
      "     9000    0.003    0.000    0.003    0.000 {method 'endswith' of 'str' objects}\n",
      "    10800    0.003    0.000    0.003    0.000 {method 'replace' of 'str' objects}\n",
      "      900    0.003    0.000    0.003    0.000 __init__.py:1033(__setitem__)\n",
      "     2700    0.003    0.000    0.003    0.000 {built-in method builtins.min}\n",
      "     1800    0.002    0.000    0.002    0.000 util.py:673(_normalize_nonfloat_value)\n",
      "     6305    0.002    0.000    0.002    0.000 {built-in method builtins.issubclass}\n",
      "      900    0.001    0.000    0.002    0.000 errors.py:51(_no_space)\n",
      "      900    0.001    0.000    0.001    0.000 __init__.py:999(__bool__)\n",
      "     1800    0.001    0.000    0.001    0.000 {method 'pop' of 'dict' objects}\n",
      "     2700    0.001    0.000    0.001    0.000 {built-in method builtins.max}\n",
      "     1800    0.001    0.000    0.001    0.000 quantity.py:298(m)\n",
      "     2250    0.001    0.000    0.001    0.000 quantity.py:293(magnitude)\n",
      "      450    0.001    0.000    0.001    0.000 {method 'ravel' of 'numpy.ndarray' objects}\n",
      "      900    0.001    0.000    0.001    0.000 __init__.py:973(__missing__)\n",
      "      900    0.001    0.000    0.001    0.000 errors.py:38(is_dim)\n",
      "      900    0.001    0.000    0.001    0.000 definitions.py:88(symbol)\n",
      "     1350    0.001    0.000    0.001    0.000 {built-in method _operator.add}\n",
      "     1800    0.001    0.000    0.001    0.000 {method 'strip' of 'str' objects}\n",
      "     1800    0.001    0.000    0.001    0.000 util.py:425(__missing__)\n",
      "      900    0.001    0.000    0.001    0.000 {method 'isidentifier' of 'str' objects}\n",
      "      452    0.000    0.000    0.001    0.000 linalg.py:140(isComplexType)\n",
      "      900    0.000    0.000    0.000    0.000 definitions.py:209(symbol)\n",
      "      451    0.000    0.000    0.000    0.000 {built-in method numpy.asarray}\n",
      "        4    0.000    0.000    0.000    0.000 {built-in method numpy.array}\n",
      "      450    0.000    0.000    0.000    0.000 linalg.py:2379(_norm_dispatcher)\n",
      "        1    0.000    0.000    0.000    0.000 linalg.py:1499(svd)\n",
      "        1    0.000    0.000    0.000    0.000 fromnumeric.py:3513(std)\n",
      "        1    0.000    0.000    0.000    0.000 _methods.py:204(_std)\n",
      "        1    0.000    0.000    0.000    0.000 _methods.py:135(_var)\n",
      "        4    0.000    0.000    0.000    0.000 {method 'reduce' of 'numpy.ufunc' objects}\n",
      "        2    0.000    0.000    0.000    0.000 twodim_base.py:234(diag)\n",
      "        1    0.000    0.000    0.000    0.000 {method 'max' of 'numpy.ndarray' objects}\n",
      "        2    0.000    0.000    0.000    0.000 numeric.py:136(ones)\n",
      "        1    0.000    0.000    0.000    0.000 _methods.py:39(_amax)\n",
      "        1    0.000    0.000    0.000    0.000 linalg.py:159(_commonType)\n",
      "        2    0.000    0.000    0.000    0.000 {built-in method builtins.next}\n",
      "        1    0.000    0.000    0.000    0.000 _methods.py:67(_count_reduce_items)\n",
      "        1    0.000    0.000    0.000    0.000 fromnumeric.py:1565(diagonal)\n",
      "        2    0.000    0.000    0.000    0.000 _ufunc_config.py:452(_no_nep50_warning)\n",
      "        1    0.000    0.000    0.000    0.000 contextlib.py:130(__enter__)\n",
      "        1    0.000    0.000    0.000    0.000 numeric.py:203(ones_like)\n",
      "        1    0.000    0.000    0.000    0.000 contextlib.py:139(__exit__)\n",
      "        1    0.000    0.000    0.000    0.000 contextlib.py:279(helper)\n",
      "        2    0.000    0.000    0.000    0.000 linalg.py:153(_realType)\n",
      "        1    0.000    0.000    0.000    0.000 {method 'min' of 'numpy.ndarray' objects}\n",
      "        1    0.000    0.000    0.000    0.000 {method 'view' of 'numpy.ndarray' objects}\n",
      "        1    0.000    0.000    0.000    0.000 _methods.py:43(_amin)\n",
      "        1    0.000    0.000    0.000    0.000 contextlib.py:102(__init__)\n",
      "        2    0.000    0.000    0.000    0.000 {built-in method numpy.zeros}\n",
      "        1    0.000    0.000    0.000    0.000 linalg.py:135(_makearray)\n",
      "        1    0.000    0.000    0.000    0.000 {method 'diagonal' of 'numpy.ndarray' objects}\n",
      "        3    0.000    0.000    0.000    0.000 {method 'astype' of 'numpy.ndarray' objects}\n",
      "        1    0.000    0.000    0.000    0.000 <string>:1(<lambda>)\n",
      "        1    0.000    0.000    0.000    0.000 {method 'set' of '_contextvars.ContextVar' objects}\n",
      "        2    0.000    0.000    0.000    0.000 {built-in method numpy.empty}\n",
      "        1    0.000    0.000    0.000    0.000 linalg.py:203(_assert_stacked_2d)\n",
      "        1    0.000    0.000    0.000    0.000 linalg.py:130(get_linalg_error_extobj)\n",
      "        2    0.000    0.000    0.000    0.000 type_check.py:120(real)\n",
      "        5    0.000    0.000    0.000    0.000 {built-in method numpy.asanyarray}\n",
      "        1    0.000    0.000    0.000    0.000 type_check.py:166(imag)\n",
      "        3    0.000    0.000    0.000    0.000 multiarray.py:1080(copyto)\n",
      "        2    0.000    0.000    0.000    0.000 {method 'get' of 'dict' objects}\n",
      "        1    0.000    0.000    0.000    0.000 {method 'reset' of '_contextvars.ContextVar' objects}\n",
      "        1    0.000    0.000    0.000    0.000 {method 'disable' of '_lsprof.Profiler' objects}\n",
      "        2    0.000    0.000    0.000    0.000 twodim_base.py:230(_diag_dispatcher)\n",
      "        2    0.000    0.000    0.000    0.000 {method '__array_prepare__' of 'numpy.ndarray' objects}\n",
      "        1    0.000    0.000    0.000    0.000 {built-in method numpy.core._multiarray_umath.normalize_axis_index}\n",
      "        2    0.000    0.000    0.000    0.000 {built-in method builtins.abs}\n",
      "        2    0.000    0.000    0.000    0.000 type_check.py:116(_real_dispatcher)\n",
      "        1    0.000    0.000    0.000    0.000 multiarray.py:85(empty_like)\n",
      "        1    0.000    0.000    0.000    0.000 fromnumeric.py:1561(_diagonal_dispatcher)\n",
      "        1    0.000    0.000    0.000    0.000 linalg.py:1495(_svd_dispatcher)\n",
      "        1    0.000    0.000    0.000    0.000 type_check.py:162(_imag_dispatcher)\n",
      "        1    0.000    0.000    0.000    0.000 fromnumeric.py:3508(_std_dispatcher)\n",
      "        1    0.000    0.000    0.000    0.000 numeric.py:199(_ones_like_dispatcher)\n",
      "\n",
      "\n"
     ]
    }
   ],
   "source": [
    "cProfile.run(\"obj['test A'].solve(0.)\",sort='cumulative')"
   ]
  },
  {
   "cell_type": "code",
   "execution_count": 69,
   "id": "e9a6ced5-4441-45a0-82b6-d01a7f88857a",
   "metadata": {},
   "outputs": [
    {
     "name": "stdout",
     "output_type": "stream",
     "text": [
      "         4802041 function calls (4780405 primitive calls) in 8.371 seconds\n",
      "\n",
      "   Ordered by: cumulative time\n",
      "\n",
      "   ncalls  tottime  percall  cumtime  percall filename:lineno(function)\n",
      "        1    0.000    0.000    8.386    8.386 {built-in method builtins.exec}\n",
      "        1    0.000    0.000    8.385    8.385 <string>:1(<module>)\n",
      "        1    0.000    0.000    8.385    8.385 dissipation8c.py:280(properties)\n",
      "        2    0.001    0.000    8.361    4.181 dissipation8c.py:234(solve)\n",
      "     2700    0.134    0.000    7.167    0.003 dissipation8c.py:205(_Ksample)\n",
      "     5400    0.089    0.000    5.350    0.001 dissipation8b.py:321(K_jit)\n",
      "     5400    0.024    0.000    3.174    0.001 _quadpack_py.py:23(quad)\n",
      "     5400    0.013    0.000    3.141    0.001 _quadpack_py.py:557(_quad)\n",
      "     5400    2.568    0.000    3.129    0.001 {built-in method scipy.integrate._quadpack._qagie}\n",
      "        2    0.000    0.000    3.031    1.516 dissipation8c.py:268(<listcomp>)\n",
      "    31539    0.089    0.000    2.619    0.000 quantity.py:93(wrapped)\n",
      "        2    0.000    0.000    2.371    1.186 dissipation8c.py:267(<listcomp>)\n",
      "    50453    0.347    0.000    2.238    0.000 quantity.py:188(__new__)\n",
      "        2    0.000    0.000    1.780    0.890 dissipation8c.py:241(<listcomp>)\n",
      "    18031    0.040    0.000    1.532    0.000 quantity.py:74(wrapped)\n",
      "    16223    0.031    0.000    1.524    0.000 quantity.py:1017(__mul__)\n",
      "    18031    0.183    0.000    1.492    0.000 quantity.py:938(_mul_div)\n",
      "       60    0.003    0.000    1.176    0.020 dissipation8c.py:240(<listcomp>)\n",
      "      900    0.022    0.000    1.173    0.001 dissipation8c.py:195(_Kcoulomb)\n",
      "    11714    0.034    0.000    0.717    0.000 registry.py:59(parse_units_as_container)\n",
      "     7204    0.022    0.000    0.703    0.000 registry.py:1183(parse_units)\n",
      "    11714    0.029    0.000    0.683    0.000 registry.py:1214(parse_units_as_container)\n",
      "    11714    0.055    0.000    0.654    0.000 registry.py:1228(_parse_units_as_container)\n",
      "    10806    0.087    0.000    0.641    0.000 quantity.py:1209(__pow__)\n",
      "   108110    0.270    0.000    0.596    0.000 util.py:965(__new__)\n",
      "   414330    0.561    0.000    0.561    0.000 dissipation8b.py:225(integrand1jit)\n",
      "     4510    0.028    0.000    0.492    0.000 quantity.py:516(to)\n",
      "     1815    0.021    0.000    0.489    0.000 registry.py:652(get_name)\n",
      "     5400    0.026    0.000    0.447    0.000 quantity.py:60(__array_ufunc__)\n",
      "    84680    0.371    0.000    0.446    0.000 compat.py:102(_to_magnitude)\n",
      "     5400    0.022    0.000    0.405    0.000 numpy_func.py:1055(numpy_wrap)\n",
      "    87392    0.177    0.000    0.393    0.000 compat.py:282(is_upcast_type)\n",
      "     3618    0.006    0.000    0.371    0.000 registry.py:1101(parse_unit_name)\n",
      "     3618    0.018    0.000    0.365    0.000 registry.py:1162(_dedup_candidates)\n",
      "     5400    0.042    0.000    0.352    0.000 quantity.py:1046(__rtruediv__)\n",
      "     5400    0.010    0.000    0.346    0.000 numpy_func.py:514(_power)\n",
      "     3618    0.007    0.000    0.343    0.000 {built-in method fromkeys}\n",
      "    32446    0.020    0.000    0.343    0.000 {built-in method _operator.mul}\n",
      "     5400    0.027    0.000    0.342    0.000 quantity.py:569(to_base_units)\n",
      "     9045    0.168    0.000    0.336    0.000 registry.py:1130(_yield_unit_triplets)\n",
      "    16223    0.192    0.000    0.322    0.000 util.py:625(__mul__)\n",
      "    43253    0.081    0.000    0.321    0.000 objects.py:22(_get_non_multiplicative_units)\n",
      "     9910    0.017    0.000    0.274    0.000 quantity.py:475(_convert_magnitude_not_inplace)\n",
      "     9910    0.023    0.000    0.257    0.000 registry.py:1017(convert)\n",
      "     2702    0.008    0.000    0.232    0.000 quantity.py:845(__add__)\n",
      "   703908    0.175    0.000    0.223    0.000 {built-in method builtins.isinstance}\n",
      "     1808    0.009    0.000    0.205    0.000 quantity.py:1041(__truediv__)\n",
      "     2702    0.031    0.000    0.204    0.000 quantity.py:716(_add_sub)\n",
      "    43253    0.066    0.000    0.200    0.000 objects.py:24(<listcomp>)\n",
      "    87392    0.076    0.000    0.197    0.000 compat.py:263(check_upcast_type)\n",
      "     1809    0.008    0.000    0.193    0.000 registry.py:693(get_symbol)\n",
      "    24335    0.063    0.000    0.159    0.000 registry.py:1416(UnitsContainer)\n",
      "    24330    0.059    0.000    0.151    0.000 util.py:1031(to_units_container)\n",
      "     1810    0.007    0.000    0.139    0.000 registry.py:361(_convert)\n",
      "   528228    0.132    0.000    0.132    0.000 {method 'startswith' of 'str' objects}\n",
      "    32450    0.022    0.000    0.132    0.000 util.py:478(copy)\n",
      "    33337    0.074    0.000    0.131    0.000 util.py:574(__eq__)\n",
      "     1810    0.009    0.000    0.130    0.000 registry.py:215(_convert)\n",
      "    12604    0.040    0.000    0.126    0.000 util.py:641(__pow__)\n",
      "   212585    0.126    0.000    0.126    0.000 {built-in method builtins.hasattr}\n",
      "    87392    0.121    0.000    0.121    0.000 compat.py:252(fully_qualified_name)\n",
      "    32450    0.060    0.000    0.110    0.000 util.py:616(__copy__)\n",
      "    50453    0.078    0.000    0.102    0.000 <frozen importlib._bootstrap>:1053(_handle_fromlist)\n",
      "     5400    0.029    0.000    0.089    0.000 registry.py:180(_get_base_units)\n",
      "    24335    0.069    0.000    0.088    0.000 util.py:452(__init__)\n",
      "     7204    0.010    0.000    0.083    0.000 objects.py:17(_is_multiplicative)\n",
      "    50453    0.059    0.000    0.081    0.000 <frozen importlib._bootstrap>:404(parent)\n",
      "     3620    0.010    0.000    0.076    0.000 registry.py:138(_validate_and_extract)\n",
      "    81098    0.061    0.000    0.075    0.000 util.py:561(__hash__)\n",
      "    19911    0.044    0.000    0.075    0.000 __init__.py:996(__contains__)\n",
      "    32523    0.051    0.000    0.074    0.000 _collections_abc.py:901(__iter__)\n",
      "    28930    0.024    0.000    0.073    0.000 {built-in method builtins.any}\n",
      "    32515    0.044    0.000    0.073    0.000 quantity.py:1439(_get_unit_definition)\n",
      "    37989    0.052    0.000    0.071    0.000 definitions.py:197(is_multiplicative)\n",
      "     5400    0.009    0.000    0.069    0.000 util.py:666(__rtruediv__)\n",
      "   140562    0.062    0.000    0.062    0.000 {built-in method __new__ of type object at 0x105b332a0}\n",
      "    70330    0.040    0.000    0.061    0.000 util.py:549(__iter__)\n",
      "     3620    0.008    0.000    0.059    0.000 registry.py:165(<listcomp>)\n",
      "120853/99217    0.040    0.000    0.053    0.000 {built-in method builtins.len}\n",
      "    10806    0.019    0.000    0.052    0.000 compat.py:292(is_duck_array_type)\n",
      "     3616    0.019    0.000    0.049    0.000 {built-in method _operator.truediv}\n",
      "     5404    0.010    0.000    0.049    0.000 quantity.py:345(dimensionality)\n",
      "     1809    0.010    0.000    0.048    0.000 <string>:2(__init__)\n",
      "    32444    0.019    0.000    0.048    0.000 abc.py:117(__instancecheck__)\n",
      "     1810    0.018    0.000    0.045    0.000 registry.py:1052(_convert)\n",
      "    47040    0.042    0.000    0.043    0.000 __init__.py:976(__getitem__)\n",
      "    77476    0.041    0.000    0.041    0.000 quantity.py:147(force_ndarray)\n",
      "     5404    0.009    0.000    0.039    0.000 registry.py:721(_get_dimensionality)\n",
      "     1809    0.017    0.000    0.038    0.000 definitions.py:133(__post_init__)\n",
      "    20733    0.024    0.000    0.033    0.000 util.py:975(_check)\n",
      "    32450    0.033    0.000    0.033    0.000 util.py:428(copy)\n",
      "    10800    0.008    0.000    0.031    0.000 numpy_func.py:1069(<genexpr>)\n",
      "     1808    0.012    0.000    0.030    0.000 util.py:652(__truediv__)\n",
      "    21651    0.021    0.000    0.030    0.000 _collections_abc.py:832(items)\n",
      "    32444    0.029    0.000    0.029    0.000 {built-in method _abc._abc_instancecheck}\n",
      "     3652    0.007    0.000    0.028    0.000 registry.py:110(_is_multiplicative)\n",
      "    77476    0.028    0.000    0.028    0.000 quantity.py:151(force_ndarray_like)\n",
      "    50453    0.024    0.000    0.024    0.000 registry.py:224(get)\n",
      "    50453    0.022    0.000    0.022    0.000 {method 'rpartition' of 'str' objects}\n",
      "    27040    0.015    0.000    0.021    0.000 util.py:552(__len__)\n",
      "     1810    0.009    0.000    0.021    0.000 registry.py:831(_get_conversion_factor)\n",
      "    92792    0.021    0.000    0.021    0.000 {method 'values' of 'dict' objects}\n",
      "    70330    0.021    0.000    0.021    0.000 {built-in method builtins.iter}\n",
      "      900    0.009    0.000    0.021    0.000 linalg.py:2383(norm)\n",
      "     7204    0.019    0.000    0.020    0.000 unit.py:36(__init__)\n",
      "    30645    0.019    0.000    0.019    0.000 objects.py:45(_ok_for_muldiv)\n",
      "    39822    0.017    0.000    0.017    0.000 __init__.py:997(<genexpr>)\n",
      "    59455    0.016    0.000    0.016    0.000 {method 'items' of 'dict' objects}\n",
      "     1815    0.006    0.000    0.016    0.000 util.py:482(add)\n",
      "    47759    0.014    0.000    0.015    0.000 {built-in method builtins.getattr}\n",
      "     5400    0.011    0.000    0.014    0.000 quantity.py:66(<setcomp>)\n",
      "    24330    0.013    0.000    0.013    0.000 {method 'mro' of 'type' objects}\n",
      "    10818    0.008    0.000    0.011    0.000 registry.py:263(<lambda>)\n",
      "    25269    0.010    0.000    0.010    0.000 _collections_abc.py:854(__init__)\n",
      "    37989    0.010    0.000    0.010    0.000 converters.py:28(is_multiplicative)\n",
      "    26144    0.009    0.000    0.009    0.000 registry.py:459(non_int_type)\n",
      "      900    0.008    0.000    0.008    0.000 {method 'dot' of 'numpy.ndarray' objects}\n",
      "    10818    0.006    0.000    0.008    0.000 registry.py:260(<lambda>)\n",
      "     5400    0.004    0.000    0.007    0.000 numpy_func.py:26(_is_quantity)\n",
      "    22516    0.007    0.000    0.007    0.000 {built-in method builtins.hash}\n",
      "     7236    0.004    0.000    0.007    0.000 _collections_abc.py:877(__iter__)\n",
      "    12687    0.007    0.000    0.007    0.000 util.py:555(__getitem__)\n",
      "    10818    0.007    0.000    0.007    0.000 quantity.py:1479(UnitsContainer)\n",
      "    21636    0.005    0.000    0.005    0.000 {method 'replace' of 'str' objects}\n",
      "    18090    0.005    0.000    0.005    0.000 {method 'endswith' of 'str' objects}\n",
      "     5400    0.005    0.000    0.005    0.000 {built-in method builtins.min}\n",
      "     3618    0.003    0.000    0.004    0.000 _collections_abc.py:828(keys)\n",
      "     1809    0.003    0.000    0.004    0.000 errors.py:51(_no_space)\n",
      "     1809    0.004    0.000    0.004    0.000 __init__.py:1033(__setitem__)\n",
      "    12616    0.003    0.000    0.003    0.000 {built-in method builtins.issubclass}\n",
      "     3625    0.002    0.000    0.003    0.000 util.py:673(_normalize_nonfloat_value)\n",
      "     5400    0.003    0.000    0.003    0.000 {built-in method builtins.max}\n",
      "     1810    0.002    0.000    0.003    0.000 __init__.py:999(__bool__)\n",
      "     3618    0.002    0.000    0.002    0.000 {method 'pop' of 'dict' objects}\n",
      "     4510    0.002    0.000    0.002    0.000 quantity.py:293(magnitude)\n",
      "     3616    0.001    0.000    0.001    0.000 quantity.py:298(m)\n",
      "     2702    0.001    0.000    0.001    0.000 {built-in method _operator.add}\n",
      "     1809    0.001    0.000    0.001    0.000 errors.py:38(is_dim)\n",
      "     1809    0.001    0.000    0.001    0.000 __init__.py:973(__missing__)\n",
      "        8    0.001    0.000    0.001    0.000 {built-in method numpy.array}\n",
      "      900    0.001    0.000    0.001    0.000 {method 'ravel' of 'numpy.ndarray' objects}\n",
      "     1809    0.001    0.000    0.001    0.000 definitions.py:88(symbol)\n",
      "     3617    0.001    0.000    0.001    0.000 {method 'strip' of 'str' objects}\n",
      "     3628    0.001    0.000    0.001    0.000 util.py:425(__missing__)\n",
      "      904    0.001    0.000    0.001    0.000 linalg.py:140(isComplexType)\n",
      "     1809    0.001    0.000    0.001    0.000 {method 'isidentifier' of 'str' objects}\n",
      "     1809    0.001    0.000    0.001    0.000 definitions.py:209(symbol)\n",
      "      902    0.001    0.000    0.001    0.000 {built-in method numpy.asarray}\n",
      "      900    0.000    0.000    0.000    0.000 linalg.py:2379(_norm_dispatcher)\n",
      "        2    0.000    0.000    0.000    0.000 linalg.py:1499(svd)\n",
      "        2    0.000    0.000    0.000    0.000 fromnumeric.py:3513(std)\n",
      "        2    0.000    0.000    0.000    0.000 _methods.py:204(_std)\n",
      "        2    0.000    0.000    0.000    0.000 _methods.py:135(_var)\n",
      "        8    0.000    0.000    0.000    0.000 {method 'reduce' of 'numpy.ufunc' objects}\n",
      "        4    0.000    0.000    0.000    0.000 twodim_base.py:234(diag)\n",
      "        1    0.000    0.000    0.000    0.000 quantity.py:1297(__neg__)\n",
      "        2    0.000    0.000    0.000    0.000 {method 'max' of 'numpy.ndarray' objects}\n",
      "        4    0.000    0.000    0.000    0.000 numeric.py:136(ones)\n",
      "        2    0.000    0.000    0.000    0.000 _methods.py:39(_amax)\n",
      "        2    0.000    0.000    0.000    0.000 linalg.py:159(_commonType)\n",
      "        2    0.000    0.000    0.000    0.000 _methods.py:67(_count_reduce_items)\n",
      "        4    0.000    0.000    0.000    0.000 {built-in method builtins.next}\n",
      "        2    0.000    0.000    0.000    0.000 fromnumeric.py:1565(diagonal)\n",
      "        8    0.000    0.000    0.000    0.000 type_check.py:166(imag)\n",
      "        2    0.000    0.000    0.000    0.000 numeric.py:203(ones_like)\n",
      "        2    0.000    0.000    0.000    0.000 contextlib.py:130(__enter__)\n",
      "        4    0.000    0.000    0.000    0.000 _ufunc_config.py:452(_no_nep50_warning)\n",
      "        2    0.000    0.000    0.000    0.000 contextlib.py:279(helper)\n",
      "        2    0.000    0.000    0.000    0.000 contextlib.py:139(__exit__)\n",
      "        2    0.000    0.000    0.000    0.000 {method 'min' of 'numpy.ndarray' objects}\n",
      "        2    0.000    0.000    0.000    0.000 {method 'view' of 'numpy.ndarray' objects}\n",
      "        2    0.000    0.000    0.000    0.000 _methods.py:43(_amin)\n",
      "        2    0.000    0.000    0.000    0.000 contextlib.py:102(__init__)\n",
      "        4    0.000    0.000    0.000    0.000 linalg.py:153(_realType)\n",
      "        1    0.000    0.000    0.000    0.000 quantity.py:1027(_truedivide_cast_int)\n",
      "        4    0.000    0.000    0.000    0.000 {built-in method numpy.zeros}\n",
      "        2    0.000    0.000    0.000    0.000 linalg.py:135(_makearray)\n",
      "        2    0.000    0.000    0.000    0.000 {method 'diagonal' of 'numpy.ndarray' objects}\n",
      "        5    0.000    0.000    0.000    0.000 type_check.py:120(real)\n",
      "        6    0.000    0.000    0.000    0.000 {method 'astype' of 'numpy.ndarray' objects}\n",
      "        8    0.000    0.000    0.000    0.000 type_check.py:162(_imag_dispatcher)\n",
      "        4    0.000    0.000    0.000    0.000 {built-in method numpy.empty}\n",
      "        2    0.000    0.000    0.000    0.000 {method 'set' of '_contextvars.ContextVar' objects}\n",
      "        2    0.000    0.000    0.000    0.000 <string>:1(<lambda>)\n",
      "        2    0.000    0.000    0.000    0.000 linalg.py:130(get_linalg_error_extobj)\n",
      "       10    0.000    0.000    0.000    0.000 {built-in method numpy.asanyarray}\n",
      "        2    0.000    0.000    0.000    0.000 linalg.py:203(_assert_stacked_2d)\n",
      "        2    0.000    0.000    0.000    0.000 {method 'reset' of '_contextvars.ContextVar' objects}\n",
      "        4    0.000    0.000    0.000    0.000 {method 'get' of 'dict' objects}\n",
      "        6    0.000    0.000    0.000    0.000 multiarray.py:1080(copyto)\n",
      "        5    0.000    0.000    0.000    0.000 type_check.py:116(_real_dispatcher)\n",
      "        4    0.000    0.000    0.000    0.000 {built-in method builtins.abs}\n",
      "        4    0.000    0.000    0.000    0.000 twodim_base.py:230(_diag_dispatcher)\n",
      "        4    0.000    0.000    0.000    0.000 {method '__array_prepare__' of 'numpy.ndarray' objects}\n",
      "        2    0.000    0.000    0.000    0.000 linalg.py:1495(_svd_dispatcher)\n",
      "        2    0.000    0.000    0.000    0.000 {built-in method numpy.core._multiarray_umath.normalize_axis_index}\n",
      "        2    0.000    0.000    0.000    0.000 fromnumeric.py:3508(_std_dispatcher)\n",
      "        2    0.000    0.000    0.000    0.000 fromnumeric.py:1561(_diagonal_dispatcher)\n",
      "        1    0.000    0.000    0.000    0.000 {method 'disable' of '_lsprof.Profiler' objects}\n",
      "        2    0.000    0.000    0.000    0.000 multiarray.py:85(empty_like)\n",
      "        2    0.000    0.000    0.000    0.000 numeric.py:199(_ones_like_dispatcher)\n",
      "        1    0.000    0.000    0.000    0.000 {built-in method _operator.neg}\n",
      "\n",
      "\n"
     ]
    }
   ],
   "source": [
    "cProfile.run(\"obj['test A'].properties()\",sort='cumulative')"
   ]
  },
  {
   "cell_type": "markdown",
   "id": "9a132457-b51e-4e1e-949a-01afc6df1fa6",
   "metadata": {},
   "source": [
    "How many total points?"
   ]
  },
  {
   "cell_type": "code",
   "execution_count": 49,
   "id": "9443d2cf-5206-44af-9265-d8e1c12d5d16",
   "metadata": {},
   "outputs": [
    {
     "data": {
      "text/plain": [
       "450"
      ]
     },
     "execution_count": 49,
     "metadata": {},
     "output_type": "execute_result"
    }
   ],
   "source": [
    "obj['test'].info['N'] * obj['test'].info['M']"
   ]
  },
  {
   "cell_type": "markdown",
   "id": "842d7651-e014-4d4c-bcc9-906ac35dc13e",
   "metadata": {},
   "source": [
    "Why so many function calls?  It is because I build arrays many times over (the Coulomb part; the K real part and K imaginary part, times three).  I should be calling `_Ksample` (returning a complex number) 450 x 3 = 1350 times.  This is exactly what I see; the function `solve` calling `_Ksample` 1350 times.\n",
    "\n",
    "The core function we are calling over and over is `integrand1jit`.  How long does a single function call take?"
   ]
  },
  {
   "cell_type": "code",
   "execution_count": 173,
   "id": "b83b13ae-c039-4ac4-b2dd-e97876f86f0b",
   "metadata": {},
   "outputs": [
    {
     "data": {
      "text/plain": [
       "0.8690437772759312"
      ]
     },
     "execution_count": 173,
     "metadata": {},
     "output_type": "execute_result"
    }
   ],
   "source": [
    "integrand1jit(0.11, 0, sample1_jit_metal, 1e5, obj['test'].rj[4] * 1e-9,  obj['test'].rk[5] * 1e-9, False)"
   ]
  },
  {
   "cell_type": "code",
   "execution_count": 174,
   "id": "1ed94e4c-67b1-4e4e-8a6c-bbbc0e40f410",
   "metadata": {},
   "outputs": [
    {
     "name": "stdout",
     "output_type": "stream",
     "text": [
      "9.19 μs ± 2.67 μs per loop (mean ± std. dev. of 7 runs, 10,000 loops each)\n"
     ]
    }
   ],
   "source": [
    "%%timeit\n",
    "integrand1jit(0.11, 0, sample1_jit_metal, 1e5, obj['test'].rj[4] * 1e-9,  obj['test'].rk[5] * 1e-9, False)"
   ]
  },
  {
   "cell_type": "markdown",
   "id": "ce1eb996-9d4b-4ad5-a577-77019e88db70",
   "metadata": {},
   "source": [
    "The main function that calls `integrand1jit` is `K_jit`, which is actually not a compiled function as the name implies.  The function `K_jit` integrates the function `integrand1jit` from $0$ to $\\infty$.  Let's see how many function calls \n",
    "that takes on average.\n"
   ]
  },
  {
   "cell_type": "code",
   "execution_count": 105,
   "id": "c21a5ac0-22dd-466b-8746-294f65bc13db",
   "metadata": {},
   "outputs": [],
   "source": [
    "from dissipationtheory.dissipation8b import K_jit\n",
    "from scipy import integrate"
   ]
  },
  {
   "cell_type": "markdown",
   "id": "f95933ec-ca9c-4df0-a7d2-0b6a8b11263f",
   "metadata": {},
   "source": [
    "Pick some values that return a non-trivial answer."
   ]
  },
  {
   "cell_type": "code",
   "execution_count": 154,
   "id": "3d169e4d-67ad-4c12-a3c3-9b0c6e34b8ae",
   "metadata": {},
   "outputs": [
    {
     "data": {
      "text/html": [
       "14589288.888617216 1/meter"
      ],
      "text/latex": [
       "$14589288.888617216\\ \\frac{1}{\\mathrm{meter}}$"
      ],
      "text/plain": [
       "<Quantity(14589288.888617216, '1 / meter')>"
      ]
     },
     "execution_count": 154,
     "metadata": {},
     "output_type": "execute_result"
    }
   ],
   "source": [
    "K_jit(integrand1jit, 0, sample1_jit_metal, 0., obj['test'].rj[4] * 1e-9,  obj['test'].rk[5] * 1e-9, False)"
   ]
  },
  {
   "cell_type": "code",
   "execution_count": 139,
   "id": "d0fd7a2d-d2d0-4ca3-b334-e9520b43a9d0",
   "metadata": {},
   "outputs": [
    {
     "name": "stdout",
     "output_type": "stream",
     "text": [
      "427 μs ± 51.2 μs per loop (mean ± std. dev. of 7 runs, 1,000 loops each)\n"
     ]
    }
   ],
   "source": [
    "%%timeit\n",
    "K_jit(integrand1jit, 0, sample1_jit_metal, 0., obj['test'].rj[4] * 1e-9,  obj['test'].rk[5] * 1e-9, False)"
   ]
  },
  {
   "cell_type": "markdown",
   "id": "eb491889-7ece-442e-8f72-f634b7160c1a",
   "metadata": {},
   "source": [
    "The integration takes, on average, about 72 function calls.  We'll see below that `scipy.integrate.quad` returns an estimated error of about $1$ part on $10^{10}$.  That is a remarkably good error considering how few function calls are made to `integrand1jit`.  I don't know how good the error estimate *actually* is.  I do know that our capacitance calculations appear to be good to at least a few parts in $10^{6}$. \n",
    "\n",
    "Write a version of the `K_jit` function without units handling, that just returns the real part of the integrand (removing an if-then loop)."
   ]
  },
  {
   "cell_type": "code",
   "execution_count": 131,
   "id": "aedab261-e468-4dd1-9cc4-d08401e09375",
   "metadata": {},
   "outputs": [],
   "source": [
    "def K_jit_real_new(integrand, power, sample, omega, location1, location2):\n",
    "    \"\"\"Compute the integral :math:`K`.  The answer is returned without units. \"\"\"\n",
    "\n",
    "    return integrate.quad(integrand, 0., np.inf, args=(power, sample, omega, location1, location2, False))"
   ]
  },
  {
   "cell_type": "markdown",
   "id": "5bcfeb83-3bd5-4567-832f-88eead9aa7fa",
   "metadata": {},
   "source": [
    "Make sure we have picked values that return a non-trivial answer."
   ]
  },
  {
   "cell_type": "code",
   "execution_count": 132,
   "id": "52477aaa-ef91-443e-803f-2932d9e228e2",
   "metadata": {},
   "outputs": [
    {
     "data": {
      "text/plain": [
       "(0.7294644444308608, 8.076597024893128e-11)"
      ]
     },
     "execution_count": 132,
     "metadata": {},
     "output_type": "execute_result"
    }
   ],
   "source": [
    "K_jit_real_new(integrand1jit, 0, sample1_jit_metal, 0., obj['test'].rj[4] * 1e-9,  obj['test'].rk[5] * 1e-9)"
   ]
  },
  {
   "cell_type": "markdown",
   "id": "37ccd011-a45c-4c21-919a-b3950c163a80",
   "metadata": {},
   "source": [
    "Note how small the error is!"
   ]
  },
  {
   "cell_type": "code",
   "execution_count": 140,
   "id": "386162f2-e985-4edf-908d-2a9c604b0b7c",
   "metadata": {},
   "outputs": [
    {
     "name": "stdout",
     "output_type": "stream",
     "text": [
      "291 μs ± 38.6 μs per loop (mean ± std. dev. of 7 runs, 1,000 loops each)\n"
     ]
    }
   ],
   "source": [
    "%%timeit\n",
    "K_jit_real_new(integrand1jit, 0, sample1_jit_metal, 0., obj['test'].rj[4] * 1e-9,  obj['test'].rk[5] * 1e-9)"
   ]
  },
  {
   "cell_type": "markdown",
   "id": "41e7b40b-3b11-4b01-bf20-811427e9f801",
   "metadata": {},
   "source": [
    "Ok, a slight speedup (maybe 25%) was obtained by stripping out the units handling and the if-then loop.\n",
    "\n",
    "Play with the `integrate.quad` function call to see if we can speed it up a little bit.  Turn down the relative tolerance to only `1e-3` (about our noise level)."
   ]
  },
  {
   "cell_type": "code",
   "execution_count": 165,
   "id": "9d36e502-b50d-4bb1-b1da-e7579c7bd073",
   "metadata": {},
   "outputs": [
    {
     "data": {
      "text/plain": [
       "(0.7294644469834035, 0.00020766808959750242)"
      ]
     },
     "execution_count": 165,
     "metadata": {},
     "output_type": "execute_result"
    }
   ],
   "source": [
    "integrate.quad(integrand1jit, 0., np.inf, epsrel=1e-03,\n",
    "    args=(0, sample1_jit_metal, 0., obj['test'].rj[4] * 1e-9,  obj['test'].rk[5] * 1e-9, False))"
   ]
  },
  {
   "cell_type": "code",
   "execution_count": 166,
   "id": "2c688761-bce5-42a0-a239-558966d8c5c3",
   "metadata": {},
   "outputs": [
    {
     "name": "stdout",
     "output_type": "stream",
     "text": [
      "149 μs ± 11.8 μs per loop (mean ± std. dev. of 7 runs, 1,000 loops each)\n"
     ]
    }
   ],
   "source": [
    "%%timeit\n",
    "integrate.quad(integrand1jit, 0., np.inf, epsrel=1e-03,\n",
    "    args=(0, sample1_jit_metal, 0., obj['test'].rj[4] * 1e-9,  obj['test'].rk[5] * 1e-9, False))"
   ]
  },
  {
   "cell_type": "markdown",
   "id": "3886074c-cc7a-411c-b7c2-94dc4e6487e5",
   "metadata": {},
   "source": [
    "This gets you only a factor of 2 speedup!"
   ]
  },
  {
   "cell_type": "markdown",
   "id": "f89bcb8e-da8d-47b1-ae7d-ea9a63ace607",
   "metadata": {},
   "source": [
    "Now time how I do the looping to set up the matrix.  The code below isn't exactlyl what I do, but it's similar."
   ]
  },
  {
   "cell_type": "code",
   "execution_count": 198,
   "id": "730337ff-8964-4d23-8b17-5fc91545099a",
   "metadata": {},
   "outputs": [
    {
     "name": "stdout",
     "output_type": "stream",
     "text": [
      "216 ms ± 30.2 ms per loop (mean ± std. dev. of 7 runs, 1 loop each)\n"
     ]
    }
   ],
   "source": [
    "%%timeit\n",
    "np.array([[\n",
    "    (obj['test'].zr * K_jit(integrand1jit, 0, sample1_jit_metal, 0., rj * 1e-9,  rk * 1e-9, False)).to('').magnitude\n",
    "    for rj in obj['test'].rj] for rk in obj['test'].rk])"
   ]
  },
  {
   "cell_type": "markdown",
   "id": "8ed4b661-961b-451a-b289-90ee1ec58b28",
   "metadata": {},
   "source": [
    "What do I expect?  I would expect 0.4 ms/pt x 450 pts = 180 ms, which is approximately what I see.  I conclude that there does not seem to be a lot of functional overhead when looping using a list comprehension.\n",
    "\n",
    "Now make a stripped-down function ..."
   ]
  },
  {
   "cell_type": "code",
   "execution_count": 199,
   "id": "ffdd0d20-da9c-436e-b193-f80b7580c396",
   "metadata": {},
   "outputs": [],
   "source": [
    "def K_jit_real_new(integrand, power, sample, omega, location1, location2):\n",
    "    \"\"\"Compute the integral :math:`K`.  The answer is returned without units. \"\"\"\n",
    "\n",
    "    return integrate.quad(integrand, 0., np.inf, args=(power, sample, omega, location1, location2, False))[0]"
   ]
  },
  {
   "cell_type": "markdown",
   "id": "6c52864f-9c67-43d9-afba-dd827d40c7b0",
   "metadata": {},
   "source": [
    "... and loop it ..."
   ]
  },
  {
   "cell_type": "code",
   "execution_count": 200,
   "id": "141912db-787d-4b5c-9217-7ffe9d9df161",
   "metadata": {},
   "outputs": [
    {
     "name": "stdout",
     "output_type": "stream",
     "text": [
      "142 ms ± 26 ms per loop (mean ± std. dev. of 7 runs, 1 loop each)\n"
     ]
    }
   ],
   "source": [
    "%%timeit\n",
    "np.array([[\n",
    "    K_jit_real_new(integrand1jit, 0, sample1_jit_metal, 0., rj * 1e-9,  rk * 1e-9)\n",
    "    for rj in obj['test'].rj] for rk in obj['test'].rk])"
   ]
  },
  {
   "cell_type": "markdown",
   "id": "4c034e5e-b264-480f-9a53-d26e6bcb2b13",
   "metadata": {},
   "source": [
    "OK, somewhat faster, by a factor of maybe 1.5."
   ]
  },
  {
   "cell_type": "markdown",
   "id": "6b1aab45-d7eb-4fdc-8199-aee2883ab6a1",
   "metadata": {},
   "source": [
    "# Next steps\n",
    "\n",
    "- Plot the evaluation time versus the number of image-charge points (it should grow quadratically)\n",
    "- Determine the shortest length of cone needed for 1%-level convergence (minmize the total number of image-charge points)\n",
    "- Modify the `.addsphere` function to optionally use half as many voltage-test points, varying the angle over $\\pi$ instead of $2 \\pi$ (a free factor of 4 speedup)\n",
    "- Write a function to rapidly compute the response function of a metal (for fast data fitting to obtain tip radius, cone angle)\n",
    "- Compare the evaluation of `K_jit` with `integrand1jit` and `integrand2jit` (expect the second one to be faster)\n",
    "- Make a Type III sample, a semi-infinite semiconductor, and an associated integrand `integrand3jit` (should evaluate even faster, for first-pass data analysis)\n",
    "- Implement vector integration (Google \"python integrating a vector function\", see the code beloe; integrate K0, K1, K2 all at once; a possible 6-fold speedup)\n",
    "- Remove units and if-then statements from functions (tedious; this may also speed things up)\n",
    "- Look into pre-computing constants in the integrands (a painful recoding would be required; this may speed things up)\n",
    "\n",
    "\n",
    "If the sample is thick enough, we can model it as a Type III sample which could speed up computations considerably."
   ]
  },
  {
   "cell_type": "markdown",
   "id": "003f9ff3-91c4-461f-819a-a3394f464c14",
   "metadata": {},
   "source": [
    "# Explore vector integration\n",
    "\n",
    "We can't integrate a complex-values function, but we can integrate a vector function."
   ]
  },
  {
   "cell_type": "code",
   "execution_count": 252,
   "id": "11f1a6bd-d05b-4a30-b97f-8bf74b69bb8a",
   "metadata": {},
   "outputs": [],
   "source": [
    "def func(x):\n",
    "    return np.array([np.cos(2 * np.pi * x), np.sin(2 * np.pi * x)])"
   ]
  },
  {
   "cell_type": "code",
   "execution_count": 253,
   "id": "772cf52c-7dbe-42fa-87b3-b254779971f5",
   "metadata": {},
   "outputs": [
    {
     "data": {
      "text/plain": [
       "array([0.70710678, 0.70710678])"
      ]
     },
     "execution_count": 253,
     "metadata": {},
     "output_type": "execute_result"
    }
   ],
   "source": [
    "func(0.125)"
   ]
  },
  {
   "cell_type": "code",
   "execution_count": 254,
   "id": "17def906-821d-4c46-9f86-d216a19fd926",
   "metadata": {},
   "outputs": [
    {
     "data": {
      "text/plain": [
       "(array([0.15915494, 0.15915494]), 7.908415680563028e-15)"
      ]
     },
     "execution_count": 254,
     "metadata": {},
     "output_type": "execute_result"
    }
   ],
   "source": [
    "integrate.quad_vec(func, 0., 0.25)"
   ]
  },
  {
   "cell_type": "markdown",
   "id": "5c649c25-86a2-40ce-91ba-70c69a54803a",
   "metadata": {},
   "source": [
    "We can collapse the vector result into a single complex number by taking the dot product with the vector $(1,i)$"
   ]
  },
  {
   "cell_type": "code",
   "execution_count": 255,
   "id": "5b0b3183-80e7-4e07-a6cd-bfe59eb0e8d5",
   "metadata": {},
   "outputs": [
    {
     "data": {
      "text/plain": [
       "(0.15915494309189532+0.15915494309189532j)"
      ]
     },
     "execution_count": 255,
     "metadata": {},
     "output_type": "execute_result"
    }
   ],
   "source": [
    "integrate.quad_vec(func, 0., 0.25)[0] @ np.array([complex(1,0), complex(0,1)])"
   ]
  },
  {
   "cell_type": "markdown",
   "id": "b8c92715-870c-467d-b655-876224890f66",
   "metadata": {},
   "source": [
    "I think I can use this trick to integrate $K_0$, $K_1$, $K_2$ all a once.  Why do I expect this to be faster?  Each integrand differs by only a factor of $y^{\\ell}$ or $\\text{Re}(r_p(y,\\omega))$ versus $\\text{Im}(r_p(y,\\omega))$.  Computing $r_p(y,\\omega)$ is the computationally expensive part, and we just need to do that once per six computations."
   ]
  },
  {
   "cell_type": "markdown",
   "id": "c6a54e59-4d90-484e-8e75-5f7313989998",
   "metadata": {},
   "source": [
    "Let's explore a little more how this might work."
   ]
  },
  {
   "cell_type": "code",
   "execution_count": 259,
   "id": "69ac679e-3f4b-457f-9ad1-48d2668bae9f",
   "metadata": {},
   "outputs": [],
   "source": [
    "def func(x):\n",
    "    return np.array([np.cos(2 * np.pi * x), \n",
    "                     np.sin(2 * np.pi * x),\n",
    "                     np.exp(-x) * np.cos(2 * np.pi * x), \n",
    "                     np.exp(-x) * np.sin(2 * np.pi * x),\n",
    "                     np.exp(-2 * x) * np.cos(2 * np.pi * x), \n",
    "                     np.exp(-2 * x) * np.sin(2 * np.pi * x)])"
   ]
  },
  {
   "cell_type": "code",
   "execution_count": 260,
   "id": "64dadd30-7c18-43a4-89bc-c8fcf0640d87",
   "metadata": {},
   "outputs": [
    {
     "data": {
      "text/plain": [
       "array([0.15915494, 0.15915494, 0.14559239, 0.13598319, 0.13365124,\n",
       "       0.11661243])"
      ]
     },
     "execution_count": 260,
     "metadata": {},
     "output_type": "execute_result"
    }
   ],
   "source": [
    "integrate.quad_vec(func, 0., 0.25)[0]"
   ]
  },
  {
   "cell_type": "markdown",
   "id": "10573aec-bde2-42dd-bbfc-c9b5047c889c",
   "metadata": {},
   "source": [
    "How to reduce this result to three complex numbers?\n",
    "\n",
    "Here is one way:"
   ]
  },
  {
   "cell_type": "code",
   "execution_count": 265,
   "id": "3b03a697-06a5-491e-b6af-d577a9c0471d",
   "metadata": {},
   "outputs": [
    {
     "data": {
      "text/plain": [
       "array([0.15915494+0.15915494j, 0.14559239+0.13598319j,\n",
       "       0.13365124+0.11661243j])"
      ]
     },
     "execution_count": 265,
     "metadata": {},
     "output_type": "execute_result"
    }
   ],
   "source": [
    "integrate.quad_vec(func, 0., 0.25)[0] @ np.array([[complex(1,0), complex(0,1), 0, 0, 0, 0],\n",
    "                                                  [0, 0, complex(1,0), complex(0,1), 0, 0],\n",
    "                                                  [0, 0, 0, 0, complex(1,0), complex(0,1)]]).T"
   ]
  },
  {
   "cell_type": "markdown",
   "id": "9c610047-8be1-4131-b226-672606971c48",
   "metadata": {},
   "source": [
    "Here is another way:"
   ]
  },
  {
   "cell_type": "code",
   "execution_count": 272,
   "id": "ca2f708e-a573-4d2f-9b00-c0381d1daa19",
   "metadata": {},
   "outputs": [],
   "source": [
    "ans = integrate.quad_vec(func, 0., 0.25)[0] @ np.array([[complex(1,0), 0, 0],\n",
    "                                                       [complex(0,1), 0, 0],\n",
    "                                                       [0, complex(1,0), 0],\n",
    "                                                       [0, complex(0,1), 0],\n",
    "                                                       [0, 0, complex(1,0)],\n",
    "                                                       [0, 0, complex(0,1)]])"
   ]
  },
  {
   "cell_type": "code",
   "execution_count": 273,
   "id": "c620b44e-ec9d-4768-8871-9763746840c0",
   "metadata": {},
   "outputs": [],
   "source": [
    "K0, K1, K2 = ans"
   ]
  },
  {
   "cell_type": "code",
   "execution_count": 274,
   "id": "ff572a7e-cdaa-4412-a30a-a1ab9466a8e9",
   "metadata": {},
   "outputs": [
    {
     "data": {
      "text/plain": [
       "(0.15915494309189532+0.15915494309189532j)"
      ]
     },
     "execution_count": 274,
     "metadata": {},
     "output_type": "execute_result"
    }
   ],
   "source": [
    "K0"
   ]
  },
  {
   "cell_type": "code",
   "execution_count": 275,
   "id": "01b3bdd1-aa1e-42e5-8b95-a13a38bccb0c",
   "metadata": {},
   "outputs": [
    {
     "data": {
      "text/plain": [
       "(0.14559239185228917+0.13598319425203134j)"
      ]
     },
     "execution_count": 275,
     "metadata": {},
     "output_type": "execute_result"
    }
   ],
   "source": [
    "K1"
   ]
  },
  {
   "cell_type": "code",
   "execution_count": 276,
   "id": "3ecc4a05-07b7-451a-8b34-56d50ad27c2b",
   "metadata": {},
   "outputs": [
    {
     "data": {
      "text/plain": [
       "(0.1336512423781951+0.11661243134216984j)"
      ]
     },
     "execution_count": 276,
     "metadata": {},
     "output_type": "execute_result"
    }
   ],
   "source": [
    "K2"
   ]
  },
  {
   "cell_type": "markdown",
   "id": "af01aa06-6f6e-4e3c-8470-c340a86db3c7",
   "metadata": {},
   "source": [
    "::: {.content-hidden when-format=\"html\"}\n",
    "\n",
    "# Save the figures"
   ]
  },
  {
   "cell_type": "code",
   "execution_count": 294,
   "id": "2e75a4e1-c7ef-4aa2-9f01-d9d26b3c6009",
   "metadata": {},
   "outputs": [],
   "source": [
    "if 1:\n",
    "    for num in figs.keys():\n",
    "        figname = THIS + \"Fig-\" + num\n",
    "        figs[num].savefig(figname + '.png', dpi=300)\n",
    "        figs[num].savefig(figname + '.pdf')"
   ]
  },
  {
   "cell_type": "markdown",
   "id": "362d7e8e-5d18-4d64-9fea-89753f028d57",
   "metadata": {},
   "source": [
    "# Formatting notes\n",
    "\n",
    "The header at the top of this file is for creating a nicely-formatted `.html` document using the program `quarto` ([link](https://quarto.org/)).  To create nicely-formated `.html`versions of this notebook, run `quarto` from the command line as follows\n",
    "\n",
    "    quarto render dissipation-theory--Study-50.ipynb && open dissipation-theory--Study-50.html\n",
    "    \n",
    ":::"
   ]
  },
  {
   "cell_type": "code",
   "execution_count": null,
   "id": "9e2e2f65-bc2b-4a12-ac81-60ef40d6ebf0",
   "metadata": {},
   "outputs": [],
   "source": []
  }
 ],
 "metadata": {
  "kernelspec": {
   "display_name": "dissipationtheory",
   "language": "python",
   "name": "dissipationtheory"
  },
  "language_info": {
   "codemirror_mode": {
    "name": "ipython",
    "version": 3
   },
   "file_extension": ".py",
   "mimetype": "text/x-python",
   "name": "python",
   "nbconvert_exporter": "python",
   "pygments_lexer": "ipython3",
   "version": "3.10.2"
  }
 },
 "nbformat": 4,
 "nbformat_minor": 5
}
