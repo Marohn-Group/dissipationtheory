{
 "cells": [
  {
   "cell_type": "markdown",
   "id": "a4ff1280-c95e-433d-9fe6-05dea4adbd2d",
   "metadata": {},
   "source": [
    "- Name: `dissipation-theory--Study-27.ipynb`\n",
    "- Author: John A. Marohn\n",
    "- Date: 2024-10-13\n",
    "- Continued from: ---\n",
    "- Continued to: ---\n",
    "- Summary: The pure-Python objects `CantileverModel`, `SampleModel1`, and `SampleModel2` offer a better way to input simulation parameters, because you can input parameters *with units*, but the pure-Python computations are painfully show.   Work out how to pass parameters from `CantileverModel` to `CantileverModelJit`, from `SampleModel1` to `SampleModel1Jit`, and from `SampleModel2` to `SampleModel2Jit`.  We can now enter parameters using the pure-Python objects, then transfer the parameters to the numba/jit objects for fast computations."
   ]
  },
  {
   "cell_type": "code",
   "execution_count": 1,
   "id": "1fa53513-ac38-45cb-875f-d60a7d6d9bdc",
   "metadata": {},
   "outputs": [],
   "source": [
    "from dissipationtheory.constants import ureg\n",
    "from dissipationtheory.dissipation3 import CantileverModel, SampleModel1, SampleModel2\n",
    "from dissipationtheory.dissipation3 import CantileverModelJit, SampleModel1Jit, SampleModel2Jit"
   ]
  },
  {
   "cell_type": "markdown",
   "id": "2d2b504e-f9f3-4aa5-a93d-f54cbc9b10fd",
   "metadata": {},
   "source": [
    "Use the data in the pure python `CantileverModel` object to initiate a `CantileverModelJit` instance.  Modify the `CantileverModel` code to create a helper function, `.args()`, that spits out a dictionary of parameters that can be fed directly to `CantileverModelJit`.  This new initialization procedure reduces errors that could arise by having to create two cantilever models, one for pure-Python functions and one for numba/jit functions.  The `CantileverModel` is a better way to input cantilever parameters because you input data with units."
   ]
  },
  {
   "cell_type": "code",
   "execution_count": 2,
   "id": "6793ff78-2a69-4ce0-9c56-2d26c2a0bf04",
   "metadata": {},
   "outputs": [],
   "source": [
    "cantilever = CantileverModel(\n",
    "    f_c = ureg.Quantity(75, 'kHz'),\n",
    "    k_c = ureg.Quantity(2.8, 'N/m'), \n",
    "    V_ts = ureg.Quantity(1, 'V'), \n",
    "    R = ureg.Quantity(35, 'nm'), \n",
    "    d = ureg.Quantity(38, 'nm')\n",
    ")"
   ]
  },
  {
   "cell_type": "code",
   "execution_count": 3,
   "id": "f7060f9d-bdfd-4f43-a8e8-261eb9a42339",
   "metadata": {},
   "outputs": [
    {
     "data": {
      "text/plain": [
       "cantilever\n",
       "\n",
       "      resonance freq = 75.000 kHz\n",
       "                     = 4.712e+05 rad/s\n",
       "     spring constant = 2.800 N/m\n",
       "  tip-sample voltage = 1.000 V\n",
       "              radius = 35.000 nm\n",
       "              height = 38.000 nm"
      ]
     },
     "execution_count": 3,
     "metadata": {},
     "output_type": "execute_result"
    }
   ],
   "source": [
    "cantilever"
   ]
  },
  {
   "cell_type": "markdown",
   "id": "b378a203-e8c0-4d9f-921b-163067e2ea60",
   "metadata": {},
   "source": [
    "Check that the `.args` function outputs the cantilever parameters as a dictionary, with the parameters converted to SI units and output as plain floats (i.e., no units)."
   ]
  },
  {
   "cell_type": "code",
   "execution_count": 4,
   "id": "f7bd21d2-df55-4ba0-8e7f-2ddb83e41f5e",
   "metadata": {},
   "outputs": [
    {
     "data": {
      "text/plain": [
       "{'f_c': 75000.0, 'k_c': 2.8, 'V_ts': 1, 'R': 3.5e-08, 'd': 3.8e-08}"
      ]
     },
     "execution_count": 4,
     "metadata": {},
     "output_type": "execute_result"
    }
   ],
   "source": [
    "cantilever.args()"
   ]
  },
  {
   "cell_type": "markdown",
   "id": "3485a1f0-93c7-4ba5-bcfd-af73fc3aa347",
   "metadata": {},
   "source": [
    "Feed this dictionary to `CantileverModelJit` to initialize the `cantilever_jit` object."
   ]
  },
  {
   "cell_type": "code",
   "execution_count": 5,
   "id": "82ab99eb-fa76-4c66-85ba-6fff73fd146f",
   "metadata": {},
   "outputs": [
    {
     "name": "stdout",
     "output_type": "stream",
     "text": [
      "   cantilever freq =  75000.0 Hz\n",
      "                   =  471238.89803846896 rad/s\n",
      "   spring constant =  2.8 N/m\n",
      "tip-sample voltage =  1.0 V\n",
      "            radius =  3.5e-08 m\n",
      "            height =  3.8e-08 m\n"
     ]
    }
   ],
   "source": [
    "cantilever_jit = CantileverModelJit(**cantilever.args())\n",
    "cantilever_jit.print()"
   ]
  },
  {
   "cell_type": "markdown",
   "id": "42d94b43-583b-443e-8b41-24de5cd9e3fa",
   "metadata": {},
   "source": [
    "Now try this same initialization hack with the sample object.  This is trickier because the sample model input has two sets of parameters -- cantilever parameters and sample parameters.  Try to initiate a `SampleModel1Jit` object by passing initialization parameters as a dictionary, really a dictionary of dictionaries, with the cantilever parameters as a dictionary."
   ]
  },
  {
   "cell_type": "code",
   "execution_count": 6,
   "id": "e5e37fc9-8d81-4883-9e52-687ce3affbe2",
   "metadata": {},
   "outputs": [],
   "source": [
    "cantilever_args = cantilever.args()\n",
    "sample_args = {\n",
    "    'cantilever': cantilever_args,\n",
    "    'h_s': 500e-9,\n",
    "    'epsilon_s': complex(20, -0.2),\n",
    "    'sigma': 1e-5,\n",
    "    'rho': 1e21,\n",
    "    'epsilon_d': complex(1e6, 0),\n",
    "    'z_r': 300e-9\n",
    "    }"
   ]
  },
  {
   "cell_type": "code",
   "execution_count": 7,
   "id": "6ca6a3b0-8b55-409b-a3e4-4df5365f4e27",
   "metadata": {},
   "outputs": [
    {
     "ename": "TypingError",
     "evalue": "Failed in nopython mode pipeline (step: nopython frontend)\nnon-precise type pyobject\nDuring: typing of argument at <string> (2)\n\nFile \"<string>\", line 2:\n<source missing, REPL/exec in use?> \n\nThis error may have been caused by the following argument(s):\n- argument 0: Cannot determine Numba type of <class 'dict'>\n",
     "output_type": "error",
     "traceback": [
      "\u001b[0;31m---------------------------------------------------------------------------\u001b[0m",
      "\u001b[0;31mTypingError\u001b[0m                               Traceback (most recent call last)",
      "Cell \u001b[0;32mIn[7], line 1\u001b[0m\n\u001b[0;32m----> 1\u001b[0m sample_jit \u001b[38;5;241m=\u001b[39m \u001b[43mSampleModel1Jit\u001b[49m\u001b[43m(\u001b[49m\u001b[38;5;241;43m*\u001b[39;49m\u001b[38;5;241;43m*\u001b[39;49m\u001b[43msample_args\u001b[49m\u001b[43m)\u001b[49m\n",
      "File \u001b[0;32m~/Library/Caches/pypoetry/virtualenvs/dissipationtheory-Uvi85QQO-py3.9/lib/python3.9/site-packages/numba/experimental/jitclass/base.py:124\u001b[0m, in \u001b[0;36mJitClassType.__call__\u001b[0;34m(cls, *args, **kwargs)\u001b[0m\n\u001b[1;32m    122\u001b[0m bind \u001b[38;5;241m=\u001b[39m \u001b[38;5;28mcls\u001b[39m\u001b[38;5;241m.\u001b[39m_ctor_sig\u001b[38;5;241m.\u001b[39mbind(\u001b[38;5;28;01mNone\u001b[39;00m, \u001b[38;5;241m*\u001b[39margs, \u001b[38;5;241m*\u001b[39m\u001b[38;5;241m*\u001b[39mkwargs)\n\u001b[1;32m    123\u001b[0m bind\u001b[38;5;241m.\u001b[39mapply_defaults()\n\u001b[0;32m--> 124\u001b[0m \u001b[38;5;28;01mreturn\u001b[39;00m \u001b[38;5;28;43mcls\u001b[39;49m\u001b[38;5;241;43m.\u001b[39;49m\u001b[43m_ctor\u001b[49m\u001b[43m(\u001b[49m\u001b[38;5;241;43m*\u001b[39;49m\u001b[43mbind\u001b[49m\u001b[38;5;241;43m.\u001b[39;49m\u001b[43margs\u001b[49m\u001b[43m[\u001b[49m\u001b[38;5;241;43m1\u001b[39;49m\u001b[43m:\u001b[49m\u001b[43m]\u001b[49m\u001b[43m,\u001b[49m\u001b[43m \u001b[49m\u001b[38;5;241;43m*\u001b[39;49m\u001b[38;5;241;43m*\u001b[39;49m\u001b[43mbind\u001b[49m\u001b[38;5;241;43m.\u001b[39;49m\u001b[43mkwargs\u001b[49m\u001b[43m)\u001b[49m\n",
      "File \u001b[0;32m~/Library/Caches/pypoetry/virtualenvs/dissipationtheory-Uvi85QQO-py3.9/lib/python3.9/site-packages/numba/core/dispatcher.py:468\u001b[0m, in \u001b[0;36m_DispatcherBase._compile_for_args\u001b[0;34m(self, *args, **kws)\u001b[0m\n\u001b[1;32m    464\u001b[0m         msg \u001b[38;5;241m=\u001b[39m (\u001b[38;5;124mf\u001b[39m\u001b[38;5;124m\"\u001b[39m\u001b[38;5;132;01m{\u001b[39;00m\u001b[38;5;28mstr\u001b[39m(e)\u001b[38;5;241m.\u001b[39mrstrip()\u001b[38;5;132;01m}\u001b[39;00m\u001b[38;5;124m \u001b[39m\u001b[38;5;130;01m\\n\u001b[39;00m\u001b[38;5;130;01m\\n\u001b[39;00m\u001b[38;5;124mThis error may have been caused \u001b[39m\u001b[38;5;124m\"\u001b[39m\n\u001b[1;32m    465\u001b[0m                \u001b[38;5;124mf\u001b[39m\u001b[38;5;124m\"\u001b[39m\u001b[38;5;124mby the following argument(s):\u001b[39m\u001b[38;5;130;01m\\n\u001b[39;00m\u001b[38;5;132;01m{\u001b[39;00margs_str\u001b[38;5;132;01m}\u001b[39;00m\u001b[38;5;130;01m\\n\u001b[39;00m\u001b[38;5;124m\"\u001b[39m)\n\u001b[1;32m    466\u001b[0m         e\u001b[38;5;241m.\u001b[39mpatch_message(msg)\n\u001b[0;32m--> 468\u001b[0m     \u001b[43merror_rewrite\u001b[49m\u001b[43m(\u001b[49m\u001b[43me\u001b[49m\u001b[43m,\u001b[49m\u001b[43m \u001b[49m\u001b[38;5;124;43m'\u001b[39;49m\u001b[38;5;124;43mtyping\u001b[39;49m\u001b[38;5;124;43m'\u001b[39;49m\u001b[43m)\u001b[49m\n\u001b[1;32m    469\u001b[0m \u001b[38;5;28;01mexcept\u001b[39;00m errors\u001b[38;5;241m.\u001b[39mUnsupportedError \u001b[38;5;28;01mas\u001b[39;00m e:\n\u001b[1;32m    470\u001b[0m     \u001b[38;5;66;03m# Something unsupported is present in the user code, add help info\u001b[39;00m\n\u001b[1;32m    471\u001b[0m     error_rewrite(e, \u001b[38;5;124m'\u001b[39m\u001b[38;5;124munsupported_error\u001b[39m\u001b[38;5;124m'\u001b[39m)\n",
      "File \u001b[0;32m~/Library/Caches/pypoetry/virtualenvs/dissipationtheory-Uvi85QQO-py3.9/lib/python3.9/site-packages/numba/core/dispatcher.py:409\u001b[0m, in \u001b[0;36m_DispatcherBase._compile_for_args.<locals>.error_rewrite\u001b[0;34m(e, issue_type)\u001b[0m\n\u001b[1;32m    407\u001b[0m     \u001b[38;5;28;01mraise\u001b[39;00m e\n\u001b[1;32m    408\u001b[0m \u001b[38;5;28;01melse\u001b[39;00m:\n\u001b[0;32m--> 409\u001b[0m     \u001b[38;5;28;01mraise\u001b[39;00m e\u001b[38;5;241m.\u001b[39mwith_traceback(\u001b[38;5;28;01mNone\u001b[39;00m)\n",
      "\u001b[0;31mTypingError\u001b[0m: Failed in nopython mode pipeline (step: nopython frontend)\nnon-precise type pyobject\nDuring: typing of argument at <string> (2)\n\nFile \"<string>\", line 2:\n<source missing, REPL/exec in use?> \n\nThis error may have been caused by the following argument(s):\n- argument 0: Cannot determine Numba type of <class 'dict'>\n"
     ]
    }
   ],
   "source": [
    "sample_jit = SampleModel1Jit(**sample_args)"
   ]
  },
  {
   "cell_type": "markdown",
   "id": "1e8a558f-af0f-4607-85fe-50daa2446ec9",
   "metadata": {},
   "source": [
    "Failure!  The `SampleModel1Jit` object does not know what to do with the dictionary of cantilever parameters.\n",
    "\n",
    "Instead of trying to pass the cantilever parameters as a dictionary, try putting the `cantilever_jit` object in this dictionary.\n",
    "Amazingly, this works!"
   ]
  },
  {
   "cell_type": "code",
   "execution_count": 8,
   "id": "10f723b4-5717-4d01-976c-b359501456c7",
   "metadata": {},
   "outputs": [],
   "source": [
    "sample_args = {\n",
    "    'cantilever': cantilever_jit,\n",
    "    'h_s': 500e-9,\n",
    "    'epsilon_s': complex(20, -0.2),\n",
    "    'sigma': 1e-5,\n",
    "    'rho': 1e21,\n",
    "    'epsilon_d': complex(1e6, 0),\n",
    "    'z_r': 300e-9\n",
    "    }"
   ]
  },
  {
   "cell_type": "code",
   "execution_count": 9,
   "id": "624b3d25-9f7b-47b3-8a49-4c8a4b37c478",
   "metadata": {},
   "outputs": [
    {
     "name": "stdout",
     "output_type": "stream",
     "text": [
      "cantilever\n",
      "==========\n",
      "   cantilever freq =  75000.0 Hz\n",
      "                   =  471238.89803846896 rad/s\n",
      "   spring constant =  2.8 N/m\n",
      "tip-sample voltage =  1.0 V\n",
      "            radius =  3.5e-08 m\n",
      "            height =  3.8e-08 m\n",
      "\n",
      "semiconductor\n",
      "=============\n",
      "          epsilon (real) =  20.0\n",
      "          epsilon (imag) =  -0.2\n",
      "               thickness =  5e-07 m\n",
      "            conductivity =  1e-05 S/m\n",
      "          charge density =  1e+21 m^{{-3}}\n",
      "        reference height =  3e-07 m\n",
      " \n",
      "      roll-off frequency =  1129409.0673730192 Hz\n",
      "                mobility =  6.241509090043337e-08 m^2/(V s)\n",
      "      diffusion constant =  1.6135549206567651e-09 m^2/s\n",
      "            Debye length =  3.7797775481848936e-08 m\n",
      "        diffusion length =  5.851555252782804e-08 m\n",
      "effective epsilon (real) =  20.0\n",
      "effective epsilon (imag) =  -2.5966804779363124\n",
      "\n",
      "dielectric\n",
      "==========\n",
      " epsilon (real) =  1000000.0\n",
      " epsilon (imag) =  0.0\n",
      "      thickness = infinite\n"
     ]
    }
   ],
   "source": [
    "sample_jit = SampleModel1Jit(**sample_args)\n",
    "sample_jit.print()"
   ]
  },
  {
   "cell_type": "markdown",
   "id": "a2ca03d4-2535-42e6-ba74-4fc33ca568d6",
   "metadata": {},
   "source": [
    "Modify the `cantilever_jit` object and show that the above-generated `sample_jit` does not change.  Conclude that the `sample_jit` is initialized with the values of the `cantilever_jit`-object parameters at initialization time.  They objects are not linked.  Good."
   ]
  },
  {
   "cell_type": "code",
   "execution_count": 10,
   "id": "c626f0e8-1136-44a2-958a-7ead9bc5e24b",
   "metadata": {},
   "outputs": [
    {
     "name": "stdout",
     "output_type": "stream",
     "text": [
      "   cantilever freq =  75000.0 Hz\n",
      "                   =  471238.89803846896 rad/s\n",
      "   spring constant =  10.0 N/m\n",
      "tip-sample voltage =  1.0 V\n",
      "            radius =  3.5e-08 m\n",
      "            height =  3.8e-08 m\n"
     ]
    }
   ],
   "source": [
    "cantilever.k_c = ureg.Quantity(10, 'N/m')\n",
    "cantilever_jit = CantileverModelJit(**cantilever.args())\n",
    "cantilever_jit.print()"
   ]
  },
  {
   "cell_type": "code",
   "execution_count": 11,
   "id": "a856e087-041e-4d3a-bbb0-178180963a8d",
   "metadata": {},
   "outputs": [
    {
     "data": {
      "text/plain": [
       "2.8"
      ]
     },
     "execution_count": 11,
     "metadata": {},
     "output_type": "execute_result"
    }
   ],
   "source": [
    "sample_jit.cantilever.k_c"
   ]
  },
  {
   "cell_type": "markdown",
   "id": "8d16662c-bedd-4ed3-9e79-200946cf1d0a",
   "metadata": {},
   "source": [
    "Modify the `SampleModel1` code to create a helper function, `.args()`, that spits out a dictionary of parameters that can be fed directly to `SampleModel1Jit`."
   ]
  },
  {
   "cell_type": "code",
   "execution_count": 12,
   "id": "fe1466ed-af98-4db3-a64a-65b6ebf5b89d",
   "metadata": {},
   "outputs": [],
   "source": [
    "sample1 = SampleModel1(\n",
    "    cantilever = cantilever,\n",
    "    h_s = ureg.Quantity(500, 'nm'),\n",
    "    epsilon_s = ureg.Quantity(complex(20, -0.2), ''),\n",
    "    sigma = ureg.Quantity(1E-5, 'S/m'),\n",
    "    rho = ureg.Quantity(1e21, '1/m^3'),\n",
    "    epsilon_d = ureg.Quantity(complex(1e6, 0), ''),\n",
    "    z_r = ureg.Quantity(300, 'nm')\n",
    ")"
   ]
  },
  {
   "cell_type": "markdown",
   "id": "0533a962-a70c-489e-aad3-a70fbbea488c",
   "metadata": {},
   "source": [
    "The argument containts an instance of the `CantileverModelJit` for the `cantilever` value.  The other dictionary values are what we expect."
   ]
  },
  {
   "cell_type": "code",
   "execution_count": 13,
   "id": "5aecb48c-4e84-4e5a-a98f-169498ae61db",
   "metadata": {},
   "outputs": [
    {
     "data": {
      "text/plain": [
       "{'cantilever': <numba.experimental.jitclass.boxing.CantileverModelJit at 0x127470fa0>,\n",
       " 'h_s': 5.000000000000001e-07,\n",
       " 'epsilon_s': (20-0.2j),\n",
       " 'sigma': 1e-05,\n",
       " 'rho': 1e+21,\n",
       " 'epsilon_d': (1000000+0j),\n",
       " 'z_r': 3.0000000000000004e-07}"
      ]
     },
     "execution_count": 13,
     "metadata": {},
     "output_type": "execute_result"
    }
   ],
   "source": [
    "sample1.args()"
   ]
  },
  {
   "cell_type": "markdown",
   "id": "0277e616-f52c-4356-9677-1727e2c13140",
   "metadata": {},
   "source": [
    "We can pass this argument list to `SampleModel1Jit` successfully."
   ]
  },
  {
   "cell_type": "code",
   "execution_count": 14,
   "id": "aa31f01e-5365-41a6-a9b8-6a44726a47c6",
   "metadata": {},
   "outputs": [
    {
     "name": "stdout",
     "output_type": "stream",
     "text": [
      "cantilever\n",
      "==========\n",
      "   cantilever freq =  75000.0 Hz\n",
      "                   =  471238.89803846896 rad/s\n",
      "   spring constant =  10.0 N/m\n",
      "tip-sample voltage =  1.0 V\n",
      "            radius =  3.5e-08 m\n",
      "            height =  3.8e-08 m\n",
      "\n",
      "semiconductor\n",
      "=============\n",
      "          epsilon (real) =  20.0\n",
      "          epsilon (imag) =  -0.2\n",
      "               thickness =  5.000000000000001e-07 m\n",
      "            conductivity =  1e-05 S/m\n",
      "          charge density =  1e+21 m^{{-3}}\n",
      "        reference height =  3.0000000000000004e-07 m\n",
      " \n",
      "      roll-off frequency =  1129409.0673730192 Hz\n",
      "                mobility =  6.241509090043337e-08 m^2/(V s)\n",
      "      diffusion constant =  1.6135549206567651e-09 m^2/s\n",
      "            Debye length =  3.7797775481848936e-08 m\n",
      "        diffusion length =  5.851555252782804e-08 m\n",
      "effective epsilon (real) =  20.0\n",
      "effective epsilon (imag) =  -2.5966804779363124\n",
      "\n",
      "dielectric\n",
      "==========\n",
      " epsilon (real) =  1000000.0\n",
      " epsilon (imag) =  0.0\n",
      "      thickness = infinite\n"
     ]
    }
   ],
   "source": [
    "sample1_jit = SampleModel1Jit(**sample1.args())\n",
    "sample1_jit.print()"
   ]
  },
  {
   "cell_type": "markdown",
   "id": "39f54209-97a9-41a7-bb1a-73d6674a4b10",
   "metadata": {},
   "source": [
    "Try this kind of initialization with `SampleModel2Jit`."
   ]
  },
  {
   "cell_type": "code",
   "execution_count": 15,
   "id": "e1715107-d4c8-4115-a5ca-58bc2e9e2c8d",
   "metadata": {},
   "outputs": [],
   "source": [
    "sample2 = SampleModel2(\n",
    "    cantilever = cantilever,\n",
    "    epsilon_d = ureg.Quantity(complex(20, -0.2), ''),\n",
    "    h_d = ureg.Quantity(1, 'nm'),\n",
    "    epsilon_s = ureg.Quantity(complex(20, -0.2), ''),\n",
    "    sigma = ureg.Quantity(1E-5, 'S/m'),\n",
    "    rho = ureg.Quantity(1e21, '1/m^3'),\n",
    "    z_r = ureg.Quantity(300, 'nm')\n",
    ")"
   ]
  },
  {
   "cell_type": "code",
   "execution_count": 16,
   "id": "246a5ae7-74b4-4542-8ba4-583f181a1914",
   "metadata": {},
   "outputs": [
    {
     "name": "stdout",
     "output_type": "stream",
     "text": [
      "cantilever\n",
      "==========\n",
      "   cantilever freq =  75000.0 Hz\n",
      "                   =  471238.89803846896 rad/s\n",
      "   spring constant =  10.0 N/m\n",
      "tip-sample voltage =  1.0 V\n",
      "            radius =  3.5e-08 m\n",
      "            height =  3.8e-08 m\n",
      "\n",
      "dielectric\n",
      "==========\n",
      " epsilon (real) =  20.0\n",
      " epsilon (imag) =  -0.2\n",
      "      thickness =  1e-09 m\n",
      "\n",
      "semiconductor\n",
      "=============\n",
      "          epsilon (real) =  20.0\n",
      "          epsilon (imag) =  -0.2\n",
      "               thickness = infinite\n",
      "            conductivity =  1e-05 S/m\n",
      "                mobility =  6.241509090043337e-08 m^2/(V s)\n",
      "        reference height =  3.0000000000000004e-07 m\n",
      " \n",
      "      roll-off frequency =  1129409.0673730192 Hz\n",
      "      diffusion constant =  1.6135549206567651e-09 m^2/s\n",
      "          charge density =  1e+21 m^{{-3}}\n",
      "            Debye length =  3.7797775481848936e-08 m\n",
      "        diffusion length =  5.851555252782804e-08 m\n",
      "effective epsilon (real) =  20.0\n",
      "effective epsilon (imag) =  -2.5966804779363124\n"
     ]
    }
   ],
   "source": [
    "sample2_jit = SampleModel2Jit(**sample2.args())\n",
    "sample2_jit.print()"
   ]
  },
  {
   "cell_type": "code",
   "execution_count": null,
   "id": "53afc70b-4568-4168-b4cb-886dc6978569",
   "metadata": {},
   "outputs": [],
   "source": []
  }
 ],
 "metadata": {
  "kernelspec": {
   "display_name": "dissipationtheory",
   "language": "python",
   "name": "dissipationtheory"
  },
  "language_info": {
   "codemirror_mode": {
    "name": "ipython",
    "version": 3
   },
   "file_extension": ".py",
   "mimetype": "text/x-python",
   "name": "python",
   "nbconvert_exporter": "python",
   "pygments_lexer": "ipython3",
   "version": "3.9.10"
  }
 },
 "nbformat": 4,
 "nbformat_minor": 5
}
