{
 "cells": [
  {
   "cell_type": "raw",
   "id": "e63c1542-bbf3-48d7-97a5-3628fdb6efde",
   "metadata": {},
   "source": [
    "---\n",
    "title: Explore writing a fast `twodimCobject` object; create fast, compiled `coulombmatrix_jit` and `Kmatrix_jit` functions\n",
    "author: \"John A. Marohn\"\n",
    "date: today\n",
    "abstract: In Study 50 ([link](dissipation-theory--Study-50.html)) I compared the frequency shift measured over gold at 28 tip-sample separations to the frequency shift computed, using `twodimCobject` from `dissipationtheory8c.py`, for two tip models, (1) a sphere and (2) a sphere-plus-cone, both over a Type I “metallic” sample.  These computations were painfully slow.  For a $15 \\times 30 = 450$ element array, the `twodimCobject.solve` function took 4.3 seconds to execute. It consequently took *two minutes* to calculate frequency versus tip-sample separation data, too slow for least-squares fitting of data to obtain the tip radius and cone angle.  The limiting step in the computation is setting up the Coulomb matrix and the $K_n$ matrices.  Below I develop fast, compiled functions for setting up these matrices and I benchmark their execution time for a $15 \\times 20 = 300$ element array.  These functions are `coulombmatrix_jit` (0.2 ms) and `Kmatrix_jit` (0.3 ms for metal, 3 ms for Type III sample). Creating a compiled function to set up the $K_n$ matrices for a Type III sample required (1) using a newly written `integrand3jit` function with simple inputs; (2) replacing `scipy.integrate.quad_vec` with a 30-point Newton-Cotes integration; and (3) writing the function `Kmatrix_jit` *very* carefully so that `jit` can compile it.  Further work is required to benchmark the Newton-Cotes integration againt `scipy.integrate.quad_vec` for a range of sample parameters. Nevertheless, the new compiled functions suggest that it should be possible to calculate a frequency shift to experimental accuracy for a numerically modeled tip in under 1 ms for a metal and in under 20 ms for a Type I, II, or III semiconductor sample.\n",
    "toc: true\n",
    "number-sections: true\n",
    "highlight-style: pygments\n",
    "embed-resources: true\n",
    "dpi: 300\n",
    "format:\n",
    "    html:\n",
    "        html-math-method:\n",
    "          method: mathjax\n",
    "          url: \"https://cdn.jsdelivr.net/npm/mathjax@3/es5/tex-mml-chtml.js\"\n",
    "        code-fold: true\n",
    "        code-tools: true\n",
    "jupyter: python3\n",
    "---"
   ]
  },
  {
   "cell_type": "markdown",
   "id": "daec5ed1-ce83-4525-a729-9a5e84aac62d",
   "metadata": {},
   "source": [
    "# Preliminaries"
   ]
  },
  {
   "cell_type": "code",
   "execution_count": 661,
   "id": "76c02371-6bd3-457f-91f2-63e60a97ff86",
   "metadata": {},
   "outputs": [],
   "source": [
    "import numpy as np\n",
    "import matplotlib.pylab as plt\n",
    "from dissipationtheory.constants import ureg, epsilon0, qe\n",
    "from numba import jit, int32, float64, complex128\n",
    "import numba as nb\n",
    "import scipy\n",
    "import cProfile"
   ]
  },
  {
   "cell_type": "code",
   "execution_count": 2,
   "id": "99c0bcd2-642c-4c5d-ab9e-abcaf41fa45c",
   "metadata": {},
   "outputs": [],
   "source": [
    "from dissipationtheory.dissipation9a import CantileverModel, SampleModel1, SampleModel2, SampleModel3, SampleModel4, K, integrand3\n",
    "from dissipationtheory.dissipation9a import isMetal\n",
    "from dissipationtheory.dissipation9b import CantileverModelJit, SampleModel1Jit, SampleModel2Jit, SampleModel3Jit, SampleModel4Jit\n",
    "from dissipationtheory.dissipation9b import integrand1jit, integrand2jit, integrand3jit, K_jit, Kunits_jit, Kmetal_jit, Kmetalunits_jit\n",
    "from dissipationtheory.dissipation8c import twodimCobject as twodimCobject8c"
   ]
  },
  {
   "cell_type": "code",
   "execution_count": 3,
   "id": "f8548645-e429-4cd9-a663-7534486f0794",
   "metadata": {},
   "outputs": [],
   "source": [
    "THIS = 'dissipation-theory--Study-53--'\n",
    "figs = {}\n",
    "obj = {}\n",
    "df = {}"
   ]
  },
  {
   "cell_type": "code",
   "execution_count": 4,
   "id": "d877de40-87d5-4e60-881a-80f7f9282280",
   "metadata": {},
   "outputs": [],
   "source": [
    "Kp = np.array([[complex(1,0), 0, 0],\n",
    "               [complex(0,1), 0, 0],\n",
    "               [0, complex(1,0), 0],\n",
    "               [0, complex(0,1), 0],\n",
    "               [0, 0, complex(1,0)],\n",
    "               [0, 0, complex(0,1)]])"
   ]
  },
  {
   "cell_type": "markdown",
   "id": "a841401c-1463-4b0b-b01c-d8bc276f8172",
   "metadata": {},
   "source": [
    "# Test objects\n",
    "\n",
    "We are most interested in a semi-infinite dielectric sample and a metal, so make a Type III and Type IV sample.  The Type III sample is a good test case for modeling Type I and Type II samples."
   ]
  },
  {
   "cell_type": "code",
   "execution_count": 5,
   "id": "ed65b1a7-c4ab-49c3-baf5-ba7008ef9ebd",
   "metadata": {},
   "outputs": [],
   "source": [
    "cantilever = CantileverModel(\n",
    "    f_c = ureg.Quantity(62, 'kHz'),\n",
    "    k_c = ureg.Quantity(2.8, 'N/m'), \n",
    "    V_ts = ureg.Quantity(1, 'V'), \n",
    "    R = ureg.Quantity(55, 'nm'),\n",
    "    angle = ureg.Quantity(20, 'degree'),\n",
    "    L = ureg.Quantity(1000, 'nm')\n",
    ")"
   ]
  },
  {
   "cell_type": "code",
   "execution_count": 6,
   "id": "b040880c-bf70-4d6d-99bd-704dc634fa77",
   "metadata": {},
   "outputs": [],
   "source": [
    "sample3 = SampleModel3(\n",
    "    cantilever = cantilever,\n",
    "    epsilon_s = ureg.Quantity(complex(20, 0), ''),\n",
    "    sigma = ureg.Quantity(1e-7, 'S/m'),\n",
    "    rho = ureg.Quantity(1e21, '1/m^3'),\n",
    "    z_r = ureg.Quantity(100, 'nm')\n",
    ")\n",
    "sample3_jit = SampleModel3Jit(**sample3.args())"
   ]
  },
  {
   "cell_type": "code",
   "execution_count": 7,
   "id": "d3402b2a-c6f5-46fa-9e2d-0247cce5d783",
   "metadata": {},
   "outputs": [],
   "source": [
    "sample4 = SampleModel4(\n",
    "    cantilever = cantilever,\n",
    "    z_r = ureg.Quantity(100, 'nm')\n",
    ")\n",
    "sample4_jit = SampleModel4Jit(**sample4.args())"
   ]
  },
  {
   "cell_type": "markdown",
   "id": "6400ba8d-2f11-4406-ab22-a2dbeeb36283",
   "metadata": {},
   "source": [
    "# Define a new and improved `twodimCobject`"
   ]
  },
  {
   "cell_type": "code",
   "execution_count": 8,
   "id": "08292c16-0c04-4121-a7b9-83dbf90554fe",
   "metadata": {},
   "outputs": [],
   "source": [
    "class twodimCobjectA(twodimCobject8c):\n",
    "\n",
    "    def __init__(self, sample):\n",
    "        \"\"\"Here sample is a SampleModel1Jit, SampleModel2Jit, \n",
    "        SampleModel3Jit, or SampleModel4Jit object.\"\"\"\n",
    "\n",
    "        self.sample = sample\n",
    "\n",
    "        self.Vr = ureg.Quantity(1, 'V')\n",
    "        self.zr = ureg.Quantity(sample.z_r, 'm')\n",
    "        \n",
    "        self.cG = (qe / (4 * np.pi * epsilon0 * self.Vr * self.zr)).to('dimensionless').magnitude\n",
    "        self.cGinv = 1/self.cG\n",
    "\n",
    "    def addsphere(self, h, N, M, theta_start=-np.pi/2, theta_stop=3*np.pi/2, theta_endpoint=False):\n",
    "        \"\"\"Model a sphere of radius $r$ above a ground plane, with a tip-sample\n",
    "        separation of $h$.  Create image-charge points $r_j$ and voltage-test \n",
    "        points $r_k$.  The $N$ image-charge points are placed along a vertical\n",
    "        line extending from $h + 0.1 r$ to $h + 1.90 r$. The $M$ voltage-test \n",
    "        points are located uniformly around the sphere, starting at the south \n",
    "        pole, $\\theta = -\\pi/2$, and rotating counter clockwise. Initialize the\n",
    "        values of the image charges at 1.0.  Creates two arrays: \n",
    "        (a) self.rk, the voltage-test points, and (b) self.rj, the image-charge\n",
    "        points, with the coordinates in nanometers. \n",
    "        \"\"\"\n",
    "\n",
    "        # read from sample.cantilever object\n",
    "        r = ureg.Quantity(self.sample.cantilever.R, 'm').to('nm').magnitude\n",
    "\n",
    "        # convert to nm and strip units\n",
    "        h = h.to('nm').magnitude\n",
    "        \n",
    "        # charge locations\n",
    "        delta_array = np.linspace(start=-0.90, stop=0.90, endpoint=True, num=N)\n",
    "        self.rj = np.array([[0, 0, h + r + r * delta] for  delta in delta_array])\n",
    "\n",
    "        # voltage-test locations\n",
    "        theta_array = np.linspace(start=theta_start, stop=theta_stop, endpoint=theta_endpoint, num=M)\n",
    "        self.rk = np.array([[r * np.cos(theta), 0, h + r + r * np.sin(theta)] for theta in theta_array])\n",
    "        \n",
    "        # save these\n",
    "        self.info = {'type': 'sphere', \n",
    "                     'r [nm]': r, \n",
    "                     'h [nm]': h, \n",
    "                     'N': N,\n",
    "                     'M': M }\n",
    "\n",
    "        self.title1 = f'sphere, $r$ = {r:0.1f} nm, $h$ = {h:0.1f} nm, $N$ = {N:d} image charges, $M$ = {M:d} test points'\n",
    "        self.title2 = ''\n",
    "\n",
    "        # initialize the results, useful for plotting\n",
    "        self.results = {\n",
    "            'alpha': 0, \n",
    "            'q': np.ones(N),\n",
    "            'S': np.ones(N),\n",
    "            'Sinv': np.ones(N),\n",
    "            'cn': 0, \n",
    "            'V': np.zeros(M)}    "
   ]
  },
  {
   "cell_type": "markdown",
   "id": "82ceb7ba-62f7-4ca9-97d8-f8aee2fad638",
   "metadata": {},
   "source": [
    "Do code development on a computation for a Type IV sample, a metal."
   ]
  },
  {
   "cell_type": "code",
   "execution_count": 9,
   "id": "6a8fc64e-b852-4a0b-be6a-01d4bf985070",
   "metadata": {},
   "outputs": [
    {
     "data": {
      "image/png": "[encoded data removed]",
      "text/plain": [
       "<Figure size 800x250 with 4 Axes>"
      ]
     },
     "metadata": {},
     "output_type": "display_data"
    }
   ],
   "source": [
    "obj['IV'] = twodimCobjectA(sample4_jit)\n",
    "\n",
    "params = {'h': ureg.Quantity(50, 'nm'),  # tip-sample separation\n",
    "          'N': 15,                       # no. of image charges\n",
    "          'M': 20,                       # no. voltage test points\n",
    "          'theta_stop': np.pi/2,         # voltage-test points final angle \n",
    "          'theta_endpoint': False}       # endpoint at the final angle? \n",
    "\n",
    "obj['IV'].addsphere(**params)\n",
    "_ = obj['IV'].plot()"
   ]
  },
  {
   "cell_type": "markdown",
   "id": "4db11204-11ce-4143-842f-4626fc4cdde3",
   "metadata": {},
   "source": [
    "Explore ways to create a Coulomb Green's function matrix rapidly.  \\\n",
    "The one-line function below uses the numpy `np.linalg.norm` to compute the Euclidean distance between two points."
   ]
  },
  {
   "cell_type": "code",
   "execution_count": 10,
   "id": "d149734a-7502-48ee-b7a6-a3277b340291",
   "metadata": {},
   "outputs": [],
   "source": [
    "def Kcoulomb(location1, location2):\n",
    "    \"\"\"Returns the Coulomb potential Green's function. \n",
    "    Here location1 and location2 is each a vector of components \n",
    "    representing normalized distances.\"\"\"\n",
    "    \n",
    "    return complex(1,0) / np.linalg.norm(location1 - location2)"
   ]
  },
  {
   "cell_type": "markdown",
   "id": "0e50092a-20fe-4655-9734-44fc6f5f9e34",
   "metadata": {},
   "source": [
    "A shorthand for the two matrices. \\\n",
    "For the computations below, we need the distances in meters instead of nanometers."
   ]
  },
  {
   "cell_type": "code",
   "execution_count": 11,
   "id": "e5d7e17c-be08-46a4-85cd-541e5efd3087",
   "metadata": {},
   "outputs": [],
   "source": [
    "rj = obj['IV'].rj * 1e-9\n",
    "rk = obj['IV'].rk * 1e-9"
   ]
  },
  {
   "cell_type": "markdown",
   "id": "6c99cd9f-4def-4cde-810c-3975b32b075a",
   "metadata": {},
   "source": [
    "Apply the `Kcoulomb` function to two unitless `rj` and `rk` matrices using a *list comprehension*."
   ]
  },
  {
   "cell_type": "code",
   "execution_count": 12,
   "id": "ab92daf4-d983-4c31-b0b1-a5d165f76c86",
   "metadata": {},
   "outputs": [],
   "source": [
    "Rj = rj / obj['IV'].sample.z_r\n",
    "Rk = rk / obj['IV'].sample.z_r"
   ]
  },
  {
   "cell_type": "code",
   "execution_count": 13,
   "id": "128a785a-a1c7-48b8-9df7-b60df729d9da",
   "metadata": {},
   "outputs": [
    {
     "name": "stdout",
     "output_type": "stream",
     "text": [
      "2.44 ms ± 568 μs per loop (mean ± std. dev. of 7 runs, 100 loops each)\n"
     ]
    }
   ],
   "source": [
    "%%timeit\n",
    "np.array([[Kcoulomb(rj,rk) for rj in Rj] for rk in Rk])"
   ]
  },
  {
   "cell_type": "markdown",
   "id": "18148267-14dd-4f29-b2fe-35d8ff940bf2",
   "metadata": {},
   "source": [
    "Write a function to do this all in one step. \\\n",
    "Assume we feed the function **normalized unitless matrices**, the `Rk` and `Rj` computed above. "
   ]
  },
  {
   "cell_type": "code",
   "execution_count": 14,
   "id": "1c998a53-cfac-406a-ba9e-6e89864a3020",
   "metadata": {},
   "outputs": [],
   "source": [
    "def coulombmatrix(Rj, Rk):\n",
    "    \"\"\"The Coulomb potential Green's function matrix.\"\"\"\n",
    "    return np.array([[complex(1,0) / np.linalg.norm(rj - rk) for rj in Rj] for rk in Rk])"
   ]
  },
  {
   "cell_type": "code",
   "execution_count": 15,
   "id": "90ccea88-cdb5-439d-80f4-a9a9cc84a558",
   "metadata": {},
   "outputs": [
    {
     "data": {
      "text/plain": [
       "(20, 15)"
      ]
     },
     "execution_count": 15,
     "metadata": {},
     "output_type": "execute_result"
    }
   ],
   "source": [
    "coulombmatrix(Rj,Rk).shape"
   ]
  },
  {
   "cell_type": "code",
   "execution_count": 16,
   "id": "5d0c0913-0447-4163-97b0-0348eae8d102",
   "metadata": {},
   "outputs": [
    {
     "name": "stdout",
     "output_type": "stream",
     "text": [
      "2.12 ms ± 507 μs per loop (mean ± std. dev. of 7 runs, 1,000 loops each)\n"
     ]
    }
   ],
   "source": [
    "%%timeit\n",
    "coulombmatrix(Rj,Rk)"
   ]
  },
  {
   "cell_type": "markdown",
   "id": "fd46164f-1c84-4efd-97db-96697037422d",
   "metadata": {},
   "source": [
    "Try `jit` compiling to see if the list comprehension loops can be sped up.  Read the manual [here](https://numba.pydata.org/numba-doc/0.28.1/reference/numpysupported.html) listing the `numpy` features supported by `jit`.  The function `numpy.linalg.norm` is partially supported.  I am not using any of the functions' advanced features, so I would expect it to compile.  It does, as the following example shows:"
   ]
  },
  {
   "cell_type": "code",
   "execution_count": 17,
   "id": "a0dfaefd-da81-4897-a94d-ebe6c4d128d8",
   "metadata": {},
   "outputs": [],
   "source": [
    "@jit(nopython=True)\n",
    "def coulomb_jit(rj, rk):\n",
    "    return 1/np.linalg.norm(rj - rk)"
   ]
  },
  {
   "cell_type": "code",
   "execution_count": 18,
   "id": "144b5a54-464f-4ab2-a564-ce9df65f45ac",
   "metadata": {},
   "outputs": [
    {
     "data": {
      "text/plain": [
       "18.1818181818182"
      ]
     },
     "execution_count": 18,
     "metadata": {},
     "output_type": "execute_result"
    }
   ],
   "source": [
    "coulomb_jit(Rj[0], Rk[0])"
   ]
  },
  {
   "cell_type": "markdown",
   "id": "ce9de672-c7e1-4ac4-94f0-c24bf983996c",
   "metadata": {},
   "source": [
    "Generalize the Coulomb *function* to a Coulomb *matrix*, however, and the compilation fails. \\\n",
    "Actually the function definition succeeds, but calling the function fails."
   ]
  },
  {
   "cell_type": "code",
   "execution_count": 19,
   "id": "3cd4f0a6-7764-49b3-b8bf-f19ebc7c5387",
   "metadata": {},
   "outputs": [],
   "source": [
    "@jit(nopython=True)\n",
    "def coulombmatrix_jit(Rj, Rk):\n",
    "    \"\"\"The Coulomb potential Green's function matrix.\"\"\"\n",
    "    return np.array([[1 / np.linalg.norm(rj - rk) for rj in Rj] for rk in Rk])\n",
    "\n",
    "# coulombmatrix_jit(Rj, Rk)"
   ]
  },
  {
   "cell_type": "markdown",
   "id": "ecf7cb0d-0d7e-419c-9b2f-b9703b7566c7",
   "metadata": {},
   "source": [
    "The problem is the double list comprehension I think. \\\n",
    "Make a version of the matrix-generating function that uses loops."
   ]
  },
  {
   "cell_type": "code",
   "execution_count": 20,
   "id": "eddab85e-cd86-4675-91c0-27b0bb47a10a",
   "metadata": {},
   "outputs": [
    {
     "data": {
      "text/plain": [
       "(20, 15)"
      ]
     },
     "execution_count": 20,
     "metadata": {},
     "output_type": "execute_result"
    }
   ],
   "source": [
    "np.zeros((len(Rk),len(Rj))).shape"
   ]
  },
  {
   "cell_type": "code",
   "execution_count": 21,
   "id": "87178605-0ecf-4d76-bf2e-c0583827be63",
   "metadata": {},
   "outputs": [],
   "source": [
    "def coulombmatrix_jit(Rj, Rk):\n",
    "    \"\"\"The Coulomb potential Green's function matrix.\"\"\"\n",
    "\n",
    "    result = np.zeros((len(Rk),len(Rj)))\n",
    "    for k, rk in enumerate(Rk):\n",
    "        for j, rj in enumerate(Rj):\n",
    "            result[k,j] = 1 / np.linalg.norm(rj - rk)\n",
    "    return result"
   ]
  },
  {
   "cell_type": "markdown",
   "id": "de8c3a65-db0f-4b1c-9f0f-65d9205cb687",
   "metadata": {},
   "source": [
    "To make sure we have set up the loop right, check that we got the same answer as before."
   ]
  },
  {
   "cell_type": "code",
   "execution_count": 22,
   "id": "a70bea7f-0995-4b02-82b0-c51477219b89",
   "metadata": {},
   "outputs": [
    {
     "data": {
      "text/plain": [
       "True"
      ]
     },
     "execution_count": 22,
     "metadata": {},
     "output_type": "execute_result"
    }
   ],
   "source": [
    "np.allclose(coulombmatrix(Rj,Rk), coulombmatrix_jit(Rj,Rk))"
   ]
  },
  {
   "cell_type": "markdown",
   "id": "bf72aa82-fb1b-489f-83b3-f9b4cb472fb7",
   "metadata": {},
   "source": [
    "Surprisingly, the function is only slightly slower that with a list comprehension."
   ]
  },
  {
   "cell_type": "code",
   "execution_count": 23,
   "id": "1351d9fa-3baf-4114-90f1-71a55fded6ae",
   "metadata": {},
   "outputs": [
    {
     "name": "stdout",
     "output_type": "stream",
     "text": [
      "2.43 ms ± 529 μs per loop (mean ± std. dev. of 7 runs, 100 loops each)\n"
     ]
    }
   ],
   "source": [
    "%%timeit\n",
    "coulombmatrix_jit(Rj, Rk)"
   ]
  },
  {
   "cell_type": "markdown",
   "id": "5c386a35-de29-49c2-91cc-c8af9672c4f3",
   "metadata": {},
   "source": [
    "Now try compiling the above function.  The compilation is successful!"
   ]
  },
  {
   "cell_type": "code",
   "execution_count": 24,
   "id": "cd8e974d-ffa2-4d8e-b9f6-3370af73afb5",
   "metadata": {},
   "outputs": [],
   "source": [
    "@jit(nopython=True)\n",
    "def coulombmatrix_jit(Rj, Rk):\n",
    "    \"\"\"The Coulomb potential Green's function matrix.\"\"\"\n",
    "\n",
    "    result = np.zeros((len(Rk),len(Rj)))\n",
    "    for k, rk in enumerate(Rk):\n",
    "        for j, rj in enumerate(Rj):\n",
    "            result[k,j] = 1 / np.linalg.norm(rj - rk)\n",
    "    return result"
   ]
  },
  {
   "cell_type": "code",
   "execution_count": 25,
   "id": "bbb74f87-03eb-4526-9b08-ec88d7e2d93c",
   "metadata": {},
   "outputs": [
    {
     "data": {
      "text/plain": [
       "True"
      ]
     },
     "execution_count": 25,
     "metadata": {},
     "output_type": "execute_result"
    }
   ],
   "source": [
    "np.allclose(coulombmatrix(Rj,Rk), coulombmatrix_jit(Rj,Rk))"
   ]
  },
  {
   "cell_type": "markdown",
   "id": "30458f13-51df-4c5e-b67c-0c119a99b44d",
   "metadata": {},
   "source": [
    "The function runs in 0.2 ms compared to about 2 ms for the list-comprehension version. \\\n",
    "Conclude that **compiling the coulomb-matrix function gets us a factor of 10 speedup**."
   ]
  },
  {
   "cell_type": "code",
   "execution_count": 26,
   "id": "15c4ef16-9852-45fd-b4e4-16f12a525cae",
   "metadata": {},
   "outputs": [
    {
     "name": "stdout",
     "output_type": "stream",
     "text": [
      "141 μs ± 16 μs per loop (mean ± std. dev. of 7 runs, 10,000 loops each)\n"
     ]
    }
   ],
   "source": [
    "%%timeit\n",
    "coulombmatrix_jit(Rj, Rk)"
   ]
  },
  {
   "cell_type": "markdown",
   "id": "f21c46ba-fd59-47c0-8305-9302e07aba96",
   "metadata": {},
   "source": [
    "Now let's see if we can make an analogous compiled function that returns the three matrices $K_0$, $K_1$, and $K_2$. \\\n",
    "For a metal, we need to call `Kmetal_jit`, wheareas for a Type I, II, or III sample we need to call `K_jit`. \\\n",
    "These two functions take a different number of parameters.\n",
    "\n",
    "First, make a helper function that returns the integrand function appropriate for each sample."
   ]
  },
  {
   "cell_type": "code",
   "execution_count": 27,
   "id": "1381f870-1d1a-4291-849b-5bea74febcfd",
   "metadata": {},
   "outputs": [],
   "source": [
    "def whichintegrand(sample):\n",
    "\n",
    "    if sample.type == 3:\n",
    "        integrand = integrand3jit\n",
    "    elif sample.type == 2:\n",
    "        integrand = integrand2jit\n",
    "    elif sample.type == 1:\n",
    "        integrand = integrand1jit\n",
    "    else:\n",
    "        raise ValueError('Uknown sample type =', sample.type, \"sample = \", sample)\n",
    "\n",
    "    return integrand"
   ]
  },
  {
   "cell_type": "code",
   "execution_count": 28,
   "id": "ffbb7d9c-17b0-42ff-bf20-08d4c98e3922",
   "metadata": {},
   "outputs": [
    {
     "data": {
      "text/plain": [
       "CPUDispatcher(<function integrand3jit at 0x128f26170>)"
      ]
     },
     "execution_count": 28,
     "metadata": {},
     "output_type": "execute_result"
    }
   ],
   "source": [
    " whichintegrand(sample3_jit)"
   ]
  },
  {
   "cell_type": "markdown",
   "id": "f389f1c1-2c4f-445e-acb9-0ae8bf28a467",
   "metadata": {},
   "source": [
    "Second, write a general `Kmatrix_jit` function that should work for both metals and semiconductors."
   ]
  },
  {
   "cell_type": "code",
   "execution_count": 29,
   "id": "694578bc-519b-40a1-8f9e-64bf9ca50011",
   "metadata": {},
   "outputs": [],
   "source": [
    "def Kmatrix_jit(sample, omega, Rj, Rk):\n",
    "    \"\"\"The Green's function matrices for an image charge.\"\"\"\n",
    "\n",
    "    K0mat = complex(1,0) * np.zeros((len(Rk),len(Rj)))\n",
    "    K1mat = complex(1,0) * np.zeros((len(Rk),len(Rj)))\n",
    "    K2mat = complex(1,0) * np.zeros((len(Rk),len(Rj)))\n",
    "\n",
    "    if isMetal(sample):\n",
    "    \n",
    "        for k, rk in enumerate(Rk):\n",
    "            for j, rj in enumerate(Rj):\n",
    "                K0mat[k,j], K1mat[k,j], K2mat[k,j] = Kmetal_jit(sample, rj, rk)\n",
    "        return K0mat, K1mat, K2mat\n",
    "\n",
    "    else:\n",
    "\n",
    "        integrand = whichintegrand(sample)\n",
    "        for k, rk in enumerate(Rk):\n",
    "            for j, rj in enumerate(Rj):\n",
    "                K0mat[k,j], K1mat[k,j], K2mat[k,j] = K_jit(integrand, sample, omega, rj, rk)\n",
    "        return K0mat, K1mat, K2mat        "
   ]
  },
  {
   "cell_type": "markdown",
   "id": "b80e9450-4417-4cfe-b8ef-d99671a38f3b",
   "metadata": {},
   "source": [
    "Try a metal:"
   ]
  },
  {
   "cell_type": "code",
   "execution_count": 30,
   "id": "680e69a7-ecfc-4643-bd35-b6acb2159a07",
   "metadata": {},
   "outputs": [],
   "source": [
    "K0mat, K1mat, K2mat = Kmatrix_jit(sample4_jit, 0., rj, rk)"
   ]
  },
  {
   "cell_type": "code",
   "execution_count": 31,
   "id": "521961eb-be3e-4f7a-958a-776ae7573793",
   "metadata": {},
   "outputs": [
    {
     "data": {
      "text/plain": [
       "array([0.9478673 -0.j, 0.88832487-0.j, 0.8358209 -0.j, 0.789177  -0.j,\n",
       "       0.74746396-0.j, 0.70993915-0.j, 0.67600193-0.j, 0.64516129-0.j,\n",
       "       0.6170119 -0.j, 0.59121622-0.j, 0.56749088-0.j, 0.54559626-0.j,\n",
       "       0.52532833-0.j, 0.5065123 -0.j, 0.48899756-0.j])"
      ]
     },
     "execution_count": 31,
     "metadata": {},
     "output_type": "execute_result"
    }
   ],
   "source": [
    "K0mat[0]"
   ]
  },
  {
   "cell_type": "code",
   "execution_count": 32,
   "id": "7d7164b2-3162-426e-8eb6-7ec789c4fd25",
   "metadata": {},
   "outputs": [
    {
     "name": "stdout",
     "output_type": "stream",
     "text": [
      "944 μs ± 13.8 μs per loop (mean ± std. dev. of 7 runs, 1,000 loops each)\n"
     ]
    }
   ],
   "source": [
    "%%timeit\n",
    "K0mat, K1mat, K2mat = Kmatrix_jit(sample4_jit, 0., rj, rk)"
   ]
  },
  {
   "cell_type": "markdown",
   "id": "96392e0d-5471-4c2d-a0fe-bb1e85e86c5b",
   "metadata": {},
   "source": [
    "This is reasonably fast, about 1 ms."
   ]
  },
  {
   "cell_type": "markdown",
   "id": "a518fae2-88f9-4efe-a595-03745b5a616b",
   "metadata": {},
   "source": [
    "Try a semi-infinite semiconductor:"
   ]
  },
  {
   "cell_type": "code",
   "execution_count": 33,
   "id": "7c3ff75c-9d63-4b66-83c0-3edbb2986afa",
   "metadata": {},
   "outputs": [],
   "source": [
    "K0mat, K1mat, K2mat = Kmatrix_jit(sample3_jit, 0., rj, rk)"
   ]
  },
  {
   "cell_type": "code",
   "execution_count": 34,
   "id": "688a78f9-b012-4bd7-bfb6-67deb84745b3",
   "metadata": {},
   "outputs": [
    {
     "data": {
      "text/plain": [
       "array([0.88862101+0.j, 0.8340108 +0.j, 0.78580732+0.j, 0.74294108+0.j,\n",
       "       0.70456841+0.j, 0.67001482+0.j, 0.6387346 +0.j, 0.61028146+0.j,\n",
       "       0.58428686+0.j, 0.56044376+0.j, 0.53849433+0.j, 0.51822042+0.j,\n",
       "       0.49943623+0.j, 0.48198251+0.j, 0.46572198+0.j])"
      ]
     },
     "execution_count": 34,
     "metadata": {},
     "output_type": "execute_result"
    }
   ],
   "source": [
    "K0mat[0]"
   ]
  },
  {
   "cell_type": "code",
   "execution_count": 35,
   "id": "76594f23-ae4a-49e7-b2e5-565d8b74003c",
   "metadata": {},
   "outputs": [
    {
     "name": "stdout",
     "output_type": "stream",
     "text": [
      "999 ms ± 35.4 ms per loop (mean ± std. dev. of 7 runs, 1 loop each)\n"
     ]
    }
   ],
   "source": [
    "%%timeit\n",
    "K0mat, K1mat, K2mat = Kmatrix_jit(sample3_jit, 0., rj, rk)"
   ]
  },
  {
   "cell_type": "markdown",
   "id": "0221c435-702c-47c7-ad21-9538344395e6",
   "metadata": {},
   "source": [
    "This is now super slow, 1 to 1.7s.  Ouch!"
   ]
  },
  {
   "cell_type": "markdown",
   "id": "abdb27d9-954d-4da8-b8dd-232acb9e2898",
   "metadata": {},
   "source": [
    "What about a list comprehension?"
   ]
  },
  {
   "cell_type": "code",
   "execution_count": 36,
   "id": "1e7c5f26-a92d-4685-92a3-085f211cece4",
   "metadata": {},
   "outputs": [
    {
     "data": {
      "text/plain": [
       "array([0.88862101+0.j, 0.8340108 +0.j, 0.78580732+0.j, 0.74294108+0.j,\n",
       "       0.70456841+0.j, 0.67001482+0.j, 0.6387346 +0.j, 0.61028146+0.j,\n",
       "       0.58428686+0.j, 0.56044376+0.j, 0.53849433+0.j, 0.51822042+0.j,\n",
       "       0.49943623+0.j, 0.48198251+0.j, 0.46572198+0.j])"
      ]
     },
     "execution_count": 36,
     "metadata": {},
     "output_type": "execute_result"
    }
   ],
   "source": [
    "result = np.array([[K_jit(integrand3jit, sample3_jit, 0., rje, rke) for rje in rj] for rke in rk])\n",
    "K0mat, K1mat, K2mat = result[:,:,0], result[:,:,1], result[:,:,2]\n",
    "K0mat[0]"
   ]
  },
  {
   "cell_type": "code",
   "execution_count": 37,
   "id": "dd591702-d5fb-4bfc-a575-17b2b6d306ee",
   "metadata": {},
   "outputs": [
    {
     "name": "stdout",
     "output_type": "stream",
     "text": [
      "1.23 s ± 204 ms per loop (mean ± std. dev. of 7 runs, 1 loop each)\n"
     ]
    }
   ],
   "source": [
    "%%timeit\n",
    "result = np.array([[K_jit(integrand3jit, sample3_jit, 0., rje, rke) for rje in rj] for rke in rk])"
   ]
  },
  {
   "cell_type": "markdown",
   "id": "f638cf95-5566-4927-b8f6-c5a30e312729",
   "metadata": {},
   "source": [
    "See below; a single function call to `K_jit` function for a Type III sample takes about 3.6 ms.  \\\n",
    "Estimate that $20 \\times 15$ function calls would take 1.5s. \\\n",
    "This estimate is within a factor of two of the double list comprehension execution time above."
   ]
  },
  {
   "cell_type": "code",
   "execution_count": 38,
   "id": "538fff9e-9e5c-4e91-b785-f820778be6a3",
   "metadata": {},
   "outputs": [
    {
     "name": "stdout",
     "output_type": "stream",
     "text": [
      "4.42 ms ± 437 μs per loop (mean ± std. dev. of 7 runs, 100 loops each)\n"
     ]
    }
   ],
   "source": [
    "%%timeit\n",
    "K_jit(integrand3jit, sample3_jit, 0., rj[0], rk[0])"
   ]
  },
  {
   "cell_type": "markdown",
   "id": "3e8faf91-f141-47d2-b15f-a75fcbd9f69d",
   "metadata": {},
   "source": [
    "The list comprehension is slightly faster than the function with loops, but not by much."
   ]
  },
  {
   "cell_type": "markdown",
   "id": "fb16540b-7378-4b27-9cf2-56080b40441f",
   "metadata": {},
   "source": [
    "**Using an uncompiled loop to generate the K matrix for a semiconductor is painfully slow.**"
   ]
  },
  {
   "cell_type": "markdown",
   "id": "554a4f1c-04d1-40dc-ab32-903ce7215636",
   "metadata": {},
   "source": [
    "Now try compiling the function.  Try this for a metal first."
   ]
  },
  {
   "cell_type": "code",
   "execution_count": 39,
   "id": "f9936c02-44f1-43e2-bc75-0e55032eb8fd",
   "metadata": {},
   "outputs": [],
   "source": [
    "@jit(nopython=True)\n",
    "def Kmatrix_jit(sample, Rj, Rk):\n",
    "    \"\"\"The Green's function matrices for an image charge.\"\"\"\n",
    "\n",
    "    K0mat = complex(1,0) * np.zeros((len(Rk),len(Rj)))\n",
    "    K1mat = complex(1,0) * np.zeros((len(Rk),len(Rj)))\n",
    "    K2mat = complex(1,0) * np.zeros((len(Rk),len(Rj)))\n",
    "    \n",
    "    for k, rk in enumerate(Rk):\n",
    "        for j, rj in enumerate(Rj):\n",
    "            K0mat[k,j], K1mat[k,j], K2mat[k,j] = Kmetal_jit(sample, rj, rk)\n",
    "    return K0mat, K1mat, K2mat"
   ]
  },
  {
   "cell_type": "code",
   "execution_count": 40,
   "id": "78201d65-0a6c-41b7-ba12-9870ce76b849",
   "metadata": {},
   "outputs": [
    {
     "data": {
      "text/plain": [
       "array([0.9478673 -0.j, 0.88832487-0.j, 0.8358209 -0.j, 0.789177  -0.j,\n",
       "       0.74746396-0.j, 0.70993915-0.j, 0.67600193-0.j, 0.64516129-0.j,\n",
       "       0.6170119 -0.j, 0.59121622-0.j, 0.56749088-0.j, 0.54559626-0.j,\n",
       "       0.52532833-0.j, 0.5065123 -0.j, 0.48899756-0.j])"
      ]
     },
     "execution_count": 40,
     "metadata": {},
     "output_type": "execute_result"
    }
   ],
   "source": [
    "K0mat, K1mat, K2mat = Kmatrix_jit(sample4_jit, rj, rk)\n",
    "K0mat[0]"
   ]
  },
  {
   "cell_type": "markdown",
   "id": "17cf98d5-941b-433b-a796-4ad3be9a72c0",
   "metadata": {},
   "source": [
    "The compiling the function has sped the matrix-generation time from 1.2 ms to 0.2 ms, a factor of six speedup."
   ]
  },
  {
   "cell_type": "code",
   "execution_count": 41,
   "id": "1f1ad152-d2de-476d-b270-3abe91dd6140",
   "metadata": {},
   "outputs": [
    {
     "name": "stdout",
     "output_type": "stream",
     "text": [
      "289 μs ± 59 μs per loop (mean ± std. dev. of 7 runs, 1,000 loops each)\n"
     ]
    }
   ],
   "source": [
    "%%timeit\n",
    "K0mat, K1mat, K2mat = Kmatrix_jit(sample4_jit, rj, rk)"
   ]
  },
  {
   "cell_type": "markdown",
   "id": "59a9e314-6a8e-4221-99d8-0f97cf31c412",
   "metadata": {},
   "source": [
    "**We can make a blazingly fast (0.2 ms) compiled function to generate the K matrix for a metal.**\n",
    "\n"
   ]
  },
  {
   "cell_type": "markdown",
   "id": "f7d7cdf1-978c-4751-8eca-d00ecb05e419",
   "metadata": {},
   "source": [
    "Now try writing a function appropriate for a semiconductor that we can likewise compile.  Assume a Type III sample to start."
   ]
  },
  {
   "cell_type": "code",
   "execution_count": 42,
   "id": "a7d3cb99-517a-45ed-b24e-a45e24d2f913",
   "metadata": {},
   "outputs": [],
   "source": [
    "@jit(nopython=True)\n",
    "def Kmatrix_jit(sample, omega, Rj, Rk):\n",
    "    \"\"\"The Green's function matrices for an image charge.\"\"\"\n",
    "\n",
    "    K0mat = complex(1,0) * np.zeros((len(Rk),len(Rj)))\n",
    "    K1mat = complex(1,0) * np.zeros((len(Rk),len(Rj)))\n",
    "    K2mat = complex(1,0) * np.zeros((len(Rk),len(Rj)))\n",
    "    \n",
    "    for k, rk in enumerate(Rk):\n",
    "        for j, rj in enumerate(Rj):\n",
    "            K0mat[k,j], K1mat[k,j], K2mat[k,j] = K_jit(integrand3jit, sample, omega, rj, rk)\n",
    "    return K0mat, K1mat, K2mat   "
   ]
  },
  {
   "cell_type": "markdown",
   "id": "fbcab72d-4dca-4338-b1f8-4465b63d4583",
   "metadata": {},
   "source": [
    "The following call fails with the error\n",
    "\n",
    "    TypingError: Failed in nopython mode pipeline (step: nopython frontend)\n",
    "    Untyped global name 'K_jit': Cannot determine Numba type of <class 'function'>"
   ]
  },
  {
   "cell_type": "code",
   "execution_count": 43,
   "id": "7bbe6187-8236-46ba-a2ad-b9e0b3ad1303",
   "metadata": {},
   "outputs": [],
   "source": [
    "# K0mat, K1mat, K2mat = Kmatrix_jit(sample3_jit, 0., rj, rk)"
   ]
  },
  {
   "cell_type": "markdown",
   "id": "f66c0523-43ae-4019-b4d5-253852d7deee",
   "metadata": {},
   "source": [
    "Ok, try writing the function by eliminating the call to `K_jit`, which is actually an uncompiled function."
   ]
  },
  {
   "cell_type": "code",
   "execution_count": 44,
   "id": "60209af7-93ae-4b40-9f38-fe357cfd4728",
   "metadata": {},
   "outputs": [],
   "source": [
    "@jit(nopython=True)\n",
    "def Kmatrix_jit(sample, omega, Rj, Rk):\n",
    "    \"\"\"The Green's function matrices for an image charge.\"\"\"\n",
    "\n",
    "    K0mat = complex(1,0) * np.zeros((len(Rk),len(Rj)))\n",
    "    K1mat = complex(1,0) * np.zeros((len(Rk),len(Rj)))\n",
    "    K2mat = complex(1,0) * np.zeros((len(Rk),len(Rj)))\n",
    "    \n",
    "    for k, rk in enumerate(Rk):\n",
    "        for j, rj in enumerate(Rj):\n",
    "            integrals = scipy.integrate.quad_vec(integrand3jit, 0., np.inf, args=(sample, omega,  rj, rk))[0]\n",
    "            K0mat[k,j], K1mat[k,j], K2mat[k,j] = integrals @ Kp\n",
    "    return K0mat, K1mat, K2mat  "
   ]
  },
  {
   "cell_type": "markdown",
   "id": "94485de9-97a3-4d7b-b03e-258befea749b",
   "metadata": {},
   "source": [
    "The following call fails with the error\n",
    "\n",
    "    TypingError: Failed in nopython mode pipeline (step: nopython frontend)\n",
    "    Unknown attribute 'quad_vec' of type Module(<module 'scipy.integrate' from '/Users/jam99/Library/Caches/pypoetry/virtualenvs/dissipationtheory-Uvi85QQO-py3.10/lib/python3.10/site-packages/scipy/integrate/__init__.py'>)"
   ]
  },
  {
   "cell_type": "code",
   "execution_count": 45,
   "id": "a35d24d7-7aa7-4d61-980b-4132c362fd6e",
   "metadata": {},
   "outputs": [],
   "source": [
    "# K0mat, K1mat, K2mat = Kmatrix_jit(sample3_jit, 0., rj, rk)"
   ]
  },
  {
   "cell_type": "markdown",
   "id": "e7f24c13-b9a3-4715-91f7-6ddff0a8579d",
   "metadata": {},
   "source": [
    "Read some more.  If I Google \"error with numba and scipy.integrate.quad\" then the Google AI answers \"While Numba excels at optimizing numerical Python code, it cannot directly compile calls into external libraries like scipy.integrate.quad within nopython mode. This is because quad is implemented using compiled Fortran code (QUADPACK), which Numba cannot directly optimize or inline.\" and \"Numba's numba-scipy package provides support for a subset of SciPy functions, primarily those in scipy.special. scipy.integrate.quad is not currently included in this direct support.\"\n",
    "\n",
    "Yet I find this example [here](https://numba.discourse.group/t/overload-scipy-integrate-quad-changing-values/3011) where someone used `scipy.integrate.quad` in a jitted function."
   ]
  },
  {
   "cell_type": "code",
   "execution_count": 46,
   "id": "7f696892-6967-45e4-98d0-b20f64b9596c",
   "metadata": {},
   "outputs": [
    {
     "name": "stdout",
     "output_type": "stream",
     "text": [
      "Result of the integration: 2.0\n"
     ]
    }
   ],
   "source": [
    "from numba import jit, objmode\n",
    "from scipy.integrate import quad as sp_quad\n",
    "import numpy as np\n",
    "\n",
    "@jit(nopython=True)\n",
    "def test_func(a, b):\n",
    "    with objmode(result='float64'):  # annotate return type\n",
    "        result, _ = sp_quad(np.sin, a, b)\n",
    "    return result\n",
    "\n",
    "a = 0.0\n",
    "b = np.pi\n",
    "result = test_func(a, b)\n",
    "print(\"Result of the integration:\", result)"
   ]
  },
  {
   "cell_type": "markdown",
   "id": "adb7940f-ee88-4366-a958-9f73d06c6477",
   "metadata": {},
   "source": [
    "An example function call:"
   ]
  },
  {
   "cell_type": "code",
   "execution_count": 47,
   "id": "9bbafbaf-5fba-410f-a3a3-0cca1b59d885",
   "metadata": {},
   "outputs": [
    {
     "data": {
      "text/plain": [
       "array([ 8.88620947e-01, -3.91407395e-05,  8.23619423e-01, -8.24356615e-06,\n",
       "        1.54950169e+00, -3.59371338e-06])"
      ]
     },
     "execution_count": 47,
     "metadata": {},
     "output_type": "execute_result"
    }
   ],
   "source": [
    "result, _ = scipy.integrate.quad_vec(integrand3jit, 0., np.inf, args=(sample3_jit, 1.,  rj[0], rk[0]))\n",
    "result"
   ]
  },
  {
   "cell_type": "markdown",
   "id": "eea00ab9-c7d5-4a7f-b49d-a1531fcfc3a9",
   "metadata": {},
   "source": [
    "Modify the code above.  This code **fails spectacularly** with the error\n",
    "\n",
    "    LoweringError: Failed in nopython mode pipeline (step: Handle with contexts)\n",
    "    Failed in nopython mode pipeline (step: native lowering)\n",
    "    cannot pickle 'SampleModel3Jit' object"
   ]
  },
  {
   "cell_type": "code",
   "execution_count": 48,
   "id": "3c2c004d-69ce-4916-9840-5ccd644fac3b",
   "metadata": {},
   "outputs": [],
   "source": [
    "@jit(nopython=True)\n",
    "def test_func(rj,rk):\n",
    "    with objmode(result='float64[:]'):\n",
    "        result, _ = scipy.integrate.quad_vec(integrand3jit, 0., np.inf, args=(sample3_jit, 0.,  rj[0], rk[0]))\n",
    "    return result\n",
    "\n",
    "# result = test_func(rj,rk)\n",
    "# result"
   ]
  },
  {
   "cell_type": "markdown",
   "id": "715c0b52-7263-4583-b073-04567c9bbc1e",
   "metadata": {},
   "source": [
    "I interpret this error as follows: the compiler does not know how to handle the function `sample3_jit` object, which gets passed to the compiled `integrand3jit` function in the `scipy.integrate.quad_vec` function call."
   ]
  },
  {
   "cell_type": "markdown",
   "id": "a07a302c-7b1a-4882-9df7-3d111d8d5736",
   "metadata": {},
   "source": [
    "Computing the $K_n$ matrices presently takes 1 to 2 seconds.  We should be able to reduce the execution time to 0.1 to 0.2 seconds by compiling the matrix-generating function.  However, I have not been able to get the compilation to work.  The problem seems to be the `sample3_jit` object being passed to `integrand3jit`."
   ]
  },
  {
   "cell_type": "markdown",
   "id": "ba87cf45-0f37-41c0-9256-5835c3c28542",
   "metadata": {},
   "source": [
    "# Try to write a compiled function with `scipy.integrate.quad_vec` in a loop"
   ]
  },
  {
   "cell_type": "markdown",
   "id": "1eef72e5-0510-4230-8528-ebc8a96ec4de",
   "metadata": {},
   "source": [
    "Make a dummy function to play with that returns a 2-component vector and gets fed three parameters, two of them vectors."
   ]
  },
  {
   "cell_type": "code",
   "execution_count": 288,
   "id": "4070cfdf-7f7e-44db-8b95-b4c2f930b3ff",
   "metadata": {},
   "outputs": [],
   "source": [
    "@jit(float64[:](float64,\n",
    "             float64,\n",
    "             float64[:],\n",
    "             float64[:]), nopython=True)\n",
    "\n",
    "def func(y, zr, location1, location2):\n",
    "\n",
    "    rhoX = (location1[0] - location2[0])/ zr\n",
    "    rhoY = (location1[1] - location2[1])/ zr\n",
    "    \n",
    "    argument = y * np.sqrt(rhoX**2 + rhoY**2)\n",
    "    exponent = y * (location1[2] + location2[2])/ zr\n",
    "\n",
    "    integrand = np.array([1, y]) * scipy.special.j0(argument) * np.exp(-1 * exponent)\n",
    "    return integrand"
   ]
  },
  {
   "cell_type": "markdown",
   "id": "bebb2762-477f-4a70-bdc8-0331db09081e",
   "metadata": {},
   "source": [
    "The execution time is 17.4 μs ± 1.45 μs per loop for the uncompiled function. \\\n",
    "The execution time is 2.89 μs ± 131 ns per loop  for the compiled function."
   ]
  },
  {
   "cell_type": "code",
   "execution_count": 220,
   "id": "756d0342-3e76-4136-b776-8447053559bd",
   "metadata": {},
   "outputs": [
    {
     "name": "stdout",
     "output_type": "stream",
     "text": [
      "2.89 μs ± 131 ns per loop (mean ± std. dev. of 7 runs, 100,000 loops each)\n"
     ]
    }
   ],
   "source": [
    "%%timeit\n",
    "func(1.5, sample3_jit.z_r, rj[0], rk[0])"
   ]
  },
  {
   "cell_type": "markdown",
   "id": "a0810d32-a510-4862-b0f1-0ae2ba8f347a",
   "metadata": {},
   "source": [
    "Now put the function in an loop."
   ]
  },
  {
   "cell_type": "code",
   "execution_count": 254,
   "id": "1afeaafe-f306-4093-9027-95e14d541751",
   "metadata": {},
   "outputs": [],
   "source": [
    "def test_func(zr, rk, rj):\n",
    "\n",
    "    K0mat = complex(1,0) * np.zeros((len(rk),len(rj)))\n",
    "    K1mat = complex(1,0) * np.zeros((len(rk),len(rj)))\n",
    "    \n",
    "    for k, rke in enumerate(rk):\n",
    "        for j, rje in enumerate(rj):\n",
    "            K0mat[k,j], K1mat[k,j] = scipy.integrate.quad_vec(func, 0., np.inf, args=(zr, rje, rke))[0]\n",
    "\n",
    "    return K0mat, K1mat"
   ]
  },
  {
   "cell_type": "code",
   "execution_count": 255,
   "id": "ed227937-abb7-4ebd-b5fc-6596f05a1ba2",
   "metadata": {},
   "outputs": [
    {
     "data": {
      "text/plain": [
       "array([0.9478673 +0.j, 0.93874525+0.j, 0.91308602+0.j, 0.87522433+0.j,\n",
       "       0.83039596+0.j, 0.7832297 +0.j, 0.73705154+0.j, 0.69387502+0.j,\n",
       "       0.65470668+0.j, 0.61989479+0.j, 0.5894066 +0.j, 0.5630154 +0.j,\n",
       "       0.54041467+0.j, 0.52128283+0.j, 0.5053174 +0.j, 0.4922513 +0.j,\n",
       "       0.48185948+0.j, 0.47396042+0.j, 0.4684154 +0.j, 0.46512691+0.j])"
      ]
     },
     "execution_count": 255,
     "metadata": {},
     "output_type": "execute_result"
    }
   ],
   "source": [
    "K0mat, K1mat = test_func(sample3_jit.z_r, rj, rk)\n",
    "K0mat[0]"
   ]
  },
  {
   "cell_type": "code",
   "execution_count": 256,
   "id": "eca08cfe-29ed-40e2-b234-03c400b86df5",
   "metadata": {},
   "outputs": [
    {
     "name": "stdout",
     "output_type": "stream",
     "text": [
      "746 ms ± 30.1 ms per loop (mean ± std. dev. of 7 runs, 1 loop each)\n"
     ]
    }
   ],
   "source": [
    "%%timeit\n",
    "K0mat, K1mat = test_func(sample3_jit.z_r, rj, rk)"
   ]
  },
  {
   "cell_type": "markdown",
   "id": "6e4b6c92-cd42-4f77-baf8-37ff7179785e",
   "metadata": {},
   "source": [
    "Read about `objmode` [here](https://numba.pydata.org/numba-doc/dev/user/withobjmode.html) in the numba manual.  There is a warning: \"This feature can be easily mis-used. Users should first consider alternative approaches to achieve their intended goal before using this feature.\""
   ]
  },
  {
   "cell_type": "code",
   "execution_count": 307,
   "id": "b7cbb136-1280-4c1e-9577-ec9413372f86",
   "metadata": {},
   "outputs": [],
   "source": [
    "@jit(nopython=True)\n",
    "def test_func(zr, rj, rk):\n",
    "    with objmode(K0mat='complex128[:,:]'):\n",
    "\n",
    "        K0mat = complex(1,0) * np.zeros((len(rk),len(rj)))\n",
    "        \n",
    "        for k, rke in enumerate(rk):\n",
    "            for j, rje in enumerate(rj):\n",
    "                K0mat[k,j], _ = scipy.integrate.quad_vec(func, 0., np.inf, args=(zr, rje, rke))[0]\n",
    "\n",
    "        return K0mat"
   ]
  },
  {
   "cell_type": "code",
   "execution_count": 308,
   "id": "0f220608-24d4-449d-850a-1d610db7bf0e",
   "metadata": {},
   "outputs": [
    {
     "data": {
      "text/plain": [
       "(0.9478672985781992+0j)"
      ]
     },
     "execution_count": 308,
     "metadata": {},
     "output_type": "execute_result"
    }
   ],
   "source": [
    "K0mat = test_func(sample3_jit.z_r, rj, rk)\n",
    "(K0mat[0][0])"
   ]
  },
  {
   "cell_type": "code",
   "execution_count": 309,
   "id": "f8305aba-63a8-4b0d-99cd-a1425f60e5ec",
   "metadata": {},
   "outputs": [
    {
     "name": "stdout",
     "output_type": "stream",
     "text": [
      "1.34 s ± 204 ms per loop (mean ± std. dev. of 7 runs, 1 loop each)\n"
     ]
    }
   ],
   "source": [
    "%%timeit\n",
    "K0mat = test_func(sample3_jit.z_r, rj, rk)"
   ]
  },
  {
   "cell_type": "markdown",
   "id": "7c305739-6dbb-4422-8bfc-9be68228a132",
   "metadata": {},
   "source": [
    "**I succeeded in compiling a function with `scipy.integrate.quad_vec` in a loop, but the function runs slower than uncompiled Python (800 ms)!**"
   ]
  },
  {
   "cell_type": "markdown",
   "id": "a1413e11-ab0d-4125-84d0-99887c171bbe",
   "metadata": {},
   "source": [
    "What about brute-force Riemannian integration?"
   ]
  },
  {
   "cell_type": "code",
   "execution_count": 314,
   "id": "1d08d0df-b930-4330-9917-6ea70addf68a",
   "metadata": {},
   "outputs": [],
   "source": [
    "def test_func(zr, rj, rk):\n",
    "    \n",
    "    y = np.linspace(0., 30., 200)\n",
    "    K0mat = complex(1,0) * np.zeros((len(rk),len(rj),len(y)))\n",
    "    K1mat = complex(1,0) * np.zeros((len(rk),len(rj),len(y)))\n",
    "    \n",
    "    dy = y[1] - y[0]\n",
    "    \n",
    "    for k, rke in enumerate(rk):\n",
    "        for j, rje in enumerate(rj):\n",
    "            for m, y_ in enumerate(y):\n",
    "                K0mat[k,j,m], K1mat[k,j,m] = func(y_, zr, rje, rke)\n",
    "\n",
    "    return dy * K0mat.sum(axis=2), dy * K1mat.sum(axis=2)"
   ]
  },
  {
   "cell_type": "code",
   "execution_count": 315,
   "id": "167a543b-e59a-45fd-acba-0e1a29d3c1af",
   "metadata": {},
   "outputs": [
    {
     "data": {
      "text/plain": [
       "((1.0252413967522305+0j), (0.8965609170784948+0j))"
      ]
     },
     "execution_count": 315,
     "metadata": {},
     "output_type": "execute_result"
    }
   ],
   "source": [
    "K0mat, K1mat = test_func(sample3_jit.z_r, rj, rk)\n",
    "(K0mat[0][0], K1mat[0][0])"
   ]
  },
  {
   "cell_type": "markdown",
   "id": "9956da6d-e9d3-4283-aca4-a2643fd7d532",
   "metadata": {},
   "source": [
    "The actual answer is 0.9478673, so we are 5% off.  However, for 200 integration points, the execution is faster, under 300 ms."
   ]
  },
  {
   "cell_type": "code",
   "execution_count": 316,
   "id": "550dca3a-0ab9-40b6-8041-c879fefb478f",
   "metadata": {},
   "outputs": [
    {
     "name": "stdout",
     "output_type": "stream",
     "text": [
      "285 ms ± 34.5 ms per loop (mean ± std. dev. of 7 runs, 1 loop each)\n"
     ]
    }
   ],
   "source": [
    "%%timeit\n",
    "K0mat, K1mat = test_func(sample3_jit.z_r, rj, rk)"
   ]
  },
  {
   "cell_type": "code",
   "execution_count": 323,
   "id": "c6daa170-8707-4391-b58f-cdffebe794b1",
   "metadata": {},
   "outputs": [],
   "source": [
    "@jit(nopython=True)\n",
    "\n",
    "def test_func(zr, rj, rk):\n",
    "    \n",
    "    y = np.linspace(0., 30., 200)\n",
    "    K0mat = complex(1,0) * np.zeros((len(rk),len(rj),len(y)))\n",
    "    K1mat = complex(1,0) * np.zeros((len(rk),len(rj),len(y)))\n",
    "    \n",
    "    dy = y[1] - y[0]\n",
    "    \n",
    "    for k, rke in enumerate(rk):\n",
    "        for j, rje in enumerate(rj):\n",
    "            for m, y_ in enumerate(y):\n",
    "                K0mat[k,j,m], K1mat[k,j,m] = func(y_, zr, rje, rke)\n",
    "\n",
    "    return dy * K0mat.sum(axis=2), dy * K1mat.sum(axis=2)"
   ]
  },
  {
   "cell_type": "code",
   "execution_count": 324,
   "id": "61e94b49-f7fe-4709-8bca-78c7aef78888",
   "metadata": {},
   "outputs": [
    {
     "data": {
      "text/plain": [
       "((1.0252413967522311+0j), (0.8965609170784938+0j))"
      ]
     },
     "execution_count": 324,
     "metadata": {},
     "output_type": "execute_result"
    }
   ],
   "source": [
    "K0mat, K1mat = test_func(sample3_jit.z_r, rj, rk)\n",
    "(K0mat[0][0], K1mat[0][0])"
   ]
  },
  {
   "cell_type": "code",
   "execution_count": 325,
   "id": "b16e7bd6-7682-4dea-8e97-bf035171786e",
   "metadata": {},
   "outputs": [
    {
     "name": "stdout",
     "output_type": "stream",
     "text": [
      "17.3 ms ± 2.73 ms per loop (mean ± std. dev. of 7 runs, 100 loops each)\n"
     ]
    }
   ],
   "source": [
    "%%timeit\n",
    "K0mat, K1mat = test_func(sample3_jit.z_r, rj, rk)"
   ]
  },
  {
   "cell_type": "markdown",
   "id": "e6a9194a-3109-42d2-ae4a-d8fe7b4dfacf",
   "metadata": {},
   "source": [
    "**With 200 integration points, the compiled Riemannian integration routine runs in only 20 ms. This would enable least-squares fitting.**\n",
    "\n",
    "So while `scipy.integrate.quad_vec` is certainly more accurate, brute-force Riemannian integration compiles better.  \\\n",
    "However, in the above example, it seems quite inaccurate. \\\n",
    "To make Riemannian integration work, I would need to carefully tweak the $y$ spacing.\n",
    "\n",
    "The integrand has a decaying $e^{-y Z}$ term. \\\n",
    "This suggests using logarithmically-spaced $y$ values intead of linearly-spaced $y$ values, with the upper range a multiple of $Z$. \\\n",
    "And we can do better than simple Trapezoidal integration. \\\n",
    "See, for example, the Newton-Cotes formulas ([Wikipedia](https://en.wikipedia.org/wiki/Newton%E2%80%93Cotes_formulas))."
   ]
  },
  {
   "cell_type": "markdown",
   "id": "2da70a6a-82c0-4adb-8a76-33b50bb77566",
   "metadata": {},
   "source": [
    "# Could we really beat `scipy.integrate` with a Riemannian sum?\n",
    "\n",
    "Good news: `Kmetal_jit` is suitably fast.  \\\n",
    "Bad new: `K_jit` is unsuitably slow!"
   ]
  },
  {
   "cell_type": "code",
   "execution_count": 68,
   "id": "93f1d536-9954-43e2-8a8f-44b728e439c5",
   "metadata": {},
   "outputs": [
    {
     "name": "stdout",
     "output_type": "stream",
     "text": [
      "3.99 μs ± 1.01 μs per loop (mean ± std. dev. of 7 runs, 100,000 loops each)\n"
     ]
    }
   ],
   "source": [
    "%%timeit\n",
    "Kmetal_jit(sample4_jit, rj[0], rk[0])"
   ]
  },
  {
   "cell_type": "code",
   "execution_count": 69,
   "id": "1702a6bb-98e8-453b-9ee2-4782ec6b6fd2",
   "metadata": {},
   "outputs": [
    {
     "name": "stdout",
     "output_type": "stream",
     "text": [
      "5.45 ms ± 798 μs per loop (mean ± std. dev. of 7 runs, 100 loops each)\n"
     ]
    }
   ],
   "source": [
    "%%timeit\n",
    "K_jit(integrand3jit, sample3_jit, 1., rj[0], rk[0])"
   ]
  },
  {
   "cell_type": "markdown",
   "id": "b5f5ff04-e505-4702-9f23-1fb08083d01f",
   "metadata": {},
   "source": [
    "How long does *one* function call to `integrand3jit` take?"
   ]
  },
  {
   "cell_type": "code",
   "execution_count": 74,
   "id": "367044fe-de8b-4ba0-9b94-d8f4058fb26f",
   "metadata": {},
   "outputs": [
    {
     "name": "stdout",
     "output_type": "stream",
     "text": [
      "3.51 μs ± 794 ns per loop (mean ± std. dev. of 7 runs, 100,000 loops each)\n"
     ]
    }
   ],
   "source": [
    "%%timeit\n",
    "integrand3jit(1.5, sample3_jit, 1., rj[0], rk[0])"
   ]
  },
  {
   "cell_type": "markdown",
   "id": "d880e757-5d14-49bc-bf0c-82c62da734a3",
   "metadata": {},
   "source": [
    "I would expect `K_jit` to be 50 to 100 times slower than `Kmetal_jit`, because there is a numerical integration involved. \\\n",
    "Yet, looking above, the function `K_jit` is more than ~1000 times slower than `Kmetal_jit`. \\\n",
    "Why is it so slow?  It is all the special functions?"
   ]
  },
  {
   "cell_type": "markdown",
   "id": "4b5b3713-962d-4bcb-b0ce-a5f30a8e68c7",
   "metadata": {},
   "source": [
    "Could I speed up the integration by avoiding `integrate.quad_vec` and doing a brute-force Riemannian sum?\n",
    "\n",
    "Look at the integrand.  As the integration variable goes from 0 to 10, plot the *absolute value* of the various $K$ integrals.  Plot with a logarithmic $y$ axis, because the imaginary parts are very small (and negative)."
   ]
  },
  {
   "cell_type": "code",
   "execution_count": 346,
   "id": "aa6f254a-fd3d-474e-a636-4a59754836db",
   "metadata": {},
   "outputs": [
    {
     "name": "stdout",
     "output_type": "stream",
     "text": [
      "(100, 6)\n"
     ]
    },
    {
     "data": {
      "image/png": "[encoded data removed]",
      "text/plain": [
       "<Figure size 640x480 with 1 Axes>"
      ]
     },
     "metadata": {},
     "output_type": "display_data"
    }
   ],
   "source": [
    "# y_vals = np.linspace(0,30,500)\n",
    "y_vals = np.logspace(np.log10(0.001),np.log10(30), 100)\n",
    "\n",
    "integrand3_vals = np.array([integrand3jit(y, sample3_jit, 1., rj[0], rk[0]) for y in y_vals])\n",
    "print(integrand3_vals.shape)\n",
    "\n",
    "plt.loglog(y_vals, np.abs(np.cumsum(integrand3_vals,axis=0)), '.-')\n",
    "plt.show()"
   ]
  },
  {
   "cell_type": "code",
   "execution_count": 347,
   "id": "079c0ff2-9fc5-4759-9b31-ac5e20023f71",
   "metadata": {},
   "outputs": [
    {
     "data": {
      "image/png": "[encoded data removed]",
      "text/plain": [
       "<Figure size 640x480 with 1 Axes>"
      ]
     },
     "metadata": {},
     "output_type": "display_data"
    }
   ],
   "source": [
    "plt.loglog(y_vals, np.abs(integrand3_vals), '.-')\n",
    "plt.show()"
   ]
  },
  {
   "cell_type": "code",
   "execution_count": 348,
   "id": "e3335f04-173b-4b00-b381-54921b74c6ce",
   "metadata": {},
   "outputs": [
    {
     "data": {
      "image/png": "[encoded data removed]",
      "text/plain": [
       "<Figure size 640x480 with 1 Axes>"
      ]
     },
     "metadata": {},
     "output_type": "display_data"
    }
   ],
   "source": [
    "plt.semilogy(y_vals, np.abs(integrand3_vals), '.-')\n",
    "plt.show()"
   ]
  },
  {
   "cell_type": "code",
   "execution_count": 349,
   "id": "bc8f07e5-8e5e-44c5-bb1c-c2d138939010",
   "metadata": {},
   "outputs": [
    {
     "data": {
      "image/png": "[encoded data removed]",
      "text/plain": [
       "<Figure size 640x480 with 1 Axes>"
      ]
     },
     "metadata": {},
     "output_type": "display_data"
    }
   ],
   "source": [
    "plt.plot(y_vals, np.abs(integrand3_vals), '.-')\n",
    "plt.show()"
   ]
  },
  {
   "cell_type": "markdown",
   "id": "41572c2a-0296-4416-a36d-fe2bebdad240",
   "metadata": {},
   "source": [
    "# Try to speed up `integrand3jit`"
   ]
  },
  {
   "cell_type": "markdown",
   "id": "6d412e64-7fd8-49fb-95d7-68a6ac6a1bf7",
   "metadata": {},
   "source": [
    "To figure out whether the custom class `SampleModel3Jit` is slowing us down, write a function where the sample values are *hardwired* into the function."
   ]
  },
  {
   "cell_type": "code",
   "execution_count": 326,
   "id": "f2fbafc0-4696-4998-bac8-cc1615b2668c",
   "metadata": {},
   "outputs": [],
   "source": [
    "@jit(float64[:](float64,\n",
    "             float64,\n",
    "             float64[:],\n",
    "             float64[:]), nopython=True)\n",
    "\n",
    "def integrand3jitfast(y, omega, location1, location2):\n",
    "    \"\"\"Theta function for a Sample III object, a semi-infinite dielectric.\n",
    "    \n",
    "    In the code below, `y` is the unitless integration variable.\"\"\"\n",
    "\n",
    "    es = complex(20.0, 0.)\n",
    "    zr = 100.0e-9\n",
    "    omega0 = 389557.\n",
    "    kD = 26456583.\n",
    "        \n",
    "    Omega = omega/omega0\n",
    "    k_over_eta = y / np.sqrt(y**2 + (zr * kD)**2 * (1/es + complex(0,1) * Omega)) # depends on y\n",
    "\n",
    "    p0 = 1 + complex(0,1) * es * Omega\n",
    "    p1 = k_over_eta / (es * p0)          # depends on y\n",
    "    p6 = complex(0,1) * Omega / p0\n",
    "\n",
    "    theta_norm = p6 + p1\n",
    "    rp = (1 - theta_norm) / (1 + theta_norm)\n",
    "\n",
    "    rhoX = (location1[0] - location2[0])/ zr\n",
    "    rhoY = (location1[1] - location2[1])/ zr\n",
    "    argument = y * np.sqrt(rhoX**2 + rhoY**2)\n",
    "    exponent = y * (location1[2] + location2[2])/ zr\n",
    "\n",
    "    integrand = np.array([       np.real(rp),        np.imag(rp), \n",
    "                          y    * np.real(rp), y    * np.imag(rp),\n",
    "                          y**2 * np.real(rp), y**2 * np.imag(rp)]) * scipy.special.j0(argument) * np.exp(-1 * exponent)\n",
    "\n",
    "    return integrand"
   ]
  },
  {
   "cell_type": "code",
   "execution_count": 327,
   "id": "4aa0f2da-e926-4dc5-8553-99aca87887a8",
   "metadata": {},
   "outputs": [
    {
     "data": {
      "text/plain": [
       "array([ 1.87197014e-01, -6.86243281e-09,  2.80795521e-01, -1.02936492e-08,\n",
       "        4.21193282e-01, -1.54404738e-08])"
      ]
     },
     "execution_count": 327,
     "metadata": {},
     "output_type": "execute_result"
    }
   ],
   "source": [
    "integrand3jitfast(1.5, 1., rj[0], rk[0])"
   ]
  },
  {
   "cell_type": "markdown",
   "id": "a4a8a7b9-3e1a-4795-a33e-14813e2e96e5",
   "metadata": {},
   "source": [
    "Now time the execution."
   ]
  },
  {
   "cell_type": "code",
   "execution_count": 328,
   "id": "20be43b4-f8f6-47eb-9dcf-42fa75576a19",
   "metadata": {},
   "outputs": [
    {
     "name": "stdout",
     "output_type": "stream",
     "text": [
      "2.78 μs ± 398 ns per loop (mean ± std. dev. of 7 runs, 100,000 loops each)\n"
     ]
    }
   ],
   "source": [
    "%%timeit\n",
    "integrand3jitfast(1.5, 1., rj[0], rk[0])"
   ]
  },
  {
   "cell_type": "markdown",
   "id": "dc16def1-69f8-4438-af11-6f071aab0ce4",
   "metadata": {},
   "source": [
    "The run time is only slightly faster than the 3.51 μs ± 794 ns per loop seen above."
   ]
  },
  {
   "cell_type": "markdown",
   "id": "0291b5b1-8c2e-47dd-a684-d1d19fddc824",
   "metadata": {},
   "source": [
    "Conclude that the custom class `SampleModel3Jit` is not slowing us down too much."
   ]
  },
  {
   "cell_type": "markdown",
   "id": "938e4257-31c1-446d-b3fe-b28ad349883f",
   "metadata": {},
   "source": [
    "Let's see how much faster it gets if we move *all possible computations* outside the function.  \\\n",
    "That is, keep only the computations involving $y$ inside the integrand."
   ]
  },
  {
   "cell_type": "code",
   "execution_count": 193,
   "id": "040ca388-8718-4fd4-8763-908bd132ce17",
   "metadata": {},
   "outputs": [
    {
     "data": {
      "text/plain": [
       "(1.5,\n",
       " 2.5670184337593727e-06,\n",
       " (20+0j),\n",
       " 6.99950784035889,\n",
       " (1+5.134036867518745e-05j),\n",
       " (1.3179167243782755e-10+2.5670184269931392e-06j),\n",
       " 3.367778697655221e-17,\n",
       " 1.0550000000000002,\n",
       " array([0.00e+00, 0.00e+00, 5.55e-08]),\n",
       " array([3.3677787e-24, 0.0000000e+00, 5.0000000e-08]))"
      ]
     },
     "execution_count": 193,
     "metadata": {},
     "output_type": "execute_result"
    }
   ],
   "source": [
    "es = complex(20.0, 0.)\n",
    "zr = 100.0e-9\n",
    "kD = 26456583.\n",
    "zrkD2 = (zr * kD)**2\n",
    "\n",
    "omega = 1.0\n",
    "omega0 = 389557.\n",
    "Omega = omega/omega0\n",
    "\n",
    "p0 = 1 + complex(0,1) * es * Omega\n",
    "p6 = complex(0,1) * Omega / p0\n",
    "\n",
    "rhoX = (rj[0][0] - rk[0][0])/ zr\n",
    "rhoY = (rj[0][1] - rk[0][1])/ zr\n",
    "rho = np.sqrt(rhoX**2 + rhoY**2)\n",
    "Z = (rj[0][2] + rk[0][2])/ zr\n",
    "\n",
    "(1.5, Omega, es, zrkD2, p0, p6, rho, Z, rj[0], rk[0])"
   ]
  },
  {
   "cell_type": "code",
   "execution_count": 194,
   "id": "9906ae99-7d7f-46c0-b585-c36e4cbb0e20",
   "metadata": {},
   "outputs": [],
   "source": [
    "@jit(float64[:](float64,  # y\n",
    "             float64,     # Omega\n",
    "             complex128,  # es\n",
    "             float64,     # zrkD2\n",
    "             complex128,  # p0\n",
    "             complex128,  # p6\n",
    "             float64,     # rho\n",
    "             float64,     # Z   \n",
    "             float64[:],\n",
    "             float64[:]), nopython=True)\n",
    "\n",
    "def integrand3jitfast(y, Omega, es, zrkD2, p0, p6, rho, Z, location1, location2):\n",
    "    \"\"\"Theta function for a Sample III object, a semi-infinite dielectric.\n",
    "    \n",
    "    In the code below, `y` is the unitless integration variable.\"\"\"\n",
    "\n",
    "    k_over_eta = y / np.sqrt(y**2 + zrkD2 * (1/es + complex(0,1) * Omega))\n",
    "    p1 = k_over_eta / (es * p0)\n",
    "    theta_norm = p6 + p1\n",
    "    rp = (1 - theta_norm) / (1 + theta_norm)\n",
    "\n",
    "    integrand = np.array([       np.real(rp),        np.imag(rp), \n",
    "                          y    * np.real(rp), y    * np.imag(rp),\n",
    "                          y**2 * np.real(rp), y**2 * np.imag(rp)]) * scipy.special.j0(y * rho) * np.exp(-y * Z)\n",
    "\n",
    "    return integrand"
   ]
  },
  {
   "cell_type": "code",
   "execution_count": 200,
   "id": "782698af-385b-49a1-a5eb-941726324a5b",
   "metadata": {},
   "outputs": [
    {
     "data": {
      "text/plain": [
       "array([ 1.87197014e-01, -6.86243281e-09,  2.80795521e-01, -1.02936492e-08,\n",
       "        4.21193282e-01, -1.54404738e-08])"
      ]
     },
     "execution_count": 200,
     "metadata": {},
     "output_type": "execute_result"
    }
   ],
   "source": [
    "integrand3jitfast(1.5, Omega, es, zrkD2, p0, p6, rho, Z, rj[0], rk[0])"
   ]
  },
  {
   "cell_type": "markdown",
   "id": "9cfd29ad-80c3-4db7-88fa-145645986a94",
   "metadata": {},
   "source": [
    "Now time it."
   ]
  },
  {
   "cell_type": "code",
   "execution_count": 201,
   "id": "66ddbd2b-1702-4278-bda4-050cdd02a67c",
   "metadata": {},
   "outputs": [
    {
     "name": "stdout",
     "output_type": "stream",
     "text": [
      "2.22 μs ± 61.4 ns per loop (mean ± std. dev. of 7 runs, 100,000 loops each)\n"
     ]
    }
   ],
   "source": [
    "%%timeit\n",
    "integrand3jitfast(1.5, Omega, es, zrkD2, p0, p6, rho, Z, rj[0], rk[0])"
   ]
  },
  {
   "cell_type": "markdown",
   "id": "c711b027-54fe-48a9-b25b-d1aacf9e0170",
   "metadata": {},
   "source": [
    "The execution is only slightly faster, and sometimes slower, than the 2.86 μs ± 454 ns per loop seen above! \\\n",
    "Surprising, because I have moved a lot of the computations outside the function. \\\n",
    "Is passing variables in and out of the function is time-consuming?\n",
    "\n",
    "**Moving computations outside the `integrand3jitfast` function resulted in essentially no decrease in execution time.**"
   ]
  },
  {
   "cell_type": "markdown",
   "id": "376524ff-04ca-4e51-97b2-cecaf3e49c60",
   "metadata": {},
   "source": [
    "# Explore really accurate Riemannian integration"
   ]
  },
  {
   "cell_type": "markdown",
   "id": "49800ffd-6c7e-4520-b5f2-d5ff42cd2724",
   "metadata": {},
   "source": [
    "Some helper functions."
   ]
  },
  {
   "cell_type": "code",
   "execution_count": 608,
   "id": "ce13aa86-d290-42a6-ac92-67903cf55f22",
   "metadata": {},
   "outputs": [],
   "source": [
    "def disentangle(temp):\n",
    "    \"\"\"Convert a complex 3-vector into a real 6-vector\"\"\"\n",
    "\n",
    "    return np.array([temp[0].real, temp[0].imag,\n",
    "                 temp[1].real, temp[1].imag,\n",
    "                 temp[2].real, temp[2].imag])"
   ]
  },
  {
   "cell_type": "code",
   "execution_count": 609,
   "id": "a6671224-dce5-489c-af7e-1e09ee60336d",
   "metadata": {},
   "outputs": [
    {
     "data": {
      "text/plain": [
       "array([1., 2., 3., 4., 5., 6.])"
      ]
     },
     "execution_count": 609,
     "metadata": {},
     "output_type": "execute_result"
    }
   ],
   "source": [
    "disentangle(np.array([complex(1,2), complex(3,4), complex(5,6)]))"
   ]
  },
  {
   "cell_type": "code",
   "execution_count": 610,
   "id": "381bc7a9-d00d-48be-ba34-53ed21a07df7",
   "metadata": {},
   "outputs": [],
   "source": [
    "def compare(a,b):\n",
    "    epsilon_rel = (a-b) / a\n",
    "    epsilon_pct = 100 * (a-b) / a\n",
    "    print(\"  reference  value      relative percent \")\n",
    "    print(\"  ========== ========== ======== ========\")\n",
    "    for k, (a_, b_, epsilon_rel_, epsilon_pct_) in enumerate(zip(a, b, epsilon_rel, epsilon_pct)):\n",
    "        print(\"{:d} {:+1.7f} {:+1.7f} {:+1.1e} {:+1.3f}\".format(k, a_, b_, epsilon_rel_, epsilon_pct_))"
   ]
  },
  {
   "cell_type": "code",
   "execution_count": 611,
   "id": "bfcd58d5-f4ed-4769-8546-21d0eb16b68a",
   "metadata": {},
   "outputs": [
    {
     "name": "stdout",
     "output_type": "stream",
     "text": [
      "  reference  value      relative percent \n",
      "  ========== ========== ======== ========\n",
      "0 +1.0000000 +1.0100000 -1.0e-02 -1.000\n",
      "1 +1.0000000 +0.9800000 +2.0e-02 +2.000\n"
     ]
    }
   ],
   "source": [
    "compare(np.array([1.0, 1.0]), np.array([1.01, 0.98]))"
   ]
  },
  {
   "cell_type": "markdown",
   "id": "03961b53-222d-49ca-9987-28ce55fde5e7",
   "metadata": {},
   "source": [
    "Here is a representative calculation."
   ]
  },
  {
   "cell_type": "code",
   "execution_count": 612,
   "id": "1827f862-4bc6-4e68-b8dd-3317dfa5f58a",
   "metadata": {},
   "outputs": [
    {
     "data": {
      "text/plain": [
       "array([ 8.57635835e-01, -4.42486634e-04,  8.12958063e-01, -3.76874146e-04,\n",
       "        1.54120487e+00, -6.31087354e-04])"
      ]
     },
     "execution_count": 612,
     "metadata": {},
     "output_type": "execute_result"
    }
   ],
   "source": [
    "v0 = disentangle(K_jit(integrand3jit, sample3_jit, 1.0e5, rj[0], rk[0])) \n",
    "v0"
   ]
  },
  {
   "cell_type": "markdown",
   "id": "220b2fac-ab54-4164-b567-51e75503baef",
   "metadata": {},
   "source": [
    "Here is a brute-force integrator that just sums the numbers up and multiplies them by $\\Delta y$.  \\\n",
    "Playing with the integration limits, $(0, 10)$, and the number of points, $1000$, I can get the errors under 1 percent. "
   ]
  },
  {
   "cell_type": "code",
   "execution_count": 613,
   "id": "3603ba24-0749-4c0e-a326-baaa0cdd8355",
   "metadata": {},
   "outputs": [],
   "source": [
    "def integrator(sample, omega, rj, rk):\n",
    "    \n",
    "    y = np.linspace(0., 10., 1000)\n",
    "    dy = np.diff(y)\n",
    "    y = y[0:-1]\n",
    "    \n",
    "    result = complex(1,0) * np.zeros((6,len(y)))\n",
    "    \n",
    "    for m, y_ in enumerate(y):\n",
    "        result[:,m] = integrand3jit(y_, sample3_jit, omega, rj, rk)\n",
    "\n",
    "    return (dy * result).sum(axis=1) @ Kp"
   ]
  },
  {
   "cell_type": "code",
   "execution_count": 614,
   "id": "6880e847-70ce-4677-9ff8-f3eff8e4254c",
   "metadata": {},
   "outputs": [
    {
     "data": {
      "text/plain": [
       "array([ 8.62149571e-01, -4.45053924e-04,  8.12703363e-01, -3.76857880e-04,\n",
       "        1.53848010e+00, -6.30958062e-04])"
      ]
     },
     "execution_count": 614,
     "metadata": {},
     "output_type": "execute_result"
    }
   ],
   "source": [
    "v1 = disentangle(integrator(sample3_jit, 1.0e5, rj[0], rk[0]))\n",
    "v1"
   ]
  },
  {
   "cell_type": "code",
   "execution_count": 615,
   "id": "a44cae28-bc1d-411f-bce7-db25bb1e1aaf",
   "metadata": {},
   "outputs": [
    {
     "name": "stdout",
     "output_type": "stream",
     "text": [
      "  reference  value      relative percent \n",
      "  ========== ========== ======== ========\n",
      "0 +0.8576358 +0.8621496 -5.3e-03 -0.526\n",
      "1 -0.0004425 -0.0004451 -5.8e-03 -0.580\n",
      "2 +0.8129581 +0.8127034 +3.1e-04 +0.031\n",
      "3 -0.0003769 -0.0003769 +4.3e-05 +0.004\n",
      "4 +1.5412049 +1.5384801 +1.8e-03 +0.177\n",
      "5 -0.0006311 -0.0006310 +2.0e-04 +0.020\n"
     ]
    }
   ],
   "source": [
    "compare(v0,v1)"
   ]
  },
  {
   "cell_type": "markdown",
   "id": "d9ce273e-d45e-4312-9dfa-9f7bb244ea4d",
   "metadata": {},
   "source": [
    "Can I get 1% errors using only 100 points? \\\n",
    "Try a logarithmically spaced $y$ axis."
   ]
  },
  {
   "cell_type": "code",
   "execution_count": 616,
   "id": "1f4f9d0a-3b14-4756-ab70-75f9769cd6df",
   "metadata": {},
   "outputs": [],
   "source": [
    "def integrator(sample, omega, rj, rk):\n",
    "    \n",
    "    y = np.logspace(np.log10(0.01), np.log10(20), 100)\n",
    "    dy = np.diff(y)\n",
    "    y = y[0:-1]\n",
    "    \n",
    "    result = complex(1,0) * np.zeros((6,len(y)))\n",
    "    \n",
    "    for m, y_ in enumerate(y):\n",
    "        result[:,m] = integrand3jit(y_, sample3_jit, omega, rj, rk)\n",
    "\n",
    "    return (dy * result).sum(axis=1) @ Kp"
   ]
  },
  {
   "cell_type": "code",
   "execution_count": 617,
   "id": "98606605-f875-47ce-89b9-30b19c4a431f",
   "metadata": {},
   "outputs": [
    {
     "data": {
      "text/plain": [
       "array([ 8.82416194e-01, -4.54822399e-04,  8.44937241e-01, -3.91694769e-04,\n",
       "        1.60191213e+00, -6.55945722e-04])"
      ]
     },
     "execution_count": 617,
     "metadata": {},
     "output_type": "execute_result"
    }
   ],
   "source": [
    "v2 = disentangle(integrator(sample3_jit, 1.0e5, rj[0], rk[0]))\n",
    "v2"
   ]
  },
  {
   "cell_type": "code",
   "execution_count": 618,
   "id": "a46d459e-8d32-4bd1-81f3-7fcead4cbfb6",
   "metadata": {},
   "outputs": [
    {
     "name": "stdout",
     "output_type": "stream",
     "text": [
      "  reference  value      relative percent \n",
      "  ========== ========== ======== ========\n",
      "0 +0.8576358 +0.8824162 -2.9e-02 -2.889\n",
      "1 -0.0004425 -0.0004548 -2.8e-02 -2.788\n",
      "2 +0.8129581 +0.8449372 -3.9e-02 -3.934\n",
      "3 -0.0003769 -0.0003917 -3.9e-02 -3.933\n",
      "4 +1.5412049 +1.6019121 -3.9e-02 -3.939\n",
      "5 -0.0006311 -0.0006559 -3.9e-02 -3.939\n"
     ]
    }
   ],
   "source": [
    "compare(v0,v2)"
   ]
  },
  {
   "cell_type": "markdown",
   "id": "9b175bf2-d2fe-4a9e-8c1d-e3484e10ddf8",
   "metadata": {},
   "source": [
    "The errors are actually worse with logarithmically space y-axis!\n",
    "\n",
    "Try a fancier integration.  See the `scipy.integrate.newton_cotes` example code [here](https://docs.scipy.org/doc/scipy/reference/generated/scipy.integrate.newton_cotes.html)."
   ]
  },
  {
   "cell_type": "code",
   "execution_count": 619,
   "id": "1b9357f0-0dee-4177-be5f-695fa80cbe83",
   "metadata": {},
   "outputs": [],
   "source": [
    "from scipy.integrate import newton_cotes"
   ]
  },
  {
   "cell_type": "code",
   "execution_count": 620,
   "id": "a5208eb4-581d-47a9-a68d-3bbf982669de",
   "metadata": {},
   "outputs": [],
   "source": [
    "def integrator(sample, omega, rj, rk):\n",
    "\n",
    "    N = 30\n",
    "    ymax = 30.\n",
    "    \n",
    "    y = np.linspace(0., ymax, N+1)\n",
    "    an, _ = newton_cotes(N, 1)\n",
    "    dy = ymax / N\n",
    "    \n",
    "    result = complex(1,0) * np.zeros((6,len(y)))\n",
    "    for m, y_ in enumerate(y):\n",
    "        result[:,m] = integrand3jit(y_, sample3_jit, omega, rj, rk)\n",
    "\n",
    "    return dy * (an * result).sum(axis=1) @ Kp"
   ]
  },
  {
   "cell_type": "code",
   "execution_count": 621,
   "id": "101cb4b7-a2a4-4c6c-8a7e-8acd1ba65a67",
   "metadata": {},
   "outputs": [
    {
     "data": {
      "text/plain": [
       "array([ 8.57635822e-01, -4.42491949e-04,  8.12957866e-01, -3.76882169e-04,\n",
       "        1.54120505e+00, -6.30833433e-04])"
      ]
     },
     "execution_count": 621,
     "metadata": {},
     "output_type": "execute_result"
    }
   ],
   "source": [
    "v3 = disentangle(integrator(sample3_jit, 1.0e5, rj[0], rk[0]))\n",
    "v3"
   ]
  },
  {
   "cell_type": "code",
   "execution_count": 622,
   "id": "110e7b10-2fde-47bb-ad43-a026508111bf",
   "metadata": {},
   "outputs": [
    {
     "name": "stdout",
     "output_type": "stream",
     "text": [
      "  reference  value      relative percent \n",
      "  ========== ========== ======== ========\n",
      "0 +0.8576358 +0.8576358 +1.5e-08 +0.000\n",
      "1 -0.0004425 -0.0004425 -1.2e-05 -0.001\n",
      "2 +0.8129581 +0.8129579 +2.4e-07 +0.000\n",
      "3 -0.0003769 -0.0003769 -2.1e-05 -0.002\n",
      "4 +1.5412049 +1.5412051 -1.2e-07 -0.000\n",
      "5 -0.0006311 -0.0006308 +4.0e-04 +0.040\n"
     ]
    }
   ],
   "source": [
    "compare(v0,v3)"
   ]
  },
  {
   "cell_type": "markdown",
   "id": "7cc01055-20ed-4239-a5d3-60da68d43ed3",
   "metadata": {},
   "source": [
    "**Wow, `newton_cotes` integration rocks!  With $N = 30$ points, I am getting errors for the real parts in the 10's of ppm range.**"
   ]
  },
  {
   "cell_type": "markdown",
   "id": "a8c73b41-dc3a-4363-8bfd-7f43b2ba6b06",
   "metadata": {},
   "source": [
    "Use what we have learned to create the full matrix of $K_0$, $K_1$, and $K_2$ values. \\\n",
    "Do this first with a pure Python function."
   ]
  },
  {
   "cell_type": "code",
   "execution_count": 732,
   "id": "8dbefe24-0dd7-42f3-b03b-2a2450dbc39b",
   "metadata": {},
   "outputs": [],
   "source": [
    "def Kmatrix_jit(sample, omega, rj, rk):\n",
    "    \"\"\"The Green's function matrices for an image charge.\"\"\"\n",
    "\n",
    "    N = 30\n",
    "    ymax = 30.\n",
    "    \n",
    "    y = np.linspace(0., ymax, N+1)\n",
    "    an, _ = scipy.integrate.newton_cotes(N, 1)\n",
    "    dy = ymax / N\n",
    "\n",
    "    K0mat = complex(1,0) * np.zeros((len(Rk),len(Rj),len(y)))\n",
    "    K1mat = complex(1,0) * np.zeros((len(Rk),len(Rj),len(y)))\n",
    "    K2mat = complex(1,0) * np.zeros((len(Rk),len(Rj),len(y)))\n",
    "    \n",
    "    for k, rke in enumerate(rk):\n",
    "        for j, rje in enumerate(rj):\n",
    "            for m, y_ in enumerate(y):\n",
    "                K0mat[k,j,m], K1mat[k,j,m], K2mat[k,j,m] = integrand3jit(y_, sample, omega, rje, rke) @ Kp\n",
    "            \n",
    "    return dy * (an * K0mat).sum(axis=2), \\\n",
    "           dy * (an * K1mat).sum(axis=2), \\\n",
    "           dy * (an * K2mat).sum(axis=2)"
   ]
  },
  {
   "cell_type": "code",
   "execution_count": 733,
   "id": "bf8bccfd-0f79-4df2-b4c4-60418949de4a",
   "metadata": {},
   "outputs": [],
   "source": [
    "K0, K1, K2 = Kmatrix_jit(sample3_jit, 1.0e5, rj, rk)\n",
    "v4 = disentangle(np.array([K0[0][0], K1[0][0], K2[0][0]]))"
   ]
  },
  {
   "cell_type": "code",
   "execution_count": 734,
   "id": "6f04725a-7cd6-42ca-b3f0-b5dd09677833",
   "metadata": {},
   "outputs": [
    {
     "name": "stdout",
     "output_type": "stream",
     "text": [
      "  reference  value      relative percent \n",
      "  ========== ========== ======== ========\n",
      "0 +0.8576358 +0.8576358 +1.5e-08 +0.000\n",
      "1 -0.0004425 -0.0004425 -1.2e-05 -0.001\n",
      "2 +0.8129581 +0.8129579 +2.4e-07 +0.000\n",
      "3 -0.0003769 -0.0003769 -2.1e-05 -0.002\n",
      "4 +1.5412049 +1.5412051 -1.2e-07 -0.000\n",
      "5 -0.0006311 -0.0006308 +4.0e-04 +0.040\n"
     ]
    }
   ],
   "source": [
    "compare(v0,v4)"
   ]
  },
  {
   "cell_type": "markdown",
   "id": "8151c023-48a9-4fd0-b8ec-239b7ca29e80",
   "metadata": {},
   "source": [
    "How fast is it?  Reasonably fast, under 200 ms."
   ]
  },
  {
   "cell_type": "code",
   "execution_count": 648,
   "id": "50d3602a-9d52-4e7b-b1e6-6c675374a939",
   "metadata": {},
   "outputs": [
    {
     "name": "stdout",
     "output_type": "stream",
     "text": [
      "152 ms ± 13.2 ms per loop (mean ± std. dev. of 7 runs, 1 loop each)\n"
     ]
    }
   ],
   "source": [
    "%%timeit\n",
    "K0, K1, K2 = Kmatrix_jit(sample3_jit, 1.0e5, rj, rk)"
   ]
  },
  {
   "cell_type": "markdown",
   "id": "409d6f41-40b3-4e2f-ba67-ad0eee684ce2",
   "metadata": {},
   "source": [
    "Uncompiled, the above `Kmatrix_jit` function is about a factor of 5 faster than the analogous code using `scipy.integrate.quad_vec`.\n",
    "\n",
    "Now try compiling it. \n",
    "\n",
    "See [this](https://stackoverflow.com/questions/30363253/multiple-output-and-numba-signatures) example of a `@jit` declaration for a function returning a tuple.\n",
    "\n",
    "\n",
    "The following code fails to compile with the error\n",
    "\n",
    "    TypingError: Failed in nopython mode pipeline (step: nopython frontend)\n",
    "    Invalid use of type(CPUDispatcher(<function integrand3jit at 0x128f26170>)) with parameters"
   ]
  },
  {
   "cell_type": "code",
   "execution_count": 668,
   "id": "f8b6f7a3-441e-444d-a7da-95db028b55ef",
   "metadata": {},
   "outputs": [],
   "source": [
    "if 0:\n",
    "\n",
    "    N = 30\n",
    "    an, _ = scipy.integrate.newton_cotes(N, 1)\n",
    "    \n",
    "    @jit(nb.types.UniTuple(nb.complex128[:,:],3)(\n",
    "        SampleModel3Jit.class_type.instance_type,\n",
    "        nb.float64,\n",
    "        nb.float64[:],\n",
    "        nb.float64[:],\n",
    "        nb.uint16,\n",
    "        nb.float64[:]),nopython=True)\n",
    "    \n",
    "    def Kmatrix_jit(sample, omega, rj, rk, N, an):\n",
    "        \"\"\"The Green's function matrices for an image charge.\"\"\"\n",
    "    \n",
    "        N = 30\n",
    "        ymax = 30.    \n",
    "        y = np.linspace(0., ymax, N+1)\n",
    "        dy = ymax / N\n",
    "    \n",
    "        K0mat = complex(1,0) * np.zeros((len(Rk),len(Rj),len(y)))\n",
    "        K1mat = complex(1,0) * np.zeros((len(Rk),len(Rj),len(y)))\n",
    "        K2mat = complex(1,0) * np.zeros((len(Rk),len(Rj),len(y)))\n",
    "        \n",
    "        for k, rke in enumerate(rk):\n",
    "            for j, rje in enumerate(rj):\n",
    "                for m, y_ in enumerate(y):\n",
    "                    K0mat[k,j,m], K1mat[k,j,m], K2mat[k,j,m] = integrand3jit(y_, sample, omega, rje, rke) @ Kp\n",
    "                \n",
    "        return dy * (an * K0mat).sum(axis=2), \\\n",
    "               dy * (an * K1mat).sum(axis=2), \\\n",
    "               dy * (an * K2mat).sum(axis=2)"
   ]
  },
  {
   "cell_type": "code",
   "execution_count": 670,
   "id": "e1e55997-c4c5-4062-9c37-4344cf1a6b43",
   "metadata": {},
   "outputs": [],
   "source": [
    "if 0:\n",
    "    K0, K1, K2 = Kmatrix_jit(sample3_jit, 1.0e5, rj, rk, N, an)\n",
    "    v5 = disentangle(np.array([K0[0][0], K1[0][0], K2[0][0]]))"
   ]
  },
  {
   "cell_type": "markdown",
   "id": "1783f05d-fe4f-46dd-92f8-c1b7e2da2682",
   "metadata": {},
   "source": [
    "It looks like `jit` is having trouble with the function call to `integrand3jit`. \\\n",
    "Is this because it has a custom data type, `SampleModel3Jit`, as input? \\\n",
    "It should be possible to write a version of the `integrand3jit` function that takes only has \"regular\" inputs."
   ]
  },
  {
   "cell_type": "markdown",
   "id": "a6d8aa37-352f-44c3-bbe8-ef91bce9a787",
   "metadata": {},
   "source": [
    "# Rewrite `integrand3jit` using Newton-Cotes integration"
   ]
  },
  {
   "cell_type": "markdown",
   "id": "64859ac3-198c-49e6-85d2-12208850a05c",
   "metadata": {},
   "source": [
    "What sample parameters does the function `integrand3jit` really need? \\\n",
    "Extract them from the sample and put them in a dictionary."
   ]
  },
  {
   "cell_type": "code",
   "execution_count": 693,
   "id": "9a089111-6f4f-4e9e-bb04-6ce4fb0c2be0",
   "metadata": {},
   "outputs": [],
   "source": [
    "def utility(sample):\n",
    "    return {'es': sample.epsilon_s, 'zr': sample.z_r, 'omega0': sample.omega0, 'kD': sample.kD}"
   ]
  },
  {
   "cell_type": "code",
   "execution_count": 694,
   "id": "9f307826-e740-4146-910d-973aaf823173",
   "metadata": {},
   "outputs": [
    {
     "data": {
      "text/plain": [
       "{'es': (20+0j),\n",
       " 'zr': 1.0000000000000001e-07,\n",
       " 'omega0': 11294.09067373019,\n",
       " 'kD': 26456583.416667342}"
      ]
     },
     "execution_count": 694,
     "metadata": {},
     "output_type": "execute_result"
    }
   ],
   "source": [
    "pars = utility(sample3_jit)\n",
    "pars"
   ]
  },
  {
   "cell_type": "markdown",
   "id": "ba2ffdfc-8cc2-4957-b831-2f24b0bb1656",
   "metadata": {},
   "source": [
    "Rewrite `integrand3jit` so that the relevant sample properties get passed to the function, instead of the complicated sample objects. \\\n",
    "We do not have any complicated objects to pass, so `@jit` works out of the box."
   ]
  },
  {
   "cell_type": "code",
   "execution_count": 711,
   "id": "3a0a190e-9a59-4e87-b361-463aeb1ded43",
   "metadata": {},
   "outputs": [],
   "source": [
    "@jit(nopython=True)\n",
    "\n",
    "def integrand3jitnew(y, es, zr, omega0, kD, omega, location1, location2):\n",
    "    \"\"\"Integrand for a Sample III object, a semi-infinite dielectric.\n",
    "    \n",
    "    In the code below, `y` is the unitless integration variable.\n",
    "    \"\"\"\n",
    "\n",
    "    Omega = omega/omega0\n",
    "    k_over_eta = y / np.sqrt(y**2 + (zr * kD)**2 * (1/es + complex(0,1) * Omega)) # depends on y\n",
    "\n",
    "    p0 = 1 + complex(0,1) * es * Omega\n",
    "    p1 = k_over_eta / (es * p0)          # depends on y\n",
    "    p6 = complex(0,1) * Omega / p0\n",
    "\n",
    "    theta_norm = p6 + p1\n",
    "    rp = (1 - theta_norm) / (1 + theta_norm)\n",
    "\n",
    "    rhoX = (location1[0] - location2[0])/ zr\n",
    "    rhoY = (location1[1] - location2[1])/ zr\n",
    "    argument = y * np.sqrt(rhoX**2 + rhoY**2)\n",
    "    exponent = y * (location1[2] + location2[2])/ zr\n",
    "\n",
    "    integrand = np.array([       np.real(rp),        np.imag(rp), \n",
    "                          y    * np.real(rp), y    * np.imag(rp),\n",
    "                          y**2 * np.real(rp), y**2 * np.imag(rp)]) * scipy.special.j0(argument) * np.exp(-1 * exponent)\n",
    "\n",
    "    return integrand"
   ]
  },
  {
   "cell_type": "markdown",
   "id": "a714edf8-8408-455e-becd-e9ccdb44c183",
   "metadata": {},
   "source": [
    "Add to the sample-characteristics dictionary the value of `y` and the locations where we want the integral evaluated at."
   ]
  },
  {
   "cell_type": "code",
   "execution_count": 793,
   "id": "c8a37321-23e7-4191-b747-1e77da72effc",
   "metadata": {},
   "outputs": [
    {
     "data": {
      "text/plain": [
       "{'y': 1.5,\n",
       " 'omega': 100000.0,\n",
       " 'location1': array([0.00e+00, 0.00e+00, 5.55e-08]),\n",
       " 'location2': array([3.3677787e-24, 0.0000000e+00, 5.0000000e-08]),\n",
       " 'es': (20+0j),\n",
       " 'zr': 1.0000000000000001e-07,\n",
       " 'omega0': 11294.09067373019,\n",
       " 'kD': 26456583.416667342}"
      ]
     },
     "execution_count": 793,
     "metadata": {},
     "output_type": "execute_result"
    }
   ],
   "source": [
    "vals = {'y': 1.5, 'omega': 1.0e5, 'location1': rj[0], 'location2': rk[0]}\n",
    "pars = {**vals, **utility(sample3_jit)}\n",
    "pars"
   ]
  },
  {
   "cell_type": "markdown",
   "id": "880131b7-4f51-4161-947d-85dbe61b29c6",
   "metadata": {},
   "source": [
    "The function `integrand3jitnew` returns a 6-vector."
   ]
  },
  {
   "cell_type": "code",
   "execution_count": 796,
   "id": "762f6329-665e-4aaa-bd5c-e968a9da9c59",
   "metadata": {},
   "outputs": [
    {
     "data": {
      "text/plain": [
       "array([ 1.85907472e-01, -9.06966548e-05,  2.78861208e-01, -1.36044982e-04,\n",
       "        4.18291812e-01, -2.04067473e-04])"
      ]
     },
     "execution_count": 796,
     "metadata": {},
     "output_type": "execute_result"
    }
   ],
   "source": [
    "integrand3jitnew(**pars)"
   ]
  },
  {
   "cell_type": "markdown",
   "id": "5e529ded-84bb-474e-83fe-bbf08f1cde1f",
   "metadata": {},
   "source": [
    "The new `integrand3jitnew` function gives the same results as `integrand3jit`.  Yea!"
   ]
  },
  {
   "cell_type": "code",
   "execution_count": 717,
   "id": "34f20dad-32ca-479e-a8fd-a2d4ad67cf89",
   "metadata": {},
   "outputs": [
    {
     "name": "stdout",
     "output_type": "stream",
     "text": [
      "  reference  value      relative percent \n",
      "  ========== ========== ======== ========\n",
      "0 +0.1859075 +0.1859075 +0.0e+00 +0.000\n",
      "1 -0.0000907 -0.0000907 -0.0e+00 -0.000\n",
      "2 +0.2788612 +0.2788612 +0.0e+00 +0.000\n",
      "3 -0.0001360 -0.0001360 -0.0e+00 -0.000\n",
      "4 +0.4182918 +0.4182918 +0.0e+00 +0.000\n",
      "5 -0.0002041 -0.0002041 -0.0e+00 -0.000\n"
     ]
    }
   ],
   "source": [
    "compare(integrand3jit(1.5, sample3_jit, 1.0e5, rj[0], rk[0]),\n",
    "        integrand3jitnew(**pars))"
   ]
  },
  {
   "cell_type": "markdown",
   "id": "bc8f8cba-3915-4a88-8800-16d0974b2fff",
   "metadata": {},
   "source": [
    "What about execution time of `integrand3jitnew`? \\\n",
    "It's comparable to that of `integrand3jit`, and perhaps even a little faster."
   ]
  },
  {
   "cell_type": "code",
   "execution_count": 720,
   "id": "8ac89e54-7122-4c96-b9a7-b972f68e473b",
   "metadata": {},
   "outputs": [
    {
     "name": "stdout",
     "output_type": "stream",
     "text": [
      "2.92 μs ± 649 ns per loop (mean ± std. dev. of 7 runs, 100,000 loops each)\n"
     ]
    }
   ],
   "source": [
    "%%timeit\n",
    "integrand3jitnew(**pars)"
   ]
  },
  {
   "cell_type": "code",
   "execution_count": 721,
   "id": "fda90a72-a36c-44c4-8580-de01e0403aae",
   "metadata": {},
   "outputs": [
    {
     "name": "stdout",
     "output_type": "stream",
     "text": [
      "5.68 μs ± 1.1 μs per loop (mean ± std. dev. of 7 runs, 100,000 loops each)\n"
     ]
    }
   ],
   "source": [
    "%%timeit\n",
    "integrand3jit(1.5, sample3_jit, 1.0e5, rj[0], rk[0])"
   ]
  },
  {
   "cell_type": "markdown",
   "id": "19a7eee4-0f9e-4ea6-a945-107d92dec604",
   "metadata": {},
   "source": [
    "Now use the function in a revised version of `Kmatrix_jit`."
   ]
  },
  {
   "cell_type": "code",
   "execution_count": 739,
   "id": "7be3179c-cc88-4a1f-b1a7-dc965ead43bf",
   "metadata": {},
   "outputs": [],
   "source": [
    "N = 30\n",
    "an, _ = scipy.integrate.newton_cotes(N, 1)"
   ]
  },
  {
   "cell_type": "code",
   "execution_count": 801,
   "id": "324ab585-9c1a-4533-8d5b-fe082564378c",
   "metadata": {},
   "outputs": [],
   "source": [
    "def Kmatrix_jit(es, zr, omega0, kD, omega, rj, rk, N, an):\n",
    "    \"\"\"The Green's function matrices for an image charge.\"\"\"\n",
    "\n",
    "    N = 30\n",
    "    ymax = 30.    \n",
    "    y = np.linspace(0., ymax, N+1)\n",
    "    dy = ymax / N\n",
    "\n",
    "    K0mat = complex(1,0) * np.zeros((len(Rk),len(Rj),len(y)))\n",
    "    K1mat = complex(1,0) * np.zeros((len(Rk),len(Rj),len(y)))\n",
    "    K2mat = complex(1,0) * np.zeros((len(Rk),len(Rj),len(y)))\n",
    "    \n",
    "    for k, rke in enumerate(rk):\n",
    "        for j, rje in enumerate(rj):\n",
    "            for m, y_ in enumerate(y):\n",
    "                \n",
    "                K0mat[k,j,m], K1mat[k,j,m], K2mat[k,j,m] = integrand3jitnew(y_, es, zr, omega0, kD, omega, rje, rke) @ Kp\n",
    "            \n",
    "    return dy * (an * K0mat).sum(axis=2), \\\n",
    "           dy * (an * K1mat).sum(axis=2), \\\n",
    "           dy * (an * K2mat).sum(axis=2)"
   ]
  },
  {
   "cell_type": "markdown",
   "id": "63af8d45-47cc-4969-803a-c54dff12e053",
   "metadata": {},
   "source": [
    "It's a little more klunky to call the function."
   ]
  },
  {
   "cell_type": "code",
   "execution_count": 802,
   "id": "b939efb1-521d-407a-bcce-15594028fdbb",
   "metadata": {},
   "outputs": [],
   "source": [
    "vals = {'omega': 1.0e5, 'rj': rj, 'rk': rk, 'N': N, 'an': an}\n",
    "pars = {**vals, **utility(sample3_jit)}\n",
    "\n",
    "K0, K1, K2 = Kmatrix_jit(**pars)\n",
    "v6 = disentangle(np.array([K0[0][0], K1[0][0], K2[0][0]]))"
   ]
  },
  {
   "cell_type": "markdown",
   "id": "78bf5fed-9030-4397-9308-be481182397c",
   "metadata": {},
   "source": [
    "We get the correct results."
   ]
  },
  {
   "cell_type": "code",
   "execution_count": 803,
   "id": "d087bbd9-7c46-4129-b898-aeaf2186c1bf",
   "metadata": {},
   "outputs": [
    {
     "name": "stdout",
     "output_type": "stream",
     "text": [
      "  reference  value      relative percent \n",
      "  ========== ========== ======== ========\n",
      "0 +0.8576358 +0.8576358 +1.5e-08 +0.000\n",
      "1 -0.0004425 -0.0004425 -1.2e-05 -0.001\n",
      "2 +0.8129581 +0.8129579 +2.4e-07 +0.000\n",
      "3 -0.0003769 -0.0003769 -2.1e-05 -0.002\n",
      "4 +1.5412049 +1.5412051 -1.2e-07 -0.000\n",
      "5 -0.0006311 -0.0006308 +4.0e-04 +0.040\n"
     ]
    }
   ],
   "source": [
    "compare(v0,v6)"
   ]
  },
  {
   "cell_type": "markdown",
   "id": "5eaaae06-bf93-47b3-9e7f-1c676fe7e282",
   "metadata": {},
   "source": [
    "Even uncompiled, the new function runs reasonably fast, less than 100 ms."
   ]
  },
  {
   "cell_type": "code",
   "execution_count": 804,
   "id": "030b923d-772f-40b2-89cd-93cfc39e2f47",
   "metadata": {},
   "outputs": [
    {
     "name": "stdout",
     "output_type": "stream",
     "text": [
      "88.4 ms ± 2.59 ms per loop (mean ± std. dev. of 7 runs, 10 loops each)\n"
     ]
    }
   ],
   "source": [
    "%%timeit\n",
    "K0, K1, K2 = Kmatrix_jit(**pars)"
   ]
  },
  {
   "cell_type": "markdown",
   "id": "99cde1b3-79ef-4ba4-89f0-25fb7217b58b",
   "metadata": {},
   "source": [
    "Ok, now try compiling it.  \n",
    "\n",
    "Read the numba manual [here](https://numba.pydata.org/numba-doc/dev/user/jit.html).\n",
    "\n",
    "The function below was developed by trial-and-error. \\\n",
    "Empirically, a number of things were neccessary to get the `Kmatrix_jit` function below to compile and run without errors: \n",
    "\n",
    "* let `jit` determine data types, that is, use a bare-bones `@jit(nopython=True)` decorator to force compilation (so-called lazy compilation);\n",
    "* declare all matrices up front; and \n",
    "* avoid using complicated type casting in the code (see the two examples below).\n",
    "\n",
    "**Example 1**.  Instead of \n",
    "\n",
    "    K0mat[k,j,m], K1mat[k,j,m], K2mat[k,j,m] = integrand3jitnew(y_, es, zr, omega0, kD, omega, rje, rke)\n",
    "\n",
    "I found it neccessary to write\n",
    "\n",
    "    result = integrand3jitnew(y_, es, zr, omega0, kD, omega, rje, rke)\n",
    "    \n",
    "    K0mat[k,j,m] = complex(result[0], result[1])\n",
    "    K1mat[k,j,m] = complex(result[2], result[3])\n",
    "    K2mat[k,j,m] = complex(result[4], result[5])\n",
    "\n",
    "**Example 2**.  Instead of \n",
    "\n",
    "    return dy * (an * K0mat).sum(axis=2), \\\n",
    "       dy * (an * K1mat).sum(axis=2), \\\n",
    "       dy * (an * K2mat).sum(axis=2)\n",
    "\n",
    "I found it neccessary to write\n",
    "\n",
    "    K0matANS = dy * (an * K0mat).sum(axis=2)\n",
    "    K1matANS = dy * (an * K1mat).sum(axis=2)\n",
    "    K2matANS = dy * (an * K2mat).sum(axis=2)\n",
    "            \n",
    "    return K0matANS, K1matANS, K2matANS\n",
    "\n",
    "Although both versions of the above code snippets are valid Python code, `git` will only compile the second version of the code.\n",
    "\n",
    "**Lesson: To compile, make the code more *FORTRAN-like*.**"
   ]
  },
  {
   "cell_type": "code",
   "execution_count": 836,
   "id": "40e82ec6-f400-485d-a228-9df1a3f8295e",
   "metadata": {},
   "outputs": [],
   "source": [
    "@jit(nopython=True)\n",
    "\n",
    "def Kmatrix_jit(es, zr, omega0, kD, omega, rj, rk, N, an):\n",
    "    \"\"\"The Green's function matrices for an image charge.\"\"\"\n",
    "    \n",
    "    ymax = 30.    \n",
    "    y = np.linspace(0., ymax, N+1)\n",
    "    dy = ymax / N\n",
    "\n",
    "    K0mat = complex(1,0) * np.zeros((len(rk),len(rj),len(y)))\n",
    "    K1mat = complex(1,0) * np.zeros((len(rk),len(rj),len(y)))\n",
    "    K2mat = complex(1,0) * np.zeros((len(rk),len(rj),len(y)))\n",
    "\n",
    "    K0matANS = complex(1,0) * np.zeros((len(rk),len(rj)))\n",
    "    K1matANS = complex(1,0) * np.zeros((len(rk),len(rj)))\n",
    "    K2matANS = complex(1,0) * np.zeros((len(rk),len(rj)))\n",
    "    \n",
    "    for k, rke in enumerate(rk):\n",
    "        for j, rje in enumerate(rj):\n",
    "            for m, y_ in enumerate(y):\n",
    "                \n",
    "                result = integrand3jitnew(y_, es, zr, omega0, kD, omega, rje, rke)\n",
    "                \n",
    "                K0mat[k,j,m] = complex(result[0], result[1])\n",
    "                K1mat[k,j,m] = complex(result[2], result[3])\n",
    "                K2mat[k,j,m] = complex(result[4], result[5])\n",
    "\n",
    "    K0matANS = dy * (an * K0mat).sum(axis=2)\n",
    "    K1matANS = dy * (an * K1mat).sum(axis=2)\n",
    "    K2matANS = dy * (an * K2mat).sum(axis=2)\n",
    "            \n",
    "    return K0matANS, K1matANS, K2matANS"
   ]
  },
  {
   "cell_type": "code",
   "execution_count": 837,
   "id": "5d949dac-07b2-4a39-9b25-afcca16fc15e",
   "metadata": {},
   "outputs": [],
   "source": [
    "K0, K1, K2 = Kmatrix_jit(**pars)\n",
    "v7 = disentangle(np.array([K0[0][0], K1[0][0], K2[0][0]]))"
   ]
  },
  {
   "cell_type": "markdown",
   "id": "8a8c0b99-271e-4609-8070-c5f37554c7b5",
   "metadata": {},
   "source": [
    "We get the same answer as with the uncompiled function."
   ]
  },
  {
   "cell_type": "code",
   "execution_count": 838,
   "id": "5671f23a-2a73-4525-9795-14c5a5cee914",
   "metadata": {},
   "outputs": [
    {
     "name": "stdout",
     "output_type": "stream",
     "text": [
      "  reference  value      relative percent \n",
      "  ========== ========== ======== ========\n",
      "0 +0.8576358 +0.8576358 +6.0e-15 +0.000\n",
      "1 -0.0004425 -0.0004425 -4.9e-16 -0.000\n",
      "2 +0.8129579 +0.8129579 +5.0e-14 +0.000\n",
      "3 -0.0003769 -0.0003769 +2.9e-15 +0.000\n",
      "4 +1.5412051 +1.5412051 +9.8e-14 +0.000\n",
      "5 -0.0006308 -0.0006308 -3.4e-14 -0.000\n"
     ]
    }
   ],
   "source": [
    "compare(v6,v7)"
   ]
  },
  {
   "cell_type": "markdown",
   "id": "49db6833-4c3b-4690-9bda-0a7f79c8585f",
   "metadata": {},
   "source": [
    "The compiled function has an execution time of about 5 ms per loop, compared to 88 ms per loop for the uncompiled function. \\\n",
    "We see that compiling `Kmatrix_jit` decreases execution time by 10- to 20-fold, as we hoped."
   ]
  },
  {
   "cell_type": "code",
   "execution_count": 846,
   "id": "a7c59c4c-3611-4156-849c-3be2e667d7e9",
   "metadata": {},
   "outputs": [
    {
     "name": "stdout",
     "output_type": "stream",
     "text": [
      "4.57 ms ± 703 μs per loop (mean ± std. dev. of 7 runs, 100 loops each)\n"
     ]
    }
   ],
   "source": [
    "%%timeit\n",
    "K0, K1, K2 = Kmatrix_jit(**pars)"
   ]
  },
  {
   "cell_type": "markdown",
   "id": "3c9b5795-63e7-4a35-977f-ac1cde35c4bb",
   "metadata": {},
   "source": [
    "# Conclusions\n",
    "\n",
    "**Success!  I can generate the $K_n$ matrices for a Type III sample in under 10 ms.**\n",
    "\n",
    "I achieved this goal by\n",
    "\n",
    "1. using a newly written `integrand3jit` function with simple inputs; \n",
    "2. replacing `scipy.integrate.quad_vec` with 30-point Newton-Cotes integration; and\n",
    "3. writing the function `Kmatrix_jit` very carefully so that `jit` can compile it.\n",
    "   \n",
    "The complicated `SampleModel3Jit` object passed to `integrand3jit` was making `jit` unhappy. \n",
    "In general, the `scipy` functions are incompatible with `jit`, so `scipy.integrate.quad_vec` would not compile.\n",
    "The `scipy` special function *are* `jit`-compatible, if you install the `numba-scipy` package ([PyPi](https://pypi.org/project/numba-scipy/)), which I have done.\n",
    "This installation enables `jit` to compile the Bessel function $J_0$ in the integrand."
   ]
  },
  {
   "cell_type": "markdown",
   "id": "553a3c6b-7e94-4c3b-a907-ed8c9a14f9f7",
   "metadata": {},
   "source": [
    "# Next steps"
   ]
  },
  {
   "cell_type": "markdown",
   "id": "3ac1fbdd-8d39-49bc-b108-d67e00b00f8c",
   "metadata": {},
   "source": [
    "My Newton-Cotes integration does a fairly good job, but it is not as good as `scipy.integrate.quad_vec`. \\\n",
    "I need to do some benchmarking of the Newton-Cotes integration over various values of the tip-sample separation and frequency $\\omega$. \\\n",
    "A good test of the new integration scheme is to benchmark a sphere capacitance calculation. \\\n",
    "And of course test the new `Kmatrix_jit` function against a (very slow) version written using `scipy.integrate.quad_vec`.\n",
    "\n",
    "Read the numba manual [here](https://numba.pydata.org/numba-doc/dev/user/jit.html).\n",
    "\n",
    "* Note about the `@jit(nogil=True)` option: Code running with the GIL [global interpreter lock] released runs concurrently with other threads executing Python or Numba code (either the same compiled function, or another one), allowing you to take advantage of multi-core systems.\n",
    "* Read about parallization [here](https://numba.pydata.org/numba-doc/dev/user/parallel.html#explicit-parallel-loops).\n",
    "\n",
    "In the example below, **I get parallelization to work.** \\\n",
    "The output of `Kmatrix_jit.parallel_diagnostics(level=4)` below makes it clear that some parallelization is happening.\n",
    "\n",
    "The speedup is modest, from 5 ms to maybe 3 ms.  "
   ]
  },
  {
   "cell_type": "code",
   "execution_count": 865,
   "id": "f3d89267-65d8-44c0-a055-a78def4ff13a",
   "metadata": {},
   "outputs": [],
   "source": [
    "from numba import njit, prange"
   ]
  },
  {
   "cell_type": "code",
   "execution_count": 866,
   "id": "baa3e70f-9da8-4506-b231-73d304d82c83",
   "metadata": {},
   "outputs": [],
   "source": [
    "@njit(parallel=True)\n",
    "\n",
    "def Kmatrix_jit(es, zr, omega0, kD, omega, rj, rk, N, an):\n",
    "    \"\"\"The Green's function matrices for an image charge.\"\"\"\n",
    "    \n",
    "    ymax = 30.    \n",
    "    y = np.linspace(0., ymax, N+1)\n",
    "    dy = ymax / N\n",
    "\n",
    "    K0mat = complex(1,0) * np.zeros((len(rk),len(rj),len(y)))\n",
    "    K1mat = complex(1,0) * np.zeros((len(rk),len(rj),len(y)))\n",
    "    K2mat = complex(1,0) * np.zeros((len(rk),len(rj),len(y)))\n",
    "\n",
    "    K0matANS = complex(1,0) * np.zeros((len(rk),len(rj)))\n",
    "    K1matANS = complex(1,0) * np.zeros((len(rk),len(rj)))\n",
    "    K2matANS = complex(1,0) * np.zeros((len(rk),len(rj)))\n",
    "    \n",
    "    for k in prange(len(rk)):\n",
    "        rke = rk[k]\n",
    "        for j in prange(len(rj)):\n",
    "            rje = rj[j]\n",
    "            for m, y_ in enumerate(y):\n",
    "                \n",
    "                result = integrand3jitnew(y_, es, zr, omega0, kD, omega, rje, rke)\n",
    "                \n",
    "                K0mat[k,j,m] = complex(result[0], result[1])\n",
    "                K1mat[k,j,m] = complex(result[2], result[3])\n",
    "                K2mat[k,j,m] = complex(result[4], result[5])\n",
    "\n",
    "    K0matANS = dy * (an * K0mat).sum(axis=2)\n",
    "    K1matANS = dy * (an * K1mat).sum(axis=2)\n",
    "    K2matANS = dy * (an * K2mat).sum(axis=2)\n",
    "            \n",
    "    return K0matANS, K1matANS, K2matANS"
   ]
  },
  {
   "cell_type": "code",
   "execution_count": 859,
   "id": "0d236ea9-454a-45a4-82c0-e1c43ac7e6ff",
   "metadata": {},
   "outputs": [],
   "source": [
    "K0, K1, K2 = Kmatrix_jit(**pars)\n",
    "v8 = disentangle(np.array([K0[0][0], K1[0][0], K2[0][0]]))"
   ]
  },
  {
   "cell_type": "code",
   "execution_count": 860,
   "id": "1d866252-2a35-4583-af4a-571fdd580216",
   "metadata": {},
   "outputs": [
    {
     "name": "stdout",
     "output_type": "stream",
     "text": [
      "  reference  value      relative percent \n",
      "  ========== ========== ======== ========\n",
      "0 +0.8576358 +0.8576358 +6.0e-15 +0.000\n",
      "1 -0.0004425 -0.0004425 -4.9e-16 -0.000\n",
      "2 +0.8129579 +0.8129579 +5.0e-14 +0.000\n",
      "3 -0.0003769 -0.0003769 +2.9e-15 +0.000\n",
      "4 +1.5412051 +1.5412051 +9.8e-14 +0.000\n",
      "5 -0.0006308 -0.0006308 -3.4e-14 -0.000\n"
     ]
    }
   ],
   "source": [
    "compare(v6,v8)"
   ]
  },
  {
   "cell_type": "code",
   "execution_count": 861,
   "id": "80a96e67-d843-4fa9-97a9-317514120ae8",
   "metadata": {},
   "outputs": [
    {
     "name": "stdout",
     "output_type": "stream",
     "text": [
      "3.2 ms ± 556 μs per loop (mean ± std. dev. of 7 runs, 100 loops each)\n"
     ]
    }
   ],
   "source": [
    "%%timeit\n",
    "K0, K1, K2 = Kmatrix_jit(**pars)"
   ]
  },
  {
   "cell_type": "code",
   "execution_count": 864,
   "id": "051d4d60-5f92-49c2-8e8a-a1e896600cb8",
   "metadata": {},
   "outputs": [
    {
     "name": "stdout",
     "output_type": "stream",
     "text": [
      " \n",
      "================================================================================\n",
      " Parallel Accelerator Optimizing:  Function Kmatrix_jit, \n",
      "/var/folders/7j/lws5z2qd2qg36wd8z0j_962wy6gl4q/T/ipykernel_82223/3054395276.py \n",
      "(1)  \n",
      "================================================================================\n",
      "\n",
      "\n",
      "Parallel loop listing for  Function Kmatrix_jit, /var/folders/7j/lws5z2qd2qg36wd8z0j_962wy6gl4q/T/ipykernel_82223/3054395276.py (1) \n",
      "-------------------------------------------------------------------------------------------|loop #ID\n",
      "@njit(parallel=True)                                                                       | \n",
      "                                                                                           | \n",
      "def Kmatrix_jit(es, zr, omega0, kD, omega, rj, rk, N, an):                                 | \n",
      "    \"\"\"The Green's function matrices for an image charge.\"\"\"                               | \n",
      "                                                                                           | \n",
      "    ymax = 30.                                                                             | \n",
      "    y = np.linspace(0., ymax, N+1)---------------------------------------------------------| #79\n",
      "    dy = ymax / N                                                                          | \n",
      "                                                                                           | \n",
      "    K0mat = complex(1,0) * np.zeros((len(rk),len(rj),len(y)))------------------------------| #61, 62\n",
      "    K1mat = complex(1,0) * np.zeros((len(rk),len(rj),len(y)))------------------------------| #63, 64\n",
      "    K2mat = complex(1,0) * np.zeros((len(rk),len(rj),len(y)))------------------------------| #65, 66\n",
      "                                                                                           | \n",
      "    K0matANS = complex(1,0) * np.zeros((len(rk),len(rj)))----------------------------------| #67, 68\n",
      "    K1matANS = complex(1,0) * np.zeros((len(rk),len(rj)))----------------------------------| #69, 70\n",
      "    K2matANS = complex(1,0) * np.zeros((len(rk),len(rj)))----------------------------------| #71, 72\n",
      "                                                                                           | \n",
      "    for k in prange(len(rk)):--------------------------------------------------------------| #81\n",
      "        rke = rk[k]                                                                        | \n",
      "        for j in prange(len(rj)):----------------------------------------------------------| #80\n",
      "            rje = rj[j]                                                                    | \n",
      "            for m, y_ in enumerate(y):                                                     | \n",
      "                                                                                           | \n",
      "                result = integrand3jitnew(y_, es, zr, omega0, kD, omega, rje, rke)         | \n",
      "                                                                                           | \n",
      "                K0mat[k,j,m] = complex(result[0], result[1])                               | \n",
      "                K1mat[k,j,m] = complex(result[2], result[3])                               | \n",
      "                K2mat[k,j,m] = complex(result[4], result[5])                               | \n",
      "                                                                                           | \n",
      "    K0matANS = dy * (an * K0mat).sum(axis=2)-----------------------------------------------| #73, 74\n",
      "    K1matANS = dy * (an * K1mat).sum(axis=2)-----------------------------------------------| #75, 76\n",
      "    K2matANS = dy * (an * K2mat).sum(axis=2)-----------------------------------------------| #77, 78\n",
      "                                                                                           | \n",
      "    return K0matANS, K1matANS, K2matANS                                                    | \n",
      "--------------------------------- Fusing loops ---------------------------------\n",
      "Attempting fusion of parallel loops (combines loops with similar properties)...\n",
      "  Trying to fuse loops #61 and #62:\n",
      "    - fusion succeeded: parallel for-loop #62 is fused into for-loop #61.\n",
      "  Trying to fuse loops #63 and #64:\n",
      "    - fusion succeeded: parallel for-loop #64 is fused into for-loop #63.\n",
      "  Trying to fuse loops #65 and #66:\n",
      "    - fusion succeeded: parallel for-loop #66 is fused into for-loop #65.\n",
      "  Trying to fuse loops #81 and #73:\n",
      "    - fusion failed: number of loops mismatched, parallel loop #81 has a nest of\n",
      " 1 loops, parallel loop #73 has a nest of 3 loops.\n",
      "  Trying to fuse loops #74 and #75:\n",
      "    - fusion failed: number of loops mismatched, parallel loop #74 has a nest of\n",
      " 2 loops, parallel loop #75 has a nest of 3 loops.\n",
      "  Trying to fuse loops #76 and #77:\n",
      "    - fusion failed: number of loops mismatched, parallel loop #76 has a nest of\n",
      " 2 loops, parallel loop #77 has a nest of 3 loops.\n",
      "  Trying to fuse loops #81 and #73:\n",
      "    - fusion failed: number of loops mismatched, parallel loop #81 has a nest of\n",
      " 1 loops, parallel loop #73 has a nest of 3 loops.\n",
      "  Trying to fuse loops #74 and #75:\n",
      "    - fusion failed: number of loops mismatched, parallel loop #74 has a nest of\n",
      " 2 loops, parallel loop #75 has a nest of 3 loops.\n",
      "  Trying to fuse loops #76 and #77:\n",
      "    - fusion failed: number of loops mismatched, parallel loop #76 has a nest of\n",
      " 2 loops, parallel loop #77 has a nest of 3 loops.\n",
      "  Trying to fuse loops #81 and #73:\n",
      "    - fusion failed: number of loops mismatched, parallel loop #81 has a nest of\n",
      " 1 loops, parallel loop #73 has a nest of 3 loops.\n",
      "  Trying to fuse loops #74 and #75:\n",
      "    - fusion failed: number of loops mismatched, parallel loop #74 has a nest of\n",
      " 2 loops, parallel loop #75 has a nest of 3 loops.\n",
      "  Trying to fuse loops #76 and #77:\n",
      "    - fusion failed: number of loops mismatched, parallel loop #76 has a nest of\n",
      " 2 loops, parallel loop #77 has a nest of 3 loops.\n",
      "----------------------------- Before Optimisation ------------------------------\n",
      "Parallel region 0:\n",
      "+--61 (parallel)\n",
      "+--62 (parallel)\n",
      "\n",
      "\n",
      "Parallel region 1:\n",
      "+--63 (parallel)\n",
      "+--64 (parallel)\n",
      "\n",
      "\n",
      "Parallel region 2:\n",
      "+--65 (parallel)\n",
      "+--66 (parallel)\n",
      "\n",
      "\n",
      "Parallel region 3:\n",
      "+--81 (parallel)\n",
      "   +--80 (parallel)\n",
      "\n",
      "\n",
      "--------------------------------------------------------------------------------\n",
      "------------------------------ After Optimisation ------------------------------\n",
      "Parallel region 0:\n",
      "+--61 (parallel, fused with loop(s): 62)\n",
      "\n",
      "\n",
      "Parallel region 1:\n",
      "+--63 (parallel, fused with loop(s): 64)\n",
      "\n",
      "\n",
      "Parallel region 2:\n",
      "+--65 (parallel, fused with loop(s): 66)\n",
      "\n",
      "\n",
      "Parallel region 3:\n",
      "+--81 (parallel)\n",
      "   +--80 (serial)\n",
      "\n",
      "\n",
      " \n",
      "Parallel region 0 (loop #61) had 1 loop(s) fused.\n",
      " \n",
      "Parallel region 1 (loop #63) had 1 loop(s) fused.\n",
      " \n",
      "Parallel region 2 (loop #65) had 1 loop(s) fused.\n",
      " \n",
      "Parallel region 3 (loop #81) had 0 loop(s) fused and 1 loop(s) serialized as \n",
      "part of the larger parallel loop (#81).\n",
      "--------------------------------------------------------------------------------\n",
      "--------------------------------------------------------------------------------\n",
      " \n",
      "---------------------------Loop invariant code motion---------------------------\n",
      "Allocation hoisting:\n",
      "No allocation hoisting found\n",
      "\n",
      "Instruction hoisting:\n",
      "loop #79:\n",
      "  Failed to hoist the following:\n",
      "    dependency: linspace_parallel_impl__locals__linspace_3_v600_i = $parfor__index_2449.2949\n",
      "    dependency: linspace_parallel_impl__locals__linspace_3_v600__v76binary_true_divide_6 = $parfor__index_2449.2949 / linspace__parallel__impl____locals____linspace__3__v600__div\n",
      "    dependency: linspace_parallel_impl__locals__linspace_3_v600__v78binary_multiply_7 = linspace__parallel__impl____locals____linspace__3__v600__delta * linspace_parallel_impl__locals__linspace_3_v600__v76binary_true_divide_6\n",
      "    dependency: linspace_parallel_impl__locals__linspace_3_v600__v80binary_add_8 = _linspace__parallel__impl____locals____linspace__3__v600__start_2477 + linspace_parallel_impl__locals__linspace_3_v600__v78binary_multiply_7\n",
      "loop #61:\n",
      "  Has the following hoisted:\n",
      "    $expr_out_var.2279 = const(float64, 0.0)\n",
      "    $expr_out_var.2288 = _38call__function_15 * $expr_out_var.2279\n",
      "  Failed to hoist the following:\n",
      "    dependency: $parfor_index_tuple_var.2280 = build_tuple(items=[Var($parfor__index_2272.2951, <string>:2), Var($parfor__index_2273.2953, <string>:3), Var($parfor__index_2274.2955, <string>:4)])\n",
      "loop #63:\n",
      "  Has the following hoisted:\n",
      "    $expr_out_var.2299 = const(float64, 0.0)\n",
      "    $expr_out_var.2308 = _76call__function_33 * $expr_out_var.2299\n",
      "  Failed to hoist the following:\n",
      "    dependency: $parfor_index_tuple_var.2300 = build_tuple(items=[Var($parfor__index_2292.2957, <string>:2), Var($parfor__index_2293.2959, <string>:3), Var($parfor__index_2294.2961, <string>:4)])\n",
      "loop #65:\n",
      "  Has the following hoisted:\n",
      "    $expr_out_var.2319 = const(float64, 0.0)\n",
      "    $expr_out_var.2328 = _114call__function_51 * $expr_out_var.2319\n",
      "  Failed to hoist the following:\n",
      "    dependency: $parfor_index_tuple_var.2320 = build_tuple(items=[Var($parfor__index_2312.2963, <string>:2), Var($parfor__index_2313.2965, <string>:3), Var($parfor__index_2314.2967, <string>:4)])\n",
      "loop #81 has nothing to hoist.\n",
      "loop #73:\n",
      "  Failed to hoist the following:\n",
      "    dependency: $parfor_index_tuple_var.2394 = build_tuple(items=[Var($parfor__index_2386.2984, <string>:2), Var($parfor__index_2387.2986, <string>:3), Var($parfor__index_2388.2988, <string>:4)])\n",
      "    dependency: $arg_out_var.2395 = getitem(value=an, index=$parfor__index_2388.2988, fn=<built-in function getitem>)\n",
      "    dependency: $arg_out_var.2396 = getitem(value=K0mat, index=$parfor_index_tuple_var.2394, fn=<built-in function getitem>)\n",
      "    dependency: $expr_out_var.2393 = $arg_out_var.2395 * $arg_out_var.2396\n",
      "loop #74:\n",
      "  Failed to hoist the following:\n",
      "    dependency: $parfor_index_tuple_var.2404 = build_tuple(items=[Var($parfor__index_2397.2990, <string>:2), Var($parfor__index_2398.2992, <string>:3)])\n",
      "    dependency: $arg_out_var.2406 = getitem(value=_432call__function__kw_7, index=$parfor_index_tuple_var.2404, fn=<built-in function getitem>)\n",
      "    dependency: $expr_out_var.2403 = dy * $arg_out_var.2406\n",
      "loop #75:\n",
      "  Failed to hoist the following:\n",
      "    dependency: $parfor_index_tuple_var.2415 = build_tuple(items=[Var($parfor__index_2407.2994, <string>:2), Var($parfor__index_2408.2996, <string>:3), Var($parfor__index_2409.2998, <string>:4)])\n",
      "    dependency: $arg_out_var.2416 = getitem(value=an, index=$parfor__index_2409.2998, fn=<built-in function getitem>)\n",
      "    dependency: $arg_out_var.2417 = getitem(value=K1mat, index=$parfor_index_tuple_var.2415, fn=<built-in function getitem>)\n",
      "    dependency: $expr_out_var.2414 = $arg_out_var.2416 * $arg_out_var.2417\n",
      "loop #76:\n",
      "  Failed to hoist the following:\n",
      "    dependency: $parfor_index_tuple_var.2425 = build_tuple(items=[Var($parfor__index_2418.3000, <string>:2), Var($parfor__index_2419.3002, <string>:3)])\n",
      "    dependency: $arg_out_var.2427 = getitem(value=_452call__function__kw_16, index=$parfor_index_tuple_var.2425, fn=<built-in function getitem>)\n",
      "    dependency: $expr_out_var.2424 = dy * $arg_out_var.2427\n",
      "loop #77:\n",
      "  Failed to hoist the following:\n",
      "    dependency: $parfor_index_tuple_var.2436 = build_tuple(items=[Var($parfor__index_2428.3004, <string>:2), Var($parfor__index_2429.3006, <string>:3), Var($parfor__index_2430.3008, <string>:4)])\n",
      "    dependency: $arg_out_var.2437 = getitem(value=an, index=$parfor__index_2430.3008, fn=<built-in function getitem>)\n",
      "    dependency: $arg_out_var.2438 = getitem(value=K2mat, index=$parfor_index_tuple_var.2436, fn=<built-in function getitem>)\n",
      "    dependency: $expr_out_var.2435 = $arg_out_var.2437 * $arg_out_var.2438\n",
      "loop #78:\n",
      "  Failed to hoist the following:\n",
      "    dependency: $parfor_index_tuple_var.2446 = build_tuple(items=[Var($parfor__index_2439.3010, <string>:2), Var($parfor__index_2440.3012, <string>:3)])\n",
      "    dependency: $arg_out_var.2448 = getitem(value=_472call__function__kw_25, index=$parfor_index_tuple_var.2446, fn=<built-in function getitem>)\n",
      "    dependency: $expr_out_var.2445 = dy * $arg_out_var.2448\n",
      "--------------------------------------------------------------------------------\n"
     ]
    }
   ],
   "source": [
    "Kmatrix_jit.parallel_diagnostics(level=4)"
   ]
  },
  {
   "cell_type": "markdown",
   "id": "39e2d638-10be-49e1-b42a-bcf7356ac63c",
   "metadata": {},
   "source": [
    "::: {.content-hidden when-format=\"html\"}\n",
    "\n",
    "# Formatting notes\n",
    "\n",
    "The header at the top of this file is for creating a nicely-formatted `.html` document using the program `quarto` ([link](https://quarto.org/)).  To create nicely-formated `.html`versions of this notebook, run `quarto` from the command line as follows\n",
    "\n",
    "    quarto render dissipation-theory--Study-53.ipynb && open dissipation-theory--Study-53.html\n",
    "    \n",
    ":::"
   ]
  },
  {
   "cell_type": "code",
   "execution_count": null,
   "id": "7e1cdb5d-42df-4627-83fd-570c07553a8e",
   "metadata": {},
   "outputs": [],
   "source": []
  },
  {
   "cell_type": "code",
   "execution_count": null,
   "id": "bcd52e4d-0068-4cc6-8c1b-3f3cbacec34a",
   "metadata": {},
   "outputs": [],
   "source": []
  }
 ],
 "metadata": {
  "kernelspec": {
   "display_name": "dissipationtheory",
   "language": "python",
   "name": "dissipationtheory"
  },
  "language_info": {
   "codemirror_mode": {
    "name": "ipython",
    "version": 3
   },
   "file_extension": ".py",
   "mimetype": "text/x-python",
   "name": "python",
   "nbconvert_exporter": "python",
   "pygments_lexer": "ipython3",
   "version": "3.10.2"
  }
 },
 "nbformat": 4,
 "nbformat_minor": 5
}
