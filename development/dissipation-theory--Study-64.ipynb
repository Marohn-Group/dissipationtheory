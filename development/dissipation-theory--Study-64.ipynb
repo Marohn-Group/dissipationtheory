{
 "cells": [
  {
   "cell_type": "raw",
   "id": "f4cf7799",
   "metadata": {},
   "source": [
    "---\n",
    "title: Code up and unit-test the computation of $K_n$ integrals for Type I and Type II samples\n",
    "author: \"John A. Marohn\"\n",
    "date: today\n",
    "abstract: Here we test four new functions in `dissipation13e.py` -- `rpI_jit`, `KmatrixI_jit`, `rpII_jit`, and `KmatrixII_jit`.  We run unit tests over 34k sample parameters, as in Study 63, comparing $K_n$ integrals computed using the (slow) `scipy.integrate` function in `dissipation9b.py` to those computed using the (fast) bespoke integration algorithm in `dissipation13e.py`.  Using 10 breakpoints in the computation of the integrals, the root-mean-square error in the $K_n$ integrals is worse for Type I and Type II sample than for Type III samples, but is nevertheless below 0.5%.  The run time for Type I and II samples is a factor of two longer than for Type III samples. We conclude that the accuracy and run time of the Type I and Type II sample $K_n$ calculations are sufficiently good to warrant analyzing data.\n",
    "toc: true\n",
    "number-sections: true\n",
    "highlight-style: pygments\n",
    "embed-resources: true\n",
    "dpi: 300\n",
    "format:\n",
    "    html:\n",
    "        html-math-method:\n",
    "          method: mathjax\n",
    "          url: \"https://cdn.jsdelivr.net/npm/mathjax@3/es5/tex-mml-chtml.js\"\n",
    "        code-fold: true\n",
    "        code-tools: true\n",
    "jupyter: python3\n",
    "---"
   ]
  },
  {
   "cell_type": "markdown",
   "id": "ee95205c",
   "metadata": {},
   "source": [
    "# Preliminaries"
   ]
  },
  {
   "cell_type": "code",
   "execution_count": 1,
   "id": "32ce9ae7",
   "metadata": {},
   "outputs": [],
   "source": [
    "import numpy as np\n",
    "import scipy\n",
    "from scipy import integrate\n",
    "import matplotlib.pylab as plt\n",
    "import pandas as pd\n",
    "import itertools"
   ]
  },
  {
   "cell_type": "code",
   "execution_count": 2,
   "id": "13df7c61",
   "metadata": {},
   "outputs": [],
   "source": [
    "from dissipationtheory.constants import ureg, epsilon0, qe, kb, Troom\n",
    "from dissipationtheory.dissipation9a import CantileverModel, SampleModel1, SampleModel2, SampleModel3\n",
    "from dissipationtheory.dissipation9b import SampleModel1Jit, SampleModel2Jit, SampleModel3Jit\n",
    "from dissipationtheory.dissipation9b import integrand1jit, integrand2jit, integrand3jit\n",
    "from dissipationtheory.dissipation9b import K_jit, Kp\n",
    "from dissipationtheory.dissipation13e import rpI_jit, rpII_jit, rpIII_jit\n",
    "from dissipationtheory.dissipation13e import KmatrixI_jit, KmatrixII_jit, KmatrixIII_jit"
   ]
  },
  {
   "cell_type": "markdown",
   "id": "6f231e25",
   "metadata": {},
   "source": [
    "# Compare `K_jit` and `KmatrixIII_jit`\n",
    "\n",
    "Look at Study 63, pick a challenging set of parameters, and verify that `K_jit` and `KmatrixIII_jit` yield comparable $K_n$ integrals to within a relative error less than $10^{-3}$."
   ]
  },
  {
   "cell_type": "code",
   "execution_count": 3,
   "id": "cf720e1a",
   "metadata": {},
   "outputs": [],
   "source": [
    "cantilever = CantileverModel(\n",
    "    f_c = ureg.Quantity(62, 'kHz'),\n",
    "    k_c = ureg.Quantity(2.8, 'N/m'), \n",
    "    V_ts = ureg.Quantity(1, 'V'), \n",
    "    R = ureg.Quantity(60, 'nm'),\n",
    "    angle = ureg.Quantity(20, 'degree'),\n",
    "    L = ureg.Quantity(1000, 'nm'))"
   ]
  },
  {
   "cell_type": "code",
   "execution_count": 4,
   "id": "9322bf16",
   "metadata": {},
   "outputs": [],
   "source": [
    "loc1_nm = np.array([  0,  0, 30], dtype=np.float64)\n",
    "loc2_nm = np.array([  0, 30, 30], dtype=np.float64)\n",
    "\n",
    "loc1_m = 1e-9 * loc1_nm\n",
    "loc2_m = 1e-9 * loc2_nm"
   ]
  },
  {
   "cell_type": "code",
   "execution_count": 5,
   "id": "87732c83",
   "metadata": {},
   "outputs": [],
   "source": [
    "omega = 1e5 * 2 * np.pi"
   ]
  },
  {
   "cell_type": "code",
   "execution_count": 6,
   "id": "5fe65989",
   "metadata": {},
   "outputs": [],
   "source": [
    "sample3 = SampleModel3(\n",
    "    cantilever = cantilever,\n",
    "    epsilon_s = ureg.Quantity(complex(100, 0), ''),\n",
    "    sigma = ureg.Quantity(1e-6, 'S/m'),\n",
    "    rho = ureg.Quantity(1e19, '1/m^3'),\n",
    "    z_r = ureg.Quantity(1, 'nm'))\n",
    "\n",
    "sample3_jit = SampleModel3Jit(**sample3.args())\n",
    "\n",
    "params3_jit = {\n",
    "    'integrand': integrand3jit, \n",
    "    'sample': sample3_jit, \n",
    "    'omega': omega, \n",
    "    'location1': loc1_m, \n",
    "    'location2': loc2_m}"
   ]
  },
  {
   "cell_type": "code",
   "execution_count": 7,
   "id": "ff25b502",
   "metadata": {},
   "outputs": [],
   "source": [
    "K0, K1, K2 = K_jit(**params3_jit)\n",
    "KnIII = np.array([K0, K1, K2])"
   ]
  },
  {
   "cell_type": "code",
   "execution_count": 8,
   "id": "f49194ce",
   "metadata": {},
   "outputs": [],
   "source": [
    "j0s = scipy.special.jn_zeros(0, 100.0)\n",
    "an, _ = scipy.integrate.newton_cotes(20, 1)\n",
    "\n",
    "args = {\n",
    "    \"omega\": omega,\n",
    "    \"omega0\": params3_jit['sample'].omega0,\n",
    "    \"kD\": params3_jit['sample'].kD,\n",
    "    \"es\": params3_jit['sample'].epsilon_s,\n",
    "    \"sj\": np.array([loc1_nm]),\n",
    "    \"rk\": np.array([loc2_nm]),\n",
    "    \"j0s\": j0s,\n",
    "    \"an\": an}"
   ]
  },
  {
   "cell_type": "code",
   "execution_count": 9,
   "id": "68b9534d",
   "metadata": {},
   "outputs": [],
   "source": [
    "K0, K1, K2 = KmatrixIII_jit(**args)\n",
    "a = np.array([K0[0][0], K1[0][0], K2[0][0]])"
   ]
  },
  {
   "cell_type": "code",
   "execution_count": 10,
   "id": "4e08a82b",
   "metadata": {},
   "outputs": [],
   "source": [
    "def comparetwoK(a,b):\n",
    "    \n",
    "    for idx, (Ka, Kb) in enumerate(zip(a,b)):\n",
    "\n",
    "        err_real = (Ka.real-Kb.real)/Ka.real        \n",
    "        print('Re[K[{:d}]] {:+0.9e} vs {:+0.9e}, relative error = {:+3.2e}'.format(idx, Ka.real, Kb.real, err_real))\n",
    "\n",
    "    print(\"\")\n",
    "    for idx, (Ka, Kb) in enumerate(zip(a,b)):\n",
    "        err_imag = (Ka.imag-Kb.imag)/Ka.imag\n",
    "        print('Im[K[{:d}]] {:+0.9e} vs {:+0.9e}, relative error = {:+3.2e}'.format(idx, Ka.imag, Kb.imag, err_imag))   "
   ]
  },
  {
   "cell_type": "code",
   "execution_count": 11,
   "id": "cae7ba90",
   "metadata": {},
   "outputs": [
    {
     "name": "stdout",
     "output_type": "stream",
     "text": [
      "Re[K[0]] +1.461201067e-02 vs +1.461201065e-02, relative error = +1.29e-09\n",
      "Re[K[1]] +1.948263160e-04 vs +1.948263184e-04, relative error = -1.25e-08\n",
      "Re[K[2]] +4.545940557e-06 vs +4.545941417e-06, relative error = -1.89e-07\n",
      "\n",
      "Im[K[0]] -1.281215520e-07 vs -1.281296565e-07, relative error = -6.33e-05\n",
      "Im[K[1]] -3.694413309e-10 vs -3.695350827e-10, relative error = -2.54e-04\n",
      "Im[K[2]] -1.952840848e-12 vs -1.953324773e-12, relative error = -2.48e-04\n"
     ]
    }
   ],
   "source": [
    "comparetwoK(KnIII,a)"
   ]
  },
  {
   "cell_type": "markdown",
   "id": "6122d0c1",
   "metadata": {},
   "source": [
    "My hypothesis is that the relative error in the two $K_n$ computations is the result of `K_jit` and `KmatrixIII_jit` using different numerical integration schemes."
   ]
  },
  {
   "cell_type": "markdown",
   "id": "e1159993",
   "metadata": {},
   "source": [
    "# Compare integrands"
   ]
  },
  {
   "cell_type": "markdown",
   "id": "607d86d5",
   "metadata": {},
   "source": [
    "Compare the $K_n$ integrals returned by `K_jit` (`dissipation9b.py`) to those obtained by numerically integrating `rpIII_jit`, `rpII_jit`, and `rpI_jit` (`dissipation13e`).  The computed integrals *should* be identical, because in both cases we are using the `scipy.integrate.quad_vec` function to perform the integration.  So this unit test demonstrates that we have coded the Fresnel coefficient $r_p$ correctly for the three classes of samples. "
   ]
  },
  {
   "cell_type": "markdown",
   "id": "7e2c19f5",
   "metadata": {},
   "source": [
    "Variables used by the integrands:"
   ]
  },
  {
   "cell_type": "code",
   "execution_count": 12,
   "id": "e36e3ee8",
   "metadata": {},
   "outputs": [],
   "source": [
    "zjkref = loc1_nm[2] + loc2_nm[2]\n",
    "x = np.sqrt((loc1_nm[0] - loc2_nm[0])**2 + (loc1_nm[1] - loc2_nm[1])**2) / zjkref"
   ]
  },
  {
   "cell_type": "markdown",
   "id": "d65cafd0",
   "metadata": {},
   "source": [
    "## Sample III\n",
    "\n",
    "    cantilever | vacuum gap | semiconductor (semi-infinite)"
   ]
  },
  {
   "cell_type": "code",
   "execution_count": 13,
   "id": "8aa6d49e",
   "metadata": {},
   "outputs": [],
   "source": [
    "def funcIII(y, x, omega, omega0, zr, kD, es):\n",
    "    \n",
    "    def t1(ell):\n",
    "        return y**ell\n",
    "    \n",
    "    t2 = rpIII_jit(y, omega, omega0, zr, kD, es)\n",
    "    t3 = scipy.special.j0(y * x) * np.exp(-y)\n",
    "                 \n",
    "    return np.array(\n",
    "        [np.real(t1(0) * t2 * t3) / zr,\n",
    "         np.imag(t1(0) * t2 * t3) / zr,\n",
    "         np.real(t1(1) * t2 * t3) / zr**2,\n",
    "         np.imag(t1(1) * t2 * t3) / zr**2,\n",
    "         np.real(t1(2) * t2 * t3) / zr**3,\n",
    "         np.imag(t1(2) * t2 * t3) / zr**3])"
   ]
  },
  {
   "cell_type": "code",
   "execution_count": 14,
   "id": "9470e57e",
   "metadata": {},
   "outputs": [],
   "source": [
    "ansIII = integrate.quad_vec(funcIII, \n",
    "    0., np.inf,\n",
    "    args=(x,\n",
    "        omega,\n",
    "        params3_jit['sample'].omega0,\n",
    "        zjkref,\n",
    "        params3_jit['sample'].kD,\n",
    "        params3_jit['sample'].epsilon_s))[0] @ Kp"
   ]
  },
  {
   "cell_type": "code",
   "execution_count": 15,
   "id": "f503f6e4",
   "metadata": {},
   "outputs": [
    {
     "name": "stdout",
     "output_type": "stream",
     "text": [
      "Re[K[0]] +1.461201067e-02 vs +1.461201067e-02, relative error = +6.85e-14\n",
      "Re[K[1]] +1.948263160e-04 vs +1.948263160e-04, relative error = -5.83e-14\n",
      "Re[K[2]] +4.545940557e-06 vs +4.545940557e-06, relative error = -3.09e-14\n",
      "\n",
      "Im[K[0]] -1.281215520e-07 vs -1.281215485e-07, relative error = +2.72e-08\n",
      "Im[K[1]] -3.694413309e-10 vs -3.694413112e-10, relative error = +5.34e-08\n",
      "Im[K[2]] -1.952840848e-12 vs -1.952840814e-12, relative error = +1.72e-08\n"
     ]
    }
   ],
   "source": [
    "comparetwoK(KnIII, np.array([ansIII[0], ansIII[1], ansIII[2]]))"
   ]
  },
  {
   "cell_type": "markdown",
   "id": "852fab65",
   "metadata": {},
   "source": [
    "## Sample II\n",
    "\n",
    "    cantilever | vacuum gap | dielectric | semiconductor (semi-infinite)"
   ]
  },
  {
   "cell_type": "code",
   "execution_count": 16,
   "id": "238da97f",
   "metadata": {},
   "outputs": [],
   "source": [
    "sample2 = SampleModel2(\n",
    "    cantilever = cantilever,\n",
    "    h_d = ureg.Quantity(20, 'nm'),\n",
    "    epsilon_d = ureg.Quantity(complex(20, 0), ''),\n",
    "    epsilon_s = ureg.Quantity(complex(100, 0), ''),\n",
    "    sigma = ureg.Quantity(1e-6, 'S/m'),\n",
    "    rho = ureg.Quantity(1e19, '1/m^3'),\n",
    "    z_r = ureg.Quantity(1, 'nm'))\n",
    "\n",
    "sample2_jit = SampleModel2Jit(**sample2.args())\n",
    "\n",
    "params2_jit = {\n",
    "    'integrand': integrand2jit, \n",
    "    'sample': sample2_jit, \n",
    "    'omega': omega, \n",
    "    'location1': loc1_m, \n",
    "    'location2': loc2_m}"
   ]
  },
  {
   "cell_type": "code",
   "execution_count": 17,
   "id": "99dd45cf",
   "metadata": {},
   "outputs": [],
   "source": [
    "K0, K1, K2 = K_jit(**params2_jit)\n",
    "KnII = np.array([K0, K1, K2])"
   ]
  },
  {
   "cell_type": "code",
   "execution_count": 18,
   "id": "4cfb6047",
   "metadata": {},
   "outputs": [],
   "source": [
    "def funcII(y, x, omega, omega0, zr, kD, hd, ed, es):\n",
    "    \n",
    "    def t1(ell):\n",
    "        return y**ell\n",
    "    \n",
    "    t2 = rpII_jit(y, omega, omega0, zr, kD, hd, ed, es)\n",
    "    t3 = scipy.special.j0(y * x) * np.exp(-y)\n",
    "                 \n",
    "    return np.array(\n",
    "        [np.real(t1(0) * t2 * t3) / zr,\n",
    "         np.imag(t1(0) * t2 * t3) / zr,\n",
    "         np.real(t1(1) * t2 * t3) / zr**2,\n",
    "         np.imag(t1(1) * t2 * t3) / zr**2,\n",
    "         np.real(t1(2) * t2 * t3) / zr**3,\n",
    "         np.imag(t1(2) * t2 * t3) / zr**3])"
   ]
  },
  {
   "cell_type": "markdown",
   "id": "12138dcd",
   "metadata": {},
   "source": [
    "To get this test to pass, take care to write `zr -> zr * 1e-9` in the `rpII_jit` function, to account for the fact that `zr` is in nanometers while `h_d` is in meters and `kD` is in 1/meters.  We can see this difference in the following computation.  Note that `zjkref` is passed for `zr` in the function call below."
   ]
  },
  {
   "cell_type": "code",
   "execution_count": 19,
   "id": "d55cb5bd",
   "metadata": {},
   "outputs": [
    {
     "data": {
      "text/plain": [
       "(2e-08, 60.0)"
      ]
     },
     "execution_count": 19,
     "metadata": {},
     "output_type": "execute_result"
    }
   ],
   "source": [
    "(params2_jit['sample'].h_d, zjkref)"
   ]
  },
  {
   "cell_type": "code",
   "execution_count": 20,
   "id": "41dc0a29",
   "metadata": {},
   "outputs": [],
   "source": [
    "ansII = integrate.quad_vec(funcII, \n",
    "    0., np.inf,\n",
    "    args=(x,\n",
    "        omega,\n",
    "        params2_jit['sample'].omega0,\n",
    "        zjkref,\n",
    "        params2_jit['sample'].kD,\n",
    "        params2_jit['sample'].h_d,\n",
    "        params2_jit['sample'].epsilon_d,  \n",
    "        params2_jit['sample'].epsilon_s))[0] @ Kp"
   ]
  },
  {
   "cell_type": "code",
   "execution_count": 21,
   "id": "a2fb0268",
   "metadata": {},
   "outputs": [
    {
     "name": "stdout",
     "output_type": "stream",
     "text": [
      "Re[K[0]] +1.429817843e-02 vs +1.429817843e-02, relative error = +8.08e-14\n",
      "Re[K[1]] +1.879103217e-04 vs +1.879103217e-04, relative error = -5.19e-14\n",
      "Re[K[2]] +4.346308861e-06 vs +4.346308861e-06, relative error = -3.04e-14\n",
      "\n",
      "Im[K[0]] -1.239110040e-07 vs -1.239110007e-07, relative error = +2.64e-08\n",
      "Im[K[1]] -3.459437682e-10 vs -3.459437487e-10, relative error = +5.64e-08\n",
      "Im[K[2]] -1.749225416e-12 vs -1.749225376e-12, relative error = +2.29e-08\n"
     ]
    }
   ],
   "source": [
    "comparetwoK(KnII, np.array([ansII[0], ansII[1], ansII[2]]))"
   ]
  },
  {
   "cell_type": "markdown",
   "id": "dc1f59fe",
   "metadata": {},
   "source": [
    "## Sample I\n",
    "\n",
    "    cantilever | vacuum gap | semiconductor | dielectric (semi-infinite)"
   ]
  },
  {
   "cell_type": "code",
   "execution_count": 22,
   "id": "6784b633",
   "metadata": {},
   "outputs": [],
   "source": [
    "sample1 = SampleModel1(\n",
    "    cantilever = cantilever,\n",
    "    h_s = ureg.Quantity(20, 'nm'),\n",
    "    epsilon_s = ureg.Quantity(complex(20, 0), ''),\n",
    "    epsilon_d = ureg.Quantity(complex(100, 0), ''),\n",
    "    sigma = ureg.Quantity(1e-6, 'S/m'),\n",
    "    rho = ureg.Quantity(1e19, '1/m^3'),\n",
    "    z_r = ureg.Quantity(1, 'nm'))\n",
    "\n",
    "sample1_jit = SampleModel1Jit(**sample1.args())\n",
    "\n",
    "params1_jit = {\n",
    "    'integrand': integrand1jit, \n",
    "    'sample': sample1_jit, \n",
    "    'omega': omega, \n",
    "    'location1': loc1_m, \n",
    "    'location2': loc2_m}"
   ]
  },
  {
   "cell_type": "code",
   "execution_count": 23,
   "id": "cf60bc29",
   "metadata": {},
   "outputs": [],
   "source": [
    "K0, K1, K2 = K_jit(**params1_jit)\n",
    "KnI = np.array([K0, K1, K2])"
   ]
  },
  {
   "cell_type": "code",
   "execution_count": 24,
   "id": "b7d5135e",
   "metadata": {},
   "outputs": [],
   "source": [
    "def funcI(y, x, omega, omega0, zr, kD, hs, es, ed):\n",
    "    \n",
    "    def t1(ell):\n",
    "        return y**ell\n",
    "    \n",
    "    t2 = rpI_jit(y, omega, omega0, zr, kD, hs, es, ed)\n",
    "    t3 = scipy.special.j0(y * x) * np.exp(-y)\n",
    "                 \n",
    "    return np.array(\n",
    "        [np.real(t1(0) * t2 * t3) / zr,\n",
    "         np.imag(t1(0) * t2 * t3) / zr,\n",
    "         np.real(t1(1) * t2 * t3) / zr**2,\n",
    "         np.imag(t1(1) * t2 * t3) / zr**2,\n",
    "         np.real(t1(2) * t2 * t3) / zr**3,\n",
    "         np.imag(t1(2) * t2 * t3) / zr**3])"
   ]
  },
  {
   "cell_type": "code",
   "execution_count": 25,
   "id": "8b928fe8",
   "metadata": {},
   "outputs": [],
   "source": [
    "ansI = integrate.quad_vec(funcI,\n",
    "    0., np.inf,\n",
    "    args=(x,\n",
    "        omega,\n",
    "        params1_jit['sample'].omega0,\n",
    "        zjkref,\n",
    "        params1_jit['sample'].kD,\n",
    "        params1_jit['sample'].h_s,\n",
    "        params1_jit['sample'].epsilon_s,  \n",
    "        params1_jit['sample'].epsilon_d))[0] @ Kp"
   ]
  },
  {
   "cell_type": "code",
   "execution_count": 26,
   "id": "48a78fef",
   "metadata": {},
   "outputs": [
    {
     "name": "stdout",
     "output_type": "stream",
     "text": [
      "Re[K[0]] +1.429815267e-02 vs +1.429815267e-02, relative error = -2.73e-13\n",
      "Re[K[1]] +1.879106113e-04 vs +1.879106113e-04, relative error = -6.94e-14\n",
      "Re[K[2]] +4.346321765e-06 vs +4.346321765e-06, relative error = +8.57e-15\n",
      "\n",
      "Im[K[0]] -2.213217052e-08 vs -2.213217144e-08, relative error = -4.16e-08\n",
      "Im[K[1]] -1.600313150e-10 vs -1.600313364e-10, relative error = -1.33e-07\n",
      "Im[K[2]] -1.740076901e-12 vs -1.740077053e-12, relative error = -8.75e-08\n"
     ]
    }
   ],
   "source": [
    "comparetwoK(KnI, np.array([ansI[0], ansI[1], ansI[2]]))"
   ]
  },
  {
   "cell_type": "markdown",
   "id": "d5181771",
   "metadata": {},
   "source": [
    "## Conclusions\n",
    "\n",
    "The integrals are the same to within a relative error of $\\epsilon \\sim 10^{-7}$ or better. \\\n",
    "The relative error in the imaginary part of the $K_n$ integrals is a factor of $10^5$ larger than for the real part. \\\n",
    "This agreement suggests that I have coded the functions `rpI_jit` and `rpII_jit` correctly."
   ]
  },
  {
   "cell_type": "markdown",
   "id": "437cc8d8",
   "metadata": {},
   "source": [
    "# Coding approach\n",
    "\n",
    "Right now we call, for a Type III sample, \n",
    "\n",
    "    KmatrixIII_jit(omega, omega0, kD, es, sj, rk, j0s, an, verbose=False)\n",
    "        ...\n",
    "        rpIII_jit(t0, omega, omega0, zjkref, kD, es)\n",
    "    \n",
    "The analagous call for a Type II sample would be\n",
    "\n",
    "    KmatrixII_jit(omega, omega0, kD, hd, ed, es, sj, rk, j0s, an, verbose=False)\n",
    "        ...\n",
    "        rpII_jit(t0, omega, omega0, zjkref, kD, hd, ed, es)\n",
    "\n",
    "Note the extra arguments in the function call. \n",
    "\n",
    "The analagous call for a Type I sample would be\n",
    "    \n",
    "    KmatrixI_jit(omega, omega0, kD, hs, es, ed, sj, rk, j0s, an, verbose=False)\n",
    "        ...\n",
    "        rpI_jit(t0, omega, omega0, zjkref, kD, hs, es, ed) \n",
    "    \n",
    "Note the slightly different arguments in the function calls.\n",
    "\n",
    "There might be a clever way to write a single `Kmatrix` function that can handle all three cases, but I am not seeing it, not for compiled code.  Explicit `**kwargs` are not supported in `numba` ([link](https://numba.readthedocs.io/en/stable/reference/pysupported.html)).  So for now, take the brute-force approach and write *two more functions*, `KmatrixII_jit` and ` KmatrixI_jit`.  These functions will be nearly identical to `KmatrixIII_jit` except for the extra arguments in function calls, and calling `rpII_jit` and `rpI_jit`, respectively."
   ]
  },
  {
   "cell_type": "markdown",
   "id": "9119ff19",
   "metadata": {},
   "source": [
    "# Compare `K_jit` and `Kmatrix` functions\n",
    "\n",
    "For one set of sample parameters each, compare the results `K_jit`, computed above, to the the results of the new `KmatrixII_jit` and `KmatrixI_jit` functions."
   ]
  },
  {
   "cell_type": "markdown",
   "id": "2d4cb684",
   "metadata": {},
   "source": [
    "## versus `KmatrixII_jit`"
   ]
  },
  {
   "cell_type": "code",
   "execution_count": 27,
   "id": "9abaf20d",
   "metadata": {},
   "outputs": [],
   "source": [
    "sample2 = SampleModel2(\n",
    "    cantilever = cantilever,\n",
    "    h_d = ureg.Quantity(20, 'nm'),\n",
    "    epsilon_d = ureg.Quantity(complex(20, 0), ''),\n",
    "    epsilon_s = ureg.Quantity(complex(100, 0), ''),\n",
    "    sigma = ureg.Quantity(1e-6, 'S/m'),\n",
    "    rho = ureg.Quantity(1e19, '1/m^3'),\n",
    "    z_r = ureg.Quantity(1, 'nm'))\n",
    "\n",
    "sample2_jit = SampleModel2Jit(**sample2.args())\n",
    "\n",
    "args = {\n",
    "    \"omega\": omega,\n",
    "    \"omega0\": sample2_jit.omega0,\n",
    "    \"kD\": sample2_jit.kD,\n",
    "    \"hd\": sample2_jit.h_d, \n",
    "    \"ed\": sample2_jit.epsilon_d,\n",
    "    \"es\": sample2_jit.epsilon_s,\n",
    "    \"sj\": np.array([loc1_nm]),\n",
    "    \"rk\": np.array([loc2_nm]),\n",
    "    \"j0s\": j0s,\n",
    "    \"an\": an}\n",
    "\n",
    "K0, K1, K2 = KmatrixII_jit(**args)\n",
    "KnIIjit = np.array([K0[0][0], K1[0][0], K2[0][0]])"
   ]
  },
  {
   "cell_type": "code",
   "execution_count": 28,
   "id": "c7b80e51",
   "metadata": {},
   "outputs": [
    {
     "name": "stdout",
     "output_type": "stream",
     "text": [
      "Re[K[0]] +1.429817843e-02 vs +1.429817841e-02, relative error = +1.35e-09\n",
      "Re[K[1]] +1.879103217e-04 vs +1.879103239e-04, relative error = -1.20e-08\n",
      "Re[K[2]] +4.346308861e-06 vs +4.346309655e-06, relative error = -1.83e-07\n",
      "\n",
      "Im[K[0]] -1.239110040e-07 vs -1.239180257e-07, relative error = -5.67e-05\n",
      "Im[K[1]] -3.459437682e-10 vs -3.460325002e-10, relative error = -2.56e-04\n",
      "Im[K[2]] -1.749225416e-12 vs -1.749708210e-12, relative error = -2.76e-04\n"
     ]
    }
   ],
   "source": [
    "comparetwoK(KnII, KnIIjit)"
   ]
  },
  {
   "cell_type": "markdown",
   "id": "6612a240",
   "metadata": {},
   "source": [
    "Some difference in the two $K_n$ computations is expected because `KmatrixII_jit` and `K_jit`, used to compute `KnII`, employ different numerical integration schemes."
   ]
  },
  {
   "cell_type": "markdown",
   "id": "cda53ca4",
   "metadata": {},
   "source": [
    "## versus `KmatrixI_jit`"
   ]
  },
  {
   "cell_type": "code",
   "execution_count": 29,
   "id": "4ec144fa",
   "metadata": {},
   "outputs": [],
   "source": [
    "sample1 = SampleModel1(\n",
    "    cantilever = cantilever,\n",
    "    h_s = ureg.Quantity(20, 'nm'),\n",
    "    epsilon_s = ureg.Quantity(complex(20, 0), ''),\n",
    "    epsilon_d = ureg.Quantity(complex(100, 0), ''),\n",
    "    sigma = ureg.Quantity(1e-6, 'S/m'),\n",
    "    rho = ureg.Quantity(1e19, '1/m^3'),\n",
    "    z_r = ureg.Quantity(1, 'nm'))\n",
    "\n",
    "sample1_jit = SampleModel1Jit(**sample1.args())\n",
    "\n",
    "args = {\n",
    "    \"omega\": omega,\n",
    "    \"omega0\": sample1_jit.omega0,\n",
    "    \"kD\": sample1_jit.kD,\n",
    "    \"hs\": sample1_jit.h_s, \n",
    "    \"es\": sample1_jit.epsilon_s,\n",
    "    \"ed\": sample1_jit.epsilon_d,\n",
    "    \"sj\": np.array([loc1_nm]),\n",
    "    \"rk\": np.array([loc2_nm]),\n",
    "    \"j0s\": j0s,\n",
    "    \"an\": an}\n",
    "\n",
    "K0, K1, K2 = KmatrixI_jit(**args)\n",
    "KnIjit = np.array([K0[0][0], K1[0][0], K2[0][0]])"
   ]
  },
  {
   "cell_type": "code",
   "execution_count": 30,
   "id": "5977ec87",
   "metadata": {},
   "outputs": [
    {
     "name": "stdout",
     "output_type": "stream",
     "text": [
      "Re[K[0]] +1.429815267e-02 vs +1.429815263e-02, relative error = +2.98e-09\n",
      "Re[K[1]] +1.879106113e-04 vs +1.879106134e-04, relative error = -1.14e-08\n",
      "Re[K[2]] +4.346321765e-06 vs +4.346322559e-06, relative error = -1.83e-07\n",
      "\n",
      "Im[K[0]] -2.213217052e-08 vs -2.214254145e-08, relative error = -4.69e-04\n",
      "Im[K[1]] -1.600313150e-10 vs -1.600316350e-10, relative error = -2.00e-06\n",
      "Im[K[2]] -1.740076901e-12 vs -1.739675959e-12, relative error = +2.30e-04\n"
     ]
    }
   ],
   "source": [
    "comparetwoK(KnI, KnIjit)"
   ]
  },
  {
   "cell_type": "markdown",
   "id": "df4c44a8",
   "metadata": {},
   "source": [
    "Some difference in the two $K_n$ computations is expected because `KmatrixI_jit` and `K_jit`, used to compute `KnI`, employ different numerical integration schemes."
   ]
  },
  {
   "cell_type": "markdown",
   "id": "c12cce40",
   "metadata": {},
   "source": [
    "# Comprehensive using testing\n",
    "\n",
    "Now loop over sample parameters, as in Study 63. \\\n",
    "For Type I and Type II samples we need two additional sample-parameter loops. \\\n",
    "Start with the parameters common to both loops.\n",
    "\n",
    "Compared to Study 63, \n",
    "\n",
    "- tweak the distances in `sj_nm` to have the z-values better distributed\n",
    "- reduce the number of `rk_nm` values from 6 to 4\n",
    "- fewer conductivity values\n",
    "- fewer change density values"
   ]
  },
  {
   "cell_type": "code",
   "execution_count": 71,
   "id": "8dd75c80",
   "metadata": {},
   "outputs": [],
   "source": [
    "sj_nm = np.array(\n",
    "    [np.array([  0,  0,  20], dtype=np.float64),\n",
    "     np.array([  0,  0,  50], dtype=np.float64),\n",
    "     np.array([  0,  0, 150], dtype=np.float64)])\n",
    "\n",
    "rk_nm = np.array(\n",
    "    [np.array([  0,  0, 20], dtype=np.float64),\n",
    "     np.array([  0, 20, 20], dtype=np.float64),\n",
    "     np.array([  0,  0, 30], dtype=np.float64),\n",
    "     np.array([  0, 30, 30], dtype=np.float64)])\n",
    "\n",
    "omegas = 2 * np.pi * np.array(\n",
    "    [1e1, 1e2, 1e3, 1e4, 1e5, 1e6], dtype=np.float64)"
   ]
  },
  {
   "cell_type": "code",
   "execution_count": 72,
   "id": "9ff59a00",
   "metadata": {},
   "outputs": [],
   "source": [
    "epsilon_ss = np.array([complex(  3, 0), complex(  3,  -0.3),\n",
    "                      complex( 10, 0), complex( 20,  -2.0),\n",
    "                      complex(100, 0), complex(100, -10.0)])"
   ]
  },
  {
   "cell_type": "code",
   "execution_count": 73,
   "id": "d2ea508c",
   "metadata": {},
   "outputs": [],
   "source": [
    "epsilon_ds = np.array([complex(  3, 0),\n",
    "                      complex(100, 0)])"
   ]
  },
  {
   "cell_type": "code",
   "execution_count": 74,
   "id": "bfe7a0b9",
   "metadata": {},
   "outputs": [],
   "source": [
    "sigmas = np.array([1e-10, 1e-8, 1e-6, 1e-4, 1e-2])  # S/m"
   ]
  },
  {
   "cell_type": "code",
   "execution_count": 75,
   "id": "aa45e027",
   "metadata": {},
   "outputs": [],
   "source": [
    "rhos = np.array([1e19, 1e21, 1e23, 1e25])  # 1/m^3"
   ]
  },
  {
   "cell_type": "markdown",
   "id": "ae5c9f65",
   "metadata": {},
   "source": [
    "## Test `KmatrixII_jit`"
   ]
  },
  {
   "cell_type": "code",
   "execution_count": 76,
   "id": "365f1e83",
   "metadata": {},
   "outputs": [],
   "source": [
    "h_ds = np.array([20., 100.])"
   ]
  },
  {
   "cell_type": "code",
   "execution_count": 77,
   "id": "93228cd5",
   "metadata": {},
   "outputs": [
    {
     "data": {
      "text/plain": [
       "34560"
      ]
     },
     "execution_count": 77,
     "metadata": {},
     "output_type": "execute_result"
    }
   ],
   "source": [
    "values2 = list(itertools.product(\n",
    "    omegas, sj_nm, rk_nm,\n",
    "    epsilon_ss, sigmas, rhos,\n",
    "    epsilon_ds, h_ds))\n",
    "\n",
    "len(values2)"
   ]
  },
  {
   "cell_type": "markdown",
   "id": "c1a165c4",
   "metadata": {},
   "source": [
    "Estimate the run time based on the `KmatrixII_jit` runtime in Study 64."
   ]
  },
  {
   "cell_type": "code",
   "execution_count": 78,
   "id": "348ac48d",
   "metadata": {},
   "outputs": [
    {
     "name": "stdout",
     "output_type": "stream",
     "text": [
      "estimated run time = 4.3 min\n"
     ]
    }
   ],
   "source": [
    "print(\"estimated run time = {:0.1f} min\".format(len(values2) * 4.5 / 36288))"
   ]
  },
  {
   "cell_type": "markdown",
   "id": "c31f656c",
   "metadata": {},
   "source": [
    "Uncomment the line below to do a dry run on a small subset of the variables."
   ]
  },
  {
   "cell_type": "code",
   "execution_count": 79,
   "id": "4b24376b",
   "metadata": {},
   "outputs": [],
   "source": [
    "# values2 = values2[0:100]"
   ]
  },
  {
   "cell_type": "markdown",
   "id": "43038a88",
   "metadata": {},
   "source": [
    "Running 100 variables takes 1.36 seconds (user time). \\\n",
    "Based in this small run, compute how long running 34560 variables should take. "
   ]
  },
  {
   "cell_type": "code",
   "execution_count": 80,
   "id": "ddc87503",
   "metadata": {},
   "outputs": [
    {
     "name": "stdout",
     "output_type": "stream",
     "text": [
      "estimated run time = 8.2 min\n"
     ]
    }
   ],
   "source": [
    "print(\"estimated run time = {:0.1f} min\".format(36288 * 1.36 / (60 * 100)))"
   ]
  },
  {
   "cell_type": "code",
   "execution_count": 81,
   "id": "eb39c273",
   "metadata": {},
   "outputs": [
    {
     "name": "stdout",
     "output_type": "stream",
     "text": [
      "CPU times: user 5min 16s, sys: 6.07 s, total: 5min 22s\n",
      "Wall time: 6min 10s\n"
     ]
    }
   ],
   "source": [
    "%%time\n",
    "\n",
    "Kn2     = np.zeros((len(values2),3), dtype=np.complex128)\n",
    "Kn2_jit = np.zeros((len(values2),3), dtype=np.complex128)\n",
    "\n",
    "for index, (omega, sj, rk, epsilon_s, sigma, rho, epsilon_d, h_d) in enumerate(values2):\n",
    "\n",
    "    sample2 = SampleModel2(\n",
    "        cantilever = cantilever,\n",
    "        h_d = ureg.Quantity(h_d, 'nm'),\n",
    "        epsilon_d = ureg.Quantity(epsilon_d, ''),\n",
    "        epsilon_s = ureg.Quantity(epsilon_s, ''),\n",
    "        sigma = ureg.Quantity(sigma, 'S/m'),\n",
    "        rho = ureg.Quantity(rho, '1/m^3'),\n",
    "        z_r = ureg.Quantity(1, 'nm'))\n",
    "\n",
    "    sample2_jit = SampleModel2Jit(**sample2.args())\n",
    "\n",
    "    params2 = {\n",
    "        'integrand': integrand2jit,\n",
    "        'sample': sample2_jit,\n",
    "        'omega': omega,\n",
    "        'location1': 1.0e-9 * sj,\n",
    "        'location2': 1.0e-9 * rk\n",
    "    }\n",
    "    \n",
    "    K0a, K1a, K2a = K_jit(**params2)\n",
    "    Kn2[index] = np.array([K0a, K1a, K2a])\n",
    "\n",
    "    args = {\n",
    "        \"omega\": omega,\n",
    "        \"omega0\": sample2_jit.omega0,\n",
    "        \"kD\": sample2_jit.kD,\n",
    "        \"hd\": sample2_jit.h_d, \n",
    "        \"ed\": sample2_jit.epsilon_d,\n",
    "        \"es\": sample2_jit.epsilon_s,\n",
    "        \"sj\": np.array([sj]),\n",
    "        \"rk\": np.array([rk]),\n",
    "        \"j0s\": j0s,\n",
    "        \"an\": an}\n",
    "\n",
    "    K0b, K1b, K2b = KmatrixII_jit(**args)\n",
    "    Kn2_jit[index] = np.array([K0b[0][0], K1b[0][0], K2b[0][0]])"
   ]
  },
  {
   "cell_type": "markdown",
   "id": "9fee4ae2",
   "metadata": {},
   "source": [
    "Compute the error vectors."
   ]
  },
  {
   "cell_type": "code",
   "execution_count": 82,
   "id": "62147fee",
   "metadata": {},
   "outputs": [],
   "source": [
    "Kn2_errors = np.zeros((len(values2),3), dtype=np.complex128)\n",
    "epsilon2 = np.zeros((len(values2)), dtype=np.float64)\n",
    "c = np.zeros(3, dtype=np.complex128)\n",
    "\n",
    "for index1, (a,b) in enumerate(zip(Kn2, Kn2_jit)):\n",
    "    \n",
    "    for index2 in [0, 1, 2]:\n",
    "    \n",
    "        c[index2] = complex(1,0) * (a[index2].real - b[index2].real) / a[index2].real \\\n",
    "                  + complex(0,1) * (a[index2].imag - b[index2].imag) / a[index2].imag\n",
    "            \n",
    "    Kn2_errors[index1] = c\n",
    "    \n",
    "    epsilon2[index1] = np.sqrt(np.real(np.sum(c * np.conj(c))))"
   ]
  },
  {
   "cell_type": "markdown",
   "id": "f2e45061",
   "metadata": {},
   "source": [
    "Create a pandas dataframe."
   ]
  },
  {
   "cell_type": "code",
   "execution_count": 83,
   "id": "16c380b4",
   "metadata": {},
   "outputs": [],
   "source": [
    "df2 = pd.DataFrame(\n",
    "    values2, \n",
    "    columns=['$\\omega$ [Hz]', '$s_j$ [nm]', '$r_k$ [nm]', \n",
    "             '$\\epsilon_{\\mathrm{s}}$', '$\\sigma$ [S/m]', '$\\rho$ [1/m$^3$]',\n",
    "             '$\\epsilon_{\\mathrm{d}}$', '$h_{\\mathrm{d}}$ [nm]'])\n",
    "    \n",
    "df2['$\\epsilon$'] = epsilon2"
   ]
  },
  {
   "cell_type": "markdown",
   "id": "7682a660",
   "metadata": {},
   "source": [
    "Display the results sorted by error."
   ]
  },
  {
   "cell_type": "code",
   "execution_count": 84,
   "id": "28238db0",
   "metadata": {},
   "outputs": [
    {
     "data": {
      "text/html": [
       "<div>\n",
       "<style scoped>\n",
       "    .dataframe tbody tr th:only-of-type {\n",
       "        vertical-align: middle;\n",
       "    }\n",
       "\n",
       "    .dataframe tbody tr th {\n",
       "        vertical-align: top;\n",
       "    }\n",
       "\n",
       "    .dataframe thead th {\n",
       "        text-align: right;\n",
       "    }\n",
       "</style>\n",
       "<table border=\"1\" class=\"dataframe\">\n",
       "  <thead>\n",
       "    <tr style=\"text-align: right;\">\n",
       "      <th></th>\n",
       "      <th>$\\omega$ [Hz]</th>\n",
       "      <th>$s_j$ [nm]</th>\n",
       "      <th>$r_k$ [nm]</th>\n",
       "      <th>$\\epsilon_{\\mathrm{s}}$</th>\n",
       "      <th>$\\sigma$ [S/m]</th>\n",
       "      <th>$\\rho$ [1/m$^3$]</th>\n",
       "      <th>$\\epsilon_{\\mathrm{d}}$</th>\n",
       "      <th>$h_{\\mathrm{d}}$ [nm]</th>\n",
       "      <th>$\\epsilon$</th>\n",
       "    </tr>\n",
       "  </thead>\n",
       "  <tbody>\n",
       "    <tr>\n",
       "      <th>17603</th>\n",
       "      <td>6.3e+04</td>\n",
       "      <td>[0.0, 0.0, 20.0]</td>\n",
       "      <td>[0.0, 0.0, 20.0]</td>\n",
       "      <td>1.0e+02+0.0e+00j</td>\n",
       "      <td>1.0e-10</td>\n",
       "      <td>1.0e+19</td>\n",
       "      <td>1.0e+02+0.0e+00j</td>\n",
       "      <td>1.0e+02</td>\n",
       "      <td>1.0e-03</td>\n",
       "    </tr>\n",
       "    <tr>\n",
       "      <th>29139</th>\n",
       "      <td>6.3e+06</td>\n",
       "      <td>[0.0, 0.0, 20.0]</td>\n",
       "      <td>[0.0, 0.0, 20.0]</td>\n",
       "      <td>1.0e+02+0.0e+00j</td>\n",
       "      <td>1.0e-08</td>\n",
       "      <td>1.0e+19</td>\n",
       "      <td>1.0e+02+0.0e+00j</td>\n",
       "      <td>1.0e+02</td>\n",
       "      <td>1.0e-03</td>\n",
       "    </tr>\n",
       "    <tr>\n",
       "      <th>23363</th>\n",
       "      <td>6.3e+05</td>\n",
       "      <td>[0.0, 0.0, 20.0]</td>\n",
       "      <td>[0.0, 0.0, 20.0]</td>\n",
       "      <td>1.0e+02+0.0e+00j</td>\n",
       "      <td>1.0e-10</td>\n",
       "      <td>1.0e+19</td>\n",
       "      <td>1.0e+02+0.0e+00j</td>\n",
       "      <td>1.0e+02</td>\n",
       "      <td>9.6e-04</td>\n",
       "    </tr>\n",
       "    <tr>\n",
       "      <th>29123</th>\n",
       "      <td>6.3e+06</td>\n",
       "      <td>[0.0, 0.0, 20.0]</td>\n",
       "      <td>[0.0, 0.0, 20.0]</td>\n",
       "      <td>1.0e+02+0.0e+00j</td>\n",
       "      <td>1.0e-10</td>\n",
       "      <td>1.0e+19</td>\n",
       "      <td>1.0e+02+0.0e+00j</td>\n",
       "      <td>1.0e+02</td>\n",
       "      <td>9.3e-04</td>\n",
       "    </tr>\n",
       "    <tr>\n",
       "      <th>17607</th>\n",
       "      <td>6.3e+04</td>\n",
       "      <td>[0.0, 0.0, 20.0]</td>\n",
       "      <td>[0.0, 0.0, 20.0]</td>\n",
       "      <td>1.0e+02+0.0e+00j</td>\n",
       "      <td>1.0e-10</td>\n",
       "      <td>1.0e+21</td>\n",
       "      <td>1.0e+02+0.0e+00j</td>\n",
       "      <td>1.0e+02</td>\n",
       "      <td>9.3e-04</td>\n",
       "    </tr>\n",
       "    <tr>\n",
       "      <th>...</th>\n",
       "      <td>...</td>\n",
       "      <td>...</td>\n",
       "      <td>...</td>\n",
       "      <td>...</td>\n",
       "      <td>...</td>\n",
       "      <td>...</td>\n",
       "      <td>...</td>\n",
       "      <td>...</td>\n",
       "      <td>...</td>\n",
       "    </tr>\n",
       "    <tr>\n",
       "      <th>8636</th>\n",
       "      <td>6.3e+02</td>\n",
       "      <td>[0.0, 0.0, 50.0]</td>\n",
       "      <td>[0.0, 20.0, 20.0]</td>\n",
       "      <td>1.0e+02-1.0e+01j</td>\n",
       "      <td>1.0e-02</td>\n",
       "      <td>1.0e+25</td>\n",
       "      <td>3.0e+00+0.0e+00j</td>\n",
       "      <td>2.0e+01</td>\n",
       "      <td>6.3e-08</td>\n",
       "    </tr>\n",
       "    <tr>\n",
       "      <th>8620</th>\n",
       "      <td>6.3e+02</td>\n",
       "      <td>[0.0, 0.0, 50.0]</td>\n",
       "      <td>[0.0, 20.0, 20.0]</td>\n",
       "      <td>1.0e+02-1.0e+01j</td>\n",
       "      <td>1.0e-04</td>\n",
       "      <td>1.0e+25</td>\n",
       "      <td>3.0e+00+0.0e+00j</td>\n",
       "      <td>2.0e+01</td>\n",
       "      <td>6.3e-08</td>\n",
       "    </tr>\n",
       "    <tr>\n",
       "      <th>20156</th>\n",
       "      <td>6.3e+04</td>\n",
       "      <td>[0.0, 0.0, 50.0]</td>\n",
       "      <td>[0.0, 20.0, 20.0]</td>\n",
       "      <td>1.0e+02-1.0e+01j</td>\n",
       "      <td>1.0e-02</td>\n",
       "      <td>1.0e+25</td>\n",
       "      <td>3.0e+00+0.0e+00j</td>\n",
       "      <td>2.0e+01</td>\n",
       "      <td>6.3e-08</td>\n",
       "    </tr>\n",
       "    <tr>\n",
       "      <th>2860</th>\n",
       "      <td>6.3e+01</td>\n",
       "      <td>[0.0, 0.0, 50.0]</td>\n",
       "      <td>[0.0, 20.0, 20.0]</td>\n",
       "      <td>1.0e+02-1.0e+01j</td>\n",
       "      <td>1.0e-04</td>\n",
       "      <td>1.0e+25</td>\n",
       "      <td>3.0e+00+0.0e+00j</td>\n",
       "      <td>2.0e+01</td>\n",
       "      <td>6.3e-08</td>\n",
       "    </tr>\n",
       "    <tr>\n",
       "      <th>14396</th>\n",
       "      <td>6.3e+03</td>\n",
       "      <td>[0.0, 0.0, 50.0]</td>\n",
       "      <td>[0.0, 20.0, 20.0]</td>\n",
       "      <td>1.0e+02-1.0e+01j</td>\n",
       "      <td>1.0e-02</td>\n",
       "      <td>1.0e+25</td>\n",
       "      <td>3.0e+00+0.0e+00j</td>\n",
       "      <td>2.0e+01</td>\n",
       "      <td>6.3e-08</td>\n",
       "    </tr>\n",
       "  </tbody>\n",
       "</table>\n",
       "<p>34560 rows × 9 columns</p>\n",
       "</div>"
      ],
      "text/plain": [
       "       $\\omega$ [Hz]        $s_j$ [nm]         $r_k$ [nm]  \\\n",
       "17603        6.3e+04  [0.0, 0.0, 20.0]   [0.0, 0.0, 20.0]   \n",
       "29139        6.3e+06  [0.0, 0.0, 20.0]   [0.0, 0.0, 20.0]   \n",
       "23363        6.3e+05  [0.0, 0.0, 20.0]   [0.0, 0.0, 20.0]   \n",
       "29123        6.3e+06  [0.0, 0.0, 20.0]   [0.0, 0.0, 20.0]   \n",
       "17607        6.3e+04  [0.0, 0.0, 20.0]   [0.0, 0.0, 20.0]   \n",
       "...              ...               ...                ...   \n",
       "8636         6.3e+02  [0.0, 0.0, 50.0]  [0.0, 20.0, 20.0]   \n",
       "8620         6.3e+02  [0.0, 0.0, 50.0]  [0.0, 20.0, 20.0]   \n",
       "20156        6.3e+04  [0.0, 0.0, 50.0]  [0.0, 20.0, 20.0]   \n",
       "2860         6.3e+01  [0.0, 0.0, 50.0]  [0.0, 20.0, 20.0]   \n",
       "14396        6.3e+03  [0.0, 0.0, 50.0]  [0.0, 20.0, 20.0]   \n",
       "\n",
       "       $\\epsilon_{\\mathrm{s}}$  $\\sigma$ [S/m]  $\\rho$ [1/m$^3$]  \\\n",
       "17603         1.0e+02+0.0e+00j         1.0e-10           1.0e+19   \n",
       "29139         1.0e+02+0.0e+00j         1.0e-08           1.0e+19   \n",
       "23363         1.0e+02+0.0e+00j         1.0e-10           1.0e+19   \n",
       "29123         1.0e+02+0.0e+00j         1.0e-10           1.0e+19   \n",
       "17607         1.0e+02+0.0e+00j         1.0e-10           1.0e+21   \n",
       "...                        ...             ...               ...   \n",
       "8636          1.0e+02-1.0e+01j         1.0e-02           1.0e+25   \n",
       "8620          1.0e+02-1.0e+01j         1.0e-04           1.0e+25   \n",
       "20156         1.0e+02-1.0e+01j         1.0e-02           1.0e+25   \n",
       "2860          1.0e+02-1.0e+01j         1.0e-04           1.0e+25   \n",
       "14396         1.0e+02-1.0e+01j         1.0e-02           1.0e+25   \n",
       "\n",
       "       $\\epsilon_{\\mathrm{d}}$  $h_{\\mathrm{d}}$ [nm]  $\\epsilon$  \n",
       "17603         1.0e+02+0.0e+00j                1.0e+02     1.0e-03  \n",
       "29139         1.0e+02+0.0e+00j                1.0e+02     1.0e-03  \n",
       "23363         1.0e+02+0.0e+00j                1.0e+02     9.6e-04  \n",
       "29123         1.0e+02+0.0e+00j                1.0e+02     9.3e-04  \n",
       "17607         1.0e+02+0.0e+00j                1.0e+02     9.3e-04  \n",
       "...                        ...                    ...         ...  \n",
       "8636          3.0e+00+0.0e+00j                2.0e+01     6.3e-08  \n",
       "8620          3.0e+00+0.0e+00j                2.0e+01     6.3e-08  \n",
       "20156         3.0e+00+0.0e+00j                2.0e+01     6.3e-08  \n",
       "2860          3.0e+00+0.0e+00j                2.0e+01     6.3e-08  \n",
       "14396         3.0e+00+0.0e+00j                2.0e+01     6.3e-08  \n",
       "\n",
       "[34560 rows x 9 columns]"
      ]
     },
     "execution_count": 84,
     "metadata": {},
     "output_type": "execute_result"
    }
   ],
   "source": [
    "pd.options.display.float_format = '{:,.1e}'.format\n",
    "df2.sort_values(by='$\\epsilon$', ascending=False)"
   ]
  },
  {
   "cell_type": "markdown",
   "id": "a9deffe9",
   "metadata": {},
   "source": [
    "Plot the error vectors."
   ]
  },
  {
   "cell_type": "code",
   "execution_count": 85,
   "id": "56d282ff",
   "metadata": {},
   "outputs": [
    {
     "data": {
      "image/png": "[encoded data removed]",
      "text/plain": [
       "<Figure size 640x480 with 1 Axes>"
      ]
     },
     "metadata": {},
     "output_type": "display_data"
    }
   ],
   "source": [
    "plt.semilogy(sorted(df2['$\\epsilon$']))\n",
    "plt.show()"
   ]
  },
  {
   "cell_type": "markdown",
   "id": "497d7b65",
   "metadata": {},
   "source": [
    "## Test `KmatrixI_jit`"
   ]
  },
  {
   "cell_type": "code",
   "execution_count": 86,
   "id": "e968ebe7",
   "metadata": {},
   "outputs": [],
   "source": [
    "h_ss = np.array([20., 100.])"
   ]
  },
  {
   "cell_type": "code",
   "execution_count": 87,
   "id": "f2480ede",
   "metadata": {},
   "outputs": [
    {
     "data": {
      "text/plain": [
       "34560"
      ]
     },
     "execution_count": 87,
     "metadata": {},
     "output_type": "execute_result"
    }
   ],
   "source": [
    "values1 = list(itertools.product(\n",
    "    omegas, sj_nm, rk_nm,\n",
    "    epsilon_ss, sigmas, rhos,\n",
    "    epsilon_ds, h_ss))\n",
    "\n",
    "len(values1)"
   ]
  },
  {
   "cell_type": "code",
   "execution_count": 88,
   "id": "5da854df",
   "metadata": {},
   "outputs": [
    {
     "name": "stdout",
     "output_type": "stream",
     "text": [
      "estimated run time = 4.3 min\n"
     ]
    }
   ],
   "source": [
    "print(\"estimated run time = {:0.1f} min\".format(len(values1) * 4.5 / 36288))"
   ]
  },
  {
   "cell_type": "markdown",
   "id": "5d8126f2",
   "metadata": {},
   "source": [
    "Uncomment the line below to do a dry run on a small subset of the variables."
   ]
  },
  {
   "cell_type": "code",
   "execution_count": 89,
   "id": "b51935ad",
   "metadata": {},
   "outputs": [],
   "source": [
    "# values1 = values1[0:101]"
   ]
  },
  {
   "cell_type": "markdown",
   "id": "c72defcc",
   "metadata": {},
   "source": [
    "Running 100 variables takes 0.899 seconds (user time). \\\n",
    "Based in this small run, compute how long running 34560 variables should take. "
   ]
  },
  {
   "cell_type": "code",
   "execution_count": 90,
   "id": "58abe4ab",
   "metadata": {},
   "outputs": [
    {
     "name": "stdout",
     "output_type": "stream",
     "text": [
      "estimated run time = 5.4 min\n"
     ]
    }
   ],
   "source": [
    "print(\"estimated run time = {:0.1f} min\".format(36288 * 0.899 / (60 * 100)))"
   ]
  },
  {
   "cell_type": "code",
   "execution_count": 91,
   "id": "00254d82",
   "metadata": {},
   "outputs": [
    {
     "name": "stdout",
     "output_type": "stream",
     "text": [
      "CPU times: user 6min 33s, sys: 7.1 s, total: 6min 41s\n",
      "Wall time: 7min 22s\n"
     ]
    }
   ],
   "source": [
    "%%time\n",
    "\n",
    "Kn1     = np.zeros((len(values1),3), dtype=np.complex128)\n",
    "Kn1_jit = np.zeros((len(values1),3), dtype=np.complex128)\n",
    "\n",
    "for index, (omega, sj, rk, epsilon_s, sigma, rho, epsilon_d, h_s) in enumerate(values1):\n",
    "\n",
    "    sample1 = SampleModel1(\n",
    "        cantilever = cantilever,\n",
    "        h_s = ureg.Quantity(h_s, 'nm'),\n",
    "        epsilon_s = ureg.Quantity(epsilon_s, ''),\n",
    "        epsilon_d = ureg.Quantity(epsilon_d, ''),\n",
    "        sigma = ureg.Quantity(sigma, 'S/m'),\n",
    "        rho = ureg.Quantity(rho, '1/m^3'),\n",
    "        z_r = ureg.Quantity(1, 'nm'))\n",
    "\n",
    "    sample1_jit = SampleModel1Jit(**sample1.args())\n",
    "\n",
    "    params1 = {\n",
    "        'integrand': integrand1jit,\n",
    "        'sample': sample1_jit,\n",
    "        'omega': omega,\n",
    "        'location1': 1.0e-9 * sj,\n",
    "        'location2': 1.0e-9 * rk\n",
    "    }\n",
    "    \n",
    "    K0a, K1a, K2a = K_jit(**params1)\n",
    "    Kn1[index] = np.array([K0a, K1a, K2a])\n",
    "\n",
    "    args = {\n",
    "        \"omega\": omega,\n",
    "        \"omega0\": sample1_jit.omega0,\n",
    "        \"kD\": sample1_jit.kD,\n",
    "        \"hs\": sample1_jit.h_s, \n",
    "        \"es\": sample1_jit.epsilon_s,\n",
    "        \"ed\": sample1_jit.epsilon_d,\n",
    "        \"sj\": np.array([sj]),\n",
    "        \"rk\": np.array([rk]),\n",
    "        \"j0s\": j0s,\n",
    "        \"an\": an}\n",
    "\n",
    "    K0b, K1b, K2b = KmatrixI_jit(**args)\n",
    "    Kn1_jit[index] = np.array([K0b[0][0], K1b[0][0], K2b[0][0]])"
   ]
  },
  {
   "cell_type": "code",
   "execution_count": 92,
   "id": "fb52da5e",
   "metadata": {},
   "outputs": [],
   "source": [
    "Kn1_errors = np.zeros((len(values1),3), dtype=np.complex128)\n",
    "epsilon1 = np.zeros((len(values1)), dtype=np.float64)\n",
    "c = np.zeros(3, dtype=np.complex128)\n",
    "\n",
    "for index1, (a,b) in enumerate(zip(Kn1, Kn1_jit)):\n",
    "    \n",
    "    for index2 in [0, 1, 2]:\n",
    "    \n",
    "        c[index2] = complex(1,0) * (a[index2].real - b[index2].real) / a[index2].real \\\n",
    "                  + complex(0,1) * (a[index2].imag - b[index2].imag) / a[index2].imag\n",
    "            \n",
    "    Kn1_errors[index1] = c\n",
    "    \n",
    "    epsilon1[index1] = np.sqrt(np.real(np.sum(c * np.conj(c))))"
   ]
  },
  {
   "cell_type": "code",
   "execution_count": 93,
   "id": "6d159f2a",
   "metadata": {},
   "outputs": [],
   "source": [
    "df1 = pd.DataFrame(\n",
    "    values1, \n",
    "    columns=['$\\omega$ [Hz]', '$s_j$ [nm]', '$r_k$ [nm]', \n",
    "             '$\\epsilon_{\\mathrm{s}}$', '$\\sigma$ [S/m]', '$\\rho$ [1/m$^3$]',\n",
    "             '$\\epsilon_{\\mathrm{d}}$', '$h_{\\mathrm{s}}$ [nm]'])\n",
    "    \n",
    "df1['$\\epsilon$'] = epsilon1"
   ]
  },
  {
   "cell_type": "code",
   "execution_count": 94,
   "id": "b8d8fdb0",
   "metadata": {},
   "outputs": [
    {
     "data": {
      "text/html": [
       "<div>\n",
       "<style scoped>\n",
       "    .dataframe tbody tr th:only-of-type {\n",
       "        vertical-align: middle;\n",
       "    }\n",
       "\n",
       "    .dataframe tbody tr th {\n",
       "        vertical-align: top;\n",
       "    }\n",
       "\n",
       "    .dataframe thead th {\n",
       "        text-align: right;\n",
       "    }\n",
       "</style>\n",
       "<table border=\"1\" class=\"dataframe\">\n",
       "  <thead>\n",
       "    <tr style=\"text-align: right;\">\n",
       "      <th></th>\n",
       "      <th>$\\omega$ [Hz]</th>\n",
       "      <th>$s_j$ [nm]</th>\n",
       "      <th>$r_k$ [nm]</th>\n",
       "      <th>$\\epsilon_{\\mathrm{s}}$</th>\n",
       "      <th>$\\sigma$ [S/m]</th>\n",
       "      <th>$\\rho$ [1/m$^3$]</th>\n",
       "      <th>$\\epsilon_{\\mathrm{d}}$</th>\n",
       "      <th>$h_{\\mathrm{s}}$ [nm]</th>\n",
       "      <th>$\\epsilon$</th>\n",
       "    </tr>\n",
       "  </thead>\n",
       "  <tbody>\n",
       "    <tr>\n",
       "      <th>25938</th>\n",
       "      <td>6.3e+05</td>\n",
       "      <td>[0.0, 0.0, 50.0]</td>\n",
       "      <td>[0.0, 0.0, 30.0]</td>\n",
       "      <td>3.0e+00+0.0e+00j</td>\n",
       "      <td>1.0e-08</td>\n",
       "      <td>1.0e+19</td>\n",
       "      <td>1.0e+02+0.0e+00j</td>\n",
       "      <td>2.0e+01</td>\n",
       "      <td>4.0e-03</td>\n",
       "    </tr>\n",
       "    <tr>\n",
       "      <th>14402</th>\n",
       "      <td>6.3e+03</td>\n",
       "      <td>[0.0, 0.0, 50.0]</td>\n",
       "      <td>[0.0, 0.0, 30.0]</td>\n",
       "      <td>3.0e+00+0.0e+00j</td>\n",
       "      <td>1.0e-10</td>\n",
       "      <td>1.0e+19</td>\n",
       "      <td>1.0e+02+0.0e+00j</td>\n",
       "      <td>2.0e+01</td>\n",
       "      <td>4.0e-03</td>\n",
       "    </tr>\n",
       "    <tr>\n",
       "      <th>14562</th>\n",
       "      <td>6.3e+03</td>\n",
       "      <td>[0.0, 0.0, 50.0]</td>\n",
       "      <td>[0.0, 0.0, 30.0]</td>\n",
       "      <td>1.0e+01+0.0e+00j</td>\n",
       "      <td>1.0e-10</td>\n",
       "      <td>1.0e+19</td>\n",
       "      <td>1.0e+02+0.0e+00j</td>\n",
       "      <td>2.0e+01</td>\n",
       "      <td>3.7e-03</td>\n",
       "    </tr>\n",
       "    <tr>\n",
       "      <th>26098</th>\n",
       "      <td>6.3e+05</td>\n",
       "      <td>[0.0, 0.0, 50.0]</td>\n",
       "      <td>[0.0, 0.0, 30.0]</td>\n",
       "      <td>1.0e+01+0.0e+00j</td>\n",
       "      <td>1.0e-08</td>\n",
       "      <td>1.0e+19</td>\n",
       "      <td>1.0e+02+0.0e+00j</td>\n",
       "      <td>2.0e+01</td>\n",
       "      <td>3.7e-03</td>\n",
       "    </tr>\n",
       "    <tr>\n",
       "      <th>14582</th>\n",
       "      <td>6.3e+03</td>\n",
       "      <td>[0.0, 0.0, 50.0]</td>\n",
       "      <td>[0.0, 0.0, 30.0]</td>\n",
       "      <td>1.0e+01+0.0e+00j</td>\n",
       "      <td>1.0e-08</td>\n",
       "      <td>1.0e+21</td>\n",
       "      <td>1.0e+02+0.0e+00j</td>\n",
       "      <td>2.0e+01</td>\n",
       "      <td>3.5e-03</td>\n",
       "    </tr>\n",
       "    <tr>\n",
       "      <th>...</th>\n",
       "      <td>...</td>\n",
       "      <td>...</td>\n",
       "      <td>...</td>\n",
       "      <td>...</td>\n",
       "      <td>...</td>\n",
       "      <td>...</td>\n",
       "      <td>...</td>\n",
       "      <td>...</td>\n",
       "      <td>...</td>\n",
       "    </tr>\n",
       "    <tr>\n",
       "      <th>13976</th>\n",
       "      <td>6.3e+03</td>\n",
       "      <td>[0.0, 0.0, 50.0]</td>\n",
       "      <td>[0.0, 20.0, 20.0]</td>\n",
       "      <td>3.0e+00+0.0e+00j</td>\n",
       "      <td>1.0e-04</td>\n",
       "      <td>1.0e+23</td>\n",
       "      <td>3.0e+00+0.0e+00j</td>\n",
       "      <td>2.0e+01</td>\n",
       "      <td>5.4e-08</td>\n",
       "    </tr>\n",
       "    <tr>\n",
       "      <th>8216</th>\n",
       "      <td>6.3e+02</td>\n",
       "      <td>[0.0, 0.0, 50.0]</td>\n",
       "      <td>[0.0, 20.0, 20.0]</td>\n",
       "      <td>3.0e+00+0.0e+00j</td>\n",
       "      <td>1.0e-04</td>\n",
       "      <td>1.0e+23</td>\n",
       "      <td>3.0e+00+0.0e+00j</td>\n",
       "      <td>2.0e+01</td>\n",
       "      <td>5.4e-08</td>\n",
       "    </tr>\n",
       "    <tr>\n",
       "      <th>19752</th>\n",
       "      <td>6.3e+04</td>\n",
       "      <td>[0.0, 0.0, 50.0]</td>\n",
       "      <td>[0.0, 20.0, 20.0]</td>\n",
       "      <td>3.0e+00+0.0e+00j</td>\n",
       "      <td>1.0e-02</td>\n",
       "      <td>1.0e+23</td>\n",
       "      <td>3.0e+00+0.0e+00j</td>\n",
       "      <td>2.0e+01</td>\n",
       "      <td>5.4e-08</td>\n",
       "    </tr>\n",
       "    <tr>\n",
       "      <th>2456</th>\n",
       "      <td>6.3e+01</td>\n",
       "      <td>[0.0, 0.0, 50.0]</td>\n",
       "      <td>[0.0, 20.0, 20.0]</td>\n",
       "      <td>3.0e+00+0.0e+00j</td>\n",
       "      <td>1.0e-04</td>\n",
       "      <td>1.0e+23</td>\n",
       "      <td>3.0e+00+0.0e+00j</td>\n",
       "      <td>2.0e+01</td>\n",
       "      <td>5.4e-08</td>\n",
       "    </tr>\n",
       "    <tr>\n",
       "      <th>13992</th>\n",
       "      <td>6.3e+03</td>\n",
       "      <td>[0.0, 0.0, 50.0]</td>\n",
       "      <td>[0.0, 20.0, 20.0]</td>\n",
       "      <td>3.0e+00+0.0e+00j</td>\n",
       "      <td>1.0e-02</td>\n",
       "      <td>1.0e+23</td>\n",
       "      <td>3.0e+00+0.0e+00j</td>\n",
       "      <td>2.0e+01</td>\n",
       "      <td>5.4e-08</td>\n",
       "    </tr>\n",
       "  </tbody>\n",
       "</table>\n",
       "<p>34560 rows × 9 columns</p>\n",
       "</div>"
      ],
      "text/plain": [
       "       $\\omega$ [Hz]        $s_j$ [nm]         $r_k$ [nm]  \\\n",
       "25938        6.3e+05  [0.0, 0.0, 50.0]   [0.0, 0.0, 30.0]   \n",
       "14402        6.3e+03  [0.0, 0.0, 50.0]   [0.0, 0.0, 30.0]   \n",
       "14562        6.3e+03  [0.0, 0.0, 50.0]   [0.0, 0.0, 30.0]   \n",
       "26098        6.3e+05  [0.0, 0.0, 50.0]   [0.0, 0.0, 30.0]   \n",
       "14582        6.3e+03  [0.0, 0.0, 50.0]   [0.0, 0.0, 30.0]   \n",
       "...              ...               ...                ...   \n",
       "13976        6.3e+03  [0.0, 0.0, 50.0]  [0.0, 20.0, 20.0]   \n",
       "8216         6.3e+02  [0.0, 0.0, 50.0]  [0.0, 20.0, 20.0]   \n",
       "19752        6.3e+04  [0.0, 0.0, 50.0]  [0.0, 20.0, 20.0]   \n",
       "2456         6.3e+01  [0.0, 0.0, 50.0]  [0.0, 20.0, 20.0]   \n",
       "13992        6.3e+03  [0.0, 0.0, 50.0]  [0.0, 20.0, 20.0]   \n",
       "\n",
       "       $\\epsilon_{\\mathrm{s}}$  $\\sigma$ [S/m]  $\\rho$ [1/m$^3$]  \\\n",
       "25938         3.0e+00+0.0e+00j         1.0e-08           1.0e+19   \n",
       "14402         3.0e+00+0.0e+00j         1.0e-10           1.0e+19   \n",
       "14562         1.0e+01+0.0e+00j         1.0e-10           1.0e+19   \n",
       "26098         1.0e+01+0.0e+00j         1.0e-08           1.0e+19   \n",
       "14582         1.0e+01+0.0e+00j         1.0e-08           1.0e+21   \n",
       "...                        ...             ...               ...   \n",
       "13976         3.0e+00+0.0e+00j         1.0e-04           1.0e+23   \n",
       "8216          3.0e+00+0.0e+00j         1.0e-04           1.0e+23   \n",
       "19752         3.0e+00+0.0e+00j         1.0e-02           1.0e+23   \n",
       "2456          3.0e+00+0.0e+00j         1.0e-04           1.0e+23   \n",
       "13992         3.0e+00+0.0e+00j         1.0e-02           1.0e+23   \n",
       "\n",
       "       $\\epsilon_{\\mathrm{d}}$  $h_{\\mathrm{s}}$ [nm]  $\\epsilon$  \n",
       "25938         1.0e+02+0.0e+00j                2.0e+01     4.0e-03  \n",
       "14402         1.0e+02+0.0e+00j                2.0e+01     4.0e-03  \n",
       "14562         1.0e+02+0.0e+00j                2.0e+01     3.7e-03  \n",
       "26098         1.0e+02+0.0e+00j                2.0e+01     3.7e-03  \n",
       "14582         1.0e+02+0.0e+00j                2.0e+01     3.5e-03  \n",
       "...                        ...                    ...         ...  \n",
       "13976         3.0e+00+0.0e+00j                2.0e+01     5.4e-08  \n",
       "8216          3.0e+00+0.0e+00j                2.0e+01     5.4e-08  \n",
       "19752         3.0e+00+0.0e+00j                2.0e+01     5.4e-08  \n",
       "2456          3.0e+00+0.0e+00j                2.0e+01     5.4e-08  \n",
       "13992         3.0e+00+0.0e+00j                2.0e+01     5.4e-08  \n",
       "\n",
       "[34560 rows x 9 columns]"
      ]
     },
     "execution_count": 94,
     "metadata": {},
     "output_type": "execute_result"
    }
   ],
   "source": [
    "pd.options.display.float_format = '{:,.1e}'.format\n",
    "df1.sort_values(by='$\\epsilon$', ascending=False)"
   ]
  },
  {
   "cell_type": "code",
   "execution_count": 95,
   "id": "3d8c6060",
   "metadata": {},
   "outputs": [
    {
     "data": {
      "image/png": "[encoded data removed]",
      "text/plain": [
       "<Figure size 640x480 with 1 Axes>"
      ]
     },
     "metadata": {},
     "output_type": "display_data"
    }
   ],
   "source": [
    "plt.semilogy(sorted(df1['$\\epsilon$']))\n",
    "plt.show()"
   ]
  },
  {
   "cell_type": "markdown",
   "id": "7ebf1a8d",
   "metadata": {},
   "source": [
    "# Results"
   ]
  },
  {
   "cell_type": "markdown",
   "id": "009460d3",
   "metadata": {},
   "source": [
    "Let's perform some run-time-per-value computations:"
   ]
  },
  {
   "cell_type": "code",
   "execution_count": 100,
   "id": "89c57004",
   "metadata": {},
   "outputs": [
    {
     "data": {
      "text/plain": [
       "11.371527777777779"
      ]
     },
     "execution_count": 100,
     "metadata": {},
     "output_type": "execute_result"
    }
   ],
   "source": [
    "(6 * 60 + 33) * 1000 / 34560"
   ]
  },
  {
   "cell_type": "code",
   "execution_count": 101,
   "id": "41ec8923",
   "metadata": {},
   "outputs": [
    {
     "data": {
      "text/plain": [
       "9.143518518518519"
      ]
     },
     "execution_count": 101,
     "metadata": {},
     "output_type": "execute_result"
    }
   ],
   "source": [
    "(5 * 60 + 16) * 1000 / 34560"
   ]
  },
  {
   "cell_type": "markdown",
   "id": "91fc2e0d",
   "metadata": {},
   "source": [
    "The following table summarizes our unit tests. \\\n",
    "The calculations were carried out with `BREAKPOINTS = 10`.  \\\n",
    "In the table, \"run time\" refers to user CPU time.\n",
    "\n",
    "| sample type | values varied | no. values | run time | run time per value | $\\epsilon_{\\mathrm{max}}$ | \n",
    "| --- | --- | --- | --- | --- | --- |\n",
    "| I | $\\boldsymbol{s}_j$, $\\boldsymbol{r}_k$, $\\omega$, $\\epsilon_{\\mathrm{s}}$, $\\rho$, $\\sigma$,  $\\epsilon_{\\mathrm{d}}$,  $h_{\\mathrm{s}}$ | 34560 | 6m 33s|  11.4 ms | 0.40% |\n",
    "| II | $\\boldsymbol{s}_j$, $\\boldsymbol{r}_k$, $\\omega$, $\\epsilon_{\\mathrm{s}}$, $\\rho$, $\\sigma$, $\\epsilon_{\\mathrm{d}}$,  $h_{\\mathrm{d}}$ | 34560 | 5m 16s |  9.1 ms | 0.10% |\n",
    "| III | $\\boldsymbol{s}_j$, $\\boldsymbol{r}_k$, $\\omega$, $\\epsilon_{\\mathrm{s}}$, $\\rho$, $\\sigma$ | 36288\t| 3m 15s | 5.4 ms | 0.04% | \n",
    "\n"
   ]
  },
  {
   "cell_type": "markdown",
   "id": "edce1b9c",
   "metadata": {},
   "source": [
    "# Discussion"
   ]
  },
  {
   "cell_type": "markdown",
   "id": "d411f417",
   "metadata": {},
   "source": [
    "Using 10 breakpoints in the computation of the integrals, the root-mean-square error in the $K_n$ integrals is worse for Type I and Type II samples than for Type III samples, but is nevertheless below 0.5%.  The run time for Type I and II samples is a factor of two longer than for Type III samples. We conclude that the accuracy and run time of the Type I and Type II sample $K_n$ calculations are sufficiently good to warrant analyzing data.\n",
    "\n",
    "Next step: Add Type I and Type II sample calculations to `twodimCobject` in `dissipation13e.py`."
   ]
  },
  {
   "cell_type": "markdown",
   "id": "145d4da6",
   "metadata": {},
   "source": [
    "::: {.content-hidden when-format=\"html\"}\n",
    "\n",
    "# Formatting notes\n",
    "\n",
    "The header at the top of this file is for creating a nicely-formatted `.html` document using the program `quarto` ([link](https://quarto.org/)).  To create nicely-formated `.html`versions of this notebook, run `quarto` from the command line as follows\n",
    "\n",
    "    quarto render dissipation-theory--Study-64.ipynb && open dissipation-theory--Study-64.html\n",
    "    \n",
    ":::"
   ]
  },
  {
   "cell_type": "code",
   "execution_count": null,
   "id": "a808ffba",
   "metadata": {},
   "outputs": [],
   "source": []
  }
 ],
 "metadata": {
  "kernelspec": {
   "display_name": "dissipationtheory",
   "language": "python",
   "name": "dissipationtheory"
  },
  "language_info": {
   "codemirror_mode": {
    "name": "ipython",
    "version": 3
   },
   "file_extension": ".py",
   "mimetype": "text/x-python",
   "name": "python",
   "nbconvert_exporter": "python",
   "pygments_lexer": "ipython3",
   "version": "3.10.2"
  },
  "toc": {
   "base_numbering": 1,
   "nav_menu": {},
   "number_sections": true,
   "sideBar": true,
   "skip_h1_title": false,
   "title_cell": "Table of Contents",
   "title_sidebar": "Contents",
   "toc_cell": false,
   "toc_position": {
    "height": "calc(100% - 180px)",
    "left": "10px",
    "top": "150px",
    "width": "235.797px"
   },
   "toc_section_display": true,
   "toc_window_display": true
  }
 },
 "nbformat": 4,
 "nbformat_minor": 5
}
