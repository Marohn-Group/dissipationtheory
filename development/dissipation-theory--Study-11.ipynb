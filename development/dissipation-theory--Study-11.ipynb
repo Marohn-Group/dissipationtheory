{
 "cells": [
  {
   "cell_type": "markdown",
   "id": "a64d2321-7ecb-409b-bfe4-4521042e224a",
   "metadata": {},
   "source": [
    "* Name: `dissipation-theory--Study-11.ipynb`\n",
    "* Author: John A. Marohn\n",
    "* Date: 2023-11-14\n",
    "* Continued from: `dissipation-theory--Study-10.ipynb`\n",
    "* Continued from: `2023-10-03--jam99--20230808-ringdown-NiOx-U551--Study-1.ipynb`\n",
    "* Continued to: ---\n",
    "* Summary: Calculate dissipation versus height over a sample with properties similar to Rachael's PM6:Y6 and compare to Marohn's analytical expression derived in the thick-sample limit."
   ]
  },
  {
   "cell_type": "markdown",
   "id": "63b37504-c0d6-40b1-aa84-99f11ccb9c26",
   "metadata": {},
   "source": [
    "# Preliminaries"
   ]
  },
  {
   "cell_type": "code",
   "execution_count": 1,
   "id": "a76e5056-8775-4e6b-b5bd-dfe5bdc381bb",
   "metadata": {},
   "outputs": [],
   "source": [
    "import numpy as np\n",
    "import matplotlib.pyplot as plt"
   ]
  },
  {
   "cell_type": "code",
   "execution_count": 2,
   "id": "f17805b9-1398-4a3b-830c-c9d2847c4e37",
   "metadata": {},
   "outputs": [],
   "source": [
    "from dissipationtheory.constants import ureg, qe\n",
    "from dissipationtheory.dissipation import CantileverModelJit, SampleModel1Jit\n",
    "from dissipationtheory.dissipation import theta1norm_jit, gamma_perpendicular_jit, gamma_perpendicular_approx"
   ]
  },
  {
   "cell_type": "code",
   "execution_count": 3,
   "id": "415e7c65-de1b-4897-9516-9a5a875b83ea",
   "metadata": {},
   "outputs": [],
   "source": [
    "from dissipationtheory.constants import epsilon0\n",
    "from dissipationtheory.capacitance import Csphere"
   ]
  },
  {
   "cell_type": "code",
   "execution_count": 4,
   "id": "afef03f8-9cfc-4826-b1ee-1bba0e67391e",
   "metadata": {},
   "outputs": [],
   "source": [
    "THIS = 'dissipation-theory--Study-11'"
   ]
  },
  {
   "cell_type": "markdown",
   "id": "aa84465d-3fdf-49ec-ac81-fd514bc98b74",
   "metadata": {},
   "source": [
    "# Numerical computation using Lekkala and Loring's theory"
   ]
  },
  {
   "cell_type": "markdown",
   "id": "02994803-b9b6-4105-a502-2bafddad4107",
   "metadata": {},
   "source": [
    "Following the computation in `dissipation-theory--Study-10.ipynb`, consider a semiconductor sample with\n",
    "\n",
    "* thickness $h_{\\mathrm{s}} = 110 \\: \\mathrm{nm}$\n",
    "* complex relative dielectric constant $\\epsilon_{\\mathrm{s}} = 3.4 - 0. j$\n",
    "* charge density $\\rho = 1 \\times 10^{24} \\: \\mathrm{m}^{-3}$\n",
    "* charge mobility $\\mu = 10^{-4} \\: \\mathrm{cm}^2 \\: \\mathrm{V}^{-1} \\mathrm{s}^{-1}$\n",
    "  \n",
    "and a cantilever with\n",
    "\n",
    "* resonance frequency $f_{\\mathrm{c}} = 75 \\: \\mathrm{kHz}$\n",
    "* tip voltage $V_{\\mathrm{ts}} = 1 \\: \\mathrm{V}$\n",
    "* radius $r = 30 \\: \\mathrm{nm}$\n",
    "* tip-sample separation $h = 120 \\: \\mathrm{nm}$\n",
    "\n",
    "The semiconductor is backed by a metal, which we will model as a dielectric with relative dielectric constant $\\epsilon_{\\mathrm{d}} = 10^{6}$.   \n",
    "\n",
    "Use Lekkala and Loring's `Model 1` to compute the perpendicular friction $\\gamma_{\\perp}$ versus charge density $\\rho$.  Plot $\\gamma_{\\perp}$ *vs.* $\\rho$ and then versus conductivity $\\sigma = e \\mu \\rho$."
   ]
  },
  {
   "cell_type": "code",
   "execution_count": 5,
   "id": "bf244c54-5014-475d-8c0e-13e3a1d76032",
   "metadata": {},
   "outputs": [],
   "source": [
    "hs = ureg.Quantity(110, 'nanometer')   # measured\n",
    "epsilons = complex(3.4, 0.)            # reasonable guess\n",
    "rho = ureg.Quantity(1e24,'m^{-3}')     # wild guess\n",
    "mu = ureg.Quantity(1e-4, 'cm^2/(s V)') # representative number\n",
    "\n",
    "fc = ureg.Quantity(75, 'kHz')       # measured\n",
    "Vts = ureg.Quantity(1, 'volt')      # measured\n",
    "r = ureg.Quantity(30, 'nanometer')  # spec\n",
    "h = ureg.Quantity(120, 'nanometer') # measured"
   ]
  },
  {
   "cell_type": "markdown",
   "id": "2f87561c-8eee-47da-98b0-d7a9a27647c8",
   "metadata": {},
   "source": [
    "Print out the charge density in various units."
   ]
  },
  {
   "cell_type": "code",
   "execution_count": 6,
   "id": "cf7f72a0-999a-42ea-bebf-8f4a0b60bf46",
   "metadata": {},
   "outputs": [
    {
     "name": "stdout",
     "output_type": "stream",
     "text": [
      "charge density = +1.00e+18 1/cm³\n",
      "charge density = +1.00e+24 1/m³\n"
     ]
    }
   ],
   "source": [
    "print('charge density = {:+.2e~P}'.format(rho.to('cm^{-3}')))\n",
    "print('charge density = {:+.2e~P}'.format(rho.to('m^{-3}')))"
   ]
  },
  {
   "cell_type": "markdown",
   "id": "21c9d411-5963-4dcd-a676-1165bc6b5f95",
   "metadata": {},
   "source": [
    "Compute the associated coductivity and print it out in the same units as in Rachael's draft paper."
   ]
  },
  {
   "cell_type": "code",
   "execution_count": 7,
   "id": "304322bf-a774-4ce6-84e4-135e8789762a",
   "metadata": {},
   "outputs": [],
   "source": [
    "sigma = (qe * mu * rho).to('S/m')"
   ]
  },
  {
   "cell_type": "code",
   "execution_count": 8,
   "id": "1af66215-daa5-4167-aaba-a458007109aa",
   "metadata": {},
   "outputs": [
    {
     "name": "stdout",
     "output_type": "stream",
     "text": [
      "conductivity = +1.60 mS/m\n"
     ]
    }
   ],
   "source": [
    "print('conductivity = {:+.2f~P}'.format(sigma.to('mS/m')))"
   ]
  },
  {
   "cell_type": "markdown",
   "id": "2f251192-5561-48d5-bcf1-3f394aeba912",
   "metadata": {},
   "source": [
    "Now set up the simulation."
   ]
  },
  {
   "cell_type": "code",
   "execution_count": 9,
   "id": "51e01d8e-37f0-4104-b205-db559d496ab4",
   "metadata": {},
   "outputs": [],
   "source": [
    "sample1_jit = SampleModel1Jit(\n",
    "    cantilever=CantileverModelJit(\n",
    "        fc.to('Hz').magnitude, \n",
    "        Vts.to('V').magnitude,  \n",
    "        r.to('m').magnitude, \n",
    "        h.to('m').magnitude), \n",
    "    epsilon_s=epsilons,\n",
    "    h_s=hs.to('m').magnitude,\n",
    "    mu=mu.to('m^2/(s V)').magnitude,\n",
    "    rho=rho.to('m^{-3}').magnitude,\n",
    "    epsilon_d=complex(1.0e6, 0.),\n",
    "    z_r=h.to('m').magnitude)"
   ]
  },
  {
   "cell_type": "markdown",
   "id": "1bbbc0ef-3d6f-4867-8e00-adc4b8d99d44",
   "metadata": {},
   "source": [
    "Do a first simulation of friction versus charge density."
   ]
  },
  {
   "cell_type": "code",
   "execution_count": 10,
   "id": "f4ae193e-44fd-4bf6-bcfa-a0d08dc04772",
   "metadata": {},
   "outputs": [],
   "source": [
    "rho_= ureg.Quantity(np.logspace(start=17, stop=27, num=50), '1/m^3')\n",
    "sigma_ = (qe * mu * rho_).to('1/(ohm m)')"
   ]
  },
  {
   "cell_type": "code",
   "execution_count": 11,
   "id": "dfbe23f9",
   "metadata": {},
   "outputs": [
    {
     "name": "stdout",
     "output_type": "stream",
     "text": [
      "CPU times: user 474 ms, sys: 11.8 ms, total: 486 ms\n",
      "Wall time: 516 ms\n"
     ]
    }
   ],
   "source": [
    "%%time\n",
    "result1 = {\n",
    "    'rho': rho_,\n",
    "    'sigma': sigma_,\n",
    "    'gamma': ureg.Quantity(np.zeros_like(rho_), 'pN s/m')\n",
    "}\n",
    "\n",
    "for index, rho__ in enumerate(rho_):\n",
    "\n",
    "        sample1_jit.rho = rho__.to('1/m^3').magnitude\n",
    "        result1['gamma'][index] = gamma_perpendicular_jit(theta1norm_jit, sample1_jit).to('pN s/m')"
   ]
  },
  {
   "cell_type": "markdown",
   "id": "af79f42a",
   "metadata": {},
   "source": [
    "Plot the computed friction versus charge density."
   ]
  },
  {
   "cell_type": "code",
   "execution_count": 12,
   "id": "a4b94cd3-d64b-40bb-a975-f69c153ed64e",
   "metadata": {},
   "outputs": [
    {
     "data": {
      "image/png": "[encoded data removed]",
      "text/plain": [
       "<Figure size 325x275 with 1 Axes>"
      ]
     },
     "metadata": {},
     "output_type": "display_data"
    }
   ],
   "source": [
    "fig = plt.figure(figsize=(3.25, 2.75))\n",
    "plt.loglog(\n",
    "    result1['rho'].to('1/m^3').magnitude,\n",
    "    result1['gamma'].to('pN s/m').magnitude,\n",
    "    '.')\n",
    "plt.xlabel(r'charge density $\\rho$ [m$^{-3}$]')  # need a raw string here because \\r is the special carriage return character\n",
    "plt.ylabel('friction $\\gamma_{\\perp}$ [pN s/m]')\n",
    "plt.tight_layout()\n",
    "\n",
    "plt.savefig(THIS + '--Fig-1a.png', dpi=300)\n",
    "plt.savefig(THIS + '--Fig-1a.pdf')\n",
    "\n",
    "plt.show()"
   ]
  },
  {
   "cell_type": "markdown",
   "id": "9521705d-03b4-4572-9d22-978972064a65",
   "metadata": {},
   "source": [
    "The estimated charge density of $10^{24} \\: \\mathrm{m}^{-3}$ is *above* the friction maximum, beyond the low-density limit.  Uh-oh."
   ]
  },
  {
   "cell_type": "markdown",
   "id": "f71d40e0-cd4e-4b68-a8d6-b8b21bcf194d",
   "metadata": {},
   "source": [
    "# Analytical computation using Dwyer's model (first pass)"
   ]
  },
  {
   "cell_type": "markdown",
   "id": "4a5b932b-f2d2-4f71-a6a1-aef8c5f30867",
   "metadata": {},
   "source": [
    "Make an array of sample heights that is just one element long.  Do this because the function `Cphere` expects an array of heights."
   ]
  },
  {
   "cell_type": "code",
   "execution_count": 13,
   "id": "8936498e-a4fe-4992-85dc-f99788ae0b78",
   "metadata": {},
   "outputs": [],
   "source": [
    "h_ = ureg.Quantity(np.array([h.to('m').magnitude]), 'm') \n",
    "c0 = Csphere(0, height=h_, radius=r, nterm=21)\n",
    "c1 = Csphere(1, height=h_, radius=r, nterm=21)"
   ]
  },
  {
   "cell_type": "code",
   "execution_count": 14,
   "id": "d04aac8e-cd56-4683-b929-ec52601a3faf",
   "metadata": {},
   "outputs": [
    {
     "data": {
      "text/plain": [
       "(array([3.70925067e-18]) <Unit('coulomb / volt')>,\n",
       " array([-2.75910095e-12]) <Unit('coulomb / meter / volt')>)"
      ]
     },
     "execution_count": 14,
     "metadata": {},
     "output_type": "execute_result"
    }
   ],
   "source": [
    "(c0, c1)"
   ]
  },
  {
   "cell_type": "markdown",
   "id": "5b9dabbc-7921-4d16-bc7e-284eeadeefd4",
   "metadata": {},
   "source": [
    "Introduce the height to the center of the tip charge, $d = h + r$.  Compute the resistance and capacitance proportionality constants."
   ]
  },
  {
   "cell_type": "code",
   "execution_count": 15,
   "id": "dae16915-8c34-461e-8836-c88d9a0d5c01",
   "metadata": {},
   "outputs": [],
   "source": [
    "d = h + r\n",
    "kR = ( (2 * np.pi * c1**2) / (c0**2/(2 * d**3) - c0*c1/(d**2) + c1**2/d)).to('m')\n",
    "kC = (kR - c0/(epsilon0 * epsilons.real)).to('m')"
   ]
  },
  {
   "cell_type": "code",
   "execution_count": 16,
   "id": "ef168da4-5d52-4f87-bdb9-f7fcf1c15862",
   "metadata": {},
   "outputs": [
    {
     "data": {
      "text/plain": [
       "(array([1.88024273e-08]) <Unit('meter')>,\n",
       " array([-1.04411142e-07]) <Unit('meter')>)"
      ]
     },
     "execution_count": 16,
     "metadata": {},
     "output_type": "execute_result"
    }
   ],
   "source": [
    "(kR, kC)"
   ]
  },
  {
   "cell_type": "markdown",
   "id": "5654f470-1d4c-40d7-9658-e68dfaad759c",
   "metadata": {},
   "source": [
    "Why is $k_{\\mathrm{C}}$ *negative*?  This seems unphysical."
   ]
  },
  {
   "cell_type": "code",
   "execution_count": 17,
   "id": "aa5ba846-e47d-405f-89c9-8349d14b15f2",
   "metadata": {},
   "outputs": [],
   "source": [
    "Rs = 1/(sigma_ * kR)\n",
    "Cs = epsilon0 * epsilons.real * kC"
   ]
  },
  {
   "cell_type": "code",
   "execution_count": 18,
   "id": "68edea62-4ecc-482e-b3f1-4a890579c422",
   "metadata": {},
   "outputs": [
    {
     "data": {
      "text/plain": [
       "(array([3.31952306e+17, 2.07488512e+17, 1.29691772e+17, 8.10645155e+16,\n",
       "        5.06697963e+16, 3.16714193e+16, 1.97963851e+16, 1.23738333e+16,\n",
       "        7.73432875e+15, 4.83438235e+15, 3.02175579e+15, 1.88876415e+15,\n",
       "        1.18058184e+15, 7.37928808e+14, 4.61246233e+14, 2.88304353e+14,\n",
       "        1.80206133e+14, 1.12638779e+14, 7.04054537e+13, 4.40072944e+13,\n",
       "        2.75069879e+13, 1.71933856e+13, 1.07468150e+13, 6.71735249e+12,\n",
       "        4.19871605e+12, 2.62442927e+12, 1.64041314e+12, 1.02534875e+12,\n",
       "        6.40899562e+11, 4.00597599e+11, 2.50395610e+11, 1.56511076e+11,\n",
       "        9.78280607e+10, 6.11479373e+10, 3.82208357e+10, 2.38901318e+10,\n",
       "        1.49326510e+10, 9.33373102e+09, 5.83409704e+09, 3.64663265e+09,\n",
       "        2.27934667e+09, 1.42471747e+09, 8.90527054e+08, 5.56628559e+08,\n",
       "        3.47923571e+08, 2.17471435e+08, 1.35931650e+08, 8.49647834e+07,\n",
       "        5.31076791e+07, 3.31952306e+07]) <Unit('ohm')>,\n",
       " array([-3.14321791e-18]) <Unit('coulomb / volt')>)"
      ]
     },
     "execution_count": 18,
     "metadata": {},
     "output_type": "execute_result"
    }
   ],
   "source": [
    "(Rs, Cs)"
   ]
  },
  {
   "cell_type": "markdown",
   "id": "da1ad699-f504-46d2-a132-f9b2b99e8410",
   "metadata": {},
   "source": [
    "Why is $C_{\\mathrm{s}}$ *negative*?  Again, unphysical.  Proceed anyway."
   ]
  },
  {
   "cell_type": "code",
   "execution_count": 19,
   "id": "f51e1290-e168-4aa1-b740-c38cf2698cea",
   "metadata": {},
   "outputs": [],
   "source": [
    "result1['gamma Dwyer'] = ((c1**2 * Vts**2 * Rs) / (1 + (2 * np.pi * fc)**2 * Rs**2 * (c0 + Cs)**2)).to('pN s/m')"
   ]
  },
  {
   "cell_type": "code",
   "execution_count": 20,
   "id": "5016a1f5-8b7e-4a61-8ed6-5e572eff0787",
   "metadata": {},
   "outputs": [
    {
     "data": {
      "image/png": "[encoded data removed]",
      "text/plain": [
       "<Figure size 325x275 with 1 Axes>"
      ]
     },
     "metadata": {},
     "output_type": "display_data"
    }
   ],
   "source": [
    "fig = plt.figure(figsize=(3.25, 2.75))\n",
    "plt.loglog(\n",
    "    result1['rho'].to('1/m^3').magnitude,\n",
    "    result1['gamma'].to('pN s/m').magnitude,\n",
    "    '.')\n",
    "plt.loglog(\n",
    "    result1['rho'].to('1/m^3').magnitude,\n",
    "    result1['gamma Dwyer'].to('pN s/m').magnitude,\n",
    "    '-')\n",
    "plt.xlabel(r'charge density $\\rho$ [m$^{-3}$]')  # need a raw string here because \\r is the special carriage return character\n",
    "plt.ylabel('friction $\\gamma_{\\perp}$ [pN s/m]')\n",
    "plt.tight_layout()\n",
    "\n",
    "plt.savefig(THIS + '--Fig-1b.png', dpi=300)\n",
    "plt.savefig(THIS + '--Fig-1b.pdf')\n",
    "\n",
    "plt.show()"
   ]
  },
  {
   "cell_type": "markdown",
   "id": "86e3aee0-db6e-4dc7-9122-a026cff84ddd",
   "metadata": {},
   "source": [
    "In spite of $C_{\\mathrm{s}}$ being negative, my ansatz for $C_{\\mathrm{s}}$ and $R_{\\mathrm{s}}$ predicts the correct friction in the high-density limit.  Surprisingly, the ansatz does less well in the low-density limit, the limiting case the ansatz was initially developed for. \n",
    "\n",
    "**Conclusion**.  Revisit my paper-and-pencil ansats for $C_{\\mathrm{s}}$ and $R_{\\mathrm{s}}$.  Why is $C_{\\mathrm{s}}$ coming out negative?"
   ]
  }
 ],
 "metadata": {
  "kernelspec": {
   "display_name": "Python 3 (ipykernel)",
   "language": "python",
   "name": "python3"
  },
  "language_info": {
   "codemirror_mode": {
    "name": "ipython",
    "version": 3
   },
   "file_extension": ".py",
   "mimetype": "text/x-python",
   "name": "python",
   "nbconvert_exporter": "python",
   "pygments_lexer": "ipython3",
   "version": "3.8.5"
  },
  "toc": {
   "base_numbering": 1,
   "nav_menu": {},
   "number_sections": true,
   "sideBar": true,
   "skip_h1_title": false,
   "title_cell": "Table of Contents",
   "title_sidebar": "Contents",
   "toc_cell": false,
   "toc_position": {},
   "toc_section_display": true,
   "toc_window_display": false
  }
 },
 "nbformat": 4,
 "nbformat_minor": 5
}
