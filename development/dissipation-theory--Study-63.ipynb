{
 "cells": [
  {
   "cell_type": "raw",
   "id": "b40084e2",
   "metadata": {},
   "source": [
    "---\n",
    "title: A new integration algorithm and more unit testing of Type III sample computations\n",
    "author: \"John A. Marohn\"\n",
    "date: today\n",
    "abstract: Unit testing of the $K_n$ functions `dissipation11e.py` revealed that the agreement between the (fast) new integration scheme in `dissipation11e.py` and the (slow) integration scheme in `scipy.integrate` was unacceptably poor at low frequency, especially for the imaginary part of the integral.  Here we examine the integrand and devise an improved fast integration scheme based on a logarithmic change of variables.  This new integration algorithm is coded in `dissipation12e.py`, with some preliminary unit tests coded in `test_dissipation12e.py`.  Below we carry out comprehenvive unit testing of the $K_n$ functions by looping over 36288 combinations of the variables $\\boldsymbol{s}_j$, $\\boldsymbol{r}_k$, $\\omega$, $\\epsilon_{\\mathrm{s}}$, $\\rho$, and $\\sigma$.  Breaking the integrand into 10 sub-intervals, we achieve an rms error in the six (real and imaginary) $K_1$, $K_2$, and $K_3$ values of $\\epsilon \\leq 0.036$%.  Each integration takes less than 8 ms.\n",
    "toc: true\n",
    "number-sections: true\n",
    "highlight-style: pygments\n",
    "embed-resources: true\n",
    "dpi: 300\n",
    "format:\n",
    "    html:\n",
    "        html-math-method:\n",
    "          method: mathjax\n",
    "          url: \"https://cdn.jsdelivr.net/npm/mathjax@3/es5/tex-mml-chtml.js\"\n",
    "        code-fold: true\n",
    "        code-tools: true\n",
    "jupyter: python3\n",
    "---"
   ]
  },
  {
   "cell_type": "markdown",
   "id": "f3f3c4f1",
   "metadata": {},
   "source": [
    "# Preliminaries"
   ]
  },
  {
   "cell_type": "code",
   "execution_count": 1,
   "id": "5ef97e61",
   "metadata": {},
   "outputs": [],
   "source": [
    "import numpy as np\n",
    "import scipy\n",
    "from scipy import integrate\n",
    "import matplotlib.pylab as plt\n",
    "import pandas as pd"
   ]
  },
  {
   "cell_type": "code",
   "execution_count": 2,
   "id": "f6f55109",
   "metadata": {},
   "outputs": [],
   "source": [
    "from dissipationtheory.constants import ureg, epsilon0, qe, kb, Troom\n",
    "from dissipationtheory.dissipation9a import CantileverModel, SampleModel3\n",
    "from dissipationtheory.dissipation9b import SampleModel3Jit\n",
    "from dissipationtheory.dissipation9b import integrand3jit\n",
    "from dissipationtheory.dissipation9b import K_jit, Kp\n",
    "from dissipationtheory.dissipation11e import KmatrixIII_jit, rpIII_jit"
   ]
  },
  {
   "cell_type": "code",
   "execution_count": 3,
   "id": "404523f6",
   "metadata": {},
   "outputs": [],
   "source": [
    "from numba import jit"
   ]
  },
  {
   "cell_type": "markdown",
   "id": "f0a15b22",
   "metadata": {},
   "source": [
    "# Reproduce $K_n$ calculation\n",
    "\n",
    "Reproduce a $K_n$ calculation from `test_dissipationtheory11e.py`.  \\\n",
    "Do this calculation at a frequeny and position where the agrement between the `K_jit` and `KmatrixIII_jit` results is especially bad."
   ]
  },
  {
   "cell_type": "code",
   "execution_count": 4,
   "id": "a92537b2",
   "metadata": {},
   "outputs": [],
   "source": [
    "cantilever = CantileverModel(\n",
    "        f_c = ureg.Quantity(62, 'kHz'),\n",
    "        k_c = ureg.Quantity(2.8, 'N/m'), \n",
    "        V_ts = ureg.Quantity(1, 'V'), \n",
    "        R = ureg.Quantity(60, 'nm'),\n",
    "        angle = ureg.Quantity(20, 'degree'),\n",
    "        L = ureg.Quantity(1000, 'nm'))"
   ]
  },
  {
   "cell_type": "code",
   "execution_count": 5,
   "id": "1128444f",
   "metadata": {},
   "outputs": [],
   "source": [
    "sample3 = SampleModel3(\n",
    "    cantilever = cantilever,\n",
    "    epsilon_s = ureg.Quantity(complex(20, 2), ''),\n",
    "    sigma = ureg.Quantity(1e-7, 'S/m'),\n",
    "    rho = ureg.Quantity(1e21, '1/m^3'),\n",
    "    z_r = ureg.Quantity(1, 'nm'))"
   ]
  },
  {
   "cell_type": "code",
   "execution_count": 6,
   "id": "839df827",
   "metadata": {},
   "outputs": [],
   "source": [
    "sample3_jit = SampleModel3Jit(**sample3.args())"
   ]
  },
  {
   "cell_type": "code",
   "execution_count": 7,
   "id": "4b1b0864",
   "metadata": {},
   "outputs": [],
   "source": [
    "loc1_nm = np.array([  0,  0, 20], dtype=np.float64)\n",
    "loc2_nm = np.array([  0, 10, 20], dtype=np.float64)\n",
    "\n",
    "loc1_m = 1e-9 * loc1_nm\n",
    "loc2_m = 1e-9 * loc2_nm"
   ]
  },
  {
   "cell_type": "code",
   "execution_count": 8,
   "id": "0971ee4c",
   "metadata": {},
   "outputs": [],
   "source": [
    "omega = 1e2 * 2 * np.pi"
   ]
  },
  {
   "cell_type": "code",
   "execution_count": 9,
   "id": "2c3fa74e",
   "metadata": {},
   "outputs": [],
   "source": [
    "params3_jit = {\n",
    "    'integrand': integrand3jit, \n",
    "    'sample': sample3_jit, \n",
    "    'omega': omega, \n",
    "    'location1': loc1_m, \n",
    "    'location2': loc2_m}"
   ]
  },
  {
   "cell_type": "code",
   "execution_count": 10,
   "id": "c7830282",
   "metadata": {},
   "outputs": [],
   "source": [
    "K0a, K1a, K2a = K_jit(**params3_jit)\n",
    "a = np.array([K0a, K1a, K2a])"
   ]
  },
  {
   "cell_type": "code",
   "execution_count": 11,
   "id": "d2db8300",
   "metadata": {},
   "outputs": [],
   "source": [
    "j0s = scipy.special.jn_zeros(0, 100.0)\n",
    "an, _ = scipy.integrate.newton_cotes(20, 1)\n",
    "\n",
    "args = {\n",
    "    \"omega\": omega,\n",
    "    \"omega0\": params3_jit['sample'].omega0,\n",
    "    \"kD\": params3_jit['sample'].kD,\n",
    "    \"es\": params3_jit['sample'].epsilon_s,\n",
    "    \"sj\": np.array([loc1_nm]),\n",
    "    \"rk\": np.array([loc2_nm]),\n",
    "    \"j0s\": j0s,\n",
    "    \"an\": an}"
   ]
  },
  {
   "cell_type": "code",
   "execution_count": 12,
   "id": "e32c9e44",
   "metadata": {},
   "outputs": [],
   "source": [
    "K0b, K1b, K2b = KmatrixIII_jit(**args)\n",
    "b = np.array([K0b[0][0], K1b[0][0], K2b[0][0]])"
   ]
  },
  {
   "cell_type": "markdown",
   "id": "8b8f196d",
   "metadata": {},
   "source": [
    "Compare the results."
   ]
  },
  {
   "cell_type": "code",
   "execution_count": 13,
   "id": "7ccdd74b",
   "metadata": {},
   "outputs": [],
   "source": [
    "def comparetwoK(a,b):\n",
    "    \n",
    "    for idx, (Ka, Kb) in enumerate(zip(a,b)):\n",
    "\n",
    "        err_real = (Ka.real-Kb.real)/Ka.real        \n",
    "        print('Re[K[{:d}]] {:+0.6e} {:+0.6e}, err = {:+8.4f} %'.format(idx, Ka.real, Kb.real, 100 * err_real))\n",
    "\n",
    "    print(\"\")\n",
    "    for idx, (Ka, Kb) in enumerate(zip(a,b)):\n",
    "        err_imag = (Ka.imag-Kb.imag)/Ka.imag\n",
    "        print('Im[K[{:d}]] {:+0.6e} {:+0.6e}, err = {:+8.4f} %'.format(idx, Ka.imag, Kb.imag, 100 * err_imag))   "
   ]
  },
  {
   "cell_type": "code",
   "execution_count": 14,
   "id": "a7a93efe",
   "metadata": {},
   "outputs": [
    {
     "name": "stdout",
     "output_type": "stream",
     "text": [
      "Re[K[0]] +2.221329e-02 +2.221771e-02, err =  -0.0199 %\n",
      "Re[K[1]] +5.185144e-04 +5.185531e-04, err =  -0.0075 %\n",
      "Re[K[2]] +2.358781e-05 +2.358776e-05, err =  +0.0002 %\n",
      "\n",
      "Im[K[0]] +9.785809e-06 +1.501736e-05, err = -53.4606 %\n",
      "Im[K[1]] +4.313617e-06 +4.290606e-06, err =  +0.5335 %\n",
      "Im[K[2]] +2.254914e-07 +2.251478e-07, err =  +0.1524 %\n"
     ]
    }
   ],
   "source": [
    "comparetwoK(a,b)"
   ]
  },
  {
   "cell_type": "markdown",
   "id": "227b3fcf",
   "metadata": {},
   "source": [
    "# Plot the $K_0$ integrand"
   ]
  },
  {
   "cell_type": "markdown",
   "id": "6c69a996",
   "metadata": {},
   "source": [
    "Plot the functions contributing to the $K_0$ integrand."
   ]
  },
  {
   "cell_type": "code",
   "execution_count": 15,
   "id": "dc5fc56f",
   "metadata": {},
   "outputs": [
    {
     "name": "stdout",
     "output_type": "stream",
     "text": [
      "x = 0.25\n"
     ]
    }
   ],
   "source": [
    "zjkref = loc1_nm[2] + loc2_nm[2]\n",
    "x = np.sqrt((loc1_nm[0] - loc2_nm[0])**2 + (loc1_nm[1] - loc2_nm[1])**2) / zjkref\n",
    "\n",
    "print(\"x =\", x)\n",
    "\n",
    "y_array = np.logspace(-5, 3, 10000)\n",
    "r1_array = np.zeros_like(y_array, dtype=np.complex128)\n",
    "r2_array = np.zeros_like(y_array, dtype=np.complex128)\n",
    "r3_array = np.zeros_like(y_array, dtype=np.complex128)\n",
    "\n",
    "for index, y in enumerate(y_array):\n",
    "    \n",
    "    args = {\n",
    "        'y': y,\n",
    "        'omega': omega, \n",
    "        'omega0': params3_jit['sample'].omega0,\n",
    "        'zr': zjkref,\n",
    "        'kD': params3_jit['sample'].kD, \n",
    "        'es': params3_jit['sample'].epsilon_s}\n",
    "\n",
    "    r1_array[index] = rpIII_jit(**args)\n",
    "    r2_array[index] = scipy.special.j0(y * x) * np.exp(-y)\n",
    "    r3_array[index] = scipy.special.j0(y * x) * rpIII_jit(**args) * np.exp(-y)"
   ]
  },
  {
   "cell_type": "code",
   "execution_count": 16,
   "id": "7e3882d3",
   "metadata": {},
   "outputs": [
    {
     "data": {
      "image/png": "[encoded data removed]",
      "text/plain": [
       "<Figure size 650x250 with 2 Axes>"
      ]
     },
     "metadata": {},
     "output_type": "display_data"
    }
   ],
   "source": [
    "fig, (ax1, ax2) = plt.subplots(1,2,figsize=(6.5,2.5))\n",
    "\n",
    "ax1.semilogx(y_array, np.real(r1_array), '-', label='Re[$r_p(y)$]')\n",
    "ax1.semilogx(y_array, np.real(r2_array), '-', label='Re[$e^{-y} j_{0}(y x)$]')\n",
    "ax1.semilogx(y_array, np.real(r3_array), '-', label='Re[$r_p(y) \\: e^{-y} j_{0}(y x)$]')\n",
    "ax1.legend(fontsize=8, frameon=False)\n",
    "ax1.set_xlabel('y')\n",
    "\n",
    "ax2.semilogx(y_array, np.imag(r1_array), '-', label='Im[$r_p(y)$]')\n",
    "ax2.semilogx(y_array, np.imag(r2_array), '-', label='Im[$e^{-y} j_{0}(y x)$]')\n",
    "ax2.semilogx(y_array, np.imag(r3_array), '-', label='Im[$r_p(y) \\: e^{-y} j_{0}(y x)$]')\n",
    "ax2.legend(fontsize=8, frameon=False)\n",
    "ax2.set_xlabel('y')\n",
    "\n",
    "fig.tight_layout()\n",
    "plt.show()"
   ]
  },
  {
   "cell_type": "markdown",
   "id": "93952b49",
   "metadata": {},
   "source": [
    "# Compute the integral using a Riemannian sum\n",
    "\n",
    "As a reality check, see if we can get the right answer by implementing a brute-force Riemannian sum."
   ]
  },
  {
   "cell_type": "markdown",
   "id": "62f3ed01",
   "metadata": {},
   "source": [
    "## Logarithmically spaced $y$ axis"
   ]
  },
  {
   "cell_type": "markdown",
   "id": "8cbe178b",
   "metadata": {},
   "source": [
    "I get reasonable agreement, better than 1%, using 1000 *logarithmically* spaced $y$ points. \\\n",
    "Interestingly, the agreement is *uniformly good* for $K_0$, $K_1$, and $K_2$. \\\n",
    "That is, $K_0$, $K_1$, and $K_2$ each have about the same percentage error."
   ]
  },
  {
   "cell_type": "code",
   "execution_count": 17,
   "id": "33e4c02f",
   "metadata": {},
   "outputs": [],
   "source": [
    "zjkref = loc1_nm[2] + loc2_nm[2]\n",
    "x = np.sqrt((loc1_nm[0] - loc2_nm[0])**2 + (loc1_nm[1] - loc2_nm[1])**2) / zjkref\n",
    "\n",
    "y_array = np.logspace(-5, 3, 1000)\n",
    "r1_array = np.zeros_like(y_array, dtype=np.complex128)\n",
    "r2_array = np.zeros_like(y_array, dtype=np.complex128)\n",
    "r3_array = np.zeros_like(y_array, dtype=np.complex128)\n",
    "\n",
    "for index, y in enumerate(y_array):\n",
    "    \n",
    "    args = {\n",
    "        'y': y,\n",
    "        'omega': omega, \n",
    "        'omega0': params3_jit['sample'].omega0,\n",
    "        'zr': zjkref,\n",
    "        'kD': params3_jit['sample'].kD, \n",
    "        'es': params3_jit['sample'].epsilon_s}\n",
    "\n",
    "    r1_array[index] = scipy.special.j0(y * x) * rpIII_jit(**args) * np.exp(-y) / zjkref\n",
    "    r2_array[index] = y * scipy.special.j0(y * x) * rpIII_jit(**args) * np.exp(-y) / zjkref**2\n",
    "    r3_array[index] = y**2 * scipy.special.j0(y * x) * rpIII_jit(**args) * np.exp(-y) / zjkref**3"
   ]
  },
  {
   "cell_type": "code",
   "execution_count": 18,
   "id": "cd723bc7",
   "metadata": {},
   "outputs": [],
   "source": [
    "c1 = np.array([np.sum(r1_array[1:] * np.diff(y_array)),\n",
    "               np.sum(r2_array[1:] * np.diff(y_array)),\n",
    "               np.sum(r3_array[1:] * np.diff(y_array))])"
   ]
  },
  {
   "cell_type": "code",
   "execution_count": 19,
   "id": "27938174",
   "metadata": {},
   "outputs": [
    {
     "name": "stdout",
     "output_type": "stream",
     "text": [
      "Re[K[0]] +2.221329e-02 +2.200951e-02, err =  +0.9174 %\n",
      "Re[K[1]] +5.185144e-04 +5.137632e-04, err =  +0.9163 %\n",
      "Re[K[2]] +2.358781e-05 +2.337167e-05, err =  +0.9163 %\n",
      "\n",
      "Im[K[0]] +9.785809e-06 +9.707613e-06, err =  +0.7991 %\n",
      "Im[K[1]] +4.313617e-06 +4.274090e-06, err =  +0.9163 %\n",
      "Im[K[2]] +2.254914e-07 +2.234252e-07, err =  +0.9163 %\n"
     ]
    }
   ],
   "source": [
    "comparetwoK(a,c1)"
   ]
  },
  {
   "cell_type": "markdown",
   "id": "1a0b59ca",
   "metadata": {},
   "source": [
    "## Linearly spaced $y$ axis"
   ]
  },
  {
   "cell_type": "markdown",
   "id": "7fb967cf",
   "metadata": {},
   "source": [
    "The agreement is poor, especially for Im[$K_0$], if I use *linearly* spaced $y$ points."
   ]
  },
  {
   "cell_type": "code",
   "execution_count": 20,
   "id": "532868ee",
   "metadata": {},
   "outputs": [
    {
     "name": "stdout",
     "output_type": "stream",
     "text": [
      "CPU times: user 34 ms, sys: 3.05 ms, total: 37 ms\n",
      "Wall time: 42 ms\n"
     ]
    }
   ],
   "source": [
    "%%time\n",
    "\n",
    "zjkref = loc1_nm[2] + loc2_nm[2]\n",
    "x = np.sqrt((loc1_nm[0] - loc2_nm[0])**2 + (loc1_nm[1] - loc2_nm[1])**2) / zjkref\n",
    "\n",
    "y_array = np.linspace(0, 20, 1000)\n",
    "r1_array = np.zeros_like(y_array, dtype=np.complex128)\n",
    "r2_array = np.zeros_like(y_array, dtype=np.complex128)\n",
    "r3_array = np.zeros_like(y_array, dtype=np.complex128)\n",
    "\n",
    "for index, y in enumerate(y_array):\n",
    "    \n",
    "    args = {\n",
    "        'y': y,\n",
    "        'omega': omega, \n",
    "        'omega0': params3_jit['sample'].omega0,\n",
    "        'zr': zjkref,\n",
    "        'kD': params3_jit['sample'].kD, \n",
    "        'es': params3_jit['sample'].epsilon_s}\n",
    "\n",
    "    r1_array[index] = scipy.special.j0(y * x) * rpIII_jit(**args) * np.exp(-y) / zjkref\n",
    "    r2_array[index] = y * scipy.special.j0(y * x) * rpIII_jit(**args) * np.exp(-y) / zjkref**2\n",
    "    r3_array[index] = y**2 * scipy.special.j0(y * x) * rpIII_jit(**args) * np.exp(-y) / zjkref**3"
   ]
  },
  {
   "cell_type": "code",
   "execution_count": 21,
   "id": "e712b7b9",
   "metadata": {},
   "outputs": [],
   "source": [
    "c2 = np.array([np.sum(r1_array[1:] * np.diff(y_array)),\n",
    "               np.sum(r2_array[1:] * np.diff(y_array)),\n",
    "               np.sum(r3_array[1:] * np.diff(y_array))])"
   ]
  },
  {
   "cell_type": "code",
   "execution_count": 22,
   "id": "0253c901",
   "metadata": {},
   "outputs": [
    {
     "name": "stdout",
     "output_type": "stream",
     "text": [
      "Re[K[0]] +2.221329e-02 +2.197894e-02, err =  +1.0550 %\n",
      "Re[K[1]] +5.185144e-04 +5.184948e-04, err =  +0.0038 %\n",
      "Re[K[2]] +2.358781e-05 +2.358781e-05, err =  -0.0000 %\n",
      "\n",
      "Im[K[0]] +9.785809e-06 +2.103861e-05, err = -114.9911 %\n",
      "Im[K[1]] +4.313617e-06 +4.314575e-06, err =  -0.0222 %\n",
      "Im[K[2]] +2.254914e-07 +2.254914e-07, err =  -0.0000 %\n"
     ]
    }
   ],
   "source": [
    "comparetwoK(a,c2)"
   ]
  },
  {
   "cell_type": "markdown",
   "id": "79497b0a",
   "metadata": {},
   "source": [
    "# Recapitulate the `scipy.quad_vec` integration"
   ]
  },
  {
   "cell_type": "markdown",
   "id": "022f21fc",
   "metadata": {},
   "source": [
    "As a double-check, recapitulate the `scipy.quad_vec` integration."
   ]
  },
  {
   "cell_type": "code",
   "execution_count": 23,
   "id": "11970743",
   "metadata": {},
   "outputs": [],
   "source": [
    "def func(y, x, omega, omega0, zr, kD, es):\n",
    "    \n",
    "    def t1(ell):\n",
    "        return y**ell\n",
    "    \n",
    "    t2 = rpIII_jit(y, omega, omega0, zr, kD, es)\n",
    "    t3 = scipy.special.j0(y * x) * np.exp(-y)\n",
    "                 \n",
    "    return np.array(\n",
    "        [np.real(t1(0) * t2 * t3) / zr,\n",
    "         np.imag(t1(0) * t2 * t3) / zr,\n",
    "         np.real(t1(1) * t2 * t3) / zr**2,\n",
    "         np.imag(t1(1) * t2 * t3) / zr**2,\n",
    "         np.real(t1(2) * t2 * t3) / zr**3,\n",
    "         np.imag(t1(2) * t2 * t3) / zr**3])"
   ]
  },
  {
   "cell_type": "code",
   "execution_count": 24,
   "id": "eba22930",
   "metadata": {},
   "outputs": [
    {
     "name": "stdout",
     "output_type": "stream",
     "text": [
      "CPU times: user 10.4 ms, sys: 689 µs, total: 11.1 ms\n",
      "Wall time: 10.9 ms\n"
     ]
    },
    {
     "data": {
      "text/plain": [
       "array([2.22132866e-02+9.78580913e-06j, 5.18514425e-04+4.31361676e-06j,\n",
       "       2.35878082e-05+2.25491372e-07j])"
      ]
     },
     "execution_count": 24,
     "metadata": {},
     "output_type": "execute_result"
    }
   ],
   "source": [
    "%%time\n",
    "\n",
    "ans = integrate.quad_vec(func, \n",
    "    0., np.inf,\n",
    "    args=(x,\n",
    "          omega,\n",
    "          params3_jit['sample'].omega0,\n",
    "          zjkref,\n",
    "          params3_jit['sample'].kD,\n",
    "          params3_jit['sample'].epsilon_s))[0] @ Kp\n",
    "\n",
    "ans"
   ]
  },
  {
   "cell_type": "code",
   "execution_count": 25,
   "id": "8da1beba",
   "metadata": {},
   "outputs": [],
   "source": [
    "d = np.array([ans[0], ans[1], ans[2]])"
   ]
  },
  {
   "cell_type": "markdown",
   "id": "144e1ba3",
   "metadata": {},
   "source": [
    "Compare to the results returned by `K_jit` (they should be identical)."
   ]
  },
  {
   "cell_type": "code",
   "execution_count": 26,
   "id": "4a6a6613",
   "metadata": {},
   "outputs": [
    {
     "name": "stdout",
     "output_type": "stream",
     "text": [
      "Re[K[0]] +2.221329e-02 +2.221329e-02, err =  -0.0000 %\n",
      "Re[K[1]] +5.185144e-04 +5.185144e-04, err =  -0.0000 %\n",
      "Re[K[2]] +2.358781e-05 +2.358781e-05, err =  -0.0000 %\n",
      "\n",
      "Im[K[0]] +9.785809e-06 +9.785809e-06, err =  +0.0000 %\n",
      "Im[K[1]] +4.313617e-06 +4.313617e-06, err =  -0.0000 %\n",
      "Im[K[2]] +2.254914e-07 +2.254914e-07, err =  -0.0000 %\n"
     ]
    }
   ],
   "source": [
    "comparetwoK(a,d)"
   ]
  },
  {
   "cell_type": "markdown",
   "id": "9620f8bd",
   "metadata": {},
   "source": [
    "# A change of variables\n",
    "\n",
    "Transform the integral using $w = \\log(y)$ with $\\log$ the natural logarithm. \\\n",
    "See my handwritten notes 2025-09-01.  \\\n",
    "Basically, we are writing the integral as follows:\n",
    "\n",
    "\\begin{equation}\n",
    "\\tilde{K}_{\\ell} = \\left( \\frac{z_{\\mathrm{r}}}{z_{k,j}^{\\mathrm{ref}}} \\right)^{\\ell + 1}\n",
    " \\int_{0}^{\\infty} dy \\, \n",
    "   y^{\\ell} \n",
    "   e^{-y}\n",
    "   J_0 (y x) \\: \n",
    "   r_{p} ( \\frac{y}{z_{k,j}^{\\mathrm{ref}}}, \\omega )\n",
    "\\end{equation}\n",
    "\n",
    "as\n",
    "\n",
    "\\begin{equation}\n",
    "\\tilde{K}_{\\ell} = \\left( \\frac{z_{\\mathrm{r}}}{z_{k,j}^{\\mathrm{ref}}} \\right)^{\\ell + 1}\n",
    " \\int_{-\\infty}^{\\infty} dw \\, \n",
    "   \\left( e^{w} \\right)^{\\ell} e^{w - e^w}\n",
    "   J_0 (e^{w} x) \\: \n",
    "   r_{p} ( \\frac{e^{w}}{z_{k,j}^{\\mathrm{ref}}}, \\omega )\n",
    "\\end{equation}\n",
    "\n",
    "using the transformation $y = e^w$ or, equivalently, $w = \\log{y}$."
   ]
  },
  {
   "cell_type": "code",
   "execution_count": 27,
   "id": "cc1e5a42",
   "metadata": {},
   "outputs": [],
   "source": [
    "def gunc(w, x, omega, omega0, zr, kD, es):\n",
    "    \n",
    "    def t1(ell):\n",
    "        return np.exp(w * (ell + 1) - np.exp(w))\n",
    "    \n",
    "    t2 = scipy.special.j0(np.exp(w) * x)\n",
    "    t3 = rpIII_jit(np.exp(w), omega, omega0, zr, kD, es)\n",
    "    \n",
    "    return np.array(\n",
    "        [np.real(t1(0) * t2 * t3) / zr,\n",
    "         np.imag(t1(0) * t2 * t3) / zr,\n",
    "         np.real(t1(1) * t2 * t3) / zr**2,\n",
    "         np.imag(t1(1) * t2 * t3) / zr**2,\n",
    "         np.real(t1(2) * t2 * t3) / zr**3,\n",
    "         np.imag(t1(2) * t2 * t3) / zr**3])"
   ]
  },
  {
   "cell_type": "markdown",
   "id": "f56a6ddf",
   "metadata": {},
   "source": [
    "What should the lower limit of integration be? \\\n",
    "In my notes handwritten 2025-07-01.03, I recommended $y$ limits of ($10^{-7}$, $20$).  \\\n",
    "In $w$ space, the corresponding limits are"
   ]
  },
  {
   "cell_type": "code",
   "execution_count": 28,
   "id": "017a8a86",
   "metadata": {},
   "outputs": [
    {
     "data": {
      "text/plain": [
       "(-16.11809565095832, 2.995732273553991)"
      ]
     },
     "execution_count": 28,
     "metadata": {},
     "output_type": "execute_result"
    }
   ],
   "source": [
    "(np.log(1e-7), np.log(20.))"
   ]
  },
  {
   "cell_type": "markdown",
   "id": "2d4e712f",
   "metadata": {},
   "source": [
    "Empirically I find that decreasing the lower limit from $w = -16$ to $-20$ in the code below decreases the Im[$K_0$] error from 8 ppm to less than 1 ppm. \\\n",
    "The new lower $w$ limit corresponds to a lower $y$ limit of $2 \\times 10^{-9}$."
   ]
  },
  {
   "cell_type": "code",
   "execution_count": 29,
   "id": "f1d9e117",
   "metadata": {},
   "outputs": [
    {
     "data": {
      "text/plain": [
       "(-20.030118656386467, 2.995732273553991)"
      ]
     },
     "execution_count": 29,
     "metadata": {},
     "output_type": "execute_result"
    }
   ],
   "source": [
    "(np.log(2e-9), np.log(20.))"
   ]
  },
  {
   "cell_type": "markdown",
   "id": "36b0eab2",
   "metadata": {},
   "source": [
    "Let us verify that the above integral gives the correct answer when integrated using `integrate.quad_vec` from `scipy`."
   ]
  },
  {
   "cell_type": "code",
   "execution_count": 30,
   "id": "f5f4cfb8",
   "metadata": {},
   "outputs": [
    {
     "name": "stdout",
     "output_type": "stream",
     "text": [
      "CPU times: user 19.1 ms, sys: 607 µs, total: 19.7 ms\n",
      "Wall time: 20.2 ms\n"
     ]
    },
    {
     "data": {
      "text/plain": [
       "array([2.22132866e-02+9.78581154e-06j, 5.18514427e-04+4.31361678e-06j,\n",
       "       2.35878091e-05+2.25491382e-07j])"
      ]
     },
     "execution_count": 30,
     "metadata": {},
     "output_type": "execute_result"
    }
   ],
   "source": [
    "%%time\n",
    "\n",
    "ans = integrate.quad_vec(gunc, \n",
    "    -20, 3,\n",
    "    args=(x,\n",
    "          omega,\n",
    "          params3_jit['sample'].omega0,\n",
    "          zjkref,\n",
    "          params3_jit['sample'].kD,\n",
    "          params3_jit['sample'].epsilon_s))[0] @ Kp\n",
    "\n",
    "ans"
   ]
  },
  {
   "cell_type": "code",
   "execution_count": 31,
   "id": "402834f8",
   "metadata": {},
   "outputs": [],
   "source": [
    "e = np.array([ans[0], ans[1], ans[2]])"
   ]
  },
  {
   "cell_type": "code",
   "execution_count": 32,
   "id": "eac5c112",
   "metadata": {},
   "outputs": [
    {
     "name": "stdout",
     "output_type": "stream",
     "text": [
      "Re[K[0]] +2.221329e-02 +2.221329e-02, err =  +0.0000 %\n",
      "Re[K[1]] +5.185144e-04 +5.185144e-04, err =  -0.0000 %\n",
      "Re[K[2]] +2.358781e-05 +2.358781e-05, err =  -0.0000 %\n",
      "\n",
      "Im[K[0]] +9.785809e-06 +9.785812e-06, err =  -0.0000 %\n",
      "Im[K[1]] +4.313617e-06 +4.313617e-06, err =  -0.0000 %\n",
      "Im[K[2]] +2.254914e-07 +2.254914e-07, err =  -0.0000 %\n"
     ]
    }
   ],
   "source": [
    "comparetwoK(a,e)"
   ]
  },
  {
   "cell_type": "markdown",
   "id": "e76dd37d",
   "metadata": {},
   "source": [
    "We get the expected answer within a margin of error smaller than 1 ppm. \\\n",
    "This finding indicates that we have written the integrand, in transformed form, correctly."
   ]
  },
  {
   "cell_type": "markdown",
   "id": "65cbed25",
   "metadata": {},
   "source": [
    "# New integration method\n",
    "\n",
    "Mimic the function in `KmatrixIII_jit` but now integrate using the transformed variable $w$ instead of $y$. \\\n",
    "Let us divide the $w$ space into subregions of integration using `np.linspace`. \\\n",
    "This corresponds to employing *logarithmic* divisions in $y$ space.\n"
   ]
  },
  {
   "cell_type": "code",
   "execution_count": 33,
   "id": "209c1298",
   "metadata": {},
   "outputs": [],
   "source": [
    "@jit(nopython=True)\n",
    "def KmatrixIII_jit_new(omega, omega0, kD, es, sj, rk, j0s, an, verbose=False):\n",
    "    \"\"\"The unitless response-function matrices for a Type III semiconductor sample.\"\"\"\n",
    "\n",
    "    y_min = 2.0e-9\n",
    "    y_max = 20.0\n",
    "    N = len(an) - 1\n",
    "    \n",
    "    K0 = np.zeros((len(sj),len(rk)), dtype=np.complex128)\n",
    "    K1 = np.zeros((len(sj),len(rk)), dtype=np.complex128)\n",
    "    K2 = np.zeros((len(sj),len(rk)), dtype=np.complex128)\n",
    "\n",
    "    # Loop over image-charge points\n",
    "    \n",
    "    for k, rke in enumerate(rk):    \n",
    "\n",
    "        # Loop over voltage-test points\n",
    "        \n",
    "        for j, sje in enumerate(sj):\n",
    "\n",
    "            zjkref = sje[2] + rke[2]\n",
    "            x = np.sqrt((sje[0] - rke[0])**2 + (sje[1] - rke[1])**2) / zjkref\n",
    "\n",
    "            # Determine breakpoints\n",
    "            # Adjust number of breakpoint points to increase accuracy; \n",
    "            # 6 or more is recommended\n",
    "            \n",
    "            BREAKPOINTS = 10\n",
    "            \n",
    "            mask = j0s/(x + 1.0e-6) < y_max\n",
    "            zero_y_locations = j0s[mask] / x\n",
    "     \n",
    "            wb = np.hstack(\n",
    "                (np.linspace(np.log(y_min), np.log(y_max), BREAKPOINTS),\n",
    "                 np.log(zero_y_locations)))\n",
    "            wb = np.sort(wb)\n",
    "            \n",
    "            \n",
    "            if verbose:\n",
    "                \n",
    "                print('mandatory breakpoints = ', np.linspace(np.log(y_min), np.log(y_max), BREAKPOINTS))\n",
    "                print('Bessel zero breakpoints = ', np.log(zero_y_locations))\n",
    "                print('sorted breakpoints = ', wb)\n",
    "            \n",
    "            result0 = np.zeros(len(wb)-1, dtype=np.complex128)\n",
    "            result1 = np.zeros(len(wb)-1, dtype=np.complex128)\n",
    "            result2 = np.zeros(len(wb)-1, dtype=np.complex128)\n",
    "\n",
    "            # Loop over subintervals\n",
    "            \n",
    "            for index in np.arange(len(wb)-1):\n",
    "                \n",
    "                w_vector = np.linspace(wb[index], wb[index+1], N+1)\n",
    "                dw = (wb[index+1] - wb[index])/N\n",
    "\n",
    "                integral0 = np.zeros_like(w_vector, dtype=np.complex128)\n",
    "                integral1 = np.zeros_like(w_vector, dtype=np.complex128)\n",
    "                integral2 = np.zeros_like(w_vector, dtype=np.complex128)\n",
    "\n",
    "                # Loop over y-axis points in the subinterval\n",
    "                \n",
    "                for m, w in enumerate(w_vector):\n",
    "\n",
    "                    t0 = np.exp(w)\n",
    "                    t1 = np.exp(w - t0)\n",
    "                    t2 = scipy.special.j0(t0 * x)\n",
    "                    t3 = rpIII_jit(t0, omega, omega0, zjkref, kD, es)\n",
    "                    \n",
    "                    integral0[m] = t1 * t2 * t3\n",
    "                    integral1[m] = t0 * integral0[m]\n",
    "                    integral2[m] = t0 * integral1[m]                    \n",
    "                    \n",
    "                # Sum with Newton-Cotes weights\n",
    "                \n",
    "                result0[index] = dw * (an * integral0).sum()  \n",
    "                result1[index] = dw * (an * integral1).sum()\n",
    "                result2[index] = dw * (an * integral2).sum()\n",
    "                \n",
    "            if verbose:\n",
    "                print(result0)\n",
    "                print(result1)\n",
    "                print(result2)\n",
    "\n",
    "            K0[j,k] = result0.sum() / zjkref**1\n",
    "            K1[j,k] = result1.sum() / zjkref**2\n",
    "            K2[j,k] = result2.sum() / zjkref**3\n",
    "            \n",
    "    return K0, K1, K2"
   ]
  },
  {
   "cell_type": "markdown",
   "id": "d7b04de7",
   "metadata": {},
   "source": [
    "Check the accuracy of the new integration method. \\\n",
    "We can see (`verbose=True`) that the breakpoints are indeed equally spaced in $w$ space. \\\n",
    "We can also see that the integrandchanges sign after the Bessel-function zero breakpoint, as expected."
   ]
  },
  {
   "cell_type": "code",
   "execution_count": 34,
   "id": "4b99a687",
   "metadata": {},
   "outputs": [
    {
     "name": "stdout",
     "output_type": "stream",
     "text": [
      "mandatory breakpoints =  [-20.03011866 -17.47169078 -14.91326289 -12.35483501  -9.79640713\n",
      "  -7.23797925  -4.67955137  -2.12112349   0.43730439   2.99573227]\n",
      "Bessel zero breakpoints =  [2.26377173]\n",
      "sorted breakpoints =  [-20.03011866 -17.47169078 -14.91326289 -12.35483501  -9.79640713\n",
      "  -7.23797925  -4.67955137  -2.12112349   0.43730439   2.26377173\n",
      "   2.99573227]\n",
      "[ 2.23933370e-08-1.09365241e-09j  2.89221020e-07-1.41250498e-08j\n",
      "  3.73542486e-06-1.82429672e-07j  4.82434905e-05-2.35577587e-06j\n",
      "  6.22859022e-04-3.03603307e-05j  8.00634117e-03-3.81227693e-04j\n",
      "  9.72342146e-02-3.29192689e-03j  6.11327038e-01+2.41873427e-03j\n",
      "  1.71295455e-01+1.67883318e-03j -6.73832621e-06-6.68522655e-08j]\n",
      "[ 3.11614405e-16-1.52187161e-17j  5.19804047e-14-2.53863168e-15j\n",
      "  8.67083025e-12-4.23462465e-13j  1.44633029e-09-7.06230996e-11j\n",
      "  2.41151798e-07-1.17489953e-08j  3.99889522e-05-1.89212680e-06j\n",
      "  6.17641172e-03-1.86609213e-04j  4.05262484e-01+2.98415015e-03j\n",
      "  4.18220989e-01+4.10691476e-03j -7.70337554e-05-7.64273922e-07j]\n",
      "[ 5.39606419e-24-2.63534569e-25j  1.16254651e-20-5.67767225e-22j\n",
      "  2.50462282e-17-1.22319535e-18j  5.39583181e-14-2.63468080e-15j\n",
      "  1.16190007e-10-5.65918060e-12j  2.48669245e-07-1.17208480e-08j\n",
      "  4.91392053e-04-1.37684699e-05j  3.62180921e-01+3.15897284e-03j\n",
      "  1.14783837e+00+1.12950974e-02j -8.91141865e-04-8.84135838e-06j]\n"
     ]
    }
   ],
   "source": [
    "j0s = scipy.special.jn_zeros(0, 100.0)\n",
    "an, _ = scipy.integrate.newton_cotes(20, 1)\n",
    "\n",
    "args = {\n",
    "    \"omega\": omega,\n",
    "    \"omega0\": params3_jit['sample'].omega0,\n",
    "    \"kD\": params3_jit['sample'].kD,\n",
    "    \"es\": params3_jit['sample'].epsilon_s,\n",
    "    \"sj\": np.array([loc1_nm]),\n",
    "    \"rk\": np.array([loc2_nm]),\n",
    "    \"j0s\": j0s,\n",
    "    \"an\": an,\n",
    "    \"verbose\": True}\n",
    "\n",
    "K0f, K1f, K2f = KmatrixIII_jit_new(**args)\n",
    "f = np.array([K0f[0][0], K1f[0][0], K2f[0][0]])"
   ]
  },
  {
   "cell_type": "markdown",
   "id": "6dbea865",
   "metadata": {},
   "source": [
    "The errors are dramatically improved. \\\n",
    "The error in Im[$K_0$], for example, has gone from $-53.5$ % to $-0.0226$ %, improving by a factor of more than $10^{4}$."
   ]
  },
  {
   "cell_type": "code",
   "execution_count": 35,
   "id": "1c164549",
   "metadata": {},
   "outputs": [
    {
     "name": "stdout",
     "output_type": "stream",
     "text": [
      "Re[K[0]] +2.221329e-02 +2.221329e-02, err =  +0.0000 %\n",
      "Re[K[1]] +5.185144e-04 +5.185144e-04, err =  -0.0000 %\n",
      "Re[K[2]] +2.358781e-05 +2.358781e-05, err =  -0.0000 %\n",
      "\n",
      "Im[K[0]] +9.785809e-06 +9.785807e-06, err =  +0.0000 %\n",
      "Im[K[1]] +4.313617e-06 +4.313617e-06, err =  -0.0000 %\n",
      "Im[K[2]] +2.254914e-07 +2.254914e-07, err =  -0.0000 %\n"
     ]
    }
   ],
   "source": [
    "comparetwoK(a,f)"
   ]
  },
  {
   "cell_type": "markdown",
   "id": "0960e0ab",
   "metadata": {},
   "source": [
    "Timing test, comparing the execution time of the old function to that of the new function."
   ]
  },
  {
   "cell_type": "code",
   "execution_count": 36,
   "id": "fc7b725f",
   "metadata": {},
   "outputs": [],
   "source": [
    "args = {\n",
    "    \"omega\": omega,\n",
    "    \"omega0\": params3_jit['sample'].omega0,\n",
    "    \"kD\": params3_jit['sample'].kD,\n",
    "    \"es\": params3_jit['sample'].epsilon_s,\n",
    "    \"sj\": np.array([loc1_nm]),\n",
    "    \"rk\": np.array([loc2_nm]),\n",
    "    \"j0s\": j0s,\n",
    "    \"an\": an}"
   ]
  },
  {
   "cell_type": "code",
   "execution_count": 37,
   "id": "d76f569d",
   "metadata": {},
   "outputs": [
    {
     "name": "stdout",
     "output_type": "stream",
     "text": [
      "22.8 µs ± 447 ns per loop (mean ± std. dev. of 7 runs, 10,000 loops each)\n"
     ]
    }
   ],
   "source": [
    "%%timeit\n",
    "KmatrixIII_jit(**args)"
   ]
  },
  {
   "cell_type": "code",
   "execution_count": 38,
   "id": "32d06ebc",
   "metadata": {},
   "outputs": [],
   "source": [
    "args = {\n",
    "    \"omega\": omega,\n",
    "    \"omega0\": params3_jit['sample'].omega0,\n",
    "    \"kD\": params3_jit['sample'].kD,\n",
    "    \"es\": params3_jit['sample'].epsilon_s,\n",
    "    \"sj\": np.array([loc1_nm]),\n",
    "    \"rk\": np.array([loc2_nm]),\n",
    "    \"j0s\": j0s,\n",
    "    \"an\": an,\n",
    "    \"verbose\": False}"
   ]
  },
  {
   "cell_type": "code",
   "execution_count": 39,
   "id": "4d9cad91",
   "metadata": {
    "scrolled": false
   },
   "outputs": [
    {
     "name": "stdout",
     "output_type": "stream",
     "text": [
      "44 µs ± 2.34 µs per loop (mean ± std. dev. of 7 runs, 10,000 loops each)\n"
     ]
    }
   ],
   "source": [
    "%%timeit\n",
    "KmatrixIII_jit_new(**args)"
   ]
  },
  {
   "cell_type": "markdown",
   "id": "d6eeb759",
   "metadata": {},
   "source": [
    "The new integration scheme is approximately 50% slower, with `BREAKPOINTS = 8`. \\\n",
    "This is an acceptable speed, given the dramatic improvement in accuracy."
   ]
  },
  {
   "cell_type": "markdown",
   "id": "adb793df",
   "metadata": {},
   "source": [
    "And, for comparison, we should time `K_jit`, which is what we unit-test against."
   ]
  },
  {
   "cell_type": "code",
   "execution_count": 40,
   "id": "ccb35c4b",
   "metadata": {},
   "outputs": [],
   "source": [
    "params3_jit = {\n",
    "    'integrand': integrand3jit, \n",
    "    'sample': sample3_jit, \n",
    "    'omega': omega, \n",
    "    'location1': loc1_m, \n",
    "    'location2': loc2_m}"
   ]
  },
  {
   "cell_type": "code",
   "execution_count": 41,
   "id": "1b3a66d7",
   "metadata": {},
   "outputs": [
    {
     "name": "stdout",
     "output_type": "stream",
     "text": [
      "5.25 ms ± 174 µs per loop (mean ± std. dev. of 7 runs, 100 loops each)\n"
     ]
    }
   ],
   "source": [
    "%%timeit\n",
    "K_jit(** params3_jit)"
   ]
  },
  {
   "cell_type": "markdown",
   "id": "8412ca38",
   "metadata": {},
   "source": [
    "# Discussion\n",
    "\n",
    "I have incorporated the above code into `dissipation12e.py` and `test_dissipation12e.py`.  Calling\n",
    "\n",
    "    python -m unittest -v test_dissipation12e.py --verbose\n",
    "    \n",
    "computes $K_0$, $K_1$, and $K_2$ for a representative semi-infinite (Type III) semiconductor sample.\n",
    "The $K_n$'s are computed at six frequencies $\\omega$ logarithmically spaced from $10^{1}$ to $10^{6}$ Hz and, at each frequency, a selection of six distances $\\boldsymbol{r}_k$ and $\\boldsymbol{s}_j$.  The distances are at small tip-sample separation, with $\\boldsymbol{r}_k$ along the $z$ axis such that $r_k^x = 0$, $r_k^y = 0$, and $r_k^z = 20$ or $30$ nm.  At each $\\boldsymbol{r}_k$, three $\\boldsymbol{s}_j$ values are examined, with $s_j^x = 0$; $s_k^y = 0$, $20$, or $30$ nm; and $s_j^z = 20$ or $30$ nm, following $r_k^z$. \n",
    "\n",
    "Ideally, we should unit-test the $K_n$ computations over a range of sample conductivities $\\sigma$, charge densities $\\rho$, and dielectric constants $\\epsilon_{\\mathrm{s}}$ as well at various frequencies $\\omega$ and distances $\\boldsymbol{r}_k$ and $\\boldsymbol{s}_j$.  In summary, we have at least six variables to consider.  Allowing six variations for each variable, there are $6^6 = 46,656$ combinations of variables.  Allowing four variations for each variable gives $6^4 = 1296$ combinations.\n",
    "\n",
    "The unit tests should compare the real and imaginary parts of $K_0$, $K_1$, and $K_2$ computed using `K_jit` and `KmatrixIII_jit`.  Each `K_jit` computation takes approximately 8 ms.  Each `KmatrixIII_jit` computation takes less than $50 \\: \\mu$s, which is comparatively negligible.  Below I estimate that carrying out $1,296$ and $46,656$ `K_jit` computations takes under 200 ms and 7 minutes, respectively.  Both these times are reasonable."
   ]
  },
  {
   "cell_type": "code",
   "execution_count": 42,
   "id": "09638da9",
   "metadata": {},
   "outputs": [
    {
     "data": {
      "text/plain": [
       "(0.1728, 6.2208)"
      ]
     },
     "execution_count": 42,
     "metadata": {},
     "output_type": "execute_result"
    }
   ],
   "source": [
    "(np.power(6,4) * 8e-3 / 60, np.power(6,6) * 8e-3 / 60)"
   ]
  },
  {
   "cell_type": "markdown",
   "id": "0c1cb1ee",
   "metadata": {},
   "source": [
    "# Unit testing by looping over many parameters"
   ]
  },
  {
   "cell_type": "markdown",
   "id": "705f9d22",
   "metadata": {},
   "source": [
    "## A better way to loop\n",
    "\n",
    "We want to loop over all possible combinations of three variables."
   ]
  },
  {
   "cell_type": "code",
   "execution_count": 43,
   "id": "90dec835",
   "metadata": {},
   "outputs": [],
   "source": [
    "r = np.array([1, 2, 3])\n",
    "s = np.array([4, 5, 6])\n",
    "t = np.array([7, 8, 9])"
   ]
  },
  {
   "cell_type": "markdown",
   "id": "0d1fe760",
   "metadata": {},
   "source": [
    "How to do this?  Google around and read [here](https://stackoverflow.com/questions/16384109/iterate-over-all-combinations-of-values-in-multiple-lists-in-python)."
   ]
  },
  {
   "cell_type": "code",
   "execution_count": 44,
   "id": "2fd33f7e",
   "metadata": {},
   "outputs": [],
   "source": [
    "import itertools\n",
    "\n",
    "values = list(itertools.product(r, s, t))"
   ]
  },
  {
   "cell_type": "markdown",
   "id": "d9687949",
   "metadata": {},
   "source": [
    "We can see that we get the expected number of tuples, in this case $3^3 = 27$."
   ]
  },
  {
   "cell_type": "code",
   "execution_count": 45,
   "id": "9a8c7dfc",
   "metadata": {},
   "outputs": [
    {
     "data": {
      "text/plain": [
       "27"
      ]
     },
     "execution_count": 45,
     "metadata": {},
     "output_type": "execute_result"
    }
   ],
   "source": [
    "len(values)"
   ]
  },
  {
   "cell_type": "markdown",
   "id": "46c08d13",
   "metadata": {},
   "source": [
    "Listing all the tuples, we see that the last list, in this case `t`, is looped over first. \\\n",
    "This makes intuitive sense, and is how I would proceed manually. \\\n",
    "Nice!"
   ]
  },
  {
   "cell_type": "code",
   "execution_count": 46,
   "id": "c278a979",
   "metadata": {},
   "outputs": [
    {
     "data": {
      "text/plain": [
       "[(1, 4, 7),\n",
       " (1, 4, 8),\n",
       " (1, 4, 9),\n",
       " (1, 5, 7),\n",
       " (1, 5, 8),\n",
       " (1, 5, 9),\n",
       " (1, 6, 7),\n",
       " (1, 6, 8),\n",
       " (1, 6, 9),\n",
       " (2, 4, 7),\n",
       " (2, 4, 8),\n",
       " (2, 4, 9),\n",
       " (2, 5, 7),\n",
       " (2, 5, 8),\n",
       " (2, 5, 9),\n",
       " (2, 6, 7),\n",
       " (2, 6, 8),\n",
       " (2, 6, 9),\n",
       " (3, 4, 7),\n",
       " (3, 4, 8),\n",
       " (3, 4, 9),\n",
       " (3, 5, 7),\n",
       " (3, 5, 8),\n",
       " (3, 5, 9),\n",
       " (3, 6, 7),\n",
       " (3, 6, 8),\n",
       " (3, 6, 9)]"
      ]
     },
     "execution_count": 46,
     "metadata": {},
     "output_type": "execute_result"
    }
   ],
   "source": [
    "values"
   ]
  },
  {
   "cell_type": "markdown",
   "id": "039057ad",
   "metadata": {},
   "source": [
    "Instead of needing nested loops, we can simply loop over the `values` array."
   ]
  },
  {
   "cell_type": "code",
   "execution_count": 47,
   "id": "daece614",
   "metadata": {},
   "outputs": [
    {
     "name": "stdout",
     "output_type": "stream",
     "text": [
      "1 4 7\n",
      "1 4 8\n",
      "1 4 9\n",
      "1 5 7\n",
      "1 5 8\n",
      "1 5 9\n",
      "1 6 7\n",
      "1 6 8\n",
      "1 6 9\n",
      "2 4 7\n",
      "2 4 8\n",
      "2 4 9\n",
      "2 5 7\n",
      "2 5 8\n",
      "2 5 9\n",
      "2 6 7\n",
      "2 6 8\n",
      "2 6 9\n",
      "3 4 7\n",
      "3 4 8\n",
      "3 4 9\n",
      "3 5 7\n",
      "3 5 8\n",
      "3 5 9\n",
      "3 6 7\n",
      "3 6 8\n",
      "3 6 9\n"
     ]
    }
   ],
   "source": [
    "for r, s, t, in values:\n",
    "    print(r,s,t)"
   ]
  },
  {
   "cell_type": "markdown",
   "id": "185e7163",
   "metadata": {},
   "source": [
    "## Looping over distances (small test)"
   ]
  },
  {
   "cell_type": "markdown",
   "id": "a4d0fbfb",
   "metadata": {},
   "source": [
    "Let's rewrite the code in `test_dissipation12e.py` using this better looping approach. \\\n",
    "Set up the cantilever and sample. \\\n",
    "Do this first, since in this first run we are not going to loop over sample parameters."
   ]
  },
  {
   "cell_type": "code",
   "execution_count": 48,
   "id": "f2bcd535",
   "metadata": {},
   "outputs": [],
   "source": [
    "cantilever = CantileverModel(\n",
    "    f_c = ureg.Quantity(62, 'kHz'),\n",
    "    k_c = ureg.Quantity(2.8, 'N/m'), \n",
    "    V_ts = ureg.Quantity(1, 'V'), \n",
    "    R = ureg.Quantity(60, 'nm'),\n",
    "    angle = ureg.Quantity(20, 'degree'),\n",
    "    L = ureg.Quantity(1000, 'nm'))"
   ]
  },
  {
   "cell_type": "markdown",
   "id": "821a25a7",
   "metadata": {},
   "source": [
    "Create arrays of $\\omega$, $\\boldsymbol{s}_j$, and $\\boldsymbol{r}_k$."
   ]
  },
  {
   "cell_type": "code",
   "execution_count": 49,
   "id": "f69df3e4",
   "metadata": {},
   "outputs": [],
   "source": [
    "sj_nm = np.array(\n",
    "    [np.array([  0,  0,  20], dtype=np.float64),\n",
    "     np.array([  0,  0,  30], dtype=np.float64),\n",
    "     np.array([  0,  0, 150], dtype=np.float64)])\n",
    "\n",
    "rk_nm = np.array(\n",
    "    [np.array([  0,  0, 20], dtype=np.float64),\n",
    "     np.array([  0, 10, 20], dtype=np.float64),\n",
    "     np.array([  0, 20, 20], dtype=np.float64),\n",
    "     np.array([  0,  0, 30], dtype=np.float64),\n",
    "     np.array([  0, 15, 30], dtype=np.float64),\n",
    "     np.array([  0, 30, 30], dtype=np.float64)])\n",
    "\n",
    "omegas = 2 * np.pi * np.array(\n",
    "    [1e1, 1e2, 1e3, 1e4, 1e5, 1e6], dtype=np.float64)"
   ]
  },
  {
   "cell_type": "code",
   "execution_count": 50,
   "id": "552086e6",
   "metadata": {},
   "outputs": [
    {
     "data": {
      "text/plain": [
       "108"
      ]
     },
     "execution_count": 50,
     "metadata": {},
     "output_type": "execute_result"
    }
   ],
   "source": [
    "values = list(itertools.product(omegas, sj_nm, rk_nm))\n",
    "len(values)"
   ]
  },
  {
   "cell_type": "markdown",
   "id": "9edac9d2",
   "metadata": {},
   "source": [
    "Precompute Bessel function zeros and integration weights."
   ]
  },
  {
   "cell_type": "code",
   "execution_count": 51,
   "id": "03fd35a6",
   "metadata": {},
   "outputs": [],
   "source": [
    "j0s = scipy.special.jn_zeros(0, 100.0)\n",
    "an, _ = scipy.integrate.newton_cotes(20, 1)"
   ]
  },
  {
   "cell_type": "markdown",
   "id": "bfb6b2d6",
   "metadata": {},
   "source": [
    "Ok.  Ready, set, loop!"
   ]
  },
  {
   "cell_type": "code",
   "execution_count": 52,
   "id": "fcba00fb",
   "metadata": {},
   "outputs": [
    {
     "name": "stdout",
     "output_type": "stream",
     "text": [
      "CPU times: user 626 ms, sys: 65.8 ms, total: 692 ms\n",
      "Wall time: 534 ms\n"
     ]
    }
   ],
   "source": [
    "%%time\n",
    "\n",
    "Kn     = np.zeros((len(values),3), dtype=np.complex128)\n",
    "Kn_jit = np.zeros((len(values),3), dtype=np.complex128)\n",
    "\n",
    "for index, (omega, sj, rk) in enumerate(values):\n",
    "\n",
    "    sample3 = SampleModel3(\n",
    "        cantilever = cantilever,\n",
    "        epsilon_s = ureg.Quantity(complex(20, -2), ''),  # watch the sign\n",
    "        sigma = ureg.Quantity(1e-7, 'S/m'),\n",
    "        rho = ureg.Quantity(1e21, '1/m^3'),\n",
    "        z_r = ureg.Quantity(1, 'nm'))\n",
    "\n",
    "    sample3_jit = SampleModel3Jit(**sample3.args())    \n",
    "    \n",
    "    params_a = {\n",
    "        'integrand': integrand3jit,\n",
    "        'sample': sample3_jit,\n",
    "        'omega': omega,\n",
    "        'location1': 1.0e-9 * sj,\n",
    "        'location2': 1.0e-9 * rk\n",
    "    }\n",
    "    \n",
    "    K0a, K1a, K2a = K_jit(**params_a)\n",
    "    Kn[index] = np.array([K0a, K1a, K2a])\n",
    "    \n",
    "    params_b = {\n",
    "        \"omega\": omega,\n",
    "        \"omega0\": params_a['sample'].omega0,\n",
    "        \"kD\": params_a['sample'].kD,\n",
    "        \"es\": params_a['sample'].epsilon_s,\n",
    "        \"sj\": np.array([sj]),\n",
    "        \"rk\": np.array([rk]),\n",
    "        \"j0s\": j0s,\n",
    "        \"an\": an,\n",
    "        \"verbose\": False}\n",
    "\n",
    "    K0b, K1b, K2b = KmatrixIII_jit_new(**params_b)\n",
    "    Kn_jit[index] = np.array([K0b[0][0], K1b[0][0], K2b[0][0]])\n",
    "    "
   ]
  },
  {
   "cell_type": "markdown",
   "id": "27090f87",
   "metadata": {},
   "source": [
    "For display purposes, create a pandas dataframe."
   ]
  },
  {
   "cell_type": "code",
   "execution_count": 53,
   "id": "8ac26b4f",
   "metadata": {},
   "outputs": [],
   "source": [
    "df = pd.DataFrame(\n",
    "    values, \n",
    "    columns=['$\\omega$ [Hz]', '$s_j$ [nm]', '$r_k$ [nm]'])\n",
    "\n",
    "for index in [0, 1, 2]:\n",
    "    \n",
    "    df['Re[$K_{:1d}'.format(index) + '^{a}$]'] = np.real(Kn[:,index])\n",
    "    df['Re[$K_{:1d}'.format(index) + '^{b}$]'] = np.real(Kn_jit[:,index])\n",
    "\n",
    "    df['Im[$K_{:1d}'.format(index) + '^{a}$]'] = np.imag(Kn[:,index])\n",
    "    df['Im[$K_{:1d}'.format(index) + '^{b}$]'] = np.imag(Kn_jit[:,index])"
   ]
  },
  {
   "cell_type": "code",
   "execution_count": 54,
   "id": "9acacf1f",
   "metadata": {},
   "outputs": [
    {
     "data": {
      "text/html": [
       "<div>\n",
       "<style scoped>\n",
       "    .dataframe tbody tr th:only-of-type {\n",
       "        vertical-align: middle;\n",
       "    }\n",
       "\n",
       "    .dataframe tbody tr th {\n",
       "        vertical-align: top;\n",
       "    }\n",
       "\n",
       "    .dataframe thead th {\n",
       "        text-align: right;\n",
       "    }\n",
       "</style>\n",
       "<table border=\"1\" class=\"dataframe\">\n",
       "  <thead>\n",
       "    <tr style=\"text-align: right;\">\n",
       "      <th></th>\n",
       "      <th>$\\omega$ [Hz]</th>\n",
       "      <th>$s_j$ [nm]</th>\n",
       "      <th>$r_k$ [nm]</th>\n",
       "      <th>Re[$K_0^{a}$]</th>\n",
       "      <th>Re[$K_0^{b}$]</th>\n",
       "      <th>Im[$K_0^{a}$]</th>\n",
       "      <th>Im[$K_0^{b}$]</th>\n",
       "      <th>Re[$K_1^{a}$]</th>\n",
       "      <th>Re[$K_1^{b}$]</th>\n",
       "      <th>Im[$K_1^{a}$]</th>\n",
       "      <th>Im[$K_1^{b}$]</th>\n",
       "      <th>Re[$K_2^{a}$]</th>\n",
       "      <th>Re[$K_2^{b}$]</th>\n",
       "      <th>Im[$K_2^{a}$]</th>\n",
       "      <th>Im[$K_2^{b}$]</th>\n",
       "    </tr>\n",
       "  </thead>\n",
       "  <tbody>\n",
       "    <tr>\n",
       "      <th>0</th>\n",
       "      <td>6.28e+01</td>\n",
       "      <td>[0.0, 0.0, 20.0]</td>\n",
       "      <td>[0.0, 0.0, 20.0]</td>\n",
       "      <td>2.30e-02</td>\n",
       "      <td>2.30e-02</td>\n",
       "      <td>-1.99e-04</td>\n",
       "      <td>-1.99e-04</td>\n",
       "      <td>5.68e-04</td>\n",
       "      <td>5.68e-04</td>\n",
       "      <td>-5.35e-06</td>\n",
       "      <td>-5.35e-06</td>\n",
       "      <td>2.83e-05</td>\n",
       "      <td>2.83e-05</td>\n",
       "      <td>-2.76e-07</td>\n",
       "      <td>-2.76e-07</td>\n",
       "    </tr>\n",
       "    <tr>\n",
       "      <th>1</th>\n",
       "      <td>6.28e+01</td>\n",
       "      <td>[0.0, 0.0, 20.0]</td>\n",
       "      <td>[0.0, 10.0, 20.0]</td>\n",
       "      <td>2.24e-02</td>\n",
       "      <td>2.24e-02</td>\n",
       "      <td>-1.93e-04</td>\n",
       "      <td>-1.93e-04</td>\n",
       "      <td>5.19e-04</td>\n",
       "      <td>5.19e-04</td>\n",
       "      <td>-4.87e-06</td>\n",
       "      <td>-4.87e-06</td>\n",
       "      <td>2.36e-05</td>\n",
       "      <td>2.36e-05</td>\n",
       "      <td>-2.29e-07</td>\n",
       "      <td>-2.29e-07</td>\n",
       "    </tr>\n",
       "    <tr>\n",
       "      <th>2</th>\n",
       "      <td>6.28e+01</td>\n",
       "      <td>[0.0, 0.0, 20.0]</td>\n",
       "      <td>[0.0, 20.0, 20.0]</td>\n",
       "      <td>2.06e-02</td>\n",
       "      <td>2.06e-02</td>\n",
       "      <td>-1.76e-04</td>\n",
       "      <td>-1.76e-04</td>\n",
       "      <td>4.07e-04</td>\n",
       "      <td>4.07e-04</td>\n",
       "      <td>-3.77e-06</td>\n",
       "      <td>-3.77e-06</td>\n",
       "      <td>1.42e-05</td>\n",
       "      <td>1.42e-05</td>\n",
       "      <td>-1.36e-07</td>\n",
       "      <td>-1.36e-07</td>\n",
       "    </tr>\n",
       "    <tr>\n",
       "      <th>3</th>\n",
       "      <td>6.28e+01</td>\n",
       "      <td>[0.0, 0.0, 20.0]</td>\n",
       "      <td>[0.0, 0.0, 30.0]</td>\n",
       "      <td>1.85e-02</td>\n",
       "      <td>1.85e-02</td>\n",
       "      <td>-1.57e-04</td>\n",
       "      <td>-1.57e-04</td>\n",
       "      <td>3.64e-04</td>\n",
       "      <td>3.64e-04</td>\n",
       "      <td>-3.37e-06</td>\n",
       "      <td>-3.37e-06</td>\n",
       "      <td>1.45e-05</td>\n",
       "      <td>1.45e-05</td>\n",
       "      <td>-1.40e-07</td>\n",
       "      <td>-1.40e-07</td>\n",
       "    </tr>\n",
       "    <tr>\n",
       "      <th>4</th>\n",
       "      <td>6.28e+01</td>\n",
       "      <td>[0.0, 0.0, 20.0]</td>\n",
       "      <td>[0.0, 15.0, 30.0]</td>\n",
       "      <td>1.77e-02</td>\n",
       "      <td>1.77e-02</td>\n",
       "      <td>-1.50e-04</td>\n",
       "      <td>-1.50e-04</td>\n",
       "      <td>3.20e-04</td>\n",
       "      <td>3.20e-04</td>\n",
       "      <td>-2.94e-06</td>\n",
       "      <td>-2.94e-06</td>\n",
       "      <td>1.12e-05</td>\n",
       "      <td>1.12e-05</td>\n",
       "      <td>-1.07e-07</td>\n",
       "      <td>-1.07e-07</td>\n",
       "    </tr>\n",
       "    <tr>\n",
       "      <th>...</th>\n",
       "      <td>...</td>\n",
       "      <td>...</td>\n",
       "      <td>...</td>\n",
       "      <td>...</td>\n",
       "      <td>...</td>\n",
       "      <td>...</td>\n",
       "      <td>...</td>\n",
       "      <td>...</td>\n",
       "      <td>...</td>\n",
       "      <td>...</td>\n",
       "      <td>...</td>\n",
       "      <td>...</td>\n",
       "      <td>...</td>\n",
       "      <td>...</td>\n",
       "      <td>...</td>\n",
       "    </tr>\n",
       "    <tr>\n",
       "      <th>103</th>\n",
       "      <td>6.28e+06</td>\n",
       "      <td>[0.0, 0.0, 150.0]</td>\n",
       "      <td>[0.0, 10.0, 20.0]</td>\n",
       "      <td>5.32e-03</td>\n",
       "      <td>5.32e-03</td>\n",
       "      <td>-5.28e-05</td>\n",
       "      <td>-5.28e-05</td>\n",
       "      <td>3.12e-05</td>\n",
       "      <td>3.12e-05</td>\n",
       "      <td>-3.10e-07</td>\n",
       "      <td>-3.10e-07</td>\n",
       "      <td>3.65e-07</td>\n",
       "      <td>3.65e-07</td>\n",
       "      <td>-3.62e-09</td>\n",
       "      <td>-3.62e-09</td>\n",
       "    </tr>\n",
       "    <tr>\n",
       "      <th>104</th>\n",
       "      <td>6.28e+06</td>\n",
       "      <td>[0.0, 0.0, 150.0]</td>\n",
       "      <td>[0.0, 20.0, 20.0]</td>\n",
       "      <td>5.29e-03</td>\n",
       "      <td>5.29e-03</td>\n",
       "      <td>-5.26e-05</td>\n",
       "      <td>-5.26e-05</td>\n",
       "      <td>3.07e-05</td>\n",
       "      <td>3.07e-05</td>\n",
       "      <td>-3.05e-07</td>\n",
       "      <td>-3.05e-07</td>\n",
       "      <td>3.54e-07</td>\n",
       "      <td>3.54e-07</td>\n",
       "      <td>-3.51e-09</td>\n",
       "      <td>-3.51e-09</td>\n",
       "    </tr>\n",
       "    <tr>\n",
       "      <th>105</th>\n",
       "      <td>6.28e+06</td>\n",
       "      <td>[0.0, 0.0, 150.0]</td>\n",
       "      <td>[0.0, 0.0, 30.0]</td>\n",
       "      <td>5.03e-03</td>\n",
       "      <td>5.03e-03</td>\n",
       "      <td>-5.00e-05</td>\n",
       "      <td>-5.00e-05</td>\n",
       "      <td>2.80e-05</td>\n",
       "      <td>2.80e-05</td>\n",
       "      <td>-2.78e-07</td>\n",
       "      <td>-2.78e-07</td>\n",
       "      <td>3.11e-07</td>\n",
       "      <td>3.11e-07</td>\n",
       "      <td>-3.09e-09</td>\n",
       "      <td>-3.09e-09</td>\n",
       "    </tr>\n",
       "    <tr>\n",
       "      <th>106</th>\n",
       "      <td>6.28e+06</td>\n",
       "      <td>[0.0, 0.0, 150.0]</td>\n",
       "      <td>[0.0, 15.0, 30.0]</td>\n",
       "      <td>5.01e-03</td>\n",
       "      <td>5.01e-03</td>\n",
       "      <td>-4.98e-05</td>\n",
       "      <td>-4.98e-05</td>\n",
       "      <td>2.77e-05</td>\n",
       "      <td>2.77e-05</td>\n",
       "      <td>-2.75e-07</td>\n",
       "      <td>-2.75e-07</td>\n",
       "      <td>3.04e-07</td>\n",
       "      <td>3.04e-07</td>\n",
       "      <td>-3.02e-09</td>\n",
       "      <td>-3.02e-09</td>\n",
       "    </tr>\n",
       "    <tr>\n",
       "      <th>107</th>\n",
       "      <td>6.28e+06</td>\n",
       "      <td>[0.0, 0.0, 150.0]</td>\n",
       "      <td>[0.0, 30.0, 30.0]</td>\n",
       "      <td>4.96e-03</td>\n",
       "      <td>4.96e-03</td>\n",
       "      <td>-4.93e-05</td>\n",
       "      <td>-4.93e-05</td>\n",
       "      <td>2.68e-05</td>\n",
       "      <td>2.68e-05</td>\n",
       "      <td>-2.66e-07</td>\n",
       "      <td>-2.66e-07</td>\n",
       "      <td>2.86e-07</td>\n",
       "      <td>2.86e-07</td>\n",
       "      <td>-2.84e-09</td>\n",
       "      <td>-2.84e-09</td>\n",
       "    </tr>\n",
       "  </tbody>\n",
       "</table>\n",
       "<p>108 rows × 15 columns</p>\n",
       "</div>"
      ],
      "text/plain": [
       "     $\\omega$ [Hz]         $s_j$ [nm]         $r_k$ [nm]  Re[$K_0^{a}$]  \\\n",
       "0         6.28e+01   [0.0, 0.0, 20.0]   [0.0, 0.0, 20.0]       2.30e-02   \n",
       "1         6.28e+01   [0.0, 0.0, 20.0]  [0.0, 10.0, 20.0]       2.24e-02   \n",
       "2         6.28e+01   [0.0, 0.0, 20.0]  [0.0, 20.0, 20.0]       2.06e-02   \n",
       "3         6.28e+01   [0.0, 0.0, 20.0]   [0.0, 0.0, 30.0]       1.85e-02   \n",
       "4         6.28e+01   [0.0, 0.0, 20.0]  [0.0, 15.0, 30.0]       1.77e-02   \n",
       "..             ...                ...                ...            ...   \n",
       "103       6.28e+06  [0.0, 0.0, 150.0]  [0.0, 10.0, 20.0]       5.32e-03   \n",
       "104       6.28e+06  [0.0, 0.0, 150.0]  [0.0, 20.0, 20.0]       5.29e-03   \n",
       "105       6.28e+06  [0.0, 0.0, 150.0]   [0.0, 0.0, 30.0]       5.03e-03   \n",
       "106       6.28e+06  [0.0, 0.0, 150.0]  [0.0, 15.0, 30.0]       5.01e-03   \n",
       "107       6.28e+06  [0.0, 0.0, 150.0]  [0.0, 30.0, 30.0]       4.96e-03   \n",
       "\n",
       "     Re[$K_0^{b}$]  Im[$K_0^{a}$]  Im[$K_0^{b}$]  Re[$K_1^{a}$]  \\\n",
       "0         2.30e-02      -1.99e-04      -1.99e-04       5.68e-04   \n",
       "1         2.24e-02      -1.93e-04      -1.93e-04       5.19e-04   \n",
       "2         2.06e-02      -1.76e-04      -1.76e-04       4.07e-04   \n",
       "3         1.85e-02      -1.57e-04      -1.57e-04       3.64e-04   \n",
       "4         1.77e-02      -1.50e-04      -1.50e-04       3.20e-04   \n",
       "..             ...            ...            ...            ...   \n",
       "103       5.32e-03      -5.28e-05      -5.28e-05       3.12e-05   \n",
       "104       5.29e-03      -5.26e-05      -5.26e-05       3.07e-05   \n",
       "105       5.03e-03      -5.00e-05      -5.00e-05       2.80e-05   \n",
       "106       5.01e-03      -4.98e-05      -4.98e-05       2.77e-05   \n",
       "107       4.96e-03      -4.93e-05      -4.93e-05       2.68e-05   \n",
       "\n",
       "     Re[$K_1^{b}$]  Im[$K_1^{a}$]  Im[$K_1^{b}$]  Re[$K_2^{a}$]  \\\n",
       "0         5.68e-04      -5.35e-06      -5.35e-06       2.83e-05   \n",
       "1         5.19e-04      -4.87e-06      -4.87e-06       2.36e-05   \n",
       "2         4.07e-04      -3.77e-06      -3.77e-06       1.42e-05   \n",
       "3         3.64e-04      -3.37e-06      -3.37e-06       1.45e-05   \n",
       "4         3.20e-04      -2.94e-06      -2.94e-06       1.12e-05   \n",
       "..             ...            ...            ...            ...   \n",
       "103       3.12e-05      -3.10e-07      -3.10e-07       3.65e-07   \n",
       "104       3.07e-05      -3.05e-07      -3.05e-07       3.54e-07   \n",
       "105       2.80e-05      -2.78e-07      -2.78e-07       3.11e-07   \n",
       "106       2.77e-05      -2.75e-07      -2.75e-07       3.04e-07   \n",
       "107       2.68e-05      -2.66e-07      -2.66e-07       2.86e-07   \n",
       "\n",
       "     Re[$K_2^{b}$]  Im[$K_2^{a}$]  Im[$K_2^{b}$]  \n",
       "0         2.83e-05      -2.76e-07      -2.76e-07  \n",
       "1         2.36e-05      -2.29e-07      -2.29e-07  \n",
       "2         1.42e-05      -1.36e-07      -1.36e-07  \n",
       "3         1.45e-05      -1.40e-07      -1.40e-07  \n",
       "4         1.12e-05      -1.07e-07      -1.07e-07  \n",
       "..             ...            ...            ...  \n",
       "103       3.65e-07      -3.62e-09      -3.62e-09  \n",
       "104       3.54e-07      -3.51e-09      -3.51e-09  \n",
       "105       3.11e-07      -3.09e-09      -3.09e-09  \n",
       "106       3.04e-07      -3.02e-09      -3.02e-09  \n",
       "107       2.86e-07      -2.84e-09      -2.84e-09  \n",
       "\n",
       "[108 rows x 15 columns]"
      ]
     },
     "execution_count": 54,
     "metadata": {},
     "output_type": "execute_result"
    }
   ],
   "source": [
    "pd.options.display.float_format = '{:,.2e}'.format\n",
    "df"
   ]
  },
  {
   "cell_type": "markdown",
   "id": "f95fef69",
   "metadata": {},
   "source": [
    "Too much information!\n",
    "\n",
    "\n",
    "What we really want to know about is the errors, so compute error vectors. \\\n",
    "Represent the errors as a complex 3-vector (equivalent to a real 6-vector). \\\n",
    "The real part is the relative error in the real part of $K_n$ and the imaginary part is the relative error in the imaginary part of $K_n$. \\\n",
    "Also compute $\\epsilon$, the rms error of 6-vector of errors. "
   ]
  },
  {
   "cell_type": "code",
   "execution_count": 55,
   "id": "cd030020",
   "metadata": {},
   "outputs": [],
   "source": [
    "Kn_errors = np.zeros((len(values),3), dtype=np.complex128)\n",
    "epsilon = np.zeros((len(values)), dtype=np.float64)\n",
    "c = np.zeros(3, dtype=np.complex128)\n",
    "\n",
    "for index1, (a,b) in enumerate(zip(Kn, Kn_jit)):\n",
    "    \n",
    "    for index2 in [0, 1, 2]:\n",
    "    \n",
    "        c[index2] = complex(1,0) * (a[index2].real - b[index2].real) / a[index2].real \\\n",
    "                  + complex(0,1) * (a[index2].imag - b[index2].imag) / a[index2].imag\n",
    "            \n",
    "    Kn_errors[index1] = c\n",
    "    \n",
    "    epsilon[index1] = np.sqrt(np.real(np.sum(c * np.conj(c))))\n"
   ]
  },
  {
   "cell_type": "markdown",
   "id": "82a05cd8",
   "metadata": {},
   "source": [
    "Create a new pandas dataframe."
   ]
  },
  {
   "cell_type": "code",
   "execution_count": 56,
   "id": "3a2c182c",
   "metadata": {},
   "outputs": [],
   "source": [
    "df = pd.DataFrame(\n",
    "    values, \n",
    "    columns=['$\\omega$ [Hz]', '$s_j$ [nm]', '$r_k$ [nm]'])"
   ]
  },
  {
   "cell_type": "markdown",
   "id": "3ccd869a",
   "metadata": {},
   "source": [
    "Add the errors."
   ]
  },
  {
   "cell_type": "code",
   "execution_count": 57,
   "id": "14f86d89",
   "metadata": {},
   "outputs": [],
   "source": [
    "for index in [0, 1, 2]:\n",
    "    \n",
    "    df['$\\epsilon$(Re[$K_{:1d}$])'.format(index)] = np.real(Kn_errors[:,index])\n",
    "    df['$\\epsilon$(Im[$K_{:1d}$])'.format(index)] = np.imag(Kn_errors[:,index])\n",
    "    \n",
    "df['$\\epsilon$'] = epsilon"
   ]
  },
  {
   "cell_type": "markdown",
   "id": "8e58b293",
   "metadata": {},
   "source": [
    "Display the dataframe elements in exponential format with three digits. \\\n",
    "Sort the dataframe by the total error $\\epsilon$, from largest to smallest."
   ]
  },
  {
   "cell_type": "code",
   "execution_count": 58,
   "id": "a9f6276c",
   "metadata": {},
   "outputs": [
    {
     "data": {
      "text/html": [
       "<div>\n",
       "<style scoped>\n",
       "    .dataframe tbody tr th:only-of-type {\n",
       "        vertical-align: middle;\n",
       "    }\n",
       "\n",
       "    .dataframe tbody tr th {\n",
       "        vertical-align: top;\n",
       "    }\n",
       "\n",
       "    .dataframe thead th {\n",
       "        text-align: right;\n",
       "    }\n",
       "</style>\n",
       "<table border=\"1\" class=\"dataframe\">\n",
       "  <thead>\n",
       "    <tr style=\"text-align: right;\">\n",
       "      <th></th>\n",
       "      <th>$\\omega$ [Hz]</th>\n",
       "      <th>$s_j$ [nm]</th>\n",
       "      <th>$r_k$ [nm]</th>\n",
       "      <th>$\\epsilon$(Re[$K_0$])</th>\n",
       "      <th>$\\epsilon$(Im[$K_0$])</th>\n",
       "      <th>$\\epsilon$(Re[$K_1$])</th>\n",
       "      <th>$\\epsilon$(Im[$K_1$])</th>\n",
       "      <th>$\\epsilon$(Re[$K_2$])</th>\n",
       "      <th>$\\epsilon$(Im[$K_2$])</th>\n",
       "      <th>$\\epsilon$</th>\n",
       "    </tr>\n",
       "  </thead>\n",
       "  <tbody>\n",
       "    <tr>\n",
       "      <th>52</th>\n",
       "      <td>6.283e+03</td>\n",
       "      <td>[0.0, 0.0, 150.0]</td>\n",
       "      <td>[0.0, 15.0, 30.0]</td>\n",
       "      <td>-6.102e-08</td>\n",
       "      <td>2.660e-06</td>\n",
       "      <td>-1.053e-07</td>\n",
       "      <td>-3.129e-06</td>\n",
       "      <td>4.272e-07</td>\n",
       "      <td>-2.918e-05</td>\n",
       "      <td>2.947e-05</td>\n",
       "    </tr>\n",
       "    <tr>\n",
       "      <th>51</th>\n",
       "      <td>6.283e+03</td>\n",
       "      <td>[0.0, 0.0, 150.0]</td>\n",
       "      <td>[0.0, 0.0, 30.0]</td>\n",
       "      <td>-5.884e-08</td>\n",
       "      <td>2.574e-06</td>\n",
       "      <td>-9.662e-08</td>\n",
       "      <td>-3.441e-06</td>\n",
       "      <td>6.269e-07</td>\n",
       "      <td>-2.876e-05</td>\n",
       "      <td>2.909e-05</td>\n",
       "    </tr>\n",
       "    <tr>\n",
       "      <th>50</th>\n",
       "      <td>6.283e+03</td>\n",
       "      <td>[0.0, 0.0, 150.0]</td>\n",
       "      <td>[0.0, 20.0, 20.0]</td>\n",
       "      <td>-1.694e-08</td>\n",
       "      <td>3.679e-06</td>\n",
       "      <td>-2.533e-08</td>\n",
       "      <td>7.966e-06</td>\n",
       "      <td>2.435e-07</td>\n",
       "      <td>-7.024e-06</td>\n",
       "      <td>1.124e-05</td>\n",
       "    </tr>\n",
       "    <tr>\n",
       "      <th>49</th>\n",
       "      <td>6.283e+03</td>\n",
       "      <td>[0.0, 0.0, 150.0]</td>\n",
       "      <td>[0.0, 10.0, 20.0]</td>\n",
       "      <td>-1.483e-08</td>\n",
       "      <td>3.635e-06</td>\n",
       "      <td>-3.213e-08</td>\n",
       "      <td>7.493e-06</td>\n",
       "      <td>4.055e-07</td>\n",
       "      <td>-7.389e-06</td>\n",
       "      <td>1.114e-05</td>\n",
       "    </tr>\n",
       "    <tr>\n",
       "      <th>48</th>\n",
       "      <td>6.283e+03</td>\n",
       "      <td>[0.0, 0.0, 150.0]</td>\n",
       "      <td>[0.0, 0.0, 20.0]</td>\n",
       "      <td>-1.396e-08</td>\n",
       "      <td>3.620e-06</td>\n",
       "      <td>-2.816e-08</td>\n",
       "      <td>7.341e-06</td>\n",
       "      <td>5.191e-07</td>\n",
       "      <td>-7.455e-06</td>\n",
       "      <td>1.108e-05</td>\n",
       "    </tr>\n",
       "    <tr>\n",
       "      <th>...</th>\n",
       "      <td>...</td>\n",
       "      <td>...</td>\n",
       "      <td>...</td>\n",
       "      <td>...</td>\n",
       "      <td>...</td>\n",
       "      <td>...</td>\n",
       "      <td>...</td>\n",
       "      <td>...</td>\n",
       "      <td>...</td>\n",
       "      <td>...</td>\n",
       "    </tr>\n",
       "    <tr>\n",
       "      <th>82</th>\n",
       "      <td>6.283e+05</td>\n",
       "      <td>[0.0, 0.0, 30.0]</td>\n",
       "      <td>[0.0, 15.0, 30.0]</td>\n",
       "      <td>2.336e-09</td>\n",
       "      <td>2.339e-09</td>\n",
       "      <td>-3.733e-09</td>\n",
       "      <td>-3.702e-09</td>\n",
       "      <td>-4.580e-08</td>\n",
       "      <td>-4.547e-08</td>\n",
       "      <td>6.484e-08</td>\n",
       "    </tr>\n",
       "    <tr>\n",
       "      <th>73</th>\n",
       "      <td>6.283e+05</td>\n",
       "      <td>[0.0, 0.0, 20.0]</td>\n",
       "      <td>[0.0, 10.0, 20.0]</td>\n",
       "      <td>2.336e-09</td>\n",
       "      <td>2.343e-09</td>\n",
       "      <td>-3.733e-09</td>\n",
       "      <td>-3.636e-09</td>\n",
       "      <td>-4.580e-08</td>\n",
       "      <td>-4.523e-08</td>\n",
       "      <td>6.467e-08</td>\n",
       "    </tr>\n",
       "    <tr>\n",
       "      <th>98</th>\n",
       "      <td>6.283e+06</td>\n",
       "      <td>[0.0, 0.0, 30.0]</td>\n",
       "      <td>[0.0, 20.0, 20.0]</td>\n",
       "      <td>2.773e-09</td>\n",
       "      <td>2.773e-09</td>\n",
       "      <td>4.102e-09</td>\n",
       "      <td>4.101e-09</td>\n",
       "      <td>4.512e-08</td>\n",
       "      <td>4.510e-08</td>\n",
       "      <td>6.417e-08</td>\n",
       "    </tr>\n",
       "    <tr>\n",
       "      <th>80</th>\n",
       "      <td>6.283e+05</td>\n",
       "      <td>[0.0, 0.0, 30.0]</td>\n",
       "      <td>[0.0, 20.0, 20.0]</td>\n",
       "      <td>2.773e-09</td>\n",
       "      <td>2.773e-09</td>\n",
       "      <td>4.102e-09</td>\n",
       "      <td>4.075e-09</td>\n",
       "      <td>4.512e-08</td>\n",
       "      <td>4.480e-08</td>\n",
       "      <td>6.396e-08</td>\n",
       "    </tr>\n",
       "    <tr>\n",
       "      <th>62</th>\n",
       "      <td>6.283e+04</td>\n",
       "      <td>[0.0, 0.0, 30.0]</td>\n",
       "      <td>[0.0, 20.0, 20.0]</td>\n",
       "      <td>2.772e-09</td>\n",
       "      <td>2.718e-09</td>\n",
       "      <td>4.102e-09</td>\n",
       "      <td>3.502e-09</td>\n",
       "      <td>4.511e-08</td>\n",
       "      <td>4.304e-08</td>\n",
       "      <td>6.270e-08</td>\n",
       "    </tr>\n",
       "  </tbody>\n",
       "</table>\n",
       "<p>108 rows × 10 columns</p>\n",
       "</div>"
      ],
      "text/plain": [
       "    $\\omega$ [Hz]         $s_j$ [nm]         $r_k$ [nm]  \\\n",
       "52      6.283e+03  [0.0, 0.0, 150.0]  [0.0, 15.0, 30.0]   \n",
       "51      6.283e+03  [0.0, 0.0, 150.0]   [0.0, 0.0, 30.0]   \n",
       "50      6.283e+03  [0.0, 0.0, 150.0]  [0.0, 20.0, 20.0]   \n",
       "49      6.283e+03  [0.0, 0.0, 150.0]  [0.0, 10.0, 20.0]   \n",
       "48      6.283e+03  [0.0, 0.0, 150.0]   [0.0, 0.0, 20.0]   \n",
       "..            ...                ...                ...   \n",
       "82      6.283e+05   [0.0, 0.0, 30.0]  [0.0, 15.0, 30.0]   \n",
       "73      6.283e+05   [0.0, 0.0, 20.0]  [0.0, 10.0, 20.0]   \n",
       "98      6.283e+06   [0.0, 0.0, 30.0]  [0.0, 20.0, 20.0]   \n",
       "80      6.283e+05   [0.0, 0.0, 30.0]  [0.0, 20.0, 20.0]   \n",
       "62      6.283e+04   [0.0, 0.0, 30.0]  [0.0, 20.0, 20.0]   \n",
       "\n",
       "    $\\epsilon$(Re[$K_0$])  $\\epsilon$(Im[$K_0$])  $\\epsilon$(Re[$K_1$])  \\\n",
       "52             -6.102e-08              2.660e-06             -1.053e-07   \n",
       "51             -5.884e-08              2.574e-06             -9.662e-08   \n",
       "50             -1.694e-08              3.679e-06             -2.533e-08   \n",
       "49             -1.483e-08              3.635e-06             -3.213e-08   \n",
       "48             -1.396e-08              3.620e-06             -2.816e-08   \n",
       "..                    ...                    ...                    ...   \n",
       "82              2.336e-09              2.339e-09             -3.733e-09   \n",
       "73              2.336e-09              2.343e-09             -3.733e-09   \n",
       "98              2.773e-09              2.773e-09              4.102e-09   \n",
       "80              2.773e-09              2.773e-09              4.102e-09   \n",
       "62              2.772e-09              2.718e-09              4.102e-09   \n",
       "\n",
       "    $\\epsilon$(Im[$K_1$])  $\\epsilon$(Re[$K_2$])  $\\epsilon$(Im[$K_2$])  \\\n",
       "52             -3.129e-06              4.272e-07             -2.918e-05   \n",
       "51             -3.441e-06              6.269e-07             -2.876e-05   \n",
       "50              7.966e-06              2.435e-07             -7.024e-06   \n",
       "49              7.493e-06              4.055e-07             -7.389e-06   \n",
       "48              7.341e-06              5.191e-07             -7.455e-06   \n",
       "..                    ...                    ...                    ...   \n",
       "82             -3.702e-09             -4.580e-08             -4.547e-08   \n",
       "73             -3.636e-09             -4.580e-08             -4.523e-08   \n",
       "98              4.101e-09              4.512e-08              4.510e-08   \n",
       "80              4.075e-09              4.512e-08              4.480e-08   \n",
       "62              3.502e-09              4.511e-08              4.304e-08   \n",
       "\n",
       "    $\\epsilon$  \n",
       "52   2.947e-05  \n",
       "51   2.909e-05  \n",
       "50   1.124e-05  \n",
       "49   1.114e-05  \n",
       "48   1.108e-05  \n",
       "..         ...  \n",
       "82   6.484e-08  \n",
       "73   6.467e-08  \n",
       "98   6.417e-08  \n",
       "80   6.396e-08  \n",
       "62   6.270e-08  \n",
       "\n",
       "[108 rows x 10 columns]"
      ]
     },
     "execution_count": 58,
     "metadata": {},
     "output_type": "execute_result"
    }
   ],
   "source": [
    "pd.options.display.float_format = '{:,.3e}'.format\n",
    "df.sort_values(by='$\\epsilon$', ascending=False)"
   ]
  },
  {
   "cell_type": "markdown",
   "id": "8c54c936",
   "metadata": {},
   "source": [
    "Interestingly, the largest errors at not a the lowest frequency, but at an intermediate frequency. \\\n",
    "The errors are no larger than 0.2%."
   ]
  },
  {
   "cell_type": "code",
   "execution_count": 59,
   "id": "44dd00c2",
   "metadata": {},
   "outputs": [
    {
     "data": {
      "image/png": "[encoded data removed]",
      "text/plain": [
       "<Figure size 640x480 with 1 Axes>"
      ]
     },
     "metadata": {},
     "output_type": "display_data"
    }
   ],
   "source": [
    "plt.semilogy(sorted(df['$\\epsilon$']))\n",
    "plt.show()"
   ]
  },
  {
   "cell_type": "code",
   "execution_count": 60,
   "id": "96f76fda",
   "metadata": {},
   "outputs": [
    {
     "data": {
      "image/png": "[encoded data removed]",
      "text/plain": [
       "<Figure size 640x480 with 1 Axes>"
      ]
     },
     "metadata": {},
     "output_type": "display_data"
    }
   ],
   "source": [
    "for key in [\n",
    "       '$\\epsilon$(Re[$K_0$])', '$\\epsilon$(Im[$K_0$])', \n",
    "       '$\\epsilon$(Re[$K_1$])', '$\\epsilon$(Im[$K_1$])', \n",
    "       '$\\epsilon$(Re[$K_2$])', '$\\epsilon$(Im[$K_2$])', \n",
    "       '$\\epsilon$']:\n",
    "    \n",
    "    plt.semilogy(sorted(abs(df[key])), label=key)\n",
    "\n",
    "plt.legend(frameon=False)\n",
    "plt.show()    "
   ]
  },
  {
   "cell_type": "markdown",
   "id": "286df62c",
   "metadata": {},
   "source": [
    "## Looping over sample parameters (large test)\n",
    "\n",
    "Let's think about what range of $\\sigma$, $\\rho$, and $\\epsilon_{\\mathrm{s}}$ we want to use. \\\n",
    "Review `Marohn202504--MRS-Spring-Meeting--handout.pdf`.\n",
    "\n",
    "**Dielectric constant**.  \\\n",
    "For $\\epsilon_{\\mathrm{s}}$, the real part should vary from 3 (organic semiconductors) to 100 (lead-halide perovskites).  \\\n",
    "Let the imaginary vary from 0 to 10 percent of the real part."
   ]
  },
  {
   "cell_type": "code",
   "execution_count": 61,
   "id": "39853f08",
   "metadata": {},
   "outputs": [],
   "source": [
    "epsilons = np.array([complex(  3, 0), complex(  3,  -0.3),\n",
    "                     complex( 10, 0), complex( 10,  -1.0),\n",
    "                     complex( 10, 0), complex( 20,  -2.0),\n",
    "                     complex(100, 0), complex(100, -10.0)])"
   ]
  },
  {
   "cell_type": "markdown",
   "id": "af7a4d61",
   "metadata": {},
   "source": [
    "**Conductivity**. \\\n",
    "We know $\\omega = \\sigma / (\\epsilon_{\\mathrm{s}}^{\\prime} \\epsilon_0)$ or, equivalently, $\\sigma = \\omega \\, \\epsilon_{\\mathrm{s}}^{\\prime} \\epsilon_0$. \\\n",
    "Confirm that the units work.\n"
   ]
  },
  {
   "cell_type": "code",
   "execution_count": 62,
   "id": "e23c8ab8",
   "metadata": {},
   "outputs": [
    {
     "data": {
      "text/html": [
       "8.8541878128×10<sup>-12</sup> siemens/meter"
      ],
      "text/latex": [
       "$8.8541878128\\times 10^{-12}\\ \\frac{\\mathrm{siemens}}{\\mathrm{meter}}$"
      ],
      "text/plain": [
       "<Quantity(8.8541878128e-12, 'siemens / meter')>"
      ]
     },
     "execution_count": 62,
     "metadata": {},
     "output_type": "execute_result"
    }
   ],
   "source": [
    "(ureg.Quantity(1, 'Hz') * epsilon0).to('S/m')"
   ]
  },
  {
   "cell_type": "markdown",
   "id": "afed8697",
   "metadata": {},
   "source": [
    "Take the array of $\\omega$ and array of $\\epsilon_{\\mathrm{s}}$ and make a tensor product of associated conductivities $\\sigma$. \\\n",
    "What is the smallest and largest conductivity in this list?"
   ]
  },
  {
   "cell_type": "code",
   "execution_count": 63,
   "id": "9ab8cc87",
   "metadata": {},
   "outputs": [],
   "source": [
    "sigma = np.array([ureg.Quantity(omega * epsilon * epsilon0, 'S/m').magnitude\n",
    "                  for omega, epsilon in list(itertools.product(ureg.Quantity(omegas, 'Hz'), epsilons.real))])"
   ]
  },
  {
   "cell_type": "code",
   "execution_count": 64,
   "id": "4d1a25a9",
   "metadata": {},
   "outputs": [
    {
     "data": {
      "text/plain": [
       "(1.6689750831718054e-09, 0.005563250277239352)"
      ]
     },
     "execution_count": 64,
     "metadata": {},
     "output_type": "execute_result"
    }
   ],
   "source": [
    "(sigma.min(), sigma.max())"
   ]
  },
  {
   "cell_type": "markdown",
   "id": "8d898459",
   "metadata": {},
   "source": [
    "Now create a list of conductivities, by hand, that spans this range."
   ]
  },
  {
   "cell_type": "code",
   "execution_count": 65,
   "id": "bc9d1015",
   "metadata": {},
   "outputs": [],
   "source": [
    "sigmas = np.array([1e-10, 1e-8, 1e-7, 1e-6, 1e-4, 1e-2])  # S/m"
   ]
  },
  {
   "cell_type": "markdown",
   "id": "b80b5593",
   "metadata": {},
   "source": [
    "**Charge density**.\n",
    "\n",
    "We know that the BLDS frequency shift at zero frequency depends on a unitless charge density as follows\n",
    "\n",
    "\\begin{equation}\n",
    "\\hat{\\rho}_3 = \\frac{z_{\\mathrm{c}}^2}{7.742 \\ \\epsilon_{\\mathrm{s}}^{\\prime} \\lambda_{\\mathrm{D}}^2}\n",
    " = \\frac{z_{\\mathrm{c}}^2 e^2 \\rho}{7.742  \\epsilon_{\\mathrm{s}}^{\\prime}  \\epsilon_0 k_{\\mathrm{B}} T}.\n",
    "\\end{equation}\n",
    "\n",
    "Solving for charge density, \n",
    "\n",
    "\\begin{equation}\n",
    "\\rho = 7.742  \\hat{\\rho}_3 \\frac{\\epsilon_{\\mathrm{s}}^{\\prime}  \\epsilon_0 k_{\\mathrm{B}} T}\n",
    "            {z_{\\mathrm{c}}^2 e^2}\n",
    "\\end{equation}\n",
    "\n",
    "Confirm that the units work."
   ]
  },
  {
   "cell_type": "code",
   "execution_count": 66,
   "id": "0448573e",
   "metadata": {},
   "outputs": [
    {
     "data": {
      "text/html": [
       "1.4198616884161066×10<sup>22</sup> 1/meter<sup>3</sup>"
      ],
      "text/latex": [
       "$1.4198616884161066\\times 10^{22}\\ \\frac{1}{\\mathrm{meter}^{3}}$"
      ],
      "text/plain": [
       "<Quantity(1.4198616884161066e+22, '1 / meter ** 3')>"
      ]
     },
     "execution_count": 66,
     "metadata": {},
     "output_type": "execute_result"
    }
   ],
   "source": [
    "((epsilon0 * kb * Troom)/(ureg.Quantity(10, 'nm')**2 * qe**2)).to('1/m^3')"
   ]
  },
  {
   "cell_type": "markdown",
   "id": "2846f7df",
   "metadata": {},
   "source": [
    "Take the array of $\\epsilon_{\\mathrm{s}}^{\\prime}$ and $z_{c}$ and make a tensor of $\\rho$ values assuming $\\hat{\\rho}_3 = 1$ for now."
   ]
  },
  {
   "cell_type": "code",
   "execution_count": 67,
   "id": "2a4c46f1",
   "metadata": {},
   "outputs": [],
   "source": [
    "rho = np.array([7.742 * ureg.Quantity((epsilon * epsilon0 * kb * Troom) / \n",
    "                (qe**2 * ureg.Quantity(sjz, 'nm')**2), '1/m^3').magnitude\n",
    "                  for sjz, epsilon in list(itertools.product(sj_nm.T[2], epsilons.real))])"
   ]
  },
  {
   "cell_type": "code",
   "execution_count": 68,
   "id": "b8648c89",
   "metadata": {},
   "outputs": [
    {
     "data": {
      "text/plain": [
       "(1.4656758922289993e+21, 2.748142297929374e+24)"
      ]
     },
     "execution_count": 68,
     "metadata": {},
     "output_type": "execute_result"
    }
   ],
   "source": [
    "(rho.min(), rho.max())"
   ]
  },
  {
   "cell_type": "markdown",
   "id": "02b91d56",
   "metadata": {},
   "source": [
    "The BLDS frequency shift at zero frequency changes when $\\hat{\\rho}_3$ varies from $10^{-2}$ to $10^{2}$. \\\n",
    "This suggests we want $\\rho$ to range from $10^{19}$ to $10^{25}$ or $10^{26}$, a six or seven decade range. "
   ]
  },
  {
   "cell_type": "code",
   "execution_count": 69,
   "id": "6243bee2",
   "metadata": {},
   "outputs": [],
   "source": [
    "rhos = np.array([1e19, 1e20, 1e21, 1e22, 1e23, 1e24, 1e25])  # 1/m^3"
   ]
  },
  {
   "cell_type": "markdown",
   "id": "ca0f26e6",
   "metadata": {},
   "source": [
    "We are now ready to loop! \\\n",
    "Make a master list of numbers to loop over."
   ]
  },
  {
   "cell_type": "code",
   "execution_count": 70,
   "id": "908e2de4",
   "metadata": {},
   "outputs": [
    {
     "data": {
      "text/plain": [
       "36288"
      ]
     },
     "execution_count": 70,
     "metadata": {},
     "output_type": "execute_result"
    }
   ],
   "source": [
    "values = list(itertools.product(omegas, sj_nm, rk_nm, epsilons, sigmas, rhos))\n",
    "len(values)"
   ]
  },
  {
   "cell_type": "markdown",
   "id": "ad085c9e",
   "metadata": {},
   "source": [
    "Ready, set, loop!"
   ]
  },
  {
   "cell_type": "code",
   "execution_count": 71,
   "id": "6d504eeb",
   "metadata": {},
   "outputs": [
    {
     "name": "stdout",
     "output_type": "stream",
     "text": [
      "CPU times: user 3min 35s, sys: 3.57 s, total: 3min 39s\n",
      "Wall time: 4min 22s\n"
     ]
    }
   ],
   "source": [
    "%%time\n",
    "\n",
    "Kn     = np.zeros((len(values),3), dtype=np.complex128)\n",
    "Kn_jit = np.zeros((len(values),3), dtype=np.complex128)\n",
    "\n",
    "for index, (omega, sj, rk, epsilon, sigma, rho) in enumerate(values):\n",
    "\n",
    "    sample3 = SampleModel3(\n",
    "        cantilever = cantilever,\n",
    "        epsilon_s = ureg.Quantity(epsilon, ''),\n",
    "        sigma = ureg.Quantity(sigma, 'S/m'),\n",
    "        rho = ureg.Quantity(rho, '1/m^3'),\n",
    "        z_r = ureg.Quantity(1, 'nm'))\n",
    "\n",
    "    sample3_jit = SampleModel3Jit(**sample3.args())\n",
    "    \n",
    "    params_a = {\n",
    "        'integrand': integrand3jit,\n",
    "        'sample': sample3_jit,\n",
    "        'omega': omega,\n",
    "        'location1': 1.0e-9 * sj,\n",
    "        'location2': 1.0e-9 * rk\n",
    "    }\n",
    "    \n",
    "    K0a, K1a, K2a = K_jit(**params_a)\n",
    "    Kn[index] = np.array([K0a, K1a, K2a])\n",
    "    \n",
    "    params_b = {\n",
    "        \"omega\": omega,\n",
    "        \"omega0\": params_a['sample'].omega0,\n",
    "        \"kD\":params_a['sample'].kD,\n",
    "        \"es\": params_a['sample'].epsilon_s,\n",
    "        \"sj\": np.array([sj]),\n",
    "        \"rk\": np.array([rk]),\n",
    "        \"j0s\": j0s,\n",
    "        \"an\": an,\n",
    "        \"verbose\": False}\n",
    "\n",
    "    K0b, K1b, K2b = KmatrixIII_jit_new(**params_b)\n",
    "    Kn_jit[index] = np.array([K0b[0][0], K1b[0][0], K2b[0][0]])"
   ]
  },
  {
   "cell_type": "markdown",
   "id": "baf4e7f4",
   "metadata": {},
   "source": [
    "The above loop takes a few minutes to run. \\\n",
    "Spot check some of the computed $K_{n}$ values."
   ]
  },
  {
   "cell_type": "code",
   "execution_count": 72,
   "id": "adad2439",
   "metadata": {},
   "outputs": [
    {
     "data": {
      "text/plain": [
       "(array([1.25643421e-02-8.50408257e-05j, 3.13036048e-04-2.57792722e-07j,\n",
       "        1.56336889e-05-1.48488631e-09j]),\n",
       " array([1.25643442e-02-8.50415601e-05j, 3.13036009e-04-2.57805343e-07j,\n",
       "        1.56336758e-05-1.48496199e-09j]))"
      ]
     },
     "execution_count": 72,
     "metadata": {},
     "output_type": "execute_result"
    }
   ],
   "source": [
    "(Kn[0], Kn_jit[0])"
   ]
  },
  {
   "cell_type": "code",
   "execution_count": 73,
   "id": "763fb525",
   "metadata": {},
   "outputs": [
    {
     "data": {
      "text/plain": [
       "(array([5.45468987e-03-4.39294317e-05j, 2.94778805e-05-2.31807381e-07j,\n",
       "        3.14182088e-07-2.41305590e-09j]),\n",
       " array([5.45468986e-03-4.39294316e-05j, 2.94778809e-05-2.31807382e-07j,\n",
       "        3.14182161e-07-2.41305628e-09j]))"
      ]
     },
     "execution_count": 73,
     "metadata": {},
     "output_type": "execute_result"
    }
   ],
   "source": [
    "(Kn[-1], Kn_jit[-1])"
   ]
  },
  {
   "cell_type": "markdown",
   "id": "c4eb5024",
   "metadata": {},
   "source": [
    "As above, compute the error vectors."
   ]
  },
  {
   "cell_type": "code",
   "execution_count": 74,
   "id": "751e0467",
   "metadata": {},
   "outputs": [],
   "source": [
    "Kn_errors = np.zeros((len(values),3), dtype=np.complex128)\n",
    "epsilon = np.zeros((len(values)), dtype=np.float64)\n",
    "c = np.zeros(3, dtype=np.complex128)\n",
    "\n",
    "for index1, (a,b) in enumerate(zip(Kn, Kn_jit)):\n",
    "    \n",
    "    for index2 in [0, 1, 2]:\n",
    "    \n",
    "        c[index2] = complex(1,0) * (a[index2].real - b[index2].real) / a[index2].real \\\n",
    "                  + complex(0,1) * (a[index2].imag - b[index2].imag) / a[index2].imag\n",
    "            \n",
    "    Kn_errors[index1] = c\n",
    "    \n",
    "    epsilon[index1] = np.sqrt(np.real(np.sum(c * np.conj(c))))"
   ]
  },
  {
   "cell_type": "markdown",
   "id": "962a721d",
   "metadata": {},
   "source": [
    "Create a new pandas dataframe and add the errors."
   ]
  },
  {
   "cell_type": "code",
   "execution_count": 75,
   "id": "9546e373",
   "metadata": {},
   "outputs": [],
   "source": [
    "dg = pd.DataFrame(\n",
    "    values, \n",
    "    columns=['$\\omega$ [Hz]', '$s_j$ [nm]', '$r_k$ [nm]', \n",
    "             '$\\epsilon_{\\mathrm{r}}$', '$\\sigma$ [S/m]', '$\\rho$ [1/m$^3$]'])\n",
    "\n",
    "for index in [0, 1, 2]:\n",
    "    \n",
    "    dg['$\\epsilon$(Re[$K_{:1d}$])'.format(index)] = np.real(Kn_errors[:,index])\n",
    "    dg['$\\epsilon$(Im[$K_{:1d}$])'.format(index)] = np.imag(Kn_errors[:,index])\n",
    "    \n",
    "dg['$\\epsilon$'] = epsilon"
   ]
  },
  {
   "cell_type": "markdown",
   "id": "a5930b21",
   "metadata": {},
   "source": [
    "Ok, display the results, sorted by error."
   ]
  },
  {
   "cell_type": "code",
   "execution_count": 76,
   "id": "0a83e0b3",
   "metadata": {},
   "outputs": [
    {
     "data": {
      "text/html": [
       "<div>\n",
       "<style scoped>\n",
       "    .dataframe tbody tr th:only-of-type {\n",
       "        vertical-align: middle;\n",
       "    }\n",
       "\n",
       "    .dataframe tbody tr th {\n",
       "        vertical-align: top;\n",
       "    }\n",
       "\n",
       "    .dataframe thead th {\n",
       "        text-align: right;\n",
       "    }\n",
       "</style>\n",
       "<table border=\"1\" class=\"dataframe\">\n",
       "  <thead>\n",
       "    <tr style=\"text-align: right;\">\n",
       "      <th></th>\n",
       "      <th>$\\omega$ [Hz]</th>\n",
       "      <th>$s_j$ [nm]</th>\n",
       "      <th>$r_k$ [nm]</th>\n",
       "      <th>$\\epsilon_{\\mathrm{r}}$</th>\n",
       "      <th>$\\sigma$ [S/m]</th>\n",
       "      <th>$\\rho$ [1/m$^3$]</th>\n",
       "      <th>$\\epsilon$(Re[$K_0$])</th>\n",
       "      <th>$\\epsilon$(Im[$K_0$])</th>\n",
       "      <th>$\\epsilon$(Re[$K_1$])</th>\n",
       "      <th>$\\epsilon$(Im[$K_1$])</th>\n",
       "      <th>$\\epsilon$(Re[$K_2$])</th>\n",
       "      <th>$\\epsilon$(Im[$K_2$])</th>\n",
       "      <th>$\\epsilon$</th>\n",
       "    </tr>\n",
       "  </thead>\n",
       "  <tbody>\n",
       "    <tr>\n",
       "      <th>28161</th>\n",
       "      <td>6.3e+05</td>\n",
       "      <td>[0.0, 0.0, 30.0]</td>\n",
       "      <td>[0.0, 30.0, 30.0]</td>\n",
       "      <td>1.0e+02+0.0e+00j</td>\n",
       "      <td>1.0e-06</td>\n",
       "      <td>1.0e+19</td>\n",
       "      <td>1.3e-09</td>\n",
       "      <td>-6.3e-05</td>\n",
       "      <td>-1.3e-08</td>\n",
       "      <td>-2.5e-04</td>\n",
       "      <td>-1.9e-07</td>\n",
       "      <td>-2.5e-04</td>\n",
       "      <td>3.6e-04</td>\n",
       "    </tr>\n",
       "    <tr>\n",
       "      <th>16051</th>\n",
       "      <td>6.3e+03</td>\n",
       "      <td>[0.0, 0.0, 30.0]</td>\n",
       "      <td>[0.0, 30.0, 30.0]</td>\n",
       "      <td>1.0e+02+0.0e+00j</td>\n",
       "      <td>1.0e-08</td>\n",
       "      <td>1.0e+19</td>\n",
       "      <td>1.3e-09</td>\n",
       "      <td>-6.3e-05</td>\n",
       "      <td>-1.3e-08</td>\n",
       "      <td>-2.5e-04</td>\n",
       "      <td>-1.9e-07</td>\n",
       "      <td>-2.5e-04</td>\n",
       "      <td>3.6e-04</td>\n",
       "    </tr>\n",
       "    <tr>\n",
       "      <th>22106</th>\n",
       "      <td>6.3e+04</td>\n",
       "      <td>[0.0, 0.0, 30.0]</td>\n",
       "      <td>[0.0, 30.0, 30.0]</td>\n",
       "      <td>1.0e+02+0.0e+00j</td>\n",
       "      <td>1.0e-07</td>\n",
       "      <td>1.0e+19</td>\n",
       "      <td>1.3e-09</td>\n",
       "      <td>-6.3e-05</td>\n",
       "      <td>-1.3e-08</td>\n",
       "      <td>-2.5e-04</td>\n",
       "      <td>-1.9e-07</td>\n",
       "      <td>-2.5e-04</td>\n",
       "      <td>3.6e-04</td>\n",
       "    </tr>\n",
       "    <tr>\n",
       "      <th>3948</th>\n",
       "      <td>6.3e+01</td>\n",
       "      <td>[0.0, 0.0, 30.0]</td>\n",
       "      <td>[0.0, 30.0, 30.0]</td>\n",
       "      <td>1.0e+02+0.0e+00j</td>\n",
       "      <td>1.0e-10</td>\n",
       "      <td>1.0e+19</td>\n",
       "      <td>1.3e-09</td>\n",
       "      <td>-6.3e-05</td>\n",
       "      <td>-1.3e-08</td>\n",
       "      <td>-2.5e-04</td>\n",
       "      <td>-1.9e-07</td>\n",
       "      <td>-2.5e-04</td>\n",
       "      <td>3.6e-04</td>\n",
       "    </tr>\n",
       "    <tr>\n",
       "      <th>27825</th>\n",
       "      <td>6.3e+05</td>\n",
       "      <td>[0.0, 0.0, 30.0]</td>\n",
       "      <td>[0.0, 15.0, 30.0]</td>\n",
       "      <td>1.0e+02+0.0e+00j</td>\n",
       "      <td>1.0e-06</td>\n",
       "      <td>1.0e+19</td>\n",
       "      <td>1.5e-09</td>\n",
       "      <td>-6.4e-05</td>\n",
       "      <td>-3.8e-09</td>\n",
       "      <td>-2.5e-04</td>\n",
       "      <td>-4.6e-08</td>\n",
       "      <td>-2.4e-04</td>\n",
       "      <td>3.6e-04</td>\n",
       "    </tr>\n",
       "    <tr>\n",
       "      <th>...</th>\n",
       "      <td>...</td>\n",
       "      <td>...</td>\n",
       "      <td>...</td>\n",
       "      <td>...</td>\n",
       "      <td>...</td>\n",
       "      <td>...</td>\n",
       "      <td>...</td>\n",
       "      <td>...</td>\n",
       "      <td>...</td>\n",
       "      <td>...</td>\n",
       "      <td>...</td>\n",
       "      <td>...</td>\n",
       "      <td>...</td>\n",
       "    </tr>\n",
       "    <tr>\n",
       "      <th>14823</th>\n",
       "      <td>6.3e+03</td>\n",
       "      <td>[0.0, 0.0, 30.0]</td>\n",
       "      <td>[0.0, 20.0, 20.0]</td>\n",
       "      <td>3.0e+00+0.0e+00j</td>\n",
       "      <td>1.0e-02</td>\n",
       "      <td>1.0e+23</td>\n",
       "      <td>2.9e-09</td>\n",
       "      <td>3.2e-09</td>\n",
       "      <td>2.6e-09</td>\n",
       "      <td>4.5e-10</td>\n",
       "      <td>2.9e-08</td>\n",
       "      <td>9.5e-10</td>\n",
       "      <td>2.9e-08</td>\n",
       "    </tr>\n",
       "    <tr>\n",
       "      <th>8768</th>\n",
       "      <td>6.3e+02</td>\n",
       "      <td>[0.0, 0.0, 30.0]</td>\n",
       "      <td>[0.0, 20.0, 20.0]</td>\n",
       "      <td>3.0e+00+0.0e+00j</td>\n",
       "      <td>1.0e-04</td>\n",
       "      <td>1.0e+23</td>\n",
       "      <td>2.9e-09</td>\n",
       "      <td>3.2e-09</td>\n",
       "      <td>2.6e-09</td>\n",
       "      <td>4.5e-10</td>\n",
       "      <td>2.9e-08</td>\n",
       "      <td>9.5e-10</td>\n",
       "      <td>2.9e-08</td>\n",
       "    </tr>\n",
       "    <tr>\n",
       "      <th>20871</th>\n",
       "      <td>6.3e+04</td>\n",
       "      <td>[0.0, 0.0, 30.0]</td>\n",
       "      <td>[0.0, 20.0, 20.0]</td>\n",
       "      <td>3.0e+00+0.0e+00j</td>\n",
       "      <td>1.0e-02</td>\n",
       "      <td>1.0e+23</td>\n",
       "      <td>2.9e-09</td>\n",
       "      <td>3.2e-09</td>\n",
       "      <td>2.6e-09</td>\n",
       "      <td>4.5e-10</td>\n",
       "      <td>2.9e-08</td>\n",
       "      <td>9.5e-10</td>\n",
       "      <td>2.9e-08</td>\n",
       "    </tr>\n",
       "    <tr>\n",
       "      <th>2727</th>\n",
       "      <td>6.3e+01</td>\n",
       "      <td>[0.0, 0.0, 30.0]</td>\n",
       "      <td>[0.0, 20.0, 20.0]</td>\n",
       "      <td>3.0e+00+0.0e+00j</td>\n",
       "      <td>1.0e-02</td>\n",
       "      <td>1.0e+23</td>\n",
       "      <td>2.9e-09</td>\n",
       "      <td>3.2e-09</td>\n",
       "      <td>2.6e-09</td>\n",
       "      <td>4.5e-10</td>\n",
       "      <td>2.9e-08</td>\n",
       "      <td>9.5e-10</td>\n",
       "      <td>2.9e-08</td>\n",
       "    </tr>\n",
       "    <tr>\n",
       "      <th>8775</th>\n",
       "      <td>6.3e+02</td>\n",
       "      <td>[0.0, 0.0, 30.0]</td>\n",
       "      <td>[0.0, 20.0, 20.0]</td>\n",
       "      <td>3.0e+00+0.0e+00j</td>\n",
       "      <td>1.0e-02</td>\n",
       "      <td>1.0e+23</td>\n",
       "      <td>2.9e-09</td>\n",
       "      <td>3.2e-09</td>\n",
       "      <td>2.6e-09</td>\n",
       "      <td>4.5e-10</td>\n",
       "      <td>2.9e-08</td>\n",
       "      <td>9.5e-10</td>\n",
       "      <td>2.9e-08</td>\n",
       "    </tr>\n",
       "  </tbody>\n",
       "</table>\n",
       "<p>36288 rows × 13 columns</p>\n",
       "</div>"
      ],
      "text/plain": [
       "       $\\omega$ [Hz]        $s_j$ [nm]         $r_k$ [nm]  \\\n",
       "28161        6.3e+05  [0.0, 0.0, 30.0]  [0.0, 30.0, 30.0]   \n",
       "16051        6.3e+03  [0.0, 0.0, 30.0]  [0.0, 30.0, 30.0]   \n",
       "22106        6.3e+04  [0.0, 0.0, 30.0]  [0.0, 30.0, 30.0]   \n",
       "3948         6.3e+01  [0.0, 0.0, 30.0]  [0.0, 30.0, 30.0]   \n",
       "27825        6.3e+05  [0.0, 0.0, 30.0]  [0.0, 15.0, 30.0]   \n",
       "...              ...               ...                ...   \n",
       "14823        6.3e+03  [0.0, 0.0, 30.0]  [0.0, 20.0, 20.0]   \n",
       "8768         6.3e+02  [0.0, 0.0, 30.0]  [0.0, 20.0, 20.0]   \n",
       "20871        6.3e+04  [0.0, 0.0, 30.0]  [0.0, 20.0, 20.0]   \n",
       "2727         6.3e+01  [0.0, 0.0, 30.0]  [0.0, 20.0, 20.0]   \n",
       "8775         6.3e+02  [0.0, 0.0, 30.0]  [0.0, 20.0, 20.0]   \n",
       "\n",
       "       $\\epsilon_{\\mathrm{r}}$  $\\sigma$ [S/m]  $\\rho$ [1/m$^3$]  \\\n",
       "28161         1.0e+02+0.0e+00j         1.0e-06           1.0e+19   \n",
       "16051         1.0e+02+0.0e+00j         1.0e-08           1.0e+19   \n",
       "22106         1.0e+02+0.0e+00j         1.0e-07           1.0e+19   \n",
       "3948          1.0e+02+0.0e+00j         1.0e-10           1.0e+19   \n",
       "27825         1.0e+02+0.0e+00j         1.0e-06           1.0e+19   \n",
       "...                        ...             ...               ...   \n",
       "14823         3.0e+00+0.0e+00j         1.0e-02           1.0e+23   \n",
       "8768          3.0e+00+0.0e+00j         1.0e-04           1.0e+23   \n",
       "20871         3.0e+00+0.0e+00j         1.0e-02           1.0e+23   \n",
       "2727          3.0e+00+0.0e+00j         1.0e-02           1.0e+23   \n",
       "8775          3.0e+00+0.0e+00j         1.0e-02           1.0e+23   \n",
       "\n",
       "       $\\epsilon$(Re[$K_0$])  $\\epsilon$(Im[$K_0$])  $\\epsilon$(Re[$K_1$])  \\\n",
       "28161                1.3e-09               -6.3e-05               -1.3e-08   \n",
       "16051                1.3e-09               -6.3e-05               -1.3e-08   \n",
       "22106                1.3e-09               -6.3e-05               -1.3e-08   \n",
       "3948                 1.3e-09               -6.3e-05               -1.3e-08   \n",
       "27825                1.5e-09               -6.4e-05               -3.8e-09   \n",
       "...                      ...                    ...                    ...   \n",
       "14823                2.9e-09                3.2e-09                2.6e-09   \n",
       "8768                 2.9e-09                3.2e-09                2.6e-09   \n",
       "20871                2.9e-09                3.2e-09                2.6e-09   \n",
       "2727                 2.9e-09                3.2e-09                2.6e-09   \n",
       "8775                 2.9e-09                3.2e-09                2.6e-09   \n",
       "\n",
       "       $\\epsilon$(Im[$K_1$])  $\\epsilon$(Re[$K_2$])  $\\epsilon$(Im[$K_2$])  \\\n",
       "28161               -2.5e-04               -1.9e-07               -2.5e-04   \n",
       "16051               -2.5e-04               -1.9e-07               -2.5e-04   \n",
       "22106               -2.5e-04               -1.9e-07               -2.5e-04   \n",
       "3948                -2.5e-04               -1.9e-07               -2.5e-04   \n",
       "27825               -2.5e-04               -4.6e-08               -2.4e-04   \n",
       "...                      ...                    ...                    ...   \n",
       "14823                4.5e-10                2.9e-08                9.5e-10   \n",
       "8768                 4.5e-10                2.9e-08                9.5e-10   \n",
       "20871                4.5e-10                2.9e-08                9.5e-10   \n",
       "2727                 4.5e-10                2.9e-08                9.5e-10   \n",
       "8775                 4.5e-10                2.9e-08                9.5e-10   \n",
       "\n",
       "       $\\epsilon$  \n",
       "28161     3.6e-04  \n",
       "16051     3.6e-04  \n",
       "22106     3.6e-04  \n",
       "3948      3.6e-04  \n",
       "27825     3.6e-04  \n",
       "...           ...  \n",
       "14823     2.9e-08  \n",
       "8768      2.9e-08  \n",
       "20871     2.9e-08  \n",
       "2727      2.9e-08  \n",
       "8775      2.9e-08  \n",
       "\n",
       "[36288 rows x 13 columns]"
      ]
     },
     "execution_count": 76,
     "metadata": {},
     "output_type": "execute_result"
    }
   ],
   "source": [
    "pd.options.display.float_format = '{:,.1e}'.format\n",
    "dg.sort_values(by='$\\epsilon$', ascending=False)"
   ]
  },
  {
   "cell_type": "markdown",
   "id": "f40ae0c0",
   "metadata": {},
   "source": [
    "Ok, the errors are no larger than 1.2%."
   ]
  },
  {
   "cell_type": "code",
   "execution_count": 77,
   "id": "f47626eb",
   "metadata": {},
   "outputs": [
    {
     "data": {
      "image/png": "[encoded data removed]",
      "text/plain": [
       "<Figure size 640x480 with 1 Axes>"
      ]
     },
     "metadata": {},
     "output_type": "display_data"
    }
   ],
   "source": [
    "plt.semilogy(sorted(dg['$\\epsilon$']))\n",
    "plt.show()"
   ]
  },
  {
   "cell_type": "code",
   "execution_count": 78,
   "id": "75f5ff28",
   "metadata": {},
   "outputs": [
    {
     "data": {
      "text/plain": [
       "Index(['$\\omega$ [Hz]', '$s_j$ [nm]', '$r_k$ [nm]', '$\\epsilon_{\\mathrm{r}}$',\n",
       "       '$\\sigma$ [S/m]', '$\\rho$ [1/m$^3$]', '$\\epsilon$(Re[$K_0$])',\n",
       "       '$\\epsilon$(Im[$K_0$])', '$\\epsilon$(Re[$K_1$])',\n",
       "       '$\\epsilon$(Im[$K_1$])', '$\\epsilon$(Re[$K_2$])',\n",
       "       '$\\epsilon$(Im[$K_2$])', '$\\epsilon$'],\n",
       "      dtype='object')"
      ]
     },
     "execution_count": 78,
     "metadata": {},
     "output_type": "execute_result"
    }
   ],
   "source": [
    "dg.keys()"
   ]
  },
  {
   "cell_type": "code",
   "execution_count": 79,
   "id": "61a8c172",
   "metadata": {
    "scrolled": true
   },
   "outputs": [
    {
     "data": {
      "image/png": "[encoded data removed]",
      "text/plain": [
       "<Figure size 640x480 with 1 Axes>"
      ]
     },
     "metadata": {},
     "output_type": "display_data"
    }
   ],
   "source": [
    "for key in [\n",
    "       '$\\epsilon$(Re[$K_0$])', '$\\epsilon$(Im[$K_0$])', \n",
    "       '$\\epsilon$(Re[$K_1$])', '$\\epsilon$(Im[$K_1$])', \n",
    "       '$\\epsilon$(Re[$K_2$])', '$\\epsilon$(Im[$K_2$])', \n",
    "       '$\\epsilon$']:\n",
    "    \n",
    "    plt.semilogy(sorted(abs(dg[key])), label=key)\n",
    "\n",
    "plt.legend(frameon=False)\n",
    "plt.show()    "
   ]
  },
  {
   "cell_type": "markdown",
   "id": "d163a8b2",
   "metadata": {},
   "source": [
    "# Discussion\n",
    "\n",
    "Set `BREAKPOINTS` in the `KmatrixIII_jit_new` code above and re-run the tests. \\\n",
    "Here is a summary of the largest $\\epsilon$ seen in each of the two tests:\n",
    "\n",
    "| BREAKPOINTS | small test | large test |\n",
    "| --- | --- | --- |\n",
    "| 6 | 5.8% | 34% |\n",
    "| 8 | 0.16% | 1.2% |\n",
    "| 10 | 0.0029% | 0.036 % |\n",
    "\n",
    "Wow, the accuracy improves dramatically as the number of integration breakpoints in increased! \\\n",
    "A summary of run times (i.e. user CPU time) for `BREAKPOINTS = 10`\n",
    "\n",
    "| test | values varied | no. values | run time | run time per value |\n",
    "| --- | --- | --- | --- | --- |\n",
    "| small | $\\boldsymbol{s}_j$, $\\boldsymbol{r}_k$, $\\omega$ | 108 | 767 ms | 7.1 ms |  \n",
    "| large | $\\boldsymbol{s}_j$, $\\boldsymbol{r}_k$, $\\omega$, $\\epsilon_{\\mathrm{s}}$, $\\rho$, $\\sigma$ | 36288 | 3 min 15s |  5.4 ms | "
   ]
  },
  {
   "cell_type": "markdown",
   "id": "52ffad9a",
   "metadata": {},
   "source": [
    "Here are the two run-time-per-value computations:"
   ]
  },
  {
   "cell_type": "code",
   "execution_count": 80,
   "id": "7fd38573",
   "metadata": {},
   "outputs": [
    {
     "data": {
      "text/plain": [
       "7.101851851851852"
      ]
     },
     "execution_count": 80,
     "metadata": {},
     "output_type": "execute_result"
    }
   ],
   "source": [
    "767/108"
   ]
  },
  {
   "cell_type": "code",
   "execution_count": 81,
   "id": "ca829129",
   "metadata": {},
   "outputs": [
    {
     "data": {
      "text/plain": [
       "5.373677248677248"
      ]
     },
     "execution_count": 81,
     "metadata": {},
     "output_type": "execute_result"
    }
   ],
   "source": [
    "(3 * 60 + 15) * 1000 / 36288"
   ]
  },
  {
   "cell_type": "markdown",
   "id": "a0b8320d",
   "metadata": {},
   "source": [
    "Above we estimated the run time per loop for `KmatrixIII_jit_new` to be $41.4 \\mu$s.  \\\n",
    "The integration uses 10 breakpoints and 20 Newton-Cotes integration points per breakpoint. \\\n",
    "The expected run time per value in milliseconds is therefore"
   ]
  },
  {
   "cell_type": "code",
   "execution_count": 82,
   "id": "85d51627",
   "metadata": {},
   "outputs": [
    {
     "data": {
      "text/plain": [
       "8.28"
      ]
     },
     "execution_count": 82,
     "metadata": {},
     "output_type": "execute_result"
    }
   ],
   "source": [
    "41.4e-6 * 10 * 20 * 1000"
   ]
  },
  {
   "cell_type": "markdown",
   "id": "884ca13e",
   "metadata": {},
   "source": [
    "This number is in reasonable agreement with 7.1 and 5.4 ms estimates above. "
   ]
  },
  {
   "cell_type": "markdown",
   "id": "1fa862f9",
   "metadata": {},
   "source": [
    "::: {.content-hidden when-format=\"html\"}\n",
    "\n",
    "# Formatting notes\n",
    "\n",
    "The header at the top of this file is for creating a nicely-formatted `.html` document using the program `quarto` ([link](https://quarto.org/)).  To create nicely-formated `.html`versions of this notebook, run `quarto` from the command line as follows\n",
    "\n",
    "    quarto render dissipation-theory--Study-63.ipynb && open dissipation-theory--Study-63.html\n",
    "    \n",
    ":::"
   ]
  }
 ],
 "metadata": {
  "kernelspec": {
   "display_name": "dissipationtheory",
   "language": "python",
   "name": "dissipationtheory"
  },
  "language_info": {
   "codemirror_mode": {
    "name": "ipython",
    "version": 3
   },
   "file_extension": ".py",
   "mimetype": "text/x-python",
   "name": "python",
   "nbconvert_exporter": "python",
   "pygments_lexer": "ipython3",
   "version": "3.10.2"
  },
  "toc": {
   "base_numbering": 1,
   "nav_menu": {},
   "number_sections": true,
   "sideBar": true,
   "skip_h1_title": false,
   "title_cell": "Table of Contents",
   "title_sidebar": "Contents",
   "toc_cell": false,
   "toc_position": {},
   "toc_section_display": true,
   "toc_window_display": true
  }
 },
 "nbformat": 4,
 "nbformat_minor": 5
}
