{
 "cells": [
  {
   "cell_type": "raw",
   "id": "bc2fd578",
   "metadata": {},
   "source": [
    "---\n",
    "title: Code up the GPU computation of frequency shift for a Type I sample\n",
    "author: \"John A. Marohn\"\n",
    "date: \n",
    "abstract: Develop code for computing the AC and AM frequency shift for a Type I sample.  Compare the real and imaginary parts of the $K_n$ integrals computed using CPU and GPU code over a wide range of sample parameters.\n",
    "toc: true\n",
    "number-sections: true\n",
    "highlight-style: pygments\n",
    "embed-resources: true\n",
    "dpi: 300\n",
    "format:\n",
    "    html:\n",
    "        html-math-method:\n",
    "          method: mathjax\n",
    "          url: \"https://cdn.jsdelivr.net/npm/mathjax@3/es5/tex-mml-chtml.js\"\n",
    "        code-fold: true\n",
    "        code-tools: true\n",
    "jupyter: python3\n",
    "---"
   ]
  },
  {
   "cell_type": "markdown",
   "id": "be16a7b5",
   "metadata": {},
   "source": [
    "# Preliminaries"
   ]
  },
  {
   "cell_type": "code",
   "execution_count": 8,
   "id": "4ed61852",
   "metadata": {},
   "outputs": [],
   "source": [
    "import torch\n",
    "import numpy as np\n",
    "from numba import jit"
   ]
  },
  {
   "cell_type": "code",
   "execution_count": 9,
   "id": "0328a948",
   "metadata": {},
   "outputs": [],
   "source": [
    "import matplotlib.pylab as plt"
   ]
  },
  {
   "cell_type": "code",
   "execution_count": 10,
   "id": "ca9ac2a2",
   "metadata": {},
   "outputs": [],
   "source": [
    "from dissipationtheory.constants import ureg\n",
    "from dissipationtheory.dissipation9a import CantileverModel, SampleModel3\n",
    "from dissipationtheory.dissipation9b import SampleModel3Jit\n",
    "from dissipationtheory.dissipation15e import get_device, Cmatrix, twodimCobject\n",
    "from dissipationtheory.dissipation15e import compute_blds_ac, compute_blds_am\n",
    "from dissipationtheory.dissipation15e import plotme as plotme15e"
   ]
  },
  {
   "cell_type": "code",
   "execution_count": 11,
   "id": "b80131dd",
   "metadata": {},
   "outputs": [],
   "source": [
    "THIS = 'dissipation-theory--Study-71--'\n",
    "figs = {}"
   ]
  },
  {
   "cell_type": "markdown",
   "id": "8b35aff8",
   "metadata": {},
   "source": [
    "# Type III sample computation\n",
    "\n",
    "Repeat calculations from Study 70 using the GPU-coded functions in `dissipationtheory.dissipation15e`. \\\n",
    "For a Type III sample, compute and plot $\\Delta f_{\\mathrm{ac}}$, $F_{\\mathrm{ac}}$, $\\Delta f_{\\mathrm{am}}$, and $F_{\\mathrm{am}}$ versus modulation frequency $\\omega_{\\mathrm{m}}$ at selected tip-sample separation $h$."
   ]
  },
  {
   "cell_type": "code",
   "execution_count": null,
   "id": "314a1272",
   "metadata": {},
   "outputs": [],
   "source": [
    "device = get_device(verbose=True)\n",
    "\n",
    "cantilever = CantileverModel(\n",
    "    f_c=ureg.Quantity(62, \"kHz\"),\n",
    "    k_c=ureg.Quantity(2.8, \"N/m\"),\n",
    "    V_ts=ureg.Quantity(1, \"V\"),\n",
    "    R=ureg.Quantity(60, \"nm\"),\n",
    "    angle=ureg.Quantity(20, \"degree\"),\n",
    "    L=ureg.Quantity(1000, \"nm\"),\n",
    ")\n",
    "\n",
    "sample3 = SampleModel3(\n",
    "    cantilever=cantilever,\n",
    "    epsilon_s=ureg.Quantity(complex(3, 0), \"\"),\n",
    "    sigma=ureg.Quantity(1e-6, \"S/m\"),\n",
    "    rho=ureg.Quantity(1e21, \"1/m^3\"),\n",
    "    z_r=ureg.Quantity(1, \"nm\"),\n",
    ")\n",
    "\n",
    "sample3_jit = SampleModel3Jit(**sample3.args())\n",
    "\n",
    "# 1D torch array of frequencies\n",
    "\n",
    "omega_m__torch = torch.as_tensor(\n",
    "    np.logspace(start=3,stop=6,num=40).astype(np.float32), \n",
    "    device=device)\n",
    "\n",
    "omega_am__torch = torch.as_tensor(250.0, device=device)\n",
    "\n",
    "# 2D torch array of tip displacement vectors\n",
    "\n",
    "dh__torch = torch.zeros((6, 3), device=device)\n",
    "\n",
    "dh__torch[:,2] = torch.as_tensor(\n",
    "    np.linspace(0, 50, 6).astype(np.float32), \n",
    "    device=device)\n",
    "\n",
    "# Numpy arrays of z height and frequency for plotting\n",
    "\n",
    "h =  100 + dh__torch[:,2].cpu().numpy()\n",
    "omega_m = omega_m__torch.cpu().numpy() \n",
    "\n",
    "# Cantilver at height 100 nm\n",
    "\n",
    "obj = twodimCobject(sample3, device)\n",
    "obj.addsphere(ureg.Quantity(100,'nm'), 21, 24)\n",
    "obj.set_alpha(1.0e-6)\n",
    "obj.set_integration_points(21 * 15)"
   ]
  },
  {
   "cell_type": "code",
   "execution_count": null,
   "id": "d0d2d999",
   "metadata": {},
   "outputs": [],
   "source": [
    "label_df = 'frequency shift $|\\Delta f_{\\mathrm{ac}} (\\omega_{\\mathrm{m}})|$ [Hz]'\n",
    "label_F = 'force $|F_{\\mathrm{ac}} (\\omega_{\\mathrm{m}})|$ [pN]'\n",
    "\n",
    "Fac, dfac = compute_blds_ac(obj, dh__torch, omega_m__torch)\n",
    "\n",
    "figs['01a'] = plotme15e(h, omega_m, Fac, label_F, 'voltage modulation: ac')\n",
    "figs['01b'] = plotme15e(h, omega_m, dfac, label_df, 'voltage modulation: ac')    "
   ]
  },
  {
   "cell_type": "code",
   "execution_count": null,
   "id": "aa8a0f4d",
   "metadata": {},
   "outputs": [],
   "source": [
    "Fam, dfam = compute_blds_am(obj, dh__torch, omega_m__torch, omega_am__torch)\n",
    "\n",
    "figs['01c'] = plotme15e(h, omega_m, Fam, label_F, 'voltage modulation: ac + am')\n",
    "figs['01d'] = plotme15e(h, omega_m, dfam, label_df, 'voltage modulation: ac + am')"
   ]
  },
  {
   "cell_type": "markdown",
   "id": "b36f0971",
   "metadata": {},
   "source": [
    "# Type I sample torch calculation"
   ]
  },
  {
   "cell_type": "code",
   "execution_count": null,
   "id": "6f7d1df0",
   "metadata": {},
   "outputs": [],
   "source": [
    "from dissipationtheory.dissipation9a import SampleModel1\n",
    "from dissipationtheory.dissipation9b import SampleModel1Jit\n",
    "from dissipationtheory.dissipation13e import rpI_jit"
   ]
  },
  {
   "cell_type": "markdown",
   "id": "a0dc1877",
   "metadata": {},
   "source": [
    "## Integrand via compiled CPU code"
   ]
  },
  {
   "cell_type": "code",
   "execution_count": null,
   "id": "cda15d21",
   "metadata": {},
   "outputs": [],
   "source": [
    "sample1 = SampleModel1(\n",
    "    cantilever=cantilever,\n",
    "    epsilon_s=ureg.Quantity(complex(3, 0), \"\"),\n",
    "    h_s=ureg.Quantity(500, \"nm\"),\n",
    "    sigma=ureg.Quantity(1e-6, \"S/m\"),\n",
    "    rho=ureg.Quantity(1e21, \"1/m^3\"),\n",
    "    epsilon_d=ureg.Quantity(complex(1000, 0), \"\"),\n",
    "    z_r=ureg.Quantity(1, \"nm\")\n",
    ")\n",
    "\n",
    "obj = twodimCobject(sample1, device)\n",
    "obj.addsphere(ureg.Quantity(100,'nm'), 21, 24)\n",
    "obj.set_alpha(1.0e-6)\n",
    "obj.set_integration_points(21 * 15)"
   ]
  },
  {
   "cell_type": "code",
   "execution_count": null,
   "id": "5eea93f7",
   "metadata": {},
   "outputs": [],
   "source": [
    "y = np.logspace(np.log10(2e-9), np.log10(2.0e1), 100)\n",
    "omega = 1e5"
   ]
  },
  {
   "cell_type": "code",
   "execution_count": null,
   "id": "3d599576",
   "metadata": {},
   "outputs": [],
   "source": [
    "zjkref = obj.sj[0,2] +  obj.rk[0,2]\n",
    "zjkref"
   ]
  },
  {
   "cell_type": "code",
   "execution_count": null,
   "id": "e37416a6",
   "metadata": {},
   "outputs": [],
   "source": [
    "# rpI_jit arguments: y, omega, omega0, zr, kD, hs, es, ed)\n",
    "\n",
    "# @jit(nopython=True)\n",
    "def calc_ans_jit(y): \n",
    "    ans_jit = np.zeros_like(y, dtype=complex)\n",
    "    for index, y_ in enumerate(y):\n",
    "\n",
    "        args_jit = {'y': y_,\n",
    "            'omega': omega, \n",
    "            'omega0': obj.sample.omega0.to('Hz').magnitude,\n",
    "            'zr': zjkref,\n",
    "            'kD': obj.sample.kD.to('1/m').magnitude,\n",
    "            'hs': obj.sample.h_s.to('m').magnitude,\n",
    "            'es': obj.sample.epsilon_s.to('').magnitude, \n",
    "            'ed': obj.sample.epsilon_d.to('').magnitude}\n",
    "\n",
    "        ans_jit[index] = rpI_jit(**args_jit)\n",
    "    return ans_jit"
   ]
  },
  {
   "cell_type": "code",
   "execution_count": null,
   "id": "80f4c950",
   "metadata": {},
   "outputs": [],
   "source": [
    "ans_jit = calc_ans_jit(y)"
   ]
  },
  {
   "cell_type": "code",
   "execution_count": null,
   "id": "cde423eb",
   "metadata": {},
   "outputs": [],
   "source": [
    "%timeit calc_ans_jit(y)"
   ]
  },
  {
   "cell_type": "code",
   "execution_count": null,
   "id": "0d313681",
   "metadata": {},
   "outputs": [],
   "source": [
    "def plot_integrand(y, ans):\n",
    "    \n",
    "    fig = plt.figure(figsize=(3.0, 2.5))\n",
    "    plt.semilogx(y, ans_jit.real, '-', label='Re')\n",
    "    plt.semilogx(y, ans_jit.imag, '-', label='Im')\n",
    "    plt.ylabel('$r_p(y)$')\n",
    "    plt.xlabel('y')\n",
    "    fig.tight_layout() \n",
    "    \n",
    "    return fig"
   ]
  },
  {
   "cell_type": "code",
   "execution_count": null,
   "id": "1784e270",
   "metadata": {},
   "outputs": [],
   "source": [
    "figs['02a'] = plot_integrand(y, ans_jit)"
   ]
  },
  {
   "cell_type": "markdown",
   "id": "b7b525d9",
   "metadata": {},
   "source": [
    "## Integrand via compiled GPU code\n",
    "\n",
    "This function runs faster if it is *not* compiled!"
   ]
  },
  {
   "cell_type": "code",
   "execution_count": null,
   "id": "8e8dae6a",
   "metadata": {},
   "outputs": [],
   "source": [
    "def rpI(\n",
    "    y: torch.tensor, \n",
    "    omega: float, \n",
    "    omega0: float, \n",
    "    zr: float, \n",
    "    kD: float,\n",
    "    hs: float,\n",
    "    es: complex,\n",
    "    ed: complex\n",
    ") -> torch.complex128:\n",
    "    \"\"\"Fresnel coefficient for Sample III object:\n",
    "\n",
    "        cantilever | vacuum gap | semiconductor (semi-infinite)\n",
    "\n",
    "    In the code below, `y` is the unitless integration variable.\n",
    "    \"\"\"\n",
    "\n",
    "    Omega = omega / omega0\n",
    "    \n",
    "    theta1 = complex(1,0) * torch.sqrt(\n",
    "        y**2 * (hs / (zr * 1.0e-9) )**2 + (hs * kD)**2 * (1/es + complex(0,1) * Omega))\n",
    "    \n",
    "    theta2 = complex(1,0) * y * hs / (zr * 1.0e-9)\n",
    "\n",
    "    k_over_eta = y / torch.sqrt(\n",
    "        y**2 + (zr * 1e-9 * kD) ** 2 * (1 / es + complex(0, 1) * Omega)\n",
    "    )\n",
    "\n",
    "    p0 = 1 + complex(0,1) * es * Omega\n",
    "    p1 = k_over_eta / (es * p0)\n",
    "    p2 = - Omega**2 / (p0 * p0)\n",
    "    p3 = complex(0,1) * Omega / (ed * p0)\n",
    "    p4 = complex(0,1) * Omega * k_over_eta / (es * p0**2) \n",
    "    p5 = - k_over_eta**2 / (es**2 * p0**2)\n",
    "    p6 = complex(0,1) * Omega / p0\n",
    "    p7 = 1 / ed\n",
    "\n",
    "    t1 = p1 / torch.tanh(theta1)\n",
    "    n1 = p2 * torch.tanh(theta1) * torch.tanh(theta2) + p3 * torch.tanh(theta1) + p4\n",
    "    n2 = - 2 * p4 / (torch.cosh(theta2) * torch.cosh(theta1))\n",
    "    n3 = p5 * torch.tanh(theta2) / (torch.cosh(theta1) * torch.sinh(theta1))\n",
    "    # n2 = 0 \n",
    "    # n3 = 0\n",
    "    d1 = p6 * torch.tanh(theta1) + torch.tanh(theta2) * (p1 + p7 * torch.tanh(theta1))\n",
    "\n",
    "    theta_norm = t1 + (n1 + n2 + n3)/d1\n",
    "    rp = (1 - theta_norm) / (1 + theta_norm)\n",
    " \n",
    "    return rp"
   ]
  },
  {
   "cell_type": "code",
   "execution_count": null,
   "id": "01e40350",
   "metadata": {},
   "outputs": [],
   "source": [
    "# rpI arguments: y, omega, omega0, zr, kD, hs, es, ed)\n",
    "\n",
    "args_torch = {'y': torch.tensor(y),\n",
    "    'omega': omega, \n",
    "    'omega0': obj.sample.omega0.to('Hz').magnitude,\n",
    "    'zr': zjkref,\n",
    "    'kD': obj.sample.kD.to('1/m').magnitude,\n",
    "    'hs': obj.sample.h_s.to('m').magnitude,\n",
    "    'es': obj.sample.epsilon_s.to('').magnitude, \n",
    "    'ed': obj.sample.epsilon_d.to('').magnitude}"
   ]
  },
  {
   "cell_type": "code",
   "execution_count": null,
   "id": "7d30bb66",
   "metadata": {},
   "outputs": [],
   "source": [
    "ans_torch = rpI(**args_torch).cpu().numpy()"
   ]
  },
  {
   "cell_type": "code",
   "execution_count": null,
   "id": "7d7fb1c7",
   "metadata": {},
   "outputs": [],
   "source": [
    "%timeit rpI(**args_torch).cpu().numpy()"
   ]
  },
  {
   "cell_type": "code",
   "execution_count": null,
   "id": "78173ead",
   "metadata": {},
   "outputs": [],
   "source": [
    "figs['02b'] = plot_integrand(y, ans_torch)"
   ]
  },
  {
   "cell_type": "markdown",
   "id": "96143d09",
   "metadata": {},
   "source": [
    "## The answers agree"
   ]
  },
  {
   "cell_type": "markdown",
   "id": "5704ee58",
   "metadata": {},
   "source": [
    "Here we compare the integrand computed over a number of points."
   ]
  },
  {
   "cell_type": "code",
   "execution_count": null,
   "id": "09bc31a7",
   "metadata": {},
   "outputs": [],
   "source": [
    "(ans_jit.size, np.allclose(ans_jit,ans_torch))"
   ]
  },
  {
   "cell_type": "markdown",
   "id": "5b1acb65",
   "metadata": {},
   "source": [
    "## Integrator Try 1"
   ]
  },
  {
   "cell_type": "code",
   "execution_count": null,
   "id": "d2e99c11",
   "metadata": {},
   "outputs": [],
   "source": [
    "# rp_III_integrator arguments: omega, omega0, kD, es, sj, rk, dh, pts, device\n",
    "#   rp_I_integrator arguments: omega, omega0, kD, hs, es, ed, sj, rk, dh, pts, device\n",
    "#            rpI arguments: y, omega, omega0, zr, kD, hs, es, ed\n",
    "\n",
    "@torch.compile\n",
    "def rp_I_integrator(\n",
    "    omega: float,\n",
    "    omega0: float,\n",
    "    kD: float,\n",
    "    hs: float,\n",
    "    es: complex,\n",
    "    ed: complex,\n",
    "    sj: torch.tensor,\n",
    "    rk: torch.tensor,\n",
    "    dh: torch.tensor,\n",
    "    pts: int,\n",
    "    device: torch.device,\n",
    ") -> torch.tensor:\n",
    "\n",
    "    y_min = 2.0e-9\n",
    "    y_max = 2.0e1\n",
    "\n",
    "    w = torch.linspace(\n",
    "        torch.log(torch.tensor(y_min)),\n",
    "        torch.log(torch.tensor(y_max)),\n",
    "        pts,\n",
    "        device=device,\n",
    "    )\n",
    "\n",
    "    sj = sj + dh\n",
    "    rk = rk + dh\n",
    "\n",
    "    zjkref = sj[2] + rk[2]\n",
    "    x = torch.sqrt((sj[0] - rk[0]) ** 2 + (sj[1] - rk[1]) ** 2) / zjkref\n",
    "\n",
    "    t0 = torch.exp(w)\n",
    "    t1 = torch.exp(w - t0)\n",
    "    t2 = torch.special.bessel_j0(t0 * x)\n",
    "    t3 = rpI(t0, omega, omega0, zjkref, kD, hs, es, ed)\n",
    "    \n",
    "    I0 = t1 * t2 * t3\n",
    "    I1 = t0 * I0\n",
    "    I2 = t0 * I1\n",
    "\n",
    "    K0 = torch.trapezoid(y=I0, x=w) / zjkref**1\n",
    "    K1 = torch.trapezoid(y=I1, x=w) / zjkref**2\n",
    "    K2 = torch.trapezoid(y=I2, x=w) / zjkref**3\n",
    "\n",
    "    return [K0, K1, K2]  # Works if this is a list but NOT a torch.tensor()"
   ]
  },
  {
   "cell_type": "code",
   "execution_count": null,
   "id": "f92313a1",
   "metadata": {},
   "outputs": [],
   "source": [
    "# rp_I_integrator arguments: omega, omega0, kD, hs, es, ed, sj, rk, dh, pts, device <== 11 arguments\n",
    "#\n",
    "#                        rk: None, None, None, None, None, None, None,    0, None, None, None\n",
    "#                        sj: None, None, None, None, None, None,    0, None, None, None, None \n",
    "#                     omega:    0, None, None, None, None, None, None, None, None, None, None \n",
    "#                        dh: None, None, None, None, None, None, None, None,    0, None, None \n",
    "# \n",
    "\n",
    "KmatrixIhw = \\\n",
    "torch.vmap(\n",
    "    torch.vmap(\n",
    "        torch.vmap(\n",
    "            torch.vmap(\n",
    "                rp_I_integrator,\n",
    "                in_dims=(None, None, None, None, None, None, None, 0, None, None, None),\n",
    "                out_dims=0,\n",
    "            ),\n",
    "            in_dims=(None, None, None, None, None, None, 0, None, None, None, None),\n",
    "            out_dims=0,\n",
    "        ),\n",
    "        in_dims=(0, None, None, None, None, None, None, None, None, None, None),\n",
    "        out_dims=0,\n",
    "    ),\n",
    "    in_dims=(None, None, None, None, None, None, None, None, 0, None, None),\n",
    "    out_dims=0\n",
    ")"
   ]
  },
  {
   "cell_type": "code",
   "execution_count": null,
   "id": "9327db21",
   "metadata": {},
   "outputs": [],
   "source": [
    "class twodimCobjectExperimental(twodimCobject):\n",
    "    \n",
    "    def solve(self, dh_tensor, omega_tensor):\n",
    "        \n",
    "        sj = torch.as_tensor(self.sj.astype(np.float32), device=self.device)\n",
    "        rk = torch.as_tensor(self.rk.astype(np.float32), device=self.device)\n",
    "        \n",
    "        # The Coulomb matrix doesn't depend on tip-sample \n",
    "        # separation or frequency\n",
    "\n",
    "        Ctensor = Cmatrix(sj, rk) \n",
    "        \n",
    "       \n",
    "        if self.sample.type == 3:\n",
    "            \n",
    "            omega0 = self.sample.omega0.to('Hz').magnitude\n",
    "            kD = self.sample.kD.to('1/m').magnitude\n",
    "            es = self.sample.epsilon_s.to('').magnitude\n",
    "            \n",
    "            K0tensor, K1tensor, K2tensor = KmatrixIIIhw(omega_tensor, omega0, kD, es, sj, rk, dh_tensor, self.pts, self.device)\n",
    "\n",
    "        elif self.sample.type == 1:\n",
    "        \n",
    "            omega0 = self.sample.omega0.to('Hz').magnitude\n",
    "            kD = self.sample.kD.to('1/m').magnitude\n",
    "            hs = self.sample.h_s.to('m').magnitude\n",
    "            es = self.sample.epsilon_s.to('').magnitude            \n",
    "            ed = self.sample.epsilon_d.to('').magnitude\n",
    "            \n",
    "            K0tensor, K1tensor, K2tensor = KmatrixIhw(omega_tensor, omega0, kD, hs, es, ed, sj, rk, dh_tensor, self.pts, self.device)\n",
    "            \n",
    "        else:\n",
    "            \n",
    "            raise Exception(\"unknown sample type\")\n",
    "                \n",
    "        C = Ctensor.cpu().numpy()\n",
    "        K0 = K0tensor.cpu().numpy() \n",
    "        K1 = K1tensor.cpu().numpy()\n",
    "        K2 = K2tensor.cpu().numpy()\n",
    "        \n",
    "        return C, K0, K1, K2    "
   ]
  },
  {
   "cell_type": "markdown",
   "id": "219dabc6",
   "metadata": {},
   "source": [
    "At $h_{\\mathrm{s}}$ values greater than about 438 nm, we are getting `nan` values for the $L_n$'s. \\\n",
    "These `nan` values are causing the singular value decomposition step in\n",
    "\n",
    "    _, dfacI = compute_blds_ac(objI, dh__torch, omega_m__torch)\n",
    "\n",
    "to fail with the error \n",
    "\n",
    "    LinAlgError: SVD did not converge\n",
    "    \n",
    "Why is the torch version of `rpI` and `rp_I_integrator` failing like this?"
   ]
  },
  {
   "cell_type": "code",
   "execution_count": null,
   "id": "9d2acad4",
   "metadata": {},
   "outputs": [],
   "source": [
    "sampleI = SampleModel1(\n",
    "    cantilever=cantilever,\n",
    "    epsilon_s=ureg.Quantity(complex(3, 0), \"\"),\n",
    "    h_s=ureg.Quantity(455, \"nm\"),\n",
    "    sigma=ureg.Quantity(1e-6, \"S/m\"),\n",
    "    rho=ureg.Quantity(1e21, \"1/m^3\"),\n",
    "    epsilon_d=ureg.Quantity(complex(1e6, 0), \"\"),\n",
    "    z_r=ureg.Quantity(1, \"nm\")\n",
    ")"
   ]
  },
  {
   "cell_type": "code",
   "execution_count": null,
   "id": "5497cf13",
   "metadata": {},
   "outputs": [],
   "source": [
    "objI = twodimCobjectExperimental(sampleI, device)\n",
    "objI.addsphere(ureg.Quantity(100,'nm'), 21, 24)\n",
    "objI.set_alpha(1.0e-6)\n",
    "objI.set_integration_points(21 * 15)"
   ]
  },
  {
   "cell_type": "code",
   "execution_count": null,
   "id": "3b3efe13",
   "metadata": {},
   "outputs": [],
   "source": [
    "C, L0, L1, L2 = objI.solve(dh__torch, omega_m__torch)"
   ]
  },
  {
   "cell_type": "code",
   "execution_count": null,
   "id": "570e6681",
   "metadata": {},
   "outputs": [],
   "source": [
    "print(f\"Number of NaNs in L0: {np.sum(np.isnan(L0))}\")"
   ]
  },
  {
   "cell_type": "code",
   "execution_count": null,
   "id": "e684ea7f",
   "metadata": {},
   "outputs": [],
   "source": [
    "(L0.shape, np.argwhere(np.isnan(L0)))"
   ]
  },
  {
   "cell_type": "markdown",
   "id": "c545e62d",
   "metadata": {},
   "source": [
    "We can see that the higher frequencies are causing trouble.\n",
    "\n",
    "If I tinker with `rpI` and set\n",
    "\n",
    "    n2 = 0\n",
    "    n3 = 0\n",
    "    \n",
    "then there are no `nan` values.  \\\n",
    "I suspect the problem comes from the\n",
    "\n",
    "    1/torch.cosh(theta1) ~ sech(theta1)\n",
    "    1/torch.sinh(theta1) ~ csch(theta1)\n",
    "    \n",
    "terms because `theta1` is getting large `hs` and large `Omega`."
   ]
  },
  {
   "cell_type": "markdown",
   "id": "b17e2569",
   "metadata": {},
   "source": [
    "How large an argument can `torch.sinh` and `torch.cosh` handle?"
   ]
  },
  {
   "cell_type": "code",
   "execution_count": null,
   "id": "b803f666",
   "metadata": {},
   "outputs": [],
   "source": [
    "t0 = torch.tensor([1+0.5j])\n",
    "t1 = torch.tensor([89, 90])\n",
    "\n",
    "(torch.sinh(t1), torch.cosh(t1))"
   ]
  },
  {
   "cell_type": "markdown",
   "id": "f07cfaf6",
   "metadata": {},
   "source": [
    "Less than about 89, much smaller than the 710.4 limit for `np.cosh` and `np.sinh`. \\\n",
    "Interestingly, torch evaluates `1/inf` to `0` nicely. "
   ]
  },
  {
   "cell_type": "code",
   "execution_count": null,
   "id": "8ec229c7",
   "metadata": {},
   "outputs": [],
   "source": [
    "(1/torch.sinh(t1), 1/torch.cosh(t1))"
   ]
  },
  {
   "cell_type": "markdown",
   "id": "953d4268",
   "metadata": {},
   "source": [
    "So why the `nan` values?"
   ]
  },
  {
   "cell_type": "code",
   "execution_count": null,
   "id": "78d9de3d",
   "metadata": {},
   "outputs": [],
   "source": [
    "(torch.exp(t1), torch.exp(-t1))"
   ]
  },
  {
   "cell_type": "markdown",
   "id": "06f1a386",
   "metadata": {},
   "source": [
    "Define my own hyperbolic secant function which involves only $e^{-x}$ and not $e^{x}$."
   ]
  },
  {
   "cell_type": "code",
   "execution_count": null,
   "id": "b66242fd",
   "metadata": {},
   "outputs": [],
   "source": [
    "def mysech(x):\n",
    "    \n",
    "    return 2 * torch.exp(-x)/(1 + torch.exp(- 2 * x))"
   ]
  },
  {
   "cell_type": "code",
   "execution_count": null,
   "id": "fbca3457",
   "metadata": {},
   "outputs": [],
   "source": [
    "(1/torch.cosh(t0), mysech(t0), 1/torch.cosh(t1), mysech(t1))"
   ]
  },
  {
   "cell_type": "markdown",
   "id": "659fcc27",
   "metadata": {},
   "source": [
    "Define my own hyperbolic cosecant function which involves only $e^{-x}$ and not $e^{x}$."
   ]
  },
  {
   "cell_type": "code",
   "execution_count": null,
   "id": "07e1d4a8",
   "metadata": {},
   "outputs": [],
   "source": [
    "def mycsch(x):\n",
    "    \n",
    "    return 2 * torch.exp(-x)/(1 - torch.exp(- 2 * x))"
   ]
  },
  {
   "cell_type": "code",
   "execution_count": null,
   "id": "e21ae6e7",
   "metadata": {},
   "outputs": [],
   "source": [
    "(1/torch.sinh(t0), mycsch(t0), 1/torch.sinh(t1), mycsch(t1))"
   ]
  },
  {
   "cell_type": "markdown",
   "id": "16934ad2",
   "metadata": {},
   "source": [
    "## Integrator Try 2"
   ]
  },
  {
   "cell_type": "code",
   "execution_count": null,
   "id": "9cca0f4e",
   "metadata": {},
   "outputs": [],
   "source": [
    "def mysech(x):\n",
    "    \n",
    "    return 2 * torch.exp(-x)/(1 + torch.exp(- 2 * x))"
   ]
  },
  {
   "cell_type": "code",
   "execution_count": null,
   "id": "62426a31",
   "metadata": {},
   "outputs": [],
   "source": [
    "def mycsch(x):\n",
    "    \n",
    "    return 2 * torch.exp(-x)/(1 - torch.exp(- 2 * x))"
   ]
  },
  {
   "cell_type": "code",
   "execution_count": null,
   "id": "73405f61",
   "metadata": {},
   "outputs": [],
   "source": [
    "def rpI(\n",
    "    y: torch.tensor, \n",
    "    omega: float, \n",
    "    omega0: float, \n",
    "    zr: float, \n",
    "    kD: float,\n",
    "    hs: float,\n",
    "    es: complex,\n",
    "    ed: complex\n",
    ") -> torch.complex128:\n",
    "    \"\"\"Fresnel coefficient for Sample III object:\n",
    "\n",
    "        cantilever | vacuum gap | semiconductor (semi-infinite)\n",
    "\n",
    "    In the code below, `y` is the unitless integration variable.\n",
    "    \"\"\"\n",
    "\n",
    "    Omega = omega / omega0\n",
    "    \n",
    "    theta1 = complex(1,0) * torch.sqrt(\n",
    "        y**2 * (hs / (zr * 1.0e-9) )**2 + (hs * kD)**2 * (1/es + complex(0,1) * Omega))\n",
    "    \n",
    "    theta2 = complex(1,0) * y * hs / (zr * 1.0e-9)\n",
    "\n",
    "    k_over_eta = y / torch.sqrt(\n",
    "        y**2 + (zr * 1e-9 * kD) ** 2 * (1 / es + complex(0, 1) * Omega)\n",
    "    )\n",
    "\n",
    "    p0 = 1 + complex(0,1) * es * Omega\n",
    "    p1 = k_over_eta / (es * p0)\n",
    "    p2 = - Omega**2 / (p0 * p0)\n",
    "    p3 = complex(0,1) * Omega / (ed * p0)\n",
    "    p4 = complex(0,1) * Omega * k_over_eta / (es * p0**2) \n",
    "    p5 = - k_over_eta**2 / (es**2 * p0**2)\n",
    "    p6 = complex(0,1) * Omega / p0\n",
    "    p7 = 1 / ed\n",
    "\n",
    "    t1 = p1 / torch.tanh(theta1)\n",
    "    n1 = p2 * torch.tanh(theta1) * torch.tanh(theta2) + p3 * torch.tanh(theta1) + p4\n",
    "    n2 = - 2 * p4 * mysech(theta2) * mysech(theta1)\n",
    "    n3 = p5 * torch.tanh(theta2) * mysech(theta1) * mycsch(theta1)\n",
    "    d1 = p6 * torch.tanh(theta1) + torch.tanh(theta2) * (p1 + p7 * torch.tanh(theta1))\n",
    "\n",
    "    theta_norm = t1 + (n1 + n2 + n3)/d1\n",
    "    rp = (1 - theta_norm) / (1 + theta_norm)\n",
    " \n",
    "    return rp"
   ]
  },
  {
   "cell_type": "markdown",
   "id": "d0dd2f51",
   "metadata": {},
   "source": [
    "Code from here below is copied from Try 1."
   ]
  },
  {
   "cell_type": "code",
   "execution_count": null,
   "id": "5ca4694d",
   "metadata": {},
   "outputs": [],
   "source": [
    "# rp_III_integrator arguments: omega, omega0, kD, es, sj, rk, dh, pts, device\n",
    "#   rp_I_integrator arguments: omega, omega0, kD, hs, es, ed, sj, rk, dh, pts, device\n",
    "#            rpI arguments: y, omega, omega0, zr, kD, hs, es, ed\n",
    "\n",
    "@torch.compile\n",
    "def rp_I_integrator(\n",
    "    omega: float,\n",
    "    omega0: float,\n",
    "    kD: float,\n",
    "    hs: float,\n",
    "    es: complex,\n",
    "    ed: complex,\n",
    "    sj: torch.tensor,\n",
    "    rk: torch.tensor,\n",
    "    dh: torch.tensor,\n",
    "    pts: int,\n",
    "    device: torch.device,\n",
    ") -> torch.tensor:\n",
    "\n",
    "    y_min = 2.0e-9\n",
    "    y_max = 2.0e1\n",
    "\n",
    "    w = torch.linspace(\n",
    "        torch.log(torch.tensor(y_min)),\n",
    "        torch.log(torch.tensor(y_max)),\n",
    "        pts,\n",
    "        device=device,\n",
    "    )\n",
    "\n",
    "    sj = sj + dh\n",
    "    rk = rk + dh\n",
    "\n",
    "    zjkref = sj[2] + rk[2]\n",
    "    x = torch.sqrt((sj[0] - rk[0]) ** 2 + (sj[1] - rk[1]) ** 2) / zjkref\n",
    "\n",
    "    t0 = torch.exp(w)\n",
    "    t1 = torch.exp(w - t0)\n",
    "    t2 = torch.special.bessel_j0(t0 * x)\n",
    "    t3 = rpI(t0, omega, omega0, zjkref, kD, hs, es, ed)\n",
    "    \n",
    "    I0 = t1 * t2 * t3\n",
    "    I1 = t0 * I0\n",
    "    I2 = t0 * I1\n",
    "\n",
    "    K0 = torch.trapezoid(y=I0, x=w) / zjkref**1\n",
    "    K1 = torch.trapezoid(y=I1, x=w) / zjkref**2\n",
    "    K2 = torch.trapezoid(y=I2, x=w) / zjkref**3\n",
    "\n",
    "    return [K0, K1, K2]  # Works if this is a list but NOT a torch.tensor()"
   ]
  },
  {
   "cell_type": "code",
   "execution_count": null,
   "id": "d64542f5",
   "metadata": {},
   "outputs": [],
   "source": [
    "# rp_I_integrator arguments: omega, omega0, kD, hs, es, ed, sj, rk, dh, pts, device <== 11 arguments\n",
    "#\n",
    "#                        rk: None, None, None, None, None, None, None,    0, None, None, None\n",
    "#                        sj: None, None, None, None, None, None,    0, None, None, None, None \n",
    "#                     omega:    0, None, None, None, None, None, None, None, None, None, None \n",
    "#                        dh: None, None, None, None, None, None, None, None,    0, None, None \n",
    "# \n",
    "\n",
    "KmatrixIhw = \\\n",
    "torch.vmap(\n",
    "    torch.vmap(\n",
    "        torch.vmap(\n",
    "            torch.vmap(\n",
    "                rp_I_integrator,\n",
    "                in_dims=(None, None, None, None, None, None, None, 0, None, None, None),\n",
    "                out_dims=0,\n",
    "            ),\n",
    "            in_dims=(None, None, None, None, None, None, 0, None, None, None, None),\n",
    "            out_dims=0,\n",
    "        ),\n",
    "        in_dims=(0, None, None, None, None, None, None, None, None, None, None),\n",
    "        out_dims=0,\n",
    "    ),\n",
    "    in_dims=(None, None, None, None, None, None, None, None, 0, None, None),\n",
    "    out_dims=0\n",
    ")"
   ]
  },
  {
   "cell_type": "code",
   "execution_count": null,
   "id": "4953385b",
   "metadata": {},
   "outputs": [],
   "source": [
    "class twodimCobjectExperimental(twodimCobject):\n",
    "    \n",
    "    def solve(self, dh_tensor, omega_tensor):\n",
    "        \n",
    "        sj = torch.as_tensor(self.sj.astype(np.float32), device=self.device)\n",
    "        rk = torch.as_tensor(self.rk.astype(np.float32), device=self.device)\n",
    "        \n",
    "        # The Coulomb matrix doesn't depend on tip-sample \n",
    "        # separation or frequency\n",
    "\n",
    "        Ctensor = Cmatrix(sj, rk) \n",
    "        \n",
    "       \n",
    "        if self.sample.type == 3:\n",
    "            \n",
    "            omega0 = self.sample.omega0.to('Hz').magnitude\n",
    "            kD = self.sample.kD.to('1/m').magnitude\n",
    "            es = self.sample.epsilon_s.to('').magnitude\n",
    "            \n",
    "            K0tensor, K1tensor, K2tensor = KmatrixIIIhw(omega_tensor, omega0, kD, es, sj, rk, dh_tensor, self.pts, self.device)\n",
    "\n",
    "        elif self.sample.type == 1:\n",
    "        \n",
    "            omega0 = self.sample.omega0.to('Hz').magnitude\n",
    "            kD = self.sample.kD.to('1/m').magnitude\n",
    "            hs = self.sample.h_s.to('m').magnitude\n",
    "            es = self.sample.epsilon_s.to('').magnitude            \n",
    "            ed = self.sample.epsilon_d.to('').magnitude\n",
    "            \n",
    "            K0tensor, K1tensor, K2tensor = KmatrixIhw(omega_tensor, omega0, kD, hs, es, ed, sj, rk, dh_tensor, self.pts, self.device)\n",
    "            \n",
    "        else:\n",
    "            \n",
    "            raise Exception(\"unknown sample type\")\n",
    "                \n",
    "        C = Ctensor.cpu().numpy()\n",
    "        K0 = K0tensor.cpu().numpy() \n",
    "        K1 = K1tensor.cpu().numpy()\n",
    "        K2 = K2tensor.cpu().numpy()\n",
    "        \n",
    "        return C, K0, K1, K2"
   ]
  },
  {
   "cell_type": "markdown",
   "id": "6c12ce8d",
   "metadata": {},
   "source": [
    "Now test it with $h_{\\mathrm{s}} = 4000$ nm, which would have given a $K_0$ matrix full of `nan` entries above."
   ]
  },
  {
   "cell_type": "code",
   "execution_count": null,
   "id": "92d48934",
   "metadata": {},
   "outputs": [],
   "source": [
    "sampleI = SampleModel1(\n",
    "    cantilever=cantilever,\n",
    "    epsilon_s=ureg.Quantity(complex(3, 0), \"\"),\n",
    "    h_s=ureg.Quantity(4000, \"nm\"),\n",
    "    sigma=ureg.Quantity(1e-6, \"S/m\"),\n",
    "    rho=ureg.Quantity(1e21, \"1/m^3\"),\n",
    "    epsilon_d=ureg.Quantity(complex(1e6, 0), \"\"),\n",
    "    z_r=ureg.Quantity(1, \"nm\")\n",
    ")\n",
    "\n",
    "objI = twodimCobjectExperimental(sampleI, device)\n",
    "objI.addsphere(ureg.Quantity(100,'nm'), 21, 24)\n",
    "objI.set_alpha(1.0e-6)\n",
    "objI.set_integration_points(21 * 15)\n",
    "\n",
    "C, L0, L1, L2 = objI.solve(dh__torch, omega_m__torch)\n",
    "\n",
    "print(f\"Number of NaNs in L0: {np.sum(np.isnan(L0))}\")"
   ]
  },
  {
   "cell_type": "markdown",
   "id": "e94426e1",
   "metadata": {},
   "source": [
    "We now see no `nan` entries. \\\n",
    "Success!"
   ]
  },
  {
   "cell_type": "code",
   "execution_count": null,
   "id": "ebf8dddf",
   "metadata": {},
   "outputs": [],
   "source": [
    "_, dfam = compute_blds_am(objI, dh__torch, omega_m__torch, omega_am__torch)\n",
    "\n",
    "figs['03a'] = plotme15e(h, omega_m, dfam, label_df, 'voltage modulation: ac + am')"
   ]
  },
  {
   "cell_type": "markdown",
   "id": "6a7ca59a",
   "metadata": {},
   "source": [
    "We get nearly the same answer as for the Type III sample, which is expected for a thick Type I sample."
   ]
  },
  {
   "cell_type": "code",
   "execution_count": null,
   "id": "7fe6de60",
   "metadata": {},
   "outputs": [],
   "source": [
    "figs['01d']"
   ]
  },
  {
   "cell_type": "markdown",
   "id": "d2cb1740",
   "metadata": {},
   "source": [
    "Now try a thinner sample, $h_{\\mathrm{s}} = 150$ nm."
   ]
  },
  {
   "cell_type": "code",
   "execution_count": null,
   "id": "b8d0717b",
   "metadata": {},
   "outputs": [],
   "source": [
    "sampleI = SampleModel1(\n",
    "    cantilever=cantilever,\n",
    "    epsilon_s=ureg.Quantity(complex(3, 0), \"\"),\n",
    "    h_s=ureg.Quantity(150, \"nm\"),\n",
    "    sigma=ureg.Quantity(1e-6, \"S/m\"),\n",
    "    rho=ureg.Quantity(1e21, \"1/m^3\"),\n",
    "    epsilon_d=ureg.Quantity(complex(1e6, 0), \"\"),\n",
    "    z_r=ureg.Quantity(1, \"nm\")\n",
    ")\n",
    "\n",
    "objI = twodimCobjectExperimental(sampleI, device)\n",
    "objI.addsphere(ureg.Quantity(100,'nm'), 21, 24)\n",
    "objI.set_alpha(1.0e-6)\n",
    "objI.set_integration_points(21 * 15)\n",
    "\n",
    "_, dfam = compute_blds_am(objI, dh__torch, omega_m__torch, omega_am__torch)\n",
    "\n",
    "figs['03b'] = plotme15e(h, omega_m, dfam, label_df, 'voltage modulation: ac + am')"
   ]
  },
  {
   "cell_type": "markdown",
   "id": "68c25152",
   "metadata": {},
   "source": [
    "Again, for comparison, the Type III sample."
   ]
  },
  {
   "cell_type": "code",
   "execution_count": null,
   "id": "ceb84391",
   "metadata": {},
   "outputs": [],
   "source": [
    "figs['01d']"
   ]
  },
  {
   "cell_type": "markdown",
   "id": "210eb549",
   "metadata": {},
   "source": [
    "Now the Type I and Type III samples exhibit different BLDS spectra. \\\n",
    "The thin Type I sample has less modulation and a broader spectrum. \\\n",
    "Interesting!"
   ]
  },
  {
   "cell_type": "markdown",
   "id": "d2a7679e",
   "metadata": {},
   "source": [
    "# Type I sample torch calculation\n",
    "\n",
    "I have moved the above code for the Type I sample into `dissipation15e.py`. \\\n",
    "Repeat the above calculation using the code in `dissipation15e.py`. \\\n",
    "\n",
    "If you want, you can run the notebook starting here by restarting the Kernel, running Preliminaries, then running the following code."
   ]
  },
  {
   "cell_type": "code",
   "execution_count": 12,
   "id": "ef5620ee",
   "metadata": {},
   "outputs": [],
   "source": [
    "import torch\n",
    "import numpy as np"
   ]
  },
  {
   "cell_type": "code",
   "execution_count": 13,
   "id": "f78da623",
   "metadata": {},
   "outputs": [],
   "source": [
    "from dissipationtheory.constants import ureg\n",
    "from dissipationtheory.dissipation9a import CantileverModel, SampleModel1\n",
    "from dissipationtheory.dissipation15e import get_device, twodimCobject\n",
    "from dissipationtheory.dissipation15e import compute_blds_ac, compute_blds_am\n",
    "from dissipationtheory.dissipation15e import plotme as plotme15e"
   ]
  },
  {
   "cell_type": "code",
   "execution_count": 14,
   "id": "369d94ab",
   "metadata": {},
   "outputs": [
    {
     "name": "stdout",
     "output_type": "stream",
     "text": [
      "Using MPS (Apple Silicon GPU)\n"
     ]
    }
   ],
   "source": [
    "device = get_device(verbose=True)\n",
    "\n",
    "cantilever = CantileverModel(\n",
    "    f_c=ureg.Quantity(62, \"kHz\"),\n",
    "    k_c=ureg.Quantity(2.8, \"N/m\"),\n",
    "    V_ts=ureg.Quantity(1, \"V\"),\n",
    "    R=ureg.Quantity(60, \"nm\"),\n",
    "    angle=ureg.Quantity(20, \"degree\"),\n",
    "    L=ureg.Quantity(1000, \"nm\"),\n",
    ")\n",
    "\n",
    "sampleI = SampleModel1(\n",
    "    cantilever=cantilever,\n",
    "    epsilon_s=ureg.Quantity(complex(3, 0), \"\"),\n",
    "    h_s=ureg.Quantity(150, \"nm\"),\n",
    "    sigma=ureg.Quantity(1e-6, \"S/m\"),\n",
    "    rho=ureg.Quantity(1e21, \"1/m^3\"),\n",
    "    epsilon_d=ureg.Quantity(complex(1e6, 0), \"\"),\n",
    "    z_r=ureg.Quantity(1, \"nm\")\n",
    ")"
   ]
  },
  {
   "cell_type": "code",
   "execution_count": 15,
   "id": "ae3fabae",
   "metadata": {},
   "outputs": [],
   "source": [
    "# array of BLDS frequencies and the amplitude-modulation frequency\n",
    "\n",
    "omega_m__torch = torch.as_tensor(\n",
    "    np.logspace(start=3,stop=6,num=40).astype(np.float32), \n",
    "    device=device)\n",
    "\n",
    "omega_am__torch = torch.as_tensor(250.0, device=device)\n",
    "\n",
    "# array of tip-sample separation increments\n",
    "\n",
    "dh__torch = torch.zeros((6, 3), device=device)\n",
    "dh__torch[:,2] = torch.as_tensor(\n",
    "    np.linspace(0, 50, 6).astype(np.float32), \n",
    "    device=device)\n",
    "\n",
    "# array of actual tip-sample separations\n",
    "\n",
    "h0 = 100 \n",
    "h =  h0 + dh__torch[:,2].cpu().numpy()\n",
    "omega_m = omega_m__torch.cpu().numpy() "
   ]
  },
  {
   "cell_type": "code",
   "execution_count": 16,
   "id": "9d58b22d",
   "metadata": {},
   "outputs": [],
   "source": [
    "label_df = 'frequency shift $|\\Delta f_{\\mathrm{ac}} (\\omega_{\\mathrm{m}})|$ [Hz]'\n",
    "label_F = 'force $|F_{\\mathrm{ac}} (\\omega_{\\mathrm{m}})|$ [pN]'"
   ]
  },
  {
   "cell_type": "code",
   "execution_count": 17,
   "id": "2120e5f5",
   "metadata": {},
   "outputs": [
    {
     "data": {
      "image/png": "[encoded data removed]",
      "text/plain": [
       "<Figure size 1350x325 with 6 Axes>"
      ]
     },
     "metadata": {},
     "output_type": "display_data"
    }
   ],
   "source": [
    "objI = twodimCobject(sampleI, device)\n",
    "objI.addsphere(ureg.Quantity(h0,'nm'), 21, 24)\n",
    "objI.set_alpha(1.0e-6)\n",
    "objI.set_integration_points(21 * 15)\n",
    "\n",
    "_, dfam = compute_blds_am(objI, dh__torch, omega_m__torch, omega_am__torch)\n",
    "figs['01'] = plotme15e(h, omega_m, dfam, label_df, 'voltage modulation: ac + am')"
   ]
  },
  {
   "cell_type": "markdown",
   "id": "3a3b3301",
   "metadata": {},
   "source": [
    "# Type I sample torch calculation unit testing\n",
    "\n",
    "## $K_n$ integrals using Python CPU code\n",
    "\n",
    "Following Study 64. \\\n",
    "The function `K_jit` uses `integrate.quad_vec` to compute the integrals."
   ]
  },
  {
   "cell_type": "code",
   "execution_count": 18,
   "id": "4ad4206f",
   "metadata": {},
   "outputs": [],
   "source": [
    "import itertools\n",
    "\n",
    "from dissipationtheory.dissipation9b import SampleModel1Jit, integrand1jit, K_jit"
   ]
  },
  {
   "cell_type": "code",
   "execution_count": 19,
   "id": "db57f94c",
   "metadata": {},
   "outputs": [
    {
     "data": {
      "text/plain": [
       "34560"
      ]
     },
     "execution_count": 19,
     "metadata": {},
     "output_type": "execute_result"
    }
   ],
   "source": [
    "omegas = 2 * np.pi * np.array(\n",
    "    [1e1, 1e2, 1e3, 1e4, 1e5, 1e6], dtype=np.float64)\n",
    "\n",
    "sj_nm = np.array(\n",
    "    [np.array([  0,  0,  20], dtype=np.float64),\n",
    "     np.array([  0,  0,  50], dtype=np.float64),\n",
    "     np.array([  0,  0, 150], dtype=np.float64)])\n",
    "\n",
    "rk_nm = np.array(\n",
    "    [np.array([  0,  0, 20], dtype=np.float64),\n",
    "     np.array([  0, 20, 20], dtype=np.float64),\n",
    "     np.array([  0,  0, 30], dtype=np.float64),\n",
    "     np.array([  0, 30, 30], dtype=np.float64)])\n",
    "\n",
    "\n",
    "epsilon_ss = np.array([complex(  3, 0), complex(  3,  -0.3),\n",
    "                      complex( 10, 0), complex( 20,  -2.0),\n",
    "                      complex(100, 0), complex(100, -10.0)])\n",
    "\n",
    "sigmas = np.array([1e-10, 1e-8, 1e-6, 1e-4, 1e-2])  # S/m\n",
    "\n",
    "rhos = np.array([1e19, 1e21, 1e23, 1e25])  # 1/m^3\n",
    "\n",
    "\n",
    "epsilon_ds = np.array([complex(  3, 0),\n",
    "                      complex(100, 0)])\n",
    "\n",
    "h_ss = np.array([20., 100.])\n",
    "\n",
    "values1 = list(itertools.product(\n",
    "    omegas, sj_nm, rk_nm,\n",
    "    epsilon_ss, sigmas, rhos,\n",
    "    epsilon_ds, h_ss))\n",
    "\n",
    "len(values1)"
   ]
  },
  {
   "cell_type": "code",
   "execution_count": 20,
   "id": "a57c4461",
   "metadata": {},
   "outputs": [
    {
     "data": {
      "text/plain": [
       "(62.83185307179586,\n",
       " array([ 0.,  0., 20.]),\n",
       " array([ 0.,  0., 20.]),\n",
       " (3+0j),\n",
       " 1e-10,\n",
       " 1e+19,\n",
       " (3+0j),\n",
       " 20.0)"
      ]
     },
     "execution_count": 20,
     "metadata": {},
     "output_type": "execute_result"
    }
   ],
   "source": [
    "values1[0]"
   ]
  },
  {
   "cell_type": "markdown",
   "id": "fd81e968",
   "metadata": {},
   "source": [
    "So we can make a direct comparison, use the same cantilever as in Study 64."
   ]
  },
  {
   "cell_type": "code",
   "execution_count": 21,
   "id": "19c34e29",
   "metadata": {},
   "outputs": [],
   "source": [
    "cantilever = CantileverModel(\n",
    "    f_c=ureg.Quantity(62, \"kHz\"),\n",
    "    k_c=ureg.Quantity(2.8, \"N/m\"),\n",
    "    V_ts=ureg.Quantity(1, \"V\"),\n",
    "    R=ureg.Quantity(60, \"nm\"),\n",
    "    angle=ureg.Quantity(20, \"degree\"),\n",
    "    L=ureg.Quantity(1000, \"nm\"),\n",
    ")"
   ]
  },
  {
   "cell_type": "code",
   "execution_count": 22,
   "id": "e9c6c4e0",
   "metadata": {},
   "outputs": [
    {
     "name": "stdout",
     "output_type": "stream",
     "text": [
      "CPU times: user 1min 17s, sys: 350 ms, total: 1min 18s\n",
      "Wall time: 1min 17s\n"
     ]
    }
   ],
   "source": [
    "%%time\n",
    "\n",
    "Kn1 = np.zeros((len(values1),3), dtype=np.complex128)\n",
    "for index, (omega, sj, rk, epsilon_s, sigma, rho, epsilon_d, h_s) in enumerate(values1):\n",
    "\n",
    "    sample1 = SampleModel1(\n",
    "        cantilever = cantilever,\n",
    "        h_s = ureg.Quantity(h_s, 'nm'),\n",
    "        epsilon_s = ureg.Quantity(epsilon_s, ''),\n",
    "        epsilon_d = ureg.Quantity(epsilon_d, ''),\n",
    "        sigma = ureg.Quantity(sigma, 'S/m'),\n",
    "        rho = ureg.Quantity(rho, '1/m^3'),\n",
    "        z_r = ureg.Quantity(1, 'nm'))\n",
    "\n",
    "    sample1_jit = SampleModel1Jit(**sample1.args())\n",
    "\n",
    "    params1 = {\n",
    "        'integrand': integrand1jit,\n",
    "        'sample': sample1_jit,\n",
    "        'omega': omega,\n",
    "        'location1': 1.0e-9 * sj,\n",
    "        'location2': 1.0e-9 * rk\n",
    "    }\n",
    "    \n",
    "    K0, K1, K2 = K_jit(**params1)\n",
    "    Kn1[index] = np.array([K0, K1, K2])"
   ]
  },
  {
   "cell_type": "markdown",
   "id": "27d3a40d",
   "metadata": {},
   "source": [
    "The matrix `Kn1` contains the complex $K_0$, $K_1$, and $K_2$ integrals computed 34560 values of sample parameters and distances."
   ]
  },
  {
   "cell_type": "code",
   "execution_count": 23,
   "id": "69ecab27",
   "metadata": {},
   "outputs": [
    {
     "data": {
      "text/plain": [
       "(34560, 3)"
      ]
     },
     "execution_count": 23,
     "metadata": {},
     "output_type": "execute_result"
    }
   ],
   "source": [
    "Kn1.shape"
   ]
  },
  {
   "cell_type": "markdown",
   "id": "72c2dc26",
   "metadata": {},
   "source": [
    "For example,"
   ]
  },
  {
   "cell_type": "code",
   "execution_count": 24,
   "id": "aa517f13",
   "metadata": {},
   "outputs": [
    {
     "data": {
      "text/plain": [
       "((62.83185307179586,\n",
       "  array([ 0.,  0., 20.]),\n",
       "  array([ 0.,  0., 20.]),\n",
       "  (3+0j),\n",
       "  1e-10,\n",
       "  1e+19,\n",
       "  (3+0j),\n",
       "  20.0),\n",
       " array([1.25138524e-02-8.94985007e-06j, 3.12707490e-04-5.60384513e-08j,\n",
       "        1.56301142e-05-5.31418151e-10j]))"
      ]
     },
     "execution_count": 24,
     "metadata": {},
     "output_type": "execute_result"
    }
   ],
   "source": [
    "(values1[0], Kn1[0,:])"
   ]
  },
  {
   "cell_type": "markdown",
   "id": "04a11452",
   "metadata": {},
   "source": [
    "## $K_n$ integrals using GPU code\n",
    "\n",
    "This takes some thought."
   ]
  },
  {
   "cell_type": "code",
   "execution_count": 25,
   "id": "985db63c",
   "metadata": {},
   "outputs": [],
   "source": [
    "from dissipationtheory.constants import ureg\n",
    "from dissipationtheory.dissipation15e import rp_I_integrator"
   ]
  },
  {
   "cell_type": "code",
   "execution_count": 26,
   "id": "9b9e6050",
   "metadata": {},
   "outputs": [
    {
     "name": "stdout",
     "output_type": "stream",
     "text": [
      "CPU times: user 26.9 s, sys: 7.6 s, total: 34.5 s\n",
      "Wall time: 1min 6s\n"
     ]
    }
   ],
   "source": [
    "%%time\n",
    "\n",
    "Kn2 = np.zeros((len(values1),3), dtype=np.complex128)\n",
    "for index, (omega, sj, rk, epsilon_s, sigma, rho, epsilon_d, h_s) in enumerate(values1):\n",
    "\n",
    "    sample1 = SampleModel1(\n",
    "        cantilever = cantilever,\n",
    "        h_s = ureg.Quantity(h_s, 'nm'),\n",
    "        epsilon_s = ureg.Quantity(epsilon_s, ''),\n",
    "        epsilon_d = ureg.Quantity(epsilon_d, ''),\n",
    "        sigma = ureg.Quantity(sigma, 'S/m'),\n",
    "        rho = ureg.Quantity(rho, '1/m^3'),\n",
    "        z_r = ureg.Quantity(1, 'nm'))\n",
    "    \n",
    "    omega0 = sample1.omega0.to('Hz').magnitude\n",
    "    kD = sample1.kD.to('1/m').magnitude\n",
    "    hs = ureg.Quantity(h_s,'nm').to('m').magnitude\n",
    "    pts = 21 * 15\n",
    "    \n",
    "    K0, K1, K2 = rp_I_integrator(\n",
    "        omega,\n",
    "        omega0,\n",
    "        kD,\n",
    "        hs,\n",
    "        epsilon_s,\n",
    "        epsilon_d,\n",
    "        torch.tensor(sj.astype(np.float32), device=device),\n",
    "        torch.tensor(rk.astype(np.float32), device=device),\n",
    "        torch.tensor([0, 0, 0], device=device),\n",
    "        pts,\n",
    "        device)\n",
    "    \n",
    "    Kn2[index] = np.array([K0.cpu().numpy(), K1.cpu().numpy(), K2.cpu().numpy()])"
   ]
  },
  {
   "cell_type": "code",
   "execution_count": 27,
   "id": "5792398d",
   "metadata": {},
   "outputs": [
    {
     "data": {
      "text/plain": [
       "(34560, 3)"
      ]
     },
     "execution_count": 27,
     "metadata": {},
     "output_type": "execute_result"
    }
   ],
   "source": [
    "Kn2.shape"
   ]
  },
  {
   "cell_type": "code",
   "execution_count": 28,
   "id": "4856581c",
   "metadata": {},
   "outputs": [
    {
     "data": {
      "text/plain": [
       "((62.83185307179586,\n",
       "  array([ 0.,  0., 20.]),\n",
       "  array([ 0.,  0., 20.]),\n",
       "  (3+0j),\n",
       "  1e-10,\n",
       "  1e+19,\n",
       "  (3+0j),\n",
       "  20.0),\n",
       " array([1.25138517e-02-8.94969526e-06j, 3.12707474e-04-5.60368818e-08j,\n",
       "        1.56301066e-05-5.31404143e-10j]))"
      ]
     },
     "execution_count": 28,
     "metadata": {},
     "output_type": "execute_result"
    }
   ],
   "source": [
    "(values1[0], Kn2[0,:])"
   ]
  },
  {
   "cell_type": "markdown",
   "id": "5d9e0bc9",
   "metadata": {},
   "source": [
    "## Compute the relative error in the CPU and GPU integrals\n",
    "\n",
    "Compute the mean square errors `epsilonR` and `epsilonI`, defined as\n",
    "\n",
    "\\begin{equation}\n",
    "\\epsilon_{\\mathrm{r}}^2 =\n",
    " \\sum_{j = 0}^{2}\n",
    " \\left(\n",
    "   \\frac{\\mathrm{Re}[K_{j}^{\\mathrm{CPU}}] - \\mathrm{Re}[K_{j}^{\\mathrm{GPU}}]}\n",
    "        {\\mathrm{Re}[K_{j}^{\\mathrm{CPU}}]}\n",
    " \\right)^2\n",
    "\\end{equation}\n",
    "\n",
    "\\begin{equation}\n",
    "\\epsilon_{\\mathrm{i}}^2 =\n",
    " \\sum_{j = 0}^{2}\n",
    " \\left(\n",
    "   \\frac{\\mathrm{Im}[K_{j}^{\\mathrm{CPU}}] - \\mathrm{Im}[K_{j}^{\\mathrm{GPU}}]}\n",
    "        {\\mathrm{Im}[K_{j}^{\\mathrm{CPU}}]}\n",
    " \\right)^2\n",
    "\\end{equation}\n",
    "\n",
    "These errors measure the *relative* difference in the real and imaginary parts of the $K_n$ integrals."
   ]
  },
  {
   "cell_type": "code",
   "execution_count": 29,
   "id": "192f5a8c",
   "metadata": {},
   "outputs": [],
   "source": [
    "epsilonR = np.zeros((len(values1)), dtype=np.float64)\n",
    "epsilonI = np.zeros((len(values1)), dtype=np.float64)\n",
    "\n",
    "for index1, (a,b) in enumerate(zip(Kn1, Kn2)):\n",
    "    \n",
    "    cR = np.zeros(3, dtype=np.float64)\n",
    "    cI = np.zeros(3, dtype=np.float64)\n",
    "    \n",
    "    for index2 in [0, 1, 2]:\n",
    "    \n",
    "        cR[index2] = (a[index2].real - b[index2].real) / a[index2].real\n",
    "        cI[index2] = (a[index2].imag - b[index2].imag) / a[index2].imag\n",
    "\n",
    "    epsilonR[index1] = np.sqrt(cR @ cR)\n",
    "    epsilonI[index1] = np.sqrt(cI @ cI)"
   ]
  },
  {
   "cell_type": "markdown",
   "id": "9962beea",
   "metadata": {},
   "source": [
    "Make a table of the varied parameters and resulting errors $\\epsilon_{\\mathrm{r}}$ and $\\epsilon_{\\mathrm{i}}$."
   ]
  },
  {
   "cell_type": "code",
   "execution_count": 30,
   "id": "14633663",
   "metadata": {},
   "outputs": [],
   "source": [
    "import pandas as pd"
   ]
  },
  {
   "cell_type": "code",
   "execution_count": 31,
   "id": "1ea62310",
   "metadata": {},
   "outputs": [],
   "source": [
    "df = pd.DataFrame(\n",
    "    values1, \n",
    "    columns=['$\\omega$ [Hz]', '$s_j$ [nm]', '$r_k$ [nm]', \n",
    "             '$\\epsilon_{\\mathrm{s}}$', '$\\sigma$ [S/m]', '$\\rho$ [1/m$^3$]',\n",
    "             '$\\epsilon_{\\mathrm{d}}$', '$h_{\\mathrm{d}}$ [nm]'])\n",
    "    \n",
    "df['$\\epsilon_{\\mathrm{r}}$'] = epsilonR\n",
    "df['$\\epsilon_{\\mathrm{i}}$'] = epsilonI"
   ]
  },
  {
   "cell_type": "code",
   "execution_count": 32,
   "id": "68f5cc9f",
   "metadata": {},
   "outputs": [],
   "source": [
    "pd.options.display.float_format = '{:,.1e}'.format"
   ]
  },
  {
   "cell_type": "markdown",
   "id": "a3678bf4",
   "metadata": {},
   "source": [
    "Sort by the relative error of the real parts $\\epsilon_{\\mathrm{r}}$. \\\n",
    "Pleasingly, the largest $\\epsilon_{\\mathrm{r}}$ is only $7.3 \\times 10^{-6}$ or 7.3 parts per million."
   ]
  },
  {
   "cell_type": "code",
   "execution_count": 33,
   "id": "7997fb28",
   "metadata": {},
   "outputs": [
    {
     "data": {
      "text/html": [
       "<div>\n",
       "<style scoped>\n",
       "    .dataframe tbody tr th:only-of-type {\n",
       "        vertical-align: middle;\n",
       "    }\n",
       "\n",
       "    .dataframe tbody tr th {\n",
       "        vertical-align: top;\n",
       "    }\n",
       "\n",
       "    .dataframe thead th {\n",
       "        text-align: right;\n",
       "    }\n",
       "</style>\n",
       "<table border=\"1\" class=\"dataframe\">\n",
       "  <thead>\n",
       "    <tr style=\"text-align: right;\">\n",
       "      <th></th>\n",
       "      <th>$\\omega$ [Hz]</th>\n",
       "      <th>$s_j$ [nm]</th>\n",
       "      <th>$r_k$ [nm]</th>\n",
       "      <th>$\\epsilon_{\\mathrm{s}}$</th>\n",
       "      <th>$\\sigma$ [S/m]</th>\n",
       "      <th>$\\rho$ [1/m$^3$]</th>\n",
       "      <th>$\\epsilon_{\\mathrm{d}}$</th>\n",
       "      <th>$h_{\\mathrm{d}}$ [nm]</th>\n",
       "      <th>$\\epsilon_{\\mathrm{r}}$</th>\n",
       "      <th>$\\epsilon_{\\mathrm{i}}$</th>\n",
       "    </tr>\n",
       "  </thead>\n",
       "  <tbody>\n",
       "    <tr>\n",
       "      <th>17392</th>\n",
       "      <td>6.3e+04</td>\n",
       "      <td>[0.0, 0.0, 20.0]</td>\n",
       "      <td>[0.0, 0.0, 20.0]</td>\n",
       "      <td>3.0e+00-3.0e-01j</td>\n",
       "      <td>1.0e-06</td>\n",
       "      <td>1.0e+19</td>\n",
       "      <td>3.0e+00+0.0e+00j</td>\n",
       "      <td>2.0e+01</td>\n",
       "      <td>7.3e-06</td>\n",
       "      <td>8.5e-05</td>\n",
       "    </tr>\n",
       "    <tr>\n",
       "      <th>5856</th>\n",
       "      <td>6.3e+02</td>\n",
       "      <td>[0.0, 0.0, 20.0]</td>\n",
       "      <td>[0.0, 0.0, 20.0]</td>\n",
       "      <td>3.0e+00-3.0e-01j</td>\n",
       "      <td>1.0e-08</td>\n",
       "      <td>1.0e+19</td>\n",
       "      <td>3.0e+00+0.0e+00j</td>\n",
       "      <td>2.0e+01</td>\n",
       "      <td>7.3e-06</td>\n",
       "      <td>8.5e-05</td>\n",
       "    </tr>\n",
       "    <tr>\n",
       "      <th>28928</th>\n",
       "      <td>6.3e+06</td>\n",
       "      <td>[0.0, 0.0, 20.0]</td>\n",
       "      <td>[0.0, 0.0, 20.0]</td>\n",
       "      <td>3.0e+00-3.0e-01j</td>\n",
       "      <td>1.0e-04</td>\n",
       "      <td>1.0e+19</td>\n",
       "      <td>3.0e+00+0.0e+00j</td>\n",
       "      <td>2.0e+01</td>\n",
       "      <td>7.3e-06</td>\n",
       "      <td>8.5e-05</td>\n",
       "    </tr>\n",
       "    <tr>\n",
       "      <th>5859</th>\n",
       "      <td>6.3e+02</td>\n",
       "      <td>[0.0, 0.0, 20.0]</td>\n",
       "      <td>[0.0, 0.0, 20.0]</td>\n",
       "      <td>3.0e+00-3.0e-01j</td>\n",
       "      <td>1.0e-08</td>\n",
       "      <td>1.0e+19</td>\n",
       "      <td>1.0e+02+0.0e+00j</td>\n",
       "      <td>1.0e+02</td>\n",
       "      <td>7.3e-06</td>\n",
       "      <td>7.4e-05</td>\n",
       "    </tr>\n",
       "    <tr>\n",
       "      <th>28931</th>\n",
       "      <td>6.3e+06</td>\n",
       "      <td>[0.0, 0.0, 20.0]</td>\n",
       "      <td>[0.0, 0.0, 20.0]</td>\n",
       "      <td>3.0e+00-3.0e-01j</td>\n",
       "      <td>1.0e-04</td>\n",
       "      <td>1.0e+19</td>\n",
       "      <td>1.0e+02+0.0e+00j</td>\n",
       "      <td>1.0e+02</td>\n",
       "      <td>7.3e-06</td>\n",
       "      <td>7.4e-05</td>\n",
       "    </tr>\n",
       "    <tr>\n",
       "      <th>...</th>\n",
       "      <td>...</td>\n",
       "      <td>...</td>\n",
       "      <td>...</td>\n",
       "      <td>...</td>\n",
       "      <td>...</td>\n",
       "      <td>...</td>\n",
       "      <td>...</td>\n",
       "      <td>...</td>\n",
       "      <td>...</td>\n",
       "      <td>...</td>\n",
       "    </tr>\n",
       "    <tr>\n",
       "      <th>16301</th>\n",
       "      <td>6.3e+03</td>\n",
       "      <td>[0.0, 0.0, 150.0]</td>\n",
       "      <td>[0.0, 20.0, 20.0]</td>\n",
       "      <td>1.0e+02-1.0e+01j</td>\n",
       "      <td>1.0e-04</td>\n",
       "      <td>1.0e+25</td>\n",
       "      <td>3.0e+00+0.0e+00j</td>\n",
       "      <td>1.0e+02</td>\n",
       "      <td>8.8e-09</td>\n",
       "      <td>1.2e-07</td>\n",
       "    </tr>\n",
       "    <tr>\n",
       "      <th>4765</th>\n",
       "      <td>6.3e+01</td>\n",
       "      <td>[0.0, 0.0, 150.0]</td>\n",
       "      <td>[0.0, 20.0, 20.0]</td>\n",
       "      <td>1.0e+02-1.0e+01j</td>\n",
       "      <td>1.0e-06</td>\n",
       "      <td>1.0e+25</td>\n",
       "      <td>3.0e+00+0.0e+00j</td>\n",
       "      <td>1.0e+02</td>\n",
       "      <td>8.8e-09</td>\n",
       "      <td>1.2e-07</td>\n",
       "    </tr>\n",
       "    <tr>\n",
       "      <th>10331</th>\n",
       "      <td>6.3e+02</td>\n",
       "      <td>[0.0, 0.0, 150.0]</td>\n",
       "      <td>[0.0, 20.0, 20.0]</td>\n",
       "      <td>2.0e+01-2.0e+00j</td>\n",
       "      <td>1.0e-10</td>\n",
       "      <td>1.0e+23</td>\n",
       "      <td>1.0e+02+0.0e+00j</td>\n",
       "      <td>1.0e+02</td>\n",
       "      <td>5.7e-09</td>\n",
       "      <td>2.5e-07</td>\n",
       "    </tr>\n",
       "    <tr>\n",
       "      <th>21867</th>\n",
       "      <td>6.3e+04</td>\n",
       "      <td>[0.0, 0.0, 150.0]</td>\n",
       "      <td>[0.0, 20.0, 20.0]</td>\n",
       "      <td>2.0e+01-2.0e+00j</td>\n",
       "      <td>1.0e-08</td>\n",
       "      <td>1.0e+23</td>\n",
       "      <td>1.0e+02+0.0e+00j</td>\n",
       "      <td>1.0e+02</td>\n",
       "      <td>5.7e-09</td>\n",
       "      <td>2.5e-07</td>\n",
       "    </tr>\n",
       "    <tr>\n",
       "      <th>33403</th>\n",
       "      <td>6.3e+06</td>\n",
       "      <td>[0.0, 0.0, 150.0]</td>\n",
       "      <td>[0.0, 20.0, 20.0]</td>\n",
       "      <td>2.0e+01-2.0e+00j</td>\n",
       "      <td>1.0e-06</td>\n",
       "      <td>1.0e+23</td>\n",
       "      <td>1.0e+02+0.0e+00j</td>\n",
       "      <td>1.0e+02</td>\n",
       "      <td>5.7e-09</td>\n",
       "      <td>2.5e-07</td>\n",
       "    </tr>\n",
       "  </tbody>\n",
       "</table>\n",
       "<p>34560 rows × 10 columns</p>\n",
       "</div>"
      ],
      "text/plain": [
       "       $\\omega$ [Hz]         $s_j$ [nm]         $r_k$ [nm]  \\\n",
       "17392        6.3e+04   [0.0, 0.0, 20.0]   [0.0, 0.0, 20.0]   \n",
       "5856         6.3e+02   [0.0, 0.0, 20.0]   [0.0, 0.0, 20.0]   \n",
       "28928        6.3e+06   [0.0, 0.0, 20.0]   [0.0, 0.0, 20.0]   \n",
       "5859         6.3e+02   [0.0, 0.0, 20.0]   [0.0, 0.0, 20.0]   \n",
       "28931        6.3e+06   [0.0, 0.0, 20.0]   [0.0, 0.0, 20.0]   \n",
       "...              ...                ...                ...   \n",
       "16301        6.3e+03  [0.0, 0.0, 150.0]  [0.0, 20.0, 20.0]   \n",
       "4765         6.3e+01  [0.0, 0.0, 150.0]  [0.0, 20.0, 20.0]   \n",
       "10331        6.3e+02  [0.0, 0.0, 150.0]  [0.0, 20.0, 20.0]   \n",
       "21867        6.3e+04  [0.0, 0.0, 150.0]  [0.0, 20.0, 20.0]   \n",
       "33403        6.3e+06  [0.0, 0.0, 150.0]  [0.0, 20.0, 20.0]   \n",
       "\n",
       "       $\\epsilon_{\\mathrm{s}}$  $\\sigma$ [S/m]  $\\rho$ [1/m$^3$]  \\\n",
       "17392         3.0e+00-3.0e-01j         1.0e-06           1.0e+19   \n",
       "5856          3.0e+00-3.0e-01j         1.0e-08           1.0e+19   \n",
       "28928         3.0e+00-3.0e-01j         1.0e-04           1.0e+19   \n",
       "5859          3.0e+00-3.0e-01j         1.0e-08           1.0e+19   \n",
       "28931         3.0e+00-3.0e-01j         1.0e-04           1.0e+19   \n",
       "...                        ...             ...               ...   \n",
       "16301         1.0e+02-1.0e+01j         1.0e-04           1.0e+25   \n",
       "4765          1.0e+02-1.0e+01j         1.0e-06           1.0e+25   \n",
       "10331         2.0e+01-2.0e+00j         1.0e-10           1.0e+23   \n",
       "21867         2.0e+01-2.0e+00j         1.0e-08           1.0e+23   \n",
       "33403         2.0e+01-2.0e+00j         1.0e-06           1.0e+23   \n",
       "\n",
       "       $\\epsilon_{\\mathrm{d}}$  $h_{\\mathrm{d}}$ [nm]  \\\n",
       "17392         3.0e+00+0.0e+00j                2.0e+01   \n",
       "5856          3.0e+00+0.0e+00j                2.0e+01   \n",
       "28928         3.0e+00+0.0e+00j                2.0e+01   \n",
       "5859          1.0e+02+0.0e+00j                1.0e+02   \n",
       "28931         1.0e+02+0.0e+00j                1.0e+02   \n",
       "...                        ...                    ...   \n",
       "16301         3.0e+00+0.0e+00j                1.0e+02   \n",
       "4765          3.0e+00+0.0e+00j                1.0e+02   \n",
       "10331         1.0e+02+0.0e+00j                1.0e+02   \n",
       "21867         1.0e+02+0.0e+00j                1.0e+02   \n",
       "33403         1.0e+02+0.0e+00j                1.0e+02   \n",
       "\n",
       "       $\\epsilon_{\\mathrm{r}}$  $\\epsilon_{\\mathrm{i}}$  \n",
       "17392                  7.3e-06                  8.5e-05  \n",
       "5856                   7.3e-06                  8.5e-05  \n",
       "28928                  7.3e-06                  8.5e-05  \n",
       "5859                   7.3e-06                  7.4e-05  \n",
       "28931                  7.3e-06                  7.4e-05  \n",
       "...                        ...                      ...  \n",
       "16301                  8.8e-09                  1.2e-07  \n",
       "4765                   8.8e-09                  1.2e-07  \n",
       "10331                  5.7e-09                  2.5e-07  \n",
       "21867                  5.7e-09                  2.5e-07  \n",
       "33403                  5.7e-09                  2.5e-07  \n",
       "\n",
       "[34560 rows x 10 columns]"
      ]
     },
     "execution_count": 33,
     "metadata": {},
     "output_type": "execute_result"
    }
   ],
   "source": [
    "df.sort_values(by='$\\epsilon_{\\mathrm{r}}$', ascending=False)"
   ]
  },
  {
   "cell_type": "markdown",
   "id": "c8fd4448",
   "metadata": {},
   "source": [
    "Sort by the relative error of the imaginary parts $\\epsilon_{\\mathrm{i}}$. \\\n",
    "Disappointingly, the largest $\\epsilon_{\\mathrm{i}}$ is a horrible $1.1 \\times 10^{3}$."
   ]
  },
  {
   "cell_type": "code",
   "execution_count": 34,
   "id": "dda0e14b",
   "metadata": {},
   "outputs": [
    {
     "data": {
      "text/html": [
       "<div>\n",
       "<style scoped>\n",
       "    .dataframe tbody tr th:only-of-type {\n",
       "        vertical-align: middle;\n",
       "    }\n",
       "\n",
       "    .dataframe tbody tr th {\n",
       "        vertical-align: top;\n",
       "    }\n",
       "\n",
       "    .dataframe thead th {\n",
       "        text-align: right;\n",
       "    }\n",
       "</style>\n",
       "<table border=\"1\" class=\"dataframe\">\n",
       "  <thead>\n",
       "    <tr style=\"text-align: right;\">\n",
       "      <th></th>\n",
       "      <th>$\\omega$ [Hz]</th>\n",
       "      <th>$s_j$ [nm]</th>\n",
       "      <th>$r_k$ [nm]</th>\n",
       "      <th>$\\epsilon_{\\mathrm{s}}$</th>\n",
       "      <th>$\\sigma$ [S/m]</th>\n",
       "      <th>$\\rho$ [1/m$^3$]</th>\n",
       "      <th>$\\epsilon_{\\mathrm{d}}$</th>\n",
       "      <th>$h_{\\mathrm{d}}$ [nm]</th>\n",
       "      <th>$\\epsilon_{\\mathrm{r}}$</th>\n",
       "      <th>$\\epsilon_{\\mathrm{i}}$</th>\n",
       "    </tr>\n",
       "  </thead>\n",
       "  <tbody>\n",
       "    <tr>\n",
       "      <th>29026</th>\n",
       "      <td>6.3e+06</td>\n",
       "      <td>[0.0, 0.0, 20.0]</td>\n",
       "      <td>[0.0, 0.0, 20.0]</td>\n",
       "      <td>1.0e+01+0.0e+00j</td>\n",
       "      <td>1.0e-02</td>\n",
       "      <td>1.0e+19</td>\n",
       "      <td>1.0e+02+0.0e+00j</td>\n",
       "      <td>2.0e+01</td>\n",
       "      <td>5.7e-07</td>\n",
       "      <td>1.1e+03</td>\n",
       "    </tr>\n",
       "    <tr>\n",
       "      <th>17490</th>\n",
       "      <td>6.3e+04</td>\n",
       "      <td>[0.0, 0.0, 20.0]</td>\n",
       "      <td>[0.0, 0.0, 20.0]</td>\n",
       "      <td>1.0e+01+0.0e+00j</td>\n",
       "      <td>1.0e-04</td>\n",
       "      <td>1.0e+19</td>\n",
       "      <td>1.0e+02+0.0e+00j</td>\n",
       "      <td>2.0e+01</td>\n",
       "      <td>5.7e-07</td>\n",
       "      <td>1.1e+03</td>\n",
       "    </tr>\n",
       "    <tr>\n",
       "      <th>5954</th>\n",
       "      <td>6.3e+02</td>\n",
       "      <td>[0.0, 0.0, 20.0]</td>\n",
       "      <td>[0.0, 0.0, 20.0]</td>\n",
       "      <td>1.0e+01+0.0e+00j</td>\n",
       "      <td>1.0e-06</td>\n",
       "      <td>1.0e+19</td>\n",
       "      <td>1.0e+02+0.0e+00j</td>\n",
       "      <td>2.0e+01</td>\n",
       "      <td>5.7e-07</td>\n",
       "      <td>1.1e+03</td>\n",
       "    </tr>\n",
       "    <tr>\n",
       "      <th>11730</th>\n",
       "      <td>6.3e+03</td>\n",
       "      <td>[0.0, 0.0, 20.0]</td>\n",
       "      <td>[0.0, 0.0, 20.0]</td>\n",
       "      <td>1.0e+01+0.0e+00j</td>\n",
       "      <td>1.0e-04</td>\n",
       "      <td>1.0e+19</td>\n",
       "      <td>1.0e+02+0.0e+00j</td>\n",
       "      <td>2.0e+01</td>\n",
       "      <td>6.0e-07</td>\n",
       "      <td>1.0e+03</td>\n",
       "    </tr>\n",
       "    <tr>\n",
       "      <th>23266</th>\n",
       "      <td>6.3e+05</td>\n",
       "      <td>[0.0, 0.0, 20.0]</td>\n",
       "      <td>[0.0, 0.0, 20.0]</td>\n",
       "      <td>1.0e+01+0.0e+00j</td>\n",
       "      <td>1.0e-02</td>\n",
       "      <td>1.0e+19</td>\n",
       "      <td>1.0e+02+0.0e+00j</td>\n",
       "      <td>2.0e+01</td>\n",
       "      <td>6.0e-07</td>\n",
       "      <td>1.0e+03</td>\n",
       "    </tr>\n",
       "    <tr>\n",
       "      <th>...</th>\n",
       "      <td>...</td>\n",
       "      <td>...</td>\n",
       "      <td>...</td>\n",
       "      <td>...</td>\n",
       "      <td>...</td>\n",
       "      <td>...</td>\n",
       "      <td>...</td>\n",
       "      <td>...</td>\n",
       "      <td>...</td>\n",
       "      <td>...</td>\n",
       "    </tr>\n",
       "    <tr>\n",
       "      <th>9285</th>\n",
       "      <td>6.3e+02</td>\n",
       "      <td>[0.0, 0.0, 50.0]</td>\n",
       "      <td>[0.0, 30.0, 30.0]</td>\n",
       "      <td>1.0e+01+0.0e+00j</td>\n",
       "      <td>1.0e-10</td>\n",
       "      <td>1.0e+21</td>\n",
       "      <td>3.0e+00+0.0e+00j</td>\n",
       "      <td>1.0e+02</td>\n",
       "      <td>3.2e-07</td>\n",
       "      <td>1.4e-08</td>\n",
       "    </tr>\n",
       "    <tr>\n",
       "      <th>32357</th>\n",
       "      <td>6.3e+06</td>\n",
       "      <td>[0.0, 0.0, 50.0]</td>\n",
       "      <td>[0.0, 30.0, 30.0]</td>\n",
       "      <td>1.0e+01+0.0e+00j</td>\n",
       "      <td>1.0e-06</td>\n",
       "      <td>1.0e+21</td>\n",
       "      <td>3.0e+00+0.0e+00j</td>\n",
       "      <td>1.0e+02</td>\n",
       "      <td>3.2e-07</td>\n",
       "      <td>1.4e-08</td>\n",
       "    </tr>\n",
       "    <tr>\n",
       "      <th>8507</th>\n",
       "      <td>6.3e+02</td>\n",
       "      <td>[0.0, 0.0, 50.0]</td>\n",
       "      <td>[0.0, 20.0, 20.0]</td>\n",
       "      <td>1.0e+02+0.0e+00j</td>\n",
       "      <td>1.0e-08</td>\n",
       "      <td>1.0e+23</td>\n",
       "      <td>1.0e+02+0.0e+00j</td>\n",
       "      <td>1.0e+02</td>\n",
       "      <td>1.1e-07</td>\n",
       "      <td>1.3e-08</td>\n",
       "    </tr>\n",
       "    <tr>\n",
       "      <th>31579</th>\n",
       "      <td>6.3e+06</td>\n",
       "      <td>[0.0, 0.0, 50.0]</td>\n",
       "      <td>[0.0, 20.0, 20.0]</td>\n",
       "      <td>1.0e+02+0.0e+00j</td>\n",
       "      <td>1.0e-04</td>\n",
       "      <td>1.0e+23</td>\n",
       "      <td>1.0e+02+0.0e+00j</td>\n",
       "      <td>1.0e+02</td>\n",
       "      <td>1.1e-07</td>\n",
       "      <td>1.3e-08</td>\n",
       "    </tr>\n",
       "    <tr>\n",
       "      <th>20043</th>\n",
       "      <td>6.3e+04</td>\n",
       "      <td>[0.0, 0.0, 50.0]</td>\n",
       "      <td>[0.0, 20.0, 20.0]</td>\n",
       "      <td>1.0e+02+0.0e+00j</td>\n",
       "      <td>1.0e-06</td>\n",
       "      <td>1.0e+23</td>\n",
       "      <td>1.0e+02+0.0e+00j</td>\n",
       "      <td>1.0e+02</td>\n",
       "      <td>1.1e-07</td>\n",
       "      <td>1.3e-08</td>\n",
       "    </tr>\n",
       "  </tbody>\n",
       "</table>\n",
       "<p>34560 rows × 10 columns</p>\n",
       "</div>"
      ],
      "text/plain": [
       "       $\\omega$ [Hz]        $s_j$ [nm]         $r_k$ [nm]  \\\n",
       "29026        6.3e+06  [0.0, 0.0, 20.0]   [0.0, 0.0, 20.0]   \n",
       "17490        6.3e+04  [0.0, 0.0, 20.0]   [0.0, 0.0, 20.0]   \n",
       "5954         6.3e+02  [0.0, 0.0, 20.0]   [0.0, 0.0, 20.0]   \n",
       "11730        6.3e+03  [0.0, 0.0, 20.0]   [0.0, 0.0, 20.0]   \n",
       "23266        6.3e+05  [0.0, 0.0, 20.0]   [0.0, 0.0, 20.0]   \n",
       "...              ...               ...                ...   \n",
       "9285         6.3e+02  [0.0, 0.0, 50.0]  [0.0, 30.0, 30.0]   \n",
       "32357        6.3e+06  [0.0, 0.0, 50.0]  [0.0, 30.0, 30.0]   \n",
       "8507         6.3e+02  [0.0, 0.0, 50.0]  [0.0, 20.0, 20.0]   \n",
       "31579        6.3e+06  [0.0, 0.0, 50.0]  [0.0, 20.0, 20.0]   \n",
       "20043        6.3e+04  [0.0, 0.0, 50.0]  [0.0, 20.0, 20.0]   \n",
       "\n",
       "       $\\epsilon_{\\mathrm{s}}$  $\\sigma$ [S/m]  $\\rho$ [1/m$^3$]  \\\n",
       "29026         1.0e+01+0.0e+00j         1.0e-02           1.0e+19   \n",
       "17490         1.0e+01+0.0e+00j         1.0e-04           1.0e+19   \n",
       "5954          1.0e+01+0.0e+00j         1.0e-06           1.0e+19   \n",
       "11730         1.0e+01+0.0e+00j         1.0e-04           1.0e+19   \n",
       "23266         1.0e+01+0.0e+00j         1.0e-02           1.0e+19   \n",
       "...                        ...             ...               ...   \n",
       "9285          1.0e+01+0.0e+00j         1.0e-10           1.0e+21   \n",
       "32357         1.0e+01+0.0e+00j         1.0e-06           1.0e+21   \n",
       "8507          1.0e+02+0.0e+00j         1.0e-08           1.0e+23   \n",
       "31579         1.0e+02+0.0e+00j         1.0e-04           1.0e+23   \n",
       "20043         1.0e+02+0.0e+00j         1.0e-06           1.0e+23   \n",
       "\n",
       "       $\\epsilon_{\\mathrm{d}}$  $h_{\\mathrm{d}}$ [nm]  \\\n",
       "29026         1.0e+02+0.0e+00j                2.0e+01   \n",
       "17490         1.0e+02+0.0e+00j                2.0e+01   \n",
       "5954          1.0e+02+0.0e+00j                2.0e+01   \n",
       "11730         1.0e+02+0.0e+00j                2.0e+01   \n",
       "23266         1.0e+02+0.0e+00j                2.0e+01   \n",
       "...                        ...                    ...   \n",
       "9285          3.0e+00+0.0e+00j                1.0e+02   \n",
       "32357         3.0e+00+0.0e+00j                1.0e+02   \n",
       "8507          1.0e+02+0.0e+00j                1.0e+02   \n",
       "31579         1.0e+02+0.0e+00j                1.0e+02   \n",
       "20043         1.0e+02+0.0e+00j                1.0e+02   \n",
       "\n",
       "       $\\epsilon_{\\mathrm{r}}$  $\\epsilon_{\\mathrm{i}}$  \n",
       "29026                  5.7e-07                  1.1e+03  \n",
       "17490                  5.7e-07                  1.1e+03  \n",
       "5954                   5.7e-07                  1.1e+03  \n",
       "11730                  6.0e-07                  1.0e+03  \n",
       "23266                  6.0e-07                  1.0e+03  \n",
       "...                        ...                      ...  \n",
       "9285                   3.2e-07                  1.4e-08  \n",
       "32357                  3.2e-07                  1.4e-08  \n",
       "8507                   1.1e-07                  1.3e-08  \n",
       "31579                  1.1e-07                  1.3e-08  \n",
       "20043                  1.1e-07                  1.3e-08  \n",
       "\n",
       "[34560 rows x 10 columns]"
      ]
     },
     "execution_count": 34,
     "metadata": {},
     "output_type": "execute_result"
    }
   ],
   "source": [
    "df.sort_values(by='$\\epsilon_{\\mathrm{i}}$', ascending=False)"
   ]
  },
  {
   "cell_type": "code",
   "execution_count": 35,
   "id": "b7eb94c6",
   "metadata": {},
   "outputs": [],
   "source": [
    "from dissipationtheory.dissipation15e import comparetwoK"
   ]
  },
  {
   "cell_type": "markdown",
   "id": "4b6295e6",
   "metadata": {},
   "source": [
    "The worst $\\epsilon_{\\mathrm{i}}$ point. \\\n",
    "Observe that the frequency and conductivity are high while the charge density is low."
   ]
  },
  {
   "cell_type": "code",
   "execution_count": 36,
   "id": "a24674b1",
   "metadata": {},
   "outputs": [
    {
     "name": "stdout",
     "output_type": "stream",
     "text": [
      "Re[K[0]] +2.282302465e-02 vs +2.282302454e-02, relative error = +4.63e-09\n",
      "Re[K[1]] +5.443985395e-04 vs +5.443984992e-04, relative error = +7.40e-08\n",
      "Re[K[2]] +2.645984967e-05 vs +2.645983477e-05, relative error = +5.63e-07\n",
      "\n",
      "Im[K[0]] -2.235332961e-08 vs -2.983711056e-08, relative error = -3.35e-01\n",
      "Im[K[1]] -6.765715456e-12 vs -2.844101621e-10, relative error = -4.10e+01\n",
      "Im[K[2]] -1.133630790e-14 vs -1.261936736e-11, relative error = -1.11e+03\n"
     ]
    },
    {
     "data": {
      "text/plain": [
       "(6283185.307179586,\n",
       " array([ 0.,  0., 20.]),\n",
       " array([ 0.,  0., 20.]),\n",
       " (10+0j),\n",
       " 0.01,\n",
       " 1e+19,\n",
       " (100+0j),\n",
       " 20.0)"
      ]
     },
     "execution_count": 36,
     "metadata": {},
     "output_type": "execute_result"
    }
   ],
   "source": [
    "index = 29026\n",
    "comparetwoK(Kn1[index], Kn2[index])\n",
    "values1[index]"
   ]
  },
  {
   "cell_type": "markdown",
   "id": "d38f4b08",
   "metadata": {},
   "source": [
    "The best $\\epsilon_{\\mathrm{i}}$ point. \\\n",
    "Observe that the frequency is moderate, the conductivity is low, and the charge density is high."
   ]
  },
  {
   "cell_type": "code",
   "execution_count": 37,
   "id": "31474bcd",
   "metadata": {},
   "outputs": [
    {
     "name": "stdout",
     "output_type": "stream",
     "text": [
      "Re[K[0]] +1.346434980e-02 vs +1.346435118e-02, relative error = -1.03e-07\n",
      "Re[K[1]] +1.778338017e-04 vs +1.778338046e-04, relative error = -1.63e-08\n",
      "Re[K[2]] +4.505820234e-06 vs +4.505820016e-06, relative error = +4.84e-08\n",
      "\n",
      "Im[K[0]] -3.282780859e-06 vs -3.282780881e-06, relative error = -6.81e-09\n",
      "Im[K[1]] -5.292555774e-08 vs -5.292555727e-08, relative error = +8.92e-09\n",
      "Im[K[2]] -1.361056481e-09 vs -1.361056490e-09, relative error = -6.54e-09\n"
     ]
    },
    {
     "data": {
      "text/plain": [
       "(62831.853071795864,\n",
       " array([ 0.,  0., 50.]),\n",
       " array([ 0., 20., 20.]),\n",
       " (100+0j),\n",
       " 1e-06,\n",
       " 1e+23,\n",
       " (100+0j),\n",
       " 100.0)"
      ]
     },
     "execution_count": 37,
     "metadata": {},
     "output_type": "execute_result"
    }
   ],
   "source": [
    "index = 20043\n",
    "comparetwoK(Kn1[index], Kn2[index])\n",
    "values1[index]"
   ]
  },
  {
   "cell_type": "markdown",
   "id": "ba38179c",
   "metadata": {},
   "source": [
    "## Plot the errors in various ways"
   ]
  },
  {
   "cell_type": "code",
   "execution_count": 38,
   "id": "477fc133",
   "metadata": {},
   "outputs": [],
   "source": [
    "import matplotlib.pylab as plt"
   ]
  },
  {
   "cell_type": "code",
   "execution_count": 40,
   "id": "c4ce1654",
   "metadata": {},
   "outputs": [
    {
     "data": {
      "image/png": "[encoded data removed]",
      "text/plain": [
       "<Figure size 350x250 with 1 Axes>"
      ]
     },
     "metadata": {},
     "output_type": "display_data"
    }
   ],
   "source": [
    "def plotme1(df):\n",
    "\n",
    "    fig = plt.figure(figsize=(3.5, 2.5))\n",
    "    plt.semilogy(sorted(df['$\\epsilon_{\\mathrm{i}}$']), label='imaginary')\n",
    "    plt.semilogy(sorted(df['$\\epsilon_{\\mathrm{r}}$']), label='real')\n",
    "    plt.legend(frameon=False)\n",
    "    plt.xlabel('sorted calculation number')\n",
    "    plt.ylabel('relative error $\\epsilon$')\n",
    "    fig.tight_layout()\n",
    "    \n",
    "    return fig\n",
    "    \n",
    "figs['02'] = plotme1(df)"
   ]
  },
  {
   "cell_type": "markdown",
   "id": "c1db3374",
   "metadata": {},
   "source": [
    "Cumulative probability."
   ]
  },
  {
   "cell_type": "code",
   "execution_count": 41,
   "id": "be754fa7",
   "metadata": {},
   "outputs": [
    {
     "data": {
      "image/png": "[encoded data removed]",
      "text/plain": [
       "<Figure size 350x250 with 1 Axes>"
      ]
     },
     "metadata": {},
     "output_type": "display_data"
    }
   ],
   "source": [
    "def plotme2(df):\n",
    "\n",
    "    cp = 100 * np.linspace(0, 1.00, num=len(df))\n",
    "\n",
    "    fig = plt.figure(figsize=(3.5, 2.5))\n",
    "    plt.semilogx(sorted(df['$\\epsilon_{\\mathrm{i}}$']), cp, label='imaginary')\n",
    "    plt.semilogx(sorted(df['$\\epsilon_{\\mathrm{r}}$']), cp, label='real')\n",
    "    plt.legend(frameon=False)\n",
    "    plt.xlabel('relative error $\\epsilon$')\n",
    "    plt.ylabel('cumulative probability [%]')\n",
    "    fig.tight_layout()\n",
    "    \n",
    "    return fig\n",
    "    \n",
    "figs['03'] = plotme2(df)"
   ]
  },
  {
   "cell_type": "code",
   "execution_count": 42,
   "id": "67a1c3fd",
   "metadata": {},
   "outputs": [
    {
     "data": {
      "image/png": "[encoded data removed]",
      "text/plain": [
       "<Figure size 325x250 with 1 Axes>"
      ]
     },
     "metadata": {},
     "output_type": "display_data"
    }
   ],
   "source": [
    "def plotme3(df):\n",
    "\n",
    "    fig = plt.figure(figsize=(3.25, 2.50))\n",
    "    plt.loglog(df['$\\epsilon_{\\mathrm{r}}$'], df['$\\epsilon_{\\mathrm{i}}$'], '.')\n",
    "    plt.xlabel('$\\epsilon_{\\mathrm{r}}$')\n",
    "    plt.ylabel('$\\epsilon_{\\mathrm{i}}$')\n",
    "    fig.tight_layout()\n",
    "    \n",
    "    return fig\n",
    "\n",
    "figs['04'] = plotme3(df)"
   ]
  },
  {
   "cell_type": "code",
   "execution_count": 43,
   "id": "adca3467",
   "metadata": {},
   "outputs": [
    {
     "data": {
      "image/png": "[encoded data removed]",
      "text/plain": [
       "<Figure size 325x275 with 1 Axes>"
      ]
     },
     "metadata": {},
     "output_type": "display_data"
    }
   ],
   "source": [
    "def plotme4(Kn1, Kn2):\n",
    "\n",
    "    fig = plt.figure(figsize=(3.25, 2.75))\n",
    "    for index in [0,1,2]:\n",
    "        plt.loglog(Kn2[:,index].real, \n",
    "                   Kn1[:,index].real,\n",
    "                   label=f'{index:d}')\n",
    "    plt.legend(frameon=False, title='index $n$')\n",
    "    plt.xlabel('Re[$K_n$] GPU')\n",
    "    plt.ylabel('Re[$K_n$] CPU')\n",
    "    fig.tight_layout()\n",
    "    \n",
    "    return fig\n",
    "\n",
    "figs['05'] = plotme4(Kn1, Kn2)"
   ]
  },
  {
   "cell_type": "code",
   "execution_count": 44,
   "id": "adf7f07e",
   "metadata": {},
   "outputs": [
    {
     "data": {
      "image/png": "[encoded data removed]",
      "text/plain": [
       "<Figure size 325x275 with 1 Axes>"
      ]
     },
     "metadata": {},
     "output_type": "display_data"
    }
   ],
   "source": [
    "def plotme5(Kn1, Kn2):\n",
    "\n",
    "    fig = plt.figure(figsize=(3.25, 2.75))\n",
    "    for index in [0,1,2]:\n",
    "        plt.loglog(-1 * Kn2[:,index].imag, \n",
    "                   -1 * Kn1[:,index].imag,\n",
    "                   label=f'{index:d}')\n",
    "    plt.legend(frameon=False, title='index $n$')\n",
    "    plt.xlabel('-Im[$K_n$] GPU')\n",
    "    plt.ylabel('-Im[$K_n$] CPU')\n",
    "    fig.tight_layout()\n",
    "    \n",
    "    return fig\n",
    "\n",
    "figs['06'] = plotme5(Kn1, Kn2)"
   ]
  },
  {
   "cell_type": "markdown",
   "id": "dac0fcec",
   "metadata": {},
   "source": [
    "Sort the real part of the CPU $K_0$ array, and then rearrange the GPU $K_0$ array to be in the same order.?   "
   ]
  },
  {
   "cell_type": "code",
   "execution_count": 45,
   "id": "abefa35e",
   "metadata": {},
   "outputs": [
    {
     "data": {
      "image/png": "[encoded data removed]",
      "text/plain": [
       "<Figure size 325x275 with 1 Axes>"
      ]
     },
     "metadata": {},
     "output_type": "display_data"
    }
   ],
   "source": [
    "def plotme6(Kn1, Kn2):\n",
    "\n",
    "    sorted_indices = np.argsort(Kn1[:,2].real)\n",
    "\n",
    "    fig = plt.figure(figsize=(3.25, 2.75))\n",
    "    \n",
    "    x = Kn1[sorted_indices,2].real\n",
    "    y = (Kn1[sorted_indices,2].real - Kn2[sorted_indices,2].real)\n",
    "    plt.loglog(x, y, '.')\n",
    "    plt.loglog(x, 1e-6 * x, 'g--', label='$10^{-6}$')\n",
    "    plt.loglog(x, 1e-5 * x, 'g-.',label='$10^{-5}$')\n",
    "    plt.xlim(1e-7,1e-4)\n",
    "    plt.ylim(1e-12,1e-9)\n",
    "    plt.xlabel('Re[$K_2^{\\mathrm{CPU}}$]')\n",
    "    plt.ylabel('Re[$K_2^{\\mathrm{CPU}}$] - Re[$K_2^{\\mathrm{GPU}}$]')\n",
    "    plt.legend(frameon=False)  \n",
    "    fig.tight_layout()\n",
    "    \n",
    "    return fig\n",
    "\n",
    "figs['07'] = plotme6(Kn1, Kn2)"
   ]
  },
  {
   "cell_type": "code",
   "execution_count": 46,
   "id": "dee288b5",
   "metadata": {},
   "outputs": [
    {
     "data": {
      "image/png": "[encoded data removed]",
      "text/plain": [
       "<Figure size 325x275 with 1 Axes>"
      ]
     },
     "metadata": {},
     "output_type": "display_data"
    }
   ],
   "source": [
    "def plotme7(Kn1, Kn2):\n",
    "\n",
    "    sorted_indices = np.argsort(Kn1[:,2].imag)\n",
    "\n",
    "    fig = plt.figure(figsize=(3.25, 2.75))\n",
    "    x = -1 * Kn1[sorted_indices,2].imag\n",
    "    y = (Kn1[sorted_indices,2].imag - Kn2[sorted_indices,2].imag)\n",
    "    plt.loglog(x, y, '.')\n",
    "    plt.loglog(x, 1e-3 * x, 'g--', label='$10^{-3}$')\n",
    "    plt.loglog(x,        x, 'k--',label='$1$')\n",
    "    plt.loglog(x, 1e+3 * x, 'r--', label='$10^{+3}$')\n",
    "    plt.xlabel('-Im[$K_2^{\\mathrm{CPU}}$]')\n",
    "    plt.ylabel('Im[$K_2^{\\mathrm{CPU}}$] - Im[$K_2^{\\mathrm{GPU}}$]')\n",
    "    plt.legend(frameon=False)    \n",
    "    fig.tight_layout()\n",
    "    \n",
    "    return fig\n",
    "\n",
    "figs['08'] = plotme7(Kn1, Kn2)"
   ]
  },
  {
   "cell_type": "markdown",
   "id": "4283d835",
   "metadata": {},
   "source": [
    "# Examine the integrand"
   ]
  },
  {
   "cell_type": "code",
   "execution_count": 458,
   "id": "4f8b30a1",
   "metadata": {},
   "outputs": [],
   "source": [
    "from dissipationtheory.dissipation9b import integrand1jit, Kp\n",
    "from dissipationtheory.dissipation15e import rpI"
   ]
  },
  {
   "cell_type": "code",
   "execution_count": 459,
   "id": "aef3363a",
   "metadata": {},
   "outputs": [],
   "source": [
    "def get_K2integrand_CPU(values1, index):\n",
    "\n",
    "    omega, sj, rk, epsilon_s, sigma, rho, epsilon_d, h_s = values1[index]\n",
    "\n",
    "    sample1 = SampleModel1(\n",
    "        cantilever = cantilever,\n",
    "        h_s = ureg.Quantity(h_s, 'nm'),\n",
    "        epsilon_s = ureg.Quantity(epsilon_s, ''),\n",
    "        epsilon_d = ureg.Quantity(epsilon_d, ''),\n",
    "        sigma = ureg.Quantity(sigma, 'S/m'),\n",
    "        rho = ureg.Quantity(rho, '1/m^3'),\n",
    "        z_r = ureg.Quantity(1, 'nm'))\n",
    "\n",
    "    sample1_jit = SampleModel1Jit(**sample1.args())\n",
    "\n",
    "    y = np.logspace(np.log10(2e-9), np.log10(2.0e1), 21 * 15)\n",
    "    K2integrand = np.zeros_like(y, dtype=complex)\n",
    "\n",
    "    for idx, y_ in enumerate(y):\n",
    "        _, _, K2integrand[idx] = integrand1jit(y_, sample1_jit, omega, 1.0e-9 * sj, 1.0e-9 * rk) @ Kp\n",
    "    \n",
    "    integral = np.trapz(K2integrand, x=y)\n",
    "    \n",
    "    return integral, y, K2integrand"
   ]
  },
  {
   "cell_type": "code",
   "execution_count": 460,
   "id": "82cca992",
   "metadata": {},
   "outputs": [],
   "source": [
    "def get_K2integrand_GPU(values1, index):\n",
    "    \n",
    "    omega, sj, rk, epsilon_s, sigma, rho, epsilon_d, h_s = values1[index]\n",
    "\n",
    "    sample1 = SampleModel1(\n",
    "        cantilever = cantilever,\n",
    "        h_s = ureg.Quantity(h_s, 'nm'),\n",
    "        epsilon_s = ureg.Quantity(epsilon_s, ''),\n",
    "        epsilon_d = ureg.Quantity(epsilon_d, ''),\n",
    "        sigma = ureg.Quantity(sigma, 'S/m'),\n",
    "        rho = ureg.Quantity(rho, '1/m^3'),\n",
    "        z_r = ureg.Quantity(1, 'nm'))\n",
    "       \n",
    "    omega0 = sample1.omega0.to('Hz').magnitude\n",
    "    kD = sample1.kD.to('1/m').magnitude\n",
    "    hs = ureg.Quantity(h_s,'nm').to('m').magnitude\n",
    "    pts = 21 * 15\n",
    "    \n",
    "    # start: reproduce rp_I_integrator code\n",
    "\n",
    "    y_min = 2.0e-9\n",
    "    y_max = 2.0e1\n",
    "\n",
    "    w = torch.linspace(\n",
    "        torch.log(torch.tensor(y_min)),\n",
    "        torch.log(torch.tensor(y_max)),\n",
    "        pts,\n",
    "        device=device,\n",
    "    )    \n",
    "    \n",
    "    sj = torch.as_tensor(sj.astype(np.float32), device=device)\n",
    "    rk = torch.as_tensor(rk.astype(np.float32), device=device)\n",
    "    \n",
    "    zjkref = sj[2] + rk[2]\n",
    "    x = torch.sqrt((sj[0] - rk[0]) ** 2 + (sj[1] - rk[1]) ** 2) / zjkref    \n",
    "    \n",
    "    t0 = torch.exp(w)\n",
    "    t1 = torch.exp(w - t0) \n",
    "    t2 = torch.special.bessel_j0(t0 * x)\n",
    "    t3 = rpI(t0, omega, omega0, zjkref, kD, hs, epsilon_s, epsilon_d)\n",
    "    \n",
    "    I0 = t1 * t2 * t3\n",
    "    \n",
    "    # I1 = t0 * I0\n",
    "    # I2 = t0 * I1   \n",
    "    \n",
    "    I1 = torch.exp(2 * w - t0) * t2 * t3\n",
    "    I2 = torch.exp(3 * w - t0) * t2 * t3\n",
    "        \n",
    "    # end: reproduce rp_I_integrator code\n",
    "    \n",
    "    K2integrand = I2 / zjkref**3\n",
    "    \n",
    "    integral = torch.trapezoid(y=K2integrand, x=w).cpu().numpy()\n",
    "    \n",
    "    return integral, w.cpu().numpy(), K2integrand.cpu().numpy()"
   ]
  },
  {
   "cell_type": "code",
   "execution_count": 461,
   "id": "2bfa692e",
   "metadata": {},
   "outputs": [],
   "source": [
    "def plotme8(y, K2integrand, xlabel, xscale):\n",
    "\n",
    "    fig = plt.figure(figsize=(10.0, 2.75))\n",
    "    plt.plot(y, 1e12 * K2integrand.imag, '.-')\n",
    "    plt.xlabel(xlabel)\n",
    "    plt.xscale(xscale)\n",
    "    plt.ylabel('$K_2$ integrand [$10^{-12}$]')\n",
    "    fig.tight_layout()\n",
    "    \n",
    "    return fig"
   ]
  },
  {
   "cell_type": "markdown",
   "id": "6d4f1908",
   "metadata": {},
   "source": [
    "## Best point"
   ]
  },
  {
   "cell_type": "code",
   "execution_count": 462,
   "id": "8a9f50ef",
   "metadata": {},
   "outputs": [
    {
     "name": "stdout",
     "output_type": "stream",
     "text": [
      "Re[K[0]] +1.346434980e-02 vs +1.346435118e-02, relative error = -1.03e-07\n",
      "Re[K[1]] +1.778338017e-04 vs +1.778338046e-04, relative error = -1.63e-08\n",
      "Re[K[2]] +4.505820234e-06 vs +4.505820016e-06, relative error = +4.84e-08\n",
      "\n",
      "Im[K[0]] -3.282780859e-06 vs -3.282780881e-06, relative error = -6.81e-09\n",
      "Im[K[1]] -5.292555774e-08 vs -5.292555727e-08, relative error = +8.92e-09\n",
      "Im[K[2]] -1.361056481e-09 vs -1.361056490e-09, relative error = -6.54e-09\n",
      "\n",
      "(62831.853071795864, array([ 0.,  0., 50.]), array([ 0., 20., 20.]), (100+0j), 1e-06, 1e+23, (100+0j), 100.0)\n"
     ]
    }
   ],
   "source": [
    "index = 20043\n",
    "\n",
    "comparetwoK(Kn1[index], Kn2[index])\n",
    "print() \n",
    "print(values1[index])"
   ]
  },
  {
   "cell_type": "code",
   "execution_count": 463,
   "id": "3842dadd",
   "metadata": {},
   "outputs": [
    {
     "name": "stdout",
     "output_type": "stream",
     "text": [
      "integral = +4.509860e-06 + j * -1.362277e-09\n"
     ]
    },
    {
     "data": {
      "image/png": "[encoded data removed]",
      "text/plain": [
       "<Figure size 1000x275 with 1 Axes>"
      ]
     },
     "metadata": {},
     "output_type": "display_data"
    }
   ],
   "source": [
    "result, y, K2integrand = get_K2integrand_CPU(values1, index)\n",
    "figs['09a1'] = plotme8(y, K2integrand, xlabel='$y$', xscale='log')\n",
    "\n",
    "print(f'integral = {result.real:+0.6e} + j * {result.imag:+0.6e}')"
   ]
  },
  {
   "cell_type": "code",
   "execution_count": 464,
   "id": "0901cd64",
   "metadata": {},
   "outputs": [
    {
     "name": "stdout",
     "output_type": "stream",
     "text": [
      "integral = +4.505820e-06 + j * -1.361056e-09\n"
     ]
    },
    {
     "data": {
      "image/png": "[encoded data removed]",
      "text/plain": [
       "<Figure size 1000x275 with 1 Axes>"
      ]
     },
     "metadata": {},
     "output_type": "display_data"
    }
   ],
   "source": [
    "result, w, K2integrand = get_K2integrand_GPU(values1, index)\n",
    "figs['09a2'] = plotme8(w, K2integrand, xlabel='$w$', xscale='linear')\n",
    "\n",
    "print(f'integral = {result.real:+0.6e} + j * {result.imag:+0.6e}')"
   ]
  },
  {
   "cell_type": "code",
   "execution_count": 465,
   "id": "88dad9cf",
   "metadata": {},
   "outputs": [
    {
     "data": {
      "image/png": "[encoded data removed]",
      "text/plain": [
       "<Figure size 1000x275 with 1 Axes>"
      ]
     },
     "metadata": {},
     "output_type": "display_data"
    }
   ],
   "source": [
    "figs['09a3'] = plotme8(np.exp(w), K2integrand, xlabel='$w$', xscale='log')"
   ]
  },
  {
   "cell_type": "markdown",
   "id": "4c39ce29",
   "metadata": {},
   "source": [
    "## Worst point"
   ]
  },
  {
   "cell_type": "code",
   "execution_count": 466,
   "id": "32a024e4",
   "metadata": {},
   "outputs": [
    {
     "name": "stdout",
     "output_type": "stream",
     "text": [
      "Re[K[0]] +2.282302465e-02 vs +2.282302454e-02, relative error = +4.63e-09\n",
      "Re[K[1]] +5.443985395e-04 vs +5.443984992e-04, relative error = +7.40e-08\n",
      "Re[K[2]] +2.645984967e-05 vs +2.645983477e-05, relative error = +5.63e-07\n",
      "\n",
      "Im[K[0]] -2.235332961e-08 vs -2.983711056e-08, relative error = -3.35e-01\n",
      "Im[K[1]] -6.765715456e-12 vs -2.844101621e-10, relative error = -4.10e+01\n",
      "Im[K[2]] -1.133630790e-14 vs -1.261936736e-11, relative error = -1.11e+03\n",
      "\n",
      "(6283185.307179586, array([ 0.,  0., 20.]), array([ 0.,  0., 20.]), (10+0j), 0.01, 1e+19, (100+0j), 20.0)\n"
     ]
    }
   ],
   "source": [
    "index = 29026\n",
    "\n",
    "comparetwoK(Kn1[index], Kn2[index])\n",
    "print()\n",
    "print(values1[index])"
   ]
  },
  {
   "cell_type": "code",
   "execution_count": 467,
   "id": "b1a0337c",
   "metadata": {},
   "outputs": [
    {
     "name": "stdout",
     "output_type": "stream",
     "text": [
      "integral = +2.648357e-05 + j * -1.134647e-14\n"
     ]
    },
    {
     "data": {
      "image/png": "[encoded data removed]",
      "text/plain": [
       "<Figure size 1000x275 with 1 Axes>"
      ]
     },
     "metadata": {},
     "output_type": "display_data"
    }
   ],
   "source": [
    "result, y, K2integrand = get_K2integrand_CPU(values1, index)\n",
    "figs['09b1'] = plotme8(y, K2integrand, xlabel='$y$', xscale='log')\n",
    "\n",
    "print(f'integral = {result.real:+0.6e} + j * {result.imag:+0.6e}')"
   ]
  },
  {
   "cell_type": "code",
   "execution_count": 468,
   "id": "be2a7a86",
   "metadata": {},
   "outputs": [
    {
     "name": "stdout",
     "output_type": "stream",
     "text": [
      "integral = +2.645983e-05 + j * -1.261936e-11\n"
     ]
    },
    {
     "data": {
      "image/png": "[encoded data removed]",
      "text/plain": [
       "<Figure size 1000x275 with 1 Axes>"
      ]
     },
     "metadata": {},
     "output_type": "display_data"
    }
   ],
   "source": [
    "result, w, K2integrand = get_K2integrand_GPU(values1, index)\n",
    "figs['09b2'] = plotme8(w, K2integrand, xlabel='$w$', xscale='linear')\n",
    "\n",
    "print(f'integral = {result.real:+0.6e} + j * {result.imag:+0.6e}')"
   ]
  },
  {
   "cell_type": "code",
   "execution_count": 469,
   "id": "5c08bb31",
   "metadata": {},
   "outputs": [
    {
     "data": {
      "image/png": "[encoded data removed]",
      "text/plain": [
       "<Figure size 1000x275 with 1 Axes>"
      ]
     },
     "metadata": {},
     "output_type": "display_data"
    }
   ],
   "source": [
    "figs['09b3'] = plotme8(np.exp(w), K2integrand, xlabel='$w$', xscale='log')"
   ]
  },
  {
   "cell_type": "markdown",
   "id": "339814a9",
   "metadata": {},
   "source": [
    "Why do the integrands disagree?"
   ]
  },
  {
   "cell_type": "markdown",
   "id": "4326d270",
   "metadata": {},
   "source": [
    "# Revised GPU function to compute $K_2$"
   ]
  },
  {
   "cell_type": "code",
   "execution_count": 471,
   "id": "65ed565b",
   "metadata": {},
   "outputs": [],
   "source": [
    "def mysech(x):\n",
    "    \n",
    "    # return 2 * torch.exp(-x)/(1 + torch.exp(-2  * x))\n",
    "    return 1/torch.cosh(x)\n",
    "    \n",
    "def mycsch(x):\n",
    "    \n",
    "    # return 2 * torch.exp(-x)/(1 - torch.exp(-2 * x))\n",
    "    return 1/torch.sinh(x)"
   ]
  },
  {
   "cell_type": "code",
   "execution_count": 521,
   "id": "71d36f95",
   "metadata": {},
   "outputs": [],
   "source": [
    "def rpI(\n",
    "    y: torch.tensor, \n",
    "    omega: float, \n",
    "    omega0: float, \n",
    "    zr: float, \n",
    "    kD: float,\n",
    "    hs: float,\n",
    "    es: complex,\n",
    "    ed: complex\n",
    ") -> torch.complex128:\n",
    "    \"\"\"Fresnel coefficient for Sample III object:\n",
    "\n",
    "        cantilever | vacuum gap | semiconductor (semi-infinite)\n",
    "\n",
    "    In the code below, `y` is the unitless integration variable.\n",
    "    \"\"\"\n",
    "\n",
    "    Omega = omega / omega0\n",
    "    \n",
    "    theta1 = complex(1,0) * torch.sqrt(y**2 * (hs / zr)**2 + (hs * kD)**2 * (1 / es + complex(0,1) * Omega))\n",
    "    theta2 = complex(1,0) * y * hs / zr\n",
    "\n",
    "    k_over_eta = y / torch.sqrt(y**2 + (zr * kD) ** 2 * (1 / es + complex(0, 1) * Omega))\n",
    "\n",
    "    p0 = 1 + complex(0,1) * es * Omega\n",
    "    p1 = k_over_eta / (es * p0)\n",
    "    p2 = - Omega**2 / (p0 * p0)\n",
    "    p3 = complex(0,1) * Omega / (ed * p0)\n",
    "    p4 = complex(0,1) * Omega * k_over_eta / (es * p0**2) \n",
    "    p5 = - k_over_eta**2 / (es**2 * p0**2)\n",
    "    p6 = complex(0,1) * Omega / p0\n",
    "    p7 = 1 / ed\n",
    "\n",
    "    t1 = p1 / torch.tanh(theta1)\n",
    "    n1 = p2 * torch.tanh(theta1) * torch.tanh(theta2) + p3 * torch.tanh(theta1) + p4\n",
    "    n2 = - 2 * p4 * mysech(theta2) * mysech(theta1)\n",
    "    n3 = p5 * torch.tanh(theta2) * mysech(theta1) * mycsch(theta1)\n",
    "    d1 = p6 * torch.tanh(theta1) + torch.tanh(theta2) * (p1 + p7 * torch.tanh(theta1))\n",
    "\n",
    "    theta_norm = t1 + (n1 + n2 + n3)/d1\n",
    "    rp = (1 - theta_norm) / (1 + theta_norm)\n",
    " \n",
    "    return rp"
   ]
  },
  {
   "cell_type": "code",
   "execution_count": 534,
   "id": "36cdd47b",
   "metadata": {},
   "outputs": [],
   "source": [
    "def get_K2integrand_GPU_revised(values1, index):\n",
    "    \n",
    "    omega, sj, rk, epsilon_s, sigma, rho, epsilon_d, h_s = values1[index]\n",
    "\n",
    "    sample1 = SampleModel1(\n",
    "        cantilever = cantilever,\n",
    "        h_s = ureg.Quantity(h_s, 'nm'),\n",
    "        epsilon_s = ureg.Quantity(epsilon_s, ''),\n",
    "        epsilon_d = ureg.Quantity(epsilon_d, ''),\n",
    "        sigma = ureg.Quantity(sigma, 'S/m'),\n",
    "        rho = ureg.Quantity(rho, '1/m^3'),\n",
    "        z_r = ureg.Quantity(1, 'nm'))\n",
    "       \n",
    "    omega0 = sample1.omega0.to('Hz').magnitude\n",
    "    kD = sample1.kD.to('1/nm').magnitude\n",
    "    hs = ureg.Quantity(h_s,'nm').to('nm').magnitude\n",
    "    pts = 21 * 15\n",
    "    \n",
    "    # start: reproduce rp_I_integrator code\n",
    "\n",
    "    y_min = 2.0e-9\n",
    "    y_max = 2.0e1\n",
    "\n",
    "    w = torch.linspace(\n",
    "        torch.log(torch.tensor(y_min)),\n",
    "        torch.log(torch.tensor(y_max)),\n",
    "        pts,\n",
    "        device=device,\n",
    "    )    \n",
    "    \n",
    "    sj = torch.as_tensor(sj.astype(np.float32), device=device)\n",
    "    rk = torch.as_tensor(rk.astype(np.float32), device=device)\n",
    "    \n",
    "    zjkref = sj[2] + rk[2]\n",
    "    x = torch.sqrt((sj[0] - rk[0]) ** 2 + (sj[1] - rk[1]) ** 2) / zjkref    \n",
    "    \n",
    "    print('zjkref = ', zjkref)\n",
    "    print('x = ', x)\n",
    "     \n",
    "    t0 = torch.exp(w)    \n",
    "    t1 = torch.special.bessel_j0(t0 * x)\n",
    "    t2 = rpI(t0, omega, omega0, zjkref, kD, hs, epsilon_s, epsilon_d)\n",
    "    \n",
    "    # end: reproduce rp_I_integrator code    \n",
    "    \n",
    "    I0 = torch.exp(1 * w - t0) * t1 * t2  \n",
    "    I1 = torch.exp(2 * w - t0) * t1 * t2\n",
    "    I2 = torch.exp(3 * w - t0) * t1 * t2\n",
    "\n",
    "    K2integrand = I2 / zjkref**3\n",
    "    \n",
    "    integral = torch.trapezoid(y=K2integrand, x=w).cpu().numpy()\n",
    "    \n",
    "    return integral, w.cpu().numpy(), K2integrand.cpu().numpy()"
   ]
  },
  {
   "cell_type": "markdown",
   "id": "cefc16a9",
   "metadata": {},
   "source": [
    "Best point"
   ]
  },
  {
   "cell_type": "code",
   "execution_count": 536,
   "id": "50a13c7d",
   "metadata": {},
   "outputs": [
    {
     "name": "stdout",
     "output_type": "stream",
     "text": [
      "Re[K[0]] +1.346434980e-02 vs +1.346435118e-02, relative error = -1.03e-07\n",
      "Re[K[1]] +1.778338017e-04 vs +1.778338046e-04, relative error = -1.63e-08\n",
      "Re[K[2]] +4.505820234e-06 vs +4.505820016e-06, relative error = +4.84e-08\n",
      "\n",
      "Im[K[0]] -3.282780859e-06 vs -3.282780881e-06, relative error = -6.81e-09\n",
      "Im[K[1]] -5.292555774e-08 vs -5.292555727e-08, relative error = +8.92e-09\n",
      "Im[K[2]] -1.361056481e-09 vs -1.361056490e-09, relative error = -6.54e-09\n",
      "\n",
      "(62831.853071795864, array([ 0.,  0., 50.]), array([ 0., 20., 20.]), (100+0j), 1e-06, 1e+23, (100+0j), 100.0)\n",
      "zjkref =  tensor(70., device='mps:0')\n",
      "x =  tensor(0.2857, device='mps:0')\n",
      "integral = +4.505820e-06 + j * -1.361056e-09\n"
     ]
    },
    {
     "data": {
      "image/png": "[encoded data removed]",
      "text/plain": [
       "<Figure size 1000x275 with 1 Axes>"
      ]
     },
     "metadata": {},
     "output_type": "display_data"
    }
   ],
   "source": [
    "index = 20043\n",
    "\n",
    "comparetwoK(Kn1[index], Kn2[index])\n",
    "print()\n",
    "print(values1[index])\n",
    "\n",
    "result, w, K2integrand = get_K2integrand_GPU_revised(values1, index)\n",
    "figs['09c1'] = plotme8(w, K2integrand, xlabel='$w$', xscale='linear')\n",
    "\n",
    "print(f'integral = {result.real:+0.6e} + j * {result.imag:+0.6e}')"
   ]
  },
  {
   "cell_type": "markdown",
   "id": "f814208d",
   "metadata": {},
   "source": [
    "Worst point"
   ]
  },
  {
   "cell_type": "code",
   "execution_count": 537,
   "id": "beb85db7",
   "metadata": {},
   "outputs": [
    {
     "name": "stdout",
     "output_type": "stream",
     "text": [
      "Re[K[0]] +2.282302465e-02 vs +2.282302454e-02, relative error = +4.63e-09\n",
      "Re[K[1]] +5.443985395e-04 vs +5.443984992e-04, relative error = +7.40e-08\n",
      "Re[K[2]] +2.645984967e-05 vs +2.645983477e-05, relative error = +5.63e-07\n",
      "\n",
      "Im[K[0]] -2.235332961e-08 vs -2.983711056e-08, relative error = -3.35e-01\n",
      "Im[K[1]] -6.765715456e-12 vs -2.844101621e-10, relative error = -4.10e+01\n",
      "Im[K[2]] -1.133630790e-14 vs -1.261936736e-11, relative error = -1.11e+03\n",
      "\n",
      "(6283185.307179586, array([ 0.,  0., 20.]), array([ 0.,  0., 20.]), (10+0j), 0.01, 1e+19, (100+0j), 20.0)\n",
      "zjkref =  tensor(40., device='mps:0')\n",
      "x =  tensor(0., device='mps:0')\n",
      "integral = +2.645983e-05 + j * -1.261882e-11\n"
     ]
    },
    {
     "data": {
      "image/png": "[encoded data removed]",
      "text/plain": [
       "<Figure size 1000x275 with 1 Axes>"
      ]
     },
     "metadata": {},
     "output_type": "display_data"
    }
   ],
   "source": [
    "index = 29026\n",
    "\n",
    "comparetwoK(Kn1[index], Kn2[index])\n",
    "print()\n",
    "print(values1[index])\n",
    "\n",
    "result, w, K2integrand = get_K2integrand_GPU_revised(values1, index)\n",
    "figs['09c2'] = plotme8(w, K2integrand, xlabel='$w$', xscale='linear')\n",
    "\n",
    "print(f'integral = {result.real:+0.6e} + j * {result.imag:+0.6e}')"
   ]
  },
  {
   "cell_type": "markdown",
   "id": "d3ae2bee",
   "metadata": {},
   "source": [
    "# Conclusions\n",
    "\n",
    "The $r_p$ function is clearly discontinuous in the above plot. \n",
    "This pathology suggests that the error in $\\mathrm{Im}[K_2]$ at high $\\sigma$ and small $\\rho$ is a problem with $r_p$ and not with the integration procedure.    There are a couple of possible sources of the faulty $r_p$, keeping in mind that `torch` code on the GPU is running in single precision and $\\theta_1$ and $k / \\eta$ are complex numbers.  We could have errors in the  \n",
    "\n",
    "1. the square root of a complex number in $\\theta_1$\n",
    "1. the square root of a complex number in $k / \\eta$\n",
    "2. evaluating `sinh`, `cosh`, or `tanh` with complex argument $\\theta_1$. "
   ]
  },
  {
   "cell_type": "markdown",
   "id": "f1a9717f",
   "metadata": {},
   "source": [
    "In support of Hypotheses 3, see `pytorch` issue 44611 on [github](https://github.com/pytorch/pytorch/issues/44611), \"MacOS CPU torch.tan and torch.tanh do not compute some values properly\" (and follow the link at the bottom of the issue to [here](https://github.com/numpy/numpy/blob/4b1cd4e118e543260cbe9c7fba51a1de37e03618/numpy/core/src/npymath/npy_math_complex.c.src#L849)).  \\\n",
    "I reproduce the bug below."
   ]
  },
  {
   "cell_type": "code",
   "execution_count": 635,
   "id": "da33c9b9",
   "metadata": {},
   "outputs": [
    {
     "data": {
      "text/plain": [
       "(tensor(nan-infj, dtype=torch.complex128), (-0-1.633123935319537e+16j))"
      ]
     },
     "execution_count": 635,
     "metadata": {},
     "output_type": "execute_result"
    }
   ],
   "source": [
    "(torch.tanh(torch.tensor(-1.5707963267948966j, dtype=torch.cdouble)), np.tanh(-1.5707963267948966j))"
   ]
  },
  {
   "cell_type": "markdown",
   "id": "a0333729",
   "metadata": {},
   "source": [
    "This bug concerns CPU, not GPU code, but it is nevertheless concerning. \\\n",
    "Playing around, you can see that `torch.tanh()` and `np.tanh()` can return *very* different values."
   ]
  },
  {
   "cell_type": "code",
   "execution_count": 670,
   "id": "49bb2c79",
   "metadata": {},
   "outputs": [
    {
     "data": {
      "text/plain": [
       "(array([-0.+4909.82594232j]), tensor([-0.+6833.4663j]))"
      ]
     },
     "execution_count": 670,
     "metadata": {},
     "output_type": "execute_result"
    }
   ],
   "source": [
    "np.tanh(np.array([-1.571j])), torch.tanh(torch.tensor([-1.571j]))"
   ]
  },
  {
   "cell_type": "markdown",
   "id": "f27a4621",
   "metadata": {},
   "source": [
    "Impliment the hyperbolic tangent function for complex argument suggested [here](https://github.com/numpy/numpy/blob/4b1cd4e118e543260cbe9c7fba51a1de37e03618/numpy/core/src/npymath/npy_math_complex.c.src#L849)."
   ]
  },
  {
   "cell_type": "code",
   "execution_count": 684,
   "id": "b20831c3",
   "metadata": {},
   "outputs": [],
   "source": [
    "def mytanh1(z):\n",
    "    \n",
    "    x = z.real\n",
    "    y = z.imag\n",
    "    \n",
    "    t = torch.tan(x)\n",
    "    beta = 1/(torch.cos(y) ** 2)\n",
    "    s = torch.sinh(x)\n",
    "    rho = torch.cosh(x)\n",
    "    \n",
    "    return (complex(1,0) * beta * rho * s + complex(0,1) * t)/(1 + beta * s**2) "
   ]
  },
  {
   "cell_type": "code",
   "execution_count": 693,
   "id": "57463c2c",
   "metadata": {},
   "outputs": [
    {
     "data": {
      "text/plain": [
       "((1.0147936161466333-0.03381282607989669j), tensor(1.0148-0.0474j))"
      ]
     },
     "execution_count": 693,
     "metadata": {},
     "output_type": "execute_result"
    }
   ],
   "source": [
    "np.tanh(2-1j), mytanh1(torch.tensor(2-1j))"
   ]
  },
  {
   "cell_type": "markdown",
   "id": "90035df7",
   "metadata": {},
   "source": [
    "This function gives the wrong answer.\n",
    "\n",
    "Try another implimentation."
   ]
  },
  {
   "cell_type": "code",
   "execution_count": 694,
   "id": "f3ef627d",
   "metadata": {},
   "outputs": [],
   "source": [
    "def mytanh2(z):\n",
    "    \n",
    "    x = z.real\n",
    "    y = z.imag\n",
    "    \n",
    "    return (torch.sinh(2 * x) + complex(0,1) * torch.sin(2 * y))/(torch.cosh(2 * x) + torch.cos(2 * y))"
   ]
  },
  {
   "cell_type": "code",
   "execution_count": 695,
   "id": "a1217e97",
   "metadata": {},
   "outputs": [
    {
     "data": {
      "text/plain": [
       "((1.0147936161466333-0.03381282607989669j), tensor(1.0148-0.0338j))"
      ]
     },
     "execution_count": 695,
     "metadata": {},
     "output_type": "execute_result"
    }
   ],
   "source": [
    "np.tanh(2-1j), mytanh2(torch.tensor(2-1j))"
   ]
  },
  {
   "cell_type": "markdown",
   "id": "02798408",
   "metadata": {},
   "source": [
    "This function does a better job."
   ]
  },
  {
   "cell_type": "markdown",
   "id": "e02f05f9",
   "metadata": {},
   "source": [
    "Spot check the the `torch` sinh and cosh functions with complex argument."
   ]
  },
  {
   "cell_type": "code",
   "execution_count": 696,
   "id": "f42a65c2",
   "metadata": {},
   "outputs": [
    {
     "data": {
      "text/plain": [
       "(tensor(-0.+1.j), (-0+1.0000000207413875j))"
      ]
     },
     "execution_count": 696,
     "metadata": {},
     "output_type": "execute_result"
    }
   ],
   "source": [
    "1/torch.sinh(torch.tensor(-1.571j)), 1/np.sinh(-1.571j)"
   ]
  },
  {
   "cell_type": "code",
   "execution_count": 697,
   "id": "75a34aaf",
   "metadata": {},
   "outputs": [
    {
     "data": {
      "text/plain": [
       "(tensor(-4910.3086-0.j), (-4909.826044159563-0j))"
      ]
     },
     "execution_count": 697,
     "metadata": {},
     "output_type": "execute_result"
    }
   ],
   "source": [
    "1/torch.cosh(torch.tensor(-1.571j)), 1/np.cosh(-1.571j)"
   ]
  },
  {
   "cell_type": "markdown",
   "id": "38822ac3",
   "metadata": {},
   "source": [
    "The `cosh` fuction is also seems to be having problems."
   ]
  },
  {
   "cell_type": "markdown",
   "id": "6186f66b",
   "metadata": {},
   "source": [
    "# Try again to create a revised GPU function for $K_2$\n",
    "\n",
    "Make my own torch functions for `sech`, `csch`, and `tanh` valid for complex input using notes at the bottom of the page [here](https://en.wikipedia.org/wiki/Hyperbolic_functions#Hyperbolic_functions_for_complex_numbers)."
   ]
  },
  {
   "cell_type": "code",
   "execution_count": 784,
   "id": "2eea7c75",
   "metadata": {},
   "outputs": [],
   "source": [
    "def mysech(z):\n",
    "    \n",
    "    x = z.real\n",
    "    y = z.imag\n",
    "    \n",
    "    return 1/(torch.cosh(x) * torch.cos(y) + complex(0,1) * torch.sinh(x) * torch.sin(y))"
   ]
  },
  {
   "cell_type": "code",
   "execution_count": 785,
   "id": "7ce319d3",
   "metadata": {},
   "outputs": [
    {
     "data": {
      "text/plain": [
       "(tensor(14.1368+0.j), (14.136832902969903+0j))"
      ]
     },
     "execution_count": 785,
     "metadata": {},
     "output_type": "execute_result"
    }
   ],
   "source": [
    "mysech(torch.tensor(-1.5j)), 1/np.cosh(-1.5j)"
   ]
  },
  {
   "cell_type": "code",
   "execution_count": 786,
   "id": "bf68cc1d",
   "metadata": {},
   "outputs": [],
   "source": [
    "def mycsch(z):\n",
    "    \n",
    "    x = z.real\n",
    "    y = z.imag\n",
    "    \n",
    "    return 1/(torch.sinh(x) * torch.cos(y) + complex(0,1) * torch.cosh(x) * torch.sin(y))"
   ]
  },
  {
   "cell_type": "code",
   "execution_count": 787,
   "id": "3442cb59",
   "metadata": {},
   "outputs": [
    {
     "data": {
      "text/plain": [
       "(tensor(0.0350+0.6478j), (0.034986175021582806+0.6477921901927566j))"
      ]
     },
     "execution_count": 787,
     "metadata": {},
     "output_type": "execute_result"
    }
   ],
   "source": [
    "mycsch(torch.tensor(1-1.5j)), 1/np.sinh(1-1.5j)"
   ]
  },
  {
   "cell_type": "code",
   "execution_count": 788,
   "id": "ee3341ed",
   "metadata": {},
   "outputs": [],
   "source": [
    "def mytanh(z):\n",
    "    \n",
    "    x = z.real\n",
    "    y = z.imag\n",
    "    \n",
    "    return (torch.sinh(2 * x) + complex(0,1) * torch.sin(2 * y))/(torch.cosh(2 * x) + torch.cos(2 * y))"
   ]
  },
  {
   "cell_type": "code",
   "execution_count": 789,
   "id": "02dd4f07",
   "metadata": {},
   "outputs": [
    {
     "data": {
      "text/plain": [
       "(tensor(1.3083-0.0509j), (1.3082952992279355-0.05090536232722862j))"
      ]
     },
     "execution_count": 789,
     "metadata": {},
     "output_type": "execute_result"
    }
   ],
   "source": [
    "mytanh(torch.tensor(1-1.5j)), np.tanh(1-1.5j)"
   ]
  },
  {
   "cell_type": "code",
   "execution_count": 781,
   "id": "0a15e429",
   "metadata": {},
   "outputs": [],
   "source": [
    "def rpIv2(\n",
    "    y: torch.tensor, \n",
    "    omega: float, \n",
    "    omega0: float, \n",
    "    zr: float, \n",
    "    kD: float,\n",
    "    hs: float,\n",
    "    es: complex,\n",
    "    ed: complex\n",
    ") -> torch.complex128:\n",
    "    \"\"\"Fresnel coefficient for Sample III object:\n",
    "\n",
    "        cantilever | vacuum gap | semiconductor (semi-infinite)\n",
    "\n",
    "    In the code below, `y` is the unitless integration variable.\n",
    "    \"\"\"\n",
    "\n",
    "    Omega = omega / omega0\n",
    "    \n",
    "    theta1 = complex(1,0) * torch.sqrt(y**2 * (hs / zr)**2 + (hs * kD)**2 * (1 / es + complex(0,1) * Omega))\n",
    "    theta2 = complex(1,0) * y * hs / zr\n",
    "\n",
    "    k_over_eta = y / torch.sqrt(y**2 + (zr * kD) ** 2 * (1 / es + complex(0, 1) * Omega))\n",
    "\n",
    "    p0 = 1 + complex(0,1) * es * Omega\n",
    "    p1 = k_over_eta / (es * p0)\n",
    "    p2 = - Omega**2 / (p0 * p0)\n",
    "    p3 = complex(0,1) * Omega / (ed * p0)\n",
    "    p4 = complex(0,1) * Omega * k_over_eta / (es * p0**2) \n",
    "    p5 = - k_over_eta**2 / (es**2 * p0**2)\n",
    "    p6 = complex(0,1) * Omega / p0\n",
    "    p7 = 1 / ed\n",
    "\n",
    "    t1 = p1 / mytanh(theta1)\n",
    "    n1 = p2 * mytanh(theta1) * mytanh(theta2) + p3 * mytanh(theta1) + p4\n",
    "    n2 = - 2 * p4 * mysech(theta2) * mysech(theta1)\n",
    "    n3 = p5 * mytanh(theta2) * mysech(theta1) * mycsch(theta1)\n",
    "    d1 = p6 * mytanh(theta1) + mytanh(theta2) * (p1 + p7 * mytanh(theta1))\n",
    "\n",
    "    theta_norm = t1 + (n1 + n2 + n3)/d1\n",
    "    rp = (1 - theta_norm) / (1 + theta_norm)\n",
    " \n",
    "    return rp"
   ]
  },
  {
   "cell_type": "code",
   "execution_count": 782,
   "id": "d7c5d9ba",
   "metadata": {},
   "outputs": [],
   "source": [
    "def get_K2integrand_GPU_revised2(values1, index):\n",
    "    \n",
    "    omega, sj, rk, epsilon_s, sigma, rho, epsilon_d, h_s = values1[index]\n",
    "\n",
    "    sample1 = SampleModel1(\n",
    "        cantilever = cantilever,\n",
    "        h_s = ureg.Quantity(h_s, 'nm'),\n",
    "        epsilon_s = ureg.Quantity(epsilon_s, ''),\n",
    "        epsilon_d = ureg.Quantity(epsilon_d, ''),\n",
    "        sigma = ureg.Quantity(sigma, 'S/m'),\n",
    "        rho = ureg.Quantity(rho, '1/m^3'),\n",
    "        z_r = ureg.Quantity(1, 'nm'))\n",
    "       \n",
    "    omega0 = sample1.omega0.to('Hz').magnitude\n",
    "    kD = sample1.kD.to('1/nm').magnitude\n",
    "    hs = ureg.Quantity(h_s,'nm').to('nm').magnitude\n",
    "    pts = 21 * 15\n",
    "    \n",
    "    # start: reproduce rp_I_integrator code\n",
    "\n",
    "    y_min = 2.0e-9\n",
    "    y_max = 2.0e1\n",
    "\n",
    "    w = torch.linspace(\n",
    "        torch.log(torch.tensor(y_min)),\n",
    "        torch.log(torch.tensor(y_max)),\n",
    "        pts,\n",
    "        device=device,\n",
    "    )    \n",
    "    \n",
    "    sj = torch.as_tensor(sj.astype(np.float32), device=device)\n",
    "    rk = torch.as_tensor(rk.astype(np.float32), device=device)\n",
    "    \n",
    "    zjkref = sj[2] + rk[2]\n",
    "    x = torch.sqrt((sj[0] - rk[0]) ** 2 + (sj[1] - rk[1]) ** 2) / zjkref    \n",
    "    \n",
    "    print('zjkref = ', zjkref)\n",
    "    print('x = ', x)\n",
    "     \n",
    "    t0 = torch.exp(w)    \n",
    "    t1 = torch.special.bessel_j0(t0 * x)\n",
    "    t2 = rpIv2(t0, omega, omega0, zjkref, kD, hs, epsilon_s, epsilon_d)\n",
    "    \n",
    "    # end: reproduce rp_I_integrator code    \n",
    "    \n",
    "    I0 = torch.exp(1 * w - t0) * t1 * t2  \n",
    "    I1 = torch.exp(2 * w - t0) * t1 * t2\n",
    "    I2 = torch.exp(3 * w - t0) * t1 * t2\n",
    "\n",
    "    K2integrand = I2 / zjkref**3\n",
    "    \n",
    "    integral = torch.trapezoid(y=K2integrand, x=w).cpu().numpy()\n",
    "    \n",
    "    return integral, w.cpu().numpy(), K2integrand.cpu().numpy()"
   ]
  },
  {
   "cell_type": "code",
   "execution_count": 790,
   "id": "f27c5ad3",
   "metadata": {},
   "outputs": [
    {
     "name": "stdout",
     "output_type": "stream",
     "text": [
      "Re[K[0]] +2.282302465e-02 vs +2.282302454e-02, relative error = +4.63e-09\n",
      "Re[K[1]] +5.443985395e-04 vs +5.443984992e-04, relative error = +7.40e-08\n",
      "Re[K[2]] +2.645984967e-05 vs +2.645983477e-05, relative error = +5.63e-07\n",
      "\n",
      "Im[K[0]] -2.235332961e-08 vs -2.983711056e-08, relative error = -3.35e-01\n",
      "Im[K[1]] -6.765715456e-12 vs -2.844101621e-10, relative error = -4.10e+01\n",
      "Im[K[2]] -1.133630790e-14 vs -1.261936736e-11, relative error = -1.11e+03\n",
      "\n",
      "(6283185.307179586, array([ 0.,  0., 20.]), array([ 0.,  0., 20.]), (10+0j), 0.01, 1e+19, (100+0j), 20.0)\n",
      "zjkref =  tensor(40., device='mps:0')\n",
      "x =  tensor(0., device='mps:0')\n",
      "integral = +2.645983e-05 + j * -1.262120e-11\n"
     ]
    },
    {
     "data": {
      "image/png": "[encoded data removed]",
      "text/plain": [
       "<Figure size 1000x275 with 1 Axes>"
      ]
     },
     "metadata": {},
     "output_type": "display_data"
    }
   ],
   "source": [
    "index = 29026\n",
    "\n",
    "comparetwoK(Kn1[index], Kn2[index])\n",
    "print()\n",
    "print(values1[index])\n",
    "\n",
    "result, w, K2integrand = get_K2integrand_GPU_revised2(values1, index)\n",
    "figs['10'] = plotme8(w, K2integrand, xlabel='$w$', xscale='linear')\n",
    "\n",
    "print(f'integral = {result.real:+0.6e} + j * {result.imag:+0.6e}')"
   ]
  },
  {
   "cell_type": "markdown",
   "id": "a1faff6d",
   "metadata": {},
   "source": [
    "The integrand of $K_2$ versus $w$ is still showing a discontinuity. \\\n",
    "Arrgh!!"
   ]
  },
  {
   "cell_type": "markdown",
   "id": "53879bf6",
   "metadata": {},
   "source": [
    "::: {.content-hidden when-format=\"html\"}\n",
    "\n",
    "# Save the figures"
   ]
  },
  {
   "cell_type": "code",
   "execution_count": 791,
   "id": "ccfe0b64",
   "metadata": {},
   "outputs": [],
   "source": [
    "if 1:\n",
    "    for num in figs.keys():\n",
    "        figname = THIS + \"Fig-\" + num\n",
    "        figs[num].savefig(figname + '.png', dpi=300)\n",
    "        figs[num].savefig(figname + '.pdf')"
   ]
  },
  {
   "cell_type": "markdown",
   "id": "2c870917",
   "metadata": {},
   "source": [
    "# Formatting notes\n",
    "\n",
    "The header at the top of this file is for creating a nicely-formatted `.html` document using the program `quarto` ([link](https://quarto.org/)).  To create nicely-formated `.html`versions of this notebook, run `quarto` from the command line as follows\n",
    "\n",
    "    quarto render dissipation-theory--Study-71.ipynb && open dissipation-theory--Study-71.html\n",
    "    \n",
    ":::"
   ]
  }
 ],
 "metadata": {
  "kernelspec": {
   "display_name": "dissipationtheory",
   "language": "python",
   "name": "dissipationtheory"
  },
  "language_info": {
   "codemirror_mode": {
    "name": "ipython",
    "version": 3
   },
   "file_extension": ".py",
   "mimetype": "text/x-python",
   "name": "python",
   "nbconvert_exporter": "python",
   "pygments_lexer": "ipython3",
   "version": "3.10.2"
  },
  "toc": {
   "base_numbering": 1,
   "nav_menu": {},
   "number_sections": true,
   "sideBar": true,
   "skip_h1_title": false,
   "title_cell": "Table of Contents",
   "title_sidebar": "Contents",
   "toc_cell": false,
   "toc_position": {
    "height": "calc(100% - 180px)",
    "left": "10px",
    "top": "150px",
    "width": "266px"
   },
   "toc_section_display": true,
   "toc_window_display": true
  }
 },
 "nbformat": 4,
 "nbformat_minor": 5
}
