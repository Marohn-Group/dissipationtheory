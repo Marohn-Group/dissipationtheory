{
 "cells": [
  {
   "cell_type": "raw",
   "id": "4631eafb-6334-479e-bed5-d26c01f5293f",
   "metadata": {},
   "source": [
    "---\n",
    "title: Testing new functions for frequency shift and friction\n",
    "author: \"John A. Marohn\"\n",
    "date: today\n",
    "abstract: Test code for computing friction, $\\gamma$, and frequency shift, $\\Delta f_{\\mathrm{stat}}$ and $\\Delta f_{\\mathrm{dyn}}$, for a cantilever oscillating in the perpendicular geometry over a thick Type I semiconductor sample.  Import code from `dissipationtheory8a.py` and `dissipationtheory8b.py`. Develop a data class `ExptSweepConductivity` which computes and plots friction and frequency shift for varied conductivity and charge density.\n",
    "toc: true\n",
    "number-sections: true\n",
    "highlight-style: pygments\n",
    "embed-resources: true\n",
    "dpi: 300\n",
    "format:\n",
    "    html:\n",
    "        html-math-method:\n",
    "          method: mathjax\n",
    "          url: \"https://cdn.jsdelivr.net/npm/mathjax@3/es5/tex-mml-chtml.js\"\n",
    "        code-fold: true\n",
    "        code-tools: true\n",
    "jupyter: python3\n",
    "---"
   ]
  },
  {
   "cell_type": "markdown",
   "id": "07582cd2-9f63-48b3-98b7-9b36b8389570",
   "metadata": {},
   "source": [
    "# Preliminaries"
   ]
  },
  {
   "cell_type": "code",
   "execution_count": 1,
   "id": "4dda8b69-5334-4cc8-b525-a258cbeda1a6",
   "metadata": {},
   "outputs": [],
   "source": [
    "import numpy as np\n",
    "import matplotlib.pylab as plt\n",
    "import pandas as pd"
   ]
  },
  {
   "cell_type": "code",
   "execution_count": 2,
   "id": "35b54c13-1eac-405e-9815-26e516867d1b",
   "metadata": {},
   "outputs": [],
   "source": [
    "from dissipationtheory.constants import ureg, qe, epsilon0"
   ]
  },
  {
   "cell_type": "code",
   "execution_count": 3,
   "id": "5b6cc386-66b7-4f8b-bb4a-8f79a4220e97",
   "metadata": {},
   "outputs": [],
   "source": [
    "from dissipationtheory.dissipation8a import CantileverModel, SampleModel1, SampleModel2\n",
    "from dissipationtheory.dissipation8b import CantileverModelJit, SampleModel1Jit, SampleModel2Jit\n",
    "from dissipationtheory.dissipation8b import integrand1jit, integrand2jit, K_jit\n",
    "from dissipationtheory.dissipation8b import gamma_perpendicular_jit, freq_perpendicular_jit "
   ]
  },
  {
   "cell_type": "code",
   "execution_count": 97,
   "id": "73fa4611-31cc-4d3d-8d5a-66c0e4bfee05",
   "metadata": {},
   "outputs": [],
   "source": [
    "THIS = 'dissipation-theory--Study-45--'\n",
    "figs = {}"
   ]
  },
  {
   "cell_type": "markdown",
   "id": "50502be1-ff64-431f-899a-64c0c5b58f2e",
   "metadata": {},
   "source": [
    "# Cantilever and sample"
   ]
  },
  {
   "cell_type": "code",
   "execution_count": 4,
   "id": "8dcef40d-2c66-4678-bb33-4b08ab07381d",
   "metadata": {},
   "outputs": [],
   "source": [
    "cantilever = CantileverModel(\n",
    "    f_c = ureg.Quantity(75, 'kHz'),\n",
    "    k_c = ureg.Quantity(2.8, 'N/m'), \n",
    "    V_ts = ureg.Quantity(1, 'V'), \n",
    "    R = ureg.Quantity(35, 'nm'),\n",
    "    angle = ureg.Quantity(20, 'degrees'),\n",
    "    L = ureg.Quantity(1000, 'nm'), \n",
    "    d = ureg.Quantity(38, 'nm'),\n",
    ")"
   ]
  },
  {
   "cell_type": "markdown",
   "id": "8380357f-17c7-4866-b4eb-e2ee2294d19d",
   "metadata": {},
   "source": [
    "Assume a fixed mobility of $\\mu = 10^{-8} \\: \\mathrm{m}^2/\\mathrm{V s}$, an ionic mobility.  As we vary the conductivity $\\sigma$, we should vary the charge density $\\rho$ to keep the mobility constant.  Pick a starting $\\sigma$ and compute the associated charge density that achieves the above target mobility."
   ]
  },
  {
   "cell_type": "code",
   "execution_count": 5,
   "id": "5a8bdcff-90bc-4bdc-b8d8-514a4502cc76",
   "metadata": {},
   "outputs": [],
   "source": [
    "mu = ureg.Quantity(1e-8, 'm^2/(V s)') \n",
    "sigma = ureg.Quantity(1E-5, 'S/m')\n",
    "rho = (sigma / (qe * mu)).to('1/m^3')"
   ]
  },
  {
   "cell_type": "code",
   "execution_count": 6,
   "id": "9f72ec68-9a68-4e75-9450-bc0790a46317",
   "metadata": {},
   "outputs": [],
   "source": [
    "sample1 = SampleModel1(\n",
    "    cantilever = cantilever,\n",
    "    h_s = ureg.Quantity(7300, 'nm'),                  # 100 times the sample-charge separation\n",
    "    epsilon_s = ureg.Quantity(complex(20, -0.2), ''), # ? change from 20 to 100\n",
    "    sigma = sigma,\n",
    "    rho = rho,\n",
    "    epsilon_d = ureg.Quantity(complex(1e6, 0), ''),\n",
    "    z_r = ureg.Quantity(73, 'nm')\n",
    ")"
   ]
  },
  {
   "cell_type": "code",
   "execution_count": 7,
   "id": "f1d090ca-fd4e-49ab-9982-e598bd853852",
   "metadata": {},
   "outputs": [],
   "source": [
    "sample1_jit = SampleModel1Jit(**sample1.args())"
   ]
  },
  {
   "cell_type": "markdown",
   "id": "d2ea72d1-acad-4074-b2c2-983e8bda4eba",
   "metadata": {},
   "source": [
    "# Trial dissipation calculation"
   ]
  },
  {
   "cell_type": "code",
   "execution_count": 8,
   "id": "53b36188-b4dc-4b66-8799-d8e1998693a2",
   "metadata": {},
   "outputs": [
    {
     "data": {
      "text/html": [
       "0.6770331096580011 piconewton second/meter"
      ],
      "text/latex": [
       "$0.6770331096580011\\ \\frac{\\mathrm{piconewton} \\cdot \\mathrm{second}}{\\mathrm{meter}}$"
      ],
      "text/plain": [
       "<Quantity(0.6770331096580011, 'piconewton * second / meter')>"
      ]
     },
     "execution_count": 8,
     "metadata": {},
     "output_type": "execute_result"
    }
   ],
   "source": [
    "gamma_perpendicular_jit(integrand1jit, sample1_jit, np.array([0., 0., 73e-9]))"
   ]
  },
  {
   "cell_type": "markdown",
   "id": "5ef914af-c47f-41bc-9571-dc31b0171ace",
   "metadata": {},
   "source": [
    "# Trial frequency shift calculation"
   ]
  },
  {
   "cell_type": "code",
   "execution_count": 13,
   "id": "c1cd60b9-04f9-4389-9c04-f51b016935f6",
   "metadata": {},
   "outputs": [
    {
     "data": {
      "text/html": [
       "<table><tbody><tr><th>Magnitude</th><td style='text-align:left;'><pre>[-2.181251447438716 0.012647751192719752]</pre></td></tr><tr><th>Units</th><td style='text-align:left;'>hertz</td></tr></tbody></table>"
      ],
      "text/latex": [
       "$\\begin{pmatrix} & \\end{pmatrix}\\ \\mathrm{hertz}$"
      ],
      "text/plain": [
       "<Quantity([-2.18125145  0.01264775], 'hertz')>"
      ]
     },
     "execution_count": 13,
     "metadata": {},
     "output_type": "execute_result"
    }
   ],
   "source": [
    "result = freq_perpendicular_jit(integrand1jit, sample1_jit, np.array([0., 0., 73e-9]))\n",
    "result"
   ]
  },
  {
   "cell_type": "code",
   "execution_count": 14,
   "id": "cda8afd3-9fe5-49ee-8dde-d92b527740d5",
   "metadata": {},
   "outputs": [
    {
     "data": {
      "text/html": [
       "-2.168603696245996 hertz"
      ],
      "text/latex": [
       "$-2.168603696245996\\ \\mathrm{hertz}$"
      ],
      "text/plain": [
       "<Quantity(-2.168603696245996, 'hertz')>"
      ]
     },
     "execution_count": 14,
     "metadata": {},
     "output_type": "execute_result"
    }
   ],
   "source": [
    "result.sum()"
   ]
  },
  {
   "cell_type": "markdown",
   "id": "1502cda6-cbb8-4aba-9c5a-346deb6ca62c",
   "metadata": {},
   "source": [
    "# Loop over conductivities"
   ]
  },
  {
   "cell_type": "code",
   "execution_count": 18,
   "id": "e64e4b68-80f3-42cf-9140-b1868df2e0b5",
   "metadata": {},
   "outputs": [],
   "source": [
    "N_sigma = 100 # 20 to 200"
   ]
  },
  {
   "cell_type": "code",
   "execution_count": 19,
   "id": "f4a4e644-7d87-41be-8825-5819a794aa86",
   "metadata": {},
   "outputs": [],
   "source": [
    "sigma__array = ureg.Quantity(\n",
    "    np.logspace(\n",
    "        start=np.log10(1e-10),\n",
    "        stop=np.log10(1),\n",
    "        num=N_sigma), 'S/m')"
   ]
  },
  {
   "cell_type": "markdown",
   "id": "1cdd70f7-86c8-4621-9c6b-6e29a4d25b9e",
   "metadata": {},
   "source": [
    "Assume a fixed mobility of $\\mu = 10^{-8} \\: \\mathrm{m}^2/\\mathrm{V s}$, an ionic mobility.  As we vary $\\sigma$, we should vary the charge density $\\rho$ to keep the mobility constant.  Compute a corresponding charge density array."
   ]
  },
  {
   "cell_type": "code",
   "execution_count": 20,
   "id": "275599b1-fdf9-469f-b254-542aece6d783",
   "metadata": {},
   "outputs": [],
   "source": [
    "mu = ureg.Quantity(1e-8, 'm^2/(V s)') \n",
    "rho__array = (sigma__array / (qe * mu)).to('1/m^3')"
   ]
  },
  {
   "cell_type": "markdown",
   "id": "6a627396-9201-4da3-8967-c441184a4221",
   "metadata": {},
   "source": [
    "We now have an array of conductivities and charge densities."
   ]
  },
  {
   "cell_type": "markdown",
   "id": "39030522-f3fd-42d0-b8b3-22bd90a99ec8",
   "metadata": {},
   "source": [
    "A helper function."
   ]
  },
  {
   "cell_type": "code",
   "execution_count": 21,
   "id": "1ffdbb7d-599e-4e1b-804a-6ddf7f489f14",
   "metadata": {},
   "outputs": [],
   "source": [
    "def latex_float(f):\n",
    "    \"\"\"Example function call.\n",
    "\n",
    "        latex_float(3e-7)\n",
    "        => '$3.0 \\\\times 10^{-7}$'\n",
    "        \n",
    "    \"\"\"\n",
    "    float_str = \"{0:.1e}\".format(f)\n",
    "    if \"e\" in float_str:\n",
    "        base, exponent = float_str.split(\"e\")\n",
    "        return r\"${0} \\times 10^{{{1}}}$\".format(base, int(exponent))\n",
    "    else:\n",
    "        return float_str    "
   ]
  },
  {
   "cell_type": "markdown",
   "id": "fb0fea59-1894-43f7-a045-a30b63eb8d45",
   "metadata": {},
   "source": [
    "A data class, adapted from `dissipationtheory7.py`."
   ]
  },
  {
   "cell_type": "code",
   "execution_count": 91,
   "id": "53eaa31c-d40a-4ac9-81a1-15c9a8999018",
   "metadata": {},
   "outputs": [],
   "source": [
    "class ExptSweepConductivity(object):\n",
    "\n",
    "    def __init__(self, msg):\n",
    "\n",
    "        self.msg = msg\n",
    "        self.df = pd.DataFrame()\n",
    "        \n",
    "    def calculate(self, integrand, sample, location, sigma, rho):\n",
    "        \"\"\"Create a pandas dataframe row of useful results.\"\"\"\n",
    "\n",
    "        for sigma_, rho_ in zip(sigma, rho):\n",
    "            \n",
    "            sample.rho = rho_.to('1/m^3').magnitude\n",
    "            sample.sigma = sigma_.to('S/m').magnitude\n",
    "        \n",
    "            gamma = gamma_perpendicular_jit(integrand, sample, location)\n",
    "            freq = freq_perpendicular_jit(integrand, sample, location)\n",
    "            \n",
    "            ep = sample.epsilon_s.real   \n",
    "            z_c = ureg.Quantity(location[2], 'm')\n",
    "            LD = ureg.Quantity(1/sample.kD, 'm')\n",
    "            rho = ureg.Quantity(sample.rho, '1/m^3')\n",
    "            omega_0 = (ureg.Quantity(sample.sigma, 'S/m')/epsilon0).to('Hz')\n",
    "            omega_c = ureg.Quantity(sample.cantilever.omega_c, 'Hz')\n",
    "            \n",
    "            new_row = pd.DataFrame([\n",
    "                {'sigma [S/m]': sigma_.to('S/m').magnitude,\n",
    "                'rho [1/cm^3]': rho_.to('1/cm^3').magnitude,\n",
    "                'L_D [nm]': LD.to('nm').magnitude,\n",
    "                'rho scaled 1': (z_c**2/(LD**2)).to('').magnitude,\n",
    "                'rho scaled 2': (z_c**2/(ep * LD**2)).to('').magnitude,\n",
    "                'rho scaled 3': (z_c**2/(7.742 * ep * LD**2)).to('').magnitude,  # see below\n",
    "                'omega0 [Hz]': omega_0.to('Hz').magnitude,\n",
    "                'omega_c [Hz]': omega_c.to('Hz').magnitude,\n",
    "                'omega_c scaled': (omega_0/(ep * omega_c)).to('').magnitude,\n",
    "                'gamma [pN s/m]': gamma.to('pN s/m').magnitude,\n",
    "                'frequency [Hz]': freq.to('Hz').magnitude}])\n",
    "        \n",
    "            self.df = pd.concat([self.df, new_row], ignore_index=True)\n",
    "    \n",
    "    def plot_friction(self):\n",
    "        \n",
    "        y = self.df['gamma [pN s/m]'].values\n",
    "        x1 = self.df['omega_c scaled'].values\n",
    "        x2 = self.df['rho [1/cm^3]'].values\n",
    "        \n",
    "        # Define functions to convert from  $\\hat{\\rho}$ to $\\rho$ and back again\n",
    "    \n",
    "        c = (x2/x1)[0]\n",
    "        fwd = lambda x1: x1*c\n",
    "        rev = lambda x2: x2/c \n",
    "\n",
    "        with plt.style.context('seaborn-v0_8'):\n",
    "        \n",
    "            fig, ax1 = plt.subplots(1, 1, figsize=(3.50, 3.00))\n",
    "            \n",
    "            ax1.semilogx(x1, y)\n",
    "            ax1.set_ylabel((r'friction $\\gamma_{\\perp}$ [pN s/m]'))\n",
    "            ax1.set_xlabel(r'scaled frequency $\\Omega_0 = '\n",
    "                           r'\\omega_0/(\\epsilon_{\\mathrm{s}}^{\\prime} \\omega_{\\mathrm{c}})$')\n",
    "                    \n",
    "            ax2 = ax1.secondary_xaxis(\"top\", functions=(fwd,rev))\n",
    "            ax2.set_xlabel(r'charge density $\\rho$ [cm$^{-3}$]')\n",
    "            plt.tight_layout()\n",
    "            \n",
    "        return fig\n",
    "        \n",
    "    def plot_frequency(self, abs=False):\n",
    "        \n",
    "        y1 = np.array([x[0] for x in self.df['frequency [Hz]'].values])\n",
    "        y2 = np.array([x[1] for x in self.df['frequency [Hz]'].values])\n",
    "        if abs:\n",
    "            y1 = np.abs(y1)\n",
    "            y2 = np.abs(y2)\n",
    "\n",
    "        x1 = self.df['rho scaled 3'].values\n",
    "        x2 = self.df['rho [1/cm^3]'].values\n",
    "        \n",
    "        # Define functions to convert from  $\\hat{\\rho}$ to $\\rho$ and back again\n",
    "    \n",
    "        c = (x2/x1)[0]\n",
    "        fwd = lambda x1: x1*c\n",
    "        rev = lambda x2: x2/c \n",
    "\n",
    "        with plt.style.context('seaborn-v0_8'):\n",
    "        \n",
    "            fig, (ax1, ax2) = plt.subplots(1, 2, figsize=(6.50, 3.00))\n",
    "            \n",
    "            ax1.semilogx(x1, y1, label='static')\n",
    "            ax2.semilogx(x1, y2, label='dynamic')\n",
    "            \n",
    "            if abs:\n",
    "                ax1.set_ylabel(r'$|\\Delta f_{\\mathrm{stat}}|$ [Hz]')\n",
    "                ax2.set_ylabel(r'$|\\Delta f_{\\mathrm{dyn}}|$ [Hz]')\n",
    "            else:\n",
    "                ax1.set_ylabel(r'$\\Delta f_{\\mathrm{stat}}$ [Hz]')\n",
    "                ax2.set_ylabel(r'$\\Delta f_{\\mathrm{dyn}}$ [Hz]')\n",
    "\n",
    "            xlabel_tex = r'$\\hat{\\rho}_3 = ' \\\n",
    "                         r'z^2_{\\mathrm{c}} \\Big/ ' \\\n",
    "                         r'7.742 \\, \\epsilon^{\\prime}_{\\mathrm{s}} \\lambda^2_{\\mathrm{D}}$'\n",
    "\n",
    "            xlabel_plain = r'$\\hat{\\rho}_3 = ' \\\n",
    "                           r'z^2_{\\mathrm{c}} \\: / \\: ' \\\n",
    "                           r'7.742 \\, \\epsilon^{\\prime}_{\\mathrm{s}} \\lambda^2_{\\mathrm{D}}$'\n",
    "            \n",
    "            if plt.rcParams['text.usetex']:\n",
    "                ax1.set_xlabel(xlabel_tex)\n",
    "                ax2.set_xlabel(xlabel_tex)\n",
    "            else:\n",
    "                ax1.set_xlabel(xlabel_plain)\n",
    "                ax2.set_xlabel(xlabel_plain)\n",
    "                    \n",
    "            ax1top = ax1.secondary_xaxis(\"top\", functions=(fwd,rev))\n",
    "            ax1top.set_xlabel(r'charge density $\\rho$ [cm$^{-3}$]')\n",
    "\n",
    "            ax2top = ax2.secondary_xaxis(\"top\", functions=(fwd,rev))\n",
    "            ax2top.set_xlabel(r'charge density $\\rho$ [cm$^{-3}$]')\n",
    "            \n",
    "            plt.tight_layout()\n",
    "            \n",
    "        return fig"
   ]
  },
  {
   "cell_type": "markdown",
   "id": "d4206727-a5e2-4b24-be5f-24419e9d6b24",
   "metadata": {},
   "source": [
    "Run the simulation"
   ]
  },
  {
   "cell_type": "code",
   "execution_count": 98,
   "id": "995760bd-cae6-4f38-9484-73434b6bbca3",
   "metadata": {},
   "outputs": [],
   "source": [
    "expt = {}\n",
    "expt['01'] = ExptSweepConductivity('perovskite-like sample')\n",
    "expt['01'].calculate(integrand1jit, sample1_jit, np.array([0., 0., 73e-9]), sigma__array, rho__array)"
   ]
  },
  {
   "cell_type": "markdown",
   "id": "8a5c0bb6-81f1-4774-8aee-ce3670ebd637",
   "metadata": {},
   "source": [
    "Plot the results."
   ]
  },
  {
   "cell_type": "code",
   "execution_count": 99,
   "id": "f9ecefe0-cf06-4e0b-b1ab-f08164732ab7",
   "metadata": {},
   "outputs": [
    {
     "data": {
      "image/png": "[encoded data removed]",
      "text/plain": [
       "<Figure size 350x300 with 1 Axes>"
      ]
     },
     "execution_count": 99,
     "metadata": {},
     "output_type": "execute_result"
    }
   ],
   "source": [
    "figs['01'] = expt['01'].plot_friction()\n",
    "figs['01']"
   ]
  },
  {
   "cell_type": "code",
   "execution_count": 100,
   "id": "a8c3e404-d249-4567-8ae3-00b55caad94e",
   "metadata": {},
   "outputs": [
    {
     "data": {
      "image/png": "[encoded data removed]",
      "text/plain": [
       "<Figure size 650x300 with 2 Axes>"
      ]
     },
     "execution_count": 100,
     "metadata": {},
     "output_type": "execute_result"
    }
   ],
   "source": [
    "figs['02'] = expt['01'].plot_frequency()\n",
    "figs['02']"
   ]
  },
  {
   "cell_type": "markdown",
   "id": "e02ed06e-4bd7-4df2-9f95-af128fa5e0d5",
   "metadata": {},
   "source": [
    "# Save the figures"
   ]
  },
  {
   "cell_type": "code",
   "execution_count": 101,
   "id": "ce14acd7-3208-414f-9a4d-2c57703b3fba",
   "metadata": {},
   "outputs": [],
   "source": [
    "if 1:\n",
    "    for num in figs.keys():\n",
    "        figname = THIS + \"Fig-\" + num\n",
    "        figs[num].savefig(figname + '.png', dpi=300)\n",
    "        figs[num].savefig(figname + '.pdf')"
   ]
  },
  {
   "cell_type": "markdown",
   "id": "9a228a80-f8ff-4e68-a7a8-0588231139ae",
   "metadata": {},
   "source": [
    "::: {.content-hidden when-format=\"html\"}\n",
    "\n",
    "# Formatting notes\n",
    "\n",
    "The header at the top of this file is for creating a nicely-formatted `.html` document using the program `quarto` ([link](https://quarto.org/)).  To create nicely-formated `.html`versions of this notebook, run `quarto` from the command line as follows\n",
    "\n",
    "    quarto render dissipation-theory--Study-45.ipynb && open dissipation-theory--Study-45.html\n",
    "\n",
    "Other useful information about this notebook:\n",
    "\n",
    "- Filename: `dissipation-theory--Study-45.ipynb`\n",
    "- Continued from: `dissipation-theory--Study-34.ipynb`\n",
    "- Continued to: ---\n",
    "\n",
    ":::"
   ]
  },
  {
   "cell_type": "code",
   "execution_count": null,
   "id": "4a55fa34-2c74-455c-adc3-8082ded08edd",
   "metadata": {},
   "outputs": [],
   "source": []
  }
 ],
 "metadata": {
  "kernelspec": {
   "display_name": "dissipationtheory",
   "language": "python",
   "name": "dissipationtheory"
  },
  "language_info": {
   "codemirror_mode": {
    "name": "ipython",
    "version": 3
   },
   "file_extension": ".py",
   "mimetype": "text/x-python",
   "name": "python",
   "nbconvert_exporter": "python",
   "pygments_lexer": "ipython3",
   "version": "3.10.2"
  }
 },
 "nbformat": 4,
 "nbformat_minor": 5
}
