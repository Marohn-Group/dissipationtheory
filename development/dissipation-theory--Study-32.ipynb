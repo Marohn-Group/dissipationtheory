{
 "cells": [
  {
   "cell_type": "raw",
   "id": "6e0cb89f-a14d-4ad6-b887-cf5c33a78119",
   "metadata": {},
   "source": [
    "---\n",
    "title: Computing the capacitance of a sphere using the boundary element method\n",
    "author: \"John A. Marohn\"\n",
    "date: today\n",
    "abstract: Compute the capacitance of a sphere using the boundary point method and compare to the expected result. \n",
    "toc: true\n",
    "number-sections: true\n",
    "highlight-style: pygments\n",
    "html-math-method: mathjax\n",
    "embed-resources: true\n",
    "dpi: 300\n",
    "format:\n",
    "    html:\n",
    "        code-fold: true\n",
    "        code-tools: true\n",
    "jupyter: python3\n",
    "---"
   ]
  },
  {
   "cell_type": "markdown",
   "id": "52f183f6-112c-4061-a5ed-2a29ebc60f88",
   "metadata": {},
   "source": [
    "The above header is for creating a nicely-formatted `.html` and `.pdf` documents using the program `quarto` ([link](https://quarto.org/)).  To create nicely-formated `.html` and `.pdf` versions of this notebook, run `quarto` from the command line as follows\n",
    "\n",
    "    quarto render dissipation-theory--Study-32.ipynb \n",
    "\n",
    "Other useful information about this notebook:\n",
    "\n",
    "- Filename: `dissipation-theory--Study-32.ipynb`\n",
    "- Continued from: `dissipation-theory--Study-31.ipynb`\n",
    "- Continued to: `dissipation-theory--Study-33.ipynb`"
   ]
  },
  {
   "cell_type": "markdown",
   "id": "7c527fc8-28a1-42c0-ba9b-446d04f5ce15",
   "metadata": {},
   "source": [
    "# Preliminaries"
   ]
  },
  {
   "cell_type": "code",
   "execution_count": 2,
   "id": "f95f7b06-d7b3-41be-8824-e9b8dcca35d1",
   "metadata": {},
   "outputs": [],
   "source": [
    "import numpy as np\n",
    "import warnings\n",
    "from numpy import inf\n",
    "from dissipationtheory.constants import ureg, epsilon0, qe\n",
    "from mpl_toolkits import mplot3d"
   ]
  },
  {
   "cell_type": "code",
   "execution_count": 3,
   "id": "3695d21e-8a8a-42dc-aa53-e9da25b18dbc",
   "metadata": {},
   "outputs": [],
   "source": [
    "%matplotlib inline\n",
    "import matplotlib.pylab as plt\n",
    "\n",
    "font = {'family' : 'serif',\n",
    "        'weight' : 'normal',\n",
    "        'size'   : 12}\n",
    "\n",
    "plt.rc('font', **font)\n",
    "plt.rcParams['figure.figsize'] = 3.25, 3.5"
   ]
  },
  {
   "cell_type": "markdown",
   "id": "4313f74e-b311-4696-8a09-3c89ee93d20b",
   "metadata": {},
   "source": [
    "# Set parameters"
   ]
  },
  {
   "cell_type": "code",
   "execution_count": 269,
   "id": "a3843cdd-b202-4d49-b99b-fae3bcf25026",
   "metadata": {},
   "outputs": [],
   "source": [
    "Ntheta = 80\n",
    "Nphi = 160\n",
    "\n",
    "r = ureg.Quantity(30, 'nm')\n",
    "h = ureg.Quantity(3000, 'nm')"
   ]
  },
  {
   "cell_type": "markdown",
   "id": "16bd9d7e-4c69-47c7-9751-fe270d347aca",
   "metadata": {},
   "source": [
    "# Set up voltage test-point vectors"
   ]
  },
  {
   "cell_type": "markdown",
   "id": "354ce196-d7fc-49b1-9c8a-f5f1c8e616fd",
   "metadata": {},
   "source": [
    "Going forward, convert radius and height to unitless numbers."
   ]
  },
  {
   "cell_type": "code",
   "execution_count": 270,
   "id": "d4239fa5-88cd-4081-af28-10ac967cf8e9",
   "metadata": {},
   "outputs": [],
   "source": [
    "r = r.to('nm').magnitude\n",
    "h = h.to('nm').magnitude"
   ]
  },
  {
   "cell_type": "markdown",
   "id": "a3a76918-1cb8-4d4b-9cad-5b0e2b4178f6",
   "metadata": {},
   "source": [
    "Create a list of $\\phi$ and $\\theta$ points."
   ]
  },
  {
   "cell_type": "code",
   "execution_count": 271,
   "id": "42d5167f-80ee-4b83-ae14-1787e3b189e6",
   "metadata": {},
   "outputs": [],
   "source": [
    "phi = np.linspace(start=0, stop=2*np.pi, endpoint=False, num=Nphi)\n",
    "theta = np.linspace(start=0, stop=np.pi, endpoint=True, num=Ntheta)\n",
    "q = np.ones(Ntheta * Nphi)"
   ]
  },
  {
   "cell_type": "code",
   "execution_count": 272,
   "id": "44b148b4-e3e0-4318-8b1e-59cd013a3476",
   "metadata": {},
   "outputs": [
    {
     "data": {
      "text/plain": [
       "((160,), (80,))"
      ]
     },
     "execution_count": 272,
     "metadata": {},
     "output_type": "execute_result"
    }
   ],
   "source": [
    "(phi.shape, theta.shape)"
   ]
  },
  {
   "cell_type": "markdown",
   "id": "d6fa4aa5-db20-49ea-9c46-6e423289c761",
   "metadata": {},
   "source": [
    "Create outer-product arrays and flatten them."
   ]
  },
  {
   "cell_type": "code",
   "execution_count": 273,
   "id": "e455ccc2-2a21-4c2e-ab5b-060f2ef9056d",
   "metadata": {},
   "outputs": [],
   "source": [
    "phiBig = np.outer(phi, np.ones_like(theta)).flatten()\n",
    "thetaBig = np.outer(np.ones_like(phi), theta).flatten()"
   ]
  },
  {
   "cell_type": "code",
   "execution_count": 274,
   "id": "b00d5ba3-9485-4581-9eae-f1abcad6afb4",
   "metadata": {},
   "outputs": [
    {
     "data": {
      "text/plain": [
       "((12800,), (12800,))"
      ]
     },
     "execution_count": 274,
     "metadata": {},
     "output_type": "execute_result"
    }
   ],
   "source": [
    "(phiBig.shape, thetaBig.shape)"
   ]
  },
  {
   "cell_type": "markdown",
   "id": "74478c76-60ef-44d5-b0fc-26ac8f0a4b20",
   "metadata": {},
   "source": [
    "Create a set of 3D points covering the sphere."
   ]
  },
  {
   "cell_type": "code",
   "execution_count": 275,
   "id": "934be020-4173-4257-a00c-67cb591a2a49",
   "metadata": {},
   "outputs": [],
   "source": [
    "rk = np.array([[r * np.sin(theta) * np.cos(phi),\n",
    "                r * np.sin(theta) * np.sin(phi),\n",
    "                h + r + r * np.cos(theta)] \n",
    "               for phi, theta in zip(phiBig, thetaBig)])"
   ]
  },
  {
   "cell_type": "markdown",
   "id": "671638a3-54d1-44e1-ad11-d9c8fc638bd9",
   "metadata": {},
   "source": [
    "Plot the points to confirm we've set up everything correctly.  This plot looks reasonable for $(N_\\theta, N_\\phi)$ = (10, 20) points."
   ]
  },
  {
   "cell_type": "code",
   "execution_count": 276,
   "id": "62adfed9-f46f-4770-904f-868a2eb5c812",
   "metadata": {},
   "outputs": [
    {
     "data": {
      "image/png": "[encoded data removed]",
      "text/plain": [
       "<Figure size 325x350 with 1 Axes>"
      ]
     },
     "metadata": {},
     "output_type": "display_data"
    }
   ],
   "source": [
    "fig = plt.figure()\n",
    "ax = plt.axes(projection='3d')\n",
    "ax.scatter3D(rk[:,0], rk[:,1], rk[:,2], c=q);"
   ]
  },
  {
   "cell_type": "markdown",
   "id": "5ee60bff-f92d-4c84-963b-67d9302dcdbc",
   "metadata": {},
   "source": [
    "# Solve the inverse problem"
   ]
  },
  {
   "cell_type": "markdown",
   "id": "975265a3-4beb-4604-8a71-bbf13c0adc31",
   "metadata": {},
   "source": [
    "Create arrays of the distances, in $x$, $y$, and $z$, between the voltage test points."
   ]
  },
  {
   "cell_type": "code",
   "execution_count": 277,
   "id": "2380e9e7-3238-4112-b1a1-f0a53168d36c",
   "metadata": {},
   "outputs": [],
   "source": [
    "Idk = np.ones_like(rk[:,0])"
   ]
  },
  {
   "cell_type": "code",
   "execution_count": 278,
   "id": "da7a4675-4693-438f-a49a-7c4592691700",
   "metadata": {},
   "outputs": [],
   "source": [
    "dx = np.outer(Idk, rk[:,0].T) - np.outer(rk[:,0], Idk.T)\n",
    "dy = np.outer(Idk, rk[:,1].T) - np.outer(rk[:,1], Idk.T)\n",
    "dz = np.outer(Idk, rk[:,2].T) - np.outer(rk[:,2], Idk.T)"
   ]
  },
  {
   "cell_type": "markdown",
   "id": "7aed0350-15f9-4428-a4aa-1229382b34e2",
   "metadata": {},
   "source": [
    "Create the Green's function matrix $R$, proportional to $1/r$ with $r$ the distances between the points.  Along the diagonal, we get $\\infty$.  Set these diagonal elements to zero by replacing $\\infty$ with 0."
   ]
  },
  {
   "cell_type": "code",
   "execution_count": 279,
   "id": "ffd928f6-1015-443c-9f9f-c639471e372a",
   "metadata": {},
   "outputs": [],
   "source": [
    "with warnings.catch_warnings():\n",
    "    warnings.simplefilter('ignore', RuntimeWarning)\n",
    "    R = 1.43996 * (1/np.sqrt(dx * dx + dy * dy + dz * dz)) \n",
    "\n",
    "R[R == inf] = 0"
   ]
  },
  {
   "cell_type": "markdown",
   "id": "47112132-2d9e-46f1-8a6f-0814c43034f9",
   "metadata": {},
   "source": [
    "Invert the $R$ matrix using singular value decomposition.  This step can take many minutes with thousands of voltage-test point."
   ]
  },
  {
   "cell_type": "code",
   "execution_count": 280,
   "id": "ad7c2ba8-3df9-4326-90fa-8913cb9829bd",
   "metadata": {},
   "outputs": [],
   "source": [
    "U, S, VT = np.linalg.svd(R, full_matrices=False)\n",
    "Sinv = np.diag(np.power(S, -1)) \n",
    "Rinv = np.dot(np.dot(VT.T, Sinv), U.T)"
   ]
  },
  {
   "cell_type": "markdown",
   "id": "8fdab497-2762-45fd-8e6a-af08d7fd6386",
   "metadata": {},
   "source": [
    "Compute the charge at east test-point.  Sum over the charges and multiply by a constant to get the capacitance."
   ]
  },
  {
   "cell_type": "code",
   "execution_count": 281,
   "id": "c690b338-31d8-494e-b3b5-04cf23d21bb0",
   "metadata": {},
   "outputs": [],
   "source": [
    "q = np.dot(Rinv, np.ones(Ntheta * Nphi))  # in units of qe\n",
    "C = 0.16022 * q.sum()                     # in units of aF"
   ]
  },
  {
   "cell_type": "markdown",
   "id": "076786e4-e334-476f-89d3-e678e536c820",
   "metadata": {},
   "source": [
    "# Evaluate the calculated capacitance"
   ]
  },
  {
   "cell_type": "markdown",
   "id": "e02faf64-551c-47f3-a1ae-f597bb271886",
   "metadata": {},
   "source": [
    "The capacitance is"
   ]
  },
  {
   "cell_type": "code",
   "execution_count": 285,
   "id": "155af4f7-692c-411a-89c9-8104683c7937",
   "metadata": {},
   "outputs": [
    {
     "data": {
      "text/plain": [
       "3.041636052266915"
      ]
     },
     "execution_count": 285,
     "metadata": {},
     "output_type": "execute_result"
    }
   ],
   "source": [
    "C"
   ]
  },
  {
   "cell_type": "markdown",
   "id": "290649e0-cd4b-4ef5-a375-7a078c8383f6",
   "metadata": {},
   "source": [
    "which is in poor agreement with the expected value of"
   ]
  },
  {
   "cell_type": "code",
   "execution_count": 286,
   "id": "25d298cb-7d60-43ab-8cf0-033495ab2b89",
   "metadata": {},
   "outputs": [
    {
     "data": {
      "text/plain": [
       "3.337950166343611"
      ]
     },
     "execution_count": 286,
     "metadata": {},
     "output_type": "execute_result"
    }
   ],
   "source": [
    "C_calc = (4 * np.pi * epsilon0 * ureg.Quantity(r, 'nm')).to('aF').magnitude\n",
    "C_calc"
   ]
  },
  {
   "cell_type": "markdown",
   "id": "e78bc5b4-5d0f-453c-b69c-99a1896a2837",
   "metadata": {},
   "source": [
    "Compute a percentage error"
   ]
  },
  {
   "cell_type": "code",
   "execution_count": 284,
   "id": "6be02165-8426-41cd-93b3-edf895e26e9c",
   "metadata": {},
   "outputs": [
    {
     "name": "stdout",
     "output_type": "stream",
     "text": [
      "relative error = 8.877 % for 12800 points\n"
     ]
    }
   ],
   "source": [
    "print(\"relative error = {:0.3f} % for {:d} points\".format(\n",
    "    100 * (C_calc - C)/C_calc, len(rk)))"
   ]
  },
  {
   "cell_type": "markdown",
   "id": "b8cc45a1-7567-4c6f-a1be-cedf0ede84fb",
   "metadata": {},
   "source": [
    "# Summary\n",
    "\n",
    "I ran two simulations.  The first one took a few minutes, the second one too *many* minutes.  Relative errors\n",
    "\n",
    "| $N_\\theta$ | $N_\\phi$ | $N_{r_k}$ | percent error |\n",
    "| ------| --- | ------ | ------------- |\n",
    "| 40    | 80  | 3200   |  -4.89        |\n",
    "| 80    | 160 | 12800  | +8.877        |\n",
    "\n",
    "# Discussion\n",
    "\n",
    "The error should get smaller, not larger, as the number of voltage-test points increases.  \n",
    "\n",
    "I am worried that this divergence is caused by the standard sphere parametrization employed here.  The standard parametrization has an area element, $R^2 \\sin{\\theta}$,  that goes to zero at the poles, $\\theta =0$ and $\\theta = \\pi$.  The surface charge *density* should be be uniform.  This means that very large charges are needed at poles where the patch area goes to zero.\n",
    "\n",
    "For the boundary point method employed here to be practical, it needs to work with a few percent error with only a few thousand points.  Perhaps a better sphere parameterization would lead to improved results.  It would be better to have a constant-area parameterization. "
   ]
  },
  {
   "cell_type": "markdown",
   "id": "29b50205-b6a3-4cdb-9e75-0ea31d9db777",
   "metadata": {},
   "source": [
    "# Follow up\n",
    "\n",
    "Try a constant-area parameterization!  Do this using points chosen *at random*."
   ]
  },
  {
   "cell_type": "markdown",
   "id": "27b908c0-6489-4628-832e-06a48e81acc8",
   "metadata": {},
   "source": [
    "Reset the simulation parameters."
   ]
  },
  {
   "cell_type": "code",
   "execution_count": 4,
   "id": "be421ba0-fdcc-45d2-8513-6d25279f21fa",
   "metadata": {},
   "outputs": [],
   "source": [
    "Ntheta = 20\n",
    "Nphi = 40\n",
    "\n",
    "r = ureg.Quantity(30, 'nm')\n",
    "h = ureg.Quantity(0, 'nm')"
   ]
  },
  {
   "cell_type": "markdown",
   "id": "8191dbef-c130-4efa-9403-80e94fb8000b",
   "metadata": {},
   "source": [
    "Choose the $\\phi$ and $\\theta$ points *at random*."
   ]
  },
  {
   "cell_type": "code",
   "execution_count": 5,
   "id": "3fc4228e-2ef0-4bd6-ae37-1907ec2e8f9a",
   "metadata": {},
   "outputs": [
    {
     "data": {
      "text/plain": [
       "800"
      ]
     },
     "execution_count": 5,
     "metadata": {},
     "output_type": "execute_result"
    }
   ],
   "source": [
    "r = r.to('nm').magnitude\n",
    "h = h.to('nm').magnitude\n",
    "\n",
    "phi = np.random.uniform(low=0, high=2*np.pi, size=Nphi)\n",
    "theta = np.random.uniform(low=0, high=np.pi, size=Ntheta)\n",
    "\n",
    "q = np.ones(Ntheta * Nphi)\n",
    "len(phi) * len(theta)"
   ]
  },
  {
   "cell_type": "markdown",
   "id": "8ab4201b-f3b2-447b-9b10-3a1c26bb52ee",
   "metadata": {},
   "source": [
    "Create a set of points covering the sphere."
   ]
  },
  {
   "cell_type": "code",
   "execution_count": 6,
   "id": "5dcfd39a-75e9-44ca-a5bd-933903c93809",
   "metadata": {},
   "outputs": [],
   "source": [
    "phiBig = np.outer(phi, np.ones_like(theta)).flatten()\n",
    "thetaBig = np.outer(np.ones_like(phi), theta).flatten()\n",
    "\n",
    "rk = np.array([[r * np.sin(theta) * np.cos(phi),\n",
    "                r * np.sin(theta) * np.sin(phi),\n",
    "                h + r + r * np.cos(theta)] \n",
    "               for phi, theta in zip(phiBig, thetaBig)])"
   ]
  },
  {
   "cell_type": "markdown",
   "id": "f72f466d-3948-4afe-8055-b6484e6a60e9",
   "metadata": {},
   "source": [
    "Plot the points."
   ]
  },
  {
   "cell_type": "code",
   "execution_count": 7,
   "id": "89b2d44e-f2b6-45f2-91f4-29159ba874fd",
   "metadata": {},
   "outputs": [
    {
     "data": {
      "image/png": "[encoded data removed]",
      "text/plain": [
       "<Figure size 325x350 with 1 Axes>"
      ]
     },
     "metadata": {},
     "output_type": "display_data"
    }
   ],
   "source": [
    "fig = plt.figure()\n",
    "ax = plt.axes(projection='3d')\n",
    "ax.scatter3D(rk[:,0], rk[:,1], rk[:,2], c=q);"
   ]
  },
  {
   "cell_type": "markdown",
   "id": "16163d42-c478-42ee-93da-53f269a8e01d",
   "metadata": {},
   "source": [
    "The points are still correlated.\n",
    "\n",
    "A better way to get points randomly distributed on a sphere is outlined at [stackexchange](https://math.stackexchange.com/questions/1585975/how-to-generate-random-points-on-a-sphere) and at [mathworld](https://mathworld.wolfram.com/SpherePointPicking.html).  Both posts discuss a method involving Gaussian random variables.  Impliment this method below."
   ]
  },
  {
   "cell_type": "code",
   "execution_count": 8,
   "id": "b0936cef-127d-4840-b64a-39070f9095f5",
   "metadata": {},
   "outputs": [],
   "source": [
    "Nrk = 3200\n",
    "rk = np.zeros((Nrk, 3))\n",
    "q = np.ones(Nrk)\n",
    "for index in np.arange(Nrk):\n",
    "    r_trial = np.array(\n",
    "        [np.random.normal(0,1),\n",
    "         np.random.normal(0,1),\n",
    "         np.random.normal(0,1)])\n",
    "    rk[index] = r * r_trial / np.sqrt(np.dot(r_trial, r_trial))"
   ]
  },
  {
   "cell_type": "markdown",
   "id": "0071c557-9b94-44bd-bc2e-4125d19987f7",
   "metadata": {},
   "source": [
    "Plot the points."
   ]
  },
  {
   "cell_type": "code",
   "execution_count": 9,
   "id": "cf032b1c-c950-43c4-aae4-666e19e8a283",
   "metadata": {},
   "outputs": [
    {
     "data": {
      "image/png": "[encoded data removed]",
      "text/plain": [
       "<Figure size 325x350 with 1 Axes>"
      ]
     },
     "metadata": {},
     "output_type": "display_data"
    }
   ],
   "source": [
    "fig = plt.figure()\n",
    "ax = plt.axes(projection='3d')\n",
    "ax.scatter3D(rk[:,0], rk[:,1], rk[:,2], c=q);"
   ]
  },
  {
   "cell_type": "markdown",
   "id": "7df55080-f576-4bcf-a335-44a586407c38",
   "metadata": {},
   "source": [
    "Confirm that they all lie on the sphere."
   ]
  },
  {
   "cell_type": "code",
   "execution_count": 10,
   "id": "8e87ad5e-a390-473a-aa6d-48c7ba6e2cb4",
   "metadata": {},
   "outputs": [
    {
     "data": {
      "text/plain": [
       "(30.0, 3.060029239235045e-15)"
      ]
     },
     "execution_count": 10,
     "metadata": {},
     "output_type": "execute_result"
    }
   ],
   "source": [
    "r_array = np.sqrt(rk[:,0] * rk[:,0] + rk[:,1] * rk[:,1] + rk[:,2] * rk[:,2])\n",
    "(r_array.mean(), r_array.std())"
   ]
  },
  {
   "cell_type": "markdown",
   "id": "39d9a2ba-9b3b-4bac-ab4b-89d250c55f88",
   "metadata": {},
   "source": [
    "Now compute the capacitance."
   ]
  },
  {
   "cell_type": "code",
   "execution_count": 11,
   "id": "9fc3d335-c519-4951-8a72-79f7bf3d5f19",
   "metadata": {},
   "outputs": [],
   "source": [
    "Idk = np.ones_like(rk[:,0])\n",
    "\n",
    "dx = np.outer(Idk, rk[:,0].T) - np.outer(rk[:,0], Idk.T)\n",
    "dy = np.outer(Idk, rk[:,1].T) - np.outer(rk[:,1], Idk.T)\n",
    "dz = np.outer(Idk, rk[:,2].T) - np.outer(rk[:,2], Idk.T)\n",
    "Rsep = np.sqrt(dx * dx + dy * dy + dz * dz)\n",
    "\n",
    "with warnings.catch_warnings():\n",
    "    warnings.simplefilter('ignore', RuntimeWarning)\n",
    "    R = 1.43996 * (1/Rsep) \n",
    "\n",
    "R[R == inf] = 0\n",
    "\n",
    "U, S, VT = np.linalg.svd(R, full_matrices=False)\n",
    "Sinv = np.diag(np.power(S, -1)) \n",
    "Rinv = np.dot(np.dot(VT.T, Sinv), U.T)\n",
    "\n",
    "q = np.dot(Rinv, np.ones(Nrk))  # in units of qe\n",
    "C = 0.16022 * q.sum()           # in units of aF"
   ]
  },
  {
   "cell_type": "markdown",
   "id": "f056c522-9ebb-443c-87ac-713779cb15b4",
   "metadata": {},
   "source": [
    "The expected capacitance is"
   ]
  },
  {
   "cell_type": "code",
   "execution_count": 12,
   "id": "a2bcb64e-2307-4acd-b013-f23c7770c8f3",
   "metadata": {},
   "outputs": [
    {
     "data": {
      "text/plain": [
       "3.337950166343611"
      ]
     },
     "execution_count": 12,
     "metadata": {},
     "output_type": "execute_result"
    }
   ],
   "source": [
    "C_calc = (4 * np.pi * epsilon0 * ureg.Quantity(r, 'nm')).to('aF').magnitude\n",
    "C_calc"
   ]
  },
  {
   "cell_type": "markdown",
   "id": "f2ea6a76-990d-4c1a-9ed6-0f16cecd6d25",
   "metadata": {},
   "source": [
    "Check the capacitance."
   ]
  },
  {
   "cell_type": "code",
   "execution_count": 13,
   "id": "cd120933-32df-4db1-b814-90ded7af29d4",
   "metadata": {},
   "outputs": [
    {
     "name": "stdout",
     "output_type": "stream",
     "text": [
      "relative error = -3.494 % for 3200 points\n"
     ]
    }
   ],
   "source": [
    "print(\"relative error = {:0.3f} % for {:d} points\".format(\n",
    "    100 * (C_calc - C)/C_calc, len(rk)))"
   ]
  },
  {
   "cell_type": "markdown",
   "id": "170e41e8-76c2-4902-b72f-b32a73c8bf66",
   "metadata": {},
   "source": [
    "# Follow-up discussion\n",
    "\n",
    "I am able to get a lower relative error using *randomly chosen* points.  Using the standard parametrization with 3200 points, the sphere capacitance error was $-4.9$% .  With 3200 randomly-chosen points, I ran a couple of trials.  The capitance error was $0.22$%, $-9.4$%, $-9.8$%, $-1.1$%, and $-2.3$, $-4.2$%, $-3.5$%, and $-4.3$%.  \n",
    "\n",
    "With randomly chosen points, the points are not concentrated at the poles like in the standard parametrization.  I hypothesize that this is why the accuracy can be better than in the standard parameterization.\n",
    "\n",
    "I suspect that the lowest error was for points that were, by chance, well separated.  It might be possible to \"ripen\" the randomly chosen points to get a more even distance distribution ..."
   ]
  },
  {
   "cell_type": "markdown",
   "id": "404888aa-7313-48a0-a033-5c4a1eade3c1",
   "metadata": {},
   "source": [
    "# Continue"
   ]
  },
  {
   "cell_type": "markdown",
   "id": "54d26c58-1e9b-4bae-b3d4-e4f2514db37a",
   "metadata": {},
   "source": [
    "Examine if there is a correlation beween the capacitance error and the condition number of the $R$ matrix."
   ]
  },
  {
   "cell_type": "code",
   "execution_count": 147,
   "id": "79535847-9e5b-4fe1-9d7c-645d8f2c00df",
   "metadata": {},
   "outputs": [],
   "source": [
    "def calc(Nrk):\n",
    "\n",
    "    rk = np.zeros((Nrk, 3))\n",
    "    q = np.ones(Nrk)\n",
    "    for index in np.arange(Nrk):\n",
    "        r_trial = np.array(\n",
    "            [np.random.normal(0,1),\n",
    "             np.random.normal(0,1),\n",
    "             np.random.normal(0,1)])\n",
    "        rk[index] = r * r_trial / np.sqrt(np.dot(r_trial, r_trial))\n",
    "\n",
    "    Idk = np.ones_like(rk[:,0])\n",
    "    \n",
    "    dx = np.outer(Idk, rk[:,0].T) - np.outer(rk[:,0], Idk.T)\n",
    "    dy = np.outer(Idk, rk[:,1].T) - np.outer(rk[:,1], Idk.T)\n",
    "    dz = np.outer(Idk, rk[:,2].T) - np.outer(rk[:,2], Idk.T)\n",
    "    \n",
    "    Rsep = np.sqrt(dx * dx + dy * dy + dz * dz)\n",
    "    \n",
    "    with warnings.catch_warnings():\n",
    "        warnings.simplefilter('ignore', RuntimeWarning)\n",
    "        R = 1.43996 * (1/Rsep) \n",
    "    \n",
    "    R[R == inf] = 0\n",
    "    \n",
    "    U, S, VT = np.linalg.svd(R, full_matrices=False)\n",
    "    Sinv = np.diag(np.power(S, -1)) \n",
    "    Rinv = np.dot(np.dot(VT.T, Sinv), U.T)\n",
    "    \n",
    "    q = np.dot(Rinv, np.ones(Nrk))  # in units of qe\n",
    "    C = 0.16022 * q.sum()           # in units of aF\n",
    "    \n",
    "    C_calc = (4 * np.pi * epsilon0 * ureg.Quantity(r, 'nm')).to('aF').magnitude\n",
    "    err = 100 * (C_calc - C)/C_calc\n",
    "    \n",
    "    cn = S.max()/S.min()\n",
    "    Rstd = np.sort(Rsep[:,:], axis=0)[1].std()\n",
    "    Rmean = np.sort(Rsep[:,:], axis=0)[1].mean()\n",
    "    \n",
    "    return q, C, err, cn, Rstd/Rmean"
   ]
  },
  {
   "cell_type": "code",
   "execution_count": 149,
   "id": "67c42c16-bebe-4dfd-9b48-35eb6ed9b211",
   "metadata": {},
   "outputs": [],
   "source": [
    "def runsim(pts, Nrk):\n",
    "\n",
    "    err = np.zeros(pts)\n",
    "    cn = np.zeros(pts)\n",
    "    Rratio = np.zeros(pts)\n",
    "    \n",
    "    for index in np.arange(pts):\n",
    "        _, _, err[index], cn[index], Rratio[index] = calc(Nrk)\n",
    "\n",
    "    return {'err': err, 'cn': cn, 'Rratio': Rratio}"
   ]
  },
  {
   "cell_type": "code",
   "execution_count": 154,
   "id": "1024e12b-8b02-4f1c-bb99-13c16d5bd90d",
   "metadata": {},
   "outputs": [],
   "source": [
    "def plotsim(results):\n",
    "\n",
    "    fig, (ax1, ax2) = plt.subplots(1, 2, figsize=(4.50,2.25), sharey=True)\n",
    "    \n",
    "    ax1.loglog(results['cn'], np.abs(results['err']), '.')\n",
    "    ax1.set_xlabel('condition number')\n",
    "    ax1.set_ylabel('|C error| [%]')\n",
    "\n",
    "    ax2.plot(results['Rratio'], np.abs(results['err']), '.')\n",
    "    ax2.set_xlabel('$\\sigma_R/\\mu_R$')\n",
    "    \n",
    "    fig.tight_layout()"
   ]
  },
  {
   "cell_type": "markdown",
   "id": "be78c04c-4b58-4904-bc5f-3ca1a4807d0b",
   "metadata": {},
   "source": [
    "Is there a correlation between the percent error and the condition number?"
   ]
  },
  {
   "cell_type": "code",
   "execution_count": 155,
   "id": "5f135aab-616a-4369-921b-75ebcca011c0",
   "metadata": {},
   "outputs": [
    {
     "data": {
      "image/png": "[encoded data removed]",
      "text/plain": [
       "<Figure size 450x225 with 2 Axes>"
      ]
     },
     "metadata": {},
     "output_type": "display_data"
    }
   ],
   "source": [
    "results = runsim(100, 100)\n",
    "_ = plotsim(results)"
   ]
  },
  {
   "cell_type": "markdown",
   "id": "cfb6844f-4c4b-465f-8dde-c957f49c2396",
   "metadata": {},
   "source": [
    "Running more charge points seems to improve the error."
   ]
  },
  {
   "cell_type": "code",
   "execution_count": 157,
   "id": "40e1e7d0-d97d-4f66-846c-8add1a9869f0",
   "metadata": {},
   "outputs": [
    {
     "data": {
      "image/png": "[encoded data removed]",
      "text/plain": [
       "<Figure size 450x225 with 2 Axes>"
      ]
     },
     "metadata": {},
     "output_type": "display_data"
    }
   ],
   "source": [
    "results = runsim(100, 1000)\n",
    "_ = plotsim(results)"
   ]
  },
  {
   "cell_type": "markdown",
   "id": "d1db2a30-7151-41ce-9ca5-8fc59bd3d833",
   "metadata": {},
   "source": [
    "There is a weak correlation between the condition number and the capacitance error.  Even with 1000 points on the sphere, the error is quite large.  Averged over 100 simulations, the mean error is 8.8%.  "
   ]
  },
  {
   "cell_type": "code",
   "execution_count": 159,
   "id": "1a13cdb9-25ab-4ec9-b7ac-cd851dfdce3d",
   "metadata": {},
   "outputs": [
    {
     "name": "stdout",
     "output_type": "stream",
     "text": [
      "mean absolute error = 8.81\n"
     ]
    }
   ],
   "source": [
    "print(\"mean absolute error = {:0.2f}\".format(np.abs(results['err']).mean()))"
   ]
  },
  {
   "cell_type": "markdown",
   "id": "71042c6e-bb60-4a54-8463-9feb35011db1",
   "metadata": {},
   "source": [
    "This error is comparable to the $-4.9$% capacitance error seen above with a 3200-point simulation using points non-randomly located around $\\theta$ and $\\phi$ using the usual sphere parameterization.\n",
    "\n",
    "The lowest condition number was"
   ]
  },
  {
   "cell_type": "code",
   "execution_count": 164,
   "id": "5e705076-13c5-4bca-917a-19644488f0b9",
   "metadata": {},
   "outputs": [
    {
     "data": {
      "text/plain": [
       "5488.226041801699"
      ]
     },
     "execution_count": 164,
     "metadata": {},
     "output_type": "execute_result"
    }
   ],
   "source": [
    "results['cn'].min()"
   ]
  },
  {
   "cell_type": "markdown",
   "id": "5fdbcd26-733b-4aec-b37e-003afb894c07",
   "metadata": {},
   "source": [
    "and the capacitance percent error was"
   ]
  },
  {
   "cell_type": "code",
   "execution_count": 165,
   "id": "887667b2-09b0-4aef-95c9-eac82c374382",
   "metadata": {},
   "outputs": [
    {
     "data": {
      "text/plain": [
       "-4.139117000469539"
      ]
     },
     "execution_count": 165,
     "metadata": {},
     "output_type": "execute_result"
    }
   ],
   "source": [
    "results['err'][results['cn'] == results['cn'].min()][0]"
   ]
  },
  {
   "cell_type": "markdown",
   "id": "83b2e4e6-b4a3-48fd-aabf-42305aa28652",
   "metadata": {},
   "source": [
    "# Conclusion\n",
    "\n",
    "Using randomly-located charge points does not significantly improve the capacitance error.  The capacitance error is not strongly correlated with the $R$ matrix condition number or the relative narrowness of distribution governing nearest-neighbor distances.\n",
    "\n",
    "Using the boundary element method, getting a capacitance error below 1% is going to take 10,000's of points.  Ouch!"
   ]
  },
  {
   "cell_type": "code",
   "execution_count": null,
   "id": "e09e1b87-912c-4a31-8910-64c510e091f1",
   "metadata": {},
   "outputs": [],
   "source": []
  }
 ],
 "metadata": {
  "kernelspec": {
   "display_name": "dissipationtheory",
   "language": "python",
   "name": "dissipationtheory"
  },
  "language_info": {
   "codemirror_mode": {
    "name": "ipython",
    "version": 3
   },
   "file_extension": ".py",
   "mimetype": "text/x-python",
   "name": "python",
   "nbconvert_exporter": "python",
   "pygments_lexer": "ipython3",
   "version": "3.9.10"
  }
 },
 "nbformat": 4,
 "nbformat_minor": 5
}
