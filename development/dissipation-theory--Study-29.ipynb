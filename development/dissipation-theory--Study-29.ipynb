{
 "cells": [
  {
   "cell_type": "raw",
   "id": "ca684bec-34b9-476e-b5e7-9de176a029f6",
   "metadata": {},
   "source": [
    "---\n",
    "title: Test driving `dissipation4.py` \n",
    "author: \"John A. Marohn\"\n",
    "date: today\n",
    "abstract: I have rewritten the code in `dissipation4.py` to require the use to explicitly input the tip charge's $z$ location.  In this notebook I test drive the new code.\n",
    "toc: true\n",
    "number-sections: true\n",
    "highlight-style: pygments\n",
    "html-math-method: mathjax\n",
    "embed-resources: true\n",
    "dpi: 300\n",
    "format:\n",
    "    html:\n",
    "        code-fold: false\n",
    "        code-tools: true\n",
    "    pdf:\n",
    "        geometry: \n",
    "            - top=1in\n",
    "            - left=0.5in\n",
    "            - right=0.5in\n",
    "            - bottom=1in\n",
    "    docx: default\n",
    "jupyter: python3\n",
    "---"
   ]
  },
  {
   "cell_type": "markdown",
   "id": "81caad17-1352-4afa-85dc-583be34e23ba",
   "metadata": {},
   "source": [
    "- Filename: `dissipation-theory--Study-29.ipynb`\n",
    "- Continued from: `dissipation-theory--Study-28.ipynb`\n",
    "- Continued to: ---"
   ]
  },
  {
   "cell_type": "markdown",
   "id": "4279630c-f89e-4de8-8499-6ecb6b83fd91",
   "metadata": {},
   "source": [
    "# Preliminaries"
   ]
  },
  {
   "cell_type": "code",
   "execution_count": 1,
   "id": "9acd45d6-de65-4b73-ba47-dc995335a967",
   "metadata": {},
   "outputs": [],
   "source": [
    "import numpy as np\n",
    "import pandas"
   ]
  },
  {
   "cell_type": "code",
   "execution_count": 2,
   "id": "5a6a8f8b-fa04-40ca-98af-ea31c40391f3",
   "metadata": {},
   "outputs": [],
   "source": [
    "%matplotlib inline\n",
    "import matplotlib.pylab as plt\n",
    "import matplotlib.cm as cm\n",
    "import matplotlib.colors as mcolors\n",
    "import cycler\n",
    "\n",
    "font = {'family' : 'serif',\n",
    "        'weight' : 'normal',\n",
    "        'size'   : 12}\n",
    "\n",
    "plt.rc('font', **font)\n",
    "plt.rcParams['figure.figsize'] = 3.25, 3.5"
   ]
  },
  {
   "cell_type": "code",
   "execution_count": 3,
   "id": "ac3137ab-eaa0-4819-bdd4-8e2ce865ae91",
   "metadata": {},
   "outputs": [],
   "source": [
    "THIS = 'dissipation-theory--Study-29--'\n",
    "fig = {}"
   ]
  },
  {
   "cell_type": "code",
   "execution_count": 14,
   "id": "17eb7a3b-3f58-4fa6-b48f-3e83a7d77e29",
   "metadata": {},
   "outputs": [],
   "source": [
    "from dissipationtheory.constants import ureg, qe, epsilon0\n",
    "from dissipationtheory.dissipation4 import CantileverModel, SampleModel1, SampleModel2\n",
    "from dissipationtheory.dissipation4 import CantileverModelJit, SampleModel1Jit, SampleModel2Jit\n",
    "from dissipationtheory.dissipation4 import theta1norm, gamma_perpendicular\n",
    "from dissipationtheory.dissipation4 import theta1norm_jit, gamma_perpendicular_jit\n",
    "from dissipationtheory.dissipation4 import blds_perpendicular, blds_perpendicular_jit\n",
    "from dissipationtheory.dissipation4 import gamma_perpendicular_approx, BLDSzerohigh, BLDSzerolow, BLDSapproxK2"
   ]
  },
  {
   "cell_type": "markdown",
   "id": "2770fa3d-2df8-4680-a60e-e5b8644981dd",
   "metadata": {},
   "source": [
    "# Set up cantilever and sample"
   ]
  },
  {
   "cell_type": "code",
   "execution_count": 5,
   "id": "dd0ff60d-63f8-4ae5-9a63-97aaf5f84e87",
   "metadata": {},
   "outputs": [],
   "source": [
    "cantilever = CantileverModel(\n",
    "    f_c = ureg.Quantity(75, 'kHz'),\n",
    "    k_c = ureg.Quantity(2.8, 'N/m'), \n",
    "    V_ts = ureg.Quantity(1, 'V'), \n",
    "    R = ureg.Quantity(35, 'nm'), \n",
    "    d = ureg.Quantity(38, 'nm'),\n",
    "    z_c = ureg.Quantity(73, 'nm')\n",
    ")"
   ]
  },
  {
   "cell_type": "code",
   "execution_count": 6,
   "id": "d4aabad5-8880-4c9f-8649-763fb17aff3e",
   "metadata": {},
   "outputs": [
    {
     "data": {
      "text/plain": [
       "{'f_c': 75000.0,\n",
       " 'k_c': 2.8,\n",
       " 'V_ts': 1,\n",
       " 'R': 3.5e-08,\n",
       " 'd': 3.8e-08,\n",
       " 'z_c': 7.3e-08}"
      ]
     },
     "execution_count": 6,
     "metadata": {},
     "output_type": "execute_result"
    }
   ],
   "source": [
    "cantilever.args()"
   ]
  },
  {
   "cell_type": "code",
   "execution_count": 7,
   "id": "c7aeb028-c7a4-4d10-aeb5-eb01f7730ed4",
   "metadata": {},
   "outputs": [],
   "source": [
    "sample1 = SampleModel1(\n",
    "    cantilever = cantilever,\n",
    "    h_s = ureg.Quantity(500, 'nm'),\n",
    "    epsilon_s = ureg.Quantity(complex(3, -0.2), ''),  # <== edit this\n",
    "    sigma = ureg.Quantity(1E-5, 'S/m'),\n",
    "    rho = ureg.Quantity(1e21, '1/m^3'),\n",
    "    epsilon_d = ureg.Quantity(complex(1e6, 0), ''),\n",
    "    z_r = ureg.Quantity(300, 'nm')\n",
    ")"
   ]
  },
  {
   "cell_type": "code",
   "execution_count": 8,
   "id": "65d88fd3-effd-4e55-93df-9c246d95762e",
   "metadata": {},
   "outputs": [
    {
     "data": {
      "text/plain": [
       "{'cantilever': <numba.experimental.jitclass.boxing.CantileverModelJit at 0x12863ec70>,\n",
       " 'h_s': 5.000000000000001e-07,\n",
       " 'epsilon_s': (3-0.2j),\n",
       " 'sigma': 1e-05,\n",
       " 'rho': 1e+21,\n",
       " 'epsilon_d': (1000000+0j),\n",
       " 'z_r': 3.0000000000000004e-07}"
      ]
     },
     "execution_count": 8,
     "metadata": {},
     "output_type": "execute_result"
    }
   ],
   "source": [
    "sample1.args()"
   ]
  },
  {
   "cell_type": "code",
   "execution_count": 9,
   "id": "d4ec1fb5-2c3b-4bae-a9d1-8cd1d5389bad",
   "metadata": {},
   "outputs": [
    {
     "name": "stdout",
     "output_type": "stream",
     "text": [
      "cantilever\n",
      "==========\n",
      "        cantilever freq =  75000.0 Hz\n",
      "                        =  471238.89803846896 rad/s\n",
      "        spring constant =  2.8 N/m\n",
      "     tip-sample voltage =  1.0 V\n",
      "                 radius =  3.5e-08 m\n",
      "                 height =  3.8e-08 m\n",
      "  tip charge z location =  7.3e-08 m\n",
      "\n",
      "semiconductor\n",
      "=============\n",
      "          epsilon (real) =  3.0\n",
      "          epsilon (imag) =  -0.2\n",
      "               thickness =  5.000000000000001e-07 m\n",
      "            conductivity =  1e-05 S/m\n",
      "          charge density =  1e+21 m^{{-3}}\n",
      "        reference height =  3.0000000000000004e-07 m\n",
      " \n",
      "      roll-off frequency =  1129409.0673730192 Hz\n",
      "                mobility =  6.241509090043337e-08 m^2/(V s)\n",
      "      diffusion constant =  1.6135549206567651e-09 m^2/s\n",
      "            Debye length =  3.7797775481848936e-08 m\n",
      "        diffusion length =  5.851555252782804e-08 m\n",
      "effective epsilon (real) =  3.0\n",
      "effective epsilon (imag) =  -2.5966804779363124\n",
      "\n",
      "dielectric\n",
      "==========\n",
      " epsilon (real) =  1000000.0\n",
      " epsilon (imag) =  0.0\n",
      "      thickness = infinite\n"
     ]
    }
   ],
   "source": [
    "sample1_jit = SampleModel1Jit(**sample1.args())\n",
    "sample1_jit.print()"
   ]
  },
  {
   "cell_type": "markdown",
   "id": "6255736f-5f2a-4bfe-88a7-514495b4f51f",
   "metadata": {},
   "source": [
    "# Example friction calculation"
   ]
  },
  {
   "cell_type": "markdown",
   "id": "1c2f7f4d-cc1c-4513-a986-2bfc6f038086",
   "metadata": {},
   "source": [
    "Spot-check the new friction-calculation code by comparing a numba/jit result to a pure-Python result.\n",
    "\n",
    "First, the numba/jit result."
   ]
  },
  {
   "cell_type": "code",
   "execution_count": 10,
   "id": "6332cea5-f927-43e9-bcb7-c7fc4ef761f1",
   "metadata": {},
   "outputs": [
    {
     "name": "stdout",
     "output_type": "stream",
     "text": [
      "CPU times: user 17.3 ms, sys: 2.89 ms, total: 20.2 ms\n",
      "Wall time: 52.5 ms\n"
     ]
    },
    {
     "data": {
      "text/html": [
       "<table><tbody><tr><th>Magnitude</th><td style='text-align:left;'><pre>[15.417929869393788 6.212249638646369 1.0688959054893934]</pre></td></tr><tr><th>Units</th><td style='text-align:left;'>piconewton second/meter</td></tr></tbody></table>"
      ],
      "text/latex": [
       "$\\begin{pmatrix} &  & \\end{pmatrix}\\ \\frac{\\mathrm{piconewton} \\cdot \\mathrm{second}}{\\mathrm{meter}}$"
      ],
      "text/plain": [
       "<Quantity([15.41792987  6.21224964  1.06889591], 'piconewton * second / meter')>"
      ]
     },
     "execution_count": 10,
     "metadata": {},
     "output_type": "execute_result"
    }
   ],
   "source": [
    "%%time\n",
    "ans1a = gamma_perpendicular_jit(theta1norm_jit, sample1_jit)\n",
    "ans1a"
   ]
  },
  {
   "cell_type": "markdown",
   "id": "6d7b2514-f1ca-4631-ae26-bdb9c80d2949",
   "metadata": {},
   "source": [
    "Now the pure Python result."
   ]
  },
  {
   "cell_type": "code",
   "execution_count": 11,
   "id": "526479ad-7e3a-4686-b922-715ad3758f06",
   "metadata": {},
   "outputs": [
    {
     "name": "stdout",
     "output_type": "stream",
     "text": [
      "CPU times: user 2.11 s, sys: 28.4 ms, total: 2.14 s\n",
      "Wall time: 2.22 s\n"
     ]
    },
    {
     "data": {
      "text/html": [
       "<table><tbody><tr><th>Magnitude</th><td style='text-align:left;'><pre>[15.417929869393793 6.212249638646362 1.0688959054893914]</pre></td></tr><tr><th>Units</th><td style='text-align:left;'>piconewton second/meter</td></tr></tbody></table>"
      ],
      "text/latex": [
       "$\\begin{pmatrix} &  & \\end{pmatrix}\\ \\frac{\\mathrm{piconewton} \\cdot \\mathrm{second}}{\\mathrm{meter}}$"
      ],
      "text/plain": [
       "<Quantity([15.41792987  6.21224964  1.06889591], 'piconewton * second / meter')>"
      ]
     },
     "execution_count": 11,
     "metadata": {},
     "output_type": "execute_result"
    }
   ],
   "source": [
    "%%time\n",
    "ans1b = gamma_perpendicular(theta1norm, sample1)\n",
    "ans1b"
   ]
  },
  {
   "cell_type": "markdown",
   "id": "f572ac4f-da5a-4221-bb17-082685904093",
   "metadata": {},
   "source": [
    "By inspection we get the same result for the three terms' contribution to the friction.  Success!\n",
    "\n",
    "The numba/jit calculation is 100 to 200 times faster.  "
   ]
  },
  {
   "cell_type": "markdown",
   "id": "ebe0bb54-e1ea-4357-a757-5446effb7775",
   "metadata": {},
   "source": [
    "The friction is smaller here than in `Study 28` because the tip charge is further away now, located not at $d$ but at $z_\\text{c} = d + R$."
   ]
  },
  {
   "cell_type": "markdown",
   "id": "1ce6c2d0-3e24-4c1a-9084-634badf300b0",
   "metadata": {},
   "source": [
    "# Example BLDS calculation\n",
    "\n",
    "Compare the execution time for pure-Python and numba/jit calculations."
   ]
  },
  {
   "cell_type": "code",
   "execution_count": 12,
   "id": "79261775-6930-4b6c-ba6c-78962308e56c",
   "metadata": {},
   "outputs": [],
   "source": [
    "omega_m = ureg.Quantity(2 * np.pi * np.logspace(1, 2, 2), 'Hz')"
   ]
  },
  {
   "cell_type": "code",
   "execution_count": 15,
   "id": "27bede02-ea85-46d4-a6d6-034594ad52f3",
   "metadata": {},
   "outputs": [
    {
     "name": "stdout",
     "output_type": "stream",
     "text": [
      "CPU times: user 29 ms, sys: 3.04 ms, total: 32 ms\n",
      "Wall time: 35.3 ms\n"
     ]
    },
    {
     "data": {
      "text/html": [
       "<table><tbody><tr><th>Magnitude</th><td style='text-align:left;'><pre>[[-0.4683740223649317 -0.14648217517320208 -0.4085176200827304] [-0.4683763355334917 -0.14648114836164003 -0.40841362543117204]]</pre></td></tr><tr><th>Units</th><td style='text-align:left;'>hertz</td></tr></tbody></table>"
      ],
      "text/latex": [
       "$\\begin{pmatrix} &  & \\\\ \n",
       " &  & \\end{pmatrix}\\ \\mathrm{hertz}$"
      ],
      "text/plain": [
       "<Quantity([[-0.46837402 -0.14648218 -0.40851762]\n",
       " [-0.46837634 -0.14648115 -0.40841363]], 'hertz')>"
      ]
     },
     "execution_count": 15,
     "metadata": {},
     "output_type": "execute_result"
    }
   ],
   "source": [
    "%%time\n",
    "ans2a = blds_perpendicular_jit(theta1norm_jit, sample1_jit, omega_m)\n",
    "ans2a "
   ]
  },
  {
   "cell_type": "code",
   "execution_count": 16,
   "id": "a0670418-463b-4d14-8c44-934471a396c1",
   "metadata": {},
   "outputs": [
    {
     "name": "stdout",
     "output_type": "stream",
     "text": [
      "CPU times: user 7.2 s, sys: 108 ms, total: 7.31 s\n",
      "Wall time: 8.59 s\n"
     ]
    },
    {
     "data": {
      "text/html": [
       "<table><tbody><tr><th>Magnitude</th><td style='text-align:left;'><pre>[[-0.46837402236493186 -0.14648217517320197 -0.40851762008273074] [-0.468376335533492 -0.1464811483616399 -0.40841362543117243]]</pre></td></tr><tr><th>Units</th><td style='text-align:left;'>hertz</td></tr></tbody></table>"
      ],
      "text/latex": [
       "$\\begin{pmatrix} &  & \\\\ \n",
       " &  & \\end{pmatrix}\\ \\mathrm{hertz}$"
      ],
      "text/plain": [
       "<Quantity([[-0.46837402 -0.14648218 -0.40851762]\n",
       " [-0.46837634 -0.14648115 -0.40841363]], 'hertz')>"
      ]
     },
     "execution_count": 16,
     "metadata": {},
     "output_type": "execute_result"
    }
   ],
   "source": [
    "%%time\n",
    "ans2b = blds_perpendicular(theta1norm, sample1, omega_m)\n",
    "ans2b "
   ]
  },
  {
   "cell_type": "markdown",
   "id": "4f1fd80d-2f4d-476d-b36b-ef937fb54965",
   "metadata": {},
   "source": [
    "By inspection we get the same result for the two terms' contribution to the BDLS frequency shift. The numba/jit calculation is 150 to 200 times faster."
   ]
  },
  {
   "cell_type": "markdown",
   "id": "6281744e-fb9b-4f29-956d-15694a4e760d",
   "metadata": {},
   "source": [
    "The BLDS frequency shift is smaller here than in `Study 28` because the tip charge is further away now, located not at $d$ but at $z_\\text{c} = d + R$."
   ]
  },
  {
   "cell_type": "markdown",
   "id": "4041fd9b-b872-475b-bce7-8245da4fbf84",
   "metadata": {},
   "source": [
    "## Representative BLDS spectrum calculation\n",
    "\n",
    "I am echoing the code from `Study 28` here.  Set up an array of modulation frequencies and an array of charge densities."
   ]
  },
  {
   "cell_type": "code",
   "execution_count": 17,
   "id": "27708197-b2cc-4099-ae38-32d9449573f6",
   "metadata": {},
   "outputs": [],
   "source": [
    "N_omega = 100\n",
    "N_sigma = 50"
   ]
  },
  {
   "cell_type": "code",
   "execution_count": 18,
   "id": "a004636c-e4be-4b2f-93d3-7a1899adc062",
   "metadata": {},
   "outputs": [],
   "source": [
    "omega_m = ureg.Quantity(\n",
    "    np.logspace(\n",
    "        start=np.log10(1e1),\n",
    "        stop=np.log10(1e8),\n",
    "        num=N_omega), 'Hz')"
   ]
  },
  {
   "cell_type": "code",
   "execution_count": 19,
   "id": "be53c9a9-410c-436e-8245-7ff6ab64236e",
   "metadata": {},
   "outputs": [],
   "source": [
    "sigma = ureg.Quantity(\n",
    "    np.logspace(\n",
    "        start=np.log10(1e-9),\n",
    "        stop=np.log10(1),\n",
    "        num=N_sigma), 'S/m')"
   ]
  },
  {
   "cell_type": "markdown",
   "id": "edb4d0be-f5ba-43de-92c1-33db7c587e68",
   "metadata": {},
   "source": [
    "Assume a fixed mobility of $\\mu = 10^{-8} \\: \\mathrm{m}^2/\\mathrm{V s}$, an ionic mobility.  As we vary $\\sigma$, we should vary the charge density $\\rho$ to keep the mobility constant."
   ]
  },
  {
   "cell_type": "code",
   "execution_count": 20,
   "id": "076ac8dd-d418-4d03-b987-52537a4d6bc5",
   "metadata": {},
   "outputs": [],
   "source": [
    "mu = ureg.Quantity(1e-8, 'm^2/(V s)') \n",
    "rho = (sigma / (qe * mu)).to('1/m^3')"
   ]
  },
  {
   "cell_type": "markdown",
   "id": "b8beefb5-47e0-48bd-92c4-e87a86a340c9",
   "metadata": {},
   "source": [
    "Get ready to run the simulations."
   ]
  },
  {
   "cell_type": "code",
   "execution_count": 21,
   "id": "2ac9e961-62cd-411e-861e-a897b615d103",
   "metadata": {},
   "outputs": [],
   "source": [
    "data = {}        # many simulations\n",
    "data['01'] = {}  # the first simulation"
   ]
  },
  {
   "cell_type": "markdown",
   "id": "868daf22-a341-49f3-b632-6a5b5c16b9dd",
   "metadata": {},
   "source": [
    "Loop over conductivities, computing the BLDS spectrum and the friction."
   ]
  },
  {
   "cell_type": "code",
   "execution_count": 22,
   "id": "5b7e680a-8ad3-4d2a-8a43-95a385ef619a",
   "metadata": {},
   "outputs": [
    {
     "name": "stdout",
     "output_type": "stream",
     "text": [
      "CPU times: user 15.7 s, sys: 285 ms, total: 15.9 s\n",
      "Wall time: 18.7 s\n"
     ]
    }
   ],
   "source": [
    "%%time\n",
    "\n",
    "# remember\n",
    "sigma0 = sample1_jit.sigma\n",
    "rho0 =  sample1_jit.rho\n",
    "\n",
    "# set\n",
    "for rho_, sigma_ in zip(rho, sigma):\n",
    "\n",
    "    sample1_jit.rho = rho_.to('1/m^3').magnitude\n",
    "    sample1_jit.sigma = sigma_.to('S/m').magnitude\n",
    "\n",
    "    gamma = gamma_perpendicular_jit(theta1norm_jit, sample1_jit).to('pN s/m')\n",
    "    f_BLDS = blds_perpendicular_jit(theta1norm_jit, sample1_jit, omega_m).to('Hz')\n",
    "    \n",
    "    data['01'][str(sigma_.to('S/m').magnitude)] = {\n",
    "        'omega_m': omega_m,\n",
    "        'f_BLDS': f_BLDS, \n",
    "        'gamma': gamma,\n",
    "        'sigma': ureg.Quantity(sample1_jit.sigma, 'S/m'),\n",
    "        'd': ureg.Quantity(sample1_jit.cantilever.d, 'm'),\n",
    "        'rho': ureg.Quantity(sample1_jit.rho, '1/m^3'),\n",
    "        'LD': ureg.Quantity(sample1_jit.LD, 'm'),\n",
    "        'omega_c': ureg.Quantity(sample1_jit.cantilever.omega_c, 'Hz'),\n",
    "        'omega_0': (ureg.Quantity(sample1_jit.sigma, 'S/m')/epsilon0).to('Hz')}\n",
    "\n",
    "# reset\n",
    "sample1_jit.rho = rho0\n",
    "sample1_jit.sigma = sigma0"
   ]
  },
  {
   "cell_type": "markdown",
   "id": "0b72d8fe-56c1-4bbb-9d36-22e47df36e97",
   "metadata": {},
   "source": [
    "A helper plotting function."
   ]
  },
  {
   "cell_type": "code",
   "execution_count": 25,
   "id": "83567ce7-3ec7-47de-ac5e-38e3d82eef2a",
   "metadata": {},
   "outputs": [],
   "source": [
    "def plotBLDS(data):\n",
    "\n",
    "    rho = np.zeros(len(data))    \n",
    "    for index, key in enumerate(data.keys()):\n",
    "        \n",
    "        rho[index] = data[key]['rho'].to('1/cm^3').magnitude\n",
    "\n",
    "    # colormap = plt.cm.jet\n",
    "    colormap = plt.cm.magma_r\n",
    "    color_list = [colormap(i) for i in np.linspace(0, 1, len(data))]\n",
    "\n",
    "    normalized_colors = mcolors.LogNorm(vmin=min(rho), vmax=max(rho))\n",
    "    scalar_mappable = cm.ScalarMappable(norm=normalized_colors, cmap=colormap)\n",
    "    scalar_mappable.set_array(len(color_list))\n",
    "    \n",
    "    fig, ax = plt.subplots(figsize=(4.5, 3))\n",
    "    for index, key in enumerate(data.keys()):\n",
    "        \n",
    "        with plt.style.context('seaborn-v0_8'):\n",
    "            plt.semilogx(\n",
    "                data[key]['omega_m'].to('Hz').magnitude,\n",
    "                np.abs(data[key]['f_BLDS'].sum(axis=1).to('Hz').magnitude),\n",
    "                '-',\n",
    "                color=color_list[index])\n",
    "\n",
    "    # color bar\n",
    "    clb=plt.colorbar(scalar_mappable, ax=ax)\n",
    "    clb.ax.set_title(r'$\\rho \\: [\\mathrm{cm}^{-3}]$', fontsize=12)\n",
    "    \n",
    "    plt.ylabel('|$\\Delta f_{\\mathrm{BLDS}}$| [Hz]')\n",
    "    plt.xlabel('mod. freq. $\\omega_{\\mathrm{m}}$ [rad/s]')\n",
    "    plt.tight_layout()\n",
    "    plt.show()\n",
    "    \n",
    "    return fig"
   ]
  },
  {
   "cell_type": "markdown",
   "id": "26a0eb6b-16dc-4055-854e-5a8f42ad3b16",
   "metadata": {},
   "source": [
    "Plot every 3rd BLDS spectrum."
   ]
  },
  {
   "cell_type": "code",
   "execution_count": 26,
   "id": "0156c987-bd9e-4f45-b1f3-b68ae5d794d8",
   "metadata": {},
   "outputs": [],
   "source": [
    "data['01-short'] = {}\n",
    "for key in list(data['01'].keys())[::3]:\n",
    "    data['01-short'][key] = data['01'][key]"
   ]
  },
  {
   "cell_type": "code",
   "execution_count": 27,
   "id": "7f9a2e1e-2973-4b1b-826c-cd7b4a863ffb",
   "metadata": {},
   "outputs": [
    {
     "data": {
      "image/png": "[encoded data removed]",
      "text/plain": [
       "<Figure size 450x300 with 2 Axes>"
      ]
     },
     "metadata": {},
     "output_type": "display_data"
    }
   ],
   "source": [
    "#| label: fig-blds\n",
    "#| fig-cap: \"Broadband local dielectric spectrum of a semi-infinite semiconductor versus charge density.\"\n",
    "\n",
    "fig['01'] = plotBLDS(data['01-short'])"
   ]
  },
  {
   "cell_type": "markdown",
   "id": "b2f3a870-6f2e-495f-af5b-a9aeda849eca",
   "metadata": {},
   "source": [
    "Convert the data dictionary to a pandas dataframe.  We want to exract the data in the rows, as numbers without units, for plotting.  Loop over each row in the dataframe, converting each row to a numpy array.  For each row, loop over the elements of the array, specify the element's units, and get the magnitude of the resulting element.  Convert the result list to a numpy array. "
   ]
  },
  {
   "cell_type": "code",
   "execution_count": 34,
   "id": "1a239214-ac9e-4f04-bebf-d807be05f050",
   "metadata": {},
   "outputs": [],
   "source": [
    "def plotme(data, sample):\n",
    "\n",
    "    df = pandas.DataFrame.from_dict(data)\n",
    "\n",
    "    keys =  ['omega_m', 'f_BLDS', 'gamma',  'sigma', 'd', 'rho',   'LD', 'omega_c', 'omega_0']\n",
    "    units = ['Hz',      'Hz',     'pN s/m', 'S/m',   'm', '1/m^3', 'm',  'Hz',      'Hz']\n",
    "\n",
    "    adict = {}\n",
    "    for key, unit in zip(keys, units):\n",
    "        adict[key] = np.array([a.to(unit).magnitude for a in df.loc[key].to_numpy()])\n",
    "\n",
    "    # (Left hand plot) \n",
    "    # Make the x-axis the unitless ratio of the height to Debye length squared,\n",
    "    # which is proportional to charge density.\n",
    "\n",
    "    xL = (adict['d']/adict['LD'])**2\n",
    "    rho0L = (adict['rho']/xL)[0]\n",
    "    \n",
    "    # Define functions to convert from xL to rho and back again\n",
    "    \n",
    "    def fwdL(xL):\n",
    "        return xL*rho0L\n",
    "\n",
    "    def revL(rho):\n",
    "        return rho/rho0L\n",
    "\n",
    "    # (Right hand plot)\n",
    "    # Make the x-axis the unitless ratio of omega_0 to omega_c, which\n",
    "    # is proportional to conductivity and therefore charge density\n",
    "\n",
    "    xR = adict['omega_0']/(sample.epsilon_s.real.magnitude * adict['omega_c'])\n",
    "    rho0R = (adict['rho']/xR)[0]\n",
    "    \n",
    "    # Define functions to convert from xR to rho and back again\n",
    "\n",
    "    def fwdR(xR):\n",
    "        return xR*rho0R\n",
    "\n",
    "    def revR(rho):\n",
    "        return rho/rho0R\n",
    "    \n",
    "    # Now make the nice plot\n",
    "    \n",
    "    fig, ax = plt.subplots(1, 2, figsize=(7.5, 5))\n",
    "    \n",
    "    ax2L = ax[0].secondary_xaxis(\"top\", functions=(fwdL,revL))\n",
    "    ax2R = ax[1].secondary_xaxis(\"top\", functions=(fwdR,revR))\n",
    "\n",
    "    # xL_sub, BLDS_sub = BLDSapprox(sample, xL)\n",
    "    \n",
    "    with plt.style.context('seaborn-v0_8'):\n",
    "\n",
    "        # get current color cycle\n",
    "        \n",
    "        colors = plt.rcParams['axes.prop_cycle'].by_key()['color']\n",
    "        color_cycle = cycler.cycler('color', colors[0:3])\n",
    "        ax[0].set_prop_cycle(color_cycle)\n",
    "        ax[1].set_prop_cycle(color_cycle)\n",
    "        \n",
    "        # approximation for zero-freq BLDS, K2 term\n",
    "        \n",
    "        x_sub, BLDSapprox = BLDSapproxK2(sample1, xL)\n",
    "        ax[0].semilogx(\n",
    "            x_sub,\n",
    "            BLDSapprox,\n",
    "            ':',\n",
    "            color=colors[0],\n",
    "            label=['$K_2$ approx.'])\n",
    "\n",
    "        # exact calculations\n",
    "        \n",
    "        ax[0].semilogx(\n",
    "            xL,\n",
    "            adict['f_BLDS'][:,0,:], \n",
    "            '-',\n",
    "            label=['$K_2$','$K_1$','$K_0$'])\n",
    "        \n",
    "        ax[1].loglog(\n",
    "            xR,\n",
    "            adict['gamma'], \n",
    "            '-',\n",
    "            label=['$K_2$','$K_1$','$K_0$'])\n",
    "        \n",
    "        # limiting cases\n",
    "        \n",
    "        nL_part = int(2*len(xL)/3)\n",
    "        \n",
    "        ax[0].semilogx(\n",
    "            xL[0:nL_part],\n",
    "            BLDSzerolow(sample1, xL)[0:nL_part,:], \n",
    "            '--')\n",
    "        \n",
    "        ax[0].semilogx(\n",
    "            xL[-nL_part:-1],\n",
    "            BLDSzerohigh(sample1, xL)[-nL_part:-1,:],\n",
    "            '-.')\n",
    "\n",
    "        nR_part = int(len(xR)/2)\n",
    "\n",
    "        g_low, g_approx = gamma_perpendicular_approx(sample1, xR)\n",
    "\n",
    "        ax[1].loglog(\n",
    "            xR[0:nR_part],\n",
    "            g_low[0:nR_part,:],\n",
    "            '--')\n",
    "        \n",
    "        ax[1].loglog(\n",
    "            xR[0:nR_part],\n",
    "            g_approx[0:nR_part,:],\n",
    "            ':',\n",
    "            label=['$K_2$ approx','$K_1$ approx','$K_0$ approx'])\n",
    "\n",
    "    ax[0].set_xlabel(r'$(h / \\lambda_{\\mathrm{D}})^2$')\n",
    "    ax[0].set_ylabel(r'$\\Delta f_{\\mathrm{BLDS}}(\\omega_{\\mathrm{m}}=0)$ [Hz]')\n",
    "    ax[0].legend(fontsize=9)\n",
    "    ax[0].grid()\n",
    "    ax[1].grid()\n",
    "    \n",
    "    ax[1].set_xlabel(r'$\\omega_0/(\\epsilon_{\\mathrm{s}}^{\\prime} \\omega_{\\mathrm{c}})$')\n",
    "    ax[1].set_ylabel(r'$\\gamma_{\\perp}$ [pN s/m]')\n",
    "    ax[1].legend(fontsize=9)\n",
    "    ax[1].set_ylim(\n",
    "        [0.95 * adict['gamma'].min(),\n",
    "         1.05 * adict['gamma'].max()])\n",
    "    \n",
    "    ax2L.set_xlabel(r'charge density $\\rho$ [cm$^{-3}$]')\n",
    "    ax2R.set_xlabel(r'charge density $\\rho$ [cm$^{-3}$]')\n",
    "    \n",
    "    plt.tight_layout()\n",
    "    plt.show()\n",
    "    \n",
    "    return fig"
   ]
  },
  {
   "cell_type": "code",
   "execution_count": 35,
   "id": "6fb8d1a9-594f-47f8-a12f-d94089a31233",
   "metadata": {},
   "outputs": [
    {
     "data": {
      "image/png": "[encoded data removed]",
      "text/plain": [
       "<Figure size 750x500 with 2 Axes>"
      ]
     },
     "metadata": {},
     "output_type": "display_data"
    }
   ],
   "source": [
    "fig['02'] = plotme(data['01'], sample1)"
   ]
  },
  {
   "cell_type": "markdown",
   "id": "1de3896b-693b-4a63-b950-d8105367b49a",
   "metadata": {},
   "source": [
    "Compared to `Study 28`, the BLDS frequency shift is smaller here by a factor of approximately 8 smaller.  This is a significant change."
   ]
  },
  {
   "cell_type": "markdown",
   "id": "b1edfc9a-adb6-40c5-a78a-81b0ca1641a6",
   "metadata": {},
   "source": [
    "# Save all figures"
   ]
  },
  {
   "cell_type": "code",
   "execution_count": 36,
   "id": "98d891cc-1c96-4236-9f9f-c9334220e734",
   "metadata": {},
   "outputs": [],
   "source": [
    "if 1:\n",
    "    for num in fig.keys():\n",
    "        figname = THIS + \"Fig-\" + num\n",
    "        fig[num].savefig(figname + '.png', dpi=300)\n",
    "        fig[num].savefig(figname + '.pdf')"
   ]
  },
  {
   "cell_type": "code",
   "execution_count": null,
   "id": "2b214efd-9a12-4e24-9f24-8860a92e099e",
   "metadata": {},
   "outputs": [],
   "source": []
  }
 ],
 "metadata": {
  "kernelspec": {
   "display_name": "dissipationtheory",
   "language": "python",
   "name": "dissipationtheory"
  },
  "language_info": {
   "codemirror_mode": {
    "name": "ipython",
    "version": 3
   },
   "file_extension": ".py",
   "mimetype": "text/x-python",
   "name": "python",
   "nbconvert_exporter": "python",
   "pygments_lexer": "ipython3",
   "version": "3.9.10"
  }
 },
 "nbformat": 4,
 "nbformat_minor": 5
}
