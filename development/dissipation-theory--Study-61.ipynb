{
 "cells": [
  {
   "cell_type": "raw",
   "id": "bdc27954-c411-45ac-b472-9783fa52a48a",
   "metadata": {},
   "source": [
    "---\n",
    "title: Test drive the new `twodimCobject` object in`dissipation10e.py`\n",
    "author: \"John A. Marohn\"\n",
    "date: today\n",
    "abstract: Augment `dissipation9e.py` to compute the BLDS spectrum using Loring's 07/23/25 pdf report and Marohn's 08/01/25 handwritten notes.  Create a new  `twodimCobject` object in`dissipation10e.py` that computes the cantilever frequency shift with (1) an AC voltage and (2) an AM-modulated AC voltage applied to the cantilever tip. \n",
    "toc: true\n",
    "number-sections: true\n",
    "highlight-style: pygments\n",
    "embed-resources: true\n",
    "dpi: 300\n",
    "format:\n",
    "    html:\n",
    "        html-math-method:\n",
    "          method: mathjax\n",
    "          url: \"https://cdn.jsdelivr.net/npm/mathjax@3/es5/tex-mml-chtml.js\"\n",
    "        code-fold: true\n",
    "        code-tools: true\n",
    "jupyter: python3\n",
    "---"
   ]
  },
  {
   "cell_type": "markdown",
   "id": "189c7064-17df-4507-9f7c-3945fb2199de",
   "metadata": {},
   "source": [
    "# Preliminaries\n",
    "\n",
    "Install the needed packages."
   ]
  },
  {
   "cell_type": "code",
   "execution_count": 1,
   "id": "0a2bb871-5162-42aa-a1e4-a9a632384cda",
   "metadata": {},
   "outputs": [],
   "source": [
    "import numpy as np\n",
    "import pandas as pd\n",
    "import matplotlib.pylab as plt"
   ]
  },
  {
   "cell_type": "code",
   "execution_count": 2,
   "id": "ffb06144-6409-43b9-92c6-cd0a846ccab1",
   "metadata": {},
   "outputs": [],
   "source": [
    "from dissipationtheory.constants import ureg\n",
    "from dissipationtheory.dissipation9a import CantileverModel, SampleModel3, SampleModel4\n",
    "from dissipationtheory.dissipation9b import SampleModel3Jit, SampleModel4Jit"
   ]
  },
  {
   "cell_type": "code",
   "execution_count": 3,
   "id": "93857b8c-03e8-4178-9d12-d89b505723c3",
   "metadata": {},
   "outputs": [],
   "source": [
    "from dissipationtheory.dissipation10e import twodimCobject"
   ]
  },
  {
   "cell_type": "code",
   "execution_count": 4,
   "id": "2216641b-2e97-46e6-81f4-14b6939bc14d",
   "metadata": {},
   "outputs": [],
   "source": [
    "THIS = 'dissipation-theory--Study-61--'\n",
    "figs = {}\n",
    "obj = {}\n",
    "results = {}"
   ]
  },
  {
   "cell_type": "markdown",
   "id": "c5ba675b-2d9f-4fcf-813c-76714a49ffc0",
   "metadata": {},
   "source": [
    "# Set up a cantilever and sample model"
   ]
  },
  {
   "cell_type": "markdown",
   "id": "0b4420ee-df7c-40d2-bf9a-ccb8ae5acb71",
   "metadata": {},
   "source": [
    "## Cantilever"
   ]
  },
  {
   "cell_type": "code",
   "execution_count": 5,
   "id": "db4b6649-66c0-4605-b105-6ffd751f3c99",
   "metadata": {},
   "outputs": [],
   "source": [
    "cantilever = CantileverModel(\n",
    "    f_c = ureg.Quantity(60.360, 'kHz'),\n",
    "    k_c = ureg.Quantity(2.8, 'N/m'), \n",
    "    V_ts = ureg.Quantity(1, 'V'), \n",
    "    R = ureg.Quantity(57, 'nm'),\n",
    "    angle = ureg.Quantity(24.2, 'degree'),\n",
    "    L = ureg.Quantity(2250, 'nm')\n",
    ")"
   ]
  },
  {
   "cell_type": "markdown",
   "id": "969a09b3-63e6-4efd-92d8-bbf52a3bb958",
   "metadata": {},
   "source": [
    "## Metal sample"
   ]
  },
  {
   "cell_type": "code",
   "execution_count": 6,
   "id": "d4f4d09f-5191-45f5-b540-b85dcc75182f",
   "metadata": {},
   "outputs": [],
   "source": [
    "sample4 = SampleModel4(\n",
    "    cantilever = cantilever,\n",
    "    z_r = ureg.Quantity(100, 'nm')  # ignored\n",
    ")\n",
    "sample4_jit = SampleModel4Jit(**sample4.args())"
   ]
  },
  {
   "cell_type": "code",
   "execution_count": 7,
   "id": "8a16fe08-73ed-46e8-9f92-fe04eca14eda",
   "metadata": {},
   "outputs": [],
   "source": [
    "obj[4] = twodimCobject(sample4_jit)\n",
    "obj[4].addtip(h=ureg.Quantity(37.5, 'nm'))\n",
    "obj[4].properties_dc(alpha=1.0e-6)\n",
    "obj[4].properties_ac(omega_m=1.0e5, alpha=1.0e-6)\n",
    "obj[4].properties_am(omega_m=1.0e5, omega_am = 250., alpha=1.0e-6)"
   ]
  },
  {
   "cell_type": "markdown",
   "id": "69bd2ae9-7870-4008-b6b2-ff436b19dcb6",
   "metadata": {},
   "source": [
    "Print out selected results"
   ]
  },
  {
   "cell_type": "code",
   "execution_count": 8,
   "id": "a8beb20a-bc3d-495c-8922-02653edcf0ff",
   "metadata": {},
   "outputs": [
    {
     "name": "stdout",
     "output_type": "stream",
     "text": [
      "Delta f dc [Hz] = -12.459\n",
      "Delta f ac [Hz] =  -6.230\n",
      "Delta f am [Hz] =  -2.336\n"
     ]
    }
   ],
   "source": [
    "for key in ['Delta f dc [Hz]', 'Delta f ac [Hz]', 'Delta f am [Hz]']:\n",
    " print(\"{:12s} = {:7.3f}\".format(key, obj[4].results[key]))"
   ]
  },
  {
   "cell_type": "markdown",
   "id": "02b19405-7c27-4743-95c9-a0c18047057d",
   "metadata": {},
   "source": [
    "Two quick unit tests, courtesy of Roger Loring.\n",
    "\n",
    "* The ratio of the the dc to the ac frequency shift should be 2\n",
    "* The ratio of the the dc to the am frequency shift should be 16/3"
   ]
  },
  {
   "cell_type": "code",
   "execution_count": 9,
   "id": "87c02e41-81fb-4cbb-a23c-06a6ea1e2ff8",
   "metadata": {},
   "outputs": [
    {
     "data": {
      "text/plain": [
       "True"
      ]
     },
     "execution_count": 9,
     "metadata": {},
     "output_type": "execute_result"
    }
   ],
   "source": [
    "np.isclose(2, obj[4].results['Delta f dc [Hz]']/obj[4].results['Delta f ac [Hz]'])"
   ]
  },
  {
   "cell_type": "code",
   "execution_count": 10,
   "id": "6074c76e-4e0e-49e5-9e60-d12226b4b594",
   "metadata": {},
   "outputs": [
    {
     "data": {
      "text/plain": [
       "True"
      ]
     },
     "execution_count": 10,
     "metadata": {},
     "output_type": "execute_result"
    }
   ],
   "source": [
    "np.isclose(16/3, obj[4].results['Delta f dc [Hz]']/obj[4].results['Delta f am [Hz]'])"
   ]
  },
  {
   "cell_type": "markdown",
   "id": "e10b9108-a7a7-4bd1-9c5b-fd5a0b04c923",
   "metadata": {},
   "source": [
    "We get the expected ratios. Yea!"
   ]
  },
  {
   "cell_type": "markdown",
   "id": "4c3b1556-1fb9-42d0-946d-facae26446a5",
   "metadata": {},
   "source": [
    "## Semiconductor sample"
   ]
  },
  {
   "cell_type": "code",
   "execution_count": 11,
   "id": "57889989-7df4-4ee8-825c-0834f351a89d",
   "metadata": {},
   "outputs": [],
   "source": [
    "sample3 = SampleModel3(\n",
    "    cantilever = cantilever,\n",
    "    epsilon_s = ureg.Quantity(complex(18.2, 0), ''),\n",
    "    sigma = ureg.Quantity(9.7e-7, 'S/cm'),  # <=== note the units\n",
    "    rho = ureg.Quantity(1.9e15, '1/cm^3'),    # <=== note the units\n",
    "    z_r = ureg.Quantity(100, 'nm')   # ignored\n",
    ")\n",
    "\n",
    "sample3_jit = SampleModel3Jit(**sample3.args())"
   ]
  },
  {
   "cell_type": "code",
   "execution_count": 12,
   "id": "3e69bb51-3cf5-4c5a-9f59-c82d0acbe346",
   "metadata": {},
   "outputs": [],
   "source": [
    "obj[3] = twodimCobject(sample3_jit)\n",
    "obj[3].addtip(h=ureg.Quantity(37.5, 'nm'))\n",
    "obj[3].properties_dc(alpha=1.0e-6)\n",
    "obj[3].properties_ac(omega_m=1.0e5, alpha=1.0e-6)\n",
    "obj[3].properties_am(omega_m=1.0e5, omega_am = 250., alpha=1.0e-6)"
   ]
  },
  {
   "cell_type": "markdown",
   "id": "9cd134fc-29a9-4992-adef-ce0495eb3475",
   "metadata": {},
   "source": [
    "Print out selected results."
   ]
  },
  {
   "cell_type": "code",
   "execution_count": 13,
   "id": "20c14143-830e-47ab-9115-0f388783c08a",
   "metadata": {},
   "outputs": [
    {
     "name": "stdout",
     "output_type": "stream",
     "text": [
      "Delta f dc [Hz] = -10.235\n",
      "Delta f ac [Hz] =  -5.181\n",
      "Delta f am [Hz] =  -1.943\n"
     ]
    }
   ],
   "source": [
    "for key in ['Delta f dc [Hz]', 'Delta f ac [Hz]', 'Delta f am [Hz]']:\n",
    " print(\"{:12s} = {:7.3f}\".format(key, obj[3].results[key]))"
   ]
  },
  {
   "cell_type": "markdown",
   "id": "69a25cb4-a1f8-49a5-a5be-30dd7792803a",
   "metadata": {},
   "source": [
    "Print out all the results.  We can see that a lot of things have been computed!"
   ]
  },
  {
   "cell_type": "code",
   "execution_count": 14,
   "id": "941cf63c-7e28-4be7-8a88-3ddccf960bed",
   "metadata": {},
   "outputs": [
    {
     "data": {
      "text/plain": [
       "{'alpha': 0,\n",
       " 'q': array([-152.76844232,  224.69291412,  -74.36714427,   38.92327724,\n",
       "          13.87462632,   27.05903786,   31.92495508,   43.06235988,\n",
       "          40.4355111 ,   90.76884973,  -50.65193908,  425.82288552,\n",
       "        -710.30483044, 1129.65210632]),\n",
       " 'S': array([5.28597190e-02, 1.52506288e-02, 8.21462034e-03, 4.78274464e-03,\n",
       "        2.84375565e-03, 1.73145586e-03, 1.08285682e-03, 6.60857268e-04,\n",
       "        3.68549701e-04, 2.75350426e-04, 1.73076489e-04, 6.95895923e-05,\n",
       "        3.26945626e-05, 1.93432306e-05]),\n",
       " 'Sinv': array([1.89179969e+01, 6.55710665e+01, 1.21734170e+02, 2.09084957e+02,\n",
       "        3.51647609e+02, 5.77548462e+02, 9.23482342e+02, 1.51318259e+03,\n",
       "        2.71331827e+03, 3.63168790e+03, 5.77759939e+03, 1.43669982e+04,\n",
       "        3.05575388e+04, 5.15598709e+04]),\n",
       " 'cn': 2732.72443139978,\n",
       " 'V': array([0.99954806, 0.99953724, 0.9995683 , 0.99957785, 0.99959982,\n",
       "        0.99962873, 0.99966675, 0.99970244, 0.99974325, 0.99976159,\n",
       "        0.99982177, 0.99977968, 0.99990115, 0.99982804]),\n",
       " 'Vrms [ppm]': 8211.32366621648,\n",
       " 'L0dc': (1554.9259935495306+0j),\n",
       " 'L1dc': (-1.091897645881929+0j),\n",
       " 'L2dc': (0.017421197106646483+0j),\n",
       " 'L0ac': (1530.003173560875+36.266083701928515j),\n",
       " 'L1ac': (-1.0155969509694884-0.0516835360748094j),\n",
       " 'L2ac': (0.016007883164575902+0.001354501230500231j),\n",
       " 'C0 [aF]': 173.00884929402204,\n",
       " 'C1 [pF/m]': -121.48999762339274,\n",
       " 'C2 [mF/m^2]': 1.938369592667849,\n",
       " 'Fdc [pN]': -60.74499881169638,\n",
       " 'gamma [pN s/m]': 49.672830879381,\n",
       " 'F1(1) [pN/nm]': 0.9691847963339245,\n",
       " 'F1(2) [pN/nm]': -0.8905586045334205,\n",
       " 'Delta f dc ss [Hz]': -10.446427554770656,\n",
       " 'Delta f dc dyn [Hz]': 0.21186950611957234,\n",
       " 'Delta f dc [Hz]': -10.234558048651085,\n",
       " 'L0wmp': (1552.448599361053+13.646189563095398j),\n",
       " 'L1wmp': (-1.08431773964194-0.02066334703292168j),\n",
       " 'L2wmp': (0.017279754571316603+0.000534633828277018j),\n",
       " 'L0wmm': (1552.448599361053-13.646189563095398j),\n",
       " 'L1wmm': (-1.08431773964194+0.02066334703292168j),\n",
       " 'L2wmm': (0.017279754571316603-0.000534633828277018j),\n",
       " 'Fac [pN]': -30.161654828392848,\n",
       " 'Delta f ac [Hz]': -5.180806553890825,\n",
       " 'L0a': (1552.448599361053+13.646189563095398j),\n",
       " 'L1a': (-1.08431773964194-0.02066334703292168j),\n",
       " 'L2a': (0.017279754571316603+0.000534633828277018j),\n",
       " 'L0b': (1552.448599361053-13.646189563095398j),\n",
       " 'L1b': (-1.08431773964194+0.02066334703292168j),\n",
       " 'L2b': (0.017279754571316603-0.000534633828277018j),\n",
       " 'L0c': (1552.4365977443133+13.678113699918242j),\n",
       " 'L1c': (-1.084281023550989-0.02071105978802456j),\n",
       " 'L2c': (0.017279070051761946+0.0005358716570955974j),\n",
       " 'L0d': (1552.4365977443133-13.678113699918242j),\n",
       " 'L1d': (-1.084281023550989+0.02071105978802456j),\n",
       " 'L2d': (0.017279070051761946-0.0005358716570955974j),\n",
       " 'L0e': (1552.4605748617191+13.614249754285208j),\n",
       " 'L1e': (-1.0843543758729335-0.020615606236169044j),\n",
       " 'L2e': (0.017280437607796132+0.0005333952968671202j),\n",
       " 'L0f': (1552.4605748617191-13.614249754285208j),\n",
       " 'L1f': (-1.0843543758729335+0.020615606236169044j),\n",
       " 'L2f': (0.017280437607796132-0.0005333952968671202j),\n",
       " 'Fam [pN]': -11.31062042180953,\n",
       " 'Delta f am [Hz]': -1.942802429918136}"
      ]
     },
     "execution_count": 14,
     "metadata": {},
     "output_type": "execute_result"
    }
   ],
   "source": [
    "obj[3].results"
   ]
  },
  {
   "cell_type": "markdown",
   "id": "a40a8afb-c99b-4f45-baaf-2f0ebf69546a",
   "metadata": {},
   "source": [
    "# Example BLDS spectrum of a semiconductor\n",
    "\n",
    "Computed assuming an AM modulation frequency of $\\omega_{\\mathrm{AM}} = 250 \\: \\mathrm{Hz}$. \\\n",
    "Computing a 40-point BLDS spectrum for a sphere-plus cone time takes approximately 2 seconds."
   ]
  },
  {
   "cell_type": "code",
   "execution_count": 15,
   "id": "ea444108-41fd-453e-9cd4-5c56eab34292",
   "metadata": {},
   "outputs": [
    {
     "name": "stdout",
     "output_type": "stream",
     "text": [
      "CPU times: user 2.67 s, sys: 394 ms, total: 3.07 s\n",
      "Wall time: 2.13 s\n"
     ]
    }
   ],
   "source": [
    "%%time\n",
    "\n",
    "omega_m_array = np.logspace(np.log10(1e2), np.log10(1e9), 40)\n",
    "df_array = np.zeros_like(omega_m_array)\n",
    "\n",
    "for index, omega_m_ in enumerate(omega_m_array):\n",
    "    obj[3].properties_am(omega_m=omega_m_, omega_am = 250., alpha=1.0e-6)\n",
    "    df_array[index] = obj[3].results['Delta f am [Hz]']\n",
    "    "
   ]
  },
  {
   "cell_type": "markdown",
   "id": "1fc9b1da-3523-4583-8873-d49d320451dd",
   "metadata": {},
   "source": [
    "The frequency shift is negative, but let us plot the absolute value of the frequency shift."
   ]
  },
  {
   "cell_type": "code",
   "execution_count": 16,
   "id": "1e8a2c28-9283-49de-9c5f-1a17c2311cec",
   "metadata": {},
   "outputs": [],
   "source": [
    "def plotme(omega_m_array, df_array): \n",
    "\n",
    "    fig = plt.figure(figsize=(3.50, 3.00))\n",
    "    plt.semilogx(omega_m_array, np.abs(df_array), '.-')\n",
    "    plt.xlabel('$\\omega_{\\mathrm{m}}$ [Hz]')\n",
    "    plt.ylabel('$|\\Delta f_{\\mathrm{AM}}|$ [Hz]')\n",
    "\n",
    "    return fig"
   ]
  },
  {
   "cell_type": "code",
   "execution_count": 17,
   "id": "9cd5a614-ca3e-4a72-89a1-d5bd38dd78ef",
   "metadata": {},
   "outputs": [
    {
     "data": {
      "image/png": "[encoded data removed]",
      "text/plain": [
       "<Figure size 350x300 with 1 Axes>"
      ]
     },
     "metadata": {},
     "output_type": "display_data"
    }
   ],
   "source": [
    "figs['01'] = plotme(omega_m_array, df_array)"
   ]
  },
  {
   "cell_type": "markdown",
   "id": "fd054bca-cb5d-4bc9-939b-2220fc21d292",
   "metadata": {},
   "source": [
    "::: {.content-hidden when-format=\"html\"}\n",
    "\n",
    "# Save the figures"
   ]
  },
  {
   "cell_type": "code",
   "execution_count": 18,
   "id": "19dda399-d23e-4af2-8684-78950d6e1e4a",
   "metadata": {},
   "outputs": [],
   "source": [
    "if 1:\n",
    "    for num in figs.keys():\n",
    "        figname = THIS + \"Fig-\" + num\n",
    "        figs[num].savefig(figname + '.png', dpi=300)\n",
    "        figs[num].savefig(figname + '.pdf')"
   ]
  },
  {
   "cell_type": "markdown",
   "id": "9946f45a-e920-4f4b-8b3c-53d0909918a7",
   "metadata": {},
   "source": [
    "# Formatting notes\n",
    "\n",
    "The header at the top of this file is for creating a nicely-formatted `.html` document using the program `quarto` ([link](https://quarto.org/)).  To create nicely-formated `.html`versions of this notebook, run `quarto` from the command line as follows\n",
    "\n",
    "    quarto render dissipation-theory--Study-61.ipynb && open dissipation-theory--Study-61.html\n",
    "    \n",
    ":::"
   ]
  },
  {
   "cell_type": "code",
   "execution_count": null,
   "id": "aa2f67cc-3642-4198-b3f7-902539508347",
   "metadata": {},
   "outputs": [],
   "source": []
  }
 ],
 "metadata": {
  "kernelspec": {
   "display_name": "dissipationtheory",
   "language": "python",
   "name": "dissipationtheory"
  },
  "language_info": {
   "codemirror_mode": {
    "name": "ipython",
    "version": 3
   },
   "file_extension": ".py",
   "mimetype": "text/x-python",
   "name": "python",
   "nbconvert_exporter": "python",
   "pygments_lexer": "ipython3",
   "version": "3.10.2"
  },
  "toc": {
   "base_numbering": 1,
   "nav_menu": {},
   "number_sections": true,
   "sideBar": true,
   "skip_h1_title": false,
   "title_cell": "Table of Contents",
   "title_sidebar": "Contents",
   "toc_cell": false,
   "toc_position": {},
   "toc_section_display": true,
   "toc_window_display": false
  }
 },
 "nbformat": 4,
 "nbformat_minor": 5
}
