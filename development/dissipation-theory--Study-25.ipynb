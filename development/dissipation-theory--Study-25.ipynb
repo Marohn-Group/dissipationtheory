{
 "cells": [
  {
   "cell_type": "markdown",
   "id": "23a70861-85a1-4209-b1dc-f0c747692132",
   "metadata": {},
   "source": [
    "* Name: `dissipation-theory--Study-25.ipynb`\n",
    "* Author: John A. Marohn\n",
    "* Date: 2024-10-11\n",
    "* Continued from: `dissipation-theory--Study-23.ipynb`\n",
    "* Continued to: ---\n",
    "* Summary: Extend the simulations and plots in `Study 23`.\n",
    "\n",
    "For a chosen set of cantilever and sample parameters, plot versus charge density $\\rho$ the\n",
    "- low-frequency BLDS frequency shift $|\\Delta f_{\\mathrm{BLDS}}(0)|$ and\n",
    "- cantilever friction $\\gamma_{\\mathrm{\\perp}}$.\n",
    "\n",
    "Plot these quantities versus, respectively, the unitless parameters\n",
    "- $(h/\\lambda_{\\mathrm{D}})^2$, with $h$ the tip-sample separation and $\\lambda_{\\mathrm{D}}$ the Debye length, and\n",
    "- $\\omega_0/(\\epsilon_{\\mathrm{s}}^{\\prime} \\omega_{\\mathrm{c}})$, with $\\omega_0 = \\sigma/\\epsilon_0$, $\\sigma$ the conductivity, $\\epsilon_{\\mathrm{s}}^{\\prime}$ the real part of the dielectric constant, and $\\omega_{\\mathrm{c}}$ the cantilever resonance frequency.\n",
    "\n",
    "Compare Marohn's numerical calcualtions to Loring's low-density and high-density approximations for $|\\Delta f_{\\mathrm{BLDS}}(0)|$."
   ]
  },
  {
   "cell_type": "markdown",
   "id": "4c424336-b8f7-46b8-95ff-885363755a9a",
   "metadata": {},
   "source": [
    "# Preliminaries"
   ]
  },
  {
   "cell_type": "code",
   "execution_count": 1,
   "id": "2f375306-8512-4bfa-afff-b1dbe065d274",
   "metadata": {},
   "outputs": [],
   "source": [
    "import numpy as np"
   ]
  },
  {
   "cell_type": "code",
   "execution_count": 2,
   "id": "38c98b69-a9a9-4f63-ac30-99ea194039ef",
   "metadata": {},
   "outputs": [],
   "source": [
    "%matplotlib inline\n",
    "import matplotlib.pylab as plt\n",
    "import matplotlib.cm as cm\n",
    "import matplotlib.colors as mcolors\n",
    "\n",
    "font = {'family' : 'serif',\n",
    "        'weight' : 'normal',\n",
    "        'size'   : 12}\n",
    "\n",
    "plt.rc('font', **font)\n",
    "plt.rcParams['figure.figsize'] = 3.25, 3.5"
   ]
  },
  {
   "cell_type": "code",
   "execution_count": 3,
   "id": "9824cbbb-b393-4469-b620-44f4ad23af92",
   "metadata": {},
   "outputs": [],
   "source": [
    "from dissipationtheory.constants import ureg, qe, epsilon0\n",
    "from dissipationtheory.dissipation2 import CantileverModelJit, SampleModel1Jit, SampleModel2Jit, theta1norm_jit\n",
    "from dissipationtheory.dissipation  import blds_perpendicular_jit, gamma_perpendicular_jit\n",
    "from dissipationtheory.data import BLDSData\n",
    "from dissipationtheory.capacitance import CsphereOverSemi"
   ]
  },
  {
   "cell_type": "code",
   "execution_count": 1,
   "id": "05f67a9c-61a6-4499-a42c-6f6418e95e6c",
   "metadata": {},
   "outputs": [],
   "source": [
    "THIS = 'dissipation-theory--Study-25--'\n",
    "fig = {}"
   ]
  },
  {
   "cell_type": "markdown",
   "id": "26a89a75-8c54-4e17-8c6e-8b6e17af68cf",
   "metadata": {},
   "source": [
    "# Simulate friction and the BLDS spectrum as charge density increases\n",
    "\n",
    "Assume the density increases while the charge mobility stays constant."
   ]
  },
  {
   "cell_type": "markdown",
   "id": "d8222f49-d3ff-408e-9119-3987e5be9c23",
   "metadata": {},
   "source": [
    "Cantilever with \"new\" tip might have a radius of $R = 35 \\: \\mathrm{nm}$.  BLDS measurements might be taken at $d = 200 \\: \\mathrm{nm}$.  Friction ringdown measurements can get as close as $d = 38 \\: \\mathrm{nm}$.  "
   ]
  },
  {
   "cell_type": "code",
   "execution_count": 5,
   "id": "0671f998-ea5b-4843-9876-7f0b7fc217bf",
   "metadata": {},
   "outputs": [],
   "source": [
    "cantilever_jit = CantileverModelJit(\n",
    "    f_c = 75e3, \n",
    "    V_ts = 1.0,\n",
    "    R = 35e-9,\n",
    "    d = 38e-9\n",
    ")"
   ]
  },
  {
   "cell_type": "markdown",
   "id": "8f9261b8-c3d4-4ef7-ba4b-ad34c7666a49",
   "metadata": {},
   "source": [
    "Pick a thick sample, $h_{\\mathrm{s}} = 500 \\: \\mathrm{nm}$.  Guess a dielectric constant on the low side for a perovskite, $\\epsilon_{\\mathrm{r}} = 20$, to get a larger BLDS signal.  A reasonable guess for a perovskite dielectric constant is 20 to 100 (real part); pick -2 for the imaginary part, an arbitrary choice.  We are going to vary the conductivity and charge density.\n",
    "\n",
    "Assume the sample is backed by a metal, which we mimic by setting $\\epsilon_{\\mathrm{d}} = 10^{6}$."
   ]
  },
  {
   "cell_type": "code",
   "execution_count": 6,
   "id": "a9cd2207-b307-41e2-b998-8e9ed0a00888",
   "metadata": {},
   "outputs": [],
   "source": [
    "sample_jit = SampleModel1Jit(\n",
    "    cantilever = cantilever_jit,\n",
    "    h_s = 500e-9,\n",
    "    epsilon_s = complex(20, -0.2),\n",
    "    sigma = 1e-5,\n",
    "    rho = 1e21,\n",
    "    epsilon_d = complex(1e6, 0),\n",
    "    z_r = 300e-9\n",
    ")"
   ]
  },
  {
   "cell_type": "markdown",
   "id": "60e390ba-8656-4070-8cab-a831b45587a6",
   "metadata": {},
   "source": [
    "Print out a report of sample properties."
   ]
  },
  {
   "cell_type": "code",
   "execution_count": 7,
   "id": "bd6c6080-73da-4b36-a07e-c5ee9c48c093",
   "metadata": {},
   "outputs": [
    {
     "name": "stdout",
     "output_type": "stream",
     "text": [
      "cantilever\n",
      "==========\n",
      "   cantilever freq =  75000.0 Hz\n",
      "                   =  471238.89803846896 rad/s\n",
      "tip-sample voltage =  1.0 V\n",
      "            radius =  3.5e-08 m\n",
      "            height =  3.8e-08 m\n",
      "\n",
      "semiconductor\n",
      "=============\n",
      "          epsilon (real) =  20.0\n",
      "          epsilon (imag) =  -0.2\n",
      "               thickness =  5e-07 m\n",
      "            conductivity =  1e-05 S/m\n",
      "          charge density =  1e+21 m^{{-3}}\n",
      "        reference height =  3e-07 m\n",
      " \n",
      "      roll-off frequency =  1129409.0673730192 Hz\n",
      "                mobility =  6.241509090043337e-08 m^2/(V s)\n",
      "      diffusion constant =  1.6135549206567651e-09 m^2/s\n",
      "            Debye length =  3.7797775481848936e-08 m\n",
      "        diffusion length =  5.851555252782804e-08 m\n",
      "effective epsilon (real) =  20.0\n",
      "effective epsilon (imag) =  -2.5966804779363124\n",
      "\n",
      "dielectric\n",
      "==========\n",
      " epsilon (real) =  1000000.0\n",
      " epsilon (imag) =  0.0\n",
      "      thickness = infinite\n"
     ]
    }
   ],
   "source": [
    "sample_jit.print()"
   ]
  },
  {
   "cell_type": "markdown",
   "id": "18cc2ef1-7c8b-4445-b283-5f148cc23fa0",
   "metadata": {},
   "source": [
    "Vary the conductivity, but keep the mobility fixed, which means we must also vary charge density."
   ]
  },
  {
   "cell_type": "code",
   "execution_count": 8,
   "id": "d8a43293-17d0-495f-a7d7-cbe140c62b50",
   "metadata": {},
   "outputs": [],
   "source": [
    "N_omega = 50\n",
    "N_sigma = 50"
   ]
  },
  {
   "cell_type": "code",
   "execution_count": 9,
   "id": "3adb995b-587e-4fb0-9ddd-73ea45b1a78f",
   "metadata": {},
   "outputs": [],
   "source": [
    "omega_m = ureg.Quantity(\n",
    "    np.logspace(\n",
    "        start=np.log10(1e1),\n",
    "        stop=np.log10(1e8),\n",
    "        num=N_omega), 'Hz')"
   ]
  },
  {
   "cell_type": "markdown",
   "id": "73058370-2484-4d0f-a03d-6feafe8cff2b",
   "metadata": {},
   "source": [
    "Relative to `Study 23`, increase the upper limit of `sigma` by a few orders of magnitude."
   ]
  },
  {
   "cell_type": "code",
   "execution_count": 10,
   "id": "451a156e-f87f-4156-925b-18960131ced4",
   "metadata": {},
   "outputs": [],
   "source": [
    "sigma = ureg.Quantity(\n",
    "    np.logspace(\n",
    "        start=np.log10(1e-9),\n",
    "        stop=np.log10(1),\n",
    "        num=N_sigma), 'S/m')"
   ]
  },
  {
   "cell_type": "markdown",
   "id": "b9696c65-cd65-4972-a657-e2924635c043",
   "metadata": {},
   "source": [
    "Assume a *fixed* mobility of $\\mu = 10^{-8} \\: \\mathrm{m}^2 / \\mathrm{V s}$.  This is an ionic mobility. "
   ]
  },
  {
   "cell_type": "code",
   "execution_count": 11,
   "id": "d3b16bd2-552f-47f6-b54b-bbe84a5b1fd3",
   "metadata": {},
   "outputs": [
    {
     "name": "stdout",
     "output_type": "stream",
     "text": [
      "mu = 1.000000e-04 cm^2(V s)\n"
     ]
    }
   ],
   "source": [
    "mu = ureg.Quantity(1e-8, 'm^2/(V s)')  # <=== adjust this\n",
    "\n",
    "print(\"mu = {:e} cm^2(V s)\".format(\n",
    "    mu.to('cm^2/(V s)').magnitude))"
   ]
  },
  {
   "cell_type": "markdown",
   "id": "7b3d68fd-93fd-49ab-98aa-f4778005db53",
   "metadata": {},
   "source": [
    "As we vary $\\sigma$, we also need to vary $\\rho$."
   ]
  },
  {
   "cell_type": "code",
   "execution_count": 12,
   "id": "5a75262d-d09d-47a7-9f89-c679688fd127",
   "metadata": {},
   "outputs": [
    {
     "name": "stdout",
     "output_type": "stream",
     "text": [
      "rho range: 6.241509e+17 to 6.241509e+26 1/m^3\n"
     ]
    }
   ],
   "source": [
    "rho = (sigma / (qe * mu)).to('1/m^3')\n",
    "\n",
    "print(\"rho range: {:e} to {:e} 1/m^3\".format(\n",
    "    min(rho).to('1/m^3').magnitude,\n",
    "    max(rho).to('1/m^3').magnitude))"
   ]
  },
  {
   "cell_type": "markdown",
   "id": "fc2d45f6-0aeb-4a2c-aa95-fa3324fb1999",
   "metadata": {},
   "source": [
    "Get ready to run the simulations."
   ]
  },
  {
   "cell_type": "code",
   "execution_count": 13,
   "id": "0b665cbc-7882-49f1-9ece-68de5b287b56",
   "metadata": {},
   "outputs": [],
   "source": [
    "data = {}        # many simulations\n",
    "data['01'] = {}  # the first simulation"
   ]
  },
  {
   "cell_type": "markdown",
   "id": "43d7aaaf-abef-43f6-82f6-a8122de1db4f",
   "metadata": {},
   "source": [
    "Step the charge density and conductivity and compute a friction and BLDS spectrum at each step.  When you vary the charge density, you also vary the Debye length.  Keep track of the Debye length as you step the charge density."
   ]
  },
  {
   "cell_type": "code",
   "execution_count": 14,
   "id": "932cc5de-8427-4eb3-bae4-d46b28c65dc4",
   "metadata": {},
   "outputs": [],
   "source": [
    "# remember\n",
    "sigma0 = sample_jit.sigma\n",
    "rho0 =  sample_jit.rho\n",
    "\n",
    "# set\n",
    "for rho_, sigma_ in zip(rho, sigma):\n",
    "    \n",
    "    freq = ureg.Quantity(np.zeros_like(omega_m), 'Hz')\n",
    "\n",
    "    sample_jit.rho = rho_.to('1/m^3').magnitude\n",
    "    sample_jit.sigma = sigma_.to('S/m').magnitude\n",
    "    \n",
    "    gamma = gamma_perpendicular_jit(theta1norm_jit, sample_jit).to('pN s/m')\n",
    "    \n",
    "    for index, omega_ in enumerate(omega_m):\n",
    "        \n",
    "        freq[index] = blds_perpendicular_jit(\n",
    "            theta1norm_jit,\n",
    "            sample_jit,\n",
    "            omega_).to('Hz')\n",
    "    \n",
    "    data['01'][str(sigma_)] = {\n",
    "        'omega_m': omega_m,\n",
    "        'f_BLDS': freq, \n",
    "        'gamma': gamma,\n",
    "        'sigma': ureg.Quantity(sample_jit.sigma, 'S/m'),\n",
    "        'd': ureg.Quantity(sample_jit.cantilever.d, 'm'),\n",
    "        'rho': ureg.Quantity(sample_jit.rho, '1/m^3'),\n",
    "        'LD': ureg.Quantity(sample_jit.LD, 'm'),\n",
    "        'omega_c': ureg.Quantity(sample_jit.cantilever.omega_c, 'Hz'),\n",
    "        'omega_0': (ureg.Quantity(sample_jit.sigma, 'S/m')/epsilon0).to('Hz')}\n",
    "\n",
    "# reset\n",
    "sample_jit.rho = rho0\n",
    "sample_jit.sigma = sigma0"
   ]
  },
  {
   "cell_type": "markdown",
   "id": "dd794340-0a97-489e-940e-dd7f1f888411",
   "metadata": {},
   "source": [
    "Helper function to plot the BLDS spectra."
   ]
  },
  {
   "cell_type": "code",
   "execution_count": 15,
   "id": "236e84ff-2356-4585-af95-cb5fc2062f34",
   "metadata": {},
   "outputs": [],
   "source": [
    "def plotBLDS(data, sample_jit):\n",
    "\n",
    "    rho = np.zeros(len(data))    \n",
    "    for index, key in enumerate(data.keys()):\n",
    "        \n",
    "        rho[index] = data[key]['rho'].to('1/cm^3').magnitude\n",
    "\n",
    "    # colormap = plt.cm.jet\n",
    "    colormap = plt.cm.magma_r\n",
    "    color_list = [colormap(i) for i in np.linspace(0, 1, len(data))]\n",
    "\n",
    "    normalized_colors = mcolors.LogNorm(vmin=min(rho), vmax=max(rho))\n",
    "    scalar_mappable = cm.ScalarMappable(norm=normalized_colors, cmap=colormap)\n",
    "    scalar_mappable.set_array(len(color_list))\n",
    "    \n",
    "    fig, ax = plt.subplots(figsize=(4.5, 3))\n",
    "    for index, key in enumerate(data.keys()):\n",
    "        \n",
    "        with plt.style.context('seaborn-v0_8'):\n",
    "            plt.semilogx(\n",
    "                data[key]['omega_m'].to('Hz').magnitude,\n",
    "                np.abs(data[key]['f_BLDS'].to('Hz').magnitude),\n",
    "                '-',\n",
    "                color=color_list[index])\n",
    "\n",
    "    # if you want the separation and radius on the plot title\n",
    "    if 0: \n",
    "    \n",
    "        lbl = '$d = $ {:0.1f} nm, $R = $ {:0.1f} nm'.format(\n",
    "            sample_jit.cantilever.d/1e-9,\n",
    "            sample_jit.cantilever.R/1e-9)\n",
    "        \n",
    "        plt.title(lbl, fontsize=9)\n",
    "\n",
    "    # color bar\n",
    "    clb=plt.colorbar(scalar_mappable, ax=ax)\n",
    "    clb.ax.set_title(r'$\\rho \\: [\\mathrm{cm}^{-3}]$', fontsize=12)\n",
    "    \n",
    "    plt.ylabel('|$\\Delta f_{\\mathrm{BLDS}}$| [Hz]')\n",
    "    plt.xlabel('mod. freq. $\\omega_{\\mathrm{m}}$ [rad/s]')\n",
    "    plt.tight_layout()\n",
    "    plt.show()\n",
    "    \n",
    "    return fig"
   ]
  },
  {
   "cell_type": "markdown",
   "id": "5597945c-7c5b-4f56-be20-5f71fe05454f",
   "metadata": {},
   "source": [
    "Plot the BLDS spectra."
   ]
  },
  {
   "cell_type": "markdown",
   "id": "257ad8a4-517b-422c-a568-76a2383d4ec0",
   "metadata": {},
   "source": [
    "Actually plot a subset of the BLDS spectra."
   ]
  },
  {
   "cell_type": "code",
   "execution_count": 16,
   "id": "3b615f5e-facb-4e5c-9de6-85dd2a25626c",
   "metadata": {},
   "outputs": [],
   "source": [
    "data['01-short'] = {}\n",
    "for key in list(data['01'].keys())[::2]:  # gotta list, MF'a\n",
    "    data['01-short'][key] = data['01'][key]"
   ]
  },
  {
   "cell_type": "code",
   "execution_count": 17,
   "id": "4d650f15-769e-499e-9650-0b181287701d",
   "metadata": {},
   "outputs": [
    {
     "data": {
      "image/png": "[encoded data removed]",
      "text/plain": [
       "<Figure size 450x300 with 2 Axes>"
      ]
     },
     "metadata": {},
     "output_type": "display_data"
    }
   ],
   "source": [
    "fig['01'] = plotBLDS(data['01-short'], sample_jit)"
   ]
  },
  {
   "cell_type": "markdown",
   "id": "f9b5d414-c9e9-4b03-a146-297ad9b16ba4",
   "metadata": {},
   "source": [
    "Helper function to plot the (a) low-frequency limit of the BLDS frequency shift and (b) dissipation versus charge density.  This function simply reproduces the plot in `Study-23`."
   ]
  },
  {
   "cell_type": "code",
   "execution_count": 18,
   "id": "e5e8491d-f0c3-4187-9d91-0e73180a1fc3",
   "metadata": {},
   "outputs": [],
   "source": [
    "def plotgammaA(data, sample_jit):\n",
    "\n",
    "    # gather up friction data\n",
    "    \n",
    "    rho = np.zeros(len(data))\n",
    "    gamma = np.zeros(len(data))\n",
    "    blds0 = np.zeros(len(data))\n",
    "    \n",
    "    for index, key in enumerate(data.keys()):\n",
    "        \n",
    "        rho[index] = data[key]['rho'].to('1/cm^3').magnitude\n",
    "        gamma[index] = data[key]['gamma'][0].to('pN s/m').magnitude\n",
    "        blds0[index] = np.abs(data[key]['f_BLDS'][0].to('Hz').magnitude)\n",
    "        \n",
    "    # now make a plot\n",
    "    \n",
    "    fig, ax = plt.subplots(1, 2, figsize=(6.5, 3))\n",
    "\n",
    "    with plt.style.context('seaborn-v0_8'):\n",
    "        ax[0].semilogx(rho, blds0, '-')\n",
    "        ax[1].semilogx(rho, gamma, '-')\n",
    "        \n",
    "    ax[0].set_ylabel(r'|$\\Delta f_{\\mathrm{BLDS}}(\\omega_{\\mathrm{m}}=0)$| [Hz]')\n",
    "    ax[1].set_ylabel(r'$\\gamma_{\\perp}$ [pN s/m]')\n",
    "    ax[0].set_xlabel(r'charge density $\\rho$ [cm$^{-3}$]')\n",
    "    ax[1].set_xlabel(r'charge density $\\rho$ [cm$^{-3}$]')\n",
    "    \n",
    "    plt.tight_layout()\n",
    "    plt.show()\n",
    "    \n",
    "    return fig"
   ]
  },
  {
   "cell_type": "code",
   "execution_count": 19,
   "id": "b2f78d2f-703b-498e-8d24-82a4fc2aaf5e",
   "metadata": {},
   "outputs": [
    {
     "data": {
      "image/png": "[encoded data removed]",
      "text/plain": [
       "<Figure size 650x300 with 2 Axes>"
      ]
     },
     "metadata": {},
     "output_type": "display_data"
    }
   ],
   "source": [
    "fig['02'] = plotgammaA(data['01'], sample_jit)"
   ]
  },
  {
   "cell_type": "markdown",
   "id": "ec5aaff6-15af-411e-9745-db688ee3bbf5",
   "metadata": {},
   "source": [
    "# Loring's approximations for the BLDS spectrum\n",
    "\n",
    "Code up **Loring's approximations** for the low-frequency and high-frequency limits of the BLDS spectrum.  Build up this approximation in a number of steps."
   ]
  },
  {
   "cell_type": "markdown",
   "id": "901707d8-e218-4132-91e8-69aba7b5a140",
   "metadata": {},
   "source": [
    "The function below returns the *absolute value* of the following prefactor, with units. \n",
    "\n",
    "\\begin{equation}\n",
    "-\\frac{f_{\\mathrm{c}} c_0^2 V_0^2}{16 \\pi \\epsilon_0 k_{\\mathrm{c}} h^3}\n",
    "\\end{equation}\n",
    "\n",
    "In the above equation $f_{\\mathrm{c}}$ is the cantilever frequency, $c_0$ is the tip-sample capacitance, $V_0$ is the tip-sample voltage, $\\epsilon_0$ is the free-space permittivity, $k_{\\mathrm{c}}$ is the cantilever spring constant, and $h$ is the tip-sample separation."
   ]
  },
  {
   "cell_type": "code",
   "execution_count": 20,
   "id": "785e1730-8503-4654-b1c8-2e9bc3b6607e",
   "metadata": {},
   "outputs": [],
   "source": [
    "def BLDSpre(sample):\n",
    "\n",
    "    fc = ureg.Quantity(sample.cantilever.f_c, 'Hz')\n",
    "    c0 = CsphereOverSemi(index=0, \n",
    "        height=ureg.Quantity(sample.cantilever.d,'m') * np.ones(1), \n",
    "        radius=ureg.Quantity(sample.cantilever.R,'m'),\n",
    "        epsilon=sample.epsilon_d.real)\n",
    "    V0 = ureg.Quantity(sample_jit.cantilever.V_ts, 'V')\n",
    "    kc = ureg.Quantity(2.8, 'N/m')\n",
    "    h = ureg.Quantity(sample.cantilever.d,'m')\n",
    "\n",
    "    pre = ((fc * c0**2 * V0**2)/(16 * np.pi * epsilon0 * kc * h**3)).to('Hz')\n",
    "\n",
    "    return pre"
   ]
  },
  {
   "cell_type": "markdown",
   "id": "060e4e97-712b-47d1-9d71-e607ad2940e7",
   "metadata": {},
   "source": [
    "The above function returns a number with the right units.  Hurray!"
   ]
  },
  {
   "cell_type": "code",
   "execution_count": 21,
   "id": "70bc171c-1f87-45cb-b406-ccf8d3ef638e",
   "metadata": {},
   "outputs": [
    {
     "data": {
      "text/html": [
       "<table><tbody><tr><th>Magnitude</th><td style='text-align:left;'><pre>[29.052807269111536]</pre></td></tr><tr><th>Units</th><td style='text-align:left;'>hertz</td></tr></tbody></table>"
      ],
      "text/latex": [
       "$\\begin{pmatrix}\\end{pmatrix}\\ \\mathrm{hertz}$"
      ],
      "text/plain": [
       "<Quantity([29.05280727], 'hertz')>"
      ]
     },
     "execution_count": 21,
     "metadata": {},
     "output_type": "execute_result"
    }
   ],
   "source": [
    "BLDSpre(sample_jit)"
   ]
  },
  {
   "cell_type": "markdown",
   "id": "3236d96e-cfea-44d6-8699-d82d1b438548",
   "metadata": {},
   "source": [
    "Loring's expansions for the BLDS frequency shift are carried out in terms of a unitless parameter\n",
    "\n",
    "\\begin{equation}\n",
    "x \\equiv \\left( \\frac{h}{\\lambda_{\\mathrm{D}}} \\right)^2\n",
    "\\end{equation}\n",
    "\n",
    "with $h$ the tip-sample separation and $\\lambda_{\\mathrm{D}}$ the Debye length.  Given an array of $x$-values, return an array of values for the low-density (i.e., small $x$) and high-density (i.e., large $x$) limiting values of the absolute value of the BLDS frequency shift."
   ]
  },
  {
   "cell_type": "code",
   "execution_count": 22,
   "id": "7e0ed209-3d97-49be-a36a-9ab415ab51c5",
   "metadata": {},
   "outputs": [],
   "source": [
    "def BLDSlimits(sample, x):\n",
    "\n",
    "    pre = BLDSpre(sample)\n",
    "    er = sample.epsilon_s.real\n",
    "    a = 0.25 * (er - 1)/(er + 1)\n",
    "    ones = np.ones(len(x))\n",
    "    \n",
    "    return [pre * a * ones, pre * 0.25 * ones]"
   ]
  },
  {
   "cell_type": "markdown",
   "id": "9c28ecdc-3d62-4b80-8135-7fec3c9b68f1",
   "metadata": {},
   "source": [
    "The two returned arrays have units."
   ]
  },
  {
   "cell_type": "code",
   "execution_count": 23,
   "id": "a56fb241-75a2-4659-92e6-5590d3025fbd",
   "metadata": {},
   "outputs": [
    {
     "data": {
      "text/plain": [
       "[<Quantity([6.57146831 6.57146831 6.57146831 6.57146831 6.57146831], 'hertz')>,\n",
       " <Quantity([7.26320182 7.26320182 7.26320182 7.26320182 7.26320182], 'hertz')>]"
      ]
     },
     "execution_count": 23,
     "metadata": {},
     "output_type": "execute_result"
    }
   ],
   "source": [
    "BLDSlimits(sample_jit, np.logspace(-3, 2, 5))"
   ]
  },
  {
   "cell_type": "markdown",
   "id": "6c413653-adff-4694-9802-bf79277c569e",
   "metadata": {},
   "source": [
    "Now make a function to return Loring's low-density approximation for the BLDS frequency shift.  The dependent variable here is $x = (h/\\lambda_{\\mathrm{D}})^2$, as above.  The approximation is of the form $c_1 + c_2 x$ with $c_1$ and $c_2$ constants.  The approximation increases without bound at large $x$.  Only return values where the approximate BLDS frequency shift is less than the high-frequency limit.  Return a copy of the $x$ array where this is true; this truncated $x$ array will be handy for plotting."
   ]
  },
  {
   "cell_type": "code",
   "execution_count": 24,
   "id": "b88e8aaa-f6e1-41cd-bb86-894e15be9edd",
   "metadata": {},
   "outputs": [],
   "source": [
    "def BLDSapprox(sample, x):\n",
    "\n",
    "    pre = BLDSpre(sample)\n",
    "    BLDS_low, BLDS_high = BLDSlimits(sample, x)\n",
    "    \n",
    "    er = sample.epsilon_s.real\n",
    "    a = 0.25 * (er - 1)/(er + 1)\n",
    "    b = 0.50 * er / (er + 1)**2\n",
    "\n",
    "    BLDS_approx = pre * (a + b * x)\n",
    "    mask = BLDS_approx.to('Hz').magnitude <= BLDS_high.to('Hz').magnitude\n",
    "    \n",
    "    return [x[mask], BLDS_approx[mask]]"
   ]
  },
  {
   "cell_type": "markdown",
   "id": "747c6e97-411d-425a-a3cd-bddd2d3241f8",
   "metadata": {},
   "source": [
    "Create a plot of the absolute value of the zero-frequency limit of the BLDS frequency versus the unitless parameter $x$, showing the \n",
    "\n",
    "- low-frequency limit (dashed black line)\n",
    "- high-frequency limit (dash-dotted black line), and\n",
    "- Loring's low-density approximation (blue line)."
   ]
  },
  {
   "cell_type": "code",
   "execution_count": 31,
   "id": "5199f20e-4bba-40ff-97ab-981bd140f741",
   "metadata": {},
   "outputs": [],
   "source": [
    "def plotBLDSapprox(sample):\n",
    "\n",
    "    x_temp = np.logspace(-3, 2, 40)\n",
    "    BLDS_low, BLDS_high = BLDSlimits(sample, x_temp)\n",
    "    x_sub, BLDS_sub = BLDSapprox(sample, x_temp)\n",
    "    \n",
    "    fig = plt.figure(figsize=(3.5, 2.5))\n",
    "    \n",
    "    plt.semilogx(x_temp, BLDS_low.to('Hz').magnitude, 'k--')\n",
    "    plt.semilogx(x_temp, BLDS_high.to('Hz').magnitude, 'k-.')\n",
    "    plt.semilogx(x_sub, BLDS_sub.to('Hz').magnitude,'-')\n",
    "    \n",
    "    plt.xlabel(r'$(h / \\lambda_{\\mathrm{D}})^2$')\n",
    "    plt.ylabel(r'|$\\Delta f_{\\mathrm{BLDS}}(\\omega_{\\mathrm{m}}=0)$| [Hz]')\n",
    "\n",
    "    plt.tight_layout()\n",
    "    plt.show()\n",
    "    \n",
    "    return fig"
   ]
  },
  {
   "cell_type": "markdown",
   "id": "3ed6c52e-4fb6-4813-8c5f-e3bdb23f0258",
   "metadata": {},
   "source": [
    "We can see that the linear correction term starts to rise around $x \\sim 1$, as expected.\n",
    "\n",
    "<div class=\"alert alert-block alert-success\">\n",
    "As the unitless parameter $x = (h/\\lambda_{\\mathrm{D}})^2$ is increased, the BLDS frequency shift $|\\Delta f_{\\mathrm{BLDS}}(0)|$ starts to increase when $x \\leq 1$  as Loring's low-density expansion indicates. \n",
    "</div>\n",
    "\n",
    "<div class=\"alert alert-block alert-danger\">\n",
    "Looking at the plots above and below, the $|\\Delta f_{\\mathrm{BLDS}}(\\omega_{\\mathrm{m}}=0)|$ predicted by Marohn's numerical calculations is in poor agreement with Loring's approximations.\n",
    "</div>"
   ]
  },
  {
   "cell_type": "code",
   "execution_count": 32,
   "id": "5f0eaad4-2bf4-4185-b486-33208d6cd610",
   "metadata": {},
   "outputs": [
    {
     "data": {
      "image/png": "[encoded data removed]",
      "text/plain": [
       "<Figure size 350x250 with 1 Axes>"
      ]
     },
     "metadata": {},
     "output_type": "display_data"
    }
   ],
   "source": [
    "fig['03'] = plotBLDSapprox(sample_jit)"
   ]
  },
  {
   "cell_type": "markdown",
   "id": "c3d39bd7-97e7-4d2a-8f21-f71f3133701a",
   "metadata": {},
   "source": [
    "Plot the calculated friction and low-frequency BLDS frequency shift another way.\n",
    "\n",
    "* (left) **Zero-frequency limit of the BLDS frequency shift**.  Add a second x-axis, $(h/\\lambda_{\\mathrm{D}})^2$, with $h$ the probe height and $\\lambda_{\\mathrm{D}}$ the Debye length.  The unitless squared ratio  $(h/\\lambda_{\\mathrm{D}})^2$ is linearly proportional to the charge density $\\rho$.  Adding a second x-axis is tricky.  Read [here](https://stackoverflow.com/questions/10514315/how-to-add-a-second-x-axis) and [here](https://matplotlib.org/stable/api/_as_gen/matplotlib.axes.Axes.secondary_xaxis.html).\n",
    "\n",
    "* (right) **Perpendicular friction**.  According to Loring and Marohn's analysis, we should see maximum friction when the frequency  $\\omega_0 = \\sigma/\\epsilon_0$ equals the cantilever frequency $\\omega_{\\mathrm{c}}$.  Varying $\\epsilon_{\\mathrm{s}}^{\\prime}$ (simulations not shown), I find empirically that friction peaks instead when $\\omega_0 = \\sigma/\\epsilon_0$ equals $\\epsilon_{\\mathrm{s}}^{\\prime}  \\omega_{\\mathrm{c}}$.  Therefore add a second x-axis, $\\omega_0/(\\epsilon_{\\mathrm{s}}^{\\prime}  \\omega_{\\mathrm{c}})$."
   ]
  },
  {
   "cell_type": "code",
   "execution_count": 27,
   "id": "de1f8858-1867-47bc-b42b-152f8c8ae6f0",
   "metadata": {},
   "outputs": [],
   "source": [
    "def plotgammaB(data, sample):\n",
    "\n",
    "    # Loop over the data and gather up the charge density, Debye length, cantilever height,\n",
    "    # friction and BLDS frequency shift at the lowest modulation frequency (approximating\n",
    "    # the zero-frequency limit)\n",
    "    \n",
    "    rho = np.zeros(len(data))\n",
    "    LD = np.zeros(len(data))\n",
    "    d = np.zeros(len(data))\n",
    "    gamma = np.zeros(len(data))\n",
    "    blds0 = np.zeros(len(data))\n",
    "    omega_0 = np.zeros(len(data))\n",
    "    omega_c = np.zeros(len(data))\n",
    "    \n",
    "    for index, key in enumerate(data.keys()):\n",
    "        \n",
    "        rho[index] = data[key]['rho'].to('1/cm^3').magnitude\n",
    "        LD[index] = data[key]['LD'].to('m').magnitude\n",
    "        d[index] = data[key]['d'].to('m').magnitude\n",
    "        gamma[index] = data[key]['gamma'][0].to('pN s/m').magnitude\n",
    "        blds0[index] = np.abs(data[key]['f_BLDS'][0].to('Hz').magnitude)\n",
    "        omega_0[index] = data[key]['omega_0'].to('Hz').magnitude\n",
    "        omega_c[index] = data[key]['omega_c'].to('Hz').magnitude\n",
    "    \n",
    "    # (Left hand plot) \n",
    "    # Make the x-axis the unitless ratio of the height to Debye length squared,\n",
    "    # which is proportional to charge density.\n",
    "\n",
    "    xL = (d/LD)**2\n",
    "    rho0L = (rho/xL)[0]\n",
    "\n",
    "    # Define functions to convert from xL to rho and back again\n",
    "    \n",
    "    def fwdL(xL):\n",
    "        return xL*rho0L\n",
    "\n",
    "    def revL(rho):\n",
    "        return rho/rho0L\n",
    "\n",
    "    # (Right hand plot)\n",
    "    # Make the x-axis the unitless ratio of omega_0 to omega_c, which\n",
    "    # is proportional to conductivity and therefore charge density\n",
    "\n",
    "    xR = omega_0/(sample.epsilon_s.real * omega_c)\n",
    "    rho0R = (rho/xR)[0]\n",
    "    \n",
    "    # Define functions to convert from xR to rho and back again\n",
    "\n",
    "    def fwdR(xR):\n",
    "        return xR*rho0R\n",
    "\n",
    "    def revR(rho):\n",
    "        return rho/rho0R\n",
    "    \n",
    "    # Now make the nice plot\n",
    "    \n",
    "    fig, ax = plt.subplots(1, 2, figsize=(7.5, 3))\n",
    "    \n",
    "    ax2L = ax[0].secondary_xaxis(\"top\", functions=(fwdL,revL))\n",
    "    ax2R = ax[1].secondary_xaxis(\"top\", functions=(fwdR,revR))\n",
    "    \n",
    "    with plt.style.context('seaborn-v0_8'):\n",
    "        ax[0].semilogx(xL, blds0, '-')\n",
    "        ax[1].semilogx(xR, gamma, '-')\n",
    "        ax[0].grid()\n",
    "        ax[1].grid()\n",
    "        \n",
    "    ax[0].set_ylabel(r'|$\\Delta f_{\\mathrm{BLDS}}(\\omega_{\\mathrm{m}}=0)$| [Hz]')\n",
    "    ax[1].set_ylabel(r'$\\gamma_{\\perp}$ [pN s/m]')\n",
    "    ax[0].set_xlabel(r'$(h / \\lambda_{\\mathrm{D}})^2$')\n",
    "    ax[1].set_xlabel(r'$\\omega_0/(\\epsilon_{\\mathrm{s}}^{\\prime} \\omega_{\\mathrm{c}})$') \n",
    "    ax2L.set_xlabel(r'charge density $\\rho$ [cm$^{-3}$]')\n",
    "    ax2R.set_xlabel(r'charge density $\\rho$ [cm$^{-3}$]')\n",
    "    \n",
    "    plt.tight_layout()\n",
    "    plt.show()\n",
    "    \n",
    "    return fig"
   ]
  },
  {
   "cell_type": "code",
   "execution_count": 28,
   "id": "c94362ad-ace8-4e20-836d-f81cdc59af82",
   "metadata": {},
   "outputs": [
    {
     "data": {
      "image/png": "[encoded data removed]",
      "text/plain": [
       "<Figure size 750x300 with 2 Axes>"
      ]
     },
     "metadata": {},
     "output_type": "display_data"
    }
   ],
   "source": [
    "fig['04'] = plotgammaB(data['01'], sample_jit)"
   ]
  },
  {
   "cell_type": "markdown",
   "id": "1f805c7c-0c6a-4d0c-ae94-0297eff4ff8e",
   "metadata": {},
   "source": [
    "<div class=\"alert alert-block alert-success\">\n",
    "As charge density $\\rho$ is increased, Marohn's numerically computed BLDS frequency shift $|\\Delta f_{\\mathrm{BLDS}}(0)|$ increases when $(h/\\lambda_{\\mathrm{D}})^2 \\geq 1$ as Loring's low-density expansion indicates. \n",
    "</div>\n",
    "\n",
    "<div class=\"alert alert-block alert-danger\">\n",
    "Marohn's numerical estimate of $|\\Delta f_{\\mathrm{BLDS}}(0)|$ is approximately 100-fold larger than that predicted by Loring's low-density expansion. \n",
    "</div>\n",
    "\n",
    "<div class=\"alert alert-block alert-warning\">\n",
    "As charge denstiy $\\rho$ is increased, the perpendicular friction $\\gamma_{\\perp}$ increases and reaches a maximum when $\\omega_0/(\\epsilon_{\\mathrm{s}}^{\\prime} \\omega_{\\mathrm{c}}) = 1$, not when $\\omega_0/\\omega_{\\mathrm{c}} = 1$.\n",
    "</div>"
   ]
  },
  {
   "cell_type": "markdown",
   "id": "4e6e99bd-6f3b-4a8e-a7c6-a449ade23ed9",
   "metadata": {},
   "source": [
    "# Summarize the properties\n",
    "\n",
    "Cantilever\n",
    "\n",
    "- $f_c = 75 \\: \\mathrm{kHz}$,\n",
    "- $k_c = 2.8 \\: \\mathrm{N/m}$,\n",
    "- $R = 35 \\: \\mathrm{nm}$,\n",
    "- $h = 38 \\: \\mathrm{nm}$, and\n",
    "- $V_{\\mathrm{ts}} = 1 \\: \\mathrm{V}$.\n",
    "\n",
    "Sample\n",
    "- $h_{\\mathrm{s}} = 500 \\: \\mathrm{nm}$,\n",
    "- $\\epsilon_{\\mathrm{s}} = 20 - 0.2 \\, j$,\n",
    "- $\\mu = 10^{-8} \\: \\mathrm{m}^2 / \\mathrm{V s}$,\n",
    "- $\\epsilon_{\\mathrm{d}} = 10^{6}$ fixed; and\n",
    "- $\\rho$ and $\\sigma = e \\mu \\rho$ varied."
   ]
  },
  {
   "cell_type": "code",
   "execution_count": 29,
   "id": "58f4f28f-e65a-487b-a7db-9538af08320c",
   "metadata": {},
   "outputs": [
    {
     "name": "stdout",
     "output_type": "stream",
     "text": [
      "cantilever\n",
      "==========\n",
      "   cantilever freq =  75000.0 Hz\n",
      "                   =  471238.89803846896 rad/s\n",
      "tip-sample voltage =  1.0 V\n",
      "            radius =  3.5e-08 m\n",
      "            height =  3.8e-08 m\n",
      "\n",
      "semiconductor\n",
      "=============\n",
      "          epsilon (real) =  20.0\n",
      "          epsilon (imag) =  -0.2\n",
      "               thickness =  5e-07 m\n",
      "            conductivity =  1e-05 S/m\n",
      "          charge density =  1e+21 m^{{-3}}\n",
      "        reference height =  3e-07 m\n",
      " \n",
      "      roll-off frequency =  1129409.0673730192 Hz\n",
      "                mobility =  6.241509090043337e-08 m^2/(V s)\n",
      "      diffusion constant =  1.6135549206567651e-09 m^2/s\n",
      "            Debye length =  3.7797775481848936e-08 m\n",
      "        diffusion length =  5.851555252782804e-08 m\n",
      "effective epsilon (real) =  20.0\n",
      "effective epsilon (imag) =  -2.5966804779363124\n",
      "\n",
      "dielectric\n",
      "==========\n",
      " epsilon (real) =  1000000.0\n",
      " epsilon (imag) =  0.0\n",
      "      thickness = infinite\n"
     ]
    }
   ],
   "source": [
    "sample_jit.print()"
   ]
  },
  {
   "cell_type": "markdown",
   "id": "810ef11a-bd56-4006-ab0d-c07092af38ca",
   "metadata": {},
   "source": [
    "# Save all figures"
   ]
  },
  {
   "cell_type": "code",
   "execution_count": 33,
   "id": "53e56fef-72f9-476f-bb6b-6034eff1dcec",
   "metadata": {},
   "outputs": [],
   "source": [
    "if 1:\n",
    "    for num in fig.keys():\n",
    "        figname = THIS + \"Fig-\" + num\n",
    "        fig[num].savefig(figname + '.png', dpi=300)\n",
    "        fig[num].savefig(figname + '.pdf')"
   ]
  },
  {
   "cell_type": "code",
   "execution_count": null,
   "id": "85953b61-b9d8-4cbf-b55d-9e2c44a23099",
   "metadata": {},
   "outputs": [],
   "source": []
  }
 ],
 "metadata": {
  "kernelspec": {
   "display_name": "dissipationtheory",
   "language": "python",
   "name": "dissipationtheory"
  },
  "language_info": {
   "codemirror_mode": {
    "name": "ipython",
    "version": 3
   },
   "file_extension": ".py",
   "mimetype": "text/x-python",
   "name": "python",
   "nbconvert_exporter": "python",
   "pygments_lexer": "ipython3",
   "version": "3.9.10"
  }
 },
 "nbformat": 4,
 "nbformat_minor": 5
}
