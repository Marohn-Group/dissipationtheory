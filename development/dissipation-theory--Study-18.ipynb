{
 "cells": [
  {
   "cell_type": "markdown",
   "id": "c41d7da1-7585-4585-aa4f-4a556f5d1ba1",
   "metadata": {},
   "source": [
    "* Name: `dissipation-theory--Study-18.ipynb`\n",
    "* Author: John A. Marohn\n",
    "* Date: 2024-06-02\n",
    "* Continued from: `dissipation-theory--Study-17.ipynb`\n",
    "* Continued to: ---\n",
    "* Summary: Turn the BLDS fitting code in `dissipation-theory--Study-17.ipynb` into functions that can be looped over data."
   ]
  },
  {
   "cell_type": "code",
   "execution_count": 1,
   "id": "7b08e0a1-cc7a-4e9a-b56f-9a94ee4ffc66",
   "metadata": {},
   "outputs": [],
   "source": [
    "from dissipationtheory.constants import ureg\n",
    "from dissipationtheory.dissipation import blds_perpendicular_jit\n",
    "from dissipationtheory.dissipation import CantileverModelJit, SampleModel1Jit\n",
    "from dissipationtheory.dissipation import theta1norm_jit\n",
    "import numpy as np\n",
    "import matplotlib.pyplot as plt"
   ]
  },
  {
   "cell_type": "code",
   "execution_count": 2,
   "id": "36c33c90-d1e5-4ff4-92fb-f33b70fc4a38",
   "metadata": {},
   "outputs": [],
   "source": [
    "%matplotlib inline\n",
    "import matplotlib.pylab as plt\n",
    "\n",
    "font = {'family' : 'serif',\n",
    "        'weight' : 'normal',\n",
    "        'size'   : 12}\n",
    "\n",
    "plt.rc('font', **font)\n",
    "plt.rcParams['figure.figsize'] = 3.25, 3.5"
   ]
  },
  {
   "cell_type": "code",
   "execution_count": 3,
   "id": "31db7b6c-6ef7-4969-aecb-3b492e13724e",
   "metadata": {},
   "outputs": [],
   "source": [
    "THIS = 'dissipation-theory--Study-18--'"
   ]
  },
  {
   "cell_type": "code",
   "execution_count": null,
   "id": "b7f063f7-7b49-479c-9ce1-d1502a277103",
   "metadata": {},
   "outputs": [],
   "source": []
  }
 ],
 "metadata": {
  "kernelspec": {
   "display_name": "dissipationtheory",
   "language": "python",
   "name": "dissipationtheory"
  },
  "language_info": {
   "codemirror_mode": {
    "name": "ipython",
    "version": 3
   },
   "file_extension": ".py",
   "mimetype": "text/x-python",
   "name": "python",
   "nbconvert_exporter": "python",
   "pygments_lexer": "ipython3",
   "version": "3.8.5"
  }
 },
 "nbformat": 4,
 "nbformat_minor": 5
}
