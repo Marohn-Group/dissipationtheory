{
 "cells": [
  {
   "cell_type": "raw",
   "id": "1114a6c7",
   "metadata": {},
   "source": [
    "---\n",
    "title: Testing new functions for calculating $\\theta_{I}$, $\\theta_{II}$, and $K_{\\ell}$\n",
    "author: \"John A. Marohn\"\n",
    "date: today\n",
    "abstract: Test code for calculating the functions $\\theta_{I}$, $\\theta_{II}$, and $K_{\\ell}$.  This notebook tests functions imported from `dissipationtheory8a.py` (pure Python) and `dissipationtheory8b.py` (numba/jit).  These functions are tested against functions imported from `dissipationtheory7.py` (pure Python and numba/jit).  In contrast with the functions in `dissipationtheory7.py`, the functions in `dissipationtheory8a.py` and `dissipationtheory8a.py` are well-behaved in the $\\omega \\rightarrow 0$ limit. The function $K_2$ is computed at a selected position for representative Type I and Type II samples.  We show that $K_0$ computed over a \"metallic\" Type I and Type II sample gives the expected unitless image-charge potential.  \n",
    "toc: true\n",
    "number-sections: true\n",
    "highlight-style: pygments\n",
    "embed-resources: true\n",
    "dpi: 300\n",
    "format:\n",
    "    html:\n",
    "        html-math-method:\n",
    "          method: mathjax\n",
    "          url: \"https://cdn.jsdelivr.net/npm/mathjax@3/es5/tex-mml-chtml.js\"\n",
    "        code-fold: true\n",
    "        code-tools: true\n",
    "jupyter: python3\n",
    "---"
   ]
  },
  {
   "cell_type": "markdown",
   "id": "0822b762",
   "metadata": {},
   "source": [
    "# Preliminaries"
   ]
  },
  {
   "cell_type": "code",
   "execution_count": 1,
   "id": "98043dca",
   "metadata": {},
   "outputs": [],
   "source": [
    "import numpy as np\n",
    "import matplotlib.pylab as plt\n",
    "import pint\n",
    "\n",
    "from dissipationtheory.constants import ureg, qe, epsilon0"
   ]
  },
  {
   "cell_type": "code",
   "execution_count": 2,
   "id": "b067db4a",
   "metadata": {},
   "outputs": [],
   "source": [
    "from dissipationtheory.dissipation7 import CantileverModel as CantileverModel_v7\n",
    "from dissipationtheory.dissipation7 import SampleModel1 as SampleModel1_v7\n",
    "from dissipationtheory.dissipation7 import SampleModel2 as SampleModel2_v7\n",
    "from dissipationtheory.dissipation7 import theta1norm, theta2norm\n",
    "from dissipationtheory.dissipation7 import K as K_v7"
   ]
  },
  {
   "cell_type": "code",
   "execution_count": 3,
   "id": "255f2fa6",
   "metadata": {},
   "outputs": [],
   "source": [
    "from dissipationtheory.dissipation8a import CantileverModel as CantileverModel_v8a\n",
    "from dissipationtheory.dissipation8a import SampleModel1 as SampleModel1_v8a\n",
    "from dissipationtheory.dissipation8a import SampleModel2 as SampleModel2_v8a\n",
    "from dissipationtheory.dissipation8a import integrand1, integrand2\n",
    "from dissipationtheory.dissipation8a import K as K_v8a"
   ]
  },
  {
   "cell_type": "code",
   "execution_count": 4,
   "id": "be0c3aa2",
   "metadata": {},
   "outputs": [],
   "source": [
    "from dissipationtheory.dissipation8b import CantileverModelJit, SampleModel1Jit, SampleModel2Jit\n",
    "from dissipationtheory.dissipation8b import integrand1jit, integrand2jit\n",
    "from dissipationtheory.dissipation8b import K_jit "
   ]
  },
  {
   "cell_type": "markdown",
   "id": "0d42dc19",
   "metadata": {},
   "source": [
    "# (Study A) Version 7 sample Python objects"
   ]
  },
  {
   "cell_type": "markdown",
   "id": "2f53fde1",
   "metadata": {},
   "source": [
    "Instantiate representative cantilever, sample1, and sample2 objects."
   ]
  },
  {
   "cell_type": "code",
   "execution_count": 5,
   "id": "57952b6d",
   "metadata": {},
   "outputs": [],
   "source": [
    "cantilever_v7 = CantileverModel_v7(\n",
    "    f_c = ureg.Quantity(75, 'kHz'),\n",
    "    k_c = ureg.Quantity(2.8, 'N/m'), \n",
    "    V_ts = ureg.Quantity(1, 'V'), \n",
    "    R = ureg.Quantity(35, 'nm'),\n",
    "    angle = ureg.Quantity(20, 'degrees'),\n",
    "    d = ureg.Quantity(38, 'nm'),\n",
    "    z_c = ureg.Quantity(20, 'nm')\n",
    ")"
   ]
  },
  {
   "cell_type": "code",
   "execution_count": 6,
   "id": "30e6f39b",
   "metadata": {},
   "outputs": [],
   "source": [
    "sample1_v7 = SampleModel1_v7(\n",
    "    cantilever = cantilever_v7,\n",
    "    h_s = ureg.Quantity(100, 'nm'),\n",
    "    epsilon_s = ureg.Quantity(complex(20, -0.2), ''),\n",
    "    sigma = ureg.Quantity(1E-5, 'S/m'),\n",
    "    rho = ureg.Quantity(1e21, '1/m^3'),\n",
    "    epsilon_d = ureg.Quantity(complex(1e6, 0), ''),\n",
    "    z_r = ureg.Quantity(300, 'nm')\n",
    ")"
   ]
  },
  {
   "cell_type": "code",
   "execution_count": 7,
   "id": "146396e1",
   "metadata": {},
   "outputs": [
    {
     "data": {
      "text/plain": [
       "cantilever\n",
       "\n",
       "         resonance freq = 75.000 kHz\n",
       "                        = 4.712e+05 rad/s\n",
       "        spring constant = 2.800 N/m\n",
       "     tip-sample voltage = 1.000 V\n",
       "                 radius = 35.000 nm\n",
       "        cone half angle = 20.000 degree\n",
       "                 height = 38.000 nm\n",
       "  tip charge z location = 20.000 nm\n",
       "\n",
       "semiconductor\n",
       "\n",
       "             epsilon (real) = 20.000\n",
       "             epsilon (imag) = -0.200\n",
       "                  thickness = 100.0 nm\n",
       "               conductivity = 1.000e-05 S/m\n",
       "             charge density = 1.000e+21 m^{-3}\n",
       "           reference height = 3.000e+02 nm\n",
       "\n",
       "         roll-off frequency = 1.129e+06 Hz\n",
       "                   mobility = 6.242e-08 m^2/(V s)\n",
       "         diffusion constant = 1.614e-09 m^2/s\n",
       "               Debye length = 3.780e+01 nm\n",
       "           diffusion length = 5.852e+01 nm\n",
       "   effective epsilon (real) = 20.000\n",
       "   effective epsilon (imag) = -2.597\n",
       "\n",
       "dielectric\n",
       "\n",
       "  epsilon (real) = 1000000.000\n",
       "  epsilon (imag) = 0.000\n",
       "       thickness = infinite"
      ]
     },
     "execution_count": 7,
     "metadata": {},
     "output_type": "execute_result"
    }
   ],
   "source": [
    "sample1_v7"
   ]
  },
  {
   "cell_type": "code",
   "execution_count": 8,
   "id": "a60f0945",
   "metadata": {},
   "outputs": [],
   "source": [
    "sample2_v7 = SampleModel2_v7(\n",
    "    cantilever = cantilever_v7,\n",
    "    epsilon_d = ureg.Quantity(complex(20, -0.2), ''),\n",
    "    h_d = ureg.Quantity(50, 'nm'),\n",
    "    epsilon_s = ureg.Quantity(complex(20, -0.2), ''),\n",
    "    sigma = ureg.Quantity(1E-5, 'S/m'),\n",
    "    rho = ureg.Quantity(1e21, '1/m^3'),\n",
    "    z_r = ureg.Quantity(300, 'nm')\n",
    ")       "
   ]
  },
  {
   "cell_type": "code",
   "execution_count": 9,
   "id": "d1264e0a",
   "metadata": {},
   "outputs": [
    {
     "data": {
      "text/plain": [
       "cantilever\n",
       "\n",
       "         resonance freq = 75.000 kHz\n",
       "                        = 4.712e+05 rad/s\n",
       "        spring constant = 2.800 N/m\n",
       "     tip-sample voltage = 1.000 V\n",
       "                 radius = 35.000 nm\n",
       "        cone half angle = 20.000 degree\n",
       "                 height = 38.000 nm\n",
       "  tip charge z location = 20.000 nm\n",
       "\n",
       "dielectric\n",
       "\n",
       "  epsilon (real) = 20.000\n",
       "  epsilon (imag) = -0.200\n",
       "       thickness = 50.0 nm\n",
       "\n",
       "semiconductor\n",
       "\n",
       "             epsilon (real) = 20.000\n",
       "             epsilon (imag) = -0.200\n",
       "                  thickness = infinite\n",
       "               conductivity = 1.000e-05 S/m\n",
       "             charge density = 1.00e+21 m^{-3}\n",
       "           reference height = 300.0 nm\n",
       "\n",
       "         roll-off frequency = 1.129e+06 Hz\n",
       "                   mobility = 6.24e-08 m^2/(V s)\n",
       "         diffusion constant = 1.61e-09 m^2/s\n",
       "               Debye length = 37.8 nm\n",
       "           diffusion length = 58.5 nm\n",
       "   effective epsilon (real) = 20.000\n",
       "   effective epsilon (imag) = -2.597\n"
      ]
     },
     "execution_count": 9,
     "metadata": {},
     "output_type": "execute_result"
    }
   ],
   "source": [
    "sample2_v7"
   ]
  },
  {
   "cell_type": "markdown",
   "id": "25dfc4ef",
   "metadata": {},
   "source": [
    "Confirm that the `theta1norm` function runs."
   ]
  },
  {
   "cell_type": "code",
   "execution_count": 10,
   "id": "d252be8e",
   "metadata": {},
   "outputs": [
    {
     "data": {
      "text/plain": [
       "0.8658450727436651"
      ]
     },
     "execution_count": 10,
     "metadata": {},
     "output_type": "execute_result"
    }
   ],
   "source": [
    "theta1norm(1.01, sample1_v7, ureg.Quantity(1e3,'Hz'), 2, part=np.real)"
   ]
  },
  {
   "cell_type": "markdown",
   "id": "de06aa53",
   "metadata": {},
   "source": [
    "Confirm that the `theta2norm` function runs."
   ]
  },
  {
   "cell_type": "code",
   "execution_count": 11,
   "id": "39881ed4",
   "metadata": {},
   "outputs": [
    {
     "data": {
      "text/plain": [
       "0.8387173454896705"
      ]
     },
     "execution_count": 11,
     "metadata": {},
     "output_type": "execute_result"
    }
   ],
   "source": [
    "theta2norm(1.01, sample2_v7, ureg.Quantity(1e3,'Hz'), 2, part=np.real)"
   ]
  },
  {
   "cell_type": "markdown",
   "id": "7f504275",
   "metadata": {},
   "source": [
    "Compute $K_2$ for Sample 1."
   ]
  },
  {
   "cell_type": "code",
   "execution_count": 12,
   "id": "73097fc6",
   "metadata": {},
   "outputs": [
    {
     "data": {
      "text/html": [
       "28320.292826217443 1/micrometer<sup>3</sup>"
      ],
      "text/latex": [
       "$28320.292826217443\\ \\frac{1}{\\mathrm{micrometer}^{3}}$"
      ],
      "text/plain": [
       "<Quantity(28320.292826217443, '1 / micrometer ** 3')>"
      ]
     },
     "execution_count": 12,
     "metadata": {},
     "output_type": "execute_result"
    }
   ],
   "source": [
    "resultA1 = K_v7(2, theta1norm, sample1_v7, ureg.Quantity(0.001,'Hz'), part=np.real)\n",
    "resultA1.to('1/um**3')"
   ]
  },
  {
   "cell_type": "markdown",
   "id": "08b7d81d",
   "metadata": {},
   "source": [
    "Compute $K_2$ for Sample 2."
   ]
  },
  {
   "cell_type": "code",
   "execution_count": 13,
   "id": "983d84b5",
   "metadata": {},
   "outputs": [
    {
     "data": {
      "text/html": [
       "28279.857978576692 1/micrometer<sup>3</sup>"
      ],
      "text/latex": [
       "$28279.857978576692\\ \\frac{1}{\\mathrm{micrometer}^{3}}$"
      ],
      "text/plain": [
       "<Quantity(28279.857978576692, '1 / micrometer ** 3')>"
      ]
     },
     "execution_count": 13,
     "metadata": {},
     "output_type": "execute_result"
    }
   ],
   "source": [
    "resultA2 = K_v7(2, theta2norm, sample2_v7, ureg.Quantity(0.001,'Hz'), part=np.real)\n",
    "resultA2.to('1/um**3')"
   ]
  },
  {
   "cell_type": "markdown",
   "id": "569effb5",
   "metadata": {},
   "source": [
    "# (Study B) Version 8a sample Python objects\n",
    "\n",
    "I had added cantilever length $L$ to the list of cantilever parameters.  "
   ]
  },
  {
   "cell_type": "code",
   "execution_count": 14,
   "id": "cfa102a7",
   "metadata": {},
   "outputs": [],
   "source": [
    "cantilever_v8a = CantileverModel_v8a(\n",
    "    f_c = ureg.Quantity(75, 'kHz'),\n",
    "    k_c = ureg.Quantity(2.8, 'N/m'), \n",
    "    V_ts = ureg.Quantity(1, 'V'), \n",
    "    R = ureg.Quantity(35, 'nm'),\n",
    "    angle = ureg.Quantity(20, 'degree'),\n",
    "    L = ureg.Quantity(1000, 'nm'), \n",
    "    d = ureg.Quantity(38, 'nm')\n",
    ")"
   ]
  },
  {
   "cell_type": "markdown",
   "id": "e68a76a2",
   "metadata": {},
   "source": [
    "Make sure we can generate a Model I sample object ok."
   ]
  },
  {
   "cell_type": "code",
   "execution_count": 15,
   "id": "6721ed61",
   "metadata": {},
   "outputs": [],
   "source": [
    "sample1_v8a = SampleModel1_v8a(\n",
    "    cantilever = cantilever_v8a,\n",
    "    h_s = ureg.Quantity(100, 'nm'),\n",
    "    epsilon_s = ureg.Quantity(complex(20, -0.2), ''),\n",
    "    sigma = ureg.Quantity(1E-5, 'S/m'),\n",
    "    rho = ureg.Quantity(1e21, '1/m^3'),\n",
    "    epsilon_d = ureg.Quantity(complex(1e6, 0), ''),\n",
    "    z_r = ureg.Quantity(300, 'nm')\n",
    ")"
   ]
  },
  {
   "cell_type": "code",
   "execution_count": 16,
   "id": "a96b8672",
   "metadata": {},
   "outputs": [
    {
     "data": {
      "text/plain": [
       "cantilever\n",
       "\n",
       "         resonance freq = 75.000 kHz\n",
       "                        = 4.712e+05 rad/s\n",
       "        spring constant = 2.800 N/m\n",
       "     tip-sample voltage = 1.000 V\n",
       "                 radius = 35.000 nm\n",
       "        cone half angle = 20.000 degree\n",
       "            cone length = 1000.000 nm\n",
       "  tip-sample separation = 38.000 nm\n",
       "\n",
       "semiconductor\n",
       "\n",
       "             epsilon (real) = 20.000\n",
       "             epsilon (imag) = -0.200\n",
       "                  thickness = 100.0 nm\n",
       "               conductivity = 1.000e-05 S/m\n",
       "             charge density = 1.000e+21 m^{-3}\n",
       "           reference height = 3.000e+02 nm\n",
       "\n",
       "         roll-off frequency = 1.129e+06 Hz\n",
       "       inverse Debye length = 2.646e-02 nm^{-1}\n",
       "               Debye length = 3.780e+01 nm\n",
       "dielectric\n",
       "\n",
       "  epsilon (real) = 1000000.000\n",
       "  epsilon (imag) = 0.000\n",
       "       thickness = infinite"
      ]
     },
     "execution_count": 16,
     "metadata": {},
     "output_type": "execute_result"
    }
   ],
   "source": [
    "sample1_v8a"
   ]
  },
  {
   "cell_type": "markdown",
   "id": "b7d8fec0",
   "metadata": {},
   "source": [
    "Make sure we can generate a Model II sample object ok."
   ]
  },
  {
   "cell_type": "code",
   "execution_count": 17,
   "id": "0d773f6c",
   "metadata": {},
   "outputs": [],
   "source": [
    "sample2_v8a = SampleModel2_v8a(\n",
    "    cantilever = cantilever_v8a,\n",
    "    epsilon_d = ureg.Quantity(complex(20, -0.2), ''),\n",
    "    h_d = ureg.Quantity(50, 'nm'),\n",
    "    epsilon_s = ureg.Quantity(complex(20, -0.2), ''),\n",
    "    sigma = ureg.Quantity(1E-5, 'S/m'),\n",
    "    rho = ureg.Quantity(1e21, '1/m^3'),\n",
    "    z_r = ureg.Quantity(300, 'nm')\n",
    ")       "
   ]
  },
  {
   "cell_type": "code",
   "execution_count": 18,
   "id": "808ab936",
   "metadata": {},
   "outputs": [
    {
     "data": {
      "text/plain": [
       "cantilever\n",
       "\n",
       "         resonance freq = 75.000 kHz\n",
       "                        = 4.712e+05 rad/s\n",
       "        spring constant = 2.800 N/m\n",
       "     tip-sample voltage = 1.000 V\n",
       "                 radius = 35.000 nm\n",
       "        cone half angle = 20.000 degree\n",
       "            cone length = 1000.000 nm\n",
       "  tip-sample separation = 38.000 nm\n",
       "\n",
       "dielectric\n",
       "\n",
       "  epsilon (real) = 20.000\n",
       "  epsilon (imag) = -0.200\n",
       "       thickness = 50.0 nm\n",
       "\n",
       "semiconductor\n",
       "\n",
       "             epsilon (real) = 20.000\n",
       "             epsilon (imag) = -0.200\n",
       "                  thickness = infinite\n",
       "               conductivity = 1.000e-05 S/m\n",
       "             charge density = 1.00e+21 m^{-3}\n",
       "           reference height = 300.0 nm\n",
       "\n",
       "         roll-off frequency = 1.129e+06 Hz\n",
       "       inverse Debye length = 2.646e-02 nm^{-1}\n",
       "               Debye length = 3.780e+01 nm"
      ]
     },
     "execution_count": 18,
     "metadata": {},
     "output_type": "execute_result"
    }
   ],
   "source": [
    "sample2_v8a"
   ]
  },
  {
   "cell_type": "markdown",
   "id": "9b84d0ca",
   "metadata": {},
   "source": [
    "Check that the new `integrand1` function runs.  Check the result at $\\omega = 0$.  Note that the prior function `theta2norm` would blow up at $\\omega = 0$, requiring us to call the function as a small but finite $\\omega$.  So being able to compute the integrand at $\\omega = 0$ exactly is progress."
   ]
  },
  {
   "cell_type": "markdown",
   "id": "16589f69",
   "metadata": {},
   "source": [
    "Check that the new `integrand2` function runs."
   ]
  },
  {
   "cell_type": "code",
   "execution_count": 19,
   "id": "9e809449",
   "metadata": {},
   "outputs": [
    {
     "data": {
      "text/plain": [
       "0.9261562258439279"
      ]
     },
     "execution_count": 19,
     "metadata": {},
     "output_type": "execute_result"
    }
   ],
   "source": [
    "integrand1(1.01, 2, sample1_v8a, ureg.Quantity(0,'Hz'), ureg.Quantity([2, 5, 10], 'nm'), ureg.Quantity([2, 5, 10], 'nm'), part=np.real)"
   ]
  },
  {
   "cell_type": "code",
   "execution_count": 20,
   "id": "0162f3a3",
   "metadata": {},
   "outputs": [
    {
     "data": {
      "text/plain": [
       "0.897138242296477"
      ]
     },
     "execution_count": 20,
     "metadata": {},
     "output_type": "execute_result"
    }
   ],
   "source": [
    "integrand2(1.01, 2, sample2_v8a, ureg.Quantity(0,'Hz'), ureg.Quantity([2, 5, 10], 'nm'), ureg.Quantity([2, 5, 10], 'nm'), part=np.real)"
   ]
  },
  {
   "cell_type": "markdown",
   "id": "b2c57f15",
   "metadata": {},
   "source": [
    "Compute $K_2$ for Sample 1."
   ]
  },
  {
   "cell_type": "code",
   "execution_count": 21,
   "id": "94bc7303",
   "metadata": {},
   "outputs": [
    {
     "data": {
      "text/html": [
       "28320.29282621744 1/micrometer<sup>3</sup>"
      ],
      "text/latex": [
       "$28320.29282621744\\ \\frac{1}{\\mathrm{micrometer}^{3}}$"
      ],
      "text/plain": [
       "<Quantity(28320.29282621744, '1 / micrometer ** 3')>"
      ]
     },
     "execution_count": 21,
     "metadata": {},
     "output_type": "execute_result"
    }
   ],
   "source": [
    "resultB1 = K_v8a(integrand1, 2, sample1_v8a, ureg.Quantity(0.001,'Hz'), ureg.Quantity([0, 0, 20], 'nm'), ureg.Quantity([0, 0, 20], 'nm'), part=np.real)\n",
    "resultB1.to('1/um**3')"
   ]
  },
  {
   "cell_type": "markdown",
   "id": "0638b996",
   "metadata": {},
   "source": [
    "Compute $K_2$ for Sample 2."
   ]
  },
  {
   "cell_type": "code",
   "execution_count": 22,
   "id": "8c340e80",
   "metadata": {},
   "outputs": [
    {
     "data": {
      "text/html": [
       "28279.857978576692 1/micrometer<sup>3</sup>"
      ],
      "text/latex": [
       "$28279.857978576692\\ \\frac{1}{\\mathrm{micrometer}^{3}}$"
      ],
      "text/plain": [
       "<Quantity(28279.857978576692, '1 / micrometer ** 3')>"
      ]
     },
     "execution_count": 22,
     "metadata": {},
     "output_type": "execute_result"
    }
   ],
   "source": [
    "resultB2 = K_v8a(integrand2, 2, sample2_v8a, ureg.Quantity(0.001,'Hz'), ureg.Quantity([0, 0, 20], 'nm'), ureg.Quantity([0, 0, 20], 'nm'), part=np.real)\n",
    "resultB2.to('1/um**3')"
   ]
  },
  {
   "cell_type": "markdown",
   "id": "587562c5",
   "metadata": {},
   "source": [
    "# (Study C) Version 8b sample jit objects"
   ]
  },
  {
   "cell_type": "markdown",
   "id": "a82360e1",
   "metadata": {},
   "source": [
    "This works"
   ]
  },
  {
   "cell_type": "code",
   "execution_count": 23,
   "id": "2c7d5604",
   "metadata": {},
   "outputs": [],
   "source": [
    "cantilever_jit = CantileverModelJit(\n",
    "    f_c = 75.0e3,\n",
    "    k_c = 2.8,\n",
    "    V_ts = 1.0,\n",
    "    R = 35.0e-9,\n",
    "    angle = 20.0,\n",
    "    L = 1000.0e-9,\n",
    "    d = 38.0e-9\n",
    ")"
   ]
  },
  {
   "cell_type": "markdown",
   "id": "77192065",
   "metadata": {},
   "source": [
    "These also work, yea!"
   ]
  },
  {
   "cell_type": "code",
   "execution_count": 24,
   "id": "9302c331",
   "metadata": {},
   "outputs": [],
   "source": [
    "cantilever_jit = CantileverModelJit(**cantilever_v8a.args())"
   ]
  },
  {
   "cell_type": "code",
   "execution_count": 25,
   "id": "ba144be3",
   "metadata": {},
   "outputs": [
    {
     "name": "stdout",
     "output_type": "stream",
     "text": [
      "cantilever\n",
      "==========\n",
      "        cantilever freq =  75000.0 Hz\n",
      "                        =  471238.89803846896 rad/s\n",
      "        spring constant =  2.8 N/m\n",
      "     tip-sample voltage =  1.0 V\n",
      "                 radius =  3.5e-08 m\n",
      "        cone half angle =  20.0 degree\n",
      "            cone length =  1.0000000000000002e-06 m\n",
      "  tip-sample separation =  3.8e-08 m\n",
      "\n",
      "semiconductor\n",
      "=============\n",
      "          epsilon (real) =  20.0\n",
      "          epsilon (imag) =  -0.2\n",
      "               thickness =  1.0000000000000001e-07 m\n",
      "            conductivity =  1e-05 S/m\n",
      "          charge density =  1e+21 m^{{-3}}\n",
      "        reference height =  3.0000000000000004e-07 m\n",
      " \n",
      "      roll-off frequency =  1129409.0673730192 Hz\n",
      "    inverse Debye length =  26456583.416667342 m^{{-1}}\n",
      "            Debye length =  3.7797775481848936e-08 m\n",
      "\n",
      "dielectric\n",
      "==========\n",
      " epsilon (real) =  1000000.0\n",
      " epsilon (imag) =  0.0\n",
      "      thickness = infinite\n"
     ]
    }
   ],
   "source": [
    "sample1_jit = SampleModel1Jit(**sample1_v8a.args())\n",
    "sample1_jit.print()"
   ]
  },
  {
   "cell_type": "code",
   "execution_count": 26,
   "id": "ba90018c",
   "metadata": {},
   "outputs": [
    {
     "name": "stdout",
     "output_type": "stream",
     "text": [
      "cantilever\n",
      "==========\n",
      "        cantilever freq =  75000.0 Hz\n",
      "                        =  471238.89803846896 rad/s\n",
      "        spring constant =  2.8 N/m\n",
      "     tip-sample voltage =  1.0 V\n",
      "                 radius =  3.5e-08 m\n",
      "        cone half angle =  20.0 degree\n",
      "            cone length =  1.0000000000000002e-06 m\n",
      "  tip-sample separation =  3.8e-08 m\n",
      "\n",
      "dielectric\n",
      "==========\n",
      " epsilon (real) =  20.0\n",
      " epsilon (imag) =  -0.2\n",
      "      thickness =  5.0000000000000004e-08 m\n",
      "\n",
      "semiconductor\n",
      "=============\n",
      "          epsilon (real) =  20.0\n",
      "          epsilon (imag) =  -0.2\n",
      "               thickness = infinite\n",
      "            conductivity =  1e-05 S/m\n",
      "          charge density =  1e+21 m^{{-3}}\n",
      "        reference height =  3.0000000000000004e-07 m\n",
      " \n",
      "      roll-off frequency =  1129409.0673730192 Hz\n",
      "    inverse Debye length =  26456583.416667342 m^{{-1}}\n",
      "            Debye length =  3.7797775481848936e-08 m\n"
     ]
    }
   ],
   "source": [
    "sample2_jit = SampleModel2Jit(**sample2_v8a.args())\n",
    "sample2_jit.print()"
   ]
  },
  {
   "cell_type": "markdown",
   "id": "3ae59ad9",
   "metadata": {},
   "source": [
    "Check the integrand functions.  Compare the execution time in jit versus pure Python."
   ]
  },
  {
   "cell_type": "code",
   "execution_count": 27,
   "id": "59f6b69e",
   "metadata": {},
   "outputs": [
    {
     "name": "stdout",
     "output_type": "stream",
     "text": [
      "CPU times: user 139 μs, sys: 101 μs, total: 240 μs\n",
      "Wall time: 246 μs\n"
     ]
    },
    {
     "data": {
      "text/plain": [
       "0.8971382422964769"
      ]
     },
     "execution_count": 27,
     "metadata": {},
     "output_type": "execute_result"
    }
   ],
   "source": [
    "%%time\n",
    "integrand2jit(1.01, 2, sample2_jit, 0., np.array([2e-9, 5e-9, 10e-9]), np.array([2e-9, 5e-9, 10e-9]), False)"
   ]
  },
  {
   "cell_type": "code",
   "execution_count": 28,
   "id": "ea86e786-962b-4025-86fa-767d35a53da0",
   "metadata": {},
   "outputs": [
    {
     "name": "stdout",
     "output_type": "stream",
     "text": [
      "CPU times: user 4.42 ms, sys: 949 μs, total: 5.36 ms\n",
      "Wall time: 5.01 ms\n"
     ]
    },
    {
     "data": {
      "text/plain": [
       "0.897138242296477"
      ]
     },
     "execution_count": 28,
     "metadata": {},
     "output_type": "execute_result"
    }
   ],
   "source": [
    "%%time\n",
    "integrand2(1.01, 2, sample2_v8a, ureg.Quantity(0,'Hz'), ureg.Quantity([2, 5, 10], 'nm'), ureg.Quantity([2, 5, 10], 'nm'), part=np.real)"
   ]
  },
  {
   "cell_type": "markdown",
   "id": "dd389549-2d89-469d-b311-68117a60145b",
   "metadata": {},
   "source": [
    "Pleasingly, we get nearly the same result using both jit and Python. The jit function is about 100-fold faster."
   ]
  },
  {
   "cell_type": "markdown",
   "id": "0298319e-6f4c-48d0-a220-480f0b005a41",
   "metadata": {},
   "source": [
    "Compute $K_2$ for Sample 1 using jit code."
   ]
  },
  {
   "cell_type": "code",
   "execution_count": 29,
   "id": "b47f2dc7-f620-4810-97b7-05e95983f151",
   "metadata": {},
   "outputs": [
    {
     "name": "stdout",
     "output_type": "stream",
     "text": [
      "CPU times: user 2.28 ms, sys: 329 μs, total: 2.61 ms\n",
      "Wall time: 3.46 ms\n"
     ]
    },
    {
     "data": {
      "text/html": [
       "2.832029282621744×10<sup>22</sup> 1/meter<sup>3</sup>"
      ],
      "text/latex": [
       "$2.832029282621744\\times 10^{22}\\ \\frac{1}{\\mathrm{meter}^{3}}$"
      ],
      "text/plain": [
       "<Quantity(2.832029282621744e+22, '1 / meter ** 3')>"
      ]
     },
     "execution_count": 29,
     "metadata": {},
     "output_type": "execute_result"
    }
   ],
   "source": [
    "%%time\n",
    "resultC1 = K_jit(integrand1jit, 2, sample1_jit, 0.001, np.array([0, 0, 20e-9]), np.array([0, 0, 20e-9]), False)\n",
    "resultC1"
   ]
  },
  {
   "cell_type": "markdown",
   "id": "7e367e5b-04b8-4de5-a80d-0e13baa23c72",
   "metadata": {},
   "source": [
    "Compute $K_2$ for Sample 2 using jit code."
   ]
  },
  {
   "cell_type": "code",
   "execution_count": 30,
   "id": "705dc35d-89e7-47d0-9c4a-cfe5e15c7158",
   "metadata": {},
   "outputs": [
    {
     "name": "stdout",
     "output_type": "stream",
     "text": [
      "CPU times: user 1.43 ms, sys: 61 μs, total: 1.49 ms\n",
      "Wall time: 1.54 ms\n"
     ]
    },
    {
     "data": {
      "text/html": [
       "2.82798579785767×10<sup>22</sup> 1/meter<sup>3</sup>"
      ],
      "text/latex": [
       "$2.82798579785767\\times 10^{22}\\ \\frac{1}{\\mathrm{meter}^{3}}$"
      ],
      "text/plain": [
       "<Quantity(2.82798579785767e+22, '1 / meter ** 3')>"
      ]
     },
     "execution_count": 30,
     "metadata": {},
     "output_type": "execute_result"
    }
   ],
   "source": [
    "%%time\n",
    "resultC2 = K_jit(integrand2jit, 2, sample2_jit, 0.001, np.array([0, 0, 20e-9]), np.array([0, 0, 20e-9]), False)\n",
    "resultC2"
   ]
  },
  {
   "cell_type": "markdown",
   "id": "a605d981-e73f-4051-bf51-c1cffa610f7c",
   "metadata": {},
   "source": [
    "We get similar results, but the jit code is 500- to 1000-fold faster."
   ]
  },
  {
   "cell_type": "markdown",
   "id": "56881c29",
   "metadata": {},
   "source": [
    "# Compare results"
   ]
  },
  {
   "cell_type": "markdown",
   "id": "617db942",
   "metadata": {},
   "source": [
    "\n",
    "Compare $K_2$ computed various ways. The various ways are \n",
    "\n",
    "* (Study A) \"old pure Python\" `v7`\n",
    "* (Study B) \"new pure Python\" `v8a`\n",
    "* (Study C) \"new jit\" `v8b`\n",
    "\n",
    "Display the fractional error, taking the `v7` code as the ground truth."
   ]
  },
  {
   "cell_type": "code",
   "execution_count": 31,
   "id": "de30f83e-8022-4f8a-8371-cc5f7c508f0f",
   "metadata": {},
   "outputs": [],
   "source": [
    "def compare(A,B):\n",
    "    \"\"\"Compute the relative difference between A to B, taking A as the ground truth.\"\"\"\n",
    "    print(\"relative error =\", ((A - B)/A).to('dimensionless').magnitude)"
   ]
  },
  {
   "cell_type": "markdown",
   "id": "880f0937-f7e3-4903-b0c8-587109762d51",
   "metadata": {},
   "source": [
    "## Compare Study A to Study B"
   ]
  },
  {
   "cell_type": "markdown",
   "id": "60ca5ab8-8736-4425-9bae-9dbf61eb967f",
   "metadata": {},
   "source": [
    "Sample 1"
   ]
  },
  {
   "cell_type": "code",
   "execution_count": 32,
   "id": "e1cdb373-39db-4264-b3c2-ea3053fbffcb",
   "metadata": {},
   "outputs": [
    {
     "name": "stdout",
     "output_type": "stream",
     "text": [
      "relative error = 1.4810242343670728e-16\n"
     ]
    }
   ],
   "source": [
    "compare(resultA1, resultB1)"
   ]
  },
  {
   "cell_type": "markdown",
   "id": "714dd62e-4759-4388-a066-3e11fc6eb116",
   "metadata": {},
   "source": [
    "Sample 2"
   ]
  },
  {
   "cell_type": "code",
   "execution_count": 33,
   "id": "b9c921ca",
   "metadata": {},
   "outputs": [
    {
     "name": "stdout",
     "output_type": "stream",
     "text": [
      "relative error = 0.0\n"
     ]
    }
   ],
   "source": [
    "compare(resultA2, resultB2)"
   ]
  },
  {
   "cell_type": "markdown",
   "id": "01440e2b-927b-4e0d-89a5-1289380e2e7b",
   "metadata": {},
   "source": [
    "## Compare Study A to Study C"
   ]
  },
  {
   "cell_type": "markdown",
   "id": "943a56c8-7917-411f-99f0-e9fcb8f1759d",
   "metadata": {},
   "source": [
    "Sample 1"
   ]
  },
  {
   "cell_type": "code",
   "execution_count": 34,
   "id": "64516a87-6bbb-4664-8234-6cf7ea620825",
   "metadata": {},
   "outputs": [
    {
     "name": "stdout",
     "output_type": "stream",
     "text": [
      "relative error = 1.4810242343670728e-16\n"
     ]
    }
   ],
   "source": [
    "compare(resultA1, resultC1)"
   ]
  },
  {
   "cell_type": "markdown",
   "id": "e9818953-1d2b-4fb7-8d70-2c8d66a2e828",
   "metadata": {},
   "source": [
    "Sample 2"
   ]
  },
  {
   "cell_type": "code",
   "execution_count": 35,
   "id": "2f730a96",
   "metadata": {},
   "outputs": [
    {
     "name": "stdout",
     "output_type": "stream",
     "text": [
      "relative error = -1.4831418188794937e-16\n"
     ]
    }
   ],
   "source": [
    "compare(resultA2, resultC2)"
   ]
  },
  {
   "cell_type": "markdown",
   "id": "d705e528-72a0-483b-a909-02b27a7ce227",
   "metadata": {},
   "source": [
    "# Conclusions"
   ]
  },
  {
   "cell_type": "markdown",
   "id": "2910e8ee-b39f-46c5-b3d4-541d450dd357",
   "metadata": {},
   "source": [
    "Finally, we emphasize that the new `K` (in `dissipation8a.py`) and `K_jit` (in `dissipation8b.py`) functions are well behaved at zero frequency.  Here are two examples, computing $K_0$ for Sample 1 and Sample 2 at $\\omega = 0$."
   ]
  },
  {
   "cell_type": "code",
   "execution_count": 37,
   "id": "ea0fd3d7-2fa8-4da6-80d9-1c03276aa80a",
   "metadata": {},
   "outputs": [
    {
     "data": {
      "text/html": [
       "23.206670538554317 1/micrometer"
      ],
      "text/latex": [
       "$23.206670538554317\\ \\frac{1}{\\mathrm{micrometer}}$"
      ],
      "text/plain": [
       "<Quantity(23.206670538554317, '1 / micrometer')>"
      ]
     },
     "execution_count": 37,
     "metadata": {},
     "output_type": "execute_result"
    }
   ],
   "source": [
    "K_jit(\n",
    "    integrand=integrand1jit, \n",
    "    power=0, \n",
    "    sample=sample1_jit, \n",
    "    omega=0,\n",
    "    location1=np.array([0, 0, 20e-9]),\n",
    "    location2=np.array([0, 0, 20e-9]), \n",
    "    isImag=False).to('1/um')"
   ]
  },
  {
   "cell_type": "code",
   "execution_count": 39,
   "id": "12eec4a5-0c67-4756-8c85-871ee266d988",
   "metadata": {},
   "outputs": [
    {
     "data": {
      "text/html": [
       "22.910064305128017 1/micrometer"
      ],
      "text/latex": [
       "$22.910064305128017\\ \\frac{1}{\\mathrm{micrometer}}$"
      ],
      "text/plain": [
       "<Quantity(22.910064305128017, '1 / micrometer')>"
      ]
     },
     "execution_count": 39,
     "metadata": {},
     "output_type": "execute_result"
    }
   ],
   "source": [
    "K_jit(\n",
    "    integrand=integrand2jit, \n",
    "    power=0, \n",
    "    sample=sample2_jit, \n",
    "    omega=0,\n",
    "    location1=np.array([0, 0, 20e-9]),\n",
    "    location2=np.array([0, 0, 20e-9]), \n",
    "    isImag=False).to('1/um')"
   ]
  },
  {
   "cell_type": "markdown",
   "id": "c50ba891-b3f0-4272-9346-5de08d30583e",
   "metadata": {},
   "source": [
    "<div class=\"alert alert-block alert-success\"> We have coded the functions $\\theta_{I}$, $\\theta_{II}$, $r_{\\mathrm{p}}$, and $K_n$, in both pure Python and jit, in such a way that these functions are well-behaved at $\\omega = 0$. For representative type I and type II samples, at finite $\\omega = 0.001 \\: \\mathrm{Hz}$ we obtain the same $K_2$ values as obtained with prior Python code. </div>"
   ]
  },
  {
   "cell_type": "markdown",
   "id": "a6ba0a0a-9aa4-414a-a274-e121f6bd7cb5",
   "metadata": {},
   "source": [
    "# Explore vectorization\n",
    "\n",
    "We want to loop over the frequency (to compute a BDLS spectrum) or over locations (to compute the response function at various heights).  It would be nice to not have to write loops all the time. Look into the `np.vectorize` function.  \n",
    "\n",
    "In the following example, I am able to loop over a *list* of frequencies $\\omega$.  This looping would be useful in computing a BLDS spectrum.  In the function below, the `otypes=[object]` is needed because the `K_jit` function returns a `pint` object with units."
   ]
  },
  {
   "cell_type": "code",
   "execution_count": 41,
   "id": "6fecd80d-3115-42ba-b9f4-35c5fbf16166",
   "metadata": {},
   "outputs": [
    {
     "data": {
      "text/plain": [
       "array([<Quantity(2.827985797857637e+22, '1 / meter ** 3')>,\n",
       "       <Quantity(2.82798579785767e+22, '1 / meter ** 3')>], dtype=object)"
      ]
     },
     "execution_count": 41,
     "metadata": {},
     "output_type": "execute_result"
    }
   ],
   "source": [
    "# the arguments: integrand, power, sample, omega, location, isImag\n",
    "\n",
    "K_jit_vectorized = np.vectorize(K_jit, otypes=[object], excluded=['integrand','power','sample','location1','location2','isImag'])\n",
    "\n",
    "K_jit_vectorized(\n",
    "    integrand=integrand2jit, \n",
    "    power=2, \n",
    "    sample=sample2_jit, \n",
    "    omega=[0.000, 0.001],\n",
    "    location1=np.array([0, 0, 20e-9]), \n",
    "    location2=np.array([0, 0, 20e-9]), \n",
    "    isImag=False)"
   ]
  },
  {
   "cell_type": "markdown",
   "id": "88fcce82-a6c0-4201-9756-f9ec8ce125d1",
   "metadata": {},
   "source": [
    "This same approach does not enable looping over the vector `location`.  The following code fails.  I tried using the `signature` argument, but this approach failed."
   ]
  },
  {
   "cell_type": "code",
   "execution_count": 43,
   "id": "2a3bff30-6387-409a-8928-d955dc34a5c5",
   "metadata": {},
   "outputs": [],
   "source": [
    "if 0:\n",
    "    K_jit_vectorized = np.vectorize(K_jit, otypes=[object], excluded=['integrand','power','sample','omega','isImag'])\n",
    "    \n",
    "    K_jit_vectorized(\n",
    "        integrand=integrand2jit, \n",
    "        power=2, \n",
    "        sample=sample2_jit, \n",
    "        omega=0.001,\n",
    "        location1=[np.array([0, 0, 20e-9]),np.array([0, 0, 40e-9])],\n",
    "        location2=[np.array([0, 0, 20e-9]),np.array([0, 0, 40e-9])],\n",
    "        isImag=False)"
   ]
  },
  {
   "cell_type": "markdown",
   "id": "88923793-04c5-48e2-b02b-663834db2448",
   "metadata": {},
   "source": [
    "Idea: We could just use a list comprehension ..."
   ]
  },
  {
   "cell_type": "code",
   "execution_count": 44,
   "id": "784e25c2-98e8-40f3-94d4-751f28aa208c",
   "metadata": {},
   "outputs": [],
   "source": [
    "result = [K_jit(integrand2jit, 2, sample2_jit, 0.001, location, location, False)\n",
    "     for location in [np.array([0, 0, 20e-9]), np.array([0, 0, 40e-9])]]"
   ]
  },
  {
   "cell_type": "markdown",
   "id": "dd80703d-4fa0-4a63-9631-e471cf413d95",
   "metadata": {},
   "source": [
    "... and turn the resulting list into a numpy array with units using the `pint.Quantity.from_list` utility function."
   ]
  },
  {
   "cell_type": "code",
   "execution_count": 55,
   "id": "04708111-898a-4b1b-a961-6a3c66432ad4",
   "metadata": {},
   "outputs": [
    {
     "data": {
      "text/html": [
       "<table><tbody><tr><th>Magnitude</th><td style='text-align:left;'><pre>[28279.857978576696 3538.1363511929026]</pre></td></tr><tr><th>Units</th><td style='text-align:left;'>1/micrometer<sup>3</sup></td></tr></tbody></table>"
      ],
      "text/latex": [
       "$\\begin{pmatrix} & \\end{pmatrix}\\ \\frac{1}{\\mathrm{micrometer}^{3}}$"
      ],
      "text/plain": [
       "<Quantity([28279.85797858  3538.13635119], '1 / micrometer ** 3')>"
      ]
     },
     "execution_count": 55,
     "metadata": {},
     "output_type": "execute_result"
    }
   ],
   "source": [
    "pint.Quantity.from_list(result).to('1/um^3')"
   ]
  },
  {
   "cell_type": "markdown",
   "id": "425531a8-44ad-4377-943a-7d4032426dd1",
   "metadata": {},
   "source": [
    "Other ideas\n",
    "\n",
    "* `np.outer`\n",
    "* `np.nditer`"
   ]
  },
  {
   "cell_type": "markdown",
   "id": "1a25e2c0-30f6-4306-9cb3-d6f0d9686b11",
   "metadata": {},
   "source": [
    "# Check that $K_0$ over a \"metal\" is the expected image potential"
   ]
  },
  {
   "cell_type": "markdown",
   "id": "df14809a-9bea-4d3f-80bc-1120d38ee2d5",
   "metadata": {},
   "source": [
    "## Sample 1"
   ]
  },
  {
   "cell_type": "code",
   "execution_count": 46,
   "id": "d1fc1a86-48fb-486d-be0f-4a8acd68fb81",
   "metadata": {},
   "outputs": [],
   "source": [
    "sample1_metal = SampleModel1_v8a(\n",
    "    cantilever = cantilever_v8a,\n",
    "    h_s = ureg.Quantity(1e-6, 'nm'),  # not zero\n",
    "    epsilon_s = ureg.Quantity(complex(1, 0), ''),\n",
    "    sigma = ureg.Quantity(1e9, 'S/m'),\n",
    "    rho = ureg.Quantity(1e26, '1/m^3'),\n",
    "    epsilon_d = ureg.Quantity(complex(1e6, 0), ''),\n",
    "    z_r = ureg.Quantity(30, 'nm')\n",
    ")"
   ]
  },
  {
   "cell_type": "code",
   "execution_count": 47,
   "id": "204e0e69-7bfb-4a58-ada2-f6860aa3ad61",
   "metadata": {},
   "outputs": [
    {
     "name": "stdout",
     "output_type": "stream",
     "text": [
      "cantilever\n",
      "==========\n",
      "        cantilever freq =  75000.0 Hz\n",
      "                        =  471238.89803846896 rad/s\n",
      "        spring constant =  2.8 N/m\n",
      "     tip-sample voltage =  1.0 V\n",
      "                 radius =  3.5e-08 m\n",
      "        cone half angle =  20.0 degree\n",
      "            cone length =  1.0000000000000002e-06 m\n",
      "  tip-sample separation =  3.8e-08 m\n",
      "\n",
      "semiconductor\n",
      "=============\n",
      "          epsilon (real) =  1.0\n",
      "          epsilon (imag) =  0.0\n",
      "               thickness =  1e-15 m\n",
      "            conductivity =  1000000000.0 S/m\n",
      "          charge density =  1e+26 m^{{-3}}\n",
      "        reference height =  3.0000000000000004e-08 m\n",
      " \n",
      "      roll-off frequency =  1.129409067373019e+20 Hz\n",
      "    inverse Debye length =  8366306270.290836 m^{{-1}}\n",
      "            Debye length =  1.1952706101031096e-10 m\n",
      "\n",
      "dielectric\n",
      "==========\n",
      " epsilon (real) =  1000000.0\n",
      " epsilon (imag) =  0.0\n",
      "      thickness = infinite\n"
     ]
    }
   ],
   "source": [
    "sample1_jit_metal = SampleModel1Jit(**sample1_metal.args())\n",
    "sample1_jit_metal.print()"
   ]
  },
  {
   "cell_type": "markdown",
   "id": "25c70821-5ae4-4e87-bd53-b32eb705f8b0",
   "metadata": {},
   "source": [
    "Compute $K_0$ for this \"metallic\" type 1 sample."
   ]
  },
  {
   "cell_type": "code",
   "execution_count": 48,
   "id": "f5a4ad40-c802-4b49-8753-eadac49f7f8b",
   "metadata": {},
   "outputs": [
    {
     "data": {
      "text/html": [
       "48.00143564666106 1/micrometer"
      ],
      "text/latex": [
       "$48.00143564666106\\ \\frac{1}{\\mathrm{micrometer}}$"
      ],
      "text/plain": [
       "<Quantity(48.00143564666106, '1 / micrometer')>"
      ]
     },
     "execution_count": 48,
     "metadata": {},
     "output_type": "execute_result"
    }
   ],
   "source": [
    "K_I = K_jit(\n",
    "    integrand=integrand1jit, \n",
    "    power=0, \n",
    "    sample=sample1_jit_metal, \n",
    "    omega=0,\n",
    "    location1=np.array([  0,     0, 10e-9]),\n",
    "    location2=np.array([3e-9, 5e-9, 10e-9]), \n",
    "    isImag=False).to('1/um')\n",
    "\n",
    "K_I"
   ]
  },
  {
   "cell_type": "markdown",
   "id": "9773f44e-554d-48d1-97b6-b869bf806da8",
   "metadata": {},
   "source": [
    "Compute the expected unitless image potential.  We see that it agrees closely $K_0$ compute above."
   ]
  },
  {
   "cell_type": "code",
   "execution_count": 49,
   "id": "a7348470-9bf0-48a8-90ae-021d8474cf87",
   "metadata": {},
   "outputs": [
    {
     "data": {
      "text/html": [
       "48.00153607373192 1/micrometer"
      ],
      "text/latex": [
       "$48.00153607373192\\ \\frac{1}{\\mathrm{micrometer}}$"
      ],
      "text/plain": [
       "<Quantity(48.00153607373192, '1 / micrometer')>"
      ]
     },
     "execution_count": 49,
     "metadata": {},
     "output_type": "execute_result"
    }
   ],
   "source": [
    "K_image = (1/ureg.Quantity(np.sqrt(3**2 + 5**2 + 20**2),'nm')).to('1/um')\n",
    "K_image"
   ]
  },
  {
   "cell_type": "markdown",
   "id": "13b5029a-d200-4216-8bc7-98623dcb6652",
   "metadata": {},
   "source": [
    "Compare $K_0$ for type 1 metallic sample to the image potential."
   ]
  },
  {
   "cell_type": "code",
   "execution_count": 50,
   "id": "981f444d-5762-4a96-9bc0-8ce6db0f814b",
   "metadata": {},
   "outputs": [
    {
     "name": "stdout",
     "output_type": "stream",
     "text": [
      "relative error = -2.0921680676645053e-06\n"
     ]
    }
   ],
   "source": [
    "compare(K_I, K_image)"
   ]
  },
  {
   "cell_type": "markdown",
   "id": "e9c7efe6-9c9a-4294-a135-33f437b89e28",
   "metadata": {},
   "source": [
    "## Sample 2"
   ]
  },
  {
   "cell_type": "code",
   "execution_count": 51,
   "id": "2c969b5a-e420-4984-865f-0123ac119034",
   "metadata": {},
   "outputs": [],
   "source": [
    "sample2_metal = SampleModel2_v8a(\n",
    "    cantilever = cantilever_v8a,\n",
    "    epsilon_d = ureg.Quantity(complex(1, 0), ''),\n",
    "    h_d = ureg.Quantity(0, 'nm'), # can be zero\n",
    "    epsilon_s = ureg.Quantity(complex(1e6, 0), ''),\n",
    "    sigma = ureg.Quantity(1e9, 'S/m'),\n",
    "    rho = ureg.Quantity(1e26, '1/m^3'),\n",
    "    z_r = ureg.Quantity(50, 'nm')\n",
    ")"
   ]
  },
  {
   "cell_type": "code",
   "execution_count": 52,
   "id": "856c51ff-2b4b-43aa-97fa-3b987a64bb10",
   "metadata": {},
   "outputs": [
    {
     "name": "stdout",
     "output_type": "stream",
     "text": [
      "cantilever\n",
      "==========\n",
      "        cantilever freq =  75000.0 Hz\n",
      "                        =  471238.89803846896 rad/s\n",
      "        spring constant =  2.8 N/m\n",
      "     tip-sample voltage =  1.0 V\n",
      "                 radius =  3.5e-08 m\n",
      "        cone half angle =  20.0 degree\n",
      "            cone length =  1.0000000000000002e-06 m\n",
      "  tip-sample separation =  3.8e-08 m\n",
      "\n",
      "dielectric\n",
      "==========\n",
      " epsilon (real) =  1.0\n",
      " epsilon (imag) =  0.0\n",
      "      thickness =  0.0 m\n",
      "\n",
      "semiconductor\n",
      "=============\n",
      "          epsilon (real) =  1000000.0\n",
      "          epsilon (imag) =  0.0\n",
      "               thickness = infinite\n",
      "            conductivity =  1000000000.0 S/m\n",
      "          charge density =  1e+26 m^{{-3}}\n",
      "        reference height =  5.0000000000000004e-08 m\n",
      " \n",
      "      roll-off frequency =  1.129409067373019e+20 Hz\n",
      "    inverse Debye length =  8366306270.290836 m^{{-1}}\n",
      "            Debye length =  1.1952706101031096e-10 m\n"
     ]
    }
   ],
   "source": [
    "sample2_jit_metal = SampleModel2Jit(**sample2_metal.args())\n",
    "sample2_jit_metal.print()"
   ]
  },
  {
   "cell_type": "markdown",
   "id": "b3d7fbc4-5e99-4948-9fcc-1ff00451ef56",
   "metadata": {},
   "source": [
    "Compute $K_0$ for this \"metallic\" type 2 sample."
   ]
  },
  {
   "cell_type": "code",
   "execution_count": 53,
   "id": "c94482a3-b7b3-434c-af56-04aebc0a8b98",
   "metadata": {},
   "outputs": [
    {
     "data": {
      "text/html": [
       "48.00145327358575 1/micrometer"
      ],
      "text/latex": [
       "$48.00145327358575\\ \\frac{1}{\\mathrm{micrometer}}$"
      ],
      "text/plain": [
       "<Quantity(48.00145327358575, '1 / micrometer')>"
      ]
     },
     "execution_count": 53,
     "metadata": {},
     "output_type": "execute_result"
    }
   ],
   "source": [
    "K_II = K_jit(\n",
    "    integrand=integrand2jit, \n",
    "    power=0, \n",
    "    sample=sample2_jit_metal, \n",
    "    omega=0,\n",
    "    location1=np.array([  0,     0, 10e-9]),\n",
    "    location2=np.array([3e-9, 5e-9, 10e-9]), \n",
    "    isImag=False).to('1/um')\n",
    "\n",
    "K_II"
   ]
  },
  {
   "cell_type": "markdown",
   "id": "e279ede6-0cf3-4942-872b-9bb73166ef0e",
   "metadata": {},
   "source": [
    "Compare $K_0$ for type 2 metallic sample to the image potential."
   ]
  },
  {
   "cell_type": "code",
   "execution_count": 54,
   "id": "8c0af171-1f4c-4f1e-bea7-ff8ead81ffa7",
   "metadata": {},
   "outputs": [
    {
     "name": "stdout",
     "output_type": "stream",
     "text": [
      "relative error = -1.7249508196157093e-06\n"
     ]
    }
   ],
   "source": [
    "compare(K_II, K_image)"
   ]
  },
  {
   "cell_type": "markdown",
   "id": "791bd0a1-de76-4075-b386-acee829dc8aa",
   "metadata": {},
   "source": [
    "### Conclusion"
   ]
  },
  {
   "cell_type": "markdown",
   "id": "15237fa9-ff26-4d93-bdaf-a4a15ccc4ec1",
   "metadata": {},
   "source": [
    "<div class=\"alert alert-block alert-success\"> Over a metallic Type 1 and Type 2 sample, $K_0$ agrees with the expected image potential to within a few parts per million. </div>"
   ]
  },
  {
   "cell_type": "markdown",
   "id": "f8743ad1-7024-4ebc-9957-b7edbc998a76",
   "metadata": {},
   "source": [
    "::: {.content-hidden when-format=\"html\"}\n",
    "\n",
    "# Formatting notes\n",
    "\n",
    "The header at the top of this file is for creating a nicely-formatted `.html` document using the program `quarto` ([link](https://quarto.org/)).  To create nicely-formated `.html`versions of this notebook, run `quarto` from the command line as follows\n",
    "\n",
    "    quarto render dissipation-theory--Study-44.ipynb && open dissipation-theory--Study-44.html\n",
    "\n",
    "Other useful information about this notebook:\n",
    "\n",
    "- Filename: `dissipation-theory--Study-44.ipynb`\n",
    "- Continued from: `dissipation-theory--Study-43.ipynb`\n",
    "- Continued to: ---\n",
    "\n",
    ":::"
   ]
  },
  {
   "cell_type": "code",
   "execution_count": null,
   "id": "8c42a2da-d234-4913-a34d-182a41dab8d8",
   "metadata": {},
   "outputs": [],
   "source": []
  },
  {
   "cell_type": "code",
   "execution_count": null,
   "id": "716dc669-c43e-406d-9fed-87a644a371c9",
   "metadata": {},
   "outputs": [],
   "source": []
  }
 ],
 "metadata": {
  "kernelspec": {
   "display_name": "dissipationtheory",
   "language": "python",
   "name": "dissipationtheory"
  },
  "language_info": {
   "codemirror_mode": {
    "name": "ipython",
    "version": 3
   },
   "file_extension": ".py",
   "mimetype": "text/x-python",
   "name": "python",
   "nbconvert_exporter": "python",
   "pygments_lexer": "ipython3",
   "version": "3.10.2"
  },
  "toc": {
   "base_numbering": 1,
   "nav_menu": {},
   "number_sections": true,
   "sideBar": true,
   "skip_h1_title": false,
   "title_cell": "Table of Contents",
   "title_sidebar": "Contents",
   "toc_cell": false,
   "toc_position": {},
   "toc_section_display": true,
   "toc_window_display": false
  }
 },
 "nbformat": 4,
 "nbformat_minor": 5
}
