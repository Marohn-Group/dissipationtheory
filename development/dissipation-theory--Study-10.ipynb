{
 "cells": [
  {
   "cell_type": "markdown",
   "id": "189d8006-9694-41b4-866e-c28027944f5e",
   "metadata": {},
   "source": [
    "* Name: `dissipation-theory--Study-10.ipynb`\n",
    "* Author: John A. Marohn\n",
    "* Date: 2023-10-09 (reconstructed 2023-10-31)\n",
    "* Continued from: `dissipation-theory--Study-9.ipynb`\n",
    "* Continued to: --\n",
    "* Summary: Plot the friction $\\gamma_{\\perp}$ versus height $h$ expected for a thin organic semiconductor sample backed by a metal."
   ]
  },
  {
   "cell_type": "markdown",
   "id": "b79a3e15-cd0e-4933-aa1f-87a25e1f77ab",
   "metadata": {},
   "source": [
    "# Preliminaries"
   ]
  },
  {
   "cell_type": "code",
   "execution_count": 1,
   "id": "35dd79d2-78f6-4f34-93ff-0f285d0451cd",
   "metadata": {},
   "outputs": [],
   "source": [
    "from dissipationtheory.constants import ureg, qe\n",
    "from dissipationtheory.dissipation import CantileverModelJit, SampleModel1Jit\n",
    "from dissipationtheory.dissipation import theta1norm_jit, gamma_perpendicular_jit, gamma_perpendicular_approx"
   ]
  },
  {
   "cell_type": "code",
   "execution_count": 2,
   "id": "94aef0cb-133b-48dd-8559-7d92b4d583dd",
   "metadata": {},
   "outputs": [],
   "source": [
    "import pandas as pd\n",
    "import numpy as np\n",
    "import matplotlib.pyplot as plt\n",
    "from matplotlib.legend_handler import HandlerTuple"
   ]
  },
  {
   "cell_type": "code",
   "execution_count": 3,
   "id": "22cfdb4a-241f-4ffe-8c9d-e220f2de2b33",
   "metadata": {},
   "outputs": [],
   "source": [
    "THIS = 'dissipation-theory--Study-10'"
   ]
  },
  {
   "cell_type": "markdown",
   "id": "c7eed573-b936-4b3a-adda-480c9f1d88bd",
   "metadata": {},
   "source": [
    "# Study A"
   ]
  },
  {
   "cell_type": "markdown",
   "id": "19d09a00-4251-4f21-ae9b-f77999c6addb",
   "metadata": {},
   "source": [
    "Consider a semiconductor sample with\n",
    "* thickness $h_{\\mathrm{s}} = 100 \\: \\mathrm{nm}$\n",
    "* complex relative dielectric constant $\\epsilon_{\\mathrm{s}} = 3.4 - 0.1 j$\n",
    "* charge mobility $\\mu = 10^{-4} \\: \\mathrm{cm}^2 \\: \\mathrm{V}^{-1} \\mathrm{s}^{-1}$\n",
    "  \n",
    "and a cantilever with\n",
    "* resonance frequency $f_{\\mathrm{c}} = 62 \\: \\mathrm{kHz}$\n",
    "* tip voltage $V_{\\mathrm{ts}} = 3 \\: \\mathrm{V}$\n",
    "* radius $r = 30 \\: \\mathrm{nm}$\n",
    "* tip-sample separation $h = 100 \\: \\mathrm{nm}$\n",
    "\n",
    "The semiconductor is backed by a metal, which we will model as a dielectric with relative dielectric constant $\\epsilon_{\\mathrm{d}} = 10^{6}$.   \n",
    "\n",
    "Use Lekkala and Loring's `Model 1` to compute the perpendicular friction $\\gamma_{\\perp}$ versus charge density $\\rho$.  Plot $\\gamma_{\\perp}$ *vs.* $\\rho$ and then versus conductivity $\\sigma = e \\mu \\rho$."
   ]
  },
  {
   "cell_type": "code",
   "execution_count": 25,
   "id": "63d77219-58d4-42ae-ad4f-b7e9209da3af",
   "metadata": {},
   "outputs": [],
   "source": [
    "hs = ureg.Quantity(100, 'nanometer')\n",
    "mu = ureg.Quantity(1e-4, 'cm^2/(s V)')\n",
    "\n",
    "fc = ureg.Quantity(62, 'kHz')\n",
    "Vts = ureg.Quantity(3, 'volt')\n",
    "r = ureg.Quantity(30, 'nanometer')\n",
    "d = ureg.Quantity(100, 'nanometer')"
   ]
  },
  {
   "cell_type": "code",
   "execution_count": 26,
   "id": "53eeab3d-014d-492c-8804-be2a6dba1bb9",
   "metadata": {},
   "outputs": [],
   "source": [
    "sample1_jit = SampleModel1Jit(\n",
    "    cantilever=CantileverModelJit(\n",
    "        fc.to('Hz').magnitude, \n",
    "        Vts.to('V').magnitude,  \n",
    "        r.to('m').magnitude, \n",
    "        d.to('m').magnitude), \n",
    "    epsilon_s=complex(3.4, -0.10),\n",
    "    h_s=hs.to('m').magnitude,\n",
    "    mu=mu.to('m^2/(s V)').magnitude,\n",
    "    rho=1e21,\n",
    "    epsilon_d=complex(1.0e6, 0.),\n",
    "    z_r=d.to('m').magnitude)"
   ]
  },
  {
   "cell_type": "markdown",
   "id": "4fe9511b-efd5-41ce-9372-cd9935cac105",
   "metadata": {},
   "source": [
    "Create an array of charge density $\\rho$ to loop over.  Create a corresponding array of conductivity $\\sigma = e \\mu \\rho$."
   ]
  },
  {
   "cell_type": "code",
   "execution_count": 19,
   "id": "5a393760-2a71-4a48-b49b-c0a7ded6d1c7",
   "metadata": {},
   "outputs": [],
   "source": [
    "rho = ureg.Quantity(np.logspace(start=17, stop=27, num=50), '1/m^3')"
   ]
  },
  {
   "cell_type": "code",
   "execution_count": 20,
   "id": "de669291-0649-4163-9f84-03b00d51f6b9",
   "metadata": {},
   "outputs": [],
   "source": [
    "sigma = (qe * mu * rho).to('1/(ohm m)')"
   ]
  },
  {
   "cell_type": "markdown",
   "id": "b573c38a-a67f-4669-88fe-245483207125",
   "metadata": {},
   "source": [
    "Loop over the conductivities and compute the perpendicular friction."
   ]
  },
  {
   "cell_type": "code",
   "execution_count": 21,
   "id": "f03939e0-4cd6-4fb9-8467-ae9b6d0a1784",
   "metadata": {},
   "outputs": [],
   "source": [
    "result1 = {\n",
    "    'rho': rho,\n",
    "    'sigma': sigma,\n",
    "    'gamma': ureg.Quantity(np.zeros_like(rho), 'pN s/m')\n",
    "}\n",
    "\n",
    "for index, rho_ in enumerate(rho):\n",
    "\n",
    "        sample1_jit.rho = rho_.to('1/m^3').magnitude\n",
    "        result1['gamma'][index] = gamma_perpendicular_jit(theta1norm_jit, sample1_jit).to('pN s/m')"
   ]
  },
  {
   "cell_type": "markdown",
   "id": "e3fc6372-43bf-4640-b5fb-4499d3bdef61",
   "metadata": {},
   "source": [
    "Plot the friction versus charge density."
   ]
  },
  {
   "cell_type": "code",
   "execution_count": 22,
   "id": "ea312d8b-02a4-45a5-b87c-6ce5e09b7ff5",
   "metadata": {},
   "outputs": [
    {
     "data": {
      "image/png": "[encoded data removed]",
      "text/plain": [
       "<Figure size 325x275 with 1 Axes>"
      ]
     },
     "metadata": {},
     "output_type": "display_data"
    }
   ],
   "source": [
    "fig = plt.figure(figsize=(3.25, 2.75))\n",
    "plt.loglog(\n",
    "    result1['rho'].to('1/m^3').magnitude,\n",
    "    result1['gamma'].to('pN s/m').magnitude,\n",
    "    '.-')\n",
    "plt.xlabel(r'charge density $\\rho$ [m$^{-3}$]')  # need a raw string here because \\r is the special carriage return character\n",
    "plt.ylabel('friction $\\gamma_{\\perp}$ [pN s/m]')\n",
    "plt.tight_layout()\n",
    "\n",
    "plt.savefig(THIS + '--Fig-1a.png', dpi=300)\n",
    "plt.savefig(THIS + '--Fig-1a.pdf')\n",
    "\n",
    "plt.show()"
   ]
  },
  {
   "cell_type": "markdown",
   "id": "098bc25c-abc3-44f3-93b7-abb9ccf17dff",
   "metadata": {},
   "source": [
    "Now plot the friction versus conductivity instead."
   ]
  },
  {
   "cell_type": "code",
   "execution_count": 23,
   "id": "8297946d-688a-4672-8852-51064fc66584",
   "metadata": {},
   "outputs": [
    {
     "data": {
      "image/png": "[encoded data removed]",
      "text/plain": [
       "<Figure size 325x275 with 1 Axes>"
      ]
     },
     "metadata": {},
     "output_type": "display_data"
    }
   ],
   "source": [
    "fig = plt.figure(figsize=(3.25, 2.75))\n",
    "plt.loglog(\n",
    "    result1['sigma'].to('(millisiemens/m)').magnitude,\n",
    "    result1['gamma'].to('pN s/m').magnitude,\n",
    "    '.-')\n",
    "plt.xlabel('conductivity $\\sigma$ [mS/m]')\n",
    "plt.ylabel('friction $\\gamma_{\\perp}$ [pN s/m]')\n",
    "plt.tight_layout()\n",
    "\n",
    "plt.savefig(THIS + '--Fig-1b.png', dpi=300)\n",
    "plt.savefig(THIS + '--Fig-1b.pdf')\n",
    "\n",
    "plt.show()"
   ]
  },
  {
   "cell_type": "markdown",
   "id": "9355933e-d514-4d67-b7d4-57a7d7bf558a",
   "metadata": {},
   "source": [
    "# Study B\n",
    "\n",
    "Try to capture the Study A friction using the Dwyer model."
   ]
  },
  {
   "cell_type": "code",
   "execution_count": 44,
   "id": "1313ad08-efbc-4009-9c78-2c0d76432b79",
   "metadata": {},
   "outputs": [],
   "source": [
    "from dissipationtheory.capacitance import CsphereOverSemi\n",
    "from dissipationtheory.constants import epsilon0"
   ]
  },
  {
   "cell_type": "code",
   "execution_count": 45,
   "id": "e366121f-19db-4cb1-8500-bf691d1ac0f9",
   "metadata": {},
   "outputs": [],
   "source": [
    "d_array = ureg.Quantity(np.array([d.to('m').magnitude]), 'm')\n",
    "c0 = CsphereOverSemi(0, d_array, r, 3.4, nterm=20)\n",
    "c1 = CsphereOverSemi(1, d_array, r, 3.4, nterm=20)"
   ]
  },
  {
   "cell_type": "code",
   "execution_count": 77,
   "id": "737baa44-1e86-46bf-9f7a-1a3a8059d637",
   "metadata": {},
   "outputs": [],
   "source": [
    "Rs = (hs /(sigma * np.pi * d**2)).to('ohm')\n",
    "Cs = ((epsilon0 * 3.4 * np.pi * d**2)/hs).to('F')\n",
    "omega = (2 * np.pi * fc).to('1/s')"
   ]
  },
  {
   "cell_type": "code",
   "execution_count": 78,
   "id": "41b4f1e1-dcac-499b-a281-43406ae4ae21",
   "metadata": {},
   "outputs": [
    {
     "data": {
      "text/html": [
       "<table><tbody><tr><th>Magnitude</th><td style='text-align:left;'><pre>[3.562344386981635e-18]</pre></td></tr><tr><th>Units</th><td style='text-align:left;'>farad</td></tr></tbody></table>"
      ],
      "text/latex": [
       "$\\begin{pmatrix}3.562344386981635\\times 10^{-18}\\end{pmatrix}\\ \\mathrm{farad}$"
      ],
      "text/plain": [
       "array([3.56234439e-18]) <Unit('farad')>"
      ]
     },
     "execution_count": 78,
     "metadata": {},
     "output_type": "execute_result"
    }
   ],
   "source": [
    "c0.to('F')"
   ]
  },
  {
   "cell_type": "code",
   "execution_count": 79,
   "id": "4594daef-7627-4f3e-bbb6-ed50ce09db23",
   "metadata": {},
   "outputs": [
    {
     "data": {
      "text/html": [
       "9.457525471306901×10<sup>-18</sup> farad"
      ],
      "text/latex": [
       "$9.457525471306901\\times 10^{-18}\\ \\mathrm{farad}$"
      ],
      "text/plain": [
       "9.457525471306901e-18 <Unit('farad')>"
      ]
     },
     "execution_count": 79,
     "metadata": {},
     "output_type": "execute_result"
    }
   ],
   "source": [
    "Cs.to('F')"
   ]
  },
  {
   "cell_type": "code",
   "execution_count": 80,
   "id": "aec905d7-91e6-4f0c-b868-316ebd8a9731",
   "metadata": {},
   "outputs": [],
   "source": [
    "gamma2 = (c1**2 * Vts**2 * Rs)/(1 + (omega * Rs * (c0 + Cs))**2)"
   ]
  },
  {
   "cell_type": "code",
   "execution_count": 83,
   "id": "e970db4c-fc51-4c80-b567-35c2f2ea748c",
   "metadata": {},
   "outputs": [
    {
     "data": {
      "image/png": "[encoded data removed]",
      "text/plain": [
       "<Figure size 325x275 with 1 Axes>"
      ]
     },
     "metadata": {},
     "output_type": "display_data"
    }
   ],
   "source": [
    "fig = plt.figure(figsize=(3.25, 2.75))\n",
    "\n",
    "plt.loglog(\n",
    "    result1['sigma'].to('(millisiemens/m)').magnitude,\n",
    "    result1['gamma'].to('pN s/m').magnitude,\n",
    "    '--', label='Loring')\n",
    "\n",
    "plt.loglog(\n",
    "    sigma.to('(millisiemens/m)').magnitude,\n",
    "    gamma2.to('pN s/m').magnitude,\n",
    "    '-', label='Dwyer')\n",
    "\n",
    "plt.xlabel('conductivity $\\sigma$ [mS/m]')\n",
    "plt.ylabel('friction $\\gamma_{\\perp}$ [pN s/m]')\n",
    "plt.legend()\n",
    "plt.tight_layout()\n",
    "\n",
    "plt.savefig(THIS + '--Fig-2a.png', dpi=300)\n",
    "plt.savefig(THIS + '--Fig-2a.pdf')\n",
    "\n",
    "plt.show()"
   ]
  },
  {
   "cell_type": "code",
   "execution_count": null,
   "id": "42fec6de-8b4d-4ba2-ad5c-0a73c4715fa3",
   "metadata": {},
   "outputs": [],
   "source": []
  }
 ],
 "metadata": {
  "kernelspec": {
   "display_name": "Python 3 (ipykernel)",
   "language": "python",
   "name": "python3"
  },
  "language_info": {
   "codemirror_mode": {
    "name": "ipython",
    "version": 3
   },
   "file_extension": ".py",
   "mimetype": "text/x-python",
   "name": "python",
   "nbconvert_exporter": "python",
   "pygments_lexer": "ipython3",
   "version": "3.8.5"
  }
 },
 "nbformat": 4,
 "nbformat_minor": 5
}
