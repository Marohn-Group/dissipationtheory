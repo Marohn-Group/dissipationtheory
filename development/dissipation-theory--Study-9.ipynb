{
 "cells": [
  {
   "cell_type": "markdown",
   "id": "a240a93a-7d96-49ad-bf91-1a7882ec317d",
   "metadata": {},
   "source": [
    "* Name: `dissipation-theory--Study-9.ipynb`\n",
    "* Author: John A. Marohn\n",
    "* Date: 2023-10-03\n",
    "* Continued from: `dissipation-theory--Study-7.ipynb`\n",
    "* Continued to: `dissipation-theory--Study-10.ipynb`\n",
    "* Reproduce the friction $\\gamma_{\\perp}$ versus charge density $\\rho$ plots in Lekkala2013 Figure 9(b) using functions in `dissipationtheory.dissipation.py`.  Add in a low-density approximation."
   ]
  },
  {
   "cell_type": "markdown",
   "id": "d7bf3fb4-6702-41a8-bcb9-e83e944663a5",
   "metadata": {},
   "source": [
    "# Preliminaries"
   ]
  },
  {
   "cell_type": "code",
   "execution_count": 1,
   "id": "6118480d-07f3-4be0-b04b-c5ca3c842d63",
   "metadata": {},
   "outputs": [],
   "source": [
    "from dissipationtheory.constants import ureg\n",
    "from dissipationtheory.dissipation import CantileverModel, SampleModel2\n",
    "from dissipationtheory.dissipation import CantileverModelJit, SampleModel2Jit\n",
    "from dissipationtheory.dissipation import theta2norm_jit, gamma_perpendicular_jit, gamma_perpendicular_approx"
   ]
  },
  {
   "cell_type": "code",
   "execution_count": 2,
   "id": "c69a4b29-0cda-47ff-a5cf-b1ae13b04c72",
   "metadata": {},
   "outputs": [],
   "source": [
    "import pandas as pd\n",
    "import numpy as np\n",
    "import matplotlib.pyplot as plt\n",
    "from matplotlib.legend_handler import HandlerTuple"
   ]
  },
  {
   "cell_type": "code",
   "execution_count": 3,
   "id": "70e5c06a-cf28-4806-bb39-aff4590a1b92",
   "metadata": {},
   "outputs": [],
   "source": [
    "THIS = 'dissipation-theory--Study-9'"
   ]
  },
  {
   "cell_type": "markdown",
   "id": "284c6b93-fef3-49e1-9bc7-14c7e296f2e7",
   "metadata": {},
   "source": [
    "# Run simulations"
   ]
  },
  {
   "cell_type": "markdown",
   "id": "0c73b8ee-6b64-4af5-b0e2-00d3a9165fb6",
   "metadata": {},
   "source": [
    "We need a \"jit\" version of the sample for fast numerical calculations and a \"regular\" version of the sample for the approximation."
   ]
  },
  {
   "cell_type": "code",
   "execution_count": 4,
   "id": "50b3d3c2-025d-4234-8573-b03777d466f4",
   "metadata": {},
   "outputs": [],
   "source": [
    "sample2_jit = SampleModel2Jit(\n",
    "    cantilever=CantileverModelJit(81.0e3, 3.,  40E-9, 100E-9),\n",
    "    epsilon_d=complex(3.4, -0.05),\n",
    "    h_d=0,\n",
    "    epsilon_s=complex(3.4, -0.05),\n",
    "    mu=2.7E-10,\n",
    "    rho=1e21,\n",
    "    z_r=100E-9)"
   ]
  },
  {
   "cell_type": "code",
   "execution_count": 5,
   "id": "bf868f81-236e-4220-9bcf-d75903e448bc",
   "metadata": {},
   "outputs": [],
   "source": [
    "sample2 = SampleModel2(\n",
    "    cantilever = CantileverModel(\n",
    "        f_c = ureg.Quantity(81, 'kHz'), \n",
    "        V_ts = ureg.Quantity(3, 'V'), \n",
    "        R = ureg.Quantity(40, 'nm'), \n",
    "        d = ureg.Quantity(100, 'nm')),\n",
    "    h_d = ureg.Quantity(0, 'nm'),\n",
    "    epsilon_d = ureg.Quantity(complex(3.4, -0.05), ''),\n",
    "    epsilon_s = ureg.Quantity(complex(3.4, -0.05), ''),\n",
    "    mu = ureg.Quantity(2.7e-10, 'm^2/(V s)'),\n",
    "    rho = ureg.Quantity(1e21, '1/m^3'),\n",
    "    z_r = ureg.Quantity(100, 'nm')\n",
    ")"
   ]
  },
  {
   "cell_type": "markdown",
   "id": "b6ec7919-abb8-4ccd-8a60-8f45e910a715",
   "metadata": {},
   "source": [
    "Print out the two samples to make sure they are the same."
   ]
  },
  {
   "cell_type": "code",
   "execution_count": 10,
   "id": "9d8d74ba-4de2-40f8-94e0-53a9b9870c2a",
   "metadata": {},
   "outputs": [
    {
     "name": "stdout",
     "output_type": "stream",
     "text": [
      "cantilever\n",
      "==========\n",
      "   cantilever freq =  81000.0 Hz\n",
      "                   =  508938.0098815465 rad/s\n",
      "tip-sample voltage =  3.0 V\n",
      "            radius =  4e-08 m\n",
      "            height =  1e-07 m\n",
      "\n",
      "dielectric\n",
      "==========\n",
      " epsilon (real) =  3.4\n",
      " epsilon (imag) =  -0.5\n",
      "      thickness =  0.0 m\n",
      "\n",
      "semiconductor\n",
      "=============\n",
      "          epsilon (real) =  3.4\n",
      "          epsilon (imag) =  -0.5\n",
      "               thickness = infinite\n",
      "                mobility =  2.7e-10 m^2/(V s)\n",
      "      diffusion constant =  6.980039959763987e-12 m^2/s\n",
      "          charge density =  1e+27 m^{{-3}}\n",
      "        reference height =  1e-07 m\n",
      "            Debye length =  3.779777548184893e-11 m\n",
      "        diffusion length =  3.7033649406515185e-09 m\n",
      "effective epsilon (real) =  3.4\n",
      "effective epsilon (imag) =  -9600.263628316976\n"
     ]
    },
    {
     "data": {
      "text/plain": [
       "cantilever\n",
       "\n",
       "      resonance freq = 81.000 kHz\n",
       "                     = 5.089e+05 rad/s\n",
       "  tip-sample voltage = 3.000 V\n",
       "              radius = 40.000 nm\n",
       "              height = 100.000 nm\n",
       "\n",
       "dielectric\n",
       "\n",
       "  epsilon (real) = 3.400\n",
       "  epsilon (imag) = -0.500\n",
       "       thickness = 0.0 nm\n",
       "\n",
       "semiconductor\n",
       "\n",
       "             epsilon (real) = 3.400\n",
       "             epsilon (imag) = -0.500\n",
       "                  thickness = infinite\n",
       "                   mobility = 2.70e-10 m^2/(V s)\n",
       "         diffusion constant = 6.98e-12 m^2/s\n",
       "             charge density = 1.00e+27 m^{-3}\n",
       "           reference height = 100.0 nm\n",
       "               Debye length = 0.0 nm\n",
       "           diffusion length = 3.7 nm\n",
       "   effective epsilon (real) = 3.400\n",
       "   effective epsilon (imag) = -9600.264\n"
      ]
     },
     "execution_count": 10,
     "metadata": {},
     "output_type": "execute_result"
    }
   ],
   "source": [
    "sample2_jit.print()\n",
    "sample2"
   ]
  },
  {
   "cell_type": "markdown",
   "id": "376ec072-415b-4f52-b3ed-931a03ea3075",
   "metadata": {},
   "source": [
    "Loop over the charge density $\\rho$ and calculate approximate and exact answers for $\\gamma_{\\perp}$."
   ]
  },
  {
   "cell_type": "code",
   "execution_count": 12,
   "id": "706b6c1d-689e-46b8-a1ef-bf944224cc05",
   "metadata": {},
   "outputs": [],
   "source": [
    "rho1 = ureg.Quantity(np.logspace(start=17, stop=27, num=50), '1/m^3')\n",
    "\n",
    "data_sample2_jit = {}\n",
    "data_approx = {}\n",
    "\n",
    "keys = ['0.000','0.005','0.050','0.100','0.500']\n",
    "for epsilonI_ in [0.000, 0.005, 0.050, 0.100, 0.500]:\n",
    "\n",
    "    key = '{:0.3f}'.format(epsilonI_)\n",
    "\n",
    "    sample2.epsilon_d = ureg.Quantity(complex(3.4, -1 * epsilonI_), '')\n",
    "    sample2.epsilon_s = ureg.Quantity(complex(3.4, -1 * epsilonI_), '')\n",
    "    \n",
    "    rho__, gamma__ = gamma_perpendicular_approx(rho1, sample2)\n",
    "    data_approx[key] = {'rho': rho__, 'gamma': gamma__ } \n",
    "\n",
    "    sample2_jit.epsilon_d = complex(3.4, -1 * epsilonI_)\n",
    "    sample2_jit.epsilon_s = complex(3.4, -1 * epsilonI_)\n",
    "    \n",
    "    result2 = {\n",
    "        'index': np.arange(len(rho1)),\n",
    "        'rho': rho1,\n",
    "        'gamma': ureg.Quantity(np.zeros_like(rho1), 'pN s/m')\n",
    "    }\n",
    "    \n",
    "    for index, rho_ in enumerate(rho1):\n",
    "\n",
    "        sample2_jit.rho = rho_.to('1/m^3').magnitude\n",
    "        result2['gamma'][index] = gamma_perpendicular_jit(theta2norm_jit, sample2_jit).to('pN s/m')\n",
    "\n",
    "    data_sample2_jit[key] = result2"
   ]
  },
  {
   "cell_type": "markdown",
   "id": "1234149f-2e77-49ae-9e46-469b1733ce34",
   "metadata": {},
   "source": [
    "Plot the results:"
   ]
  },
  {
   "cell_type": "code",
   "execution_count": 13,
   "id": "d58dc30b-49c6-4345-bb87-8cfb6f5e7a60",
   "metadata": {},
   "outputs": [
    {
     "data": {
      "image/png": "[encoded data removed]",
      "text/plain": [
       "<Figure size 325x275 with 1 Axes>"
      ]
     },
     "metadata": {},
     "output_type": "display_data"
    }
   ],
   "source": [
    "fig, ax1 = plt.subplots(1, 1, figsize=(3.25, 2.75))\n",
    "\n",
    "pA = {}\n",
    "pB = {}\n",
    "\n",
    "for index, key, c in zip(np.arange(len(keys)), keys, colors):\n",
    "\n",
    "    opts = dict(markersize=3, fillstyle='none', linestyle='none', color=c)\n",
    "    \n",
    "    pA[index], = plt.loglog(data_sample2_jit[key]['rho'].to('1/m^3').magnitude,\n",
    "                            data_sample2_jit[key]['gamma'].to('pN s/m').magnitude,\n",
    "                            marker='s', **opts)\n",
    "\n",
    "    pB[index], = plt.loglog(data_approx[key]['rho'].to('1/m^3').magnitude,\n",
    "                            data_approx[key]['gamma'].to('pN s/m').magnitude,\n",
    "                            '-', color=c)\n",
    "\n",
    "plt.xlabel(r'charge density $\\rho$ [m$^{-3}$]')  # need a raw string here because \\r is the special carriage return character\n",
    "plt.ylabel('friction $\\gamma_{\\perp}$ [pN s/m]')\n",
    "ax1.legend(\n",
    "    [(pA[0], pB[0]), (pA[1], pB[1]), (pA[2], pB[2]), (pA[3], pB[3]), (pA[4], pB[4])], \n",
    "    keys, \n",
    "    handler_map={tuple: HandlerTuple(ndivide=None)},\n",
    "    frameon=False,\n",
    "    fontsize=7,\n",
    "    title_fontsize=9,\n",
    "    title='$-\\epsilon^{\\prime\\prime}$')\n",
    "\n",
    "plt.tight_layout()\n",
    "\n",
    "plt.savefig(THIS + '--Fig-2.png', dpi=300)\n",
    "plt.savefig(THIS + '--Fig-2.pdf')\n",
    "\n",
    "plt.show()"
   ]
  },
  {
   "cell_type": "markdown",
   "id": "005446c1-8f01-4347-9610-5aff0a09d29f",
   "metadata": {},
   "source": [
    "The plot compares simulations (squares) and a low-density approximation (lines) for various values of the imaginary part of the dielectric constant (legend).  The sample is similar to the one in Lekkala 2013 Figure9(b), but has $h_{\\mathrm{d}} = 0$, so the sample corresponds to a semi-infinite dielectric slab."
   ]
  },
  {
   "cell_type": "code",
   "execution_count": null,
   "id": "1fda7d77-e0f1-49e5-b969-3c442e12c6e2",
   "metadata": {},
   "outputs": [],
   "source": []
  }
 ],
 "metadata": {
  "kernelspec": {
   "display_name": "Python 3 (ipykernel)",
   "language": "python",
   "name": "python3"
  },
  "language_info": {
   "codemirror_mode": {
    "name": "ipython",
    "version": 3
   },
   "file_extension": ".py",
   "mimetype": "text/x-python",
   "name": "python",
   "nbconvert_exporter": "python",
   "pygments_lexer": "ipython3",
   "version": "3.8.5"
  }
 },
 "nbformat": 4,
 "nbformat_minor": 5
}
