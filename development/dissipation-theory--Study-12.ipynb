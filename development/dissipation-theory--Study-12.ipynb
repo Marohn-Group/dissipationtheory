{
 "cells": [
  {
   "cell_type": "markdown",
   "id": "86a0ad02-bd27-4a56-89a2-6246d99d1636",
   "metadata": {},
   "source": [
    "* Name: `dissipation-theory--Study-12.ipynb`\n",
    "* Author: John A. Marohn\n",
    "* Date: 2023-12-01\n",
    "* Continued from: `dissipation-theory--Study-11.ipynb`\n",
    "* Continued to: `dissipation-theory--Study-14.ipynb`\n",
    "* Summary: Calculate dissipation versus charge density for a representive perovskite sample."
   ]
  },
  {
   "cell_type": "markdown",
   "id": "3e4fa0ea-37ec-417e-aeb6-f4255779b70b",
   "metadata": {},
   "source": [
    "# Preliminaries"
   ]
  },
  {
   "cell_type": "code",
   "execution_count": 1,
   "id": "fa9306a5-5577-4818-8882-3e961bf9e40e",
   "metadata": {},
   "outputs": [],
   "source": [
    "import numpy as np\n",
    "import matplotlib.pyplot as plt"
   ]
  },
  {
   "cell_type": "code",
   "execution_count": 2,
   "id": "25b040f0-b40a-421c-a0da-357ed4e82ddc",
   "metadata": {},
   "outputs": [],
   "source": [
    "from dissipationtheory.constants import ureg, qe\n",
    "from dissipationtheory.dissipation import CantileverModelJit, SampleModel1Jit\n",
    "from dissipationtheory.dissipation import theta1norm_jit, gamma_perpendicular_jit, gamma_perpendicular_approx"
   ]
  },
  {
   "cell_type": "code",
   "execution_count": 3,
   "id": "32a6230b-78bc-4c1d-baec-cef545adf68b",
   "metadata": {},
   "outputs": [],
   "source": [
    "from dissipationtheory.constants import epsilon0\n",
    "from dissipationtheory.capacitance import Csphere, CsphereOverSemi"
   ]
  },
  {
   "cell_type": "code",
   "execution_count": 4,
   "id": "1ba97270-af82-4f54-a21c-c978c42c7f58",
   "metadata": {},
   "outputs": [],
   "source": [
    "from lmfit import Model, Parameters"
   ]
  },
  {
   "cell_type": "code",
   "execution_count": 24,
   "id": "4df8009f-ac13-414d-961b-f4e1a86f2963",
   "metadata": {},
   "outputs": [],
   "source": [
    "THIS = 'dissipation-theory--Study-12'"
   ]
  },
  {
   "cell_type": "markdown",
   "id": "593c1702-1b73-415f-91bd-159c84ff3936",
   "metadata": {},
   "source": [
    "# Numerical computation using Lekkala and Loring's theory"
   ]
  },
  {
   "cell_type": "markdown",
   "id": "60d84411-448a-4b75-8098-25e4af5a21a4",
   "metadata": {},
   "source": [
    "Consider a semiconductor sample with\n",
    "\n",
    "* thickness $h_{\\mathrm{s}} = 300 \\: \\mathrm{nm}$\n",
    "* complex relative dielectric constant $\\epsilon_{\\mathrm{s}} = 26 - 0. j$\n",
    "* charge density $\\rho = 1 \\times 10^{14} \\: \\mathrm{cm}^{-3}$\n",
    "* charge mobility $\\mu = 8 \\: \\mathrm{cm}^2 \\: \\mathrm{V}^{-1} \\mathrm{s}^{-1}$\n",
    "  \n",
    "and a cantilever with\n",
    "\n",
    "* resonance frequency $f_{\\mathrm{c}} = 75 \\: \\mathrm{kHz}$\n",
    "* tip voltage $V_{\\mathrm{ts}} = 1 \\: \\mathrm{V}$\n",
    "* radius $r = 30 \\: \\mathrm{nm}$\n",
    "* tip-sample separation $h = 40 \\: \\mathrm{nm}$\n",
    "\n",
    "The semiconductor is backed by a metal, which we will model as a dielectric with relative dielectric constant $\\epsilon_{\\mathrm{d}} = 10^{6}$.   \n",
    "\n",
    "Use Lekkala and Loring's `Model 1` to compute the perpendicular friction $\\gamma_{\\perp}$ versus charge density $\\rho$.  Plot $\\gamma_{\\perp}$ *vs.* $\\rho$ and then versus conductivity $\\sigma = e \\mu \\rho$."
   ]
  },
  {
   "cell_type": "code",
   "execution_count": 6,
   "id": "0b5f34f4-3b2e-42a5-99e6-6ddab6555ae4",
   "metadata": {},
   "outputs": [],
   "source": [
    "hs = ureg.Quantity(300, 'nanometer')  # estimated\n",
    "epsilons = complex(26., 0.)           # Frost2014may, assume only real part\n",
    "rho = ureg.Quantity(1e15,'cm^{-3}')   # 1e13 to 1e16 (1 to 1000 mW/cm^2)) -- Kim2018may Figure S9\n",
    "mu = ureg.Quantity(8., 'cm^2/(s V)')  # Kim2018may Figure S9\n",
    "\n",
    "fc = ureg.Quantity(75, 'kHz')       # measured\n",
    "Vts = ureg.Quantity(1, 'volt')      # measured\n",
    "r = ureg.Quantity(30, 'nanometer')  # spec\n",
    "h = ureg.Quantity(40, 'nanometer')  # measured"
   ]
  },
  {
   "cell_type": "markdown",
   "id": "e1d74cc6-c799-4c25-beae-f970e7bb47e3",
   "metadata": {},
   "source": [
    "Compute and print out the associated conductivity"
   ]
  },
  {
   "cell_type": "code",
   "execution_count": 7,
   "id": "e7a9bb88-f2f5-4b90-b945-49ec7337d7c0",
   "metadata": {},
   "outputs": [
    {
     "name": "stdout",
     "output_type": "stream",
     "text": [
      "conductivity = +1.28e-03 S/cm\n"
     ]
    }
   ],
   "source": [
    "sigma = (qe * mu * rho).to('S/m')\n",
    "print('conductivity = {:+.2e~P}'.format(sigma.to('S/cm')))"
   ]
  },
  {
   "cell_type": "markdown",
   "id": "11f42ea6-87f9-494e-86b0-1862038ec674",
   "metadata": {},
   "source": [
    "Set up the simulation for a finite-thickness sample backed by a metal."
   ]
  },
  {
   "cell_type": "code",
   "execution_count": 8,
   "id": "413a5967-3525-4d90-98d9-af3a0f0b8dbd",
   "metadata": {},
   "outputs": [],
   "source": [
    "sample1_jit = SampleModel1Jit(\n",
    "    cantilever=CantileverModelJit(\n",
    "        fc.to('Hz').magnitude, \n",
    "        Vts.to('V').magnitude,  \n",
    "        r.to('m').magnitude, \n",
    "        h.to('m').magnitude), \n",
    "    epsilon_s=epsilons,\n",
    "    h_s=hs.to('m').magnitude,\n",
    "    mu=mu.to('m^2/(s V)').magnitude,\n",
    "    rho=rho.to('m^{-3}').magnitude,\n",
    "    epsilon_d=complex(1.0e6, 0.),\n",
    "    z_r=h.to('m').magnitude)"
   ]
  },
  {
   "cell_type": "markdown",
   "id": "60bbcd9d-9c30-4c59-b741-881b941371c8",
   "metadata": {},
   "source": [
    "Simulate friction versus charge density."
   ]
  },
  {
   "cell_type": "code",
   "execution_count": 9,
   "id": "b4dea9b8-1761-493e-aed7-c336944bb411",
   "metadata": {},
   "outputs": [],
   "source": [
    "rho_= ureg.Quantity(np.logspace(start=13, stop=16, num=50), '1/cm^3')\n",
    "sigma_ = (qe * mu * rho_).to('1/(ohm m)')"
   ]
  },
  {
   "cell_type": "code",
   "execution_count": 10,
   "id": "b8a76fbf-bb5b-4d9e-bec3-bd1ff1e0d85c",
   "metadata": {},
   "outputs": [
    {
     "name": "stdout",
     "output_type": "stream",
     "text": [
      "CPU times: user 421 ms, sys: 7.19 ms, total: 428 ms\n",
      "Wall time: 432 ms\n"
     ]
    }
   ],
   "source": [
    "%%time\n",
    "result1 = {\n",
    "    'rho': rho_,\n",
    "    'sigma': sigma_,\n",
    "    'gamma': ureg.Quantity(np.zeros_like(rho_), 'pN s/m')\n",
    "}\n",
    "\n",
    "for index, rho__ in enumerate(rho_):\n",
    "\n",
    "        sample1_jit.rho = rho__.to('1/m^3').magnitude\n",
    "        result1['gamma'][index] = gamma_perpendicular_jit(theta1norm_jit, sample1_jit).to('pN s/m')"
   ]
  },
  {
   "cell_type": "markdown",
   "id": "12cbf40b-653c-4248-bac6-87c5af5e590a",
   "metadata": {},
   "source": [
    "Plot the friction versus charge density."
   ]
  },
  {
   "cell_type": "code",
   "execution_count": 11,
   "id": "6ce2aad0-cc6e-48ce-acd8-7879761b5d91",
   "metadata": {},
   "outputs": [
    {
     "data": {
      "image/png": "[encoded data removed]",
      "text/plain": [
       "<Figure size 325x275 with 1 Axes>"
      ]
     },
     "metadata": {},
     "output_type": "display_data"
    }
   ],
   "source": [
    "fig = plt.figure(figsize=(3.25, 2.75))\n",
    "plt.loglog(\n",
    "    result1['rho'].to('1/m^3').magnitude,\n",
    "    result1['gamma'].to('pN s/m').magnitude,\n",
    "    '.')\n",
    "plt.xlabel(r'charge density $\\rho$ [m$^{-3}$]')  # need a raw string here because \\r is the special carriage return character\n",
    "plt.ylabel('friction $\\gamma_{\\perp}$ [pN s/m]')\n",
    "plt.tight_layout()\n",
    "\n",
    "plt.savefig(THIS + '--Fig-1.png', dpi=300)\n",
    "plt.savefig(THIS + '--Fig-1.pdf')\n",
    "\n",
    "plt.show()"
   ]
  },
  {
   "cell_type": "markdown",
   "id": "b691b540-6b82-41e8-a617-eb526c2483fa",
   "metadata": {},
   "source": [
    "# Least-squares fitting to Dwyer's model"
   ]
  },
  {
   "cell_type": "code",
   "execution_count": 12,
   "id": "2a1640c1-370a-43ef-955e-baeb9db443a9",
   "metadata": {},
   "outputs": [],
   "source": [
    "def plotfit(xfit, yfit, ycalc, yerr, label_fit, label_calc, figname):\n",
    "\n",
    "    fig, axs = plt.subplots(\n",
    "        figsize=(3.25,4.00),\n",
    "        nrows=2,\n",
    "        sharex=True, gridspec_kw={'height_ratios': [1, 3]})\n",
    "    \n",
    "    dy = 100 * (yfit - ycalc)/yfit\n",
    "    opts = dict(marker='o', mfc='w', ms=3, capsize=2, linestyle='none')\n",
    "    \n",
    "    axs[0].errorbar(xfit, dy, yerr=yerr, **opts, color='tab:blue')\n",
    "    axs[0].set_ylabel('resid. [%]')\n",
    "    \n",
    "    axs[1].set_xscale('log')\n",
    "    axs[1].set_yscale('log')\n",
    "    axs[1].plot(xfit, ycalc, 'k-', label=label_calc)\n",
    "    axs[1].errorbar(xfit, yfit, yerr=yerr, **opts, color='tab:blue', label=label_fit)\n",
    "\n",
    "    plt.xlabel(r'charge density $\\rho$ [m$^{-3}$]')  # need a raw string here because \\r is the special carriage return character\n",
    "    plt.ylabel('friction $\\gamma_{\\perp}$ [pN s/m]')\n",
    "    plt.legend(frameon=False)\n",
    "    \n",
    "    fig.align_ylabels()\n",
    "    plt.tight_layout()\n",
    "    \n",
    "    plt.savefig(THIS + '--' + figname, dpi=300)\n",
    "    plt.savefig(THIS + '--' + figname + '.pdf')\n",
    "    \n",
    "    plt.show()"
   ]
  },
  {
   "cell_type": "markdown",
   "id": "5d3f8370-c144-4ce2-82de-0f6e7f4c7af9",
   "metadata": {},
   "source": [
    "Make an array of sample heights that is just one element long. Do this because the function `CphereOverSemi` expects an array of heights.  Compute the capacitance for a sphere over a semi-infinite semiconductor."
   ]
  },
  {
   "cell_type": "code",
   "execution_count": 13,
   "id": "20694460-1ec6-4c5f-966f-3817edc9447f",
   "metadata": {},
   "outputs": [],
   "source": [
    "h_ = ureg.Quantity(np.array([h.to('m').magnitude]), 'm') \n",
    "c0s = CsphereOverSemi(0, height=h_, radius=r, epsilon=epsilons.real, nterm=21)\n",
    "c1s = CsphereOverSemi(1, height=h_, radius=r, epsilon=epsilons.real, nterm=21)"
   ]
  },
  {
   "cell_type": "markdown",
   "id": "f6fd2a28-bfdb-456c-a606-ee65446cb91f",
   "metadata": {},
   "source": [
    "Make the ansatz that $R_{\\mathrm{s}} = 1/(k_R \\sigma_{\\mathrm{s}})$ and $C_{\\mathrm{s}} = \\epsilon_0 k_C$, where $k_R$ and $k_C$ each have units of length.  Fit the Lekkala simulation of friction $\\gamma_{\\perp}^{V}$ versus conductivity $\\sigma$ to Dwyer's functional form:\n",
    "\\begin{equation}\n",
    "\\gamma_{\\perp}^{V} = \\frac{c_1^2 k_R \\sigma}{k_R^2 \\sigma^2 + \\omega^2 \\epsilon_0^2 k_C^2}, \n",
    "\\end{equation}\n",
    "treating $k_R$ and $k_C$ as free parameters."
   ]
  },
  {
   "cell_type": "code",
   "execution_count": 14,
   "id": "5011d84a-4b92-4e37-9ff0-d017381d40e1",
   "metadata": {},
   "outputs": [],
   "source": [
    "def fitfunc(rho_unitless, kR_unitless, kC_unitless): \n",
    "    \n",
    "    rho = ureg.Quantity(rho_unitless, '1/m^3')\n",
    "    kR = ureg.Quantity(kR_unitless, 'm')\n",
    "    kC = ureg.Quantity(kC_unitless, 'm')\n",
    "    omega = 2 * np.pi * fc\n",
    "    sigma = qe * mu * rho\n",
    "    gamma = (c1s**2 * Vts**2 * sigma * kR)/(sigma**2 * kR**2 + omega**2 * (epsilon0 * kC)**2)\n",
    "    \n",
    "    return gamma.to('pN s/m').magnitude"
   ]
  },
  {
   "cell_type": "code",
   "execution_count": 15,
   "id": "68e4b04f-596f-49f7-9b8d-8424a522805b",
   "metadata": {},
   "outputs": [],
   "source": [
    "xfit = result1['rho'].to('1/m^3').magnitude\n",
    "yfit = result1['gamma'].to('pN s/m').magnitude\n",
    "yerr = 0.01 * yfit"
   ]
  },
  {
   "cell_type": "code",
   "execution_count": 16,
   "id": "1a3d617c-5114-4e29-b01e-fcd03ace673d",
   "metadata": {},
   "outputs": [],
   "source": [
    "gmodel = Model(fitfunc)\n",
    "\n",
    "pars= Parameters() \n",
    "pars.add('kR_unitless', value=1e-8, min=0)\n",
    "pars.add('kC_unitless', value=1e-8, min=0)\n",
    "\n",
    "result = gmodel.fit(yfit, rho_unitless=xfit, params=pars, weights=1/yerr)"
   ]
  },
  {
   "cell_type": "code",
   "execution_count": 17,
   "id": "6ac1a9e8-d6cf-43bb-a20a-c21e9a5a6d23",
   "metadata": {},
   "outputs": [
    {
     "data": {
      "text/html": [
       "<h2>Fit Result</h2> <p>Model: Model(fitfunc)</p> <table class=\"jp-toc-ignore\"><caption class=\"jp-toc-ignore\">Fit Statistics</caption><tr><td style='text-align:left'>fitting method</td><td style='text-align:right'>leastsq</td></tr><tr><td style='text-align:left'># function evals</td><td style='text-align:right'>88</td></tr><tr><td style='text-align:left'># data points</td><td style='text-align:right'>50</td></tr><tr><td style='text-align:left'># variables</td><td style='text-align:right'>2</td></tr><tr><td style='text-align:left'>chi-square</td><td style='text-align:right'> 25761.0621</td></tr><tr><td style='text-align:left'>reduced chi-square</td><td style='text-align:right'> 536.688795</td></tr><tr><td style='text-align:left'>Akaike info crit.</td><td style='text-align:right'> 316.229820</td></tr><tr><td style='text-align:left'>Bayesian info crit.</td><td style='text-align:right'> 320.053866</td></tr><tr><td style='text-align:left'>R-squared</td><td style='text-align:right'>-4.7704e+09</td></tr></table><table class=\"jp-toc-ignore\"><caption>Parameters</caption><tr><th style='text-align:left'>name</th><th style='text-align:left'>value</th><th style='text-align:left'>standard error</th><th style='text-align:left'>relative error</th><th style='text-align:left'>initial value</th><th style='text-align:left'>min</th><th style='text-align:left'>max</th><th style='text-align:right'>vary</th></tr><tr><td style='text-align:left'>kR_unitless</td><td style='text-align:left'> 7.1198e-07</td><td style='text-align:left'> 5.3664e-08</td><td style='text-align:left'>(7.54%)</td><td style='text-align:left'>1e-08</td><td style='text-align:left'> 0.00000000</td><td style='text-align:left'>        inf</td><td style='text-align:right'>True</td></tr><tr><td style='text-align:left'>kC_unitless</td><td style='text-align:left'> 0.02247441</td><td style='text-align:left'> 8.5424e-04</td><td style='text-align:left'>(3.80%)</td><td style='text-align:left'>1e-08</td><td style='text-align:left'> 0.00000000</td><td style='text-align:left'>        inf</td><td style='text-align:right'>True</td></tr></table><table class=\"jp-toc-ignore\"><caption>Correlations (unreported values are < 0.100)</caption><tr><th style='text-align:left'>Parameter1</th><th style='text-align:left'>Parameter 2</th><th style='text-align:right'>Correlation</th></tr><tr><td style='text-align:left'>kR_unitless</td><td style='text-align:left'>kC_unitless</td><td style='text-align:right'>+0.8115</td></tr></table>"
      ],
      "text/plain": [
       "<lmfit.model.ModelResult at 0x12465eb50>"
      ]
     },
     "execution_count": 17,
     "metadata": {},
     "output_type": "execute_result"
    }
   ],
   "source": [
    "result"
   ]
  },
  {
   "cell_type": "code",
   "execution_count": 18,
   "id": "aa623f78-d46f-4560-b4aa-c2ab78445d00",
   "metadata": {},
   "outputs": [
    {
     "data": {
      "image/png": "[encoded data removed]",
      "text/plain": [
       "<Figure size 325x400 with 2 Axes>"
      ]
     },
     "metadata": {},
     "output_type": "display_data"
    }
   ],
   "source": [
    "plotfit(xfit, yfit, result.best_fit, yerr, 'Lekkala exact calc', 'fit to Dwyer', 'Fig-2')"
   ]
  },
  {
   "cell_type": "markdown",
   "id": "67db6c82-8635-4901-8780-593e21fbb8a4",
   "metadata": {},
   "source": [
    "Compute the estimated "
   ]
  },
  {
   "cell_type": "code",
   "execution_count": 19,
   "id": "d33c2c7d-08bc-4dd3-9f5e-db5a1b2a8dcc",
   "metadata": {},
   "outputs": [],
   "source": [
    "kR_calc = np.pi * (h + r)**2 / hs \n",
    "kR_fit = ureg.Quantity(result.best_values['kR_unitless'],'m')\n",
    "kC_fit = ureg.Quantity(result.best_values['kC_unitless'],'m')"
   ]
  },
  {
   "cell_type": "code",
   "execution_count": 20,
   "id": "74f347e4-6283-4f40-86a6-acaa99fd39f9",
   "metadata": {},
   "outputs": [
    {
     "name": "stdout",
     "output_type": "stream",
     "text": [
      "kR calc =  51 nm\n",
      "kR fit  = 712 nm\n"
     ]
    }
   ],
   "source": [
    "print('kR calc = {:3.0f} nm'.format(kR_calc.to('nm').magnitude)) \n",
    "print('kR fit  = {:3.0f} nm'.format(kR_fit.to('nm').magnitude)) "
   ]
  },
  {
   "cell_type": "code",
   "execution_count": 21,
   "id": "3aa90647-ca8c-4f6c-bb2b-2b93750a394e",
   "metadata": {},
   "outputs": [
    {
     "name": "stdout",
     "output_type": "stream",
     "text": [
      "kC fit  = 2.2e-02 m\n"
     ]
    }
   ],
   "source": [
    "print('kC fit  = {:3.1e} m'.format(kC_fit.to('m').magnitude)) "
   ]
  },
  {
   "cell_type": "code",
   "execution_count": 22,
   "id": "43aec653-a59f-4817-81a3-b6f854112378",
   "metadata": {},
   "outputs": [],
   "source": [
    "C_fit = epsilon0 * ureg.Quantity(result.best_values['kC_unitless'],'m')"
   ]
  },
  {
   "cell_type": "code",
   "execution_count": 23,
   "id": "a17d7bd8-92cf-485f-bf1c-cb3a615f623f",
   "metadata": {},
   "outputs": [
    {
     "name": "stdout",
     "output_type": "stream",
     "text": [
      "C tip = 4.2e-18 F\n",
      "C fit = 2.0e-13 F\n"
     ]
    }
   ],
   "source": [
    "print('C tip = {:3.1e} F'.format(c0s[0].to('F').magnitude)) \n",
    "print('C fit = {:3.1e} F'.format(C_fit.to('F').magnitude)) "
   ]
  },
  {
   "cell_type": "code",
   "execution_count": null,
   "id": "e5745c55-05ef-4e8b-8394-fc9feb5c9a79",
   "metadata": {},
   "outputs": [],
   "source": []
  }
 ],
 "metadata": {
  "kernelspec": {
   "display_name": "dissipationtheory",
   "language": "python",
   "name": "dissipationtheory"
  },
  "language_info": {
   "codemirror_mode": {
    "name": "ipython",
    "version": 3
   },
   "file_extension": ".py",
   "mimetype": "text/x-python",
   "name": "python",
   "nbconvert_exporter": "python",
   "pygments_lexer": "ipython3",
   "version": "3.8.5"
  }
 },
 "nbformat": 4,
 "nbformat_minor": 5
}
