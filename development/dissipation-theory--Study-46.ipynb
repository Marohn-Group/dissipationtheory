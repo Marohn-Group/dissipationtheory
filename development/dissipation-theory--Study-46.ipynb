{
 "cells": [
  {
   "cell_type": "raw",
   "id": "96104fa6-e76b-4c47-b606-85073723831a",
   "metadata": {},
   "source": [
    "---\n",
    "title: Develop code for a point probe of finite size\n",
    "author: \"John A. Marohn\"\n",
    "date: today\n",
    "abstract: Develop code for computing friction, $\\gamma$, and frequency shift, $\\Delta f$, for a finite-size tip.  Resources include Loring's typeset 2025-06-09 notes; Marohn's handwritten 2025-06-10, 2025-06-11, 2025-06-12, and 2025-06-14 notes; code in `capacitancefinite.py`; and code in Study 30 ([html](dissipation-theory--Study-30.html)), Study 31 ([html](dissipation-theory--Study-31.html)), Study 33 ([html](dissipation-theory--Study-33.html)), and Study 37 ([html](dissipation-theory--Study-37.html)).  See Study 41 ([html](dissipation-theory--Study-41.html)) for a compact way to loop over material parameters and generate a composite figure with a legend.  Here I compute the capacitance (and associated derivatives) $C_0$, $C_1$, and $C_2$ of a sphere over a metal ground plane at various heights using the Xu method and the formalism developed in the above notes.  The resulting code is much more compact and readable than previously developed code in `capacitancefinite.py`.  The calculated capacitance and capacitance derivatives show excellent agreement with analytical series, except for $C_2$ at large tip-sample separation.  I suspect the problem is that the reference distance of 1 nm is too small, leading to roundoff error.  Examine this hypothesis in a subsequent notebook.\n",
    "toc: true\n",
    "number-sections: true\n",
    "highlight-style: pygments\n",
    "embed-resources: true\n",
    "dpi: 300\n",
    "format:\n",
    "    html:\n",
    "        html-math-method:\n",
    "          method: mathjax\n",
    "          url: \"https://cdn.jsdelivr.net/npm/mathjax@3/es5/tex-mml-chtml.js\"\n",
    "        code-fold: true\n",
    "        code-tools: true\n",
    "jupyter: python3\n",
    "---"
   ]
  },
  {
   "cell_type": "markdown",
   "id": "1c513b5c-ab72-411f-a06b-cb62df8c3f77",
   "metadata": {},
   "source": [
    "# Information\n",
    "\n",
    "- Filename: `dissipation-theory--Study-46.ipynb`\n",
    "- Continued from: `dissipation-theory--Study-45.ipynb`\n",
    "- Continued to: `dissipation-theory--Study-47.ipynb`"
   ]
  },
  {
   "cell_type": "markdown",
   "id": "14b44685-bce2-4c31-83e8-3a2149fb9fa5",
   "metadata": {},
   "source": [
    "# Preliminaries"
   ]
  },
  {
   "cell_type": "code",
   "execution_count": 1,
   "id": "52b82233-3d82-432b-ace9-d47e41d6e883",
   "metadata": {},
   "outputs": [],
   "source": [
    "import numpy as np\n",
    "import matplotlib.pylab as plt\n",
    "from dissipationtheory.constants import ureg, epsilon0, qe"
   ]
  },
  {
   "cell_type": "code",
   "execution_count": 2,
   "id": "8a7fca45-0c44-439e-aeda-b77849b2d487",
   "metadata": {},
   "outputs": [],
   "source": [
    "THIS = 'dissipation-theory--Study-46--'\n",
    "figs = {}"
   ]
  },
  {
   "cell_type": "markdown",
   "id": "458ff3b3-add3-4bbc-bbbe-82bd3aed536b",
   "metadata": {},
   "source": [
    "# Sphere capacitance computed by hand"
   ]
  },
  {
   "cell_type": "markdown",
   "id": "96e02506-10ad-45ec-8409-27d792700fc4",
   "metadata": {},
   "source": [
    "## Image-charge and voltage-test points"
   ]
  },
  {
   "cell_type": "markdown",
   "id": "5cc11981-da37-468b-9523-1c64d40a6f20",
   "metadata": {},
   "source": [
    "Copy, and lightly edit, the code from `capacitancefinite.py` for generating the image-charge points and voltage-test points for a spherical tip.  The code editing it to bring the variable names into better alignment with my and Roger Loring's notes."
   ]
  },
  {
   "cell_type": "code",
   "execution_count": 3,
   "id": "2d2aaef2-efe5-42de-ac13-769b27b3ff62",
   "metadata": {},
   "outputs": [],
   "source": [
    "class twodimCobject():\n",
    "\n",
    "    def addsphere(self, r, h, N, M):\n",
    "        \"\"\"Model a sphere of radius $r$ above a ground plane, with a tip-sample\n",
    "        separation of $h$.  Create image-charge points $r_j$ and voltage-test \n",
    "        points $r_k$.  The $N$ image-charge points are placed along a vertical\n",
    "        line extending from $h + 0.1 r$ to $h + 1.90 r$. The $M$ voltage-test \n",
    "        points are located uniformly around the sphere, starting at the south \n",
    "        pole, $\\theta = -\\pi/2$, and rotating counter clockwise. Initialize the\n",
    "        values of the image charges at 1.0.  Creates two arrays: self.rk,\n",
    "        the voltage-test points, and self.rj, the image-charge points.\n",
    "        \"\"\"\n",
    "\n",
    "        # convert to nm and strip units\n",
    "        h = h.to('nm').magnitude\n",
    "        r = r.to('nm').magnitude\n",
    "\n",
    "        # charge locations\n",
    "        delta_array = np.linspace(start=-0.90, stop=0.90, endpoint=True, num=N)\n",
    "        self.rj = np.array([[0, 0, h + r + r * delta] for delta in delta_array])\n",
    "\n",
    "        # voltage-test locations\n",
    "        theta_array = np.linspace(start=-np.pi/2, stop=3*np.pi/2, endpoint=False, num=M)\n",
    "        self.rk = np.array([[r * np.cos(theta), 0, h + r + r * np.sin(theta)] for theta in theta_array])\n",
    "        \n",
    "        # save these\n",
    "        self.info = {'type': 'sphere', 'r': r, 'h': h, 'N': N, 'M': M }\n",
    "        self.title1 = f'sphere, $r$ = {r:0.1f} nm, $h$ = {h:0.1f} nm, $N$ = {N:d} image charges, $M$ = {M:d} test points'\n",
    "        self.title2 = ''\n",
    "\n",
    "        # initialize the results, useful for plotting\n",
    "        self.results = {\n",
    "            'alpha': 0, \n",
    "            'q': np.ones(N),\n",
    "            'S': np.ones(N),\n",
    "            'Sinv': np.ones(N),\n",
    "            'cn': 0, \n",
    "            'V': np.zeros(M)}        \n",
    "\n",
    "    def plot(self, N=0, M=0):\n",
    "        \"\"\"Plot, from left to right, (a) the voltage test points and the computed \n",
    "        image charges, (b) the relative voltage error around the object in parts per\n",
    "        million, (c) image charge value versus position, and (d) singular values \n",
    "        for the response-function matrix.\"\"\"\n",
    "\n",
    "        if N == 0:\n",
    "            N = self.info['N']\n",
    "\n",
    "        if M == 0:\n",
    "            M = self.info['M']\n",
    "        \n",
    "        fig, (ax1, ax2, ax3, ax4) = plt.subplots(1, 4, figsize=(8.00, 2.5))\n",
    "        \n",
    "        fig.suptitle(self.title1 + '\\n' + self.title2, fontsize=10)\n",
    "    \n",
    "        cmap = plt.get_cmap('RdBu')\n",
    "        ax1.scatter(self.rj[0:N,0], self.rj[0:N,2], \n",
    "            marker='.', c=self.results['q'][0:N], cmap=cmap, \n",
    "            alpha=0.5, edgecolors='face',\n",
    "            vmin=-max(abs(self.results['q'][0:N])), \n",
    "            vmax=max(abs(self.results['q'][0:N])))\n",
    "        ax1.scatter(self.rk[0:M,0], self.rk[0:M,2], marker='.')\n",
    "        ax1.set_xlabel('$x$ [nm]')\n",
    "        ax1.set_ylabel('$z$ [nm]')\n",
    "        ax1.axis('equal')\n",
    "\n",
    "        ax2.plot(self.rj[0:N,2], self.results['q'][0:N], '.-')\n",
    "        ax2.set_xlabel('$(r_j)_{z}$ [nm]')\n",
    "        ax2.set_ylabel('$q/q_{e}$')\n",
    "        ax2.set_title(r''.format(), fontsize=10)\n",
    "\n",
    "        V = self.results['V'][0:M]\n",
    "        ax3.plot(1e6 * (V - np.ones_like(V)), '.-')\n",
    "        ax3.set_xlabel('index')\n",
    "        ax3.set_ylabel(r'$\\delta V/V_0$ [ppm]')\n",
    "        \n",
    "        ax4.plot(self.results['S'][0:N], label='$\\Lambda_k$')\n",
    "        ax4.plot(self.results['Sinv'][0:N], label=r'${\\mathrm{filt}}(\\Lambda_k^{-1})$')\n",
    "        ax4.set_xlabel('index $k$')\n",
    "        ax4.set_ylabel('SVD')\n",
    "        ax4.set_yscale('log')\n",
    "        ax4.legend(fontsize=6, frameon=False)\n",
    "        \n",
    "        fig.tight_layout()\n",
    "        \n",
    "        return fig"
   ]
  },
  {
   "cell_type": "code",
   "execution_count": 4,
   "id": "c3f484cc-bc72-4cd1-af30-fea4e427c050",
   "metadata": {},
   "outputs": [
    {
     "data": {
      "image/png": "[encoded data removed]",
      "text/plain": [
       "<Figure size 800x250 with 4 Axes>"
      ]
     },
     "metadata": {},
     "output_type": "display_data"
    }
   ],
   "source": [
    "obj = twodimCobject()\n",
    "params = {'r': ureg.Quantity(45.0, 'nm'),\n",
    "          'h': ureg.Quantity(30.0, 'nm'),\n",
    "          'N': 7, # image charges\n",
    "          'M': 14} # test points\n",
    "\n",
    "obj.addsphere(**params)\n",
    "figs['01'] = obj.plot()"
   ]
  },
  {
   "cell_type": "markdown",
   "id": "b79591f3-ee8f-4c9e-a3dc-aeb777c4d5fa",
   "metadata": {},
   "source": [
    "## Compute the capacitance for a free-standing sphere numerically"
   ]
  },
  {
   "cell_type": "markdown",
   "id": "90e2e343-7dc3-47ae-929e-95d2527f3d4d",
   "metadata": {},
   "source": [
    "The image-charge locations are `obj.rj`."
   ]
  },
  {
   "cell_type": "code",
   "execution_count": 5,
   "id": "cef84409-813c-48a6-afb9-e617bc546932",
   "metadata": {},
   "outputs": [
    {
     "data": {
      "text/plain": [
       "(7, 3)"
      ]
     },
     "execution_count": 5,
     "metadata": {},
     "output_type": "execute_result"
    }
   ],
   "source": [
    "obj.rj.shape"
   ]
  },
  {
   "cell_type": "markdown",
   "id": "c91f5f88-8700-4117-87d0-fd2f2c4bc435",
   "metadata": {},
   "source": [
    "The test-point locations are `obj.rk`."
   ]
  },
  {
   "cell_type": "code",
   "execution_count": 6,
   "id": "59b74ec4-1001-4426-a520-2f9e44eeafd9",
   "metadata": {},
   "outputs": [
    {
     "data": {
      "text/plain": [
       "(14, 3)"
      ]
     },
     "execution_count": 6,
     "metadata": {},
     "output_type": "execute_result"
    }
   ],
   "source": [
    "obj.rk.shape"
   ]
  },
  {
   "cell_type": "markdown",
   "id": "5202bc51-0e56-4bcb-812e-45d45291c47c",
   "metadata": {},
   "source": [
    "Create a function that computes the Coulomb potential Green's function, the inverse distance between two points."
   ]
  },
  {
   "cell_type": "code",
   "execution_count": 7,
   "id": "73ea6441-9d26-4c30-835a-3a736adeddd9",
   "metadata": {},
   "outputs": [],
   "source": [
    "def Kcoulomb(location1, location2):\n",
    "    return 1/np.linalg.norm(location1 - location2)"
   ]
  },
  {
   "cell_type": "markdown",
   "id": "717cdea3-2bf9-451a-942f-a539619d6cb8",
   "metadata": {},
   "source": [
    "Compute the inverse distance between two selected vectors."
   ]
  },
  {
   "cell_type": "code",
   "execution_count": 8,
   "id": "ca1cfeac-4a09-45a6-a9e4-ad0759c44625",
   "metadata": {},
   "outputs": [
    {
     "data": {
      "text/plain": [
       "0.2222222222222222"
      ]
     },
     "execution_count": 8,
     "metadata": {},
     "output_type": "execute_result"
    }
   ],
   "source": [
    "Kcoulomb(obj.rj[0], obj.rk[0])"
   ]
  },
  {
   "cell_type": "markdown",
   "id": "6a4efed9-8fe2-4e7f-909c-210cab6e4d10",
   "metadata": {},
   "source": [
    "How to create a Green's function matrix?\n",
    "Using a list comprehension is pretty fast!"
   ]
  },
  {
   "cell_type": "code",
   "execution_count": 9,
   "id": "49672b97-8248-49d4-a73f-44f3055eafb3",
   "metadata": {},
   "outputs": [
    {
     "name": "stdout",
     "output_type": "stream",
     "text": [
      "592 μs ± 124 μs per loop (mean ± std. dev. of 7 runs, 1,000 loops each)\n"
     ]
    }
   ],
   "source": [
    "%%timeit\n",
    "np.array([[Kcoulomb(rj,rk) for rj in obj.rj] for rk in obj.rk])"
   ]
  },
  {
   "cell_type": "markdown",
   "id": "b121373b-7685-4c78-84e4-603c2c2bd207",
   "metadata": {},
   "source": [
    "Create the Green's function matrix. "
   ]
  },
  {
   "cell_type": "code",
   "execution_count": 10,
   "id": "478fc939-56d3-4db0-bf7b-6de59c103462",
   "metadata": {},
   "outputs": [
    {
     "data": {
      "text/plain": [
       "(14, 7)"
      ]
     },
     "execution_count": 10,
     "metadata": {},
     "output_type": "execute_result"
    }
   ],
   "source": [
    "G0 = np.array([[Kcoulomb(rj,rk) for rj in obj.rj] for rk in obj.rk])\n",
    "G0.shape"
   ]
  },
  {
   "cell_type": "markdown",
   "id": "c006035c-1726-482f-9874-68a24db0d553",
   "metadata": {},
   "source": [
    "We need this unitless constant."
   ]
  },
  {
   "cell_type": "code",
   "execution_count": 11,
   "id": "d0f8b736-c537-4ae8-920d-98dba5a08f63",
   "metadata": {},
   "outputs": [
    {
     "data": {
      "text/plain": [
       "1.439964544247546"
      ]
     },
     "execution_count": 11,
     "metadata": {},
     "output_type": "execute_result"
    }
   ],
   "source": [
    "Vr = ureg.Quantity(1, 'V')\n",
    "zr = ureg.Quantity(1, 'nm')\n",
    "\n",
    "cG = (qe / (4 * np.pi * epsilon0 * Vr * zr)).to('dimensionless').magnitude\n",
    "cG"
   ]
  },
  {
   "cell_type": "markdown",
   "id": "0b786ae4-90e5-406e-9f1f-ad1ba50e0fe0",
   "metadata": {},
   "source": [
    "Use singular value decomposition to compute the array inverse."
   ]
  },
  {
   "cell_type": "code",
   "execution_count": 12,
   "id": "0d9f337f-54fd-4ad2-8390-4376853be164",
   "metadata": {},
   "outputs": [],
   "source": [
    "U, S, VT = np.linalg.svd(G0, full_matrices=False)\n",
    "Sinv = np.diag(np.power(S, -1)) # could add a filtering function here\n",
    "G0inv = np.dot(np.dot(VT.T, Sinv), U.T)"
   ]
  },
  {
   "cell_type": "markdown",
   "id": "194a455b-dc05-4040-a40c-ce1a7b172b41",
   "metadata": {},
   "source": [
    "Check that the inverse is good.  Compute $\\hat{G}_0^{\\dagger} \\hat{G}_0$ and compare it to the $N \\times N$ identity matrix $\\text{I}_{N}$.  Here \"compare\" means print out the root mean square deviation of the matrix elements of $\\hat{\\epsilon} = \\hat{G}_0^{\\dagger} \\hat{G}_0 - \\text{I}_{N}$."
   ]
  },
  {
   "cell_type": "code",
   "execution_count": 13,
   "id": "9996ac2d-7227-45d4-b730-bffb813f6b57",
   "metadata": {},
   "outputs": [
    {
     "data": {
      "text/plain": [
       "1.4934826200014336e-14"
      ]
     },
     "execution_count": 13,
     "metadata": {},
     "output_type": "execute_result"
    }
   ],
   "source": [
    "np.sqrt(np.mean(np.square(np.matmul(G0inv,G0) - np.diag(np.ones(obj.info['N'])))))"
   ]
  },
  {
   "cell_type": "markdown",
   "id": "0c080b5b-69a2-4139-93eb-923a26fcd9a0",
   "metadata": {},
   "source": [
    "Compute the vector of charges."
   ]
  },
  {
   "cell_type": "code",
   "execution_count": 14,
   "id": "4fe7e76c-d794-4620-a1c4-753b5dfe2deb",
   "metadata": {},
   "outputs": [],
   "source": [
    "IdM = np.ones(obj.info['M'])\n",
    "q0 = np.power(cG,-1) * np.dot(G0inv, IdM)"
   ]
  },
  {
   "cell_type": "markdown",
   "id": "6fde4b05-3475-41de-9231-576a10468b06",
   "metadata": {},
   "source": [
    "Compute and print out the capacitance."
   ]
  },
  {
   "cell_type": "code",
   "execution_count": 15,
   "id": "41289437-b629-4265-b7b7-ea71e33044c6",
   "metadata": {},
   "outputs": [
    {
     "data": {
      "text/html": [
       "5.006925249515415 attofarad"
      ],
      "text/latex": [
       "$5.006925249515415\\ \\mathrm{attofarad}$"
      ],
      "text/plain": [
       "<Quantity(5.006925249515415, 'attofarad')>"
      ]
     },
     "execution_count": 15,
     "metadata": {},
     "output_type": "execute_result"
    }
   ],
   "source": [
    "C0 = ((qe * q0.sum()) / Vr).to('aF')\n",
    "C0"
   ]
  },
  {
   "cell_type": "markdown",
   "id": "cdf0e903-3d58-43e0-aa86-5a3b45c4bcb0",
   "metadata": {},
   "source": [
    "The capacitance for sphere of radius $r$ is $C = 4 \\pi \\epsilon_0 r$.  Compute the capacitance for our $r = 45 \\: \\mathrm{nm}$ sphere."
   ]
  },
  {
   "cell_type": "code",
   "execution_count": 16,
   "id": "9ee6632b-9736-421c-a170-8fe208a871bb",
   "metadata": {},
   "outputs": [
    {
     "data": {
      "text/html": [
       "5.006925249515417 attofarad"
      ],
      "text/latex": [
       "$5.006925249515417\\ \\mathrm{attofarad}$"
      ],
      "text/plain": [
       "<Quantity(5.006925249515417, 'attofarad')>"
      ]
     },
     "execution_count": 16,
     "metadata": {},
     "output_type": "execute_result"
    }
   ],
   "source": [
    "C0calc = (4 * np.pi * epsilon0 * ureg.Quantity(45.0, 'nm')).to('aF')\n",
    "C0calc"
   ]
  },
  {
   "cell_type": "markdown",
   "id": "817e9b3f-1dd0-479b-a6cd-3d86e5e9a45f",
   "metadata": {},
   "source": [
    "A utility function to compare two numbers."
   ]
  },
  {
   "cell_type": "code",
   "execution_count": 17,
   "id": "8fdfc1c9-7494-4eac-a9d7-d015cfa1d8bc",
   "metadata": {},
   "outputs": [],
   "source": [
    "def compare(A,B):\n",
    "    \"\"\"Compute the relative difference between A to B, taking A as the ground truth.\"\"\"\n",
    "    print(\"relative error =\", ((A - B)/A).to('dimensionless').magnitude)"
   ]
  },
  {
   "cell_type": "markdown",
   "id": "a409b908-d852-4e3a-a092-0ad1257dbb0c",
   "metadata": {},
   "source": [
    "Compare the numerically determined capacitance to the calculated capacitance.  They agree to within a few *parts per billion*."
   ]
  },
  {
   "cell_type": "code",
   "execution_count": 18,
   "id": "4b6d9e7a-f8b8-4d0e-9f7d-976d8348b127",
   "metadata": {},
   "outputs": [
    {
     "name": "stdout",
     "output_type": "stream",
     "text": [
      "relative error = 3.5477997990326916e-16\n"
     ]
    }
   ],
   "source": [
    "compare(C0calc,C0)"
   ]
  },
  {
   "cell_type": "markdown",
   "id": "75b6482f-5d3d-4f5d-8835-0279b8ba8bad",
   "metadata": {},
   "source": [
    "## Add a metallic substrate and recompute the capacitance"
   ]
  },
  {
   "cell_type": "code",
   "execution_count": 19,
   "id": "c0323531-d68a-429d-a6e0-03164025830c",
   "metadata": {},
   "outputs": [],
   "source": [
    "from dissipationtheory.dissipation8a import CantileverModel, SampleModel1, SampleModel2\n",
    "from dissipationtheory.dissipation8b import CantileverModelJit, SampleModel1Jit, SampleModel2Jit\n",
    "from dissipationtheory.dissipation8b import integrand1jit, integrand2jit, K_jit"
   ]
  },
  {
   "cell_type": "code",
   "execution_count": 20,
   "id": "1f45394c-ef2e-4f23-a0dd-d47b4eea97a4",
   "metadata": {},
   "outputs": [],
   "source": [
    "cantilever = CantileverModel(\n",
    "    f_c = ureg.Quantity(75, 'kHz'),\n",
    "    k_c = ureg.Quantity(2.8, 'N/m'), \n",
    "    V_ts = ureg.Quantity(1, 'V'), \n",
    "    R = ureg.Quantity(35, 'nm'),\n",
    "    angle = ureg.Quantity(20, 'degree'),\n",
    "    L = ureg.Quantity(1000, 'nm'), \n",
    "    d = ureg.Quantity(38, 'nm')\n",
    ")\n",
    "\n",
    "sample1_metal = SampleModel1(\n",
    "    cantilever = cantilever,\n",
    "    h_s = ureg.Quantity(1e-6, 'nm'),  # not zero\n",
    "    epsilon_s = ureg.Quantity(complex(1, 0), ''),\n",
    "    sigma = ureg.Quantity(1e9, 'S/m'),\n",
    "    rho = ureg.Quantity(1e26, '1/m^3'),\n",
    "    epsilon_d = ureg.Quantity(complex(1e6, 0), ''),\n",
    "    z_r = ureg.Quantity(1, 'nm') # important\n",
    ")\n",
    "\n",
    "sample1_jit_metal = SampleModel1Jit(**sample1_metal.args())"
   ]
  },
  {
   "cell_type": "code",
   "execution_count": 21,
   "id": "4ac9e6e6-45d6-466b-9ea0-8e4c9b2b67a9",
   "metadata": {},
   "outputs": [],
   "source": [
    "def Ksample(location1, location2): \n",
    "\n",
    "    K = K_jit(integrand=integrand1jit, \n",
    "            power=0,\n",
    "            sample=sample1_jit_metal, \n",
    "            omega=0,\n",
    "            location1=location1 * 1e-9,\n",
    "            location2=location2 * 1e-9,\n",
    "            isImag=False)\n",
    "\n",
    "    return K.to('1/nm').magnitude"
   ]
  },
  {
   "cell_type": "code",
   "execution_count": 22,
   "id": "d8b81231-2fe2-43ef-97b6-42ef75624fca",
   "metadata": {},
   "outputs": [
    {
     "data": {
      "text/plain": [
       "array([[0.22222222, 0.05555556, 0.03174603, 0.02222222, 0.01709402,\n",
       "        0.01388889, 0.01169591],\n",
       "       [0.05121687, 0.04208351, 0.02998029, 0.02222222, 0.01740268,\n",
       "        0.01422293, 0.01199582],\n",
       "       [0.02679675, 0.02841047, 0.02626391, 0.02222222, 0.01836551,\n",
       "        0.01530498, 0.01297731],\n",
       "       [0.01871806, 0.02125604, 0.02272207, 0.02222222, 0.02009015,\n",
       "        0.01742169, 0.01494647],\n",
       "       [0.01494647, 0.01742169, 0.02009015, 0.02222222, 0.02272207,\n",
       "        0.02125604, 0.01871806],\n",
       "       [0.01297731, 0.01530498, 0.01836551, 0.02222222, 0.02626391,\n",
       "        0.02841047, 0.02679675],\n",
       "       [0.01199582, 0.01422293, 0.01740268, 0.02222222, 0.02998029,\n",
       "        0.04208351, 0.05121687],\n",
       "       [0.01169591, 0.01388889, 0.01709402, 0.02222222, 0.03174603,\n",
       "        0.05555556, 0.22222222],\n",
       "       [0.01199582, 0.01422293, 0.01740268, 0.02222222, 0.02998029,\n",
       "        0.04208351, 0.05121687],\n",
       "       [0.01297731, 0.01530498, 0.01836551, 0.02222222, 0.02626391,\n",
       "        0.02841047, 0.02679675],\n",
       "       [0.01494647, 0.01742169, 0.02009015, 0.02222222, 0.02272207,\n",
       "        0.02125604, 0.01871806],\n",
       "       [0.01871806, 0.02125604, 0.02272207, 0.02222222, 0.02009015,\n",
       "        0.01742169, 0.01494647],\n",
       "       [0.02679675, 0.02841047, 0.02626391, 0.02222222, 0.01836551,\n",
       "        0.01530498, 0.01297731],\n",
       "       [0.05121687, 0.04208351, 0.02998029, 0.02222222, 0.01740268,\n",
       "        0.01422293, 0.01199582]])"
      ]
     },
     "execution_count": 22,
     "metadata": {},
     "output_type": "execute_result"
    }
   ],
   "source": [
    "np.array([[Kcoulomb(rj,rk) for rj in obj.rj] for rk in obj.rk])"
   ]
  },
  {
   "cell_type": "code",
   "execution_count": 23,
   "id": "d647818b-fd3c-423b-bafe-bc994b7382a5",
   "metadata": {},
   "outputs": [
    {
     "data": {
      "text/plain": [
       "array([[-0.01550384, -0.01282049, -0.01092894, -0.00952379, -0.0084388 ,\n",
       "        -0.00757574, -0.00687284],\n",
       "       [-0.01395334, -0.01180127, -0.01021212, -0.00899407, -0.00803231,\n",
       "        -0.00725445, -0.00661277],\n",
       "       [-0.01127174, -0.00987633, -0.00877135, -0.00787916, -0.00714602,\n",
       "        -0.00653415, -0.0060165 ],\n",
       "       [-0.00919704, -0.00825046, -0.00746942, -0.00681661, -0.00626434,\n",
       "        -0.00579193, -0.0053838 ],\n",
       "       [-0.00785474, -0.00713969, -0.00653846, -0.00602703, -0.0055874 ,\n",
       "        -0.00520587, -0.00487193],\n",
       "       [-0.00704298, -0.00644744, -0.00594261, -0.00550964, -0.00513448,\n",
       "        -0.00480645, -0.0045173 ],\n",
       "       [-0.006609  , -0.00607145, -0.00561428, -0.00522079, -0.00487862,\n",
       "        -0.00457837, -0.00431281],\n",
       "       [-0.00647248, -0.00595237, -0.00550963, -0.00512819, -0.00479615,\n",
       "        -0.0045045 , -0.00424628],\n",
       "       [-0.006609  , -0.00607145, -0.00561428, -0.00522079, -0.00487862,\n",
       "        -0.00457837, -0.00431281],\n",
       "       [-0.00704298, -0.00644744, -0.00594261, -0.00550964, -0.00513448,\n",
       "        -0.00480645, -0.0045173 ],\n",
       "       [-0.00785474, -0.00713969, -0.00653846, -0.00602703, -0.0055874 ,\n",
       "        -0.00520587, -0.00487193],\n",
       "       [-0.00919704, -0.00825046, -0.00746942, -0.00681661, -0.00626434,\n",
       "        -0.00579193, -0.0053838 ],\n",
       "       [-0.01127174, -0.00987633, -0.00877135, -0.00787916, -0.00714602,\n",
       "        -0.00653415, -0.0060165 ],\n",
       "       [-0.01395334, -0.01180127, -0.01021212, -0.00899407, -0.00803231,\n",
       "        -0.00725445, -0.00661277]])"
      ]
     },
     "execution_count": 23,
     "metadata": {},
     "output_type": "execute_result"
    }
   ],
   "source": [
    "np.array([[- Ksample(rj,rk) for rj in obj.rj] for rk in obj.rk])"
   ]
  },
  {
   "cell_type": "code",
   "execution_count": 24,
   "id": "25ebd3a1-8c3b-46a7-993d-fec2c22369f5",
   "metadata": {},
   "outputs": [
    {
     "data": {
      "text/plain": [
       "(14, 7)"
      ]
     },
     "execution_count": 24,
     "metadata": {},
     "output_type": "execute_result"
    }
   ],
   "source": [
    "G0 = np.array([[Kcoulomb(rj,rk) - Ksample(rj,rk)  for rj in obj.rj] for rk in obj.rk])\n",
    "G0.shape"
   ]
  },
  {
   "cell_type": "markdown",
   "id": "01e0fc4e-a355-4b34-b723-d9b2db50d1d1",
   "metadata": {},
   "source": [
    "Compute the capacitance again."
   ]
  },
  {
   "cell_type": "code",
   "execution_count": 25,
   "id": "d547b0db-02f2-4f02-8c8f-84e2acd71478",
   "metadata": {},
   "outputs": [
    {
     "data": {
      "text/html": [
       "7.251521029897458 attofarad"
      ],
      "text/latex": [
       "$7.251521029897458\\ \\mathrm{attofarad}$"
      ],
      "text/plain": [
       "<Quantity(7.251521029897458, 'attofarad')>"
      ]
     },
     "execution_count": 25,
     "metadata": {},
     "output_type": "execute_result"
    }
   ],
   "source": [
    "U, S, VT = np.linalg.svd(G0, full_matrices=False)\n",
    "Sinv = np.diag(np.power(S, -1)) # could add a filtering function here\n",
    "G0inv = np.dot(np.dot(VT.T, Sinv), U.T)\n",
    "\n",
    "IdM = np.ones(obj.info['M'])\n",
    "q0 = np.power(cG,-1) * np.dot(G0inv, IdM)\n",
    "C0 = ((qe * q0.sum()) / Vr).to('aF')\n",
    "C0"
   ]
  },
  {
   "cell_type": "markdown",
   "id": "609fded3-85a7-4aed-9baf-e725fc81fb7f",
   "metadata": {},
   "source": [
    "It's larger, yea!  Compare it to the expected capacitance over a metal."
   ]
  },
  {
   "cell_type": "code",
   "execution_count": 26,
   "id": "65480f8e-94e1-4852-b3a4-9a0369412c40",
   "metadata": {},
   "outputs": [],
   "source": [
    "from dissipationtheory.capacitance import Csphere\n",
    "import pint"
   ]
  },
  {
   "cell_type": "code",
   "execution_count": 27,
   "id": "18956f0c-46bb-4318-9887-7686a8dc929a",
   "metadata": {},
   "outputs": [
    {
     "data": {
      "text/html": [
       "7.2514748935384254 attofarad"
      ],
      "text/latex": [
       "$7.2514748935384254\\ \\mathrm{attofarad}$"
      ],
      "text/plain": [
       "<Quantity(7.2514748935384254, 'attofarad')>"
      ]
     },
     "execution_count": 27,
     "metadata": {},
     "output_type": "execute_result"
    }
   ],
   "source": [
    "h_array = pint.Quantity.from_list([params['h']]).to('nm')\n",
    "Ccalc = Csphere(0, h_array, params['r']).to('aF')\n",
    "Ccalc[0]"
   ]
  },
  {
   "cell_type": "markdown",
   "id": "d3e4e2ce-ba96-41e0-8e8b-8a40b1f46d2e",
   "metadata": {},
   "source": [
    "They agree to within a few parts per million."
   ]
  },
  {
   "cell_type": "code",
   "execution_count": 28,
   "id": "e40269ae-3705-46d9-af1b-156c7abf1e8e",
   "metadata": {},
   "outputs": [
    {
     "name": "stdout",
     "output_type": "stream",
     "text": [
      "relative error = -6.3623414146869816e-06\n"
     ]
    }
   ],
   "source": [
    "compare(Ccalc[0],C0)"
   ]
  },
  {
   "cell_type": "markdown",
   "id": "44e81e66-c4fb-47b7-9e60-6dcd946e788e",
   "metadata": {},
   "source": [
    "How close the voltage is to the target 1.0V?\n",
    "The standard deviation of the voltage about the target mean of 1.0 V is"
   ]
  },
  {
   "cell_type": "code",
   "execution_count": 29,
   "id": "7081c83e-29cb-480a-bd53-aa433e06122d",
   "metadata": {},
   "outputs": [
    {
     "data": {
      "text/plain": [
       "2.202965400326424e-05"
      ]
     },
     "execution_count": 29,
     "metadata": {},
     "output_type": "execute_result"
    }
   ],
   "source": [
    "np.std(cG * np.dot(G0, q0) - 1.0 * np.ones(obj.info['M']))"
   ]
  },
  {
   "cell_type": "markdown",
   "id": "2be1bbd6-c905-4164-9b97-8a46a0b21bbe",
   "metadata": {},
   "source": [
    "which is just 22 parts per million."
   ]
  },
  {
   "cell_type": "markdown",
   "id": "0b27009f-466f-48da-8f76-6482cf34462e",
   "metadata": {},
   "source": [
    "# Sphere capacitance automated"
   ]
  },
  {
   "cell_type": "code",
   "execution_count": 30,
   "id": "9582c13f-e015-4f60-a386-252c3392891d",
   "metadata": {},
   "outputs": [],
   "source": [
    "from dissipationtheory.capacitance import Csphere"
   ]
  },
  {
   "cell_type": "code",
   "execution_count": 31,
   "id": "4bf0dceb-5d78-443e-9efb-7d3c2d57e333",
   "metadata": {},
   "outputs": [],
   "source": [
    "class twodimCobject2(twodimCobject):\n",
    "\n",
    "    def __init__(self, sample, integrand):\n",
    "\n",
    "        self.sample = sample\n",
    "        self.integrand = integrand\n",
    "\n",
    "        self.Vr = ureg.Quantity(1, 'V')\n",
    "        self.zr = ureg.Quantity(1, 'nm')\n",
    "        \n",
    "        self.cG = (qe / (4 * np.pi * epsilon0 * self.Vr * self.zr)).to('dimensionless').magnitude\n",
    "        self.cGinv = 1/self.cG\n",
    "    \n",
    "    def _compare(self, A, B):\n",
    "        \"\"\"Compute the relative difference between A to B, taking A as the ground truth.\"\"\"\n",
    "        return(1e6 * (A - B) / A)\n",
    "    \n",
    "    def _Kcoulomb(self, location1, location2):\n",
    "        \n",
    "        return complex(1,0) / np.linalg.norm(location1 - location2)\n",
    "    \n",
    "    def _Ksample(self, n, omega, location1, location2): \n",
    "        \n",
    "        Kr = K_jit(integrand=self.integrand, \n",
    "                power=n,\n",
    "                sample=self.sample, \n",
    "                omega=omega,\n",
    "                location1=location1 * 1e-9,\n",
    "                location2=location2 * 1e-9,\n",
    "                isImag=False)\n",
    "\n",
    "        Ki = K_jit(integrand=self.integrand, \n",
    "                power=n,\n",
    "                sample=self.sample, \n",
    "                omega=omega,\n",
    "                location1=location1 * 1e-9,\n",
    "                location2=location2 * 1e-9,\n",
    "                isImag=True)\n",
    "\n",
    "        unit = '1/nm^{:d}'.format(n+1)\n",
    "        \n",
    "        return (complex(1,0) * Kr + complex(0,1) * Ki).to(unit).magnitude\n",
    "\n",
    "    def solve(self, omega, alpha=0.):\n",
    "        \"\"\"Solve for the charges.  The parameter $\\alpha$ is used to filter\n",
    "        the singular values in the inverse.         \n",
    "        \"\"\"\n",
    "\n",
    "        Kcoulomb = np.array([[self._Kcoulomb(rj,rk) for rj in self.rj] for rk in self.rk])\n",
    "        K0 = np.array([[self._Ksample(0, omega, rj, rk) for rj in self.rj] for rk in self.rk])\n",
    "        \n",
    "        G0 = Kcoulomb - K0\n",
    "        \n",
    "        np.array([[self._Kcoulomb(rj,rk) - self._Ksample(0, omega, rj, rk)\n",
    "                        for rj in self.rj] for rk in self.rk])\n",
    "        \n",
    "        U, S, VT = np.linalg.svd(G0, full_matrices=False)\n",
    "        filt = np.diag(np.power(S, 2)/(np.power(S, 2) + alpha**2))\n",
    "        Sinv = filt * np.diag(np.power(S, -1))\n",
    "        G0inv = VT.T @ Sinv @ U.T\n",
    "\n",
    "        self.results['S'] = S                      # unitless\n",
    "        self.results['Sinv'] = np.diagonal(Sinv)   # unitless\n",
    "        self.results['cn'] = S.max()/S.min()       # unitless\n",
    "        \n",
    "        IdN = np.ones(self.info['N']).T\n",
    "        IdM = np.ones(self.info['M'])\n",
    "\n",
    "        Q = self.cGinv * complex(0,1) * G0inv @ IdM\n",
    "        V = -1 * complex(0,1) * self.cG * G0 @ Q\n",
    "\n",
    "        self.results['q'] = np.imag(Q) # units of qe \n",
    "        self.results['V'] = np.real(V) # units of Vr\n",
    "        \n",
    "        K1 = np.array([[self._Ksample(1, omega, rj, rk)  for rj in self.rj] for rk in self.rk]) \n",
    "        K2 = np.array([[self._Ksample(2, omega, rj, rk)  for rj in self.rj] for rk in self.rk]) \n",
    "        \n",
    "        L0 = IdN @ G0inv @ IdM\n",
    "        L1 = -2 * IdN @ G0inv @ K1 @ G0inv @ IdM\n",
    "        L2 = 4 * IdN @ (G0inv @ K2 @ G0inv + 2 * G0inv @ K1 @ G0inv @ K1 @ G0inv) @ IdM\n",
    "\n",
    "        self.results['L0'] = L0\n",
    "        self.results['L1'] = L1\n",
    "        self.results['L2'] = L2\n",
    "        \n",
    "        c = self.cGinv * (qe / self.Vr)\n",
    "        C0 = (c / self.zr**0) * np.imag(complex(0,1) * L0) \n",
    "        C1 = (c / self.zr**1) * np.imag(complex(0,1) * L1) \n",
    "        C2 = (c / self.zr**2) * np.imag(complex(0,1) * L2)\n",
    "        \n",
    "        h_array = ureg.Quantity(np.array([self.info['h']]), 'nm')\n",
    "        r = ureg.Quantity(self.info['r'], 'nm')\n",
    "        \n",
    "        for key, values, unit in zip(\n",
    "            ['C0 [aF]', 'C1 [pF/m]', 'C2 [mF/m^2]'],\n",
    "            [C0, C1, C2],\n",
    "            ['aF', 'pF/m', 'mF/m^2']):\n",
    "\n",
    "            self.results[key] = values.to(unit).magnitude"
   ]
  },
  {
   "cell_type": "code",
   "execution_count": 32,
   "id": "c767ef41-c148-431f-8587-6c54f5c3c55c",
   "metadata": {},
   "outputs": [
    {
     "data": {
      "image/png": "[encoded data removed]",
      "text/plain": [
       "<Figure size 800x250 with 4 Axes>"
      ]
     },
     "metadata": {},
     "output_type": "display_data"
    }
   ],
   "source": [
    "obj2 = twodimCobject2(sample1_jit_metal,integrand1jit)\n",
    "\n",
    "params = {'r': ureg.Quantity(45.0, 'nm'),\n",
    "          'h': ureg.Quantity(30.0, 'nm'),\n",
    "          'N': 15, # image charges\n",
    "          'M': 30} # test points\n",
    "\n",
    "obj2.addsphere(**params)\n",
    "obj2.solve(0.)\n",
    "figs['02'] = obj2.plot()"
   ]
  },
  {
   "cell_type": "code",
   "execution_count": 33,
   "id": "38757674-62da-4b0d-99e2-9e9d68b6b0f0",
   "metadata": {},
   "outputs": [
    {
     "data": {
      "text/plain": [
       "{'alpha': 0,\n",
       " 'q': array([ 3.86555221e-04, -9.84214922e-03,  9.51167312e-02, -6.25430660e-01,\n",
       "         4.83627285e+00,  1.29131000e+01, -5.30390592e+00,  3.46999657e+01,\n",
       "        -2.07034566e+00,  1.03262916e+00, -4.05294538e-01,  1.18673526e-01,\n",
       "        -2.39236229e-02,  2.81839592e-03, -1.17323011e-04]),\n",
       " 'S': array([4.30704312e-01, 2.99241608e-01, 1.39980912e-01, 6.74028370e-02,\n",
       "        3.01382460e-02, 1.24747877e-02, 4.77217552e-03, 1.67491228e-03,\n",
       "        5.36601554e-04, 1.55506111e-04, 4.01664475e-05, 9.03460694e-06,\n",
       "        1.70339858e-06, 2.50834077e-07, 2.43250704e-08]),\n",
       " 'Sinv': array([2.32177847e+00, 3.34178127e+00, 7.14383116e+00, 1.48361708e+01,\n",
       "        3.31804313e+01, 8.01616848e+01, 2.09548035e+02, 5.97046192e+02,\n",
       "        1.86358014e+03, 6.43061546e+03, 2.48964014e+04, 1.10685501e+05,\n",
       "        5.87061660e+05, 3.98669915e+06, 4.11098502e+07]),\n",
       " 'cn': 17706189.780987307,\n",
       " 'V': array([1.        , 1.        , 1.        , 1.        , 1.        ,\n",
       "        1.        , 1.00000001, 0.99999999, 1.00000001, 0.99999999,\n",
       "        1.        , 1.        , 1.        , 1.        , 1.        ,\n",
       "        1.        , 1.        , 1.        , 1.        , 1.        ,\n",
       "        1.        , 0.99999999, 1.00000001, 0.99999999, 1.00000001,\n",
       "        1.        , 1.        , 1.        , 1.        , 1.        ]),\n",
       " 'L0': (65.17294379306463+0j),\n",
       " 'L1': (-0.43082990195823745+0j),\n",
       " 'L2': (0.019856660008830948+0j),\n",
       " 'C0 [aF]': 7.25146795250543,\n",
       " 'C1 [pF/m]': -47.936291430243344,\n",
       " 'C2 [mF/m^2]': 2.2093513859835268}"
      ]
     },
     "execution_count": 33,
     "metadata": {},
     "output_type": "execute_result"
    }
   ],
   "source": [
    "obj2.results"
   ]
  },
  {
   "cell_type": "markdown",
   "id": "f2b18ff9-4d66-4e0c-b7e6-0a090301d1c4",
   "metadata": {},
   "source": [
    "# Simulate the capacitances and various heights"
   ]
  },
  {
   "cell_type": "markdown",
   "id": "ddb822df-ee37-40e5-ba33-abe17e281e35",
   "metadata": {},
   "source": [
    "This calculation takes a minute."
   ]
  },
  {
   "cell_type": "code",
   "execution_count": 34,
   "id": "9a1b29ff-863a-4ea7-bd37-d15708b39ac6",
   "metadata": {},
   "outputs": [],
   "source": [
    "comp = {}\n",
    "calc = {}\n",
    "obj = {}\n",
    "\n",
    "r = ureg.Quantity(30., 'nm')\n",
    "h_array = ureg.Quantity(\n",
    "    np.logspace(\n",
    "        start=np.log10(15e-9),\n",
    "        stop=np.log10(1e-6),\n",
    "        num=20,\n",
    "        endpoint=True), \n",
    "    'm')\n",
    "\n",
    "for key, unit in zip(['C0', 'C1', 'C2'], ['aF', 'pF/m', 'mF/m^2']):\n",
    "    comp[key] = np.zeros_like(h_array)\n",
    "\n",
    "\n",
    "\n",
    "for index, h in enumerate(h_array):\n",
    "\n",
    "    params = {'r': r,\n",
    "              'h': h,\n",
    "              'N': 15, # image charges\n",
    "              'M': 30} # test points\n",
    "\n",
    "    obj[index] = twodimCobject2(sample1_jit_metal,integrand1jit)\n",
    "    obj[index].addsphere(**params)\n",
    "    obj[index].solve(0.)\n",
    "    \n",
    "    for key, keyobj in zip(['C0', 'C1', 'C2'], ['C0 [aF]', 'C1 [pF/m]', 'C2 [mF/m^2]']):\n",
    "        comp[key][index] = obj[index].results[keyobj]\n",
    "    \n",
    "for key, index, unit in zip(['C0', 'C1', 'C2'], [0, 1, 2], ['aF', 'pF/m', 'mF/m^2']):\n",
    "    calc[key] = Csphere(index, h_array, r).to(unit).magnitude"
   ]
  },
  {
   "cell_type": "code",
   "execution_count": 35,
   "id": "d8b64660-49cb-48d2-bb8f-5a47c095f103",
   "metadata": {},
   "outputs": [],
   "source": [
    "import pandas as pd"
   ]
  },
  {
   "cell_type": "code",
   "execution_count": 36,
   "id": "361330fb-9f3d-4160-8e4e-699560a07b97",
   "metadata": {},
   "outputs": [],
   "source": [
    "df = pd.DataFrame.from_dict(\n",
    "    {'h [nm]': h_array.to('nm').magnitude, \n",
    "     '$C_0$ [aF] comp': comp['C0'],\n",
    "     '$C_0$ [aF] calc': calc['C0'],\n",
    "     '$\\epsilon_{C_0}$ [ppm]': 1e6 * ((comp['C0'] - calc['C0'])/comp['C0']),\n",
    "     '$C_1$ [pF/m] comp': comp['C1'],\n",
    "     '$C_1$ [pF/m] calc': calc['C1'],\n",
    "     '$\\epsilon_{C_1}$ [ppm]': 1e6 * ((comp['C1'] - calc['C1'])/comp['C1']),\n",
    "     '$C_2$ [mF/m$^2$] comp': comp['C2'],\n",
    "     '$C_2$ [mF/m$^2$] calc': calc['C2'],\n",
    "     '$\\epsilon_{C_2}$ [ppm]': 1e6 * ((comp['C2'] - calc['C2'])/comp['C2'])\n",
    "    }\n",
    ")"
   ]
  },
  {
   "cell_type": "code",
   "execution_count": 37,
   "id": "334afc69-cd31-45e9-8419-f12eb42cd4e1",
   "metadata": {},
   "outputs": [
    {
     "data": {
      "text/html": [
       "<div>\n",
       "<style scoped>\n",
       "    .dataframe tbody tr th:only-of-type {\n",
       "        vertical-align: middle;\n",
       "    }\n",
       "\n",
       "    .dataframe tbody tr th {\n",
       "        vertical-align: top;\n",
       "    }\n",
       "\n",
       "    .dataframe thead th {\n",
       "        text-align: right;\n",
       "    }\n",
       "</style>\n",
       "<table border=\"1\" class=\"dataframe\">\n",
       "  <thead>\n",
       "    <tr style=\"text-align: right;\">\n",
       "      <th></th>\n",
       "      <th>h [nm]</th>\n",
       "      <th>$C_0$ [aF] comp</th>\n",
       "      <th>$C_0$ [aF] calc</th>\n",
       "      <th>$\\epsilon_{C_0}$ [ppm]</th>\n",
       "      <th>$C_1$ [pF/m] comp</th>\n",
       "      <th>$C_1$ [pF/m] calc</th>\n",
       "      <th>$\\epsilon_{C_1}$ [ppm]</th>\n",
       "      <th>$C_2$ [mF/m$^2$] comp</th>\n",
       "      <th>$C_2$ [mF/m$^2$] calc</th>\n",
       "      <th>$\\epsilon_{C_2}$ [ppm]</th>\n",
       "    </tr>\n",
       "  </thead>\n",
       "  <tbody>\n",
       "    <tr>\n",
       "      <th>0</th>\n",
       "      <td>15.000000</td>\n",
       "      <td>5.124984</td>\n",
       "      <td>5.124990</td>\n",
       "      <td>-1.165851</td>\n",
       "      <td>-70.723483</td>\n",
       "      <td>-70.723791</td>\n",
       "      <td>-4.354871</td>\n",
       "      <td>6.233566</td>\n",
       "      <td>6.233577</td>\n",
       "      <td>-1.703188</td>\n",
       "    </tr>\n",
       "    <tr>\n",
       "      <th>1</th>\n",
       "      <td>18.710546</td>\n",
       "      <td>4.899017</td>\n",
       "      <td>4.899022</td>\n",
       "      <td>-1.008773</td>\n",
       "      <td>-52.537824</td>\n",
       "      <td>-52.538068</td>\n",
       "      <td>-4.644599</td>\n",
       "      <td>3.841481</td>\n",
       "      <td>3.841500</td>\n",
       "      <td>-4.962344</td>\n",
       "    </tr>\n",
       "    <tr>\n",
       "      <th>2</th>\n",
       "      <td>23.338968</td>\n",
       "      <td>4.690706</td>\n",
       "      <td>4.690710</td>\n",
       "      <td>-0.852932</td>\n",
       "      <td>-38.618002</td>\n",
       "      <td>-38.618169</td>\n",
       "      <td>-4.329572</td>\n",
       "      <td>2.345715</td>\n",
       "      <td>2.345728</td>\n",
       "      <td>-5.801972</td>\n",
       "    </tr>\n",
       "    <tr>\n",
       "      <th>3</th>\n",
       "      <td>29.112322</td>\n",
       "      <td>4.500757</td>\n",
       "      <td>4.500760</td>\n",
       "      <td>-0.716397</td>\n",
       "      <td>-28.067791</td>\n",
       "      <td>-28.067899</td>\n",
       "      <td>-3.833174</td>\n",
       "      <td>1.417258</td>\n",
       "      <td>1.417266</td>\n",
       "      <td>-5.349313</td>\n",
       "    </tr>\n",
       "    <tr>\n",
       "      <th>4</th>\n",
       "      <td>36.313829</td>\n",
       "      <td>4.329539</td>\n",
       "      <td>4.329542</td>\n",
       "      <td>-0.602048</td>\n",
       "      <td>-20.160860</td>\n",
       "      <td>-20.160928</td>\n",
       "      <td>-3.390864</td>\n",
       "      <td>0.846133</td>\n",
       "      <td>0.846137</td>\n",
       "      <td>-4.523119</td>\n",
       "    </tr>\n",
       "    <tr>\n",
       "      <th>5</th>\n",
       "      <td>45.296771</td>\n",
       "      <td>4.177032</td>\n",
       "      <td>4.177035</td>\n",
       "      <td>-0.506307</td>\n",
       "      <td>-14.308437</td>\n",
       "      <td>-14.308481</td>\n",
       "      <td>-3.073475</td>\n",
       "      <td>0.498610</td>\n",
       "      <td>0.498612</td>\n",
       "      <td>-3.812936</td>\n",
       "    </tr>\n",
       "    <tr>\n",
       "      <th>6</th>\n",
       "      <td>56.501820</td>\n",
       "      <td>4.042811</td>\n",
       "      <td>4.042812</td>\n",
       "      <td>-0.424791</td>\n",
       "      <td>-10.034455</td>\n",
       "      <td>-10.034483</td>\n",
       "      <td>-2.861638</td>\n",
       "      <td>0.289795</td>\n",
       "      <td>0.289796</td>\n",
       "      <td>-3.691569</td>\n",
       "    </tr>\n",
       "    <tr>\n",
       "      <th>7</th>\n",
       "      <td>70.478660</td>\n",
       "      <td>3.926061</td>\n",
       "      <td>3.926062</td>\n",
       "      <td>-0.354582</td>\n",
       "      <td>-6.956457</td>\n",
       "      <td>-6.956476</td>\n",
       "      <td>-2.714375</td>\n",
       "      <td>0.166076</td>\n",
       "      <td>0.166076</td>\n",
       "      <td>1.751142</td>\n",
       "    </tr>\n",
       "    <tr>\n",
       "      <th>8</th>\n",
       "      <td>87.912946</td>\n",
       "      <td>3.825641</td>\n",
       "      <td>3.825642</td>\n",
       "      <td>-0.294112</td>\n",
       "      <td>-4.770601</td>\n",
       "      <td>-4.770613</td>\n",
       "      <td>-2.600129</td>\n",
       "      <td>0.093863</td>\n",
       "      <td>0.093864</td>\n",
       "      <td>-2.872018</td>\n",
       "    </tr>\n",
       "    <tr>\n",
       "      <th>9</th>\n",
       "      <td>109.659947</td>\n",
       "      <td>3.740161</td>\n",
       "      <td>3.740162</td>\n",
       "      <td>-0.242506</td>\n",
       "      <td>-3.239231</td>\n",
       "      <td>-3.239239</td>\n",
       "      <td>-2.503284</td>\n",
       "      <td>0.052355</td>\n",
       "      <td>0.052355</td>\n",
       "      <td>-2.734363</td>\n",
       "    </tr>\n",
       "    <tr>\n",
       "      <th>10</th>\n",
       "      <td>136.786497</td>\n",
       "      <td>3.668082</td>\n",
       "      <td>3.668083</td>\n",
       "      <td>-0.198956</td>\n",
       "      <td>-2.179955</td>\n",
       "      <td>-2.179960</td>\n",
       "      <td>-2.418358</td>\n",
       "      <td>0.028848</td>\n",
       "      <td>0.028849</td>\n",
       "      <td>-2.617065</td>\n",
       "    </tr>\n",
       "    <tr>\n",
       "      <th>11</th>\n",
       "      <td>170.623334</td>\n",
       "      <td>3.607808</td>\n",
       "      <td>3.607809</td>\n",
       "      <td>-0.162438</td>\n",
       "      <td>-1.455684</td>\n",
       "      <td>-1.455688</td>\n",
       "      <td>-2.344177</td>\n",
       "      <td>0.015723</td>\n",
       "      <td>0.015723</td>\n",
       "      <td>-6.788328</td>\n",
       "    </tr>\n",
       "    <tr>\n",
       "      <th>12</th>\n",
       "      <td>212.830381</td>\n",
       "      <td>3.557771</td>\n",
       "      <td>3.557771</td>\n",
       "      <td>-0.132180</td>\n",
       "      <td>-0.965545</td>\n",
       "      <td>-0.965547</td>\n",
       "      <td>-2.247802</td>\n",
       "      <td>0.008488</td>\n",
       "      <td>0.008488</td>\n",
       "      <td>-2.291221</td>\n",
       "    </tr>\n",
       "    <tr>\n",
       "      <th>13</th>\n",
       "      <td>265.478172</td>\n",
       "      <td>3.516488</td>\n",
       "      <td>3.516489</td>\n",
       "      <td>-0.107360</td>\n",
       "      <td>-0.636805</td>\n",
       "      <td>-0.636806</td>\n",
       "      <td>-2.227902</td>\n",
       "      <td>0.004544</td>\n",
       "      <td>0.004544</td>\n",
       "      <td>8.115440</td>\n",
       "    </tr>\n",
       "    <tr>\n",
       "      <th>14</th>\n",
       "      <td>331.149433</td>\n",
       "      <td>3.482607</td>\n",
       "      <td>3.482607</td>\n",
       "      <td>-0.086871</td>\n",
       "      <td>-0.417994</td>\n",
       "      <td>-0.417995</td>\n",
       "      <td>-2.184002</td>\n",
       "      <td>0.002659</td>\n",
       "      <td>0.002416</td>\n",
       "      <td>91440.419033</td>\n",
       "    </tr>\n",
       "    <tr>\n",
       "      <th>15</th>\n",
       "      <td>413.065775</td>\n",
       "      <td>3.454921</td>\n",
       "      <td>3.454921</td>\n",
       "      <td>-0.070180</td>\n",
       "      <td>-0.273286</td>\n",
       "      <td>-0.273287</td>\n",
       "      <td>-2.148223</td>\n",
       "      <td>0.001755</td>\n",
       "      <td>0.001277</td>\n",
       "      <td>272375.107870</td>\n",
       "    </tr>\n",
       "    <tr>\n",
       "      <th>16</th>\n",
       "      <td>515.245739</td>\n",
       "      <td>3.432379</td>\n",
       "      <td>3.432379</td>\n",
       "      <td>-0.056581</td>\n",
       "      <td>-0.178095</td>\n",
       "      <td>-0.178096</td>\n",
       "      <td>-2.119107</td>\n",
       "      <td>0.001102</td>\n",
       "      <td>0.000672</td>\n",
       "      <td>390445.319810</td>\n",
       "    </tr>\n",
       "    <tr>\n",
       "      <th>17</th>\n",
       "      <td>642.701933</td>\n",
       "      <td>3.414078</td>\n",
       "      <td>3.414079</td>\n",
       "      <td>-0.045634</td>\n",
       "      <td>-0.115753</td>\n",
       "      <td>-0.115753</td>\n",
       "      <td>-2.095744</td>\n",
       "      <td>0.000629</td>\n",
       "      <td>0.000352</td>\n",
       "      <td>439983.022402</td>\n",
       "    </tr>\n",
       "    <tr>\n",
       "      <th>18</th>\n",
       "      <td>801.686930</td>\n",
       "      <td>3.399258</td>\n",
       "      <td>3.399258</td>\n",
       "      <td>-0.036713</td>\n",
       "      <td>-0.075070</td>\n",
       "      <td>-0.075071</td>\n",
       "      <td>-2.076808</td>\n",
       "      <td>0.000315</td>\n",
       "      <td>0.000184</td>\n",
       "      <td>416027.368553</td>\n",
       "    </tr>\n",
       "    <tr>\n",
       "      <th>19</th>\n",
       "      <td>1000.000000</td>\n",
       "      <td>3.387280</td>\n",
       "      <td>3.387280</td>\n",
       "      <td>-0.029598</td>\n",
       "      <td>-0.048601</td>\n",
       "      <td>-0.048601</td>\n",
       "      <td>-2.061754</td>\n",
       "      <td>0.000134</td>\n",
       "      <td>0.000096</td>\n",
       "      <td>283830.644280</td>\n",
       "    </tr>\n",
       "  </tbody>\n",
       "</table>\n",
       "</div>"
      ],
      "text/plain": [
       "         h [nm]  $C_0$ [aF] comp  $C_0$ [aF] calc  $\\epsilon_{C_0}$ [ppm]  \\\n",
       "0     15.000000         5.124984         5.124990               -1.165851   \n",
       "1     18.710546         4.899017         4.899022               -1.008773   \n",
       "2     23.338968         4.690706         4.690710               -0.852932   \n",
       "3     29.112322         4.500757         4.500760               -0.716397   \n",
       "4     36.313829         4.329539         4.329542               -0.602048   \n",
       "5     45.296771         4.177032         4.177035               -0.506307   \n",
       "6     56.501820         4.042811         4.042812               -0.424791   \n",
       "7     70.478660         3.926061         3.926062               -0.354582   \n",
       "8     87.912946         3.825641         3.825642               -0.294112   \n",
       "9    109.659947         3.740161         3.740162               -0.242506   \n",
       "10   136.786497         3.668082         3.668083               -0.198956   \n",
       "11   170.623334         3.607808         3.607809               -0.162438   \n",
       "12   212.830381         3.557771         3.557771               -0.132180   \n",
       "13   265.478172         3.516488         3.516489               -0.107360   \n",
       "14   331.149433         3.482607         3.482607               -0.086871   \n",
       "15   413.065775         3.454921         3.454921               -0.070180   \n",
       "16   515.245739         3.432379         3.432379               -0.056581   \n",
       "17   642.701933         3.414078         3.414079               -0.045634   \n",
       "18   801.686930         3.399258         3.399258               -0.036713   \n",
       "19  1000.000000         3.387280         3.387280               -0.029598   \n",
       "\n",
       "    $C_1$ [pF/m] comp  $C_1$ [pF/m] calc  $\\epsilon_{C_1}$ [ppm]  \\\n",
       "0          -70.723483         -70.723791               -4.354871   \n",
       "1          -52.537824         -52.538068               -4.644599   \n",
       "2          -38.618002         -38.618169               -4.329572   \n",
       "3          -28.067791         -28.067899               -3.833174   \n",
       "4          -20.160860         -20.160928               -3.390864   \n",
       "5          -14.308437         -14.308481               -3.073475   \n",
       "6          -10.034455         -10.034483               -2.861638   \n",
       "7           -6.956457          -6.956476               -2.714375   \n",
       "8           -4.770601          -4.770613               -2.600129   \n",
       "9           -3.239231          -3.239239               -2.503284   \n",
       "10          -2.179955          -2.179960               -2.418358   \n",
       "11          -1.455684          -1.455688               -2.344177   \n",
       "12          -0.965545          -0.965547               -2.247802   \n",
       "13          -0.636805          -0.636806               -2.227902   \n",
       "14          -0.417994          -0.417995               -2.184002   \n",
       "15          -0.273286          -0.273287               -2.148223   \n",
       "16          -0.178095          -0.178096               -2.119107   \n",
       "17          -0.115753          -0.115753               -2.095744   \n",
       "18          -0.075070          -0.075071               -2.076808   \n",
       "19          -0.048601          -0.048601               -2.061754   \n",
       "\n",
       "    $C_2$ [mF/m$^2$] comp  $C_2$ [mF/m$^2$] calc  $\\epsilon_{C_2}$ [ppm]  \n",
       "0                6.233566               6.233577               -1.703188  \n",
       "1                3.841481               3.841500               -4.962344  \n",
       "2                2.345715               2.345728               -5.801972  \n",
       "3                1.417258               1.417266               -5.349313  \n",
       "4                0.846133               0.846137               -4.523119  \n",
       "5                0.498610               0.498612               -3.812936  \n",
       "6                0.289795               0.289796               -3.691569  \n",
       "7                0.166076               0.166076                1.751142  \n",
       "8                0.093863               0.093864               -2.872018  \n",
       "9                0.052355               0.052355               -2.734363  \n",
       "10               0.028848               0.028849               -2.617065  \n",
       "11               0.015723               0.015723               -6.788328  \n",
       "12               0.008488               0.008488               -2.291221  \n",
       "13               0.004544               0.004544                8.115440  \n",
       "14               0.002659               0.002416            91440.419033  \n",
       "15               0.001755               0.001277           272375.107870  \n",
       "16               0.001102               0.000672           390445.319810  \n",
       "17               0.000629               0.000352           439983.022402  \n",
       "18               0.000315               0.000184           416027.368553  \n",
       "19               0.000134               0.000096           283830.644280  "
      ]
     },
     "execution_count": 37,
     "metadata": {},
     "output_type": "execute_result"
    }
   ],
   "source": [
    "df"
   ]
  },
  {
   "cell_type": "markdown",
   "id": "71179cd8-b774-494b-8594-bbbe6d5c2752",
   "metadata": {},
   "source": [
    "Why is the error in the numerically computed $C_2$ diverging at *large* tip-sample separations?\n",
    "\n",
    "Examine some of the solutions.\n",
    "\n",
    "Close up we see two images charges, as expected."
   ]
  },
  {
   "cell_type": "code",
   "execution_count": 38,
   "id": "b44eb4ff-c5ba-49ca-82e1-f37bf461cc3a",
   "metadata": {},
   "outputs": [
    {
     "data": {
      "image/png": "[encoded data removed]",
      "text/plain": [
       "<Figure size 800x250 with 4 Axes>"
      ]
     },
     "metadata": {},
     "output_type": "display_data"
    }
   ],
   "source": [
    "figs['03a'] = obj[0].plot()"
   ]
  },
  {
   "cell_type": "markdown",
   "id": "a5c2bf5b-9a26-4531-b8c3-135d95361ebb",
   "metadata": {},
   "source": [
    "Far away we see one image charge at the center of the sphere, again as expected."
   ]
  },
  {
   "cell_type": "code",
   "execution_count": 39,
   "id": "fee610ef-bb3e-4d3d-88e5-49ed45e2d10d",
   "metadata": {},
   "outputs": [
    {
     "data": {
      "image/png": "[encoded data removed]",
      "text/plain": [
       "<Figure size 800x250 with 4 Axes>"
      ]
     },
     "metadata": {},
     "output_type": "display_data"
    }
   ],
   "source": [
    "figs['03b'] = obj[19].plot()"
   ]
  },
  {
   "cell_type": "markdown",
   "id": "42b5b177-a89d-4518-a055-b177ed5db541",
   "metadata": {},
   "source": [
    "# Save the figures"
   ]
  },
  {
   "cell_type": "code",
   "execution_count": 40,
   "id": "dd3818a3-3c18-48e4-bae9-898eb18d8a7e",
   "metadata": {},
   "outputs": [],
   "source": [
    "if 1:\n",
    "    for num in figs.keys():\n",
    "        figname = THIS + \"Fig-\" + num\n",
    "        figs[num].savefig(figname + '.png', dpi=300)\n",
    "        figs[num].savefig(figname + '.pdf')"
   ]
  },
  {
   "cell_type": "markdown",
   "id": "7262e165-f802-4b02-840d-7d08dc7b3cab",
   "metadata": {},
   "source": [
    "::: {.content-hidden when-format=\"html\"}\n",
    "\n",
    "# Formatting notes\n",
    "\n",
    "The header at the top of this file is for creating a nicely-formatted `.html` document using the program `quarto` ([link](https://quarto.org/)).  To create nicely-formated `.html`versions of this notebook, run `quarto` from the command line as follows\n",
    "\n",
    "    quarto render dissipation-theory--Study-46.ipynb && open dissipation-theory--Study-46.html\n",
    "    \n",
    ":::"
   ]
  },
  {
   "cell_type": "code",
   "execution_count": null,
   "id": "c2267ac1-dfe4-4328-a42d-e6224809bce0",
   "metadata": {},
   "outputs": [],
   "source": []
  },
  {
   "cell_type": "code",
   "execution_count": null,
   "id": "ff31d6cc-2b89-4b99-9b95-74a15a6d0481",
   "metadata": {},
   "outputs": [],
   "source": []
  },
  {
   "cell_type": "code",
   "execution_count": null,
   "id": "181ebf75-4260-4def-9e40-0e095d397461",
   "metadata": {},
   "outputs": [],
   "source": []
  }
 ],
 "metadata": {
  "kernelspec": {
   "display_name": "dissipationtheory",
   "language": "python",
   "name": "dissipationtheory"
  },
  "language_info": {
   "codemirror_mode": {
    "name": "ipython",
    "version": 3
   },
   "file_extension": ".py",
   "mimetype": "text/x-python",
   "name": "python",
   "nbconvert_exporter": "python",
   "pygments_lexer": "ipython3",
   "version": "3.10.2"
  }
 },
 "nbformat": 4,
 "nbformat_minor": 5
}
