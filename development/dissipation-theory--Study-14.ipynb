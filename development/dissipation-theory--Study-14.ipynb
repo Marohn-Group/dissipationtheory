{
 "cells": [
  {
   "cell_type": "markdown",
   "id": "34939dc6-413f-4844-a55b-f7a20b152160",
   "metadata": {},
   "source": [
    "* Name: `dissipation-theory--Study-14.ipynb`\n",
    "* Author: John A. Marohn\n",
    "* Date: 2023-12-01\n",
    "* Continued from: `dissipation-theory--Study-12.ipynb`\n",
    "* Continued to: ---\n",
    "* Summary: Calculate dissipation $\\gamma_{\\perp}$ versus charge density $\\rho$ for a representive perovskite sample.\n",
    "\n",
    "Compare the exact result to the low-density exapansion and an analytical expression for $\\gamma_{\\perp}^{\\mathrm{max}}$.  Both these approximations are only valid in the infinite-sample limit, so use Model 2 with the dielectric overlayer thickness set to zero.  Compare the infinite-sample Model 2 result to a finite-sample Model 1 result, to check the validity of the infinite-sample approximation used to obtain an analytical result for the height dependence of the $\\gamma_{\\perp}$."
   ]
  },
  {
   "cell_type": "markdown",
   "id": "774655a3-8738-4520-a92d-ae7c8bf518c2",
   "metadata": {},
   "source": [
    "# Preliminaries"
   ]
  },
  {
   "cell_type": "code",
   "execution_count": 5,
   "id": "afc64c4d-8779-4558-8ea3-3bd12b828cb4",
   "metadata": {},
   "outputs": [],
   "source": [
    "import numpy as np\n",
    "import matplotlib.pyplot as plt"
   ]
  },
  {
   "cell_type": "code",
   "execution_count": 27,
   "id": "eb8a45c5-102c-45d5-b18b-10bdd16093ca",
   "metadata": {},
   "outputs": [],
   "source": [
    "from dissipationtheory.constants import ureg, qe\n",
    "from dissipationtheory.dissipation import CantileverModel, SampleModel2\n",
    "from dissipationtheory.dissipation import CantileverModelJit, SampleModel2Jit\n",
    "from dissipationtheory.dissipation import theta2norm_jit, gamma_perpendicular_jit, gamma_perpendicular_approx"
   ]
  },
  {
   "cell_type": "code",
   "execution_count": 7,
   "id": "e8508aa5-186a-405f-8601-34cd5fef89a7",
   "metadata": {},
   "outputs": [],
   "source": [
    "from dissipationtheory.constants import epsilon0\n",
    "from dissipationtheory.capacitance import Csphere, CsphereOverSemi"
   ]
  },
  {
   "cell_type": "code",
   "execution_count": 8,
   "id": "71e00ad1-4a16-471c-8fa1-16083a115b52",
   "metadata": {},
   "outputs": [],
   "source": [
    "THIS = 'dissipation-theory--Study-14'"
   ]
  },
  {
   "cell_type": "markdown",
   "id": "c32316e5-aafa-4377-ae1a-57efe1b7e4d3",
   "metadata": {},
   "source": [
    "# Infinitely thick sample"
   ]
  },
  {
   "cell_type": "code",
   "execution_count": 53,
   "id": "194d4c47-cfa1-4a3b-a619-68a70183dd37",
   "metadata": {},
   "outputs": [],
   "source": [
    "hd = ureg.Quantity(0., 'nanometer')   # no dielectric overlayer\n",
    "epsilond = complex(1., 0.)            # doesn't matter since hd = 0\n",
    "epsilons = complex(26., 0.)           # Frost2014may, assume only real part\n",
    "rho = ureg.Quantity(1e15,'cm^{-3}')   # 1e13 to 1e16 (1 to 1000 mW/cm^2)) -- Kim2018may Figure S9\n",
    "mu = ureg.Quantity(8e-4, 'cm^2/(s V)')  # Kim2018may Figure S9; 8 cm^2/Vs\n",
    "\n",
    "fc = ureg.Quantity(75, 'kHz')       # measured\n",
    "Vts = ureg.Quantity(1, 'volt')      # measured\n",
    "r = ureg.Quantity(30, 'nanometer')  # spec\n",
    "h = ureg.Quantity(40, 'nanometer')  # measured"
   ]
  },
  {
   "cell_type": "markdown",
   "id": "7929e093-598e-46f0-943e-61878c518da2",
   "metadata": {},
   "source": [
    "The associated conductivity is"
   ]
  },
  {
   "cell_type": "code",
   "execution_count": 54,
   "id": "77553325-9afb-42e8-9ba5-bcad27d98210",
   "metadata": {},
   "outputs": [
    {
     "name": "stdout",
     "output_type": "stream",
     "text": [
      "conductivity = +1.28e-07 S/cm\n"
     ]
    }
   ],
   "source": [
    "sigma = (qe * mu * rho).to('S/m')\n",
    "print('conductivity = {:+.2e~P}'.format(sigma.to('S/cm')))"
   ]
  },
  {
   "cell_type": "markdown",
   "id": "abd79ce4-9eb0-4cbf-8499-5fac60f7bc49",
   "metadata": {},
   "source": [
    "Set up a Model 2 experiment.  We need two version of the sample model -- the jit version for the fast numerical computation and the regular version for the analytical approximation."
   ]
  },
  {
   "cell_type": "code",
   "execution_count": 63,
   "id": "5440b3fd-cd94-4c4f-8614-75d9c71681b2",
   "metadata": {},
   "outputs": [],
   "source": [
    "sample2_jit = SampleModel2Jit(\n",
    "    cantilever=CantileverModelJit(\n",
    "        fc.to('Hz').magnitude, \n",
    "        Vts.to('V').magnitude,  \n",
    "        r.to('m').magnitude, \n",
    "        h.to('m').magnitude), \n",
    "    epsilon_d=epsilond,\n",
    "    h_d=hd.to('m').magnitude,\n",
    "    epsilon_s=epsilons,\n",
    "    mu=mu.to('m^2/(s V)').magnitude,\n",
    "    rho=rho.to('m^{-3}').magnitude,\n",
    "    z_r=h.to('m').magnitude)"
   ]
  },
  {
   "cell_type": "code",
   "execution_count": 64,
   "id": "5e58a829-0f58-485f-b0f3-77888b70a267",
   "metadata": {},
   "outputs": [],
   "source": [
    "sample2 = SampleModel2(\n",
    "    cantilever=CantileverModel(fc, Vts, r, h),\n",
    "    epsilon_d=ureg.Quantity(epsilond,''),\n",
    "    h_d=hd,\n",
    "    epsilon_s=ureg.Quantity(epsilons,''),\n",
    "    mu=mu,\n",
    "    rho=rho,\n",
    "    z_r=h)"
   ]
  },
  {
   "cell_type": "markdown",
   "id": "df14e7f5-dffa-4eed-8927-ece2488e4ad4",
   "metadata": {},
   "source": [
    "Simulate friction versus charge density."
   ]
  },
  {
   "cell_type": "code",
   "execution_count": 65,
   "id": "58ac70d6-261b-4dc2-b569-10279c89469e",
   "metadata": {},
   "outputs": [],
   "source": [
    "rho_= ureg.Quantity(np.logspace(start=11, stop=16, num=50), '1/cm^3')\n",
    "sigma_ = (qe * mu * rho_).to('1/(ohm m)')"
   ]
  },
  {
   "cell_type": "code",
   "execution_count": 66,
   "id": "0d93a213-f442-45e4-b5f7-353427ec2388",
   "metadata": {},
   "outputs": [
    {
     "name": "stdout",
     "output_type": "stream",
     "text": [
      "CPU times: user 554 ms, sys: 18.1 ms, total: 572 ms\n",
      "Wall time: 811 ms\n"
     ]
    }
   ],
   "source": [
    "%%time\n",
    "result1 = {\n",
    "    'rho': rho_,\n",
    "    'sigma': sigma_,\n",
    "    'gamma': ureg.Quantity(np.zeros_like(rho_), 'pN s/m')\n",
    "}\n",
    "\n",
    "for index, rho__ in enumerate(rho_):\n",
    "\n",
    "        sample2_jit.rho = rho__.to('1/m^3').magnitude\n",
    "        result1['gamma'][index] = gamma_perpendicular_jit(theta2norm_jit, sample2_jit).to('pN s/m')"
   ]
  },
  {
   "cell_type": "markdown",
   "id": "8365318a-f117-4b3f-9593-b70ef377a362",
   "metadata": {},
   "source": [
    "Compute the low-density approximation."
   ]
  },
  {
   "cell_type": "code",
   "execution_count": 67,
   "id": "9930d5b5-b247-4602-a8b2-2b62c903238a",
   "metadata": {},
   "outputs": [
    {
     "data": {
      "text/plain": [
       "(array([1.00000000e+17, 1.26485522e+17, 1.59985872e+17, 2.02358965e+17,\n",
       "        2.55954792e+17, 3.23745754e+17, 4.09491506e+17, 5.17947468e+17,\n",
       "        6.55128557e+17, 8.28642773e+17, 1.04811313e+18, 1.32571137e+18,\n",
       "        1.67683294e+18, 2.12095089e+18, 2.68269580e+18, 3.39322177e+18,\n",
       "        4.29193426e+18, 5.42867544e+18, 6.86648845e+18, 8.68511374e+18,\n",
       "        1.09854114e+19, 1.38949549e+19, 1.75751062e+19, 2.22299648e+19,\n",
       "        2.81176870e+19, 3.55648031e+19, 4.49843267e+19, 5.68986603e+19,\n",
       "        7.19685673e+19, 9.10298178e+19, 1.15139540e+20, 1.45634848e+20,\n",
       "        1.84206997e+20, 2.32995181e+20, 2.94705170e+20, 3.72759372e+20,\n",
       "        4.71486636e+20, 5.96362332e+20, 7.54312006e+20, 9.54095476e+20,\n",
       "        1.20679264e+21, 1.52641797e+21, 1.93069773e+21, 2.44205309e+21,\n",
       "        3.08884360e+21, 3.90693994e+21, 4.94171336e+21, 6.25055193e+21,\n",
       "        7.90604321e+21]) <Unit('1 / meter ** 3')>,\n",
       " array([0., 0., 0., 0., 0., 0., 0., 0., 0., 0., 0., 0., 0., 0., 0., 0., 0.,\n",
       "        0., 0., 0., 0., 0., 0., 0., 0., 0., 0., 0., 0., 0., 0., 0., 0., 0.,\n",
       "        0., 0., 0., 0., 0., 0., 0., 0., 0., 0., 0., 0., 0., 0., 0.]) <Unit('piconewton * second / meter')>)"
      ]
     },
     "execution_count": 67,
     "metadata": {},
     "output_type": "execute_result"
    }
   ],
   "source": [
    "gamma_perpendicular_approx(rho_, sample2)"
   ]
  },
  {
   "cell_type": "markdown",
   "id": "69d7a8e8-b8a5-409a-9fd6-18e569d8b5d3",
   "metadata": {},
   "source": [
    "Why are the arrays empty?  Check the critical density; maybe we are below it.  Steal, then modify, the following code fragment from the definition of `gamma_perpendicular_approx`."
   ]
  },
  {
   "cell_type": "code",
   "execution_count": 68,
   "id": "efd3903d-8d7f-4394-bd3e-ece842218a99",
   "metadata": {},
   "outputs": [],
   "source": [
    "rho_x = ((sample2.cantilever.omega_c * epsilon0)/(qe * sample2.mu)).to('1/m^3').magnitude\n",
    "r2  = ((sample2.epsilon_s.real**2 \n",
    "    + sample2.epsilon_s.imag**2)/sample2.epsilon_s.real).to('dimensionless').magnitude\n",
    "rho2crit = r2 * rho_x"
   ]
  },
  {
   "cell_type": "code",
   "execution_count": 69,
   "id": "8ecaa51c-a4d9-4341-8c00-d43cd1380dc3",
   "metadata": {},
   "outputs": [
    {
     "data": {
      "text/plain": [
       "8.463750061546535e+21"
      ]
     },
     "execution_count": 69,
     "metadata": {},
     "output_type": "execute_result"
    }
   ],
   "source": [
    "rho2crit"
   ]
  },
  {
   "cell_type": "markdown",
   "id": "fc111d21-ca7b-4d45-a3f6-3c514b74ba66",
   "metadata": {},
   "source": [
    "Plot the friction versus charge density."
   ]
  },
  {
   "cell_type": "code",
   "execution_count": 70,
   "id": "9b1a3cea-74c9-4539-b528-f1c949e3a733",
   "metadata": {},
   "outputs": [
    {
     "data": {
      "image/png": "[encoded data removed]",
      "text/plain": [
       "<Figure size 325x275 with 1 Axes>"
      ]
     },
     "metadata": {},
     "output_type": "display_data"
    }
   ],
   "source": [
    "fig = plt.figure(figsize=(3.25, 2.75))\n",
    "\n",
    "plt.loglog(\n",
    "    result1['rho'].to('1/m^3').magnitude,\n",
    "    result1['gamma'].to('pN s/m').magnitude,\n",
    "    '.')\n",
    "\n",
    "x,y = gamma_perpendicular_approx(rho_, sample2)\n",
    "plt.loglog(\n",
    "    x.to('1/m^3').magnitude,\n",
    "    y.to('pN s/m').magnitude,\n",
    "    '-')\n",
    "\n",
    "plt.xlabel(r'charge density $\\rho$ [m$^{-3}$]')  # need a raw string here because \\r is the special carriage return character\n",
    "plt.ylabel('friction $\\gamma_{\\perp}$ [pN s/m]')\n",
    "plt.tight_layout()\n",
    "\n",
    "plt.savefig(THIS + '--Fig-1.png', dpi=300)\n",
    "plt.savefig(THIS + '--Fig-1.pdf')\n",
    "\n",
    "plt.show()"
   ]
  },
  {
   "cell_type": "code",
   "execution_count": null,
   "id": "a46ddcc1-31f0-4e53-aef4-b7f7e01f3262",
   "metadata": {},
   "outputs": [],
   "source": []
  }
 ],
 "metadata": {
  "kernelspec": {
   "display_name": "dissipationtheory",
   "language": "python",
   "name": "dissipationtheory"
  },
  "language_info": {
   "codemirror_mode": {
    "name": "ipython",
    "version": 3
   },
   "file_extension": ".py",
   "mimetype": "text/x-python",
   "name": "python",
   "nbconvert_exporter": "python",
   "pygments_lexer": "ipython3",
   "version": "3.8.5"
  }
 },
 "nbformat": 4,
 "nbformat_minor": 5
}
