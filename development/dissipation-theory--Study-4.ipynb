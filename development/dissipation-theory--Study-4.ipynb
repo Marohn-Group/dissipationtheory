{
 "cells": [
  {
   "cell_type": "markdown",
   "id": "660096e7-8e96-42b1-ad19-2a8a42bd9b4e",
   "metadata": {},
   "source": [
    "# Summary\n",
    "\n",
    "* Name: `dissipation-theory--Study-4.ipynb`\n",
    "* Author: John A. Marohn\n",
    "* Date: 2023-09-25\n",
    "* Continued from: `dissipation-theory--Study-3.ipynb`\n",
    "* Continued to: ---\n",
    "* Look at ways to cut down code redundancy in the code in `dissipation-theory--Study-3.ipynb`.  I would *greatly* simplify my code if the sample object would update the diffusion length automatically when the mobility or cantilever period was updated.\n",
    "\n",
    "Research the python `@property` decorator.  Some useful discussions:\n",
    "\n",
    "* https://realpython.com/python-property/\n",
    "* https://stackoverflow.com/questions/67089941/is-it-worth-using-pythons-property-decorator-if-you-dont-mind-using-a-method\n",
    "\n",
    "To see what `@property` is doing, compare the following two class definitions."
   ]
  },
  {
   "cell_type": "markdown",
   "id": "1897d56d-0185-4022-b1e0-eecb2c2fdd62",
   "metadata": {},
   "source": [
    "# `@property` examples"
   ]
  },
  {
   "cell_type": "markdown",
   "id": "970a70e8-d09b-4a64-bb70-55e648be748b",
   "metadata": {},
   "source": [
    "## Example 1\n",
    "\n",
    "Compute the area of a rectanble using the current values of width and height.  But `width` and `height` are attributes while `area()` is a function."
   ]
  },
  {
   "cell_type": "code",
   "execution_count": 1,
   "id": "781b4a69-7e57-4ce8-ab3d-e895e1bae6df",
   "metadata": {},
   "outputs": [],
   "source": [
    "class Rectangle:\n",
    "    def __init__(self, width, height):\n",
    "        self.width = width\n",
    "        self.height = height\n",
    "\n",
    "    def area(self):\n",
    "        return self.width * self.height"
   ]
  },
  {
   "cell_type": "markdown",
   "id": "79706bc5-80b8-4409-92ed-48701d5dc461",
   "metadata": {},
   "source": [
    "To compute the area, we have to call the function `r.area()`."
   ]
  },
  {
   "cell_type": "code",
   "execution_count": 2,
   "id": "3cbfb1ec-aae1-4b9c-a400-8d191b8bc0bd",
   "metadata": {},
   "outputs": [
    {
     "data": {
      "text/plain": [
       "6"
      ]
     },
     "execution_count": 2,
     "metadata": {},
     "output_type": "execute_result"
    }
   ],
   "source": [
    "r = Rectangle(2,3)\n",
    "r.area()"
   ]
  },
  {
   "cell_type": "code",
   "execution_count": 3,
   "id": "9204e2e0-7c58-4dbf-b980-1e93a62722e6",
   "metadata": {},
   "outputs": [
    {
     "data": {
      "text/plain": [
       "<bound method Rectangle.area of <__main__.Rectangle object at 0x10b361670>>"
      ]
     },
     "execution_count": 3,
     "metadata": {},
     "output_type": "execute_result"
    }
   ],
   "source": [
    "r = Rectangle(2,3)\n",
    "r.area"
   ]
  },
  {
   "cell_type": "markdown",
   "id": "291def8a-e949-4567-be00-4626aac75f58",
   "metadata": {},
   "source": [
    "The area is nevertheless computed correctly if we update the height after the object is initialized."
   ]
  },
  {
   "cell_type": "code",
   "execution_count": 4,
   "id": "daa45552-2740-44dc-b523-654bcd761926",
   "metadata": {},
   "outputs": [
    {
     "data": {
      "text/plain": [
       "8"
      ]
     },
     "execution_count": 4,
     "metadata": {},
     "output_type": "execute_result"
    }
   ],
   "source": [
    "r = Rectangle(2,3)\n",
    "r.height = 4\n",
    "r.area()"
   ]
  },
  {
   "cell_type": "markdown",
   "id": "915fb922-784a-4c27-9c3a-782ecddff282",
   "metadata": {},
   "source": [
    "## Example 2\n",
    "\n",
    "Add the `@property` decorator to the `area` function and now the `area` function not behaves like an attribute.  The function `area()` is called when the programmer asks for the attrubute `area`."
   ]
  },
  {
   "cell_type": "code",
   "execution_count": 5,
   "id": "bbb5975e-3f43-4ea0-9ccc-a8e80096eb30",
   "metadata": {},
   "outputs": [],
   "source": [
    "class Rectangle:\n",
    "    def __init__(self, width, height):\n",
    "        self.width = width\n",
    "        self.height = height\n",
    "\n",
    "    @property\n",
    "    def area(self):\n",
    "        return self.width * self.height"
   ]
  },
  {
   "cell_type": "markdown",
   "id": "654172ef-3ab8-4f3d-91c4-c3e903ca8ed1",
   "metadata": {},
   "source": [
    "To comute the area, we can now just ask for the attribute `r.area`."
   ]
  },
  {
   "cell_type": "code",
   "execution_count": 6,
   "id": "f159cfad-76b3-417c-a621-aa8fb187564d",
   "metadata": {},
   "outputs": [
    {
     "data": {
      "text/plain": [
       "6"
      ]
     },
     "execution_count": 6,
     "metadata": {},
     "output_type": "execute_result"
    }
   ],
   "source": [
    "r = Rectangle(2,3)\n",
    "r.area"
   ]
  },
  {
   "cell_type": "markdown",
   "id": "bf5466c7-8a34-4644-9c22-0c11d032ef44",
   "metadata": {},
   "source": [
    "The area is again computed correctly if we update the height after the object is initialized."
   ]
  },
  {
   "cell_type": "code",
   "execution_count": 7,
   "id": "8101d1f8-3cd5-4b09-9348-34de6f3d487e",
   "metadata": {},
   "outputs": [
    {
     "data": {
      "text/plain": [
       "8"
      ]
     },
     "execution_count": 7,
     "metadata": {},
     "output_type": "execute_result"
    }
   ],
   "source": [
    "r = Rectangle(2,3)\n",
    "r.height = 4\n",
    "r.area"
   ]
  },
  {
   "cell_type": "markdown",
   "id": "b3e42a5a-38a7-4de0-b2b9-b955d9bd8ab5",
   "metadata": {},
   "source": [
    "# Preliminaries"
   ]
  },
  {
   "cell_type": "code",
   "execution_count": 8,
   "id": "ce590231-1330-4dbc-b6a5-147727c412cf",
   "metadata": {},
   "outputs": [],
   "source": [
    "import numpy as np\n",
    "from dissipationtheory.constants import ureg, epsilon0, qe, kb\n",
    "import matplotlib.pyplot as plt\n",
    "from scipy import integrate\n",
    "from tqdm import tqdm\n",
    "import pandas as pd"
   ]
  },
  {
   "cell_type": "code",
   "execution_count": 9,
   "id": "3cb25cc0-e2d8-4c75-b050-831532bde797",
   "metadata": {},
   "outputs": [],
   "source": [
    "THIS = 'dissipation-theory--Study-4'"
   ]
  },
  {
   "cell_type": "markdown",
   "id": "321d9040-89d0-4d41-8495-70f7664f5da0",
   "metadata": {},
   "source": [
    "# Redefine the sample and cantilever classes \n",
    "\n",
    "Redefine the classes to represent the cantilever and the sample using `@property` so that derived quantities, like the diffusion length tnat the Debye length, are computed afresh when you ask for them."
   ]
  },
  {
   "cell_type": "code",
   "execution_count": 10,
   "id": "892e18d2-40d2-4cfb-8d9f-318e7f9632cc",
   "metadata": {},
   "outputs": [],
   "source": [
    "class CantileverModel(object):\n",
    "\n",
    "    def __init__(self, f_c, V_ts, R, d):\n",
    "\n",
    "        self.f_c = f_c\n",
    "        self.V_ts = V_ts\n",
    "        self.R = R\n",
    "        self.d = d\n",
    "\n",
    "    @property\n",
    "    def omega_c(self):\n",
    "        return 2 * np.pi * self.f_c\n",
    "\n",
    "    def __repr__(self):\n",
    "\n",
    "        str = 'cantilever\\n\\n'\n",
    "        str = str + '      resonance freq = {:.3f} kHz\\n'.format(self.f_c.to('kHz').magnitude)\n",
    "        str = str + '                     = {:.3e} rad/s\\n'.format(self.omega_c.to('Hz').magnitude)\n",
    "        str = str + '  tip-sample voltage = {:.3f} V\\n'.format(self.V_ts.to('V').magnitude)\n",
    "        str = str + '              radius = {:.3f} nm\\n'.format(self.R.to('nm').magnitude)\n",
    "        str = str + '              height = {:.3f} nm\\n'.format(self.d.to('nm').magnitude)\n",
    "        \n",
    "        return str"
   ]
  },
  {
   "cell_type": "markdown",
   "id": "b62f52b5-6449-4c50-aead-d26759d38a43",
   "metadata": {},
   "source": [
    "Define a representative cantilever object."
   ]
  },
  {
   "cell_type": "code",
   "execution_count": 11,
   "id": "b2a9e8d8-cc55-4db7-9c59-049ac228bd41",
   "metadata": {},
   "outputs": [],
   "source": [
    "cantilever = CantileverModel(\n",
    "    \n",
    "    f_c = ureg.Quantity(81, 'kHz'),\n",
    "    V_ts = ureg.Quantity(3, 'V'),\n",
    "    R = ureg.Quantity(80, 'nm'),\n",
    "    d = ureg.Quantity(300, 'nm')\n",
    ")"
   ]
  },
  {
   "cell_type": "markdown",
   "id": "c6feaa98-6491-4671-a6e2-740f9222580c",
   "metadata": {},
   "source": [
    "Ask for $\\omega_{\\mathrm{c}} = 2 \\pi f_{\\mathrm{c}}$"
   ]
  },
  {
   "cell_type": "code",
   "execution_count": 12,
   "id": "45f3508b-bd55-4b36-8ec7-5037ee07ae8b",
   "metadata": {},
   "outputs": [
    {
     "data": {
      "text/html": [
       "508.93800988154646 kilohertz"
      ],
      "text/latex": [
       "$508.93800988154646\\ \\mathrm{kilohertz}$"
      ],
      "text/plain": [
       "508.93800988154646 <Unit('kilohertz')>"
      ]
     },
     "execution_count": 12,
     "metadata": {},
     "output_type": "execute_result"
    }
   ],
   "source": [
    "cantilever.omega_c"
   ]
  },
  {
   "cell_type": "markdown",
   "id": "82f050f1-c3d4-4e82-a2d4-06603d8203a6",
   "metadata": {},
   "source": [
    "Double $f_{\\mathrm{c}}$ and confirm that $\\omega_{\\mathrm{c}} = 2 \\pi f_{\\mathrm{c}}$ is now updated appropriately."
   ]
  },
  {
   "cell_type": "code",
   "execution_count": 13,
   "id": "32ef3e71-0d8d-4f9b-8ae3-bd729830f3a2",
   "metadata": {},
   "outputs": [
    {
     "data": {
      "text/html": [
       "1017.8760197630929 kilohertz"
      ],
      "text/latex": [
       "$1017.8760197630929\\ \\mathrm{kilohertz}$"
      ],
      "text/plain": [
       "1017.8760197630929 <Unit('kilohertz')>"
      ]
     },
     "execution_count": 13,
     "metadata": {},
     "output_type": "execute_result"
    }
   ],
   "source": [
    "cantilever.f_c = ureg.Quantity(162, 'kHz')\n",
    "cantilever.omega_c"
   ]
  },
  {
   "cell_type": "code",
   "execution_count": 14,
   "id": "59afcd3d-675b-419a-981b-d0d15b82dd6a",
   "metadata": {},
   "outputs": [
    {
     "data": {
      "text/plain": [
       "cantilever\n",
       "\n",
       "      resonance freq = 162.000 kHz\n",
       "                     = 1.018e+06 rad/s\n",
       "  tip-sample voltage = 3.000 V\n",
       "              radius = 80.000 nm\n",
       "              height = 300.000 nm"
      ]
     },
     "execution_count": 14,
     "metadata": {},
     "output_type": "execute_result"
    }
   ],
   "source": [
    "cantilever"
   ]
  },
  {
   "cell_type": "markdown",
   "id": "d90a71cb-fd7c-44f6-bf57-0bb20fe6faf3",
   "metadata": {},
   "source": [
    "Redefine `Sample1` analogously."
   ]
  },
  {
   "cell_type": "code",
   "execution_count": 15,
   "id": "c29d4786-0a9a-45d6-b449-fc799945f360",
   "metadata": {},
   "outputs": [],
   "source": [
    "class SampleModel1(object):\n",
    "    \n",
    "    def __init__(self, cantilever, h_s, epsilon_s, mu, rho, epsilon_d, z_r):\n",
    "\n",
    "        self.cantilever = cantilever\n",
    "        self.epsilon_s = epsilon_s\n",
    "        self.h_s = h_s\n",
    "        self.mu = mu\n",
    "        self.rho = rho\n",
    "        self.epsilon_d = epsilon_d\n",
    "        self.z_r = z_r\n",
    "\n",
    "    @property\n",
    "    def D(self):\n",
    "        return ((kb * ureg.Quantity(300., 'K') * self.mu) / qe).to('m^2/s')\n",
    "\n",
    "    @property\n",
    "    def Ld(self):\n",
    "        return (np.sqrt(self.D / self.cantilever.omega_c)).to('nm')\n",
    "    \n",
    "    @property\n",
    "    def LD(self):\n",
    "        return (np.sqrt((epsilon0 * kb * ureg.Quantity(300., 'K'))/(self.rho * qe * qe))).to('nm')\n",
    "\n",
    "    @property\n",
    "    def epsilon_eff(self):\n",
    "        return (self.epsilon_s - complex(0,1) * self.Ld**2 / self.LD**2).to_base_units()\n",
    "\n",
    "    def __repr__(self):\n",
    "\n",
    "        str = self.cantilever.__repr__()\n",
    "        str = str + '\\nsemiconductor\\n\\n'\n",
    "        str = str + '             epsilon (real) = {:0.3f}\\n'.format(self.epsilon_s.to('').real.magnitude)\n",
    "        str = str + '             epsilon (imag) = {:0.3f}\\n'.format(self.epsilon_s.to('').imag.magnitude)\n",
    "        str = str + '                  thickness = {:.3} nm\\n'.format(self.h_s.to('nm').magnitude)\n",
    "        str = str + '                   mobility = {:0.3e} m^2/(V s)\\n'.format(self.mu.to('m^2/(V s)').magnitude)\n",
    "        str = str + '         diffusion constant = {:0.3e} m^2/s\\n'.format(self.D.to('m^2/s').magnitude)\n",
    "        str = str + '             charge density = {:0.3e} m^{{-3}}\\n'.format(self.rho.to('1/m^3').magnitude)\n",
    "        str = str + '           reference height = {:0.3e} nm\\n'.format(self.z_r.to('nm').magnitude)\n",
    "        str = str + '               Debye length = {:0.3e} nm\\n'.format(self.LD.to('nm').magnitude)\n",
    "        str = str + '           diffusion length = {:0.3e} nm\\n'.format(self.Ld.to('nm').magnitude)\n",
    "        str = str + '   effective epsilon (real) = {:0.3f}\\n'.format(self.epsilon_eff.to('').real.magnitude)\n",
    "        str = str + '   effective epsilon (imag) = {:0.3f}\\n\\n'.format(self.epsilon_eff.to('').imag.magnitude)\n",
    "        str = str + 'dielectric\\n\\n'\n",
    "        str = str + '  epsilon (real) = {:0.3f}\\n'.format(self.epsilon_d.to('').real.magnitude)\n",
    "        str = str + '  epsilon (imag) = {:0.3f}\\n'.format(self.epsilon_d.to('').imag.magnitude)\n",
    "        str = str + '       thickness = infinite'\n",
    "        \n",
    "        return str"
   ]
  },
  {
   "cell_type": "code",
   "execution_count": 16,
   "id": "edf7579b-185c-422e-a681-9b101bbd1b98",
   "metadata": {},
   "outputs": [],
   "source": [
    "sample1 = SampleModel1(\n",
    "\n",
    "    cantilever = CantileverModel(\n",
    "        f_c = ureg.Quantity(81.01, 'kHz'), \n",
    "        V_ts = ureg.Quantity(3.01, 'V'), \n",
    "        R = ureg.Quantity(80.01, 'nm'), \n",
    "        d = ureg.Quantity(300.01, 'nm')),\n",
    "    h_s = ureg.Quantity(1e6, 'nm'),\n",
    "    epsilon_s = ureg.Quantity(complex(11.9, -0.05), ''),\n",
    "    mu = ureg.Quantity(1e-5, 'm^2/(V s)'),\n",
    "    rho = ureg.Quantity(1e21, '1/m^3'),\n",
    "    epsilon_d = ureg.Quantity(complex(11.9, -0.05), ''),\n",
    "    z_r = ureg.Quantity(100, 'nm')\n",
    ")"
   ]
  },
  {
   "cell_type": "code",
   "execution_count": 17,
   "id": "3c851d4f-fd75-4043-b564-13569bd010a1",
   "metadata": {},
   "outputs": [
    {
     "data": {
      "text/plain": [
       "cantilever\n",
       "\n",
       "      resonance freq = 81.010 kHz\n",
       "                     = 5.090e+05 rad/s\n",
       "  tip-sample voltage = 3.010 V\n",
       "              radius = 80.010 nm\n",
       "              height = 300.010 nm\n",
       "\n",
       "semiconductor\n",
       "\n",
       "             epsilon (real) = 11.900\n",
       "             epsilon (imag) = -0.050\n",
       "                  thickness = 1e+06 nm\n",
       "                   mobility = 1.000e-05 m^2/(V s)\n",
       "         diffusion constant = 2.585e-07 m^2/s\n",
       "             charge density = 1.000e+21 m^{-3}\n",
       "           reference height = 1.000e+02 nm\n",
       "               Debye length = 3.780e+01 nm\n",
       "           diffusion length = 7.127e+02 nm\n",
       "   effective epsilon (real) = 11.900\n",
       "   effective epsilon (imag) = -355.553\n",
       "\n",
       "dielectric\n",
       "\n",
       "  epsilon (real) = 11.900\n",
       "  epsilon (imag) = -0.050\n",
       "       thickness = infinite"
      ]
     },
     "execution_count": 17,
     "metadata": {},
     "output_type": "execute_result"
    }
   ],
   "source": [
    "sample1"
   ]
  },
  {
   "cell_type": "markdown",
   "id": "08adb996-4c12-4bd0-8fcc-be70cafd74a2",
   "metadata": {},
   "source": [
    "Print out the diffusion constant `D` and diffusion length `Ld`."
   ]
  },
  {
   "cell_type": "code",
   "execution_count": 18,
   "id": "663c9ec7-11a0-4b9f-b405-f9deb8b897e2",
   "metadata": {},
   "outputs": [
    {
     "data": {
      "text/plain": [
       "(2.5851999850977736e-07 <Unit('meter ** 2 / second')>,\n",
       " 712.6689245796254 <Unit('nanometer')>)"
      ]
     },
     "execution_count": 18,
     "metadata": {},
     "output_type": "execute_result"
    }
   ],
   "source": [
    "(sample1.D, sample1.Ld)"
   ]
  },
  {
   "cell_type": "markdown",
   "id": "6a4156cb-757e-46e2-bfae-e2a5985868d5",
   "metadata": {},
   "source": [
    "Increase the mobility by a factor of $10^{2}$ and observe that `D` increases by $10^{2}$ and `Ld` decreases by $10^{1}$."
   ]
  },
  {
   "cell_type": "code",
   "execution_count": 19,
   "id": "3d17583c-277d-475a-b651-6ec1eccfd19f",
   "metadata": {},
   "outputs": [
    {
     "data": {
      "text/plain": [
       "(2.585199985097773e-05 <Unit('meter ** 2 / second')>,\n",
       " 7126.689245796252 <Unit('nanometer')>)"
      ]
     },
     "execution_count": 19,
     "metadata": {},
     "output_type": "execute_result"
    }
   ],
   "source": [
    "sample1.mu = ureg.Quantity(1e-3, 'm^2/(V s)')\n",
    "(sample1.D, sample1.Ld)"
   ]
  },
  {
   "cell_type": "markdown",
   "id": "c8d84ca2-b4fc-4938-a510-208e089881bb",
   "metadata": {},
   "source": [
    "Decrease the cantilever resonance frequency by $4$-fold and obseve that the diffusion length `Ld` increases by $2$-fold."
   ]
  },
  {
   "cell_type": "code",
   "execution_count": 20,
   "id": "bd4fda40-1481-4e66-98b7-943bb55de181",
   "metadata": {},
   "outputs": [
    {
     "data": {
      "text/plain": [
       "(2.585199985097773e-05 <Unit('meter ** 2 / second')>,\n",
       " 10079.282706565251 <Unit('nanometer')>)"
      ]
     },
     "execution_count": 20,
     "metadata": {},
     "output_type": "execute_result"
    }
   ],
   "source": [
    "sample1.cantilever.f_c =  ureg.Quantity(40.5, 'kHz')\n",
    "(sample1.D, sample1.Ld)"
   ]
  },
  {
   "cell_type": "code",
   "execution_count": 21,
   "id": "8a7cc655-5bce-4c06-892e-195086ffe352",
   "metadata": {},
   "outputs": [
    {
     "data": {
      "text/plain": [
       "cantilever\n",
       "\n",
       "      resonance freq = 40.500 kHz\n",
       "                     = 2.545e+05 rad/s\n",
       "  tip-sample voltage = 3.010 V\n",
       "              radius = 80.010 nm\n",
       "              height = 300.010 nm\n",
       "\n",
       "semiconductor\n",
       "\n",
       "             epsilon (real) = 11.900\n",
       "             epsilon (imag) = -0.050\n",
       "                  thickness = 1e+06 nm\n",
       "                   mobility = 1.000e-03 m^2/(V s)\n",
       "         diffusion constant = 2.585e-05 m^2/s\n",
       "             charge density = 1.000e+21 m^{-3}\n",
       "           reference height = 1.000e+02 nm\n",
       "               Debye length = 3.780e+01 nm\n",
       "           diffusion length = 1.008e+04 nm\n",
       "   effective epsilon (real) = 11.900\n",
       "   effective epsilon (imag) = -71109.410\n",
       "\n",
       "dielectric\n",
       "\n",
       "  epsilon (real) = 11.900\n",
       "  epsilon (imag) = -0.050\n",
       "       thickness = infinite"
      ]
     },
     "execution_count": 21,
     "metadata": {},
     "output_type": "execute_result"
    }
   ],
   "source": [
    "sample1"
   ]
  },
  {
   "cell_type": "code",
   "execution_count": 22,
   "id": "c1d3bc4b-042e-4276-9b31-890cef2ace2c",
   "metadata": {},
   "outputs": [],
   "source": [
    "class SampleModel2(object):\n",
    "    \n",
    "    def __init__(self, cantilever, epsilon_d, h_d, epsilon_s, mu, rho, z_r):\n",
    "\n",
    "        self.cantilever = cantilever\n",
    "        self.epsilon_d = epsilon_d\n",
    "        self.h_d = h_d\n",
    "        self.epsilon_s = epsilon_s\n",
    "        self.mu = mu\n",
    "        self.rho = rho\n",
    "        self.z_r = z_r\n",
    "\n",
    "    @property\n",
    "    def D(self):\n",
    "        return ((kb * ureg.Quantity(300., 'K') * self.mu) / qe).to('m^2/s')\n",
    "\n",
    "    @property\n",
    "    def Ld(self):\n",
    "        return (np.sqrt(self.D / self.cantilever.omega_c)).to('nm')\n",
    "    \n",
    "    @property\n",
    "    def LD(self):\n",
    "        return (np.sqrt((epsilon0 * kb * ureg.Quantity(300., 'K'))/(self.rho * qe * qe))).to('nm')\n",
    "\n",
    "    @property\n",
    "    def epsilon_eff(self):\n",
    "        return (self.epsilon_s - complex(0,1) * self.Ld**2 / self.LD**2).to_base_units()\n",
    "\n",
    "    def __repr__(self):\n",
    "\n",
    "        str = self.cantilever.__repr__()\n",
    "        str = str + '\\ndielectric\\n\\n'\n",
    "        str = str + '  epsilon (real) = {:0.3f}\\n'.format(self.epsilon_d.to('').real.magnitude)\n",
    "        str = str + '  epsilon (imag) = {:0.3f}\\n'.format(self.epsilon_d.to('').imag.magnitude)\n",
    "        str = str + '       thickness = {:.1f} nm\\n\\n'.format(self.h_d.to('nm').magnitude)\n",
    "        str = str + 'semiconductor\\n\\n'\n",
    "        str = str + '             epsilon (real) = {:0.3f}\\n'.format(self.epsilon_s.to('').real.magnitude)\n",
    "        str = str + '             epsilon (imag) = {:0.3f}\\n'.format(self.epsilon_s.to('').imag.magnitude)\n",
    "        str = str + '                  thickness = infinite\\n'\n",
    "        str = str + '                   mobility = {:0.2e} m^2/(V s)\\n'.format(self.mu.to('m^2/(V s)').magnitude)\n",
    "        str = str + '         diffusion constant = {:0.2e} m^2/s\\n'.format(self.D.to('m^2/s').magnitude)\n",
    "        str = str + '             charge density = {:0.2e} m^{{-3}}\\n'.format(self.rho.to('1/m^3').magnitude)\n",
    "        str = str + '           reference height = {:0.1f} nm\\n'.format(self.z_r.to('nm').magnitude)\n",
    "        str = str + '               Debye length = {:0.1f} nm\\n'.format(self.LD.to('nm').magnitude)\n",
    "        str = str + '           diffusion length = {:0.1f} nm\\n'.format(self.Ld.to('nm').magnitude)\n",
    "        str = str + '   effective epsilon (real) = {:0.3f}\\n'.format(self.epsilon_eff.to('').real.magnitude)\n",
    "        str = str + '   effective epsilon (imag) = {:0.3f}\\n\\n'.format(self.epsilon_eff.to('').imag.magnitude)\n",
    "\n",
    "        return str"
   ]
  },
  {
   "cell_type": "markdown",
   "id": "609c0094-aaf8-4d56-a3ed-403134f96e8e",
   "metadata": {},
   "source": [
    "# Utility hyperbolic functions\n",
    "\n",
    "Define my own `sech(x)` and `csch(x)` functions that return 0 for large `x`, avoiding overflow problems.  See the StackOverflow discussion \"Overflow in Numpy Cosh Function\" ([link](https://stackoverflow.com/questions/31889801/overflow-in-numpy-cosh-function)).  Define the functions so they work on both numbers and numpy arrays.  "
   ]
  },
  {
   "cell_type": "code",
   "execution_count": 23,
   "id": "d204230e-3eca-43ef-8d59-5e7a2dbf742d",
   "metadata": {},
   "outputs": [],
   "source": [
    "def mysech(x):\n",
    "    \n",
    "    x = np.array(x)\n",
    "    mask = abs(x.real) < 710.4\n",
    "    values = np.zeros_like(x, dtype=complex)\n",
    "    values[mask] = 1/np.cosh(x[mask])\n",
    "    \n",
    "    return values"
   ]
  },
  {
   "cell_type": "code",
   "execution_count": 24,
   "id": "22c26c76-87e9-4ebc-b5f1-d1d6a80c7a8a",
   "metadata": {},
   "outputs": [],
   "source": [
    "def mycsch(x):\n",
    "    \n",
    "    x = np.array(x)\n",
    "    mask = abs(x.real) < 710.4\n",
    "    values = np.zeros_like(x, dtype=complex)\n",
    "    values[mask] = 1/np.sinh(x[mask])\n",
    "    \n",
    "    return values"
   ]
  },
  {
   "cell_type": "markdown",
   "id": "f5f9721d-7fcb-4326-b8b4-5473265321a3",
   "metadata": {},
   "source": [
    "# Capacitance over a semiconductor substrate"
   ]
  },
  {
   "cell_type": "code",
   "execution_count": 25,
   "id": "ba1e95e3-b842-4faa-bd24-96b4ee9b2d1c",
   "metadata": {},
   "outputs": [],
   "source": [
    "from sympy import symbols, acosh, sinh, lambdify"
   ]
  },
  {
   "cell_type": "code",
   "execution_count": 26,
   "id": "e6614d16-b459-4e78-91ae-5bbbc3ea7040",
   "metadata": {},
   "outputs": [],
   "source": [
    "height, R, power = symbols(\"d R n\")\n",
    "CsphereOverSemiTermSymbolic = {}\n",
    "CsphereOverSemiTermSymbolic[0] = (\n",
    "    R * sinh(acosh(1 + height / R)) / sinh(power * acosh(1 + height / R))\n",
    ")\n",
    "CsphereOverSemiTermSymbolic[1] = CsphereOverSemiTermSymbolic[0].diff(height)\n",
    "CsphereOverSemiTermSymbolic[2] = CsphereOverSemiTermSymbolic[0].diff(height).diff(height)\n",
    "\n",
    "CsphereOverSemiTerm = {}\n",
    "for key in CsphereOverSemiTermSymbolic.keys():\n",
    "    CsphereOverSemiTerm[key] = lambdify([height, R, power], CsphereOverSemiTermSymbolic[key])\n",
    "\n",
    "def CsphereOverSemi(index, height, radius, epsilon, nterm=21):\n",
    "    \"\"\"Capacitance (and derivatives) of a sphere above a semiconductor.\n",
    "\n",
    "    :param integer index: 0 for capacitance, 1 for 1st derivative, 2 for 2nd derivative\n",
    "    :param pint.util.Quantity height: sphere-to-plane separation\n",
    "    :param pint.util.Quantity radius: sphere radius\n",
    "    :param float: real part of the semiconductor's dielectric constant\n",
    "    :param int nterm: number of terms in the expansion\n",
    "\n",
    "    \"\"\"\n",
    "    H = ureg.Quantity(np.outer(height.magnitude, np.ones(nterm)), height.units)\n",
    "    n = np.outer(np.ones(len(height)), np.arange(1, nterm + 1))\n",
    "    return (\n",
    "        4\n",
    "        * np.pi\n",
    "        * epsilon0\n",
    "        * (np.power((1 - (1 / epsilon))/(1 + (1 / epsilon)), n - 1) * \\\n",
    "          CsphereOverSemiTerm[index](H, radius, n)).sum(axis=1).to_base_units()\n",
    "    )"
   ]
  },
  {
   "cell_type": "markdown",
   "id": "0bc4e34c-6cd8-433e-92c1-3c760e7bfdbf",
   "metadata": {},
   "source": [
    "# Sample 1 integrand"
   ]
  },
  {
   "cell_type": "code",
   "execution_count": 99,
   "id": "d46fd615-5549-4c38-8a2a-53bb5d81f28d",
   "metadata": {},
   "outputs": [],
   "source": [
    "sample1 = SampleModel1(\n",
    "\n",
    "    cantilever = CantileverModel(\n",
    "        f_c = ureg.Quantity(81, 'kHz'), \n",
    "        V_ts = ureg.Quantity(3, 'V'), \n",
    "        R = ureg.Quantity(80, 'nm'), \n",
    "        d = ureg.Quantity(300, 'nm')),\n",
    "    h_s = ureg.Quantity(3000., 'nm'),\n",
    "    epsilon_s = ureg.Quantity(complex(11.9, -0.05), ''),\n",
    "    mu = ureg.Quantity(2.7E-10, 'm^2/(V s)'),\n",
    "    rho = ureg.Quantity(1e21, '1/m^3'),\n",
    "    epsilon_d = ureg.Quantity(complex(11.9, -0.05), ''),\n",
    "    z_r = ureg.Quantity(300, 'nm')\n",
    ")"
   ]
  },
  {
   "cell_type": "code",
   "execution_count": 100,
   "id": "b70eb979-3df4-42c4-b3a6-56bd7db148ff",
   "metadata": {},
   "outputs": [
    {
     "data": {
      "text/plain": [
       "cantilever\n",
       "\n",
       "      resonance freq = 81.000 kHz\n",
       "                     = 5.089e+05 rad/s\n",
       "  tip-sample voltage = 3.000 V\n",
       "              radius = 80.000 nm\n",
       "              height = 300.000 nm\n",
       "\n",
       "semiconductor\n",
       "\n",
       "             epsilon (real) = 11.900\n",
       "             epsilon (imag) = -0.050\n",
       "                  thickness = 3e+03 nm\n",
       "                   mobility = 2.700e-10 m^2/(V s)\n",
       "         diffusion constant = 6.980e-12 m^2/s\n",
       "             charge density = 1.000e+21 m^{-3}\n",
       "           reference height = 3.000e+02 nm\n",
       "               Debye length = 3.780e+01 nm\n",
       "           diffusion length = 3.703e+00 nm\n",
       "   effective epsilon (real) = 11.900\n",
       "   effective epsilon (imag) = -0.060\n",
       "\n",
       "dielectric\n",
       "\n",
       "  epsilon (real) = 11.900\n",
       "  epsilon (imag) = -0.050\n",
       "       thickness = infinite"
      ]
     },
     "execution_count": 100,
     "metadata": {},
     "output_type": "execute_result"
    }
   ],
   "source": [
    "sample1"
   ]
  },
  {
   "cell_type": "markdown",
   "id": "df7c9bb2-1b7e-472e-aa1f-79998bacbe8b",
   "metadata": {},
   "source": [
    "Code from the last study, rewritten for clarity."
   ]
  },
  {
   "cell_type": "code",
   "execution_count": 101,
   "id": "3379c1ef-1d80-4953-ac5f-823d55025665",
   "metadata": {},
   "outputs": [],
   "source": [
    "def theta1norm(omega, sample, power):\n",
    "\n",
    "    r1 = sample.Ld**2 / (sample.epsilon_s * sample.LD**2)\n",
    "    r2 = sample.z_r**2 / (sample.epsilon_s * sample.LD**2)\n",
    "    r3 = sample.z_r**2 / sample.Ld**2\n",
    "    lambduh = (complex(0,1) * r1 * omega / np.sqrt(omega**2 + r2 + complex(0,1) * r3)).to('dimensionless').magnitude\n",
    "     \n",
    "    khs = (omega * sample.h_s / sample.z_r).to('dimensionless').magnitude\n",
    "\n",
    "    r1 = sample.h_s**2 / sample.z_r**2\n",
    "    r2 = sample.h_s**2 / (sample.epsilon_s * sample.LD**2)\n",
    "    r3 = sample.h_s**2 / sample.Ld**2\n",
    "    etahs = (np.sqrt(r1 * omega**2 + r2 + complex(0,1) * r3)).to('dimensionless').magnitude\n",
    "\n",
    "    alpha = (sample.epsilon_eff/sample.epsilon_d).to('').magnitude\n",
    "    \n",
    "    r1 = 1/sample.epsilon_eff\n",
    "    t1 = - lambduh / np.tanh(etahs)\n",
    "    t2 = np.tanh(khs) * np.tanh(etahs) \\\n",
    "         + alpha * np.tanh(etahs) \\\n",
    "         - lambduh \\\n",
    "         + 2 * lambduh * mysech(khs) * mysech(etahs) \\\n",
    "         - lambduh**2 * np.tanh(khs) * mysech(etahs) * mycsch(etahs)\n",
    "    t3 = np.tanh(etahs) \\\n",
    "         + np.tanh(khs) * (-1 * lambduh + alpha * np.tanh(etahs))\n",
    "\n",
    "    theta = (r1 * (t1 + t2 / t3)).to('dimensionless').magnitude\n",
    "\n",
    "    ratio = (1 - theta) / (1 + theta)\n",
    "    exponent = (2 * sample.cantilever.d / sample.z_r).to('dimensionless').magnitude\n",
    "\n",
    "    integrand = omega**power * np.exp(-1 * omega * exponent) * np.imag(ratio)\n",
    "\n",
    "    return integrand"
   ]
  },
  {
   "cell_type": "code",
   "execution_count": 102,
   "id": "6ae1b5f5-689b-4c8f-8ccf-585c7d1e2374",
   "metadata": {},
   "outputs": [],
   "source": [
    "def C(power, theta, sample):\n",
    "    \n",
    "    prefactor = (-1**(power + 1) * kb * ureg.Quantity(300., 'K')) / \\\n",
    "          (4 * np.pi * epsilon0 * sample.cantilever.omega_c * sample.z_r**(power+1))\n",
    "    \n",
    "    integral = integrate.quad(theta, 0., np.inf, args=(sample, power))[0]\n",
    "    \n",
    "    return (prefactor * 0.50 * integral).to_base_units()"
   ]
  },
  {
   "cell_type": "code",
   "execution_count": 103,
   "id": "2b6e48c5-7640-4c71-85d7-12bdb2a1376a",
   "metadata": {},
   "outputs": [],
   "source": [
    "def gamma_parallel(theta, sample):\n",
    "\n",
    "    prefactor = (sample.cantilever.V_ts**2 / (kb * ureg.Quantity(300., 'K'))).to('V/C')\n",
    "    \n",
    "    c0 = CsphereOverSemi(index=0, \n",
    "            height=sample.cantilever.d * np.ones(1), \n",
    "            radius=sample.cantilever.R, \n",
    "            epsilon=sample.epsilon_d.real.magnitude)\n",
    "\n",
    "    return prefactor * c0 * c0 * C(2, theta, sample)"
   ]
  },
  {
   "cell_type": "markdown",
   "id": "4187f552-a9a3-457a-8747-078ff62d5c6a",
   "metadata": {},
   "source": [
    "Loop over charge densities and compute the integral."
   ]
  },
  {
   "cell_type": "code",
   "execution_count": 104,
   "id": "cc654b32-1bb6-44b5-b975-169ce2abc176",
   "metadata": {},
   "outputs": [],
   "source": [
    "rho1_ = ureg.Quantity(np.logspace(start=15, stop=29, num=50), '1/m^3')\n",
    "gamma1 = ureg.Quantity(np.zeros_like(rho1_), 'pN s/m')\n",
    "\n",
    "for index, rho__ in enumerate(rho1_):\n",
    "\n",
    "    sample1.rho = rho__\n",
    "    gamma1[index] = gamma_parallel(theta1norm, sample1)"
   ]
  },
  {
   "cell_type": "markdown",
   "id": "ba8d089b-5a4b-4b6f-988a-c159fdc51f1b",
   "metadata": {},
   "source": [
    "# Sample 2 integrand"
   ]
  },
  {
   "cell_type": "code",
   "execution_count": 105,
   "id": "108cda73-42fe-4f4c-9143-6f148127beb4",
   "metadata": {},
   "outputs": [],
   "source": [
    "sample2 = SampleModel2(\n",
    "\n",
    "    cantilever = CantileverModel(\n",
    "        f_c = ureg.Quantity(81, 'kHz'), \n",
    "        V_ts = ureg.Quantity(3, 'V'), \n",
    "        R = ureg.Quantity(80, 'nm'), \n",
    "        d = ureg.Quantity(300, 'nm')),\n",
    "    h_d = ureg.Quantity(0., 'nm'),\n",
    "    epsilon_d = ureg.Quantity(complex(11.9, -0.05), ''),\n",
    "    epsilon_s = ureg.Quantity(complex(11.9, -0.05), ''),\n",
    "    mu = ureg.Quantity(2.7e-10, 'm^2/(V s)'),\n",
    "    rho = ureg.Quantity(1e21, '1/m^3'),\n",
    "    z_r = ureg.Quantity(300, 'nm')\n",
    ")"
   ]
  },
  {
   "cell_type": "code",
   "execution_count": 106,
   "id": "31987d19-26cd-454d-8e70-223a63ebea2e",
   "metadata": {},
   "outputs": [
    {
     "data": {
      "text/plain": [
       "cantilever\n",
       "\n",
       "      resonance freq = 81.000 kHz\n",
       "                     = 5.089e+05 rad/s\n",
       "  tip-sample voltage = 3.000 V\n",
       "              radius = 80.000 nm\n",
       "              height = 300.000 nm\n",
       "\n",
       "dielectric\n",
       "\n",
       "  epsilon (real) = 11.900\n",
       "  epsilon (imag) = -0.050\n",
       "       thickness = 0.0 nm\n",
       "\n",
       "semiconductor\n",
       "\n",
       "             epsilon (real) = 11.900\n",
       "             epsilon (imag) = -0.050\n",
       "                  thickness = infinite\n",
       "                   mobility = 2.70e-10 m^2/(V s)\n",
       "         diffusion constant = 6.98e-12 m^2/s\n",
       "             charge density = 1.00e+21 m^{-3}\n",
       "           reference height = 300.0 nm\n",
       "               Debye length = 37.8 nm\n",
       "           diffusion length = 3.7 nm\n",
       "   effective epsilon (real) = 11.900\n",
       "   effective epsilon (imag) = -0.060\n"
      ]
     },
     "execution_count": 106,
     "metadata": {},
     "output_type": "execute_result"
    }
   ],
   "source": [
    "sample2"
   ]
  },
  {
   "cell_type": "code",
   "execution_count": 107,
   "id": "d5843937-2494-4ab2-a5ea-c12e1bc9ac59",
   "metadata": {},
   "outputs": [],
   "source": [
    "def theta2norm(omega, sample, power):\n",
    "\n",
    "    r1 = sample.Ld**2 / (sample.epsilon_s * sample.LD**2)\n",
    "    r2 = sample.z_r**2 / (sample.epsilon_s * sample.LD**2)\n",
    "    r3 = sample.z_r**2 / sample.Ld**2\n",
    "    lambduh = (complex(0,1) * r1 * omega / np.sqrt(omega**2 + r2 + complex(0,1) * r3)).to('dimensionless').magnitude\n",
    "     \n",
    "    khd = (omega * sample.h_d / sample.z_r).to('dimensionless').magnitude\n",
    "\n",
    "    r1 = 1/sample.epsilon_d\n",
    "    t1 = sample.epsilon_eff * np.tanh(khd) + (1 - lambduh) * sample.epsilon_d\n",
    "    t2 = sample.epsilon_eff + (1 - lambduh) * sample.epsilon_d * np.tanh(khd)\n",
    "\n",
    "    theta = ((r1 * t1) / t2).magnitude\n",
    "\n",
    "    ratio = (1 - theta) / (1 + theta)\n",
    "    exponent = (2 * sample.cantilever.d / sample.z_r).to('dimensionless').magnitude\n",
    "\n",
    "    integrand = omega**power * np.exp(-1 * omega * exponent) * np.imag(ratio) \n",
    "\n",
    "    return integrand"
   ]
  },
  {
   "cell_type": "code",
   "execution_count": 139,
   "id": "087da5a4-14fd-412e-9987-b9dbc8bac989",
   "metadata": {},
   "outputs": [],
   "source": [
    "rho2_ = ureg.Quantity(np.logspace(start=15, stop=29, num=55), '1/m^3')\n",
    "gamma2 = ureg.Quantity(np.zeros_like(rho2_), 'pN s/m')\n",
    "\n",
    "for index, rho__ in enumerate(rho2_):\n",
    "\n",
    "    sample2.rho = rho__\n",
    "    gamma2[index] = gamma_parallel(theta2norm, sample2)"
   ]
  },
  {
   "cell_type": "markdown",
   "id": "7f741348-ac1e-455f-81dd-bb477cb9a60d",
   "metadata": {},
   "source": [
    "# Compare integrals"
   ]
  },
  {
   "cell_type": "code",
   "execution_count": 140,
   "id": "2f7c8d2b-932a-44d6-90a2-447122bbec24",
   "metadata": {},
   "outputs": [],
   "source": [
    "keys = ['1.5e-01','4.0e-07','2.7e-10','6.0e-14']\n",
    "\n",
    "names = ['Lekkala2013--Fig7b--1.5e-01.csv', \n",
    "         'Lekkala2013--Fig7b--4.0e-07.csv',\n",
    "         'Lekkala2013--Fig7b--2.7e-10.csv',\n",
    "         'Lekkala2013--Fig7b--6.0e-14.csv']\n",
    "\n",
    "Figure7b_original = {}\n",
    "for key, name in zip(keys, names):\n",
    "    Figure7b_original[key] = pd.read_csv(name, names=['rho', 'gamma'])"
   ]
  },
  {
   "cell_type": "code",
   "execution_count": 141,
   "id": "581a07b7-579f-4072-8aae-8b3f6dab1850",
   "metadata": {},
   "outputs": [],
   "source": [
    "def gamma_max_eq29(sample):\n",
    "\n",
    "    c0 = CsphereOverSemi(index=0, \n",
    "        height=sample.cantilever.d * np.ones(1), \n",
    "        radius=sample.cantilever.R, \n",
    "        epsilon=sample.epsilon_s.real.magnitude)\n",
    "\n",
    "    qs = c0 * sample.cantilever.V_ts\n",
    "    prefactor = 0.25 * (sample.epsilon_s.real**2)/(sample.epsilon_s.real**2 + sample.epsilon_s.imag**2)\n",
    "    \n",
    "    return (prefactor * qs * qs / (4 * np.pi * epsilon0 * sample.cantilever.omega_c * sample.cantilever.d**3)).to('pN s/m')\n"
   ]
  },
  {
   "cell_type": "code",
   "execution_count": 142,
   "id": "b10d3798-ffb3-4c7d-8379-2e804dcece6f",
   "metadata": {},
   "outputs": [],
   "source": [
    "def gamma_max_eq28(sample):\n",
    "\n",
    "    c0 = CsphereOverSemi(index=0, \n",
    "        height=sample.cantilever.d * np.ones(1), \n",
    "        radius=sample.cantilever.R, \n",
    "        epsilon=sample.epsilon_s.real.magnitude)\n",
    "    \n",
    "    qs = c0 * sample.cantilever.V_ts\n",
    "    prefactor = (sample.epsilon_s.real**2 + sample.epsilon_s.imag**2)/(1 + sample.epsilon_s.real)**2\n",
    "    \n",
    "    return (prefactor * qs * qs / (4 * np.pi * epsilon0 * sample.cantilever.omega_c * sample.cantilever.d**3)).to('pN s/m')"
   ]
  },
  {
   "cell_type": "markdown",
   "id": "81302471-afd5-45d3-8fb5-b23907458e1e",
   "metadata": {},
   "source": [
    "Check on the semiconductor layers' dielectric constant"
   ]
  },
  {
   "cell_type": "code",
   "execution_count": 143,
   "id": "a7056574-2b50-4391-a85f-36ea32af36e3",
   "metadata": {},
   "outputs": [
    {
     "data": {
      "text/plain": [
       "(11.9-0.05j)"
      ]
     },
     "execution_count": 143,
     "metadata": {},
     "output_type": "execute_result"
    }
   ],
   "source": [
    "sample2.epsilon_s.to('dimensionless').magnitude"
   ]
  },
  {
   "cell_type": "markdown",
   "id": "2c506228-7aa9-4d61-94d8-acb35c7126ab",
   "metadata": {},
   "source": [
    "Evaluate the three critical densities in Equations 24 through 28 in Lekkala2013."
   ]
  },
  {
   "cell_type": "code",
   "execution_count": 144,
   "id": "721667b5-c031-4362-9302-135731dd6941",
   "metadata": {},
   "outputs": [],
   "source": [
    "def densities(sample):\n",
    "\n",
    "    rho_x = ((sample.cantilever.omega_c * epsilon0)/(qe * sample.mu)).to('1/m^3').magnitude\n",
    "\n",
    "    r3 = ((-1 * sample.epsilon_s.imag)/(sample.epsilon_s.real**2 + sample.epsilon_s.imag**2)).to('dimensionless').magnitude\n",
    "    r2  = ((sample.epsilon_s.real**2 + sample.epsilon_s.imag**2)/sample.epsilon_s.real).to('dimensionless').magnitude\n",
    "    r1 = ((np.power(np.abs(sample.epsilon_s), 4.0) * sample.cantilever.omega_c * sample.cantilever.d**2)/ \\\n",
    "         (sample.epsilon_s.imag**2 * sample.D)).to('dimensionless').magnitude\n",
    "    \n",
    "    return r3 * rho_x, r2 * rho_x, r1 * rho_x"
   ]
  },
  {
   "cell_type": "code",
   "execution_count": 145,
   "id": "2bd3fb0e-9fb2-4669-a0b8-af99d430f8ee",
   "metadata": {},
   "outputs": [
    {
     "data": {
      "text/plain": [
       "(3.677967394358782e+19, 1.2396357394603841e+24, 5.483427667529384e+33)"
      ]
     },
     "execution_count": 145,
     "metadata": {},
     "output_type": "execute_result"
    }
   ],
   "source": [
    "rho3crit, rho2crit, rho1crit = densities(sample2)\n",
    "(rho3crit, rho2crit, rho1crit)"
   ]
  },
  {
   "cell_type": "markdown",
   "id": "bb0131db-0b00-4459-8e87-863bef08776d",
   "metadata": {},
   "source": [
    "A function encoding the approximate results in Equations 28 through 30 in Lakkala2013."
   ]
  },
  {
   "cell_type": "code",
   "execution_count": 146,
   "id": "4bf05ea3-9cb9-422b-8bfe-164a633bdd6b",
   "metadata": {},
   "outputs": [],
   "source": [
    "def approx1(rho, sample, rho3crit, rho2crit, rho1crit):\n",
    "\n",
    "    c0 = CsphereOverSemi(index=0, \n",
    "        height=sample.cantilever.d * np.ones(1), \n",
    "        radius=sample.cantilever.R, \n",
    "        epsilon=sample.epsilon_s.real.magnitude)\n",
    "    \n",
    "    qc = c0 * sample.cantilever.V_ts\n",
    "\n",
    "    gamma = ureg.Quantity(np.zeros(len(rho)), 'pN s/m')\n",
    "    mask = np.zeros(len(rho), dtype=bool)\n",
    "    \n",
    "    for index, rho_ in enumerate(rho):\n",
    "\n",
    "        sample.rho = rho_\n",
    "        \n",
    "        if (rho_.to('1/m^3').magnitude > rho3crit) and (rho_.to('1/m^3').magnitude <= rho2crit): \n",
    "\n",
    "            f1 = (qc * qc)/(4 * np.pi * epsilon0 * sample.cantilever.omega_c**2)\n",
    "            f2 = sample.epsilon_s.real/(1 + sample.epsilon_s.real)**2\n",
    "            f3 = sample.D/(sample.LD**2 * sample.cantilever.d**3)\n",
    "    \n",
    "            gamma[index] = f1 * f2 * f3\n",
    "            mask[index] = True\n",
    "\n",
    "        if (rho_.to('1/m^3').magnitude > rho2crit) and (rho_.to('1/m^3').magnitude <= rho1crit): \n",
    "\n",
    "            f1 = (qc * qc)/(16 * np.pi * epsilon0)\n",
    "            f2 = (sample.epsilon_s.real * sample.LD ** 2)/(sample.D * sample.cantilever.d**3)\n",
    "\n",
    "            gamma[index] = f1 * f2\n",
    "            mask[index] = True\n",
    "    \n",
    "    return rho.to('1/m^3')[mask], gamma.to('pN s/m')[mask]"
   ]
  },
  {
   "cell_type": "code",
   "execution_count": 147,
   "id": "9987dab4-bdd7-4996-876d-7b67da2b87f7",
   "metadata": {},
   "outputs": [],
   "source": [
    "rho_approx1_ = ureg.Quantity(\n",
    "    np.logspace(\n",
    "        start=np.log10(min(rho1_.to('1/m^3').magnitude)), \n",
    "        stop=np.log10(rho1crit), num=100), \n",
    "    '1/m^3')\n",
    "\n",
    "rho_approx1_, approx1_ = approx1(rho_approx1_, sample2, rho3crit, rho2crit, rho1crit)"
   ]
  },
  {
   "cell_type": "markdown",
   "id": "47b906da-e618-423b-81d0-2791d394b6ac",
   "metadata": {},
   "source": [
    "An approximation that I have derived."
   ]
  },
  {
   "cell_type": "code",
   "execution_count": 148,
   "id": "5ba4a64f-b938-47c1-b221-2d882fe40739",
   "metadata": {},
   "outputs": [],
   "source": [
    "def approx2(rho, sample, rho3crit, rho2crit, rho1crit):\n",
    "\n",
    "    c0 = CsphereOverSemi(index=0, \n",
    "        height=sample.cantilever.d * np.ones(1), \n",
    "        radius=sample.cantilever.R, \n",
    "        epsilon=sample.epsilon_s.real.magnitude)\n",
    "    \n",
    "    qc = c0 * sample.cantilever.V_ts\n",
    "\n",
    "    gamma = ureg.Quantity(np.zeros(len(rho)), 'pN s/m')\n",
    "    mask = np.zeros(len(rho), dtype=bool)\n",
    "    \n",
    "    for index, rho_ in enumerate(rho):\n",
    "\n",
    "        sample.rho = rho_\n",
    "\n",
    "        if (rho_.to('1/m^3').magnitude <= rho2crit):\n",
    "\n",
    "            t1 = - sample.epsilon_s.imag/(np.abs(sample.epsilon_s + 1)**2)\n",
    "            t2 = (qc * qc)/(16 * np.pi * epsilon0 * sample.cantilever.omega_c * sample.cantilever.d**3)\n",
    "\n",
    "            t3 =  (qc * qc)/(16 * np.pi * epsilon0 * sample.cantilever.omega_c**2)\n",
    "            t4 = ((1 + sample.epsilon_s.real)**2 - (sample.epsilon_s.imag)**2)/(np.abs(sample.epsilon_s + 1)**4)\n",
    "            t5 = sample.D/(sample.LD**2 * sample.cantilever.d**3)\n",
    "\n",
    "            gamma[index] = t1 * t2 + t3 * t4 * t5\n",
    "            mask[index] = True            \n",
    "\n",
    "        if (rho_.to('1/m^3').magnitude > rho2crit):\n",
    "\n",
    "            t1 = (3 * qc * qc)/(32 * epsilon0 * sample.cantilever.omega_c * sample.cantilever.d**4)\n",
    "            t2 = (np.sqrt(np.conjugate(sample.epsilon_s))).imag/np.abs(sample.epsilon_s)\n",
    "            t3 = sample.LD\n",
    "\n",
    "            t4 = (qc * qc * sample.LD**2)/(2 * np.pi * epsilon0 * sample.cantilever.d**3 * sample.D)\n",
    "\n",
    "            gamma[index] = t1 *t2 * t3 + t4\n",
    "            mask[index] = True\n",
    "    \n",
    "    return rho.to('1/m^3')[mask], gamma.to('pN s/m')[mask]"
   ]
  },
  {
   "cell_type": "code",
   "execution_count": 149,
   "id": "da259fbd-dfb1-4f4c-9012-144ed4373116",
   "metadata": {},
   "outputs": [],
   "source": [
    "rho_approx2_ = ureg.Quantity(\n",
    "    np.logspace(\n",
    "        start=np.log10(min(rho1_.to('1/m^3').magnitude)), \n",
    "        stop=np.log10(rho1crit), num=100), \n",
    "    '1/m^3')\n",
    "\n",
    "rho_approx2_, approx2_ = approx2(rho_approx2_, sample2, rho3crit, rho2crit, rho1crit)"
   ]
  },
  {
   "cell_type": "markdown",
   "id": "b6dec379-0219-4777-a6cf-b6a243faf327",
   "metadata": {},
   "source": [
    "An array of the approximate friction:"
   ]
  },
  {
   "cell_type": "markdown",
   "id": "58e04e42-0f4f-4d35-8505-34c931cac0e8",
   "metadata": {},
   "source": [
    "Plot everything up."
   ]
  },
  {
   "cell_type": "code",
   "execution_count": 154,
   "id": "1de5c589-fef5-4079-89c0-4fcc82fb884b",
   "metadata": {},
   "outputs": [
    {
     "data": {
      "image/png": "[encoded data removed]",
      "text/plain": [
       "<Figure size 750x600 with 1 Axes>"
      ]
     },
     "metadata": {},
     "output_type": "display_data"
    }
   ],
   "source": [
    "plt.figure(figsize=(7.50, 6.00))\n",
    "\n",
    "plt.loglog(Figure7b_original['2.7e-10']['rho'],\n",
    "           Figure7b_original['2.7e-10']['gamma'], \n",
    "           'o', \n",
    "           color = 'tab:green',\n",
    "           label='Lekkala2013')\n",
    "\n",
    "plt.loglog(rho2_.to('1/m^3').magnitude,\n",
    "           gamma2.to('pN s/m').magnitude, \n",
    "           '.', \n",
    "           color = 'tab:purple',\n",
    "           label='model2, $h_d$ = {:0.1e} nm'.format(sample2.h_d.to('nm').magnitude))\n",
    "\n",
    "plt.loglog(rho1_.to('1/m^3').magnitude, \n",
    "           gamma1.to('pN s/m').magnitude, \n",
    "           'x', \n",
    "           color = 'tab:purple',\n",
    "           label='model1, $h_s$ = {:0.1e} nm'.format(sample1.h_s.to('nm').magnitude))\n",
    "\n",
    "plt.vlines(rho3crit, ymin=1e-4, ymax=1e3, colors='k', linestyle='dotted', label=r'$\\rho_3$ (eq 24)')\n",
    "plt.vlines(rho2crit, ymin=1e-4, ymax=1e3, colors='k', linestyle='dashed', label=r'$\\rho_2$ (eq 25)')\n",
    "plt.vlines(rho1crit, ymin=1e-4, ymax=1e3, colors='k', linestyle='dashdot', label=r'$\\rho_1$ (eq 26)')\n",
    "\n",
    "plt.loglog(rho1_.to('1/m^3').magnitude,\n",
    "           (gamma_max_eq29(sample2) * np.ones(len(rho1_))).to('pN s/m').magnitude,\n",
    "           linestyle='dashed',\n",
    "           color='tab:grey',\n",
    "           label='$\\gamma_{\\parallel}^{\\mathrm{max}}$ (eq 29)')\n",
    "\n",
    "plt.loglog(rho1_.to('1/m^3').magnitude,\n",
    "           (gamma_max_eq28(sample2) * np.ones(len(rho1_))).to('pN s/m').magnitude,\n",
    "           linestyle='dotted',\n",
    "           color= 'tab:grey',\n",
    "           label='$\\gamma_{\\parallel}^{\\mathrm{max}}$ (eq 28)')\n",
    "\n",
    "plt.loglog(rho_approx1_.to('1/m^3').magnitude, \n",
    "           approx1_.to('pN s/m').magnitude,\n",
    "           '-', \n",
    "           color='tab:brown', \n",
    "           label='Lekkala approx (eqs 28, 29, and 30)')\n",
    "\n",
    "plt.loglog(rho_approx2_.to('1/m^3').magnitude, \n",
    "           approx2_.to('pN s/m').magnitude,\n",
    "           '-', \n",
    "           color='tab:red', \n",
    "           label='Marohn approx')\n",
    "\n",
    "plt.title('Lekkala2013 Figure 7(b), dataset with $\\mu =$ {:0.1e} m$^2$/(V s)'.format(sample2.mu.to('m^2/(V s)').magnitude))\n",
    "plt.xlabel(r'charge density $\\rho$ [m$^{-3}$]')  # need a raw string here because \\r is the special carriage return character\n",
    "plt.ylabel('non-contact friction $\\gamma_{\\parallel}$ [pN s/m]')\n",
    "plt.legend(fontsize=8, loc=1)\n",
    "plt.tight_layout()\n",
    "plt.ylim([1e-5,2e3])\n",
    "\n",
    "plt.savefig(THIS + '--Fig-Lekkala2023-Fig-7b3.png', dpi=300)\n",
    "plt.savefig(THIS + '--Fig-Lekkala2023-Fig-7b3.pdf')\n",
    "\n",
    "plt.show() "
   ]
  },
  {
   "cell_type": "code",
   "execution_count": null,
   "id": "cb69a41c-6f13-4be5-b129-b9756d2273b6",
   "metadata": {},
   "outputs": [],
   "source": []
  }
 ],
 "metadata": {
  "kernelspec": {
   "display_name": "dissipationtheory",
   "language": "python",
   "name": "dissipationtheory"
  },
  "language_info": {
   "codemirror_mode": {
    "name": "ipython",
    "version": 3
   },
   "file_extension": ".py",
   "mimetype": "text/x-python",
   "name": "python",
   "nbconvert_exporter": "python",
   "pygments_lexer": "ipython3",
   "version": "3.8.5"
  }
 },
 "nbformat": 4,
 "nbformat_minor": 5
}
