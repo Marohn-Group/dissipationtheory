{
 "cells": [
  {
   "cell_type": "markdown",
   "id": "2405d1c7",
   "metadata": {},
   "source": [
    "# Summary\n",
    "\n",
    "* Name: `dissipation-theory--Study-2.ipynb`\n",
    "* Author: John A. Marohn\n",
    "* Date: 2023-09-12\n",
    "* Continued from: `dissipation-theory--Study-1.ipynb`\n",
    "* Continued to: ---\n",
    "* Summary: Explore Lekkala and Loring's theory for friction over a semiconductor backed by a metal."
   ]
  },
  {
   "cell_type": "markdown",
   "id": "736dd65b-2ea4-4ca6-b063-7f0539421ae0",
   "metadata": {},
   "source": [
    "# Preliminaries"
   ]
  },
  {
   "cell_type": "code",
   "execution_count": 107,
   "id": "02c4c40f",
   "metadata": {},
   "outputs": [],
   "source": [
    "import numpy as np\n",
    "from dissipationtheory.constants import ureg, epsilon0, qe, kb\n",
    "import matplotlib.pyplot as plt\n",
    "from scipy import integrate\n",
    "from tqdm import tqdm"
   ]
  },
  {
   "cell_type": "code",
   "execution_count": 2,
   "id": "f4cc31f9",
   "metadata": {},
   "outputs": [],
   "source": [
    "THIS = 'dissipation-theory--Study-2'"
   ]
  },
  {
   "cell_type": "markdown",
   "id": "a3e6f837-318d-4b8c-ab37-760ee337bad2",
   "metadata": {},
   "source": [
    "# Parameters"
   ]
  },
  {
   "cell_type": "markdown",
   "id": "81330f2f-856e-4cd0-bfc9-f70067f38bdc",
   "metadata": {},
   "source": [
    "## Sample parameters"
   ]
  },
  {
   "cell_type": "code",
   "execution_count": 3,
   "id": "e9cc62bf-c681-4177-b780-c8489cffd137",
   "metadata": {},
   "outputs": [],
   "source": [
    "sample = {\n",
    "    'epsilon': ureg.Quantity(complex(50., 10.), ''), # dielectric constant at the cantilever frequency\n",
    "    'rho': ureg.Quantity(1.0e18, '1/m^3'),           # charge density\n",
    "    'mobility': ureg.Quantity(100., 'm^2/(V s)'),    # carrier mobility\n",
    "    'thickness': ureg.Quantity(160., 'nm'),          # sample thickness\n",
    "    'zr': ureg.Quantity(160., 'nm')                  # reference thickness\n",
    "}"
   ]
  },
  {
   "cell_type": "markdown",
   "id": "02547335-2800-49a6-89f3-46be1bd47b03",
   "metadata": {},
   "source": [
    "Compute the diffusion constant from the mobility."
   ]
  },
  {
   "cell_type": "code",
   "execution_count": 4,
   "id": "fd89ec8a-775c-4841-83df-61a52586cea0",
   "metadata": {},
   "outputs": [
    {
     "data": {
      "text/html": [
       "2.5851999850977734 meter<sup>2</sup>/second"
      ],
      "text/latex": [
       "$2.5851999850977734\\ \\frac{\\mathrm{meter}^{2}}{\\mathrm{second}}$"
      ],
      "text/plain": [
       "2.5851999850977734 <Unit('meter ** 2 / second')>"
      ]
     },
     "execution_count": 4,
     "metadata": {},
     "output_type": "execute_result"
    }
   ],
   "source": [
    "sample['D'] = ((kb * ureg.Quantity(300., 'K') * sample['mobility']) / qe).to('m^2/s')\n",
    "sample['D']"
   ]
  },
  {
   "cell_type": "markdown",
   "id": "ccb6ea54-19bb-42d2-bf5f-76af38100776",
   "metadata": {},
   "source": [
    "## Cantilever parameters"
   ]
  },
  {
   "cell_type": "code",
   "execution_count": 5,
   "id": "7683d1ee-8b5c-483c-aa36-e11b053d46ac",
   "metadata": {},
   "outputs": [],
   "source": [
    "cantilever = {\n",
    "    'omega_c': 2*np.pi*ureg.Quantity(8000, '1/s'), # frequency, 2*pi*8000/s = 50 kHz\n",
    "    'Vts': ureg.Quantity(3.0, 'V'),                # voltage\n",
    "    'height': ureg.Quantity(50., 'nm')             # cantilever height\n",
    "}"
   ]
  },
  {
   "cell_type": "markdown",
   "id": "da4b9eee-9c2a-4415-96c7-231ba2ab15a3",
   "metadata": {},
   "source": [
    "# Explore the parameters"
   ]
  },
  {
   "cell_type": "markdown",
   "id": "482f6b56-fa0e-43ff-bfe9-f54e9201a2ad",
   "metadata": {},
   "source": [
    "First compute the square root of the dielectric constant manually."
   ]
  },
  {
   "cell_type": "code",
   "execution_count": 6,
   "id": "49e531f6-85c9-46ee-92cb-ad36fc56640f",
   "metadata": {},
   "outputs": [
    {
     "data": {
      "text/plain": [
       "(7.105990259489801+0.7036316990897469j)"
      ]
     },
     "execution_count": 6,
     "metadata": {},
     "output_type": "execute_result"
    }
   ],
   "source": [
    "np.sqrt(complex(50., 10.))"
   ]
  },
  {
   "cell_type": "markdown",
   "id": "d63ae90c-ae19-4113-88a6-00e006a98092",
   "metadata": {},
   "source": [
    "Note compute $\\sqrt{\\epsilon_{\\mathrm{s}}(\\omega)}$ with units, to make sure we get the same answer."
   ]
  },
  {
   "cell_type": "code",
   "execution_count": 7,
   "id": "d3d74e89-4326-4062-a7d1-3a2538919c97",
   "metadata": {},
   "outputs": [
    {
     "data": {
      "text/plain": [
       "(7.105990259489801+0.7036316990897469j)"
      ]
     },
     "execution_count": 7,
     "metadata": {},
     "output_type": "execute_result"
    }
   ],
   "source": [
    "np.sqrt(sample['epsilon']).magnitude"
   ]
  },
  {
   "cell_type": "markdown",
   "id": "9d00888c-c074-4b76-8ad0-9882add364f4",
   "metadata": {},
   "source": [
    "Compute the **Debye length** $\\lambda_{\\mathrm{D}}$:"
   ]
  },
  {
   "cell_type": "code",
   "execution_count": 8,
   "id": "c6d4a5e5-eecd-4ebb-a78c-8d0237f0f384",
   "metadata": {},
   "outputs": [
    {
     "data": {
      "text/html": [
       "1195.2706101031097 nanometer"
      ],
      "text/latex": [
       "$1195.2706101031097\\ \\mathrm{nanometer}$"
      ],
      "text/plain": [
       "1195.2706101031097 <Unit('nanometer')>"
      ]
     },
     "execution_count": 8,
     "metadata": {},
     "output_type": "execute_result"
    }
   ],
   "source": [
    "sample['LD'] = (np.sqrt(\n",
    "    (epsilon0 * kb * ureg.Quantity(300., 'K'))/\n",
    "    (sample['rho'] * qe * qe))).to('nm')\n",
    "\n",
    "sample['LD']"
   ]
  },
  {
   "cell_type": "markdown",
   "id": "825441cf-83f3-45f5-8b67-6a4208129f09",
   "metadata": {},
   "source": [
    "Compute the **diffusion length** $\\lambda_{\\mathrm{d}}$:"
   ]
  },
  {
   "cell_type": "code",
   "execution_count": 9,
   "id": "048799c7-9508-4781-94f1-4743b2cbe08d",
   "metadata": {},
   "outputs": [
    {
     "data": {
      "text/html": [
       "7171535.370035875 nanometer"
      ],
      "text/latex": [
       "$7171535.370035875\\ \\mathrm{nanometer}$"
      ],
      "text/plain": [
       "7171535.370035875 <Unit('nanometer')>"
      ]
     },
     "execution_count": 9,
     "metadata": {},
     "output_type": "execute_result"
    }
   ],
   "source": [
    "sample['Ld'] = (np.sqrt(sample['D'] / cantilever['omega_c'])).to('nm')\n",
    "sample['Ld']"
   ]
  },
  {
   "cell_type": "markdown",
   "id": "4108f007-ea06-470d-a813-d1ae7c828610",
   "metadata": {},
   "source": [
    "Compute the **effective dielectric constant**:"
   ]
  },
  {
   "cell_type": "code",
   "execution_count": 10,
   "id": "4a83774b-4977-4a3e-957b-048a5a275cd6",
   "metadata": {},
   "outputs": [
    {
     "data": {
      "text/html": [
       "(50-35999103.60618866j) dimensionless"
      ],
      "text/latex": [
       "$(50-35999103.60618866j)\\ dimensionless$"
      ],
      "text/plain": [
       "(50-35999103.60618866j) <Unit('dimensionless')>"
      ]
     },
     "execution_count": 10,
     "metadata": {},
     "output_type": "execute_result"
    }
   ],
   "source": [
    "sample['epsilon eff'] = (sample['epsilon'] \\\n",
    "  - complex(0,1) * np.power(sample['Ld'], 2.) / np.power(sample['LD'], 2.)\n",
    "  ).to_base_units()\n",
    "\n",
    "sample['epsilon eff']"
   ]
  },
  {
   "cell_type": "markdown",
   "id": "cfeb4a06-24c1-4f71-ad37-5bb2615cff09",
   "metadata": {},
   "source": [
    "The dielectric constant $\\epsilon_{\\mathrm{eff}}(\\omega)$ is dominated by the conductivity-related imaginary part."
   ]
  },
  {
   "cell_type": "markdown",
   "id": "2a277c33-1752-4b6d-8606-124f895b7bc1",
   "metadata": {},
   "source": [
    "# Build up the integral, try 1"
   ]
  },
  {
   "cell_type": "markdown",
   "id": "80f003af-c61d-4a7d-9083-407743e976ce",
   "metadata": {},
   "source": [
    "A handy function for plotting the real and imaginary parts of a complex function."
   ]
  },
  {
   "cell_type": "code",
   "execution_count": 11,
   "id": "23dee19c-dce0-4b13-8338-fee37a1bcdb0",
   "metadata": {},
   "outputs": [],
   "source": [
    "def plotme(fcn, sample, ylabel, kind=plt.semilogx):\n",
    "    \n",
    "    omega_ = np.logspace(start=-3, stop=1, num=100)\n",
    "    \n",
    "    plt.figure(figsize=(3.25, 2.5))\n",
    "    kind(omega_, np.real(fcn(omega_, sample)), label='real')\n",
    "    kind(omega_, np.imag(fcn(omega_, sample)), label='imag')\n",
    "    plt.xlabel('$\\Omega$')\n",
    "    plt.ylabel(ylabel)\n",
    "    plt.legend()\n",
    "    plt.show()"
   ]
  },
  {
   "cell_type": "markdown",
   "id": "e452857d-3d7c-47ee-bd77-7a71c15fab0f",
   "metadata": {},
   "source": [
    "The unitless factor $\\lambda$:"
   ]
  },
  {
   "cell_type": "code",
   "execution_count": 12,
   "id": "4a516119-05ea-4852-82d9-25037637f1a0",
   "metadata": {},
   "outputs": [],
   "source": [
    "def lambduh(omega, sample):\n",
    "\n",
    "    r1 = sample['Ld']**2 / (sample['epsilon'] * sample['LD']**2)\n",
    "    r2 = sample['zr']**2 / (sample['epsilon'] * sample['LD']**2)\n",
    "    r3 = sample['zr']**2 / sample['Ld']**2\n",
    "    lambduh = complex(0,1) * r1 * omega / np.sqrt(omega**2 + r2 + complex(0,1) * r3)\n",
    "    return lambduh.magnitude"
   ]
  },
  {
   "cell_type": "code",
   "execution_count": 13,
   "id": "6f4c076d-c9fd-4aba-aa5b-d268b2197ade",
   "metadata": {},
   "outputs": [
    {
     "data": {
      "image/png": "[encoded data removed]",
      "text/plain": [
       "<Figure size 325x250 with 1 Axes>"
      ]
     },
     "metadata": {},
     "output_type": "display_data"
    }
   ],
   "source": [
    "plotme(lambduh, sample, '$\\lambda(\\Omega)$')"
   ]
  },
  {
   "cell_type": "markdown",
   "id": "66b32f97-c6f2-43a3-ac36-fa734fe28ef5",
   "metadata": {},
   "source": [
    "The unitless factor $k \\, h_{\\mathrm{s}}$:"
   ]
  },
  {
   "cell_type": "code",
   "execution_count": 14,
   "id": "da329945-082f-4efe-9acc-eb43bf74e414",
   "metadata": {},
   "outputs": [],
   "source": [
    "def khs(omega, samle):\n",
    "\n",
    "    khs = omega * sample['thickness'] / sample['zr']\n",
    "    return khs.magnitude"
   ]
  },
  {
   "cell_type": "code",
   "execution_count": 15,
   "id": "befaeed5-e8b0-469b-afcd-993bec6e3c78",
   "metadata": {},
   "outputs": [
    {
     "data": {
      "image/png": "[encoded data removed]",
      "text/plain": [
       "<Figure size 325x250 with 1 Axes>"
      ]
     },
     "metadata": {},
     "output_type": "display_data"
    }
   ],
   "source": [
    "plotme(khs, sample, '$k \\, h_{\\mathrm{s}} (\\Omega)$')"
   ]
  },
  {
   "cell_type": "markdown",
   "id": "159bbcf2-67fd-4dba-bd32-bf1bf7d56c99",
   "metadata": {},
   "source": [
    "The unitless factor $\\eta \\, h_{\\mathrm{s}}$:"
   ]
  },
  {
   "cell_type": "code",
   "execution_count": 16,
   "id": "22d408a2-7409-41df-8308-a9cea7552e80",
   "metadata": {},
   "outputs": [],
   "source": [
    "def etahs(omega, sample):\n",
    "\n",
    "    r1 = sample['thickness']**2 / sample['zr']**2\n",
    "    r2 = sample['thickness']**2 / (sample['epsilon'] * sample['LD']**2)\n",
    "    r3 = sample['thickness']**2 / sample['Ld']**2\n",
    "    etahs = np.sqrt(r1 * omega**2 + r2 + complex(0,1) * r3)\n",
    "    return etahs.magnitude"
   ]
  },
  {
   "cell_type": "code",
   "execution_count": 17,
   "id": "3f23332d-aab9-4359-8a7a-319fbb644b10",
   "metadata": {},
   "outputs": [
    {
     "data": {
      "image/png": "[encoded data removed]",
      "text/plain": [
       "<Figure size 325x250 with 1 Axes>"
      ]
     },
     "metadata": {},
     "output_type": "display_data"
    }
   ],
   "source": [
    "plotme(etahs, sample, '$\\eta \\, h_{\\mathrm{s}} (\\Omega)$')"
   ]
  },
  {
   "cell_type": "markdown",
   "id": "f9e22068-389f-4576-b493-b11ce097a0fe",
   "metadata": {},
   "source": [
    "The factor $\\theta_{\\mathrm{I}} \\big/ \\epsilon_{\\mathrm{s}}$:"
   ]
  },
  {
   "cell_type": "code",
   "execution_count": 18,
   "id": "4d057195-885a-413c-b2e3-cc8ba49f646e",
   "metadata": {},
   "outputs": [],
   "source": [
    "def theta1normA(omega, sample):\n",
    "\n",
    "    lambduh_ = lambduh(omega, sample)\n",
    "    khs_ = khs(omega, sample)\n",
    "    etahs_ = etahs(omega, sample)\n",
    "    \n",
    "    r1 = 1/sample['epsilon eff']\n",
    "    t1 = - lambduh_ * np.power(np.tanh(etahs_), -1.0)\n",
    "    t2 = np.sinh(khs_) * np.sinh(etahs_) \\\n",
    "         - lambduh_ * np.cosh(khs_) * np.cosh(etahs_) \\\n",
    "         + 2 * lambduh_ \\\n",
    "         - lambduh_**2 * np.sinh(khs_) / np.sinh(etahs_)\n",
    "    t3 = np.cosh(khs_) * np.sinh(etahs_) \\\n",
    "         - lambduh_ * np.sinh(khs_) * np.cosh(etahs_)\n",
    "    \n",
    "    return r1.magnitude * (t1 + t2 / t3)"
   ]
  },
  {
   "cell_type": "code",
   "execution_count": 19,
   "id": "4b0b0bea-6ee9-4b9a-a10c-2f11dfaca61f",
   "metadata": {},
   "outputs": [
    {
     "data": {
      "image/png": "[encoded data removed]",
      "text/plain": [
       "<Figure size 325x250 with 1 Axes>"
      ]
     },
     "metadata": {},
     "output_type": "display_data"
    }
   ],
   "source": [
    "plotme(theta1normA, sample, '$\\eta \\, h_{\\mathrm{s}} (\\Omega)$')"
   ]
  },
  {
   "cell_type": "markdown",
   "id": "423d5c7e-6fe2-4ded-9cad-2f5496141e88",
   "metadata": {},
   "source": [
    "Plot the $C_{\\delta \\phi, \\delta \\phi}$ integrand, with a representative argument of $z_1 / z_{\\mathrm{r}} + z_2 / z_{\\mathrm{r}} \\rightarrow 1$ in the exponential. "
   ]
  },
  {
   "cell_type": "code",
   "execution_count": 20,
   "id": "a686162a-3a68-4323-9b42-1f533a816c23",
   "metadata": {},
   "outputs": [],
   "source": [
    "def integrandA(omega,sample):\n",
    "\n",
    "    ratio = (1 - theta1normA(omega, sample)) / (1 + theta1normA(omega, sample))\n",
    "    return np.exp(-omega) * np.imag(ratio)    "
   ]
  },
  {
   "cell_type": "code",
   "execution_count": 21,
   "id": "229e2a86-9f77-4c05-b824-97dacbdba030",
   "metadata": {},
   "outputs": [
    {
     "data": {
      "image/png": "[encoded data removed]",
      "text/plain": [
       "<Figure size 325x250 with 1 Axes>"
      ]
     },
     "metadata": {},
     "output_type": "display_data"
    }
   ],
   "source": [
    "plotme(integrandA, sample, '$\\mathrm{integrand} (\\Omega)$')"
   ]
  },
  {
   "cell_type": "markdown",
   "id": "1b8f0514-37eb-400a-b018-311792603522",
   "metadata": {},
   "source": [
    "Use the `integrate.quad` function from `scipy` to carry out the integral."
   ]
  },
  {
   "cell_type": "code",
   "execution_count": 22,
   "id": "471e81b9-9167-4e4d-b15f-7e408a08edfd",
   "metadata": {},
   "outputs": [
    {
     "name": "stderr",
     "output_type": "stream",
     "text": [
      "/var/folders/7j/lws5z2qd2qg36wd8z0j_962wy6gl4q/T/ipykernel_1509/2972691253.py:9: RuntimeWarning: overflow encountered in scalar multiply\n",
      "  t2 = np.sinh(khs_) * np.sinh(etahs_) \\\n",
      "/var/folders/7j/lws5z2qd2qg36wd8z0j_962wy6gl4q/T/ipykernel_1509/2972691253.py:10: RuntimeWarning: overflow encountered in scalar multiply\n",
      "  - lambduh_ * np.cosh(khs_) * np.cosh(etahs_) \\\n",
      "/var/folders/7j/lws5z2qd2qg36wd8z0j_962wy6gl4q/T/ipykernel_1509/2972691253.py:10: RuntimeWarning: invalid value encountered in scalar multiply\n",
      "  - lambduh_ * np.cosh(khs_) * np.cosh(etahs_) \\\n",
      "/var/folders/7j/lws5z2qd2qg36wd8z0j_962wy6gl4q/T/ipykernel_1509/2972691253.py:9: RuntimeWarning: invalid value encountered in scalar subtract\n",
      "  t2 = np.sinh(khs_) * np.sinh(etahs_) \\\n",
      "/var/folders/7j/lws5z2qd2qg36wd8z0j_962wy6gl4q/T/ipykernel_1509/2972691253.py:13: RuntimeWarning: overflow encountered in scalar multiply\n",
      "  t3 = np.cosh(khs_) * np.sinh(etahs_) \\\n",
      "/var/folders/7j/lws5z2qd2qg36wd8z0j_962wy6gl4q/T/ipykernel_1509/2972691253.py:14: RuntimeWarning: overflow encountered in scalar multiply\n",
      "  - lambduh_ * np.sinh(khs_) * np.cosh(etahs_)\n",
      "/var/folders/7j/lws5z2qd2qg36wd8z0j_962wy6gl4q/T/ipykernel_1509/2972691253.py:14: RuntimeWarning: invalid value encountered in scalar multiply\n",
      "  - lambduh_ * np.sinh(khs_) * np.cosh(etahs_)\n",
      "/var/folders/7j/lws5z2qd2qg36wd8z0j_962wy6gl4q/T/ipykernel_1509/2972691253.py:13: RuntimeWarning: invalid value encountered in scalar subtract\n",
      "  t3 = np.cosh(khs_) * np.sinh(etahs_) \\\n",
      "/var/folders/7j/lws5z2qd2qg36wd8z0j_962wy6gl4q/T/ipykernel_1509/2972691253.py:16: RuntimeWarning: invalid value encountered in scalar divide\n",
      "  return r1.magnitude * (t1 + t2 / t3)\n",
      "/var/folders/7j/lws5z2qd2qg36wd8z0j_962wy6gl4q/T/ipykernel_1509/973323493.py:3: RuntimeWarning: invalid value encountered in scalar divide\n",
      "  ratio = (1 - theta1normA(omega, sample)) / (1 + theta1normA(omega, sample))\n",
      "/var/folders/7j/lws5z2qd2qg36wd8z0j_962wy6gl4q/T/ipykernel_1509/2972691253.py:9: RuntimeWarning: overflow encountered in sinh\n",
      "  t2 = np.sinh(khs_) * np.sinh(etahs_) \\\n",
      "/var/folders/7j/lws5z2qd2qg36wd8z0j_962wy6gl4q/T/ipykernel_1509/2972691253.py:9: RuntimeWarning: invalid value encountered in scalar multiply\n",
      "  t2 = np.sinh(khs_) * np.sinh(etahs_) \\\n",
      "/var/folders/7j/lws5z2qd2qg36wd8z0j_962wy6gl4q/T/ipykernel_1509/2972691253.py:10: RuntimeWarning: overflow encountered in cosh\n",
      "  - lambduh_ * np.cosh(khs_) * np.cosh(etahs_) \\\n",
      "/var/folders/7j/lws5z2qd2qg36wd8z0j_962wy6gl4q/T/ipykernel_1509/2972691253.py:12: RuntimeWarning: overflow encountered in sinh\n",
      "  - lambduh_**2 * np.sinh(khs_) / np.sinh(etahs_)\n",
      "/var/folders/7j/lws5z2qd2qg36wd8z0j_962wy6gl4q/T/ipykernel_1509/2972691253.py:12: RuntimeWarning: invalid value encountered in scalar divide\n",
      "  - lambduh_**2 * np.sinh(khs_) / np.sinh(etahs_)\n",
      "/var/folders/7j/lws5z2qd2qg36wd8z0j_962wy6gl4q/T/ipykernel_1509/2972691253.py:13: RuntimeWarning: overflow encountered in cosh\n",
      "  t3 = np.cosh(khs_) * np.sinh(etahs_) \\\n",
      "/var/folders/7j/lws5z2qd2qg36wd8z0j_962wy6gl4q/T/ipykernel_1509/2972691253.py:13: RuntimeWarning: overflow encountered in sinh\n",
      "  t3 = np.cosh(khs_) * np.sinh(etahs_) \\\n",
      "/var/folders/7j/lws5z2qd2qg36wd8z0j_962wy6gl4q/T/ipykernel_1509/2972691253.py:13: RuntimeWarning: invalid value encountered in scalar multiply\n",
      "  t3 = np.cosh(khs_) * np.sinh(etahs_) \\\n",
      "/var/folders/7j/lws5z2qd2qg36wd8z0j_962wy6gl4q/T/ipykernel_1509/2972691253.py:14: RuntimeWarning: overflow encountered in sinh\n",
      "  - lambduh_ * np.sinh(khs_) * np.cosh(etahs_)\n",
      "/var/folders/7j/lws5z2qd2qg36wd8z0j_962wy6gl4q/T/ipykernel_1509/2972691253.py:14: RuntimeWarning: overflow encountered in cosh\n",
      "  - lambduh_ * np.sinh(khs_) * np.cosh(etahs_)\n",
      "/var/folders/7j/lws5z2qd2qg36wd8z0j_962wy6gl4q/T/ipykernel_1509/2686041884.py:1: IntegrationWarning: The occurrence of roundoff error is detected, which prevents \n",
      "  the requested tolerance from being achieved.  The error may be \n",
      "  underestimated.\n",
      "  integrate.quad(integrandA, 0, np.inf, args=(sample))\n"
     ]
    },
    {
     "data": {
      "text/plain": [
       "(nan, nan)"
      ]
     },
     "execution_count": 22,
     "metadata": {},
     "output_type": "execute_result"
    }
   ],
   "source": [
    "integrate.quad(integrandA, 0, np.inf, args=(sample))"
   ]
  },
  {
   "cell_type": "markdown",
   "id": "869d3998-b8a4-4a2d-af4c-f0c1bf1dd750",
   "metadata": {},
   "source": [
    "Uh oh!"
   ]
  },
  {
   "cell_type": "markdown",
   "id": "92c52136-e1b3-4818-8214-3f058a0f00d1",
   "metadata": {},
   "source": [
    "# Build up the integral, try 2"
   ]
  },
  {
   "cell_type": "markdown",
   "id": "b269cfda-749d-4e19-a93c-a537858bb6ca",
   "metadata": {},
   "source": [
    "With Mathematica's help, rewrite the factor $\\theta_{\\mathrm{I}} \\big/ \\epsilon_{\\mathrm{s}}$ in a way that avoids overflow problems.  \n",
    "\n",
    "First, define my own `sech(x)` and `csch(x)` functions that return 0 for large `x`, avoiding overflow problems.  See the StackOverflow discussion \"Overflow in Numpy Cosh Function\" ([link](https://stackoverflow.com/questions/31889801/overflow-in-numpy-cosh-function)).  I have taken extra care to define the functions so they work on both numbers and numpy arrays.  "
   ]
  },
  {
   "cell_type": "code",
   "execution_count": 23,
   "id": "a6a222e8-bd5b-426b-9497-53e79e072c88",
   "metadata": {},
   "outputs": [],
   "source": [
    "def mysech(x):\n",
    "    \n",
    "    x = np.array(x)\n",
    "    mask = abs(x) < 710.4\n",
    "    values = np.zeros_like(x, dtype=complex)\n",
    "    values[mask] = 1/np.cosh(x[mask])\n",
    "    \n",
    "    return values"
   ]
  },
  {
   "cell_type": "markdown",
   "id": "0f50d39d-1b3e-4d04-b78f-2f35995b6400",
   "metadata": {},
   "source": [
    "Plot `mysech(x)` function alongside `1/cosh(x)` over a range of `x` where there should not be overflow problems."
   ]
  },
  {
   "cell_type": "code",
   "execution_count": 24,
   "id": "45f8bf51-bfe1-46a8-a9b2-85002f2c36db",
   "metadata": {},
   "outputs": [
    {
     "data": {
      "image/png": "[encoded data removed]",
      "text/plain": [
       "<Figure size 325x250 with 1 Axes>"
      ]
     },
     "metadata": {},
     "output_type": "display_data"
    }
   ],
   "source": [
    "omega_ = np.logspace(start=-np.log10(710.4), stop=np.log10(710.4), num=100)\n",
    "\n",
    "plt.figure(figsize=(3.25, 2.5))\n",
    "plt.loglog(omega_, 1/np.cosh(omega_), '.', label='$f(x)$ = 1/cosh(x)')\n",
    "plt.loglog(omega_, np.real(mysech(omega_)), '-', label='$f(x)$ = mysech(x)')\n",
    "plt.xlabel('$x$')\n",
    "plt.ylabel('$f(x)$')\n",
    "plt.legend()\n",
    "plt.show()"
   ]
  },
  {
   "cell_type": "markdown",
   "id": "688631e1-ceff-44ac-b7c6-e5b953a58efb",
   "metadata": {},
   "source": [
    "Now plot `mysech(x)` over a larger `x` range to verify that there are no overflow problems."
   ]
  },
  {
   "cell_type": "code",
   "execution_count": 25,
   "id": "470cbb40-e98d-480d-8140-1885fafead3e",
   "metadata": {},
   "outputs": [
    {
     "data": {
      "image/png": "[encoded data removed]",
      "text/plain": [
       "<Figure size 325x250 with 1 Axes>"
      ]
     },
     "metadata": {},
     "output_type": "display_data"
    }
   ],
   "source": [
    "omega_ = np.logspace(start=-5, stop=5, num=100)\n",
    "\n",
    "plt.figure(figsize=(3.25, 2.5))\n",
    "plt.loglog(omega_, np.real(mysech(omega_)), '-')\n",
    "plt.xlabel('$x$')\n",
    "plt.ylabel('mysech$(x)$')\n",
    "plt.show()"
   ]
  },
  {
   "cell_type": "markdown",
   "id": "e8b97ff1-087b-4c7a-a4e6-f9b4e2586ed8",
   "metadata": {},
   "source": [
    "Define a custom `csch(x)` function analogously."
   ]
  },
  {
   "cell_type": "code",
   "execution_count": 26,
   "id": "9719fdb7-6465-4a81-98b7-1218b9ad4b77",
   "metadata": {},
   "outputs": [],
   "source": [
    "def mycsch(x):\n",
    "    \n",
    "    x = np.array(x)\n",
    "    mask = abs(x) < 710.4\n",
    "    values = np.zeros_like(x, dtype=complex)\n",
    "    values[mask] = 1/np.sinh(x[mask])\n",
    "    \n",
    "    return values"
   ]
  },
  {
   "cell_type": "markdown",
   "id": "335c2437-7b34-4017-9dfb-8e5667768bdb",
   "metadata": {},
   "source": [
    "We are now ready to code up a numerically stable version of the  $\\theta_{\\mathrm{I}} \\big/ \\epsilon_{\\mathrm{s}}$ function."
   ]
  },
  {
   "cell_type": "code",
   "execution_count": 27,
   "id": "8e23c21f-4868-484d-a5c5-731059866d17",
   "metadata": {},
   "outputs": [],
   "source": [
    "def theta1normB(omega, sample):\n",
    "\n",
    "    lambduh_ = lambduh(omega, sample)\n",
    "    khs_ = khs(omega, sample)\n",
    "    etahs_ = etahs(omega, sample)\n",
    "    \n",
    "    r1 = 1/sample['epsilon eff']\n",
    "    t1 = - lambduh_ * np.power(np.tanh(etahs_), -1.0)\n",
    "    t2 = np.tanh(khs_) * np.tanh(etahs_) - lambduh_ \\\n",
    "         + 2 * lambduh_ * mysech(khs_) * mysech(etahs_) \\\n",
    "         - lambduh_**2 * np.tanh(khs_) * mysech(etahs_) * mycsch(etahs_)\n",
    "    t3 = np.tanh(etahs_) - lambduh_ * np.tanh(khs_)\n",
    "    \n",
    "    return r1.magnitude * (t1 + t2 / t3)"
   ]
  },
  {
   "cell_type": "code",
   "execution_count": 28,
   "id": "ba63871f-9970-4f3d-9e8b-aa3f7583e8aa",
   "metadata": {},
   "outputs": [],
   "source": [
    "def integrandB(omega, sample):\n",
    "\n",
    "    ratio = (1 - theta1normB(omega, sample)) / (1 + theta1normB(omega, sample))\n",
    "    return np.exp(-omega) * np.imag(ratio)    "
   ]
  },
  {
   "cell_type": "markdown",
   "id": "ba483bf2-ed1f-44be-9942-5c8e6320e09b",
   "metadata": {},
   "source": [
    "Verify, by plotting, that the new integrand and the old integrand look the same."
   ]
  },
  {
   "cell_type": "code",
   "execution_count": 29,
   "id": "fb7662c6-5250-43c7-9181-6a7031d89bd8",
   "metadata": {},
   "outputs": [
    {
     "data": {
      "image/png": "[encoded data removed]",
      "text/plain": [
       "<Figure size 325x250 with 1 Axes>"
      ]
     },
     "metadata": {},
     "output_type": "display_data"
    }
   ],
   "source": [
    "plotme(integrandB, sample, '$\\mathrm{integrand} (\\Omega)$')"
   ]
  },
  {
   "cell_type": "code",
   "execution_count": 30,
   "id": "172f2fba-0a3a-4929-a18c-2e46e4a32cbf",
   "metadata": {},
   "outputs": [
    {
     "data": {
      "image/png": "[encoded data removed]",
      "text/plain": [
       "<Figure size 325x250 with 1 Axes>"
      ]
     },
     "metadata": {},
     "output_type": "display_data"
    }
   ],
   "source": [
    "plotme(integrandA, sample, '$\\mathrm{integrand} (\\Omega)$')"
   ]
  },
  {
   "cell_type": "markdown",
   "id": "2257f9d0-fe06-4be6-8417-95770d1041b6",
   "metadata": {},
   "source": [
    "The overlow problem has been solved by rewriting the function in the paper.  Python will happily integrate the newly formulated function."
   ]
  },
  {
   "cell_type": "code",
   "execution_count": 31,
   "id": "a658e336-2e77-4cbc-b71f-5af7d9bc8839",
   "metadata": {},
   "outputs": [
    {
     "data": {
      "text/plain": [
       "(0.0042661389899868885, 1.3646641162513393e-09)"
      ]
     },
     "execution_count": 31,
     "metadata": {},
     "output_type": "execute_result"
    }
   ],
   "source": [
    "integrate.quad(integrandB, 0, np.inf, args=(sample))"
   ]
  },
  {
   "cell_type": "markdown",
   "id": "d1d3248d-dfd6-49fe-be8a-6cf86a321005",
   "metadata": {},
   "source": [
    "We can get a nearly identical answer by integrating the function in the paper but giving a maximum $\\Omega$ to avoid the overflow problem.  However, the integral's error is not estimated correctly.  Moreover, this is an uncontrolled approximation, since we have no idea how much error is introduced by truncating the integral."
   ]
  },
  {
   "cell_type": "code",
   "execution_count": 32,
   "id": "60f4f7c3-f3c3-401c-9473-40bd959863fc",
   "metadata": {},
   "outputs": [
    {
     "data": {
      "text/plain": [
       "(0.004266138989992272, 1.8285447119200976e-13)"
      ]
     },
     "execution_count": 32,
     "metadata": {},
     "output_type": "execute_result"
    }
   ],
   "source": [
    "integrate.quad(integrandA, 0, 1e2, args=(sample))"
   ]
  },
  {
   "cell_type": "markdown",
   "id": "c1bc0c4b-53c7-44b7-bb40-196e36f6dcfc",
   "metadata": {},
   "source": [
    "# Compute the main integral for more realistic parameters"
   ]
  },
  {
   "cell_type": "code",
   "execution_count": null,
   "id": "4f2f345a-596a-4349-9959-021c5cda67a3",
   "metadata": {},
   "outputs": [],
   "source": [
    "from dissipationtheory.capacitance import Csphere"
   ]
  },
  {
   "cell_type": "markdown",
   "id": "8f25fed6-5209-4438-b36e-7df2d0d256f8",
   "metadata": {},
   "source": [
    "Pick representative values for an organic sample from Lekkala's paper."
   ]
  },
  {
   "cell_type": "code",
   "execution_count": 34,
   "id": "47894cc1-49c3-4866-b7f8-7aa69ed9ceb6",
   "metadata": {},
   "outputs": [],
   "source": [
    "sample = {\n",
    "    'epsilon': ureg.Quantity(complex(3.4, -0.05), ''), # dielectric constant at the cantilever frequency\n",
    "    'rho': ureg.Quantity(1.0e21, '1/m^3'),            # charge density\n",
    "    'mobility': ureg.Quantity(4E-7, 'm^2/(V s)'),     # carrier mobility\n",
    "    'thickness': ureg.Quantity(500., 'nm'),           # sample thickness\n",
    "    'zr': ureg.Quantity(500., 'nm')                   # reference thickness\n",
    "}"
   ]
  },
  {
   "cell_type": "markdown",
   "id": "09e31b22-a1c9-4032-9968-2ddd44ae4fd6",
   "metadata": {},
   "source": [
    "Make a utility function to compute derived sample quantities: the diffusion constant $D$, the Debye length $L_{\\mathrm{D}}$, the diffusion lenth $L_{\\mathrm{d}}$, and the effective dielectric constant $\\epsilon_{\\mathrm{eff}}$."
   ]
  },
  {
   "cell_type": "code",
   "execution_count": 35,
   "id": "a10071ef-c653-4808-b043-37c0aa807a86",
   "metadata": {},
   "outputs": [],
   "source": [
    "def sample_derived_quantities(sample):\n",
    "    \n",
    "    sample['D'] = ((kb * ureg.Quantity(300., 'K') * sample['mobility']) / qe).to('m^2/s')\n",
    "    sample['LD'] = (np.sqrt((epsilon0 * kb * ureg.Quantity(300., 'K')) / (sample['rho'] * qe * qe))).to('nm')\n",
    "    sample['Ld'] = (np.sqrt(sample['D'] / cantilever['omega_c'])).to('nm')\n",
    "    sample['epsilon eff'] = (sample['epsilon'] - complex(0,1) * np.power(sample['Ld'], 2.) / np.power(sample['LD'], 2.)).to_base_units()\n",
    "    \n",
    "    return sample"
   ]
  },
  {
   "cell_type": "code",
   "execution_count": 36,
   "id": "98f27165-ca51-4621-b977-f80d5ac9709b",
   "metadata": {},
   "outputs": [
    {
     "data": {
      "text/plain": [
       "{'epsilon': (3.4-0.05j) <Unit('dimensionless')>,\n",
       " 'rho': 1e+21 <Unit('1 / meter ** 3')>,\n",
       " 'mobility': 4e-07 <Unit('meter ** 2 / second / volt')>,\n",
       " 'thickness': 500.0 <Unit('nanometer')>,\n",
       " 'zr': 500.0 <Unit('nanometer')>,\n",
       " 'D': 1.0340799940391092e-08 <Unit('meter ** 2 / second')>,\n",
       " 'LD': 37.79777548184893 <Unit('nanometer')>,\n",
       " 'Ld': 453.56772179543634 <Unit('nanometer')>,\n",
       " 'epsilon eff': (3.4-144.04645442475461j) <Unit('dimensionless')>}"
      ]
     },
     "execution_count": 36,
     "metadata": {},
     "output_type": "execute_result"
    }
   ],
   "source": [
    "sample = sample_derived_quantities(sample)\n",
    "sample"
   ]
  },
  {
   "cell_type": "markdown",
   "id": "50ca629f-5242-4e02-95a0-0125f450d04f",
   "metadata": {},
   "source": [
    "Create a dictionary holding the cantilever properties."
   ]
  },
  {
   "cell_type": "code",
   "execution_count": 37,
   "id": "0767de85-87dc-4599-bbbd-964262555d03",
   "metadata": {},
   "outputs": [],
   "source": [
    "cantilever = {\n",
    "    'omega_c': 2*np.pi*ureg.Quantity(81E3, '1/s'), # frequency, 2*pi*8000/s = 50 kHz\n",
    "    'Vts': ureg.Quantity(3.0, 'V'),                # voltage\n",
    "    'height': ureg.Quantity(100., 'nm'),           # cantilever height\n",
    "    'radius': ureg.Quantity(40., 'nm')             # cantilever radius\n",
    "}"
   ]
  },
  {
   "cell_type": "markdown",
   "id": "ae40dc5f-9cc0-4e13-a850-37215fe0560c",
   "metadata": {},
   "source": [
    "Compute and plot the tip capacitance."
   ]
  },
  {
   "cell_type": "code",
   "execution_count": 38,
   "id": "25824414-7307-4ca3-a082-6c4a3ccb66c3",
   "metadata": {},
   "outputs": [
    {
     "name": "stderr",
     "output_type": "stream",
     "text": [
      "/Users/jam99/Library/Caches/pypoetry/virtualenvs/dissipationtheory-Uvi85QQO-py3.8/lib/python3.8/site-packages/matplotlib/cbook/__init__.py:1345: UnitStrippedWarning: The unit of the quantity is stripped when downcasting to ndarray.\n",
      "  return np.asarray(x, float)\n"
     ]
    },
    {
     "data": {
      "image/png": "[encoded data removed]",
      "text/plain": [
       "<Figure size 325x250 with 1 Axes>"
      ]
     },
     "metadata": {},
     "output_type": "display_data"
    }
   ],
   "source": [
    "h_ = ureg.Quantity(np.logspace(1, 4, num=100), 'nm')\n",
    "r = cantilever['radius']\n",
    "Cref = (4 * np.pi * epsilon0 * r) * np.ones_like(h_)\n",
    "\n",
    "plt.figure(figsize=(3.25, 2.5))\n",
    "plt.loglog(h_, Csphere(0, h_, r).to('aF').magnitude)\n",
    "plt.loglog(h_, Cref.to(\"aF\").magnitude, '--')\n",
    "plt.xlabel('height $h$ [nm]')\n",
    "plt.ylabel('capacitance $C$ [aF]')\n",
    "plt.show()"
   ]
  },
  {
   "cell_type": "markdown",
   "id": "8bcc4b69-68f2-4506-87cb-bc1dde8199db",
   "metadata": {},
   "source": [
    "Compute a representative value of the capacitance first derivative, and check its units."
   ]
  },
  {
   "cell_type": "code",
   "execution_count": 50,
   "id": "b5a7209b-2e18-4d6f-a5f9-624cd6ecec23",
   "metadata": {},
   "outputs": [
    {
     "data": {
      "text/html": [
       "-1.6936391075606985e-10 farad/meter"
      ],
      "text/latex": [
       "$-1.6936391075606985\\times 10^{-10}\\ \\frac{\\mathrm{farad}}{\\mathrm{meter}}$"
      ],
      "text/plain": [
       "-1.6936391075606985e-10 <Unit('farad / meter')>"
      ]
     },
     "execution_count": 50,
     "metadata": {},
     "output_type": "execute_result"
    }
   ],
   "source": [
    "Csphere(1, h_, r)[0].to('F/m')"
   ]
  },
  {
   "cell_type": "markdown",
   "id": "171b87ea-d8ba-46fe-a602-d8950c5f1763",
   "metadata": {},
   "source": [
    "Compute a representative value of the capacitance second derivative, and check its units."
   ]
  },
  {
   "cell_type": "code",
   "execution_count": 54,
   "id": "db03173c-a9a0-4409-8e29-4c3be2917e50",
   "metadata": {},
   "outputs": [
    {
     "data": {
      "text/html": [
       "0.020398131940014268 farad/meter<sup>2</sup>"
      ],
      "text/latex": [
       "$0.020398131940014268\\ \\frac{\\mathrm{farad}}{\\mathrm{meter}^{2}}$"
      ],
      "text/plain": [
       "0.020398131940014268 <Unit('farad / meter ** 2')>"
      ]
     },
     "execution_count": 54,
     "metadata": {},
     "output_type": "execute_result"
    }
   ],
   "source": [
    "Csphere(2, h_, r)[0].to('F/m^2')"
   ]
  },
  {
   "cell_type": "markdown",
   "id": "028e1984-75a8-482d-9080-6bb469e5f930",
   "metadata": {},
   "source": [
    "Perform the unitless integral."
   ]
  },
  {
   "cell_type": "code",
   "execution_count": null,
   "id": "f1cbb92d-c6fe-4d48-a9dd-523635521f16",
   "metadata": {},
   "outputs": [],
   "source": [
    "def integrandC(omega, sample, power):\n",
    "\n",
    "    ratio = (1 - theta1normB(omega, sample)) / (1 + theta1normB(omega, sample))\n",
    "    exponent = (2 * cantilever['height'] / sample['zr']).to('dimensionless').magnitude\n",
    "    return omega**power * np.exp(-1 * omega * exponent) * np.imag(ratio) "
   ]
  },
  {
   "cell_type": "markdown",
   "id": "2ad15235-454f-4eae-9a86-362677f94ed3",
   "metadata": {},
   "source": [
    " Plot the integrand.  Note that it is now negative."
   ]
  },
  {
   "cell_type": "code",
   "execution_count": 55,
   "id": "7f81054a-9ff6-45d4-8979-ab60638e0e86",
   "metadata": {},
   "outputs": [
    {
     "data": {
      "image/png": "[encoded data removed]",
      "text/plain": [
       "<Figure size 325x250 with 1 Axes>"
      ]
     },
     "metadata": {},
     "output_type": "display_data"
    }
   ],
   "source": [
    "omega_ = np.logspace(start=-3, stop=1, num=100)\n",
    "\n",
    "plt.figure(figsize=(3.25, 2.5))\n",
    "plt.semilogx(omega_, np.real(integrandC(omega_, sample, 0)), label='real')\n",
    "plt.semilogx(omega_, np.imag(integrandC(omega_, sample, 0)), label='imag')\n",
    "plt.xlabel('$\\Omega$')\n",
    "plt.ylabel('integrant')\n",
    "plt.legend()\n",
    "plt.show()"
   ]
  },
  {
   "cell_type": "markdown",
   "id": "555196f0-1989-4acc-9a4c-5e616ab40ea6",
   "metadata": {},
   "source": [
    "Compute the integrals with different values of the exponent."
   ]
  },
  {
   "cell_type": "code",
   "execution_count": 42,
   "id": "f00e9146-048d-47e8-b3a3-d25fee6c18b4",
   "metadata": {},
   "outputs": [
    {
     "name": "stdout",
     "output_type": "stream",
     "text": [
      "(-0.023133120657570633, 3.116414066205001e-09)\n",
      "(-0.041837487458461435, 2.3220587754577479e-10)\n",
      "(-0.1617831222857996, 1.0514547417953674e-08)\n"
     ]
    }
   ],
   "source": [
    "for power in [0, 1, 2]:\n",
    "    print(integrate.quad(integrandC, 0., np.inf, args=(sample, power)))"
   ]
  },
  {
   "cell_type": "markdown",
   "id": "d6186ba5-fd40-4c2b-84d5-9fece1064aa0",
   "metadata": {},
   "source": [
    "Here is how we get at the value of the integrand, neglecting the error bar in the integrand."
   ]
  },
  {
   "cell_type": "code",
   "execution_count": 43,
   "id": "9c35f4cc-33ea-42e0-b001-5579da40ec5f",
   "metadata": {},
   "outputs": [
    {
     "data": {
      "text/plain": [
       "-0.023133120657570633"
      ]
     },
     "execution_count": 43,
     "metadata": {},
     "output_type": "execute_result"
    }
   ],
   "source": [
    "integrate.quad(integrandC, 0., np.inf, args=(sample, 0.))[0]"
   ]
  },
  {
   "cell_type": "markdown",
   "id": "bfefcb49-1749-4a2c-a947-1be9784b8c08",
   "metadata": {},
   "source": [
    "Compute the integral, including the prefactors."
   ]
  },
  {
   "cell_type": "code",
   "execution_count": 44,
   "id": "511759fb-5f34-4f69-a1ba-b07682490a38",
   "metadata": {},
   "outputs": [],
   "source": [
    "def C(power):\n",
    "    pre = (-1**(power + 1) * kb * ureg.Quantity(300., 'K')) / (4 * np.pi * epsilon0 * cantilever['omega_c'] * sample['zr']**(power+1))\n",
    "    integral = integrate.quad(integrandC, 0., np.inf, args=(sample, power))[0]\n",
    "    return pre * integral"
   ]
  },
  {
   "cell_type": "markdown",
   "id": "73d479d1-4d02-44ac-a0f5-1990f97066fc",
   "metadata": {},
   "source": [
    "Check that the integral has the right units."
   ]
  },
  {
   "cell_type": "code",
   "execution_count": 45,
   "id": "454799d7-1989-4c7b-a714-3fa25352e8ee",
   "metadata": {},
   "outputs": [
    {
     "data": {
      "text/html": [
       "3.384116262465872×10<sup>-12</sup> second volt<sup>2</sup>"
      ],
      "text/latex": [
       "$3.384116262465872\\times 10^{-12}\\ \\mathrm{second} \\cdot \\mathrm{volt}^{2}$"
      ],
      "text/plain": [
       "3.384116262465872e-12 <Unit('second * volt ** 2')>"
      ]
     },
     "execution_count": 45,
     "metadata": {},
     "output_type": "execute_result"
    }
   ],
   "source": [
    "C(0).to('V^2 s')"
   ]
  },
  {
   "cell_type": "code",
   "execution_count": 46,
   "id": "bf56d44f-3a02-483e-914f-3fa459169e11",
   "metadata": {},
   "outputs": [
    {
     "data": {
      "text/html": [
       "1.2240710951598858×10<sup>-5</sup> second volt<sup>2</sup>/meter"
      ],
      "text/latex": [
       "$1.2240710951598858\\times 10^{-5}\\ \\frac{\\mathrm{second} \\cdot \\mathrm{volt}^{2}}{\\mathrm{meter}}$"
      ],
      "text/plain": [
       "1.2240710951598858e-05 <Unit('second * volt ** 2 / meter')>"
      ]
     },
     "execution_count": 46,
     "metadata": {},
     "output_type": "execute_result"
    }
   ],
   "source": [
    "C(1).to('V^2 s/m')"
   ]
  },
  {
   "cell_type": "markdown",
   "id": "7bbcfbdb-1a9e-47ae-a79d-049eb630e666",
   "metadata": {},
   "source": [
    "Show that the dissipation has the right units.  I am only computing the leading term in the dissipation here."
   ]
  },
  {
   "cell_type": "code",
   "execution_count": 47,
   "id": "2553af38-e854-48a8-b8a2-124751acd591",
   "metadata": {},
   "outputs": [],
   "source": [
    "term1 = cantilever['Vts']**2 / (kb * ureg.Quantity(300., 'K'))\n",
    "term2 = Csphere(1, cantilever['height'] * np.ones(1), cantilever['radius']) ** 2\n",
    "term3 = C(0)\n",
    "\n",
    "ans = term1 * term2 * term3"
   ]
  },
  {
   "cell_type": "code",
   "execution_count": 48,
   "id": "8d2edba1-7314-4ea0-bdee-9757c87d0068",
   "metadata": {},
   "outputs": [
    {
     "data": {
      "text/html": [
       "<table><tbody><tr><th>Magnitude</th><td style='text-align:left;'><pre>[2.8841640563292255e-13]</pre></td></tr><tr><th>Units</th><td style='text-align:left;'>newton second/meter</td></tr></tbody></table>"
      ],
      "text/latex": [
       "$\\begin{pmatrix}2.8841640563292255\\times 10^{-13}\\end{pmatrix}\\ \\frac{\\mathrm{newton} \\cdot \\mathrm{second}}{\\mathrm{meter}}$"
      ],
      "text/plain": [
       "array([2.88416406e-13]) <Unit('newton * second / meter')>"
      ]
     },
     "execution_count": 48,
     "metadata": {},
     "output_type": "execute_result"
    }
   ],
   "source": [
    "ans.to('N*s/m')"
   ]
  },
  {
   "cell_type": "code",
   "execution_count": 49,
   "id": "c05a90f7-3e58-4124-9931-1e31a0f580d7",
   "metadata": {},
   "outputs": [
    {
     "data": {
      "text/html": [
       "<table><tbody><tr><th>Magnitude</th><td style='text-align:left;'><pre>[2.8841640563292255e-13]</pre></td></tr><tr><th>Units</th><td style='text-align:left;'>kilogram/second</td></tr></tbody></table>"
      ],
      "text/latex": [
       "$\\begin{pmatrix}2.8841640563292255\\times 10^{-13}\\end{pmatrix}\\ \\frac{\\mathrm{kilogram}}{\\mathrm{second}}$"
      ],
      "text/plain": [
       "array([2.88416406e-13]) <Unit('kilogram / second')>"
      ]
     },
     "execution_count": 49,
     "metadata": {},
     "output_type": "execute_result"
    }
   ],
   "source": [
    "ans.to('kg/s')"
   ]
  },
  {
   "cell_type": "markdown",
   "id": "49ea40fa-40b6-407a-82d9-d9ac1b25eedd",
   "metadata": {},
   "source": [
    "Ok, I seem to be able to do the main integral, and get the units right with the help of the units package.  Time to put all the terms together!"
   ]
  },
  {
   "cell_type": "markdown",
   "id": "ffb4c444-f809-44ea-a52b-8942aaddbe50",
   "metadata": {},
   "source": [
    "# Putting it all together"
   ]
  },
  {
   "cell_type": "code",
   "execution_count": 61,
   "id": "54a0e51c-3507-40a4-9a40-50634d239f64",
   "metadata": {},
   "outputs": [],
   "source": [
    "def gamma():\n",
    "\n",
    "    prefactor = cantilever['Vts']**2 / (kb * ureg.Quantity(300., 'K'))\n",
    "\n",
    "    c0 = Csphere(0, cantilever['height'] * np.ones(1), cantilever['radius'])        \n",
    "    c1 = Csphere(1, cantilever['height'] * np.ones(1), cantilever['radius'])\n",
    "    \n",
    "    return prefactor * (c1 * c1 * C(0) + 2 * c0 * c1 * C(1) + c0 * c0 * C(2))"
   ]
  },
  {
   "cell_type": "code",
   "execution_count": 64,
   "id": "75ebee3f-b95b-4f8f-b0dd-fe2b85b917d0",
   "metadata": {},
   "outputs": [
    {
     "data": {
      "text/html": [
       "<table><tbody><tr><th>Magnitude</th><td style='text-align:left;'><pre>[4.109154821687618]</pre></td></tr><tr><th>Units</th><td style='text-align:left;'>piconewton second/meter</td></tr></tbody></table>"
      ],
      "text/latex": [
       "$\\begin{pmatrix}4.109154821687618\\end{pmatrix}\\ \\frac{\\mathrm{piconewton} \\cdot \\mathrm{second}}{\\mathrm{meter}}$"
      ],
      "text/plain": [
       "array([4.10915482]) <Unit('piconewton * second / meter')>"
      ]
     },
     "execution_count": 64,
     "metadata": {},
     "output_type": "execute_result"
    }
   ],
   "source": [
    "gamma().to('pN s/m')"
   ]
  },
  {
   "cell_type": "markdown",
   "id": "056c5dcb-e08d-47b2-b299-4eaa6b058f0d",
   "metadata": {},
   "source": [
    "# Example calculation"
   ]
  },
  {
   "cell_type": "code",
   "execution_count": 146,
   "id": "f3289f47-0dee-4a5e-8b4b-e2c6b8204d3b",
   "metadata": {},
   "outputs": [],
   "source": [
    "cantilever = {\n",
    "    'omega_c': 2*np.pi*ureg.Quantity(81E3, '1/s'), # frequency, 2*pi*8000/s = 50 kHz\n",
    "    'Vts': ureg.Quantity(3.0, 'V'),                # voltage\n",
    "    'height': ureg.Quantity(100., 'nm'),           # cantilever height\n",
    "    'radius': ureg.Quantity(40., 'nm')             # cantilever radius\n",
    "}"
   ]
  },
  {
   "cell_type": "code",
   "execution_count": 154,
   "id": "6d65fefd-a826-4606-826e-ba7dcf46498d",
   "metadata": {},
   "outputs": [],
   "source": [
    "sample = {\n",
    "    'epsilon': ureg.Quantity(complex(3.4, -0.005), ''), # dielectric constant at the cantilever frequency\n",
    "    'rho': ureg.Quantity(1.0e21, '1/m^3'),             # charge density\n",
    "    'mobility': ureg.Quantity(2.7E-10, 'm^2/(V s)'),   # carrier mobility\n",
    "    'thickness': ureg.Quantity(500., 'nm'),            # sample thickness\n",
    "    'zr': ureg.Quantity(500., 'nm')                    # reference thickness\n",
    "}\n",
    "\n",
    "sample = sample_derived_quantities(sample)"
   ]
  },
  {
   "cell_type": "markdown",
   "id": "d77ad8fc-4de3-427f-b31f-638a8f2cd432",
   "metadata": {},
   "source": [
    "Loop over the charge density, like in Lekkala2013 Fig. 9(b)."
   ]
  },
  {
   "cell_type": "code",
   "execution_count": 230,
   "id": "ff8b60cb-571a-48e7-91ae-386c0d3210e6",
   "metadata": {},
   "outputs": [],
   "source": [
    "rho = ureg.Quantity(np.logspace(start=17, stop=29, num=37), '1/m^3')"
   ]
  },
  {
   "cell_type": "markdown",
   "id": "369e222d-8b69-4a52-b85f-ea548ee5a2bb",
   "metadata": {},
   "source": [
    "Make a dictionary to store the results in."
   ]
  },
  {
   "cell_type": "code",
   "execution_count": 233,
   "id": "5e6955f5-c224-4252-99e7-4b0045051164",
   "metadata": {},
   "outputs": [],
   "source": [
    "result1 = {\n",
    "    'index': np.arange(len(rho)),\n",
    "    'rho': rho,\n",
    "    'gamma': ureg.Quantity(np.zeros_like(rho), 'pN s/m')\n",
    "}\n",
    "\n",
    "result2 = {\n",
    "    'index': np.arange(len(rho)),\n",
    "    'rho': rho,\n",
    "    'gamma': ureg.Quantity(np.zeros_like(rho), 'pN s/m')\n",
    "}\n",
    "\n",
    "result3 = {\n",
    "    'index': np.arange(len(rho)),\n",
    "    'rho': rho,\n",
    "    'gamma': ureg.Quantity(np.zeros_like(rho), 'pN s/m')\n",
    "}"
   ]
  },
  {
   "cell_type": "markdown",
   "id": "93e405c3-1619-4646-ba65-b236531d0706",
   "metadata": {},
   "source": [
    "Now loop over the charge density and compute the friction.  The calculation, for 30 charge density points, takes about 45 seconds.  Use the `tdqm` package to printout a continuously changing update. "
   ]
  },
  {
   "cell_type": "code",
   "execution_count": 234,
   "id": "31c16d12-18cf-4b91-8f48-1d011453fddd",
   "metadata": {},
   "outputs": [
    {
     "name": "stderr",
     "output_type": "stream",
     "text": [
      "37it [00:43,  1.18s/it]\n"
     ]
    }
   ],
   "source": [
    "for index, rho_ in tqdm(enumerate(rho)):\n",
    "\n",
    "    sample['mobility'] = ureg.Quantity(2.7E-10, 'm^2/(V s)')\n",
    "    sample['epsilon'] = ureg.Quantity(complex(3.4, -0.005), '')\n",
    "    sample['rho'] = rho_\n",
    "    sample = sample_derived_quantities(sample)\n",
    "    result1['gamma'][index] = gamma()"
   ]
  },
  {
   "cell_type": "code",
   "execution_count": 235,
   "id": "4aef2813-abda-424a-b0c2-0eec809cbc30",
   "metadata": {},
   "outputs": [
    {
     "name": "stderr",
     "output_type": "stream",
     "text": [
      "37it [00:48,  1.30s/it]\n"
     ]
    }
   ],
   "source": [
    "for index, rho_ in tqdm(enumerate(rho)):\n",
    "\n",
    "    sample['mobility'] = ureg.Quantity(2.7E-10, 'm^2/(V s)')\n",
    "    sample['epsilon'] = ureg.Quantity(complex(3.4, 0.000), '')\n",
    "    sample['rho'] = rho_\n",
    "    sample = sample_derived_quantities(sample)\n",
    "    result2['gamma'][index] = gamma()"
   ]
  },
  {
   "cell_type": "code",
   "execution_count": 236,
   "id": "28d0424e-ad25-46e2-a8de-40e45725d522",
   "metadata": {},
   "outputs": [
    {
     "name": "stderr",
     "output_type": "stream",
     "text": [
      "37it [00:52,  1.43s/it]\n"
     ]
    }
   ],
   "source": [
    "for index, rho_ in tqdm(enumerate(rho)):\n",
    "\n",
    "    sample['mobility'] = ureg.Quantity(4E-7, 'm^2/(V s)')\n",
    "    sample['epsilon'] = ureg.Quantity(complex(3.4, -0.005), '')\n",
    "    sample['rho'] = rho_\n",
    "    sample = sample_derived_quantities(sample)\n",
    "    result3['gamma'][index] = gamma()"
   ]
  },
  {
   "cell_type": "markdown",
   "id": "b2ff3d4f-77c5-4d8c-a913-96f8ee277e75",
   "metadata": {},
   "source": [
    "Print out the results."
   ]
  },
  {
   "cell_type": "code",
   "execution_count": 237,
   "id": "efd91ced-72c3-47a8-a92f-1e3e47f9c537",
   "metadata": {},
   "outputs": [
    {
     "name": "stdout",
     "output_type": "stream",
     "text": [
      "00 1.00e+17   0.4349   0.0001   0.4437\n",
      "01 2.15e+17   0.4350   0.0002   0.4540\n",
      "02 4.64e+17   0.4352   0.0004   0.4761\n",
      "03 1.00e+18   0.4356   0.0008   0.5236\n",
      "04 2.15e+18   0.4365   0.0017   0.6255\n",
      "05 4.64e+18   0.4385   0.0037   0.8429\n",
      "06 1.00e+19   0.4428   0.0080   1.3010\n",
      "07 2.15e+19   0.4520   0.0172   2.2425\n",
      "08 4.64e+19   0.4719   0.0371   4.0720\n",
      "09 1.00e+20   0.5147   0.0799   7.2164\n",
      "10 2.15e+20   0.6070   0.1722  11.3601\n",
      "11 4.64e+20   0.8057   0.3709  14.4773\n",
      "12 1.00e+21   1.2338   0.7991  14.5700\n",
      "13 2.15e+21   2.1558   1.7212  12.1404\n",
      "14 4.64e+21   4.1411   3.7068   8.7817\n",
      "15 1.00e+22   8.4107   7.9773   5.6761\n",
      "16 2.15e+22  17.5614  17.1311   3.3535\n",
      "17 4.64e+22  36.9175  36.4989   1.8506\n",
      "18 1.00e+23  75.7297  75.3565   0.9731\n",
      "19 2.15e+23 138.0565 137.8277   0.4958\n",
      "20 4.64e+23 177.4128 177.3969   0.2481\n",
      "21 1.00e+24 135.3297 135.3611   0.1233\n",
      "22 2.15e+24  73.9830  73.9901   0.0613\n",
      "23 4.64e+24  36.0980  36.0960   0.0308\n",
      "24 1.00e+25  17.0720  17.0688   0.0158\n",
      "25 2.15e+25   7.9988   7.9962   0.0083\n",
      "26 4.64e+25   3.7341   3.7323   0.0045\n",
      "27 1.00e+26   1.7401   1.7389   0.0025\n",
      "28 2.15e+26   0.8102   0.8093   0.0014\n",
      "29 4.64e+26   0.3770   0.3764   0.0009\n",
      "30 1.00e+27   0.1754   0.1750   0.0005\n",
      "31 2.15e+27   0.0817   0.0814   0.0003\n",
      "32 4.64e+27   0.0380   0.0378   0.0002\n",
      "33 1.00e+28   0.0177   0.0176   0.0001\n",
      "34 2.15e+28   0.0083   0.0082   0.0001\n",
      "35 4.64e+28   0.0039   0.0038   0.0001\n",
      "36 1.00e+29   0.0018   0.0018   0.0000\n"
     ]
    }
   ],
   "source": [
    "for index_, rho_, gamma1_, gamma2_, gamma3_ in zip(\n",
    "    result1['index'], result1['rho'], result1['gamma'], result2['gamma'], result3['gamma']):\n",
    "\n",
    "    print(\"{:02d} {:1.2e} {:8.4f} {:8.4f} {:8.4f}\".format(\n",
    "        index_,\n",
    "        rho_.to('1/m^3').magnitude,\n",
    "        gamma1_.to('pN s/m').magnitude,\n",
    "        gamma2_.to('pN s/m').magnitude,\n",
    "        gamma3_.to('pN s/m').magnitude))\n",
    "    "
   ]
  },
  {
   "cell_type": "markdown",
   "id": "45c6f4f3-7848-4888-abdb-8af57d1731e2",
   "metadata": {},
   "source": [
    "Plot the results."
   ]
  },
  {
   "cell_type": "code",
   "execution_count": 243,
   "id": "06501bea-8dfa-4989-954a-a792620007bd",
   "metadata": {},
   "outputs": [
    {
     "data": {
      "image/png": "[encoded data removed]",
      "text/plain": [
       "<Figure size 325x250 with 1 Axes>"
      ]
     },
     "metadata": {},
     "output_type": "display_data"
    }
   ],
   "source": [
    "plt.figure(figsize=(3.25, 2.5))\n",
    "\n",
    "sym = r'$\\varepsilon_{\\mathrm{s}}^{\\prime\\prime} = '\n",
    "plt.loglog(result1['rho'].to('1/m^3').magnitude, result1['gamma'].to('pN s/m').magnitude, label=sym + '-0.005$')\n",
    "plt.loglog(result2['rho'].to('1/m^3').magnitude, result2['gamma'].to('pN s/m').magnitude, label=sym + '0.0$') \n",
    "\n",
    "plt.legend(fontsize=9)\n",
    "plt.xlabel(r'$\\rho$ [m$^{-3}$]')  # need a raw string here because \\r is the special carriage return character\n",
    "plt.ylabel('$\\gamma_{\\perp}$ [pN s/m]')\n",
    "plt.ylim([1E-3,1e3])\n",
    "plt.grid()\n",
    "plt.tight_layout()\n",
    "\n",
    "plt.savefig(THIS + '--Fig-1.png', dpi=300)\n",
    "plt.savefig(THIS + '--Fig-1.pdf')\n",
    "\n",
    "plt.show()"
   ]
  },
  {
   "cell_type": "markdown",
   "id": "055c8181-9258-4421-ac2c-8a4878e11c3e",
   "metadata": {},
   "source": [
    "Looks similar to Lekkala2013 Figure 9(b), except here the dissipation is the same for the two dielectric constants at high charge density.  In Lekkala2013's Figure 9(b), in contrast, the dissipation dropped symmetically below and above the peak."
   ]
  },
  {
   "cell_type": "code",
   "execution_count": 241,
   "id": "ab4b1fe5-b647-421b-9f68-ec8471643bce",
   "metadata": {},
   "outputs": [],
   "source": [
    "def labelformat(mu):\n",
    "    return r'$\\mu = $'  + '{:1.1e}'.format(mu) + ' m^2/(V s)'.format(mu)"
   ]
  },
  {
   "cell_type": "code",
   "execution_count": 244,
   "id": "ab9ddb17-6aaf-4ade-b61c-e5866e8a15cc",
   "metadata": {},
   "outputs": [
    {
     "data": {
      "image/png": "[encoded data removed]",
      "text/plain": [
       "<Figure size 325x250 with 1 Axes>"
      ]
     },
     "metadata": {},
     "output_type": "display_data"
    }
   ],
   "source": [
    "plt.figure(figsize=(3.25, 2.5))\n",
    "\n",
    "sym = r'$\\mu = '\n",
    "plt.loglog(result1['rho'].to('1/m^3').magnitude, result1['gamma'].to('pN s/m').magnitude, label=labelformat(2.7E-10))\n",
    "plt.loglog(result3['rho'].to('1/m^3').magnitude, result3['gamma'].to('pN s/m').magnitude, label=labelformat(4E-7)) \n",
    "\n",
    "plt.legend(fontsize=9)\n",
    "plt.xlabel(r'$\\rho$ [m$^{-3}$]')  # need a raw string here because \\r is the special carriage return character\n",
    "plt.ylabel('$\\gamma_{\\perp}$ [pN s/m]')\n",
    "plt.ylim([1E-3,1e3])\n",
    "plt.grid()\n",
    "plt.tight_layout()\n",
    "\n",
    "plt.savefig(THIS + '--Fig-2.png', dpi=300)\n",
    "plt.savefig(THIS + '--Fig-2.pdf')\n",
    "\n",
    "plt.show()"
   ]
  },
  {
   "cell_type": "markdown",
   "id": "7c706704-5f7f-468b-9fed-af3b43f3b469",
   "metadata": {},
   "source": [
    "I am seeing qualitatively the behavior seen in Lekkala2013's Figure 9(a).  Here, however, I am plotting the results on a log-log plot, whereas Lekkala2013's Figure 9(a) employed a log-linear plot.\n",
    "\n",
    "It is important to note that the \"sample\" here is slightly different than Lekkala's.  I have computed the friction for a a doped semiconductor on a metal, whereas Lekkala in Figure 9 compute the friction for a doped semiconductor on a dielectric substrate.\n",
    "\n",
    "Next: Go back and code Lekkala2013's Figure 9 *exactly*."
   ]
  },
  {
   "cell_type": "code",
   "execution_count": null,
   "id": "59c4523f-5e8f-4086-a9c8-8f4ce7bf4f86",
   "metadata": {},
   "outputs": [],
   "source": []
  }
 ],
 "metadata": {
  "kernelspec": {
   "display_name": "dissipationtheory",
   "language": "python",
   "name": "dissipationtheory"
  },
  "language_info": {
   "codemirror_mode": {
    "name": "ipython",
    "version": 3
   },
   "file_extension": ".py",
   "mimetype": "text/x-python",
   "name": "python",
   "nbconvert_exporter": "python",
   "pygments_lexer": "ipython3",
   "version": "3.8.5"
  },
  "toc": {
   "base_numbering": 1,
   "nav_menu": {},
   "number_sections": true,
   "sideBar": true,
   "skip_h1_title": false,
   "title_cell": "Table of Contents",
   "title_sidebar": "Contents",
   "toc_cell": false,
   "toc_position": {},
   "toc_section_display": true,
   "toc_window_display": false
  }
 },
 "nbformat": 4,
 "nbformat_minor": 5
}
