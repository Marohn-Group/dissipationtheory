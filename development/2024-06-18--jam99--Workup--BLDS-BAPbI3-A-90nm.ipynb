{
 "cells": [
  {
   "cell_type": "markdown",
   "id": "c6029eff",
   "metadata": {},
   "source": [
    "# Preliminaries"
   ]
  },
  {
   "cell_type": "code",
   "execution_count": 1,
   "id": "45475759",
   "metadata": {},
   "outputs": [],
   "source": [
    "from dissipationtheory.dissipation import SampleModel1Jit, CantileverModelJit\n",
    "from dissipationtheory.data import BLDSData"
   ]
  },
  {
   "cell_type": "code",
   "execution_count": 2,
   "id": "0c27d30a",
   "metadata": {},
   "outputs": [
    {
     "ename": "ModuleNotFoundError",
     "evalue": "No module named 'cmasher'",
     "output_type": "error",
     "traceback": [
      "\u001b[0;31m---------------------------------------------------------------------------\u001b[0m",
      "\u001b[0;31mModuleNotFoundError\u001b[0m                       Traceback (most recent call last)",
      "Cell \u001b[0;32mIn[2], line 3\u001b[0m\n\u001b[1;32m      1\u001b[0m \u001b[38;5;28;01mimport\u001b[39;00m \u001b[38;5;21;01mmatplotlib\u001b[39;00m\u001b[38;5;21;01m.\u001b[39;00m\u001b[38;5;21;01mcm\u001b[39;00m \u001b[38;5;28;01mas\u001b[39;00m \u001b[38;5;21;01mcm\u001b[39;00m\n\u001b[1;32m      2\u001b[0m \u001b[38;5;28;01mimport\u001b[39;00m \u001b[38;5;21;01mmatplotlib\u001b[39;00m\u001b[38;5;21;01m.\u001b[39;00m\u001b[38;5;21;01mcolors\u001b[39;00m \u001b[38;5;28;01mas\u001b[39;00m \u001b[38;5;21;01mmcolors\u001b[39;00m\n\u001b[0;32m----> 3\u001b[0m \u001b[38;5;28;01mimport\u001b[39;00m \u001b[38;5;21;01mcmasher\u001b[39;00m \u001b[38;5;28;01mas\u001b[39;00m \u001b[38;5;21;01mcmr\u001b[39;00m\n",
      "\u001b[0;31mModuleNotFoundError\u001b[0m: No module named 'cmasher'"
     ]
    }
   ],
   "source": [
    "import matplotlib.cm as cm\n",
    "import matplotlib.colors as mcolors\n",
    "import cmasher as cmr"
   ]
  },
  {
   "cell_type": "code",
   "execution_count": null,
   "id": "64e596fe",
   "metadata": {},
   "outputs": [],
   "source": [
    "%matplotlib inline\n",
    "import matplotlib.pylab as plt\n",
    "\n",
    "font = {'family' : 'serif',\n",
    "        'weight' : 'normal',\n",
    "        'size'   : 12}\n",
    "\n",
    "plt.rc('font', **font)\n",
    "plt.rcParams['figure.figsize'] = 3.25, 3.5"
   ]
  },
  {
   "cell_type": "code",
   "execution_count": 3,
   "id": "601a1765",
   "metadata": {},
   "outputs": [],
   "source": [
    "THIS = '2024-06-18--jam99--Workup--BLDS-BAPbI3-A-90nm--'"
   ]
  },
  {
   "cell_type": "code",
   "execution_count": null,
   "id": "adc748be",
   "metadata": {},
   "outputs": [],
   "source": [
    "filepath = ['~','Dropbox','EFM_Data_workup','2024-05-20--group--DOE-Master-Figure','BAPI','BLDS']"
   ]
  },
  {
   "cell_type": "markdown",
   "id": "819b7636",
   "metadata": {},
   "source": [
    "# Plot all the data"
   ]
  },
  {
   "cell_type": "code",
   "execution_count": null,
   "id": "bcb43c1a",
   "metadata": {},
   "outputs": [],
   "source": [
    "database1 = {}\n",
    "database1['A'] = {'filename': '240423-103258-BLDS-BAPbI3-A-90nm-dark.tsv', 'I [mW/cm^2]' : 0}\n",
    "database1['B'] = {'filename': '240423-103654-BLDS-BAPbI3-A-90nm-30mA.tsv', 'I [mW/cm^2]' : 7.9}\n",
    "database1['C'] = {'filename': '240423-104116-BLDS-BAPbI3-A-90nm-35mA.tsv', 'I [mW/cm^2]' : 21.1}\n",
    "database1['D'] = {'filename': '240423-104601-BLDS-BAPbI3-A-90nm-40mA.tsv', 'I [mW/cm^2]' : 34.0}\n",
    "database1['E'] = {'filename': '240423-105040-BLDS-BAPbI3-A-90nm-45mA.tsv', 'I [mW/cm^2]' : 46.8}"
   ]
  },
  {
   "cell_type": "code",
   "execution_count": null,
   "id": "90aa69f5",
   "metadata": {},
   "outputs": [],
   "source": [
    "sample_jit = SampleModel1Jit(\n",
    "    cantilever = CantileverModelJit(\n",
    "        f_c = 75e3, \n",
    "        V_ts = 1.0,\n",
    "        R = 30e-9,\n",
    "        d = 200e-9),\n",
    "    h_s = 500e-9, \n",
    "    epsilon_s = complex(3.4, 0),\n",
    "    mu = 1e-8,\n",
    "    rho = 1e21,\n",
    "    epsilon_d = complex(1e6, 0),\n",
    "    z_r = 500e-9\n",
    ")"
   ]
  },
  {
   "cell_type": "code",
   "execution_count": null,
   "id": "1fa771d5",
   "metadata": {},
   "outputs": [],
   "source": [
    "f = {} # dave figures"
   ]
  },
  {
   "cell_type": "code",
   "execution_count": null,
   "id": "ae91f406",
   "metadata": {},
   "outputs": [],
   "source": [
    "D1 = BLDSData(THIS, filepath, database1, sample_jit)\n",
    "_ = D1.plotdata()"
   ]
  },
  {
   "cell_type": "code",
   "execution_count": null,
   "id": "df6213ba",
   "metadata": {},
   "outputs": [],
   "source": [
    "D1.fitguess(220, 0.005, 1)\n",
    "_ = D1.plotdata()"
   ]
  },
  {
   "cell_type": "code",
   "execution_count": null,
   "id": "2e1dff81",
   "metadata": {},
   "outputs": [],
   "source": [
    "D1.fit()"
   ]
  },
  {
   "cell_type": "code",
   "execution_count": null,
   "id": "a8cc18d4",
   "metadata": {},
   "outputs": [],
   "source": [
    "_ = D1.plotdata()"
   ]
  },
  {
   "cell_type": "markdown",
   "id": "7587a5d8",
   "metadata": {},
   "source": [
    "# Fit part of the data"
   ]
  },
  {
   "cell_type": "code",
   "execution_count": null,
   "id": "6f748202",
   "metadata": {},
   "outputs": [],
   "source": [
    "database2 = {}\n",
    "database2['B'] = {'filename': '240423-103654-BLDS-BAPbI3-A-90nm-30mA.tsv', 'I [mW/cm^2]' : 7.9}\n",
    "database2['C'] = {'filename': '240423-104116-BLDS-BAPbI3-A-90nm-35mA.tsv', 'I [mW/cm^2]' : 21.1}\n",
    "database2['D'] = {'filename': '240423-104601-BLDS-BAPbI3-A-90nm-40mA.tsv', 'I [mW/cm^2]' : 34.0}\n",
    "database2['E'] = {'filename': '240423-105040-BLDS-BAPbI3-A-90nm-45mA.tsv', 'I [mW/cm^2]' : 46.8}"
   ]
  },
  {
   "cell_type": "code",
   "execution_count": null,
   "id": "fe43c98b",
   "metadata": {},
   "outputs": [],
   "source": [
    "D2 = BLDSData(THIS, filepath, database2, sample_jit)\n",
    "_ = D2.plotdata()"
   ]
  },
  {
   "cell_type": "code",
   "execution_count": null,
   "id": "0cee7a8d",
   "metadata": {},
   "outputs": [],
   "source": [
    "D2.fitguess(220, 0.005, 1)\n",
    "_ = D2.plotdata()"
   ]
  },
  {
   "cell_type": "code",
   "execution_count": null,
   "id": "3dc01a4a",
   "metadata": {},
   "outputs": [],
   "source": [
    "D2.fit()"
   ]
  },
  {
   "cell_type": "code",
   "execution_count": null,
   "id": "b970885d",
   "metadata": {},
   "outputs": [],
   "source": [
    "_ = D2.plotdata()"
   ]
  },
  {
   "cell_type": "code",
   "execution_count": null,
   "id": "204e6d92",
   "metadata": {},
   "outputs": [],
   "source": [
    "_ = D2.plotfindings()"
   ]
  },
  {
   "cell_type": "code",
   "execution_count": null,
   "id": "41c9b38a",
   "metadata": {},
   "outputs": [],
   "source": []
  }
 ],
 "metadata": {
  "kernelspec": {
   "display_name": "dissipationtheory",
   "language": "python",
   "name": "dissipationtheory"
  },
  "language_info": {
   "codemirror_mode": {
    "name": "ipython",
    "version": 3
   },
   "file_extension": ".py",
   "mimetype": "text/x-python",
   "name": "python",
   "nbconvert_exporter": "python",
   "pygments_lexer": "ipython3",
   "version": "3.8.5"
  },
  "toc": {
   "base_numbering": 1,
   "nav_menu": {},
   "number_sections": true,
   "sideBar": true,
   "skip_h1_title": false,
   "title_cell": "Table of Contents",
   "title_sidebar": "Contents",
   "toc_cell": false,
   "toc_position": {},
   "toc_section_display": true,
   "toc_window_display": false
  }
 },
 "nbformat": 4,
 "nbformat_minor": 5
}
