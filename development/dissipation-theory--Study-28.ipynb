{
 "cells": [
  {
   "cell_type": "markdown",
   "id": "c2c386ae-8c9e-4831-987d-5c1b3638f19d",
   "metadata": {},
   "source": [
    "- Name: `dissipation-theory--Study-28.ipynb`\n",
    "- Author: John A. Marohn\n",
    "- Date: 2024-10-13\n",
    "- Continued from: `dissipation-theory--Study-26.ipynb`\n",
    "- Continued to: ---\n",
    "- Summary: Redo `Study 26` using numba/jit-accelerated functions coded in `dissipationtheory.dissipation3`.  The numba/jit functions run below are 100 to 200 times faster than their pure-Python counterparts run in `Study 26`, enabling us to plot here a more detailed BLDS spectrum and explore friction and the zero-frequency limit of the BLDS spectrum as a function of many more conductivity points."
   ]
  },
  {
   "cell_type": "markdown",
   "id": "49242758-782d-4b63-999b-af45cd450f34",
   "metadata": {},
   "source": [
    "# Preliminaries"
   ]
  },
  {
   "cell_type": "code",
   "execution_count": 1,
   "id": "83c229e3-177b-4c3a-8781-09f9c61b4bad",
   "metadata": {},
   "outputs": [],
   "source": [
    "import numpy as np\n",
    "import pandas"
   ]
  },
  {
   "cell_type": "code",
   "execution_count": 2,
   "id": "b35a7a8e-e549-4500-9aff-d199ac3d683a",
   "metadata": {},
   "outputs": [],
   "source": [
    "%matplotlib inline\n",
    "import matplotlib.pylab as plt\n",
    "import matplotlib.cm as cm\n",
    "import matplotlib.colors as mcolors\n",
    "import cycler\n",
    "\n",
    "font = {'family' : 'serif',\n",
    "        'weight' : 'normal',\n",
    "        'size'   : 12}\n",
    "\n",
    "plt.rc('font', **font)\n",
    "plt.rcParams['figure.figsize'] = 3.25, 3.5"
   ]
  },
  {
   "cell_type": "code",
   "execution_count": 3,
   "id": "c5343678-ced4-4714-8e12-2fa50514863e",
   "metadata": {},
   "outputs": [],
   "source": [
    "THIS = 'dissipation-theory--Study-28--'\n",
    "fig = {}"
   ]
  },
  {
   "cell_type": "code",
   "execution_count": 4,
   "id": "3b72628c-3126-47d6-b490-d0b652316c18",
   "metadata": {},
   "outputs": [],
   "source": [
    "from dissipationtheory.constants import ureg, qe, epsilon0\n",
    "from dissipationtheory.dissipation3 import CantileverModel, SampleModel1, SampleModel2\n",
    "from dissipationtheory.dissipation3 import CantileverModelJit, SampleModel1Jit, SampleModel2Jit\n",
    "from dissipationtheory.dissipation3 import theta1norm, gamma_perpendicular\n",
    "from dissipationtheory.dissipation3 import theta1norm_jit, gamma_perpendicular_jit\n",
    "from dissipationtheory.dissipation3 import blds_perpendicular, blds_perpendicular_jit\n",
    "from dissipationtheory.dissipation3 import gamma_perpendicular_approx, BLDSzerohigh, BLDSzerolow, BLDSapproxK2"
   ]
  },
  {
   "cell_type": "markdown",
   "id": "837df1e7-c5b0-46d7-b4d5-84aacaa53d9f",
   "metadata": {},
   "source": [
    "# Sample object"
   ]
  },
  {
   "cell_type": "markdown",
   "id": "958ad6c4-5753-4618-979f-e672568323b9",
   "metadata": {},
   "source": [
    "Set up pure Python objects."
   ]
  },
  {
   "cell_type": "code",
   "execution_count": 5,
   "id": "3322f9a6-ec98-4893-b630-b2a335f10a9b",
   "metadata": {},
   "outputs": [],
   "source": [
    "cantilever = CantileverModel(\n",
    "    f_c = ureg.Quantity(75, 'kHz'),\n",
    "    k_c = ureg.Quantity(2.8, 'N/m'), \n",
    "    V_ts = ureg.Quantity(1, 'V'), \n",
    "    R = ureg.Quantity(35, 'nm'), \n",
    "    d = ureg.Quantity(38, 'nm')\n",
    ")"
   ]
  },
  {
   "cell_type": "code",
   "execution_count": 6,
   "id": "a0486655-79f6-4af9-b2df-fec2add1bb80",
   "metadata": {},
   "outputs": [],
   "source": [
    "sample1 = SampleModel1(\n",
    "    cantilever = cantilever,\n",
    "    h_s = ureg.Quantity(500, 'nm'),\n",
    "    epsilon_s = ureg.Quantity(complex(3, -0.2), ''),  # <== edit this\n",
    "    sigma = ureg.Quantity(1E-5, 'S/m'),\n",
    "    rho = ureg.Quantity(1e21, '1/m^3'),\n",
    "    epsilon_d = ureg.Quantity(complex(1e6, 0), ''),\n",
    "    z_r = ureg.Quantity(300, 'nm')\n",
    ")"
   ]
  },
  {
   "cell_type": "code",
   "execution_count": 7,
   "id": "85500800-ecdd-46ef-ad19-1ddc89ef4686",
   "metadata": {},
   "outputs": [
    {
     "data": {
      "text/plain": [
       "cantilever\n",
       "\n",
       "      resonance freq = 75.000 kHz\n",
       "                     = 4.712e+05 rad/s\n",
       "     spring constant = 2.800 N/m\n",
       "  tip-sample voltage = 1.000 V\n",
       "              radius = 35.000 nm\n",
       "              height = 38.000 nm\n",
       "\n",
       "semiconductor\n",
       "\n",
       "             epsilon (real) = 3.000\n",
       "             epsilon (imag) = -0.200\n",
       "                  thickness = 500.0 nm\n",
       "               conductivity = 1.000e-05 S/m\n",
       "             charge density = 1.000e+21 m^{-3}\n",
       "           reference height = 3.000e+02 nm\n",
       "\n",
       "         roll-off frequency = 1.129e+06 Hz\n",
       "                   mobility = 6.242e-08 m^2/(V s)\n",
       "         diffusion constant = 1.614e-09 m^2/s\n",
       "               Debye length = 3.780e+01 nm\n",
       "           diffusion length = 5.852e+01 nm\n",
       "   effective epsilon (real) = 3.000\n",
       "   effective epsilon (imag) = -2.597\n",
       "\n",
       "dielectric\n",
       "\n",
       "  epsilon (real) = 1000000.000\n",
       "  epsilon (imag) = 0.000\n",
       "       thickness = infinite"
      ]
     },
     "execution_count": 7,
     "metadata": {},
     "output_type": "execute_result"
    }
   ],
   "source": [
    "sample1"
   ]
  },
  {
   "cell_type": "markdown",
   "id": "a307f3a1-9047-409e-9069-105022b0d929",
   "metadata": {},
   "source": [
    "Magically, set up the jit sample model from the pure Python sample model, as described in `Study 27`."
   ]
  },
  {
   "cell_type": "code",
   "execution_count": 8,
   "id": "3557e7e2-e886-4b6c-a605-b7e194d64c4f",
   "metadata": {},
   "outputs": [],
   "source": [
    "sample1_jit = SampleModel1Jit(**sample1.args())"
   ]
  },
  {
   "cell_type": "code",
   "execution_count": 9,
   "id": "4df94fb9-1405-4ad1-8358-a7bc662208ed",
   "metadata": {},
   "outputs": [
    {
     "name": "stdout",
     "output_type": "stream",
     "text": [
      "cantilever\n",
      "==========\n",
      "   cantilever freq =  75000.0 Hz\n",
      "                   =  471238.89803846896 rad/s\n",
      "   spring constant =  2.8 N/m\n",
      "tip-sample voltage =  1.0 V\n",
      "            radius =  3.5e-08 m\n",
      "            height =  3.8e-08 m\n",
      "\n",
      "semiconductor\n",
      "=============\n",
      "          epsilon (real) =  3.0\n",
      "          epsilon (imag) =  -0.2\n",
      "               thickness =  5.000000000000001e-07 m\n",
      "            conductivity =  1e-05 S/m\n",
      "          charge density =  1e+21 m^{{-3}}\n",
      "        reference height =  3.0000000000000004e-07 m\n",
      " \n",
      "      roll-off frequency =  1129409.0673730192 Hz\n",
      "                mobility =  6.241509090043337e-08 m^2/(V s)\n",
      "      diffusion constant =  1.6135549206567651e-09 m^2/s\n",
      "            Debye length =  3.7797775481848936e-08 m\n",
      "        diffusion length =  5.851555252782804e-08 m\n",
      "effective epsilon (real) =  3.0\n",
      "effective epsilon (imag) =  -2.5966804779363124\n",
      "\n",
      "dielectric\n",
      "==========\n",
      " epsilon (real) =  1000000.0\n",
      " epsilon (imag) =  0.0\n",
      "      thickness = infinite\n"
     ]
    }
   ],
   "source": [
    "sample1_jit.print()"
   ]
  },
  {
   "cell_type": "markdown",
   "id": "3f810806-1cbf-4c1f-9f28-103e8a73390a",
   "metadata": {},
   "source": [
    "# Example friction calculation"
   ]
  },
  {
   "cell_type": "markdown",
   "id": "e9e9aa93-aca8-4005-b81d-d595f4b2ff3a",
   "metadata": {},
   "source": [
    "Spot-check the new friction-calculation code by comparing a numba/jit result to a pure-Python result.\n",
    "\n",
    "First, the numba/jit result."
   ]
  },
  {
   "cell_type": "code",
   "execution_count": 10,
   "id": "a5442e7c-588a-4aae-98f6-bd372afe5eb5",
   "metadata": {},
   "outputs": [
    {
     "name": "stdout",
     "output_type": "stream",
     "text": [
      "CPU times: user 6.99 ms, sys: 231 µs, total: 7.22 ms\n",
      "Wall time: 7.14 ms\n"
     ]
    },
    {
     "data": {
      "text/html": [
       "<table><tbody><tr><th>Magnitude</th><td style='text-align:left;'><pre>[64.73496892335902 14.709831956501283 1.7066692024195118]</pre></td></tr><tr><th>Units</th><td style='text-align:left;'>piconewton second/meter</td></tr></tbody></table>"
      ],
      "text/latex": [
       "$\\begin{pmatrix} &  & \\end{pmatrix}\\ \\frac{\\mathrm{piconewton} \\cdot \\mathrm{second}}{\\mathrm{meter}}$"
      ],
      "text/plain": [
       "<Quantity([64.73496892 14.70983196  1.7066692 ], 'piconewton * second / meter')>"
      ]
     },
     "execution_count": 10,
     "metadata": {},
     "output_type": "execute_result"
    }
   ],
   "source": [
    "%%time\n",
    "ans1a = gamma_perpendicular_jit(theta1norm_jit, sample1_jit)\n",
    "ans1a "
   ]
  },
  {
   "cell_type": "markdown",
   "id": "dac7f5d9-ee7d-460d-86ab-efbe2bdda598",
   "metadata": {},
   "source": [
    "Now the pure Python result."
   ]
  },
  {
   "cell_type": "code",
   "execution_count": 11,
   "id": "d034a872-30e6-4a46-bbb7-25413648b869",
   "metadata": {},
   "outputs": [
    {
     "name": "stdout",
     "output_type": "stream",
     "text": [
      "CPU times: user 2.42 s, sys: 29.5 ms, total: 2.45 s\n",
      "Wall time: 2.57 s\n"
     ]
    },
    {
     "data": {
      "text/html": [
       "<table><tbody><tr><th>Magnitude</th><td style='text-align:left;'><pre>[64.73496892335896 14.709831956501262 1.7066692024195087]</pre></td></tr><tr><th>Units</th><td style='text-align:left;'>piconewton second/meter</td></tr></tbody></table>"
      ],
      "text/latex": [
       "$\\begin{pmatrix} &  & \\end{pmatrix}\\ \\frac{\\mathrm{piconewton} \\cdot \\mathrm{second}}{\\mathrm{meter}}$"
      ],
      "text/plain": [
       "<Quantity([64.73496892 14.70983196  1.7066692 ], 'piconewton * second / meter')>"
      ]
     },
     "execution_count": 11,
     "metadata": {},
     "output_type": "execute_result"
    }
   ],
   "source": [
    "%%time\n",
    "ans1b = gamma_perpendicular(theta1norm, sample1)\n",
    "ans1b "
   ]
  },
  {
   "cell_type": "markdown",
   "id": "a744805b-930b-4e1f-9814-811e105fb286",
   "metadata": {},
   "source": [
    "By inspection we get the same result for the three terms' contribution to the friction.  Success!\n",
    "\n",
    "The numba/jit calculation is 100 to 200 times faster.  "
   ]
  },
  {
   "cell_type": "markdown",
   "id": "5adf9e04-04fa-4799-8fb3-e0cf723b047e",
   "metadata": {},
   "source": [
    "# Example BLDS calculation\n",
    "\n",
    "Compare the execution time for pure-Python and numba/jit calculations."
   ]
  },
  {
   "cell_type": "code",
   "execution_count": 12,
   "id": "909641eb-2627-46fd-9e72-ec4195b6cfba",
   "metadata": {},
   "outputs": [],
   "source": [
    "omega_m = ureg.Quantity(2 * np.pi * np.logspace(1, 2, 2), 'Hz')"
   ]
  },
  {
   "cell_type": "code",
   "execution_count": 13,
   "id": "024b1316-3d5b-4903-923b-b5eadda3ef0e",
   "metadata": {},
   "outputs": [
    {
     "name": "stdout",
     "output_type": "stream",
     "text": [
      "CPU times: user 28 ms, sys: 2.12 ms, total: 30.1 ms\n",
      "Wall time: 31.3 ms\n"
     ]
    },
    {
     "data": {
      "text/html": [
       "<table><tbody><tr><th>Magnitude</th><td style='text-align:left;'><pre>[[-2.980187914386668 -0.4771232443830765 -0.7077967722895434] [-2.980195172459724 -0.47712335645508763 -0.7076921347981979]]</pre></td></tr><tr><th>Units</th><td style='text-align:left;'>hertz</td></tr></tbody></table>"
      ],
      "text/latex": [
       "$\\begin{pmatrix} &  & \\\\ \n",
       " &  & \\end{pmatrix}\\ \\mathrm{hertz}$"
      ],
      "text/plain": [
       "<Quantity([[-2.98018791 -0.47712324 -0.70779677]\n",
       " [-2.98019517 -0.47712336 -0.70769213]], 'hertz')>"
      ]
     },
     "execution_count": 13,
     "metadata": {},
     "output_type": "execute_result"
    }
   ],
   "source": [
    "%%time\n",
    "ans2a = blds_perpendicular_jit(theta1norm_jit, sample1_jit, omega_m)\n",
    "ans2a "
   ]
  },
  {
   "cell_type": "code",
   "execution_count": 14,
   "id": "8d636cfe-0ed2-491e-8ff8-ba2fe8271d6b",
   "metadata": {},
   "outputs": [
    {
     "name": "stdout",
     "output_type": "stream",
     "text": [
      "CPU times: user 6.23 s, sys: 55.4 ms, total: 6.28 s\n",
      "Wall time: 6.5 s\n"
     ]
    },
    {
     "data": {
      "text/html": [
       "<table><tbody><tr><th>Magnitude</th><td style='text-align:left;'><pre>[[-2.9801879143866694 -0.4771232443830761 -0.7077967722895439] [-2.9801951724597258 -0.4771233564550871 -0.7076921347981985]]</pre></td></tr><tr><th>Units</th><td style='text-align:left;'>hertz</td></tr></tbody></table>"
      ],
      "text/latex": [
       "$\\begin{pmatrix} &  & \\\\ \n",
       " &  & \\end{pmatrix}\\ \\mathrm{hertz}$"
      ],
      "text/plain": [
       "<Quantity([[-2.98018791 -0.47712324 -0.70779677]\n",
       " [-2.98019517 -0.47712336 -0.70769213]], 'hertz')>"
      ]
     },
     "execution_count": 14,
     "metadata": {},
     "output_type": "execute_result"
    }
   ],
   "source": [
    "%%time\n",
    "ans2b = blds_perpendicular(theta1norm, sample1, omega_m)\n",
    "ans2b "
   ]
  },
  {
   "cell_type": "markdown",
   "id": "8425741b-abed-46f6-9803-f800e8c2c2d9",
   "metadata": {},
   "source": [
    "By inspection we get the same result for the two terms' contribution to the BDLS frequency shift at the .  Success!\n",
    "\n",
    "The numba/jit calculation is 150 to 200 times faster.  "
   ]
  },
  {
   "cell_type": "markdown",
   "id": "4983317a-f831-4007-8c2d-f361b98c7b8c",
   "metadata": {},
   "source": [
    "# Create list of modulation frequencies and charge densities"
   ]
  },
  {
   "cell_type": "markdown",
   "id": "7070adc3-4408-4dae-803e-63b882e36e84",
   "metadata": {},
   "source": [
    "Set up arrays of modulation frequency $\\omega_{\\mathrm{m}}$ and conductivity $\\sigma$."
   ]
  },
  {
   "cell_type": "code",
   "execution_count": 15,
   "id": "44f99a84-c7b5-4390-b22e-1c89d1da78c8",
   "metadata": {},
   "outputs": [],
   "source": [
    "N_omega = 100\n",
    "N_sigma = 50"
   ]
  },
  {
   "cell_type": "code",
   "execution_count": 16,
   "id": "fe653f28-685a-44cd-bd11-c5ebe1e46700",
   "metadata": {},
   "outputs": [],
   "source": [
    "omega_m = ureg.Quantity(\n",
    "    np.logspace(\n",
    "        start=np.log10(1e1),\n",
    "        stop=np.log10(1e8),\n",
    "        num=N_omega), 'Hz')"
   ]
  },
  {
   "cell_type": "code",
   "execution_count": 17,
   "id": "dc2962b7-5d14-4083-b408-5576b9d96056",
   "metadata": {},
   "outputs": [],
   "source": [
    "sigma = ureg.Quantity(\n",
    "    np.logspace(\n",
    "        start=np.log10(1e-9),\n",
    "        stop=np.log10(1),\n",
    "        num=N_sigma), 'S/m')"
   ]
  },
  {
   "cell_type": "markdown",
   "id": "526ff711-019c-4c2c-9e01-63deb717c96b",
   "metadata": {},
   "source": [
    "Assume a fixed mobility of $\\mu = 10^{-8} \\: \\mathrm{m}^2/\\mathrm{V s}$, an ionic mobility.  "
   ]
  },
  {
   "cell_type": "code",
   "execution_count": 18,
   "id": "24c194eb-ad6d-4719-a4ac-8c2fb59a6c98",
   "metadata": {},
   "outputs": [],
   "source": [
    "mu = ureg.Quantity(1e-8, 'm^2/(V s)') "
   ]
  },
  {
   "cell_type": "markdown",
   "id": "9deaef3a-9c27-4db4-862e-ce2bd0e87c9c",
   "metadata": {},
   "source": [
    "As we vary $\\sigma$, we should vary the charge density $\\rho$ to keep the mobility constant."
   ]
  },
  {
   "cell_type": "code",
   "execution_count": 19,
   "id": "d4352308-b526-4106-b58f-cab7cd05addd",
   "metadata": {},
   "outputs": [],
   "source": [
    "rho = (sigma / (qe * mu)).to('1/m^3')"
   ]
  },
  {
   "cell_type": "markdown",
   "id": "3529a11f-0fde-4051-9637-38667d52e9ac",
   "metadata": {},
   "source": [
    "Get ready to run the simulations."
   ]
  },
  {
   "cell_type": "code",
   "execution_count": 20,
   "id": "bb8cfa74-ebe9-44a3-9db9-ab5168973d6c",
   "metadata": {},
   "outputs": [],
   "source": [
    "data = {}        # many simulations\n",
    "data['01'] = {}  # the first simulation"
   ]
  },
  {
   "cell_type": "markdown",
   "id": "91b48b31-c696-4f0b-ac07-72a667a0db40",
   "metadata": {},
   "source": [
    "Loop over conductivities, computing the BLDS spectrum and the friction.  This takes about "
   ]
  },
  {
   "cell_type": "code",
   "execution_count": 21,
   "id": "7dde6b11-ad95-487e-bc42-00891a7896f1",
   "metadata": {},
   "outputs": [
    {
     "name": "stdout",
     "output_type": "stream",
     "text": [
      "CPU times: user 11.9 s, sys: 109 ms, total: 12 s\n",
      "Wall time: 12.1 s\n"
     ]
    }
   ],
   "source": [
    "%%time\n",
    "\n",
    "# remember\n",
    "sigma0 = sample1_jit.sigma\n",
    "rho0 =  sample1_jit.rho\n",
    "\n",
    "# set\n",
    "for rho_, sigma_ in zip(rho, sigma):\n",
    "\n",
    "    sample1_jit.rho = rho_.to('1/m^3').magnitude\n",
    "    sample1_jit.sigma = sigma_.to('S/m').magnitude\n",
    "\n",
    "    gamma = gamma_perpendicular_jit(theta1norm_jit, sample1_jit).to('pN s/m')\n",
    "    f_BLDS = blds_perpendicular_jit(theta1norm_jit, sample1_jit, omega_m).to('Hz')\n",
    "    \n",
    "    data['01'][str(sigma_.to('S/m').magnitude)] = {\n",
    "        'omega_m': omega_m,\n",
    "        'f_BLDS': f_BLDS, \n",
    "        'gamma': gamma,\n",
    "        'sigma': ureg.Quantity(sample1_jit.sigma, 'S/m'),\n",
    "        'd': ureg.Quantity(sample1_jit.cantilever.d, 'm'),\n",
    "        'rho': ureg.Quantity(sample1_jit.rho, '1/m^3'),\n",
    "        'LD': ureg.Quantity(sample1_jit.LD, 'm'),\n",
    "        'omega_c': ureg.Quantity(sample1_jit.cantilever.omega_c, 'Hz'),\n",
    "        'omega_0': (ureg.Quantity(sample1_jit.sigma, 'S/m')/epsilon0).to('Hz')}\n",
    "\n",
    "# reset\n",
    "sample1_jit.rho = rho0\n",
    "sample1_jit.sigma = sigma0"
   ]
  },
  {
   "cell_type": "markdown",
   "id": "e207d486-af13-4ef3-a524-49b19374382e",
   "metadata": {},
   "source": [
    "Explore the `data['01']` object.  The keys are the conductivity in S/m, running from $10^{-9}$ to $1$."
   ]
  },
  {
   "cell_type": "code",
   "execution_count": 22,
   "id": "2abb7c0d-6079-462a-b6db-2077c8616dea",
   "metadata": {},
   "outputs": [
    {
     "data": {
      "text/plain": [
       "('1e-09', '1.0')"
      ]
     },
     "execution_count": 22,
     "metadata": {},
     "output_type": "execute_result"
    }
   ],
   "source": [
    "(list(data['01'].keys())[0],\n",
    " list(data['01'].keys())[-1])"
   ]
  },
  {
   "cell_type": "markdown",
   "id": "45d459d2-a6c4-4cc5-b612-b412147457ef",
   "metadata": {},
   "source": [
    "The BLDS frequencies are given as a $100 \\times 3$ array, with $100$ being the number of modulation frequencies and $3$ being the number of terms in Loring's sum."
   ]
  },
  {
   "cell_type": "code",
   "execution_count": 23,
   "id": "2f67d522-1cc3-4952-bf9e-3fa0f9761f99",
   "metadata": {},
   "outputs": [
    {
     "data": {
      "text/plain": [
       "(100, 3)"
      ]
     },
     "execution_count": 23,
     "metadata": {},
     "output_type": "execute_result"
    }
   ],
   "source": [
    "data['01']['1e-09']['f_BLDS'].shape"
   ]
  },
  {
   "cell_type": "markdown",
   "id": "564f1453-30c4-401e-b0de-cbf22ca71830",
   "metadata": {},
   "source": [
    "To get the BLDS frequency, sum up the three components.  We do this by summing over the second dimension."
   ]
  },
  {
   "cell_type": "code",
   "execution_count": 24,
   "id": "550a9488-d584-48b6-897c-46436b826af5",
   "metadata": {},
   "outputs": [
    {
     "data": {
      "text/html": [
       "-3.6261448167750916 hertz"
      ],
      "text/latex": [
       "$-3.6261448167750916\\ \\mathrm{hertz}$"
      ],
      "text/plain": [
       "<Quantity(-3.6261448167750916, 'hertz')>"
      ]
     },
     "execution_count": 24,
     "metadata": {},
     "output_type": "execute_result"
    }
   ],
   "source": [
    "data['01']['1e-09']['f_BLDS'].sum(axis=1)[0]"
   ]
  },
  {
   "cell_type": "markdown",
   "id": "c79d78e9-854e-4160-9f6d-be0ae41c97e7",
   "metadata": {},
   "source": [
    "From `Study 25`, a helper function to plot the BLDS spectra.  Make sure to add up the three terms to get the total BLDS frequency shift."
   ]
  },
  {
   "cell_type": "code",
   "execution_count": 25,
   "id": "2b0e4aa1-bb97-4204-b6cb-6056e181c307",
   "metadata": {},
   "outputs": [],
   "source": [
    "def plotBLDS(data):\n",
    "\n",
    "    rho = np.zeros(len(data))    \n",
    "    for index, key in enumerate(data.keys()):\n",
    "        \n",
    "        rho[index] = data[key]['rho'].to('1/cm^3').magnitude\n",
    "\n",
    "    # colormap = plt.cm.jet\n",
    "    colormap = plt.cm.magma_r\n",
    "    color_list = [colormap(i) for i in np.linspace(0, 1, len(data))]\n",
    "\n",
    "    normalized_colors = mcolors.LogNorm(vmin=min(rho), vmax=max(rho))\n",
    "    scalar_mappable = cm.ScalarMappable(norm=normalized_colors, cmap=colormap)\n",
    "    scalar_mappable.set_array(len(color_list))\n",
    "    \n",
    "    fig, ax = plt.subplots(figsize=(4.5, 3))\n",
    "    for index, key in enumerate(data.keys()):\n",
    "        \n",
    "        with plt.style.context('seaborn-v0_8'):\n",
    "            plt.semilogx(\n",
    "                data[key]['omega_m'].to('Hz').magnitude,\n",
    "                np.abs(data[key]['f_BLDS'].sum(axis=1).to('Hz').magnitude),\n",
    "                '-',\n",
    "                color=color_list[index])\n",
    "\n",
    "    # color bar\n",
    "    clb=plt.colorbar(scalar_mappable, ax=ax)\n",
    "    clb.ax.set_title(r'$\\rho \\: [\\mathrm{cm}^{-3}]$', fontsize=12)\n",
    "    \n",
    "    plt.ylabel('|$\\Delta f_{\\mathrm{BLDS}}$| [Hz]')\n",
    "    plt.xlabel('mod. freq. $\\omega_{\\mathrm{m}}$ [rad/s]')\n",
    "    plt.tight_layout()\n",
    "    plt.show()\n",
    "    \n",
    "    return fig"
   ]
  },
  {
   "cell_type": "markdown",
   "id": "f50c7b8c-318c-424b-8205-cad16fb11e33",
   "metadata": {},
   "source": [
    "Plot every 3rd BLDS spectrum."
   ]
  },
  {
   "cell_type": "code",
   "execution_count": 26,
   "id": "5cbc7a7e-6ffd-41be-8f8b-c0bcc386af98",
   "metadata": {},
   "outputs": [],
   "source": [
    "data['01-short'] = {}\n",
    "for key in list(data['01'].keys())[::3]:\n",
    "    data['01-short'][key] = data['01'][key]"
   ]
  },
  {
   "cell_type": "code",
   "execution_count": 27,
   "id": "e9d1f174-812e-4cfd-8944-96205a211d20",
   "metadata": {},
   "outputs": [
    {
     "data": {
      "image/png": "[encoded data removed]",
      "text/plain": [
       "<Figure size 450x300 with 2 Axes>"
      ]
     },
     "metadata": {},
     "output_type": "display_data"
    }
   ],
   "source": [
    "fig['01'] = plotBLDS(data['01-short'])"
   ]
  },
  {
   "cell_type": "markdown",
   "id": "77ff3397-ec73-43e0-955d-4b93e5316aea",
   "metadata": {},
   "source": [
    "I have rewritten the `BLDSlimits` function to return low-density and high-density limits for all three terms; see `BLDSzerohigh` and `BLDSzerolow` in `dissipation3`.  I want to rewrite the plotting function below, `plotme`, to use these new function.  \n",
    "\n",
    "I think I can consense the code considerably by using `pandas` dataframes.  Convert `data['01']` to a `pandas` dataframe and explore."
   ]
  },
  {
   "cell_type": "code",
   "execution_count": 28,
   "id": "ff07907f-1b16-4eb3-a1ec-559ab5509e7a",
   "metadata": {},
   "outputs": [
    {
     "data": {
      "text/html": [
       "<div>\n",
       "<style scoped>\n",
       "    .dataframe tbody tr th:only-of-type {\n",
       "        vertical-align: middle;\n",
       "    }\n",
       "\n",
       "    .dataframe tbody tr th {\n",
       "        vertical-align: top;\n",
       "    }\n",
       "\n",
       "    .dataframe thead th {\n",
       "        text-align: right;\n",
       "    }\n",
       "</style>\n",
       "<table border=\"1\" class=\"dataframe\">\n",
       "  <thead>\n",
       "    <tr style=\"text-align: right;\">\n",
       "      <th></th>\n",
       "      <th>1e-09</th>\n",
       "      <th>1.5264179671752366e-09</th>\n",
       "      <th>2.3299518105153718e-09</th>\n",
       "      <th>3.556480306223136e-09</th>\n",
       "      <th>5.4286754393238595e-09</th>\n",
       "      <th>8.28642772854686e-09</th>\n",
       "      <th>1.2648552168552958e-08</th>\n",
       "      <th>1.9306977288832496e-08</th>\n",
       "      <th>2.9470517025518096e-08</th>\n",
       "      <th>4.498432668969444e-08</th>\n",
       "      <th>...</th>\n",
       "      <th>0.022229964825261957</th>\n",
       "      <th>0.0339322177189533</th>\n",
       "      <th>0.05179474679231213</th>\n",
       "      <th>0.07906043210907701</th>\n",
       "      <th>0.12067926406393313</th>\n",
       "      <th>0.18420699693267165</th>\n",
       "      <th>0.2811768697974237</th>\n",
       "      <th>0.42919342601287785</th>\n",
       "      <th>0.6551285568595523</th>\n",
       "      <th>1.0</th>\n",
       "    </tr>\n",
       "  </thead>\n",
       "  <tbody>\n",
       "    <tr>\n",
       "      <th>omega_m</th>\n",
       "      <td>[10.0 hertz, 11.768119524349984 hertz, 13.8488...</td>\n",
       "      <td>[10.0 hertz, 11.768119524349984 hertz, 13.8488...</td>\n",
       "      <td>[10.0 hertz, 11.768119524349984 hertz, 13.8488...</td>\n",
       "      <td>[10.0 hertz, 11.768119524349984 hertz, 13.8488...</td>\n",
       "      <td>[10.0 hertz, 11.768119524349984 hertz, 13.8488...</td>\n",
       "      <td>[10.0 hertz, 11.768119524349984 hertz, 13.8488...</td>\n",
       "      <td>[10.0 hertz, 11.768119524349984 hertz, 13.8488...</td>\n",
       "      <td>[10.0 hertz, 11.768119524349984 hertz, 13.8488...</td>\n",
       "      <td>[10.0 hertz, 11.768119524349984 hertz, 13.8488...</td>\n",
       "      <td>[10.0 hertz, 11.768119524349984 hertz, 13.8488...</td>\n",
       "      <td>...</td>\n",
       "      <td>[10.0 hertz, 11.768119524349984 hertz, 13.8488...</td>\n",
       "      <td>[10.0 hertz, 11.768119524349984 hertz, 13.8488...</td>\n",
       "      <td>[10.0 hertz, 11.768119524349984 hertz, 13.8488...</td>\n",
       "      <td>[10.0 hertz, 11.768119524349984 hertz, 13.8488...</td>\n",
       "      <td>[10.0 hertz, 11.768119524349984 hertz, 13.8488...</td>\n",
       "      <td>[10.0 hertz, 11.768119524349984 hertz, 13.8488...</td>\n",
       "      <td>[10.0 hertz, 11.768119524349984 hertz, 13.8488...</td>\n",
       "      <td>[10.0 hertz, 11.768119524349984 hertz, 13.8488...</td>\n",
       "      <td>[10.0 hertz, 11.768119524349984 hertz, 13.8488...</td>\n",
       "      <td>[10.0 hertz, 11.768119524349984 hertz, 13.8488...</td>\n",
       "    </tr>\n",
       "    <tr>\n",
       "      <th>f_BLDS</th>\n",
       "      <td>[[-2.6979093482955756 hertz, -0.39730981074967...</td>\n",
       "      <td>[[-2.698090920476028 hertz, -0.397398186774877...</td>\n",
       "      <td>[[-2.6983674867279683 hertz, -0.39753241648504...</td>\n",
       "      <td>[[-2.6987882869148323 hertz, -0.39773577507361...</td>\n",
       "      <td>[[-2.6994275020298275 hertz, -0.39804270757709...</td>\n",
       "      <td>[[-2.700396176358233 hertz, -0.398503421516972...</td>\n",
       "      <td>[[-2.7018590268541582 hertz, -0.39918952093140...</td>\n",
       "      <td>[[-2.7040573179221945 hertz, -0.40020006372368...</td>\n",
       "      <td>[[-2.707338562746611 hertz, -0.401666631486690...</td>\n",
       "      <td>[[-2.7121929262941435 hertz, -0.40375531456040...</td>\n",
       "      <td>...</td>\n",
       "      <td>[[-5.301297153206913 hertz, -0.779481738540540...</td>\n",
       "      <td>[[-5.315989440699854 hertz, -0.780921959111690...</td>\n",
       "      <td>[[-5.327926069015646 hertz, -0.782090886535537...</td>\n",
       "      <td>[[-5.337616374187242 hertz, -0.783039092587003...</td>\n",
       "      <td>[[-5.345478313238606 hertz, -0.783807915257355...</td>\n",
       "      <td>[[-5.351853815450265 hertz, -0.784431072946863...</td>\n",
       "      <td>[[-5.357021964831417 hertz, -0.784936023997015...</td>\n",
       "      <td>[[-5.361210146169432 hertz, -0.785345100592468...</td>\n",
       "      <td>[[-5.364603367369531 hertz, -0.785676447802103...</td>\n",
       "      <td>[[-5.367351995740098 hertz, -0.785944797191268...</td>\n",
       "    </tr>\n",
       "    <tr>\n",
       "      <th>gamma</th>\n",
       "      <td>[42.51061503924813 piconewton * second / meter...</td>\n",
       "      <td>[42.519745468636685 piconewton * second / mete...</td>\n",
       "      <td>[42.53368142104888 piconewton * second / meter...</td>\n",
       "      <td>[42.5549514143857 piconewton * second / meter,...</td>\n",
       "      <td>[42.587413433342135 piconewton * second / mete...</td>\n",
       "      <td>[42.63695266898253 piconewton * second / meter...</td>\n",
       "      <td>[42.7125437462644 piconewton * second / meter,...</td>\n",
       "      <td>[42.82786556653198 piconewton * second / meter...</td>\n",
       "      <td>[43.00375093698383 piconewton * second / meter...</td>\n",
       "      <td>[43.271890060452 piconewton * second / meter, ...</td>\n",
       "      <td>...</td>\n",
       "      <td>[1.4235854262100776 piconewton * second / mete...</td>\n",
       "      <td>[1.0641011639806957 piconewton * second / mete...</td>\n",
       "      <td>[0.8025391624920698 piconewton * second / mete...</td>\n",
       "      <td>[0.6105569516415313 piconewton * second / mete...</td>\n",
       "      <td>[0.46833782354916553 piconewton * second / met...</td>\n",
       "      <td>[0.3619874288469797 piconewton * second / mete...</td>\n",
       "      <td>[0.28171853149480214 piconewton * second / met...</td>\n",
       "      <td>[0.22059381735307013 piconewton * second / met...</td>\n",
       "      <td>[0.17365860285450738 piconewton * second / met...</td>\n",
       "      <td>[0.1373434553264919 piconewton * second / mete...</td>\n",
       "    </tr>\n",
       "    <tr>\n",
       "      <th>sigma</th>\n",
       "      <td>1e-09 siemens / meter</td>\n",
       "      <td>1.5264179671752366e-09 siemens / meter</td>\n",
       "      <td>2.3299518105153718e-09 siemens / meter</td>\n",
       "      <td>3.556480306223136e-09 siemens / meter</td>\n",
       "      <td>5.4286754393238595e-09 siemens / meter</td>\n",
       "      <td>8.28642772854686e-09 siemens / meter</td>\n",
       "      <td>1.2648552168552958e-08 siemens / meter</td>\n",
       "      <td>1.9306977288832496e-08 siemens / meter</td>\n",
       "      <td>2.9470517025518096e-08 siemens / meter</td>\n",
       "      <td>4.498432668969444e-08 siemens / meter</td>\n",
       "      <td>...</td>\n",
       "      <td>0.022229964825261957 siemens / meter</td>\n",
       "      <td>0.0339322177189533 siemens / meter</td>\n",
       "      <td>0.05179474679231213 siemens / meter</td>\n",
       "      <td>0.07906043210907701 siemens / meter</td>\n",
       "      <td>0.12067926406393313 siemens / meter</td>\n",
       "      <td>0.18420699693267165 siemens / meter</td>\n",
       "      <td>0.2811768697974237 siemens / meter</td>\n",
       "      <td>0.42919342601287785 siemens / meter</td>\n",
       "      <td>0.6551285568595523 siemens / meter</td>\n",
       "      <td>1.0 siemens / meter</td>\n",
       "    </tr>\n",
       "    <tr>\n",
       "      <th>d</th>\n",
       "      <td>3.8e-08 meter</td>\n",
       "      <td>3.8e-08 meter</td>\n",
       "      <td>3.8e-08 meter</td>\n",
       "      <td>3.8e-08 meter</td>\n",
       "      <td>3.8e-08 meter</td>\n",
       "      <td>3.8e-08 meter</td>\n",
       "      <td>3.8e-08 meter</td>\n",
       "      <td>3.8e-08 meter</td>\n",
       "      <td>3.8e-08 meter</td>\n",
       "      <td>3.8e-08 meter</td>\n",
       "      <td>...</td>\n",
       "      <td>3.8e-08 meter</td>\n",
       "      <td>3.8e-08 meter</td>\n",
       "      <td>3.8e-08 meter</td>\n",
       "      <td>3.8e-08 meter</td>\n",
       "      <td>3.8e-08 meter</td>\n",
       "      <td>3.8e-08 meter</td>\n",
       "      <td>3.8e-08 meter</td>\n",
       "      <td>3.8e-08 meter</td>\n",
       "      <td>3.8e-08 meter</td>\n",
       "      <td>3.8e-08 meter</td>\n",
       "    </tr>\n",
       "    <tr>\n",
       "      <th>rho</th>\n",
       "      <td>6.241509090043338e+17 / meter ** 3</td>\n",
       "      <td>9.527151617329711e+17 / meter ** 3</td>\n",
       "      <td>1.4542415404694625e+18 / meter ** 3</td>\n",
       "      <td>2.2197804159851814e+18 / meter ** 3</td>\n",
       "      <td>3.3883127101434875e+18 / meter ** 3</td>\n",
       "      <td>5.171981399171239e+18 / meter ** 3</td>\n",
       "      <td>7.894605333591066e+18 / meter ** 3</td>\n",
       "      <td>1.205046742495083e+19 / meter ** 3</td>\n",
       "      <td>1.8394049990304813e+19 / meter ** 3</td>\n",
       "      <td>2.8077008394320695e+19 / meter ** 3</td>\n",
       "      <td>...</td>\n",
       "      <td>1.3874852752821615e+25 / meter ** 3</td>\n",
       "      <td>2.1178824533817664e+25 / meter ** 3</td>\n",
       "      <td>3.2327738292070914e+25 / meter ** 3</td>\n",
       "      <td>4.934564056715583e+25 / meter ** 3</td>\n",
       "      <td>7.532207236347789e+25 / meter ** 3</td>\n",
       "      <td>1.1497296458048553e+26 / meter ** 3</td>\n",
       "      <td>1.7549679887505518e+26 / meter ** 3</td>\n",
       "      <td>2.6788146698462197e+26 / meter ** 3</td>\n",
       "      <td>4.088990842785869e+26 / meter ** 3</td>\n",
       "      <td>6.241509090043338e+26 / meter ** 3</td>\n",
       "    </tr>\n",
       "    <tr>\n",
       "      <th>LD</th>\n",
       "      <td>1.5129390669059824e-06 meter</td>\n",
       "      <td>1.2245730647396677e-06 meter</td>\n",
       "      <td>9.91169587518552e-07 meter</td>\n",
       "      <td>8.022527846719758e-07 meter</td>\n",
       "      <td>6.493435014741052e-07 meter</td>\n",
       "      <td>5.255787090587076e-07 meter</td>\n",
       "      <td>4.2540347102685817e-07 meter</td>\n",
       "      <td>3.443216211817372e-07 meter</td>\n",
       "      <td>2.786939620568694e-07 meter</td>\n",
       "      <td>2.2557492678033252e-07 meter</td>\n",
       "      <td>...</td>\n",
       "      <td>3.208869457323388e-10 meter</td>\n",
       "      <td>2.597259328982749e-10 meter</td>\n",
       "      <td>2.1022220167269613e-10 meter</td>\n",
       "      <td>1.7015387559864743e-10 meter</td>\n",
       "      <td>1.3772256760167074e-10 meter</td>\n",
       "      <td>1.1147266296500143e-10 meter</td>\n",
       "      <td>9.02259869598745e-11 meter</td>\n",
       "      <td>7.302892481755249e-11 meter</td>\n",
       "      <td>5.910962062825124e-11 meter</td>\n",
       "      <td>4.7843334124727804e-11 meter</td>\n",
       "    </tr>\n",
       "    <tr>\n",
       "      <th>omega_c</th>\n",
       "      <td>471238.89803846896 hertz</td>\n",
       "      <td>471238.89803846896 hertz</td>\n",
       "      <td>471238.89803846896 hertz</td>\n",
       "      <td>471238.89803846896 hertz</td>\n",
       "      <td>471238.89803846896 hertz</td>\n",
       "      <td>471238.89803846896 hertz</td>\n",
       "      <td>471238.89803846896 hertz</td>\n",
       "      <td>471238.89803846896 hertz</td>\n",
       "      <td>471238.89803846896 hertz</td>\n",
       "      <td>471238.89803846896 hertz</td>\n",
       "      <td>...</td>\n",
       "      <td>471238.89803846896 hertz</td>\n",
       "      <td>471238.89803846896 hertz</td>\n",
       "      <td>471238.89803846896 hertz</td>\n",
       "      <td>471238.89803846896 hertz</td>\n",
       "      <td>471238.89803846896 hertz</td>\n",
       "      <td>471238.89803846896 hertz</td>\n",
       "      <td>471238.89803846896 hertz</td>\n",
       "      <td>471238.89803846896 hertz</td>\n",
       "      <td>471238.89803846896 hertz</td>\n",
       "      <td>471238.89803846896 hertz</td>\n",
       "    </tr>\n",
       "    <tr>\n",
       "      <th>omega_0</th>\n",
       "      <td>112.94090673730192 hertz</td>\n",
       "      <td>172.39502927288035 hertz</td>\n",
       "      <td>263.14687013382434 hertz</td>\n",
       "      <td>401.6721105781981 hertz</td>\n",
       "      <td>613.1195264997575 hertz</td>\n",
       "      <td>935.8766612752033 hertz</td>\n",
       "      <td>1428.5389508304374 hertz</td>\n",
       "      <td>2180.5475213572367 hertz</td>\n",
       "      <td>3328.4269148791072 hertz</td>\n",
       "      <td>5080.570645301101 hertz</td>\n",
       "      <td>...</td>\n",
       "      <td>2510672384.1034126 hertz</td>\n",
       "      <td>3832335436.786128 hertz</td>\n",
       "      <td>5849745666.952691 hertz</td>\n",
       "      <td>8929156889.442055 hertz</td>\n",
       "      <td>13629625507.7709 hertz</td>\n",
       "      <td>20804505260.931328 hertz</td>\n",
       "      <td>31756370628.477306 hertz</td>\n",
       "      <td>48473494699.58353 hertz</td>\n",
       "      <td>73990813241.21788 hertz</td>\n",
       "      <td>112940906737.30191 hertz</td>\n",
       "    </tr>\n",
       "  </tbody>\n",
       "</table>\n",
       "<p>9 rows × 50 columns</p>\n",
       "</div>"
      ],
      "text/plain": [
       "                                                     1e-09  \\\n",
       "omega_m  [10.0 hertz, 11.768119524349984 hertz, 13.8488...   \n",
       "f_BLDS   [[-2.6979093482955756 hertz, -0.39730981074967...   \n",
       "gamma    [42.51061503924813 piconewton * second / meter...   \n",
       "sigma                                1e-09 siemens / meter   \n",
       "d                                            3.8e-08 meter   \n",
       "rho                     6.241509090043338e+17 / meter ** 3   \n",
       "LD                            1.5129390669059824e-06 meter   \n",
       "omega_c                           471238.89803846896 hertz   \n",
       "omega_0                           112.94090673730192 hertz   \n",
       "\n",
       "                                    1.5264179671752366e-09  \\\n",
       "omega_m  [10.0 hertz, 11.768119524349984 hertz, 13.8488...   \n",
       "f_BLDS   [[-2.698090920476028 hertz, -0.397398186774877...   \n",
       "gamma    [42.519745468636685 piconewton * second / mete...   \n",
       "sigma               1.5264179671752366e-09 siemens / meter   \n",
       "d                                            3.8e-08 meter   \n",
       "rho                     9.527151617329711e+17 / meter ** 3   \n",
       "LD                            1.2245730647396677e-06 meter   \n",
       "omega_c                           471238.89803846896 hertz   \n",
       "omega_0                           172.39502927288035 hertz   \n",
       "\n",
       "                                    2.3299518105153718e-09  \\\n",
       "omega_m  [10.0 hertz, 11.768119524349984 hertz, 13.8488...   \n",
       "f_BLDS   [[-2.6983674867279683 hertz, -0.39753241648504...   \n",
       "gamma    [42.53368142104888 piconewton * second / meter...   \n",
       "sigma               2.3299518105153718e-09 siemens / meter   \n",
       "d                                            3.8e-08 meter   \n",
       "rho                    1.4542415404694625e+18 / meter ** 3   \n",
       "LD                              9.91169587518552e-07 meter   \n",
       "omega_c                           471238.89803846896 hertz   \n",
       "omega_0                           263.14687013382434 hertz   \n",
       "\n",
       "                                     3.556480306223136e-09  \\\n",
       "omega_m  [10.0 hertz, 11.768119524349984 hertz, 13.8488...   \n",
       "f_BLDS   [[-2.6987882869148323 hertz, -0.39773577507361...   \n",
       "gamma    [42.5549514143857 piconewton * second / meter,...   \n",
       "sigma                3.556480306223136e-09 siemens / meter   \n",
       "d                                            3.8e-08 meter   \n",
       "rho                    2.2197804159851814e+18 / meter ** 3   \n",
       "LD                             8.022527846719758e-07 meter   \n",
       "omega_c                           471238.89803846896 hertz   \n",
       "omega_0                            401.6721105781981 hertz   \n",
       "\n",
       "                                    5.4286754393238595e-09  \\\n",
       "omega_m  [10.0 hertz, 11.768119524349984 hertz, 13.8488...   \n",
       "f_BLDS   [[-2.6994275020298275 hertz, -0.39804270757709...   \n",
       "gamma    [42.587413433342135 piconewton * second / mete...   \n",
       "sigma               5.4286754393238595e-09 siemens / meter   \n",
       "d                                            3.8e-08 meter   \n",
       "rho                    3.3883127101434875e+18 / meter ** 3   \n",
       "LD                             6.493435014741052e-07 meter   \n",
       "omega_c                           471238.89803846896 hertz   \n",
       "omega_0                            613.1195264997575 hertz   \n",
       "\n",
       "                                      8.28642772854686e-09  \\\n",
       "omega_m  [10.0 hertz, 11.768119524349984 hertz, 13.8488...   \n",
       "f_BLDS   [[-2.700396176358233 hertz, -0.398503421516972...   \n",
       "gamma    [42.63695266898253 piconewton * second / meter...   \n",
       "sigma                 8.28642772854686e-09 siemens / meter   \n",
       "d                                            3.8e-08 meter   \n",
       "rho                     5.171981399171239e+18 / meter ** 3   \n",
       "LD                             5.255787090587076e-07 meter   \n",
       "omega_c                           471238.89803846896 hertz   \n",
       "omega_0                            935.8766612752033 hertz   \n",
       "\n",
       "                                    1.2648552168552958e-08  \\\n",
       "omega_m  [10.0 hertz, 11.768119524349984 hertz, 13.8488...   \n",
       "f_BLDS   [[-2.7018590268541582 hertz, -0.39918952093140...   \n",
       "gamma    [42.7125437462644 piconewton * second / meter,...   \n",
       "sigma               1.2648552168552958e-08 siemens / meter   \n",
       "d                                            3.8e-08 meter   \n",
       "rho                     7.894605333591066e+18 / meter ** 3   \n",
       "LD                            4.2540347102685817e-07 meter   \n",
       "omega_c                           471238.89803846896 hertz   \n",
       "omega_0                           1428.5389508304374 hertz   \n",
       "\n",
       "                                    1.9306977288832496e-08  \\\n",
       "omega_m  [10.0 hertz, 11.768119524349984 hertz, 13.8488...   \n",
       "f_BLDS   [[-2.7040573179221945 hertz, -0.40020006372368...   \n",
       "gamma    [42.82786556653198 piconewton * second / meter...   \n",
       "sigma               1.9306977288832496e-08 siemens / meter   \n",
       "d                                            3.8e-08 meter   \n",
       "rho                     1.205046742495083e+19 / meter ** 3   \n",
       "LD                             3.443216211817372e-07 meter   \n",
       "omega_c                           471238.89803846896 hertz   \n",
       "omega_0                           2180.5475213572367 hertz   \n",
       "\n",
       "                                    2.9470517025518096e-08  \\\n",
       "omega_m  [10.0 hertz, 11.768119524349984 hertz, 13.8488...   \n",
       "f_BLDS   [[-2.707338562746611 hertz, -0.401666631486690...   \n",
       "gamma    [43.00375093698383 piconewton * second / meter...   \n",
       "sigma               2.9470517025518096e-08 siemens / meter   \n",
       "d                                            3.8e-08 meter   \n",
       "rho                    1.8394049990304813e+19 / meter ** 3   \n",
       "LD                             2.786939620568694e-07 meter   \n",
       "omega_c                           471238.89803846896 hertz   \n",
       "omega_0                           3328.4269148791072 hertz   \n",
       "\n",
       "                                     4.498432668969444e-08  ...  \\\n",
       "omega_m  [10.0 hertz, 11.768119524349984 hertz, 13.8488...  ...   \n",
       "f_BLDS   [[-2.7121929262941435 hertz, -0.40375531456040...  ...   \n",
       "gamma    [43.271890060452 piconewton * second / meter, ...  ...   \n",
       "sigma                4.498432668969444e-08 siemens / meter  ...   \n",
       "d                                            3.8e-08 meter  ...   \n",
       "rho                    2.8077008394320695e+19 / meter ** 3  ...   \n",
       "LD                            2.2557492678033252e-07 meter  ...   \n",
       "omega_c                           471238.89803846896 hertz  ...   \n",
       "omega_0                            5080.570645301101 hertz  ...   \n",
       "\n",
       "                                      0.022229964825261957  \\\n",
       "omega_m  [10.0 hertz, 11.768119524349984 hertz, 13.8488...   \n",
       "f_BLDS   [[-5.301297153206913 hertz, -0.779481738540540...   \n",
       "gamma    [1.4235854262100776 piconewton * second / mete...   \n",
       "sigma                 0.022229964825261957 siemens / meter   \n",
       "d                                            3.8e-08 meter   \n",
       "rho                    1.3874852752821615e+25 / meter ** 3   \n",
       "LD                             3.208869457323388e-10 meter   \n",
       "omega_c                           471238.89803846896 hertz   \n",
       "omega_0                           2510672384.1034126 hertz   \n",
       "\n",
       "                                        0.0339322177189533  \\\n",
       "omega_m  [10.0 hertz, 11.768119524349984 hertz, 13.8488...   \n",
       "f_BLDS   [[-5.315989440699854 hertz, -0.780921959111690...   \n",
       "gamma    [1.0641011639806957 piconewton * second / mete...   \n",
       "sigma                   0.0339322177189533 siemens / meter   \n",
       "d                                            3.8e-08 meter   \n",
       "rho                    2.1178824533817664e+25 / meter ** 3   \n",
       "LD                             2.597259328982749e-10 meter   \n",
       "omega_c                           471238.89803846896 hertz   \n",
       "omega_0                            3832335436.786128 hertz   \n",
       "\n",
       "                                       0.05179474679231213  \\\n",
       "omega_m  [10.0 hertz, 11.768119524349984 hertz, 13.8488...   \n",
       "f_BLDS   [[-5.327926069015646 hertz, -0.782090886535537...   \n",
       "gamma    [0.8025391624920698 piconewton * second / mete...   \n",
       "sigma                  0.05179474679231213 siemens / meter   \n",
       "d                                            3.8e-08 meter   \n",
       "rho                    3.2327738292070914e+25 / meter ** 3   \n",
       "LD                            2.1022220167269613e-10 meter   \n",
       "omega_c                           471238.89803846896 hertz   \n",
       "omega_0                            5849745666.952691 hertz   \n",
       "\n",
       "                                       0.07906043210907701  \\\n",
       "omega_m  [10.0 hertz, 11.768119524349984 hertz, 13.8488...   \n",
       "f_BLDS   [[-5.337616374187242 hertz, -0.783039092587003...   \n",
       "gamma    [0.6105569516415313 piconewton * second / mete...   \n",
       "sigma                  0.07906043210907701 siemens / meter   \n",
       "d                                            3.8e-08 meter   \n",
       "rho                     4.934564056715583e+25 / meter ** 3   \n",
       "LD                            1.7015387559864743e-10 meter   \n",
       "omega_c                           471238.89803846896 hertz   \n",
       "omega_0                            8929156889.442055 hertz   \n",
       "\n",
       "                                       0.12067926406393313  \\\n",
       "omega_m  [10.0 hertz, 11.768119524349984 hertz, 13.8488...   \n",
       "f_BLDS   [[-5.345478313238606 hertz, -0.783807915257355...   \n",
       "gamma    [0.46833782354916553 piconewton * second / met...   \n",
       "sigma                  0.12067926406393313 siemens / meter   \n",
       "d                                            3.8e-08 meter   \n",
       "rho                     7.532207236347789e+25 / meter ** 3   \n",
       "LD                            1.3772256760167074e-10 meter   \n",
       "omega_c                           471238.89803846896 hertz   \n",
       "omega_0                             13629625507.7709 hertz   \n",
       "\n",
       "                                       0.18420699693267165  \\\n",
       "omega_m  [10.0 hertz, 11.768119524349984 hertz, 13.8488...   \n",
       "f_BLDS   [[-5.351853815450265 hertz, -0.784431072946863...   \n",
       "gamma    [0.3619874288469797 piconewton * second / mete...   \n",
       "sigma                  0.18420699693267165 siemens / meter   \n",
       "d                                            3.8e-08 meter   \n",
       "rho                    1.1497296458048553e+26 / meter ** 3   \n",
       "LD                            1.1147266296500143e-10 meter   \n",
       "omega_c                           471238.89803846896 hertz   \n",
       "omega_0                           20804505260.931328 hertz   \n",
       "\n",
       "                                        0.2811768697974237  \\\n",
       "omega_m  [10.0 hertz, 11.768119524349984 hertz, 13.8488...   \n",
       "f_BLDS   [[-5.357021964831417 hertz, -0.784936023997015...   \n",
       "gamma    [0.28171853149480214 piconewton * second / met...   \n",
       "sigma                   0.2811768697974237 siemens / meter   \n",
       "d                                            3.8e-08 meter   \n",
       "rho                    1.7549679887505518e+26 / meter ** 3   \n",
       "LD                              9.02259869598745e-11 meter   \n",
       "omega_c                           471238.89803846896 hertz   \n",
       "omega_0                           31756370628.477306 hertz   \n",
       "\n",
       "                                       0.42919342601287785  \\\n",
       "omega_m  [10.0 hertz, 11.768119524349984 hertz, 13.8488...   \n",
       "f_BLDS   [[-5.361210146169432 hertz, -0.785345100592468...   \n",
       "gamma    [0.22059381735307013 piconewton * second / met...   \n",
       "sigma                  0.42919342601287785 siemens / meter   \n",
       "d                                            3.8e-08 meter   \n",
       "rho                    2.6788146698462197e+26 / meter ** 3   \n",
       "LD                             7.302892481755249e-11 meter   \n",
       "omega_c                           471238.89803846896 hertz   \n",
       "omega_0                            48473494699.58353 hertz   \n",
       "\n",
       "                                        0.6551285568595523  \\\n",
       "omega_m  [10.0 hertz, 11.768119524349984 hertz, 13.8488...   \n",
       "f_BLDS   [[-5.364603367369531 hertz, -0.785676447802103...   \n",
       "gamma    [0.17365860285450738 piconewton * second / met...   \n",
       "sigma                   0.6551285568595523 siemens / meter   \n",
       "d                                            3.8e-08 meter   \n",
       "rho                     4.088990842785869e+26 / meter ** 3   \n",
       "LD                             5.910962062825124e-11 meter   \n",
       "omega_c                           471238.89803846896 hertz   \n",
       "omega_0                            73990813241.21788 hertz   \n",
       "\n",
       "                                                       1.0  \n",
       "omega_m  [10.0 hertz, 11.768119524349984 hertz, 13.8488...  \n",
       "f_BLDS   [[-5.367351995740098 hertz, -0.785944797191268...  \n",
       "gamma    [0.1373434553264919 piconewton * second / mete...  \n",
       "sigma                                  1.0 siemens / meter  \n",
       "d                                            3.8e-08 meter  \n",
       "rho                     6.241509090043338e+26 / meter ** 3  \n",
       "LD                            4.7843334124727804e-11 meter  \n",
       "omega_c                           471238.89803846896 hertz  \n",
       "omega_0                           112940906737.30191 hertz  \n",
       "\n",
       "[9 rows x 50 columns]"
      ]
     },
     "execution_count": 28,
     "metadata": {},
     "output_type": "execute_result"
    }
   ],
   "source": [
    "df = pandas.DataFrame.from_dict(data['01'])\n",
    "df"
   ]
  },
  {
   "cell_type": "markdown",
   "id": "2237291e-88ce-4c51-b944-154e9d9aa8ac",
   "metadata": {},
   "source": [
    "We want to exract the data in the rows, as numbers without units, for plotting.  Read the `rho` row and convert it to a numpy array.  Loop over the elements of the array, specify the element's units, and get the magnitude of the resulting element.  Convert the result list to a numpy array.  Print out every 10th element of the resulting arrray."
   ]
  },
  {
   "cell_type": "code",
   "execution_count": 29,
   "id": "a83093f4-aed3-43bd-9b2e-8f34a5af273e",
   "metadata": {},
   "outputs": [
    {
     "data": {
      "text/plain": [
       "array([6.24150909e+17, 4.28572501e+19, 2.94278813e+21, 2.02066207e+23,\n",
       "       1.38748528e+25])"
      ]
     },
     "execution_count": 29,
     "metadata": {},
     "output_type": "execute_result"
    }
   ],
   "source": [
    "np.array([a.to('1/m^3').magnitude for a in df.loc['rho'].to_numpy()])[0:-1:10]"
   ]
  },
  {
   "cell_type": "markdown",
   "id": "992f2abb-db50-4be8-9466-4ade570834a1",
   "metadata": {},
   "source": [
    "Some of the rows return an array of arrays.  Run one of these, `omega_m`, through the same procedure.  Now we get an array of arrays, stripped of their units."
   ]
  },
  {
   "cell_type": "code",
   "execution_count": 30,
   "id": "38eacefa-12ee-464d-8d48-9e86c16143f3",
   "metadata": {},
   "outputs": [
    {
     "data": {
      "text/plain": [
       "array([1.00000000e+01, 5.09413801e+01, 2.59502421e+02, 1.32194115e+03,\n",
       "       6.73415066e+03, 3.43046929e+04, 1.74752840e+05, 8.90215085e+05,\n",
       "       4.53487851e+06, 2.31012970e+07])"
      ]
     },
     "execution_count": 30,
     "metadata": {},
     "output_type": "execute_result"
    }
   ],
   "source": [
    "np.array([a.to('Hz').magnitude for a in df.loc['omega_m'].to_numpy()])[0][0:-1:10]"
   ]
  },
  {
   "cell_type": "markdown",
   "id": "9c79e9eb-3cd5-49d5-911a-101cd819a62a",
   "metadata": {},
   "source": [
    "Generalize this procedure, simultaneously looping of all the rows and specifying each of their units."
   ]
  },
  {
   "cell_type": "code",
   "execution_count": 31,
   "id": "8ff03fc2-a95b-4c05-97d3-39206d5a92b4",
   "metadata": {},
   "outputs": [],
   "source": [
    "adict = {}\n",
    "keys = ['omega_m', 'f_BLDS', 'gamma', 'sigma', 'd', 'rho', 'LD', 'omega_c', 'omega_0']\n",
    "units = ['Hz', 'Hz', 'pN s/m', 'S/m', 'm', '1/m^3', 'm', 'Hz', 'Hz']\n",
    "\n",
    "for key, unit in zip(keys, units):\n",
    "    adict[key] = np.array([a.to(unit).magnitude for a in df.loc[key].to_numpy()])"
   ]
  },
  {
   "cell_type": "markdown",
   "id": "4135fd60-438c-4ee2-bf43-712bd4f3d77f",
   "metadata": {},
   "source": [
    "Check that the above does what we expect.  Look at the shape of the resulting arrays.  We have $50$ columns, one for each charge density.  For the spectra, we have $100$ frequencies.  Then, for the calculated signals, `f_BLDS` and `gamma`, we have three components, one from each or Loring's terms."
   ]
  },
  {
   "cell_type": "code",
   "execution_count": 32,
   "id": "f42a3e43-a2ce-420d-9aa8-3befefce1a4f",
   "metadata": {},
   "outputs": [
    {
     "data": {
      "text/plain": [
       "(50,)"
      ]
     },
     "execution_count": 32,
     "metadata": {},
     "output_type": "execute_result"
    }
   ],
   "source": [
    "adict['rho'].shape"
   ]
  },
  {
   "cell_type": "code",
   "execution_count": 33,
   "id": "1e66d74b-f866-43a2-b014-f4d0508c3f84",
   "metadata": {},
   "outputs": [
    {
     "data": {
      "text/plain": [
       "(50, 100)"
      ]
     },
     "execution_count": 33,
     "metadata": {},
     "output_type": "execute_result"
    }
   ],
   "source": [
    "adict['omega_m'].shape"
   ]
  },
  {
   "cell_type": "code",
   "execution_count": 34,
   "id": "340575b6-5362-4c39-b58d-9072d5e1fd7c",
   "metadata": {},
   "outputs": [
    {
     "data": {
      "text/plain": [
       "(50, 100, 3)"
      ]
     },
     "execution_count": 34,
     "metadata": {},
     "output_type": "execute_result"
    }
   ],
   "source": [
    "adict['f_BLDS'].shape"
   ]
  },
  {
   "cell_type": "code",
   "execution_count": 35,
   "id": "fc197064-640d-4392-9bf4-16a8e9ebe809",
   "metadata": {},
   "outputs": [
    {
     "data": {
      "text/plain": [
       "(50, 3)"
      ]
     },
     "execution_count": 35,
     "metadata": {},
     "output_type": "execute_result"
    }
   ],
   "source": [
    "adict['gamma'].shape"
   ]
  },
  {
   "cell_type": "markdown",
   "id": "c2412e07-1870-4838-adfb-597a7e5b3699",
   "metadata": {},
   "source": [
    "Check out the new code computing the limiting cases."
   ]
  },
  {
   "cell_type": "code",
   "execution_count": 36,
   "id": "10ab5efd-a4f7-4149-a98b-a33cce79f96e",
   "metadata": {},
   "outputs": [
    {
     "data": {
      "text/plain": [
       "(5, 3)"
      ]
     },
     "execution_count": 36,
     "metadata": {},
     "output_type": "execute_result"
    }
   ],
   "source": [
    "BLDSzerohigh(sample1, np.logspace(-1,1,5)).shape"
   ]
  },
  {
   "cell_type": "code",
   "execution_count": 37,
   "id": "77be6380-f40e-4f67-8292-232e9c459900",
   "metadata": {},
   "outputs": [
    {
     "data": {
      "text/plain": [
       "(5, 3)"
      ]
     },
     "execution_count": 37,
     "metadata": {},
     "output_type": "execute_result"
    }
   ],
   "source": [
    "BLDSzerolow(sample1, np.logspace(-1,1,5)).shape"
   ]
  },
  {
   "cell_type": "markdown",
   "id": "29e30527-57b9-4f21-b042-e8d7ff62c7f4",
   "metadata": {},
   "source": [
    "Check out the new code for computing the linear approximation to the $K_2$ term."
   ]
  },
  {
   "cell_type": "code",
   "execution_count": 38,
   "id": "e5ea372d-7b1a-43b1-86d2-037935697869",
   "metadata": {},
   "outputs": [
    {
     "data": {
      "text/plain": [
       "((60,), (60,))"
      ]
     },
     "execution_count": 38,
     "metadata": {},
     "output_type": "execute_result"
    }
   ],
   "source": [
    "x_sub, BLDSapprox = BLDSapproxK2(sample1, np.logspace(-3,3,100))\n",
    "(x_sub.shape, BLDSapprox.shape)"
   ]
  },
  {
   "cell_type": "code",
   "execution_count": 39,
   "id": "dde25d0d-2af0-4285-a4db-888de6d74963",
   "metadata": {},
   "outputs": [
    {
     "data": {
      "text/plain": [
       "(0.001, 3.7649358067924674)"
      ]
     },
     "execution_count": 39,
     "metadata": {},
     "output_type": "execute_result"
    }
   ],
   "source": [
    "(x_sub.min(), x_sub.max())"
   ]
  },
  {
   "cell_type": "markdown",
   "id": "05ef3bcf-7aba-4bf1-b4f5-34f7051ea901",
   "metadata": {},
   "source": [
    "Check out the new code for computing the $\\gamma_{\\perp}$ (a) $\\rho \\rightarrow 0$ limit and (b) linear $\\rho$ expansion."
   ]
  },
  {
   "cell_type": "code",
   "execution_count": 40,
   "id": "89e63ce5-a330-4d97-b098-ae0974e1b3b8",
   "metadata": {},
   "outputs": [
    {
     "data": {
      "text/plain": [
       "((50, 3), (50, 3))"
      ]
     },
     "execution_count": 40,
     "metadata": {},
     "output_type": "execute_result"
    }
   ],
   "source": [
    "xR = adict['omega_0']/(sample1.epsilon_s.real.magnitude * adict['omega_c'])\n",
    "g_low, g_approx = gamma_perpendicular_approx(sample1, xR)\n",
    "(g_low.shape, g_approx.shape)"
   ]
  },
  {
   "cell_type": "markdown",
   "id": "1c064a5c-0051-4d25-98f7-22bb2976d455",
   "metadata": {},
   "source": [
    "Now rewrite the `Study 26` code."
   ]
  },
  {
   "cell_type": "code",
   "execution_count": 41,
   "id": "730a7a60-591e-4fdb-8421-407e8d9c4b9c",
   "metadata": {},
   "outputs": [],
   "source": [
    "def plotme(data, sample):\n",
    "\n",
    "    df = pandas.DataFrame.from_dict(data)\n",
    "\n",
    "    keys =  ['omega_m', 'f_BLDS', 'gamma',  'sigma', 'd', 'rho',   'LD', 'omega_c', 'omega_0']\n",
    "    units = ['Hz',      'Hz',     'pN s/m', 'S/m',   'm', '1/m^3', 'm',  'Hz',      'Hz']\n",
    "\n",
    "    adict = {}\n",
    "    for key, unit in zip(keys, units):\n",
    "        adict[key] = np.array([a.to(unit).magnitude for a in df.loc[key].to_numpy()])\n",
    "\n",
    "    # (Left hand plot) \n",
    "    # Make the x-axis the unitless ratio of the height to Debye length squared,\n",
    "    # which is proportional to charge density.\n",
    "\n",
    "    xL = (adict['d']/adict['LD'])**2\n",
    "    rho0L = (adict['rho']/xL)[0]\n",
    "    \n",
    "    # Define functions to convert from xL to rho and back again\n",
    "    \n",
    "    def fwdL(xL):\n",
    "        return xL*rho0L\n",
    "\n",
    "    def revL(rho):\n",
    "        return rho/rho0L\n",
    "\n",
    "    # (Right hand plot)\n",
    "    # Make the x-axis the unitless ratio of omega_0 to omega_c, which\n",
    "    # is proportional to conductivity and therefore charge density\n",
    "\n",
    "    xR = adict['omega_0']/(sample.epsilon_s.real.magnitude * adict['omega_c'])\n",
    "    rho0R = (adict['rho']/xR)[0]\n",
    "    \n",
    "    # Define functions to convert from xR to rho and back again\n",
    "\n",
    "    def fwdR(xR):\n",
    "        return xR*rho0R\n",
    "\n",
    "    def revR(rho):\n",
    "        return rho/rho0R\n",
    "    \n",
    "    # Now make the nice plot\n",
    "    \n",
    "    fig, ax = plt.subplots(1, 2, figsize=(7.5, 5))\n",
    "    \n",
    "    ax2L = ax[0].secondary_xaxis(\"top\", functions=(fwdL,revL))\n",
    "    ax2R = ax[1].secondary_xaxis(\"top\", functions=(fwdR,revR))\n",
    "\n",
    "    # xL_sub, BLDS_sub = BLDSapprox(sample, xL)\n",
    "    \n",
    "    with plt.style.context('seaborn-v0_8'):\n",
    "\n",
    "        # get current color cycle\n",
    "        \n",
    "        colors = plt.rcParams['axes.prop_cycle'].by_key()['color']\n",
    "        color_cycle = cycler.cycler('color', colors[0:3])\n",
    "        ax[0].set_prop_cycle(color_cycle)\n",
    "        ax[1].set_prop_cycle(color_cycle)\n",
    "        \n",
    "        # approximation for zero-freq BLDS, K2 term\n",
    "        \n",
    "        x_sub, BLDSapprox = BLDSapproxK2(sample1, xL)\n",
    "        ax[0].semilogx(\n",
    "            x_sub,\n",
    "            BLDSapprox,\n",
    "            ':',\n",
    "            color=colors[0],\n",
    "            label=['$K_2$ approx.'])\n",
    "\n",
    "        # exact calculations\n",
    "        \n",
    "        ax[0].semilogx(\n",
    "            xL,\n",
    "            adict['f_BLDS'][:,0,:], \n",
    "            '-',\n",
    "            label=['$K_2$','$K_1$','$K_0$'])\n",
    "        \n",
    "        ax[1].loglog(\n",
    "            xR,\n",
    "            adict['gamma'], \n",
    "            '-',\n",
    "            label=['$K_2$','$K_1$','$K_0$'])\n",
    "        \n",
    "        # limiting cases\n",
    "        \n",
    "        nL_part = int(2*len(xL)/3)\n",
    "        \n",
    "        ax[0].semilogx(\n",
    "            xL[0:nL_part],\n",
    "            BLDSzerolow(sample1, xL)[0:nL_part,:], \n",
    "            '--')\n",
    "        \n",
    "        ax[0].semilogx(\n",
    "            xL[-nL_part:-1],\n",
    "            BLDSzerohigh(sample1, xL)[-nL_part:-1,:],\n",
    "            '-.')\n",
    "\n",
    "        nR_part = int(len(xR)/2)\n",
    "\n",
    "        g_low, g_approx = gamma_perpendicular_approx(sample1, xR)\n",
    "\n",
    "        ax[1].loglog(\n",
    "            xR[0:nR_part],\n",
    "            g_low[0:nR_part,:],\n",
    "            '--')\n",
    "        \n",
    "        ax[1].loglog(\n",
    "            xR[0:nR_part],\n",
    "            g_approx[0:nR_part,:],\n",
    "            ':',\n",
    "            label=['$K_2$ approx','$K_1$ approx','$K_0$ approx'])\n",
    "\n",
    "    ax[0].set_xlabel(r'$(h / \\lambda_{\\mathrm{D}})^2$')\n",
    "    ax[0].set_ylabel(r'$\\Delta f_{\\mathrm{BLDS}}(\\omega_{\\mathrm{m}}=0)$ [Hz]')\n",
    "    ax[0].legend(fontsize=9)\n",
    "    ax[0].grid()\n",
    "    ax[1].grid()\n",
    "    \n",
    "    ax[1].set_xlabel(r'$\\omega_0/(\\epsilon_{\\mathrm{s}}^{\\prime} \\omega_{\\mathrm{c}})$')\n",
    "    ax[1].set_ylabel(r'$\\gamma_{\\perp}$ [pN s/m]')\n",
    "    ax[1].legend(fontsize=9)\n",
    "    ax[1].set_ylim(\n",
    "        [0.95 * adict['gamma'].min(),\n",
    "         1.05 * adict['gamma'].max()])\n",
    "    \n",
    "    ax2L.set_xlabel(r'charge density $\\rho$ [cm$^{-3}$]')\n",
    "    ax2R.set_xlabel(r'charge density $\\rho$ [cm$^{-3}$]')\n",
    "    \n",
    "    plt.tight_layout()\n",
    "    plt.show()\n",
    "    \n",
    "    return fig"
   ]
  },
  {
   "cell_type": "markdown",
   "id": "3399ccab-02ef-4d6b-96b9-7f5fd38399f0",
   "metadata": {},
   "source": [
    "Pass sample parameters via `sample1`, where the parameters have units, not via `sample1_jit`, there the parameters don't have units."
   ]
  },
  {
   "cell_type": "code",
   "execution_count": 42,
   "id": "c204a419-1a4b-4932-be3f-2f87f9031844",
   "metadata": {},
   "outputs": [
    {
     "data": {
      "image/png": "[encoded data removed]",
      "text/plain": [
       "<Figure size 750x500 with 2 Axes>"
      ]
     },
     "metadata": {},
     "output_type": "display_data"
    }
   ],
   "source": [
    "fig['02'] = plotme(data['01'], sample1)"
   ]
  },
  {
   "cell_type": "markdown",
   "id": "f302ace2-4894-4c93-872b-2fe4e2cc5c7f",
   "metadata": {},
   "source": [
    "# Save all figures"
   ]
  },
  {
   "cell_type": "code",
   "execution_count": 43,
   "id": "0cfe2931-2058-41e8-a771-06407d373779",
   "metadata": {},
   "outputs": [],
   "source": [
    "if 1:\n",
    "    for num in fig.keys():\n",
    "        figname = THIS + \"Fig-\" + num\n",
    "        fig[num].savefig(figname + '.png', dpi=300)\n",
    "        fig[num].savefig(figname + '.pdf')"
   ]
  },
  {
   "cell_type": "code",
   "execution_count": null,
   "id": "bc3db284-3474-4796-8574-8e0230d3cbef",
   "metadata": {},
   "outputs": [],
   "source": []
  }
 ],
 "metadata": {
  "kernelspec": {
   "display_name": "dissipationtheory",
   "language": "python",
   "name": "dissipationtheory"
  },
  "language_info": {
   "codemirror_mode": {
    "name": "ipython",
    "version": 3
   },
   "file_extension": ".py",
   "mimetype": "text/x-python",
   "name": "python",
   "nbconvert_exporter": "python",
   "pygments_lexer": "ipython3",
   "version": "3.9.10"
  }
 },
 "nbformat": 4,
 "nbformat_minor": 5
}
