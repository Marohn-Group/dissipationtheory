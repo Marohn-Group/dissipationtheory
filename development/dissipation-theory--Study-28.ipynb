{
 "cells": [
  {
   "cell_type": "markdown",
   "id": "c2c386ae-8c9e-4831-987d-5c1b3638f19d",
   "metadata": {},
   "source": [
    "- Name: `dissipation-theory--Study-28.ipynb`\n",
    "- Author: John A. Marohn\n",
    "- Date: 2024-10-13\n",
    "- Continued from: `dissipation-theory--Study-26.ipynb`\n",
    "- Continued to: ---\n",
    "- Summary: Redo `Study 26` using numba/jit-accelerated functions coded in `dissipationtheory.dissipation3`.  The numba/jit functions run below are 100 to 200 times faster than their pure-Python counterparts run in `Study 26`, enabling us to plot here a more detailed BLDS spectrum and explore friction and the zero-frequency limit of the BLDS spectrum as a function of many more conductivity points."
   ]
  },
  {
   "cell_type": "markdown",
   "id": "49242758-782d-4b63-999b-af45cd450f34",
   "metadata": {},
   "source": [
    "# Preliminaries"
   ]
  },
  {
   "cell_type": "code",
   "execution_count": 1,
   "id": "83c229e3-177b-4c3a-8781-09f9c61b4bad",
   "metadata": {},
   "outputs": [],
   "source": [
    "import numpy as np"
   ]
  },
  {
   "cell_type": "code",
   "execution_count": 2,
   "id": "b35a7a8e-e549-4500-9aff-d199ac3d683a",
   "metadata": {},
   "outputs": [],
   "source": [
    "%matplotlib inline\n",
    "import matplotlib.pylab as plt\n",
    "import matplotlib.cm as cm\n",
    "import matplotlib.colors as mcolors\n",
    "\n",
    "font = {'family' : 'serif',\n",
    "        'weight' : 'normal',\n",
    "        'size'   : 12}\n",
    "\n",
    "plt.rc('font', **font)\n",
    "plt.rcParams['figure.figsize'] = 3.25, 3.5"
   ]
  },
  {
   "cell_type": "code",
   "execution_count": 3,
   "id": "c5343678-ced4-4714-8e12-2fa50514863e",
   "metadata": {},
   "outputs": [],
   "source": [
    "THIS = 'dissipation-theory--Study-28--'\n",
    "fig = {}"
   ]
  },
  {
   "cell_type": "code",
   "execution_count": 4,
   "id": "3b72628c-3126-47d6-b490-d0b652316c18",
   "metadata": {},
   "outputs": [],
   "source": [
    "from dissipationtheory.constants import ureg, qe, epsilon0\n",
    "from dissipationtheory.dissipation3 import CantileverModel, SampleModel1, SampleModel2\n",
    "from dissipationtheory.dissipation3 import CantileverModelJit, SampleModel1Jit, SampleModel2Jit\n",
    "from dissipationtheory.dissipation3 import theta1norm, gamma_perpendicular\n",
    "from dissipationtheory.dissipation3 import theta1norm_jit, gamma_perpendicular_jit\n",
    "from dissipationtheory.dissipation3 import blds_perpendicular, blds_perpendicular_jit\n",
    "from dissipationtheory.dissipation3 import BLDSlimits, BLDSapprox"
   ]
  },
  {
   "cell_type": "markdown",
   "id": "837df1e7-c5b0-46d7-b4d5-84aacaa53d9f",
   "metadata": {},
   "source": [
    "# Sample object"
   ]
  },
  {
   "cell_type": "markdown",
   "id": "958ad6c4-5753-4618-979f-e672568323b9",
   "metadata": {},
   "source": [
    "Set up pure Python objects."
   ]
  },
  {
   "cell_type": "code",
   "execution_count": 5,
   "id": "3322f9a6-ec98-4893-b630-b2a335f10a9b",
   "metadata": {},
   "outputs": [],
   "source": [
    "cantilever = CantileverModel(\n",
    "    f_c = ureg.Quantity(75, 'kHz'),\n",
    "    k_c = ureg.Quantity(2.8, 'N/m'), \n",
    "    V_ts = ureg.Quantity(1, 'V'), \n",
    "    R = ureg.Quantity(35, 'nm'), \n",
    "    d = ureg.Quantity(38, 'nm')\n",
    ")"
   ]
  },
  {
   "cell_type": "code",
   "execution_count": 6,
   "id": "a0486655-79f6-4af9-b2df-fec2add1bb80",
   "metadata": {},
   "outputs": [],
   "source": [
    "sample1 = SampleModel1(\n",
    "    cantilever = cantilever,\n",
    "    h_s = ureg.Quantity(500, 'nm'),\n",
    "    epsilon_s = ureg.Quantity(complex(20, -0.2), ''),\n",
    "    sigma = ureg.Quantity(1E-5, 'S/m'),\n",
    "    rho = ureg.Quantity(1e21, '1/m^3'),\n",
    "    epsilon_d = ureg.Quantity(complex(1e6, 0), ''),\n",
    "    z_r = ureg.Quantity(300, 'nm')\n",
    ")"
   ]
  },
  {
   "cell_type": "markdown",
   "id": "a307f3a1-9047-409e-9069-105022b0d929",
   "metadata": {},
   "source": [
    "Magically, set up the jit sample model from the pure Python sample model, as described in `Study 27`."
   ]
  },
  {
   "cell_type": "code",
   "execution_count": 7,
   "id": "3557e7e2-e886-4b6c-a605-b7e194d64c4f",
   "metadata": {},
   "outputs": [],
   "source": [
    "sample1_jit = SampleModel1Jit(**sample1.args())"
   ]
  },
  {
   "cell_type": "markdown",
   "id": "3f810806-1cbf-4c1f-9f28-103e8a73390a",
   "metadata": {},
   "source": [
    "# Example friction calculation"
   ]
  },
  {
   "cell_type": "markdown",
   "id": "e9e9aa93-aca8-4005-b81d-d595f4b2ff3a",
   "metadata": {},
   "source": [
    "Spot-check the new friction-calculation code by comparing a numba/jit result to a pure-Python result.\n",
    "\n",
    "First, the numba/jit result."
   ]
  },
  {
   "cell_type": "code",
   "execution_count": 8,
   "id": "a5442e7c-588a-4aae-98f6-bd372afe5eb5",
   "metadata": {},
   "outputs": [
    {
     "name": "stdout",
     "output_type": "stream",
     "text": [
      "CPU times: user 9.72 ms, sys: 438 µs, total: 10.2 ms\n",
      "Wall time: 10.4 ms\n"
     ]
    },
    {
     "data": {
      "text/html": [
       "<table><tbody><tr><th>Magnitude</th><td style='text-align:left;'><pre>[3.935960284420399 2.0717048238564075 0.5163580638291033]</pre></td></tr><tr><th>Units</th><td style='text-align:left;'>piconewton second/meter</td></tr></tbody></table>"
      ],
      "text/latex": [
       "$\\begin{pmatrix} &  & \\end{pmatrix}\\ \\frac{\\mathrm{piconewton} \\cdot \\mathrm{second}}{\\mathrm{meter}}$"
      ],
      "text/plain": [
       "<Quantity([3.93596028 2.07170482 0.51635806], 'piconewton * second / meter')>"
      ]
     },
     "execution_count": 8,
     "metadata": {},
     "output_type": "execute_result"
    }
   ],
   "source": [
    "%%time\n",
    "ans1a = gamma_perpendicular_jit(theta1norm_jit, sample1_jit)\n",
    "ans1a "
   ]
  },
  {
   "cell_type": "markdown",
   "id": "dac7f5d9-ee7d-460d-86ab-efbe2bdda598",
   "metadata": {},
   "source": [
    "Now the pure Python result."
   ]
  },
  {
   "cell_type": "code",
   "execution_count": 9,
   "id": "d034a872-30e6-4a46-bbb7-25413648b869",
   "metadata": {},
   "outputs": [
    {
     "name": "stdout",
     "output_type": "stream",
     "text": [
      "CPU times: user 2.07 s, sys: 28.3 ms, total: 2.09 s\n",
      "Wall time: 2.21 s\n"
     ]
    },
    {
     "data": {
      "text/html": [
       "<table><tbody><tr><th>Magnitude</th><td style='text-align:left;'><pre>[3.935960284420396 2.071704823856406 0.5163580638291028]</pre></td></tr><tr><th>Units</th><td style='text-align:left;'>piconewton second/meter</td></tr></tbody></table>"
      ],
      "text/latex": [
       "$\\begin{pmatrix} &  & \\end{pmatrix}\\ \\frac{\\mathrm{piconewton} \\cdot \\mathrm{second}}{\\mathrm{meter}}$"
      ],
      "text/plain": [
       "<Quantity([3.93596028 2.07170482 0.51635806], 'piconewton * second / meter')>"
      ]
     },
     "execution_count": 9,
     "metadata": {},
     "output_type": "execute_result"
    }
   ],
   "source": [
    "%%time\n",
    "ans1b = gamma_perpendicular(theta1norm, sample1)\n",
    "ans1b "
   ]
  },
  {
   "cell_type": "markdown",
   "id": "a744805b-930b-4e1f-9814-811e105fb286",
   "metadata": {},
   "source": [
    "By inspection we get the same result for the three terms' contribution to the friction.  Success!\n",
    "\n",
    "The numba/jit calculation is 100 to 200 times faster.  "
   ]
  },
  {
   "cell_type": "markdown",
   "id": "5adf9e04-04fa-4799-8fb3-e0cf723b047e",
   "metadata": {},
   "source": [
    "# Example BLDS calculation"
   ]
  },
  {
   "cell_type": "code",
   "execution_count": 10,
   "id": "909641eb-2627-46fd-9e72-ec4195b6cfba",
   "metadata": {},
   "outputs": [],
   "source": [
    "omega_m = ureg.Quantity(2 * np.pi * np.logspace(1, 2, 2), 'Hz')"
   ]
  },
  {
   "cell_type": "code",
   "execution_count": 11,
   "id": "024b1316-3d5b-4903-923b-b5eadda3ef0e",
   "metadata": {},
   "outputs": [
    {
     "name": "stdout",
     "output_type": "stream",
     "text": [
      "CPU times: user 22.8 ms, sys: 1.11 ms, total: 23.9 ms\n",
      "Wall time: 26 ms\n"
     ]
    },
    {
     "data": {
      "text/html": [
       "<table><tbody><tr><th>Magnitude</th><td style='text-align:left;'><pre>[[-6.2018844785453355 -1.9086751902497248 -2.8074726923702045] [-6.201884131240044 -1.908668735156521 -2.8072058803783237]]</pre></td></tr><tr><th>Units</th><td style='text-align:left;'>hertz</td></tr></tbody></table>"
      ],
      "text/latex": [
       "$\\begin{pmatrix} &  & \\\\ \n",
       " &  & \\end{pmatrix}\\ \\mathrm{hertz}$"
      ],
      "text/plain": [
       "<Quantity([[-6.20188448 -1.90867519 -2.80747269]\n",
       " [-6.20188413 -1.90866874 -2.80720588]], 'hertz')>"
      ]
     },
     "execution_count": 11,
     "metadata": {},
     "output_type": "execute_result"
    }
   ],
   "source": [
    "%%time\n",
    "ans2a = blds_perpendicular_jit(theta1norm_jit, sample1_jit, omega_m)\n",
    "ans2a "
   ]
  },
  {
   "cell_type": "code",
   "execution_count": 12,
   "id": "8d636cfe-0ed2-491e-8ff8-ba2fe8271d6b",
   "metadata": {},
   "outputs": [
    {
     "name": "stdout",
     "output_type": "stream",
     "text": [
      "CPU times: user 5.52 s, sys: 65.7 ms, total: 5.59 s\n",
      "Wall time: 5.96 s\n"
     ]
    },
    {
     "data": {
      "text/html": [
       "<table><tbody><tr><th>Magnitude</th><td style='text-align:left;'><pre>[[-6.201884478545333 -1.9086751902497232 -2.807472692370203] [-6.201884131240042 -1.9086687351565201 -2.807205880378323]]</pre></td></tr><tr><th>Units</th><td style='text-align:left;'>hertz</td></tr></tbody></table>"
      ],
      "text/latex": [
       "$\\begin{pmatrix} &  & \\\\ \n",
       " &  & \\end{pmatrix}\\ \\mathrm{hertz}$"
      ],
      "text/plain": [
       "<Quantity([[-6.20188448 -1.90867519 -2.80747269]\n",
       " [-6.20188413 -1.90866874 -2.80720588]], 'hertz')>"
      ]
     },
     "execution_count": 12,
     "metadata": {},
     "output_type": "execute_result"
    }
   ],
   "source": [
    "%%time\n",
    "ans2b = blds_perpendicular(theta1norm, sample1, omega_m)\n",
    "ans2b "
   ]
  },
  {
   "cell_type": "markdown",
   "id": "8425741b-abed-46f6-9803-f800e8c2c2d9",
   "metadata": {},
   "source": [
    "By inspection we get the same result for the two terms' contribution to the BDLS frequency shift at the .  Success!\n",
    "\n",
    "The numba/jit calculation is 150 to 200 times faster.  "
   ]
  },
  {
   "cell_type": "markdown",
   "id": "4983317a-f831-4007-8c2d-f361b98c7b8c",
   "metadata": {},
   "source": [
    "# Create list of modulation frequencies and charge densities"
   ]
  },
  {
   "cell_type": "markdown",
   "id": "7070adc3-4408-4dae-803e-63b882e36e84",
   "metadata": {},
   "source": [
    "Set up arrays of modulation frequency $\\omega_{\\mathrm{m}}$ and conductivity $\\sigma$."
   ]
  },
  {
   "cell_type": "code",
   "execution_count": 13,
   "id": "44f99a84-c7b5-4390-b22e-1c89d1da78c8",
   "metadata": {},
   "outputs": [],
   "source": [
    "N_omega = 100\n",
    "N_sigma = 50"
   ]
  },
  {
   "cell_type": "code",
   "execution_count": 14,
   "id": "fe653f28-685a-44cd-bd11-c5ebe1e46700",
   "metadata": {},
   "outputs": [],
   "source": [
    "omega_m = ureg.Quantity(\n",
    "    np.logspace(\n",
    "        start=np.log10(1e1),\n",
    "        stop=np.log10(1e8),\n",
    "        num=N_omega), 'Hz')"
   ]
  },
  {
   "cell_type": "code",
   "execution_count": 15,
   "id": "dc2962b7-5d14-4083-b408-5576b9d96056",
   "metadata": {},
   "outputs": [],
   "source": [
    "sigma = ureg.Quantity(\n",
    "    np.logspace(\n",
    "        start=np.log10(1e-9),\n",
    "        stop=np.log10(1),\n",
    "        num=N_sigma), 'S/m')"
   ]
  },
  {
   "cell_type": "markdown",
   "id": "526ff711-019c-4c2c-9e01-63deb717c96b",
   "metadata": {},
   "source": [
    "Assume a fixed mobility of $\\mu = 10^{-8} \\: \\mathrm{m}^2/\\mathrm{V s}$, an ionic mobility.  "
   ]
  },
  {
   "cell_type": "code",
   "execution_count": 16,
   "id": "24c194eb-ad6d-4719-a4ac-8c2fb59a6c98",
   "metadata": {},
   "outputs": [],
   "source": [
    "mu = ureg.Quantity(1e-8, 'm^2/(V s)') "
   ]
  },
  {
   "cell_type": "markdown",
   "id": "9deaef3a-9c27-4db4-862e-ce2bd0e87c9c",
   "metadata": {},
   "source": [
    "As we vary $\\sigma$, we should vary the charge density $\\rho$ to keep the mobility constant."
   ]
  },
  {
   "cell_type": "code",
   "execution_count": 17,
   "id": "d4352308-b526-4106-b58f-cab7cd05addd",
   "metadata": {},
   "outputs": [],
   "source": [
    "rho = (sigma / (qe * mu)).to('1/m^3')"
   ]
  },
  {
   "cell_type": "markdown",
   "id": "3529a11f-0fde-4051-9637-38667d52e9ac",
   "metadata": {},
   "source": [
    "Get ready to run the simulations."
   ]
  },
  {
   "cell_type": "code",
   "execution_count": 18,
   "id": "bb8cfa74-ebe9-44a3-9db9-ab5168973d6c",
   "metadata": {},
   "outputs": [],
   "source": [
    "data = {}        # many simulations\n",
    "data['01'] = {}  # the first simulation"
   ]
  },
  {
   "cell_type": "markdown",
   "id": "91b48b31-c696-4f0b-ac07-72a667a0db40",
   "metadata": {},
   "source": [
    "Loop over conductivities, computing the BLDS spectrum and the friction."
   ]
  },
  {
   "cell_type": "code",
   "execution_count": 19,
   "id": "7dde6b11-ad95-487e-bc42-00891a7896f1",
   "metadata": {},
   "outputs": [
    {
     "name": "stdout",
     "output_type": "stream",
     "text": [
      "CPU times: user 12.1 s, sys: 161 ms, total: 12.2 s\n",
      "Wall time: 12.9 s\n"
     ]
    }
   ],
   "source": [
    "%%time\n",
    "\n",
    "# remember\n",
    "sigma0 = sample1_jit.sigma\n",
    "rho0 =  sample1_jit.rho\n",
    "\n",
    "# set\n",
    "for rho_, sigma_ in zip(rho, sigma):\n",
    "\n",
    "    sample1_jit.rho = rho_.to('1/m^3').magnitude\n",
    "    sample1_jit.sigma = sigma_.to('S/m').magnitude\n",
    "\n",
    "    gamma = gamma_perpendicular_jit(theta1norm_jit, sample1_jit).to('pN s/m')\n",
    "    f_BLDS = blds_perpendicular_jit(theta1norm_jit, sample1_jit, omega_m).to('Hz')\n",
    "    \n",
    "    data['01'][str(sigma_.to('S/m').magnitude)] = {\n",
    "        'omega_m': omega_m,\n",
    "        'f_BLDS': f_BLDS, \n",
    "        'gamma': gamma,\n",
    "        'sigma': ureg.Quantity(sample1_jit.sigma, 'S/m'),\n",
    "        'd': ureg.Quantity(sample1_jit.cantilever.d, 'm'),\n",
    "        'rho': ureg.Quantity(sample1_jit.rho, '1/m^3'),\n",
    "        'LD': ureg.Quantity(sample1_jit.LD, 'm'),\n",
    "        'omega_c': ureg.Quantity(sample1_jit.cantilever.omega_c, 'Hz'),\n",
    "        'omega_0': (ureg.Quantity(sample1_jit.sigma, 'S/m')/epsilon0).to('Hz')}\n",
    "\n",
    "# reset\n",
    "sample1_jit.rho = rho0\n",
    "sample1_jit.sigma = sigma0"
   ]
  },
  {
   "cell_type": "markdown",
   "id": "ff1d47a2-6652-417e-afd3-2faaa5e7dc0c",
   "metadata": {},
   "source": [
    "From `Study 25`, a helper function to plot the BLDS spectra.  Make sure to add up the three terms to get the total BLDS frequency shift."
   ]
  },
  {
   "cell_type": "code",
   "execution_count": 20,
   "id": "2b0e4aa1-bb97-4204-b6cb-6056e181c307",
   "metadata": {},
   "outputs": [],
   "source": [
    "def plotBLDS(data):\n",
    "\n",
    "    rho = np.zeros(len(data))    \n",
    "    for index, key in enumerate(data.keys()):\n",
    "        \n",
    "        rho[index] = data[key]['rho'].to('1/cm^3').magnitude\n",
    "\n",
    "    # colormap = plt.cm.jet\n",
    "    colormap = plt.cm.magma_r\n",
    "    color_list = [colormap(i) for i in np.linspace(0, 1, len(data))]\n",
    "\n",
    "    normalized_colors = mcolors.LogNorm(vmin=min(rho), vmax=max(rho))\n",
    "    scalar_mappable = cm.ScalarMappable(norm=normalized_colors, cmap=colormap)\n",
    "    scalar_mappable.set_array(len(color_list))\n",
    "    \n",
    "    fig, ax = plt.subplots(figsize=(4.5, 3))\n",
    "    for index, key in enumerate(data.keys()):\n",
    "        \n",
    "        with plt.style.context('seaborn-v0_8'):\n",
    "            plt.semilogx(\n",
    "                data[key]['omega_m'].to('Hz').magnitude,\n",
    "                np.abs(data[key]['f_BLDS'].sum(axis=1).to('Hz').magnitude),\n",
    "                '-',\n",
    "                color=color_list[index])\n",
    "\n",
    "    # color bar\n",
    "    clb=plt.colorbar(scalar_mappable, ax=ax)\n",
    "    clb.ax.set_title(r'$\\rho \\: [\\mathrm{cm}^{-3}]$', fontsize=12)\n",
    "    \n",
    "    plt.ylabel('|$\\Delta f_{\\mathrm{BLDS}}$| [Hz]')\n",
    "    plt.xlabel('mod. freq. $\\omega_{\\mathrm{m}}$ [rad/s]')\n",
    "    plt.tight_layout()\n",
    "    plt.show()\n",
    "    \n",
    "    return fig"
   ]
  },
  {
   "cell_type": "markdown",
   "id": "f50c7b8c-318c-424b-8205-cad16fb11e33",
   "metadata": {},
   "source": [
    "Plot every 3rd BLDS spectrum."
   ]
  },
  {
   "cell_type": "code",
   "execution_count": 21,
   "id": "5cbc7a7e-6ffd-41be-8f8b-c0bcc386af98",
   "metadata": {},
   "outputs": [],
   "source": [
    "data['01-short'] = {}\n",
    "for key in list(data['01'].keys())[::3]:\n",
    "    data['01-short'][key] = data['01'][key]"
   ]
  },
  {
   "cell_type": "code",
   "execution_count": 22,
   "id": "e9d1f174-812e-4cfd-8944-96205a211d20",
   "metadata": {},
   "outputs": [
    {
     "data": {
      "image/png": "[encoded data removed]",
      "text/plain": [
       "<Figure size 450x300 with 2 Axes>"
      ]
     },
     "metadata": {},
     "output_type": "display_data"
    }
   ],
   "source": [
    "fig['01'] = plotBLDS(data['01-short'])"
   ]
  },
  {
   "cell_type": "markdown",
   "id": "1c064a5c-0051-4d25-98f7-22bb2976d455",
   "metadata": {},
   "source": [
    "Tweak the `Study 26` code."
   ]
  },
  {
   "cell_type": "code",
   "execution_count": 23,
   "id": "730a7a60-591e-4fdb-8421-407e8d9c4b9c",
   "metadata": {},
   "outputs": [],
   "source": [
    "def plotme(data, sample):\n",
    "\n",
    "    # Loop over the data and gather up the charge density, Debye length, cantilever height,\n",
    "    # friction and BLDS frequency shift at the lowest modulation frequency (approximating\n",
    "    # the zero-frequency limit)\n",
    "    \n",
    "    rho = np.zeros(len(data))\n",
    "    LD = np.zeros(len(data))\n",
    "    d = np.zeros(len(data))\n",
    "    gamma = np.zeros((len(data),3))\n",
    "    blds0 = np.zeros((len(data),3))\n",
    "    omega_0 = np.zeros(len(data))\n",
    "    omega_c = np.zeros(len(data))\n",
    "    \n",
    "    for index, key in enumerate(data.keys()):\n",
    "        \n",
    "        rho[index] = data[key]['rho'].to('1/cm^3').magnitude\n",
    "        LD[index] = data[key]['LD'].to('m').magnitude\n",
    "        d[index] = data[key]['d'].to('m').magnitude\n",
    "        gamma[index] = data[key]['gamma'].to('pN s/m').magnitude\n",
    "        blds0[index] = np.abs(data[key]['f_BLDS'][0,:].to('Hz').magnitude)\n",
    "        omega_0[index] = data[key]['omega_0'].to('Hz').magnitude\n",
    "        omega_c[index] = data[key]['omega_c'].to('Hz').magnitude\n",
    "    \n",
    "    # (Left hand plot) \n",
    "    # Make the x-axis the unitless ratio of the height to Debye length squared,\n",
    "    # which is proportional to charge density.\n",
    "\n",
    "    xL = (d/LD)**2\n",
    "    rho0L = (rho/xL)[0]\n",
    "\n",
    "    # Define functions to convert from xL to rho and back again\n",
    "    \n",
    "    def fwdL(xL):\n",
    "        return xL*rho0L\n",
    "\n",
    "    def revL(rho):\n",
    "        return rho/rho0L\n",
    "\n",
    "    # (Right hand plot)\n",
    "    # Make the x-axis the unitless ratio of omega_0 to omega_c, which\n",
    "    # is proportional to conductivity and therefore charge density\n",
    "\n",
    "    xR = omega_0/(sample.epsilon_s.real.magnitude * omega_c)\n",
    "    rho0R = (rho/xR)[0]\n",
    "    \n",
    "    # Define functions to convert from xR to rho and back again\n",
    "\n",
    "    def fwdR(xR):\n",
    "        return xR*rho0R\n",
    "\n",
    "    def revR(rho):\n",
    "        return rho/rho0R\n",
    "    \n",
    "    # Now make the nice plot\n",
    "    \n",
    "    fig, ax = plt.subplots(1, 2, figsize=(7.5, 5))\n",
    "    \n",
    "    ax2L = ax[0].secondary_xaxis(\"top\", functions=(fwdL,revL))\n",
    "    ax2R = ax[1].secondary_xaxis(\"top\", functions=(fwdR,revR))\n",
    "\n",
    "    BLDS_low, BLDS_high = BLDSlimits(sample, xL)\n",
    "    xL_sub, BLDS_sub = BLDSapprox(sample, xL)\n",
    "\n",
    "    with plt.style.context('seaborn-v0_8'):\n",
    "        ax[0].semilogx(xL, BLDS_low.to('Hz').magnitude, 'k--')\n",
    "        ax[0].semilogx(xL, BLDS_high.to('Hz').magnitude, 'k-.')\n",
    "        ax[0].semilogx(xL_sub, BLDS_sub.to('Hz').magnitude,'k-', label='approx')\n",
    "        ax[0].semilogx(xL, blds0, '-', label=['$K_2$','$K_1$','$K_0$'])\n",
    "        ax[1].semilogx(xR, gamma, '-', label=['$K_2$','$K_1$','$K_0$'])\n",
    "        \n",
    "    ax[0].set_xlabel(r'$(h / \\lambda_{\\mathrm{D}})^2$')\n",
    "    ax[0].set_ylabel(r'|$\\Delta f_{\\mathrm{BLDS}}(\\omega_{\\mathrm{m}}=0)$| [Hz]')\n",
    "    ax[0].legend(fontsize=9)\n",
    "    ax[0].grid()\n",
    "    ax[1].grid()\n",
    "    \n",
    "    ax[1].set_xlabel(r'$\\omega_0/(\\epsilon_{\\mathrm{s}}^{\\prime} \\omega_{\\mathrm{c}})$')\n",
    "    ax[1].set_ylabel(r'$\\gamma_{\\perp}$ [pN s/m]')\n",
    "    ax[1].legend(fontsize=9)\n",
    "    \n",
    "    ax2L.set_xlabel(r'charge density $\\rho$ [cm$^{-3}$]')\n",
    "    ax2R.set_xlabel(r'charge density $\\rho$ [cm$^{-3}$]')\n",
    "    \n",
    "    plt.tight_layout()\n",
    "    plt.show()\n",
    "    \n",
    "    return fig"
   ]
  },
  {
   "cell_type": "markdown",
   "id": "3399ccab-02ef-4d6b-96b9-7f5fd38399f0",
   "metadata": {},
   "source": [
    "Pass sample parameters via `sample1`, where the parameters have units, not via `sample1_jit`, there the parameters don't have units."
   ]
  },
  {
   "cell_type": "code",
   "execution_count": 24,
   "id": "c204a419-1a4b-4932-be3f-2f87f9031844",
   "metadata": {},
   "outputs": [
    {
     "data": {
      "image/png": "[encoded data removed]",
      "text/plain": [
       "<Figure size 750x500 with 2 Axes>"
      ]
     },
     "metadata": {},
     "output_type": "display_data"
    }
   ],
   "source": [
    "fig['02'] = plotme(data['01'], sample1)"
   ]
  },
  {
   "cell_type": "markdown",
   "id": "f302ace2-4894-4c93-872b-2fe4e2cc5c7f",
   "metadata": {},
   "source": [
    "# Save all figures"
   ]
  },
  {
   "cell_type": "code",
   "execution_count": 25,
   "id": "0cfe2931-2058-41e8-a771-06407d373779",
   "metadata": {},
   "outputs": [],
   "source": [
    "if 1:\n",
    "    for num in fig.keys():\n",
    "        figname = THIS + \"Fig-\" + num\n",
    "        fig[num].savefig(figname + '.png', dpi=300)\n",
    "        fig[num].savefig(figname + '.pdf')"
   ]
  },
  {
   "cell_type": "code",
   "execution_count": null,
   "id": "bc3db284-3474-4796-8574-8e0230d3cbef",
   "metadata": {},
   "outputs": [],
   "source": []
  }
 ],
 "metadata": {
  "kernelspec": {
   "display_name": "dissipationtheory",
   "language": "python",
   "name": "dissipationtheory"
  },
  "language_info": {
   "codemirror_mode": {
    "name": "ipython",
    "version": 3
   },
   "file_extension": ".py",
   "mimetype": "text/x-python",
   "name": "python",
   "nbconvert_exporter": "python",
   "pygments_lexer": "ipython3",
   "version": "3.9.10"
  }
 },
 "nbformat": 4,
 "nbformat_minor": 5
}
