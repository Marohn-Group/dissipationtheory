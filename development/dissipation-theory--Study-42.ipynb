{
 "cells": [
  {
   "cell_type": "raw",
   "id": "0d99125c",
   "metadata": {},
   "source": [
    "---\n",
    "title: Representative BLDS spectra and perpendicular friction plotted versus unitless parameters.\n",
    "author: \"John A. Marohn\"\n",
    "date: today\n",
    "abstract: Repeat the Study 39 analysis using Loring's new 2025-04-17 formulas implemented in the dissipation6.py code.  Find that the BLDS frequency diverges at high modulation frequency.\n",
    "toc: true\n",
    "number-sections: true\n",
    "highlight-style: pygments\n",
    "embed-resources: true\n",
    "dpi: 300\n",
    "format:\n",
    "    html:\n",
    "        html-math-method:\n",
    "          method: mathjax\n",
    "          url: \"https://cdn.jsdelivr.net/npm/mathjax@3/es5/tex-mml-chtml.js\"\n",
    "        code-fold: true\n",
    "        code-tools: true\n",
    "jupyter: python3\n",
    "---"
   ]
  },
  {
   "cell_type": "markdown",
   "id": "ef16cead",
   "metadata": {},
   "source": [
    "# Preliminaries"
   ]
  },
  {
   "cell_type": "code",
   "execution_count": 1,
   "id": "a720872b",
   "metadata": {},
   "outputs": [],
   "source": [
    "import numpy as np\n",
    "import matplotlib.pylab as plt\n",
    "import matplotlib.cm as cm\n",
    "import matplotlib.colors as mcolors"
   ]
  },
  {
   "cell_type": "code",
   "execution_count": 2,
   "id": "07bbaffc",
   "metadata": {},
   "outputs": [],
   "source": [
    "from dissipationtheory.constants import ureg, qe, epsilon0\n",
    "from dissipationtheory.dissipation6 import CantileverModel, SampleModel1, SampleModel2\n",
    "from dissipationtheory.dissipation6 import CantileverModelJit, SampleModel1Jit, SampleModel2Jit\n",
    "from dissipationtheory.dissipation6 import theta1norm_jit, theta2norm_jit\n",
    "from dissipationtheory.dissipation6 import gamma_perpendicular_jit, blds_perpendicular_jit\n",
    "from dissipationtheory.dissipation6 import ExptSweepConductivity"
   ]
  },
  {
   "cell_type": "code",
   "execution_count": 3,
   "id": "a4c11932",
   "metadata": {},
   "outputs": [],
   "source": [
    "THIS = 'dissipation-theory--Study-42--'\n",
    "figs = {}"
   ]
  },
  {
   "cell_type": "markdown",
   "id": "d6164ead",
   "metadata": {},
   "source": [
    "# Set up the cantilever"
   ]
  },
  {
   "cell_type": "code",
   "execution_count": 4,
   "id": "7442368b",
   "metadata": {},
   "outputs": [],
   "source": [
    "cantilever = CantileverModel(\n",
    "    f_c = ureg.Quantity(75, 'kHz'),\n",
    "    k_c = ureg.Quantity(2.8, 'N/m'), \n",
    "    V_ts = ureg.Quantity(1, 'V'), \n",
    "    R = ureg.Quantity(35, 'nm'),\n",
    "    angle = ureg.Quantity(20, 'degrees'),\n",
    "    d = ureg.Quantity(38, 'nm'),\n",
    "    z_c = ureg.Quantity(73, 'nm')\n",
    ")"
   ]
  },
  {
   "cell_type": "code",
   "execution_count": 5,
   "id": "1e916be8",
   "metadata": {},
   "outputs": [
    {
     "data": {
      "text/plain": [
       "cantilever\n",
       "\n",
       "         resonance freq = 75.000 kHz\n",
       "                        = 4.712e+05 rad/s\n",
       "        spring constant = 2.800 N/m\n",
       "     tip-sample voltage = 1.000 V\n",
       "                 radius = 35.000 nm\n",
       "        cone half angle = 20.000 degree\n",
       "                 height = 38.000 nm\n",
       "  tip charge z location = 73.000 nm"
      ]
     },
     "execution_count": 5,
     "metadata": {},
     "output_type": "execute_result"
    }
   ],
   "source": [
    "cantilever"
   ]
  },
  {
   "cell_type": "markdown",
   "id": "78540022",
   "metadata": {},
   "source": [
    "# Set up the sample"
   ]
  },
  {
   "cell_type": "markdown",
   "id": "5990d85e",
   "metadata": {},
   "source": [
    "Assume a fixed mobility of $\\mu = 10^{-8} \\: \\mathrm{m}^2/\\mathrm{V s}$, an ionic mobility.  As we vary the conductivity $\\sigma$, we should vary the charge density $\\rho$ to keep the mobility constant.  Pick a starting $\\sigma$ and compute the associated charge density that achieves the above target mobility."
   ]
  },
  {
   "cell_type": "code",
   "execution_count": 6,
   "id": "3923c91d",
   "metadata": {},
   "outputs": [],
   "source": [
    "mu = ureg.Quantity(1e-8, 'm^2/(V s)') \n",
    "sigma = ureg.Quantity(1E-5, 'S/m')\n",
    "rho = (sigma / (qe * mu)).to('1/m^3')"
   ]
  },
  {
   "cell_type": "markdown",
   "id": "102090ad",
   "metadata": {},
   "source": [
    "Set up the sample object."
   ]
  },
  {
   "cell_type": "code",
   "execution_count": 7,
   "id": "753f257e",
   "metadata": {},
   "outputs": [],
   "source": [
    "sample1 = SampleModel1(\n",
    "    cantilever = cantilever,\n",
    "    h_s = ureg.Quantity(7300, 'nm'), # 100 times the sample-charge separation\n",
    "    epsilon_s = ureg.Quantity(complex(20, -0.2), ''),   # change from 20 to 100\n",
    "    sigma = sigma,\n",
    "    rho = rho,\n",
    "    epsilon_d = ureg.Quantity(complex(1e6, 0), ''),\n",
    "    z_r = ureg.Quantity(73, 'nm')\n",
    ")"
   ]
  },
  {
   "cell_type": "markdown",
   "id": "07f8270e",
   "metadata": {},
   "source": [
    "Print out the sample parameters, making sure the mobility is correct."
   ]
  },
  {
   "cell_type": "code",
   "execution_count": 8,
   "id": "2812551f",
   "metadata": {},
   "outputs": [
    {
     "data": {
      "text/plain": [
       "cantilever\n",
       "\n",
       "         resonance freq = 75.000 kHz\n",
       "                        = 4.712e+05 rad/s\n",
       "        spring constant = 2.800 N/m\n",
       "     tip-sample voltage = 1.000 V\n",
       "                 radius = 35.000 nm\n",
       "        cone half angle = 20.000 degree\n",
       "                 height = 38.000 nm\n",
       "  tip charge z location = 73.000 nm\n",
       "\n",
       "semiconductor\n",
       "\n",
       "             epsilon (real) = 20.000\n",
       "             epsilon (imag) = -0.200\n",
       "                  thickness = 7300.0 nm\n",
       "               conductivity = 1.000e-05 S/m\n",
       "             charge density = 6.242e+21 m^{-3}\n",
       "           reference height = 7.300e+01 nm\n",
       "\n",
       "         roll-off frequency = 1.129e+06 Hz\n",
       "                   mobility = 1.000e-08 m^2/(V s)\n",
       "         diffusion constant = 2.585e-10 m^2/s\n",
       "               Debye length = 1.513e+01 nm\n",
       "           diffusion length = 2.342e+01 nm\n",
       "   effective epsilon (real) = 20.000\n",
       "   effective epsilon (imag) = -2.597\n",
       "\n",
       "dielectric\n",
       "\n",
       "  epsilon (real) = 1000000.000\n",
       "  epsilon (imag) = 0.000\n",
       "       thickness = infinite"
      ]
     },
     "execution_count": 8,
     "metadata": {},
     "output_type": "execute_result"
    }
   ],
   "source": [
    "sample1"
   ]
  },
  {
   "cell_type": "markdown",
   "id": "019fe2fa",
   "metadata": {},
   "source": [
    "Create the jit sample object."
   ]
  },
  {
   "cell_type": "code",
   "execution_count": 9,
   "id": "a1f477a0",
   "metadata": {},
   "outputs": [],
   "source": [
    "sample1_jit = SampleModel1Jit(**sample1.args())"
   ]
  },
  {
   "cell_type": "markdown",
   "id": "6807c0b2",
   "metadata": {},
   "source": [
    "# Loop over charge density"
   ]
  },
  {
   "cell_type": "markdown",
   "id": "0932cf31",
   "metadata": {},
   "source": [
    "I am largely echoing the code from `Study 29` here, but with minor improvements.  Set up an array of modulation frequencies and an array of conductivities.\n",
    "\n",
    "For code development, set\n",
    "\n",
    "* `N_omega` = 10\n",
    "* `N_sigma` = 10\n",
    "\n",
    "To make paper-quality figures, rerun with\n",
    "\n",
    "* `N_omega` = 100\n",
    "* `N_sigma` = 200"
   ]
  },
  {
   "cell_type": "code",
   "execution_count": 10,
   "id": "7777d280",
   "metadata": {},
   "outputs": [],
   "source": [
    "N_omega = 10 # 10 or 100\n",
    "N_sigma = 20 # 20 or 200"
   ]
  },
  {
   "cell_type": "code",
   "execution_count": 11,
   "id": "b3edc6d6",
   "metadata": {},
   "outputs": [],
   "source": [
    "omega_m__array = ureg.Quantity(\n",
    "    np.logspace(\n",
    "        start=np.log10(1e1),\n",
    "        stop=np.log10(1e8),\n",
    "        num=N_omega), 'Hz')"
   ]
  },
  {
   "cell_type": "code",
   "execution_count": 12,
   "id": "8fdcc912",
   "metadata": {},
   "outputs": [],
   "source": [
    "sigma__array = ureg.Quantity(\n",
    "    np.logspace(\n",
    "        start=np.log10(1e-10),\n",
    "        stop=np.log10(1),\n",
    "        num=N_sigma), 'S/m')"
   ]
  },
  {
   "cell_type": "markdown",
   "id": "c6370bde",
   "metadata": {},
   "source": [
    "Assume a fixed mobility of $\\mu = 10^{-8} \\: \\mathrm{m}^2/\\mathrm{V s}$, an ionic mobility.  As we vary $\\sigma$, we should vary the charge density $\\rho$ to keep the mobility constant.  Compute a corresponding charge density array."
   ]
  },
  {
   "cell_type": "code",
   "execution_count": 13,
   "id": "50f04d3e",
   "metadata": {},
   "outputs": [],
   "source": [
    "mu = ureg.Quantity(1e-8, 'm^2/(V s)') \n",
    "rho__array = (sigma__array / (qe * mu)).to('1/m^3')"
   ]
  },
  {
   "cell_type": "markdown",
   "id": "4dbbe47a",
   "metadata": {},
   "source": [
    "**New** Roger's new expression depends on $\\omega_{\\mathrm{c}} - \\omega_{\\mathrm{m}}$, which could go to zero.  The cantilever frequency is"
   ]
  },
  {
   "cell_type": "code",
   "execution_count": 14,
   "id": "e28f78c1",
   "metadata": {},
   "outputs": [
    {
     "data": {
      "text/plain": [
       "471.23889803846896"
      ]
     },
     "execution_count": 14,
     "metadata": {},
     "output_type": "execute_result"
    }
   ],
   "source": [
    "sample1.cantilever.omega_c.to('kHz').magnitude"
   ]
  },
  {
   "cell_type": "markdown",
   "id": "fab8ce29",
   "metadata": {},
   "source": [
    "while $\\omega_{\\mathrm{c}} - \\omega_{\\mathrm{m}}$ is"
   ]
  },
  {
   "cell_type": "code",
   "execution_count": 15,
   "id": "2f8ea07c",
   "metadata": {},
   "outputs": [
    {
     "data": {
      "text/plain": [
       "array([ 4.71228898e+02,  4.71178950e+02,  4.70879517e+02,  4.69084463e+02,\n",
       "        4.58323401e+02,  3.93812530e+02,  7.08001468e+00, -2.31132050e+03,\n",
       "       -1.62097665e+04, -9.95287611e+04])"
      ]
     },
     "execution_count": 15,
     "metadata": {},
     "output_type": "execute_result"
    }
   ],
   "source": [
    "(sample1.cantilever.omega_c - omega_m__array).to('kHz').magnitude"
   ]
  },
  {
   "cell_type": "markdown",
   "id": "b70be39e",
   "metadata": {},
   "source": [
    "Or, as we see above, could go negative."
   ]
  },
  {
   "cell_type": "markdown",
   "id": "5e5afa9b",
   "metadata": {},
   "source": [
    "Get ready to run the simuations."
   ]
  },
  {
   "cell_type": "code",
   "execution_count": 16,
   "id": "c78ebce7",
   "metadata": {},
   "outputs": [],
   "source": [
    "expt = {}        # many simulations\n",
    "expt['01'] = {}  # the first simulation"
   ]
  },
  {
   "cell_type": "markdown",
   "id": "66c70378",
   "metadata": {},
   "source": [
    "Loop over conductivities, computing the BLDS spectrum and the friction."
   ]
  },
  {
   "cell_type": "code",
   "execution_count": 17,
   "id": "a885018c",
   "metadata": {},
   "outputs": [
    {
     "name": "stderr",
     "output_type": "stream",
     "text": [
      "/Users/jam99/Dropbox/MarohnGroup__Software_Library/dissipationtheory/dissipationtheory/dissipation6.py:822: IntegrationWarning: The occurrence of roundoff error is detected, which prevents \n",
      "  the requested tolerance from being achieved.  The error may be \n",
      "  underestimated.\n",
      "  integral = integrate.quad(theta, 0., np.inf, args=(sample, omega, power, False))[0]\n",
      "/Users/jam99/Dropbox/MarohnGroup__Software_Library/dissipationtheory/dissipationtheory/dissipation6.py:822: IntegrationWarning: The occurrence of roundoff error is detected, which prevents \n",
      "  the requested tolerance from being achieved.  The error may be \n",
      "  underestimated.\n",
      "  integral = integrate.quad(theta, 0., np.inf, args=(sample, omega, power, False))[0]\n",
      "/Users/jam99/Dropbox/MarohnGroup__Software_Library/dissipationtheory/dissipationtheory/dissipation6.py:822: IntegrationWarning: The occurrence of roundoff error is detected, which prevents \n",
      "  the requested tolerance from being achieved.  The error may be \n",
      "  underestimated.\n",
      "  integral = integrate.quad(theta, 0., np.inf, args=(sample, omega, power, False))[0]\n",
      "/Users/jam99/Dropbox/MarohnGroup__Software_Library/dissipationtheory/dissipationtheory/dissipation6.py:822: IntegrationWarning: The occurrence of roundoff error is detected, which prevents \n",
      "  the requested tolerance from being achieved.  The error may be \n",
      "  underestimated.\n",
      "  integral = integrate.quad(theta, 0., np.inf, args=(sample, omega, power, False))[0]\n",
      "/Users/jam99/Dropbox/MarohnGroup__Software_Library/dissipationtheory/dissipationtheory/dissipation6.py:822: IntegrationWarning: The occurrence of roundoff error is detected, which prevents \n",
      "  the requested tolerance from being achieved.  The error may be \n",
      "  underestimated.\n",
      "  integral = integrate.quad(theta, 0., np.inf, args=(sample, omega, power, False))[0]\n",
      "/Users/jam99/Dropbox/MarohnGroup__Software_Library/dissipationtheory/dissipationtheory/dissipation6.py:822: IntegrationWarning: The occurrence of roundoff error is detected, which prevents \n",
      "  the requested tolerance from being achieved.  The error may be \n",
      "  underestimated.\n",
      "  integral = integrate.quad(theta, 0., np.inf, args=(sample, omega, power, False))[0]\n",
      "/Users/jam99/Dropbox/MarohnGroup__Software_Library/dissipationtheory/dissipationtheory/dissipation6.py:822: IntegrationWarning: The occurrence of roundoff error is detected, which prevents \n",
      "  the requested tolerance from being achieved.  The error may be \n",
      "  underestimated.\n",
      "  integral = integrate.quad(theta, 0., np.inf, args=(sample, omega, power, False))[0]\n",
      "/Users/jam99/Dropbox/MarohnGroup__Software_Library/dissipationtheory/dissipationtheory/dissipation6.py:822: IntegrationWarning: The occurrence of roundoff error is detected, which prevents \n",
      "  the requested tolerance from being achieved.  The error may be \n",
      "  underestimated.\n",
      "  integral = integrate.quad(theta, 0., np.inf, args=(sample, omega, power, False))[0]\n",
      "/Users/jam99/Dropbox/MarohnGroup__Software_Library/dissipationtheory/dissipationtheory/dissipation6.py:822: IntegrationWarning: The occurrence of roundoff error is detected, which prevents \n",
      "  the requested tolerance from being achieved.  The error may be \n",
      "  underestimated.\n",
      "  integral = integrate.quad(theta, 0., np.inf, args=(sample, omega, power, False))[0]\n",
      "/Users/jam99/Dropbox/MarohnGroup__Software_Library/dissipationtheory/dissipationtheory/dissipation6.py:822: IntegrationWarning: The occurrence of roundoff error is detected, which prevents \n",
      "  the requested tolerance from being achieved.  The error may be \n",
      "  underestimated.\n",
      "  integral = integrate.quad(theta, 0., np.inf, args=(sample, omega, power, False))[0]\n",
      "/Users/jam99/Dropbox/MarohnGroup__Software_Library/dissipationtheory/dissipationtheory/dissipation6.py:822: IntegrationWarning: The occurrence of roundoff error is detected, which prevents \n",
      "  the requested tolerance from being achieved.  The error may be \n",
      "  underestimated.\n",
      "  integral = integrate.quad(theta, 0., np.inf, args=(sample, omega, power, False))[0]\n",
      "/Users/jam99/Dropbox/MarohnGroup__Software_Library/dissipationtheory/dissipationtheory/dissipation6.py:822: IntegrationWarning: The occurrence of roundoff error is detected, which prevents \n",
      "  the requested tolerance from being achieved.  The error may be \n",
      "  underestimated.\n",
      "  integral = integrate.quad(theta, 0., np.inf, args=(sample, omega, power, False))[0]\n",
      "/Users/jam99/Dropbox/MarohnGroup__Software_Library/dissipationtheory/dissipationtheory/dissipation6.py:822: IntegrationWarning: The occurrence of roundoff error is detected, which prevents \n",
      "  the requested tolerance from being achieved.  The error may be \n",
      "  underestimated.\n",
      "  integral = integrate.quad(theta, 0., np.inf, args=(sample, omega, power, False))[0]\n"
     ]
    },
    {
     "name": "stdout",
     "output_type": "stream",
     "text": [
      "CPU times: user 501 ms, sys: 9.41 ms, total: 510 ms\n",
      "Wall time: 593 ms\n"
     ]
    },
    {
     "name": "stderr",
     "output_type": "stream",
     "text": [
      "/Users/jam99/Dropbox/MarohnGroup__Software_Library/dissipationtheory/dissipationtheory/dissipation6.py:822: IntegrationWarning: The occurrence of roundoff error is detected, which prevents \n",
      "  the requested tolerance from being achieved.  The error may be \n",
      "  underestimated.\n",
      "  integral = integrate.quad(theta, 0., np.inf, args=(sample, omega, power, False))[0]\n",
      "/Users/jam99/Dropbox/MarohnGroup__Software_Library/dissipationtheory/dissipationtheory/dissipation6.py:822: IntegrationWarning: The occurrence of roundoff error is detected, which prevents \n",
      "  the requested tolerance from being achieved.  The error may be \n",
      "  underestimated.\n",
      "  integral = integrate.quad(theta, 0., np.inf, args=(sample, omega, power, False))[0]\n",
      "/Users/jam99/Dropbox/MarohnGroup__Software_Library/dissipationtheory/dissipationtheory/dissipation6.py:822: IntegrationWarning: The occurrence of roundoff error is detected, which prevents \n",
      "  the requested tolerance from being achieved.  The error may be \n",
      "  underestimated.\n",
      "  integral = integrate.quad(theta, 0., np.inf, args=(sample, omega, power, False))[0]\n",
      "/Users/jam99/Dropbox/MarohnGroup__Software_Library/dissipationtheory/dissipationtheory/dissipation6.py:822: IntegrationWarning: The occurrence of roundoff error is detected, which prevents \n",
      "  the requested tolerance from being achieved.  The error may be \n",
      "  underestimated.\n",
      "  integral = integrate.quad(theta, 0., np.inf, args=(sample, omega, power, False))[0]\n",
      "/Users/jam99/Dropbox/MarohnGroup__Software_Library/dissipationtheory/dissipationtheory/dissipation6.py:822: IntegrationWarning: The occurrence of roundoff error is detected, which prevents \n",
      "  the requested tolerance from being achieved.  The error may be \n",
      "  underestimated.\n",
      "  integral = integrate.quad(theta, 0., np.inf, args=(sample, omega, power, False))[0]\n",
      "/Users/jam99/Dropbox/MarohnGroup__Software_Library/dissipationtheory/dissipationtheory/dissipation6.py:822: IntegrationWarning: The occurrence of roundoff error is detected, which prevents \n",
      "  the requested tolerance from being achieved.  The error may be \n",
      "  underestimated.\n",
      "  integral = integrate.quad(theta, 0., np.inf, args=(sample, omega, power, False))[0]\n",
      "/Users/jam99/Dropbox/MarohnGroup__Software_Library/dissipationtheory/dissipationtheory/dissipation6.py:822: IntegrationWarning: The occurrence of roundoff error is detected, which prevents \n",
      "  the requested tolerance from being achieved.  The error may be \n",
      "  underestimated.\n",
      "  integral = integrate.quad(theta, 0., np.inf, args=(sample, omega, power, False))[0]\n"
     ]
    }
   ],
   "source": [
    "%%time\n",
    "\n",
    "expt['01'] = ExptSweepConductivity('perovskite-like sample')\n",
    "expt['01'].calculate(theta1norm_jit, sample1_jit, omega_m__array, rho__array, sigma__array)"
   ]
  },
  {
   "cell_type": "markdown",
   "id": "8cd94f66",
   "metadata": {},
   "source": [
    "Why do we get errors?"
   ]
  },
  {
   "cell_type": "markdown",
   "id": "f79f606e",
   "metadata": {},
   "source": [
    "# Examine the results"
   ]
  },
  {
   "cell_type": "markdown",
   "id": "4455d4d9",
   "metadata": {},
   "source": [
    "Print out calculation results for the lowest conductivity."
   ]
  },
  {
   "cell_type": "code",
   "execution_count": 18,
   "id": "a1f4a2dd",
   "metadata": {},
   "outputs": [
    {
     "data": {
      "text/plain": [
       "sigma [S/m]                                                     1.0\n",
       "rho [1/cm^3]                                624150909004333842432.0\n",
       "L_D [nm]                                                   0.047843\n",
       "rho scaled 1                                         2328106.511962\n",
       "rho scaled 2                                          116405.325598\n",
       "rho scaled 3                                           15035.562593\n",
       "omega0 [Hz]                                      112940906737.30191\n",
       "omega_c [Hz]                                          471238.898038\n",
       "omega_c scaled                                          11983.40239\n",
       "omega_m [Hz]      [10.0, 59.94842503189409, 359.38136638046257, ...\n",
       "omega_m scaled    [1.77083756256e-09, 1.0615892286279022e-08, 6....\n",
       "f_BLDS [Hz]       [-0.5862980372269911, -0.5862980464513443, -0....\n",
       "gamma [pN s/m]                                             0.000974\n",
       "Name: 19, dtype: object"
      ]
     },
     "execution_count": 18,
     "metadata": {},
     "output_type": "execute_result"
    }
   ],
   "source": [
    "expt['01'].df.iloc[-1]"
   ]
  },
  {
   "cell_type": "markdown",
   "id": "ca165e56",
   "metadata": {},
   "source": [
    "The four columns in the following table are \n",
    "\n",
    "- the modulation frequency $\\omega_{\\mathrm{m}}$ [Hz],\n",
    "- the offset frequency  $\\omega_{-} = \\omega_{\\mathrm{c}} - \\omega_{\\mathrm{m}}$ [Hz],\n",
    "- the BLDS signal $\\Delta f_{\\mathrm{BLDS}}$ at min conductivity, and \n",
    "- the BLDS signal $\\Delta f_{\\mathrm{BLDS}}$ at max conductivity.\n",
    "\n",
    "We can see that $\\Delta f_{\\mathrm{BLDS}}$ diverges as $\\omega_{-} = \\omega_{\\mathrm{c}} - \\omega_{\\mathrm{m}} \\rightarrow 0$ or, equivalently, as $\\omega_{\\mathrm{m}} \\rightarrow \\omega_{\\mathrm{c}}$.  For negative offset $\\omega_{-}$, i.e. $\\omega_{\\mathrm{m}} > \\omega_{\\mathrm{c}}$ the integration returns `nan` (not a number).  Conclude that the $K_2$ integral is not happy with a negative frequency."
   ]
  },
  {
   "cell_type": "code",
   "execution_count": 19,
   "id": "46591e23",
   "metadata": {},
   "outputs": [
    {
     "name": "stdout",
     "output_type": "stream",
     "text": [
      "       10.0    471228.9      -0.531      -0.586\n",
      "       59.9    471178.9      -0.531      -0.586\n",
      "      359.4    470879.5      -0.531      -0.586\n",
      "     2154.4    469084.5      -0.531      -0.586\n",
      "    12915.5    458323.4      -0.531      -0.587\n",
      "    77426.4    393812.5      -0.545      -0.603\n",
      "   464158.9      7080.0     -17.795     -19.659\n",
      "  2782559.4  -2311320.5         nan         nan\n",
      " 16681005.4 -16209766.5         nan         nan\n",
      "100000000.0 -99528761.1         nan         nan\n"
     ]
    }
   ],
   "source": [
    "offset = (sample1.cantilever.omega_c - omega_m__array).to('Hz').magnitude\n",
    "\n",
    "for a, b, c, d, in zip(\n",
    "    expt['01'].df.iloc[0]['omega_m [Hz]'],\n",
    "    offset,\n",
    "    expt['01'].df.iloc[0]['f_BLDS [Hz]'],\n",
    "    expt['01'].df.iloc[-1]['f_BLDS [Hz]']):\n",
    "    \n",
    "    print('{:11.1f} {:11.1f} {:11.3f} {:11.3f}'.format(a,b,c,d))"
   ]
  },
  {
   "cell_type": "markdown",
   "id": "a765301c",
   "metadata": {},
   "source": [
    "# Understand the results"
   ]
  },
  {
   "cell_type": "code",
   "execution_count": 20,
   "id": "4f5d9af0",
   "metadata": {},
   "outputs": [],
   "source": [
    "from dissipationtheory.dissipation6 import K_jit"
   ]
  },
  {
   "cell_type": "markdown",
   "id": "ce8cac9e",
   "metadata": {},
   "source": [
    "The two columns in the following table are\n",
    "\n",
    "- the offset frequency  $\\omega_{-} = \\omega_{\\mathrm{c}} - \\omega_{\\mathrm{m}}$ [Hz] and\n",
    "- the integral $K_2(\\omega_{-})$ [$\\mu\\mathrm{m}^{-3}$].\n",
    "\n",
    "We can see that $K_2(\\omega_{-})$ is well-behaved as $\\omega_{-} \\rightarrow 0$ but is not well behaved when $\\omega_{-} < 0$."
   ]
  },
  {
   "cell_type": "code",
   "execution_count": 21,
   "id": "d1d5c32f",
   "metadata": {},
   "outputs": [
    {
     "name": "stdout",
     "output_type": "stream",
     "text": [
      "   471228.9     642.3629986\n",
      "   471178.9     642.3629986\n",
      "   470879.5     642.3629986\n",
      "   469084.5     642.3629986\n",
      "   458323.4     642.3629986\n",
      "   393812.5     642.3629987\n",
      "     7080.0     642.3629989\n",
      " -2311320.5             nan\n",
      "-16209766.5             nan\n",
      "-99528761.1             nan\n"
     ]
    },
    {
     "name": "stderr",
     "output_type": "stream",
     "text": [
      "/Users/jam99/Dropbox/MarohnGroup__Software_Library/dissipationtheory/dissipationtheory/dissipation6.py:822: IntegrationWarning: The occurrence of roundoff error is detected, which prevents \n",
      "  the requested tolerance from being achieved.  The error may be \n",
      "  underestimated.\n",
      "  integral = integrate.quad(theta, 0., np.inf, args=(sample, omega, power, False))[0]\n"
     ]
    }
   ],
   "source": [
    "for delta in offset:\n",
    "    K2 = K_jit(2, theta1norm_jit, sample1_jit, delta, False).to('um^-3').magnitude\n",
    "    print('{:11.1f} {:15.7f}'.format(delta, K2))"
   ]
  },
  {
   "cell_type": "markdown",
   "id": "d601aac6",
   "metadata": {},
   "source": [
    "$K_2$ at zero frequency diverges."
   ]
  },
  {
   "cell_type": "code",
   "execution_count": 22,
   "id": "2c7ddf24",
   "metadata": {},
   "outputs": [
    {
     "ename": "ZeroDivisionError",
     "evalue": "division by zero",
     "output_type": "error",
     "traceback": [
      "\u001b[0;31m---------------------------------------------------------------------------\u001b[0m",
      "\u001b[0;31mZeroDivisionError\u001b[0m                         Traceback (most recent call last)",
      "Cell \u001b[0;32mIn[22], line 1\u001b[0m\n\u001b[0;32m----> 1\u001b[0m \u001b[43mK_jit\u001b[49m\u001b[43m(\u001b[49m\u001b[38;5;241;43m2\u001b[39;49m\u001b[43m,\u001b[49m\u001b[43m \u001b[49m\u001b[43mtheta1norm_jit\u001b[49m\u001b[43m,\u001b[49m\u001b[43m \u001b[49m\u001b[43msample1_jit\u001b[49m\u001b[43m,\u001b[49m\u001b[43m \u001b[49m\u001b[38;5;241;43m0.\u001b[39;49m\u001b[43m,\u001b[49m\u001b[43m \u001b[49m\u001b[38;5;28;43;01mFalse\u001b[39;49;00m\u001b[43m)\u001b[49m\u001b[38;5;241m.\u001b[39mto(\u001b[38;5;124m'\u001b[39m\u001b[38;5;124mum^-3\u001b[39m\u001b[38;5;124m'\u001b[39m)\u001b[38;5;241m.\u001b[39mmagnitude\n",
      "File \u001b[0;32m~/Dropbox/MarohnGroup__Software_Library/dissipationtheory/dissipationtheory/dissipation6.py:822\u001b[0m, in \u001b[0;36mK_jit\u001b[0;34m(power, theta, sample, omega, isImag)\u001b[0m\n\u001b[1;32m    820\u001b[0m     integral \u001b[38;5;241m=\u001b[39m integrate\u001b[38;5;241m.\u001b[39mquad(theta, \u001b[38;5;241m0.\u001b[39m, np\u001b[38;5;241m.\u001b[39minf, args\u001b[38;5;241m=\u001b[39m(sample, omega, power, \u001b[38;5;28;01mTrue\u001b[39;00m))[\u001b[38;5;241m0\u001b[39m]\n\u001b[1;32m    821\u001b[0m \u001b[38;5;28;01melse\u001b[39;00m:\n\u001b[0;32m--> 822\u001b[0m     integral \u001b[38;5;241m=\u001b[39m \u001b[43mintegrate\u001b[49m\u001b[38;5;241;43m.\u001b[39;49m\u001b[43mquad\u001b[49m\u001b[43m(\u001b[49m\u001b[43mtheta\u001b[49m\u001b[43m,\u001b[49m\u001b[43m \u001b[49m\u001b[38;5;241;43m0.\u001b[39;49m\u001b[43m,\u001b[49m\u001b[43m \u001b[49m\u001b[43mnp\u001b[49m\u001b[38;5;241;43m.\u001b[39;49m\u001b[43minf\u001b[49m\u001b[43m,\u001b[49m\u001b[43m \u001b[49m\u001b[43margs\u001b[49m\u001b[38;5;241;43m=\u001b[39;49m\u001b[43m(\u001b[49m\u001b[43msample\u001b[49m\u001b[43m,\u001b[49m\u001b[43m \u001b[49m\u001b[43momega\u001b[49m\u001b[43m,\u001b[49m\u001b[43m \u001b[49m\u001b[43mpower\u001b[49m\u001b[43m,\u001b[49m\u001b[43m \u001b[49m\u001b[38;5;28;43;01mFalse\u001b[39;49;00m\u001b[43m)\u001b[49m\u001b[43m)\u001b[49m[\u001b[38;5;241m0\u001b[39m]\n\u001b[1;32m    824\u001b[0m \u001b[38;5;28;01mreturn\u001b[39;00m (prefactor \u001b[38;5;241m*\u001b[39m integral)\u001b[38;5;241m.\u001b[39mto_base_units()\n",
      "File \u001b[0;32m~/Library/Caches/pypoetry/virtualenvs/dissipationtheory-Uvi85QQO-py3.9/lib/python3.9/site-packages/scipy/integrate/_quadpack_py.py:464\u001b[0m, in \u001b[0;36mquad\u001b[0;34m(func, a, b, args, full_output, epsabs, epsrel, limit, points, weight, wvar, wopts, maxp1, limlst, complex_func)\u001b[0m\n\u001b[1;32m    461\u001b[0m     \u001b[38;5;28;01mreturn\u001b[39;00m retval\n\u001b[1;32m    463\u001b[0m \u001b[38;5;28;01mif\u001b[39;00m weight \u001b[38;5;129;01mis\u001b[39;00m \u001b[38;5;28;01mNone\u001b[39;00m:\n\u001b[0;32m--> 464\u001b[0m     retval \u001b[38;5;241m=\u001b[39m \u001b[43m_quad\u001b[49m\u001b[43m(\u001b[49m\u001b[43mfunc\u001b[49m\u001b[43m,\u001b[49m\u001b[43m \u001b[49m\u001b[43ma\u001b[49m\u001b[43m,\u001b[49m\u001b[43m \u001b[49m\u001b[43mb\u001b[49m\u001b[43m,\u001b[49m\u001b[43m \u001b[49m\u001b[43margs\u001b[49m\u001b[43m,\u001b[49m\u001b[43m \u001b[49m\u001b[43mfull_output\u001b[49m\u001b[43m,\u001b[49m\u001b[43m \u001b[49m\u001b[43mepsabs\u001b[49m\u001b[43m,\u001b[49m\u001b[43m \u001b[49m\u001b[43mepsrel\u001b[49m\u001b[43m,\u001b[49m\u001b[43m \u001b[49m\u001b[43mlimit\u001b[49m\u001b[43m,\u001b[49m\n\u001b[1;32m    465\u001b[0m \u001b[43m                   \u001b[49m\u001b[43mpoints\u001b[49m\u001b[43m)\u001b[49m\n\u001b[1;32m    466\u001b[0m \u001b[38;5;28;01melse\u001b[39;00m:\n\u001b[1;32m    467\u001b[0m     \u001b[38;5;28;01mif\u001b[39;00m points \u001b[38;5;129;01mis\u001b[39;00m \u001b[38;5;129;01mnot\u001b[39;00m \u001b[38;5;28;01mNone\u001b[39;00m:\n",
      "File \u001b[0;32m~/Library/Caches/pypoetry/virtualenvs/dissipationtheory-Uvi85QQO-py3.9/lib/python3.9/site-packages/scipy/integrate/_quadpack_py.py:613\u001b[0m, in \u001b[0;36m_quad\u001b[0;34m(func, a, b, args, full_output, epsabs, epsrel, limit, points)\u001b[0m\n\u001b[1;32m    611\u001b[0m         \u001b[38;5;28;01mreturn\u001b[39;00m _quadpack\u001b[38;5;241m.\u001b[39m_qagse(func,a,b,args,full_output,epsabs,epsrel,limit)\n\u001b[1;32m    612\u001b[0m     \u001b[38;5;28;01melse\u001b[39;00m:\n\u001b[0;32m--> 613\u001b[0m         \u001b[38;5;28;01mreturn\u001b[39;00m \u001b[43m_quadpack\u001b[49m\u001b[38;5;241;43m.\u001b[39;49m\u001b[43m_qagie\u001b[49m\u001b[43m(\u001b[49m\u001b[43mfunc\u001b[49m\u001b[43m,\u001b[49m\u001b[43m \u001b[49m\u001b[43mbound\u001b[49m\u001b[43m,\u001b[49m\u001b[43m \u001b[49m\u001b[43minfbounds\u001b[49m\u001b[43m,\u001b[49m\u001b[43m \u001b[49m\u001b[43margs\u001b[49m\u001b[43m,\u001b[49m\u001b[43m \u001b[49m\u001b[43mfull_output\u001b[49m\u001b[43m,\u001b[49m\u001b[43m \u001b[49m\n\u001b[1;32m    614\u001b[0m \u001b[43m                                \u001b[49m\u001b[43mepsabs\u001b[49m\u001b[43m,\u001b[49m\u001b[43m \u001b[49m\u001b[43mepsrel\u001b[49m\u001b[43m,\u001b[49m\u001b[43m \u001b[49m\u001b[43mlimit\u001b[49m\u001b[43m)\u001b[49m\n\u001b[1;32m    615\u001b[0m \u001b[38;5;28;01melse\u001b[39;00m:\n\u001b[1;32m    616\u001b[0m     \u001b[38;5;28;01mif\u001b[39;00m infbounds \u001b[38;5;241m!=\u001b[39m \u001b[38;5;241m0\u001b[39m:\n",
      "\u001b[0;31mZeroDivisionError\u001b[0m: division by zero"
     ]
    }
   ],
   "source": [
    "K_jit(2, theta1norm_jit, sample1_jit, 0., False).to('um^-3').magnitude"
   ]
  },
  {
   "cell_type": "markdown",
   "id": "46cee22a",
   "metadata": {},
   "source": [
    "$K_2$ at a frequency of $0.0001$ converges."
   ]
  },
  {
   "cell_type": "code",
   "execution_count": 23,
   "id": "2aefcdfc",
   "metadata": {},
   "outputs": [
    {
     "data": {
      "text/plain": [
       "642.3629989113796"
      ]
     },
     "execution_count": 23,
     "metadata": {},
     "output_type": "execute_result"
    }
   ],
   "source": [
    "K_jit(2, theta1norm_jit, sample1_jit, 0.0001, False).to('um^-3').magnitude"
   ]
  },
  {
   "cell_type": "markdown",
   "id": "4be5816f",
   "metadata": {},
   "source": [
    "$K_2$ at negative frequency fails to converge."
   ]
  },
  {
   "cell_type": "code",
   "execution_count": 24,
   "id": "9f8e4a7b",
   "metadata": {},
   "outputs": [
    {
     "data": {
      "text/plain": [
       "nan"
      ]
     },
     "execution_count": 24,
     "metadata": {},
     "output_type": "execute_result"
    }
   ],
   "source": [
    "K_jit(2, theta1norm_jit, sample1_jit, -0.0001, False).to('um^-3').magnitude"
   ]
  },
  {
   "cell_type": "markdown",
   "id": "87d0332d",
   "metadata": {},
   "source": [
    "# Plot the integrand"
   ]
  },
  {
   "cell_type": "markdown",
   "id": "7a44e8c4",
   "metadata": {},
   "source": [
    "## Sample Model 1"
   ]
  },
  {
   "cell_type": "code",
   "execution_count": 25,
   "id": "2b77ef1b",
   "metadata": {},
   "outputs": [],
   "source": [
    "mu = ureg.Quantity(1e-8, 'm^2/(V s)') \n",
    "sigma = ureg.Quantity(1E-5, 'S/m')\n",
    "rho = (sigma / (qe * mu)).to('1/m^3')\n",
    "\n",
    "sample1 = SampleModel1(\n",
    "    cantilever = cantilever,\n",
    "    h_s = ureg.Quantity(7300, 'nm'), # 100 times the sample-charge separation\n",
    "    epsilon_s = ureg.Quantity(complex(20, -0.2), ''),   # change from 20 to 100\n",
    "    sigma = sigma,\n",
    "    rho = rho,\n",
    "    epsilon_d = ureg.Quantity(complex(1e6, 0), ''),\n",
    "    z_r = ureg.Quantity(73, 'nm')\n",
    ")\n",
    "\n",
    "sample1_jit = SampleModel1Jit(**sample1.args())"
   ]
  },
  {
   "cell_type": "markdown",
   "id": "844ae091",
   "metadata": {},
   "source": [
    "The Sample 1 integrand is well behaved at low frequency."
   ]
  },
  {
   "cell_type": "code",
   "execution_count": 26,
   "id": "2a416629",
   "metadata": {},
   "outputs": [],
   "source": [
    "psi = np.logspace(-5,5,100)"
   ]
  },
  {
   "cell_type": "code",
   "execution_count": 27,
   "id": "6ae57fc8",
   "metadata": {},
   "outputs": [],
   "source": [
    "omega = 0.001\n",
    "theta1 = np.array([theta1norm_jit(y, sample1_jit, omega, 2, False) for y in psi])"
   ]
  },
  {
   "cell_type": "code",
   "execution_count": 28,
   "id": "e024bde1",
   "metadata": {},
   "outputs": [
    {
     "data": {
      "image/png": "[encoded data removed]",
      "text/plain": [
       "<Figure size 350x200 with 1 Axes>"
      ]
     },
     "metadata": {},
     "output_type": "display_data"
    }
   ],
   "source": [
    "fig = plt.figure(figsize=(3.5,2.0))\n",
    "plt.semilogx(psi, theta1)\n",
    "plt.xlabel('y')\n",
    "plt.ylabel(r'Model 1 integrand')\n",
    "plt.show()"
   ]
  },
  {
   "cell_type": "markdown",
   "id": "e7051433",
   "metadata": {},
   "source": [
    "The Sample 1 integrand returns nonsense at negative frequency."
   ]
  },
  {
   "cell_type": "code",
   "execution_count": 29,
   "id": "131fb7ac",
   "metadata": {},
   "outputs": [
    {
     "data": {
      "text/plain": [
       "nan"
      ]
     },
     "execution_count": 29,
     "metadata": {},
     "output_type": "execute_result"
    }
   ],
   "source": [
    "theta1norm_jit(0., sample1_jit, -0.001, 2, False)"
   ]
  },
  {
   "cell_type": "markdown",
   "id": "4735fb27",
   "metadata": {},
   "source": [
    "## Sample Model 2"
   ]
  },
  {
   "cell_type": "code",
   "execution_count": 30,
   "id": "1d349dc9",
   "metadata": {},
   "outputs": [],
   "source": [
    "mu = ureg.Quantity(1e-8, 'm^2/(V s)') \n",
    "sigma = ureg.Quantity(1E-5, 'S/m')\n",
    "rho = (sigma / (qe * mu)).to('1/m^3')\n",
    "\n",
    "sample2 = SampleModel2(\n",
    "    cantilever = cantilever,\n",
    "    h_d = ureg.Quantity(0, 'nm'),\n",
    "    epsilon_d = ureg.Quantity(complex(1, 0), ''),\n",
    "    epsilon_s = ureg.Quantity(complex(20, -0.2), ''), \n",
    "    sigma = sigma,\n",
    "    rho = rho,\n",
    "    z_r = ureg.Quantity(73, 'nm')\n",
    ")\n",
    "\n",
    "sample2_jit = SampleModel2Jit(**sample2.args())"
   ]
  },
  {
   "cell_type": "markdown",
   "id": "4d1d2cec",
   "metadata": {},
   "source": [
    "The Sample 2 integrand is well behaved at low frequency."
   ]
  },
  {
   "cell_type": "code",
   "execution_count": 31,
   "id": "7edd09c5",
   "metadata": {},
   "outputs": [],
   "source": [
    "omega = 0.001\n",
    "theta2 = np.array([theta2norm_jit(y, sample2_jit, omega, 2, False) for y in psi])"
   ]
  },
  {
   "cell_type": "code",
   "execution_count": 32,
   "id": "16e2cf38",
   "metadata": {},
   "outputs": [
    {
     "data": {
      "image/png": "[encoded data removed]",
      "text/plain": [
       "<Figure size 350x200 with 1 Axes>"
      ]
     },
     "metadata": {},
     "output_type": "display_data"
    }
   ],
   "source": [
    "fig = plt.figure(figsize=(3.5,2.0))\n",
    "plt.semilogx(psi, theta2)\n",
    "plt.xlabel('y')\n",
    "plt.ylabel(r'Model 2 integrand')\n",
    "plt.show()"
   ]
  },
  {
   "cell_type": "markdown",
   "id": "9116e53e",
   "metadata": {},
   "source": [
    "The Sample 2 integrand returns nonsense at negative frequency."
   ]
  },
  {
   "cell_type": "code",
   "execution_count": 33,
   "id": "6e3fb1eb",
   "metadata": {},
   "outputs": [
    {
     "data": {
      "text/plain": [
       "nan"
      ]
     },
     "execution_count": 33,
     "metadata": {},
     "output_type": "execute_result"
    }
   ],
   "source": [
    "theta2norm_jit(0., sample2_jit, -0.001, 2, False)"
   ]
  },
  {
   "cell_type": "markdown",
   "id": "7fb607f2",
   "metadata": {},
   "source": [
    "## Model 1 and Model 2 difference"
   ]
  },
  {
   "cell_type": "markdown",
   "id": "17f6da64",
   "metadata": {},
   "source": [
    "The difference in the two integrands is very very small."
   ]
  },
  {
   "cell_type": "code",
   "execution_count": 35,
   "id": "97226660",
   "metadata": {},
   "outputs": [
    {
     "data": {
      "image/png": "[encoded data removed]",
      "text/plain": [
       "<Figure size 350x200 with 1 Axes>"
      ]
     },
     "metadata": {},
     "output_type": "display_data"
    }
   ],
   "source": [
    "fig = plt.figure(figsize=(3.5,2.0))\n",
    "plt.semilogx(psi, theta2 - theta1)\n",
    "plt.xlabel('y')\n",
    "plt.ylabel('difference in integrands')\n",
    "plt.show()"
   ]
  },
  {
   "cell_type": "markdown",
   "id": "953bbfbe",
   "metadata": {},
   "source": [
    "# Plot the results"
   ]
  },
  {
   "cell_type": "code",
   "execution_count": 45,
   "id": "b4167e89",
   "metadata": {},
   "outputs": [
    {
     "data": {
      "image/png": "[encoded data removed]",
      "text/plain": [
       "<Figure size 350x250 with 2 Axes>"
      ]
     },
     "metadata": {},
     "output_type": "display_data"
    }
   ],
   "source": [
    "figs['01'] = expt['01'].plot_BLDS(n=2, scaled=False)"
   ]
  },
  {
   "cell_type": "code",
   "execution_count": 46,
   "id": "36b0fedf",
   "metadata": {},
   "outputs": [
    {
     "data": {
      "image/png": "[encoded data removed]",
      "text/plain": [
       "<Figure size 350x250 with 2 Axes>"
      ]
     },
     "execution_count": 46,
     "metadata": {},
     "output_type": "execute_result"
    }
   ],
   "source": [
    "figs['01'].gca().set_ylim([0.5,1.2]);\n",
    "figs['01']"
   ]
  },
  {
   "cell_type": "code",
   "execution_count": 47,
   "id": "7c40c69b",
   "metadata": {},
   "outputs": [
    {
     "data": {
      "image/png": "[encoded data removed]",
      "text/plain": [
       "<Figure size 350x250 with 2 Axes>"
      ]
     },
     "metadata": {},
     "output_type": "display_data"
    }
   ],
   "source": [
    "figs['02'] = expt['01'].plot_BLDS(n=2, scaled=True)"
   ]
  },
  {
   "cell_type": "code",
   "execution_count": 43,
   "id": "5a00d8c6",
   "metadata": {},
   "outputs": [
    {
     "data": {
      "image/png": "[encoded data removed]",
      "text/plain": [
       "<Figure size 400x275 with 1 Axes>"
      ]
     },
     "metadata": {},
     "output_type": "display_data"
    }
   ],
   "source": [
    "figs['03'] = expt['01'].plot_BLDS_zero()"
   ]
  },
  {
   "cell_type": "code",
   "execution_count": 42,
   "id": "6c1a9dbc",
   "metadata": {},
   "outputs": [
    {
     "data": {
      "image/png": "[encoded data removed]",
      "text/plain": [
       "<Figure size 350x250 with 1 Axes>"
      ]
     },
     "metadata": {},
     "output_type": "display_data"
    }
   ],
   "source": [
    "figs['04'] = expt['01'].plot_friction()"
   ]
  },
  {
   "cell_type": "markdown",
   "id": "e200a858",
   "metadata": {},
   "source": [
    "::: {.content-hidden when-format=\"html\"}\n",
    "\n",
    "# Save the figures"
   ]
  },
  {
   "cell_type": "code",
   "execution_count": 41,
   "id": "cc073a76",
   "metadata": {},
   "outputs": [],
   "source": [
    "if 0:\n",
    "    for num in figs.keys():\n",
    "        figname = THIS + \"Fig-\" + num\n",
    "        figs[num].savefig(figname + '.png', dpi=300)\n",
    "        figs[num].savefig(figname + '.pdf')"
   ]
  },
  {
   "cell_type": "markdown",
   "id": "9790ba08",
   "metadata": {},
   "source": [
    ":::"
   ]
  },
  {
   "cell_type": "markdown",
   "id": "72c6b3e4",
   "metadata": {},
   "source": [
    "::: {.content-hidden when-format=\"html\"}\n",
    "\n",
    "# Formatting notes\n",
    "\n",
    "The header at the top of this file is for creating a nicely-formatted `.html` document using the program `quarto` ([link](https://quarto.org/)).  To create nicely-formated `.html`versions of this notebook, run `quarto` from the command line as follows\n",
    "\n",
    "    quarto render dissipation-theory--Study-42.ipynb \n",
    "\n",
    "Other useful information about this notebook:\n",
    "\n",
    "- Filename: `dissipation-theory--Study-42.ipynb`\n",
    "- Continued from: `dissipation-theory--Study-39.ipynb`\n",
    "- Continued to: ---\n",
    "\n",
    ":::"
   ]
  },
  {
   "cell_type": "code",
   "execution_count": null,
   "id": "62dad4af",
   "metadata": {},
   "outputs": [],
   "source": []
  }
 ],
 "metadata": {
  "kernelspec": {
   "display_name": "dissipationtheory",
   "language": "python",
   "name": "dissipationtheory"
  },
  "language_info": {
   "codemirror_mode": {
    "name": "ipython",
    "version": 3
   },
   "file_extension": ".py",
   "mimetype": "text/x-python",
   "name": "python",
   "nbconvert_exporter": "python",
   "pygments_lexer": "ipython3",
   "version": "3.9.10"
  },
  "toc": {
   "base_numbering": 1,
   "nav_menu": {},
   "number_sections": true,
   "sideBar": true,
   "skip_h1_title": false,
   "title_cell": "Table of Contents",
   "title_sidebar": "Contents",
   "toc_cell": false,
   "toc_position": {},
   "toc_section_display": true,
   "toc_window_display": true
  }
 },
 "nbformat": 4,
 "nbformat_minor": 5
}
