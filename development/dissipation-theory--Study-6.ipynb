{
 "cells": [
  {
   "cell_type": "markdown",
   "id": "f0917112-7c88-4984-a554-22ee658b69d6",
   "metadata": {},
   "source": [
    "# Summary\n",
    "\n",
    "* Name: `dissipation-theory--Study-6.ipynb`\n",
    "* Author: John A. Marohn\n",
    "* Date: 2023-09-30\n",
    "* Continued from: `dissipation-theory--Study-5.ipynb`\n",
    "* Continued to: `dissipation-theory--Study-7.ipynb`\n",
    "* Reproduce the friction $\\gamma_{\\parallel}$ versus charge density $\\rho$ plots in Lekkala2013 Figure 7(b) using the functions in `dissipationtheory.dissipation.py`.  The computation is carried out over 40 charge densities, for 4 charge mobilities, and using Model I and Model II in the paper.  The computation in done two ways -- in pure Python and in `numba`-compiled Python.  The computation takes approximately 2.4 min in pure Python and 0.6 s in `numba`-compiled Python."
   ]
  },
  {
   "cell_type": "markdown",
   "id": "e7113f90-f7c2-4387-ba98-9b9d378dc3f0",
   "metadata": {},
   "source": [
    "# Preliminaries"
   ]
  },
  {
   "cell_type": "code",
   "execution_count": null,
   "id": "b6acc92c-2446-42de-ba27-ebfb8481cfed",
   "metadata": {},
   "outputs": [],
   "source": [
    "from dissipationtheory.constants import ureg, epsilon0, qe\n",
    "from dissipationtheory.capacitance import CsphereOverSemi\n",
    "\n",
    "from dissipationtheory.dissipation import CantileverModel, SampleModel1,  SampleModel2\n",
    "from dissipationtheory.dissipation import theta1norm, theta2norm, gamma_parallel\n",
    "from dissipationtheory.dissipation import gamma_parallel_approx\n",
    "\n",
    "from dissipationtheory.dissipation import CantileverModelJit, SampleModel1Jit, SampleModel2Jit\n",
    "from dissipationtheory.dissipation import theta1norm_jit, theta2norm_jit, gamma_parallel_jit"
   ]
  },
  {
   "cell_type": "code",
   "execution_count": null,
   "id": "c69f6664-ba91-4bab-90f8-8f83509b6867",
   "metadata": {},
   "outputs": [],
   "source": [
    "import pandas as pd\n",
    "import numpy as np\n",
    "from tqdm import tqdm\n",
    "import matplotlib.pyplot as plt"
   ]
  },
  {
   "cell_type": "code",
   "execution_count": 2,
   "id": "8aae8245-7a8d-4317-b959-9bac841b37d9",
   "metadata": {},
   "outputs": [],
   "source": [
    "THIS = 'dissipation-theory--Study-6'"
   ]
  },
  {
   "cell_type": "markdown",
   "id": "ad4d391d-2152-47a4-8ec7-692938cfdf05",
   "metadata": {},
   "source": [
    "# Read in digitized data"
   ]
  },
  {
   "cell_type": "code",
   "execution_count": 3,
   "id": "86970808-1810-44c5-bad6-a1d10696e0c6",
   "metadata": {},
   "outputs": [],
   "source": [
    "keys = ['1.5e-01','4.0e-07','2.7e-10','6.0e-14']\n",
    "\n",
    "names = ['Lekkala2013--Fig7b--1.5e-01.csv', \n",
    "         'Lekkala2013--Fig7b--4.0e-07.csv',\n",
    "         'Lekkala2013--Fig7b--2.7e-10.csv',\n",
    "         'Lekkala2013--Fig7b--6.0e-14.csv']\n",
    "\n",
    "Figure7b_original = {}\n",
    "for key, name in zip(keys, names):\n",
    "    Figure7b_original[key] = pd.read_csv(name, names=['rho', 'gamma'])"
   ]
  },
  {
   "cell_type": "markdown",
   "id": "8d85614d-3157-4fc7-8a82-3ee5b646bab6",
   "metadata": {},
   "source": [
    "# Run the simulations (pure Python)"
   ]
  },
  {
   "cell_type": "markdown",
   "id": "f211920a-d1c3-4907-91da-9457af868614",
   "metadata": {},
   "source": [
    "## Sample 1"
   ]
  },
  {
   "cell_type": "code",
   "execution_count": 4,
   "id": "c72df272-b453-42b6-a3d4-0c574b248be8",
   "metadata": {},
   "outputs": [],
   "source": [
    "sample1 = SampleModel1(\n",
    "\n",
    "        cantilever = CantileverModel(\n",
    "            f_c = ureg.Quantity(81, 'kHz'), \n",
    "            V_ts = ureg.Quantity(3, 'V'), \n",
    "            R = ureg.Quantity(80, 'nm'), \n",
    "            d = ureg.Quantity(300, 'nm')),\n",
    "        h_s = ureg.Quantity(1e6, 'nm'),\n",
    "        epsilon_s = ureg.Quantity(complex(11.9, -0.05), ''),\n",
    "        mu = ureg.Quantity(2.7e-10, 'm^2/(V s)'),\n",
    "        rho = ureg.Quantity(1e21, '1/m^3'),\n",
    "        epsilon_d = ureg.Quantity(complex(11.9, -0.05), ''),\n",
    "        z_r = ureg.Quantity(300, 'nm')\n",
    "    )"
   ]
  },
  {
   "cell_type": "markdown",
   "id": "d3cb7fc8-3494-4781-a9d9-9087bf6852b6",
   "metadata": {},
   "source": [
    "## Sample 2"
   ]
  },
  {
   "cell_type": "code",
   "execution_count": 5,
   "id": "53291412-089d-4825-a783-e8c19d298ff8",
   "metadata": {},
   "outputs": [],
   "source": [
    "sample2 = SampleModel2(\n",
    "\n",
    "        cantilever = CantileverModel(\n",
    "            f_c = ureg.Quantity(81, 'kHz'), \n",
    "            V_ts = ureg.Quantity(3, 'V'), \n",
    "            R = ureg.Quantity(80, 'nm'), \n",
    "            d = ureg.Quantity(300, 'nm')),\n",
    "        h_d = ureg.Quantity(0., 'nm'),\n",
    "        epsilon_d = ureg.Quantity(complex(11.9, -0.05), ''),\n",
    "        epsilon_s = ureg.Quantity(complex(11.9, -0.05), ''),\n",
    "        mu = ureg.Quantity(2.7e-10, 'm^2/(V s)'),\n",
    "        rho = ureg.Quantity(1e21, '1/m^3'),\n",
    "        z_r = ureg.Quantity(300, 'nm')\n",
    "    )"
   ]
  },
  {
   "cell_type": "markdown",
   "id": "b7140e68-913a-49af-9623-aa8b747522fe",
   "metadata": {},
   "source": [
    "## Loop"
   ]
  },
  {
   "cell_type": "markdown",
   "id": "20ffe64e-f279-4c30-a9f7-8bc5624aa388",
   "metadata": {},
   "source": [
    "Loop over the mobilities in the figure and compute the parallel friction at logarithmically spaced charge densities.  This computation takes about 2 minutes to run."
   ]
  },
  {
   "cell_type": "code",
   "execution_count": 6,
   "id": "20db3c7e-123a-41c6-a5ae-cade1bd82ea5",
   "metadata": {},
   "outputs": [],
   "source": [
    "rho1 = ureg.Quantity(np.logspace(start=12, stop=28, num=40), '1/m^3')"
   ]
  },
  {
   "cell_type": "code",
   "execution_count": 7,
   "id": "cb5ac906-06c0-47c9-a201-5f72d04f195c",
   "metadata": {},
   "outputs": [
    {
     "name": "stderr",
     "output_type": "stream",
     "text": [
      "40it [01:16,  1.91s/it]\n",
      "40it [00:41,  1.03s/it]\n",
      "40it [00:44,  1.11s/it]\n",
      "40it [00:42,  1.06s/it]\n"
     ]
    }
   ],
   "source": [
    "Figure7b_sample1 = {}\n",
    "Figure7b_sample2 = {}\n",
    "Figure7b_approx = {}\n",
    "\n",
    "for mu_ in [0.15, 4e-7, 2.7e-10, 6e-14]:\n",
    "\n",
    "    key = '{:0.1e}'.format(mu_)\n",
    "    \n",
    "    sample1.mu = ureg.Quantity(mu_, 'm^2/(V s)') \n",
    "    sample2.mu = ureg.Quantity(mu_, 'm^2/(V s)') \n",
    "    \n",
    "    rho__, gamma__ = gamma_parallel_approx(rho1, sample1)\n",
    "    Figure7b_approx[key] = {'rho': rho__, 'gamma': gamma__ } \n",
    "    \n",
    "    result1 = {\n",
    "        'index': np.arange(len(rho1)),\n",
    "        'rho': rho1,\n",
    "        'gamma': ureg.Quantity(np.zeros_like(rho1), 'pN s/m')\n",
    "    }\n",
    "\n",
    "    result2 = {\n",
    "        'index': np.arange(len(rho1)),\n",
    "        'rho': rho1,\n",
    "        'gamma': ureg.Quantity(np.zeros_like(rho1), 'pN s/m')\n",
    "    }\n",
    "    \n",
    "    for index, rho_ in tqdm(enumerate(rho1)):\n",
    "\n",
    "        sample1.rho = rho_\n",
    "        sample2.rho = rho_\n",
    "        \n",
    "        result1['gamma'][index] = gamma_parallel(theta1norm, sample1).to('pN s/m')\n",
    "        result2['gamma'][index] = gamma_parallel(theta2norm, sample2).to('pN s/m')\n",
    "\n",
    "    Figure7b_sample1[key] = result1\n",
    "    Figure7b_sample2[key] = result2"
   ]
  },
  {
   "cell_type": "markdown",
   "id": "4cd21bac-0507-445b-b2a3-babc93ab434c",
   "metadata": {},
   "source": [
    "## Plot"
   ]
  },
  {
   "cell_type": "markdown",
   "id": "0939d9cc-cc60-4617-b9de-daf3e8f30251",
   "metadata": {},
   "source": [
    "Plot the results, along with the data and my appoximation."
   ]
  },
  {
   "cell_type": "code",
   "execution_count": 8,
   "id": "5efad08b-83a5-4800-aa54-6cf76b5ca46f",
   "metadata": {},
   "outputs": [
    {
     "data": {
      "image/png": "[encoded data removed]",
      "text/plain": [
       "<Figure size 325x275 with 1 Axes>"
      ]
     },
     "metadata": {},
     "output_type": "display_data"
    }
   ],
   "source": [
    "plt.figure(figsize=(3.25, 2.75))\n",
    "\n",
    "for key, c in zip(Figure7b_sample1.keys(), ['tab:blue', 'tab:orange', 'tab:green', 'tab:red']):\n",
    "    \n",
    "    x1 = Figure7b_sample1[key]['rho'].to('1/m^3').magnitude\n",
    "    y1 = Figure7b_sample1[key]['gamma'].to('pN s/m').magnitude\n",
    "\n",
    "    x2 = Figure7b_sample2[key]['rho'].to('1/m^3').magnitude\n",
    "    y2 = Figure7b_sample2[key]['gamma'].to('pN s/m').magnitude\n",
    "    \n",
    "    x3 = Figure7b_original[key]['rho']\n",
    "    y3 = Figure7b_original[key]['gamma']\n",
    "    \n",
    "    x4 = Figure7b_approx[key]['rho'].to('1/m^3').magnitude\n",
    "    y4 = Figure7b_approx[key]['gamma'].to('pN s/m').magnitude\n",
    "    \n",
    "    plt.loglog(x1, y1, marker='o', markersize=3, fillstyle='none', linestyle='none', markeredgewidth=0.50, color=c, label=key)\n",
    "    plt.loglog(x2, y2, marker='x', markersize=3, fillstyle='none', linestyle='none', markeredgewidth=0.50, color=c)\n",
    "    plt.loglog(x3, y3, marker='s', markersize=3, fillstyle='none', linestyle='none', markeredgewidth=0.50, color=c)\n",
    "    plt.loglog(x4, y4, linestyle='-', linewidth=1, color=c)\n",
    "\n",
    "# plt.title('Lekkala 2013 Figure 7(b) Python')\n",
    "plt.xlabel(r'charge density $\\rho$ [m$^{-3}$]')  # need a raw string here because \\r is the special carriage return character\n",
    "plt.ylabel('friction $\\gamma_{\\parallel}$ [pN s/m]')\n",
    "plt.legend(fontsize=7, loc=3, frameon=False, title='$\\mu$ [m$^2$/(V s)]', title_fontsize=9)\n",
    "plt.tight_layout()\n",
    "\n",
    "plt.savefig(THIS + '--Fig-1.png', dpi=300)\n",
    "plt.savefig(THIS + '--Fig-1.pdf')\n",
    "\n",
    "plt.show()"
   ]
  },
  {
   "cell_type": "markdown",
   "id": "94a952e7-382f-4ee9-9c79-779eef2b9ee9",
   "metadata": {},
   "source": [
    "**Figure caption**.  Lekkala 2013's Figure 7(b) simulations give identical results using sample1 with Method I (`o`) and sample2 with Method II (`x`'s) in a pure Python implimentation.  Friction was calculated versus charge density $\\rho$ for four values the mobility $\\mu$, indicated by color (legend). The calculated friction agrees with Lekkala (squares) at high density, and agrees with a Taylor expansion (solid lines) at low density, except at the highest mobility (blue line). "
   ]
  },
  {
   "cell_type": "markdown",
   "id": "427a6d69-e26e-4153-96eb-8c729ec03b9b",
   "metadata": {},
   "source": [
    "# Run the simulations (`numba`-accelerated Python)"
   ]
  },
  {
   "cell_type": "markdown",
   "id": "afb45463-9747-4c7b-bb7d-195821d680fc",
   "metadata": {},
   "source": [
    "## Sample 1"
   ]
  },
  {
   "cell_type": "code",
   "execution_count": 9,
   "id": "cfac7c49-3d5a-4969-8a54-8de3ccbbf820",
   "metadata": {},
   "outputs": [],
   "source": [
    "sample1_jit = SampleModel1Jit(\n",
    "    cantilever=CantileverModelJit(81.0e3, 3.,  80E-9, 300E-9),\n",
    "    epsilon_s=complex(11.9,-0.05),\n",
    "    h_s=3000E-9,\n",
    "    mu=2.7E-10,\n",
    "    rho=1e21,\n",
    "    epsilon_d=complex(11.9,-0.05),\n",
    "    z_r=300E-9)"
   ]
  },
  {
   "cell_type": "code",
   "execution_count": 10,
   "id": "62d1887f-9490-47d1-91e9-a31d1bc0e640",
   "metadata": {},
   "outputs": [
    {
     "name": "stdout",
     "output_type": "stream",
     "text": [
      "cantilever\n",
      "==========\n",
      "   cantilever freq =  81000.0 Hz\n",
      "                   =  508938.0098815465 rad/s\n",
      "tip-sample voltage =  3.0 V\n",
      "            radius =  8e-08 m\n",
      "            height =  3e-07 m\n",
      "\n",
      "semiconductor\n",
      "=============\n",
      "          epsilon (real) =  11.9\n",
      "          epsilon (imag) =  -0.05\n",
      "               thickness =  3e-06 m\n",
      "                mobility =  2.7e-10 m^2/(V s)\n",
      "      diffusion constant =  6.980039959763987e-12 m^2/s\n",
      "          charge density =  1e+21 m^{{-3}}\n",
      "        reference height =  3e-07 m\n",
      "            Debye length =  3.7797775481848936e-08 m\n",
      "        diffusion length =  3.7033649406515185e-09 m\n",
      "effective epsilon (real) =  11.9\n",
      "effective epsilon (imag) =  -0.059599763628316975\n",
      "\n",
      "dielectric\n",
      "==========\n",
      " epsilon (real) =  11.9\n",
      " epsilon (imag) =  -0.05\n",
      "      thickness = infinite\n"
     ]
    }
   ],
   "source": [
    "sample1_jit.print()"
   ]
  },
  {
   "cell_type": "markdown",
   "id": "75370f20-f5cc-4eac-89cb-73b953d87295",
   "metadata": {},
   "source": [
    "Spot-check the integrand"
   ]
  },
  {
   "cell_type": "code",
   "execution_count": 11,
   "id": "0ee66077-f558-4168-a3db-c29b4566fb31",
   "metadata": {},
   "outputs": [
    {
     "data": {
      "text/plain": [
       "-9.680112750074332e-05"
      ]
     },
     "execution_count": 11,
     "metadata": {},
     "output_type": "execute_result"
    }
   ],
   "source": [
    "theta1norm_jit(1, sample1_jit, 2)"
   ]
  },
  {
   "cell_type": "markdown",
   "id": "e677106c-f1cd-487d-8aa3-fb16866b21a1",
   "metadata": {},
   "source": [
    "## Sample 2"
   ]
  },
  {
   "cell_type": "code",
   "execution_count": 12,
   "id": "dd6af157-deff-4199-a1b5-a138565781c6",
   "metadata": {},
   "outputs": [],
   "source": [
    "sample2_jit = SampleModel2Jit(\n",
    "    cantilever=CantileverModelJit(81.0e3, 3.,  80E-9, 300E-9),\n",
    "    epsilon_d=complex(11.9,-0.05),\n",
    "    h_d=0.,\n",
    "    epsilon_s=complex(11.9,-0.05),\n",
    "    mu=2.7E-10,\n",
    "    rho=1e21,\n",
    "    z_r=300E-9)"
   ]
  },
  {
   "cell_type": "code",
   "execution_count": 13,
   "id": "a75945e6-6f98-41cd-b0f9-bbd807a5ac3c",
   "metadata": {},
   "outputs": [
    {
     "name": "stdout",
     "output_type": "stream",
     "text": [
      "cantilever\n",
      "==========\n",
      "   cantilever freq =  81000.0 Hz\n",
      "                   =  508938.0098815465 rad/s\n",
      "tip-sample voltage =  3.0 V\n",
      "            radius =  8e-08 m\n",
      "            height =  3e-07 m\n",
      "\n",
      "dielectric\n",
      "==========\n",
      " epsilon (real) =  11.9\n",
      " epsilon (imag) =  -0.05\n",
      "      thickness =  0.0 m\n",
      "\n",
      "semiconductor\n",
      "=============\n",
      "          epsilon (real) =  11.9\n",
      "          epsilon (imag) =  -0.05\n",
      "               thickness = infinite\n",
      "                mobility =  2.7e-10 m^2/(V s)\n",
      "      diffusion constant =  6.980039959763987e-12 m^2/s\n",
      "          charge density =  1e+21 m^{{-3}}\n",
      "        reference height =  3e-07 m\n",
      "            Debye length =  3.7797775481848936e-08 m\n",
      "        diffusion length =  3.7033649406515185e-09 m\n",
      "effective epsilon (real) =  11.9\n",
      "effective epsilon (imag) =  -0.059599763628316975\n"
     ]
    }
   ],
   "source": [
    "sample2_jit.print()"
   ]
  },
  {
   "cell_type": "markdown",
   "id": "71289116-9ee4-4771-b511-b4edf824d583",
   "metadata": {},
   "source": [
    "Spot-check the integrand."
   ]
  },
  {
   "cell_type": "code",
   "execution_count": 14,
   "id": "1301c41e-a0ed-4da7-a511-cbde6b6f5859",
   "metadata": {},
   "outputs": [
    {
     "data": {
      "text/plain": [
       "-9.680112753320861e-05"
      ]
     },
     "execution_count": 14,
     "metadata": {},
     "output_type": "execute_result"
    }
   ],
   "source": [
    "theta2norm_jit(1, sample2_jit, 2)"
   ]
  },
  {
   "cell_type": "markdown",
   "id": "29f90aea-ef34-4bdd-9948-20d97b26f9b3",
   "metadata": {},
   "source": [
    "## Loop"
   ]
  },
  {
   "cell_type": "code",
   "execution_count": 15,
   "id": "25c5241c-5679-4e6d-9c5e-3aea12e0b056",
   "metadata": {},
   "outputs": [],
   "source": [
    "rho1 = ureg.Quantity(np.logspace(start=12, stop=28, num=40), '1/m^3')"
   ]
  },
  {
   "cell_type": "code",
   "execution_count": 16,
   "id": "c870b83d-b388-4db7-b996-c0f6e96cf6c1",
   "metadata": {},
   "outputs": [
    {
     "name": "stderr",
     "output_type": "stream",
     "text": [
      "40it [00:00, 97.03it/s] \n",
      "40it [00:00, 175.40it/s]\n",
      "40it [00:00, 163.47it/s]\n",
      "40it [00:00, 159.40it/s]\n"
     ]
    }
   ],
   "source": [
    "Figure7b_sample1_jit = {}\n",
    "Figure7b_sample2_jit = {}\n",
    "\n",
    "for mu_ in [0.15, 4e-7, 2.7e-10, 6e-14]:\n",
    "\n",
    "    key = '{:0.1e}'.format(mu_)\n",
    "    \n",
    "    sample1_jit.mu = mu_\n",
    "    sample2_jit.mu = mu_\n",
    "\n",
    "    result1 = {\n",
    "        'index': np.arange(len(rho1)),\n",
    "        'rho': rho1,\n",
    "        'gamma': ureg.Quantity(np.zeros_like(rho1), 'pN s/m')\n",
    "    }\n",
    "    \n",
    "    result2 = {\n",
    "        'index': np.arange(len(rho1)),\n",
    "        'rho': rho1,\n",
    "        'gamma': ureg.Quantity(np.zeros_like(rho1), 'pN s/m')\n",
    "    }\n",
    "    \n",
    "    for index, rho_ in tqdm(enumerate(rho1)):\n",
    "\n",
    "        sample1_jit.rho = rho_.to('1/m^3').magnitude\n",
    "        sample2_jit.rho = rho_.to('1/m^3').magnitude\n",
    "        \n",
    "        result1['gamma'][index] = gamma_parallel_jit(theta1norm_jit, sample1_jit).to('pN s/m')\n",
    "        result2['gamma'][index] = gamma_parallel_jit(theta2norm_jit, sample2_jit).to('pN s/m')\n",
    "\n",
    "    Figure7b_sample1_jit[key] = result1\n",
    "    Figure7b_sample2_jit[key] = result2"
   ]
  },
  {
   "cell_type": "markdown",
   "id": "2fc31ed6-c427-4ac6-8eee-9e8d5d6277ad",
   "metadata": {},
   "source": [
    "## Plot"
   ]
  },
  {
   "cell_type": "code",
   "execution_count": 17,
   "id": "9dcf9df3-5b20-4265-96df-7451b4aca8ef",
   "metadata": {},
   "outputs": [
    {
     "data": {
      "image/png": "[encoded data removed]",
      "text/plain": [
       "<Figure size 650x275 with 2 Axes>"
      ]
     },
     "metadata": {},
     "output_type": "display_data"
    }
   ],
   "source": [
    "fig, axs = plt.subplots(1, 2, figsize=(6.50, 2.75), sharey=True)\n",
    "\n",
    "for key, c in zip(Figure7b_sample1_jit.keys(), ['tab:blue', 'tab:orange', 'tab:green', 'tab:red']):\n",
    "    \n",
    "    x1 = Figure7b_sample1[key]['rho'].to('1/m^3').magnitude\n",
    "    y1 = Figure7b_sample1[key]['gamma'].to('pN s/m').magnitude\n",
    "\n",
    "    x2 = Figure7b_sample1_jit[key]['rho'].to('1/m^3').magnitude\n",
    "    y2 = Figure7b_sample1_jit[key]['gamma'].to('pN s/m').magnitude\n",
    "\n",
    "    x3 = Figure7b_sample2[key]['rho'].to('1/m^3').magnitude\n",
    "    y3 = Figure7b_sample2[key]['gamma'].to('pN s/m').magnitude\n",
    "\n",
    "    x4 = Figure7b_sample2_jit[key]['rho'].to('1/m^3').magnitude\n",
    "    y4 = Figure7b_sample2_jit[key]['gamma'].to('pN s/m').magnitude\n",
    "    \n",
    "    axs[0].loglog(x1, y1, marker='o', markersize=3, fillstyle='none', linestyle='none', markeredgewidth=0.50, color=c)\n",
    "    axs[0].loglog(x2, y2, marker='x', markersize=3, fillstyle='none', linestyle='none', markeredgewidth=0.50, color=c, label=key)\n",
    "    axs[0].set_xlabel(r'charge density $\\rho$ [m$^{-3}$]')  # need a raw string here because \\r is the special carriage return character\n",
    "    axs[0].set_ylabel('friction $\\gamma_{\\parallel}$ [pN s/m]')\n",
    "    axs[0].legend(fontsize=7, loc=3, frameon=False, title='$\\mu$ [m$^2$/(V s)]', title_fontsize=9)\n",
    "\n",
    "    axs[1].loglog(x3, y3, marker='o', markersize=3, fillstyle='none', linestyle='none', markeredgewidth=0.50, color=c)\n",
    "    axs[1].loglog(x4, y4, marker='x', markersize=3, fillstyle='none', linestyle='none', markeredgewidth=0.50, color=c, label=key)\n",
    "    axs[1].set_xlabel(r'charge density $\\rho$ [m$^{-3}$]')  # need a raw string here because \\r is the special carriage return character\n",
    "    axs[1].legend(fontsize=7, loc=3, frameon=False, title='$\\mu$ [m$^2$/(V s)]', title_fontsize=9)\n",
    "\n",
    "plt.tight_layout()\n",
    "\n",
    "plt.savefig(THIS + '--Fig-2.png', dpi=300)\n",
    "plt.savefig(THIS + '--Fig-2.pdf')\n",
    "\n",
    "plt.show()"
   ]
  },
  {
   "cell_type": "markdown",
   "id": "42e1049b-aacb-4bfa-9346-f4494b52825d",
   "metadata": {},
   "source": [
    "**Figure caption**.  Lekkala 2013's Figure 7(b) simulations give identical results using sample1 with Method I (left) and sample2 with Method II (right), in both a pure Python implimentation (circles) and a `numba` accelerated Python implimentation (squares).  Friction was calculated versus charge density $\\rho$ for four values the mobility $\\mu$, indicated by color (legend)."
   ]
  },
  {
   "cell_type": "markdown",
   "id": "83d1daeb-730d-48b9-aa44-c184cd0ea217",
   "metadata": {},
   "source": [
    "# Note on `numba`'s `np.tanh` bug.\n",
    "\n",
    "`numba` has an ackowledged bug in its implimentation of `np.tanh`.  See the `numba` bug report \"Inaccurate complex tanh implementation #2922\" ([link](https://github.com/numba/numba/issues/2922)).  The following code reproduces the problem."
   ]
  },
  {
   "cell_type": "code",
   "execution_count": 18,
   "id": "a51e3e7a-0200-4953-bce7-8c4f4aa3f4c1",
   "metadata": {},
   "outputs": [
    {
     "name": "stdout",
     "output_type": "stream",
     "text": [
      "(1+0j)\n",
      "(nan+nanj)\n"
     ]
    }
   ],
   "source": [
    "import numpy as np\n",
    "from numba import jit, complex128\n",
    "\n",
    "def f(a):\n",
    "    return np.tanh(a)\n",
    "\n",
    "print(f((1000-0j)))\n",
    "\n",
    "@jit(complex128(complex128), nopython=True)\n",
    "def g(a):\n",
    "    return np.tanh(a)\n",
    "\n",
    "print(g((1000-0j)))"
   ]
  },
  {
   "cell_type": "markdown",
   "id": "f27ebe9a-72a0-4f26-806f-360221ee497e",
   "metadata": {},
   "source": [
    "The bug report suggests the following work-around."
   ]
  },
  {
   "cell_type": "code",
   "execution_count": 19,
   "id": "4daa5e15-886e-4a7e-ad04-e122ed00e7a8",
   "metadata": {},
   "outputs": [],
   "source": [
    "import cmath"
   ]
  },
  {
   "cell_type": "code",
   "execution_count": 20,
   "id": "e3a24dd1-4c9d-469c-aa56-f2b9b3c16932",
   "metadata": {},
   "outputs": [
    {
     "name": "stdout",
     "output_type": "stream",
     "text": [
      "(1+0j)\n"
     ]
    }
   ],
   "source": [
    "@jit(complex128(complex128), nopython=True)\n",
    "def h(a):\n",
    "    return cmath.tanh(a)\n",
    "\n",
    "print(h((1000-0j)))"
   ]
  },
  {
   "cell_type": "code",
   "execution_count": null,
   "id": "974c4427-39e3-4575-bc17-2750e1f4ca0b",
   "metadata": {},
   "outputs": [],
   "source": []
  }
 ],
 "metadata": {
  "kernelspec": {
   "display_name": "dissipationtheory",
   "language": "python",
   "name": "dissipationtheory"
  },
  "language_info": {
   "codemirror_mode": {
    "name": "ipython",
    "version": 3
   },
   "file_extension": ".py",
   "mimetype": "text/x-python",
   "name": "python",
   "nbconvert_exporter": "python",
   "pygments_lexer": "ipython3",
   "version": "3.8.5"
  }
 },
 "nbformat": 4,
 "nbformat_minor": 5
}
