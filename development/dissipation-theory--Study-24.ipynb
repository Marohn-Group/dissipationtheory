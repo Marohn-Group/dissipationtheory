{
 "cells": [
  {
   "cell_type": "markdown",
   "id": "f064c77b-85e3-4c33-b27f-b08cc410959e",
   "metadata": {},
   "source": [
    "* Name: `dissipation-theory--Study-24.ipynb`\n",
    "* Author: John A. Marohn\n",
    "* Date: 2024-08-06\n",
    "* Continued from: `dissipation-theory--Study-23.ipynb`\n",
    "* Continued to: ---\n",
    "* Summary: Plot cantilever friction versus conductivity, similar to Lekkala 203 Figures 7(b) and 9(b), but for (1) perpendicular friction and (2) plotted versus conductivity and not charge density."
   ]
  },
  {
   "cell_type": "markdown",
   "id": "083fc3ed-e777-4c2f-9b8a-96f7f89dcaba",
   "metadata": {},
   "source": [
    "# Preliminaries"
   ]
  },
  {
   "cell_type": "code",
   "execution_count": 1,
   "id": "5119d95f-1ab9-403b-8cd2-53bcddc5d8a1",
   "metadata": {},
   "outputs": [],
   "source": [
    "import numpy as np"
   ]
  },
  {
   "cell_type": "code",
   "execution_count": 2,
   "id": "952c983b-5ba0-4ba4-beaf-7d64178fa860",
   "metadata": {},
   "outputs": [],
   "source": [
    "%matplotlib inline\n",
    "import matplotlib.pylab as plt\n",
    "import matplotlib.cm as cm\n",
    "import matplotlib.colors as mcolors\n",
    "\n",
    "font = {'family' : 'sans serif',\n",
    "        'weight' : 'normal',\n",
    "        'size'   : 12}\n",
    "\n",
    "plt.rc('font', **font)\n",
    "plt.rcParams['figure.figsize'] = 3.25, 3.5"
   ]
  },
  {
   "cell_type": "code",
   "execution_count": 3,
   "id": "6004543d-b8cd-498c-9174-b88bb59cf309",
   "metadata": {},
   "outputs": [],
   "source": [
    "from dissipationtheory.constants import ureg, qe\n",
    "from dissipationtheory.dissipation2 import CantileverModelJit, SampleModel1Jit, SampleModel2Jit, theta1norm_jit\n",
    "from dissipationtheory.dissipation  import blds_perpendicular_jit, gamma_perpendicular_jit\n",
    "from dissipationtheory.data import BLDSData"
   ]
  },
  {
   "cell_type": "code",
   "execution_count": 4,
   "id": "14a3ce28-de26-44fd-aa73-8a6dd4836f3f",
   "metadata": {},
   "outputs": [],
   "source": [
    "THIS = 'dissipation-theory--Study-24--'\n",
    "fig = {}"
   ]
  },
  {
   "cell_type": "markdown",
   "id": "03ef588f-80bb-4a01-abfe-1757fe13ddd6",
   "metadata": {},
   "source": [
    "# Cantilever and sample"
   ]
  },
  {
   "cell_type": "code",
   "execution_count": 5,
   "id": "8e085f0b-06da-4184-aaae-069525b65116",
   "metadata": {},
   "outputs": [],
   "source": [
    "cantilever_jit = CantileverModelJit(\n",
    "    f_c = 75e3, \n",
    "    V_ts = 1.0,\n",
    "    R = 35e-9,\n",
    "    d = 38e-9\n",
    ")"
   ]
  },
  {
   "cell_type": "markdown",
   "id": "7d3d901f-6435-4ed5-8ab4-1bd142bfb7cf",
   "metadata": {},
   "source": [
    "The sample is backed by a metal, which we mimic by setting $\\epsilon_{\\mathrm{d}} = 10^{6}$."
   ]
  },
  {
   "cell_type": "code",
   "execution_count": 6,
   "id": "06733424-f985-4a88-aaf4-911042753fdf",
   "metadata": {},
   "outputs": [],
   "source": [
    "sample_jit = SampleModel1Jit(\n",
    "    cantilever = cantilever_jit,\n",
    "    h_s = 500e-9,\n",
    "    epsilon_s = complex(20, -0.2),\n",
    "    sigma = 1e-5,\n",
    "    rho = 1e21,\n",
    "    epsilon_d = complex(1e6, 0),\n",
    "    z_r = 300e-9\n",
    ")"
   ]
  },
  {
   "cell_type": "markdown",
   "id": "c06b822a-e307-4d83-a1a4-d17c10a11d20",
   "metadata": {},
   "source": [
    "# Step the mobility and cantilever friction"
   ]
  },
  {
   "cell_type": "markdown",
   "id": "0b3ee359-9d09-41c0-a8e5-dd11f9f5d755",
   "metadata": {},
   "source": [
    "Vary the conductivity, but keep the mobility fixed, which means we must also vary charge density."
   ]
  },
  {
   "cell_type": "code",
   "execution_count": 7,
   "id": "e36484fb-18c2-4217-957b-1e0606ba11f9",
   "metadata": {},
   "outputs": [],
   "source": [
    "sigma = ureg.Quantity(\n",
    "    np.logspace(\n",
    "        start=np.log10(1e-9),\n",
    "        stop=np.log10(1e2),\n",
    "        num=60), 'S/m')"
   ]
  },
  {
   "cell_type": "markdown",
   "id": "c1628370-d5ba-4536-908e-6d4bb74188cc",
   "metadata": {},
   "source": [
    "Loop over a number mobilities.  At the low end, theree are ionic mobilities; at the high end, electronic mobilities."
   ]
  },
  {
   "cell_type": "code",
   "execution_count": 8,
   "id": "915dd340-8dcc-4da0-8648-7ad41a4b1ee1",
   "metadata": {},
   "outputs": [],
   "source": [
    "mu = ureg.Quantity([1e-9, 1e-8, 1e-7, 1e-6, 1e-5],'m^2/(V s)')"
   ]
  },
  {
   "cell_type": "code",
   "execution_count": 9,
   "id": "57cdc6cd-4818-4cc3-9a54-6b2b29a6d7c4",
   "metadata": {},
   "outputs": [
    {
     "data": {
      "text/html": [
       "<table><tbody><tr><th>Magnitude</th><td style='text-align:left;'><pre>[1e-05 0.0001 0.001 0.01 0.1]</pre></td></tr><tr><th>Units</th><td style='text-align:left;'>centimeter<sup>2</sup>/(second volt)</td></tr></tbody></table>"
      ],
      "text/latex": [
       "$\\begin{pmatrix} &  &  &  & \\end{pmatrix}\\ \\frac{\\mathrm{centimeter}^{2}}{\\left(\\mathrm{second} \\cdot \\mathrm{volt}\\right)}$"
      ],
      "text/plain": [
       "<Quantity([1.e-05 1.e-04 1.e-03 1.e-02 1.e-01], 'centimeter ** 2 / volt / second')>"
      ]
     },
     "execution_count": 9,
     "metadata": {},
     "output_type": "execute_result"
    }
   ],
   "source": [
    "mu.to('cm^2/(V s)')"
   ]
  },
  {
   "cell_type": "markdown",
   "id": "b2e52b33-2877-4bad-ae93-db0d7a3bc291",
   "metadata": {},
   "source": [
    "Get ready to run the simulations."
   ]
  },
  {
   "cell_type": "code",
   "execution_count": 10,
   "id": "2ca7f6c1-465c-46fd-9655-fa2df18d1593",
   "metadata": {},
   "outputs": [],
   "source": [
    "data = {}        # many simulations\n",
    "data['01'] = {}  # the first simulation"
   ]
  },
  {
   "cell_type": "markdown",
   "id": "bd1f800f-8a75-4c78-b71c-cfdd7456788a",
   "metadata": {},
   "source": [
    "Step the conductivity (and charge density) and compute a friction at each step."
   ]
  },
  {
   "cell_type": "code",
   "execution_count": 11,
   "id": "7539a111-a261-4834-a5a5-064b589d2f07",
   "metadata": {},
   "outputs": [],
   "source": [
    "# remember\n",
    "sigma0 = sample_jit.sigma\n",
    "rho0 =  sample_jit.rho\n",
    "\n",
    "for mu_ in mu:\n",
    "\n",
    "    gamma = ureg.Quantity(np.zeros_like(sigma), 'pN s/m')\n",
    "    \n",
    "    # As we vary mu, we have to recalculate charge density\n",
    "    rho = (sigma / (qe * mu_)).to('1/m^3')\n",
    "    \n",
    "    for index, sigma_ in enumerate(sigma):\n",
    "\n",
    "        sample_jit.rho = rho[index].to('1/m^3').magnitude\n",
    "        sample_jit.sigma = sigma_.to('S/m').magnitude        \n",
    "        \n",
    "        gamma[index] = gamma_perpendicular_jit(theta1norm_jit, sample_jit).to('pN s/m')[0]\n",
    "    \n",
    "    data['01'][str(mu_)] = {\n",
    "        'mobility': mu_, \n",
    "        'gamma': gamma,\n",
    "        'sigma': ureg.Quantity(sigma, 'S/m'), \n",
    "        'rho': ureg.Quantity(rho, '1/m^3')}\n",
    "\n",
    "# reset\n",
    "sample_jit.rho = rho0\n",
    "sample_jit.sigma = sigma0"
   ]
  },
  {
   "cell_type": "code",
   "execution_count": 61,
   "id": "7b2d53b4-f46d-492b-b995-d0a077b5a989",
   "metadata": {},
   "outputs": [],
   "source": [
    "def plotgammaA(data, sample_jit):\n",
    "\n",
    "    # gather up mobility data\n",
    "\n",
    "    mu = ureg.Quantity(np.zeros(len(data)), 'm^2/(V s)')\n",
    "    for index, key in enumerate(data.keys()):\n",
    "        mu[index] = data[key]['mobility']\n",
    "        \n",
    "    # now make a plot\n",
    "    \n",
    "    fig, ax = plt.subplots(1, 1, figsize=(4.5, 2.75))\n",
    "\n",
    "    with plt.style.context('seaborn-v0_8'):\n",
    "        \n",
    "        for mu_, key in zip(mu, data.keys()):\n",
    "            lbl = \"{:0.1e}\".format(mu_.to('cm^2/(V s)').magnitude)\n",
    "            plt.loglog(\n",
    "                data[key]['rho'].to('1/m^3').magnitude, \n",
    "                data[key]['gamma'].to('pN s/m').magnitude, \n",
    "                '-',\n",
    "                label=lbl)\n",
    "        \n",
    "    plt.ylabel(r'$\\gamma_{\\perp}$ [pN s/m]')\n",
    "    plt.xlabel(r'charge density $\\rho$ [1/m$^3$]')\n",
    "    plt.ylim([6e-2,2e2])\n",
    "    plt.xlim([1e19,1e26])\n",
    "    lg = plt.legend(fontsize=9, frameon=False, loc='lower left', bbox_to_anchor = (1.05, 0.3))\n",
    "    lg.set_title(r'$\\mu$ [cm$^2$/(V s)]', prop={'size':'small'})\n",
    "\n",
    "    \n",
    "    plt.tight_layout()\n",
    "    plt.show()\n",
    "    \n",
    "    return fig"
   ]
  },
  {
   "cell_type": "code",
   "execution_count": 62,
   "id": "4d75937d-171c-4ea1-b038-a16060ad00c4",
   "metadata": {},
   "outputs": [
    {
     "data": {
      "image/png": "[encoded data removed]",
      "text/plain": [
       "<Figure size 450x275 with 1 Axes>"
      ]
     },
     "metadata": {},
     "output_type": "display_data"
    }
   ],
   "source": [
    "fig['01'] = plotgammaA(data['01'], sample_jit)"
   ]
  },
  {
   "cell_type": "markdown",
   "id": "3819740b-42d2-4aef-a9cc-85be8a2d5c44",
   "metadata": {},
   "source": [
    "Print out the simulation parameters:\n",
    "\n",
    "* Cantilever: $f_c = 75 \\: \\mathrm{kHz}$, $k_c = 2.8 \\: \\mathrm{N/m}$, $R = 35 \\: \\mathrm{nm}$, $h = 38 \\: \\mathrm{nm}$, and $V_{\\mathrm{ts}} = 1 \\: \\mathrm{V}$.\n",
    "\n",
    "* Sample: $h_{\\mathrm{s}} = 500 \\: \\mathrm{nm}$, $\\epsilon_{\\mathrm{s}} = 20 - 0.2 \\, j$, $\\epsilon_{\\mathrm{d}} = 10^{6}$ fixed; $\\sigma$ varied, $\\mu$ varied, and $\\rho = \\sigma/(e \\mu)$."
   ]
  },
  {
   "cell_type": "markdown",
   "id": "3330354b-174b-472b-991d-ffd4c346f0ec",
   "metadata": {},
   "source": [
    "# Show that dielectric fluctuations can obscure friction."
   ]
  },
  {
   "cell_type": "markdown",
   "id": "a90b326c-8d7c-44e0-92a4-f332155c73fb",
   "metadata": {},
   "source": [
    "Pick one mobility, vary the imaginary part of the dielectric constant."
   ]
  },
  {
   "cell_type": "code",
   "execution_count": 46,
   "id": "9929f9e5-2ae7-4f5d-8398-3ab9a9aa4db8",
   "metadata": {},
   "outputs": [],
   "source": [
    "sample_jit = SampleModel1Jit(\n",
    "    cantilever = cantilever_jit,\n",
    "    h_s = 500e-9,\n",
    "    epsilon_s = complex(20, -0.2),\n",
    "    sigma = 1e-7,\n",
    "    rho = 1e21,\n",
    "    epsilon_d = complex(1e6, 0),\n",
    "    z_r = 300e-9\n",
    ")"
   ]
  },
  {
   "cell_type": "markdown",
   "id": "eff4e391-23d8-41ac-a0c2-e700ff945b54",
   "metadata": {},
   "source": [
    "Various dielectric constants, varying the imaginary part."
   ]
  },
  {
   "cell_type": "code",
   "execution_count": 47,
   "id": "dfee1676-1c55-4629-bd8e-1ac50ac6f147",
   "metadata": {},
   "outputs": [
    {
     "data": {
      "text/plain": [
       "[(20-0.002j), (20-0.02j), (20-0.2j), (20-2j)]"
      ]
     },
     "execution_count": 47,
     "metadata": {},
     "output_type": "execute_result"
    }
   ],
   "source": [
    "epsilon = [complex(20, a) for a in [-0.002, -0.02, -0.2, -2]]\n",
    "epsilon "
   ]
  },
  {
   "cell_type": "markdown",
   "id": "36d528bb-4035-4e33-8c92-96992c32d620",
   "metadata": {},
   "source": [
    "Now loop over dielectric constant."
   ]
  },
  {
   "cell_type": "code",
   "execution_count": 48,
   "id": "f20c5b33-5923-4e0b-a3a5-3e8632adb9a1",
   "metadata": {},
   "outputs": [],
   "source": [
    "data['02'] = {}  # the first simulation\n",
    "\n",
    "# remember\n",
    "epsilon_init = sample_jit.epsilon_s\n",
    "\n",
    "# make sure we havee the right charge density\n",
    "# by recomputing it from the conductivity and the mobility\n",
    "\n",
    "rho = (sigma / (qe * ureg.Quantity(1e-4, 'cm^2/(V s)'))).to('1/m^3')\n",
    "\n",
    "for eps in epsilon:\n",
    "\n",
    "    gamma = ureg.Quantity(np.zeros_like(sigma), 'pN s/m')\n",
    "    \n",
    "    for index, sigma_ in enumerate(sigma):\n",
    "\n",
    "        sample_jit.epsilon_s = eps\n",
    "        sample_jit.rho = rho[index].to('1/m^3').magnitude\n",
    "        sample_jit.sigma = sigma_.to('S/m').magnitude \n",
    "        \n",
    "        \n",
    "        gamma[index] = gamma_perpendicular_jit(theta1norm_jit, sample_jit).to('pN s/m')[0]\n",
    "    \n",
    "    data['02'][str(eps.imag)] = {\n",
    "        'epsilon': eps, \n",
    "        'gamma': gamma,\n",
    "        'sigma': ureg.Quantity(sigma, 'S/m'), \n",
    "        'rho': ureg.Quantity(rho, '1/m^3')}\n",
    "\n",
    "# reset\n",
    "sample_jit.epsilon_s = epsilon_init"
   ]
  },
  {
   "cell_type": "code",
   "execution_count": 63,
   "id": "fcd5cf77-882f-471f-83e8-64bae736fe75",
   "metadata": {},
   "outputs": [],
   "source": [
    "def plotgammaB(data, sample_jit):\n",
    "\n",
    "    # gather up dielectric constant data\n",
    "\n",
    "    epsilson = np.zeros(len(data))\n",
    "    for index, key in enumerate(data.keys()):\n",
    "        epsilon[index] = data[key]['epsilon'].imag\n",
    "        \n",
    "    # now make a plot\n",
    "    \n",
    "    fig, ax = plt.subplots(1, 1, figsize=(4.5, 2.75))\n",
    "\n",
    "    with plt.style.context('seaborn-v0_8'):\n",
    "        \n",
    "        for eps, key in zip(epsilon, data.keys()):\n",
    "            lbl = \"{:0.3f}\".format(-1 * eps)\n",
    "            plt.loglog(\n",
    "                data[key]['rho'].to('1/m^3').magnitude, \n",
    "                data[key]['gamma'].to('pN s/m').magnitude, \n",
    "                '-',\n",
    "                label=lbl)\n",
    "        \n",
    "    plt.ylabel(r'$\\gamma_{\\perp}$ [pN s/m]')\n",
    "    plt.xlabel(r'charge density $\\rho$ [1/m$^3$]')\n",
    "    plt.ylim([6e-2,2e2])\n",
    "    plt.xlim([1e19,1e26])\n",
    "    lg = plt.legend(fontsize=9, frameon=False, loc='lower left', bbox_to_anchor = (1.05, 0.4))\n",
    "    lg.set_title(r'$- \\epsilon^{\\prime\\prime}$', prop={'size':'small'})\n",
    "\n",
    "    plt.tight_layout()\n",
    "    plt.show()\n",
    "    \n",
    "    return fig"
   ]
  },
  {
   "cell_type": "code",
   "execution_count": 64,
   "id": "e5241151-5489-4ca5-af3f-4cdd123abdfc",
   "metadata": {},
   "outputs": [
    {
     "data": {
      "image/png": "[encoded data removed]",
      "text/plain": [
       "<Figure size 450x275 with 1 Axes>"
      ]
     },
     "metadata": {},
     "output_type": "display_data"
    }
   ],
   "source": [
    "fig['02'] = plotgammaB(data['02'], sample_jit)"
   ]
  },
  {
   "cell_type": "markdown",
   "id": "086d6cbf-8177-41cf-aa96-a84f3851fc7c",
   "metadata": {},
   "source": [
    "Print out the simulation parameters:\n",
    "\n",
    "* Cantilever (same as above): $f_c = 75 \\: \\mathrm{kHz}$, $k_c = 2.8 \\: \\mathrm{N/m}$, $R = 35 \\: \\mathrm{nm}$, $h = 38 \\: \\mathrm{nm}$, and $V_{\\mathrm{ts}} = 1 \\: \\mathrm{V}$.\n",
    "\n",
    "* Sample: $h_{\\mathrm{s}} = 500 \\: \\mathrm{nm}$, $\\epsilon_{\\mathrm{s}} = 20$ with the imaginary part varied, $\\epsilon_{\\mathrm{d}} = 10^{6}$ fixed; $\\mu = 10^{-4} \\: \\mathrm{cm}^2/(\\mathrm{V s})$, $\\sigma$ varied, and $\\rho = \\sigma/(e \\mu)$."
   ]
  },
  {
   "cell_type": "markdown",
   "id": "2004cbd5-583f-4add-abfb-f651f439652d",
   "metadata": {},
   "source": [
    "# Save all figures"
   ]
  },
  {
   "cell_type": "code",
   "execution_count": 65,
   "id": "e4ba8dc1-b960-4a0e-ba41-38f190b543c3",
   "metadata": {},
   "outputs": [],
   "source": [
    "for num in fig.keys():\n",
    "    figname = THIS + \"Fig-\" + num\n",
    "    fig[num].savefig(figname + '.png', dpi=300)\n",
    "    fig[num].savefig(figname + '.pdf')"
   ]
  },
  {
   "cell_type": "code",
   "execution_count": null,
   "id": "166c319f-24e6-4839-b0d2-ea6ae371b5e0",
   "metadata": {},
   "outputs": [],
   "source": []
  }
 ],
 "metadata": {
  "kernelspec": {
   "display_name": "dissipationtheory",
   "language": "python",
   "name": "dissipationtheory"
  },
  "language_info": {
   "codemirror_mode": {
    "name": "ipython",
    "version": 3
   },
   "file_extension": ".py",
   "mimetype": "text/x-python",
   "name": "python",
   "nbconvert_exporter": "python",
   "pygments_lexer": "ipython3",
   "version": "3.9.10"
  }
 },
 "nbformat": 4,
 "nbformat_minor": 5
}
