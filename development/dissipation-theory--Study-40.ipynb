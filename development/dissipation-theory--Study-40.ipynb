{
 "cells": [
  {
   "cell_type": "raw",
   "id": "6771cf33",
   "metadata": {},
   "source": [
    "---\n",
    "title: The $K_2$ integral in Loring's theory of electric force microscopy\n",
    "author: \"John A. Marohn\"\n",
    "date: today\n",
    "abstract: Examine closely the dependence of the $K_2(\\omega_{\\mathrm{m}})$ integral on charge density and dielectric constant.  \n",
    "toc: true\n",
    "number-sections: true\n",
    "highlight-style: pygments\n",
    "embed-resources: true\n",
    "dpi: 300\n",
    "format:\n",
    "    html:\n",
    "        html-math-method:\n",
    "          method: mathjax\n",
    "          url: \"https://cdn.jsdelivr.net/npm/mathjax@3/es5/tex-mml-chtml.js\"\n",
    "        code-fold: true\n",
    "        code-tools: true\n",
    "jupyter: python3\n",
    "---"
   ]
  },
  {
   "cell_type": "raw",
   "id": "08b91c6c",
   "metadata": {},
   "source": [
    "::: {.content-hidden when-format=\"html\"}"
   ]
  },
  {
   "cell_type": "markdown",
   "id": "ee8ad885",
   "metadata": {},
   "source": [
    "# Preliminaries"
   ]
  },
  {
   "cell_type": "code",
   "execution_count": 1,
   "id": "90ea41da",
   "metadata": {},
   "outputs": [],
   "source": [
    "import numpy as np\n",
    "import pandas as pd\n",
    "from scipy import integrate\n",
    "from scipy.optimize import fsolve"
   ]
  },
  {
   "cell_type": "code",
   "execution_count": 2,
   "id": "ae5eef2c",
   "metadata": {},
   "outputs": [],
   "source": [
    "import matplotlib.pylab as plt\n",
    "import matplotlib.cm as cm\n",
    "import matplotlib.colors as mcolors\n",
    "plt.rcParams['text.usetex'] = True"
   ]
  },
  {
   "cell_type": "code",
   "execution_count": 3,
   "id": "a78cefeb",
   "metadata": {},
   "outputs": [],
   "source": [
    "from dissipationtheory.constants import ureg, qe, epsilon0\n",
    "from dissipationtheory.dissipation4 import CantileverModel, SampleModel1, SampleModel1Jit\n",
    "from dissipationtheory.dissipation4 import theta1norm_jit, K_jit"
   ]
  },
  {
   "cell_type": "code",
   "execution_count": 4,
   "id": "df7ae8ef",
   "metadata": {},
   "outputs": [],
   "source": [
    "THIS = 'dissipation-theory--Study-40--'\n",
    "figs = {}"
   ]
  },
  {
   "cell_type": "raw",
   "id": "fc322213",
   "metadata": {},
   "source": [
    ":::"
   ]
  },
  {
   "cell_type": "markdown",
   "id": "b6e17d81",
   "metadata": {},
   "source": [
    "# Set up the cantilever and sample\n",
    "\n",
    "Assume a standard-issue electric force microscope cantilver at close separation, with a tip voltage of $V_{\\mathrm{ts}} = 1 \\: \\mathrm{V}$.  Assume a spherical tip of radius $R = 35 \\: \\mathrm{nm}$ and tip-sample separation of $d = 38 \\: \\mathrm{nm}$.  The charge representing the tip is located at $z_{\\mathrm{c}} = R + d = 73 \\: \\mathrm{nm}$."
   ]
  },
  {
   "cell_type": "code",
   "execution_count": 5,
   "id": "6310f402",
   "metadata": {},
   "outputs": [],
   "source": [
    "cantilever = CantileverModel(\n",
    "    f_c = ureg.Quantity(75, 'kHz'),\n",
    "    k_c = ureg.Quantity(2.8, 'N/m'), \n",
    "    V_ts = ureg.Quantity(1, 'V'), \n",
    "    R = ureg.Quantity(35, 'nm'), \n",
    "    d = ureg.Quantity(38, 'nm'),\n",
    "    z_c = ureg.Quantity(73, 'nm')\n",
    ")"
   ]
  },
  {
   "cell_type": "markdown",
   "id": "9f5ccb38",
   "metadata": {},
   "source": [
    "Model a perovskite-like sample with a dielectric constant of $\\epsilon_{\\mathrm{s}} = 20 - 0.2 j$. To approximate an infinitely-thick sample, the sample thickness is set to $h_{\\mathrm{s}} = 7300 \\: \\mathrm{nm}$, 100 times the sample-to-tip-charge distance $z_{\\mathrm{c}}$.  The sample is backed by a semi-infinite layer with dielectric constant $\\epsilon_{\\mathrm{d}} = 10^{6}$, approximating a metal.\n",
    "\n",
    "The sample conductivity and charge density will be set below.  "
   ]
  },
  {
   "cell_type": "code",
   "execution_count": 6,
   "id": "d7ebc1d8",
   "metadata": {},
   "outputs": [],
   "source": [
    "mu = ureg.Quantity(1e-8, 'm^2/(V s)') \n",
    "sigma = ureg.Quantity(1E-5, 'S/m')\n",
    "rho = (sigma / (qe * mu)).to('1/m^3')"
   ]
  },
  {
   "cell_type": "code",
   "execution_count": 7,
   "id": "491530bc",
   "metadata": {},
   "outputs": [],
   "source": [
    "sample1 = SampleModel1(\n",
    "    cantilever = cantilever,\n",
    "    h_s = ureg.Quantity(7300, 'nm'), # 100 times the sample-charge separation\n",
    "    epsilon_s = ureg.Quantity(complex(20, -0.2), ''), \n",
    "    sigma = sigma,\n",
    "    rho = rho,\n",
    "    epsilon_d = ureg.Quantity(complex(1e6, 0), ''),\n",
    "    z_r = ureg.Quantity(73, 'nm')\n",
    ")"
   ]
  },
  {
   "cell_type": "code",
   "execution_count": 8,
   "id": "adf2062d",
   "metadata": {},
   "outputs": [],
   "source": [
    "sample1_jit = SampleModel1Jit(**sample1.args())"
   ]
  },
  {
   "cell_type": "code",
   "execution_count": 9,
   "id": "1c52c610",
   "metadata": {},
   "outputs": [
    {
     "name": "stdout",
     "output_type": "stream",
     "text": [
      "cantilever\n",
      "==========\n",
      "        cantilever freq =  75000.0 Hz\n",
      "                        =  471238.89803846896 rad/s\n",
      "        spring constant =  2.8 N/m\n",
      "     tip-sample voltage =  1.0 V\n",
      "                 radius =  3.5e-08 m\n",
      "                 height =  3.8e-08 m\n",
      "  tip charge z location =  7.3e-08 m\n",
      "\n",
      "semiconductor\n",
      "=============\n",
      "          epsilon (real) =  20.0\n",
      "          epsilon (imag) =  -0.2\n",
      "               thickness =  7.3e-06 m\n",
      "            conductivity =  1e-05 S/m\n",
      "          charge density =  6.241509090043338e+21 m^{{-3}}\n",
      "        reference height =  7.3e-08 m\n",
      " \n",
      "      roll-off frequency =  1129409.0673730192 Hz\n",
      "                mobility =  1e-08 m^2/(V s)\n",
      "      diffusion constant =  2.585199985097773e-10 m^2/s\n",
      "            Debye length =  1.5129390669059825e-08 m\n",
      "        diffusion length =  2.3422136438546186e-08 m\n",
      "effective epsilon (real) =  20.0\n",
      "effective epsilon (imag) =  -2.596680477936312\n",
      "\n",
      "dielectric\n",
      "==========\n",
      " epsilon (real) =  1000000.0\n",
      " epsilon (imag) =  0.0\n",
      "      thickness = infinite\n"
     ]
    }
   ],
   "source": [
    "sample1_jit.print()"
   ]
  },
  {
   "cell_type": "markdown",
   "id": "b8a8a893",
   "metadata": {},
   "source": [
    "# Loop over conductivity at fixed mobility"
   ]
  },
  {
   "cell_type": "markdown",
   "id": "a10195fe",
   "metadata": {},
   "source": [
    "Set the number of conductivitiy points to loop over."
   ]
  },
  {
   "cell_type": "code",
   "execution_count": 10,
   "id": "136c13f0",
   "metadata": {},
   "outputs": [],
   "source": [
    "N_sigma = 100"
   ]
  },
  {
   "cell_type": "markdown",
   "id": "de2be4c2",
   "metadata": {},
   "source": [
    "Run simulations for conductivity $\\sigma$ ranging from $10^{-10} \\: \\mathrm{S}/\\mathrm{m}$ to $1 \\: \\mathrm{S}/\\mathrm{m}$."
   ]
  },
  {
   "cell_type": "code",
   "execution_count": 11,
   "id": "6db2779e",
   "metadata": {},
   "outputs": [],
   "source": [
    "sigma__array = ureg.Quantity(\n",
    "    np.logspace(\n",
    "        start=np.log10(1e-10),\n",
    "        stop=np.log10(1e0),\n",
    "        num=N_sigma), 'S/m')"
   ]
  },
  {
   "cell_type": "markdown",
   "id": "c5e30243",
   "metadata": {},
   "source": [
    "Assume a mobility of $\\mu = 10^{-8} \\: \\mathrm{m}^2 \\big/ \\mathrm{V} \\, \\mathrm{s}$, typical for vacancies.  \n",
    "\n",
    "From the conductivity $\\sigma$ and mobility $\\mu$, compute a charge density $\\rho = \\sigma \\big/ q_{\\mathrm{e}} \\mu$, with $q_{\\mathrm{e}}$ the electronic unit of charge."
   ]
  },
  {
   "cell_type": "code",
   "execution_count": 12,
   "id": "11adb142",
   "metadata": {},
   "outputs": [],
   "source": [
    "mu = ureg.Quantity(1e-8, 'm^2/(V s)') \n",
    "rho__array = (sigma__array / (qe * mu)).to('1/m^3')"
   ]
  },
  {
   "cell_type": "markdown",
   "id": "5d40158b",
   "metadata": {},
   "source": [
    "Print out the associated range of charge densities."
   ]
  },
  {
   "cell_type": "code",
   "execution_count": 13,
   "id": "0d7e250e",
   "metadata": {},
   "outputs": [
    {
     "name": "stdout",
     "output_type": "stream",
     "text": [
      "6.24e+10 1/cm^3\n",
      "6.24e+20 1/cm^3\n"
     ]
    }
   ],
   "source": [
    "for val in [rho__array.min().to('1/cm^3').magnitude,\n",
    "            rho__array.max().to('1/cm^3').magnitude]:\n",
    "    \n",
    "  print('{:0.2e} 1/cm^3'.format(val))"
   ]
  },
  {
   "cell_type": "markdown",
   "id": "c83ad443",
   "metadata": {},
   "source": [
    "Now prepare to loop over the conductivity and charge density together"
   ]
  },
  {
   "cell_type": "code",
   "execution_count": 14,
   "id": "e09de00f",
   "metadata": {},
   "outputs": [],
   "source": [
    "data = {}"
   ]
  },
  {
   "cell_type": "markdown",
   "id": "8c242ca8",
   "metadata": {},
   "source": [
    "A function to loop over $\\sigma$ and $\\rho$ and compute the value of the $K_\\ell$ integrals, with $\\ell = 0, 1, 2$, at a modulation frequency of $\\omega_{\\mathrm{m}} = 10^{-5} \\: \\mathrm{Hz}$ (i.e., nearly $0$).  In the code below, save caculated values to a `pandas` dataframe, which we can nicely print out."
   ]
  },
  {
   "cell_type": "code",
   "execution_count": 15,
   "id": "a6cc28c3",
   "metadata": {},
   "outputs": [],
   "source": [
    "def loop_conductivity(sample1_jit, sigma__array, rho__array):\n",
    "    \n",
    "    df = pd.DataFrame()\n",
    "    for index, (sigma_, rho_) in enumerate(zip(sigma__array, rho__array)):\n",
    "    \n",
    "        sample1_jit.rho = rho_.to('1/m^3').magnitude\n",
    "        sample1_jit.sigma = sigma_.to('S/m').magnitude\n",
    "        \n",
    "        z_c = ureg.Quantity(sample1_jit.cantilever.z_c, 'm')\n",
    "        ep = sample1_jit.epsilon_s.real\n",
    "        LD = ureg.Quantity(sample1_jit.LD, 'm')\n",
    "        omega_0 = (ureg.Quantity(sample1_jit.sigma, 'S/m')/epsilon0).to('Hz')\n",
    "        K0 = 2 * z_c**1 * K_jit(0, theta1norm_jit, sample1_jit, 1.0e-5, False)\n",
    "        K1 = 4 * z_c**2 * K_jit(1, theta1norm_jit, sample1_jit, 1.0e-5, False)\n",
    "        K2 = 4 * z_c**3 * K_jit(2, theta1norm_jit, sample1_jit, 1.0e-5, False)\n",
    "    \n",
    "        new_row = pd.DataFrame([\n",
    "            {'sigma [S/m]': sigma_.to('S/m').magnitude,\n",
    "             'rho [1/cm^3]': rho_.to('1/cm^3').magnitude,\n",
    "             'rho scaled 2': (z_c**2/(ep * LD**2)).to('').magnitude,\n",
    "             'rho scaled 3': (z_c**2/(7.742 * ep * LD**2)).to('').magnitude,  # see below\n",
    "             'omega0 [Hz]': omega_0.to('Hz').magnitude,\n",
    "             'norm K0': K0.to('').magnitude,\n",
    "             'norm K1': K1.to('').magnitude,\n",
    "             'norm K2': K2.to('').magnitude}])\n",
    "    \n",
    "        df = pd.concat([df, new_row], ignore_index=True)\n",
    "    \n",
    "    return df"
   ]
  },
  {
   "cell_type": "markdown",
   "id": "da9905fc",
   "metadata": {},
   "source": [
    "Run the simulations and print out the results.  Print out every $10^{\\mathrm{th}}$ row."
   ]
  },
  {
   "cell_type": "code",
   "execution_count": 16,
   "id": "eb89b2ce",
   "metadata": {},
   "outputs": [
    {
     "data": {
      "text/html": [
       "<div>\n",
       "<style scoped>\n",
       "    .dataframe tbody tr th:only-of-type {\n",
       "        vertical-align: middle;\n",
       "    }\n",
       "\n",
       "    .dataframe tbody tr th {\n",
       "        vertical-align: top;\n",
       "    }\n",
       "\n",
       "    .dataframe thead th {\n",
       "        text-align: right;\n",
       "    }\n",
       "</style>\n",
       "<table border=\"1\" class=\"dataframe\">\n",
       "  <thead>\n",
       "    <tr style=\"text-align: right;\">\n",
       "      <th></th>\n",
       "      <th>sigma [S/m]</th>\n",
       "      <th>rho [1/cm^3]</th>\n",
       "      <th>rho scaled 2</th>\n",
       "      <th>rho scaled 3</th>\n",
       "      <th>omega0 [Hz]</th>\n",
       "      <th>norm K0</th>\n",
       "      <th>norm K1</th>\n",
       "      <th>norm K2</th>\n",
       "    </tr>\n",
       "  </thead>\n",
       "  <tbody>\n",
       "    <tr>\n",
       "      <th>0</th>\n",
       "      <td>1.000000e-10</td>\n",
       "      <td>6.241509e+10</td>\n",
       "      <td>0.000012</td>\n",
       "      <td>0.000002</td>\n",
       "      <td>1.129409e+01</td>\n",
       "      <td>0.906144</td>\n",
       "      <td>0.904792</td>\n",
       "      <td>0.904772</td>\n",
       "    </tr>\n",
       "    <tr>\n",
       "      <th>10</th>\n",
       "      <td>1.023531e-09</td>\n",
       "      <td>6.388378e+11</td>\n",
       "      <td>0.000119</td>\n",
       "      <td>0.000015</td>\n",
       "      <td>1.155985e+02</td>\n",
       "      <td>0.906893</td>\n",
       "      <td>0.904850</td>\n",
       "      <td>0.904781</td>\n",
       "    </tr>\n",
       "    <tr>\n",
       "      <th>20</th>\n",
       "      <td>1.047616e-08</td>\n",
       "      <td>6.538703e+12</td>\n",
       "      <td>0.001219</td>\n",
       "      <td>0.000158</td>\n",
       "      <td>1.183187e+03</td>\n",
       "      <td>0.910501</td>\n",
       "      <td>0.905297</td>\n",
       "      <td>0.904872</td>\n",
       "    </tr>\n",
       "    <tr>\n",
       "      <th>30</th>\n",
       "      <td>1.072267e-07</td>\n",
       "      <td>6.692566e+13</td>\n",
       "      <td>0.012482</td>\n",
       "      <td>0.001612</td>\n",
       "      <td>1.211028e+04</td>\n",
       "      <td>0.920342</td>\n",
       "      <td>0.907891</td>\n",
       "      <td>0.905661</td>\n",
       "    </tr>\n",
       "    <tr>\n",
       "      <th>40</th>\n",
       "      <td>1.097499e-06</td>\n",
       "      <td>6.850049e+14</td>\n",
       "      <td>0.127755</td>\n",
       "      <td>0.016502</td>\n",
       "      <td>1.239525e+05</td>\n",
       "      <td>0.940381</td>\n",
       "      <td>0.918723</td>\n",
       "      <td>0.910891</td>\n",
       "    </tr>\n",
       "    <tr>\n",
       "      <th>50</th>\n",
       "      <td>1.123324e-05</td>\n",
       "      <td>7.011237e+15</td>\n",
       "      <td>1.307609</td>\n",
       "      <td>0.168898</td>\n",
       "      <td>1.268692e+06</td>\n",
       "      <td>0.967168</td>\n",
       "      <td>0.945168</td>\n",
       "      <td>0.931187</td>\n",
       "    </tr>\n",
       "    <tr>\n",
       "      <th>60</th>\n",
       "      <td>1.149757e-04</td>\n",
       "      <td>7.176219e+16</td>\n",
       "      <td>13.383784</td>\n",
       "      <td>1.728724</td>\n",
       "      <td>1.298546e+07</td>\n",
       "      <td>0.987113</td>\n",
       "      <td>0.975387</td>\n",
       "      <td>0.965008</td>\n",
       "    </tr>\n",
       "    <tr>\n",
       "      <th>70</th>\n",
       "      <td>1.176812e-03</td>\n",
       "      <td>7.345082e+17</td>\n",
       "      <td>136.987178</td>\n",
       "      <td>17.694030</td>\n",
       "      <td>1.329102e+08</td>\n",
       "      <td>0.995769</td>\n",
       "      <td>0.991599</td>\n",
       "      <td>0.987509</td>\n",
       "    </tr>\n",
       "    <tr>\n",
       "      <th>80</th>\n",
       "      <td>1.204504e-02</td>\n",
       "      <td>7.517920e+18</td>\n",
       "      <td>1402.106268</td>\n",
       "      <td>181.103884</td>\n",
       "      <td>1.360377e+09</td>\n",
       "      <td>0.998667</td>\n",
       "      <td>0.997338</td>\n",
       "      <td>0.996012</td>\n",
       "    </tr>\n",
       "    <tr>\n",
       "      <th>90</th>\n",
       "      <td>1.232847e-01</td>\n",
       "      <td>7.694824e+19</td>\n",
       "      <td>14350.992612</td>\n",
       "      <td>1853.654432</td>\n",
       "      <td>1.392388e+10</td>\n",
       "      <td>0.999583</td>\n",
       "      <td>0.999166</td>\n",
       "      <td>0.998749</td>\n",
       "    </tr>\n",
       "  </tbody>\n",
       "</table>\n",
       "</div>"
      ],
      "text/plain": [
       "     sigma [S/m]  rho [1/cm^3]  rho scaled 2  rho scaled 3   omega0 [Hz]  \\\n",
       "0   1.000000e-10  6.241509e+10      0.000012      0.000002  1.129409e+01   \n",
       "10  1.023531e-09  6.388378e+11      0.000119      0.000015  1.155985e+02   \n",
       "20  1.047616e-08  6.538703e+12      0.001219      0.000158  1.183187e+03   \n",
       "30  1.072267e-07  6.692566e+13      0.012482      0.001612  1.211028e+04   \n",
       "40  1.097499e-06  6.850049e+14      0.127755      0.016502  1.239525e+05   \n",
       "50  1.123324e-05  7.011237e+15      1.307609      0.168898  1.268692e+06   \n",
       "60  1.149757e-04  7.176219e+16     13.383784      1.728724  1.298546e+07   \n",
       "70  1.176812e-03  7.345082e+17    136.987178     17.694030  1.329102e+08   \n",
       "80  1.204504e-02  7.517920e+18   1402.106268    181.103884  1.360377e+09   \n",
       "90  1.232847e-01  7.694824e+19  14350.992612   1853.654432  1.392388e+10   \n",
       "\n",
       "     norm K0   norm K1   norm K2  \n",
       "0   0.906144  0.904792  0.904772  \n",
       "10  0.906893  0.904850  0.904781  \n",
       "20  0.910501  0.905297  0.904872  \n",
       "30  0.920342  0.907891  0.905661  \n",
       "40  0.940381  0.918723  0.910891  \n",
       "50  0.967168  0.945168  0.931187  \n",
       "60  0.987113  0.975387  0.965008  \n",
       "70  0.995769  0.991599  0.987509  \n",
       "80  0.998667  0.997338  0.996012  \n",
       "90  0.999583  0.999166  0.998749  "
      ]
     },
     "execution_count": 16,
     "metadata": {},
     "output_type": "execute_result"
    }
   ],
   "source": [
    "data['01'] = loop_conductivity(sample1_jit, sigma__array, rho__array)\n",
    "data['01'].iloc[::10]"
   ]
  },
  {
   "cell_type": "markdown",
   "id": "dad46752",
   "metadata": {},
   "source": [
    "# Plot the scaled $K_{\\ell}$ integral at $\\omega \\rightarrow 0$"
   ]
  },
  {
   "cell_type": "markdown",
   "id": "9699ddbb",
   "metadata": {},
   "source": [
    "A function to plot out the $K_\\ell$ integrals versus scaled charge density $\\hat{\\rho}_2$."
   ]
  },
  {
   "cell_type": "code",
   "execution_count": 17,
   "id": "a1fb916b",
   "metadata": {},
   "outputs": [],
   "source": [
    "def plotKs(data):\n",
    "\n",
    "    keys = ['norm K0', 'norm K1', 'norm K2']\n",
    "\n",
    "    labels = [r'$K_0(0) \\times 2 z_{\\mathrm{c}}$', \n",
    "              r'$K_1(0) \\times 4 z^2_{\\mathrm{c}}$', \n",
    "              r'$K_2(0) \\times 4 z^3_{\\mathrm{c}}$']\n",
    "    \n",
    "    colors = ['r','g','b']\n",
    "\n",
    "    with plt.style.context('seaborn-v0_8'):\n",
    "\n",
    "        fig, axes = plt.subplots(3, 1, figsize=(3.25,5.0), sharex=True)\n",
    "\n",
    "        for index, (key, label, c) in enumerate(zip(keys, labels, colors)):\n",
    "            \n",
    "            axes[index].set_ylabel(label)\n",
    "            axes[index].semilogx(data['01']['rho scaled 2'], data['01'][key], color=c)\n",
    "\n",
    "        axes[2].set_xlabel(\n",
    "            r'scaled charge density $\\hat{\\rho}_2 = '\n",
    "            r'z^2_{\\mathrm{c}} \\Big/ \\epsilon^{\\prime}_{\\mathrm{s}} \\lambda^2_{\\mathrm{D}}$')\n",
    "\n",
    "        fig.align_ylabels()\n",
    "        plt.tight_layout()\n",
    "\n",
    "    return fig"
   ]
  },
  {
   "cell_type": "markdown",
   "id": "9b30a725",
   "metadata": {},
   "source": [
    "The figure takes a minute to generate using LaTeX."
   ]
  },
  {
   "cell_type": "code",
   "execution_count": 18,
   "id": "7d32ce5a",
   "metadata": {},
   "outputs": [
    {
     "data": {
      "image/png": "[encoded data removed]",
      "text/plain": [
       "<Figure size 325x500 with 3 Axes>"
      ]
     },
     "metadata": {},
     "output_type": "display_data"
    }
   ],
   "source": [
    "figs['01'] = plotKs(data)"
   ]
  },
  {
   "cell_type": "markdown",
   "id": "1de1c907",
   "metadata": {},
   "source": [
    "<div class=\"alert alert-danger\">\n",
    "The different integrals have different half points!\n",
    "</div>\n",
    "\n",
    "For example, the half-point for the $K_0$ integral is near $\\hat{\\rho}_2 \\sim 0.1$ whereas the half-point for the $K_2$ integral is near $\\hat{\\rho}_2 \\sim 5$. "
   ]
  },
  {
   "cell_type": "markdown",
   "id": "3cf7e501",
   "metadata": {},
   "source": [
    "# Plot the scaled $K_2$ integral at $\\omega \\rightarrow 0$ for various $\\epsilon^{\\prime}_{\\mathrm{r}}$"
   ]
  },
  {
   "cell_type": "markdown",
   "id": "109f1409",
   "metadata": {},
   "source": [
    "Now set up an array of sample dielectric constants $\\epsilon_{\\mathrm{s}}$ to loop over.  Vary the real part of the dielectric constant from $3$ to $50$.  For simplicity, set the imaginary part of the dielectric constant to $0$."
   ]
  },
  {
   "cell_type": "code",
   "execution_count": 19,
   "id": "a5661143",
   "metadata": {},
   "outputs": [],
   "source": [
    "epsilon_s__array = np.array([complex(3, 0), complex(5, 0), \n",
    "                             complex(10, 0), complex(20, 0), \n",
    "                             complex(30, 0), complex(50, 0)])"
   ]
  },
  {
   "cell_type": "markdown",
   "id": "39cfb975",
   "metadata": {},
   "source": [
    "A function to loop over dielectric constant and, at each dielectric constant, loop over conductivity (and charge density)."
   ]
  },
  {
   "cell_type": "code",
   "execution_count": 20,
   "id": "72ae317f",
   "metadata": {},
   "outputs": [],
   "source": [
    "def loop_epsilon_conductivity(sample1_jit, epsilon_s__array, sigma__array, rho__array):\n",
    "    \n",
    "    newdata = {}\n",
    "    for index, epsilon_s_ in enumerate(epsilon_s__array):\n",
    "        \n",
    "        sample1_jit.epsilon_s = epsilon_s_\n",
    "        newdata[index] = loop_conductivity(sample1_jit, sigma__array, rho__array)\n",
    "        \n",
    "    return newdata"
   ]
  },
  {
   "cell_type": "code",
   "execution_count": 21,
   "id": "4593ebe9",
   "metadata": {},
   "outputs": [],
   "source": [
    "newdata = loop_epsilon_conductivity(sample1_jit, epsilon_s__array, sigma__array, rho__array)"
   ]
  },
  {
   "cell_type": "markdown",
   "id": "a32bd178",
   "metadata": {},
   "source": [
    "A function to plot the integral $K_2$ vs scaled charge density at the selected dielectric constants."
   ]
  },
  {
   "cell_type": "code",
   "execution_count": 22,
   "id": "34c73601",
   "metadata": {},
   "outputs": [],
   "source": [
    "def plotKs_epsilon(epsilon_s__array, newdata):\n",
    "    \n",
    "    with plt.style.context('seaborn-v0_8'):\n",
    "\n",
    "        fig = plt.figure(figsize=(3.50,3.25))\n",
    "        \n",
    "        for key, epsilon in zip(newdata.keys(), epsilon_s__array):\n",
    "        \n",
    "            plt.semilogx(newdata[key]['rho scaled 2'], \n",
    "                         newdata[key]['norm K2'],\n",
    "                         label=epsilon.real)\n",
    "\n",
    "        plt.ylabel(r'scaled integral $K_2(0) \\times 4 z^3_{\\mathrm{c}}$')\n",
    "        plt.xlabel(\n",
    "            r'scaled charge density $\\hat{\\rho}_2 = '\n",
    "            r'z^2_{\\mathrm{c}} \\Big/ \\epsilon^{\\prime}_{\\mathrm{s}} \\lambda^2_{\\mathrm{D}}$')\n",
    "        plt.legend(fontsize=9, frameon=False, title=r'$\\epsilon^{\\prime}_{\\mathrm{r}}$')\n",
    "        fig.align_ylabels()\n",
    "        plt.tight_layout()\n",
    "\n",
    "    return fig"
   ]
  },
  {
   "cell_type": "markdown",
   "id": "72153005",
   "metadata": {},
   "source": [
    "The figure takes a minute to generate using LaTeX."
   ]
  },
  {
   "cell_type": "code",
   "execution_count": 23,
   "id": "d527e07e",
   "metadata": {},
   "outputs": [
    {
     "data": {
      "image/png": "[encoded data removed]",
      "text/plain": [
       "<Figure size 350x325 with 1 Axes>"
      ]
     },
     "execution_count": 23,
     "metadata": {},
     "output_type": "execute_result"
    }
   ],
   "source": [
    "figs['02'] = plotKs_epsilon(epsilon_s__array, newdata)\n",
    "figs['02']"
   ]
  },
  {
   "cell_type": "markdown",
   "id": "3456aa46",
   "metadata": {},
   "source": [
    "<div class=\"alert alert-warning\">\n",
    "The charge-density half point for the $K_2$ integral depends on dielectric constant $\\epsilon_{\\mathrm{s}}$.\n",
    "</div>"
   ]
  },
  {
   "cell_type": "markdown",
   "id": "d47524a4",
   "metadata": {},
   "source": [
    "# Explore the midpoint\n",
    "\n",
    "In Loring's notation, we can write the integral $K_2(\\omega \\rightarrow 0)$ as follows\n",
    "\n",
    "\\begin{equation}\n",
    "K_2 = \\frac{1}{4 z^3_{\\mathrm{c}}}\n",
    "  \\left\\{ \\frac{\\epsilon_{\\mathrm{s}} - 1}{\\epsilon_{\\mathrm{s}} + 1} \n",
    "  + \\frac{2}{\\epsilon_{\\mathrm{s}} + 1} f \\right\\}\n",
    "\\end{equation}\n",
    "\n",
    "with\n",
    "\n",
    "\\begin{equation}\n",
    "f = 4 \\epsilon_{\\mathrm{s}} \n",
    "  \\int_{0}^{\\infty} dy \\: y^2 e^{- 2 y} \n",
    "    \\frac{1 - \\dfrac{y}{\\sqrt{y^2 + \\hat{\\rho}_2}}}\n",
    "         {\\epsilon_{\\mathrm{s}} + \\dfrac{y}{\\sqrt{y^2 + \\hat{\\rho}_2}}}\n",
    "\\end{equation}\n",
    "\n",
    "a unitless function depending on the sample dielectric constant $\\epsilon_{\\mathrm{s}}$ and $\\hat{\\rho}_2 = z^2_{\\mathrm{c}} \\big/ \\epsilon_{\\mathrm{s}} \\lambda^2_{\\mathrm{D}}$ the scaled charge density.  At zero charge density, $\\hat{\\rho}_2 \\rightarrow 0$, $f = 0$, and the integral becomes\n",
    "\n",
    "\\begin{equation}\n",
    "K_2 \\rightarrow \\frac{1}{4 z^3_{\\mathrm{c}}} \n",
    "  \\frac{\\epsilon_{\\mathrm{s}} - 1}{\\epsilon_{\\mathrm{s}} + 1}\n",
    "  \\Longrightarrow\n",
    "  K_2 \\times 4 z^3_{\\mathrm{c}} \n",
    "  = \\frac{\\epsilon_{\\mathrm{s}} - 1}{\\epsilon_{\\mathrm{s}} + 1}\n",
    "\\end{equation}\n",
    "\n",
    "At infinite charge density, $\\hat{\\rho}_2 \\rightarrow \\infty$, $f = 1$, and the integral becomes\n",
    "\n",
    "\\begin{equation}\n",
    "K_2 \\rightarrow \\frac{1}{4 z^3_{\\mathrm{c}}}\n",
    "    \\Longrightarrow\n",
    "  K_2 \\times 4 z^3_{\\mathrm{c}} = 1\n",
    "\\end{equation}\n",
    "\n",
    "When $f = 0.5$, the $K_2$ integral is halfway to its limiting value.  Below we determine numerically the value of the scaled charge density, $\\hat{\\rho}_2^\\text{half}$, where this halfway-point occurs.  Based on the plot above, we expect that  $\\hat{\\rho}_2^\\text{half}$ will depend weakly on $\\epsilon_{\\mathrm{s}}$."
   ]
  },
  {
   "cell_type": "markdown",
   "id": "92aa121a",
   "metadata": {},
   "source": [
    "Define the function $f$.  In the code below, `ep` represents $\\epsilon_{\\mathrm{s}}$ and `r` represents $\\hat{\\rho}_2$."
   ]
  },
  {
   "cell_type": "code",
   "execution_count": 24,
   "id": "255d4473",
   "metadata": {},
   "outputs": [],
   "source": [
    "def f(y, ep, r):\n",
    "    psi = y/np.sqrt(y**2 + r)\n",
    "    return 4 * ep * y**2 * np.exp(-2*y) * (1 - psi)/(ep + psi)"
   ]
  },
  {
   "cell_type": "markdown",
   "id": "c1ca9087",
   "metadata": {},
   "source": [
    "Find the halfway point by hand for two values of the dielecric constant, 3 and 20."
   ]
  },
  {
   "cell_type": "code",
   "execution_count": 25,
   "id": "74241613",
   "metadata": {},
   "outputs": [
    {
     "data": {
      "text/plain": [
       "0.5000104107238752"
      ]
     },
     "execution_count": 25,
     "metadata": {},
     "output_type": "execute_result"
    }
   ],
   "source": [
    "r_half = 7.743 # adjust by hand\n",
    "integrate.quad(f, 0., np.inf, args=(3.0, r_half))[0]"
   ]
  },
  {
   "cell_type": "code",
   "execution_count": 26,
   "id": "9a450e24",
   "metadata": {},
   "outputs": [
    {
     "data": {
      "text/plain": [
       "0.5000174637654241"
      ]
     },
     "execution_count": 26,
     "metadata": {},
     "output_type": "execute_result"
    }
   ],
   "source": [
    "r_half = 5.589 # adjust by hand\n",
    "integrate.quad(f, 0., np.inf, args=(20.0, r_half))[0]"
   ]
  },
  {
   "cell_type": "markdown",
   "id": "c2f96a7d",
   "metadata": {},
   "source": [
    "We are looking for the value of `r_half` where `f` evaluates to 0.50.  This is equivalent to a root-finding problem.  Define a function `froot` which is just $f - 0.50$"
   ]
  },
  {
   "cell_type": "code",
   "execution_count": 27,
   "id": "22c9327f",
   "metadata": {},
   "outputs": [],
   "source": [
    "def froot(r, ep):\n",
    "    return -0.5 + integrate.quad(f, 0., np.inf, args=(ep, r))[0]"
   ]
  },
  {
   "cell_type": "markdown",
   "id": "551cdd90",
   "metadata": {},
   "source": [
    "We can now use the `scipy.optimize` function `fsolve` to find where `froot = 0`, which is equivalent to finding where $f = 0.5$.  Use an initial guess of `r_half = 5.0`."
   ]
  },
  {
   "cell_type": "code",
   "execution_count": 28,
   "id": "31f9e760",
   "metadata": {},
   "outputs": [
    {
     "data": {
      "text/plain": [
       "7.742478278622934"
      ]
     },
     "execution_count": 28,
     "metadata": {},
     "output_type": "execute_result"
    }
   ],
   "source": [
    "fsolve(froot, 5., args=(3.0))[0]"
   ]
  },
  {
   "cell_type": "code",
   "execution_count": 29,
   "id": "41cdb378",
   "metadata": {},
   "outputs": [
    {
     "data": {
      "text/plain": [
       "5.5883850237981205"
      ]
     },
     "execution_count": 29,
     "metadata": {},
     "output_type": "execute_result"
    }
   ],
   "source": [
    "fsolve(froot, 5., args=(20.0))[0]"
   ]
  },
  {
   "cell_type": "markdown",
   "id": "8560bacd",
   "metadata": {},
   "source": [
    "Now find the `r_half` values using the `fsolve` function for $200$ dielectric constants ranging from $\\epsilon_{\\mathrm{s}} = 3$ to $\\epsilon_{\\mathrm{s}} = 100$."
   ]
  },
  {
   "cell_type": "code",
   "execution_count": 30,
   "id": "d931867b",
   "metadata": {},
   "outputs": [],
   "source": [
    "ep_list = np.linspace(3, 100, 200)\n",
    "\n",
    "r_half_list = np.zeros_like(ep_list)\n",
    "for index, ep in enumerate(ep_list):\n",
    "    r_half_list[index] = fsolve(froot, 5, args=(ep))[0]"
   ]
  },
  {
   "cell_type": "markdown",
   "id": "b3515a3e",
   "metadata": {},
   "source": [
    "Determine $\\hat{\\rho}_2^{\\mathrm{half}}$ at selected values of $\\epsilon_{\\mathrm{s}}$.  In the printout below, the first column is $\\epsilon_{\\mathrm{s}}$ and the second column is $\\hat{\\rho}_2^{\\mathrm{half}}$. "
   ]
  },
  {
   "cell_type": "code",
   "execution_count": 31,
   "id": "5c50abc5",
   "metadata": {},
   "outputs": [
    {
     "name": "stdout",
     "output_type": "stream",
     "text": [
      "    3.0 7.742\n",
      "   10.0 5.949\n",
      "   20.0 5.588\n",
      "  100.0 5.306\n",
      " 1000.0 5.243\n",
      "10000.0 5.237\n"
     ]
    }
   ],
   "source": [
    "for ep in [3, 10, 20, 100, 1000, 10000]:\n",
    "    print(\"{:7.1f} {:0.3f}\".format(ep, fsolve(froot, 5., args=(ep))[0]))"
   ]
  },
  {
   "cell_type": "markdown",
   "id": "e875c567",
   "metadata": {},
   "source": [
    "So $\\hat{\\rho}_2^{\\mathrm{half}}$ varies from 7.742 at $\\epsilon_{\\mathrm{s}} = 3$ to 5.306 at $\\epsilon_{\\mathrm{s}} = 100$."
   ]
  },
  {
   "cell_type": "markdown",
   "id": "02c38a3d",
   "metadata": {},
   "source": [
    "A function to plot $\\hat{\\rho}_2^{\\mathrm{half}}$ vs. $\\epsilon_{\\mathrm{s}}$ data computed above."
   ]
  },
  {
   "cell_type": "code",
   "execution_count": 32,
   "id": "d2067a39",
   "metadata": {},
   "outputs": [],
   "source": [
    "def plotrhalf(ep_list, r_half_list):\n",
    "    \n",
    "    with plt.style.context('seaborn-v0_8'):\n",
    "\n",
    "        fig = plt.figure(figsize=(3.25,2.50))    \n",
    "        plt.semilogx(ep_list, r_half_list)\n",
    "        plt.grid(True, which=\"both\")\n",
    "        plt.xlabel(r'sample dielectric constant $\\epsilon_{\\mathrm{s}}$')\n",
    "        plt.ylabel(r'half point $\\hat{\\rho}_2^{\\mathrm{half}}$')\n",
    "        plt.tight_layout()\n",
    "\n",
    "    return fig"
   ]
  },
  {
   "cell_type": "markdown",
   "id": "dffd44da",
   "metadata": {},
   "source": [
    "The half point is a weak function of the dielectric constant, so use a linear scale for the $y$ axis and a log scale for the $x$ axis."
   ]
  },
  {
   "cell_type": "code",
   "execution_count": 33,
   "id": "3ad50a50",
   "metadata": {},
   "outputs": [
    {
     "data": {
      "image/png": "[encoded data removed]",
      "text/plain": [
       "<Figure size 325x250 with 1 Axes>"
      ]
     },
     "execution_count": 33,
     "metadata": {},
     "output_type": "execute_result"
    }
   ],
   "source": [
    "figs['03'] = plotrhalf(ep_list, r_half_list)\n",
    "figs['03']"
   ]
  },
  {
   "cell_type": "markdown",
   "id": "97eeb5cf",
   "metadata": {},
   "source": [
    "<div class=\"alert alert-warning\">\n",
    "The half point for the $K_2$ integral is only weakly dependent on the dielectric constant.\n",
    "</div>"
   ]
  },
  {
   "cell_type": "markdown",
   "id": "0d76dcd5",
   "metadata": {},
   "source": [
    "# Define a new scaled charge density $\\hat{\\rho}_3$ and replot $K_2$ vs. $\\hat{\\rho}_3$"
   ]
  },
  {
   "cell_type": "markdown",
   "id": "6b10cf22",
   "metadata": {},
   "source": [
    "Define a new scaled charge density given by \n",
    "\n",
    "\\begin{equation}\n",
    "\\hat{\\rho}_3 \n",
    "  \\equiv \n",
    "  \\frac{z^2_{\\mathrm{c}}}\n",
    "       {7.742 \\epsilon_{\\mathrm{s}} \\lambda^2_{\\mathrm{D}}}\n",
    "\\end{equation}\n",
    "\n",
    "where the numerical factor $7.742$ in the denominator was chosen so that $\\hat{\\rho}_3^{\\mathrm{half}} = 1$ for a sample with $\\epsilon_{\\mathrm{s}} = 3$ (typical of an organic semiconductor)."
   ]
  },
  {
   "cell_type": "code",
   "execution_count": 34,
   "id": "53af1f45",
   "metadata": {},
   "outputs": [],
   "source": [
    "def plotKs_epsilon_new(epsilon_s__array, newdata):\n",
    "    \n",
    "    with plt.style.context('seaborn-v0_8'):\n",
    "\n",
    "        fig = plt.figure(figsize=(3.65,3.25))\n",
    "        \n",
    "        for key, epsilon in zip(newdata.keys(), epsilon_s__array):\n",
    "        \n",
    "            plt.semilogx(newdata[key]['rho scaled 3'], \n",
    "                         newdata[key]['norm K2'],\n",
    "                         label=epsilon.real)\n",
    "\n",
    "        plt.ylabel(r'scaled integral $K_2(0) \\times 4 z^3_{\\mathrm{c}}$')\n",
    "        plt.xlabel(\n",
    "            r'scaled charge density $\\hat{\\rho}_3 = '\n",
    "            r'z^2_{\\mathrm{c}} \\Big/ 7.742 \\, \\epsilon^{\\prime}_{\\mathrm{s}} \\lambda^2_{\\mathrm{D}}$')\n",
    "        plt.legend(fontsize=9, frameon=False, title=r'$\\epsilon^{\\prime}_{\\mathrm{r}}$')\n",
    "        plt.xlim(1e-6, 1e6)\n",
    "        fig.align_ylabels()\n",
    "        plt.tight_layout()\n",
    "\n",
    "    return fig"
   ]
  },
  {
   "cell_type": "code",
   "execution_count": 35,
   "id": "f7d1e9e4",
   "metadata": {},
   "outputs": [
    {
     "data": {
      "image/png": "[encoded data removed]",
      "text/plain": [
       "<Figure size 365x325 with 1 Axes>"
      ]
     },
     "execution_count": 35,
     "metadata": {},
     "output_type": "execute_result"
    }
   ],
   "source": [
    "figs['04'] = plotKs_epsilon_new(epsilon_s__array, newdata)\n",
    "figs['04']"
   ]
  },
  {
   "cell_type": "markdown",
   "id": "ff15698a",
   "metadata": {},
   "source": [
    "<div class=\"alert alert-success\">\n",
    "We can define a new scaled charged density $\\hat{\\rho}_3$ such that the $K_2$ integral's half point is near $\\hat{\\rho}_3^{\\mathrm{half}} = 1$ for $\\epsilon_{\\mathrm{r}} = 3$. The half point for dielectric constant $\\epsilon_{\\mathrm{r}} \\geq 3$ will be $\\hat{\\rho}_3^{\\mathrm{half}} \\leq 1$.\n",
    "</div>"
   ]
  },
  {
   "cell_type": "raw",
   "id": "e9fc66f7",
   "metadata": {},
   "source": [
    "::: {.content-hidden when-format=\"html\"}"
   ]
  },
  {
   "cell_type": "markdown",
   "id": "1de46830",
   "metadata": {},
   "source": [
    "# Save the figures"
   ]
  },
  {
   "cell_type": "code",
   "execution_count": 36,
   "id": "8b31af3e",
   "metadata": {},
   "outputs": [],
   "source": [
    "if 1:\n",
    "    for num in figs.keys():\n",
    "        figname = THIS + \"Fig-\" + num\n",
    "        figs[num].savefig(figname + '.png', dpi=300)\n",
    "        figs[num].savefig(figname + '.pdf')"
   ]
  },
  {
   "cell_type": "raw",
   "id": "357a76a9",
   "metadata": {},
   "source": [
    ":::"
   ]
  },
  {
   "cell_type": "markdown",
   "id": "4828f63f",
   "metadata": {},
   "source": [
    "::: {.content-hidden when-format=\"html\"}\n",
    "\n",
    "# Formatting notes\n",
    "\n",
    "The header at the top of this file is for creating a nicely-formatted `.html` document using the program `quarto` ([link](https://quarto.org/)).  To create nicely-formated `.html`versions of this notebook, run `quarto` from the command line as follows\n",
    "\n",
    "    quarto render dissipation-theory--Study-40.ipynb \n",
    "\n",
    "Other useful information about this notebook:\n",
    "\n",
    "- Filename: `dissipation-theory--Study-40.ipynb`\n",
    "- Continued from: `dissipation-theory--Study-39.ipynb`\n",
    "- Continued to: ---\n",
    "\n",
    ":::"
   ]
  },
  {
   "cell_type": "code",
   "execution_count": null,
   "id": "c1b52328",
   "metadata": {},
   "outputs": [],
   "source": []
  }
 ],
 "metadata": {
  "kernelspec": {
   "display_name": "dissipationtheory",
   "language": "python",
   "name": "dissipationtheory"
  },
  "language_info": {
   "codemirror_mode": {
    "name": "ipython",
    "version": 3
   },
   "file_extension": ".py",
   "mimetype": "text/x-python",
   "name": "python",
   "nbconvert_exporter": "python",
   "pygments_lexer": "ipython3",
   "version": "3.9.10"
  },
  "toc": {
   "base_numbering": 1,
   "nav_menu": {},
   "number_sections": true,
   "sideBar": true,
   "skip_h1_title": false,
   "title_cell": "Table of Contents",
   "title_sidebar": "Contents",
   "toc_cell": false,
   "toc_position": {},
   "toc_section_display": true,
   "toc_window_display": false
  }
 },
 "nbformat": 4,
 "nbformat_minor": 5
}
