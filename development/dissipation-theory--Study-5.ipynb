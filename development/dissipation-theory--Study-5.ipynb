{
 "cells": [
  {
   "cell_type": "markdown",
   "id": "9bb21ad3-d148-4a86-aa62-040adda9d00f",
   "metadata": {},
   "source": [
    "# Summary\n",
    "\n",
    "* Name: `dissipation-theory--Study-5.ipynb`\n",
    "* Author: John A. Marohn\n",
    "* Date: 2023-09-28\n",
    "* Continued from: `dissipation-theory--Study-4.ipynb`\n",
    "* Continued to: ---\n",
    "* Look at ways to speed up the execution of the code in `dissipation-theory--Study-4.ipynb`."
   ]
  },
  {
   "cell_type": "markdown",
   "id": "a5c4246f-d505-4c64-84f5-52f217d00b08",
   "metadata": {},
   "source": [
    "# Preliminaries"
   ]
  },
  {
   "cell_type": "code",
   "execution_count": 1,
   "id": "c59083b8-5642-4c51-9ee2-44604d2ddab0",
   "metadata": {},
   "outputs": [],
   "source": [
    "import numpy as np\n",
    "from dissipationtheory.constants import ureg, kb, epsilon0\n",
    "from dissipationtheory.capacitance import CsphereOverSemi # <== now part of the codebase\n",
    "from dissipationtheory.dissipation import CantileverModel, SampleModel2 # <== now part of the codebase\n",
    "import matplotlib.pyplot as plt\n",
    "from scipy import integrate\n",
    "import numba\n",
    "from numba import jit\n",
    "import time"
   ]
  },
  {
   "cell_type": "code",
   "execution_count": 2,
   "id": "d186369a-5491-4ee1-94bb-77f4cce2a08b",
   "metadata": {},
   "outputs": [],
   "source": [
    "THIS = 'dissipation-theory--Study-5'"
   ]
  },
  {
   "cell_type": "markdown",
   "id": "31bb9229-5e09-4593-be1d-fed882fb4ec8",
   "metadata": {},
   "source": [
    "# Capacitance over a semiconductor substrate"
   ]
  },
  {
   "cell_type": "markdown",
   "id": "c5595558-7d54-4d41-931c-fbfc0383f5fe",
   "metadata": {},
   "source": [
    "How long does this computation take, and how many terms are needed for reasonable accuracy?  The default it $n = 20$ terms.\n",
    "\n",
    "Compute the capacitance for a sphere of radius $r = 50 \\: \\mathrm{nm}$ over a semi-infinite sample with dielectric constant $\\epsilon_{\\mathrm{s}} = 11.9$ (silicon).  Compute the capacitance, and capacitance first and second derivatives, over a two-decade range of height $h$ starting at $r/100 = 0.5 \\: \\mathrm{nm}$ and ending at $20 \\, r = 1000 \\, \\mathrm{nm}$."
   ]
  },
  {
   "cell_type": "code",
   "execution_count": 3,
   "id": "bd0fd13a-0c36-46b5-b353-88dedecd34c6",
   "metadata": {},
   "outputs": [],
   "source": [
    "r = ureg.Quantity(50., 'nm')\n",
    "\n",
    "h = ureg.Quantity(\n",
    "    np.logspace(\n",
    "        np.log10(r.to('nm').magnitude/100),\n",
    "        np.log10(20*r.to('nm').magnitude),\n",
    "        num=100), \n",
    "    'nm')\n",
    "\n",
    "eps = 11.9"
   ]
  },
  {
   "cell_type": "code",
   "execution_count": 4,
   "id": "dffc6cb4-12cc-4bcc-ab6a-b47889c65243",
   "metadata": {},
   "outputs": [
    {
     "data": {
      "text/html": [
       "0.5 nanometer"
      ],
      "text/latex": [
       "$0.5\\ \\mathrm{nanometer}$"
      ],
      "text/plain": [
       "0.5 <Unit('nanometer')>"
      ]
     },
     "execution_count": 4,
     "metadata": {},
     "output_type": "execute_result"
    }
   ],
   "source": [
    "h[0]"
   ]
  },
  {
   "cell_type": "code",
   "execution_count": 5,
   "id": "42985338-d711-445c-ba8e-febbce62c977",
   "metadata": {},
   "outputs": [
    {
     "data": {
      "text/html": [
       "1000.0 nanometer"
      ],
      "text/latex": [
       "$1000.0\\ \\mathrm{nanometer}$"
      ],
      "text/plain": [
       "1000.0 <Unit('nanometer')>"
      ]
     },
     "execution_count": 5,
     "metadata": {},
     "output_type": "execute_result"
    }
   ],
   "source": [
    "h[-1]"
   ]
  },
  {
   "cell_type": "markdown",
   "id": "785d4e7a-9f7a-4fbd-bc3a-dacdd13f37a8",
   "metadata": {},
   "source": [
    "Compute reference capacitances using $n = 50$ terms."
   ]
  },
  {
   "cell_type": "code",
   "execution_count": 6,
   "id": "66fbba42-f9d4-49d5-a295-142ad7b26fba",
   "metadata": {},
   "outputs": [
    {
     "name": "stdout",
     "output_type": "stream",
     "text": [
      "CPU times: user 38.3 ms, sys: 3.98 ms, total: 42.3 ms\n",
      "Wall time: 53.7 ms\n"
     ]
    }
   ],
   "source": [
    "%%time\n",
    "Cap_ref = {}\n",
    "for index in [0, 1, 2]:\n",
    "    Cap_ref[index] = CsphereOverSemi(index, height=h, radius=r, epsilon=eps, nterm=50)"
   ]
  },
  {
   "cell_type": "markdown",
   "id": "90a51f0b-ad6d-47fb-9656-bad095af7e06",
   "metadata": {},
   "source": [
    "Compute capacitances for various numbers of terms $n$."
   ]
  },
  {
   "cell_type": "code",
   "execution_count": 7,
   "id": "ba041e06-58da-4a19-97e3-07c32015ac51",
   "metadata": {},
   "outputs": [
    {
     "name": "stdout",
     "output_type": "stream",
     "text": [
      "CPU times: user 145 ms, sys: 5.66 ms, total: 150 ms\n",
      "Wall time: 268 ms\n"
     ]
    }
   ],
   "source": [
    "%%time\n",
    "Cap = {}\n",
    "for index in [0, 1, 2]:\n",
    "    Cap_vs_h = {}\n",
    "    for key in ['10', '15', '20', '25', '30']:\n",
    "        Cap_vs_h[key] = CsphereOverSemi(index, height=h, radius=r, epsilon=eps, nterm=int(key))\n",
    "    Cap[index] = Cap_vs_h"
   ]
  },
  {
   "cell_type": "markdown",
   "id": "f65807a6-3ab2-4e1e-b898-dc933127627c",
   "metadata": {},
   "source": [
    "These times are ([link](https://pythonspeed.com/articles/blocking-cpu-or-io/))\n",
    "\n",
    "* `user`: the process CPU time\n",
    "* `sys`: the operating system CPU time due to system calls from the process\n",
    "* `Wall time`: the wall clock time (elapsed)\n",
    "\n",
    "Observe that the time to compute three capacitances ($C$, $dC/dz$, and $d^2 C/d z^2$) at 100 height points is 100 to 300 ms."
   ]
  },
  {
   "cell_type": "markdown",
   "id": "ba78b98e-9aab-4615-bc02-98d81720fa9a",
   "metadata": {},
   "source": [
    "Compute the relative error in the capacitances\n",
    "\\begin{equation}\n",
    "\\epsilon^{(k)}_{\\mathrm{sphere}}(n) = \\frac{C^{(k)}_{\\mathrm{sphere}}(100) - C^{(k)}_{\\mathrm{sphere}}(n)}{C^{(n)}_{\\mathrm{sphere}}(100)}\n",
    "\\end{equation}\n",
    "where $k = 0$ is the capacitance and $k = 1$ and $k - 2$ are the first and second derivates, respectively."
   ]
  },
  {
   "cell_type": "markdown",
   "id": "8a1c7af1-aca1-4018-9f32-77b6f7610658",
   "metadata": {},
   "source": [
    "Plot the capacitances and relative errors."
   ]
  },
  {
   "cell_type": "code",
   "execution_count": 8,
   "id": "48551872-97c9-46fb-94bb-18c00d31e4d1",
   "metadata": {},
   "outputs": [
    {
     "data": {
      "image/png": "[encoded data removed]",
      "text/plain": [
       "<Figure size 1050x525 with 6 Axes>"
      ]
     },
     "metadata": {},
     "output_type": "display_data"
    }
   ],
   "source": [
    "fig, axs = plt.subplots(2, len(Cap.keys()), figsize=(3*3.50, 3*1.75), sharex=True, gridspec_kw={'height_ratios': [1,2]})\n",
    "\n",
    "for index, key, unit, Clabel, sign, in zip(\n",
    "    np.arange(len(Cap.keys())),\n",
    "    Cap.keys(), ['aF', 'pF/m', 'mF/m^2'], \n",
    "    ['$C$', '$-dC/dz$', '$d^2C/dz^2$'],\n",
    "    [1, -1, 1]\n",
    "):\n",
    "\n",
    "    ylabel = Clabel + ' [' + unit + ']'\n",
    "    x = (h/r).to('').magnitude\n",
    "    y = sign*Cap_ref[index].to(unit).magnitude\n",
    "    \n",
    "    axs[0, index].set_ylabel(ylabel)\n",
    "    axs[0, index].loglog(x, y)\n",
    "    axs[0, index].grid(True)\n",
    "\n",
    "    for height in Cap[index].keys():\n",
    "\n",
    "        ylabel = r'$\\epsilon^{(' + '{:}'.format(int(index)) + ')}_{\\mathrm{sphere}}$'\n",
    "        label = '$n = ' + '{:}'.format(int(height)) + '$'\n",
    "        y = (Cap_ref[index].to(unit).magnitude - Cap[index][height].to(unit).magnitude)/Cap_ref[index].to(unit).magnitude\n",
    "\n",
    "        axs[1, index].loglog(x, y, label=label)\n",
    "        axs[1, index].set_ylabel(ylabel)\n",
    "        axs[1, index].set_xlabel('$h/r_{\\mathrm{sphere}}$')\n",
    "        axs[1, index].grid(True)\n",
    "        axs[1, index].legend(fontsize=8)\n",
    "\n",
    "r_str = '{:0.0f}'.format(r.to('nm').magnitude)\n",
    "eps_str = '{:0.1f}'.format(eps)\n",
    "\n",
    "plt.suptitle('Capacitance, capacitance derivatives, and relative errors' +\n",
    "             ' for a sphere ($r = $' + r_str + ' nm)' +\n",
    "             '\\nover a semiinfinite dielectric ($\\epsilon_{\\mathrm{s}} = $' + eps_str + ').' +\n",
    "             ' Errors are computed relative to $n = 50$.')        \n",
    "\n",
    "fig.align_ylabels()\n",
    "plt.tight_layout()\n",
    "\n",
    "plt.savefig(THIS + '--Fig-1', dpi=300)\n",
    "plt.savefig(THIS + '--Fig-1.pdf')\n",
    "\n",
    "plt.show()"
   ]
  },
  {
   "cell_type": "markdown",
   "id": "3630ac6d-2791-4e54-a09f-4d829510f102",
   "metadata": {},
   "source": [
    "**Summary**.  \n",
    "* Relative error is worse at small $h$ and worst for the second derivative.\n",
    "* Using $n = 20$ gives a relative error for the second derivative of 1% at $h \\geq 0.1 \\: r_{\\mathrm{sphere}}$.\n",
    "\n",
    "So use $n = 20$ terms."
   ]
  },
  {
   "cell_type": "code",
   "execution_count": 9,
   "id": "4e95e94b-964d-4a2d-bf07-96462177ac52",
   "metadata": {},
   "outputs": [
    {
     "name": "stdout",
     "output_type": "stream",
     "text": [
      "CPU times: user 16 ms, sys: 2.13 ms, total: 18.2 ms\n",
      "Wall time: 25.9 ms\n"
     ]
    }
   ],
   "source": [
    "%%time\n",
    "for index in [0, 1, 2]:\n",
    "    CsphereOverSemi(index, height=h, radius=r, epsilon=eps, nterm=20)"
   ]
  },
  {
   "cell_type": "markdown",
   "id": "aaf2ab97-0c4d-4099-9845-bdefe12bcce5",
   "metadata": {},
   "source": [
    "With $n = 20$ terms, it takes about 35 ms to compute the three derivatives over 100 height points."
   ]
  },
  {
   "cell_type": "markdown",
   "id": "016279df-638b-4315-a3a9-728faf6aac82",
   "metadata": {},
   "source": [
    "# Reproduce the parallel dissipation calculation"
   ]
  },
  {
   "cell_type": "markdown",
   "id": "7f7a074c-fa42-45c3-85e9-f15450550677",
   "metadata": {},
   "source": [
    "Reproduce below the parallel dissipation calculation for `Sample2` from `Study-4`."
   ]
  },
  {
   "cell_type": "code",
   "execution_count": 10,
   "id": "d876b83d-c5da-4cde-b98f-59812a17727a",
   "metadata": {},
   "outputs": [],
   "source": [
    "def theta2norm(omega, sample, power):\n",
    "\n",
    "    r1 = sample.Ld**2 / (sample.epsilon_s * sample.LD**2)\n",
    "    r2 = sample.z_r**2 / (sample.epsilon_s * sample.LD**2)\n",
    "    r3 = sample.z_r**2 / sample.Ld**2\n",
    "    lambduh = (complex(0,1) * r1 * omega / np.sqrt(omega**2 + r2 + complex(0,1) * r3)).to('dimensionless').magnitude\n",
    "     \n",
    "    khd = (omega * sample.h_d / sample.z_r).to('dimensionless').magnitude\n",
    "\n",
    "    r1 = 1/sample.epsilon_d\n",
    "    t1 = sample.epsilon_eff * np.tanh(khd) + (1 - lambduh) * sample.epsilon_d\n",
    "    t2 = sample.epsilon_eff + (1 - lambduh) * sample.epsilon_d * np.tanh(khd)\n",
    "\n",
    "    theta = ((r1 * t1) / t2).magnitude\n",
    "\n",
    "    ratio = (1 - theta) / (1 + theta)\n",
    "    exponent = (2 * sample.cantilever.d / sample.z_r).to('dimensionless').magnitude\n",
    "\n",
    "    integrand = omega**power * np.exp(-1 * omega * exponent) * np.imag(ratio) \n",
    "\n",
    "    return integrand"
   ]
  },
  {
   "cell_type": "code",
   "execution_count": 11,
   "id": "b9a268c4-0d28-433c-a742-2148296a88e2",
   "metadata": {},
   "outputs": [],
   "source": [
    "def C(power, theta, sample):\n",
    "    \n",
    "    prefactor = (-1**(power + 1) * kb * ureg.Quantity(300., 'K')) / \\\n",
    "          (4 * np.pi * epsilon0 * sample.cantilever.omega_c * sample.z_r**(power+1))\n",
    "    \n",
    "    integral = integrate.quad(theta, 0., np.inf, args=(sample, power))[0]\n",
    "    \n",
    "    return (prefactor * 0.50 * integral).to_base_units()"
   ]
  },
  {
   "cell_type": "code",
   "execution_count": 12,
   "id": "8f333198-dbd2-4fa5-9976-cc6faf5b0197",
   "metadata": {},
   "outputs": [],
   "source": [
    "def gamma_parallel(theta, sample):\n",
    "\n",
    "    prefactor = (sample.cantilever.V_ts**2 / (kb * ureg.Quantity(300., 'K'))).to('V/C')\n",
    "    \n",
    "    c0 = CsphereOverSemi(index=0, \n",
    "            height=sample.cantilever.d * np.ones(1), \n",
    "            radius=sample.cantilever.R, \n",
    "            epsilon=sample.epsilon_d.real.magnitude)\n",
    "\n",
    "    return prefactor * c0 * c0 * C(2, theta, sample)"
   ]
  },
  {
   "cell_type": "markdown",
   "id": "4e7e4b82-777c-4260-9763-b144913155e4",
   "metadata": {},
   "source": [
    "Define the sample."
   ]
  },
  {
   "cell_type": "code",
   "execution_count": 13,
   "id": "56a42b69-60ab-4fa2-90ce-e2756b020942",
   "metadata": {},
   "outputs": [],
   "source": [
    "sample2 = SampleModel2(\n",
    "\n",
    "    cantilever = CantileverModel(\n",
    "        f_c = ureg.Quantity(81, 'kHz'), \n",
    "        V_ts = ureg.Quantity(3, 'V'), \n",
    "        R = ureg.Quantity(80, 'nm'), \n",
    "        d = ureg.Quantity(300, 'nm')),\n",
    "    h_d = ureg.Quantity(0., 'nm'),\n",
    "    epsilon_d = ureg.Quantity(complex(11.9, -0.05), ''),\n",
    "    epsilon_s = ureg.Quantity(complex(11.9, -0.05), ''),\n",
    "    mu = ureg.Quantity(2.7e-10, 'm^2/(V s)'),\n",
    "    rho = ureg.Quantity(1e21, '1/m^3'),\n",
    "    z_r = ureg.Quantity(300, 'nm')\n",
    ")"
   ]
  },
  {
   "cell_type": "markdown",
   "id": "ea5ba101-1c6c-4a18-9c25-8dfa456ee3e8",
   "metadata": {},
   "source": [
    "Loop over charge density and compute the parallel friction."
   ]
  },
  {
   "cell_type": "code",
   "execution_count": 14,
   "id": "1fdcbbe7-fbc9-4fb2-8f99-d1e39d8b6126",
   "metadata": {},
   "outputs": [
    {
     "name": "stdout",
     "output_type": "stream",
     "text": [
      "CPU times: user 15 s, sys: 213 ms, total: 15.2 s\n",
      "Wall time: 16.6 s\n"
     ]
    }
   ],
   "source": [
    "%%time\n",
    "rho2_ = ureg.Quantity(np.logspace(start=15, stop=29, num=30), '1/m^3')\n",
    "gamma2 = ureg.Quantity(np.zeros_like(rho2_), 'pN s/m')\n",
    "\n",
    "for index, rho__ in enumerate(rho2_):\n",
    "\n",
    "    sample2.rho = rho__\n",
    "    gamma2[index] = gamma_parallel(theta2norm, sample2)"
   ]
  },
  {
   "cell_type": "markdown",
   "id": "f07e0af2-8821-4827-a823-f0ccde436af0",
   "metadata": {},
   "source": [
    "Painfully slow!\n",
    "\n",
    "Plot the results."
   ]
  },
  {
   "cell_type": "code",
   "execution_count": 15,
   "id": "7db4a01a-1ff2-4bcd-a8c0-6c7d870a2394",
   "metadata": {},
   "outputs": [
    {
     "data": {
      "image/png": "[encoded data removed]",
      "text/plain": [
       "<Figure size 350x200 with 1 Axes>"
      ]
     },
     "metadata": {},
     "output_type": "display_data"
    }
   ],
   "source": [
    "plt.figure(figsize=(3.50, 2.00))\n",
    "plt.loglog(rho2_.to('1/m^3').magnitude, gamma2.to('pN s/m').magnitude, '.-')\n",
    "plt.xlabel(r'charge density $\\rho$ [m$^{-3}$]')  # need a raw string here because \\r is the special carriage return character\n",
    "plt.ylabel('dissipation $\\gamma_{\\parallel}$ [pN s/m]')\n",
    "plt.show()"
   ]
  },
  {
   "cell_type": "markdown",
   "id": "5bfc6d8d-62f4-420e-87a7-da27e23d148e",
   "metadata": {},
   "source": [
    "# Try to speed up the numerical integration\n",
    "\n",
    "Read about `numba` and `jit`\n",
    "\n",
    "* \"A ~5 minute guide to Numba\", https://numba.readthedocs.io/en/stable/user/5minguide.html\n",
    "* \"First Steps with numba\" https://numba.pydata.org/numba-doc/0.12.2/tutorial_firststeps.html \n",
    "* \"How to use Numba to perform multiple integration in SciPy with an arbitrary number of variables and parameters?\", https://stackoverflow.com/questions/51109429/how-to-use-numba-to-perform-multiple-integration-in-scipy-with-an-arbitrary-numb\n",
    "\n",
    "## Test drive `numba`\n",
    "\n",
    "Try `numba` on a bubble sort algorithm, adapting code from the \"First Steps with numba\" page."
   ]
  },
  {
   "cell_type": "code",
   "execution_count": 16,
   "id": "7e522c97-c5cc-4ff7-9616-3769b8bb1471",
   "metadata": {},
   "outputs": [],
   "source": [
    "def bubblesort(X):\n",
    "    N = len(X)\n",
    "    for end in range(N, 1, -1):\n",
    "        for i in range(end - 1):\n",
    "            cur = X[i]\n",
    "            if cur > X[i + 1]:\n",
    "                tmp = X[i]\n",
    "                X[i] = X[i + 1]\n",
    "                X[i + 1] = tmp"
   ]
  },
  {
   "cell_type": "markdown",
   "id": "344fdc1b-e2ea-4ff2-93ee-d66e66d2cc52",
   "metadata": {},
   "source": [
    "Create an array of sorted values and randomly shuffle them."
   ]
  },
  {
   "cell_type": "code",
   "execution_count": 17,
   "id": "1dac60ba-58d1-4b10-b9ee-47110287aee4",
   "metadata": {},
   "outputs": [],
   "source": [
    "original = np.arange(0.0, 10.0, 0.01, dtype='f4')\n",
    "shuffled = original.copy()\n",
    "np.random.shuffle(shuffled)"
   ]
  },
  {
   "cell_type": "markdown",
   "id": "199f7bbd-1814-4190-9397-b0c90bb3bfd5",
   "metadata": {},
   "source": [
    "Create a copy, bubble sort the copy, and compare to the original."
   ]
  },
  {
   "cell_type": "code",
   "execution_count": 18,
   "id": "486fb567-366b-46ff-bcd0-7dd2ca1cee5c",
   "metadata": {},
   "outputs": [
    {
     "name": "stdout",
     "output_type": "stream",
     "text": [
      "177 ms ± 10.8 ms per loop (mean ± std. dev. of 7 runs, 1 loop each)\n",
      "True\n"
     ]
    }
   ],
   "source": [
    "sorted1 = shuffled.copy()\n",
    "%timeit bubblesort(sorted1)\n",
    "print(np.array_equal(sorted1, original))"
   ]
  },
  {
   "cell_type": "markdown",
   "id": "b8e5e49f-8e86-47f5-9f12-135a1039ae41",
   "metadata": {},
   "source": [
    "Use `numba` to make a compiled version of the bubble sort function."
   ]
  },
  {
   "cell_type": "code",
   "execution_count": 19,
   "id": "091df347-167f-475a-9094-c99e8ec2f2e7",
   "metadata": {},
   "outputs": [],
   "source": [
    "@numba.jit(\"void(f4[:])\", nopython=True)\n",
    "def bubblesort_jit(X):\n",
    "    N = len(X)\n",
    "    for end in range(N, 1, -1):\n",
    "        for i in range(end - 1):\n",
    "            cur = X[i]\n",
    "            if cur > X[i + 1]:\n",
    "                tmp = X[i]\n",
    "                X[i] = X[i + 1]\n",
    "                X[i + 1] = tmp"
   ]
  },
  {
   "cell_type": "code",
   "execution_count": 20,
   "id": "868be391-9b29-4bbf-8325-68446d9ae25c",
   "metadata": {},
   "outputs": [
    {
     "name": "stdout",
     "output_type": "stream",
     "text": [
      "282 µs ± 13.3 µs per loop (mean ± std. dev. of 7 runs, 1,000 loops each)\n",
      "True\n"
     ]
    }
   ],
   "source": [
    "sorted2 = shuffled.copy()\n",
    "%timeit bubblesort_jit(sorted2)\n",
    "print(np.array_equal(sorted2, original))"
   ]
  },
  {
   "cell_type": "markdown",
   "id": "e1628b45-6f24-4462-8a3f-34c614a89b50",
   "metadata": {},
   "source": [
    "The speed has been improved by a factor of"
   ]
  },
  {
   "cell_type": "code",
   "execution_count": 21,
   "id": "f9f2d02f-ca74-4240-ab08-4cf2856edd20",
   "metadata": {},
   "outputs": [
    {
     "name": "stdout",
     "output_type": "stream",
     "text": [
      "688\n"
     ]
    }
   ],
   "source": [
    "print('{:0.0f}'.format(150E-3/218E-6))"
   ]
  },
  {
   "cell_type": "markdown",
   "id": "0b3d1daf-eec7-4f88-a0e8-c022af1ff93b",
   "metadata": {},
   "source": [
    "Impressive!  The execution has been sped up almost 1000-fold."
   ]
  },
  {
   "cell_type": "markdown",
   "id": "55aaaf69-2266-4478-8bca-39fc8753949c",
   "metadata": {},
   "source": [
    "## Research passing classes to functions in `numba`"
   ]
  },
  {
   "cell_type": "markdown",
   "id": "70b1692a-6e2a-401c-93cd-e66164be24e0",
   "metadata": {},
   "source": [
    "I want a `numba` implimentation of the following function."
   ]
  },
  {
   "cell_type": "code",
   "execution_count": 22,
   "id": "2d67c049-c612-434b-98a7-5e41385fb126",
   "metadata": {},
   "outputs": [],
   "source": [
    "def theta2norm(omega, sample, power):\n",
    "\n",
    "    r1 = sample.Ld**2 / (sample.epsilon_s * sample.LD**2)\n",
    "    r2 = sample.z_r**2 / (sample.epsilon_s * sample.LD**2)\n",
    "    r3 = sample.z_r**2 / sample.Ld**2\n",
    "    lambduh = (complex(0,1) * r1 * omega / np.sqrt(omega**2 + r2 + complex(0,1) * r3)).to('dimensionless').magnitude\n",
    "     \n",
    "    khd = (omega * sample.h_d / sample.z_r).to('dimensionless').magnitude\n",
    "\n",
    "    r1 = 1/sample.epsilon_d\n",
    "    t1 = sample.epsilon_eff * np.tanh(khd) + (1 - lambduh) * sample.epsilon_d\n",
    "    t2 = sample.epsilon_eff + (1 - lambduh) * sample.epsilon_d * np.tanh(khd)\n",
    "\n",
    "    theta = ((r1 * t1) / t2).magnitude\n",
    "\n",
    "    ratio = (1 - theta) / (1 + theta)\n",
    "    exponent = (2 * sample.cantilever.d / sample.z_r).to('dimensionless').magnitude\n",
    "\n",
    "    integrand = omega**power * np.exp(-1 * omega * exponent) * np.imag(ratio) \n",
    "\n",
    "    return integrand"
   ]
  },
  {
   "cell_type": "code",
   "execution_count": 23,
   "id": "35b641ba-243b-4f9e-9409-499bc204b74a",
   "metadata": {},
   "outputs": [
    {
     "name": "stdout",
     "output_type": "stream",
     "text": [
      "7.41 ms ± 1.25 ms per loop (mean ± std. dev. of 7 runs, 100 loops each)\n"
     ]
    }
   ],
   "source": [
    "%timeit theta2norm(1, sample2, 2)"
   ]
  },
  {
   "cell_type": "markdown",
   "id": "49b8604c-8220-4aa4-a3c8-1bcd07da7921",
   "metadata": {},
   "source": [
    "Try adding `@numba.jit(nopython=True)` before the function and get many errors when I try to run it.  The message is\n",
    "\n",
    "    This error may have been caused by the following argument(s):\n",
    "    - argument 1: Cannot determine Numba type of <class 'dissipationtheory.dissipation.SampleModel2'>\n",
    "\n",
    "So `numba` cannot handle my data struture.  Research using `numba` with classes:\n",
    "\n",
    "* \"Compiling Python classes with @jitclass\", https://numba.pydata.org/numba-doc/dev/user/jitclass.html\n",
    "* \"How to use numba.jit with methods\", https://numba.pydata.org/numba-doc/dev/user/jitclass.html\n",
    "* \"How to nest numba jitclass\", https://stackoverflow.com/questions/38682260/how-to-nest-numba-jitclass\n",
    "* \"How to use formatted strings in numba.jit function?\", https://stackoverflow.com/questions/62026848/how-to-use-formatted-strings-in-numba-jit-function\n",
    "* \"Passing a class object as a function argument, in Numba optimized Python\", https://stackoverflow.com/questions/49098254/passing-a-class-object-as-a-function-argument-in-numba-optimized-python\n",
    "\n",
    "Reading the above discussions, it looks like I am going to have to rewrite my class definitions so they are compatible with `numba`.  Start with my `CantileverModel` object and strip it down until I can get something to work."
   ]
  },
  {
   "cell_type": "code",
   "execution_count": 40,
   "id": "b0023707-c7b6-41ad-8a89-91ea7e3361cb",
   "metadata": {},
   "outputs": [],
   "source": [
    "from numba import float64\n",
    "from numba.experimental import jitclass\n",
    "\n",
    "CantileverModelSpec = [\n",
    "    ('f_c',float64),\n",
    "    ('V_ts',float64),\n",
    "    ('R',float64),\n",
    "    ('d',float64)]  # <== can't use pint, so no units :-(\n",
    "\n",
    "@jitclass(CantileverModelSpec)\n",
    "class CantileverModelJit(object):\n",
    "\n",
    "    def __init__(self, f_c, V_ts, R, d):\n",
    "\n",
    "        self.f_c = f_c\n",
    "        self.V_ts = V_ts\n",
    "        self.R = R\n",
    "        self.d = d\n",
    "\n",
    "    @property\n",
    "    def omega_c(self):\n",
    "        return 2 * np.pi * self.f_c\n",
    "\n",
    "    def print(self):  # <=== can't use the __repr__ function :-(\n",
    "\n",
    "        print(\"   cantilever freq = \", self.f_c, \"Hz\") # <== can't use formatting strings here, keep it simple  :-(\n",
    "        print(\"                   = \", self.omega_c, \"rad/s\")\n",
    "        print(\"tip-sample voltage = \", self.V_ts, \"V\")\n",
    "        print(\"            radius = \", self.R, \"m\")\n",
    "        print(\"            height = \", self.d, \"m\")"
   ]
  },
  {
   "cell_type": "markdown",
   "id": "f8b318e4-c15c-4587-ae37-be7ae080972c",
   "metadata": {},
   "source": [
    "The object is created and we can call the object's `.print` function."
   ]
  },
  {
   "cell_type": "code",
   "execution_count": 41,
   "id": "fb202400-d226-4dd8-9ce7-f3a740f4bbd7",
   "metadata": {},
   "outputs": [
    {
     "name": "stdout",
     "output_type": "stream",
     "text": [
      "509000.8417346183\n",
      "   cantilever freq =  81010.0 Hz\n",
      "                   =  509000.8417346183 rad/s\n",
      "tip-sample voltage =  3.01 V\n",
      "            radius =  80.01 m\n",
      "            height =  300.01 m\n"
     ]
    }
   ],
   "source": [
    "cantilever_jit =  CantileverModelJit(81.01e3, 3.01,  80.01, 300.01)\n",
    "print(cantilever_jit.omega_c)\n",
    "cantilever_jit.print()"
   ]
  },
  {
   "cell_type": "markdown",
   "id": "d71b8a82-f217-40d4-8ba5-e9350add8d1d",
   "metadata": {},
   "source": [
    "Confirm that `@property` is still doing its job.  Observe that if I update the `.f_c` attribute, then the `.omega_c` atrribute gets updated as expected:"
   ]
  },
  {
   "cell_type": "code",
   "execution_count": 42,
   "id": "878d767e-ee11-4e10-922a-51f2c3f7eec8",
   "metadata": {},
   "outputs": [
    {
     "name": "stdout",
     "output_type": "stream",
     "text": [
      "   cantilever freq =  162020.0 Hz\n",
      "                   =  1018001.6834692366 rad/s\n",
      "tip-sample voltage =  3.01 V\n",
      "            radius =  80.01 m\n",
      "            height =  300.01 m\n"
     ]
    }
   ],
   "source": [
    "cantilever_jit.f_c = 162.02e3\n",
    "cantilever_jit.print()"
   ]
  },
  {
   "cell_type": "markdown",
   "id": "e2065984-968b-468b-916b-6133ec73f085",
   "metadata": {},
   "source": [
    "OK, so far so good.  \n",
    "\n",
    "Following the example [here](https://stackoverflow.com/questions/38682260/how-to-nest-numba-jitclass), create a second object that incorporates the first object."
   ]
  },
  {
   "cell_type": "code",
   "execution_count": 43,
   "id": "7a10f88d-2f05-4196-b690-bae52363bf04",
   "metadata": {},
   "outputs": [],
   "source": [
    "from numba import deferred_type\n",
    "from numba import complex128\n",
    "\n",
    "CantileverModelJit_type = deferred_type()\n",
    "CantileverModelJit_type.define(CantileverModelJit.class_type.instance_type)\n",
    "\n",
    "SampleModel1Spec = [('cantilever', CantileverModelJit_type),('epsilon_s',complex128)]\n",
    "\n",
    "@jitclass(SampleModel1Spec)\n",
    "class SampleModel1Jit(object):\n",
    "    \n",
    "    def __init__(self, cantilever, epsilon_s):\n",
    "\n",
    "        self.cantilever = cantilever\n",
    "        self.epsilon_s = epsilon_s\n",
    "\n",
    "    def print(self):\n",
    "\n",
    "        self.cantilever.print()\n",
    "        print(\" epsilon (real) = \", self.epsilon_s.real)\n",
    "        print(\" epsilon (imag) = \", self.epsilon_s.imag)"
   ]
  },
  {
   "cell_type": "markdown",
   "id": "cf8d5dd4-4e6b-42b6-91cf-d26e9048f3d5",
   "metadata": {},
   "source": [
    "The object is created *and* we can use the sub-object's `.print` function."
   ]
  },
  {
   "cell_type": "code",
   "execution_count": 44,
   "id": "b1618b75-6af8-4abc-96a4-aba739cdddac",
   "metadata": {},
   "outputs": [
    {
     "name": "stdout",
     "output_type": "stream",
     "text": [
      "446168.9886628224\n",
      "   cantilever freq =  71010.0 Hz\n",
      "                   =  446168.9886628224 rad/s\n",
      "tip-sample voltage =  3.01 V\n",
      "            radius =  80.01 m\n",
      "            height =  300.01 m\n"
     ]
    }
   ],
   "source": [
    "sample1_jit = SampleModel1Jit(CantileverModelJit(71.01e3, 3.01,  80.01, 300.01), complex(11.9,-0.05))\n",
    "print(sample1_jit.cantilever.omega_c)\n",
    "sample1_jit.cantilever.print()"
   ]
  },
  {
   "cell_type": "markdown",
   "id": "9063159e-81d0-4980-92df-7da8fa4303ce",
   "metadata": {},
   "source": [
    "The new object's print function works as expected."
   ]
  },
  {
   "cell_type": "code",
   "execution_count": 45,
   "id": "27812600-45b7-4fef-9683-fbfd916c0142",
   "metadata": {},
   "outputs": [
    {
     "name": "stdout",
     "output_type": "stream",
     "text": [
      "   cantilever freq =  71010.0 Hz\n",
      "                   =  446168.9886628224 rad/s\n",
      "tip-sample voltage =  3.01 V\n",
      "            radius =  80.01 m\n",
      "            height =  300.01 m\n",
      " epsilon (real) =  11.9\n",
      " epsilon (imag) =  -0.05\n"
     ]
    }
   ],
   "source": [
    "sample1_jit.print()"
   ]
  },
  {
   "cell_type": "markdown",
   "id": "2865ade1-b166-4cfb-9e58-9982c19a5c49",
   "metadata": {},
   "source": [
    "Confirm that `@property` is still doing its job:"
   ]
  },
  {
   "cell_type": "code",
   "execution_count": 46,
   "id": "591a2398-4b6e-4792-a858-75b2caf71da0",
   "metadata": {},
   "outputs": [
    {
     "name": "stdout",
     "output_type": "stream",
     "text": [
      "1018001.6834692366\n"
     ]
    }
   ],
   "source": [
    "sample1_jit.cantilever.f_c = 162.02e3\n",
    "print(sample1_jit.cantilever.omega_c)"
   ]
  },
  {
   "cell_type": "markdown",
   "id": "2e740bf7-9125-4a1a-80cc-396d7b8e98b9",
   "metadata": {},
   "source": [
    "OK, at this point I have have created nested classes, implimented in `numba`.\n",
    "\n",
    "Following advice [here](https://stackoverflow.com/questions/49098254/passing-a-class-object-as-a-function-argument-in-numba-optimized-python), write a function that takes as an input the above object and computes something using the numbers stored in the object."
   ]
  },
  {
   "cell_type": "code",
   "execution_count": 63,
   "id": "9735a11f-0a2a-4115-ae3d-53c60e16e276",
   "metadata": {},
   "outputs": [],
   "source": [
    "@jit(float64(float64,SampleModel1Jit.class_type.instance_type), nopython=True)\n",
    "def function_jit(omega, sample):\n",
    "\n",
    "    return(omega * sample.epsilon_s.imag * sample.cantilever.omega_c)"
   ]
  },
  {
   "cell_type": "code",
   "execution_count": 64,
   "id": "344edc0e-0979-49c3-970e-db8e5b32e007",
   "metadata": {},
   "outputs": [
    {
     "data": {
      "text/plain": [
       "-50900.08417346183"
      ]
     },
     "execution_count": 64,
     "metadata": {},
     "output_type": "execute_result"
    }
   ],
   "source": [
    "function_jit(1.0, sample1_jit)"
   ]
  },
  {
   "cell_type": "markdown",
   "id": "74a04c59-f853-4f02-9aaa-179f5fdbcef3",
   "metadata": {},
   "source": [
    "OK!  I have been able to define `numba` compatible classes and written a compiled function that accepts these classes as input.  I have to write the classes a little differently.  If I want a `numba` compatible class,\n",
    "\n",
    "* I can use `@property`\n",
    "* I can only use the defined types as inputs; no `pint` objects with units, just floats\n",
    "* I can't use `__repr__`\n",
    "* I can't use fancy formatted print statements\n",
    "\n",
    "Losing units is frustrating.  Plan on using SI units for everything, and convert to a object with units at the very end.\n",
    "\n",
    "I think I have all the pieces in place.   Now code things up fully, starting with `SampleModel2` and `theta2norm` because that combination contains more well-behaved parameters and functions."
   ]
  },
  {
   "cell_type": "code",
   "execution_count": 65,
   "id": "811b4f4b-5284-4808-8013-1a58e9e78e13",
   "metadata": {},
   "outputs": [],
   "source": [
    "from dissipationtheory.constants import ureg, epsilon0, qe, kb\n",
    "\n",
    "CantileverModelJit_type = deferred_type()\n",
    "CantileverModelJit_type.define(CantileverModelJit.class_type.instance_type)\n",
    "\n",
    "SampleModel2Spec = [\n",
    "    ('cantilever', CantileverModelJit_type),\n",
    "    ('epsilon_d',complex128),\n",
    "    ('h_d', float64),\n",
    "    ('epsilon_s',complex128),\n",
    "    ('mu',float64),\n",
    "    ('rho',float64),\n",
    "    ('z_r',float64)]\n",
    "\n",
    "kb_= kb.to('J/K').magnitude\n",
    "T_ = 300.\n",
    "qe_ = qe.to('C').magnitude\n",
    "epsilon0_ = epsilon0.to('C/(V m)').magnitude\n",
    "\n",
    "@jitclass(SampleModel2Spec)\n",
    "class SampleModel2Jit(object):\n",
    "    \n",
    "    def __init__(self, cantilever, epsilon_d, h_d, epsilon_s, mu, rho, z_r):\n",
    "\n",
    "        self.cantilever = cantilever\n",
    "        self.epsilon_d = epsilon_d\n",
    "        self.h_d = h_d\n",
    "        self.epsilon_s = epsilon_s\n",
    "        self.mu = mu\n",
    "        self.rho = rho\n",
    "        self.z_r = z_r\n",
    "\n",
    "    @property\n",
    "    def D(self):\n",
    "        return (kb_ * T_ * self.mu) / qe_\n",
    "\n",
    "    @property\n",
    "    def Ld(self):\n",
    "        return np.sqrt(self.D / self.cantilever.omega_c)\n",
    "    \n",
    "    @property\n",
    "    def LD(self):\n",
    "        return np.sqrt((epsilon0_ * kb_ * T_)/(self.rho * qe_ * qe_))\n",
    "\n",
    "    @property\n",
    "    def epsilon_eff(self):\n",
    "        return self.epsilon_s - complex(0,1) * self.Ld**2 / self.LD**2\n",
    "\n",
    "    def print(self):\n",
    "\n",
    "        print(\"cantilever\")\n",
    "        print(\"-=========\")\n",
    "        self.cantilever.print()\n",
    "        print(\"\")\n",
    "        print(\"dielectric\")\n",
    "        print(\"==========\")\n",
    "        print(\" epsilon (real) = \", self.epsilon_d.real)\n",
    "        print(\" epsilon (imag) = \", self.epsilon_d.imag)\n",
    "        print(\"      thickness = \", self.h_d, \"nm\")\n",
    "        print(\"\")\n",
    "        print(\"semiconductor\")\n",
    "        print(\"=============\")\n",
    "        print(\"          epsilon (real) = \", self.epsilon_s.real)\n",
    "        print(\"          epsilon (imag) = \", self.epsilon_s.imag)\n",
    "        print(\"               thickness = infinite\")\n",
    "        print(\"                mobility = \", self.mu, \"m^2/(V s)\")\n",
    "        print(\"      diffusion constant = \", self.D, \"m^2/s\")\n",
    "        print(\"          charge density = \", self.rho, \"m^{{-3}}\")\n",
    "        print(\"        reference height = \", self.z_r, \"m\")\n",
    "        print(\"            Debye length = \", self.LD, \"m\")\n",
    "        print(\"        diffusion length = \", self.Ld, \"m\")\n",
    "        print(\"effective epsilon (real) = \", self.epsilon_eff.real)\n",
    "        print(\"effective epsilon (imag) = \", self.epsilon_eff.imag)"
   ]
  },
  {
   "cell_type": "code",
   "execution_count": 66,
   "id": "dff76c0b-de34-44ce-a65f-4cdf994234f8",
   "metadata": {},
   "outputs": [],
   "source": [
    "sample2_jit = SampleModel2Jit(\n",
    "    cantilever=CantileverModelJit(81.0e3, 3.,  80E-9, 300E-9),\n",
    "    epsilon_d=complex(11.9,-0.05),\n",
    "    h_d=0.,\n",
    "    epsilon_s=complex(11.9,-0.05),\n",
    "    mu=2.7E-10,\n",
    "    rho=1e21,\n",
    "    z_r=300)\n",
    "\n",
    "# and for comparison\n",
    "\n",
    "sample2 = SampleModel2(\n",
    "    cantilever = CantileverModel(\n",
    "        f_c = ureg.Quantity(81, 'kHz'), \n",
    "        V_ts = ureg.Quantity(3, 'V'), \n",
    "        R = ureg.Quantity(80, 'nm'), \n",
    "        d = ureg.Quantity(300, 'nm')),\n",
    "    h_d = ureg.Quantity(0., 'nm'),\n",
    "    epsilon_d = ureg.Quantity(complex(11.9, -0.05), ''),\n",
    "    epsilon_s = ureg.Quantity(complex(11.9, -0.05), ''),\n",
    "    mu = ureg.Quantity(2.7e-10, 'm^2/(V s)'),\n",
    "    rho = ureg.Quantity(1e21, '1/m^3'),\n",
    "    z_r = ureg.Quantity(300, 'nm')\n",
    ")"
   ]
  },
  {
   "cell_type": "code",
   "execution_count": 67,
   "id": "0fa955e8-3733-4202-a21c-3f825918d886",
   "metadata": {},
   "outputs": [
    {
     "name": "stdout",
     "output_type": "stream",
     "text": [
      "cantilever\n",
      "-=========\n",
      "   cantilever freq =  81000.0 Hz\n",
      "                   =  508938.0098815465 rad/s\n",
      "tip-sample voltage =  3.0 V\n",
      "            radius =  8e-08 m\n",
      "            height =  3e-07 m\n",
      "\n",
      "dielectric\n",
      "==========\n",
      " epsilon (real) =  11.9\n",
      " epsilon (imag) =  -0.05\n",
      "      thickness =  0.0 nm\n",
      "\n",
      "semiconductor\n",
      "=============\n",
      "          epsilon (real) =  11.9\n",
      "          epsilon (imag) =  -0.05\n",
      "               thickness = infinite\n",
      "                mobility =  2.7e-10 m^2/(V s)\n",
      "      diffusion constant =  6.980039959763987e-12 m^2/s\n",
      "          charge density =  1e+21 m^{{-3}}\n",
      "        reference height =  300.0 m\n",
      "            Debye length =  3.7797775481848936e-08 m\n",
      "        diffusion length =  3.7033649406515185e-09 m\n",
      "effective epsilon (real) =  11.9\n",
      "effective epsilon (imag) =  -0.059599763628316975\n"
     ]
    }
   ],
   "source": [
    "sample2_jit.print()"
   ]
  },
  {
   "cell_type": "code",
   "execution_count": 68,
   "id": "06c10430-306f-4379-bb30-6f739ffbe5e0",
   "metadata": {},
   "outputs": [
    {
     "data": {
      "text/plain": [
       "cantilever\n",
       "\n",
       "      resonance freq = 81.000 kHz\n",
       "                     = 5.089e+05 rad/s\n",
       "  tip-sample voltage = 3.000 V\n",
       "              radius = 80.000 nm\n",
       "              height = 300.000 nm\n",
       "\n",
       "dielectric\n",
       "\n",
       "  epsilon (real) = 11.900\n",
       "  epsilon (imag) = -0.050\n",
       "       thickness = 0.0 nm\n",
       "\n",
       "semiconductor\n",
       "\n",
       "             epsilon (real) = 11.900\n",
       "             epsilon (imag) = -0.050\n",
       "                  thickness = infinite\n",
       "                   mobility = 2.70e-10 m^2/(V s)\n",
       "         diffusion constant = 6.98e-12 m^2/s\n",
       "             charge density = 1.00e+21 m^{-3}\n",
       "           reference height = 300.0 nm\n",
       "               Debye length = 37.8 nm\n",
       "           diffusion length = 3.7 nm\n",
       "   effective epsilon (real) = 11.900\n",
       "   effective epsilon (imag) = -0.060\n"
      ]
     },
     "execution_count": 68,
     "metadata": {},
     "output_type": "execute_result"
    }
   ],
   "source": [
    "sample2"
   ]
  },
  {
   "cell_type": "markdown",
   "id": "99978711-039a-4dbd-a783-ea6759fa4056",
   "metadata": {},
   "source": [
    "By inpsection the new `numba`-compatible object gives the same diffusion constant, Debye length, diffusion length, and effective dielectric constant as the Python object.  Nice!\n",
    "\n",
    "Next, the function for computing the integrand."
   ]
  },
  {
   "cell_type": "code",
   "execution_count": 145,
   "id": "3f21ffd6-3c0e-471d-8cce-b8072f45ff16",
   "metadata": {},
   "outputs": [],
   "source": [
    "@jit(float64(float64,SampleModel2Jit.class_type.instance_type,float64), nopython=True)\n",
    "def theta2norm_jit(omega, sample, power):\n",
    "\n",
    "    r1 = sample.Ld**2 / (sample.epsilon_s * sample.LD**2)\n",
    "    r2 = sample.z_r**2 / (sample.epsilon_s * sample.LD**2)\n",
    "    r3 = sample.z_r**2 / sample.Ld**2\n",
    "    lambduh = complex(0,1) * r1 * omega / np.sqrt(omega**2 + r2 + complex(0,1) * r3)\n",
    "     \n",
    "    khd = omega * sample.h_d / sample.z_r\n",
    "\n",
    "    r1 = 1/sample.epsilon_d\n",
    "    t1 = sample.epsilon_eff * np.tanh(khd) + (1 - lambduh) * sample.epsilon_d\n",
    "    t2 = sample.epsilon_eff + (1 - lambduh) * sample.epsilon_d * np.tanh(khd)\n",
    "\n",
    "    theta = (r1 * t1) / t2\n",
    "\n",
    "    ratio = (1 - theta) / (1 + theta)\n",
    "    exponent = 2 * sample.cantilever.d / sample.z_r\n",
    "\n",
    "    integrand = omega**power * np.exp(-1 * omega * exponent) * np.imag(ratio) \n",
    "    \n",
    "    return integrand"
   ]
  },
  {
   "cell_type": "code",
   "execution_count": 146,
   "id": "b6b7b7e7-8803-4d46-b3b4-aed99c2111f2",
   "metadata": {},
   "outputs": [
    {
     "name": "stdout",
     "output_type": "stream",
     "text": [
      "1.39 µs ± 162 ns per loop (mean ± std. dev. of 7 runs, 1,000,000 loops each)\n"
     ]
    }
   ],
   "source": [
    "%timeit theta2norm_jit(1, sample2_jit, 2)"
   ]
  },
  {
   "cell_type": "markdown",
   "id": "627a894c-5c7e-45cd-82c6-677e8ff388f2",
   "metadata": {},
   "source": [
    "Compared to 7.41 ms for the pure Python function `theta2norm`.  The speed up is a factor of"
   ]
  },
  {
   "cell_type": "code",
   "execution_count": 147,
   "id": "3f8cf27e-6d81-480a-a832-d2c6e9676b09",
   "metadata": {},
   "outputs": [
    {
     "data": {
      "text/plain": [
       "6831.77570093458"
      ]
     },
     "execution_count": 147,
     "metadata": {},
     "output_type": "execute_result"
    }
   ],
   "source": [
    "7.31E-3/1.07E-6"
   ]
  },
  {
   "cell_type": "markdown",
   "id": "c2c5ec7c-8f1b-4f5f-8901-c29ad394c7b6",
   "metadata": {},
   "source": [
    "Which is looking pretty impressive! \n",
    "\n",
    "Read \"Numba jit with scipy\", https://stackoverflow.com/questions/55317665/numba-jit-with-scipy.  Read that \"SciPy is already a high-performance library so in most cases I would expect numba to perform worse (or rarely: slightly better)\".  Try implimenting the "
   ]
  },
  {
   "cell_type": "code",
   "execution_count": 148,
   "id": "e8075df2-feb6-4305-b513-b41ec715a4ba",
   "metadata": {},
   "outputs": [
    {
     "name": "stdout",
     "output_type": "stream",
     "text": [
      "1.41 µs ± 326 ns per loop (mean ± std. dev. of 7 runs, 100,000 loops each)\n"
     ]
    }
   ],
   "source": [
    "%timeit theta2norm_jit(1, sample2_jit, 2)"
   ]
  },
  {
   "cell_type": "code",
   "execution_count": 149,
   "id": "1e171643-3841-41de-960a-f079b8826229",
   "metadata": {},
   "outputs": [
    {
     "name": "stdout",
     "output_type": "stream",
     "text": [
      "CPU times: user 272 ms, sys: 5.45 ms, total: 278 ms\n",
      "Wall time: 287 ms\n"
     ]
    },
    {
     "data": {
      "text/html": [
       "0.0007132173907135605 second volt<sup>2</sup>/meter<sup>2</sup>"
      ],
      "text/latex": [
       "$0.0007132173907135605\\ \\frac{\\mathrm{second} \\cdot \\mathrm{volt}^{2}}{\\mathrm{meter}^{2}}$"
      ],
      "text/plain": [
       "0.0007132173907135605 <Unit('second * volt ** 2 / meter ** 2')>"
      ]
     },
     "execution_count": 149,
     "metadata": {},
     "output_type": "execute_result"
    }
   ],
   "source": [
    "%time C(2, theta2norm, sample2).to('V^2 s/m^2')"
   ]
  },
  {
   "cell_type": "markdown",
   "id": "1c158259-e020-4c92-a074-e54716784a5c",
   "metadata": {},
   "source": [
    "We only have to slightly modify the function `C`.  In the `jit`-compatible sample object, the cantilever frequency `.omega_c` and reference height `.z_r` do not have units.  So we have to add the units back in for the prefactor to come out right.  To help convergence, I'm changing the upper integration limit from `np.inf` to a large number, `1e10`.  Leaving the upper limit at `np.inf`, the integral is junk more than half the time."
   ]
  },
  {
   "cell_type": "code",
   "execution_count": 190,
   "id": "2c98b8a4-7076-4f3f-b060-4b2c8f3dce38",
   "metadata": {},
   "outputs": [],
   "source": [
    "def C_jit(power, theta, sample):\n",
    "    \n",
    "    prefactor = (-1**(power + 1) * kb * ureg.Quantity(300., 'K')) / \\\n",
    "          (4 * np.pi * epsilon0 * ureg.Quantity(sample.cantilever.omega_c,'1/s') * ureg.Quantity(sample.z_r,'m')**(power+1))\n",
    "    \n",
    "    integral = integrate.quad(theta, 0., 1e10, args=(sample, power))[0]  # <== give this a finite upper limit\n",
    "    \n",
    "    return (prefactor * 0.50 * integral).to_base_units()"
   ]
  },
  {
   "cell_type": "code",
   "execution_count": 191,
   "id": "4a95fae2-16a9-4a29-bd40-251339350ea3",
   "metadata": {},
   "outputs": [
    {
     "name": "stdout",
     "output_type": "stream",
     "text": [
      "CPU times: user 1.15 ms, sys: 3 µs, total: 1.15 ms\n",
      "Wall time: 1.16 ms\n"
     ]
    },
    {
     "data": {
      "text/html": [
       "0.0007132172246921261 second volt<sup>2</sup>/meter<sup>2</sup>"
      ],
      "text/latex": [
       "$0.0007132172246921261\\ \\frac{\\mathrm{second} \\cdot \\mathrm{volt}^{2}}{\\mathrm{meter}^{2}}$"
      ],
      "text/plain": [
       "0.0007132172246921261 <Unit('second * volt ** 2 / meter ** 2')>"
      ]
     },
     "execution_count": 191,
     "metadata": {},
     "output_type": "execute_result"
    }
   ],
   "source": [
    "%time C_jit(2, theta2norm_jit, sample2_jit).to('V^2 s/m^2')"
   ]
  },
  {
   "cell_type": "markdown",
   "id": "a4503c30-8858-4396-bfc3-347f89fd1302",
   "metadata": {},
   "source": [
    "The integral comes out the same but, surprisingly, we now get an integration warning!\n",
    "\n",
    "We only need a slight tweak in the code below.  Again, add the units back in to the cantilever parameters for the prefactor to come out right."
   ]
  },
  {
   "cell_type": "code",
   "execution_count": 192,
   "id": "0160f68a-8959-4c5c-be5f-a817fe141fa3",
   "metadata": {},
   "outputs": [],
   "source": [
    "def gamma_parallel_jit(theta, sample):\n",
    "\n",
    "    prefactor = (ureg.Quantity(sample.cantilever.V_ts,'V')**2 / (kb * ureg.Quantity(300., 'K'))).to('V/C')\n",
    "    \n",
    "    c0 = CsphereOverSemi(index=0, \n",
    "            height=ureg.Quantity(sample.cantilever.d,'m') * np.ones(1), \n",
    "            radius=ureg.Quantity(sample.cantilever.R,'m'), \n",
    "            epsilon=sample.epsilon_d.real)\n",
    "\n",
    "    return prefactor * c0 * c0 * C_jit(2, theta, sample)"
   ]
  },
  {
   "cell_type": "code",
   "execution_count": 193,
   "id": "59b4b1c0-6857-44dc-ac9d-5b3f4f034dee",
   "metadata": {},
   "outputs": [
    {
     "name": "stdout",
     "output_type": "stream",
     "text": [
      "CPU times: user 5.27 ms, sys: 869 µs, total: 6.13 ms\n",
      "Wall time: 9.91 ms\n"
     ]
    },
    {
     "data": {
      "text/html": [
       "<table><tbody><tr><th>Magnitude</th><td style='text-align:left;'><pre>[0.00014796221158006243]</pre></td></tr><tr><th>Units</th><td style='text-align:left;'>piconewton second/meter</td></tr></tbody></table>"
      ],
      "text/latex": [
       "$\\begin{pmatrix}0.00014796221158006243\\end{pmatrix}\\ \\frac{\\mathrm{piconewton} \\cdot \\mathrm{second}}{\\mathrm{meter}}$"
      ],
      "text/plain": [
       "array([0.00014796]) <Unit('piconewton * second / meter')>"
      ]
     },
     "execution_count": 193,
     "metadata": {},
     "output_type": "execute_result"
    }
   ],
   "source": [
    "%time gamma_parallel_jit(theta2norm_jit, sample2_jit).to('pN s/m')"
   ]
  },
  {
   "cell_type": "markdown",
   "id": "b70be000-ba15-41d8-940c-93254d2a7a78",
   "metadata": {},
   "source": [
    "Now reproduce the main computation."
   ]
  },
  {
   "cell_type": "code",
   "execution_count": 194,
   "id": "cf3634b5-f7dc-4c79-904a-28e9d10dc85f",
   "metadata": {},
   "outputs": [
    {
     "name": "stdout",
     "output_type": "stream",
     "text": [
      "CPU times: user 158 ms, sys: 10.9 ms, total: 169 ms\n",
      "Wall time: 216 ms\n"
     ]
    }
   ],
   "source": [
    "%%time\n",
    "gamma2_jit = ureg.Quantity(np.zeros_like(rho2_), 'pN s/m')\n",
    "\n",
    "for index, rho__ in enumerate(rho2_):\n",
    "\n",
    "    sample2_jit.rho = rho__.to('1/m^3').magnitude\n",
    "    gamma2_jit[index] = gamma_parallel_jit(theta2norm_jit, sample2_jit)"
   ]
  },
  {
   "cell_type": "markdown",
   "id": "7274a526-7316-4a4e-870a-f5c547396a53",
   "metadata": {},
   "source": [
    "Compare to a wall time of 16.6 s for the Python implemenation.  We have sped up the computation by a factor of about 50."
   ]
  },
  {
   "cell_type": "markdown",
   "id": "7d5bf20e-aea0-485d-adf7-752c6367e452",
   "metadata": {},
   "source": [
    "However, a lot of the integrations are junk!"
   ]
  },
  {
   "cell_type": "code",
   "execution_count": 195,
   "id": "dd30b5d2-d3f4-4971-9f22-df04a7e02c14",
   "metadata": {},
   "outputs": [
    {
     "name": "stdout",
     "output_type": "stream",
     "text": [
      "1.00e+15 +4.22e-02 +4.22e-02\n",
      "3.04e+15 +4.22e-02 +4.22e-02\n",
      "9.24e+15 +4.22e-02 +4.22e-02\n",
      "2.81e+16 +4.22e-02 +4.22e-02\n",
      "8.53e+16 +4.22e-02 +4.22e-02\n",
      "2.59e+17 +4.22e-02 +4.22e-02\n",
      "7.88e+17 +4.22e-02 +4.22e-02\n",
      "2.40e+18 +4.22e-02 +4.22e-02\n",
      "7.28e+18 +4.23e-02 +4.23e-02\n",
      "2.21e+19 +4.24e-02 +4.24e-02\n",
      "6.72e+19 +4.28e-02 +4.28e-02\n",
      "2.04e+20 +4.38e-02 +4.38e-02\n",
      "6.21e+20 +4.72e-02 +4.72e-02\n",
      "1.89e+21 +5.73e-02 +5.73e-02\n",
      "5.74e+21 +8.81e-02 +8.81e-02\n",
      "1.74e+22 +1.82e-01 +1.82e-01\n",
      "5.30e+22 +4.65e-01 +4.65e-01\n",
      "1.61e+23 +1.31e+00 +1.31e+00\n",
      "4.89e+23 +3.47e+00 +3.47e+00\n",
      "1.49e+24 +5.30e+00 +5.30e+00\n",
      "4.52e+24 +2.93e+00 +2.93e+00\n",
      "1.37e+25 +1.05e+00 +1.05e+00\n",
      "4.18e+25 +3.48e-01 +3.48e-01\n",
      "1.27e+26 +1.15e-01 +1.15e-01\n",
      "3.86e+26 +3.79e-02 +3.79e-02\n",
      "1.17e+27 +1.25e-02 +1.25e-02\n",
      "3.56e+27 +4.11e-03 +4.11e-03\n",
      "1.08e+28 +1.36e-03 +1.36e-03\n",
      "3.29e+28 +4.48e-04 +4.48e-04\n",
      "1.00e+29 +1.48e-04 +1.48e-04\n"
     ]
    }
   ],
   "source": [
    "for index, rho__ in enumerate(rho2_):\n",
    "    print('{:0.2e} {:+4.2e} {:+4.2e}'.format(\n",
    "        rho__.magnitude, \n",
    "        gamma2[index].magnitude,\n",
    "        gamma2_jit[index].magnitude))\n",
    "    "
   ]
  },
  {
   "cell_type": "markdown",
   "id": "c61b332e-b1ba-427e-8cb2-cf000cb19ffa",
   "metadata": {},
   "source": [
    "Plot the results.  When the integral is positive, it seems to be generally correct."
   ]
  },
  {
   "cell_type": "code",
   "execution_count": 220,
   "id": "7bccab72-ffa4-48fc-9e80-130ec91307e4",
   "metadata": {},
   "outputs": [
    {
     "data": {
      "image/png": "[encoded data removed]",
      "text/plain": [
       "<Figure size 350x250 with 1 Axes>"
      ]
     },
     "metadata": {},
     "output_type": "display_data"
    }
   ],
   "source": [
    "plt.figure(figsize=(3.50, 2.50))\n",
    "plt.loglog(rho2_.to('1/m^3').magnitude, gamma2.to('pN s/m').magnitude, '-', label='pure Python, 16.6 s')\n",
    "plt.loglog(rho2_.to('1/m^3').magnitude, gamma2_jit.to('pN s/m').magnitude, 'o', label='Python + numba, 0.22 s')\n",
    "plt.xlabel(r'charge density $\\rho$ [m$^{-3}$]')  # need a raw string here because \\r is the special carriage return character\n",
    "plt.ylabel('dissipation $\\gamma_{\\parallel}$ [pN s/m]')\n",
    "plt.legend(fontsize=8)\n",
    "plt.tight_layout()\n",
    "\n",
    "plt.savefig(THIS + '--Fig-2', dpi=300)\n",
    "plt.savefig(THIS + '--Fig-2.pdf')\n",
    "\n",
    "plt.show()"
   ]
  },
  {
   "cell_type": "markdown",
   "id": "fffa8f03-e6ff-4500-822b-8b0fb4f20451",
   "metadata": {},
   "source": [
    "Plot relative difference."
   ]
  },
  {
   "cell_type": "code",
   "execution_count": 221,
   "id": "2ef621ea-63fa-4d10-a26b-a6e98cf8b5e7",
   "metadata": {},
   "outputs": [],
   "source": [
    "err = ((gamma2 - gamma2_jit)/gamma2).magnitude"
   ]
  },
  {
   "cell_type": "code",
   "execution_count": 222,
   "id": "c80181ed-1aa5-4657-8f80-d73ca925aa19",
   "metadata": {},
   "outputs": [
    {
     "data": {
      "image/png": "[encoded data removed]",
      "text/plain": [
       "<Figure size 350x250 with 1 Axes>"
      ]
     },
     "metadata": {},
     "output_type": "display_data"
    }
   ],
   "source": [
    "plt.figure(figsize=(3.50, 2.50))\n",
    "plt.semilogx(rho2_.to('1/m^3').magnitude, err * 1e6, '.-')\n",
    "plt.xlabel(r'charge density $\\rho$ [m$^{-3}$]')  # need a raw string here because \\r is the special carriage return character\n",
    "plt.ylabel('reletative error [ppm]')\n",
    "plt.tight_layout()\n",
    "\n",
    "plt.savefig(THIS + '--Fig-3', dpi=300)\n",
    "plt.savefig(THIS + '--Fig-3.pdf')\n",
    "\n",
    "plt.show()"
   ]
  },
  {
   "cell_type": "markdown",
   "id": "38845a25-6925-4f66-8a26-00452474f0ee",
   "metadata": {},
   "source": [
    "In summary, using the `numba` package I have sped up the calculation of the parallel dissipation over a semiconductor approximately 75 fold."
   ]
  },
  {
   "cell_type": "code",
   "execution_count": null,
   "id": "fb3766ad-ed08-4f3b-8371-1173257eb649",
   "metadata": {},
   "outputs": [],
   "source": []
  }
 ],
 "metadata": {
  "kernelspec": {
   "display_name": "Python 3 (ipykernel)",
   "language": "python",
   "name": "python3"
  },
  "language_info": {
   "codemirror_mode": {
    "name": "ipython",
    "version": 3
   },
   "file_extension": ".py",
   "mimetype": "text/x-python",
   "name": "python",
   "nbconvert_exporter": "python",
   "pygments_lexer": "ipython3",
   "version": "3.8.5"
  }
 },
 "nbformat": 4,
 "nbformat_minor": 5
}
