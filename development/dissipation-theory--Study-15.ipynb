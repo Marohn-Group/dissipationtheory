{
 "cells": [
  {
   "cell_type": "markdown",
   "id": "4a2b04cf-dded-4def-8075-aa9adfca8ef1",
   "metadata": {},
   "source": [
    "* Name: `dissipation-theory--Study-15.ipynb`\n",
    "* Author: John A. Marohn\n",
    "* Date: 2023-12-28\n",
    "* Continued from: `dissipation-theory--Study-11.ipynb`\n",
    "* Continued to: ---\n",
    "* Summary: Calculate dissipation versus height over a sample with properties similar to Rachael's PM6:Y6 and compare to Marohn's analytical expression derived in the thick-sample limit.  This notebook recalculates the successful fit in `dissipation-theory--Study-11.ipynb` and further explores the result."
   ]
  },
  {
   "cell_type": "markdown",
   "id": "778c27f7-363e-4080-9ec1-da90b48dff0f",
   "metadata": {},
   "source": [
    "# Preliminaries"
   ]
  },
  {
   "cell_type": "code",
   "execution_count": 1,
   "id": "2f88334a-0931-4872-92fd-50f22ce24b53",
   "metadata": {},
   "outputs": [],
   "source": [
    "import numpy as np\n",
    "import matplotlib.pyplot as plt"
   ]
  },
  {
   "cell_type": "code",
   "execution_count": 2,
   "id": "ca32e223-08d6-4403-ac9f-f3d8d1a4cf28",
   "metadata": {},
   "outputs": [],
   "source": [
    "from dissipationtheory.constants import ureg, qe, epsilon0, kb\n",
    "from dissipationtheory.dissipation import CantileverModelJit, SampleModel1Jit\n",
    "from dissipationtheory.dissipation import theta1norm_jit, gamma_perpendicular_jit, gamma_perpendicular_approx"
   ]
  },
  {
   "cell_type": "code",
   "execution_count": 3,
   "id": "8b5208b2-7821-4282-9b75-44103d03b7a6",
   "metadata": {},
   "outputs": [],
   "source": [
    "from dissipationtheory.constants import epsilon0\n",
    "from dissipationtheory.capacitance import Csphere"
   ]
  },
  {
   "cell_type": "code",
   "execution_count": 4,
   "id": "41bd6d90-ae3d-431c-94b7-35ec51f39c70",
   "metadata": {},
   "outputs": [],
   "source": [
    "THIS = 'dissipation-theory--Study-15'"
   ]
  },
  {
   "cell_type": "markdown",
   "id": "9a234307-e961-4356-a563-b582544272e6",
   "metadata": {},
   "source": [
    "# Friction versus charge density\n",
    "\n",
    "Compute the friction $\\gamma_{\\perp}$ versus charge density $\\rho$ using Lekkala's Model I, with the substrate dielectric constant set to $10^6$ to mimic a metal substrate.  Create variables for all the importants parameters, with units:"
   ]
  },
  {
   "cell_type": "code",
   "execution_count": 5,
   "id": "15f7c5df-b705-40bf-ad09-c625fbf222d3",
   "metadata": {},
   "outputs": [],
   "source": [
    "hs = ureg.Quantity(110, 'nanometer')   # measured\n",
    "epsilons = complex(3.4, 0.)            # reasonable guess\n",
    "rho = ureg.Quantity(1e24,'m^{-3}')     # wild guess\n",
    "mu = ureg.Quantity(1e-4, 'cm^2/(s V)') # representative number\n",
    "\n",
    "fc = ureg.Quantity(75, 'kHz')        # cantilever frequency, measured\n",
    "Vts = ureg.Quantity(1, 'volt')       # tip-sample voltage, representative\n",
    "r = ureg.Quantity(38.4, 'nanometer') # tip radius, measured over gold\n",
    "h = ureg.Quantity(120, 'nanometer')  # tip-sample separation, measured"
   ]
  },
  {
   "cell_type": "markdown",
   "id": "75f3ba00-ff76-43f5-997f-52892de30c93",
   "metadata": {},
   "source": [
    "Compute the capacitance of the spherical tip as a check:"
   ]
  },
  {
   "cell_type": "code",
   "execution_count": 6,
   "id": "cd3b7482-4c32-47b0-be09-c7c0f84d349d",
   "metadata": {},
   "outputs": [
    {
     "name": "stdout",
     "output_type": "stream",
     "text": [
      "Ctip = 4.27 aF at infinite separation\n",
      "Ctip = 4.86 aF at h = 120.00 nm over metal\n"
     ]
    }
   ],
   "source": [
    "cinf = 4 * np.pi * epsilon0 * r\n",
    "\n",
    "h_ = ureg.Quantity(np.array([h.to('m').magnitude]), 'm') \n",
    "c0 = Csphere(0, height=h_, radius=r, nterm=21)\n",
    "\n",
    "print(\"Ctip = {:0.2f} aF at infinite separation\".format(cinf.to('aF').magnitude))\n",
    "print(\"Ctip = {:0.2f} aF at h = {:0.2f} nm over metal\".format(c0[0].to('aF').magnitude, h.to('nm').magnitude))"
   ]
  },
  {
   "cell_type": "markdown",
   "id": "114ac1dd-9f25-4ae2-8e78-50fccec4a1d1",
   "metadata": {},
   "source": [
    "Use the fast, `jit` version of the Sample and Cantilever model.  The `jit` version expects unitless parameters."
   ]
  },
  {
   "cell_type": "code",
   "execution_count": 7,
   "id": "f8cebb8b-e282-4585-a083-af835236fe49",
   "metadata": {},
   "outputs": [],
   "source": [
    "sample1_jit = SampleModel1Jit(\n",
    "    cantilever=CantileverModelJit(\n",
    "        fc.to('Hz').magnitude, \n",
    "        Vts.to('V').magnitude,  \n",
    "        r.to('m').magnitude, \n",
    "        h.to('m').magnitude), \n",
    "    epsilon_s=epsilons,\n",
    "    h_s=hs.to('m').magnitude,\n",
    "    mu=mu.to('m^2/(s V)').magnitude,\n",
    "    rho=rho.to('m^{-3}').magnitude,\n",
    "    epsilon_d=complex(1.0e6, 0.),\n",
    "    z_r=h.to('m').magnitude)"
   ]
  },
  {
   "cell_type": "markdown",
   "id": "437a7089-3e0b-4ab1-960f-c51cb36b4631",
   "metadata": {},
   "source": [
    "Create an array of charge densities to loop over.  Compute the associated conductivity $\\sigma$."
   ]
  },
  {
   "cell_type": "code",
   "execution_count": 8,
   "id": "6ab32553-88ca-46ba-824d-11ecf7e71015",
   "metadata": {},
   "outputs": [],
   "source": [
    "rho_= ureg.Quantity(np.logspace(start=17, stop=27, num=50), '1/m^3')\n",
    "sigma_ = (qe * mu * rho_).to('1/(ohm m)')"
   ]
  },
  {
   "cell_type": "markdown",
   "id": "433a5e6c-7603-4172-9386-30d92035db8a",
   "metadata": {},
   "source": [
    "The `SampleModel1Jit` object computes the Debye length internally.  Capture it inside the loop."
   ]
  },
  {
   "cell_type": "code",
   "execution_count": 9,
   "id": "7a447571-9ee3-47c7-86a1-1d5961d8d424",
   "metadata": {},
   "outputs": [
    {
     "name": "stdout",
     "output_type": "stream",
     "text": [
      "CPU times: user 426 ms, sys: 8.83 ms, total: 435 ms\n",
      "Wall time: 470 ms\n"
     ]
    }
   ],
   "source": [
    "%%time\n",
    "result1 = {\n",
    "    'rho': rho_,\n",
    "    'sigma': sigma_,\n",
    "    'gamma': ureg.Quantity(np.zeros_like(rho_), 'pN s/m'),\n",
    "    'L_Debye': ureg.Quantity(np.zeros_like(rho_), 'm')\n",
    "}\n",
    "\n",
    "for index, rho__ in enumerate(rho_):\n",
    "\n",
    "        sample1_jit.rho = rho__.to('1/m^3').magnitude\n",
    "        result1['L_Debye'][index] = ureg.Quantity(sample1_jit.LD, 'm')\n",
    "        result1['gamma'][index] = gamma_perpendicular_jit(theta1norm_jit, sample1_jit).to('pN s/m')"
   ]
  },
  {
   "cell_type": "markdown",
   "id": "ac12b39e-6729-49b3-b4b8-3cd4da8c48ef",
   "metadata": {},
   "source": [
    "Plot the friction versus charge density, with the Debye length as a second $x$ axis. See the advice [here](https://stackoverflow.com/questions/10514315/how-to-add-a-second-x-axis) and [here](https://matplotlib.org/3.1.0/gallery/subplots_axes_and_figures/secondary_axis.html) describing how to add a second $x$ axis to a `matplotlib` figure. \n",
    "\n",
    "For plotting, we need to define a function to convert from charge density (the first $x$ axis) to Debye length (the second $x$ axis) and vice versa.  We can use the numbers computed by the `SampleModel1Jit` object as a sanity check for these functions.  Print out the Debye length at the initial charge density."
   ]
  },
  {
   "cell_type": "code",
   "execution_count": 10,
   "id": "1c7e76eb-74fc-480a-b84b-e63d0ad02054",
   "metadata": {},
   "outputs": [
    {
     "data": {
      "text/plain": [
       "(array([1.e+17]) <Unit('1 / meter ** 3')>,\n",
       " array([3.77977755e-06]) <Unit('meter')>)"
      ]
     },
     "execution_count": 10,
     "metadata": {},
     "output_type": "execute_result"
    }
   ],
   "source": [
    "(result1['rho'][[0]], result1['L_Debye'][[0]])"
   ]
  },
  {
   "cell_type": "markdown",
   "id": "b0ddc3d2-905f-497c-b10e-94e186c34913",
   "metadata": {},
   "source": [
    "Define a stand-alone function that converts between charge density and Debye length.  The function works on the $x$ axis in the plot, so should have unitless inputs and outputs."
   ]
  },
  {
   "cell_type": "code",
   "execution_count": 36,
   "id": "2e12be7a-b5da-4d63-b179-0fe9f1c8e97a",
   "metadata": {},
   "outputs": [],
   "source": [
    "def forward(rho):\n",
    "    \"\"\"Convert from charge density to Debye length.\"\"\"\n",
    "    \n",
    "    rho = ureg.Quantity(rho, '1/m^3')\n",
    "    T = ureg.Quantity(300, 'K')\n",
    "    LD = np.sqrt((epsilon0 * kb * T)/(rho * qe * qe))\n",
    "    \n",
    "    return LD.to('m').magnitude"
   ]
  },
  {
   "cell_type": "markdown",
   "id": "b06f884b-b7a2-4d02-b744-2c6e04587b97",
   "metadata": {},
   "source": [
    "Verify that the forward function works as expected."
   ]
  },
  {
   "cell_type": "code",
   "execution_count": 37,
   "id": "2468819c-3ed8-4f0c-b252-50315b64709e",
   "metadata": {},
   "outputs": [
    {
     "data": {
      "text/plain": [
       "3.7797775481848926e-06"
      ]
     },
     "execution_count": 37,
     "metadata": {},
     "output_type": "execute_result"
    }
   ],
   "source": [
    "forward(1.0e17)"
   ]
  },
  {
   "cell_type": "markdown",
   "id": "9f6c08da-7845-4259-838b-ed2cf4f33b2b",
   "metadata": {},
   "source": [
    "Now define a reverse function that converts from Debye length to charge density.  The function should again have unitless inputs and outputs."
   ]
  },
  {
   "cell_type": "code",
   "execution_count": 38,
   "id": "1691f778-7961-4179-87af-b2dfb7aafcc6",
   "metadata": {},
   "outputs": [],
   "source": [
    "def reverse(LD):\n",
    "    \"\"\"Convert from Debye length to charge density.\"\"\"\n",
    "    \n",
    "    LD = ureg.Quantity(LD, 'm')\n",
    "    T = ureg.Quantity(300, 'K')\n",
    "    rho = (epsilon0 * kb * T)/(LD * LD * qe * qe)\n",
    "    \n",
    "    return rho.to('1/m^3').magnitude"
   ]
  },
  {
   "cell_type": "markdown",
   "id": "9701b194-0042-4ff6-b498-c90ebacd579c",
   "metadata": {},
   "source": [
    "Verify that the reverse function works as expected."
   ]
  },
  {
   "cell_type": "code",
   "execution_count": 14,
   "id": "ba1a3f39-68be-4eb1-98de-14ab16162bc9",
   "metadata": {},
   "outputs": [
    {
     "data": {
      "text/plain": [
       "9.999999990395694e+16"
      ]
     },
     "execution_count": 14,
     "metadata": {},
     "output_type": "execute_result"
    }
   ],
   "source": [
    "reverse(3.77977755e-06)"
   ]
  },
  {
   "cell_type": "markdown",
   "id": "988771e2-1607-4e68-8a00-e56a6df95063",
   "metadata": {},
   "source": [
    "Now are are ready to create the plot.  To avoid a user warning, as recommended [here](https://stackoverflow.com/questions/37309559/using-matplotlib-giving-me-the-following-warning-userwarning-tight-layout), use `fig.set_tight_layout(True)` instead of `plt.tight_layout()`.  The following code produces a \"divide by zero\" run-time warning coming from the `forward` and `reverse` functions.  I assume this warning is generated by some internal `matplotlib` function calls.  Don't worry about it."
   ]
  },
  {
   "cell_type": "code",
   "execution_count": 15,
   "id": "ccfcb48d-0aea-4554-ac79-a72b14390c4d",
   "metadata": {},
   "outputs": [
    {
     "name": "stderr",
     "output_type": "stream",
     "text": [
      "/Users/jam99/Library/Caches/pypoetry/virtualenvs/dissipationtheory-Uvi85QQO-py3.8/lib/python3.8/site-packages/pint/facets/plain/quantity.py:1119: RuntimeWarning: divide by zero encountered in divide\n",
      "  magnitude = magnitude_op(new_self._magnitude, other._magnitude)\n",
      "/Users/jam99/Library/Caches/pypoetry/virtualenvs/dissipationtheory-Uvi85QQO-py3.8/lib/python3.8/site-packages/pint/facets/plain/quantity.py:1119: RuntimeWarning: divide by zero encountered in divide\n",
      "  magnitude = magnitude_op(new_self._magnitude, other._magnitude)\n"
     ]
    },
    {
     "data": {
      "image/png": "[encoded data removed]",
      "text/plain": [
       "<Figure size 325x325 with 1 Axes>"
      ]
     },
     "metadata": {},
     "output_type": "display_data"
    }
   ],
   "source": [
    "fig, ax = plt.subplots(figsize=(3.25, 3.25), constrained_layout=True)\n",
    "ax.loglog(\n",
    "    result1['rho'].to('1/m^3').magnitude,\n",
    "    result1['gamma'].to('pN s/m').magnitude,\n",
    "    '.')\n",
    "ax.set_xlabel(r'charge density $\\rho$ [m$^{-3}$]')  # need a raw string here because \\r is the special carriage return character\n",
    "ax.set_ylabel('friction $\\gamma_{\\perp}$ [pN s/m]')\n",
    "\n",
    "ax2 = ax.secondary_xaxis('top', functions=(forward, reverse))\n",
    "ax2.set_xlabel('Debye length $\\lambda_{\\mathrm{D}}$ [m]')\n",
    "\n",
    "fig.set_tight_layout(True)\n",
    "\n",
    "plt.savefig(THIS + '--Fig-1.png', dpi=300)\n",
    "plt.savefig(THIS + '--Fig-1.pdf')\n",
    "plt.show()"
   ]
  },
  {
   "cell_type": "markdown",
   "id": "52c34a99-63cf-4be1-ae74-83f857c289cc",
   "metadata": {},
   "source": [
    "Compute the charge density where the maximum friction occurs.  See Marohn's notes, 2023-09-06-p12"
   ]
  },
  {
   "cell_type": "code",
   "execution_count": 35,
   "id": "2ac402f7-ac57-4dfe-9ab6-e8afe7b7e03b",
   "metadata": {},
   "outputs": [
    {
     "name": "stdout",
     "output_type": "stream",
     "text": [
      "maximum friction at charge density 8.9e+21/m^3\n"
     ]
    }
   ],
   "source": [
    "rho2 = (epsilons * 2 * np.pi * fc * epsilon0)/(qe * mu)\n",
    "print(\"maximum friction at charge density {:0.1e}/m^3\".format(rho2.real.to('m^{-3}').magnitude))"
   ]
  },
  {
   "cell_type": "markdown",
   "id": "e0447b8e-b38f-4d9b-b1aa-00e79206c666",
   "metadata": {},
   "source": [
    "# Fit to empirical model inspired by Dwyer"
   ]
  },
  {
   "cell_type": "code",
   "execution_count": 16,
   "id": "e46d46e5-277d-4644-a1a1-2e43fb00b612",
   "metadata": {},
   "outputs": [],
   "source": [
    "from dissipationtheory.capacitance import Csphere"
   ]
  },
  {
   "cell_type": "markdown",
   "id": "1969ae75-3c97-41ba-ae34-c7977a23bda7",
   "metadata": {},
   "source": [
    "What capacitance formula should we use to compute the tip charge? At low charge density, the Debye screening length is larger than the sample thickness.  In this limit, it is appropriate to model the tip as a sphere over a metal-backed dielectric.  At high charge density, the Debye length is much smaller than the sample thickness.  In this limit, it is more appropriate to moodel the tip as a sphere over a metal.\n",
    "\n",
    "Over most of the sample density range in the above plot, the Debye length is less than the sample thickness of 100 nm.  To compute the tip-sample capacitance, and derivatives, let us therefore approximate the sample as a metal.\n",
    "\n",
    "\n",
    "Use the function `Csphere` to compute the capacitance. The function `Cphere` expects an *array* of heights.  In the code below, create an array of sample heights `h_` that is just one element long.  "
   ]
  },
  {
   "cell_type": "code",
   "execution_count": 17,
   "id": "df5eb5f4-b868-4aed-8d43-ca6510dd9a96",
   "metadata": {},
   "outputs": [],
   "source": [
    "h_ = ureg.Quantity(np.array([h.to('m').magnitude]), 'm') \n",
    "c0 = Csphere(0, height=h_, radius=r, nterm=21)\n",
    "c1 = Csphere(1, height=h_, radius=r, nterm=21)"
   ]
  },
  {
   "cell_type": "markdown",
   "id": "851aa1cb-4be6-45fe-8b98-8eb8ade82d5a",
   "metadata": {},
   "source": [
    "Create an empirical fit function.  Modify this function slightly from `func4` in `Study-11`: (1) The capacitance is not computed by treating the tip as a sphere over a metal and (2) The capacitance is $C = 4 \\pi \\epsilon_0 k_C$, which is larger by a factor of $4 \\pi$ than the one in `func4`.  The resulting $k_C$ should now be a factor of $4 \\pi$ smaller.  The reason for including the factor of $4 \\pi$ in the capacitance definition is that it facilities comparison of the empirical capacitance $C$ to the tip-sample capacitance at infinite separation, $4 \\pi \\epsilon_0 r$, with $r$ the tip radius."
   ]
  },
  {
   "cell_type": "code",
   "execution_count": 18,
   "id": "922b89ab-54f4-45c5-8ac5-0d3a5ce8ead6",
   "metadata": {},
   "outputs": [],
   "source": [
    "def func(rho_unitless, kR_unitless, kC_unitless): \n",
    "    \n",
    "    rho = ureg.Quantity(rho_unitless, '1/m^3')\n",
    "    kR = ureg.Quantity(kR_unitless, 'm')\n",
    "    kC = ureg.Quantity(kC_unitless, 'm')\n",
    "    omega = 2 * np.pi * fc\n",
    "    sigma = qe * mu * rho\n",
    "    gamma = (c1**2 * Vts**2 * sigma * kR)/(sigma**2 * kR**2 + omega**2 * (4 * np.pi * epsilon0 * kC)**2)\n",
    "    \n",
    "    return gamma.to('pN s/m').magnitude"
   ]
  },
  {
   "cell_type": "markdown",
   "id": "0a50882d-4cb9-4a12-9152-b7ab17fc69dd",
   "metadata": {},
   "source": [
    "Use the package `lmfit` to carry out a least-squares fit of the simulated friction to the empirical function `func`."
   ]
  },
  {
   "cell_type": "code",
   "execution_count": 19,
   "id": "541cdf6d-afb7-435f-ae3c-03bb59af4bda",
   "metadata": {},
   "outputs": [],
   "source": [
    "from lmfit import Model, Parameters"
   ]
  },
  {
   "cell_type": "markdown",
   "id": "65dc4151-dd78-497c-9186-32a7e30c9911",
   "metadata": {},
   "source": [
    "When performing the least-squares fitting,\n",
    "\n",
    "* restrict $k_R$ and $k_C$ to be positive;\n",
    "* fit with proportional error bars, or else the fit will be assuming uniform error bars and weight the largest data the most; and \n",
    "* pick the error bars, arbitrarily, to be 1 percent of the data.\n",
    "\n",
    "The error bars are arbitrary, but it is important that they are *proportional* to the data."
   ]
  },
  {
   "cell_type": "code",
   "execution_count": 20,
   "id": "a7eb9c8f-dd02-4e78-9e7e-d5f4e1bcf9f4",
   "metadata": {},
   "outputs": [],
   "source": [
    "xfit = result1['rho'].to('1/m^3').magnitude\n",
    "yfit = result1['gamma'].to('pN s/m').magnitude\n",
    "yerr = 0.01 * yfit"
   ]
  },
  {
   "cell_type": "code",
   "execution_count": 21,
   "id": "ba6b350c-1e74-40ef-a28e-960b64755237",
   "metadata": {},
   "outputs": [],
   "source": [
    "model = Model(func)\n",
    "\n",
    "pars = Parameters() \n",
    "pars.add('kR_unitless', value=1e-8, min=0)\n",
    "pars.add('kC_unitless', value=1e-8, min=0)\n",
    "\n",
    "result = model.fit(yfit, rho_unitless=xfit, params=pars, weights=1/yerr)"
   ]
  },
  {
   "cell_type": "code",
   "execution_count": 22,
   "id": "1b93acca-d795-485f-8bd5-50d1f5dfb77c",
   "metadata": {},
   "outputs": [
    {
     "data": {
      "text/html": [
       "<h2>Fit Result</h2> <p>Model: Model(func)</p> <table class=\"jp-toc-ignore\"><caption class=\"jp-toc-ignore\">Fit Statistics</caption><tr><td style='text-align:left'>fitting method</td><td style='text-align:right'>leastsq</td></tr><tr><td style='text-align:left'># function evals</td><td style='text-align:right'>28</td></tr><tr><td style='text-align:left'># data points</td><td style='text-align:right'>50</td></tr><tr><td style='text-align:left'># variables</td><td style='text-align:right'>2</td></tr><tr><td style='text-align:left'>chi-square</td><td style='text-align:right'> 28501.6375</td></tr><tr><td style='text-align:left'>reduced chi-square</td><td style='text-align:right'> 593.784115</td></tr><tr><td style='text-align:left'>Akaike info crit.</td><td style='text-align:right'> 321.284691</td></tr><tr><td style='text-align:left'>Bayesian info crit.</td><td style='text-align:right'> 325.108737</td></tr><tr><td style='text-align:left'>R-squared</td><td style='text-align:right'>-271.027723</td></tr></table><table class=\"jp-toc-ignore\"><caption>Parameters</caption><tr><th style='text-align:left'>name</th><th style='text-align:left'>value</th><th style='text-align:left'>standard error</th><th style='text-align:left'>relative error</th><th style='text-align:left'>initial value</th><th style='text-align:left'>min</th><th style='text-align:left'>max</th><th style='text-align:right'>vary</th></tr><tr><td style='text-align:left'>kR_unitless</td><td style='text-align:left'> 4.6830e-08</td><td style='text-align:left'> 2.5837e-09</td><td style='text-align:left'>(5.52%)</td><td style='text-align:left'>1e-08</td><td style='text-align:left'> 0.00000000</td><td style='text-align:left'>        inf</td><td style='text-align:right'>True</td></tr><tr><td style='text-align:left'>kC_unitless</td><td style='text-align:left'> 2.1636e-08</td><td style='text-align:left'> 7.6998e-10</td><td style='text-align:left'>(3.56%)</td><td style='text-align:left'>1e-08</td><td style='text-align:left'> 0.00000000</td><td style='text-align:left'>        inf</td><td style='text-align:right'>True</td></tr></table><table class=\"jp-toc-ignore\"><caption>Correlations (unreported values are < 0.100)</caption><tr><th style='text-align:left'>Parameter1</th><th style='text-align:left'>Parameter 2</th><th style='text-align:right'>Correlation</th></tr><tr><td style='text-align:left'>kR_unitless</td><td style='text-align:left'>kC_unitless</td><td style='text-align:right'>+0.6999</td></tr></table>"
      ],
      "text/plain": [
       "<lmfit.model.ModelResult at 0x11bd4cdf0>"
      ]
     },
     "execution_count": 22,
     "metadata": {},
     "output_type": "execute_result"
    }
   ],
   "source": [
    "result"
   ]
  },
  {
   "cell_type": "markdown",
   "id": "da6e83a1-2ded-4763-8ee9-38bedfc5e982",
   "metadata": {},
   "source": [
    "Make a function to plot the fit, with the data and fit plotted below at the residuals plotted above.  Put the Debye-length axis above the residuals plot.  On top of the lower plot, add another $x$ axis showing the conductivity.   We need to define another set of functions to convert between charge density and conductivity."
   ]
  },
  {
   "cell_type": "code",
   "execution_count": 43,
   "id": "24fd06d5-0e56-46f3-9905-f0018fbe743e",
   "metadata": {},
   "outputs": [],
   "source": [
    "def forward2(rho):\n",
    "    \"\"\"Convert from charge density to conductivity.\"\"\"\n",
    "    \n",
    "    rho = ureg.Quantity(rho, '1/m^3')\n",
    "    sigma = qe * mu * rho\n",
    "\n",
    "    return sigma.to('mS/m').magnitude"
   ]
  },
  {
   "cell_type": "code",
   "execution_count": 44,
   "id": "f24ab624-f4b2-40ff-a153-ffb8afa72099",
   "metadata": {},
   "outputs": [],
   "source": [
    "def reverse2(sigma):\n",
    "    \"\"\"Convert from conductivity to charge density.\"\"\"\n",
    "    \n",
    "    sigma = ureg.Quantity(sigma, 'mS/m')\n",
    "    rho = sigma / (qe * mu)\n",
    "    \n",
    "    return rho.to('1/m^3').magnitude"
   ]
  },
  {
   "cell_type": "markdown",
   "id": "435900f8-5950-4427-9c7e-1e311514a70e",
   "metadata": {},
   "source": [
    "Now define the plotting function.  Don't try to plot with error bars, since they are very small and I have chosen the 1 % proportional errors arbitrarily."
   ]
  },
  {
   "cell_type": "code",
   "execution_count": 68,
   "id": "3c7cb803-000c-4447-b53a-00c7515c6c32",
   "metadata": {},
   "outputs": [],
   "source": [
    "def plotfit(xfit, yfit, ycalc, yerr, figname):\n",
    "\n",
    "    fig, axs = plt.subplots(\n",
    "        figsize=(3.25,4.50),\n",
    "        nrows=2,\n",
    "        sharex=True, gridspec_kw={'height_ratios': [1, 3]})\n",
    "    \n",
    "    dy = 100 * (yfit - ycalc)/yfit\n",
    "    # opts = dict(marker='o', mfc='w', ms=4, capsize=3, linestyle='none')\n",
    "    opts = dict(marker='o', mfc='w', ms=3, linestyle='none')\n",
    "    \n",
    "    # axs[0].errorbar(xfit, dy, yerr=yerr, **opts, color='tab:blue')\n",
    "    axs[0].plot(xfit, dy, **opts, color='tab:blue')\n",
    "    axs[0].set_ylabel('resid. [%]')\n",
    "    axs[0].grid()\n",
    "    axs[0].set_ylim([-60,60])\n",
    "    \n",
    "    axs[1].set_xscale('log')\n",
    "    axs[1].set_yscale('log')\n",
    "    axs[1].plot(xfit, ycalc, 'k-')\n",
    "    # axs[1].errorbar(xfit, yfit, yerr=yerr, **opts, color='tab:blue')\n",
    "    axs[1].plot(xfit, yfit, **opts, color='tab:blue')\n",
    "    axs[1].grid()\n",
    "    \n",
    "    ax2 = axs[1].secondary_xaxis('top', functions=(forward2, reverse2))\n",
    "    ax2.set_xlabel('conductivity $\\sigma_{\\mathrm{s}}$ [mS/m]')\n",
    "    \n",
    "    ax3 = axs[0].secondary_xaxis('top', functions=(forward, reverse))\n",
    "    ax3.set_xlabel('Debye length $\\lambda_{\\mathrm{D}}$ [m]')\n",
    "    \n",
    "    plt.xlabel(r'charge density $\\rho$ [m$^{-3}$]')  # need a raw string here because \\r is the special carriage return character\n",
    "    plt.ylabel('friction $\\gamma_{\\perp}$ [pN s/m]')\n",
    "    \n",
    "    fig.align_ylabels()\n",
    "    plt.tight_layout()\n",
    "    \n",
    "    plt.savefig(THIS + '--' + figname, dpi=300)\n",
    "    plt.savefig(THIS + '--' + figname + '.pdf')\n",
    "    \n",
    "    plt.show()"
   ]
  },
  {
   "cell_type": "code",
   "execution_count": 69,
   "id": "da9ea3c7-58eb-4a6d-8e86-fca11e3a3da4",
   "metadata": {},
   "outputs": [
    {
     "name": "stderr",
     "output_type": "stream",
     "text": [
      "/Users/jam99/Library/Caches/pypoetry/virtualenvs/dissipationtheory-Uvi85QQO-py3.8/lib/python3.8/site-packages/pint/facets/plain/quantity.py:1119: RuntimeWarning: divide by zero encountered in divide\n",
      "  magnitude = magnitude_op(new_self._magnitude, other._magnitude)\n"
     ]
    },
    {
     "data": {
      "image/png": "[encoded data removed]",
      "text/plain": [
       "<Figure size 325x450 with 2 Axes>"
      ]
     },
     "metadata": {},
     "output_type": "display_data"
    }
   ],
   "source": [
    "ycalc =  result.best_fit\n",
    "plotfit(xfit, yfit, ycalc, yerr, 'Fig-2')"
   ]
  },
  {
   "cell_type": "markdown",
   "id": "4afd6d20-aa10-44b7-8844-0bcbc1c260a7",
   "metadata": {},
   "source": [
    "Print out the percentage residuals:"
   ]
  },
  {
   "cell_type": "code",
   "execution_count": 71,
   "id": "93ad5d88-476b-43aa-92c0-86b1ccd07b66",
   "metadata": {},
   "outputs": [
    {
     "data": {
      "text/plain": [
       "array([ 10.02864672,  10.0277059 ,  10.02715157,  10.02626472,\n",
       "        10.02484716,  10.02257714,  10.01894527,  10.01313444,\n",
       "        10.003837  ,   9.98896003,   9.96515284,   9.92704909,\n",
       "         9.8660486 ,   9.7683548 ,   9.6118001 ,   9.36068031,\n",
       "         8.95727823,   8.30779914,   7.25874716,   5.55695703,\n",
       "         2.78304666,  -1.74930055,  -9.09042539, -20.48494497,\n",
       "       -36.05599074, -51.65911314, -58.91590088, -54.47291124,\n",
       "       -43.36110363, -31.07893639, -19.99877603, -10.59043835,\n",
       "        -2.70539921,   3.9057195 ,   9.45720749,  14.11472289,\n",
       "        18.00833664,  21.24522396,  23.91743713,  26.10589419,\n",
       "        27.88231083,  29.31023151,  30.44574276,  31.33810242,\n",
       "        32.03035134,  32.55991241,  32.95916918,  33.2560225 ,\n",
       "        33.47443364,  33.63497303])"
      ]
     },
     "execution_count": 71,
     "metadata": {},
     "output_type": "execute_result"
    }
   ],
   "source": [
    "100 * (yfit - ycalc)/yfit"
   ]
  },
  {
   "cell_type": "markdown",
   "id": "51171a3c-c13e-4b30-acc3-b5e6498ead0d",
   "metadata": {},
   "source": [
    "Save the best-fit values of $k_C$ and $k_R$ as variables with units."
   ]
  },
  {
   "cell_type": "code",
   "execution_count": 25,
   "id": "cdba5c2f-b6f0-4200-8743-3be6d8e0ba21",
   "metadata": {},
   "outputs": [],
   "source": [
    "kCopt = ureg.Quantity(result.best_values['kC_unitless'],'m')\n",
    "kRopt = ureg.Quantity(result.best_values['kR_unitless'],'m')"
   ]
  },
  {
   "cell_type": "markdown",
   "id": "f071aa03-577e-4b16-8691-8a503c92d1fa",
   "metadata": {},
   "source": [
    "Print out the best-fit parameters."
   ]
  },
  {
   "cell_type": "code",
   "execution_count": 26,
   "id": "71dbba16-fa3e-4a52-82ec-27e00afe6e02",
   "metadata": {},
   "outputs": [
    {
     "name": "stdout",
     "output_type": "stream",
     "text": [
      "kR = 46.83 nm\n",
      "kC = 21.64 nm\n",
      " r = 38.40 nm\n"
     ]
    }
   ],
   "source": [
    "print(\"kR = {:0.2f} nm\".format(kRopt.to('nm').magnitude))\n",
    "print(\"kC = {:0.2f} nm\".format(kCopt.to('nm').magnitude))\n",
    "print(\" r = {:0.2f} nm\".format(r.to('nm').magnitude))"
   ]
  },
  {
   "cell_type": "markdown",
   "id": "8606a3ba-caed-49d7-bae4-997533dbfa58",
   "metadata": {},
   "source": [
    "# Discussion"
   ]
  },
  {
   "cell_type": "markdown",
   "id": "1c0afd1c-14ac-4016-b782-1e2c3269a00c",
   "metadata": {},
   "source": [
    "Compare the \n",
    "* tip capacitance at $h = \\infty$, $C_{\\infty} = 4 \\pi \\epsilon_0 r$, with $r$ the tip radius; \n",
    "* tip capacitance at the given height $h$ over a metallic substrate, $c_0$; and \n",
    "* the empirically-determined capacitance $C = \\epsilon_0 \\, k_C$ obtained from the above fit.  "
   ]
  },
  {
   "cell_type": "code",
   "execution_count": 28,
   "id": "eb72f383-6dc3-4165-ae48-9252b9e4ff5a",
   "metadata": {},
   "outputs": [
    {
     "name": "stdout",
     "output_type": "stream",
     "text": [
      "  tip-sample capacitance at infinity: cinf = 4.27 aF\n",
      "     tip-sample capacitance over metal: c0 = 4.86 aF\n",
      "            empirical total capacitance: C = 2.41 aF\n"
     ]
    }
   ],
   "source": [
    "C = 4 * np.pi * epsilon0 * kCopt\n",
    "cinf = 4 * np.pi * epsilon0 * r\n",
    "\n",
    "print(\"  tip-sample capacitance at infinity: cinf = {:0.2f} aF\".format(cinf.to('aF').magnitude))\n",
    "print(\"     tip-sample capacitance over metal: c0 = {:0.2f} aF\".format(c0[0].to('aF').magnitude))\n",
    "print(\"            empirical total capacitance: C = {:0.2f} aF\".format(C.to('aF').magnitude))"
   ]
  },
  {
   "cell_type": "markdown",
   "id": "ba2f4796-8c03-476c-ad3b-65dc18c8447c",
   "metadata": {},
   "source": [
    "The empirically-determined capacitance $C$ is *less that* the tip capacitance $c_0$.  This finding is at odds with the Dwyer treatment, which predicts that $C = c_0 + C_{\\mathrm{s}}$ with $c_0$ the tip capacitance and $C_{\\mathrm{s}}$ the sample capacitance, requiring that $C > c_0$."
   ]
  },
  {
   "cell_type": "code",
   "execution_count": null,
   "id": "0cfde709-86ae-4902-971d-d9c1f469b04c",
   "metadata": {},
   "outputs": [],
   "source": []
  }
 ],
 "metadata": {
  "kernelspec": {
   "display_name": "Python 3 (ipykernel)",
   "language": "python",
   "name": "python3"
  },
  "language_info": {
   "codemirror_mode": {
    "name": "ipython",
    "version": 3
   },
   "file_extension": ".py",
   "mimetype": "text/x-python",
   "name": "python",
   "nbconvert_exporter": "python",
   "pygments_lexer": "ipython3",
   "version": "3.8.5"
  }
 },
 "nbformat": 4,
 "nbformat_minor": 5
}
