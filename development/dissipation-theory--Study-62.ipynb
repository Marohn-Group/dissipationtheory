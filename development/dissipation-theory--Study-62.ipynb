{
 "cells": [
  {
   "cell_type": "raw",
   "id": "ed564ed0",
   "metadata": {},
   "source": [
    "---\n",
    "title: Unit testing the Type III sample computations\n",
    "author: \"John A. Marohn\"\n",
    "date: today\n",
    "abstract: In anticipation of adding code to calculate the frequency shift and dissipation of Type I and Type II samples, develop unit tests for Type III and Type IV samples. In these tests we compare the real and imaginary parts of the $K_n$ integrals ($n = 0, 1, 2$) computed using `K_jit` in `dissipation9b.py` to those computed using `KmatrixIII_jit` and `KmatrixIV_jit` in `dissipation10e.py`.  These unit tests reveal that the integration scheme in `KmatrixIII_jit` in `dissipation10e.py` has relatively poor accuracy and needs improvement.  Below we develop an improved integration scheme, `KmatrixIII_jit` in `dissipation11e.py`.  \n",
    "toc: true\n",
    "number-sections: true\n",
    "highlight-style: pygments\n",
    "embed-resources: true\n",
    "dpi: 300\n",
    "format:\n",
    "    html:\n",
    "        html-math-method:\n",
    "          method: mathjax\n",
    "          url: \"https://cdn.jsdelivr.net/npm/mathjax@3/es5/tex-mml-chtml.js\"\n",
    "        code-fold: true\n",
    "        code-tools: true\n",
    "jupyter: python3\n",
    "---"
   ]
  },
  {
   "cell_type": "code",
   "execution_count": 1,
   "id": "c6f296a8",
   "metadata": {},
   "outputs": [],
   "source": [
    "import numpy as np\n",
    "import scipy\n",
    "from scipy import integrate\n",
    "import matplotlib.pylab as plt"
   ]
  },
  {
   "cell_type": "code",
   "execution_count": 2,
   "id": "d994e528",
   "metadata": {},
   "outputs": [],
   "source": [
    "from numba import jit"
   ]
  },
  {
   "cell_type": "code",
   "execution_count": 3,
   "id": "5bcb0ee2",
   "metadata": {},
   "outputs": [],
   "source": [
    "from dissipationtheory.constants import ureg\n",
    "from dissipationtheory.dissipation9a import CantileverModel, SampleModel1, SampleModel2, SampleModel3, SampleModel4\n",
    "from dissipationtheory.dissipation9a import K, Kmetal\n",
    "from dissipationtheory.dissipation9b import SampleModel1Jit, SampleModel2Jit, SampleModel3Jit, SampleModel4Jit\n",
    "from dissipationtheory.dissipation9b import integrand1jit, integrand2jit, integrand3jit\n",
    "from dissipationtheory.dissipation9b import Kmetal_jit, K_jit\n",
    "from dissipationtheory.dissipation10e import rpIII_jit, KmatrixIII_jit, KmatrixIV_jit"
   ]
  },
  {
   "cell_type": "code",
   "execution_count": 4,
   "id": "d3ef45c5",
   "metadata": {},
   "outputs": [],
   "source": [
    "from dissipationtheory.dissipation10e import twodimCobject"
   ]
  },
  {
   "cell_type": "markdown",
   "id": "1246fd21",
   "metadata": {},
   "source": [
    "First, tweak the code in `test_dissipation9b.py` run in the Jupyter notebook environment.  This tweak involves changing\n",
    "\n",
    "    self.params1_jit = ...\n",
    "    \n",
    "to\n",
    "\n",
    "    self = {}\n",
    "    ... \n",
    "    self['params1_jit'] = ...\n",
    "    \n",
    "and so on.  We also need to set \n",
    "\n",
    "    z_r = ureg.Quantity(1, 'nm')\n",
    "    \n",
    "so that our the `K_jit` results agree with the `KmatrixIII_jit` results."
   ]
  },
  {
   "cell_type": "markdown",
   "id": "40c30c5e",
   "metadata": {},
   "source": [
    "# Setup\n",
    "\n",
    "Define parameters common to all the upcoming simulations. \\\n",
    "A dictionary to hold the simulation parameters."
   ]
  },
  {
   "cell_type": "code",
   "execution_count": 5,
   "id": "f1775197",
   "metadata": {},
   "outputs": [],
   "source": [
    "self = {}"
   ]
  },
  {
   "cell_type": "markdown",
   "id": "2b029be4",
   "metadata": {},
   "source": [
    "A common cantilever object."
   ]
  },
  {
   "cell_type": "code",
   "execution_count": 6,
   "id": "0b9a7ca7",
   "metadata": {},
   "outputs": [],
   "source": [
    "cantilever = CantileverModel(\n",
    "    f_c = ureg.Quantity(62, 'kHz'),\n",
    "    k_c = ureg.Quantity(2.8, 'N/m'), \n",
    "    V_ts = ureg.Quantity(1, 'V'), \n",
    "    R = ureg.Quantity(55, 'nm'),\n",
    "    angle = ureg.Quantity(20, 'degree'),\n",
    "    L = ureg.Quantity(1000, 'nm')\n",
    ")"
   ]
  },
  {
   "cell_type": "markdown",
   "id": "74cef45a",
   "metadata": {},
   "source": [
    "The frequency $\\omega$."
   ]
  },
  {
   "cell_type": "code",
   "execution_count": 7,
   "id": "25d92834",
   "metadata": {},
   "outputs": [],
   "source": [
    "omega = 1e4"
   ]
  },
  {
   "cell_type": "markdown",
   "id": "22052872",
   "metadata": {},
   "source": [
    "Two locations to compute the $K_{n}$ integrals at.  \\\n",
    "We want versions of the location vectors in nanometers and in meters."
   ]
  },
  {
   "cell_type": "code",
   "execution_count": 8,
   "id": "6e82a0ff",
   "metadata": {},
   "outputs": [],
   "source": [
    "loc1_nm = np.array([ 0,  0, 50], dtype=np.float64)\n",
    "loc2_nm = np.array([ 0,  0, 50], dtype=np.float64)\n",
    "\n",
    "loc1_m = 1e-9 * loc1_nm\n",
    "loc2_m = 1e-9 * loc2_nm"
   ]
  },
  {
   "cell_type": "markdown",
   "id": "5c66871b",
   "metadata": {},
   "source": [
    "# Type IV sample"
   ]
  },
  {
   "cell_type": "markdown",
   "id": "c698e8a1",
   "metadata": {},
   "source": [
    "Calculate the three $K_{n}$ numbers for Sample 4 using the `Kmetal_jit` and `KmatrixIV_jit` functions. This code is adapted from the `def test_Sample4(self)` function in `test_dissipation9b.py` function.\n",
    "\n",
    "Do the `Kmetal_jit` calculation first:"
   ]
  },
  {
   "cell_type": "code",
   "execution_count": 9,
   "id": "dc860858",
   "metadata": {},
   "outputs": [],
   "source": [
    "sample4 = SampleModel4(\n",
    "    cantilever = cantilever,\n",
    "    z_r = ureg.Quantity(1, 'nm'))\n",
    "\n",
    "self['params4_jit'] = {\n",
    "    'sample': SampleModel4Jit(**sample4.args()), \n",
    "    'location1': loc1_m, \n",
    "    'location2': loc2_m}"
   ]
  },
  {
   "cell_type": "code",
   "execution_count": 10,
   "id": "45106508",
   "metadata": {},
   "outputs": [
    {
     "data": {
      "text/plain": [
       "array([1.e-02-0.j, 1.e-04+0.j, 2.e-06-0.j])"
      ]
     },
     "execution_count": 10,
     "metadata": {},
     "output_type": "execute_result"
    }
   ],
   "source": [
    "K0, K1, K2 = Kmetal_jit(**self['params4_jit'])\n",
    "\n",
    "result1a = np.array([K0, K1, K2])\n",
    "result1a"
   ]
  },
  {
   "cell_type": "markdown",
   "id": "f4f8e76a",
   "metadata": {},
   "source": [
    "Now the `KmatrixIIV_jit` calculation:"
   ]
  },
  {
   "cell_type": "code",
   "execution_count": 11,
   "id": "33034804",
   "metadata": {},
   "outputs": [
    {
     "data": {
      "text/plain": [
       "array([1.e-02+0.j, 1.e-04+0.j, 2.e-06-0.j])"
      ]
     },
     "execution_count": 11,
     "metadata": {},
     "output_type": "execute_result"
    }
   ],
   "source": [
    "K0, K1, K2 = KmatrixIV_jit(\n",
    "    np.array([loc1_m]),\n",
    "    np.array([loc2_m]))\n",
    "\n",
    "result1b = np.array([K0[0][0]/1e9, K1[0][0]/1e18, K2[0][0]/1e27])\n",
    "result1b"
   ]
  },
  {
   "cell_type": "markdown",
   "id": "b49acd58",
   "metadata": {},
   "source": [
    "Check that the real and imaginary parts of the two results are within rounding error."
   ]
  },
  {
   "cell_type": "code",
   "execution_count": 12,
   "id": "d71db2fd",
   "metadata": {},
   "outputs": [
    {
     "data": {
      "text/plain": [
       "(True, True)"
      ]
     },
     "execution_count": 12,
     "metadata": {},
     "output_type": "execute_result"
    }
   ],
   "source": [
    "(np.allclose(result1a.real, result1b.real), \n",
    " np.allclose(result1a.imag, result1b.imag))"
   ]
  },
  {
   "cell_type": "markdown",
   "id": "b335373b",
   "metadata": {},
   "source": [
    "# Type V sample\n",
    "\n",
    "Compare $K_{n}$'s. for a metal sample, computed with `Kmetal_jit` to a Type III sample with large dielectric constant, conductivity, and charge density, computed with `KmatrixIII_jit`.\n",
    "\n",
    "\n",
    "First, recompute the metal case."
   ]
  },
  {
   "cell_type": "code",
   "execution_count": 13,
   "id": "dc69eabe",
   "metadata": {},
   "outputs": [
    {
     "data": {
      "text/plain": [
       "array([1.e-02-0.j, 1.e-04+0.j, 2.e-06-0.j])"
      ]
     },
     "execution_count": 13,
     "metadata": {},
     "output_type": "execute_result"
    }
   ],
   "source": [
    "K0, K1, K2 = Kmetal_jit(**self['params4_jit'])\n",
    "\n",
    "result2a = np.array([K0, K1, K2])\n",
    "result2a"
   ]
  },
  {
   "cell_type": "markdown",
   "id": "53a21dc3",
   "metadata": {},
   "source": [
    "Now perform the Type III sample calculation. \\\n",
    "Create a semi-infinite metal-like semiconductor."
   ]
  },
  {
   "cell_type": "code",
   "execution_count": 14,
   "id": "e54a8ede",
   "metadata": {},
   "outputs": [],
   "source": [
    "sample5 = SampleModel3(\n",
    "    cantilever = cantilever,\n",
    "    epsilon_s = ureg.Quantity(complex(1e6, 0), ''),\n",
    "    sigma = ureg.Quantity(1e7, 'S/m'),\n",
    "    rho = ureg.Quantity(1e26, '1/m^3'),\n",
    "    z_r = ureg.Quantity(1, 'nm'))\n",
    "\n",
    "sample5_jit = SampleModel3Jit(**sample5.args())"
   ]
  },
  {
   "cell_type": "code",
   "execution_count": 15,
   "id": "fb4ff0e4",
   "metadata": {},
   "outputs": [],
   "source": [
    "self['params5_jit'] = {\n",
    "    'integrand': integrand3jit, \n",
    "    'sample': sample5_jit, \n",
    "    'omega': omega, \n",
    "    'location1': loc1_m, \n",
    "    'location2': loc2_m}"
   ]
  },
  {
   "cell_type": "code",
   "execution_count": 16,
   "id": "6e7bfb42",
   "metadata": {},
   "outputs": [
    {
     "data": {
      "text/plain": [
       "array([9.99998930e-03-5.23707380e-17j, 9.99995377e-05-1.00400329e-19j,\n",
       "       2.00003104e-06-9.49886494e-22j])"
      ]
     },
     "execution_count": 16,
     "metadata": {},
     "output_type": "execute_result"
    }
   ],
   "source": [
    "j0s = scipy.special.jn_zeros(0,100.)\n",
    "an, _ = scipy.integrate.newton_cotes(20, 1)\n",
    "\n",
    "args = {\n",
    "    'omega': omega, \n",
    "    'omega0': self['params5_jit']['sample'].omega0,\n",
    "    'kD': self['params5_jit']['sample'].kD, \n",
    "    'es': self['params5_jit']['sample'].epsilon_s, \n",
    "    'sj': np.array([loc1_nm]), \n",
    "    'rk': np.array([loc2_nm]), \n",
    "    'j0s': j0s,\n",
    "    'an': an}\n",
    "\n",
    "K0, K1, K2 = KmatrixIII_jit(**args)\n",
    "\n",
    "result2b = np.array([K0[0][0], K1[0][0], K2[0][0]])\n",
    "result2b"
   ]
  },
  {
   "cell_type": "markdown",
   "id": "81cfa98c",
   "metadata": {},
   "source": [
    "Compare the results."
   ]
  },
  {
   "cell_type": "code",
   "execution_count": 17,
   "id": "65f31c3c",
   "metadata": {},
   "outputs": [
    {
     "data": {
      "text/plain": [
       "(True, True)"
      ]
     },
     "execution_count": 17,
     "metadata": {},
     "output_type": "execute_result"
    }
   ],
   "source": [
    "(np.allclose(result1a.real, result1b.real),\n",
    " np.allclose(result2a.imag, result2b.imag))"
   ]
  },
  {
   "cell_type": "markdown",
   "id": "b6632639",
   "metadata": {},
   "source": [
    "This agreement shows that the integrator is working ok."
   ]
  },
  {
   "cell_type": "markdown",
   "id": "b2e556a2",
   "metadata": {},
   "source": [
    "# Type III sample"
   ]
  },
  {
   "cell_type": "markdown",
   "id": "b4fb7b02",
   "metadata": {},
   "source": [
    "Now compare a Type III sample computed with the `K_jit` and `KmatrixIII_jit` functions."
   ]
  },
  {
   "cell_type": "markdown",
   "id": "0c5da9c9",
   "metadata": {},
   "source": [
    "Reset the position vectors."
   ]
  },
  {
   "cell_type": "code",
   "execution_count": 18,
   "id": "1c6a9118",
   "metadata": {},
   "outputs": [],
   "source": [
    "loc1_nm = np.array([  0,  0, 50], dtype=np.float64)\n",
    "loc2_nm = np.array([  0,  0, 50], dtype=np.float64)\n",
    "\n",
    "loc1_m = 1e-9 * loc1_nm\n",
    "loc2_m = 1e-9 * loc2_nm"
   ]
  },
  {
   "cell_type": "markdown",
   "id": "a56a1b94",
   "metadata": {},
   "source": [
    "Create a semiconductor sample."
   ]
  },
  {
   "cell_type": "code",
   "execution_count": 19,
   "id": "f86ec190",
   "metadata": {},
   "outputs": [],
   "source": [
    "sample3 = SampleModel3(\n",
    "    cantilever = cantilever,\n",
    "    epsilon_s = ureg.Quantity(complex(20, 0), ''),\n",
    "    sigma = ureg.Quantity(1e-7, 'S/m'),\n",
    "    rho = ureg.Quantity(1e21, '1/m^3'),\n",
    "    z_r = ureg.Quantity(1, 'nm')\n",
    ")\n",
    "\n",
    "sample3_jit = SampleModel3Jit(**sample3.args())"
   ]
  },
  {
   "cell_type": "code",
   "execution_count": 20,
   "id": "2e07cdfa",
   "metadata": {},
   "outputs": [],
   "source": [
    "self['params3_jit'] = {\n",
    "    'integrand': integrand3jit, \n",
    "    'sample': sample3_jit, \n",
    "    'omega': omega, \n",
    "    'location1': loc1_m, \n",
    "    'location2': loc2_m}"
   ]
  },
  {
   "cell_type": "markdown",
   "id": "32d7879d",
   "metadata": {},
   "source": [
    "Compute the $K_n$'s using ` K_jit`:"
   ]
  },
  {
   "cell_type": "code",
   "execution_count": 21,
   "id": "888f4329",
   "metadata": {},
   "outputs": [
    {
     "data": {
      "text/plain": [
       "array([9.06022060e-03+5.30760987e-05j, 9.06526562e-05+6.53340400e-07j,\n",
       "       1.81323170e-06+1.49191898e-08j])"
      ]
     },
     "execution_count": 21,
     "metadata": {},
     "output_type": "execute_result"
    }
   ],
   "source": [
    "K0, K1, K2 = K_jit(**self['params3_jit'])\n",
    "\n",
    "result3a = np.array([K0, K1, K2])\n",
    "result3a"
   ]
  },
  {
   "cell_type": "markdown",
   "id": "792b6e25",
   "metadata": {},
   "source": [
    "Repeat $K_{n}$ calculation using `KmatrixIII_jit`:"
   ]
  },
  {
   "cell_type": "code",
   "execution_count": 22,
   "id": "2da1e027",
   "metadata": {},
   "outputs": [
    {
     "data": {
      "text/plain": [
       "array([9.05983710e-03+5.31090865e-05j, 9.06466361e-05+6.61758424e-07j,\n",
       "       1.81333836e-06+1.51628337e-08j])"
      ]
     },
     "execution_count": 22,
     "metadata": {},
     "output_type": "execute_result"
    }
   ],
   "source": [
    "j0s = scipy.special.jn_zeros(0,100.)\n",
    "an, _ = scipy.integrate.newton_cotes(20, 1)\n",
    "\n",
    "args = {\n",
    "    'omega': omega, \n",
    "    'omega0': self['params3_jit']['sample'].omega0,\n",
    "    'kD': self['params3_jit']['sample'].kD, \n",
    "    'es': self['params3_jit']['sample'].epsilon_s, \n",
    "    'sj': np.array([loc1_nm]), \n",
    "    'rk': np.array([loc2_nm]), \n",
    "    'j0s': j0s,\n",
    "    'an': an}\n",
    "\n",
    "K0, K1, K2 = KmatrixIII_jit(**args)\n",
    "\n",
    "result3b = np.array([K0[0][0], K1[0][0], K2[0][0]])\n",
    "result3b"
   ]
  },
  {
   "cell_type": "markdown",
   "id": "526f9793",
   "metadata": {},
   "source": [
    "In contrast with the metal case, the agreement is not quantitative."
   ]
  },
  {
   "cell_type": "code",
   "execution_count": 23,
   "id": "0f0f23c9",
   "metadata": {},
   "outputs": [
    {
     "data": {
      "text/plain": [
       "(False, False)"
      ]
     },
     "execution_count": 23,
     "metadata": {},
     "output_type": "execute_result"
    }
   ],
   "source": [
    "(np.allclose(result3a.real, result3b.real),\n",
    " np.allclose(result3a.imag, result3b.imag))"
   ]
  },
  {
   "cell_type": "markdown",
   "id": "0990e1a6",
   "metadata": {},
   "source": [
    "How close are the results?  \\\n",
    "Compute the fractional error for the real parts of the three integrals."
   ]
  },
  {
   "cell_type": "code",
   "execution_count": 24,
   "id": "273cd07d",
   "metadata": {},
   "outputs": [
    {
     "data": {
      "text/plain": [
       "array([-4.23277677e-05, -6.64074621e-05,  5.88230598e-05])"
      ]
     },
     "execution_count": 24,
     "metadata": {},
     "output_type": "execute_result"
    }
   ],
   "source": [
    "(result3b.real - result3a.real)/result3a.real"
   ]
  },
  {
   "cell_type": "markdown",
   "id": "630dd591",
   "metadata": {},
   "source": [
    "Compute the fractional error for the imaginary parts of the three integrals."
   ]
  },
  {
   "cell_type": "code",
   "execution_count": 25,
   "id": "a4b42dbe",
   "metadata": {},
   "outputs": [
    {
     "data": {
      "text/plain": [
       "array([0.00062152, 0.01288459, 0.0163309 ])"
      ]
     },
     "execution_count": 25,
     "metadata": {},
     "output_type": "execute_result"
    }
   ],
   "source": [
    "(result3b.imag - result3a.imag)/result3a.imag"
   ]
  },
  {
   "cell_type": "markdown",
   "id": "309441d6",
   "metadata": {},
   "source": [
    "Why the large discrepancy when $x = 0$ and $y = 0$?"
   ]
  },
  {
   "cell_type": "markdown",
   "id": "e0fcc734",
   "metadata": {},
   "source": [
    "# Examine the integrand"
   ]
  },
  {
   "cell_type": "code",
   "execution_count": 26,
   "id": "6a969021",
   "metadata": {},
   "outputs": [],
   "source": [
    "loc1_nm = np.array([  0,  0, 50], dtype=np.float64)\n",
    "loc2_nm = np.array([  0,  0, 50], dtype=np.float64)\n",
    "\n",
    "loc1_m = 1e-9 * loc1_nm\n",
    "loc2_m = 1e-9 * loc2_nm"
   ]
  },
  {
   "cell_type": "code",
   "execution_count": 27,
   "id": "9b77ab76",
   "metadata": {},
   "outputs": [],
   "source": [
    "zjkref = loc1_nm[2] + loc2_nm[2]\n",
    "x = np.sqrt((loc1_nm[0] - loc2_nm[0])**2 + (loc1_nm[1] - loc2_nm[1])**2) / zjkref\n",
    "\n",
    "y_array = np.linspace(0, 20., 100)\n",
    "r_array = np.zeros_like(y_array, dtype=np.complex128)\n",
    "\n",
    "for index, (r, y) in enumerate(zip(r_array, y_array)):\n",
    "    \n",
    "    args = {\n",
    "        'y': y,\n",
    "        'omega': omega, \n",
    "        'omega0': self['params3_jit']['sample'].omega0,\n",
    "        'zr': zjkref,\n",
    "        'kD': self['params3_jit']['sample'].kD, \n",
    "        'es': self['params3_jit']['sample'].epsilon_s}\n",
    "\n",
    "\n",
    "    r_array[index] = scipy.special.j0(y * x) * rpIII_jit(**args) * np.exp(-y)"
   ]
  },
  {
   "cell_type": "code",
   "execution_count": 28,
   "id": "b856d79a",
   "metadata": {},
   "outputs": [
    {
     "data": {
      "image/png": "[encoded data removed]",
      "text/plain": [
       "<Figure size 650x250 with 2 Axes>"
      ]
     },
     "metadata": {},
     "output_type": "display_data"
    }
   ],
   "source": [
    "fig, (ax1, ax2) = plt.subplots(1,2,figsize=(6.5,2.5))\n",
    "ax1.plot(y_array, np.real(r_array), 'k-', label='real')\n",
    "ax2.plot(y_array, np.imag(r_array), 'b-', label='imag')\n",
    "fig.tight_layout()\n",
    "plt.show()"
   ]
  },
  {
   "cell_type": "markdown",
   "id": "5600386d",
   "metadata": {},
   "source": [
    "# Think about revising `KmatrixIII_jit`"
   ]
  },
  {
   "cell_type": "markdown",
   "id": "ee5008c3",
   "metadata": {},
   "source": [
    "For small $x$, when there are no Bessel function zeros in the interval, add more breakpoints. \\\n",
    "Five or six is probably a nice total number.\n",
    "\n",
    "Let's recapitulate the breakpoint calculation in `KmatrixIII_jit`. \\\n",
    "We already computed `j0s` above. \\\n",
    "Pick the two locations so we have 0, 1, or 2 Bessel function zeros in the interval."
   ]
  },
  {
   "cell_type": "code",
   "execution_count": 29,
   "id": "e89cef62",
   "metadata": {},
   "outputs": [],
   "source": [
    "loc1_nm = np.array([ 0,  13, 50], dtype=np.float64)\n",
    "loc2_nm = np.array([  0,  0, 50], dtype=np.float64)\n",
    "\n",
    "loc1_m = 1e-9 * loc1_nm\n",
    "loc2_m = 1e-9 * loc2_nm"
   ]
  },
  {
   "cell_type": "code",
   "execution_count": 30,
   "id": "4d3d013c",
   "metadata": {},
   "outputs": [
    {
     "name": "stdout",
     "output_type": "stream",
     "text": [
      "breakpoints: [1.00000000e-07 1.84986581e+01 2.00000000e+01]\n"
     ]
    }
   ],
   "source": [
    "y_min = 1.0e-7\n",
    "y_max = 20.0\n",
    "N = len(an) - 1\n",
    "\n",
    "zjkref = loc1_nm[2] + loc2_nm[2]\n",
    "x = np.sqrt((loc1_nm[0] - loc2_nm[0])**2 + (loc1_nm[1] - loc2_nm[1])**2) / zjkref\n",
    "\n",
    "mask = j0s/(x + 1.0e-6) < y_max\n",
    "yb = np.hstack(\n",
    "    (np.array([y_min]),\n",
    "     j0s[mask] / x,\n",
    "     np.array([y_max])))\n",
    "\n",
    "print('breakpoints:', yb)"
   ]
  },
  {
   "cell_type": "markdown",
   "id": "41a77c26",
   "metadata": {},
   "source": [
    "We don't want too many breakpoints."
   ]
  },
  {
   "cell_type": "markdown",
   "id": "3a274929",
   "metadata": {},
   "source": [
    "Play with adding them \"by hand\".  \\\n",
    "If there are just two breakpoints, add three more in the middle, that's obvious. \\\n",
    "But what about intermediate cases? \\\n",
    "In the code below, if there are three breakpointst, add another in between each."
   ]
  },
  {
   "cell_type": "code",
   "execution_count": 31,
   "id": "b7edb732",
   "metadata": {},
   "outputs": [],
   "source": [
    "def ripen(yb):\n",
    "\n",
    "    if len(yb) == 2:\n",
    "        yb = np.insert(yb, 1, np.linspace(yb[0], yb[1], 5)[1:-1]) # now 5 long\n",
    "        \n",
    "    if len(yb) == 3:\n",
    "        yb = np.insert(yb, 1, np.linspace(yb[0], yb[1], 3)[1:-1]) # now 4 long\n",
    "        print(yb)\n",
    "        yb = np.insert(yb, 3, np.linspace(yb[2], yb[3], 3)[1:-1]) # now 5 long\n",
    "                   \n",
    "    return yb"
   ]
  },
  {
   "cell_type": "markdown",
   "id": "f83a7cb5",
   "metadata": {},
   "source": [
    "This looks good."
   ]
  },
  {
   "cell_type": "code",
   "execution_count": 32,
   "id": "230c3e31",
   "metadata": {},
   "outputs": [
    {
     "data": {
      "text/plain": [
       "array([1.00000000e-07, 5.00000007e+00, 1.00000000e+01, 1.50000000e+01,\n",
       "       2.00000000e+01])"
      ]
     },
     "execution_count": 32,
     "metadata": {},
     "output_type": "execute_result"
    }
   ],
   "source": [
    "ripen(np.array([1e-7, 20.]))"
   ]
  },
  {
   "cell_type": "markdown",
   "id": "67c5d04b",
   "metadata": {},
   "source": [
    "As $x$ gets large, the first zero will appear.  \\\n",
    "The above algorithm then does enot give us the breakpoints we want. \\\n",
    "We need more at lower $y$ values."
   ]
  },
  {
   "cell_type": "code",
   "execution_count": 33,
   "id": "1ea01f7e",
   "metadata": {},
   "outputs": [
    {
     "name": "stdout",
     "output_type": "stream",
     "text": [
      "[1.00000000e-07 9.24932910e+00 1.84986581e+01 2.00000000e+01]\n"
     ]
    },
    {
     "data": {
      "text/plain": [
       "array([1.00000000e-07, 9.24932910e+00, 1.84986581e+01, 1.92493291e+01,\n",
       "       2.00000000e+01])"
      ]
     },
     "execution_count": 33,
     "metadata": {},
     "output_type": "execute_result"
    }
   ],
   "source": [
    "ripen(np.array([1e-7, 1.84986581e+01, 20.]))"
   ]
  },
  {
   "cell_type": "markdown",
   "id": "b6ceff9b",
   "metadata": {},
   "source": [
    "So think again. \\\n",
    "Start out with five breakpoints in the $y \\in (0,20)$ interval. \\\n",
    "Add additional breakpoints at Bessel function zeros. \\\n",
    "Sort the resulting array of breakpoints.\n"
   ]
  },
  {
   "cell_type": "code",
   "execution_count": 34,
   "id": "2833b418",
   "metadata": {},
   "outputs": [
    {
     "name": "stdout",
     "output_type": "stream",
     "text": [
      "breakpoints: [1.00000000e-07 4.00000008e+00 8.00000006e+00 1.20000000e+01\n",
      " 1.60000000e+01 1.84986581e+01 2.00000000e+01]\n"
     ]
    }
   ],
   "source": [
    "y_min = 1.0e-7\n",
    "y_max = 20.0\n",
    "N = len(an) - 1\n",
    "\n",
    "zjkref = loc1_nm[2] + loc2_nm[2]\n",
    "x = np.sqrt((loc1_nm[0] - loc2_nm[0])**2 + (loc1_nm[1] - loc2_nm[1])**2) / zjkref\n",
    "\n",
    "mask = j0s/(x + 1.0e-6) < y_max\n",
    "zero_y_locations = j0s[mask] / x\n",
    "yb = np.hstack(\n",
    "    (np.linspace(y_min, y_max, 6), \n",
    "     zero_y_locations))\n",
    "yb = np.sort(yb)\n",
    "\n",
    "\n",
    "print('breakpoints:', yb)"
   ]
  },
  {
   "cell_type": "markdown",
   "id": "67cdac1d",
   "metadata": {},
   "source": [
    "# Revised `KmatrixIII_jit` function"
   ]
  },
  {
   "cell_type": "markdown",
   "id": "7a2bdded",
   "metadata": {},
   "source": [
    "Based on this new breakpoint algorithm, write a revised `KmatrixIII_jit` function."
   ]
  },
  {
   "cell_type": "code",
   "execution_count": 35,
   "id": "7b2d6055",
   "metadata": {},
   "outputs": [],
   "source": [
    "@jit(nopython=True)\n",
    "def KmatrixIII_jit_new(omega, omega0, kD, es, sj, rk, j0s, an):\n",
    "    \"\"\"The unitless response-function matrices for a Type III semiconductor sample.\"\"\"\n",
    "\n",
    "    y_min = 1.0e-7\n",
    "    y_max = 20.0\n",
    "    N = len(an) - 1\n",
    "    \n",
    "    K0 = np.zeros((len(sj),len(rk)), dtype=np.complex128)\n",
    "    K1 = np.zeros((len(sj),len(rk)), dtype=np.complex128)\n",
    "    K2 = np.zeros((len(sj),len(rk)), dtype=np.complex128)\n",
    "\n",
    "    # Loop over image-charge points\n",
    "    \n",
    "    for k, rke in enumerate(rk):    \n",
    "\n",
    "        # Loop over voltage-test points\n",
    "        \n",
    "        for j, sje in enumerate(sj):\n",
    "\n",
    "            zjkref = sje[2] + rke[2]\n",
    "            x = np.sqrt((sje[0] - rke[0])**2 + (sje[1] - rke[1])**2) / zjkref\n",
    "\n",
    "            # Determine breakpoints\n",
    "            # START NEW CODE\n",
    "            \n",
    "            mask = j0s/(x + 1.0e-6) < y_max\n",
    "            zero_y_locations = j0s[mask] / x\n",
    "            yb = np.hstack(\n",
    "                (np.linspace(y_min, y_max, 6), \n",
    "                 zero_y_locations))\n",
    "            yb = np.sort(yb)\n",
    "            \n",
    "            # END NEW CODE\n",
    "            \n",
    "            result0 = np.zeros(len(yb)-1, dtype=np.complex128)\n",
    "            result1 = np.zeros(len(yb)-1, dtype=np.complex128)\n",
    "            result2 = np.zeros(len(yb)-1, dtype=np.complex128)\n",
    "\n",
    "            # Loop over subintervals\n",
    "            \n",
    "            for index in np.arange(len(yb)-1):\n",
    "                \n",
    "                y_vector = np.linspace(yb[index], yb[index+1], N+1)\n",
    "                dy = (yb[index+1] - yb[index])/N\n",
    "\n",
    "                integral0 = np.zeros_like(y_vector, dtype=np.complex128)\n",
    "                integral1 = np.zeros_like(y_vector, dtype=np.complex128)\n",
    "                integral2 = np.zeros_like(y_vector, dtype=np.complex128)\n",
    "\n",
    "                # Loop over y-axis points in the subinterval\n",
    "                \n",
    "                for m, y in enumerate(y_vector):\n",
    "\n",
    "                    rp = rpIII_jit(y, omega, omega0, zjkref, kD, es)\n",
    "                    \n",
    "                    integral0[m] = np.exp(-y) * scipy.special.j0(y * x) * rp\n",
    "                    integral1[m] = y * integral0[m]\n",
    "                    integral2[m] = y * integral1[m]\n",
    "\n",
    "                # Sum with Newton-Cotes weights\n",
    "                \n",
    "                result0[index] = dy * (an * integral0).sum()  \n",
    "                result1[index] = dy * (an * integral1).sum()\n",
    "                result2[index] = dy * (an * integral2).sum()\n",
    "\n",
    "            K0[j,k] = result0.sum() / zjkref**1\n",
    "            K1[j,k] = result1.sum() / zjkref**2\n",
    "            K2[j,k] = result2.sum() / zjkref**3\n",
    "            \n",
    "    return K0, K1, K2"
   ]
  },
  {
   "cell_type": "markdown",
   "id": "8779c351",
   "metadata": {},
   "source": [
    "Test it!"
   ]
  },
  {
   "cell_type": "code",
   "execution_count": 36,
   "id": "edb4e0ea",
   "metadata": {},
   "outputs": [],
   "source": [
    "loc1_nm = np.array([  0,  0, 50], dtype=np.float64)  # adjust these\n",
    "loc2_nm = np.array([  0,  0, 50], dtype=np.float64)  # adjust these\n",
    "\n",
    "loc1_m = 1e-9 * loc1_nm\n",
    "loc2_m = 1e-9 * loc2_nm\n",
    "\n",
    "self['params3_jit'] = {\n",
    "    'integrand': integrand3jit, \n",
    "    'sample': sample3_jit, \n",
    "    'omega': omega, \n",
    "    'location1': loc1_m, \n",
    "    'location2': loc2_m}"
   ]
  },
  {
   "cell_type": "code",
   "execution_count": 37,
   "id": "484dba07",
   "metadata": {},
   "outputs": [
    {
     "name": "stdout",
     "output_type": "stream",
     "text": [
      "3.29 ms ± 181 µs per loop (mean ± std. dev. of 7 runs, 100 loops each)\n"
     ]
    }
   ],
   "source": [
    "%%timeit\n",
    "K0, K1, K2 = K_jit(**self['params3_jit'])"
   ]
  },
  {
   "cell_type": "code",
   "execution_count": 38,
   "id": "3091a04c",
   "metadata": {},
   "outputs": [
    {
     "data": {
      "text/plain": [
       "array([9.06022060e-03+5.30760987e-05j, 9.06526562e-05+6.53340400e-07j,\n",
       "       1.81323170e-06+1.49191898e-08j])"
      ]
     },
     "execution_count": 38,
     "metadata": {},
     "output_type": "execute_result"
    }
   ],
   "source": [
    "K0, K1, K2 = K_jit(**self['params3_jit'])\n",
    "result4a = np.array([K0, K1, K2])\n",
    "result4a"
   ]
  },
  {
   "cell_type": "code",
   "execution_count": 39,
   "id": "c447874b",
   "metadata": {},
   "outputs": [],
   "source": [
    "j0s = scipy.special.jn_zeros(0, 100.0)\n",
    "an, _ = scipy.integrate.newton_cotes(20, 1)\n",
    "\n",
    "args = {\n",
    "    \"omega\": omega,\n",
    "    \"omega0\": self[\"params3_jit\"][\"sample\"].omega0,\n",
    "    \"kD\": self[\"params3_jit\"][\"sample\"].kD,\n",
    "    \"es\": self[\"params3_jit\"][\"sample\"].epsilon_s,\n",
    "    \"sj\": np.array([loc1_nm]),\n",
    "    \"rk\": np.array([loc2_nm]),\n",
    "    \"j0s\": j0s,\n",
    "    \"an\": an}"
   ]
  },
  {
   "cell_type": "code",
   "execution_count": 40,
   "id": "812d5229",
   "metadata": {},
   "outputs": [
    {
     "name": "stdout",
     "output_type": "stream",
     "text": [
      "37.3 µs ± 14.3 µs per loop (mean ± std. dev. of 7 runs, 1 loop each)\n"
     ]
    }
   ],
   "source": [
    "%%timeit\n",
    "K0, K1, K2 = KmatrixIII_jit_new(**args)"
   ]
  },
  {
   "cell_type": "code",
   "execution_count": 41,
   "id": "6b61492c",
   "metadata": {},
   "outputs": [
    {
     "data": {
      "text/plain": [
       "array([9.06021967e-03+5.30761003e-05j, 9.06526523e-05+6.53340460e-07j,\n",
       "       1.81323088e-06+1.49191814e-08j])"
      ]
     },
     "execution_count": 41,
     "metadata": {},
     "output_type": "execute_result"
    }
   ],
   "source": [
    "K0, K1, K2 = KmatrixIII_jit_new(**args)\n",
    "result4b = np.array([K0[0][0], K1[0][0], K2[0][0]])\n",
    "result4b"
   ]
  },
  {
   "cell_type": "markdown",
   "id": "13413839",
   "metadata": {},
   "source": [
    "For a timing comparison"
   ]
  },
  {
   "cell_type": "code",
   "execution_count": 42,
   "id": "8d0a57c9",
   "metadata": {},
   "outputs": [
    {
     "name": "stdout",
     "output_type": "stream",
     "text": [
      "7.92 µs ± 167 ns per loop (mean ± std. dev. of 7 runs, 100,000 loops each)\n"
     ]
    }
   ],
   "source": [
    "%%timeit\n",
    "K0, K1, K2 = KmatrixIII_jit(**args)"
   ]
  },
  {
   "cell_type": "markdown",
   "id": "2fcacf0e",
   "metadata": {},
   "source": [
    "The added breakpoints have increased the run time by 3 to 6 fold (my timings are not very reproducible). \\\n",
    "The increase in run time will depends on the two locations."
   ]
  },
  {
   "cell_type": "markdown",
   "id": "fee2022e",
   "metadata": {},
   "source": [
    "Yahoo!  Both calculation methods give the same result."
   ]
  },
  {
   "cell_type": "code",
   "execution_count": 43,
   "id": "c2beb663",
   "metadata": {},
   "outputs": [
    {
     "data": {
      "text/plain": [
       "(True, True)"
      ]
     },
     "execution_count": 43,
     "metadata": {},
     "output_type": "execute_result"
    }
   ],
   "source": [
    "(np.allclose(result4a.real, result4b.real), \n",
    " np.allclose(result4a.imag, result4b.imag))"
   ]
  },
  {
   "cell_type": "code",
   "execution_count": 44,
   "id": "dc8359a7",
   "metadata": {},
   "outputs": [
    {
     "data": {
      "text/plain": [
       "array([-1.02648456e-07, -4.29833202e-08, -4.53662364e-07])"
      ]
     },
     "execution_count": 44,
     "metadata": {},
     "output_type": "execute_result"
    }
   ],
   "source": [
    "(result4b.real - result4a.real)/result4a.real"
   ]
  },
  {
   "cell_type": "code",
   "execution_count": 45,
   "id": "eb42b6e8",
   "metadata": {},
   "outputs": [
    {
     "data": {
      "text/plain": [
       "array([ 3.03042596e-08,  9.21173954e-08, -5.68749951e-07])"
      ]
     },
     "execution_count": 45,
     "metadata": {},
     "output_type": "execute_result"
    }
   ],
   "source": [
    "(result4b.imag - result4a.imag)/result4a.imag"
   ]
  },
  {
   "cell_type": "markdown",
   "id": "a1d9265c",
   "metadata": {},
   "source": [
    "The accuracy for both the real *and* imaginary part of the $K_n$ integrals is better than a part per million. I conclude that my bespoke, compiled integration routine is giving essentially the same result as the `scipy.integrate` result.  My routine is 200-fold faster, however, than `scipy.integrate`."
   ]
  },
  {
   "cell_type": "markdown",
   "id": "eea392a1",
   "metadata": {},
   "source": [
    "# Test the new `KmatrixIII_jit` function\n",
    "\n",
    "Create a new file `dissipation11e.py` that incorporates the improved breakpoint code in the `KmatrixIII_jit` function.  Read in the new code and run the above tests again."
   ]
  },
  {
   "cell_type": "code",
   "execution_count": 46,
   "id": "40d7ad84",
   "metadata": {},
   "outputs": [],
   "source": [
    "from dissipationtheory.dissipation11e import KmatrixIII_jit"
   ]
  },
  {
   "cell_type": "code",
   "execution_count": 47,
   "id": "3078eaec",
   "metadata": {},
   "outputs": [],
   "source": [
    "cantilever = CantileverModel(\n",
    "    f_c = ureg.Quantity(62, 'kHz'),\n",
    "    k_c = ureg.Quantity(2.8, 'N/m'), \n",
    "    V_ts = ureg.Quantity(1, 'V'), \n",
    "    R = ureg.Quantity(60, 'nm'),\n",
    "    angle = ureg.Quantity(20, 'degree'),\n",
    "    L = ureg.Quantity(1000, 'nm'))"
   ]
  },
  {
   "cell_type": "code",
   "execution_count": 48,
   "id": "6f2f0c57",
   "metadata": {},
   "outputs": [],
   "source": [
    "omega = 1e2"
   ]
  },
  {
   "cell_type": "code",
   "execution_count": 49,
   "id": "43c566c9",
   "metadata": {},
   "outputs": [],
   "source": [
    "sample3 = SampleModel3(\n",
    "    cantilever = cantilever,\n",
    "    epsilon_s = ureg.Quantity(complex(20, 2), ''),\n",
    "    sigma = ureg.Quantity(1e-7, 'S/m'),\n",
    "    rho = ureg.Quantity(1e21, '1/m^3'),\n",
    "    z_r = ureg.Quantity(1, 'nm'))\n",
    "\n",
    "sample3_jit = SampleModel3Jit(**sample3.args())"
   ]
  },
  {
   "cell_type": "code",
   "execution_count": 50,
   "id": "5bc9fa5f",
   "metadata": {},
   "outputs": [
    {
     "name": "stdout",
     "output_type": "stream",
     "text": [
      "\n",
      "loc1 = [ 0.  0. 30.] loc2 = [ 0.  0. 30.]\n",
      "True\n",
      "Re[K[0]] 1.545071e-02 1.545079e-02, err = -5.26e-06\n",
      "Re[K[1]] 2.531507e-04 2.531502e-04, err = +2.06e-06\n",
      "Re[K[2]] 8.403305e-06 8.403298e-06, err = +7.92e-07\n",
      "True\n",
      "Im[K[0]] 5.974889e-05 5.968994e-05, err = +9.87e-04\n",
      "Im[K[1]] 2.141247e-06 2.141324e-06, err = -3.62e-05\n",
      "Im[K[2]] 7.952707e-08 7.952893e-08, err = -2.33e-05\n",
      "\n",
      "loc1 = [ 0. 20. 30.] loc2 = [ 0.  0. 30.]\n",
      "True\n",
      "Re[K[0]] 1.467440e-02 1.467448e-02, err = -5.56e-06\n",
      "Re[K[1]] 2.163389e-04 2.163384e-04, err = +2.39e-06\n",
      "Re[K[2]] 6.102284e-06 6.102280e-06, err = +6.43e-07\n",
      "True\n",
      "Im[K[0]] 5.242471e-05 5.236557e-05, err = +1.13e-03\n",
      "Im[K[1]] 1.783656e-06 1.783734e-06, err = -4.37e-05\n",
      "Im[K[2]] 5.694961e-08 5.695150e-08, err = -3.32e-05\n",
      "\n",
      "loc1 = [ 0. 30. 30.] loc2 = [ 0.  0. 30.]\n",
      "True\n",
      "Re[K[0]] 1.385336e-02 1.385344e-02, err = -5.91e-06\n",
      "Re[K[1]] 1.815121e-04 1.815116e-04, err = +2.83e-06\n",
      "Re[K[2]] 4.215381e-06 4.215379e-06, err = +4.88e-07\n",
      "True\n",
      "Im[K[0]] 4.473420e-05 4.467482e-05, err = +1.33e-03\n",
      "Im[K[1]] 1.446877e-06 1.446956e-06, err = -5.43e-05\n",
      "Im[K[2]] 3.849665e-08 3.849857e-08, err = -4.97e-05\n",
      "\n",
      "loc1 = [ 0.  0. 20.] loc2 = [ 0.  0. 20.]\n",
      "True\n",
      "Re[K[0]] 2.303356e-02 2.303391e-02, err = -1.53e-05\n",
      "Re[K[1]] 5.680635e-04 5.680678e-04, err = -7.56e-06\n",
      "Re[K[2]] 2.833052e-05 2.833048e-05, err = +1.13e-06\n",
      "True\n",
      "Im[K[0]] 1.266763e-04 1.266907e-04, err = -1.13e-04\n",
      "Im[K[1]] 5.167984e-06 5.165842e-06, err = +4.15e-04\n",
      "Im[K[2]] 2.748368e-07 2.748380e-07, err = -4.16e-06\n",
      "\n",
      "loc1 = [ 0. 10. 20.] loc2 = [ 0.  0. 20.]\n",
      "True\n",
      "Re[K[0]] 2.235683e-02 2.235718e-02, err = -1.58e-05\n",
      "Re[K[1]] 5.188408e-04 5.188452e-04, err = -8.33e-06\n",
      "Re[K[2]] 2.358932e-05 2.358930e-05, err = +7.66e-07\n",
      "True\n",
      "Im[K[0]] 1.201169e-04 1.201312e-04, err = -1.19e-04\n",
      "Im[K[1]] 4.684017e-06 4.681873e-06, err = +4.58e-04\n",
      "Im[K[2]] 2.280086e-07 2.280098e-07, err = -5.63e-06\n",
      "\n",
      "loc1 = [ 0. 20. 20.] loc2 = [ 0.  0. 20.]\n",
      "True\n",
      "Re[K[0]] 2.064046e-02 2.064081e-02, err = -1.72e-05\n",
      "Re[K[1]] 4.069733e-04 4.069777e-04, err = -1.07e-05\n",
      "Re[K[2]] 1.420111e-05 1.420110e-05, err = +1.17e-06\n",
      "True\n",
      "Im[K[0]] 1.035370e-04 1.035513e-04, err = -1.37e-04\n",
      "Im[K[1]] 3.586291e-06 3.584143e-06, err = +5.99e-04\n",
      "Im[K[2]] 1.354098e-07 1.354111e-07, err = -9.66e-06\n"
     ]
    }
   ],
   "source": [
    "loc1_nm_array = np.array(\n",
    "    [np.array([  0,  0, 30], dtype=np.float64),\n",
    "     np.array([  0, 20, 30], dtype=np.float64),\n",
    "     np.array([  0, 30, 30], dtype=np.float64),\n",
    "     np.array([  0,  0, 20], dtype=np.float64),\n",
    "     np.array([  0, 10, 20], dtype=np.float64),\n",
    "     np.array([  0, 20, 20], dtype=np.float64)])\n",
    "\n",
    "loc2_nm_array = np.array(\n",
    "    [np.array([  0,  0, 30], dtype=np.float64),\n",
    "     np.array([  0,  0, 30], dtype=np.float64),\n",
    "     np.array([  0,  0, 30], dtype=np.float64),\n",
    "     np.array([  0,  0, 20], dtype=np.float64),\n",
    "     np.array([  0,  0, 20], dtype=np.float64),\n",
    "     np.array([  0,  0, 20], dtype=np.float64)])\n",
    "\n",
    "for loc1_nm, loc2_nm in zip(loc1_nm_array, loc2_nm_array):\n",
    "\n",
    "    print('')\n",
    "    print('loc1 =', loc1_nm, 'loc2 =', loc2_nm)\n",
    "    \n",
    "    loc1_m = 1e-9 * loc1_nm\n",
    "    loc2_m = 1e-9 * loc2_nm\n",
    "\n",
    "    self['params3_jit'] = {\n",
    "        'integrand': integrand3jit, \n",
    "        'sample': sample3_jit, \n",
    "        'omega': omega, \n",
    "        'location1': loc1_m, \n",
    "        'location2': loc2_m}\n",
    "\n",
    "    K0, K1, K2 = K_jit(**self['params3_jit'])\n",
    "    result5a = np.array([K0, K1, K2])\n",
    "\n",
    "    j0s = scipy.special.jn_zeros(0, 100.0)\n",
    "    an, _ = scipy.integrate.newton_cotes(20, 1)\n",
    "\n",
    "    args = {\n",
    "        \"omega\": omega,\n",
    "        \"omega0\": self[\"params3_jit\"][\"sample\"].omega0,\n",
    "        \"kD\": self[\"params3_jit\"][\"sample\"].kD,\n",
    "        \"es\": self[\"params3_jit\"][\"sample\"].epsilon_s,\n",
    "        \"sj\": np.array([loc1_nm]),\n",
    "        \"rk\": np.array([loc2_nm]),\n",
    "        \"j0s\": j0s,\n",
    "        \"an\": an}\n",
    "\n",
    "    K0, K1, K2 = KmatrixIII_jit(**args)\n",
    "    result5b = np.array([K0[0][0], K1[0][0], K2[0][0]])\n",
    "    \n",
    "    print(np.allclose(result5b.real, result5a.real, rtol=5e-3))  # half a percent tolerance\n",
    "    \n",
    "    for idx, (Ka, Kb) in enumerate(zip(result5a,result5b)):\n",
    "        \n",
    "        err_real = (Ka.real-Kb.real)/Ka.real        \n",
    "        print('Re[K[{:d}]] {:0.6e} {:0.6e}, err = {:+0.2e}'.format(idx, Ka.real, Kb.real, err_real))\n",
    "        \n",
    "    print(np.allclose(result5b.imag, result5a.imag, rtol=5e-3)) # half a percent tolerance   \n",
    "        \n",
    "    for idx, (Ka, Kb) in enumerate(zip(result5a,result5b)):\n",
    "        \n",
    "        err_imag = (Ka.imag-Kb.imag)/Ka.imag\n",
    "        print('Im[K[{:d}]] {:0.6e} {:0.6e}, err = {:+0.2e}'.format(idx, Ka.imag, Kb.imag, err_imag))        "
   ]
  },
  {
   "cell_type": "markdown",
   "id": "5d0a01c5",
   "metadata": {},
   "source": [
    "Speed test."
   ]
  },
  {
   "cell_type": "code",
   "execution_count": 51,
   "id": "1956c52d",
   "metadata": {},
   "outputs": [
    {
     "name": "stdout",
     "output_type": "stream",
     "text": [
      "48.4 µs ± 7.66 µs per loop (mean ± std. dev. of 7 runs, 10,000 loops each)\n"
     ]
    }
   ],
   "source": [
    "%%timeit\n",
    "K0, K1, K2 = KmatrixIII_jit(**args)"
   ]
  },
  {
   "cell_type": "markdown",
   "id": "0372687f",
   "metadata": {},
   "source": [
    "# Thoughts\n",
    "\n",
    "The integrand peaks at different locations for $K_0$, $K_1$, and $K_2$. \\\n",
    "I can probably further increase accuracy further by optimizing the integration breakpoints for each integrand independently."
   ]
  },
  {
   "cell_type": "markdown",
   "id": "651c6ed9",
   "metadata": {},
   "source": [
    "# In preparation for further unit tests"
   ]
  },
  {
   "cell_type": "code",
   "execution_count": 52,
   "id": "eddda62b",
   "metadata": {},
   "outputs": [],
   "source": [
    "sample1 = SampleModel1(\n",
    "    cantilever = cantilever,\n",
    "    h_s = ureg.Quantity(100, 'nm'),\n",
    "    epsilon_s = ureg.Quantity(complex(20, 0), ''),\n",
    "    sigma = ureg.Quantity(1e-7, 'S/m'),\n",
    "    rho = ureg.Quantity(1e21, '1/m^3'),\n",
    "    epsilon_d = ureg.Quantity(complex(1e6, 0), ''),\n",
    "    z_r = ureg.Quantity(1, 'nm'))\n",
    "\n",
    "sample1_jit = SampleModel1Jit(**sample1.args())\n",
    "\n",
    "\n",
    "self['params1_jit'] = {\n",
    "    'integrand': integrand1jit, \n",
    "    'sample': sample1_jit, \n",
    "    'omega': omega, \n",
    "    'location1': loc1_m, \n",
    "    'location2': loc2_m}"
   ]
  },
  {
   "cell_type": "code",
   "execution_count": 53,
   "id": "2bb8623c",
   "metadata": {},
   "outputs": [
    {
     "name": "stdout",
     "output_type": "stream",
     "text": [
      "6.96 ms ± 267 µs per loop (mean ± std. dev. of 7 runs, 100 loops each)\n"
     ]
    }
   ],
   "source": [
    "%%timeit\n",
    "K0, K1, K2 = K_jit(**self['params1_jit'])"
   ]
  },
  {
   "cell_type": "code",
   "execution_count": 54,
   "id": "cf3504e8",
   "metadata": {},
   "outputs": [
    {
     "data": {
      "text/plain": [
       "array([2.08114571e-02-4.55663475e-06j, 4.08006850e-04-2.70617303e-08j,\n",
       "       1.42034352e-05-2.55683146e-10j])"
      ]
     },
     "execution_count": 54,
     "metadata": {},
     "output_type": "execute_result"
    }
   ],
   "source": [
    "K0, K1, K2 = K_jit(**self['params1_jit'])\n",
    "result5a = np.array([K0, K1, K2])\n",
    "result5a"
   ]
  },
  {
   "cell_type": "code",
   "execution_count": 55,
   "id": "024e79dc",
   "metadata": {},
   "outputs": [],
   "source": [
    "sample2 = SampleModel2(\n",
    "    cantilever = cantilever,\n",
    "    epsilon_d = ureg.Quantity(complex(3, 0), ''),\n",
    "    h_d = ureg.Quantity(50, 'nm'),\n",
    "    epsilon_s = ureg.Quantity(complex(20, 0), ''),\n",
    "    sigma = ureg.Quantity(1e-7, 'S/m'),\n",
    "    rho = ureg.Quantity(1e21, '1/m^3'),\n",
    "    z_r = ureg.Quantity(1, 'nm'))\n",
    "\n",
    "\n",
    "sample2_jit = SampleModel2Jit(**sample2.args())\n",
    "\n",
    "self['params2_jit'] = {\n",
    "    'integrand': integrand2jit, \n",
    "    'sample': sample2_jit, \n",
    "    'omega': omega, \n",
    "    'location1': loc1_m, \n",
    "    'location2': loc2_m}"
   ]
  },
  {
   "cell_type": "code",
   "execution_count": 56,
   "id": "d6a4b226",
   "metadata": {},
   "outputs": [
    {
     "name": "stdout",
     "output_type": "stream",
     "text": [
      "6.04 ms ± 445 µs per loop (mean ± std. dev. of 7 runs, 100 loops each)\n"
     ]
    }
   ],
   "source": [
    "%%timeit\n",
    "K0, K1, K2 = K_jit(**self['params2_jit'])"
   ]
  },
  {
   "cell_type": "code",
   "execution_count": 57,
   "id": "1f5ec656",
   "metadata": {},
   "outputs": [
    {
     "data": {
      "text/plain": [
       "array([1.47365512e-02-3.96549684e-05j, 2.49132066e-04-8.51225563e-08j,\n",
       "       8.18851022e-06-3.67869500e-10j])"
      ]
     },
     "execution_count": 57,
     "metadata": {},
     "output_type": "execute_result"
    }
   ],
   "source": [
    "K0, K1, K2 = K_jit(**self['params2_jit'])\n",
    "result6a = np.array([K0, K1, K2])\n",
    "result6a"
   ]
  },
  {
   "cell_type": "markdown",
   "id": "0a585c0c",
   "metadata": {},
   "source": [
    "::: {.content-hidden when-format=\"html\"}\n",
    "\n",
    "# Formatting notes\n",
    "\n",
    "The header at the top of this file is for creating a nicely-formatted `.html` document using the program `quarto` ([link](https://quarto.org/)).  To create nicely-formated `.html`versions of this notebook, run `quarto` from the command line as follows\n",
    "\n",
    "    quarto render dissipation-theory--Study-62.ipynb && open dissipation-theory--Study-62.html\n",
    "    \n",
    ":::"
   ]
  },
  {
   "cell_type": "code",
   "execution_count": null,
   "id": "fcbed444",
   "metadata": {},
   "outputs": [],
   "source": []
  }
 ],
 "metadata": {
  "kernelspec": {
   "display_name": "dissipationtheory",
   "language": "python",
   "name": "dissipationtheory"
  },
  "language_info": {
   "codemirror_mode": {
    "name": "ipython",
    "version": 3
   },
   "file_extension": ".py",
   "mimetype": "text/x-python",
   "name": "python",
   "nbconvert_exporter": "python",
   "pygments_lexer": "ipython3",
   "version": "3.10.2"
  },
  "toc": {
   "base_numbering": 1,
   "nav_menu": {},
   "number_sections": true,
   "sideBar": true,
   "skip_h1_title": false,
   "title_cell": "Table of Contents",
   "title_sidebar": "Contents",
   "toc_cell": false,
   "toc_position": {},
   "toc_section_display": true,
   "toc_window_display": false
  }
 },
 "nbformat": 4,
 "nbformat_minor": 5
}
