{
 "cells": [
  {
   "cell_type": "raw",
   "id": "b6f68ec9",
   "metadata": {},
   "source": [
    "---\n",
    "title: Test driving `dissipation5.py` \n",
    "author: \"John A. Marohn\"\n",
    "date: today\n",
    "abstract: The code in `dissipation5.py` impliments Roger Loring's revised theory for the non-contact friction and broadband local dielectric spectroscopy frequency shift experienced by a charged cantilever, idealized as a point probe, over a semiconductor. Check that, for an \"infinitely thick\" sample, the blds frequency shift at $\\omega_{\\text{m}} = 0$ agrees with Loring's $\\rho \\rightarrow 0$ and $\\rho \\rightarrow \\infty$ analytical limits and has the expected dependence on $\\rho$. \n",
    "toc: true\n",
    "number-sections: true\n",
    "highlight-style: pygments\n",
    "html-math-method: mathjax\n",
    "embed-resources: true\n",
    "dpi: 300\n",
    "format:\n",
    "    html:\n",
    "        html-math-method:\n",
    "          method: mathjax\n",
    "          url: \"https://cdn.jsdelivr.net/npm/mathjax@3/es5/tex-mml-chtml.js\"\n",
    "        code-fold: true\n",
    "        code-tools: true\n",
    "jupyter: python3\n",
    "---"
   ]
  },
  {
   "cell_type": "markdown",
   "id": "8f0557c0",
   "metadata": {},
   "source": [
    "The above header is for creating a nicely-formatted `.html` and `.pdf` documents using the program `quarto` ([link](https://quarto.org/)).  To create nicely-formated `.html` and `.pdf` versions of this notebook, run `quarto` from the command line as follows\n",
    "\n",
    "    quarto render dissipation-theory--Study-38.ipynb && open dissipation-theory--Study-38.html\n",
    "\n",
    "Other useful information about this notebook:\n",
    "\n",
    "- Filename: `dissipation-theory--Study-38.ipynb`\n",
    "- Continued from: `dissipation-theory--Study-29.ipynb` and `dissipation-theory--Study-34.ipynb`\n",
    "- Continued to: ---"
   ]
  },
  {
   "cell_type": "markdown",
   "id": "92b06dcb",
   "metadata": {},
   "source": [
    "# Preliminaries"
   ]
  },
  {
   "cell_type": "code",
   "execution_count": 1,
   "id": "1aa820ef",
   "metadata": {},
   "outputs": [],
   "source": [
    "import numpy as np\n",
    "import pandas"
   ]
  },
  {
   "cell_type": "code",
   "execution_count": 2,
   "id": "32dceea9",
   "metadata": {},
   "outputs": [],
   "source": [
    "%matplotlib inline\n",
    "import matplotlib.pylab as plt\n",
    "import matplotlib.cm as cm\n",
    "import matplotlib.colors as mcolors"
   ]
  },
  {
   "cell_type": "code",
   "execution_count": 42,
   "id": "b48b85cd",
   "metadata": {},
   "outputs": [],
   "source": [
    "THIS = 'dissipation-theory--Study-38--'\n",
    "figs = {}"
   ]
  },
  {
   "cell_type": "code",
   "execution_count": 4,
   "id": "c829749b",
   "metadata": {},
   "outputs": [],
   "source": [
    "from dissipationtheory.constants import ureg, qe, epsilon0\n",
    "from dissipationtheory.dissipation5 import CantileverModel, SampleModel1, SampleModel2\n",
    "from dissipationtheory.dissipation5 import CantileverModelJit, SampleModel1Jit, SampleModel2Jit\n",
    "from dissipationtheory.dissipation5 import theta1norm, gamma_perpendicular\n",
    "from dissipationtheory.dissipation5 import theta1norm_jit, gamma_perpendicular_jit\n",
    "from dissipationtheory.dissipation5 import blds_perpendicular, blds_perpendicular_jit\n",
    "from dissipationtheory.dissipation5 import BLDSzerolow, BLDSzerohigh"
   ]
  },
  {
   "cell_type": "markdown",
   "id": "ef7d349a",
   "metadata": {},
   "source": [
    "# Set up the cantilever"
   ]
  },
  {
   "cell_type": "code",
   "execution_count": 5,
   "id": "72ab2744",
   "metadata": {},
   "outputs": [],
   "source": [
    "cantilever = CantileverModel(\n",
    "    f_c = ureg.Quantity(75, 'kHz'),\n",
    "    k_c = ureg.Quantity(2.8, 'N/m'), \n",
    "    V_ts = ureg.Quantity(1, 'V'), \n",
    "    R = ureg.Quantity(35, 'nm'),\n",
    "    angle = ureg.Quantity(20, 'degrees'),\n",
    "    d = ureg.Quantity(38, 'nm'),\n",
    "    z_c = ureg.Quantity(73, 'nm')\n",
    ")"
   ]
  },
  {
   "cell_type": "code",
   "execution_count": 6,
   "id": "a75e25f2",
   "metadata": {},
   "outputs": [
    {
     "data": {
      "text/plain": [
       "cantilever\n",
       "\n",
       "         resonance freq = 75.000 kHz\n",
       "                        = 4.712e+05 rad/s\n",
       "        spring constant = 2.800 N/m\n",
       "     tip-sample voltage = 1.000 V\n",
       "                 radius = 35.000 nm\n",
       "        cone half angle = 20.000 degree\n",
       "                 height = 38.000 nm\n",
       "  tip charge z location = 73.000 nm"
      ]
     },
     "execution_count": 6,
     "metadata": {},
     "output_type": "execute_result"
    }
   ],
   "source": [
    "cantilever"
   ]
  },
  {
   "cell_type": "code",
   "execution_count": 7,
   "id": "591da41c",
   "metadata": {},
   "outputs": [
    {
     "data": {
      "text/plain": [
       "{'f_c': 75000.0,\n",
       " 'k_c': 2.8,\n",
       " 'V_ts': 1,\n",
       " 'R': 3.5e-08,\n",
       " 'angle': 20,\n",
       " 'd': 3.8e-08,\n",
       " 'z_c': 7.3e-08}"
      ]
     },
     "execution_count": 7,
     "metadata": {},
     "output_type": "execute_result"
    }
   ],
   "source": [
    "cantilever.args()"
   ]
  },
  {
   "cell_type": "markdown",
   "id": "ed6619ec",
   "metadata": {},
   "source": [
    "# Mimic a thick perovskite sample\n",
    "\n",
    "Take parameters from the Table 1.D sample in our \"BLDS paper\" manuscript, except make the sample thicker."
   ]
  },
  {
   "cell_type": "code",
   "execution_count": 8,
   "id": "872cc3d9",
   "metadata": {},
   "outputs": [],
   "source": [
    "mu = ureg.Quantity(1e-8, 'm^2/(V s)') \n",
    "sigma = ureg.Quantity(1E-5, 'S/m')\n",
    "rho = (sigma / (qe * mu)).to('1/m^3')"
   ]
  },
  {
   "cell_type": "code",
   "execution_count": 9,
   "id": "e2ce2716",
   "metadata": {},
   "outputs": [],
   "source": [
    "sample1 = SampleModel1(\n",
    "    cantilever = cantilever,\n",
    "    h_s = ureg.Quantity(7300, 'nm'),\n",
    "    epsilon_s = ureg.Quantity(complex(20, -0.2), ''),\n",
    "    sigma = sigma, # we will reset this below\n",
    "    rho = rho,     # we will reset this below\n",
    "    epsilon_d = ureg.Quantity(complex(1e6, 0), ''),\n",
    "    z_r = ureg.Quantity(7300, 'nm')\n",
    ")"
   ]
  },
  {
   "cell_type": "code",
   "execution_count": 10,
   "id": "21eee4e5",
   "metadata": {},
   "outputs": [
    {
     "data": {
      "text/plain": [
       "cantilever\n",
       "\n",
       "         resonance freq = 75.000 kHz\n",
       "                        = 4.712e+05 rad/s\n",
       "        spring constant = 2.800 N/m\n",
       "     tip-sample voltage = 1.000 V\n",
       "                 radius = 35.000 nm\n",
       "        cone half angle = 20.000 degree\n",
       "                 height = 38.000 nm\n",
       "  tip charge z location = 73.000 nm\n",
       "\n",
       "semiconductor\n",
       "\n",
       "             epsilon (real) = 20.000\n",
       "             epsilon (imag) = -0.200\n",
       "                  thickness = 7300.0 nm\n",
       "               conductivity = 1.000e-05 S/m\n",
       "             charge density = 6.242e+21 m^{-3}\n",
       "           reference height = 7.300e+03 nm\n",
       "\n",
       "         roll-off frequency = 1.129e+06 Hz\n",
       "                   mobility = 1.000e-08 m^2/(V s)\n",
       "         diffusion constant = 2.585e-10 m^2/s\n",
       "               Debye length = 1.513e+01 nm\n",
       "           diffusion length = 2.342e+01 nm\n",
       "   effective epsilon (real) = 20.000\n",
       "   effective epsilon (imag) = -2.597\n",
       "\n",
       "dielectric\n",
       "\n",
       "  epsilon (real) = 1000000.000\n",
       "  epsilon (imag) = 0.000\n",
       "       thickness = infinite"
      ]
     },
     "execution_count": 10,
     "metadata": {},
     "output_type": "execute_result"
    }
   ],
   "source": [
    "sample1"
   ]
  },
  {
   "cell_type": "code",
   "execution_count": 11,
   "id": "053cd954",
   "metadata": {},
   "outputs": [
    {
     "name": "stdout",
     "output_type": "stream",
     "text": [
      "cantilever\n",
      "==========\n",
      "        cantilever freq =  75000.0 Hz\n",
      "                        =  471238.89803846896 rad/s\n",
      "        spring constant =  2.8 N/m\n",
      "     tip-sample voltage =  1.0 V\n",
      "                 radius =  3.5e-08 m\n",
      "        cone half angle =  20.0 degree\n",
      "                 height =  3.8e-08 m\n",
      "  tip charge z location =  7.3e-08 m\n",
      "\n",
      "semiconductor\n",
      "=============\n",
      "          epsilon (real) =  20.0\n",
      "          epsilon (imag) =  -0.2\n",
      "               thickness =  7.3e-06 m\n",
      "            conductivity =  1e-05 S/m\n",
      "          charge density =  6.241509090043338e+21 m^{{-3}}\n",
      "        reference height =  7.3e-06 m\n",
      " \n",
      "      roll-off frequency =  1129409.0673730192 Hz\n",
      "                mobility =  1e-08 m^2/(V s)\n",
      "      diffusion constant =  2.585199985097773e-10 m^2/s\n",
      "            Debye length =  1.5129390669059825e-08 m\n",
      "        diffusion length =  2.3422136438546186e-08 m\n",
      "effective epsilon (real) =  20.0\n",
      "effective epsilon (imag) =  -2.596680477936312\n",
      "\n",
      "dielectric\n",
      "==========\n",
      " epsilon (real) =  1000000.0\n",
      " epsilon (imag) =  0.0\n",
      "      thickness = infinite\n"
     ]
    }
   ],
   "source": [
    "sample1_jit = SampleModel1Jit(**sample1.args())\n",
    "sample1_jit.print()"
   ]
  },
  {
   "cell_type": "markdown",
   "id": "3a42c636",
   "metadata": {},
   "source": [
    "# Example friction calculation\n",
    "\n",
    "Spot-check the new friction-calculation code by comparing a numba/jit result to a pure-Python result.\n",
    "\n",
    "First, the numba/jit result."
   ]
  },
  {
   "cell_type": "code",
   "execution_count": 12,
   "id": "0029df33",
   "metadata": {},
   "outputs": [
    {
     "name": "stdout",
     "output_type": "stream",
     "text": [
      "CPU times: user 4.99 ms, sys: 1.15 ms, total: 6.14 ms\n",
      "Wall time: 19.4 ms\n"
     ]
    },
    {
     "data": {
      "text/html": [
       "0.33851655364224437 piconewton second/meter"
      ],
      "text/latex": [
       "$0.33851655364224437\\ \\frac{\\mathrm{piconewton} \\cdot \\mathrm{second}}{\\mathrm{meter}}$"
      ],
      "text/plain": [
       "<Quantity(0.33851655364224437, 'piconewton * second / meter')>"
      ]
     },
     "execution_count": 12,
     "metadata": {},
     "output_type": "execute_result"
    }
   ],
   "source": [
    "%%time\n",
    "ans1a = gamma_perpendicular_jit(theta1norm_jit, sample1_jit)\n",
    "ans1a"
   ]
  },
  {
   "cell_type": "markdown",
   "id": "5444b954",
   "metadata": {},
   "source": [
    "Now the pure Python result."
   ]
  },
  {
   "cell_type": "code",
   "execution_count": 13,
   "id": "879ab54c",
   "metadata": {},
   "outputs": [
    {
     "name": "stdout",
     "output_type": "stream",
     "text": [
      "CPU times: user 1.64 s, sys: 22.5 ms, total: 1.67 s\n",
      "Wall time: 1.79 s\n"
     ]
    },
    {
     "data": {
      "text/html": [
       "0.33851655364224476 piconewton second/meter"
      ],
      "text/latex": [
       "$0.33851655364224476\\ \\frac{\\mathrm{piconewton} \\cdot \\mathrm{second}}{\\mathrm{meter}}$"
      ],
      "text/plain": [
       "<Quantity(0.33851655364224476, 'piconewton * second / meter')>"
      ]
     },
     "execution_count": 13,
     "metadata": {},
     "output_type": "execute_result"
    }
   ],
   "source": [
    "%%time\n",
    "ans1b = gamma_perpendicular(theta1norm, sample1)\n",
    "ans1b"
   ]
  },
  {
   "cell_type": "markdown",
   "id": "5a2b814d",
   "metadata": {},
   "source": [
    "# Example BLDS calculation"
   ]
  },
  {
   "cell_type": "markdown",
   "id": "a0bf92f4",
   "metadata": {},
   "source": [
    "## Compare Python and jit functions\n",
    "\n",
    "Compare the execution time for pure-Python and numba/jit calculations.  Create are array of two $\\omega_{\\mathrm{m}}$ values."
   ]
  },
  {
   "cell_type": "code",
   "execution_count": 14,
   "id": "00ff010f",
   "metadata": {},
   "outputs": [
    {
     "data": {
      "text/html": [
       "<table><tbody><tr><th>Magnitude</th><td style='text-align:left;'><pre>[62.83185307179586 628318530.7179586]</pre></td></tr><tr><th>Units</th><td style='text-align:left;'>hertz</td></tr></tbody></table>"
      ],
      "text/latex": [
       "$\\begin{pmatrix} & \\end{pmatrix}\\ \\mathrm{hertz}$"
      ],
      "text/plain": [
       "<Quantity([6.28318531e+01 6.28318531e+08], 'hertz')>"
      ]
     },
     "execution_count": 14,
     "metadata": {},
     "output_type": "execute_result"
    }
   ],
   "source": [
    "omega_m = ureg.Quantity(2 * np.pi * np.logspace(1, 8, 2), 'Hz')\n",
    "omega_m"
   ]
  },
  {
   "cell_type": "code",
   "execution_count": 15,
   "id": "87da068b",
   "metadata": {},
   "outputs": [
    {
     "name": "stdout",
     "output_type": "stream",
     "text": [
      "CPU times: user 5.53 ms, sys: 264 µs, total: 5.79 ms\n",
      "Wall time: 9.06 ms\n"
     ]
    },
    {
     "data": {
      "text/html": [
       "<table><tbody><tr><th>Magnitude</th><td style='text-align:left;'><pre>[-1.0906258299024583 -1.0613973206130325]</pre></td></tr><tr><th>Units</th><td style='text-align:left;'>hertz</td></tr></tbody></table>"
      ],
      "text/latex": [
       "$\\begin{pmatrix} & \\end{pmatrix}\\ \\mathrm{hertz}$"
      ],
      "text/plain": [
       "<Quantity([-1.09062583 -1.06139732], 'hertz')>"
      ]
     },
     "execution_count": 15,
     "metadata": {},
     "output_type": "execute_result"
    }
   ],
   "source": [
    "%%time\n",
    "ans2a = blds_perpendicular_jit(theta1norm_jit, sample1_jit, omega_m)\n",
    "ans2a "
   ]
  },
  {
   "cell_type": "code",
   "execution_count": 16,
   "id": "5d0591ea",
   "metadata": {},
   "outputs": [
    {
     "name": "stdout",
     "output_type": "stream",
     "text": [
      "CPU times: user 3.28 s, sys: 37 ms, total: 3.31 s\n",
      "Wall time: 3.53 s\n"
     ]
    },
    {
     "data": {
      "text/html": [
       "<table><tbody><tr><th>Magnitude</th><td style='text-align:left;'><pre>[-1.0906258299024585 -1.061397320613033]</pre></td></tr><tr><th>Units</th><td style='text-align:left;'>hertz</td></tr></tbody></table>"
      ],
      "text/latex": [
       "$\\begin{pmatrix} & \\end{pmatrix}\\ \\mathrm{hertz}$"
      ],
      "text/plain": [
       "<Quantity([-1.09062583 -1.06139732], 'hertz')>"
      ]
     },
     "execution_count": 16,
     "metadata": {},
     "output_type": "execute_result"
    }
   ],
   "source": [
    "%%time\n",
    "ans2b = blds_perpendicular(theta1norm, sample1, omega_m)\n",
    "ans2b "
   ]
  },
  {
   "cell_type": "markdown",
   "id": "2abc7b9d",
   "metadata": {},
   "source": [
    "## Compare old and new functions"
   ]
  },
  {
   "cell_type": "code",
   "execution_count": 17,
   "id": "7ca233d9",
   "metadata": {},
   "outputs": [],
   "source": [
    "from dissipationtheory.dissipation4 import CantileverModel as CantileverModel_v4\n",
    "from dissipationtheory.dissipation4 import SampleModel1 as SampleModel1_v4\n",
    "from dissipationtheory.dissipation4 import SampleModel1Jit as SampleModel1Jit_v4\n",
    "from dissipationtheory.dissipation4 import theta1norm_jit as theta1norm_jit_v4\n",
    "from dissipationtheory.dissipation4 import blds_perpendicular_jit as blds_perpendicular_jit_v4"
   ]
  },
  {
   "cell_type": "markdown",
   "id": "5fe1cc90",
   "metadata": {},
   "source": [
    "Make a comparable \"old\" sample."
   ]
  },
  {
   "cell_type": "code",
   "execution_count": 18,
   "id": "6856c09e",
   "metadata": {},
   "outputs": [],
   "source": [
    "cantilever_v4 = CantileverModel_v4(\n",
    "    f_c = ureg.Quantity(75, 'kHz'),\n",
    "    k_c = ureg.Quantity(2.8, 'N/m'), \n",
    "    V_ts = ureg.Quantity(1, 'V'), \n",
    "    R = ureg.Quantity(35, 'nm'),\n",
    "    d = ureg.Quantity(38, 'nm'),\n",
    "    z_c = ureg.Quantity(73, 'nm')\n",
    ")\n",
    "\n",
    "sample1_v4 = SampleModel1_v4(\n",
    "    cantilever = cantilever_v4,\n",
    "    h_s = ureg.Quantity(7300, 'nm'),\n",
    "    epsilon_s = ureg.Quantity(complex(20, -0.2), ''),\n",
    "    sigma = ureg.Quantity(1E-5, 'S/m'),                 # we will reset this below\n",
    "    rho = ureg.Quantity(1e21, '1/m^3'),                 # we will reset this below\n",
    "    epsilon_d = ureg.Quantity(complex(1e6, 0), ''),\n",
    "    z_r = ureg.Quantity(7300, 'nm')\n",
    ")\n",
    "\n",
    "sample1_jit_v4 = SampleModel1Jit_v4(**sample1_v4.args())"
   ]
  },
  {
   "cell_type": "markdown",
   "id": "e374d286",
   "metadata": {},
   "source": [
    "Now run the calculation."
   ]
  },
  {
   "cell_type": "code",
   "execution_count": 19,
   "id": "310a3830",
   "metadata": {},
   "outputs": [
    {
     "data": {
      "text/html": [
       "<table><tbody><tr><th>Magnitude</th><td style='text-align:left;'><pre>[-2.884654361839785 -2.806699514653444]</pre></td></tr><tr><th>Units</th><td style='text-align:left;'>hertz</td></tr></tbody></table>"
      ],
      "text/latex": [
       "$\\begin{pmatrix} & \\end{pmatrix}\\ \\mathrm{hertz}$"
      ],
      "text/plain": [
       "<Quantity([-2.88465436 -2.80669951], 'hertz')>"
      ]
     },
     "execution_count": 19,
     "metadata": {},
     "output_type": "execute_result"
    }
   ],
   "source": [
    "ans2c = blds_perpendicular_jit_v4(theta1norm_jit_v4, sample1_jit_v4, omega_m)\n",
    "ans2c.sum(axis=1) "
   ]
  },
  {
   "cell_type": "markdown",
   "id": "a81bf570",
   "metadata": {},
   "source": [
    "<div class=\"alert alert-block alert-success\">\n",
    "The new BLDS frequency shift is less than half the old BLDS frequency shift.  \n",
    "</div>\n",
    "\n",
    "This makes sense, for two reasons. (1) The tip charge used in the new calculation, $q_0 = 4 \\pi \\epsilon_0 R \\: V_{\\mathrm{tip}}$, is smaller than the charge used in the old calculation, $q = C \\: V_{\\mathrm{tip}}$, where the capacitance $C$ was computed numerically.  (2) The new calculation of the BLDS frequency shift contains only a $K_2$ term, whereas the old calculation involved constributions from $K_0$, $K_1$, and $K_2$ terms (all the same sign).\n"
   ]
  },
  {
   "cell_type": "markdown",
   "id": "b5501e29",
   "metadata": {},
   "source": [
    "# Vary charge density and compute friction and BLDS frequency shift\n",
    "\n",
    "Set up an array of modulation frequencies and an array of conductivities.\n",
    "\n",
    "For code development, set\n",
    "\n",
    "* `N_omega` = 10\n",
    "* `N_sigma` = 10\n",
    "\n",
    "To make paper-quality figures, rerun with\n",
    "\n",
    "* `N_omega` = 100\n",
    "* `N_sigma` = 200"
   ]
  },
  {
   "cell_type": "code",
   "execution_count": 20,
   "id": "310325b0",
   "metadata": {},
   "outputs": [],
   "source": [
    "N_omega = 100\n",
    "N_sigma = 200"
   ]
  },
  {
   "cell_type": "code",
   "execution_count": 21,
   "id": "fc1a0465",
   "metadata": {},
   "outputs": [],
   "source": [
    "omega_m__array = ureg.Quantity(\n",
    "    np.logspace(\n",
    "        start=np.log10(1e1),\n",
    "        stop=np.log10(1e8),\n",
    "        num=N_omega), 'Hz')"
   ]
  },
  {
   "cell_type": "code",
   "execution_count": 22,
   "id": "31b38d7b",
   "metadata": {},
   "outputs": [],
   "source": [
    "sigma__array = ureg.Quantity(\n",
    "    np.logspace(\n",
    "        start=np.log10(1e-10),\n",
    "        stop=np.log10(1),\n",
    "        num=N_sigma), 'S/m')"
   ]
  },
  {
   "cell_type": "markdown",
   "id": "92dd8450",
   "metadata": {},
   "source": [
    "Assume a fixed mobility of $\\mu = 10^{-8} \\: \\mathrm{m}^2/\\mathrm{V s}$, an ionic mobility.  As we vary $\\sigma$, we should vary the charge density $\\rho$ to keep the mobility constant."
   ]
  },
  {
   "cell_type": "code",
   "execution_count": 23,
   "id": "0f10b8da",
   "metadata": {},
   "outputs": [],
   "source": [
    "mu = ureg.Quantity(1e-8, 'm^2/(V s)') \n",
    "rho__array = (sigma__array / (qe * mu)).to('1/m^3')"
   ]
  },
  {
   "cell_type": "markdown",
   "id": "d5bf9346",
   "metadata": {},
   "source": [
    "Get ready to run the simulations."
   ]
  },
  {
   "cell_type": "code",
   "execution_count": 24,
   "id": "e6e840c0",
   "metadata": {},
   "outputs": [],
   "source": [
    "data = {}        # many simulations\n",
    "data['01'] = {}  # the first simulation"
   ]
  },
  {
   "cell_type": "markdown",
   "id": "6c82687d",
   "metadata": {},
   "source": [
    "Loop over conductivities, computing the BLDS spectrum and the friction.  Add to the data \n",
    "\n",
    "* a scaled BLDS frequency axis, $\\Omega_{\\mathrm{m}} \\equiv (\\epsilon_{\\mathrm{s}}^{\\prime} \\omega_{\\mathrm{m}})/\\omega_0$ or `omega_m scaled`\n",
    "\n",
    "* a scaled charge density axis, $\\hat{\\rho}_1 \\equiv z_{\\mathrm{c}}^2 / \\lambda_{\\mathrm{D}}^2$ or `rho scaled 1`\n",
    "\n",
    "* a second scaled charge density axis, $\\hat{\\rho}_2 \\equiv z_{\\mathrm{c}}^2 / (\\epsilon_{\\mathrm{s}}^{\\prime} \\lambda_{\\mathrm{D}}^2)$ or `rho scaled 2`\n",
    "\n",
    "* a scaled frequency axis $\\Omega_0 \\equiv \\omega_0/(\\epsilon_{\\mathrm{s}}^{\\prime} \\omega_{\\mathrm{c}})$ or `omega_c scaled`\n",
    "\n",
    "with\n",
    "\n",
    "\\begin{equation}\n",
    "\\lambda_{\\mathrm{D}}^2 \\equiv \\frac{\\epsilon_0 k_{\\mathrm{B}} T}{e^2 \\rho}\n",
    "\\end{equation}\n",
    "\n",
    "the Debye length and $z_{\\mathrm{c}}$ the sample-to-tip-charge separation."
   ]
  },
  {
   "cell_type": "code",
   "execution_count": 25,
   "id": "dacccaed",
   "metadata": {},
   "outputs": [],
   "source": [
    "def calculate(sample1_jit, omega_m, rho, sigma):\n",
    "    \n",
    "    data = {}\n",
    "    for rho_, sigma_ in zip(rho, sigma):\n",
    "\n",
    "        sample1_jit.rho = rho_.to('1/m^3').magnitude\n",
    "        sample1_jit.sigma = sigma_.to('S/m').magnitude\n",
    "    \n",
    "        gamma = gamma_perpendicular_jit(theta1norm_jit, sample1_jit).to('pN s/m')\n",
    "        f_BLDS = blds_perpendicular_jit(theta1norm_jit, sample1_jit, omega_m).to('Hz')\n",
    "        \n",
    "        ep = sample1_jit.epsilon_s.real   \n",
    "        z_c = ureg.Quantity(sample1_jit.cantilever.z_c, 'm')\n",
    "        LD = ureg.Quantity(sample1_jit.LD, 'm')\n",
    "        rho = ureg.Quantity(sample1_jit.rho, '1/m^3')\n",
    "        omega_0 = (ureg.Quantity(sample1_jit.sigma, 'S/m')/epsilon0).to('Hz')\n",
    "        omega_c = ureg.Quantity(sample1_jit.cantilever.omega_c, 'Hz')\n",
    "    \n",
    "        data[str(sigma_.to('S/m').magnitude)] = {\n",
    "            'sample': sample1_jit,\n",
    "            'omega_0': omega_0,\n",
    "            'omega_m': omega_m,\n",
    "            'omega_m scaled': ((ep * omega_m)/omega_0).to('').magnitude,\n",
    "            'f_BLDS': f_BLDS, \n",
    "            'gamma': gamma,\n",
    "            'sigma': ureg.Quantity(sample1_jit.sigma, 'S/m'),\n",
    "            'z_c': z_c,\n",
    "            'LD': LD,\n",
    "            'rho': rho,\n",
    "            'rho scaled 1': (z_c**2/(     LD**2)).to('').magnitude,\n",
    "            'rho scaled 2': (z_c**2/(ep * LD**2)).to('').magnitude,\n",
    "            'omega_c': omega_c,\n",
    "            'omega_c scaled': (omega_0/(ep * omega_c)).to('').magnitude}\n",
    "\n",
    "    return data"
   ]
  },
  {
   "cell_type": "code",
   "execution_count": 26,
   "id": "d4ee501b",
   "metadata": {},
   "outputs": [
    {
     "name": "stdout",
     "output_type": "stream",
     "text": [
      "CPU times: user 26.3 s, sys: 338 ms, total: 26.6 s\n",
      "Wall time: 32.6 s\n"
     ]
    }
   ],
   "source": [
    "%%time\n",
    "\n",
    "data['01'] = calculate(sample1_jit, omega_m__array, rho__array, sigma__array)"
   ]
  },
  {
   "cell_type": "markdown",
   "id": "dbb05f1a",
   "metadata": {},
   "source": [
    "## Plot the BLDS spectra\n",
    "\n",
    "A helper plotting function."
   ]
  },
  {
   "cell_type": "code",
   "execution_count": 28,
   "id": "f64b333b",
   "metadata": {},
   "outputs": [],
   "source": [
    "def plotBLDS(data):\n",
    "\n",
    "    rho = np.zeros(len(data))    \n",
    "    for index, key in enumerate(data.keys()):\n",
    "        \n",
    "        rho[index] = data[key]['rho'].to('1/cm^3').magnitude\n",
    "\n",
    "    # colormap = plt.cm.jet\n",
    "    colormap = plt.cm.magma_r\n",
    "    color_list = [colormap(i) for i in np.linspace(0, 1, len(data))]\n",
    "\n",
    "    normalized_colors = mcolors.LogNorm(vmin=min(rho), vmax=max(rho))\n",
    "    scalar_mappable = cm.ScalarMappable(norm=normalized_colors, cmap=colormap)\n",
    "    scalar_mappable.set_array(len(color_list))\n",
    "    \n",
    "    fig, ax = plt.subplots(figsize=(4.5, 3))\n",
    "    for index, key in enumerate(data.keys()):\n",
    "        \n",
    "        with plt.style.context('seaborn-v0_8'):\n",
    "            plt.semilogx(\n",
    "                data[key]['omega_m'].to('Hz').magnitude,\n",
    "                data[key]['f_BLDS'].to('Hz').magnitude,\n",
    "                '-',\n",
    "                color=color_list[index])\n",
    "\n",
    "    # color bar\n",
    "    clb=plt.colorbar(scalar_mappable, ax=ax)\n",
    "    clb.ax.set_title(r'$\\rho \\: [\\mathrm{cm}^{-3}]$', fontsize=12)\n",
    "    \n",
    "    plt.ylabel('$\\Delta f_{\\mathrm{BLDS}}$ [Hz]')\n",
    "    plt.xlabel('mod. freq. $\\omega_{\\mathrm{m}}$ [rad/s]')\n",
    "    plt.tight_layout()\n",
    "    plt.show()\n",
    "    \n",
    "    return fig"
   ]
  },
  {
   "cell_type": "markdown",
   "id": "29d51eb9",
   "metadata": {},
   "source": [
    "Plot every 5th BLDS spectrum."
   ]
  },
  {
   "cell_type": "code",
   "execution_count": 29,
   "id": "cae7a005",
   "metadata": {},
   "outputs": [],
   "source": [
    "data['01-short'] = {}\n",
    "for key in list(data['01'].keys())[::5]:\n",
    "    data['01-short'][key] = data['01'][key]"
   ]
  },
  {
   "cell_type": "code",
   "execution_count": 43,
   "id": "2d1edddc",
   "metadata": {},
   "outputs": [
    {
     "data": {
      "image/png": "[encoded data removed]",
      "text/plain": [
       "<Figure size 450x300 with 2 Axes>"
      ]
     },
     "metadata": {},
     "output_type": "display_data"
    }
   ],
   "source": [
    "#| label: fig-blds\n",
    "#| fig-cap: | \n",
    "#|   Broadband local dielectric spectrum of thick lead-halide perovskite \n",
    "#|   semiconductor versus charge density.\n",
    "\n",
    "figs['01'] = plotBLDS(data['01-short'])"
   ]
  },
  {
   "cell_type": "markdown",
   "id": "3bbeadef",
   "metadata": {},
   "source": [
    "Define a function to plot the BLDS spectra versus a scaled frequency."
   ]
  },
  {
   "cell_type": "code",
   "execution_count": 31,
   "id": "35f302e3",
   "metadata": {},
   "outputs": [],
   "source": [
    "def plotBLDSscaled(data, sample1):\n",
    "\n",
    "    rho = np.zeros(len(data))    \n",
    "    for index, key in enumerate(data.keys()):\n",
    "        \n",
    "        rho[index] = data[key]['rho'].to('1/cm^3').magnitude\n",
    "\n",
    "    # colormap = plt.cm.jet\n",
    "    colormap = plt.cm.magma_r\n",
    "    color_list = [colormap(i) for i in np.linspace(0, 1, len(data))]\n",
    "\n",
    "    normalized_colors = mcolors.LogNorm(vmin=min(rho), vmax=max(rho))\n",
    "    scalar_mappable = cm.ScalarMappable(norm=normalized_colors, cmap=colormap)\n",
    "    scalar_mappable.set_array(len(color_list))\n",
    "    \n",
    "    fig, ax = plt.subplots(figsize=(4.5, 3))\n",
    "    for index, key in enumerate(data.keys()):\n",
    "        \n",
    "        x = data[key]['omega_m scaled']\n",
    "        y = data[key]['f_BLDS'].to('Hz').magnitude\n",
    "        \n",
    "        with plt.style.context('seaborn-v0_8'):\n",
    "            plt.semilogx(x, y, '-', color=color_list[index])\n",
    "\n",
    "    # color bar\n",
    "    clb=plt.colorbar(scalar_mappable, ax=ax)\n",
    "    clb.ax.set_title(r'$\\rho \\: [\\mathrm{cm}^{-3}]$', fontsize=12)\n",
    "    \n",
    "    # vertical line\n",
    "    (ymax, ymin) = (BLDSzerolow(sample1,0), BLDSzerohigh(sample1,0))    \n",
    "    plt.vlines(1.0, ymin, ymax, colors='tab:gray', linestyles='dashed') # hardwired, ugh\n",
    "    \n",
    "    plt.xlim(1e-2,1e2)\n",
    "    plt.ylabel('|$\\Delta f_{\\mathrm{BLDS}}$| [Hz]')\n",
    "    plt.xlabel('scaled modulation freq. $\\Omega_{\\mathrm{m}} = '\n",
    "               '(\\epsilon_{\\mathrm{s}}^{\\prime} \\omega_{\\mathrm{m}})/\\omega_0$')\n",
    "    plt.tight_layout()\n",
    "    plt.show()\n",
    "    \n",
    "    return fig"
   ]
  },
  {
   "cell_type": "code",
   "execution_count": 44,
   "id": "ebaca52f",
   "metadata": {},
   "outputs": [
    {
     "data": {
      "image/png": "[encoded data removed]",
      "text/plain": [
       "<Figure size 450x300 with 2 Axes>"
      ]
     },
     "metadata": {},
     "output_type": "display_data"
    }
   ],
   "source": [
    "figs['02'] = plotBLDSscaled(data['01-short'], sample1)"
   ]
  },
  {
   "cell_type": "markdown",
   "id": "27fb8f08",
   "metadata": {},
   "source": [
    "## Plot the BLDS spectrum at zero frequency versus charge density"
   ]
  },
  {
   "cell_type": "code",
   "execution_count": 33,
   "id": "86df6e6a",
   "metadata": {},
   "outputs": [],
   "source": [
    "def plotBLDSzero(data):\n",
    "    \n",
    "    # generate arrays for plotting\n",
    "    \n",
    "    rho = np.zeros(len(data))\n",
    "    rho_scaled = np.zeros(len(data)) \n",
    "    BLDS0 = np.zeros(len(data)) \n",
    "    \n",
    "    for index, key in enumerate(data.keys()):\n",
    "        \n",
    "        rho[index] = data[key]['rho'].to('1/cm^3').magnitude\n",
    "        rho_scaled[index] = data[key]['rho scaled 2']\n",
    "        BLDS0[index] = data[key]['f_BLDS'][0].to('Hz').magnitude\n",
    "    \n",
    "    # Define functions to convert from  $\\hat{\\rho}$ to $\\rho$ and back again\n",
    "    \n",
    "    rho0 = (rho/rho_scaled)[0]\n",
    "    \n",
    "    def fwd(x):\n",
    "        return x*rho0\n",
    "\n",
    "    def rev(rho):\n",
    "        return rho/rho0   \n",
    "    \n",
    "    # now plot\n",
    "    \n",
    "    fig, ax = plt.subplots(1, 1, figsize=(3.5, 3.0))\n",
    "    \n",
    "    with plt.style.context('seaborn-v0_8'):\n",
    "        ax.semilogx(rho_scaled, BLDS0)\n",
    "\n",
    "    axT = ax.secondary_xaxis(\"top\", functions=(fwd,rev))\n",
    "        \n",
    "    plt.vlines(1.0, BLDS0.min(), BLDS0.max(), colors='tab:gray', linestyles='dashed')        \n",
    "    ax.set_ylabel(r'$\\Delta f_{\\mathrm{BLDS}}(\\omega_{\\mathrm{m}}=0)$ [Hz]')\n",
    "    ax.set_xlabel(r'scaled charge density $\\hat{\\rho} = z_{\\mathrm{c}}^2/(\\epsilon_{\\mathrm{s}}^{\\prime} \\lambda_{\\mathrm{D}}^2)$')\n",
    "    axT.set_xlabel(r'charge density $\\rho$ [cm$^{-3}$]')\n",
    "    \n",
    "    plt.grid()\n",
    "    plt.tight_layout()\n",
    "    \n",
    "    return fig"
   ]
  },
  {
   "cell_type": "code",
   "execution_count": 45,
   "id": "346ea0d6",
   "metadata": {},
   "outputs": [
    {
     "data": {
      "image/png": "[encoded data removed]",
      "text/plain": [
       "<Figure size 350x300 with 1 Axes>"
      ]
     },
     "metadata": {},
     "output_type": "display_data"
    }
   ],
   "source": [
    "figs['03'] = plotBLDSzero(data['01'])"
   ]
  },
  {
   "cell_type": "markdown",
   "id": "422b21ac",
   "metadata": {},
   "source": [
    "# Check the integrand $\\theta_1$"
   ]
  },
  {
   "cell_type": "code",
   "execution_count": 35,
   "id": "f12b2efe",
   "metadata": {},
   "outputs": [],
   "source": [
    "from dissipationtheory.dissipation5 import theta1norm as theta1norm_v5\n",
    "from dissipationtheory.dissipation4 import theta1norm as theta1norm_v4"
   ]
  },
  {
   "cell_type": "code",
   "execution_count": 36,
   "id": "4b6b1e13",
   "metadata": {},
   "outputs": [
    {
     "name": "stdout",
     "output_type": "stream",
     "text": [
      "75.88184199290572\n"
     ]
    }
   ],
   "source": [
    "print(theta1norm_v5(10., sample1, ureg.Quantity(1e5, 'Hz'), 2, part=np.real))"
   ]
  },
  {
   "cell_type": "code",
   "execution_count": 37,
   "id": "5bfe3ea9",
   "metadata": {},
   "outputs": [
    {
     "name": "stdout",
     "output_type": "stream",
     "text": [
      "75.88184199290572\n"
     ]
    }
   ],
   "source": [
    "print(theta1norm_v4(10., sample1, ureg.Quantity(1e5, 'Hz'), 2, part=np.real))"
   ]
  },
  {
   "cell_type": "markdown",
   "id": "f1d01bee",
   "metadata": {},
   "source": [
    "# Check the function K"
   ]
  },
  {
   "cell_type": "code",
   "execution_count": 38,
   "id": "7c51e789",
   "metadata": {},
   "outputs": [],
   "source": [
    "from dissipationtheory.dissipation5 import K as K_v5\n",
    "from dissipationtheory.dissipation4 import K as K_v4"
   ]
  },
  {
   "cell_type": "code",
   "execution_count": 39,
   "id": "ccfe645f",
   "metadata": {},
   "outputs": [
    {
     "data": {
      "text/html": [
       "5.909302107185035×10<sup>20</sup> 1/meter<sup>3</sup>"
      ],
      "text/latex": [
       "$5.909302107185035\\times 10^{20}\\ \\frac{1}{\\mathrm{meter}^{3}}$"
      ],
      "text/plain": [
       "<Quantity(5.909302107185035e+20, '1 / meter ** 3')>"
      ]
     },
     "execution_count": 39,
     "metadata": {},
     "output_type": "execute_result"
    }
   ],
   "source": [
    "K_v5(2, theta1norm_v5, sample1, ureg.Quantity(1e5, 'Hz'), part=np.real)"
   ]
  },
  {
   "cell_type": "code",
   "execution_count": 40,
   "id": "4a9d2cff",
   "metadata": {},
   "outputs": [
    {
     "data": {
      "text/html": [
       "5.909302107185035×10<sup>20</sup> 1/meter<sup>3</sup>"
      ],
      "text/latex": [
       "$5.909302107185035\\times 10^{20}\\ \\frac{1}{\\mathrm{meter}^{3}}$"
      ],
      "text/plain": [
       "<Quantity(5.909302107185035e+20, '1 / meter ** 3')>"
      ]
     },
     "execution_count": 40,
     "metadata": {},
     "output_type": "execute_result"
    }
   ],
   "source": [
    "K_v4(2, theta1norm_v4, sample1, ureg.Quantity(1e5, 'Hz'), part=np.real)"
   ]
  },
  {
   "cell_type": "markdown",
   "id": "84a12a6f",
   "metadata": {},
   "source": [
    "# Conclusions"
   ]
  },
  {
   "cell_type": "markdown",
   "id": "4aa1b355",
   "metadata": {},
   "source": [
    "<div class=\"alert alert-block alert-danger\">\n",
    "The zero-frequency limit of the BLDS frequency shift, $\\Delta f_{\\mathrm{BLDS}}(\\omega_{\\mathrm{m}}) = 0$, does not depend on the unitless scaled charge density, $\\hat{\\rho}_2 = z_{\\mathrm{c}}^2 / (\\epsilon_{\\mathrm{s}}^{\\prime} \\lambda_{\\mathrm{D}}^2)$, in the expected way. \n",
    "</div>\n",
    "\n",
    "Based on what was observed in `dissipation-theory--Study-34.ipynb` (i.e., `Study-34`) for an identical sample, at $\\hat{\\rho}_2 = 1$ we expect $\\Delta f_{\\mathrm{BLDS}}(\\omega_{\\mathrm{m}} = 0)$ to be halfway between its limiting values.  Instead we see that $\\Delta f_{\\mathrm{BLDS}}(0)$ has reached its halfway point closer to $\\hat{\\rho}_2 \\sim 10$ in the above example.  The difference between the `dissipation4.py` module used in `Study-34` and the `dissipation5.py` module used here is the computation of the BLDS frequency shift; the core computation of the $K_\\ell$ integrals is the same in both modules.  Above I checked that the $K_2$ integral yields the same result (for one sample, and at one frequency) for both modules.  So I would expect to see the same dependence of $\\Delta f_{\\mathrm{BLDS}}(0)$ on $\\hat{\\rho}_2$ here.  \n",
    "\n",
    "Is this difference due to a coding error?\n",
    "\n",
    "Comparing `Study-34` to this notebook, observe that in the plot of $\\Delta f_{\\mathrm{BLDS}}(0)$ versus $\\hat{\\rho}_2$, the $x$ axis has a larger range in `Study-34`.  The range of charge density, and therefore unitless charge density, should be the same in both notebooks.  Puzzling."
   ]
  },
  {
   "cell_type": "markdown",
   "id": "0e53424b",
   "metadata": {},
   "source": [
    "# Next step"
   ]
  },
  {
   "cell_type": "markdown",
   "id": "1ba93959",
   "metadata": {},
   "source": [
    "Make a copy of `dissipation-theory--Study-34.ipynb` called `dissipation-theory--Study-39.ipynb`.  In `Study-39` retain all the code, except (1) input from `dissipation5` instead of `dissipation4` and (2) update the cantilever object to have a cone angle."
   ]
  },
  {
   "cell_type": "raw",
   "id": "90b5aec4",
   "metadata": {},
   "source": [
    "::: {.content-hidden when-format=\"html\"}"
   ]
  },
  {
   "cell_type": "markdown",
   "id": "5a29d1b2",
   "metadata": {},
   "source": [
    "# Save the figures"
   ]
  },
  {
   "cell_type": "code",
   "execution_count": 46,
   "id": "fe8864e7",
   "metadata": {},
   "outputs": [],
   "source": [
    "if 1:\n",
    "    for num in figs.keys():\n",
    "        figname = THIS + \"Fig-\" + num\n",
    "        figs[num].savefig(figname + '.png', dpi=300)\n",
    "        figs[num].savefig(figname + '.pdf')"
   ]
  },
  {
   "cell_type": "raw",
   "id": "1c7ed4a2",
   "metadata": {},
   "source": [
    ":::"
   ]
  },
  {
   "cell_type": "code",
   "execution_count": null,
   "id": "0612d8ef",
   "metadata": {},
   "outputs": [],
   "source": []
  }
 ],
 "metadata": {
  "kernelspec": {
   "display_name": "dissipationtheory",
   "language": "python",
   "name": "dissipationtheory"
  },
  "language_info": {
   "codemirror_mode": {
    "name": "ipython",
    "version": 3
   },
   "file_extension": ".py",
   "mimetype": "text/x-python",
   "name": "python",
   "nbconvert_exporter": "python",
   "pygments_lexer": "ipython3",
   "version": "3.9.10"
  },
  "toc": {
   "base_numbering": 1,
   "nav_menu": {},
   "number_sections": true,
   "sideBar": true,
   "skip_h1_title": false,
   "title_cell": "Table of Contents",
   "title_sidebar": "Contents",
   "toc_cell": false,
   "toc_position": {},
   "toc_section_display": true,
   "toc_window_display": false
  }
 },
 "nbformat": 4,
 "nbformat_minor": 5
}
