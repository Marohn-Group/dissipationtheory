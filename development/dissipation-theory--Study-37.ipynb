{
 "cells": [
  {
   "cell_type": "raw",
   "id": "771459df",
   "metadata": {},
   "source": [
    "---\n",
    "title: Compare Loring's frequency shift formulas for a spherical tip over a metal\n",
    "bibliography: references.bib\n",
    "csl: american-chemical-society.csl\n",
    "author: \"John A. Marohn\"\n",
    "date: today\n",
    "abstract: Compare $f_2$ [Hz/V$^2$] *vs*. $h$ [nm] measured over gold to calculations employing the following tip models. (a) Two approximations describing a spherical tip (Loring); (b) Hoepker's analytical sphere-plus-cone model; and (c) Marohn's numerical sphere-plus-cone model. Perform a fit of measured $f_2$ *vs*. $h$ data to Marohn's numerical sphere-plus-cone model with the tip radius and cone angle as best-fit parameters.\n",
    "number-sections: true\n",
    "highlight-style: pygments\n",
    "embed-resources: true\n",
    "dpi: 300\n",
    "format:\n",
    "    html:\n",
    "        toc: true\n",
    "        toc-expand: 3\n",
    "        html-math-method:\n",
    "          method: mathjax\n",
    "          url: \"https://cdn.jsdelivr.net/npm/mathjax@3/es5/tex-mml-chtml.js\"\n",
    "        code-fold: true\n",
    "        code-tools: true\n",
    "jupyter: python3\n",
    "---"
   ]
  },
  {
   "cell_type": "raw",
   "id": "c4778d93",
   "metadata": {},
   "source": [
    "::: {.content-hidden when-format=\"html\"}"
   ]
  },
  {
   "cell_type": "markdown",
   "id": "7e35b198",
   "metadata": {},
   "source": [
    "Other useful information about this notebook:\n",
    "\n",
    "- Filename: `dissipation-theory--Study-37.ipynb`\n",
    "- Continued from: `2023-09-21--jam99--20230811-ringdown--Study-1.ipynb`\n",
    "- Continued to: ---\n",
    "\n",
    "To make a nicely formatted html file \n",
    "\n",
    "    quarto render dissipation-theory--Study-37.ipynb\n",
    "    \n",
    "To format it and then display it\n",
    "\n",
    "    quarto render dissipation-theory--Study-37.ipynb && open dissipation-theory--Study-37.html"
   ]
  },
  {
   "cell_type": "markdown",
   "id": "1c9fec61",
   "metadata": {},
   "source": [
    "# Preliminaries"
   ]
  },
  {
   "cell_type": "code",
   "execution_count": 1,
   "id": "7ad8fe04",
   "metadata": {},
   "outputs": [],
   "source": [
    "import numpy as np\n",
    "import pandas as pd"
   ]
  },
  {
   "cell_type": "code",
   "execution_count": 2,
   "id": "b75a7128",
   "metadata": {},
   "outputs": [],
   "source": [
    "%matplotlib inline\n",
    "import matplotlib.pylab as plt\n",
    "\n",
    "font = {'family' : 'serif',\n",
    "        'weight' : 'normal',\n",
    "        'size'   : 12}\n",
    "\n",
    "plt.rc('font', **font)\n",
    "plt.rcParams['figure.figsize'] = 3.25, 3.5"
   ]
  },
  {
   "cell_type": "code",
   "execution_count": 3,
   "id": "61149d89",
   "metadata": {},
   "outputs": [],
   "source": [
    "THIS = 'dissipation-theory--Study-37--'\n",
    "figs = {}"
   ]
  },
  {
   "cell_type": "raw",
   "id": "eb89a4c1",
   "metadata": {},
   "source": [
    ":::"
   ]
  },
  {
   "cell_type": "markdown",
   "id": "68c29e43",
   "metadata": {},
   "source": [
    "# Read in $f_2$ data and plot"
   ]
  },
  {
   "cell_type": "markdown",
   "id": "c9b45b47",
   "metadata": {},
   "source": [
    "The csv file `20230811-ringdown-Gold_data_summary.csv` is a summary of data derived from a ringdown experiment conducted by Virginia McGhee over gold.  Read from this `.csv` file into a pandas dataframe the columns for height, cantilever frequency, and cantilever frequency standard deviation."
   ]
  },
  {
   "cell_type": "code",
   "execution_count": 4,
   "id": "e4257c5a",
   "metadata": {},
   "outputs": [],
   "source": [
    "filename = '20230811-ringdown-Gold_data_summary.csv'\n",
    "\n",
    "cols_list = \\\n",
    "['Distance from Surface [nm]', \n",
    " 'Curvature [Hz/V^2]',\n",
    " 'Curvature std [Hz/V^2]']\n",
    "\n",
    "data = pd.read_csv(filename, usecols=cols_list)"
   ]
  },
  {
   "cell_type": "markdown",
   "id": "c00a6f3d",
   "metadata": {},
   "source": [
    "In the ringdown experiment the cantilever frequency was recorded as a function of tip-sample voltage. The applied voltage *decreased* (i.e., redshifted) the cantielver frequency.  See, for example, the plots of cantilever versus tip-sample voltage in the Marohn-group document `20230811-ringdown-Gold-combined-graphs.png`.  The cantilever shift versus tip-sample voltage was fit to\n",
    "\n",
    "\\begin{equation}\n",
    "f(V)  = f_0 - f_2 (V - \\phi)^2\n",
    "\\end{equation}\n",
    "\n",
    "with $\\phi$ the local surface potential and $f_2$ a *positive* coefficient (`f2` in the code below). "
   ]
  },
  {
   "cell_type": "code",
   "execution_count": 5,
   "id": "382a34ea",
   "metadata": {},
   "outputs": [
    {
     "data": {
      "text/html": [
       "<div>\n",
       "<style scoped>\n",
       "    .dataframe tbody tr th:only-of-type {\n",
       "        vertical-align: middle;\n",
       "    }\n",
       "\n",
       "    .dataframe tbody tr th {\n",
       "        vertical-align: top;\n",
       "    }\n",
       "\n",
       "    .dataframe thead th {\n",
       "        text-align: right;\n",
       "    }\n",
       "</style>\n",
       "<table border=\"1\" class=\"dataframe\">\n",
       "  <thead>\n",
       "    <tr style=\"text-align: right;\">\n",
       "      <th></th>\n",
       "      <th>h [nm]</th>\n",
       "      <th>f2 [Hz/V^2]</th>\n",
       "      <th>stdev f2 [Hz/V^2]</th>\n",
       "    </tr>\n",
       "  </thead>\n",
       "  <tbody>\n",
       "    <tr>\n",
       "      <th>0</th>\n",
       "      <td>37.5</td>\n",
       "      <td>12.548678</td>\n",
       "      <td>0.503368</td>\n",
       "    </tr>\n",
       "    <tr>\n",
       "      <th>1</th>\n",
       "      <td>40.5</td>\n",
       "      <td>9.644799</td>\n",
       "      <td>0.253236</td>\n",
       "    </tr>\n",
       "    <tr>\n",
       "      <th>2</th>\n",
       "      <td>43.5</td>\n",
       "      <td>7.194810</td>\n",
       "      <td>0.201747</td>\n",
       "    </tr>\n",
       "    <tr>\n",
       "      <th>3</th>\n",
       "      <td>46.5</td>\n",
       "      <td>7.497982</td>\n",
       "      <td>0.170096</td>\n",
       "    </tr>\n",
       "    <tr>\n",
       "      <th>4</th>\n",
       "      <td>49.5</td>\n",
       "      <td>5.519482</td>\n",
       "      <td>0.012767</td>\n",
       "    </tr>\n",
       "    <tr>\n",
       "      <th>5</th>\n",
       "      <td>52.5</td>\n",
       "      <td>5.582289</td>\n",
       "      <td>0.071206</td>\n",
       "    </tr>\n",
       "    <tr>\n",
       "      <th>6</th>\n",
       "      <td>55.5</td>\n",
       "      <td>4.565261</td>\n",
       "      <td>0.060349</td>\n",
       "    </tr>\n",
       "    <tr>\n",
       "      <th>7</th>\n",
       "      <td>58.5</td>\n",
       "      <td>4.433819</td>\n",
       "      <td>0.056613</td>\n",
       "    </tr>\n",
       "    <tr>\n",
       "      <th>8</th>\n",
       "      <td>61.5</td>\n",
       "      <td>3.801423</td>\n",
       "      <td>0.029397</td>\n",
       "    </tr>\n",
       "    <tr>\n",
       "      <th>9</th>\n",
       "      <td>64.5</td>\n",
       "      <td>3.871571</td>\n",
       "      <td>0.048265</td>\n",
       "    </tr>\n",
       "    <tr>\n",
       "      <th>10</th>\n",
       "      <td>67.5</td>\n",
       "      <td>3.047684</td>\n",
       "      <td>0.040189</td>\n",
       "    </tr>\n",
       "    <tr>\n",
       "      <th>11</th>\n",
       "      <td>70.5</td>\n",
       "      <td>3.272397</td>\n",
       "      <td>0.083110</td>\n",
       "    </tr>\n",
       "    <tr>\n",
       "      <th>12</th>\n",
       "      <td>73.5</td>\n",
       "      <td>3.127700</td>\n",
       "      <td>0.087460</td>\n",
       "    </tr>\n",
       "    <tr>\n",
       "      <th>13</th>\n",
       "      <td>76.5</td>\n",
       "      <td>2.614446</td>\n",
       "      <td>0.031504</td>\n",
       "    </tr>\n",
       "    <tr>\n",
       "      <th>14</th>\n",
       "      <td>79.5</td>\n",
       "      <td>2.609333</td>\n",
       "      <td>0.076502</td>\n",
       "    </tr>\n",
       "    <tr>\n",
       "      <th>15</th>\n",
       "      <td>82.5</td>\n",
       "      <td>2.487518</td>\n",
       "      <td>0.029499</td>\n",
       "    </tr>\n",
       "    <tr>\n",
       "      <th>16</th>\n",
       "      <td>97.5</td>\n",
       "      <td>1.896537</td>\n",
       "      <td>0.036432</td>\n",
       "    </tr>\n",
       "    <tr>\n",
       "      <th>17</th>\n",
       "      <td>112.5</td>\n",
       "      <td>1.399638</td>\n",
       "      <td>0.128751</td>\n",
       "    </tr>\n",
       "    <tr>\n",
       "      <th>18</th>\n",
       "      <td>127.5</td>\n",
       "      <td>1.228292</td>\n",
       "      <td>0.070571</td>\n",
       "    </tr>\n",
       "    <tr>\n",
       "      <th>19</th>\n",
       "      <td>142.5</td>\n",
       "      <td>1.087773</td>\n",
       "      <td>0.048230</td>\n",
       "    </tr>\n",
       "    <tr>\n",
       "      <th>20</th>\n",
       "      <td>157.5</td>\n",
       "      <td>0.833434</td>\n",
       "      <td>0.047467</td>\n",
       "    </tr>\n",
       "    <tr>\n",
       "      <th>21</th>\n",
       "      <td>187.5</td>\n",
       "      <td>0.631572</td>\n",
       "      <td>0.032606</td>\n",
       "    </tr>\n",
       "    <tr>\n",
       "      <th>22</th>\n",
       "      <td>217.5</td>\n",
       "      <td>0.550192</td>\n",
       "      <td>0.021885</td>\n",
       "    </tr>\n",
       "    <tr>\n",
       "      <th>23</th>\n",
       "      <td>247.5</td>\n",
       "      <td>0.501353</td>\n",
       "      <td>0.037808</td>\n",
       "    </tr>\n",
       "    <tr>\n",
       "      <th>24</th>\n",
       "      <td>277.5</td>\n",
       "      <td>0.459958</td>\n",
       "      <td>0.053151</td>\n",
       "    </tr>\n",
       "    <tr>\n",
       "      <th>25</th>\n",
       "      <td>307.5</td>\n",
       "      <td>0.348982</td>\n",
       "      <td>0.065227</td>\n",
       "    </tr>\n",
       "    <tr>\n",
       "      <th>26</th>\n",
       "      <td>367.5</td>\n",
       "      <td>0.325653</td>\n",
       "      <td>0.036729</td>\n",
       "    </tr>\n",
       "    <tr>\n",
       "      <th>27</th>\n",
       "      <td>409.5</td>\n",
       "      <td>0.227220</td>\n",
       "      <td>0.058864</td>\n",
       "    </tr>\n",
       "  </tbody>\n",
       "</table>\n",
       "</div>"
      ],
      "text/plain": [
       "    h [nm]  f2 [Hz/V^2]  stdev f2 [Hz/V^2]\n",
       "0     37.5    12.548678           0.503368\n",
       "1     40.5     9.644799           0.253236\n",
       "2     43.5     7.194810           0.201747\n",
       "3     46.5     7.497982           0.170096\n",
       "4     49.5     5.519482           0.012767\n",
       "5     52.5     5.582289           0.071206\n",
       "6     55.5     4.565261           0.060349\n",
       "7     58.5     4.433819           0.056613\n",
       "8     61.5     3.801423           0.029397\n",
       "9     64.5     3.871571           0.048265\n",
       "10    67.5     3.047684           0.040189\n",
       "11    70.5     3.272397           0.083110\n",
       "12    73.5     3.127700           0.087460\n",
       "13    76.5     2.614446           0.031504\n",
       "14    79.5     2.609333           0.076502\n",
       "15    82.5     2.487518           0.029499\n",
       "16    97.5     1.896537           0.036432\n",
       "17   112.5     1.399638           0.128751\n",
       "18   127.5     1.228292           0.070571\n",
       "19   142.5     1.087773           0.048230\n",
       "20   157.5     0.833434           0.047467\n",
       "21   187.5     0.631572           0.032606\n",
       "22   217.5     0.550192           0.021885\n",
       "23   247.5     0.501353           0.037808\n",
       "24   277.5     0.459958           0.053151\n",
       "25   307.5     0.348982           0.065227\n",
       "26   367.5     0.325653           0.036729\n",
       "27   409.5     0.227220           0.058864"
      ]
     },
     "execution_count": 5,
     "metadata": {},
     "output_type": "execute_result"
    }
   ],
   "source": [
    "rename_dict = \\\n",
    "    {'Distance from Surface [nm]': 'h [nm]',\n",
    "     'Curvature [Hz/V^2]': 'f2 [Hz/V^2]',\n",
    "     'Curvature std [Hz/V^2]': 'stdev f2 [Hz/V^2]'}\n",
    "\n",
    "data.rename(columns=rename_dict, inplace=True)\n",
    "data"
   ]
  },
  {
   "cell_type": "code",
   "execution_count": 6,
   "id": "de0973e0",
   "metadata": {},
   "outputs": [],
   "source": [
    "def plotdata(data):\n",
    "    \n",
    "    fig = plt.figure(figsize=(3.50, 3.00))\n",
    "    \n",
    "    plt.errorbar(\n",
    "        data['h [nm]'], \n",
    "        data['f2 [Hz/V^2]'],\n",
    "        yerr=data['stdev f2 [Hz/V^2]'],\n",
    "        fmt='.')\n",
    "\n",
    "    plt.xlabel('tip-sample separation $h$ [nm]')\n",
    "    plt.ylabel('$f_2$ [Hz/V$^2$]' )\n",
    "    plt.xscale('log')\n",
    "    plt.yscale('log')\n",
    "    \n",
    "    plt.tight_layout()\n",
    "\n",
    "    return fig"
   ]
  },
  {
   "cell_type": "code",
   "execution_count": 7,
   "id": "eafccaaa",
   "metadata": {},
   "outputs": [
    {
     "data": {
      "image/png": "[encoded data removed]",
      "text/plain": [
       "<Figure size 350x300 with 1 Axes>"
      ]
     },
     "metadata": {},
     "output_type": "display_data"
    }
   ],
   "source": [
    "_ = plotdata(data)"
   ]
  },
  {
   "cell_type": "markdown",
   "id": "bb940138",
   "metadata": {},
   "source": [
    "# Compare measured $f_2$ to Loring's two spherical-tip models"
   ]
  },
  {
   "cell_type": "code",
   "execution_count": 8,
   "id": "ffe27699",
   "metadata": {},
   "outputs": [],
   "source": [
    "from dissipationtheory.constants import ureg, epsilon0"
   ]
  },
  {
   "cell_type": "markdown",
   "id": "ccb99d3a",
   "metadata": {},
   "source": [
    "Specify the cantilever parameters used in the fits below."
   ]
  },
  {
   "cell_type": "code",
   "execution_count": 9,
   "id": "9baebc92",
   "metadata": {},
   "outputs": [],
   "source": [
    "cantilever = {\n",
    "    'f_0': ureg.Quantity(62, 'kHz'), # frequency [measured]\n",
    "    'k_0': ureg.Quantity(2.8,'N/m')  # spring constant [mfgr spec]\n",
    "}"
   ]
  },
  {
   "cell_type": "markdown",
   "id": "7a54f626",
   "metadata": {},
   "source": [
    "A function that compute's Loring's formulas for the BLDS frequency shift over a metal."
   ]
  },
  {
   "cell_type": "code",
   "execution_count": 10,
   "id": "08924528",
   "metadata": {},
   "outputs": [],
   "source": [
    "def calcf2_Loring(data, R=35, cantilever=cantilever):\n",
    "\n",
    "    r = ureg.Quantity(R, 'nm')\n",
    "    h = ureg.Quantity(data['h [nm]'].values, 'nm')\n",
    "\n",
    "    f_c = cantilever['f_0']\n",
    "    k_c = cantilever['k_0']\n",
    "    \n",
    "    prefactor = -(f_c)/(4 * k_c)\n",
    "    \n",
    "    # Loring approximations\n",
    "    f2calc1 = np.abs(prefactor * 4 * np.pi * epsilon0 * r**2 /(h + r/2)**3).to('Hz/V^2').magnitude\n",
    "    f2calc2 = np.abs(prefactor * 4 * np.pi * epsilon0 * r**2 /(h + r)**3).to('Hz/V^2').magnitude        \n",
    "        \n",
    "    return R, f2calc1, f2calc2"
   ]
  },
  {
   "cell_type": "code",
   "execution_count": 11,
   "id": "7250f699",
   "metadata": {},
   "outputs": [],
   "source": [
    "def plotcalcf2(data, f2calc1, f2calc2, R1, R2, message=''):\n",
    "    \n",
    "    fig, ax = plt.subplots(figsize=(3.50, 3.25))\n",
    "    \n",
    "    ax.errorbar(\n",
    "        data['h [nm]'], \n",
    "        data['f2 [Hz/V^2]'],\n",
    "        yerr=data['stdev f2 [Hz/V^2]'],\n",
    "        fmt='.')\n",
    "    \n",
    "    ax.plot(data['h [nm]'], f2calc1, 'b-', label=r'r = {:0.1f} nm'.format(R1))\n",
    "    ax.plot(data['h [nm]'], f2calc2, 'b--', label=r'r = {:0.1f} nm'.format(R2))\n",
    "    ax.fill_between(data['h [nm]'], f2calc1, f2calc2, alpha=0.1)\n",
    "\n",
    "    plt.xlabel('tip-sample separation $h$ [nm]')\n",
    "    plt.ylabel('$f_2$ [Hz/V$^2$]' )\n",
    "    \n",
    "    plt.xscale('log')\n",
    "    plt.yscale('log')\n",
    "    \n",
    "    plt.legend(fontsize=9, frameon=False)\n",
    "    plt.title(r\"metal sample, $r_{\\mathrm{tip}}$ indicated\"\n",
    "              \"\\n\" + message, fontsize=10)    \n",
    "    \n",
    "    plt.tight_layout()\n",
    "\n",
    "    return fig"
   ]
  },
  {
   "cell_type": "markdown",
   "id": "1559066d",
   "metadata": {},
   "source": [
    "The manufacturer-specified radius for the tip is $r \\leq 30 \\: \\mathrm{nm}$.  Pick a lower-bound $r_{\\mathrm{lower}} = 20 \\: \\mathrm{nm}$ and an upper-bound $r_{\\mathrm{upper}} = 200 \\: \\mathrm{nm}$, ten times the lower bound. For this range of tip radii, Loring's linear-response treatment underestimates the frequency shift by a factor of 10 at small $h$ by a factor of 10 to 1000 at large $h$."
   ]
  },
  {
   "cell_type": "code",
   "execution_count": 12,
   "id": "cf25814e",
   "metadata": {},
   "outputs": [
    {
     "data": {
      "image/png": "[encoded data removed]",
      "text/plain": [
       "<Figure size 350x325 with 1 Axes>"
      ]
     },
     "metadata": {},
     "output_type": "display_data"
    }
   ],
   "source": [
    "R1a, f2calc1a, _ = calcf2_Loring(data, R=20)\n",
    "R1b, f2calc1b, _ = calcf2_Loring(data, R=200)\n",
    "\n",
    "figs['01a'] = plotcalcf2(\n",
    "    data, f2calc1a, f2calc1b, R1a, R1b,\n",
    "    message = r\"Loring 03/06/25 nonperturbative\")"
   ]
  },
  {
   "cell_type": "markdown",
   "id": "7e79551e",
   "metadata": {},
   "source": [
    "For the same range of tip radii, Loring's nonperturbative treatment does better. At the largest tip radius, the calculated frequency curvature approaches the measured frequency curvature at mid-range $h$.  However, $200 \\: \\mathrm{nm}$ seems like an unphysically large tip radius."
   ]
  },
  {
   "cell_type": "code",
   "execution_count": 13,
   "id": "19382ec9",
   "metadata": {},
   "outputs": [
    {
     "data": {
      "image/png": "[encoded data removed]",
      "text/plain": [
       "<Figure size 350x325 with 1 Axes>"
      ]
     },
     "metadata": {},
     "output_type": "display_data"
    }
   ],
   "source": [
    "R2a, _, f2calc2a = calcf2_Loring(data, R=20)\n",
    "R2b, _, f2calc2b = calcf2_Loring(data, R=200)\n",
    "\n",
    "figs['01b'] = plotcalcf2(\n",
    "    data, f2calc2a, f2calc2b, R2a, R2b,\n",
    "    message = r\"Loring 03/06/25 linear-response\")"
   ]
  },
  {
   "cell_type": "markdown",
   "id": "d6deb611",
   "metadata": {},
   "source": [
    "# Compare Loring's two $f_2$ approximations to exact result"
   ]
  },
  {
   "cell_type": "code",
   "execution_count": 14,
   "id": "7ad0ca46",
   "metadata": {},
   "outputs": [],
   "source": [
    "from dissipationtheory.capacitance import Csphere"
   ]
  },
  {
   "cell_type": "code",
   "execution_count": 15,
   "id": "aaa23dda",
   "metadata": {},
   "outputs": [],
   "source": [
    "def calcf2three(H, R=35, cantilever=cantilever):\n",
    "\n",
    "    h = ureg.Quantity(H, 'nm')\n",
    "    r = ureg.Quantity(R, 'nm')\n",
    "\n",
    "    f_c = cantilever['f_0']\n",
    "    k_c = cantilever['k_0']\n",
    "    \n",
    "    prefactor = -(f_c)/(4 * k_c)\n",
    "    \n",
    "    # exact result\n",
    "    f2calc0 = np.abs(prefactor * Csphere(2, h, r, nterm=21).to('F/m^2')).to('Hz/V^2').magnitude\n",
    "    \n",
    "    # Loring approximations\n",
    "    f2calc1 = np.abs(prefactor * 4 * np.pi * epsilon0 * r**2 /(h + r/2)**3).to('Hz/V^2').magnitude\n",
    "    f2calc2 = np.abs(prefactor * 4 * np.pi * epsilon0 * r**2 /(h + r)**3).to('Hz/V^2').magnitude\n",
    "    \n",
    "    return f2calc0, f2calc1, f2calc2"
   ]
  },
  {
   "cell_type": "markdown",
   "id": "588a84ce",
   "metadata": {},
   "source": [
    "Define a utility plotting function."
   ]
  },
  {
   "cell_type": "code",
   "execution_count": 55,
   "id": "d358c553",
   "metadata": {},
   "outputs": [],
   "source": [
    "def plotcalcf2three(H, R, cantilever=cantilever):\n",
    "\n",
    "    X = H/R\n",
    "    y = {}\n",
    "    y['0'], y['1'], y['2'] = calcf2three(H, R)\n",
    "    \n",
    "    label = {'0': 'exact', \n",
    "             '1': 'nonperturbative approx.', \n",
    "             '2': 'linear-response approx.'}\n",
    "    \n",
    "    fig = plt.figure(figsize=(3.5, 2.0))\n",
    "    \n",
    "    for key in y.keys():\n",
    "        \n",
    "        plt.plot(X, y[key], label=label[key])\n",
    "\n",
    "    plt.xlabel('tip-sample separation $h/r$')\n",
    "    plt.ylabel('$f_2$ [Hz/V$^2$]' )\n",
    "    \n",
    "    plt.xscale('linear')\n",
    "    plt.yscale('linear')\n",
    "    \n",
    "    plt.legend(fontsize=9, frameon=False)\n",
    "    \n",
    "    return fig"
   ]
  },
  {
   "cell_type": "markdown",
   "id": "9ecfb81b",
   "metadata": {},
   "source": [
    "Plot the calculated $f_2$ *vs*. normalized tip-sample separation $h/r$ for the exact results and Loring's two approximations.\n",
    "\n",
    "We see similar agreement between the exact result and the nonperturbative approximation as seen in the Figure 1 plot of Loring's memo \"BLDS frequency shift in a point-probe approximation\" of 03/06/2025."
   ]
  },
  {
   "cell_type": "code",
   "execution_count": 56,
   "id": "1962860d",
   "metadata": {},
   "outputs": [
    {
     "data": {
      "image/png": "[encoded data removed]",
      "text/plain": [
       "<Figure size 350x200 with 1 Axes>"
      ]
     },
     "metadata": {},
     "output_type": "display_data"
    }
   ],
   "source": [
    "H = 35 * np.linspace(1, 5, 100)\n",
    "figs['02'] = plotcalcf2three(H, R=35)"
   ]
  },
  {
   "cell_type": "markdown",
   "id": "21f1703e",
   "metadata": {},
   "source": [
    "# Compare measured $f_2$ to Hoepker's sphere-plus-cone model\n",
    "\n",
    "The sphere $C_2$ is computed by analytically differentiating Loring and Lekkala's exact infinite-series expression $C_{\\mathrm{sphere}}$ over a metal; see Lekkala *JCP* 2013 [@Lekkala2013nov], eqs. 52 and 52. The cone $C_2$ is computed using Cherniavskaya and Brus's approximation for $d^2 C_{\\mathrm{cone}}/ d z^2$; see Cherniavskaya *JPCB* 2003 [@Cherniavskaya2003feb], eqs. 17 and 19."
   ]
  },
  {
   "cell_type": "code",
   "execution_count": 18,
   "id": "be05f6ab",
   "metadata": {},
   "outputs": [],
   "source": [
    "from dissipationtheory.capacitance import Csphere\n",
    "from lmfit import Model, Parameters"
   ]
  },
  {
   "cell_type": "markdown",
   "id": "7003a2d6",
   "metadata": {},
   "source": [
    "Define a function which returns the sphere $C_2$ and cone $C_2$ for a tip of given radius and half angle at a given tip-sample separation."
   ]
  },
  {
   "cell_type": "code",
   "execution_count": 19,
   "id": "0346098c",
   "metadata": {},
   "outputs": [],
   "source": [
    "def C2SphereCone(height, radius, theta, nterm=21):  \n",
    "    \"\"\"Second derivative of the capacitance of a sphere plus a cone above a ground plane.\n",
    "\n",
    "    :param pint.util.Quantity height: sphere-to-plane separation\n",
    "    :param pint.util.Quantity radius: sphere radius\n",
    "    :param pint.util.Quantity theta: cone angle\n",
    "    :param int nterm: number of terms in the sphere expansion\n",
    "\n",
    "    The cone appproximation is eq. 2.52 in Nikolas Hoepker's Ph.D. thesis.\n",
    "    \"\"\"\n",
    "    \n",
    "    theta_rad = theta.to('radian').magnitude\n",
    "    beta = np.log((1 + np.cos(theta_rad))/(1 - np.cos(theta_rad)))\n",
    "    \n",
    "    C2sphere = Csphere(2, height, radius, nterm).to('F/m^2')\n",
    "    C2cone = (8*np.pi*epsilon0/(beta * beta * height)).to('F/m^2')\n",
    "\n",
    "    return C2sphere, C2cone "
   ]
  },
  {
   "cell_type": "markdown",
   "id": "45280062",
   "metadata": {},
   "source": [
    "Given height, tip radius, and tip cone angle, compute the frequency second derivative $f_2$ [Hz/V$^2$]."
   ]
  },
  {
   "cell_type": "code",
   "execution_count": 20,
   "id": "0dac6778",
   "metadata": {},
   "outputs": [],
   "source": [
    "def calcf2(height, radius, theta, fit=True):\n",
    "    \"\"\"Second derivative of the cantilever frequency $f_2$ with respect to voltage.\n",
    "    \n",
    "    :param pint.util.Quantity array height: sphere-to-plane separation\n",
    "    :param pint.util.Quantity radius: sphere radius\n",
    "    :param pint.util.Quantity theta: cone angle\n",
    "    :param Boolean fit: if True, return $f_2$; if False, return a triple of numbers, the \n",
    "     sphere contribution, the cone contribution, and the sum of the two contributions\n",
    "    \"\"\"\n",
    "\n",
    "    prefactor = cantilever['f_0']/(4 * cantilever['k_0']) \n",
    "\n",
    "    C2sphere, C2cone = C2SphereCone(\n",
    "         height = ureg.Quantity(height, 'nm'),\n",
    "         radius = ureg.Quantity(radius, 'nm'),\n",
    "         theta = ureg.Quantity(theta, 'degrees'))\n",
    "        \n",
    "    f2sphere = (prefactor * C2sphere).to('Hz/V^2').magnitude\n",
    "    f2cone = (prefactor * C2cone).to('Hz/V^2').magnitude\n",
    "    \n",
    "    C2 = C2cone + C2sphere\n",
    "    f2 = (prefactor * C2).to('Hz/V^2').magnitude\n",
    "    \n",
    "    \n",
    "    if fit:\n",
    "        return f2 \n",
    "    else:\n",
    "        return f2sphere, f2cone, f2\n",
    "               "
   ]
  },
  {
   "cell_type": "markdown",
   "id": "ce3d4555",
   "metadata": {},
   "source": [
    "A function to plot the total frequency derivative and the separate sphere and cone contributions."
   ]
  },
  {
   "cell_type": "code",
   "execution_count": 21,
   "id": "e5de1be5",
   "metadata": {},
   "outputs": [],
   "source": [
    "def plotfitf2parts(data, f2calc, message=''):\n",
    "\n",
    "    fig = plt.figure(figsize=(3.50, 3.00))\n",
    "    \n",
    "    plt.errorbar(\n",
    "        data['h [nm]'], \n",
    "        data['f2 [Hz/V^2]'],\n",
    "        yerr=data['stdev f2 [Hz/V^2]'],\n",
    "        fmt='.')\n",
    "    \n",
    "    plt.plot(data['h [nm]'], f2calc[0], 'k--', label='sphere')\n",
    "    plt.plot(data['h [nm]'], f2calc[1], 'k-.', label='cone')\n",
    "    plt.plot(data['h [nm]'], f2calc[2], 'k-', label='total')\n",
    "\n",
    "    plt.xlabel('tip-sample separation $h$ [nm]')\n",
    "    plt.ylabel('$f_2$ [Hz/V$^2$]' )\n",
    "    \n",
    "    plt.legend(fontsize=10, frameon=False)\n",
    "    plt.xscale('log')\n",
    "    plt.yscale('log')\n",
    "    \n",
    "    plt.title(r\"metal sample, \" + message, fontsize=10)    \n",
    "    \n",
    "    plt.tight_layout()\n",
    "\n",
    "    return fig"
   ]
  },
  {
   "cell_type": "markdown",
   "id": "ea89d404",
   "metadata": {},
   "source": [
    "Guess a tip radius and cone half angle of $r = 45 \\: \\mathrm{nm}$ and $\\theta = 20 \\: \\mathrm{deg}$. Compute $f_2$ at the experimentally measured heights."
   ]
  },
  {
   "cell_type": "code",
   "execution_count": 22,
   "id": "291ac3b4",
   "metadata": {},
   "outputs": [],
   "source": [
    "calcf2guess = calcf2(\n",
    "    height=data['h [nm]'].values,\n",
    "    radius=45,\n",
    "    theta=20,\n",
    "    fit=False)"
   ]
  },
  {
   "cell_type": "markdown",
   "id": "9362fbeb",
   "metadata": {},
   "source": [
    "Our guesses for the tip radius $r$ and cone half angle $\\theta$ do a very good job predicting the frequency curvature $f_2$ over a nearly two decade range of tip-sample separation $h$. The sphere term dominates $f_2$ at small $h$ while the cone dominates at large $h$.  Even at the closest $h$, there is some cone contribution to $f_2$.  This trend is qualitatively similar to that seen in the $C_2$ *vs*. $h$ plot of Figure 4 in Hoepker *JCP* 2011 [@Hoepker2011dec]."
   ]
  },
  {
   "cell_type": "code",
   "execution_count": 23,
   "id": "b2f77d30",
   "metadata": {},
   "outputs": [
    {
     "data": {
      "image/png": "[encoded data removed]",
      "text/plain": [
       "<Figure size 350x300 with 1 Axes>"
      ]
     },
     "metadata": {},
     "output_type": "display_data"
    }
   ],
   "source": [
    "figs['03'] = plotfitf2parts(data, calcf2guess, 'initial guess')"
   ]
  },
  {
   "cell_type": "markdown",
   "id": "ff3cd3a0",
   "metadata": {},
   "source": [
    "# Compare measured $f_2$ to numerical model"
   ]
  },
  {
   "cell_type": "markdown",
   "id": "98edf4f4",
   "metadata": {},
   "source": [
    "## Compare Hoepker's and Marohn's $C_2$ at one height\n",
    "\n",
    "Compare Marohn's numerical computation of the sphere plus cone capacitance second derivative $C_2$, computed using Xu's method, to Hoepker's analytical approximation of $C_2$."
   ]
  },
  {
   "cell_type": "markdown",
   "id": "5c286a9f",
   "metadata": {},
   "source": [
    "Pick a height relatively close to the sample where the sphere and cone contributions to $C_2$ are both significant.  Pick the height by trial and error.  I find that setting the height equal to the radius is a good choice.\n",
    "\n",
    "Using the Hoepker approximation, compute $C_2$ for the sphere and the cone contributions, and compute a total $C_2$."
   ]
  },
  {
   "cell_type": "code",
   "execution_count": 24,
   "id": "964b9bab",
   "metadata": {},
   "outputs": [
    {
     "data": {
      "text/plain": [
       "(<Quantity([0.00088153], 'farad / meter ** 2')>,\n",
       " <Quantity([0.0004105], 'farad / meter ** 2')>,\n",
       " <Quantity([0.00129203], 'farad / meter ** 2')>)"
      ]
     },
     "execution_count": 24,
     "metadata": {},
     "output_type": "execute_result"
    }
   ],
   "source": [
    "params = {'height': ureg.Quantity(np.array([45.0]), 'nm'),\n",
    "          'radius': ureg.Quantity(45.0, 'nm'),\n",
    "          'theta': ureg.Quantity(20, 'degree')}\n",
    "\n",
    "C2sphere, C2cone = C2SphereCone(**params)\n",
    "\n",
    "(C2sphere, C2cone, C2sphere + C2cone)"
   ]
  },
  {
   "cell_type": "markdown",
   "id": "8fe1ec8c",
   "metadata": {},
   "source": [
    "Calculate the total capacitance in units of mF/m$^2$.  In these units the capacitance is of order 1."
   ]
  },
  {
   "cell_type": "code",
   "execution_count": 25,
   "id": "77fd3a38",
   "metadata": {},
   "outputs": [
    {
     "data": {
      "text/plain": [
       "1.2920253187202846"
      ]
     },
     "execution_count": 25,
     "metadata": {},
     "output_type": "execute_result"
    }
   ],
   "source": [
    "C2_Hoepker = (C2sphere + C2cone)[0].to('mF/m^2').magnitude\n",
    "C2_Hoepker"
   ]
  },
  {
   "cell_type": "markdown",
   "id": "bc53d9e4",
   "metadata": {},
   "source": [
    "Now compute $C_2$ using Marohn's numerical computation.  Here we have to pick a cone height.  To start, pick $4.5 \\: \\mu\\mathrm{m}$, which is 100 times the tip-sample separation and radius."
   ]
  },
  {
   "cell_type": "code",
   "execution_count": 26,
   "id": "2b8c4abf",
   "metadata": {},
   "outputs": [],
   "source": [
    "from dissipationtheory.capacitancefinite import twodimCobject"
   ]
  },
  {
   "cell_type": "code",
   "execution_count": 27,
   "id": "566767f3",
   "metadata": {},
   "outputs": [],
   "source": [
    "obj = twodimCobject()"
   ]
  },
  {
   "cell_type": "code",
   "execution_count": 28,
   "id": "b1a2a3e6",
   "metadata": {},
   "outputs": [],
   "source": [
    "params = {'r': ureg.Quantity(45.0, 'nm'),\n",
    "          'h': ureg.Quantity(45.0, 'nm'),\n",
    "          'L': ureg.Quantity(4500.0, 'nm'), \n",
    "          'theta': 20}"
   ]
  },
  {
   "cell_type": "code",
   "execution_count": 29,
   "id": "7fef9ef8",
   "metadata": {},
   "outputs": [],
   "source": [
    "obj.addtip(**params)\n",
    "obj.response_metal()\n",
    "obj.solve()"
   ]
  },
  {
   "cell_type": "markdown",
   "id": "f3efa854",
   "metadata": {},
   "source": [
    "Express the total capacitance in units of mF/m$^2$.  "
   ]
  },
  {
   "cell_type": "code",
   "execution_count": 30,
   "id": "24d14ef9",
   "metadata": {},
   "outputs": [
    {
     "data": {
      "text/plain": [
       "1.2973085764153711"
      ]
     },
     "execution_count": 30,
     "metadata": {},
     "output_type": "execute_result"
    }
   ],
   "source": [
    "C2_Marohn = obj.results['C2'].to('mF/m^2').magnitude\n",
    "C2_Marohn"
   ]
  },
  {
   "cell_type": "markdown",
   "id": "1952f7c0",
   "metadata": {},
   "source": [
    "Taking Hoepker as the ground truth, the percentage difference between Hoepker's and Marohn's result is"
   ]
  },
  {
   "cell_type": "code",
   "execution_count": 31,
   "id": "cbcf0ede",
   "metadata": {},
   "outputs": [
    {
     "data": {
      "text/plain": [
       "-0.40891286095844087"
      ]
     },
     "execution_count": 31,
     "metadata": {},
     "output_type": "execute_result"
    }
   ],
   "source": [
    "100 * (C2_Hoepker - C2_Marohn)/C2_Hoepker"
   ]
  },
  {
   "cell_type": "markdown",
   "id": "7fab56f8",
   "metadata": {},
   "source": [
    "So the two results agree to within 0.4%.  Pretty good!"
   ]
  },
  {
   "cell_type": "markdown",
   "id": "9e910952",
   "metadata": {},
   "source": [
    "## Compare Hoepker's and Marohn's $C_2$ over many heights"
   ]
  },
  {
   "cell_type": "markdown",
   "id": "cce59045",
   "metadata": {},
   "source": [
    "Hoepker computation:"
   ]
  },
  {
   "cell_type": "code",
   "execution_count": 32,
   "id": "6b509e1f",
   "metadata": {},
   "outputs": [
    {
     "name": "stdout",
     "output_type": "stream",
     "text": [
      "CPU times: user 18 ms, sys: 2.3 ms, total: 20.3 ms\n",
      "Wall time: 23.9 ms\n"
     ]
    }
   ],
   "source": [
    "%%time\n",
    "params = {'height': ureg.Quantity(data['h [nm]'].values, 'nm'),\n",
    "          'radius': ureg.Quantity(45.0, 'nm'),\n",
    "          'theta': ureg.Quantity(20, 'degree')}\n",
    "\n",
    "C2sphere, C2cone = C2SphereCone(**params)\n",
    "C2_Hoepker = (C2sphere + C2cone).to('mF/m^2').magnitude"
   ]
  },
  {
   "cell_type": "code",
   "execution_count": 33,
   "id": "2567db03",
   "metadata": {},
   "outputs": [
    {
     "data": {
      "text/plain": [
       "array([1.83117567, 1.57938163, 1.37795245, 1.21428833, 1.07949312,\n",
       "       0.96714147, 0.87249935, 0.79201702, 0.72299075, 0.66333215,\n",
       "       0.61140758, 0.56592439, 0.52584909, 0.49034741, 0.45874   ,\n",
       "       0.43046921, 0.32542952, 0.25862755, 0.21320341, 0.18069363,\n",
       "       0.15646853, 0.12307487, 0.1013337 , 0.0861357 , 0.07494058,\n",
       "       0.06635875, 0.05406938, 0.04790758])"
      ]
     },
     "execution_count": 33,
     "metadata": {},
     "output_type": "execute_result"
    }
   ],
   "source": [
    "C2_Hoepker"
   ]
  },
  {
   "cell_type": "markdown",
   "id": "b70d0885",
   "metadata": {},
   "source": [
    "Marohn computation:"
   ]
  },
  {
   "cell_type": "code",
   "execution_count": 34,
   "id": "09d5fd20",
   "metadata": {},
   "outputs": [
    {
     "name": "stdout",
     "output_type": "stream",
     "text": [
      "CPU times: user 248 ms, sys: 12.6 ms, total: 261 ms\n",
      "Wall time: 702 ms\n"
     ]
    }
   ],
   "source": [
    "%%time\n",
    "C2_Marohn = np.zeros_like(data['h [nm]'].values)\n",
    "for index, h in enumerate(ureg.Quantity(data['h [nm]'].values, 'nm')):\n",
    "\n",
    "    obj = twodimCobject()\n",
    "    params = {'r': ureg.Quantity(45.0, 'nm'),\n",
    "              'h': h,\n",
    "              'L': ureg.Quantity(4500.0, 'nm'), \n",
    "              'theta': 20}\n",
    "\n",
    "    obj.addtip(**params)\n",
    "    obj.response_metal()\n",
    "    obj.solve()\n",
    "\n",
    "    C2_Marohn[index] = obj.results['C2'].to('mF/m^2').magnitude"
   ]
  },
  {
   "cell_type": "code",
   "execution_count": 35,
   "id": "09c1f503",
   "metadata": {},
   "outputs": [
    {
     "data": {
      "text/plain": [
       "array([1.8095661 , 1.57075948, 1.37921435, 1.22384433, 1.09479796,\n",
       "       0.98679664, 0.89613482, 0.81807121, 0.75078413, 0.69232481,\n",
       "       0.64186096, 0.59681941, 0.55691022, 0.5220031 , 0.4901791 ,\n",
       "       0.46155068, 0.35468715, 0.28463504, 0.2359309 , 0.20039472,\n",
       "       0.17347842, 0.135686  , 0.11063734, 0.0929466 , 0.07985458,\n",
       "       0.06981382, 0.05522227, 0.04793065])"
      ]
     },
     "execution_count": 35,
     "metadata": {},
     "output_type": "execute_result"
    }
   ],
   "source": [
    "C2_Marohn"
   ]
  },
  {
   "cell_type": "markdown",
   "id": "760e21b8",
   "metadata": {},
   "source": [
    "Helpful plotting function:"
   ]
  },
  {
   "cell_type": "code",
   "execution_count": 36,
   "id": "589fe34f",
   "metadata": {},
   "outputs": [],
   "source": [
    "def plotcomparetwo(x, opts0, y1, opts1, label1, y2, opts2, label2, xaxislabel, yaxislabel):\n",
    "    \"\"\"Compare two data sets having a common x-axis.  Display the two\n",
    "    data sets and plot their percentage difference, taking y1 as the\n",
    "    ground truth.\"\"\"\n",
    "    \n",
    "    fig, (ax1, ax2) = plt.subplots(2, 1,\n",
    "        figsize=(3.5, 3.5),\n",
    "        sharex=True, \n",
    "        gridspec_kw={'height_ratios': [1, 3]}) \n",
    "        \n",
    "    ax1.scatter(x, 100*(y2-y1)/y1, **opts0)\n",
    "    ax2.plot(x, y1, **opts1, label=label1)\n",
    "    ax2.plot(x, y2, **opts2, label=label2)\n",
    "    \n",
    "    ax1.set_ylabel('% diff.')\n",
    "    ax2.set_ylabel(yaxislabel)\n",
    "    ax2.set_xlabel(xaxislabel)\n",
    "    \n",
    "    plt.legend(fontsize=9, frameon=False)\n",
    "               \n",
    "    plt.xscale('log')\n",
    "    plt.yscale('log')\n",
    "    \n",
    "    fig.align_ylabels()\n",
    "    fig.tight_layout()\n",
    "\n",
    "    return fig"
   ]
  },
  {
   "cell_type": "markdown",
   "id": "8a288dec",
   "metadata": {},
   "source": [
    "Compare Hoepker's and Marohn's $C_2$.  They agree within a few percent at small tip-sample separation. The largest disagreement occurs near $h \\sim 200 \\: \\mathrm{nm}$, where Marohn's $C_2$ is approximately 10% larger than Hoepker's.  "
   ]
  },
  {
   "cell_type": "code",
   "execution_count": 37,
   "id": "d937909a",
   "metadata": {},
   "outputs": [
    {
     "data": {
      "image/png": "[encoded data removed]",
      "text/plain": [
       "<Figure size 350x350 with 2 Axes>"
      ]
     },
     "metadata": {},
     "output_type": "display_data"
    }
   ],
   "source": [
    "opts0 = {'marker': 'o', 'facecolors': 'none', 'edgecolors': 'black', 's': 10}\n",
    "opts1 = {'linestyle': '--'}\n",
    "opts2 = {'linestyle': '-.'}\n",
    "\n",
    "figs['04'] = plotcomparetwo(\n",
    "    data['h [nm]'].values, opts0,\n",
    "    C2_Hoepker, opts1, 'Hoepker approx.',\n",
    "    C2_Marohn, opts2, 'Marohn $L = 4.5 \\: \\mu\\mathrm{m}$',\n",
    "    'tip-sample separation $h$ [nm]',\n",
    "    '$C_2$ [mF/m$^2$]')"
   ]
  },
  {
   "cell_type": "markdown",
   "id": "2a9e609f",
   "metadata": {},
   "source": [
    "We consider the 10% agreement to be pretty good.  \n",
    "\n",
    "Hoepker's $C_2$ is an approximation valid at small $h$; since higher terms in the expansion are not reported, it is difficult to assess the range of validity of his approximate $C_2$.  Ideally there should be a correction term that accounts for finite cone length.  By retaining only the first term in an expansion, Hoepker's formula implictly assumes $L \\rightarrow \\infty$ for the length of the cone. \n",
    "\n",
    "Marohn's $C_2$ calculation represents the sphere and cone as a collection of image charges located along the $z$ axis, and assumes finite $L$.  Benchmark computations of $C_2$ for a sphere over a ground plane, using 21 image charges placed inside the sphere, showed numerical results agreeing with the analytical $C_2$, computed using 21 terms, to within better than a part per million down to $h/r = 0.5$.  So Marohn's method is in principle very accurate.  However, Marohn's $C_2$ computation assumes a finite $L$, and for this reason is not expected to reproduce Hoepker's result at large $h$.  "
   ]
  },
  {
   "cell_type": "markdown",
   "id": "361b7e26",
   "metadata": {},
   "source": [
    "## Compare measured $f_2$ to Marohn's numerical model"
   ]
  },
  {
   "cell_type": "markdown",
   "id": "67f726e2",
   "metadata": {},
   "source": [
    "Recompute the capacitance second derivative, now with units."
   ]
  },
  {
   "cell_type": "code",
   "execution_count": 38,
   "id": "b64cb053",
   "metadata": {},
   "outputs": [],
   "source": [
    "params = {'r': ureg.Quantity(45.0, 'nm'),\n",
    "          'h': ureg.Quantity(45.0, 'nm'),\n",
    "          'L': ureg.Quantity(4500.0, 'nm'), \n",
    "          'theta': 20}\n",
    "\n",
    "C2_Marohn =ureg.Quantity(np.zeros_like(data['h [nm]'].values), 'mF/m^2')\n",
    "for index, h in enumerate(ureg.Quantity(data['h [nm]'].values, 'nm')):\n",
    "\n",
    "    obj = twodimCobject()\n",
    "    params['h'] = h\n",
    "    obj.addtip(**params)\n",
    "    obj.response_metal()\n",
    "    obj.solve()\n",
    "\n",
    "    C2_Marohn[index] = obj.results['C2'].to('mF/m^2')"
   ]
  },
  {
   "cell_type": "markdown",
   "id": "df7dab8d",
   "metadata": {},
   "source": [
    "Compute the frequency coefficient $f_2$ from $C_2$ using\n",
    "\n",
    "\\begin{equation}\n",
    "  f_2 = -\\frac{f_\\mathrm{c}}{4 k_\\mathrm{c}} C_2\n",
    "\\end{equation}"
   ]
  },
  {
   "cell_type": "markdown",
   "id": "467683ea",
   "metadata": {},
   "source": [
    "Make the frequency shift positive to agree with experiment."
   ]
  },
  {
   "cell_type": "code",
   "execution_count": 39,
   "id": "af660228",
   "metadata": {},
   "outputs": [],
   "source": [
    "fc = cantilever['f_0']\n",
    "kc = cantilever['k_0']\n",
    "\n",
    "f2_Marohn = ((fc * C2_Marohn)/(4 * kc)).to('Hz/(V^2)').magnitude"
   ]
  },
  {
   "cell_type": "code",
   "execution_count": 40,
   "id": "7c0e21a6",
   "metadata": {},
   "outputs": [
    {
     "data": {
      "image/png": "[encoded data removed]",
      "text/plain": [
       "<Figure size 350x350 with 2 Axes>"
      ]
     },
     "metadata": {},
     "output_type": "display_data"
    }
   ],
   "source": [
    "opts0 = {'marker': 'o', 'facecolors': 'none', 'edgecolors': 'black', 's': 10}\n",
    "opts1 = {'linestyle': '', 'marker': '.'}\n",
    "opts2 = {'linestyle': '-'}\n",
    "\n",
    "figs['05'] = plotcomparetwo(\n",
    "    data['h [nm]'].values, opts0,\n",
    "    data['f2 [Hz/V^2]'].values, opts1, 'experiment',\n",
    "    f2_Marohn, opts2, 'numerical calc.',\n",
    "    'tip-sample separation $h$ [nm]',\n",
    "    '$f_2$ [Hz/V$^2$]')"
   ]
  },
  {
   "cell_type": "markdown",
   "id": "4115fa3c",
   "metadata": {},
   "source": [
    "Print out the parameters used in the numerical calculation."
   ]
  },
  {
   "cell_type": "code",
   "execution_count": 41,
   "id": "970f0508",
   "metadata": {},
   "outputs": [
    {
     "name": "stdout",
     "output_type": "stream",
     "text": [
      "     sphere radis = 45.0 nanometer \n",
      "    cone length = 4500.0 nanometer \n",
      "cone half angle = 20 degrees\n"
     ]
    }
   ],
   "source": [
    "print('     sphere radis =', params['r'], \n",
    "      '\\n    cone length =', params['L'],\n",
    "      '\\ncone half angle =', params['theta'], 'degrees')\n"
   ]
  },
  {
   "cell_type": "markdown",
   "id": "31424d1d",
   "metadata": {},
   "source": [
    "# Curve fit to numerical model"
   ]
  },
  {
   "cell_type": "code",
   "execution_count": 42,
   "id": "603999bd",
   "metadata": {},
   "outputs": [],
   "source": [
    "from lmfit import Model, Parameters"
   ]
  },
  {
   "cell_type": "markdown",
   "id": "5dcc59e9",
   "metadata": {},
   "source": [
    "Define a fit function.  Fix the cone length, let the radius and cone half angle be fit parameters."
   ]
  },
  {
   "cell_type": "code",
   "execution_count": 43,
   "id": "682ca0df",
   "metadata": {},
   "outputs": [],
   "source": [
    "def f2numerical(height, radius, theta):\n",
    "\n",
    "    params = {'r': ureg.Quantity(radius, 'nm'),\n",
    "              'h': ureg.Quantity(radius, 'nm'),  # placeholder\n",
    "              'L': ureg.Quantity(4500.0, 'nm'),  # hardwired\n",
    "              'theta': theta}\n",
    "\n",
    "    obj = twodimCobject()\n",
    "    \n",
    "    C2_Marohn =ureg.Quantity(np.zeros_like(height), 'mF/m^2')\n",
    "    for index, h in enumerate(ureg.Quantity(height, 'nm')):\n",
    "\n",
    "        params['h'] = h\n",
    "        obj.addtip(**params)\n",
    "        obj.response_metal()\n",
    "        obj.solve()\n",
    "\n",
    "        C2_Marohn[index] = obj.results['C2'].to('mF/m^2')\n",
    "    \n",
    "    f2_Marohn = ((cantilever['f_0'] * C2_Marohn)/\n",
    "                 (4 * cantilever['k_0'])).to('Hz/(V^2)').magnitude\n",
    "    \n",
    "    return f2_Marohn"
   ]
  },
  {
   "cell_type": "markdown",
   "id": "957bf8ef",
   "metadata": {},
   "source": [
    "Test drive the function."
   ]
  },
  {
   "cell_type": "code",
   "execution_count": 44,
   "id": "1a21a89f",
   "metadata": {},
   "outputs": [
    {
     "data": {
      "text/plain": [
       "array([6.72775773, 5.76284002, 5.00034824, 4.39090192, 3.88392835,\n",
       "       3.45864671, 3.10476495, 2.81042993, 2.55336956, 2.33156527,\n",
       "       2.13611072, 1.96754624, 1.82387625, 1.69256897, 1.57576169,\n",
       "       1.46960591, 1.08522006, 0.84270358, 0.67807404, 0.55927451,\n",
       "       0.47310342, 0.35549558, 0.27934288, 0.22769492, 0.18971844,\n",
       "       0.16307152, 0.11073448, 0.29750329])"
      ]
     },
     "execution_count": 44,
     "metadata": {},
     "output_type": "execute_result"
    }
   ],
   "source": [
    "x = data['h [nm]'].values\n",
    "y = data['f2 [Hz/V^2]'].values\n",
    "dy = data['stdev f2 [Hz/V^2]'].values\n",
    "\n",
    "f2numerical(x,35,5)"
   ]
  },
  {
   "cell_type": "markdown",
   "id": "fc71647c",
   "metadata": {},
   "source": [
    "Set up the fit model and initialize the best-fit parameters."
   ]
  },
  {
   "cell_type": "code",
   "execution_count": 45,
   "id": "270833ac",
   "metadata": {},
   "outputs": [],
   "source": [
    "gmodel = Model(f2numerical)"
   ]
  },
  {
   "cell_type": "code",
   "execution_count": 46,
   "id": "a17ca0e3",
   "metadata": {},
   "outputs": [],
   "source": [
    "pars = Parameters()\n",
    "pars.add('radius', value=35.0, min=30., max=100., vary=True)\n",
    "pars.add('theta', value=15.0, min=10., max=45., vary=True)"
   ]
  },
  {
   "cell_type": "markdown",
   "id": "3a03f713",
   "metadata": {},
   "source": [
    "Fit with weights. \n",
    "\n",
    "Multiply the standard deviation of the data points by a (fudge) factor of 4 so that $\\chi^2_\\mathrm{red} \\sim 1$.\n",
    "\n",
    "I have tried a number of fitting methods.  These fitting methods fail:\n",
    "\n",
    "- 'leastsq' (default)\n",
    "- 'least_squares'\n",
    "\n",
    "By \"fail\", I mean that the best-fit line does not go through the data and the fit returns best-fit values very near the starting values.  Also, the fit terminates in just a few seconds, suspiciously quickly.\n",
    "\n",
    "These fitting methods apparently succeed:\n",
    "\n",
    "- 'differential_evolution'\n",
    "- 'brute'\n",
    "- 'cg'\n",
    "\n",
    "\n",
    "By \"succeed\", I mean the fit looks good and returns best-fit values quite different from the staring values.  The fit can now take 10's of second to minutes to complete however.  And none of the above methods, applied to our problem, return error bars for the best-fit parameters!  See the documentation [here](https://lmfit.github.io/lmfit-py/fitting.html) for the `lmfit.minimize` function see for [here](https://docs.scipy.org/doc/scipy/reference/generated/scipy.optimize.minimize.html) for `scipy.optimize.minimize`.\n",
    "\n",
    "Some observations from running the curve fit with various settings.\n",
    "\n",
    "* It is important to fit with weights.  The cone angle is determined primarily by the data at large $h$.  You need to fit with weights so that the data at large $h$ contributes significantly to the $\\chi^2$. \n",
    "\n",
    "* The numerical calculation gives nonsense results for $r \\leq 35$ nm.\n",
    "\n",
    "* The fit does not converge unless you pick the right method."
   ]
  },
  {
   "cell_type": "code",
   "execution_count": 47,
   "id": "bf75480c",
   "metadata": {},
   "outputs": [
    {
     "name": "stdout",
     "output_type": "stream",
     "text": [
      "CPU times: user 1min 2s, sys: 5.18 s, total: 1min 7s\n",
      "Wall time: 1min 4s\n"
     ]
    }
   ],
   "source": [
    "%%time\n",
    "result = gmodel.fit(y, params=pars, height=x, weights=1/(4 * dy),\n",
    "    scale_covar=False,\n",
    "    method='brute')"
   ]
  },
  {
   "cell_type": "markdown",
   "id": "27bca815",
   "metadata": {},
   "source": [
    "Plot the best-fit $f_2$ and compare it to the measured $f_2$."
   ]
  },
  {
   "cell_type": "code",
   "execution_count": 48,
   "id": "d26575ba",
   "metadata": {},
   "outputs": [
    {
     "data": {
      "image/png": "[encoded data removed]",
      "text/plain": [
       "<Figure size 350x350 with 2 Axes>"
      ]
     },
     "metadata": {},
     "output_type": "display_data"
    }
   ],
   "source": [
    "ycalc = f2numerical(x, \n",
    "    result.params['radius'].value,\n",
    "    result.params['theta'].value)\n",
    "\n",
    "opts0 = {'marker': 'o', 'facecolors': 'none', 'edgecolors': 'black', 's': 10}\n",
    "opts1 = {'linestyle': '', 'marker': '.'}\n",
    "opts2 = {'linestyle': '-'}\n",
    "\n",
    "figs['06'] = plotcomparetwo(\n",
    "    x, opts0,\n",
    "    y, opts1, 'measured',\n",
    "    ycalc, opts2, 'fit to numerical calc.',\n",
    "    'tip-sample separation $h$ [nm]',\n",
    "    '$f_2$ [Hz/V$^2$]')"
   ]
  },
  {
   "cell_type": "markdown",
   "id": "216087ad",
   "metadata": {},
   "source": [
    "Print out fit results."
   ]
  },
  {
   "cell_type": "code",
   "execution_count": 49,
   "id": "cf2c8105",
   "metadata": {},
   "outputs": [
    {
     "data": {
      "text/html": [
       "<h2>Fit Result</h2> <p>Model: Model(f2numerical)</p> <table class=\"jp-toc-ignore\"><caption class=\"jp-toc-ignore\">Fit Statistics</caption><tr><td style='text-align:left'>fitting method</td><td style='text-align:right'>brute</td></tr><tr><td style='text-align:left'># function evals</td><td style='text-align:right'>400</td></tr><tr><td style='text-align:left'># data points</td><td style='text-align:right'>28</td></tr><tr><td style='text-align:left'># variables</td><td style='text-align:right'>2</td></tr><tr><td style='text-align:left'>chi-square</td><td style='text-align:right'> 23.6916487</td></tr><tr><td style='text-align:left'>reduced chi-square</td><td style='text-align:right'> 0.91121726</td></tr><tr><td style='text-align:left'>Akaike info crit.</td><td style='text-align:right'>-0.67829319</td></tr><tr><td style='text-align:left'>Bayesian info crit.</td><td style='text-align:right'> 1.98611583</td></tr><tr><td style='text-align:left'>R-squared</td><td style='text-align:right'> 0.93473859</td></tr></table><table class=\"jp-toc-ignore\"><caption>Parameters</caption><tr><th style='text-align:left'>name</th><th style='text-align:left'>value</th><th style='text-align:left'>initial value</th><th style='text-align:left'>min</th><th style='text-align:left'>max</th><th style='text-align:right'>vary</th></tr><tr><td style='text-align:left'>radius</td><td style='text-align:left'> 41.0526316</td><td style='text-align:left'>35.0</td><td style='text-align:left'> 30.0000000</td><td style='text-align:left'> 100.000000</td><td style='text-align:right'>True</td></tr><tr><td style='text-align:left'>theta</td><td style='text-align:left'> 19.2105263</td><td style='text-align:left'>15.0</td><td style='text-align:left'> 10.0000000</td><td style='text-align:left'> 45.0000000</td><td style='text-align:right'>True</td></tr></table>"
      ],
      "text/plain": [
       "<lmfit.model.ModelResult at 0x12ad0cf40>"
      ]
     },
     "execution_count": 49,
     "metadata": {},
     "output_type": "execute_result"
    }
   ],
   "source": [
    "result"
   ]
  },
  {
   "cell_type": "markdown",
   "id": "240f0af4",
   "metadata": {},
   "source": [
    "# Conclusions"
   ]
  },
  {
   "cell_type": "markdown",
   "id": "0bc32d37",
   "metadata": {},
   "source": [
    "Comparing measured $f_2$ *vs*. $h$ data over gold to the models discussed above, we conclude that \n",
    "\n",
    "1. modeling the tip as a sphere *does not* fit the data;\n",
    "2. modeling the tip as a sphere plus a cone *does* fit the data;\n",
    "3. Hoepker's analytical cone-plus-sphere model and Marohn's numerical cone-plus-sphere model yield a similar $C_2$; and\n",
    "4. we can obtain best-fit values for the tip radius and cone half angle using Marohn's numerical cone-plus-sphere model and least-squares minimization in 1 to 2 minutes.\n",
    "\n",
    "In summary, a cone-plus-sphere tip model is required to fit  $f_2$ *vs*. $h$ data over a metal; a sphere-only model is inadequate.  Being able to fit $f_2$ *vs*. $h$ to Marohn's numerical model of a sphere-plus-cone tip over a metal sample is a significant finding, because this model an be extended to a semiconductor sample."
   ]
  },
  {
   "cell_type": "markdown",
   "id": "b9d6cf4c",
   "metadata": {},
   "source": [
    "# References\n",
    "\n",
    "::: {#refs}\n",
    ":::"
   ]
  },
  {
   "cell_type": "raw",
   "id": "16047a81",
   "metadata": {},
   "source": [
    "::: {.content-hidden when-format=\"html\"}"
   ]
  },
  {
   "cell_type": "markdown",
   "id": "6046c2ba",
   "metadata": {},
   "source": [
    "# Save all figures"
   ]
  },
  {
   "cell_type": "code",
   "execution_count": 58,
   "id": "9f3865be",
   "metadata": {},
   "outputs": [],
   "source": [
    "if 1:\n",
    "    for num in figs.keys():\n",
    "        figname = THIS + \"Fig-\" + num\n",
    "        figs[num].tight_layout()\n",
    "        figs[num].savefig(figname + '.png', dpi=300)\n",
    "        figs[num].savefig(figname + '.pdf')"
   ]
  },
  {
   "cell_type": "raw",
   "id": "3cca9e68",
   "metadata": {},
   "source": [
    ":::"
   ]
  }
 ],
 "metadata": {
  "kernelspec": {
   "display_name": "dissipationtheory",
   "language": "python",
   "name": "dissipationtheory"
  },
  "language_info": {
   "codemirror_mode": {
    "name": "ipython",
    "version": 3
   },
   "file_extension": ".py",
   "mimetype": "text/x-python",
   "name": "python",
   "nbconvert_exporter": "python",
   "pygments_lexer": "ipython3",
   "version": "3.9.10"
  },
  "toc": {
   "base_numbering": 1,
   "nav_menu": {},
   "number_sections": true,
   "sideBar": true,
   "skip_h1_title": false,
   "title_cell": "Table of Contents",
   "title_sidebar": "Contents",
   "toc_cell": false,
   "toc_position": {
    "height": "calc(100% - 180px)",
    "left": "10px",
    "top": "150px",
    "width": "418.594px"
   },
   "toc_section_display": true,
   "toc_window_display": true
  }
 },
 "nbformat": 4,
 "nbformat_minor": 5
}
